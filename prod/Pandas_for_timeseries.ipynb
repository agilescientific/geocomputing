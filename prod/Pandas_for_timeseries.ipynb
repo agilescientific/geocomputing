{
 "cells": [
  {
   "cell_type": "markdown",
   "metadata": {
    "colab_type": "text",
    "id": "SotodcnM5XV7"
   },
   "source": [
    "# Pandas for time series\n",
    "\n",
    "Pandas is very useful for handling time series. \n",
    "\n",
    "First we'll need some data. I started at [Diskos](https://portal.diskos.cgg.com/whereoil-data/). It's a bit confusing as there are a lot of places to get data, but I've heard of FactPages so let's start there."
   ]
  },
  {
   "cell_type": "markdown",
   "metadata": {
    "colab_type": "text",
    "id": "GuHK_ikz5XV-"
   },
   "source": [
    "## FactPages... Use pandas to read CSV directly\n",
    "\n",
    "Right-click and copy URL for CSV from this link:\n",
    "\n",
    "http://factpages.npd.no/factpages/Default.aspx?culture=nb-no&nav1=field&nav2=TableView|Production|Saleable|Monthly\n",
    "\n",
    "This file is saved at `https://geocomp.s3.amazonaws.com/data/Norway_field_production_monthly.csv` as well, in case the link breaks."
   ]
  },
  {
   "cell_type": "code",
   "execution_count": 1,
   "metadata": {
    "colab": {},
    "colab_type": "code",
    "id": "E9jRc80g5XWB"
   },
   "outputs": [],
   "source": [
    "csv = \"https://factpages.npd.no/ReportServer_npdpublic?/FactPages/TableView/field_production_monthly&rs:Command=Render&rc:Toolbar=false&rc:Parameters=f&rs:Format=CSV&Top100=false&IpAddress=165.225.35.29&CultureCode=nb-no\""
   ]
  },
  {
   "cell_type": "code",
   "execution_count": 2,
   "metadata": {
    "colab": {},
    "colab_type": "code",
    "id": "TSrVvUKa5XWK"
   },
   "outputs": [],
   "source": [
    "import pandas as pd\n",
    "\n",
    "df = pd.read_csv(csv)"
   ]
  },
  {
   "cell_type": "code",
   "execution_count": 3,
   "metadata": {
    "colab": {
     "base_uri": "https://localhost:8080/",
     "height": 222
    },
    "colab_type": "code",
    "executionInfo": {
     "elapsed": 504,
     "status": "ok",
     "timestamp": 1560165249751,
     "user": {
      "displayName": "Matt Hall",
      "photoUrl": "https://lh5.googleusercontent.com/-wc2cQrA5f94/AAAAAAAAAAI/AAAAAAAAhtI/-p0Ej-pd3c8/s64/photo.jpg",
      "userId": "10999355236974656427"
     },
     "user_tz": -120
    },
    "id": "YCiGwIiD5XWR",
    "outputId": "4549f0e7-b247-40e0-eafb-f17a785c85a6"
   },
   "outputs": [
    {
     "data": {
      "text/html": [
       "<div>\n",
       "<style scoped>\n",
       "    .dataframe tbody tr th:only-of-type {\n",
       "        vertical-align: middle;\n",
       "    }\n",
       "\n",
       "    .dataframe tbody tr th {\n",
       "        vertical-align: top;\n",
       "    }\n",
       "\n",
       "    .dataframe thead th {\n",
       "        text-align: right;\n",
       "    }\n",
       "</style>\n",
       "<table border=\"1\" class=\"dataframe\">\n",
       "  <thead>\n",
       "    <tr style=\"text-align: right;\">\n",
       "      <th></th>\n",
       "      <th>prfInformationCarrier</th>\n",
       "      <th>prfYear</th>\n",
       "      <th>prfMonth</th>\n",
       "      <th>prfPrdOilNetMillSm3</th>\n",
       "      <th>prfPrdGasNetBillSm3</th>\n",
       "      <th>prfPrdNGLNetMillSm3</th>\n",
       "      <th>prfPrdCondensateNetMillSm3</th>\n",
       "      <th>prfPrdOeNetMillSm3</th>\n",
       "      <th>prfPrdProducedWaterInFieldMillSm3</th>\n",
       "      <th>prfNpdidInformationCarrier</th>\n",
       "    </tr>\n",
       "  </thead>\n",
       "  <tbody>\n",
       "    <tr>\n",
       "      <th>0</th>\n",
       "      <td>16/1-12 (Rolvsnes)</td>\n",
       "      <td>2021</td>\n",
       "      <td>8</td>\n",
       "      <td>0.00653</td>\n",
       "      <td>0.0</td>\n",
       "      <td>0.0</td>\n",
       "      <td>0.0</td>\n",
       "      <td>0.00653</td>\n",
       "      <td>0.00291</td>\n",
       "      <td>17196400</td>\n",
       "    </tr>\n",
       "    <tr>\n",
       "      <th>1</th>\n",
       "      <td>16/1-12 (Rolvsnes)</td>\n",
       "      <td>2021</td>\n",
       "      <td>9</td>\n",
       "      <td>0.01053</td>\n",
       "      <td>0.0</td>\n",
       "      <td>0.0</td>\n",
       "      <td>0.0</td>\n",
       "      <td>0.01053</td>\n",
       "      <td>0.00719</td>\n",
       "      <td>17196400</td>\n",
       "    </tr>\n",
       "    <tr>\n",
       "      <th>2</th>\n",
       "      <td>16/1-12 (Rolvsnes)</td>\n",
       "      <td>2021</td>\n",
       "      <td>10</td>\n",
       "      <td>0.01238</td>\n",
       "      <td>0.0</td>\n",
       "      <td>0.0</td>\n",
       "      <td>0.0</td>\n",
       "      <td>0.01238</td>\n",
       "      <td>0.00912</td>\n",
       "      <td>17196400</td>\n",
       "    </tr>\n",
       "    <tr>\n",
       "      <th>3</th>\n",
       "      <td>16/1-12 (Rolvsnes)</td>\n",
       "      <td>2021</td>\n",
       "      <td>11</td>\n",
       "      <td>0.01298</td>\n",
       "      <td>0.0</td>\n",
       "      <td>0.0</td>\n",
       "      <td>0.0</td>\n",
       "      <td>0.01298</td>\n",
       "      <td>0.01186</td>\n",
       "      <td>17196400</td>\n",
       "    </tr>\n",
       "    <tr>\n",
       "      <th>4</th>\n",
       "      <td>16/1-12 (Rolvsnes)</td>\n",
       "      <td>2021</td>\n",
       "      <td>12</td>\n",
       "      <td>0.00461</td>\n",
       "      <td>0.0</td>\n",
       "      <td>0.0</td>\n",
       "      <td>0.0</td>\n",
       "      <td>0.00461</td>\n",
       "      <td>0.00418</td>\n",
       "      <td>17196400</td>\n",
       "    </tr>\n",
       "  </tbody>\n",
       "</table>\n",
       "</div>"
      ],
      "text/plain": [
       "  prfInformationCarrier  prfYear  prfMonth  prfPrdOilNetMillSm3  \\\n",
       "0    16/1-12 (Rolvsnes)     2021         8              0.00653   \n",
       "1    16/1-12 (Rolvsnes)     2021         9              0.01053   \n",
       "2    16/1-12 (Rolvsnes)     2021        10              0.01238   \n",
       "3    16/1-12 (Rolvsnes)     2021        11              0.01298   \n",
       "4    16/1-12 (Rolvsnes)     2021        12              0.00461   \n",
       "\n",
       "   prfPrdGasNetBillSm3  prfPrdNGLNetMillSm3  prfPrdCondensateNetMillSm3  \\\n",
       "0                  0.0                  0.0                         0.0   \n",
       "1                  0.0                  0.0                         0.0   \n",
       "2                  0.0                  0.0                         0.0   \n",
       "3                  0.0                  0.0                         0.0   \n",
       "4                  0.0                  0.0                         0.0   \n",
       "\n",
       "   prfPrdOeNetMillSm3  prfPrdProducedWaterInFieldMillSm3  \\\n",
       "0             0.00653                            0.00291   \n",
       "1             0.01053                            0.00719   \n",
       "2             0.01238                            0.00912   \n",
       "3             0.01298                            0.01186   \n",
       "4             0.00461                            0.00418   \n",
       "\n",
       "   prfNpdidInformationCarrier  \n",
       "0                    17196400  \n",
       "1                    17196400  \n",
       "2                    17196400  \n",
       "3                    17196400  \n",
       "4                    17196400  "
      ]
     },
     "execution_count": 3,
     "metadata": {},
     "output_type": "execute_result"
    }
   ],
   "source": [
    "df.head()"
   ]
  },
  {
   "cell_type": "markdown",
   "metadata": {
    "tags": [
     "exercise"
    ]
   },
   "source": [
    "### Exercise\n",
    "\n",
    "- How many rows are there in this dataframe?\n",
    "- How many fields are represented? (Look at the column called `'prfInformationCarrier'`)\n",
    "- How many years of data are there?\n",
    "- What is the total production?"
   ]
  },
  {
   "cell_type": "code",
   "execution_count": null,
   "metadata": {},
   "outputs": [],
   "source": []
  },
  {
   "cell_type": "code",
   "execution_count": null,
   "metadata": {},
   "outputs": [],
   "source": []
  },
  {
   "cell_type": "code",
   "execution_count": 4,
   "metadata": {
    "colab": {
     "base_uri": "https://localhost:8080/",
     "height": 35
    },
    "colab_type": "code",
    "executionInfo": {
     "elapsed": 838,
     "status": "ok",
     "timestamp": 1560165251376,
     "user": {
      "displayName": "Matt Hall",
      "photoUrl": "https://lh5.googleusercontent.com/-wc2cQrA5f94/AAAAAAAAAAI/AAAAAAAAhtI/-p0Ej-pd3c8/s64/photo.jpg",
      "userId": "10999355236974656427"
     },
     "user_tz": -120
    },
    "id": "Cka6DXa95XWd",
    "outputId": "8533f839-3ce1-4657-c0b5-ca128c80e2d4",
    "tags": [
     "hide"
    ]
   },
   "outputs": [
    {
     "data": {
      "text/plain": [
       "22939"
      ]
     },
     "execution_count": 4,
     "metadata": {},
     "output_type": "execute_result"
    }
   ],
   "source": [
    "len(df)"
   ]
  },
  {
   "cell_type": "code",
   "execution_count": 5,
   "metadata": {
    "tags": [
     "hide"
    ]
   },
   "outputs": [
    {
     "data": {
      "text/html": [
       "<div>\n",
       "<style scoped>\n",
       "    .dataframe tbody tr th:only-of-type {\n",
       "        vertical-align: middle;\n",
       "    }\n",
       "\n",
       "    .dataframe tbody tr th {\n",
       "        vertical-align: top;\n",
       "    }\n",
       "\n",
       "    .dataframe thead th {\n",
       "        text-align: right;\n",
       "    }\n",
       "</style>\n",
       "<table border=\"1\" class=\"dataframe\">\n",
       "  <thead>\n",
       "    <tr style=\"text-align: right;\">\n",
       "      <th></th>\n",
       "      <th>prfYear</th>\n",
       "      <th>prfMonth</th>\n",
       "      <th>prfPrdOilNetMillSm3</th>\n",
       "      <th>prfPrdGasNetBillSm3</th>\n",
       "      <th>prfPrdNGLNetMillSm3</th>\n",
       "      <th>prfPrdCondensateNetMillSm3</th>\n",
       "      <th>prfPrdOeNetMillSm3</th>\n",
       "      <th>prfPrdProducedWaterInFieldMillSm3</th>\n",
       "      <th>prfNpdidInformationCarrier</th>\n",
       "    </tr>\n",
       "  </thead>\n",
       "  <tbody>\n",
       "    <tr>\n",
       "      <th>count</th>\n",
       "      <td>22939.000000</td>\n",
       "      <td>22939.000000</td>\n",
       "      <td>22939.000000</td>\n",
       "      <td>22939.000000</td>\n",
       "      <td>22939.000000</td>\n",
       "      <td>22939.000000</td>\n",
       "      <td>22939.000000</td>\n",
       "      <td>22939.000000</td>\n",
       "      <td>2.293900e+04</td>\n",
       "    </tr>\n",
       "    <tr>\n",
       "      <th>mean</th>\n",
       "      <td>2007.195649</td>\n",
       "      <td>6.544357</td>\n",
       "      <td>0.201867</td>\n",
       "      <td>0.121263</td>\n",
       "      <td>0.019802</td>\n",
       "      <td>0.005350</td>\n",
       "      <td>0.348281</td>\n",
       "      <td>0.157318</td>\n",
       "      <td>2.802660e+06</td>\n",
       "    </tr>\n",
       "    <tr>\n",
       "      <th>std</th>\n",
       "      <td>10.725395</td>\n",
       "      <td>3.453019</td>\n",
       "      <td>0.388971</td>\n",
       "      <td>0.347924</td>\n",
       "      <td>0.043874</td>\n",
       "      <td>0.028301</td>\n",
       "      <td>0.594375</td>\n",
       "      <td>0.385065</td>\n",
       "      <td>6.539046e+06</td>\n",
       "    </tr>\n",
       "    <tr>\n",
       "      <th>min</th>\n",
       "      <td>1971.000000</td>\n",
       "      <td>1.000000</td>\n",
       "      <td>-0.037570</td>\n",
       "      <td>-0.103860</td>\n",
       "      <td>-0.020290</td>\n",
       "      <td>-0.008240</td>\n",
       "      <td>-0.037570</td>\n",
       "      <td>-0.002980</td>\n",
       "      <td>4.343700e+04</td>\n",
       "    </tr>\n",
       "    <tr>\n",
       "      <th>25%</th>\n",
       "      <td>2000.000000</td>\n",
       "      <td>4.000000</td>\n",
       "      <td>0.007755</td>\n",
       "      <td>0.000000</td>\n",
       "      <td>0.000000</td>\n",
       "      <td>0.000000</td>\n",
       "      <td>0.032110</td>\n",
       "      <td>0.000000</td>\n",
       "      <td>4.356800e+04</td>\n",
       "    </tr>\n",
       "    <tr>\n",
       "      <th>50%</th>\n",
       "      <td>2010.000000</td>\n",
       "      <td>7.000000</td>\n",
       "      <td>0.052530</td>\n",
       "      <td>0.014460</td>\n",
       "      <td>0.001850</td>\n",
       "      <td>0.000000</td>\n",
       "      <td>0.132800</td>\n",
       "      <td>0.005100</td>\n",
       "      <td>4.372500e+04</td>\n",
       "    </tr>\n",
       "    <tr>\n",
       "      <th>75%</th>\n",
       "      <td>2016.000000</td>\n",
       "      <td>10.000000</td>\n",
       "      <td>0.225350</td>\n",
       "      <td>0.081670</td>\n",
       "      <td>0.018205</td>\n",
       "      <td>0.000000</td>\n",
       "      <td>0.392705</td>\n",
       "      <td>0.124775</td>\n",
       "      <td>1.630514e+06</td>\n",
       "    </tr>\n",
       "    <tr>\n",
       "      <th>max</th>\n",
       "      <td>2021.000000</td>\n",
       "      <td>12.000000</td>\n",
       "      <td>3.453530</td>\n",
       "      <td>3.743890</td>\n",
       "      <td>0.458810</td>\n",
       "      <td>0.462690</td>\n",
       "      <td>4.990650</td>\n",
       "      <td>3.651950</td>\n",
       "      <td>3.854224e+07</td>\n",
       "    </tr>\n",
       "  </tbody>\n",
       "</table>\n",
       "</div>"
      ],
      "text/plain": [
       "            prfYear      prfMonth  prfPrdOilNetMillSm3  prfPrdGasNetBillSm3  \\\n",
       "count  22939.000000  22939.000000         22939.000000         22939.000000   \n",
       "mean    2007.195649      6.544357             0.201867             0.121263   \n",
       "std       10.725395      3.453019             0.388971             0.347924   \n",
       "min     1971.000000      1.000000            -0.037570            -0.103860   \n",
       "25%     2000.000000      4.000000             0.007755             0.000000   \n",
       "50%     2010.000000      7.000000             0.052530             0.014460   \n",
       "75%     2016.000000     10.000000             0.225350             0.081670   \n",
       "max     2021.000000     12.000000             3.453530             3.743890   \n",
       "\n",
       "       prfPrdNGLNetMillSm3  prfPrdCondensateNetMillSm3  prfPrdOeNetMillSm3  \\\n",
       "count         22939.000000                22939.000000        22939.000000   \n",
       "mean              0.019802                    0.005350            0.348281   \n",
       "std               0.043874                    0.028301            0.594375   \n",
       "min              -0.020290                   -0.008240           -0.037570   \n",
       "25%               0.000000                    0.000000            0.032110   \n",
       "50%               0.001850                    0.000000            0.132800   \n",
       "75%               0.018205                    0.000000            0.392705   \n",
       "max               0.458810                    0.462690            4.990650   \n",
       "\n",
       "       prfPrdProducedWaterInFieldMillSm3  prfNpdidInformationCarrier  \n",
       "count                       22939.000000                2.293900e+04  \n",
       "mean                            0.157318                2.802660e+06  \n",
       "std                             0.385065                6.539046e+06  \n",
       "min                            -0.002980                4.343700e+04  \n",
       "25%                             0.000000                4.356800e+04  \n",
       "50%                             0.005100                4.372500e+04  \n",
       "75%                             0.124775                1.630514e+06  \n",
       "max                             3.651950                3.854224e+07  "
      ]
     },
     "execution_count": 5,
     "metadata": {},
     "output_type": "execute_result"
    }
   ],
   "source": [
    "df.describe()"
   ]
  },
  {
   "cell_type": "code",
   "execution_count": 6,
   "metadata": {
    "tags": [
     "hide"
    ]
   },
   "outputs": [
    {
     "data": {
      "text/plain": [
       "121"
      ]
     },
     "execution_count": 6,
     "metadata": {},
     "output_type": "execute_result"
    }
   ],
   "source": [
    "df.prfInformationCarrier.unique().size"
   ]
  },
  {
   "cell_type": "code",
   "execution_count": 7,
   "metadata": {
    "tags": [
     "hide"
    ]
   },
   "outputs": [
    {
     "data": {
      "text/plain": [
       "7989.21255"
      ]
     },
     "execution_count": 7,
     "metadata": {},
     "output_type": "execute_result"
    }
   ],
   "source": [
    "df.prfPrdOeNetMillSm3.sum()"
   ]
  },
  {
   "cell_type": "markdown",
   "metadata": {
    "colab_type": "text",
    "id": "35O6iE1B5XWu"
   },
   "source": [
    "## Rename some columns"
   ]
  },
  {
   "cell_type": "markdown",
   "metadata": {
    "colab": {},
    "colab_type": "code",
    "id": "J5KVbZnn5XW6",
    "tags": [
     "exercise"
    ]
   },
   "source": [
    "### Exercise\n",
    "\n",
    "Rename some of the columns of the dataframe as follows:\n",
    "\n",
    "    'prfYear': 'year'\n",
    "    'prfMonth': 'month'\n",
    "    'prfInformationCarrier': 'field'\n",
    "    'prfPrdOilNetMillSm3': 'oil'\n",
    "    'prfPrdOeNetMillSm3': 'OE'\n",
    "    'prfPrdProducedWaterInFieldMillSm3': 'water'"
   ]
  },
  {
   "cell_type": "code",
   "execution_count": null,
   "metadata": {},
   "outputs": [],
   "source": []
  },
  {
   "cell_type": "code",
   "execution_count": 8,
   "metadata": {
    "colab": {},
    "colab_type": "code",
    "id": "J5KVbZnn5XW6",
    "tags": [
     "hide"
    ]
   },
   "outputs": [],
   "source": [
    "columns = {'prfYear': 'year',\n",
    "           'prfMonth': 'month',\n",
    "           'prfInformationCarrier': 'field',\n",
    "           'prfPrdOilNetMillSm3': 'oil',\n",
    "           'prfPrdOeNetMillSm3': 'OE',\n",
    "           'prfPrdProducedWaterInFieldMillSm3': 'water',\n",
    "          }\n",
    "\n",
    "df = df.rename(columns=columns)"
   ]
  },
  {
   "cell_type": "markdown",
   "metadata": {
    "colab_type": "text",
    "id": "35O6iE1B5XWu"
   },
   "source": [
    "## Add a datetime"
   ]
  },
  {
   "cell_type": "markdown",
   "metadata": {
    "colab_type": "text",
    "id": "f4TYPRo25XWw"
   },
   "source": [
    "We'd like to give this dataframe a **datetime** index with `pandas` datetimes. To do this easily, we need:\n",
    "\n",
    "- EITHER columns named like `'year'`, `'month'`, `'day'`\n",
    "- OR a column with a datetime string like `2019-06-30`.\n",
    "\n",
    "In this dataframe, we have the former, so let's work with that."
   ]
  },
  {
   "cell_type": "markdown",
   "metadata": {
    "tags": [
     "exercise"
    ]
   },
   "source": [
    "### Exercise\n",
    "\n",
    "- Make a column for the **day**, using a constant like 1.\n",
    "- Make a datetime column called `'ds'` (for 'date stamp') using `pd.to_datetime()`, passing in a dataframe consisting of the three columns for year, month and the day you just made.\n",
    "- Finally, to turn the new column into an index, give its name (`'ds'`) to `df.set_index()`."
   ]
  },
  {
   "cell_type": "code",
   "execution_count": null,
   "metadata": {},
   "outputs": [],
   "source": []
  },
  {
   "cell_type": "code",
   "execution_count": 9,
   "metadata": {
    "colab": {},
    "colab_type": "code",
    "id": "upI71Sll5XXE",
    "tags": [
     "hide"
    ]
   },
   "outputs": [],
   "source": [
    "df['day'] = 1"
   ]
  },
  {
   "cell_type": "code",
   "execution_count": 10,
   "metadata": {
    "tags": [
     "hide"
    ]
   },
   "outputs": [
    {
     "data": {
      "text/html": [
       "<div>\n",
       "<style scoped>\n",
       "    .dataframe tbody tr th:only-of-type {\n",
       "        vertical-align: middle;\n",
       "    }\n",
       "\n",
       "    .dataframe tbody tr th {\n",
       "        vertical-align: top;\n",
       "    }\n",
       "\n",
       "    .dataframe thead th {\n",
       "        text-align: right;\n",
       "    }\n",
       "</style>\n",
       "<table border=\"1\" class=\"dataframe\">\n",
       "  <thead>\n",
       "    <tr style=\"text-align: right;\">\n",
       "      <th></th>\n",
       "      <th>year</th>\n",
       "      <th>month</th>\n",
       "      <th>day</th>\n",
       "    </tr>\n",
       "  </thead>\n",
       "  <tbody>\n",
       "    <tr>\n",
       "      <th>0</th>\n",
       "      <td>2021</td>\n",
       "      <td>8</td>\n",
       "      <td>1</td>\n",
       "    </tr>\n",
       "    <tr>\n",
       "      <th>1</th>\n",
       "      <td>2021</td>\n",
       "      <td>9</td>\n",
       "      <td>1</td>\n",
       "    </tr>\n",
       "    <tr>\n",
       "      <th>2</th>\n",
       "      <td>2021</td>\n",
       "      <td>10</td>\n",
       "      <td>1</td>\n",
       "    </tr>\n",
       "    <tr>\n",
       "      <th>3</th>\n",
       "      <td>2021</td>\n",
       "      <td>11</td>\n",
       "      <td>1</td>\n",
       "    </tr>\n",
       "    <tr>\n",
       "      <th>4</th>\n",
       "      <td>2021</td>\n",
       "      <td>12</td>\n",
       "      <td>1</td>\n",
       "    </tr>\n",
       "  </tbody>\n",
       "</table>\n",
       "</div>"
      ],
      "text/plain": [
       "   year  month  day\n",
       "0  2021      8    1\n",
       "1  2021      9    1\n",
       "2  2021     10    1\n",
       "3  2021     11    1\n",
       "4  2021     12    1"
      ]
     },
     "execution_count": 10,
     "metadata": {},
     "output_type": "execute_result"
    }
   ],
   "source": [
    "df[['year', 'month', 'day']].head()"
   ]
  },
  {
   "cell_type": "code",
   "execution_count": 11,
   "metadata": {
    "colab": {},
    "colab_type": "code",
    "id": "FvsUBkAH5XXM",
    "tags": [
     "hide"
    ]
   },
   "outputs": [],
   "source": [
    "df['ds'] = pd.to_datetime(df[['year', 'month', 'day']])\n",
    "df = df.set_index('ds')"
   ]
  },
  {
   "cell_type": "markdown",
   "metadata": {},
   "source": [
    "You should end up with a new dataframe with the `'ds'` column as an index."
   ]
  },
  {
   "cell_type": "code",
   "execution_count": 12,
   "metadata": {
    "colab": {
     "base_uri": "https://localhost:8080/",
     "height": 339
    },
    "colab_type": "code",
    "executionInfo": {
     "elapsed": 787,
     "status": "ok",
     "timestamp": 1560165253191,
     "user": {
      "displayName": "Matt Hall",
      "photoUrl": "https://lh5.googleusercontent.com/-wc2cQrA5f94/AAAAAAAAAAI/AAAAAAAAhtI/-p0Ej-pd3c8/s64/photo.jpg",
      "userId": "10999355236974656427"
     },
     "user_tz": -120
    },
    "id": "kO2npE3a5XXU",
    "outputId": "08178609-0c2f-4c86-eb6a-22299ea182f9"
   },
   "outputs": [
    {
     "data": {
      "text/html": [
       "<div>\n",
       "<style scoped>\n",
       "    .dataframe tbody tr th:only-of-type {\n",
       "        vertical-align: middle;\n",
       "    }\n",
       "\n",
       "    .dataframe tbody tr th {\n",
       "        vertical-align: top;\n",
       "    }\n",
       "\n",
       "    .dataframe thead th {\n",
       "        text-align: right;\n",
       "    }\n",
       "</style>\n",
       "<table border=\"1\" class=\"dataframe\">\n",
       "  <thead>\n",
       "    <tr style=\"text-align: right;\">\n",
       "      <th></th>\n",
       "      <th>field</th>\n",
       "      <th>year</th>\n",
       "      <th>month</th>\n",
       "      <th>oil</th>\n",
       "      <th>prfPrdGasNetBillSm3</th>\n",
       "      <th>prfPrdNGLNetMillSm3</th>\n",
       "      <th>prfPrdCondensateNetMillSm3</th>\n",
       "      <th>OE</th>\n",
       "      <th>water</th>\n",
       "      <th>prfNpdidInformationCarrier</th>\n",
       "      <th>day</th>\n",
       "    </tr>\n",
       "    <tr>\n",
       "      <th>ds</th>\n",
       "      <th></th>\n",
       "      <th></th>\n",
       "      <th></th>\n",
       "      <th></th>\n",
       "      <th></th>\n",
       "      <th></th>\n",
       "      <th></th>\n",
       "      <th></th>\n",
       "      <th></th>\n",
       "      <th></th>\n",
       "      <th></th>\n",
       "    </tr>\n",
       "  </thead>\n",
       "  <tbody>\n",
       "    <tr>\n",
       "      <th>2021-08-01</th>\n",
       "      <td>16/1-12 (Rolvsnes)</td>\n",
       "      <td>2021</td>\n",
       "      <td>8</td>\n",
       "      <td>0.00653</td>\n",
       "      <td>0.0</td>\n",
       "      <td>0.0</td>\n",
       "      <td>0.0</td>\n",
       "      <td>0.00653</td>\n",
       "      <td>0.00291</td>\n",
       "      <td>17196400</td>\n",
       "      <td>1</td>\n",
       "    </tr>\n",
       "    <tr>\n",
       "      <th>2021-09-01</th>\n",
       "      <td>16/1-12 (Rolvsnes)</td>\n",
       "      <td>2021</td>\n",
       "      <td>9</td>\n",
       "      <td>0.01053</td>\n",
       "      <td>0.0</td>\n",
       "      <td>0.0</td>\n",
       "      <td>0.0</td>\n",
       "      <td>0.01053</td>\n",
       "      <td>0.00719</td>\n",
       "      <td>17196400</td>\n",
       "      <td>1</td>\n",
       "    </tr>\n",
       "    <tr>\n",
       "      <th>2021-10-01</th>\n",
       "      <td>16/1-12 (Rolvsnes)</td>\n",
       "      <td>2021</td>\n",
       "      <td>10</td>\n",
       "      <td>0.01238</td>\n",
       "      <td>0.0</td>\n",
       "      <td>0.0</td>\n",
       "      <td>0.0</td>\n",
       "      <td>0.01238</td>\n",
       "      <td>0.00912</td>\n",
       "      <td>17196400</td>\n",
       "      <td>1</td>\n",
       "    </tr>\n",
       "    <tr>\n",
       "      <th>2021-11-01</th>\n",
       "      <td>16/1-12 (Rolvsnes)</td>\n",
       "      <td>2021</td>\n",
       "      <td>11</td>\n",
       "      <td>0.01298</td>\n",
       "      <td>0.0</td>\n",
       "      <td>0.0</td>\n",
       "      <td>0.0</td>\n",
       "      <td>0.01298</td>\n",
       "      <td>0.01186</td>\n",
       "      <td>17196400</td>\n",
       "      <td>1</td>\n",
       "    </tr>\n",
       "    <tr>\n",
       "      <th>2021-12-01</th>\n",
       "      <td>16/1-12 (Rolvsnes)</td>\n",
       "      <td>2021</td>\n",
       "      <td>12</td>\n",
       "      <td>0.00461</td>\n",
       "      <td>0.0</td>\n",
       "      <td>0.0</td>\n",
       "      <td>0.0</td>\n",
       "      <td>0.00461</td>\n",
       "      <td>0.00418</td>\n",
       "      <td>17196400</td>\n",
       "      <td>1</td>\n",
       "    </tr>\n",
       "  </tbody>\n",
       "</table>\n",
       "</div>"
      ],
      "text/plain": [
       "                         field  year  month      oil  prfPrdGasNetBillSm3  \\\n",
       "ds                                                                          \n",
       "2021-08-01  16/1-12 (Rolvsnes)  2021      8  0.00653                  0.0   \n",
       "2021-09-01  16/1-12 (Rolvsnes)  2021      9  0.01053                  0.0   \n",
       "2021-10-01  16/1-12 (Rolvsnes)  2021     10  0.01238                  0.0   \n",
       "2021-11-01  16/1-12 (Rolvsnes)  2021     11  0.01298                  0.0   \n",
       "2021-12-01  16/1-12 (Rolvsnes)  2021     12  0.00461                  0.0   \n",
       "\n",
       "            prfPrdNGLNetMillSm3  prfPrdCondensateNetMillSm3       OE    water  \\\n",
       "ds                                                                              \n",
       "2021-08-01                  0.0                         0.0  0.00653  0.00291   \n",
       "2021-09-01                  0.0                         0.0  0.01053  0.00719   \n",
       "2021-10-01                  0.0                         0.0  0.01238  0.00912   \n",
       "2021-11-01                  0.0                         0.0  0.01298  0.01186   \n",
       "2021-12-01                  0.0                         0.0  0.00461  0.00418   \n",
       "\n",
       "            prfNpdidInformationCarrier  day  \n",
       "ds                                           \n",
       "2021-08-01                    17196400    1  \n",
       "2021-09-01                    17196400    1  \n",
       "2021-10-01                    17196400    1  \n",
       "2021-11-01                    17196400    1  \n",
       "2021-12-01                    17196400    1  "
      ]
     },
     "execution_count": 12,
     "metadata": {},
     "output_type": "execute_result"
    }
   ],
   "source": [
    "df.head()"
   ]
  },
  {
   "cell_type": "markdown",
   "metadata": {},
   "source": [
    "## Simplify the dataframe\n",
    "\n",
    "Before we carry on, let's simplify the dataframe a bit, reducing it to a few columns: **field**, **water**, **other**, and **oil** (the order is a slightly cheaty way to get the colours I want on the charts, without having to fiddle with them)."
   ]
  },
  {
   "cell_type": "code",
   "execution_count": 13,
   "metadata": {
    "colab": {},
    "colab_type": "code",
    "id": "3ZFVUQiS5XXf"
   },
   "outputs": [],
   "source": [
    "df['other'] = df.OE - df.oil\n",
    "df = df.drop('OE', axis=1)\n",
    "df = df[['field', 'water', 'other', 'oil']]"
   ]
  },
  {
   "cell_type": "code",
   "execution_count": 14,
   "metadata": {
    "colab": {
     "base_uri": "https://localhost:8080/",
     "height": 233
    },
    "colab_type": "code",
    "executionInfo": {
     "elapsed": 432,
     "status": "ok",
     "timestamp": 1560165253838,
     "user": {
      "displayName": "Matt Hall",
      "photoUrl": "https://lh5.googleusercontent.com/-wc2cQrA5f94/AAAAAAAAAAI/AAAAAAAAhtI/-p0Ej-pd3c8/s64/photo.jpg",
      "userId": "10999355236974656427"
     },
     "user_tz": -120
    },
    "id": "I8M3nBuo5XXl",
    "outputId": "0e6147dd-99b4-40ba-fdcf-0b03ee330175",
    "scrolled": true
   },
   "outputs": [
    {
     "data": {
      "text/html": [
       "<div>\n",
       "<style scoped>\n",
       "    .dataframe tbody tr th:only-of-type {\n",
       "        vertical-align: middle;\n",
       "    }\n",
       "\n",
       "    .dataframe tbody tr th {\n",
       "        vertical-align: top;\n",
       "    }\n",
       "\n",
       "    .dataframe thead th {\n",
       "        text-align: right;\n",
       "    }\n",
       "</style>\n",
       "<table border=\"1\" class=\"dataframe\">\n",
       "  <thead>\n",
       "    <tr style=\"text-align: right;\">\n",
       "      <th></th>\n",
       "      <th>field</th>\n",
       "      <th>water</th>\n",
       "      <th>other</th>\n",
       "      <th>oil</th>\n",
       "    </tr>\n",
       "    <tr>\n",
       "      <th>ds</th>\n",
       "      <th></th>\n",
       "      <th></th>\n",
       "      <th></th>\n",
       "      <th></th>\n",
       "    </tr>\n",
       "  </thead>\n",
       "  <tbody>\n",
       "    <tr>\n",
       "      <th>2021-08-01</th>\n",
       "      <td>16/1-12 (Rolvsnes)</td>\n",
       "      <td>0.00291</td>\n",
       "      <td>0.0</td>\n",
       "      <td>0.00653</td>\n",
       "    </tr>\n",
       "    <tr>\n",
       "      <th>2021-09-01</th>\n",
       "      <td>16/1-12 (Rolvsnes)</td>\n",
       "      <td>0.00719</td>\n",
       "      <td>0.0</td>\n",
       "      <td>0.01053</td>\n",
       "    </tr>\n",
       "    <tr>\n",
       "      <th>2021-10-01</th>\n",
       "      <td>16/1-12 (Rolvsnes)</td>\n",
       "      <td>0.00912</td>\n",
       "      <td>0.0</td>\n",
       "      <td>0.01238</td>\n",
       "    </tr>\n",
       "    <tr>\n",
       "      <th>2021-11-01</th>\n",
       "      <td>16/1-12 (Rolvsnes)</td>\n",
       "      <td>0.01186</td>\n",
       "      <td>0.0</td>\n",
       "      <td>0.01298</td>\n",
       "    </tr>\n",
       "    <tr>\n",
       "      <th>2021-12-01</th>\n",
       "      <td>16/1-12 (Rolvsnes)</td>\n",
       "      <td>0.00418</td>\n",
       "      <td>0.0</td>\n",
       "      <td>0.00461</td>\n",
       "    </tr>\n",
       "  </tbody>\n",
       "</table>\n",
       "</div>"
      ],
      "text/plain": [
       "                         field    water  other      oil\n",
       "ds                                                     \n",
       "2021-08-01  16/1-12 (Rolvsnes)  0.00291    0.0  0.00653\n",
       "2021-09-01  16/1-12 (Rolvsnes)  0.00719    0.0  0.01053\n",
       "2021-10-01  16/1-12 (Rolvsnes)  0.00912    0.0  0.01238\n",
       "2021-11-01  16/1-12 (Rolvsnes)  0.01186    0.0  0.01298\n",
       "2021-12-01  16/1-12 (Rolvsnes)  0.00418    0.0  0.00461"
      ]
     },
     "execution_count": 14,
     "metadata": {},
     "output_type": "execute_result"
    }
   ],
   "source": [
    "df.head()"
   ]
  },
  {
   "cell_type": "markdown",
   "metadata": {
    "colab_type": "text",
    "id": "1pCS6NRw5XXu"
   },
   "source": [
    "## Time series with `pandas`\n",
    "\n",
    "`pandas` knows all about time series. So we can easily make a time series plot:"
   ]
  },
  {
   "cell_type": "code",
   "execution_count": 15,
   "metadata": {},
   "outputs": [
    {
     "data": {
      "text/plain": [
       "<AxesSubplot:xlabel='ds'>"
      ]
     },
     "execution_count": 15,
     "metadata": {},
     "output_type": "execute_result"
    },
    {
     "data": {
      "image/png": "[encoded data removed]",
      "text/plain": [
       "<Figure size 432x288 with 1 Axes>"
      ]
     },
     "metadata": {
      "needs_background": "light"
     },
     "output_type": "display_data"
    }
   ],
   "source": [
    "df.oil[df.field=='TROLL'].plot()"
   ]
  },
  {
   "cell_type": "markdown",
   "metadata": {},
   "source": [
    "We can easily stretch it out, or add other lines:"
   ]
  },
  {
   "cell_type": "code",
   "execution_count": 16,
   "metadata": {
    "colab": {
     "base_uri": "https://localhost:8080/",
     "height": 246
    },
    "colab_type": "code",
    "executionInfo": {
     "elapsed": 1210,
     "status": "ok",
     "timestamp": 1560165256686,
     "user": {
      "displayName": "Matt Hall",
      "photoUrl": "https://lh5.googleusercontent.com/-wc2cQrA5f94/AAAAAAAAAAI/AAAAAAAAhtI/-p0Ej-pd3c8/s64/photo.jpg",
      "userId": "10999355236974656427"
     },
     "user_tz": -120
    },
    "id": "0mwROnOf5XXw",
    "outputId": "43430308-037f-4661-a9ba-e7d3b60d0c65"
   },
   "outputs": [
    {
     "data": {
      "text/plain": [
       "<AxesSubplot:xlabel='ds'>"
      ]
     },
     "execution_count": 16,
     "metadata": {},
     "output_type": "execute_result"
    },
    {
     "data": {
      "image/png": "[encoded data removed]",
      "text/plain": [
       "<Figure size 1080x216 with 1 Axes>"
      ]
     },
     "metadata": {
      "needs_background": "light"
     },
     "output_type": "display_data"
    }
   ],
   "source": [
    "df[df.field=='TROLL'].plot(figsize=(15, 3))"
   ]
  },
  {
   "cell_type": "markdown",
   "metadata": {},
   "source": [
    "Let's make a dataframe of only the TROLL field."
   ]
  },
  {
   "cell_type": "code",
   "execution_count": 17,
   "metadata": {},
   "outputs": [],
   "source": [
    "troll = df[df.field=='TROLL']"
   ]
  },
  {
   "cell_type": "markdown",
   "metadata": {},
   "source": [
    "Now we can slice using natural dates:"
   ]
  },
  {
   "cell_type": "code",
   "execution_count": 18,
   "metadata": {},
   "outputs": [
    {
     "data": {
      "text/plain": [
       "<AxesSubplot:xlabel='ds'>"
      ]
     },
     "execution_count": 18,
     "metadata": {},
     "output_type": "execute_result"
    },
    {
     "data": {
      "image/png": "[encoded data removed]",
      "text/plain": [
       "<Figure size 432x288 with 1 Axes>"
      ]
     },
     "metadata": {
      "needs_background": "light"
     },
     "output_type": "display_data"
    }
   ],
   "source": [
    "troll['2005':'2010'].plot()"
   ]
  },
  {
   "cell_type": "code",
   "execution_count": 19,
   "metadata": {},
   "outputs": [
    {
     "data": {
      "text/plain": [
       "<AxesSubplot:xlabel='ds'>"
      ]
     },
     "execution_count": 19,
     "metadata": {},
     "output_type": "execute_result"
    },
    {
     "data": {
      "image/png": "[encoded data removed]",
      "text/plain": [
       "<Figure size 432x288 with 1 Axes>"
      ]
     },
     "metadata": {
      "needs_background": "light"
     },
     "output_type": "display_data"
    }
   ],
   "source": [
    "troll['Jun 2005':'Jun 2007'].plot()"
   ]
  },
  {
   "cell_type": "markdown",
   "metadata": {},
   "source": [
    "Try to imagine doing that in Excel!"
   ]
  },
  {
   "cell_type": "markdown",
   "metadata": {
    "colab_type": "text",
    "id": "3evyE8q45XYH"
   },
   "source": [
    "Let's get the summed annual production for the Troll field:"
   ]
  },
  {
   "cell_type": "code",
   "execution_count": 20,
   "metadata": {
    "colab": {
     "base_uri": "https://localhost:8080/",
     "height": 417
    },
    "colab_type": "code",
    "executionInfo": {
     "elapsed": 645,
     "status": "ok",
     "timestamp": 1560165257216,
     "user": {
      "displayName": "Matt Hall",
      "photoUrl": "https://lh5.googleusercontent.com/-wc2cQrA5f94/AAAAAAAAAAI/AAAAAAAAhtI/-p0Ej-pd3c8/s64/photo.jpg",
      "userId": "10999355236974656427"
     },
     "user_tz": -120
    },
    "id": "8PnzW_445XYJ",
    "outputId": "ac8db087-9fd9-4ff1-e34d-c00eb6a63783"
   },
   "outputs": [
    {
     "data": {
      "text/html": [
       "<div>\n",
       "<style scoped>\n",
       "    .dataframe tbody tr th:only-of-type {\n",
       "        vertical-align: middle;\n",
       "    }\n",
       "\n",
       "    .dataframe tbody tr th {\n",
       "        vertical-align: top;\n",
       "    }\n",
       "\n",
       "    .dataframe thead th {\n",
       "        text-align: right;\n",
       "    }\n",
       "</style>\n",
       "<table border=\"1\" class=\"dataframe\">\n",
       "  <thead>\n",
       "    <tr style=\"text-align: right;\">\n",
       "      <th></th>\n",
       "      <th>water</th>\n",
       "      <th>other</th>\n",
       "      <th>oil</th>\n",
       "    </tr>\n",
       "    <tr>\n",
       "      <th>ds</th>\n",
       "      <th></th>\n",
       "      <th></th>\n",
       "      <th></th>\n",
       "    </tr>\n",
       "  </thead>\n",
       "  <tbody>\n",
       "    <tr>\n",
       "      <th>2010-12-31</th>\n",
       "      <td>19.98388</td>\n",
       "      <td>29.62816</td>\n",
       "      <td>6.86951</td>\n",
       "    </tr>\n",
       "    <tr>\n",
       "      <th>2011-12-31</th>\n",
       "      <td>19.84282</td>\n",
       "      <td>25.72520</td>\n",
       "      <td>7.26407</td>\n",
       "    </tr>\n",
       "    <tr>\n",
       "      <th>2012-12-31</th>\n",
       "      <td>18.96438</td>\n",
       "      <td>35.81799</td>\n",
       "      <td>7.10043</td>\n",
       "    </tr>\n",
       "    <tr>\n",
       "      <th>2013-12-31</th>\n",
       "      <td>17.76114</td>\n",
       "      <td>30.86865</td>\n",
       "      <td>7.09666</td>\n",
       "    </tr>\n",
       "    <tr>\n",
       "      <th>2014-12-31</th>\n",
       "      <td>18.74376</td>\n",
       "      <td>30.27524</td>\n",
       "      <td>7.29758</td>\n",
       "    </tr>\n",
       "    <tr>\n",
       "      <th>2015-12-31</th>\n",
       "      <td>18.33253</td>\n",
       "      <td>35.97052</td>\n",
       "      <td>7.01422</td>\n",
       "    </tr>\n",
       "    <tr>\n",
       "      <th>2016-12-31</th>\n",
       "      <td>17.62508</td>\n",
       "      <td>33.15294</td>\n",
       "      <td>7.34828</td>\n",
       "    </tr>\n",
       "    <tr>\n",
       "      <th>2017-12-31</th>\n",
       "      <td>18.02677</td>\n",
       "      <td>38.21186</td>\n",
       "      <td>7.24393</td>\n",
       "    </tr>\n",
       "    <tr>\n",
       "      <th>2018-12-31</th>\n",
       "      <td>17.17168</td>\n",
       "      <td>40.03591</td>\n",
       "      <td>6.41034</td>\n",
       "    </tr>\n",
       "  </tbody>\n",
       "</table>\n",
       "</div>"
      ],
      "text/plain": [
       "               water     other      oil\n",
       "ds                                     \n",
       "2010-12-31  19.98388  29.62816  6.86951\n",
       "2011-12-31  19.84282  25.72520  7.26407\n",
       "2012-12-31  18.96438  35.81799  7.10043\n",
       "2013-12-31  17.76114  30.86865  7.09666\n",
       "2014-12-31  18.74376  30.27524  7.29758\n",
       "2015-12-31  18.33253  35.97052  7.01422\n",
       "2016-12-31  17.62508  33.15294  7.34828\n",
       "2017-12-31  18.02677  38.21186  7.24393\n",
       "2018-12-31  17.17168  40.03591  6.41034"
      ]
     },
     "execution_count": 20,
     "metadata": {},
     "output_type": "execute_result"
    }
   ],
   "source": [
    "troll.loc['2010':'2018'].resample('Y').sum()"
   ]
  },
  {
   "cell_type": "markdown",
   "metadata": {
    "colab_type": "text",
    "id": "gHXO-g9M5XYY"
   },
   "source": [
    "Throw `.plot()` on the end:"
   ]
  },
  {
   "cell_type": "code",
   "execution_count": 21,
   "metadata": {
    "colab": {
     "base_uri": "https://localhost:8080/",
     "height": 301
    },
    "colab_type": "code",
    "executionInfo": {
     "elapsed": 992,
     "status": "ok",
     "timestamp": 1560165258099,
     "user": {
      "displayName": "Matt Hall",
      "photoUrl": "https://lh5.googleusercontent.com/-wc2cQrA5f94/AAAAAAAAAAI/AAAAAAAAhtI/-p0Ej-pd3c8/s64/photo.jpg",
      "userId": "10999355236974656427"
     },
     "user_tz": -120
    },
    "id": "msYhvyrj5XYZ",
    "outputId": "b5197ff1-8c5f-414f-9d64-6b861faba9d6"
   },
   "outputs": [
    {
     "data": {
      "text/plain": [
       "<AxesSubplot:xlabel='ds'>"
      ]
     },
     "execution_count": 21,
     "metadata": {},
     "output_type": "execute_result"
    },
    {
     "data": {
      "image/png": "[encoded data removed]",
      "text/plain": [
       "<Figure size 432x288 with 1 Axes>"
      ]
     },
     "metadata": {
      "needs_background": "light"
     },
     "output_type": "display_data"
    }
   ],
   "source": [
    "troll.loc['1995':'2018'].resample('Y').sum().plot()"
   ]
  },
  {
   "cell_type": "markdown",
   "metadata": {
    "colab_type": "text",
    "id": "s1sFKATv5XYk"
   },
   "source": [
    "Or we can get totals for *ALL* fields in the database:"
   ]
  },
  {
   "cell_type": "code",
   "execution_count": 22,
   "metadata": {
    "colab": {
     "base_uri": "https://localhost:8080/",
     "height": 301
    },
    "colab_type": "code",
    "executionInfo": {
     "elapsed": 1393,
     "status": "ok",
     "timestamp": 1560165258927,
     "user": {
      "displayName": "Matt Hall",
      "photoUrl": "https://lh5.googleusercontent.com/-wc2cQrA5f94/AAAAAAAAAAI/AAAAAAAAhtI/-p0Ej-pd3c8/s64/photo.jpg",
      "userId": "10999355236974656427"
     },
     "user_tz": -120
    },
    "id": "hAaWcVpN5XYm",
    "outputId": "ee18d70e-6ad6-4768-b7bb-9e17d3e9809b"
   },
   "outputs": [
    {
     "data": {
      "text/plain": [
       "<AxesSubplot:xlabel='ds'>"
      ]
     },
     "execution_count": 22,
     "metadata": {},
     "output_type": "execute_result"
    },
    {
     "data": {
      "image/png": "[encoded data removed]",
      "text/plain": [
       "<Figure size 432x288 with 1 Axes>"
      ]
     },
     "metadata": {
      "needs_background": "light"
     },
     "output_type": "display_data"
    }
   ],
   "source": [
    "df.loc['2000':'2018'].resample('Y').sum().plot()"
   ]
  },
  {
   "cell_type": "markdown",
   "metadata": {
    "colab_type": "text",
    "id": "iCIJPqC25XYu"
   },
   "source": [
    "Let's look at the contribution TROLL made to NCS production since 1993:"
   ]
  },
  {
   "cell_type": "code",
   "execution_count": 23,
   "metadata": {
    "colab": {
     "base_uri": "https://localhost:8080/",
     "height": 301
    },
    "colab_type": "code",
    "executionInfo": {
     "elapsed": 1391,
     "status": "ok",
     "timestamp": 1560165259281,
     "user": {
      "displayName": "Matt Hall",
      "photoUrl": "https://lh5.googleusercontent.com/-wc2cQrA5f94/AAAAAAAAAAI/AAAAAAAAhtI/-p0Ej-pd3c8/s64/photo.jpg",
      "userId": "10999355236974656427"
     },
     "user_tz": -120
    },
    "id": "X8mtzF1b5XYv",
    "outputId": "6da2cf27-d087-437c-a55a-712bddb011fe"
   },
   "outputs": [
    {
     "data": {
      "image/png": "[encoded data removed]",
      "text/plain": [
       "<Figure size 432x288 with 1 Axes>"
      ]
     },
     "metadata": {
      "needs_background": "light"
     },
     "output_type": "display_data"
    }
   ],
   "source": [
    "import matplotlib.pyplot as plt\n",
    "\n",
    "fig, ax = plt.subplots()\n",
    "df.loc['1993':'2018', 'oil'].resample('Y').sum().plot(ax=ax)\n",
    "df.loc[df.field!='TROLL'].loc['1993':'2018', 'oil'].resample('Y').sum().plot(ax=ax)\n",
    "plt.show()"
   ]
  },
  {
   "cell_type": "markdown",
   "metadata": {
    "colab_type": "text",
    "id": "sixxa8Dj5b5j"
   },
   "source": [
    "----\n",
    "\n",
    "Looking for forecasting? Head over to...\n",
    "\n",
    "### [Machine learning time series](Machine_learning_time_series.ipynb)"
   ]
  },
  {
   "cell_type": "markdown",
   "metadata": {},
   "source": [
    "## Add operators\n",
    "\n",
    "There's also a list of operators here >> https://factpages.npd.no/factpages/Default.aspx?culture=nb-no&nav1=field&nav2=TableView%7cProduction%7cSaleable%7cMonthly\n",
    "\n",
    "This file is also in `/data`, but we can read directly from the web with `pandas`, as before:"
   ]
  },
  {
   "cell_type": "code",
   "execution_count": 24,
   "metadata": {},
   "outputs": [],
   "source": [
    "url = \"https://factpages.npd.no/ReportServer_npdpublic?/FactPages/TableView/field_operator_hst&rs:Command=Render&rc:Toolbar=false&rc:Parameters=f&rs:Format=CSV&Top100=false&IpAddress=165.225.35.29&CultureCode=nb-no\"\n",
    "dg = pd.read_csv(url)"
   ]
  },
  {
   "cell_type": "code",
   "execution_count": 25,
   "metadata": {},
   "outputs": [
    {
     "data": {
      "text/html": [
       "<div>\n",
       "<style scoped>\n",
       "    .dataframe tbody tr th:only-of-type {\n",
       "        vertical-align: middle;\n",
       "    }\n",
       "\n",
       "    .dataframe tbody tr th {\n",
       "        vertical-align: top;\n",
       "    }\n",
       "\n",
       "    .dataframe thead th {\n",
       "        text-align: right;\n",
       "    }\n",
       "</style>\n",
       "<table border=\"1\" class=\"dataframe\">\n",
       "  <thead>\n",
       "    <tr style=\"text-align: right;\">\n",
       "      <th></th>\n",
       "      <th>fldName</th>\n",
       "      <th>cmpLongName</th>\n",
       "      <th>fldOperatorFrom</th>\n",
       "      <th>fldOperatorTo</th>\n",
       "      <th>fldNpdidField</th>\n",
       "      <th>cmpNpdidCompany</th>\n",
       "      <th>fldOperatorDateUpdated</th>\n",
       "      <th>datesyncNPD</th>\n",
       "    </tr>\n",
       "  </thead>\n",
       "  <tbody>\n",
       "    <tr>\n",
       "      <th>0</th>\n",
       "      <td>ALBUSKJELL</td>\n",
       "      <td>Phillips Petroleum Company Norway</td>\n",
       "      <td>25.04.1975</td>\n",
       "      <td>22.10.2002</td>\n",
       "      <td>43437</td>\n",
       "      <td>694</td>\n",
       "      <td>03.10.2019</td>\n",
       "      <td>03.03.2022</td>\n",
       "    </tr>\n",
       "    <tr>\n",
       "      <th>1</th>\n",
       "      <td>ALBUSKJELL</td>\n",
       "      <td>ConocoPhillips Norge</td>\n",
       "      <td>23.10.2002</td>\n",
       "      <td>31.03.2003</td>\n",
       "      <td>43437</td>\n",
       "      <td>2144081</td>\n",
       "      <td>03.10.2019</td>\n",
       "      <td>03.03.2022</td>\n",
       "    </tr>\n",
       "    <tr>\n",
       "      <th>2</th>\n",
       "      <td>ALBUSKJELL</td>\n",
       "      <td>Phillips Petroleum Norsk AS</td>\n",
       "      <td>01.04.2003</td>\n",
       "      <td>05.05.2003</td>\n",
       "      <td>43437</td>\n",
       "      <td>705</td>\n",
       "      <td>03.10.2019</td>\n",
       "      <td>03.03.2022</td>\n",
       "    </tr>\n",
       "    <tr>\n",
       "      <th>3</th>\n",
       "      <td>ALBUSKJELL</td>\n",
       "      <td>ConocoPhillips Skandinavia AS</td>\n",
       "      <td>06.05.2003</td>\n",
       "      <td>NaN</td>\n",
       "      <td>43437</td>\n",
       "      <td>2410696</td>\n",
       "      <td>03.10.2019</td>\n",
       "      <td>03.03.2022</td>\n",
       "    </tr>\n",
       "    <tr>\n",
       "      <th>4</th>\n",
       "      <td>ALVE</td>\n",
       "      <td>Statoil ASA (old)</td>\n",
       "      <td>16.03.2007</td>\n",
       "      <td>30.09.2007</td>\n",
       "      <td>4444332</td>\n",
       "      <td>1622484</td>\n",
       "      <td>03.10.2019</td>\n",
       "      <td>03.03.2022</td>\n",
       "    </tr>\n",
       "  </tbody>\n",
       "</table>\n",
       "</div>"
      ],
      "text/plain": [
       "      fldName                        cmpLongName fldOperatorFrom  \\\n",
       "0  ALBUSKJELL  Phillips Petroleum Company Norway      25.04.1975   \n",
       "1  ALBUSKJELL               ConocoPhillips Norge      23.10.2002   \n",
       "2  ALBUSKJELL        Phillips Petroleum Norsk AS      01.04.2003   \n",
       "3  ALBUSKJELL      ConocoPhillips Skandinavia AS      06.05.2003   \n",
       "4        ALVE                  Statoil ASA (old)      16.03.2007   \n",
       "\n",
       "  fldOperatorTo  fldNpdidField  cmpNpdidCompany fldOperatorDateUpdated  \\\n",
       "0    22.10.2002          43437              694             03.10.2019   \n",
       "1    31.03.2003          43437          2144081             03.10.2019   \n",
       "2    05.05.2003          43437              705             03.10.2019   \n",
       "3           NaN          43437          2410696             03.10.2019   \n",
       "4    30.09.2007        4444332          1622484             03.10.2019   \n",
       "\n",
       "  datesyncNPD  \n",
       "0  03.03.2022  \n",
       "1  03.03.2022  \n",
       "2  03.03.2022  \n",
       "3  03.03.2022  \n",
       "4  03.03.2022  "
      ]
     },
     "execution_count": 25,
     "metadata": {},
     "output_type": "execute_result"
    }
   ],
   "source": [
    "dg.head()"
   ]
  },
  {
   "cell_type": "code",
   "execution_count": 26,
   "metadata": {},
   "outputs": [],
   "source": [
    "dg['from'] = pd.to_datetime(dg.fldOperatorFrom)\n",
    "dg['to'] = pd.to_datetime(dg.fldOperatorTo)\n",
    "dg['to'] = dg['to'].fillna(pd.to_datetime('today'))"
   ]
  },
  {
   "cell_type": "code",
   "execution_count": 27,
   "metadata": {},
   "outputs": [
    {
     "data": {
      "text/html": [
       "<div>\n",
       "<style scoped>\n",
       "    .dataframe tbody tr th:only-of-type {\n",
       "        vertical-align: middle;\n",
       "    }\n",
       "\n",
       "    .dataframe tbody tr th {\n",
       "        vertical-align: top;\n",
       "    }\n",
       "\n",
       "    .dataframe thead th {\n",
       "        text-align: right;\n",
       "    }\n",
       "</style>\n",
       "<table border=\"1\" class=\"dataframe\">\n",
       "  <thead>\n",
       "    <tr style=\"text-align: right;\">\n",
       "      <th></th>\n",
       "      <th>fldName</th>\n",
       "      <th>cmpLongName</th>\n",
       "      <th>fldOperatorFrom</th>\n",
       "      <th>fldOperatorTo</th>\n",
       "      <th>fldNpdidField</th>\n",
       "      <th>cmpNpdidCompany</th>\n",
       "      <th>fldOperatorDateUpdated</th>\n",
       "      <th>datesyncNPD</th>\n",
       "      <th>from</th>\n",
       "      <th>to</th>\n",
       "    </tr>\n",
       "  </thead>\n",
       "  <tbody>\n",
       "    <tr>\n",
       "      <th>0</th>\n",
       "      <td>ALBUSKJELL</td>\n",
       "      <td>Phillips Petroleum Company Norway</td>\n",
       "      <td>25.04.1975</td>\n",
       "      <td>22.10.2002</td>\n",
       "      <td>43437</td>\n",
       "      <td>694</td>\n",
       "      <td>03.10.2019</td>\n",
       "      <td>03.03.2022</td>\n",
       "      <td>1975-04-25</td>\n",
       "      <td>2002-10-22 00:00:00.000000</td>\n",
       "    </tr>\n",
       "    <tr>\n",
       "      <th>1</th>\n",
       "      <td>ALBUSKJELL</td>\n",
       "      <td>ConocoPhillips Norge</td>\n",
       "      <td>23.10.2002</td>\n",
       "      <td>31.03.2003</td>\n",
       "      <td>43437</td>\n",
       "      <td>2144081</td>\n",
       "      <td>03.10.2019</td>\n",
       "      <td>03.03.2022</td>\n",
       "      <td>2002-10-23</td>\n",
       "      <td>2003-03-31 00:00:00.000000</td>\n",
       "    </tr>\n",
       "    <tr>\n",
       "      <th>2</th>\n",
       "      <td>ALBUSKJELL</td>\n",
       "      <td>Phillips Petroleum Norsk AS</td>\n",
       "      <td>01.04.2003</td>\n",
       "      <td>05.05.2003</td>\n",
       "      <td>43437</td>\n",
       "      <td>705</td>\n",
       "      <td>03.10.2019</td>\n",
       "      <td>03.03.2022</td>\n",
       "      <td>2003-01-04</td>\n",
       "      <td>2003-05-05 00:00:00.000000</td>\n",
       "    </tr>\n",
       "    <tr>\n",
       "      <th>3</th>\n",
       "      <td>ALBUSKJELL</td>\n",
       "      <td>ConocoPhillips Skandinavia AS</td>\n",
       "      <td>06.05.2003</td>\n",
       "      <td>NaN</td>\n",
       "      <td>43437</td>\n",
       "      <td>2410696</td>\n",
       "      <td>03.10.2019</td>\n",
       "      <td>03.03.2022</td>\n",
       "      <td>2003-06-05</td>\n",
       "      <td>2022-03-03 15:06:34.046455</td>\n",
       "    </tr>\n",
       "    <tr>\n",
       "      <th>4</th>\n",
       "      <td>ALVE</td>\n",
       "      <td>Statoil ASA (old)</td>\n",
       "      <td>16.03.2007</td>\n",
       "      <td>30.09.2007</td>\n",
       "      <td>4444332</td>\n",
       "      <td>1622484</td>\n",
       "      <td>03.10.2019</td>\n",
       "      <td>03.03.2022</td>\n",
       "      <td>2007-03-16</td>\n",
       "      <td>2007-09-30 00:00:00.000000</td>\n",
       "    </tr>\n",
       "  </tbody>\n",
       "</table>\n",
       "</div>"
      ],
      "text/plain": [
       "      fldName                        cmpLongName fldOperatorFrom  \\\n",
       "0  ALBUSKJELL  Phillips Petroleum Company Norway      25.04.1975   \n",
       "1  ALBUSKJELL               ConocoPhillips Norge      23.10.2002   \n",
       "2  ALBUSKJELL        Phillips Petroleum Norsk AS      01.04.2003   \n",
       "3  ALBUSKJELL      ConocoPhillips Skandinavia AS      06.05.2003   \n",
       "4        ALVE                  Statoil ASA (old)      16.03.2007   \n",
       "\n",
       "  fldOperatorTo  fldNpdidField  cmpNpdidCompany fldOperatorDateUpdated  \\\n",
       "0    22.10.2002          43437              694             03.10.2019   \n",
       "1    31.03.2003          43437          2144081             03.10.2019   \n",
       "2    05.05.2003          43437              705             03.10.2019   \n",
       "3           NaN          43437          2410696             03.10.2019   \n",
       "4    30.09.2007        4444332          1622484             03.10.2019   \n",
       "\n",
       "  datesyncNPD       from                         to  \n",
       "0  03.03.2022 1975-04-25 2002-10-22 00:00:00.000000  \n",
       "1  03.03.2022 2002-10-23 2003-03-31 00:00:00.000000  \n",
       "2  03.03.2022 2003-01-04 2003-05-05 00:00:00.000000  \n",
       "3  03.03.2022 2003-06-05 2022-03-03 15:06:34.046455  \n",
       "4  03.03.2022 2007-03-16 2007-09-30 00:00:00.000000  "
      ]
     },
     "execution_count": 27,
     "metadata": {},
     "output_type": "execute_result"
    }
   ],
   "source": [
    "dg.head()"
   ]
  },
  {
   "cell_type": "markdown",
   "metadata": {},
   "source": [
    "Let's get the operator of each field, for each month, and put it in our production dataframe.\n",
    "\n",
    "There is probably a more elegant way to do this with `join` or `merge` or something... but I can't figure it out."
   ]
  },
  {
   "cell_type": "code",
   "execution_count": 30,
   "metadata": {
    "scrolled": true
   },
   "outputs": [],
   "source": [
    "import numpy as np\n",
    "\n",
    "def process_row(row):\n",
    "    \"\"\"\n",
    "    Process a row in df to get the operator at that time.\n",
    "    \n",
    "    Note that 'name' is a special attribute for the current index.\n",
    "    \"\"\"\n",
    "    this_df = dg.loc[dg.fldName==row.field, :]\n",
    "    record = this_df.loc[(dg['from'] < row.name) & (row.name <= dg['to']), \"cmpLongName\"]\n",
    "    if any(record.values):\n",
    "        return record.values[0]\n",
    "    else:\n",
    "        return np.nan"
   ]
  },
  {
   "cell_type": "code",
   "execution_count": 31,
   "metadata": {},
   "outputs": [],
   "source": [
    "df['operator'] = df.apply(process_row, axis=1)"
   ]
  },
  {
   "cell_type": "code",
   "execution_count": 32,
   "metadata": {},
   "outputs": [
    {
     "data": {
      "text/plain": [
       "<matplotlib.legend.Legend at 0x7f40d7195fd0>"
      ]
     },
     "execution_count": 32,
     "metadata": {},
     "output_type": "execute_result"
    },
    {
     "data": {
      "image/png": "[encoded data removed]",
      "text/plain": [
       "<Figure size 720x432 with 1 Axes>"
      ]
     },
     "metadata": {
      "needs_background": "light"
     },
     "output_type": "display_data"
    }
   ],
   "source": [
    "plt.figure(figsize=(10,6))\n",
    "for name, group in df[df.field=='TROLL'].groupby('operator'):\n",
    "    plt.plot(group.oil, label=name)\n",
    "plt.legend()"
   ]
  },
  {
   "cell_type": "markdown",
   "metadata": {},
   "source": [
    "----\n",
    "\n",
    "&copy; 2022 Agile Scientific, licensed CC-BY"
   ]
  }
 ],
 "metadata": {
  "accelerator": "GPU",
  "celltoolbar": "Tags",
  "colab": {
   "name": "Pandas_with_NPD_data.ipynb",
   "provenance": [
    {
     "file_id": "https://github.com/kwinkunks/notebooks/blob/master/Pandas_with_NPD_data.ipynb",
     "timestamp": 1560162219087
    }
   ],
   "version": "0.3.2"
  },
  "kernelspec": {
   "display_name": "geoml",
   "language": "python",
   "name": "geoml"
  },
  "language_info": {
   "codemirror_mode": {
    "name": "ipython",
    "version": 3
   },
   "file_extension": ".py",
   "mimetype": "text/x-python",
   "name": "python",
   "nbconvert_exporter": "python",
   "pygments_lexer": "ipython3",
   "version": "3.9.12"
  }
 },
 "nbformat": 4,
 "nbformat_minor": 1
}
