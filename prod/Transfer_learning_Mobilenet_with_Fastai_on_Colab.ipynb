{
 "cells": [
  {
   "cell_type": "markdown",
   "metadata": {
    "colab_type": "text",
    "id": "cEd-dyysZTmc"
   },
   "source": [
    "# Transfer learning application using `fastai`\n",
    "\n",
    "Libraries built on top of `pytorch` such as `fastai` provide easy ways of using pre-trained models. The next snippets of code use a pre-trained `mobilenet` network and re-trains the last layer to classify our fossil dataset."
   ]
  },
  {
   "cell_type": "code",
   "execution_count": null,
   "metadata": {
    "colab": {},
    "colab_type": "code",
    "id": "kDL_mBEhZTmf"
   },
   "outputs": [],
   "source": [
    "from fastai.vision import ImageDataBunch, models, accuracy, cnn_learner, ClassificationInterpretation"
   ]
  },
  {
   "cell_type": "markdown",
   "metadata": {
    "colab_type": "text",
    "id": "9hqirNxNZTnY"
   },
   "source": [
    "Load the data using the `ImageDataBunch` object. Its method `from_folder` needs as an argument the parent directory where the images are. Note that it'll infer classes and will take care of processing all images so that they're consistent for training. You can also specify the location of a validation dataset in that directory. There are various other `from_` methods available. Check them out in the `fastai` [docs](https://docs.fast.ai/vision.data.html#ImageDataBunch)."
   ]
  },
  {
   "cell_type": "markdown",
   "metadata": {
    "colab_type": "text",
    "id": "QoqipZ-OaXwq"
   },
   "source": [
    "## Data loading - Local\n",
    "\n",
    "You can get the data here >> https://swung-data.s3.amazonaws.com/fossilnet/fossilnet-png-224px.zip"
   ]
  },
  {
   "cell_type": "code",
   "execution_count": null,
   "metadata": {
    "colab": {},
    "colab_type": "code",
    "id": "fXmnHE_baa6U"
   },
   "outputs": [],
   "source": [
    "import glob\n",
    "\n",
    "len([f for f in glob.glob(\"../data/fossils/fossilnet-png-224px/train/*/*\")])"
   ]
  },
  {
   "cell_type": "code",
   "execution_count": null,
   "metadata": {
    "colab": {},
    "colab_type": "code",
    "id": "FqtPlJRTabd5"
   },
   "outputs": [],
   "source": [
    "from PIL import Image\n",
    "\n",
    "Image.open('../data/fossils/fossilnet-png-224px/train/ammonites/00001.png')"
   ]
  },
  {
   "cell_type": "code",
   "execution_count": null,
   "metadata": {
    "colab": {},
    "colab_type": "code",
    "id": "V52LTb64abzD"
   },
   "outputs": [],
   "source": [
    "data_dir = '../data/fossils/fossilnet-png-224px/'"
   ]
  },
  {
   "cell_type": "markdown",
   "metadata": {
    "colab_type": "text",
    "id": "-d8vUMG8Zi1y"
   },
   "source": [
    "## Data loading - GDrive\n",
    "\n",
    "You will need to add this folder to your Google Drive: https://drive.google.com/drive/folders/14lrVjhBQP7z4eGP4mAQetPC-KD0a0RMo?usp=sharing\n",
    "\n",
    "This next cell is for loading the data on Google Drive:"
   ]
  },
  {
   "cell_type": "code",
   "execution_count": null,
   "metadata": {
    "colab": {},
    "colab_type": "code",
    "id": "Y9t92jetZmOE"
   },
   "outputs": [],
   "source": [
    "import glob\n",
    "from google.colab import drive\n",
    "\n",
    "drive.mount('/content/gdrive')\n",
    "\n",
    "len([f for f in glob.glob(\"/content/gdrive/My Drive/fossilnet/train/*/*.png\")])"
   ]
  },
  {
   "cell_type": "markdown",
   "metadata": {
    "colab_type": "text",
    "id": "xgr3JlUmZTna"
   },
   "source": [
    "This target directory contains:"
   ]
  },
  {
   "cell_type": "code",
   "execution_count": null,
   "metadata": {
    "colab": {},
    "colab_type": "code",
    "id": "zMwQz0iTZTnc"
   },
   "outputs": [],
   "source": [
    "ls \"/content/gdrive/My Drive/fossilnet/\""
   ]
  },
  {
   "cell_type": "markdown",
   "metadata": {
    "colab_type": "text",
    "id": "YuPskz6pZTnm"
   },
   "source": [
    "Inside each of those there's a per-class folder containing al the image files:"
   ]
  },
  {
   "cell_type": "code",
   "execution_count": null,
   "metadata": {
    "colab": {},
    "colab_type": "code",
    "id": "ViRibV_EZTno"
   },
   "outputs": [],
   "source": [
    "ls \"/content/gdrive/My Drive/fossilnet/train\""
   ]
  },
  {
   "cell_type": "code",
   "execution_count": null,
   "metadata": {
    "colab": {},
    "colab_type": "code",
    "id": "8-za0VSXaPJa"
   },
   "outputs": [],
   "source": [
    "from PIL import Image\n",
    "\n",
    "img = Image.open('/content/gdrive/My Drive/fossilnet/train/ammonites/00001.png')\n",
    "img"
   ]
  },
  {
   "cell_type": "code",
   "execution_count": null,
   "metadata": {
    "colab": {},
    "colab_type": "code",
    "id": "41u-UTDsan-t"
   },
   "outputs": [],
   "source": [
    "data_dir = \"/content/gdrive/My Drive/fossilnet/\""
   ]
  },
  {
   "cell_type": "markdown",
   "metadata": {
    "colab_type": "text",
    "id": "-Hvky3dYZTnz"
   },
   "source": [
    "## Make a `fastai` dataset\n",
    "\n",
    "We can instantiate the `ImageDataBunch` object to collect all images like this:"
   ]
  },
  {
   "cell_type": "code",
   "execution_count": null,
   "metadata": {
    "colab": {},
    "colab_type": "code",
    "id": "PxFxmJRFZTn1"
   },
   "outputs": [],
   "source": [
    "data = ImageDataBunch.from_folder(data_dir,\n",
    "                                  valid='val',\n",
    "                                  size=128,\n",
    "                                  classes=['ammonites', 'plants', 'fishes', 'trilobites'],\n",
    "                                 )"
   ]
  },
  {
   "cell_type": "markdown",
   "metadata": {
    "colab_type": "text",
    "id": "LwYeAA8dZTn-"
   },
   "source": [
    "We can create a \"learner\" object using a pre-trained network using the `cnn_learner` function. Note that this is where we specify what trained network we want to use and what metrics we want to track. Check out what other parameters and options there are in the fastai [docs](https://docs.fast.ai/vision.learner.html)"
   ]
  },
  {
   "cell_type": "code",
   "execution_count": null,
   "metadata": {
    "colab": {},
    "colab_type": "code",
    "id": "78R8AJMpaJ7r"
   },
   "outputs": [],
   "source": [
    "dir(models)"
   ]
  },
  {
   "cell_type": "code",
   "execution_count": null,
   "metadata": {
    "colab": {},
    "colab_type": "code",
    "id": "jwPYzNf2ZToA"
   },
   "outputs": [],
   "source": [
    "cnn = cnn_learner(data, models.mobilenet_v2, metrics=accuracy)"
   ]
  },
  {
   "cell_type": "markdown",
   "metadata": {
    "colab_type": "text",
    "id": "Rk8HscKmZToJ"
   },
   "source": [
    "Finally, train the learner. It'll take a few minutes."
   ]
  },
  {
   "cell_type": "code",
   "execution_count": null,
   "metadata": {
    "colab": {},
    "colab_type": "code",
    "id": "CnVtG9w8ZToL",
    "jupyter": {
     "outputs_hidden": true
    }
   },
   "outputs": [],
   "source": [
    "cnn.fit(5)"
   ]
  },
  {
   "cell_type": "code",
   "execution_count": null,
   "metadata": {
    "colab": {},
    "colab_type": "code",
    "id": "jygutBWvZToX"
   },
   "outputs": [],
   "source": [
    "from fastai.basics import DatasetType\n",
    "\n",
    "cnn.show_results(DatasetType.Train)"
   ]
  },
  {
   "cell_type": "markdown",
   "metadata": {
    "colab_type": "text",
    "id": "t4n-vprzZToh"
   },
   "source": [
    "## Inference\n",
    "\n",
    "We can make a prediction on a single image. The model 'knows' that it has to resize the image, etc."
   ]
  },
  {
   "cell_type": "code",
   "execution_count": null,
   "metadata": {
    "colab": {},
    "colab_type": "code",
    "id": "4aX2fv63ZToi"
   },
   "outputs": [],
   "source": [
    "from fastai.vision import open_image\n",
    "import requests\n",
    "import io"
   ]
  },
  {
   "cell_type": "code",
   "execution_count": null,
   "metadata": {
    "colab": {},
    "colab_type": "code",
    "id": "v7Cy0lCcZTor"
   },
   "outputs": [],
   "source": [
    "r = requests.get(\"https://geology.com/articles/green-river-fossils/fossil-fish-lg.jpg\")\n",
    "    \n",
    "item = open_image(io.BytesIO(r.content))\n",
    "\n",
    "cnn.predict(item)"
   ]
  },
  {
   "cell_type": "code",
   "execution_count": null,
   "metadata": {
    "colab": {},
    "colab_type": "code",
    "id": "gFAA2PY7ZToz"
   },
   "outputs": [],
   "source": [
    "cnn.data.classes"
   ]
  },
  {
   "cell_type": "markdown",
   "metadata": {
    "colab_type": "text",
    "id": "FlH958d1ZTpB"
   },
   "source": [
    "## More evaluation tools\n",
    "\n",
    "`fastai` also provides supporting objects to asses the quality of the predictions. Below, we'll use it to visualize the predictions of the worst performing classifications based on the training loop we ran above"
   ]
  },
  {
   "cell_type": "code",
   "execution_count": null,
   "metadata": {
    "colab": {},
    "colab_type": "code",
    "id": "muCKYY2EZTpD"
   },
   "outputs": [],
   "source": [
    "interp = ClassificationInterpretation.from_learner(cnn)"
   ]
  },
  {
   "cell_type": "code",
   "execution_count": null,
   "metadata": {
    "colab": {},
    "colab_type": "code",
    "id": "2k13aMa4ZTpP"
   },
   "outputs": [],
   "source": [
    "interp.confusion_matrix()"
   ]
  },
  {
   "cell_type": "code",
   "execution_count": null,
   "metadata": {
    "colab": {},
    "colab_type": "code",
    "id": "xKFj1Mz3ZTpY"
   },
   "outputs": [],
   "source": [
    "interp.plot_top_losses(9, figsize=(12,12))\n",
    "\n",
    "# 'Probability' is the P of the actual class."
   ]
  },
  {
   "cell_type": "code",
   "execution_count": null,
   "metadata": {
    "colab": {},
    "colab_type": "code",
    "id": "gB8lF_gcZTph"
   },
   "outputs": [],
   "source": []
  }
 ],
 "metadata": {
  "colab": {
   "name": "Transfer_learning_Mobilenet_with_Fastai.ipynb",
   "provenance": []
  },
  "kernelspec": {
   "display_name": "geoml",
   "language": "python",
   "name": "geoml"
  },
  "language_info": {
   "codemirror_mode": {
    "name": "ipython",
    "version": 3
   },
   "file_extension": ".py",
   "mimetype": "text/x-python",
   "name": "python",
   "nbconvert_exporter": "python",
   "pygments_lexer": "ipython3",
   "version": "3.7.10"
  }
 },
 "nbformat": 4,
 "nbformat_minor": 1
}
