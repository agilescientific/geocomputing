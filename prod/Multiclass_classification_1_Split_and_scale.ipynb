{
 "cells": [
  {
   "cell_type": "markdown",
   "metadata": {},
   "source": [
    "# Multiclass classification 1: Split and scale\n",
    "\n",
    "This notebook assumes you have some familiarity with:\n",
    "\n",
    "- Basic Python syntax and functions.\n",
    "- Numerics and visualization with NumPy and `matplotlib` or `seaborn`.\n",
    "- Exploratory data analysis with Pandas.\n",
    "- The essential concepts of supervised machine learning.\n",
    "- The fundamentals of machine learning algorithms.\n",
    "\n",
    "If you're a bit short on a couple of these elements, not to worry. There are other courses that cover them, but you might find that we breeze past some topics in this class. Ask questions and follow links!"
   ]
  },
  {
   "cell_type": "markdown",
   "metadata": {},
   "source": [
    "## The machine learning iterative loop"
   ]
  },
  {
   "cell_type": "markdown",
   "metadata": {},
   "source": [
    "![Iterative loop](../images/ML_loop.png)"
   ]
  },
  {
   "cell_type": "markdown",
   "metadata": {},
   "source": [
    "## The lithology prediction task"
   ]
  },
  {
   "cell_type": "markdown",
   "metadata": {},
   "source": [
    "<img src=\"../images/machine_learning_primer.png\"></img>"
   ]
  },
  {
   "cell_type": "markdown",
   "metadata": {},
   "source": [
    "## Load the data"
   ]
  },
  {
   "cell_type": "code",
   "execution_count": 2,
   "metadata": {},
   "outputs": [
    {
     "data": {
      "text/html": [
       "<div>\n",
       "<style scoped>\n",
       "    .dataframe tbody tr th:only-of-type {\n",
       "        vertical-align: middle;\n",
       "    }\n",
       "\n",
       "    .dataframe tbody tr th {\n",
       "        vertical-align: top;\n",
       "    }\n",
       "\n",
       "    .dataframe thead th {\n",
       "        text-align: right;\n",
       "    }\n",
       "</style>\n",
       "<table border=\"1\" class=\"dataframe\">\n",
       "  <thead>\n",
       "    <tr style=\"text-align: right;\">\n",
       "      <th></th>\n",
       "      <th>Well Name</th>\n",
       "      <th>Depth</th>\n",
       "      <th>Formation</th>\n",
       "      <th>RelPos</th>\n",
       "      <th>Marine</th>\n",
       "      <th>GR</th>\n",
       "      <th>ILD</th>\n",
       "      <th>DeltaPHI</th>\n",
       "      <th>PHIND</th>\n",
       "      <th>PE</th>\n",
       "      <th>Facies</th>\n",
       "      <th>LATITUDE</th>\n",
       "      <th>LONGITUDE</th>\n",
       "      <th>ILD_log10</th>\n",
       "      <th>Lithology</th>\n",
       "      <th>RHOB</th>\n",
       "      <th>Mineralogy</th>\n",
       "      <th>Siliciclastic</th>\n",
       "    </tr>\n",
       "  </thead>\n",
       "  <tbody>\n",
       "    <tr>\n",
       "      <th>0</th>\n",
       "      <td>SHRIMPLIN</td>\n",
       "      <td>851.3064</td>\n",
       "      <td>A1 SH</td>\n",
       "      <td>1.000</td>\n",
       "      <td>1</td>\n",
       "      <td>77.45</td>\n",
       "      <td>4.613176</td>\n",
       "      <td>9.9</td>\n",
       "      <td>11.915</td>\n",
       "      <td>4.6</td>\n",
       "      <td>3.0</td>\n",
       "      <td>37.978076</td>\n",
       "      <td>-100.987305</td>\n",
       "      <td>0.664</td>\n",
       "      <td>siltstone</td>\n",
       "      <td>2393.499945</td>\n",
       "      <td>siliciclastic</td>\n",
       "      <td>True</td>\n",
       "    </tr>\n",
       "    <tr>\n",
       "      <th>1</th>\n",
       "      <td>SHRIMPLIN</td>\n",
       "      <td>851.4588</td>\n",
       "      <td>A1 SH</td>\n",
       "      <td>0.979</td>\n",
       "      <td>1</td>\n",
       "      <td>78.26</td>\n",
       "      <td>4.581419</td>\n",
       "      <td>14.2</td>\n",
       "      <td>12.565</td>\n",
       "      <td>4.1</td>\n",
       "      <td>3.0</td>\n",
       "      <td>37.978076</td>\n",
       "      <td>-100.987305</td>\n",
       "      <td>0.661</td>\n",
       "      <td>siltstone</td>\n",
       "      <td>2416.119814</td>\n",
       "      <td>siliciclastic</td>\n",
       "      <td>True</td>\n",
       "    </tr>\n",
       "    <tr>\n",
       "      <th>2</th>\n",
       "      <td>SHRIMPLIN</td>\n",
       "      <td>851.6112</td>\n",
       "      <td>A1 SH</td>\n",
       "      <td>0.957</td>\n",
       "      <td>1</td>\n",
       "      <td>79.05</td>\n",
       "      <td>4.549881</td>\n",
       "      <td>14.8</td>\n",
       "      <td>13.050</td>\n",
       "      <td>3.6</td>\n",
       "      <td>3.0</td>\n",
       "      <td>37.978076</td>\n",
       "      <td>-100.987305</td>\n",
       "      <td>0.658</td>\n",
       "      <td>siltstone</td>\n",
       "      <td>2404.576056</td>\n",
       "      <td>siliciclastic</td>\n",
       "      <td>True</td>\n",
       "    </tr>\n",
       "    <tr>\n",
       "      <th>3</th>\n",
       "      <td>SHRIMPLIN</td>\n",
       "      <td>851.7636</td>\n",
       "      <td>A1 SH</td>\n",
       "      <td>0.936</td>\n",
       "      <td>1</td>\n",
       "      <td>86.10</td>\n",
       "      <td>4.518559</td>\n",
       "      <td>13.9</td>\n",
       "      <td>13.115</td>\n",
       "      <td>3.5</td>\n",
       "      <td>3.0</td>\n",
       "      <td>37.978076</td>\n",
       "      <td>-100.987305</td>\n",
       "      <td>0.655</td>\n",
       "      <td>siltstone</td>\n",
       "      <td>2393.249071</td>\n",
       "      <td>siliciclastic</td>\n",
       "      <td>True</td>\n",
       "    </tr>\n",
       "    <tr>\n",
       "      <th>4</th>\n",
       "      <td>SHRIMPLIN</td>\n",
       "      <td>851.9160</td>\n",
       "      <td>A1 SH</td>\n",
       "      <td>0.915</td>\n",
       "      <td>1</td>\n",
       "      <td>74.58</td>\n",
       "      <td>4.436086</td>\n",
       "      <td>13.5</td>\n",
       "      <td>13.300</td>\n",
       "      <td>3.4</td>\n",
       "      <td>3.0</td>\n",
       "      <td>37.978076</td>\n",
       "      <td>-100.987305</td>\n",
       "      <td>0.647</td>\n",
       "      <td>siltstone</td>\n",
       "      <td>2382.602601</td>\n",
       "      <td>siliciclastic</td>\n",
       "      <td>True</td>\n",
       "    </tr>\n",
       "  </tbody>\n",
       "</table>\n",
       "</div>"
      ],
      "text/plain": [
       "   Well Name     Depth Formation  RelPos  Marine     GR       ILD  DeltaPHI  \\\n",
       "0  SHRIMPLIN  851.3064     A1 SH   1.000       1  77.45  4.613176       9.9   \n",
       "1  SHRIMPLIN  851.4588     A1 SH   0.979       1  78.26  4.581419      14.2   \n",
       "2  SHRIMPLIN  851.6112     A1 SH   0.957       1  79.05  4.549881      14.8   \n",
       "3  SHRIMPLIN  851.7636     A1 SH   0.936       1  86.10  4.518559      13.9   \n",
       "4  SHRIMPLIN  851.9160     A1 SH   0.915       1  74.58  4.436086      13.5   \n",
       "\n",
       "    PHIND   PE  Facies   LATITUDE   LONGITUDE  ILD_log10  Lithology  \\\n",
       "0  11.915  4.6     3.0  37.978076 -100.987305      0.664  siltstone   \n",
       "1  12.565  4.1     3.0  37.978076 -100.987305      0.661  siltstone   \n",
       "2  13.050  3.6     3.0  37.978076 -100.987305      0.658  siltstone   \n",
       "3  13.115  3.5     3.0  37.978076 -100.987305      0.655  siltstone   \n",
       "4  13.300  3.4     3.0  37.978076 -100.987305      0.647  siltstone   \n",
       "\n",
       "          RHOB     Mineralogy  Siliciclastic  \n",
       "0  2393.499945  siliciclastic           True  \n",
       "1  2416.119814  siliciclastic           True  \n",
       "2  2404.576056  siliciclastic           True  \n",
       "3  2393.249071  siliciclastic           True  \n",
       "4  2382.602601  siliciclastic           True  "
      ]
     },
     "execution_count": 2,
     "metadata": {},
     "output_type": "execute_result"
    }
   ],
   "source": [
    "import pandas as pd\n",
    "\n",
    "df = pd.read_csv('https://geocomp.s3.amazonaws.com/data/Panoma_training_data.csv')\n",
    "df.head()"
   ]
  },
  {
   "cell_type": "code",
   "execution_count": 3,
   "metadata": {
    "tags": [
     "hide"
    ]
   },
   "outputs": [
    {
     "data": {
      "text/html": [
       "<div>\n",
       "<style scoped>\n",
       "    .dataframe tbody tr th:only-of-type {\n",
       "        vertical-align: middle;\n",
       "    }\n",
       "\n",
       "    .dataframe tbody tr th {\n",
       "        vertical-align: top;\n",
       "    }\n",
       "\n",
       "    .dataframe thead th {\n",
       "        text-align: right;\n",
       "    }\n",
       "</style>\n",
       "<table border=\"1\" class=\"dataframe\">\n",
       "  <thead>\n",
       "    <tr style=\"text-align: right;\">\n",
       "      <th></th>\n",
       "      <th>Depth</th>\n",
       "      <th>RelPos</th>\n",
       "      <th>Marine</th>\n",
       "      <th>GR</th>\n",
       "      <th>ILD</th>\n",
       "      <th>DeltaPHI</th>\n",
       "      <th>PHIND</th>\n",
       "      <th>PE</th>\n",
       "      <th>Facies</th>\n",
       "      <th>LATITUDE</th>\n",
       "      <th>LONGITUDE</th>\n",
       "      <th>ILD_log10</th>\n",
       "      <th>RHOB</th>\n",
       "    </tr>\n",
       "  </thead>\n",
       "  <tbody>\n",
       "    <tr>\n",
       "      <th>count</th>\n",
       "      <td>3966.000000</td>\n",
       "      <td>3966.000000</td>\n",
       "      <td>3966.000000</td>\n",
       "      <td>3966.000000</td>\n",
       "      <td>3966.000000</td>\n",
       "      <td>3966.000000</td>\n",
       "      <td>3966.000000</td>\n",
       "      <td>3966.000000</td>\n",
       "      <td>3966.000000</td>\n",
       "      <td>3966.000000</td>\n",
       "      <td>3966.000000</td>\n",
       "      <td>3966.000000</td>\n",
       "      <td>3966.000000</td>\n",
       "    </tr>\n",
       "    <tr>\n",
       "      <th>mean</th>\n",
       "      <td>882.674555</td>\n",
       "      <td>0.524999</td>\n",
       "      <td>1.325013</td>\n",
       "      <td>64.367899</td>\n",
       "      <td>5.240308</td>\n",
       "      <td>3.469088</td>\n",
       "      <td>13.008807</td>\n",
       "      <td>3.686427</td>\n",
       "      <td>4.471004</td>\n",
       "      <td>37.632575</td>\n",
       "      <td>-101.294895</td>\n",
       "      <td>0.648860</td>\n",
       "      <td>2288.861692</td>\n",
       "    </tr>\n",
       "    <tr>\n",
       "      <th>std</th>\n",
       "      <td>40.150056</td>\n",
       "      <td>0.286375</td>\n",
       "      <td>0.589539</td>\n",
       "      <td>28.414603</td>\n",
       "      <td>3.190416</td>\n",
       "      <td>4.922310</td>\n",
       "      <td>6.936391</td>\n",
       "      <td>0.815113</td>\n",
       "      <td>2.406180</td>\n",
       "      <td>0.299398</td>\n",
       "      <td>0.230454</td>\n",
       "      <td>0.251542</td>\n",
       "      <td>218.038459</td>\n",
       "    </tr>\n",
       "    <tr>\n",
       "      <th>min</th>\n",
       "      <td>784.402800</td>\n",
       "      <td>0.010000</td>\n",
       "      <td>0.000000</td>\n",
       "      <td>12.036000</td>\n",
       "      <td>0.340408</td>\n",
       "      <td>-21.832000</td>\n",
       "      <td>0.550000</td>\n",
       "      <td>0.200000</td>\n",
       "      <td>1.000000</td>\n",
       "      <td>37.180732</td>\n",
       "      <td>-101.646452</td>\n",
       "      <td>-0.468000</td>\n",
       "      <td>1500.000000</td>\n",
       "    </tr>\n",
       "    <tr>\n",
       "      <th>25%</th>\n",
       "      <td>858.012000</td>\n",
       "      <td>0.282000</td>\n",
       "      <td>1.000000</td>\n",
       "      <td>45.311250</td>\n",
       "      <td>3.169567</td>\n",
       "      <td>1.000000</td>\n",
       "      <td>8.196250</td>\n",
       "      <td>3.123000</td>\n",
       "      <td>2.000000</td>\n",
       "      <td>37.356426</td>\n",
       "      <td>-101.389189</td>\n",
       "      <td>0.501000</td>\n",
       "      <td>2201.007475</td>\n",
       "    </tr>\n",
       "    <tr>\n",
       "      <th>50%</th>\n",
       "      <td>888.339600</td>\n",
       "      <td>0.531000</td>\n",
       "      <td>1.000000</td>\n",
       "      <td>64.840000</td>\n",
       "      <td>4.305266</td>\n",
       "      <td>3.292500</td>\n",
       "      <td>11.781500</td>\n",
       "      <td>3.514500</td>\n",
       "      <td>4.000000</td>\n",
       "      <td>37.500380</td>\n",
       "      <td>-101.325130</td>\n",
       "      <td>0.634000</td>\n",
       "      <td>2342.202051</td>\n",
       "    </tr>\n",
       "    <tr>\n",
       "      <th>75%</th>\n",
       "      <td>913.028400</td>\n",
       "      <td>0.773000</td>\n",
       "      <td>2.000000</td>\n",
       "      <td>78.809750</td>\n",
       "      <td>6.664234</td>\n",
       "      <td>6.124750</td>\n",
       "      <td>16.050000</td>\n",
       "      <td>4.241750</td>\n",
       "      <td>6.000000</td>\n",
       "      <td>37.910583</td>\n",
       "      <td>-101.106045</td>\n",
       "      <td>0.823750</td>\n",
       "      <td>2434.166399</td>\n",
       "    </tr>\n",
       "    <tr>\n",
       "      <th>max</th>\n",
       "      <td>963.320400</td>\n",
       "      <td>1.000000</td>\n",
       "      <td>2.000000</td>\n",
       "      <td>200.000000</td>\n",
       "      <td>32.136605</td>\n",
       "      <td>18.600000</td>\n",
       "      <td>52.369000</td>\n",
       "      <td>8.094000</td>\n",
       "      <td>9.000000</td>\n",
       "      <td>38.063373</td>\n",
       "      <td>-100.987305</td>\n",
       "      <td>1.507000</td>\n",
       "      <td>2802.871147</td>\n",
       "    </tr>\n",
       "  </tbody>\n",
       "</table>\n",
       "</div>"
      ],
      "text/plain": [
       "             Depth       RelPos       Marine           GR          ILD  \\\n",
       "count  3966.000000  3966.000000  3966.000000  3966.000000  3966.000000   \n",
       "mean    882.674555     0.524999     1.325013    64.367899     5.240308   \n",
       "std      40.150056     0.286375     0.589539    28.414603     3.190416   \n",
       "min     784.402800     0.010000     0.000000    12.036000     0.340408   \n",
       "25%     858.012000     0.282000     1.000000    45.311250     3.169567   \n",
       "50%     888.339600     0.531000     1.000000    64.840000     4.305266   \n",
       "75%     913.028400     0.773000     2.000000    78.809750     6.664234   \n",
       "max     963.320400     1.000000     2.000000   200.000000    32.136605   \n",
       "\n",
       "          DeltaPHI        PHIND           PE       Facies     LATITUDE  \\\n",
       "count  3966.000000  3966.000000  3966.000000  3966.000000  3966.000000   \n",
       "mean      3.469088    13.008807     3.686427     4.471004    37.632575   \n",
       "std       4.922310     6.936391     0.815113     2.406180     0.299398   \n",
       "min     -21.832000     0.550000     0.200000     1.000000    37.180732   \n",
       "25%       1.000000     8.196250     3.123000     2.000000    37.356426   \n",
       "50%       3.292500    11.781500     3.514500     4.000000    37.500380   \n",
       "75%       6.124750    16.050000     4.241750     6.000000    37.910583   \n",
       "max      18.600000    52.369000     8.094000     9.000000    38.063373   \n",
       "\n",
       "         LONGITUDE    ILD_log10         RHOB  \n",
       "count  3966.000000  3966.000000  3966.000000  \n",
       "mean   -101.294895     0.648860  2288.861692  \n",
       "std       0.230454     0.251542   218.038459  \n",
       "min    -101.646452    -0.468000  1500.000000  \n",
       "25%    -101.389189     0.501000  2201.007475  \n",
       "50%    -101.325130     0.634000  2342.202051  \n",
       "75%    -101.106045     0.823750  2434.166399  \n",
       "max    -100.987305     1.507000  2802.871147  "
      ]
     },
     "execution_count": 3,
     "metadata": {},
     "output_type": "execute_result"
    }
   ],
   "source": [
    "df.describe()"
   ]
  },
  {
   "cell_type": "code",
   "execution_count": 4,
   "metadata": {
    "tags": [
     "hide"
    ]
   },
   "outputs": [
    {
     "ename": "NameError",
     "evalue": "name 'plt' is not defined",
     "output_type": "error",
     "traceback": [
      "\u001b[0;31m---------------------------------------------------------------------------\u001b[0m",
      "\u001b[0;31mNameError\u001b[0m                                 Traceback (most recent call last)",
      "\u001b[0;32m/tmp/ipykernel_1793079/3496842422.py\u001b[0m in \u001b[0;36m<module>\u001b[0;34m\u001b[0m\n\u001b[0;32m----> 1\u001b[0;31m \u001b[0mplt\u001b[0m\u001b[0;34m.\u001b[0m\u001b[0mfigure\u001b[0m\u001b[0;34m(\u001b[0m\u001b[0mfigsize\u001b[0m\u001b[0;34m=\u001b[0m\u001b[0;34m(\u001b[0m\u001b[0;36m12\u001b[0m\u001b[0;34m,\u001b[0m \u001b[0;36m10\u001b[0m\u001b[0;34m)\u001b[0m\u001b[0;34m)\u001b[0m\u001b[0;34m\u001b[0m\u001b[0;34m\u001b[0m\u001b[0m\n\u001b[0m\u001b[1;32m      2\u001b[0m \u001b[0msns\u001b[0m\u001b[0;34m.\u001b[0m\u001b[0mheatmap\u001b[0m\u001b[0;34m(\u001b[0m\u001b[0mdf\u001b[0m\u001b[0;34m.\u001b[0m\u001b[0mcorr\u001b[0m\u001b[0;34m(\u001b[0m\u001b[0;34m)\u001b[0m\u001b[0;34m)\u001b[0m\u001b[0;34m\u001b[0m\u001b[0;34m\u001b[0m\u001b[0m\n",
      "\u001b[0;31mNameError\u001b[0m: name 'plt' is not defined"
     ]
    }
   ],
   "source": [
    "import matplotlib.pyplot as plt\n",
    "import seaborn as sns\n",
    "\n",
    "plt.figure(figsize=(12, 10))\n",
    "sns.heatmap(df.corr())"
   ]
  },
  {
   "cell_type": "markdown",
   "metadata": {},
   "source": [
    "## Make `X` and `y`"
   ]
  },
  {
   "cell_type": "markdown",
   "metadata": {
    "tags": [
     "exercise"
    ]
   },
   "source": [
    "### EXERCISE\n",
    "\n",
    "**Make the `X` and `y` arrays we'll use for training.** `X` is going to be the columns `'GR', 'RHOB', 'PE', 'ILD_log10'` and `y` will be the `'Lithology'` column. Cast the data to NumPy arrays. <a title=\"Use ordinary dict-style indexing to get the columns out of the DataFrame. Use the values attribute of the columns to get the equivalent NumPy array.\"><b>Hover for HINT</b></a>"
   ]
  },
  {
   "cell_type": "code",
   "execution_count": 2,
   "metadata": {},
   "outputs": [
    {
     "ename": "SyntaxError",
     "evalue": "invalid syntax (18259793.py, line 3)",
     "output_type": "error",
     "traceback": [
      "\u001b[0;36m  File \u001b[0;32m\"/tmp/ipykernel_1421487/18259793.py\"\u001b[0;36m, line \u001b[0;32m3\u001b[0m\n\u001b[0;31m    X =\u001b[0m\n\u001b[0m        ^\u001b[0m\n\u001b[0;31mSyntaxError\u001b[0m\u001b[0;31m:\u001b[0m invalid syntax\n"
     ]
    }
   ],
   "source": [
    "# YOUR CODE HERE\n",
    "features = [...]\n",
    "X = \n",
    "y = "
   ]
  },
  {
   "cell_type": "code",
   "execution_count": 1,
   "metadata": {
    "tags": [
     "hide"
    ]
   },
   "outputs": [
    {
     "ename": "NameError",
     "evalue": "name 'df' is not defined",
     "output_type": "error",
     "traceback": [
      "\u001b[0;31m---------------------------------------------------------------------------\u001b[0m",
      "\u001b[0;31mNameError\u001b[0m                                 Traceback (most recent call last)",
      "\u001b[0;32m/tmp/ipykernel_2283178/2007274674.py\u001b[0m in \u001b[0;36m<module>\u001b[0;34m\u001b[0m\n\u001b[1;32m      2\u001b[0m \u001b[0;34m\u001b[0m\u001b[0m\n\u001b[1;32m      3\u001b[0m \u001b[0;31m# You *can* leave these as Pandas objects, but I prefer NumPy arrays, especially for plotting.\u001b[0m\u001b[0;34m\u001b[0m\u001b[0;34m\u001b[0m\u001b[0m\n\u001b[0;32m----> 4\u001b[0;31m \u001b[0mX\u001b[0m \u001b[0;34m=\u001b[0m \u001b[0mdf\u001b[0m\u001b[0;34m[\u001b[0m\u001b[0mfeatures\u001b[0m\u001b[0;34m]\u001b[0m\u001b[0;34m.\u001b[0m\u001b[0mvalues\u001b[0m\u001b[0;34m\u001b[0m\u001b[0;34m\u001b[0m\u001b[0m\n\u001b[0m\u001b[1;32m      5\u001b[0m \u001b[0my\u001b[0m \u001b[0;34m=\u001b[0m \u001b[0mdf\u001b[0m\u001b[0;34m[\u001b[0m\u001b[0;34m'Lithology'\u001b[0m\u001b[0;34m]\u001b[0m\u001b[0;34m.\u001b[0m\u001b[0mvalues\u001b[0m\u001b[0;34m\u001b[0m\u001b[0;34m\u001b[0m\u001b[0m\n",
      "\u001b[0;31mNameError\u001b[0m: name 'df' is not defined"
     ]
    }
   ],
   "source": [
    "features = ['GR', 'RHOB', 'PE', 'ILD_log10']\n",
    "\n",
    "# You *can* leave these as Pandas objects, but I prefer NumPy arrays, especially for plotting.\n",
    "X = df[features].values\n",
    "y = df['Lithology'].values"
   ]
  },
  {
   "cell_type": "code",
   "execution_count": 6,
   "metadata": {},
   "outputs": [],
   "source": [
    "N, M = X.shape\n",
    "assert N >= 3900, \"There should be more records\"\n",
    "assert M == 4, \"There should be 4 features\"\n",
    "assert y.size == N, \"The length of y should match X\""
   ]
  },
  {
   "cell_type": "markdown",
   "metadata": {},
   "source": [
    "## What not to do\n",
    "\n",
    "We've all seen the YouTube videos on `sklearn`, this should be easy!"
   ]
  },
  {
   "cell_type": "code",
   "execution_count": 7,
   "metadata": {},
   "outputs": [],
   "source": [
    "from sklearn.neighbors import KNeighborsClassifier\n",
    "\n"
   ]
  },
  {
   "cell_type": "code",
   "execution_count": 8,
   "metadata": {
    "tags": [
     "hide"
    ]
   },
   "outputs": [
    {
     "name": "stdout",
     "output_type": "stream",
     "text": [
      "0.68910741301059\n"
     ]
    }
   ],
   "source": [
    "from sklearn.neighbors import KNeighborsClassifier\n",
    "\n",
    "clf = KNeighborsClassifier()\n",
    "\n",
    "clf.fit(X, y)\n",
    "\n",
    "print(clf.score(X, y))"
   ]
  },
  {
   "cell_type": "markdown",
   "metadata": {},
   "source": [
    "❓ **What do you think of this? Do you trust this model?**\n",
    "\n",
    "<br /> <br /> <br /> <br /> <br /> <br /> <br /> <br /> <br /> <br /> <br /> <br /> <br /> <br /> <br /> <br /> <br /> <br /> <br /> <br /> <br /> "
   ]
  },
  {
   "cell_type": "markdown",
   "metadata": {
    "tags": [
     "hide"
    ]
   },
   "source": [
    "Problems:\n",
    "\n",
    "- Using all of the data, so only have training score. But the model has seen this data. It gives us no idea how this will perform on future data. **We need to figure out how the model generalizes.**\n",
    "- We're not sure what this score represents.\n",
    "- Dion't know how it performs on the various classes.\n",
    "- Picked model out of the blue, without comparing to others.\n",
    "- This is quite a naive model so should not be the only one we try.\n",
    "- This model depends on distance and we did not scale our data.\n",
    "- No attempt to tune the model, e.g. which value of k is best?\n",
    "- No idea what baseline (e.g. dummy) performance is."
   ]
  },
  {
   "cell_type": "markdown",
   "metadata": {},
   "source": [
    "## Split the data\n",
    "\n",
    "We must split the data so that the model doesn't get to see everything."
   ]
  },
  {
   "cell_type": "code",
   "execution_count": 9,
   "metadata": {},
   "outputs": [],
   "source": [
    "from sklearn.model_selection import train_test_split\n",
    "\n",
    "X_train, X_test, y_train, y_test = train_test_split(X, y, test_size=0.4, random_state=42)"
   ]
  },
  {
   "cell_type": "markdown",
   "metadata": {},
   "source": [
    "Now we can train a model!\n",
    "\n",
    "**❓ Would we expect the score to go up or down?**"
   ]
  },
  {
   "cell_type": "code",
   "execution_count": 21,
   "metadata": {},
   "outputs": [
    {
     "name": "stdout",
     "output_type": "stream",
     "text": [
      "0.5652173913043478\n"
     ]
    }
   ],
   "source": [
    "clf = KNeighborsClassifier(n_neighbors=5)  # <- Hyperparameter.\n",
    "\n",
    "clf.fit(X_train, y_train)\n",
    "\n",
    "print(clf.score(X_test, y_test))"
   ]
  },
  {
   "cell_type": "markdown",
   "metadata": {},
   "source": [
    "Now we can mess about with the hyperparameters."
   ]
  },
  {
   "cell_type": "markdown",
   "metadata": {},
   "source": [
    "❓ **What do you think? Is one hold-out set enough?**\n",
    "\n",
    "<br /> <br /> <br /> <br /> <br /> <br /> <br /> <br /> <br /> <br /> <br /> <br /> <br /> <br /> <br /> <br /> <br /> <br /> <br /> <br /> <br /> "
   ]
  },
  {
   "cell_type": "markdown",
   "metadata": {},
   "source": [
    "In general, you need three datasets for training and evaulating models:\n",
    "\n",
    "- **Train** &mdash; For fitting a candidate model.\n",
    "- **Val** &mdash; For comparing different hyperparameter choices (model selection).\n",
    "- **Test** &mdash; For seeing how well the final model generalizes.\n",
    "\n",
    "Be careful; people give these different names sometimes. And people do different things with respect to comparing different algorithms &mdash; should we re-use the **Val** dataset, or use **Test**? If we use **Test**, are we possibly overfitting to that... \n",
    "\n",
    "Anyway, we at least need to split the validation set into two parts: one to validate against while selecting hyperparameters (sometimes also called the **dev** set), and one to assess the likely real-world performance of the trained model.\n",
    "\n",
    "Note that you should only predict on the **test** set once, at the end of model selection and tuning."
   ]
  },
  {
   "cell_type": "code",
   "execution_count": 9,
   "metadata": {},
   "outputs": [],
   "source": [
    "X_train, X_, y_train, y_ = train_test_split(X, y, test_size=0.4, random_state=42)\n",
    "X_val, X_test, y_val, y_test = train_test_split(X_, y_, test_size=0.5, random_state=42)"
   ]
  },
  {
   "cell_type": "code",
   "execution_count": 10,
   "metadata": {},
   "outputs": [
    {
     "name": "stdout",
     "output_type": "stream",
     "text": [
      "0.5649432534678437\n"
     ]
    }
   ],
   "source": [
    "clf = KNeighborsClassifier()\n",
    "\n",
    "clf.fit(X_train, y_train)\n",
    "\n",
    "print(clf.score(X_val, y_val))"
   ]
  },
  {
   "cell_type": "markdown",
   "metadata": {},
   "source": [
    "❓ **What do you think? Is this a fair test?**\n",
    "\n",
    "<br /> <br /> <br /> <br /> <br /> <br /> <br /> <br /> <br /> <br /> <br /> <br /> <br /> <br /> <br /> <br /> <br /> <br /> <br /> <br /> <br /> "
   ]
  },
  {
   "cell_type": "markdown",
   "metadata": {
    "tags": [
     "hide"
    ]
   },
   "source": [
    "No, it's not. It's leaky."
   ]
  },
  {
   "cell_type": "markdown",
   "metadata": {},
   "source": [
    "---\n",
    "\n",
    "## The IID assumption\n",
    "\n",
    "**IID** stands for **independent and identically distributed**, and most machine learning algorithms implicitly assume your data are IID. To put it another way: our samples are random.\n",
    "\n",
    "**❓ Are our records independent and identically distributed?**"
   ]
  },
  {
   "cell_type": "markdown",
   "metadata": {},
   "source": [
    "### Independent\n",
    "\n",
    "This would mean that the observations are independent of each other — they are unrelated. In other words, you can't predict one observation from another.\n",
    "\n",
    "Are our data records independent?\n",
    "\n",
    "When we split the data, how should this be done?\n",
    "\n",
    "[There's a pitfall here that no-one is immune to!](https://twitter.com/andrewyng/status/931026446717296640)"
   ]
  },
  {
   "cell_type": "code",
   "execution_count": null,
   "metadata": {},
   "outputs": [],
   "source": []
  },
  {
   "cell_type": "code",
   "execution_count": 11,
   "metadata": {
    "tags": [
     "hide"
    ]
   },
   "outputs": [
    {
     "data": {
      "text/plain": [
       "array(['SHRIMPLIN', 'SHANKLE', 'LUKE G U', 'CROSS H CATTLE', 'NOLAN',\n",
       "       'NEWBY', 'CHURCHMAN BIBLE', 'STUART', 'CRAWFORD'], dtype=object)"
      ]
     },
     "execution_count": 11,
     "metadata": {},
     "output_type": "execute_result"
    }
   ],
   "source": [
    "df['Well Name'].unique()"
   ]
  },
  {
   "cell_type": "markdown",
   "metadata": {
    "tags": [
     "exercise"
    ]
   },
   "source": [
    "### EXERCISE\n",
    "\n",
    "- Make a list of training wells that includes all the wells **except** `CROSS H CATTLE` and `SHANKLE`.\n",
    "- Use Pandas [`DataFrame.isin()`](https://pandas.pydata.org/docs/reference/api/pandas.DataFrame.isin.html) to select only those wells for training data (`X_train` and `y_train`).\n",
    "- Also make **val** and **test** sets out of `CROSS H CATTLE` and `SHANKLE` respectively.\n",
    "- Train a model and score on the **val** well. Do you expect a better or worse score than before?"
   ]
  },
  {
   "cell_type": "code",
   "execution_count": 12,
   "metadata": {},
   "outputs": [],
   "source": [
    "# YOUR CODE HERE\n",
    "\n"
   ]
  },
  {
   "cell_type": "code",
   "execution_count": null,
   "metadata": {
    "tags": [
     "hide"
    ]
   },
   "outputs": [],
   "source": [
    "train_wells = ['CHURCHMAN BIBLE', 'CRAWFORD' , 'LUKE G U', 'NEWBY', 'NOLAN', 'SHRIMPLIN', 'STUART']\n",
    "\n",
    "train_flag = df['Well Name'].isin(train_wells)\n",
    "\n",
    "X_train = df.loc[train_flag, features].values\n",
    "y_train = df.loc[train_flag, 'Lithology'].values\n",
    "\n",
    "X_test = df.loc[df['Well Name']=='CROSS H CATTLE', features].values\n",
    "y_test = df.loc[df['Well Name']=='CROSS H CATTLE', 'Lithology'].values\n",
    "\n",
    "X_val = df.loc[df['Well Name']=='SHANKLE', features].values\n",
    "y_val = df.loc[df['Well Name']=='SHANKLE', 'Lithology'].values\n",
    "\n",
    "clf = KNeighborsClassifier()\n",
    "\n",
    "clf.fit(X_train, y_train)\n",
    "\n",
    "print(clf.score(X_val, y_val))"
   ]
  },
  {
   "cell_type": "code",
   "execution_count": 13,
   "metadata": {
    "tags": [
     "hide"
    ]
   },
   "outputs": [
    {
     "name": "stdout",
     "output_type": "stream",
     "text": [
      "0.40725806451612906\n"
     ]
    }
   ],
   "source": [
    "print(clf.score(X_test, y_test))"
   ]
  },
  {
   "cell_type": "markdown",
   "metadata": {
    "tags": [
     "info"
    ]
   },
   "source": [
    "### Identically distributed\n",
    "\n",
    "In identically distributed datasets, the records all come from the same underlying distribution. If the first 10 records come from a particular normal distribution, the next 10 records must come from the same distribution.\n",
    "\n",
    "Is this the case in our data?\n",
    "\n",
    "When we split the data, how should this be done?\n",
    "\n",
    "Think of the classes in the data: sandstone, limestone, etc. There are not equal numbers of each lithology. When splitting the dataset, we need to ensure that we maintain the distribution **with respect to the labels**. \n",
    "\n",
    "Now think of the features: GR, RHOB, etc. These vary widely across the dataset. Clearly it would be bad to end up with all the high-GR samples in `train` with none in `val`: we would never validate those samples. So we also need to maintain the distribution of the data **with respect to the features**. \n",
    "\n",
    "The distributions don't really need to be totally identical, that would be impossible. But they should be very alike."
   ]
  },
  {
   "cell_type": "markdown",
   "metadata": {},
   "source": [
    "---\n",
    "\n",
    "## Split the data\n",
    "\n",
    "There are two general approaches to validation:\n",
    "\n",
    "![Validation strategies](../images/validation_strategies.png)\n",
    "\n",
    "We'll only keep three fully separate datasets if we can afford the data. Often we don't have as much data as we'd like and it's advantageous to combine **train** and **val** into a single dataset. Many people refer to this as 'cross validation' (though note that this can refer to the hold-out strategy as well).\n",
    "\n",
    "There are a few ways we could do this:\n",
    "\n",
    "- Randomly split the _records_ into **train**, **val** and **test** sets.\n",
    "- Split up _formations_ (or beds, or ages) into **train**, **val** and **test** sets.\n",
    "- Split up the _wells_ into **train**, **val** and **test** sets.\n",
    "- Split up _groups of wells_ into **train**, **val** and **test** sets.\n",
    "\n",
    "**❓ Which approach should we use?**"
   ]
  },
  {
   "cell_type": "markdown",
   "metadata": {
    "tags": [
     "exercise"
    ]
   },
   "source": [
    "### EXERCISE\n",
    "\n",
    "What is the distribution of lithologies across the entire dataset? You can make a small table, or a plot. <a title=\"Check out the value_counts() method on the dataframe\"><b>Hover for HINT</b></a>\n",
    "\n",
    "What is the distribution of lithologies across the wells? <a title=\"Check out pd.crosstab\"><b>Hover for HINT</b></a>"
   ]
  },
  {
   "cell_type": "code",
   "execution_count": 14,
   "metadata": {},
   "outputs": [],
   "source": [
    "# YOUR CODE HERE\n"
   ]
  },
  {
   "cell_type": "code",
   "execution_count": 15,
   "metadata": {
    "tags": [
     "hide"
    ]
   },
   "outputs": [
    {
     "data": {
      "text/plain": [
       "<AxesSubplot:>"
      ]
     },
     "execution_count": 15,
     "metadata": {},
     "output_type": "execute_result"
    },
    {
     "data": {
      "image/png": "[encoded data removed]",
      "text/plain": [
       "<Figure size 432x288 with 1 Axes>"
      ]
     },
     "metadata": {
      "needs_background": "light"
     },
     "output_type": "display_data"
    }
   ],
   "source": [
    "# Build this up.\n",
    "df['Lithology'].value_counts().plot(kind='bar')"
   ]
  },
  {
   "cell_type": "code",
   "execution_count": 16,
   "metadata": {
    "scrolled": true,
    "tags": [
     "hide"
    ]
   },
   "outputs": [
    {
     "data": {
      "text/html": [
       "<div>\n",
       "<style scoped>\n",
       "    .dataframe tbody tr th:only-of-type {\n",
       "        vertical-align: middle;\n",
       "    }\n",
       "\n",
       "    .dataframe tbody tr th {\n",
       "        vertical-align: top;\n",
       "    }\n",
       "\n",
       "    .dataframe thead th {\n",
       "        text-align: right;\n",
       "    }\n",
       "</style>\n",
       "<table border=\"1\" class=\"dataframe\">\n",
       "  <thead>\n",
       "    <tr style=\"text-align: right;\">\n",
       "      <th>Well Name</th>\n",
       "      <th>CHURCHMAN BIBLE</th>\n",
       "      <th>CRAWFORD</th>\n",
       "      <th>CROSS H CATTLE</th>\n",
       "      <th>LUKE G U</th>\n",
       "      <th>NEWBY</th>\n",
       "      <th>NOLAN</th>\n",
       "      <th>SHANKLE</th>\n",
       "      <th>SHRIMPLIN</th>\n",
       "      <th>STUART</th>\n",
       "    </tr>\n",
       "    <tr>\n",
       "      <th>Lithology</th>\n",
       "      <th></th>\n",
       "      <th></th>\n",
       "      <th></th>\n",
       "      <th></th>\n",
       "      <th></th>\n",
       "      <th></th>\n",
       "      <th></th>\n",
       "      <th></th>\n",
       "      <th></th>\n",
       "    </tr>\n",
       "  </thead>\n",
       "  <tbody>\n",
       "    <tr>\n",
       "      <th>dolomite</th>\n",
       "      <td>34</td>\n",
       "      <td>63</td>\n",
       "      <td>2</td>\n",
       "      <td>20</td>\n",
       "      <td>16</td>\n",
       "      <td>4</td>\n",
       "      <td>17</td>\n",
       "      <td>5</td>\n",
       "      <td>29</td>\n",
       "    </tr>\n",
       "    <tr>\n",
       "      <th>limestone</th>\n",
       "      <td>125</td>\n",
       "      <td>75</td>\n",
       "      <td>68</td>\n",
       "      <td>74</td>\n",
       "      <td>87</td>\n",
       "      <td>116</td>\n",
       "      <td>40</td>\n",
       "      <td>81</td>\n",
       "      <td>71</td>\n",
       "    </tr>\n",
       "    <tr>\n",
       "      <th>mudstone</th>\n",
       "      <td>43</td>\n",
       "      <td>55</td>\n",
       "      <td>53</td>\n",
       "      <td>37</td>\n",
       "      <td>86</td>\n",
       "      <td>75</td>\n",
       "      <td>26</td>\n",
       "      <td>81</td>\n",
       "      <td>87</td>\n",
       "    </tr>\n",
       "    <tr>\n",
       "      <th>sandstone</th>\n",
       "      <td>8</td>\n",
       "      <td>15</td>\n",
       "      <td>158</td>\n",
       "      <td>0</td>\n",
       "      <td>0</td>\n",
       "      <td>4</td>\n",
       "      <td>89</td>\n",
       "      <td>0</td>\n",
       "      <td>8</td>\n",
       "    </tr>\n",
       "    <tr>\n",
       "      <th>siltstone</th>\n",
       "      <td>106</td>\n",
       "      <td>77</td>\n",
       "      <td>184</td>\n",
       "      <td>246</td>\n",
       "      <td>178</td>\n",
       "      <td>186</td>\n",
       "      <td>205</td>\n",
       "      <td>241</td>\n",
       "      <td>163</td>\n",
       "    </tr>\n",
       "    <tr>\n",
       "      <th>wackestone</th>\n",
       "      <td>87</td>\n",
       "      <td>62</td>\n",
       "      <td>31</td>\n",
       "      <td>84</td>\n",
       "      <td>96</td>\n",
       "      <td>30</td>\n",
       "      <td>71</td>\n",
       "      <td>63</td>\n",
       "      <td>104</td>\n",
       "    </tr>\n",
       "  </tbody>\n",
       "</table>\n",
       "</div>"
      ],
      "text/plain": [
       "Well Name   CHURCHMAN BIBLE  CRAWFORD  CROSS H CATTLE  LUKE G U  NEWBY  NOLAN  \\\n",
       "Lithology                                                                       \n",
       "dolomite                 34        63               2        20     16      4   \n",
       "limestone               125        75              68        74     87    116   \n",
       "mudstone                 43        55              53        37     86     75   \n",
       "sandstone                 8        15             158         0      0      4   \n",
       "siltstone               106        77             184       246    178    186   \n",
       "wackestone               87        62              31        84     96     30   \n",
       "\n",
       "Well Name   SHANKLE  SHRIMPLIN  STUART  \n",
       "Lithology                               \n",
       "dolomite         17          5      29  \n",
       "limestone        40         81      71  \n",
       "mudstone         26         81      87  \n",
       "sandstone        89          0       8  \n",
       "siltstone       205        241     163  \n",
       "wackestone       71         63     104  "
      ]
     },
     "execution_count": 16,
     "metadata": {},
     "output_type": "execute_result"
    }
   ],
   "source": [
    "ct = pd.crosstab(df['Lithology'], df['Well Name'])\n",
    "\n",
    "ct"
   ]
  },
  {
   "cell_type": "markdown",
   "metadata": {},
   "source": [
    "We can also make a plot..."
   ]
  },
  {
   "cell_type": "code",
   "execution_count": 17,
   "metadata": {},
   "outputs": [
    {
     "data": {
      "image/png": "[encoded data removed]",
      "text/plain": [
       "<Figure size 1080x432 with 1 Axes>"
      ]
     },
     "metadata": {
      "needs_background": "light"
     },
     "output_type": "display_data"
    }
   ],
   "source": [
    "# Or we can make a matplotlib plot to represent the rocks:\n",
    "from matplotlib.colors import ListedColormap\n",
    "\n",
    "classes = {\n",
    "    'dolomite': '#C186C1',\n",
    "    'limestone': '#2E86C1',\n",
    "    'mudstone': '#C1C1C1',\n",
    "    'sandstone': '#F4D03F',\n",
    "    'siltstone': '#F3E8BF' ,\n",
    "    'wackestone': '#728393',\n",
    "}\n",
    "\n",
    "cmap_facies = ListedColormap(classes.values(), 'indexed')\n",
    "ax = ct.T.plot(kind='bar', stacked=True, rot=0, figsize=(15, 6), cmap=cmap_facies)\n",
    "_ = ax.legend(loc='center left', bbox_to_anchor=(1.0, 0.5))"
   ]
  },
  {
   "cell_type": "markdown",
   "metadata": {},
   "source": [
    "### Let's split!\n",
    "\n",
    "We're going to use a cross-validation strategy for the training wells, and only split out a test set.\n",
    "\n",
    "But if you have enough training data, it's probably better to stick to holdout sets."
   ]
  },
  {
   "cell_type": "code",
   "execution_count": 35,
   "metadata": {},
   "outputs": [],
   "source": [
    "test_wells = ['CRAWFORD']\n",
    "\n",
    "test_flag = df['Well Name'].isin(test_wells)\n",
    "\n",
    "X_test = df.loc[test_flag, features].values\n",
    "y_test = df.loc[test_flag, 'Lithology'].values\n",
    "\n",
    "X_train = df.loc[~test_flag, features].values\n",
    "y_train = df.loc[~test_flag, 'Lithology'].values\n",
    "\n",
    "# And we might need this later...\n",
    "wells = df.loc[~test_flag, 'Well Name'].values"
   ]
  },
  {
   "cell_type": "code",
   "execution_count": 36,
   "metadata": {},
   "outputs": [
    {
     "data": {
      "text/plain": [
       "((3619, 4), (3619,))"
      ]
     },
     "execution_count": 36,
     "metadata": {},
     "output_type": "execute_result"
    }
   ],
   "source": [
    "X_train.shape, y_train.shape"
   ]
  },
  {
   "cell_type": "markdown",
   "metadata": {},
   "source": [
    "### Sanity check the distributions\n",
    "\n",
    "Let's visualize the distributions over the features, for each of the datasets. We'd like the distributions to match, i.e. training matches val and test."
   ]
  },
  {
   "cell_type": "code",
   "execution_count": 38,
   "metadata": {},
   "outputs": [
    {
     "data": {
      "image/png": "[encoded data removed]",
      "text/plain": [
       "<Figure size 1008x216 with 4 Axes>"
      ]
     },
     "metadata": {
      "needs_background": "light"
     },
     "output_type": "display_data"
    }
   ],
   "source": [
    "import seaborn as sns\n",
    "import matplotlib.pyplot as plt\n",
    "\n",
    "fig, axs = plt.subplots(ncols=4, figsize=(14, 3))\n",
    "\n",
    "for ax, feature, *datasets in zip(axs, features, X_train.T, X_test.T):\n",
    "    for dataset in datasets:\n",
    "        sns.kdeplot(dataset, ax=ax)\n",
    "    ax.set_ylabel(None)\n",
    "    ax.set_title(feature)"
   ]
  },
  {
   "cell_type": "markdown",
   "metadata": {},
   "source": [
    "If you want a statistical measure of the similartity between two distributions, you can try [the Wasserstein distance](https://docs.scipy.org/doc/scipy/reference/generated/scipy.stats.wasserstein_distance.html). For example:"
   ]
  },
  {
   "cell_type": "code",
   "execution_count": 23,
   "metadata": {},
   "outputs": [
    {
     "data": {
      "text/plain": [
       "1.099132116955941"
      ]
     },
     "execution_count": 23,
     "metadata": {},
     "output_type": "execute_result"
    }
   ],
   "source": [
    "from scipy.stats import wasserstein_distance\n",
    "\n",
    "wasserstein_distance(X_train[:, 0], X_val[:, 0])"
   ]
  },
  {
   "cell_type": "markdown",
   "metadata": {
    "tags": [
     "exercise"
    ]
   },
   "source": [
    "### EXERCISE\n",
    "\n",
    "Measure the Wasserstein distance for the other features. What are these numbers telling you?"
   ]
  },
  {
   "cell_type": "code",
   "execution_count": null,
   "metadata": {},
   "outputs": [],
   "source": [
    "# YOUR CODE HERE\n",
    "\n"
   ]
  },
  {
   "cell_type": "code",
   "execution_count": 24,
   "metadata": {
    "tags": [
     "hide"
    ]
   },
   "outputs": [
    {
     "data": {
      "text/plain": [
       "5.529136520827839"
      ]
     },
     "execution_count": 24,
     "metadata": {},
     "output_type": "execute_result"
    }
   ],
   "source": [
    "from scipy.stats import wasserstein_distance\n",
    "\n",
    "wasserstein_distance(X_train[:, 1], X_val[:, 1])"
   ]
  },
  {
   "cell_type": "markdown",
   "metadata": {},
   "source": [
    "---\n",
    "\n",
    "## Scale the data\n",
    "\n",
    "Some methods don't care about the scale of the features. For example, decision trees and random forests treat each feature independently.\n",
    "\n",
    "However, most methods &mdash; for example those relying on distance (e.g. KNN, SVMs), or on linear combinations (e.g. linear regression), or on squeezing functions (e.g. neural nets) &mdash; require the data to be normalized or standardized:\n",
    "\n",
    "- **Normalization**: scaling to a range of [0, 1] or [-1, +1] for example. As a rule of thumb, you might do this for uniformly distributed data.\n",
    "- **Standardization**: scaling to a zero mean and unit variance (also known as Z-score). Do this for normally (Gaussian) distributed data.\n",
    "\n",
    "It's likely a good idea to scale it no matter which method you try.\n",
    "\n",
    "`scikit-learn` has lots of scalers. The `StandardScaler` removes the mean and scales the data to unit variance.\n",
    "\n",
    "Let's take a quick look at the data before scaling:"
   ]
  },
  {
   "cell_type": "code",
   "execution_count": 21,
   "metadata": {},
   "outputs": [
    {
     "data": {
      "image/png": "[encoded data removed]",
      "text/plain": [
       "<Figure size 432x288 with 1 Axes>"
      ]
     },
     "metadata": {
      "needs_background": "light"
     },
     "output_type": "display_data"
    }
   ],
   "source": [
    "import matplotlib.pyplot as plt\n",
    "\n",
    "plt.scatter(X_train[:, 0], X_train[:, 1])\n",
    "plt.show()"
   ]
  },
  {
   "cell_type": "markdown",
   "metadata": {},
   "source": [
    "Notice that interpreting this as a Euclidean space — which is how a lot of machine learning models are going to look at it — seems to distort the data, purely because of the (potentially arbitrary, as here) difference in scales across the features. "
   ]
  },
  {
   "cell_type": "code",
   "execution_count": 95,
   "metadata": {},
   "outputs": [
    {
     "data": {
      "image/png": "[encoded data removed]",
      "text/plain": [
       "<Figure size 432x288 with 1 Axes>"
      ]
     },
     "metadata": {
      "needs_background": "light"
     },
     "output_type": "display_data"
    }
   ],
   "source": [
    "x0, x1, x2 = X[3200, :2], X[898, :2], X[3114, :2]\n",
    "\n",
    "plt.scatter(X_train[:, 0], X_train[:, 1])\n",
    "plt.scatter(*x0.T, c='red', s=60)\n",
    "plt.scatter(*x1.T, c='gold', s=60)\n",
    "plt.scatter(*x2.T, c='orange', s=60)\n",
    "# plt.axis('equal')  # <-- Now uncomment this line to see how Euclid sees it!\n",
    "plt.show()"
   ]
  },
  {
   "cell_type": "markdown",
   "metadata": {},
   "source": [
    "We fit a scaler to the training data, then transform all the datasets, with a pattern that will become very familiar:"
   ]
  },
  {
   "cell_type": "code",
   "execution_count": 96,
   "metadata": {},
   "outputs": [],
   "source": [
    "from sklearn.preprocessing import StandardScaler\n",
    "\n",
    "scaler = StandardScaler()\n",
    "\n",
    "scaler.fit(X_train)\n",
    "\n",
    "X_scaled = scaler.transform(X_train)"
   ]
  },
  {
   "cell_type": "markdown",
   "metadata": {},
   "source": [
    "Note that we're not actually going to scale the data at this point. We'll scale it as part of the machine learning pipeline, so that we can split the data in arbitrary ways.\n",
    "\n",
    "Now let's plot the data using equal axes:"
   ]
  },
  {
   "cell_type": "code",
   "execution_count": 97,
   "metadata": {},
   "outputs": [
    {
     "data": {
      "image/png": "[encoded data removed]",
      "text/plain": [
       "<Figure size 432x288 with 1 Axes>"
      ]
     },
     "metadata": {
      "needs_background": "light"
     },
     "output_type": "display_data"
    }
   ],
   "source": [
    "s0 = scaler.transform(X)[3200, :2]\n",
    "s1 = scaler.transform(X)[898, :2]\n",
    "s2 = scaler.transform(X)[3114, :2]\n",
    "\n",
    "plt.scatter(X_scaled[:,0], X_scaled[:,1])\n",
    "plt.scatter(*s0.T, c='red', s=60)\n",
    "plt.scatter(*s1.T, c='gold', s=60)\n",
    "plt.scatter(*s2.T, c='orange', s=60)\n",
    "plt.axis('equal')\n",
    "plt.show()"
   ]
  },
  {
   "cell_type": "markdown",
   "metadata": {},
   "source": [
    "This is better.\n",
    "\n",
    "We also fixed the issue with the Wasserstein distance:"
   ]
  },
  {
   "cell_type": "code",
   "execution_count": 26,
   "metadata": {},
   "outputs": [
    {
     "ename": "NameError",
     "evalue": "name 'X_scaled' is not defined",
     "output_type": "error",
     "traceback": [
      "\u001b[0;31m---------------------------------------------------------------------------\u001b[0m",
      "\u001b[0;31mNameError\u001b[0m                                 Traceback (most recent call last)",
      "\u001b[0;32m/tmp/ipykernel_1793079/2670898643.py\u001b[0m in \u001b[0;36m<module>\u001b[0;34m\u001b[0m\n\u001b[1;32m      1\u001b[0m \u001b[0;32mfrom\u001b[0m \u001b[0mscipy\u001b[0m\u001b[0;34m.\u001b[0m\u001b[0mstats\u001b[0m \u001b[0;32mimport\u001b[0m \u001b[0mwasserstein_distance\u001b[0m\u001b[0;34m\u001b[0m\u001b[0;34m\u001b[0m\u001b[0m\n\u001b[1;32m      2\u001b[0m \u001b[0;34m\u001b[0m\u001b[0m\n\u001b[0;32m----> 3\u001b[0;31m \u001b[0mprint\u001b[0m\u001b[0;34m(\u001b[0m\u001b[0mwasserstein_distance\u001b[0m\u001b[0;34m(\u001b[0m\u001b[0mX_scaled\u001b[0m\u001b[0;34m[\u001b[0m\u001b[0;34m:\u001b[0m\u001b[0;34m,\u001b[0m \u001b[0;36m0\u001b[0m\u001b[0;34m]\u001b[0m\u001b[0;34m,\u001b[0m \u001b[0mscaler\u001b[0m\u001b[0;34m.\u001b[0m\u001b[0mtransform\u001b[0m\u001b[0;34m(\u001b[0m\u001b[0mX_val\u001b[0m\u001b[0;34m)\u001b[0m\u001b[0;34m[\u001b[0m\u001b[0;34m:\u001b[0m\u001b[0;34m,\u001b[0m \u001b[0;36m0\u001b[0m\u001b[0;34m]\u001b[0m\u001b[0;34m)\u001b[0m\u001b[0;34m)\u001b[0m\u001b[0;34m\u001b[0m\u001b[0;34m\u001b[0m\u001b[0m\n\u001b[0m\u001b[1;32m      4\u001b[0m \u001b[0mprint\u001b[0m\u001b[0;34m(\u001b[0m\u001b[0mwasserstein_distance\u001b[0m\u001b[0;34m(\u001b[0m\u001b[0mX_scaled\u001b[0m\u001b[0;34m[\u001b[0m\u001b[0;34m:\u001b[0m\u001b[0;34m,\u001b[0m \u001b[0;36m1\u001b[0m\u001b[0;34m]\u001b[0m\u001b[0;34m,\u001b[0m \u001b[0mscaler\u001b[0m\u001b[0;34m.\u001b[0m\u001b[0mtransform\u001b[0m\u001b[0;34m(\u001b[0m\u001b[0mX_val\u001b[0m\u001b[0;34m)\u001b[0m\u001b[0;34m[\u001b[0m\u001b[0;34m:\u001b[0m\u001b[0;34m,\u001b[0m \u001b[0;36m1\u001b[0m\u001b[0;34m]\u001b[0m\u001b[0;34m)\u001b[0m\u001b[0;34m)\u001b[0m\u001b[0;34m\u001b[0m\u001b[0;34m\u001b[0m\u001b[0m\n",
      "\u001b[0;31mNameError\u001b[0m: name 'X_scaled' is not defined"
     ]
    }
   ],
   "source": [
    "from scipy.stats import wasserstein_distance\n",
    "\n",
    "print(wasserstein_distance(X_scaled[:, 0], scaler.transform(X_val)[:, 0]))\n",
    "print(wasserstein_distance(X_scaled[:, 1], scaler.transform(X_val)[:, 1]))"
   ]
  },
  {
   "cell_type": "markdown",
   "metadata": {
    "tags": [
     "info"
    ]
   },
   "source": [
    "**NOTE**\n",
    "\n",
    "Data normalization doesn't magically fix problems with the data. If you're lumping a bunch of well data together and the GR, say, is calibrated differently in each well, or the RHOB units vary, then the scaled data will also have this problem. So you still need to QC your data to ensure it's internally consistent."
   ]
  },
  {
   "cell_type": "markdown",
   "metadata": {},
   "source": [
    "### ❓ Should you scale the target?\n",
    "\n",
    "There is usually no advantage to scaling the target, and it does make model evaluation a bit more fiddly, so we generally don't do it.\n",
    "\n",
    "The exception is for some neural network approaches. Very large magnitudes may result in 'exploding gradients', which in turn may result in 'saturation' (for some activation functions), or in very large updates to the parameters. Either way, the network will struggle to learn. So in these cases, we will sometimes scale a regression target for a neural network."
   ]
  },
  {
   "cell_type": "markdown",
   "metadata": {},
   "source": [
    "---\n",
    "\n",
    "## Freezing the data"
   ]
  },
  {
   "cell_type": "code",
   "execution_count": 44,
   "metadata": {},
   "outputs": [],
   "source": [
    "import numpy as np\n",
    "\n",
    "np.savez(\"All_data.npz\",\n",
    "         X_train=X_train, X_test=X_test,\n",
    "         y_train=y_train, y_test=y_test,\n",
    "         wells=wells,\n",
    "         )"
   ]
  },
  {
   "cell_type": "markdown",
   "metadata": {},
   "source": [
    "We'll pick up the data in the next notebook."
   ]
  },
  {
   "cell_type": "markdown",
   "metadata": {},
   "source": [
    "---\n",
    "\n",
    "# QUIZ!"
   ]
  },
  {
   "cell_type": "markdown",
   "metadata": {},
   "source": [
    "<hr />\n",
    "\n",
    "<p style=\"color:gray\">©2021&ndash;2022 Agile Geoscience. Licensed CC-BY.</p>"
   ]
  }
 ],
 "metadata": {
  "anaconda-cloud": {},
  "celltoolbar": "Tags",
  "kernelspec": {
   "display_name": "py39",
   "language": "python",
   "name": "py39"
  },
  "language_info": {
   "codemirror_mode": {
    "name": "ipython",
    "version": 3
   },
   "file_extension": ".py",
   "mimetype": "text/x-python",
   "name": "python",
   "nbconvert_exporter": "python",
   "pygments_lexer": "ipython3",
   "version": "3.9.7"
  }
 },
 "nbformat": 4,
 "nbformat_minor": 4
}
