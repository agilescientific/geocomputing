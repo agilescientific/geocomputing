{
 "cells": [
  {
   "cell_type": "markdown",
   "metadata": {},
   "source": [
    "# Multiclass classification 1: Split and scale\n",
    "\n",
    "This notebook assumes you have some familiarity with:\n",
    "\n",
    "- Basic Python syntax and functions.\n",
    "- Numerics and visualization with NumPy and `matplotlib` or `seaborn`.\n",
    "- Exploratory data analysis with Pandas.\n",
    "- The essential concepts of supervised machine learning.\n",
    "- The fundamentals of machine learning algorithms.\n",
    "\n",
    "If you're a bit short on a couple of these elements, not to worry. There are other courses that cover them, but you might find that we breeze past some topics in this class. Ask questions and follow links!"
   ]
  },
  {
   "cell_type": "markdown",
   "metadata": {},
   "source": [
    "## The machine learning iterative loop"
   ]
  },
  {
   "cell_type": "markdown",
   "metadata": {},
   "source": [
    "![Iterative loop](../images/ML_loop.png)"
   ]
  },
  {
   "cell_type": "markdown",
   "metadata": {},
   "source": [
    "## The lithology prediction task"
   ]
  },
  {
   "cell_type": "markdown",
   "metadata": {},
   "source": [
    "<img src=\"../images/machine_learning_primer.png\"></img>"
   ]
  },
  {
   "cell_type": "markdown",
   "metadata": {},
   "source": [
    "## Load the data"
   ]
  },
  {
   "cell_type": "code",
   "execution_count": 3,
   "metadata": {},
   "outputs": [
    {
     "data": {
      "text/html": [
       "<div>\n",
       "<style scoped>\n",
       "    .dataframe tbody tr th:only-of-type {\n",
       "        vertical-align: middle;\n",
       "    }\n",
       "\n",
       "    .dataframe tbody tr th {\n",
       "        vertical-align: top;\n",
       "    }\n",
       "\n",
       "    .dataframe thead th {\n",
       "        text-align: right;\n",
       "    }\n",
       "</style>\n",
       "<table border=\"1\" class=\"dataframe\">\n",
       "  <thead>\n",
       "    <tr style=\"text-align: right;\">\n",
       "      <th></th>\n",
       "      <th>Well Name</th>\n",
       "      <th>Depth</th>\n",
       "      <th>Formation</th>\n",
       "      <th>RelPos</th>\n",
       "      <th>Marine</th>\n",
       "      <th>GR</th>\n",
       "      <th>ILD</th>\n",
       "      <th>DeltaPHI</th>\n",
       "      <th>PHIND</th>\n",
       "      <th>PE</th>\n",
       "      <th>Facies</th>\n",
       "      <th>LATITUDE</th>\n",
       "      <th>LONGITUDE</th>\n",
       "      <th>ILD_log10</th>\n",
       "      <th>Lithology</th>\n",
       "      <th>RHOB</th>\n",
       "      <th>Mineralogy</th>\n",
       "      <th>Siliciclastic</th>\n",
       "    </tr>\n",
       "  </thead>\n",
       "  <tbody>\n",
       "    <tr>\n",
       "      <th>0</th>\n",
       "      <td>SHRIMPLIN</td>\n",
       "      <td>851.3064</td>\n",
       "      <td>A1 SH</td>\n",
       "      <td>1.000</td>\n",
       "      <td>1</td>\n",
       "      <td>77.45</td>\n",
       "      <td>4.613176</td>\n",
       "      <td>9.9</td>\n",
       "      <td>11.915</td>\n",
       "      <td>4.6</td>\n",
       "      <td>3.0</td>\n",
       "      <td>37.978076</td>\n",
       "      <td>-100.987305</td>\n",
       "      <td>0.664</td>\n",
       "      <td>siltstone</td>\n",
       "      <td>2393.499945</td>\n",
       "      <td>siliciclastic</td>\n",
       "      <td>True</td>\n",
       "    </tr>\n",
       "    <tr>\n",
       "      <th>1</th>\n",
       "      <td>SHRIMPLIN</td>\n",
       "      <td>851.4588</td>\n",
       "      <td>A1 SH</td>\n",
       "      <td>0.979</td>\n",
       "      <td>1</td>\n",
       "      <td>78.26</td>\n",
       "      <td>4.581419</td>\n",
       "      <td>14.2</td>\n",
       "      <td>12.565</td>\n",
       "      <td>4.1</td>\n",
       "      <td>3.0</td>\n",
       "      <td>37.978076</td>\n",
       "      <td>-100.987305</td>\n",
       "      <td>0.661</td>\n",
       "      <td>siltstone</td>\n",
       "      <td>2416.119814</td>\n",
       "      <td>siliciclastic</td>\n",
       "      <td>True</td>\n",
       "    </tr>\n",
       "    <tr>\n",
       "      <th>2</th>\n",
       "      <td>SHRIMPLIN</td>\n",
       "      <td>851.6112</td>\n",
       "      <td>A1 SH</td>\n",
       "      <td>0.957</td>\n",
       "      <td>1</td>\n",
       "      <td>79.05</td>\n",
       "      <td>4.549881</td>\n",
       "      <td>14.8</td>\n",
       "      <td>13.050</td>\n",
       "      <td>3.6</td>\n",
       "      <td>3.0</td>\n",
       "      <td>37.978076</td>\n",
       "      <td>-100.987305</td>\n",
       "      <td>0.658</td>\n",
       "      <td>siltstone</td>\n",
       "      <td>2404.576056</td>\n",
       "      <td>siliciclastic</td>\n",
       "      <td>True</td>\n",
       "    </tr>\n",
       "    <tr>\n",
       "      <th>3</th>\n",
       "      <td>SHRIMPLIN</td>\n",
       "      <td>851.7636</td>\n",
       "      <td>A1 SH</td>\n",
       "      <td>0.936</td>\n",
       "      <td>1</td>\n",
       "      <td>86.10</td>\n",
       "      <td>4.518559</td>\n",
       "      <td>13.9</td>\n",
       "      <td>13.115</td>\n",
       "      <td>3.5</td>\n",
       "      <td>3.0</td>\n",
       "      <td>37.978076</td>\n",
       "      <td>-100.987305</td>\n",
       "      <td>0.655</td>\n",
       "      <td>siltstone</td>\n",
       "      <td>2393.249071</td>\n",
       "      <td>siliciclastic</td>\n",
       "      <td>True</td>\n",
       "    </tr>\n",
       "    <tr>\n",
       "      <th>4</th>\n",
       "      <td>SHRIMPLIN</td>\n",
       "      <td>851.9160</td>\n",
       "      <td>A1 SH</td>\n",
       "      <td>0.915</td>\n",
       "      <td>1</td>\n",
       "      <td>74.58</td>\n",
       "      <td>4.436086</td>\n",
       "      <td>13.5</td>\n",
       "      <td>13.300</td>\n",
       "      <td>3.4</td>\n",
       "      <td>3.0</td>\n",
       "      <td>37.978076</td>\n",
       "      <td>-100.987305</td>\n",
       "      <td>0.647</td>\n",
       "      <td>siltstone</td>\n",
       "      <td>2382.602601</td>\n",
       "      <td>siliciclastic</td>\n",
       "      <td>True</td>\n",
       "    </tr>\n",
       "  </tbody>\n",
       "</table>\n",
       "</div>"
      ],
      "text/plain": [
       "   Well Name     Depth Formation  RelPos  Marine     GR       ILD  DeltaPHI  \\\n",
       "0  SHRIMPLIN  851.3064     A1 SH   1.000       1  77.45  4.613176       9.9   \n",
       "1  SHRIMPLIN  851.4588     A1 SH   0.979       1  78.26  4.581419      14.2   \n",
       "2  SHRIMPLIN  851.6112     A1 SH   0.957       1  79.05  4.549881      14.8   \n",
       "3  SHRIMPLIN  851.7636     A1 SH   0.936       1  86.10  4.518559      13.9   \n",
       "4  SHRIMPLIN  851.9160     A1 SH   0.915       1  74.58  4.436086      13.5   \n",
       "\n",
       "    PHIND   PE  Facies   LATITUDE   LONGITUDE  ILD_log10  Lithology  \\\n",
       "0  11.915  4.6     3.0  37.978076 -100.987305      0.664  siltstone   \n",
       "1  12.565  4.1     3.0  37.978076 -100.987305      0.661  siltstone   \n",
       "2  13.050  3.6     3.0  37.978076 -100.987305      0.658  siltstone   \n",
       "3  13.115  3.5     3.0  37.978076 -100.987305      0.655  siltstone   \n",
       "4  13.300  3.4     3.0  37.978076 -100.987305      0.647  siltstone   \n",
       "\n",
       "          RHOB     Mineralogy  Siliciclastic  \n",
       "0  2393.499945  siliciclastic           True  \n",
       "1  2416.119814  siliciclastic           True  \n",
       "2  2404.576056  siliciclastic           True  \n",
       "3  2393.249071  siliciclastic           True  \n",
       "4  2382.602601  siliciclastic           True  "
      ]
     },
     "execution_count": 3,
     "metadata": {},
     "output_type": "execute_result"
    }
   ],
   "source": [
    "import pandas as pd\n",
    "\n",
    "df = pd.read_csv('https://geocomp.s3.amazonaws.com/data/Panoma_training_data.csv')\n",
    "df.head()"
   ]
  },
  {
   "cell_type": "markdown",
   "metadata": {},
   "source": [
    "## Make `X` and `y`"
   ]
  },
  {
   "cell_type": "markdown",
   "metadata": {
    "tags": [
     "exercise"
    ]
   },
   "source": [
    "### EXERCISE\n",
    "\n",
    "**Make the `X` and `y` arrays we'll use for training.** `X` is going to be the columns `'GR','RHOB','PE','ILD_log10'` and `y` will be the `'Lithology'` column. Cast the data to NumPy arrays. <a title=\"Use ordinary dict-style indexing to get the columns out of the DataFrame. Use the values attribute of the columns to get the equivalent NumPy array.\"><b>Hover for HINT</b></a>"
   ]
  },
  {
   "cell_type": "code",
   "execution_count": 4,
   "metadata": {},
   "outputs": [
    {
     "ename": "SyntaxError",
     "evalue": "invalid syntax (18259793.py, line 3)",
     "output_type": "error",
     "traceback": [
      "\u001b[0;36m  File \u001b[0;32m\"/tmp/ipykernel_1298770/18259793.py\"\u001b[0;36m, line \u001b[0;32m3\u001b[0m\n\u001b[0;31m    X =\u001b[0m\n\u001b[0m        ^\u001b[0m\n\u001b[0;31mSyntaxError\u001b[0m\u001b[0;31m:\u001b[0m invalid syntax\n"
     ]
    }
   ],
   "source": [
    "# YOUR CODE HERE\n",
    "features = [...]\n",
    "X = \n",
    "y = "
   ]
  },
  {
   "cell_type": "code",
   "execution_count": 5,
   "metadata": {
    "tags": [
     "hide"
    ]
   },
   "outputs": [],
   "source": [
    "features = ['GR','RHOB','PE','ILD_log10']\n",
    "\n",
    "# You *can* leave these as Pandas objects, but I prefer NumPy arrays, especially for plotting.\n",
    "X = df[features].values\n",
    "y = df['Lithology'].values"
   ]
  },
  {
   "cell_type": "code",
   "execution_count": 6,
   "metadata": {},
   "outputs": [],
   "source": [
    "N, M = X.shape\n",
    "assert N >= 3000, \"There should be more records\"\n",
    "assert M == 4, \"There should be 4 features\"\n",
    "assert y.size == N, \"The length of y should match X\""
   ]
  },
  {
   "cell_type": "markdown",
   "metadata": {},
   "source": [
    "## What not to do\n",
    "\n",
    "We've all seen the YouTube videos on `sklearn`, this should be easy!"
   ]
  },
  {
   "cell_type": "code",
   "execution_count": 7,
   "metadata": {},
   "outputs": [],
   "source": [
    "from sklearn.neighbors import KNeighborsClassifier\n",
    "\n"
   ]
  },
  {
   "cell_type": "code",
   "execution_count": 8,
   "metadata": {
    "tags": [
     "hide"
    ]
   },
   "outputs": [
    {
     "name": "stdout",
     "output_type": "stream",
     "text": [
      "0.68910741301059\n"
     ]
    }
   ],
   "source": [
    "from sklearn.neighbors import KNeighborsClassifier\n",
    "\n",
    "clf = KNeighborsClassifier()\n",
    "\n",
    "clf.fit(X, y)\n",
    "\n",
    "print(clf.score(X, y))"
   ]
  },
  {
   "cell_type": "markdown",
   "metadata": {},
   "source": [
    "❓ **What do you think of this? Do you trust this model?**\n",
    "\n",
    "<br /> <br /> <br /> <br /> <br /> <br /> <br /> <br /> <br /> <br /> <br /> <br /> <br /> <br /> <br /> <br /> <br /> <br /> <br /> <br /> <br /> "
   ]
  },
  {
   "cell_type": "markdown",
   "metadata": {
    "tags": [
     "hide"
    ]
   },
   "source": [
    "Problems:\n",
    "\n",
    "- Using all of the data, so only have training score. But the model has seen this data. It gives us no idea how this will perform on future data. **We need to figure out how the model generalizes.**\n",
    "- We're not sure what this score represents.\n",
    "- Dion't know how it performs on the various classes.\n",
    "- Picked model out of the blue, without comparing to others.\n",
    "- This is quite a naive model so should not be the only one we try.\n",
    "- This model depends on distance and we did not scale our data.\n",
    "- No attempt to tune the model, e.g. which value of k is best?\n",
    "- No idea what baseline (e.g. dummy) performance is."
   ]
  },
  {
   "cell_type": "markdown",
   "metadata": {},
   "source": [
    "## Split the data\n",
    "\n",
    "We must split the data so that the model doesn't get to see everything."
   ]
  },
  {
   "cell_type": "code",
   "execution_count": 9,
   "metadata": {},
   "outputs": [],
   "source": [
    "from sklearn.model_selection import train_test_split\n",
    "\n",
    "X_train, X_val, y_train, y_val = train_test_split(X, y, test_size=0.4, random_state=42)"
   ]
  },
  {
   "cell_type": "markdown",
   "metadata": {},
   "source": [
    "Now we can train a model!\n",
    "\n",
    "**❓ Would we expect the score to go up or down?**"
   ]
  },
  {
   "cell_type": "code",
   "execution_count": 10,
   "metadata": {},
   "outputs": [
    {
     "name": "stdout",
     "output_type": "stream",
     "text": [
      "0.5652173913043478\n"
     ]
    }
   ],
   "source": [
    "clf = KNeighborsClassifier(n_neighbors=5)  # <- Hyperparameter.\n",
    "\n",
    "clf.fit(X_train, y_train)\n",
    "\n",
    "print(clf.score(X_val, y_val))"
   ]
  },
  {
   "cell_type": "markdown",
   "metadata": {},
   "source": [
    "Now we can mess about with the hyperparameters."
   ]
  },
  {
   "cell_type": "markdown",
   "metadata": {},
   "source": [
    "❓ **What do you think? Is one hold-out set enough?**\n",
    "\n",
    "<br /> <br /> <br /> <br /> <br /> <br /> <br /> <br /> <br /> <br /> <br /> <br /> <br /> <br /> <br /> <br /> <br /> <br /> <br /> <br /> <br /> "
   ]
  },
  {
   "cell_type": "markdown",
   "metadata": {},
   "source": [
    "In general, you need three datasets for training and evaulating models:\n",
    "\n",
    "- **Train** &mdash; For fitting a candidate model.\n",
    "- **Val** &mdash; For comparing different hyperparameter choices (model selection).\n",
    "- **Test** &mdash; For seeing how well the final model generalizes.\n",
    "\n",
    "Be careful; people give these different names sometimes. And people do different things with respect to comparing different algorithms &mdash; should we re-use the **Val** dataset, or use **Test**? If we use **Test**, are we possibly overfitting to that... \n",
    "\n",
    "Anyway, we at least need to split the validation set into two parts: one to validate against while selecting hyperparameters (sometimes also called the **dev** set), and one to assess the likely real-world performance of the trained model.\n",
    "\n",
    "Note that you should only predict on the **test** set once, at the end of model selection and tuning."
   ]
  },
  {
   "cell_type": "code",
   "execution_count": 11,
   "metadata": {},
   "outputs": [],
   "source": [
    "X_train, X_, y_train, y_ = train_test_split(X, y, test_size=0.4, random_state=42)\n",
    "X_val, X_test, y_val, y_test = train_test_split(X_, y_, test_size=0.5, random_state=42)"
   ]
  },
  {
   "cell_type": "code",
   "execution_count": 12,
   "metadata": {},
   "outputs": [
    {
     "name": "stdout",
     "output_type": "stream",
     "text": [
      "0.5649432534678437\n"
     ]
    }
   ],
   "source": [
    "clf = KNeighborsClassifier()\n",
    "\n",
    "clf.fit(X_train, y_train)\n",
    "\n",
    "print(clf.score(X_val, y_val))"
   ]
  },
  {
   "cell_type": "markdown",
   "metadata": {},
   "source": [
    "❓ **What do you think? Is this a fair test?**\n",
    "\n",
    "<br /> <br /> <br /> <br /> <br /> <br /> <br /> <br /> <br /> <br /> <br /> <br /> <br /> <br /> <br /> <br /> <br /> <br /> <br /> <br /> <br /> "
   ]
  },
  {
   "cell_type": "markdown",
   "metadata": {
    "tags": [
     "hide"
    ]
   },
   "source": [
    "No, it's not. It's leaky."
   ]
  },
  {
   "cell_type": "markdown",
   "metadata": {},
   "source": [
    "---\n",
    "\n",
    "## The IID assumption\n",
    "\n",
    "**IID** stands for **independent and identically distributed**, and most machine learning algorithms implicitly assume your data are IID. To put it another way: our samples are random.\n",
    "\n",
    "**❓ Are our records independent and identically distributed?**"
   ]
  },
  {
   "cell_type": "markdown",
   "metadata": {},
   "source": [
    "### Independent\n",
    "\n",
    "This would mean that the observations are independent of each other — they are unrelated. In other words, you can't predict one observation from another.\n",
    "\n",
    "Are our data records independent?\n",
    "\n",
    "When we split the data, how should this be done?\n",
    "\n",
    "[There's a pitfall here that no-one is immune to!](https://twitter.com/andrewyng/status/931026446717296640)"
   ]
  },
  {
   "cell_type": "code",
   "execution_count": null,
   "metadata": {},
   "outputs": [],
   "source": []
  },
  {
   "cell_type": "code",
   "execution_count": 13,
   "metadata": {
    "tags": [
     "hide"
    ]
   },
   "outputs": [
    {
     "data": {
      "text/plain": [
       "array(['SHRIMPLIN', 'SHANKLE', 'LUKE G U', 'CROSS H CATTLE', 'NOLAN',\n",
       "       'NEWBY', 'CHURCHMAN BIBLE', 'STUART', 'CRAWFORD'], dtype=object)"
      ]
     },
     "execution_count": 13,
     "metadata": {},
     "output_type": "execute_result"
    }
   ],
   "source": [
    "df['Well Name'].unique()"
   ]
  },
  {
   "cell_type": "markdown",
   "metadata": {
    "tags": [
     "exercise"
    ]
   },
   "source": [
    "### EXERCISE\n",
    "\n",
    "- Make a list of training wells that includes all the wells **except** `CROSS H CATTLE` and `SHANKLE`.\n",
    "- Use Pandas [`DataFrame.isin()`](https://pandas.pydata.org/docs/reference/api/pandas.DataFrame.isin.html) to select only those wells for training data (`X_train` and `y_train`).\n",
    "- Also make **val** and **test** sets out of `CROSS H CATTLE` and `SHANKLE` respectively.\n",
    "- Train a model and score on the **val** well. Do you expect a better or worse score than before?"
   ]
  },
  {
   "cell_type": "code",
   "execution_count": null,
   "metadata": {},
   "outputs": [],
   "source": [
    "# YOUR CODE HERE\n",
    "\n"
   ]
  },
  {
   "cell_type": "code",
   "execution_count": 21,
   "metadata": {
    "tags": [
     "hide"
    ]
   },
   "outputs": [
    {
     "name": "stdout",
     "output_type": "stream",
     "text": [
      "0.40725806451612906\n"
     ]
    }
   ],
   "source": [
    "train_wells = ['CHURCHMAN BIBLE', 'CRAWFORD' , 'LUKE G U', 'NEWBY', 'NOLAN', 'SHRIMPLIN', 'STUART']\n",
    "\n",
    "train_flag = df['Well Name'].isin(train_wells)\n",
    "\n",
    "X_train = df.loc[train_flag, features].values\n",
    "y_train = df.loc[train_flag, 'Lithology'].values\n",
    "\n",
    "X_test = df.loc[df['Well Name']=='CROSS H CATTLE', features].values\n",
    "y_test = df.loc[df['Well Name']=='CROSS H CATTLE', 'Lithology'].values\n",
    "\n",
    "X_val = df.loc[df['Well Name']=='SHANKLE', features].values\n",
    "y_val = df.loc[df['Well Name']=='SHANKLE', 'Lithology'].values\n",
    "\n",
    "clf = KNeighborsClassifier()\n",
    "\n",
    "clf.fit(X_train, y_train)\n",
    "\n",
    "print(clf.score(X_test, y_test))"
   ]
  },
  {
   "cell_type": "markdown",
   "metadata": {
    "tags": [
     "info"
    ]
   },
   "source": [
    "### Identically distributed\n",
    "\n",
    "In identically distributed datasets, the records all come from the same underlying distribution. If the first 10 records come from a particular normal distribution, the next 10 records must come from the same distribution.\n",
    "\n",
    "Is this the case in our data?\n",
    "\n",
    "When we split the data, how should this be done?\n",
    "\n",
    "Think of the classes in the data: sandstone, limestone, etc. There are not equal numbers of each lithology. When splitting the dataset, we need to ensure that we maintain the distribution **with respect to the labels**. \n",
    "\n",
    "Now think of the features: GR, RHOB, etc. These vary widely across the dataset. Clearly it would be bad to end up with all the high-GR samples in `train` with none in `val`: we would never validate those samples. So we also need to maintain the distribution of the data **with respect to the features**. \n",
    "\n",
    "The distributions don't really need to be totally identical, that would be impossible. But they should be very alike."
   ]
  },
  {
   "cell_type": "markdown",
   "metadata": {},
   "source": [
    "---\n",
    "\n",
    "## Split the data\n",
    "\n",
    "There are two general approaches to validation:\n",
    "\n",
    "![Validation strategies](../images/validation_strategies.png)\n",
    "\n",
    "We'll only keep three fully separate datasets if we can afford the data. Often we don't have as much data as we'd like and it's advantageous to combine **train** and **val** into a single dataset. Many people refer to this as 'cross validation' (though note that this can refer to the hold-out strategy as well).\n",
    "\n",
    "There are a few ways we could do this:\n",
    "\n",
    "- Randomly split the _records_ into **train**, **val** and **test** sets.\n",
    "- Split up _formations_ (or beds, or ages) into **train**, **val** and **test** sets.\n",
    "- Split up the _wells_ into **train**, **val** and **test** sets.\n",
    "- Split up _groups of wells_ into **train**, **val** and **test** sets.\n",
    "\n",
    "**❓ Which approach should we use?**"
   ]
  },
  {
   "cell_type": "markdown",
   "metadata": {
    "tags": [
     "exercise"
    ]
   },
   "source": [
    "### EXERCISE\n",
    "\n",
    "What is the distribution of lithologies across the entire dataset? You can make a small table, or a plot. <a title=\"Check out the value_counts() method on the dataframe\"><b>Hover for HINT</b></a>\n",
    "\n",
    "What is the distribution of lithologies across the wells? <a title=\"Check out pd.crosstab\"><b>Hover for HINT</b></a>"
   ]
  },
  {
   "cell_type": "code",
   "execution_count": 7,
   "metadata": {},
   "outputs": [],
   "source": [
    "# YOUR CODE HERE\n"
   ]
  },
  {
   "cell_type": "code",
   "execution_count": 8,
   "metadata": {
    "tags": [
     "hide"
    ]
   },
   "outputs": [
    {
     "data": {
      "text/plain": [
       "<AxesSubplot:>"
      ]
     },
     "execution_count": 8,
     "metadata": {},
     "output_type": "execute_result"
    },
    {
     "data": {
      "image/png": "[encoded data removed]",
      "text/plain": [
       "<Figure size 432x288 with 1 Axes>"
      ]
     },
     "metadata": {
      "needs_background": "light"
     },
     "output_type": "display_data"
    }
   ],
   "source": [
    "# Build this up.\n",
    "df['Lithology'].value_counts().plot(kind='bar')"
   ]
  },
  {
   "cell_type": "code",
   "execution_count": 14,
   "metadata": {
    "scrolled": true,
    "tags": [
     "hide"
    ]
   },
   "outputs": [
    {
     "data": {
      "text/html": [
       "<div>\n",
       "<style scoped>\n",
       "    .dataframe tbody tr th:only-of-type {\n",
       "        vertical-align: middle;\n",
       "    }\n",
       "\n",
       "    .dataframe tbody tr th {\n",
       "        vertical-align: top;\n",
       "    }\n",
       "\n",
       "    .dataframe thead th {\n",
       "        text-align: right;\n",
       "    }\n",
       "</style>\n",
       "<table border=\"1\" class=\"dataframe\">\n",
       "  <thead>\n",
       "    <tr style=\"text-align: right;\">\n",
       "      <th>Well Name</th>\n",
       "      <th>CHURCHMAN BIBLE</th>\n",
       "      <th>CRAWFORD</th>\n",
       "      <th>CROSS H CATTLE</th>\n",
       "      <th>LUKE G U</th>\n",
       "      <th>NEWBY</th>\n",
       "      <th>NOLAN</th>\n",
       "      <th>SHANKLE</th>\n",
       "      <th>SHRIMPLIN</th>\n",
       "      <th>STUART</th>\n",
       "    </tr>\n",
       "    <tr>\n",
       "      <th>Lithology</th>\n",
       "      <th></th>\n",
       "      <th></th>\n",
       "      <th></th>\n",
       "      <th></th>\n",
       "      <th></th>\n",
       "      <th></th>\n",
       "      <th></th>\n",
       "      <th></th>\n",
       "      <th></th>\n",
       "    </tr>\n",
       "  </thead>\n",
       "  <tbody>\n",
       "    <tr>\n",
       "      <th>dolomite</th>\n",
       "      <td>34</td>\n",
       "      <td>63</td>\n",
       "      <td>2</td>\n",
       "      <td>20</td>\n",
       "      <td>16</td>\n",
       "      <td>4</td>\n",
       "      <td>17</td>\n",
       "      <td>5</td>\n",
       "      <td>29</td>\n",
       "    </tr>\n",
       "    <tr>\n",
       "      <th>limestone</th>\n",
       "      <td>125</td>\n",
       "      <td>75</td>\n",
       "      <td>68</td>\n",
       "      <td>74</td>\n",
       "      <td>87</td>\n",
       "      <td>116</td>\n",
       "      <td>40</td>\n",
       "      <td>81</td>\n",
       "      <td>71</td>\n",
       "    </tr>\n",
       "    <tr>\n",
       "      <th>mudstone</th>\n",
       "      <td>43</td>\n",
       "      <td>55</td>\n",
       "      <td>53</td>\n",
       "      <td>37</td>\n",
       "      <td>86</td>\n",
       "      <td>75</td>\n",
       "      <td>26</td>\n",
       "      <td>81</td>\n",
       "      <td>87</td>\n",
       "    </tr>\n",
       "    <tr>\n",
       "      <th>sandstone</th>\n",
       "      <td>8</td>\n",
       "      <td>15</td>\n",
       "      <td>158</td>\n",
       "      <td>0</td>\n",
       "      <td>0</td>\n",
       "      <td>4</td>\n",
       "      <td>89</td>\n",
       "      <td>0</td>\n",
       "      <td>8</td>\n",
       "    </tr>\n",
       "    <tr>\n",
       "      <th>siltstone</th>\n",
       "      <td>106</td>\n",
       "      <td>77</td>\n",
       "      <td>184</td>\n",
       "      <td>246</td>\n",
       "      <td>178</td>\n",
       "      <td>186</td>\n",
       "      <td>205</td>\n",
       "      <td>241</td>\n",
       "      <td>163</td>\n",
       "    </tr>\n",
       "    <tr>\n",
       "      <th>wackestone</th>\n",
       "      <td>87</td>\n",
       "      <td>62</td>\n",
       "      <td>31</td>\n",
       "      <td>84</td>\n",
       "      <td>96</td>\n",
       "      <td>30</td>\n",
       "      <td>71</td>\n",
       "      <td>63</td>\n",
       "      <td>104</td>\n",
       "    </tr>\n",
       "  </tbody>\n",
       "</table>\n",
       "</div>"
      ],
      "text/plain": [
       "Well Name   CHURCHMAN BIBLE  CRAWFORD  CROSS H CATTLE  LUKE G U  NEWBY  NOLAN  \\\n",
       "Lithology                                                                       \n",
       "dolomite                 34        63               2        20     16      4   \n",
       "limestone               125        75              68        74     87    116   \n",
       "mudstone                 43        55              53        37     86     75   \n",
       "sandstone                 8        15             158         0      0      4   \n",
       "siltstone               106        77             184       246    178    186   \n",
       "wackestone               87        62              31        84     96     30   \n",
       "\n",
       "Well Name   SHANKLE  SHRIMPLIN  STUART  \n",
       "Lithology                               \n",
       "dolomite         17          5      29  \n",
       "limestone        40         81      71  \n",
       "mudstone         26         81      87  \n",
       "sandstone        89          0       8  \n",
       "siltstone       205        241     163  \n",
       "wackestone       71         63     104  "
      ]
     },
     "execution_count": 14,
     "metadata": {},
     "output_type": "execute_result"
    }
   ],
   "source": [
    "ct = pd.crosstab(df['Lithology'], df['Well Name'])\n",
    "\n",
    "ct"
   ]
  },
  {
   "cell_type": "markdown",
   "metadata": {},
   "source": [
    "We can also make a plot..."
   ]
  },
  {
   "cell_type": "code",
   "execution_count": 17,
   "metadata": {},
   "outputs": [
    {
     "data": {
      "image/png": "[encoded data removed]",
      "text/plain": [
       "<Figure size 1080x432 with 1 Axes>"
      ]
     },
     "metadata": {
      "needs_background": "light"
     },
     "output_type": "display_data"
    }
   ],
   "source": [
    "# Or we can make a matplotlib plot to represent the rocks:\n",
    "from matplotlib.colors import ListedColormap\n",
    "\n",
    "classes = {\n",
    "    'dolomite': '#C186C1',\n",
    "    'limestone': '#2E86C1',\n",
    "    'mudstone': '#C1C1C1',\n",
    "    'sandstone': '#F4D03F',\n",
    "    'siltstone': '#F3E8BF' ,\n",
    "    'wackestone': '#728393',\n",
    "}\n",
    "\n",
    "cmap_facies = ListedColormap(classes.values(), 'indexed')\n",
    "ax = ct.T.plot(kind='bar', stacked=True, rot=0, figsize=(15, 6), cmap=cmap_facies)\n",
    "_ = ax.legend(loc='center left', bbox_to_anchor=(1.0, 0.5))"
   ]
  },
  {
   "cell_type": "markdown",
   "metadata": {},
   "source": [
    "### Let's split!\n",
    "\n",
    "We're going to use a cross-validation strategy for the training wells, and only split out a test set.\n",
    "\n",
    "But if you have enough training data, it's probably better to stick to holdout sets."
   ]
  },
  {
   "cell_type": "code",
   "execution_count": 15,
   "metadata": {},
   "outputs": [],
   "source": [
    "train_wells = ['CHURCHMAN BIBLE', 'CROSS H CATTLE', 'LUKE G U', 'NEWBY',\n",
    "               'NOLAN', 'SHANKLE', 'SHRIMPLIN', 'STUART']  # ⚠️ Removed CRAWFORD\n",
    "\n",
    "train_flag = df['Well Name'].isin(train_wells)\n",
    "\n",
    "X_train = df.loc[train_flag, features].values\n",
    "y_train = df.loc[train_flag, 'Lithology'].values\n",
    "\n",
    "# And we might need this later...\n",
    "wells = df.loc[train_flag, 'Well Name'].values"
   ]
  },
  {
   "cell_type": "code",
   "execution_count": 16,
   "metadata": {},
   "outputs": [
    {
     "data": {
      "text/plain": [
       "((2709, 4), (2709,))"
      ]
     },
     "execution_count": 16,
     "metadata": {},
     "output_type": "execute_result"
    }
   ],
   "source": [
    "X_train.shape, y_train.shape"
   ]
  },
  {
   "cell_type": "code",
   "execution_count": 17,
   "metadata": {},
   "outputs": [],
   "source": [
    "X_test = df.loc[~train_flag, features].values\n",
    "y_test = df.loc[~train_flag, 'Lithology'].values"
   ]
  },
  {
   "cell_type": "code",
   "execution_count": 18,
   "metadata": {},
   "outputs": [
    {
     "data": {
      "text/plain": [
       "((1257, 4), (1257,))"
      ]
     },
     "execution_count": 18,
     "metadata": {},
     "output_type": "execute_result"
    }
   ],
   "source": [
    "X_test.shape, y_test.shape"
   ]
  },
  {
   "cell_type": "markdown",
   "metadata": {},
   "source": [
    "### Sanity check the distributions\n",
    "\n",
    "Let's visualize the distributions over the features, for each of the datasets. We'd like the distributions to match, i.e. training matches val and test."
   ]
  },
  {
   "cell_type": "code",
   "execution_count": 19,
   "metadata": {},
   "outputs": [
    {
     "data": {
      "image/png": "[encoded data removed]",
      "text/plain": [
       "<Figure size 1008x216 with 4 Axes>"
      ]
     },
     "metadata": {
      "needs_background": "light"
     },
     "output_type": "display_data"
    }
   ],
   "source": [
    "import seaborn as sns\n",
    "import matplotlib.pyplot as plt\n",
    "\n",
    "fig, axs = plt.subplots(ncols=4, figsize=(14,3))\n",
    "\n",
    "for ax, feature, *datasets in zip(axs, features, X_train.T, X_test.T):\n",
    "    for dataset in datasets:\n",
    "        sns.kdeplot(dataset, ax=ax)\n",
    "    ax.set_ylabel(None)\n",
    "    ax.set_title(feature)"
   ]
  },
  {
   "cell_type": "markdown",
   "metadata": {},
   "source": [
    "In the data space, two of the parameters look like this:"
   ]
  },
  {
   "cell_type": "code",
   "execution_count": 20,
   "metadata": {},
   "outputs": [
    {
     "data": {
      "text/plain": [
       "<matplotlib.collections.PathCollection at 0x7f753fc94340>"
      ]
     },
     "execution_count": 20,
     "metadata": {},
     "output_type": "execute_result"
    },
    {
     "data": {
      "image/png": "[encoded data removed]",
      "text/plain": [
       "<Figure size 432x288 with 1 Axes>"
      ]
     },
     "metadata": {
      "needs_background": "light"
     },
     "output_type": "display_data"
    }
   ],
   "source": [
    "plt.scatter(X_train[:,0], X_train[:,1])\n",
    "plt.scatter(X_test[:,0], X_test[:,1])"
   ]
  },
  {
   "cell_type": "markdown",
   "metadata": {},
   "source": [
    "---\n",
    "\n",
    "## Scale the data\n",
    "\n",
    "Some methods don't care about the scale of the features. For example, decision trees and random forests treat each feature independently.\n",
    "\n",
    "However, most methods &mdash; for example those relying on distance (e.g. KNN, SVMs), or on linear combinations (e.g. linear regression), or on squeezing functions (e.g. neural nets) &mdash; require the data to be normalized or standardized:\n",
    "\n",
    "- **Normalization**: scaling to a range of [0, 1] or [-1, +1] for example. As a rule of thumb, you might do this for uniformly distributed data.\n",
    "- **Standardization**: scaling to a zero mean and unit variance (also known as Z-score). Do this for normally (Gaussian) distributed data.\n",
    "\n",
    "It's likely a good idea to scale it no matter which method you try.\n",
    "\n",
    "`scikit-learn` has lots of scalers. The `StandardScaler` removes the mean and scales the data to unit variance.\n",
    "\n",
    "Let's take a quick look at the data before scaling:"
   ]
  },
  {
   "cell_type": "code",
   "execution_count": 21,
   "metadata": {},
   "outputs": [
    {
     "data": {
      "image/png": "[encoded data removed]",
      "text/plain": [
       "<Figure size 432x288 with 1 Axes>"
      ]
     },
     "metadata": {
      "needs_background": "light"
     },
     "output_type": "display_data"
    }
   ],
   "source": [
    "import matplotlib.pyplot as plt\n",
    "\n",
    "plt.scatter(X_train[:,0], X_train[:,1])\n",
    "plt.show()"
   ]
  },
  {
   "cell_type": "markdown",
   "metadata": {},
   "source": [
    "Notice that interpreting this as a Euclidean space — which is how a lot of machine learning models are going to look at it — seems to distort the data, purely because of the (potentially arbitrary, as here) difference in scales across the features. "
   ]
  },
  {
   "cell_type": "code",
   "execution_count": 95,
   "metadata": {},
   "outputs": [
    {
     "data": {
      "image/png": "[encoded data removed]",
      "text/plain": [
       "<Figure size 432x288 with 1 Axes>"
      ]
     },
     "metadata": {
      "needs_background": "light"
     },
     "output_type": "display_data"
    }
   ],
   "source": [
    "x0, x1, x2 = X[3200, :2], X[898, :2], X[3114, :2]\n",
    "\n",
    "plt.scatter(X_train[:,0], X_train[:,1])\n",
    "plt.scatter(*x0.T, c='red', s=60)\n",
    "plt.scatter(*x1.T, c='gold', s=60)\n",
    "plt.scatter(*x2.T, c='orange', s=60)\n",
    "# plt.axis('equal')  # <-- Now uncomment this line to see how Euclid sees it!\n",
    "plt.show()"
   ]
  },
  {
   "cell_type": "markdown",
   "metadata": {},
   "source": [
    "We fit a scaler to the training data, then transform all the datasets, with a pattern that will become very familiar:"
   ]
  },
  {
   "cell_type": "code",
   "execution_count": 96,
   "metadata": {},
   "outputs": [],
   "source": [
    "from sklearn.preprocessing import StandardScaler\n",
    "\n",
    "scaler = StandardScaler()\n",
    "\n",
    "scaler.fit(X_train)\n",
    "\n",
    "X_scaled = scaler.transform(X_train)"
   ]
  },
  {
   "cell_type": "markdown",
   "metadata": {},
   "source": [
    "Note that we're not actually going to scale the data at this point. We'll scale it as part of the machine learning pipeline, so that we can split the data in arbitrary ways.\n",
    "\n",
    "Now let's plot the data using equal axes:"
   ]
  },
  {
   "cell_type": "code",
   "execution_count": 97,
   "metadata": {},
   "outputs": [
    {
     "data": {
      "image/png": "[encoded data removed]",
      "text/plain": [
       "<Figure size 432x288 with 1 Axes>"
      ]
     },
     "metadata": {
      "needs_background": "light"
     },
     "output_type": "display_data"
    }
   ],
   "source": [
    "s0 = scaler.transform(X)[3200, :2]\n",
    "s1 = scaler.transform(X)[898, :2]\n",
    "s2 = scaler.transform(X)[3114, :2]\n",
    "\n",
    "plt.scatter(X_scaled[:,0], X_scaled[:,1])\n",
    "plt.scatter(*s0.T, c='red', s=60)\n",
    "plt.scatter(*s1.T, c='gold', s=60)\n",
    "plt.scatter(*s2.T, c='orange', s=60)\n",
    "plt.axis('equal')\n",
    "plt.show()"
   ]
  },
  {
   "cell_type": "markdown",
   "metadata": {},
   "source": [
    "This is better."
   ]
  },
  {
   "cell_type": "markdown",
   "metadata": {
    "tags": [
     "info"
    ]
   },
   "source": [
    "**NOTE**\n",
    "\n",
    "Data normalization doesn't magically fix problems with the data. If you're lumping a bunch of well data together and the GR, say, is calibrated differently in each well, or the RHOB units vary, then the scaled data will also have this problem. So you still need to QC your data to ensure it's internally consistent."
   ]
  },
  {
   "cell_type": "markdown",
   "metadata": {},
   "source": [
    "### ❓ Should you scale the target?\n",
    "\n",
    "There is usually no advantage to scaling the target, and it does make model evaluation a bit more fiddly, so we generally don't do it.\n",
    "\n",
    "The exception is for some neural network approaches. Very large magnitudes may result in 'exploding gradients', which in turn may result in 'saturation' (for some activation functions), or in very large updates to the parameters. Either way, the network will struggle to learn. So in these cases, we will sometimes scale a regression target for a neural network."
   ]
  },
  {
   "cell_type": "markdown",
   "metadata": {},
   "source": [
    "---\n",
    "\n",
    "## Freezing the data"
   ]
  },
  {
   "cell_type": "code",
   "execution_count": 108,
   "metadata": {},
   "outputs": [],
   "source": [
    "np.savez(\"All_data.npz\",\n",
    "         X_train=X_train, X_test=X_test,\n",
    "         y_train=y_train, y_test=y_test,\n",
    "         wells=wells,\n",
    "         )"
   ]
  },
  {
   "cell_type": "markdown",
   "metadata": {},
   "source": [
    "We'll pick up the data in the next notebook."
   ]
  },
  {
   "cell_type": "markdown",
   "metadata": {},
   "source": [
    "---\n",
    "\n",
    "# QUIZ!"
   ]
  },
  {
   "cell_type": "markdown",
   "metadata": {},
   "source": [
    "<hr />\n",
    "\n",
    "<p style=\"color:gray\">©2021&ndash;2022 Agile Geoscience. Licensed CC-BY.</p>"
   ]
  }
 ],
 "metadata": {
  "anaconda-cloud": {},
  "celltoolbar": "Tags",
  "kernelspec": {
   "display_name": "py39",
   "language": "python",
   "name": "py39"
  },
  "language_info": {
   "codemirror_mode": {
    "name": "ipython",
    "version": 3
   },
   "file_extension": ".py",
   "mimetype": "text/x-python",
   "name": "python",
   "nbconvert_exporter": "python",
   "pygments_lexer": "ipython3",
   "version": "3.9.7"
  }
 },
 "nbformat": 4,
 "nbformat_minor": 4
}
