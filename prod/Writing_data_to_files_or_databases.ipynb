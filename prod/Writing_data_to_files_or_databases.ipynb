{
 "cells": [
  {
   "cell_type": "markdown",
   "metadata": {},
   "source": [
    "# Writing data to files and databases\n",
    "\n",
    "Review  [`Reading data from files`](Reading_data_from_files.ipynb) and [`Practice functions`](Practice_functions.ipynb) before coming in here."
   ]
  },
  {
   "cell_type": "markdown",
   "metadata": {},
   "source": [
    "## Writing files\n",
    "\n",
    "It's just as easy to write a text file in Python as it is to read one:"
   ]
  },
  {
   "cell_type": "code",
   "execution_count": null,
   "metadata": {
    "collapsed": true
   },
   "outputs": [],
   "source": []
  },
  {
   "cell_type": "code",
   "execution_count": 41,
   "metadata": {
    "collapsed": true,
    "tags": [
     "hide"
    ]
   },
   "outputs": [],
   "source": [
    "with open('myfile.txt', 'a') as f:\n",
    "    f.write('This is new line!\\n')"
   ]
  },
  {
   "cell_type": "markdown",
   "metadata": {},
   "source": [
    "We can use Python to define the file names and to write the contents of the file."
   ]
  },
  {
   "cell_type": "code",
   "execution_count": null,
   "metadata": {
    "collapsed": true
   },
   "outputs": [],
   "source": []
  },
  {
   "cell_type": "code",
   "execution_count": 10,
   "metadata": {
    "collapsed": true,
    "tags": [
     "hide"
    ]
   },
   "outputs": [],
   "source": [
    "for n in range(10):\n",
    "    with open(f'myfile{n}.txt', 'w') as f:\n",
    "        f.write(f'This is file number {n}')"
   ]
  },
  {
   "cell_type": "markdown",
   "metadata": {},
   "source": [
    "## Get some data to write to a file\n",
    "\n",
    "Here's the bare bones tops-reading function from `Reading_data_from_files.ipynb`."
   ]
  },
  {
   "cell_type": "code",
   "execution_count": 2,
   "metadata": {},
   "outputs": [],
   "source": [
    "def read_tops(fname):\n",
    "    with open(fname, 'r') as f:\n",
    "        lines = f.readlines()\n",
    "    tops = {}\n",
    "    for line in lines:\n",
    "        if line.startswith('#'):\n",
    "            continue\n",
    "        top, depth = line.split(',')\n",
    "        top = top.title()\n",
    "        tops[top] = float(depth)\n",
    "    return tops"
   ]
  },
  {
   "cell_type": "code",
   "execution_count": 3,
   "metadata": {},
   "outputs": [],
   "source": [
    "tops = read_tops('../data/L-30_tops.txt')"
   ]
  },
  {
   "cell_type": "code",
   "execution_count": 4,
   "metadata": {
    "scrolled": true,
    "tags": [
     "hide"
    ]
   },
   "outputs": [
    {
     "data": {
      "text/plain": [
       "{'Wyandot Fm': 867.156,\n",
       " 'Dawson Canyon Fm': 984.50402,\n",
       " 'Logan Canyon Fm': 1136.904,\n",
       " 'Upper Missisauga Fm': 2251.2529,\n",
       " 'Lower Missisauga Fm': 3190.6464,\n",
       " 'Abenaki Fm': 3404.3112,\n",
       " 'Mid Baccaro': 3485.0832,\n",
       " 'Lower Baccaro': 3964.5337,\n",
       " 'Base O-Marker': 2469.207,\n",
       " 'Td': 4268.0,\n",
       " 'Pay_Sand_1-Rft': 2478.0,\n",
       " 'Pay_Sand_2': 2499.0,\n",
       " 'Pay_Sand_3': 2543.0,\n",
       " 'Pay_Sand_4': 2637.0,\n",
       " 'Sand_5': 2699.0,\n",
       " 'Sand_6': 2795.0,\n",
       " 'Sand_7': 2835.0}"
      ]
     },
     "execution_count": 4,
     "metadata": {},
     "output_type": "execute_result"
    }
   ],
   "source": [
    "tops"
   ]
  },
  {
   "cell_type": "markdown",
   "metadata": {
    "collapsed": true,
    "tags": [
     "exercise"
    ]
   },
   "source": [
    "### Exercise\n",
    "\n",
    "Can you write a function to write the cleaned `tops` dictionary to a text file?"
   ]
  },
  {
   "cell_type": "code",
   "execution_count": null,
   "metadata": {},
   "outputs": [],
   "source": []
  },
  {
   "cell_type": "code",
   "execution_count": 5,
   "metadata": {
    "tags": [
     "hide"
    ]
   },
   "outputs": [
    {
     "ename": "TypeError",
     "evalue": "write() argument must be str, not dict",
     "output_type": "error",
     "traceback": [
      "\u001b[0;31m---------------------------------------------------------------------------\u001b[0m",
      "\u001b[0;31mTypeError\u001b[0m                                 Traceback (most recent call last)",
      "\u001b[0;32m<ipython-input-5-c36d5d33abfc>\u001b[0m in \u001b[0;36m<module>\u001b[0;34m\u001b[0m\n\u001b[1;32m      1\u001b[0m \u001b[0;31m# This doesn't work\u001b[0m\u001b[0;34m\u001b[0m\u001b[0;34m\u001b[0m\u001b[0m\n\u001b[1;32m      2\u001b[0m \u001b[0;32mwith\u001b[0m \u001b[0mopen\u001b[0m\u001b[0;34m(\u001b[0m\u001b[0;34m'tops.txt'\u001b[0m\u001b[0;34m,\u001b[0m \u001b[0;34m'w'\u001b[0m\u001b[0;34m)\u001b[0m \u001b[0;32mas\u001b[0m \u001b[0mf\u001b[0m\u001b[0;34m:\u001b[0m\u001b[0;34m\u001b[0m\u001b[0m\n\u001b[0;32m----> 3\u001b[0;31m     \u001b[0mf\u001b[0m\u001b[0;34m.\u001b[0m\u001b[0mwrite\u001b[0m\u001b[0;34m(\u001b[0m\u001b[0mtops\u001b[0m\u001b[0;34m)\u001b[0m\u001b[0;34m\u001b[0m\u001b[0m\n\u001b[0m",
      "\u001b[0;31mTypeError\u001b[0m: write() argument must be str, not dict"
     ]
    }
   ],
   "source": [
    "# This doesn't work\n",
    "with open('tops.txt', 'w') as f:\n",
    "    f.write(tops)"
   ]
  },
  {
   "cell_type": "code",
   "execution_count": 9,
   "metadata": {
    "collapsed": true,
    "tags": [
     "hide"
    ]
   },
   "outputs": [],
   "source": [
    "# This is better, but it's not valid JSON\n",
    "with open('tops.txt', 'w') as f:\n",
    "    f.write(str(tops))"
   ]
  },
  {
   "cell_type": "code",
   "execution_count": 18,
   "metadata": {
    "tags": [
     "hide"
    ]
   },
   "outputs": [],
   "source": [
    "# Without turning to JSON (yet), safest would be CSV, but it's\n",
    "# a pain to write. Best to use Pandas.\n",
    "import pandas as pd\n",
    "df = pd.DataFrame.from_dict(tops, orient='index')\n",
    "df.to_csv('../data/tops.csv', header=False)"
   ]
  },
  {
   "cell_type": "markdown",
   "metadata": {},
   "source": [
    "## JSON\n",
    "\n",
    "There are lots of ways to save a file (e.g. pickling). But a good one to know about, because it's often used in working with web applications, and it's how we interact with NoSQL data stores, is JSON.\n",
    "\n",
    "If you do anything with the web or with NoSQL databases, you will need to know about [JavaScript Object Notation, or JSON](https://en.wikipedia.org/wiki/JSON)."
   ]
  },
  {
   "cell_type": "code",
   "execution_count": null,
   "metadata": {},
   "outputs": [],
   "source": []
  },
  {
   "cell_type": "code",
   "execution_count": null,
   "metadata": {},
   "outputs": [],
   "source": []
  },
  {
   "cell_type": "code",
   "execution_count": 8,
   "metadata": {
    "collapsed": true,
    "tags": [
     "hide"
    ]
   },
   "outputs": [],
   "source": [
    "import json\n",
    "\n",
    "with open('tops.txt', 'w') as f:\n",
    "    f.write(json.dumps(tops, indent=4))"
   ]
  },
  {
   "cell_type": "code",
   "execution_count": 29,
   "metadata": {
    "collapsed": true,
    "tags": [
     "hide"
    ]
   },
   "outputs": [],
   "source": [
    "json?"
   ]
  },
  {
   "cell_type": "code",
   "execution_count": 11,
   "metadata": {
    "collapsed": true,
    "tags": [
     "hide"
    ]
   },
   "outputs": [],
   "source": [
    "with open('tops.txt', 'w') as f:\n",
    "    json.dump(tops, f, indent=4)"
   ]
  },
  {
   "cell_type": "markdown",
   "metadata": {},
   "source": [
    "## Reading the files we wrote"
   ]
  },
  {
   "cell_type": "code",
   "execution_count": null,
   "metadata": {},
   "outputs": [],
   "source": []
  },
  {
   "cell_type": "code",
   "execution_count": null,
   "metadata": {},
   "outputs": [],
   "source": []
  },
  {
   "cell_type": "code",
   "execution_count": 24,
   "metadata": {
    "collapsed": true,
    "tags": [
     "hide"
    ]
   },
   "outputs": [],
   "source": [
    "with open('tops.txt', 'r') as f:\n",
    "    tops_f = f.read()"
   ]
  },
  {
   "cell_type": "code",
   "execution_count": 25,
   "metadata": {
    "tags": [
     "hide"
    ]
   },
   "outputs": [
    {
     "data": {
      "text/plain": [
       "'{\\n    \"Wyandot Fm\": 867.156,\\n    \"Dawson Canyon Fm\": 984.50402,\\n    \"Logan Canyon Fm\": 1136.904,\\n    \"Upper Missisauga Fm\": 2251.2529,\\n    \"Lower Missisauga Fm\": 3190.6464,\\n    \"Abenaki Fm\": 3404.3112,\\n    \"Mid Baccaro\": 3485.0832,\\n    \"Lower Baccaro\": 3964.5337,\\n    \"Base O-Marker\": 2469.207,\\n    \"Td\": 4268.0,\\n    \"Pay_Sand_1-Rft\": 2478.0,\\n    \"Pay_Sand_2\": 2499.0,\\n    \"Pay_Sand_3\": 2543.0,\\n    \"Pay_Sand_4\": 2637.0,\\n    \"Sand_5\": 2699.0,\\n    \"Sand_6\": 2795.0,\\n    \"Sand_7\": 2835.0\\n}'"
      ]
     },
     "execution_count": 25,
     "metadata": {},
     "output_type": "execute_result"
    }
   ],
   "source": [
    "tops_f"
   ]
  },
  {
   "cell_type": "code",
   "execution_count": 12,
   "metadata": {
    "collapsed": true,
    "tags": [
     "hide"
    ]
   },
   "outputs": [],
   "source": [
    "with open('tops.txt', 'r') as f:\n",
    "    tops_f = json.load(f)"
   ]
  },
  {
   "cell_type": "code",
   "execution_count": 13,
   "metadata": {
    "tags": [
     "hide"
    ]
   },
   "outputs": [
    {
     "data": {
      "text/plain": [
       "{'Abenaki Fm': 3404.3112,\n",
       " 'Base O-Marker': 2469.207,\n",
       " 'Dawson Canyon Fm': 984.50402,\n",
       " 'Logan Canyon Fm': 1136.904,\n",
       " 'Lower Baccaro': 3964.5337,\n",
       " 'Lower Missisauga Fm': 3190.6464,\n",
       " 'Mid Baccaro': 3485.0832,\n",
       " 'Pay_Sand_1-Rft': 2478.0,\n",
       " 'Pay_Sand_2': 2499.0,\n",
       " 'Pay_Sand_3': 2543.0,\n",
       " 'Pay_Sand_4': 2637.0,\n",
       " 'Sand_5': 2699.0,\n",
       " 'Sand_6': 2795.0,\n",
       " 'Sand_7': 2835.0,\n",
       " 'Td': 4268.0,\n",
       " 'Upper Missisauga Fm': 2251.2529,\n",
       " 'Wyandot Fm': 867.156}"
      ]
     },
     "execution_count": 13,
     "metadata": {},
     "output_type": "execute_result"
    }
   ],
   "source": [
    "tops_f"
   ]
  },
  {
   "cell_type": "markdown",
   "metadata": {},
   "source": [
    "We got our tops back!"
   ]
  },
  {
   "cell_type": "markdown",
   "metadata": {},
   "source": [
    "## Writing to and reading from a SQL database"
   ]
  },
  {
   "cell_type": "code",
   "execution_count": 12,
   "metadata": {
    "tags": [
     "hide"
    ]
   },
   "outputs": [],
   "source": [
    "!rm tops.db"
   ]
  },
  {
   "cell_type": "code",
   "execution_count": 16,
   "metadata": {},
   "outputs": [],
   "source": [
    "import sqlite3\n",
    "import sys\n",
    "\n",
    "with sqlite3.connect('tops.db') as conn:\n",
    "    \n",
    "    cur = conn.cursor()    \n",
    "    cur.execute(\"CREATE TABLE strat(formation TEXT, depth DECIMAL, age INT)\")\n",
    "    \n",
    "    for name, depth in tops.items():\n",
    "        cur.execute(\"INSERT INTO strat VALUES('{}',{},{})\".format(name, depth, 0))"
   ]
  },
  {
   "cell_type": "code",
   "execution_count": 14,
   "metadata": {
    "tags": [
     "hide"
    ]
   },
   "outputs": [],
   "source": [
    "# You can only create the table if it doesn't exist.\n",
    "# Or you can do CREATE TABLE IF NOT EXISTS\n",
    "# If you need to delete it at some point:\n",
    "# with sqlite3.connect('tops.db') as conn:\n",
    "    \n",
    "#     cur = conn.cursor()    \n",
    "#     cur.execute(\"DROP TABLE IF EXISTS strat\")"
   ]
  },
  {
   "cell_type": "code",
   "execution_count": 17,
   "metadata": {},
   "outputs": [
    {
     "name": "stdout",
     "output_type": "stream",
     "text": [
      "('Wyandot Fm', 867.156, 0)\n",
      "('Dawson Canyon Fm', 984.50402, 0)\n",
      "('Logan Canyon Fm', 1136.904, 0)\n",
      "('Upper Missisauga Fm', 2251.2529, 0)\n",
      "('Lower Missisauga Fm', 3190.6464, 0)\n",
      "('Abenaki Fm', 3404.3112, 0)\n",
      "('Mid Baccaro', 3485.0832, 0)\n",
      "('Lower Baccaro', 3964.5337, 0)\n",
      "('Base O-Marker', 2469.207, 0)\n",
      "('Td', 4268, 0)\n",
      "('Pay_Sand_1-Rft', 2478, 0)\n",
      "('Pay_Sand_2', 2499, 0)\n",
      "('Pay_Sand_3', 2543, 0)\n",
      "('Pay_Sand_4', 2637, 0)\n",
      "('Sand_5', 2699, 0)\n",
      "('Sand_6', 2795, 0)\n",
      "('Sand_7', 2835, 0)\n"
     ]
    }
   ],
   "source": [
    "with sqlite3.connect('tops.db') as conn:    \n",
    "    \n",
    "    cur = conn.cursor()    \n",
    "    cur.execute(\"SELECT * FROM strat\")\n",
    "\n",
    "    rows = cur.fetchall()\n",
    "\n",
    "    for row in rows:\n",
    "        print(row)"
   ]
  },
  {
   "cell_type": "markdown",
   "metadata": {},
   "source": [
    "## Reading from the database to `pandas`"
   ]
  },
  {
   "cell_type": "code",
   "execution_count": 18,
   "metadata": {},
   "outputs": [],
   "source": [
    "import pandas as pd\n",
    "\n",
    "conn = sqlite3.connect('tops.db')\n",
    "\n",
    "df = pd.read_sql(\"SELECT * FROM strat\", conn)"
   ]
  },
  {
   "cell_type": "code",
   "execution_count": 19,
   "metadata": {},
   "outputs": [
    {
     "data": {
      "text/html": [
       "<div>\n",
       "<style scoped>\n",
       "    .dataframe tbody tr th:only-of-type {\n",
       "        vertical-align: middle;\n",
       "    }\n",
       "\n",
       "    .dataframe tbody tr th {\n",
       "        vertical-align: top;\n",
       "    }\n",
       "\n",
       "    .dataframe thead th {\n",
       "        text-align: right;\n",
       "    }\n",
       "</style>\n",
       "<table border=\"1\" class=\"dataframe\">\n",
       "  <thead>\n",
       "    <tr style=\"text-align: right;\">\n",
       "      <th></th>\n",
       "      <th>formation</th>\n",
       "      <th>depth</th>\n",
       "      <th>age</th>\n",
       "    </tr>\n",
       "  </thead>\n",
       "  <tbody>\n",
       "    <tr>\n",
       "      <th>0</th>\n",
       "      <td>Wyandot Fm</td>\n",
       "      <td>867.15600</td>\n",
       "      <td>0</td>\n",
       "    </tr>\n",
       "    <tr>\n",
       "      <th>1</th>\n",
       "      <td>Dawson Canyon Fm</td>\n",
       "      <td>984.50402</td>\n",
       "      <td>0</td>\n",
       "    </tr>\n",
       "    <tr>\n",
       "      <th>2</th>\n",
       "      <td>Logan Canyon Fm</td>\n",
       "      <td>1136.90400</td>\n",
       "      <td>0</td>\n",
       "    </tr>\n",
       "    <tr>\n",
       "      <th>3</th>\n",
       "      <td>Upper Missisauga Fm</td>\n",
       "      <td>2251.25290</td>\n",
       "      <td>0</td>\n",
       "    </tr>\n",
       "    <tr>\n",
       "      <th>4</th>\n",
       "      <td>Lower Missisauga Fm</td>\n",
       "      <td>3190.64640</td>\n",
       "      <td>0</td>\n",
       "    </tr>\n",
       "    <tr>\n",
       "      <th>5</th>\n",
       "      <td>Abenaki Fm</td>\n",
       "      <td>3404.31120</td>\n",
       "      <td>0</td>\n",
       "    </tr>\n",
       "    <tr>\n",
       "      <th>6</th>\n",
       "      <td>Mid Baccaro</td>\n",
       "      <td>3485.08320</td>\n",
       "      <td>0</td>\n",
       "    </tr>\n",
       "    <tr>\n",
       "      <th>7</th>\n",
       "      <td>Lower Baccaro</td>\n",
       "      <td>3964.53370</td>\n",
       "      <td>0</td>\n",
       "    </tr>\n",
       "    <tr>\n",
       "      <th>8</th>\n",
       "      <td>Base O-Marker</td>\n",
       "      <td>2469.20700</td>\n",
       "      <td>0</td>\n",
       "    </tr>\n",
       "    <tr>\n",
       "      <th>9</th>\n",
       "      <td>Td</td>\n",
       "      <td>4268.00000</td>\n",
       "      <td>0</td>\n",
       "    </tr>\n",
       "    <tr>\n",
       "      <th>10</th>\n",
       "      <td>Pay_Sand_1-Rft</td>\n",
       "      <td>2478.00000</td>\n",
       "      <td>0</td>\n",
       "    </tr>\n",
       "    <tr>\n",
       "      <th>11</th>\n",
       "      <td>Pay_Sand_2</td>\n",
       "      <td>2499.00000</td>\n",
       "      <td>0</td>\n",
       "    </tr>\n",
       "    <tr>\n",
       "      <th>12</th>\n",
       "      <td>Pay_Sand_3</td>\n",
       "      <td>2543.00000</td>\n",
       "      <td>0</td>\n",
       "    </tr>\n",
       "    <tr>\n",
       "      <th>13</th>\n",
       "      <td>Pay_Sand_4</td>\n",
       "      <td>2637.00000</td>\n",
       "      <td>0</td>\n",
       "    </tr>\n",
       "    <tr>\n",
       "      <th>14</th>\n",
       "      <td>Sand_5</td>\n",
       "      <td>2699.00000</td>\n",
       "      <td>0</td>\n",
       "    </tr>\n",
       "    <tr>\n",
       "      <th>15</th>\n",
       "      <td>Sand_6</td>\n",
       "      <td>2795.00000</td>\n",
       "      <td>0</td>\n",
       "    </tr>\n",
       "    <tr>\n",
       "      <th>16</th>\n",
       "      <td>Sand_7</td>\n",
       "      <td>2835.00000</td>\n",
       "      <td>0</td>\n",
       "    </tr>\n",
       "  </tbody>\n",
       "</table>\n",
       "</div>"
      ],
      "text/plain": [
       "              formation       depth  age\n",
       "0            Wyandot Fm   867.15600    0\n",
       "1      Dawson Canyon Fm   984.50402    0\n",
       "2       Logan Canyon Fm  1136.90400    0\n",
       "3   Upper Missisauga Fm  2251.25290    0\n",
       "4   Lower Missisauga Fm  3190.64640    0\n",
       "5            Abenaki Fm  3404.31120    0\n",
       "6           Mid Baccaro  3485.08320    0\n",
       "7         Lower Baccaro  3964.53370    0\n",
       "8         Base O-Marker  2469.20700    0\n",
       "9                    Td  4268.00000    0\n",
       "10       Pay_Sand_1-Rft  2478.00000    0\n",
       "11           Pay_Sand_2  2499.00000    0\n",
       "12           Pay_Sand_3  2543.00000    0\n",
       "13           Pay_Sand_4  2637.00000    0\n",
       "14               Sand_5  2699.00000    0\n",
       "15               Sand_6  2795.00000    0\n",
       "16               Sand_7  2835.00000    0"
      ]
     },
     "execution_count": 19,
     "metadata": {},
     "output_type": "execute_result"
    }
   ],
   "source": [
    "df"
   ]
  },
  {
   "cell_type": "markdown",
   "metadata": {},
   "source": [
    "## Writing to and reading from a no-SQL key-value store\n",
    "\n",
    "We'll use [TinyDB](https://github.com/msiemens/tinydb), but there are lots of options out there. You can install TinyDB with `conda`.\n",
    "\n",
    "In memory stores, like Redis and memcached, work in a similar way."
   ]
  },
  {
   "cell_type": "code",
   "execution_count": null,
   "metadata": {},
   "outputs": [],
   "source": []
  },
  {
   "cell_type": "code",
   "execution_count": null,
   "metadata": {},
   "outputs": [],
   "source": []
  },
  {
   "cell_type": "code",
   "execution_count": 26,
   "metadata": {
    "tags": [
     "hide"
    ]
   },
   "outputs": [],
   "source": [
    "tops = [{'name': k, 'depth': v} for k, v in tops.items()]"
   ]
  },
  {
   "cell_type": "code",
   "execution_count": 28,
   "metadata": {
    "tags": [
     "hide"
    ]
   },
   "outputs": [],
   "source": [
    "from tinydb import TinyDB, Query\n",
    "\n",
    "db = TinyDB('db.json')\n",
    "\n",
    "for doc in tops:\n",
    "    db.insert(doc)"
   ]
  },
  {
   "cell_type": "code",
   "execution_count": 29,
   "metadata": {
    "tags": [
     "hide"
    ]
   },
   "outputs": [
    {
     "data": {
      "text/plain": [
       "<TinyDB tables=['_default'], tables_count=1, default_table_documents_count=17, all_tables_documents_count=['_default=17']>"
      ]
     },
     "execution_count": 29,
     "metadata": {},
     "output_type": "execute_result"
    }
   ],
   "source": [
    "db"
   ]
  },
  {
   "cell_type": "code",
   "execution_count": 35,
   "metadata": {
    "tags": [
     "hide"
    ]
   },
   "outputs": [
    {
     "data": {
      "text/plain": [
       "[{'name': 'Abenaki Fm', 'depth': 3404.3112}]"
      ]
     },
     "execution_count": 35,
     "metadata": {},
     "output_type": "execute_result"
    }
   ],
   "source": [
    "top = Query()\n",
    "\n",
    "db.search(top.name == 'Abenaki Fm')"
   ]
  },
  {
   "cell_type": "code",
   "execution_count": 36,
   "metadata": {
    "tags": [
     "hide"
    ]
   },
   "outputs": [
    {
     "data": {
      "text/plain": [
       "[{'name': 'Lower Missisauga Fm', 'depth': 3190.6464},\n",
       " {'name': 'Abenaki Fm', 'depth': 3404.3112},\n",
       " {'name': 'Mid Baccaro', 'depth': 3485.0832},\n",
       " {'name': 'Lower Baccaro', 'depth': 3964.5337},\n",
       " {'name': 'Td', 'depth': 4268.0}]"
      ]
     },
     "execution_count": 36,
     "metadata": {},
     "output_type": "execute_result"
    }
   ],
   "source": [
    "db.search(top.depth > 3000)"
   ]
  },
  {
   "cell_type": "code",
   "execution_count": 40,
   "metadata": {
    "tags": [
     "hide"
    ]
   },
   "outputs": [
    {
     "data": {
      "text/plain": [
       "[]"
      ]
     },
     "execution_count": 40,
     "metadata": {},
     "output_type": "execute_result"
    }
   ],
   "source": [
    "db.search((top.name == 'Abenaki Fm') & (top.depth < 3000))"
   ]
  },
  {
   "cell_type": "code",
   "execution_count": 25,
   "metadata": {
    "tags": [
     "hide"
    ]
   },
   "outputs": [],
   "source": [
    "# Delete everything\n",
    "db.purge_tables()"
   ]
  },
  {
   "cell_type": "code",
   "execution_count": null,
   "metadata": {},
   "outputs": [],
   "source": []
  }
 ],
 "metadata": {
  "anaconda-cloud": {},
  "celltoolbar": "Tags",
  "kernelspec": {
   "display_name": "geocomp",
   "language": "python",
   "name": "geocomp"
  },
  "language_info": {
   "codemirror_mode": {
    "name": "ipython",
    "version": 3
   },
   "file_extension": ".py",
   "mimetype": "text/x-python",
   "name": "python",
   "nbconvert_exporter": "python",
   "pygments_lexer": "ipython3",
   "version": "3.7.3"
  }
 },
 "nbformat": 4,
 "nbformat_minor": 1
}
