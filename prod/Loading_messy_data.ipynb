{
 "cells": [
  {
   "cell_type": "markdown",
   "id": "91110c32",
   "metadata": {},
   "source": [
    "# RPC data\n",
    "\n",
    "This is a subset of data obtained from the Rock Property Catalogue - https://subsurfwiki.org/wiki/Rock_Property_Catalog\n",
    "\n",
    "## General description\n",
    "\n",
    "The Rock Property Catalog is an online database of the petrophysical properties of rocks and minerals.\n",
    "\n",
    "Most of them have VP, VS and  ρ. Many of them have Thomsen's parameters too. Most have a lithology, and they all have a reference.\n",
    "\n",
    "All of the rocks have a reference, which is the canonical source of data for that rock. The data in the catalog were initially from two major sources:\n",
    "\n",
    "* Mudrock Anisotropy database, aka Mr Anisotropy, a public domain database curated by Steve Horne. It contains over 1000 records of mudrocks, gathered from the literature.\n",
    " * Common Ground, a public domain database collected by John A. Scales, Hans Ecke and Mike Batzle at Colorado School of Mines in the late 1990s, is now defunct and has been officially discontinued. It contains over 4000 records, and is public domain.\n",
    "\n",
    "The data have since been augmented by rocks from some other sources.\n",
    "\n",
    "## Access\n",
    "\n",
    "The RPC is a public database, with no authentication needed. The catalogue is queryable should you want a specific subset.\n",
    "\n",
    "The subset being used for this project is available online from https://geocomp.s3.amazonaws.com/data/RPC_4_lithologies_Messy.csv\n",
    "\n",
    "## License and reuse\n",
    "\n",
    "The data is probably best described as public domain. This manifestation of the data is offered under the same CC-BY terms as the rest of SubSurfWiki. This means that Agile Geoscience is not responsible for what you do with the data, or for errors it contains. If also means you can use the data for whatever you want, without permission. Credit the original publisher of the data by citing it as you would any other scientific data."
   ]
  },
  {
   "cell_type": "markdown",
   "id": "776ab5c0",
   "metadata": {},
   "source": [
    "---\n",
    "\n",
    "## Contents\n",
    "\n",
    "* [Loading Data](#loading)\n",
    "* [Exploring our Data](#exploring)\n",
    "* [Cleaning our Data](#cleaning)\n",
    "    * [Redundant columns](#redundant)\n",
    "    * [Fixing the Dates](#dates)\n",
    "    * [Fixing the Lithology](#lithology)\n",
    "    * [Fixing the Vs values](#vs_values)\n",
    "    * [Fixing the Rho values](#rho_values)\n",
    "    * [Remove duplicates](#duplicates)\n",
    "    * [Removing `nan` values](#nan_values)\n",
    "    * [Renaming our columns](#renaming)\n",
    "* [Next Steps](#next)"
   ]
  },
  {
   "cell_type": "code",
   "execution_count": 1,
   "id": "b6410623",
   "metadata": {},
   "outputs": [],
   "source": [
    "import pandas as pd\n",
    "import matplotlib.pyplot as plt\n",
    "import numpy as np\n",
    "import seaborn as sns"
   ]
  },
  {
   "cell_type": "markdown",
   "id": "1cf2fd30",
   "metadata": {},
   "source": [
    "---\n",
    "\n",
    "## Loading the dataset<a id='loading'></a>"
   ]
  },
  {
   "cell_type": "code",
   "execution_count": 2,
   "id": "c39e90f9",
   "metadata": {},
   "outputs": [
    {
     "data": {
      "text/html": [
       "<div>\n",
       "<style scoped>\n",
       "    .dataframe tbody tr th:only-of-type {\n",
       "        vertical-align: middle;\n",
       "    }\n",
       "\n",
       "    .dataframe tbody tr th {\n",
       "        vertical-align: top;\n",
       "    }\n",
       "\n",
       "    .dataframe thead th {\n",
       "        text-align: right;\n",
       "    }\n",
       "</style>\n",
       "<table border=\"1\" class=\"dataframe\">\n",
       "  <thead>\n",
       "    <tr style=\"text-align: right;\">\n",
       "      <th></th>\n",
       "      <th>Index</th>\n",
       "      <th>RPC</th>\n",
       "      <th>Source</th>\n",
       "      <th>YYYY-MM-DD</th>\n",
       "      <th>Description</th>\n",
       "      <th>Lithology</th>\n",
       "      <th>DTP [μs/ft]</th>\n",
       "      <th>Vs [km/s]</th>\n",
       "      <th>VpVs ratio</th>\n",
       "      <th>Rho [kg/m³]</th>\n",
       "    </tr>\n",
       "  </thead>\n",
       "  <tbody>\n",
       "    <tr>\n",
       "      <th>0</th>\n",
       "      <td>63</td>\n",
       "      <td>104818</td>\n",
       "      <td>RPC</td>\n",
       "      <td>Sat 04 May 2002</td>\n",
       "      <td>KIAMICHI FORMA. 4</td>\n",
       "      <td>sandstone</td>\n",
       "      <td>-999.2500</td>\n",
       "      <td>1.5957</td>\n",
       "      <td>1.9086</td>\n",
       "      <td>2109.1206</td>\n",
       "    </tr>\n",
       "    <tr>\n",
       "      <th>1</th>\n",
       "      <td>64</td>\n",
       "      <td>104893</td>\n",
       "      <td>RPC</td>\n",
       "      <td>Thu 09 Aug 2012</td>\n",
       "      <td>KIAMICHI REMOLD 3</td>\n",
       "      <td>sandstone</td>\n",
       "      <td>101.5797</td>\n",
       "      <td>1.5171</td>\n",
       "      <td>1.9779</td>\n",
       "      <td>2090.3420</td>\n",
       "    </tr>\n",
       "    <tr>\n",
       "      <th>2</th>\n",
       "      <td>65</td>\n",
       "      <td>104652</td>\n",
       "      <td>RPC</td>\n",
       "      <td>2010-10-26</td>\n",
       "      <td>NAVAJO ARCO 2</td>\n",
       "      <td>SANDST.</td>\n",
       "      <td>90.6172</td>\n",
       "      <td>2.0415</td>\n",
       "      <td>1.6476</td>\n",
       "      <td>2131.9900</td>\n",
       "    </tr>\n",
       "    <tr>\n",
       "      <th>3</th>\n",
       "      <td>66</td>\n",
       "      <td>104752</td>\n",
       "      <td>RPC</td>\n",
       "      <td>Wed 01 Aug 2007</td>\n",
       "      <td>NAVAJO ARCO REMOL 1</td>\n",
       "      <td>SANDST.</td>\n",
       "      <td>95.3901</td>\n",
       "      <td>1.6062</td>\n",
       "      <td>1.9894</td>\n",
       "      <td>2184.9392</td>\n",
       "    </tr>\n",
       "    <tr>\n",
       "      <th>4</th>\n",
       "      <td>67</td>\n",
       "      <td>104598</td>\n",
       "      <td>RPC</td>\n",
       "      <td>2007-06-30</td>\n",
       "      <td>FERRON 82-3 1677.5</td>\n",
       "      <td>sandstone</td>\n",
       "      <td>71.9292</td>\n",
       "      <td>2.4486</td>\n",
       "      <td>1.7306</td>\n",
       "      <td>2472.2308</td>\n",
       "    </tr>\n",
       "  </tbody>\n",
       "</table>\n",
       "</div>"
      ],
      "text/plain": [
       "   Index     RPC Source       YYYY-MM-DD          Description  Lithology  \\\n",
       "0     63  104818    RPC  Sat 04 May 2002    KIAMICHI FORMA. 4  sandstone   \n",
       "1     64  104893    RPC  Thu 09 Aug 2012    KIAMICHI REMOLD 3  sandstone   \n",
       "2     65  104652    RPC       2010-10-26        NAVAJO ARCO 2    SANDST.   \n",
       "3     66  104752    RPC  Wed 01 Aug 2007  NAVAJO ARCO REMOL 1    SANDST.   \n",
       "4     67  104598    RPC       2007-06-30   FERRON 82-3 1677.5  sandstone   \n",
       "\n",
       "   DTP [μs/ft]  Vs [km/s]  VpVs ratio  Rho [kg/m³]  \n",
       "0    -999.2500     1.5957      1.9086    2109.1206  \n",
       "1     101.5797     1.5171      1.9779    2090.3420  \n",
       "2      90.6172     2.0415      1.6476    2131.9900  \n",
       "3      95.3901     1.6062      1.9894    2184.9392  \n",
       "4      71.9292     2.4486      1.7306    2472.2308  "
      ]
     },
     "execution_count": 2,
     "metadata": {},
     "output_type": "execute_result"
    }
   ],
   "source": [
    "url = 'https://geocomp.s3.amazonaws.com/data/RPC_4_lithologies_Messy.csv'\n",
    "# url = './RPC_4_lithologies_Messy.csv' # this is a slightly different file to the above at the time of writing.\n",
    "                                      # It is on slack in the spoiler thread, so grab it there. \n",
    "                                      # Most of this notebook will work with either version.\n",
    "df = pd.read_csv(url)\n",
    "df.head()"
   ]
  },
  {
   "cell_type": "code",
   "execution_count": 6,
   "id": "617ffb65",
   "metadata": {},
   "outputs": [
    {
     "data": {
      "text/plain": [
       "(808, 10)"
      ]
     },
     "execution_count": 6,
     "metadata": {},
     "output_type": "execute_result"
    }
   ],
   "source": [
    "df.shape"
   ]
  },
  {
   "cell_type": "code",
   "execution_count": 7,
   "id": "953d0026",
   "metadata": {},
   "outputs": [
    {
     "data": {
      "text/html": [
       "<div>\n",
       "<style scoped>\n",
       "    .dataframe tbody tr th:only-of-type {\n",
       "        vertical-align: middle;\n",
       "    }\n",
       "\n",
       "    .dataframe tbody tr th {\n",
       "        vertical-align: top;\n",
       "    }\n",
       "\n",
       "    .dataframe thead th {\n",
       "        text-align: right;\n",
       "    }\n",
       "</style>\n",
       "<table border=\"1\" class=\"dataframe\">\n",
       "  <thead>\n",
       "    <tr style=\"text-align: right;\">\n",
       "      <th></th>\n",
       "      <th>Index</th>\n",
       "      <th>RPC</th>\n",
       "      <th>DTP [μs/ft]</th>\n",
       "      <th>Vs [km/s]</th>\n",
       "      <th>VpVs ratio</th>\n",
       "      <th>Rho [kg/m³]</th>\n",
       "    </tr>\n",
       "  </thead>\n",
       "  <tbody>\n",
       "    <tr>\n",
       "      <th>count</th>\n",
       "      <td>808.000000</td>\n",
       "      <td>808.000000</td>\n",
       "      <td>808.000000</td>\n",
       "      <td>808.000000</td>\n",
       "      <td>808.000000</td>\n",
       "      <td>760.000000</td>\n",
       "    </tr>\n",
       "    <tr>\n",
       "      <th>mean</th>\n",
       "      <td>463.107673</td>\n",
       "      <td>102277.626238</td>\n",
       "      <td>34.308767</td>\n",
       "      <td>2.116353</td>\n",
       "      <td>1.887390</td>\n",
       "      <td>1656.815643</td>\n",
       "    </tr>\n",
       "    <tr>\n",
       "      <th>std</th>\n",
       "      <td>231.252250</td>\n",
       "      <td>1537.484250</td>\n",
       "      <td>237.790700</td>\n",
       "      <td>0.747915</td>\n",
       "      <td>0.377769</td>\n",
       "      <td>1029.026472</td>\n",
       "    </tr>\n",
       "    <tr>\n",
       "      <th>min</th>\n",
       "      <td>63.000000</td>\n",
       "      <td>100031.000000</td>\n",
       "      <td>-999.250000</td>\n",
       "      <td>0.441300</td>\n",
       "      <td>1.337600</td>\n",
       "      <td>2.262200</td>\n",
       "    </tr>\n",
       "    <tr>\n",
       "      <th>25%</th>\n",
       "      <td>262.750000</td>\n",
       "      <td>101112.750000</td>\n",
       "      <td>62.703750</td>\n",
       "      <td>1.527225</td>\n",
       "      <td>1.666075</td>\n",
       "      <td>2.666425</td>\n",
       "    </tr>\n",
       "    <tr>\n",
       "      <th>50%</th>\n",
       "      <td>462.500000</td>\n",
       "      <td>102083.500000</td>\n",
       "      <td>80.410850</td>\n",
       "      <td>2.202600</td>\n",
       "      <td>1.779850</td>\n",
       "      <td>2109.104250</td>\n",
       "    </tr>\n",
       "    <tr>\n",
       "      <th>75%</th>\n",
       "      <td>664.250000</td>\n",
       "      <td>103284.750000</td>\n",
       "      <td>99.818225</td>\n",
       "      <td>2.733000</td>\n",
       "      <td>1.943675</td>\n",
       "      <td>2422.384950</td>\n",
       "    </tr>\n",
       "    <tr>\n",
       "      <th>max</th>\n",
       "      <td>862.000000</td>\n",
       "      <td>105090.000000</td>\n",
       "      <td>204.466100</td>\n",
       "      <td>3.665000</td>\n",
       "      <td>4.707800</td>\n",
       "      <td>2823.287700</td>\n",
       "    </tr>\n",
       "  </tbody>\n",
       "</table>\n",
       "</div>"
      ],
      "text/plain": [
       "            Index            RPC  DTP [μs/ft]   Vs [km/s]  VpVs ratio  \\\n",
       "count  808.000000     808.000000   808.000000  808.000000  808.000000   \n",
       "mean   463.107673  102277.626238    34.308767    2.116353    1.887390   \n",
       "std    231.252250    1537.484250   237.790700    0.747915    0.377769   \n",
       "min     63.000000  100031.000000  -999.250000    0.441300    1.337600   \n",
       "25%    262.750000  101112.750000    62.703750    1.527225    1.666075   \n",
       "50%    462.500000  102083.500000    80.410850    2.202600    1.779850   \n",
       "75%    664.250000  103284.750000    99.818225    2.733000    1.943675   \n",
       "max    862.000000  105090.000000   204.466100    3.665000    4.707800   \n",
       "\n",
       "       Rho [kg/m³]  \n",
       "count   760.000000  \n",
       "mean   1656.815643  \n",
       "std    1029.026472  \n",
       "min       2.262200  \n",
       "25%       2.666425  \n",
       "50%    2109.104250  \n",
       "75%    2422.384950  \n",
       "max    2823.287700  "
      ]
     },
     "execution_count": 7,
     "metadata": {},
     "output_type": "execute_result"
    }
   ],
   "source": [
    "df.describe()"
   ]
  },
  {
   "cell_type": "markdown",
   "id": "60532574",
   "metadata": {},
   "source": [
    "👀 There are missing values in DTP and Rho."
   ]
  },
  {
   "cell_type": "code",
   "execution_count": 8,
   "id": "446959bc",
   "metadata": {},
   "outputs": [
    {
     "name": "stdout",
     "output_type": "stream",
     "text": [
      "<class 'pandas.core.frame.DataFrame'>\n",
      "RangeIndex: 808 entries, 0 to 807\n",
      "Data columns (total 10 columns):\n",
      " #   Column       Non-Null Count  Dtype  \n",
      "---  ------       --------------  -----  \n",
      " 0   Index        808 non-null    int64  \n",
      " 1   RPC          808 non-null    int64  \n",
      " 2   Source       808 non-null    object \n",
      " 3   YYYY-MM-DD   808 non-null    object \n",
      " 4   Description  808 non-null    object \n",
      " 5   Lithology    808 non-null    object \n",
      " 6   DTP [μs/ft]  808 non-null    float64\n",
      " 7   Vs [km/s]    808 non-null    float64\n",
      " 8   VpVs ratio   808 non-null    float64\n",
      " 9   Rho [kg/m³]  760 non-null    float64\n",
      "dtypes: float64(4), int64(2), object(4)\n",
      "memory usage: 63.2+ KB\n"
     ]
    }
   ],
   "source": [
    "df.info()"
   ]
  },
  {
   "cell_type": "code",
   "execution_count": 9,
   "id": "b1487957",
   "metadata": {},
   "outputs": [
    {
     "data": {
      "text/plain": [
       "Index(['Index', 'RPC', 'Source', 'YYYY-MM-DD', 'Description', 'Lithology',\n",
       "       'DTP [μs/ft]', 'Vs [km/s]', 'VpVs ratio', 'Rho [kg/m³]'],\n",
       "      dtype='object')"
      ]
     },
     "execution_count": 9,
     "metadata": {},
     "output_type": "execute_result"
    }
   ],
   "source": [
    "df.columns"
   ]
  },
  {
   "cell_type": "markdown",
   "id": "4d612b09",
   "metadata": {},
   "source": [
    "---\n",
    "\n",
    "## Exploring our data<a id='exploring'></a>\n",
    "\n",
    "### Column evaluation\n",
    "\n",
    "Our DataFrame has the following columns:\n",
    "\n",
    "* Index\n",
    "* RPC Number\n",
    "* Source\n",
    "* YYYY-MM-DD\n",
    "* Description\n",
    "* Lithology\n",
    "* DTP [μs/ft]\n",
    "* Vs [km/s]\n",
    "* VpVs ratio\n",
    "* Rho [kg/m³]\n",
    "\n",
    "We will take a look at each in turn\n",
    "\n",
    "### `Index`\n",
    "\n",
    "These are just indices - we can probably drop them"
   ]
  },
  {
   "cell_type": "code",
   "execution_count": 10,
   "id": "8343c168",
   "metadata": {},
   "outputs": [
    {
     "data": {
      "text/plain": [
       "<AxesSubplot:>"
      ]
     },
     "execution_count": 10,
     "metadata": {},
     "output_type": "execute_result"
    },
    {
     "data": {
      "image/png": "[encoded data removed]",
      "text/plain": [
       "<Figure size 432x288 with 1 Axes>"
      ]
     },
     "metadata": {
      "needs_background": "light"
     },
     "output_type": "display_data"
    }
   ],
   "source": [
    "df['Index'].plot()"
   ]
  },
  {
   "cell_type": "markdown",
   "id": "f0e745c5",
   "metadata": {},
   "source": [
    "### `RPC`\n",
    "\n",
    "These are values of the record in the RPC. Probably should keep."
   ]
  },
  {
   "cell_type": "code",
   "execution_count": 11,
   "id": "3eb7c416",
   "metadata": {},
   "outputs": [
    {
     "data": {
      "text/plain": [
       "<AxesSubplot:>"
      ]
     },
     "execution_count": 11,
     "metadata": {},
     "output_type": "execute_result"
    },
    {
     "data": {
      "image/png": "[encoded data removed]",
      "text/plain": [
       "<Figure size 432x288 with 1 Axes>"
      ]
     },
     "metadata": {
      "needs_background": "light"
     },
     "output_type": "display_data"
    }
   ],
   "source": [
    "df['RPC'].plot()"
   ]
  },
  {
   "cell_type": "markdown",
   "id": "289e8276",
   "metadata": {},
   "source": [
    "### `Source`\n",
    "\n",
    "This is only 'RPC' for everything. We can probably drop this, unless we plan to merge with another dataset, in which case having the provenance of each record might be good."
   ]
  },
  {
   "cell_type": "code",
   "execution_count": 12,
   "id": "1ad81018",
   "metadata": {},
   "outputs": [
    {
     "data": {
      "text/plain": [
       "array(['RPC'], dtype=object)"
      ]
     },
     "execution_count": 12,
     "metadata": {},
     "output_type": "execute_result"
    }
   ],
   "source": [
    "df['Source'].unique()"
   ]
  },
  {
   "cell_type": "markdown",
   "id": "efa362b3",
   "metadata": {},
   "source": [
    "### `YYYY-MM-DD`\n",
    "\n",
    "These are just strings, with inconsistent formatting. We should convert to proper datetimes. Can do on read?"
   ]
  },
  {
   "cell_type": "code",
   "execution_count": 13,
   "id": "86f1ccdd",
   "metadata": {},
   "outputs": [
    {
     "data": {
      "text/plain": [
       "0      Sat 04 May 2002\n",
       "1      Thu 09 Aug 2012\n",
       "2           2010-10-26\n",
       "3      Wed 01 Aug 2007\n",
       "4           2007-06-30\n",
       "            ...       \n",
       "803         2014-10-10\n",
       "804         2012-01-27\n",
       "805         2012-09-19\n",
       "806    Wed 04 Mar 2009\n",
       "807         2002-08-29\n",
       "Name: YYYY-MM-DD, Length: 808, dtype: object"
      ]
     },
     "execution_count": 13,
     "metadata": {},
     "output_type": "execute_result"
    }
   ],
   "source": [
    "df['YYYY-MM-DD']"
   ]
  },
  {
   "cell_type": "code",
   "execution_count": 14,
   "id": "919e8672",
   "metadata": {},
   "outputs": [
    {
     "data": {
      "text/plain": [
       "(str, str)"
      ]
     },
     "execution_count": 14,
     "metadata": {},
     "output_type": "execute_result"
    }
   ],
   "source": [
    "type(df['YYYY-MM-DD'][0]), type(df['YYYY-MM-DD'][2])"
   ]
  },
  {
   "cell_type": "code",
   "execution_count": 15,
   "id": "0308abe5",
   "metadata": {},
   "outputs": [
    {
     "data": {
      "text/plain": [
       "0     2002-05-04\n",
       "1     2012-08-09\n",
       "2     2010-10-26\n",
       "3     2007-08-01\n",
       "4     2007-06-30\n",
       "         ...    \n",
       "803   2014-10-10\n",
       "804   2012-01-27\n",
       "805   2012-09-19\n",
       "806   2009-03-04\n",
       "807   2002-08-29\n",
       "Name: YYYY-MM-DD, Length: 808, dtype: datetime64[ns]"
      ]
     },
     "execution_count": 15,
     "metadata": {},
     "output_type": "execute_result"
    }
   ],
   "source": [
    "pd.to_datetime(df['YYYY-MM-DD'])"
   ]
  },
  {
   "cell_type": "markdown",
   "id": "70ae7030",
   "metadata": {},
   "source": [
    "### `Lithology`\n",
    "\n",
    "Our lithologies. We need to fix the two different values for sandstone."
   ]
  },
  {
   "cell_type": "code",
   "execution_count": 16,
   "id": "9d807050",
   "metadata": {},
   "outputs": [
    {
     "data": {
      "text/plain": [
       "array(['sandstone', 'SANDST.', 'shale', 'limestone', 'dolomite'],\n",
       "      dtype=object)"
      ]
     },
     "execution_count": 16,
     "metadata": {},
     "output_type": "execute_result"
    }
   ],
   "source": [
    "df['Lithology'].unique()"
   ]
  },
  {
   "cell_type": "markdown",
   "id": "01388475",
   "metadata": {},
   "source": [
    "### `DTP`\n",
    "\n",
    "Recall that we have missing DTP values.\n",
    "\n",
    "A couple of strange peaks, but apparently there is a null value in here of -999.25."
   ]
  },
  {
   "cell_type": "code",
   "execution_count": 20,
   "id": "fd9f565f",
   "metadata": {},
   "outputs": [
    {
     "data": {
      "text/plain": [
       "<AxesSubplot:>"
      ]
     },
     "execution_count": 20,
     "metadata": {},
     "output_type": "execute_result"
    },
    {
     "data": {
      "image/png": "[encoded data removed]",
      "text/plain": [
       "<Figure size 432x288 with 1 Axes>"
      ]
     },
     "metadata": {
      "needs_background": "light"
     },
     "output_type": "display_data"
    }
   ],
   "source": [
    "df['DTP [μs/ft]'].plot()"
   ]
  },
  {
   "cell_type": "code",
   "execution_count": 21,
   "id": "5bc19e60",
   "metadata": {},
   "outputs": [
    {
     "data": {
      "text/plain": [
       "<AxesSubplot:xlabel='DTP [μs/ft]', ylabel='Density'>"
      ]
     },
     "execution_count": 21,
     "metadata": {},
     "output_type": "execute_result"
    },
    {
     "data": {
      "image/png": "[encoded data removed]",
      "text/plain": [
       "<Figure size 432x288 with 1 Axes>"
      ]
     },
     "metadata": {
      "needs_background": "light"
     },
     "output_type": "display_data"
    }
   ],
   "source": [
    "sns.kdeplot(df['DTP [μs/ft]'], hue=df['Lithology'])"
   ]
  },
  {
   "cell_type": "markdown",
   "id": "aee9499e",
   "metadata": {},
   "source": [
    "👀 Apparently a strange Limestone."
   ]
  },
  {
   "cell_type": "markdown",
   "id": "9ae8bae4",
   "metadata": {},
   "source": [
    "### `Vs`\n",
    "\n",
    "These look ok, but we should convert to m/s."
   ]
  },
  {
   "cell_type": "code",
   "execution_count": 22,
   "id": "a208c0d1",
   "metadata": {},
   "outputs": [
    {
     "data": {
      "text/plain": [
       "<AxesSubplot:>"
      ]
     },
     "execution_count": 22,
     "metadata": {},
     "output_type": "execute_result"
    },
    {
     "data": {
      "image/png": "[encoded data removed]",
      "text/plain": [
       "<Figure size 432x288 with 1 Axes>"
      ]
     },
     "metadata": {
      "needs_background": "light"
     },
     "output_type": "display_data"
    }
   ],
   "source": [
    "df['Vs [km/s]'].plot()"
   ]
  },
  {
   "cell_type": "code",
   "execution_count": 23,
   "id": "535557a8",
   "metadata": {},
   "outputs": [
    {
     "data": {
      "text/plain": [
       "<AxesSubplot:xlabel='Vs [km/s]', ylabel='Density'>"
      ]
     },
     "execution_count": 23,
     "metadata": {},
     "output_type": "execute_result"
    },
    {
     "data": {
      "image/png": "[encoded data removed]",
      "text/plain": [
       "<Figure size 432x288 with 1 Axes>"
      ]
     },
     "metadata": {
      "needs_background": "light"
     },
     "output_type": "display_data"
    }
   ],
   "source": [
    "sns.kdeplot(df['Vs [km/s]'], hue=df['Lithology'])"
   ]
  },
  {
   "cell_type": "markdown",
   "id": "38bf5f9e",
   "metadata": {},
   "source": [
    "### `VpVs ratio`\n",
    "\n",
    "Some of these seem very high. Vp is not usually three times faster than Vs?"
   ]
  },
  {
   "cell_type": "code",
   "execution_count": 24,
   "id": "eb095fd4",
   "metadata": {},
   "outputs": [
    {
     "data": {
      "text/plain": [
       "<AxesSubplot:>"
      ]
     },
     "execution_count": 24,
     "metadata": {},
     "output_type": "execute_result"
    },
    {
     "data": {
      "image/png": "[encoded data removed]",
      "text/plain": [
       "<Figure size 432x288 with 1 Axes>"
      ]
     },
     "metadata": {
      "needs_background": "light"
     },
     "output_type": "display_data"
    }
   ],
   "source": [
    "df['VpVs ratio'].plot()"
   ]
  },
  {
   "cell_type": "markdown",
   "id": "1e78865b",
   "metadata": {},
   "source": [
    "### `Rho`\n",
    "\n",
    "Recall that we had missing Rho values.\n",
    "\n",
    "Additionally, the last ~200 values seem to be using the wrong unit and are the wrong order of magnitude."
   ]
  },
  {
   "cell_type": "code",
   "execution_count": 25,
   "id": "6ff73a5e",
   "metadata": {},
   "outputs": [
    {
     "data": {
      "text/plain": [
       "<AxesSubplot:>"
      ]
     },
     "execution_count": 25,
     "metadata": {},
     "output_type": "execute_result"
    },
    {
     "data": {
      "image/png": "[encoded data removed]",
      "text/plain": [
       "<Figure size 432x288 with 1 Axes>"
      ]
     },
     "metadata": {
      "needs_background": "light"
     },
     "output_type": "display_data"
    }
   ],
   "source": [
    "df['Rho [kg/m³]'].plot()"
   ]
  },
  {
   "cell_type": "code",
   "execution_count": 26,
   "id": "c29a82c0",
   "metadata": {},
   "outputs": [
    {
     "data": {
      "text/html": [
       "<div>\n",
       "<style scoped>\n",
       "    .dataframe tbody tr th:only-of-type {\n",
       "        vertical-align: middle;\n",
       "    }\n",
       "\n",
       "    .dataframe tbody tr th {\n",
       "        vertical-align: top;\n",
       "    }\n",
       "\n",
       "    .dataframe thead th {\n",
       "        text-align: right;\n",
       "    }\n",
       "</style>\n",
       "<table border=\"1\" class=\"dataframe\">\n",
       "  <thead>\n",
       "    <tr style=\"text-align: right;\">\n",
       "      <th></th>\n",
       "      <th>YYYY-MM-DD</th>\n",
       "      <th>Description</th>\n",
       "      <th>Lithology</th>\n",
       "      <th>Rho [kg/m³]</th>\n",
       "    </tr>\n",
       "  </thead>\n",
       "  <tbody>\n",
       "    <tr>\n",
       "      <th>798</th>\n",
       "      <td>Sat 24 Sep 2005</td>\n",
       "      <td>R.PRICE 10921.5 #43</td>\n",
       "      <td>dolomite</td>\n",
       "      <td>2.3540</td>\n",
       "    </tr>\n",
       "    <tr>\n",
       "      <th>799</th>\n",
       "      <td>2007-08-20</td>\n",
       "      <td>R.PRICE 10916.5 #38</td>\n",
       "      <td>dolomite</td>\n",
       "      <td>2.3988</td>\n",
       "    </tr>\n",
       "    <tr>\n",
       "      <th>800</th>\n",
       "      <td>2001-03-08</td>\n",
       "      <td>R.PRICE 10926.5 #48</td>\n",
       "      <td>dolomite</td>\n",
       "      <td>2.5300</td>\n",
       "    </tr>\n",
       "    <tr>\n",
       "      <th>801</th>\n",
       "      <td>2005-07-12</td>\n",
       "      <td>R.PRICE 10928.5 #50</td>\n",
       "      <td>dolomite</td>\n",
       "      <td>2.3161</td>\n",
       "    </tr>\n",
       "    <tr>\n",
       "      <th>802</th>\n",
       "      <td>2008-09-24</td>\n",
       "      <td>R.PRICE 10908.5 #30</td>\n",
       "      <td>dolomite</td>\n",
       "      <td>2.4204</td>\n",
       "    </tr>\n",
       "    <tr>\n",
       "      <th>803</th>\n",
       "      <td>2014-10-10</td>\n",
       "      <td>R.PRICE 10909.5 #31</td>\n",
       "      <td>dolomite</td>\n",
       "      <td>2.4140</td>\n",
       "    </tr>\n",
       "    <tr>\n",
       "      <th>804</th>\n",
       "      <td>2012-01-27</td>\n",
       "      <td>R.PRICE 10916.5 #38</td>\n",
       "      <td>dolomite</td>\n",
       "      <td>2.4757</td>\n",
       "    </tr>\n",
       "    <tr>\n",
       "      <th>805</th>\n",
       "      <td>2012-09-19</td>\n",
       "      <td>R.PRICE 10883.5 #7</td>\n",
       "      <td>dolomite</td>\n",
       "      <td>2.5211</td>\n",
       "    </tr>\n",
       "    <tr>\n",
       "      <th>806</th>\n",
       "      <td>Wed 04 Mar 2009</td>\n",
       "      <td>R.PRICE 10913.5 #35</td>\n",
       "      <td>dolomite</td>\n",
       "      <td>2.4708</td>\n",
       "    </tr>\n",
       "    <tr>\n",
       "      <th>807</th>\n",
       "      <td>2002-08-29</td>\n",
       "      <td>R.PRICE 10883.5 #7</td>\n",
       "      <td>dolomite</td>\n",
       "      <td>2.5492</td>\n",
       "    </tr>\n",
       "  </tbody>\n",
       "</table>\n",
       "</div>"
      ],
      "text/plain": [
       "          YYYY-MM-DD          Description Lithology  Rho [kg/m³]\n",
       "798  Sat 24 Sep 2005  R.PRICE 10921.5 #43  dolomite       2.3540\n",
       "799       2007-08-20  R.PRICE 10916.5 #38  dolomite       2.3988\n",
       "800       2001-03-08  R.PRICE 10926.5 #48  dolomite       2.5300\n",
       "801       2005-07-12  R.PRICE 10928.5 #50  dolomite       2.3161\n",
       "802       2008-09-24  R.PRICE 10908.5 #30  dolomite       2.4204\n",
       "803       2014-10-10  R.PRICE 10909.5 #31  dolomite       2.4140\n",
       "804       2012-01-27  R.PRICE 10916.5 #38  dolomite       2.4757\n",
       "805       2012-09-19   R.PRICE 10883.5 #7  dolomite       2.5211\n",
       "806  Wed 04 Mar 2009  R.PRICE 10913.5 #35  dolomite       2.4708\n",
       "807       2002-08-29   R.PRICE 10883.5 #7  dolomite       2.5492"
      ]
     },
     "execution_count": 26,
     "metadata": {},
     "output_type": "execute_result"
    }
   ],
   "source": [
    "df.tail(10)[['YYYY-MM-DD', 'Description', 'Lithology', 'Rho [kg/m³]']]"
   ]
  },
  {
   "cell_type": "markdown",
   "id": "ae09757e",
   "metadata": {},
   "source": [
    "---\n",
    "\n",
    "## Fixing these errors<a id='cleaning'></a>\n",
    "\n",
    "### Dropping the redundant columns<a id='redundant'></a>"
   ]
  },
  {
   "cell_type": "code",
   "execution_count": 27,
   "id": "2f2824b0",
   "metadata": {},
   "outputs": [],
   "source": [
    "df = df.drop(columns=['Index', 'Source'])"
   ]
  },
  {
   "cell_type": "markdown",
   "id": "711c5bc2",
   "metadata": {},
   "source": [
    "### Fixing the dates<a id='dates'></a>\n",
    "\n",
    "If the dates were important, we could use them as the index, but it is not first-order information in this dataset."
   ]
  },
  {
   "cell_type": "code",
   "execution_count": 28,
   "id": "dd607b3b",
   "metadata": {},
   "outputs": [
    {
     "data": {
      "text/html": [
       "<div>\n",
       "<style scoped>\n",
       "    .dataframe tbody tr th:only-of-type {\n",
       "        vertical-align: middle;\n",
       "    }\n",
       "\n",
       "    .dataframe tbody tr th {\n",
       "        vertical-align: top;\n",
       "    }\n",
       "\n",
       "    .dataframe thead th {\n",
       "        text-align: right;\n",
       "    }\n",
       "</style>\n",
       "<table border=\"1\" class=\"dataframe\">\n",
       "  <thead>\n",
       "    <tr style=\"text-align: right;\">\n",
       "      <th></th>\n",
       "      <th>RPC</th>\n",
       "      <th>YYYY-MM-DD</th>\n",
       "      <th>Description</th>\n",
       "      <th>Lithology</th>\n",
       "      <th>DTP [μs/ft]</th>\n",
       "      <th>Vs [km/s]</th>\n",
       "      <th>VpVs ratio</th>\n",
       "      <th>Rho [kg/m³]</th>\n",
       "    </tr>\n",
       "  </thead>\n",
       "  <tbody>\n",
       "    <tr>\n",
       "      <th>0</th>\n",
       "      <td>104818</td>\n",
       "      <td>2002-05-04</td>\n",
       "      <td>KIAMICHI FORMA. 4</td>\n",
       "      <td>sandstone</td>\n",
       "      <td>-999.2500</td>\n",
       "      <td>1.5957</td>\n",
       "      <td>1.9086</td>\n",
       "      <td>2109.1206</td>\n",
       "    </tr>\n",
       "    <tr>\n",
       "      <th>1</th>\n",
       "      <td>104893</td>\n",
       "      <td>2012-08-09</td>\n",
       "      <td>KIAMICHI REMOLD 3</td>\n",
       "      <td>sandstone</td>\n",
       "      <td>101.5797</td>\n",
       "      <td>1.5171</td>\n",
       "      <td>1.9779</td>\n",
       "      <td>2090.3420</td>\n",
       "    </tr>\n",
       "    <tr>\n",
       "      <th>2</th>\n",
       "      <td>104652</td>\n",
       "      <td>2010-10-26</td>\n",
       "      <td>NAVAJO ARCO 2</td>\n",
       "      <td>SANDST.</td>\n",
       "      <td>90.6172</td>\n",
       "      <td>2.0415</td>\n",
       "      <td>1.6476</td>\n",
       "      <td>2131.9900</td>\n",
       "    </tr>\n",
       "    <tr>\n",
       "      <th>3</th>\n",
       "      <td>104752</td>\n",
       "      <td>2007-08-01</td>\n",
       "      <td>NAVAJO ARCO REMOL 1</td>\n",
       "      <td>SANDST.</td>\n",
       "      <td>95.3901</td>\n",
       "      <td>1.6062</td>\n",
       "      <td>1.9894</td>\n",
       "      <td>2184.9392</td>\n",
       "    </tr>\n",
       "    <tr>\n",
       "      <th>4</th>\n",
       "      <td>104598</td>\n",
       "      <td>2007-06-30</td>\n",
       "      <td>FERRON 82-3 1677.5</td>\n",
       "      <td>sandstone</td>\n",
       "      <td>71.9292</td>\n",
       "      <td>2.4486</td>\n",
       "      <td>1.7306</td>\n",
       "      <td>2472.2308</td>\n",
       "    </tr>\n",
       "    <tr>\n",
       "      <th>...</th>\n",
       "      <td>...</td>\n",
       "      <td>...</td>\n",
       "      <td>...</td>\n",
       "      <td>...</td>\n",
       "      <td>...</td>\n",
       "      <td>...</td>\n",
       "      <td>...</td>\n",
       "      <td>...</td>\n",
       "    </tr>\n",
       "    <tr>\n",
       "      <th>803</th>\n",
       "      <td>102178</td>\n",
       "      <td>2014-10-10</td>\n",
       "      <td>R.PRICE 10909.5 #31</td>\n",
       "      <td>dolomite</td>\n",
       "      <td>65.8887</td>\n",
       "      <td>2.7592</td>\n",
       "      <td>1.6766</td>\n",
       "      <td>2.4140</td>\n",
       "    </tr>\n",
       "    <tr>\n",
       "      <th>804</th>\n",
       "      <td>102225</td>\n",
       "      <td>2012-01-27</td>\n",
       "      <td>R.PRICE 10916.5 #38</td>\n",
       "      <td>dolomite</td>\n",
       "      <td>55.9657</td>\n",
       "      <td>3.1168</td>\n",
       "      <td>1.7474</td>\n",
       "      <td>2.4757</td>\n",
       "    </tr>\n",
       "    <tr>\n",
       "      <th>805</th>\n",
       "      <td>102088</td>\n",
       "      <td>2012-09-19</td>\n",
       "      <td>R.PRICE 10883.5 #7</td>\n",
       "      <td>dolomite</td>\n",
       "      <td>55.9657</td>\n",
       "      <td>2.9987</td>\n",
       "      <td>1.8162</td>\n",
       "      <td>2.5211</td>\n",
       "    </tr>\n",
       "    <tr>\n",
       "      <th>806</th>\n",
       "      <td>102213</td>\n",
       "      <td>2009-03-04</td>\n",
       "      <td>R.PRICE 10913.5 #35</td>\n",
       "      <td>dolomite</td>\n",
       "      <td>56.9957</td>\n",
       "      <td>2.9331</td>\n",
       "      <td>1.8233</td>\n",
       "      <td>2.4708</td>\n",
       "    </tr>\n",
       "    <tr>\n",
       "      <th>807</th>\n",
       "      <td>102086</td>\n",
       "      <td>2002-08-29</td>\n",
       "      <td>R.PRICE 10883.5 #7</td>\n",
       "      <td>dolomite</td>\n",
       "      <td>56.9957</td>\n",
       "      <td>2.8970</td>\n",
       "      <td>1.8460</td>\n",
       "      <td>2.5492</td>\n",
       "    </tr>\n",
       "  </tbody>\n",
       "</table>\n",
       "<p>808 rows × 8 columns</p>\n",
       "</div>"
      ],
      "text/plain": [
       "        RPC YYYY-MM-DD          Description  Lithology  DTP [μs/ft]  \\\n",
       "0    104818 2002-05-04    KIAMICHI FORMA. 4  sandstone    -999.2500   \n",
       "1    104893 2012-08-09    KIAMICHI REMOLD 3  sandstone     101.5797   \n",
       "2    104652 2010-10-26        NAVAJO ARCO 2    SANDST.      90.6172   \n",
       "3    104752 2007-08-01  NAVAJO ARCO REMOL 1    SANDST.      95.3901   \n",
       "4    104598 2007-06-30   FERRON 82-3 1677.5  sandstone      71.9292   \n",
       "..      ...        ...                  ...        ...          ...   \n",
       "803  102178 2014-10-10  R.PRICE 10909.5 #31   dolomite      65.8887   \n",
       "804  102225 2012-01-27  R.PRICE 10916.5 #38   dolomite      55.9657   \n",
       "805  102088 2012-09-19   R.PRICE 10883.5 #7   dolomite      55.9657   \n",
       "806  102213 2009-03-04  R.PRICE 10913.5 #35   dolomite      56.9957   \n",
       "807  102086 2002-08-29   R.PRICE 10883.5 #7   dolomite      56.9957   \n",
       "\n",
       "     Vs [km/s]  VpVs ratio  Rho [kg/m³]  \n",
       "0       1.5957      1.9086    2109.1206  \n",
       "1       1.5171      1.9779    2090.3420  \n",
       "2       2.0415      1.6476    2131.9900  \n",
       "3       1.6062      1.9894    2184.9392  \n",
       "4       2.4486      1.7306    2472.2308  \n",
       "..         ...         ...          ...  \n",
       "803     2.7592      1.6766       2.4140  \n",
       "804     3.1168      1.7474       2.4757  \n",
       "805     2.9987      1.8162       2.5211  \n",
       "806     2.9331      1.8233       2.4708  \n",
       "807     2.8970      1.8460       2.5492  \n",
       "\n",
       "[808 rows x 8 columns]"
      ]
     },
     "execution_count": 28,
     "metadata": {},
     "output_type": "execute_result"
    }
   ],
   "source": [
    "df['YYYY-MM-DD'] = pd.to_datetime(df['YYYY-MM-DD'])\n",
    "df"
   ]
  },
  {
   "cell_type": "markdown",
   "id": "ff3959fe",
   "metadata": {},
   "source": [
    "### Fixing the `Lithology` values<a id='lithology'></a>"
   ]
  },
  {
   "cell_type": "code",
   "execution_count": 29,
   "id": "838f2c1a",
   "metadata": {},
   "outputs": [
    {
     "data": {
      "text/plain": [
       "array(['sandstone', 'shale', 'limestone', 'dolomite'], dtype=object)"
      ]
     },
     "execution_count": 29,
     "metadata": {},
     "output_type": "execute_result"
    }
   ],
   "source": [
    "df['Lithology'] = df['Lithology'].str.replace('SANDST.', 'sandstone', regex=False)\n",
    "df['Lithology'].unique()"
   ]
  },
  {
   "cell_type": "code",
   "execution_count": 30,
   "id": "27a73f56",
   "metadata": {},
   "outputs": [
    {
     "data": {
      "text/plain": [
       "Lithology\n",
       "dolomite     204\n",
       "limestone    200\n",
       "sandstone    202\n",
       "shale        202\n",
       "dtype: int64"
      ]
     },
     "execution_count": 30,
     "metadata": {},
     "output_type": "execute_result"
    }
   ],
   "source": [
    "# Check if our classes are balanced. This looks decent: ~200 of each lithology.\n",
    "df.groupby('Lithology').size()"
   ]
  },
  {
   "cell_type": "markdown",
   "id": "23749d18",
   "metadata": {},
   "source": [
    "### Fixing the `Vs` values<a id='vs_values'></a>\n",
    "\n",
    "Careful not to keep the same column name, which contains the units!"
   ]
  },
  {
   "cell_type": "code",
   "execution_count": 31,
   "id": "9175dac1",
   "metadata": {},
   "outputs": [
    {
     "data": {
      "text/html": [
       "<div>\n",
       "<style scoped>\n",
       "    .dataframe tbody tr th:only-of-type {\n",
       "        vertical-align: middle;\n",
       "    }\n",
       "\n",
       "    .dataframe tbody tr th {\n",
       "        vertical-align: top;\n",
       "    }\n",
       "\n",
       "    .dataframe thead th {\n",
       "        text-align: right;\n",
       "    }\n",
       "</style>\n",
       "<table border=\"1\" class=\"dataframe\">\n",
       "  <thead>\n",
       "    <tr style=\"text-align: right;\">\n",
       "      <th></th>\n",
       "      <th>RPC</th>\n",
       "      <th>DTP [μs/ft]</th>\n",
       "      <th>Vs [km/s]</th>\n",
       "      <th>VpVs ratio</th>\n",
       "      <th>Rho [kg/m³]</th>\n",
       "      <th>Vs [m/s]</th>\n",
       "    </tr>\n",
       "  </thead>\n",
       "  <tbody>\n",
       "    <tr>\n",
       "      <th>count</th>\n",
       "      <td>808.000000</td>\n",
       "      <td>808.000000</td>\n",
       "      <td>808.000000</td>\n",
       "      <td>808.000000</td>\n",
       "      <td>760.000000</td>\n",
       "      <td>808.000000</td>\n",
       "    </tr>\n",
       "    <tr>\n",
       "      <th>mean</th>\n",
       "      <td>102277.626238</td>\n",
       "      <td>34.308767</td>\n",
       "      <td>2.116353</td>\n",
       "      <td>1.887390</td>\n",
       "      <td>1656.815643</td>\n",
       "      <td>2116.353465</td>\n",
       "    </tr>\n",
       "    <tr>\n",
       "      <th>std</th>\n",
       "      <td>1537.484250</td>\n",
       "      <td>237.790700</td>\n",
       "      <td>0.747915</td>\n",
       "      <td>0.377769</td>\n",
       "      <td>1029.026472</td>\n",
       "      <td>747.914804</td>\n",
       "    </tr>\n",
       "    <tr>\n",
       "      <th>min</th>\n",
       "      <td>100031.000000</td>\n",
       "      <td>-999.250000</td>\n",
       "      <td>0.441300</td>\n",
       "      <td>1.337600</td>\n",
       "      <td>2.262200</td>\n",
       "      <td>441.300000</td>\n",
       "    </tr>\n",
       "    <tr>\n",
       "      <th>25%</th>\n",
       "      <td>101112.750000</td>\n",
       "      <td>62.703750</td>\n",
       "      <td>1.527225</td>\n",
       "      <td>1.666075</td>\n",
       "      <td>2.666425</td>\n",
       "      <td>1527.225000</td>\n",
       "    </tr>\n",
       "    <tr>\n",
       "      <th>50%</th>\n",
       "      <td>102083.500000</td>\n",
       "      <td>80.410850</td>\n",
       "      <td>2.202600</td>\n",
       "      <td>1.779850</td>\n",
       "      <td>2109.104250</td>\n",
       "      <td>2202.600000</td>\n",
       "    </tr>\n",
       "    <tr>\n",
       "      <th>75%</th>\n",
       "      <td>103284.750000</td>\n",
       "      <td>99.818225</td>\n",
       "      <td>2.733000</td>\n",
       "      <td>1.943675</td>\n",
       "      <td>2422.384950</td>\n",
       "      <td>2733.000000</td>\n",
       "    </tr>\n",
       "    <tr>\n",
       "      <th>max</th>\n",
       "      <td>105090.000000</td>\n",
       "      <td>204.466100</td>\n",
       "      <td>3.665000</td>\n",
       "      <td>4.707800</td>\n",
       "      <td>2823.287700</td>\n",
       "      <td>3665.000000</td>\n",
       "    </tr>\n",
       "  </tbody>\n",
       "</table>\n",
       "</div>"
      ],
      "text/plain": [
       "                 RPC  DTP [μs/ft]   Vs [km/s]  VpVs ratio  Rho [kg/m³]  \\\n",
       "count     808.000000   808.000000  808.000000  808.000000   760.000000   \n",
       "mean   102277.626238    34.308767    2.116353    1.887390  1656.815643   \n",
       "std      1537.484250   237.790700    0.747915    0.377769  1029.026472   \n",
       "min    100031.000000  -999.250000    0.441300    1.337600     2.262200   \n",
       "25%    101112.750000    62.703750    1.527225    1.666075     2.666425   \n",
       "50%    102083.500000    80.410850    2.202600    1.779850  2109.104250   \n",
       "75%    103284.750000    99.818225    2.733000    1.943675  2422.384950   \n",
       "max    105090.000000   204.466100    3.665000    4.707800  2823.287700   \n",
       "\n",
       "          Vs [m/s]  \n",
       "count   808.000000  \n",
       "mean   2116.353465  \n",
       "std     747.914804  \n",
       "min     441.300000  \n",
       "25%    1527.225000  \n",
       "50%    2202.600000  \n",
       "75%    2733.000000  \n",
       "max    3665.000000  "
      ]
     },
     "execution_count": 31,
     "metadata": {},
     "output_type": "execute_result"
    }
   ],
   "source": [
    "df['Vs [m/s]'] = df['Vs [km/s]'] * 1000\n",
    "df.describe()"
   ]
  },
  {
   "cell_type": "markdown",
   "id": "188afb8f",
   "metadata": {},
   "source": [
    "### Fixing the `Rho` values<a id='rho_values'></a>"
   ]
  },
  {
   "cell_type": "code",
   "execution_count": 32,
   "id": "04cdc560",
   "metadata": {},
   "outputs": [
    {
     "data": {
      "text/plain": [
       "<AxesSubplot:>"
      ]
     },
     "execution_count": 32,
     "metadata": {},
     "output_type": "execute_result"
    },
    {
     "data": {
      "image/png": "[encoded data removed]",
      "text/plain": [
       "<Figure size 432x288 with 1 Axes>"
      ]
     },
     "metadata": {
      "needs_background": "light"
     },
     "output_type": "display_data"
    }
   ],
   "source": [
    "df['Rho [kg/m³]'].plot()"
   ]
  },
  {
   "cell_type": "code",
   "execution_count": 33,
   "id": "9fbeeffc",
   "metadata": {},
   "outputs": [
    {
     "data": {
      "text/plain": [
       "<AxesSubplot:>"
      ]
     },
     "execution_count": 33,
     "metadata": {},
     "output_type": "execute_result"
    },
    {
     "data": {
      "image/png": "[encoded data removed]",
      "text/plain": [
       "<Figure size 432x288 with 1 Axes>"
      ]
     },
     "metadata": {
      "needs_background": "light"
     },
     "output_type": "display_data"
    }
   ],
   "source": [
    "df[df['Rho [kg/m³]'] < 10]['Rho [kg/m³]'].plot()"
   ]
  },
  {
   "cell_type": "code",
   "execution_count": 34,
   "id": "a78b9d4d",
   "metadata": {},
   "outputs": [
    {
     "data": {
      "text/plain": [
       "array(['dolomite'], dtype=object)"
      ]
     },
     "execution_count": 34,
     "metadata": {},
     "output_type": "execute_result"
    }
   ],
   "source": [
    "df[df['Rho [kg/m³]'] < 10]['Lithology'].unique()"
   ]
  },
  {
   "cell_type": "markdown",
   "id": "3e303e00",
   "metadata": {},
   "source": [
    "Check the complement does **not** contain dolomite:"
   ]
  },
  {
   "cell_type": "code",
   "execution_count": 35,
   "id": "3b71506a",
   "metadata": {},
   "outputs": [
    {
     "data": {
      "text/plain": [
       "array(['sandstone', 'shale', 'limestone'], dtype=object)"
      ]
     },
     "execution_count": 35,
     "metadata": {},
     "output_type": "execute_result"
    }
   ],
   "source": [
    "df[df['Rho [kg/m³]'] > 10]['Lithology'].unique()"
   ]
  },
  {
   "cell_type": "markdown",
   "id": "d5504758",
   "metadata": {},
   "source": [
    "Okay, **all** the dolomite has broken units."
   ]
  },
  {
   "cell_type": "code",
   "execution_count": 36,
   "id": "fdd1a537",
   "metadata": {},
   "outputs": [
    {
     "data": {
      "text/plain": [
       "<AxesSubplot:>"
      ]
     },
     "execution_count": 36,
     "metadata": {},
     "output_type": "execute_result"
    },
    {
     "data": {
      "image/png": "[encoded data removed]",
      "text/plain": [
       "<Figure size 432x288 with 1 Axes>"
      ]
     },
     "metadata": {
      "needs_background": "light"
     },
     "output_type": "display_data"
    }
   ],
   "source": [
    "dolomites = df['Lithology'] == 'dolomite'\n",
    "\n",
    "df.loc[dolomites, 'Rho [kg/m³]'] = df.loc[dolomites, 'Rho [kg/m³]'] * 1000\n",
    "df['Rho [kg/m³]'].plot()"
   ]
  },
  {
   "cell_type": "markdown",
   "id": "1d9e6a4c",
   "metadata": {},
   "source": [
    "Notice that big gap."
   ]
  },
  {
   "cell_type": "markdown",
   "id": "1165cff2",
   "metadata": {},
   "source": [
    "### Fixing the `NaN` values<a id='nan_values'></a>"
   ]
  },
  {
   "cell_type": "code",
   "execution_count": 37,
   "id": "ff7c634c",
   "metadata": {},
   "outputs": [
    {
     "name": "stdout",
     "output_type": "stream",
     "text": [
      "<class 'pandas.core.frame.DataFrame'>\n",
      "RangeIndex: 808 entries, 0 to 807\n",
      "Data columns (total 9 columns):\n",
      " #   Column       Non-Null Count  Dtype         \n",
      "---  ------       --------------  -----         \n",
      " 0   RPC          808 non-null    int64         \n",
      " 1   YYYY-MM-DD   808 non-null    datetime64[ns]\n",
      " 2   Description  808 non-null    object        \n",
      " 3   Lithology    808 non-null    object        \n",
      " 4   DTP [μs/ft]  808 non-null    float64       \n",
      " 5   Vs [km/s]    808 non-null    float64       \n",
      " 6   VpVs ratio   808 non-null    float64       \n",
      " 7   Rho [kg/m³]  760 non-null    float64       \n",
      " 8   Vs [m/s]     808 non-null    float64       \n",
      "dtypes: datetime64[ns](1), float64(5), int64(1), object(2)\n",
      "memory usage: 56.9+ KB\n"
     ]
    }
   ],
   "source": [
    "df.info()"
   ]
  },
  {
   "cell_type": "code",
   "execution_count": 38,
   "id": "8ae86ecd",
   "metadata": {},
   "outputs": [
    {
     "name": "stdout",
     "output_type": "stream",
     "text": [
      "<class 'pandas.core.frame.DataFrame'>\n",
      "RangeIndex: 808 entries, 0 to 807\n",
      "Data columns (total 10 columns):\n",
      " #   Column       Non-Null Count  Dtype         \n",
      "---  ------       --------------  -----         \n",
      " 0   RPC          808 non-null    int64         \n",
      " 1   YYYY-MM-DD   808 non-null    datetime64[ns]\n",
      " 2   Description  808 non-null    object        \n",
      " 3   Lithology    808 non-null    object        \n",
      " 4   DTP [μs/ft]  808 non-null    float64       \n",
      " 5   Vs [km/s]    808 non-null    float64       \n",
      " 6   VpVs ratio   808 non-null    float64       \n",
      " 7   Rho [kg/m³]  760 non-null    float64       \n",
      " 8   Vs [m/s]     808 non-null    float64       \n",
      " 9   Vp [m/s]     808 non-null    float64       \n",
      "dtypes: datetime64[ns](1), float64(6), int64(1), object(2)\n",
      "memory usage: 63.2+ KB\n"
     ]
    }
   ],
   "source": [
    "df['Vp [m/s]'] = df['Vs [m/s]'] * df['VpVs ratio']\n",
    "df.info()"
   ]
  },
  {
   "cell_type": "code",
   "execution_count": 39,
   "id": "5a910053",
   "metadata": {},
   "outputs": [
    {
     "data": {
      "text/html": [
       "<div>\n",
       "<style scoped>\n",
       "    .dataframe tbody tr th:only-of-type {\n",
       "        vertical-align: middle;\n",
       "    }\n",
       "\n",
       "    .dataframe tbody tr th {\n",
       "        vertical-align: top;\n",
       "    }\n",
       "\n",
       "    .dataframe thead th {\n",
       "        text-align: right;\n",
       "    }\n",
       "</style>\n",
       "<table border=\"1\" class=\"dataframe\">\n",
       "  <thead>\n",
       "    <tr style=\"text-align: right;\">\n",
       "      <th></th>\n",
       "      <th>DTP [μs/ft]</th>\n",
       "      <th>Vp [m/s]</th>\n",
       "    </tr>\n",
       "  </thead>\n",
       "  <tbody>\n",
       "    <tr>\n",
       "      <th>0</th>\n",
       "      <td>-999.2500</td>\n",
       "      <td>100.080346</td>\n",
       "    </tr>\n",
       "    <tr>\n",
       "      <th>1</th>\n",
       "      <td>101.5797</td>\n",
       "      <td>101.577244</td>\n",
       "    </tr>\n",
       "    <tr>\n",
       "      <th>2</th>\n",
       "      <td>90.6172</td>\n",
       "      <td>90.617859</td>\n",
       "    </tr>\n",
       "    <tr>\n",
       "      <th>3</th>\n",
       "      <td>95.3901</td>\n",
       "      <td>95.387887</td>\n",
       "    </tr>\n",
       "    <tr>\n",
       "      <th>4</th>\n",
       "      <td>71.9292</td>\n",
       "      <td>71.928403</td>\n",
       "    </tr>\n",
       "    <tr>\n",
       "      <th>...</th>\n",
       "      <td>...</td>\n",
       "      <td>...</td>\n",
       "    </tr>\n",
       "    <tr>\n",
       "      <th>803</th>\n",
       "      <td>65.8887</td>\n",
       "      <td>65.887392</td>\n",
       "    </tr>\n",
       "    <tr>\n",
       "      <th>804</th>\n",
       "      <td>55.9657</td>\n",
       "      <td>55.964638</td>\n",
       "    </tr>\n",
       "    <tr>\n",
       "      <th>805</th>\n",
       "      <td>55.9657</td>\n",
       "      <td>55.965227</td>\n",
       "    </tr>\n",
       "    <tr>\n",
       "      <th>806</th>\n",
       "      <td>56.9957</td>\n",
       "      <td>56.994108</td>\n",
       "    </tr>\n",
       "    <tr>\n",
       "      <th>807</th>\n",
       "      <td>56.9957</td>\n",
       "      <td>56.994739</td>\n",
       "    </tr>\n",
       "  </tbody>\n",
       "</table>\n",
       "<p>808 rows × 2 columns</p>\n",
       "</div>"
      ],
      "text/plain": [
       "     DTP [μs/ft]    Vp [m/s]\n",
       "0      -999.2500  100.080346\n",
       "1       101.5797  101.577244\n",
       "2        90.6172   90.617859\n",
       "3        95.3901   95.387887\n",
       "4        71.9292   71.928403\n",
       "..           ...         ...\n",
       "803      65.8887   65.887392\n",
       "804      55.9657   55.964638\n",
       "805      55.9657   55.965227\n",
       "806      56.9957   56.994108\n",
       "807      56.9957   56.994739\n",
       "\n",
       "[808 rows x 2 columns]"
      ]
     },
     "execution_count": 39,
     "metadata": {},
     "output_type": "execute_result"
    }
   ],
   "source": [
    "DTP_est = 1e6 * 0.3048 / df['Vp [m/s]']\n",
    "pd.DataFrame([df['DTP [μs/ft]'], DTP_est]).T\n",
    "\n",
    "# Right-hand column is actually DTP_est."
   ]
  },
  {
   "cell_type": "code",
   "execution_count": 40,
   "id": "a6d5f750",
   "metadata": {},
   "outputs": [
    {
     "data": {
      "text/plain": [
       "<AxesSubplot:>"
      ]
     },
     "execution_count": 40,
     "metadata": {},
     "output_type": "execute_result"
    },
    {
     "data": {
      "image/png": "[encoded data removed]",
      "text/plain": [
       "<Figure size 432x288 with 1 Axes>"
      ]
     },
     "metadata": {
      "needs_background": "light"
     },
     "output_type": "display_data"
    }
   ],
   "source": [
    "(df['DTP [μs/ft]'] - DTP_est).plot()"
   ]
  },
  {
   "cell_type": "markdown",
   "id": "5fe08f6c",
   "metadata": {},
   "source": [
    "Seems to be a reasonable estimate, let's just keep Vp and drop VpVs and DTP."
   ]
  },
  {
   "cell_type": "code",
   "execution_count": 41,
   "id": "1fc8b47b",
   "metadata": {},
   "outputs": [],
   "source": [
    "df = df.drop(columns=['Vs [km/s]', 'VpVs ratio', 'DTP [μs/ft]'])"
   ]
  },
  {
   "cell_type": "markdown",
   "id": "2e95a94f",
   "metadata": {},
   "source": [
    "### Check for duplicate values<a id='duplicates'></a>\n",
    "\n",
    "We will only keep one of them, by default the first."
   ]
  },
  {
   "cell_type": "code",
   "execution_count": 42,
   "id": "92ff3736",
   "metadata": {},
   "outputs": [
    {
     "data": {
      "text/html": [
       "<div>\n",
       "<style scoped>\n",
       "    .dataframe tbody tr th:only-of-type {\n",
       "        vertical-align: middle;\n",
       "    }\n",
       "\n",
       "    .dataframe tbody tr th {\n",
       "        vertical-align: top;\n",
       "    }\n",
       "\n",
       "    .dataframe thead th {\n",
       "        text-align: right;\n",
       "    }\n",
       "</style>\n",
       "<table border=\"1\" class=\"dataframe\">\n",
       "  <thead>\n",
       "    <tr style=\"text-align: right;\">\n",
       "      <th></th>\n",
       "      <th>RPC</th>\n",
       "      <th>YYYY-MM-DD</th>\n",
       "      <th>Description</th>\n",
       "      <th>Lithology</th>\n",
       "      <th>Rho [kg/m³]</th>\n",
       "      <th>Vs [m/s]</th>\n",
       "      <th>Vp [m/s]</th>\n",
       "    </tr>\n",
       "  </thead>\n",
       "  <tbody>\n",
       "    <tr>\n",
       "      <th>76</th>\n",
       "      <td>104646</td>\n",
       "      <td>2005-12-14</td>\n",
       "      <td>NAVAJO ARCO 2</td>\n",
       "      <td>sandstone</td>\n",
       "      <td>2210.1729</td>\n",
       "      <td>1848.9</td>\n",
       "      <td>3069.54378</td>\n",
       "    </tr>\n",
       "    <tr>\n",
       "      <th>77</th>\n",
       "      <td>104646</td>\n",
       "      <td>2005-12-14</td>\n",
       "      <td>NAVAJO ARCO 2</td>\n",
       "      <td>sandstone</td>\n",
       "      <td>2210.1729</td>\n",
       "      <td>1848.9</td>\n",
       "      <td>3069.54378</td>\n",
       "    </tr>\n",
       "    <tr>\n",
       "      <th>138</th>\n",
       "      <td>104703</td>\n",
       "      <td>2006-03-19</td>\n",
       "      <td>NAVAJO ARCO 3</td>\n",
       "      <td>sandstone</td>\n",
       "      <td>2096.4860</td>\n",
       "      <td>2142.6</td>\n",
       "      <td>3740.76534</td>\n",
       "    </tr>\n",
       "    <tr>\n",
       "      <th>139</th>\n",
       "      <td>104703</td>\n",
       "      <td>2006-03-19</td>\n",
       "      <td>NAVAJO ARCO 3</td>\n",
       "      <td>sandstone</td>\n",
       "      <td>2096.4860</td>\n",
       "      <td>2142.6</td>\n",
       "      <td>3740.76534</td>\n",
       "    </tr>\n",
       "    <tr>\n",
       "      <th>377</th>\n",
       "      <td>100066</td>\n",
       "      <td>2004-12-08</td>\n",
       "      <td>Hard shale</td>\n",
       "      <td>shale</td>\n",
       "      <td>2642.6244</td>\n",
       "      <td>2426.7</td>\n",
       "      <td>3902.37627</td>\n",
       "    </tr>\n",
       "    <tr>\n",
       "      <th>378</th>\n",
       "      <td>100066</td>\n",
       "      <td>2004-12-08</td>\n",
       "      <td>Hard shale</td>\n",
       "      <td>shale</td>\n",
       "      <td>2642.6244</td>\n",
       "      <td>2426.7</td>\n",
       "      <td>3902.37627</td>\n",
       "    </tr>\n",
       "    <tr>\n",
       "      <th>383</th>\n",
       "      <td>101009</td>\n",
       "      <td>2001-06-24</td>\n",
       "      <td>Gray Shale</td>\n",
       "      <td>shale</td>\n",
       "      <td>2664.8891</td>\n",
       "      <td>2207.0</td>\n",
       "      <td>3067.50930</td>\n",
       "    </tr>\n",
       "    <tr>\n",
       "      <th>384</th>\n",
       "      <td>101009</td>\n",
       "      <td>2001-06-24</td>\n",
       "      <td>Gray Shale</td>\n",
       "      <td>shale</td>\n",
       "      <td>2664.8891</td>\n",
       "      <td>2207.0</td>\n",
       "      <td>3067.50930</td>\n",
       "    </tr>\n",
       "    <tr>\n",
       "      <th>668</th>\n",
       "      <td>102283</td>\n",
       "      <td>2010-03-19</td>\n",
       "      <td>R.PRICE 10928.5 #50</td>\n",
       "      <td>dolomite</td>\n",
       "      <td>2300.8000</td>\n",
       "      <td>2605.0</td>\n",
       "      <td>4461.84400</td>\n",
       "    </tr>\n",
       "    <tr>\n",
       "      <th>669</th>\n",
       "      <td>102283</td>\n",
       "      <td>2010-03-19</td>\n",
       "      <td>R.PRICE 10928.5 #50</td>\n",
       "      <td>dolomite</td>\n",
       "      <td>2300.8000</td>\n",
       "      <td>2605.0</td>\n",
       "      <td>4461.84400</td>\n",
       "    </tr>\n",
       "    <tr>\n",
       "      <th>676</th>\n",
       "      <td>102289</td>\n",
       "      <td>2008-11-05</td>\n",
       "      <td>R.PRICE 10928.5 #50</td>\n",
       "      <td>dolomite</td>\n",
       "      <td>2331.2000</td>\n",
       "      <td>2365.5</td>\n",
       "      <td>4002.66255</td>\n",
       "    </tr>\n",
       "    <tr>\n",
       "      <th>677</th>\n",
       "      <td>102289</td>\n",
       "      <td>2008-11-05</td>\n",
       "      <td>R.PRICE 10928.5 #50</td>\n",
       "      <td>dolomite</td>\n",
       "      <td>2331.2000</td>\n",
       "      <td>2365.5</td>\n",
       "      <td>4002.66255</td>\n",
       "    </tr>\n",
       "    <tr>\n",
       "      <th>678</th>\n",
       "      <td>102169</td>\n",
       "      <td>2015-01-14</td>\n",
       "      <td>R.PRICE 10908.5 #30</td>\n",
       "      <td>dolomite</td>\n",
       "      <td>2415.0000</td>\n",
       "      <td>2657.5</td>\n",
       "      <td>4855.78400</td>\n",
       "    </tr>\n",
       "    <tr>\n",
       "      <th>679</th>\n",
       "      <td>102169</td>\n",
       "      <td>2015-01-14</td>\n",
       "      <td>R.PRICE 10908.5 #30</td>\n",
       "      <td>dolomite</td>\n",
       "      <td>2415.0000</td>\n",
       "      <td>2657.5</td>\n",
       "      <td>4855.78400</td>\n",
       "    </tr>\n",
       "    <tr>\n",
       "      <th>719</th>\n",
       "      <td>102214</td>\n",
       "      <td>2009-12-28</td>\n",
       "      <td>R.PRICE 10913.5 #35</td>\n",
       "      <td>dolomite</td>\n",
       "      <td>2473.4000</td>\n",
       "      <td>2975.7</td>\n",
       "      <td>5478.85884</td>\n",
       "    </tr>\n",
       "    <tr>\n",
       "      <th>720</th>\n",
       "      <td>102214</td>\n",
       "      <td>2009-12-28</td>\n",
       "      <td>R.PRICE 10913.5 #35</td>\n",
       "      <td>dolomite</td>\n",
       "      <td>2473.4000</td>\n",
       "      <td>2975.7</td>\n",
       "      <td>5478.85884</td>\n",
       "    </tr>\n",
       "  </tbody>\n",
       "</table>\n",
       "</div>"
      ],
      "text/plain": [
       "        RPC YYYY-MM-DD          Description  Lithology  Rho [kg/m³]  Vs [m/s]  \\\n",
       "76   104646 2005-12-14        NAVAJO ARCO 2  sandstone    2210.1729    1848.9   \n",
       "77   104646 2005-12-14        NAVAJO ARCO 2  sandstone    2210.1729    1848.9   \n",
       "138  104703 2006-03-19        NAVAJO ARCO 3  sandstone    2096.4860    2142.6   \n",
       "139  104703 2006-03-19        NAVAJO ARCO 3  sandstone    2096.4860    2142.6   \n",
       "377  100066 2004-12-08           Hard shale      shale    2642.6244    2426.7   \n",
       "378  100066 2004-12-08           Hard shale      shale    2642.6244    2426.7   \n",
       "383  101009 2001-06-24           Gray Shale      shale    2664.8891    2207.0   \n",
       "384  101009 2001-06-24           Gray Shale      shale    2664.8891    2207.0   \n",
       "668  102283 2010-03-19  R.PRICE 10928.5 #50   dolomite    2300.8000    2605.0   \n",
       "669  102283 2010-03-19  R.PRICE 10928.5 #50   dolomite    2300.8000    2605.0   \n",
       "676  102289 2008-11-05  R.PRICE 10928.5 #50   dolomite    2331.2000    2365.5   \n",
       "677  102289 2008-11-05  R.PRICE 10928.5 #50   dolomite    2331.2000    2365.5   \n",
       "678  102169 2015-01-14  R.PRICE 10908.5 #30   dolomite    2415.0000    2657.5   \n",
       "679  102169 2015-01-14  R.PRICE 10908.5 #30   dolomite    2415.0000    2657.5   \n",
       "719  102214 2009-12-28  R.PRICE 10913.5 #35   dolomite    2473.4000    2975.7   \n",
       "720  102214 2009-12-28  R.PRICE 10913.5 #35   dolomite    2473.4000    2975.7   \n",
       "\n",
       "       Vp [m/s]  \n",
       "76   3069.54378  \n",
       "77   3069.54378  \n",
       "138  3740.76534  \n",
       "139  3740.76534  \n",
       "377  3902.37627  \n",
       "378  3902.37627  \n",
       "383  3067.50930  \n",
       "384  3067.50930  \n",
       "668  4461.84400  \n",
       "669  4461.84400  \n",
       "676  4002.66255  \n",
       "677  4002.66255  \n",
       "678  4855.78400  \n",
       "679  4855.78400  \n",
       "719  5478.85884  \n",
       "720  5478.85884  "
      ]
     },
     "execution_count": 42,
     "metadata": {},
     "output_type": "execute_result"
    }
   ],
   "source": [
    "df.loc[df.duplicated(keep=False)] # keep=False shows all matching records."
   ]
  },
  {
   "cell_type": "code",
   "execution_count": 43,
   "id": "adc65129",
   "metadata": {},
   "outputs": [],
   "source": [
    "df = df.loc[~df.duplicated(keep='first')]"
   ]
  },
  {
   "cell_type": "markdown",
   "id": "e2ee7f33",
   "metadata": {},
   "source": [
    "There's also `df.drop_duplicates()`."
   ]
  },
  {
   "cell_type": "markdown",
   "id": "adb02f1c",
   "metadata": {},
   "source": [
    "### Dropping `NaN` values\n",
    "\n",
    "We still have NaNs in `Rho`:"
   ]
  },
  {
   "cell_type": "code",
   "execution_count": 44,
   "id": "f681844f",
   "metadata": {},
   "outputs": [
    {
     "name": "stdout",
     "output_type": "stream",
     "text": [
      "<class 'pandas.core.frame.DataFrame'>\n",
      "Int64Index: 800 entries, 0 to 807\n",
      "Data columns (total 7 columns):\n",
      " #   Column       Non-Null Count  Dtype         \n",
      "---  ------       --------------  -----         \n",
      " 0   RPC          800 non-null    int64         \n",
      " 1   YYYY-MM-DD   800 non-null    datetime64[ns]\n",
      " 2   Description  800 non-null    object        \n",
      " 3   Lithology    800 non-null    object        \n",
      " 4   Rho [kg/m³]  752 non-null    float64       \n",
      " 5   Vs [m/s]     800 non-null    float64       \n",
      " 6   Vp [m/s]     800 non-null    float64       \n",
      "dtypes: datetime64[ns](1), float64(3), int64(1), object(2)\n",
      "memory usage: 50.0+ KB\n"
     ]
    }
   ],
   "source": [
    "df.info()"
   ]
  },
  {
   "cell_type": "code",
   "execution_count": 45,
   "id": "10b2b060",
   "metadata": {},
   "outputs": [],
   "source": [
    "df = df.dropna()"
   ]
  },
  {
   "cell_type": "markdown",
   "id": "071dfc18",
   "metadata": {},
   "source": [
    "### Renaming columns<a id='renaming'></a>"
   ]
  },
  {
   "cell_type": "code",
   "execution_count": 46,
   "id": "775c61db",
   "metadata": {},
   "outputs": [
    {
     "data": {
      "text/plain": [
       "Index(['RPC', 'YYYY-MM-DD', 'Description', 'Lithology', 'Rho [kg/m³]',\n",
       "       'Vs [m/s]', 'Vp [m/s]'],\n",
       "      dtype='object')"
      ]
     },
     "execution_count": 46,
     "metadata": {},
     "output_type": "execute_result"
    }
   ],
   "source": [
    "df.columns"
   ]
  },
  {
   "cell_type": "code",
   "execution_count": 47,
   "id": "4a08888d",
   "metadata": {},
   "outputs": [],
   "source": [
    "df.rename(columns={'YYYY-MM-DD': 'Date'}, inplace=True)"
   ]
  },
  {
   "cell_type": "markdown",
   "id": "b6e1101a",
   "metadata": {},
   "source": [
    "We may want to deal with the units in the column names. One way of doing this is with a `MultiIndex`. First we get a list of tuples of the header name and its unit, if any:"
   ]
  },
  {
   "cell_type": "code",
   "execution_count": 54,
   "id": "002fc952",
   "metadata": {},
   "outputs": [
    {
     "data": {
      "text/plain": [
       "[('RPC', ''),\n",
       " ('Date', ''),\n",
       " ('Description', ''),\n",
       " ('Lithology', ''),\n",
       " ['Rho', '[kg/m³]'],\n",
       " ['Vs', '[m/s]'],\n",
       " ['Vp', '[m/s]']]"
      ]
     },
     "execution_count": 54,
     "metadata": {},
     "output_type": "execute_result"
    }
   ],
   "source": [
    "names = [c.split() if ' ' in c else (c, '') for c in df.columns]\n",
    "names"
   ]
  },
  {
   "cell_type": "code",
   "execution_count": 55,
   "id": "64e54d1f",
   "metadata": {},
   "outputs": [
    {
     "data": {
      "text/plain": [
       "MultiIndex([(        'RPC',        ''),\n",
       "            (       'Date',        ''),\n",
       "            ('Description',        ''),\n",
       "            (  'Lithology',        ''),\n",
       "            (        'Rho', '[kg/m³]'),\n",
       "            (         'Vs',   '[m/s]'),\n",
       "            (         'Vp',   '[m/s]')],\n",
       "           )"
      ]
     },
     "execution_count": 55,
     "metadata": {},
     "output_type": "execute_result"
    }
   ],
   "source": [
    "# the `MultiIndex.from_tuples` method will let us rename our columns:\n",
    "pd.MultiIndex.from_tuples(names)"
   ]
  },
  {
   "cell_type": "code",
   "execution_count": 56,
   "id": "7fecbcd5",
   "metadata": {},
   "outputs": [
    {
     "data": {
      "text/html": [
       "<div>\n",
       "<style scoped>\n",
       "    .dataframe tbody tr th:only-of-type {\n",
       "        vertical-align: middle;\n",
       "    }\n",
       "\n",
       "    .dataframe tbody tr th {\n",
       "        vertical-align: top;\n",
       "    }\n",
       "\n",
       "    .dataframe thead tr th {\n",
       "        text-align: left;\n",
       "    }\n",
       "</style>\n",
       "<table border=\"1\" class=\"dataframe\">\n",
       "  <thead>\n",
       "    <tr>\n",
       "      <th></th>\n",
       "      <th>RPC</th>\n",
       "      <th>Date</th>\n",
       "      <th>Description</th>\n",
       "      <th>Lithology</th>\n",
       "      <th>Rho</th>\n",
       "      <th>Vs</th>\n",
       "      <th>Vp</th>\n",
       "    </tr>\n",
       "    <tr>\n",
       "      <th></th>\n",
       "      <th></th>\n",
       "      <th></th>\n",
       "      <th></th>\n",
       "      <th></th>\n",
       "      <th>[kg/m³]</th>\n",
       "      <th>[m/s]</th>\n",
       "      <th>[m/s]</th>\n",
       "    </tr>\n",
       "  </thead>\n",
       "  <tbody>\n",
       "    <tr>\n",
       "      <th>0</th>\n",
       "      <td>104818</td>\n",
       "      <td>2002-05-04</td>\n",
       "      <td>KIAMICHI FORMA. 4</td>\n",
       "      <td>sandstone</td>\n",
       "      <td>2109.1206</td>\n",
       "      <td>1595.7</td>\n",
       "      <td>3045.55302</td>\n",
       "    </tr>\n",
       "    <tr>\n",
       "      <th>1</th>\n",
       "      <td>104893</td>\n",
       "      <td>2012-08-09</td>\n",
       "      <td>KIAMICHI REMOLD 3</td>\n",
       "      <td>sandstone</td>\n",
       "      <td>2090.3420</td>\n",
       "      <td>1517.1</td>\n",
       "      <td>3000.67209</td>\n",
       "    </tr>\n",
       "    <tr>\n",
       "      <th>2</th>\n",
       "      <td>104652</td>\n",
       "      <td>2010-10-26</td>\n",
       "      <td>NAVAJO ARCO 2</td>\n",
       "      <td>sandstone</td>\n",
       "      <td>2131.9900</td>\n",
       "      <td>2041.5</td>\n",
       "      <td>3363.57540</td>\n",
       "    </tr>\n",
       "    <tr>\n",
       "      <th>3</th>\n",
       "      <td>104752</td>\n",
       "      <td>2007-08-01</td>\n",
       "      <td>NAVAJO ARCO REMOL 1</td>\n",
       "      <td>sandstone</td>\n",
       "      <td>2184.9392</td>\n",
       "      <td>1606.2</td>\n",
       "      <td>3195.37428</td>\n",
       "    </tr>\n",
       "    <tr>\n",
       "      <th>4</th>\n",
       "      <td>104598</td>\n",
       "      <td>2007-06-30</td>\n",
       "      <td>FERRON 82-3 1677.5</td>\n",
       "      <td>sandstone</td>\n",
       "      <td>2472.2308</td>\n",
       "      <td>2448.6</td>\n",
       "      <td>4237.54716</td>\n",
       "    </tr>\n",
       "    <tr>\n",
       "      <th>...</th>\n",
       "      <td>...</td>\n",
       "      <td>...</td>\n",
       "      <td>...</td>\n",
       "      <td>...</td>\n",
       "      <td>...</td>\n",
       "      <td>...</td>\n",
       "      <td>...</td>\n",
       "    </tr>\n",
       "    <tr>\n",
       "      <th>803</th>\n",
       "      <td>102178</td>\n",
       "      <td>2014-10-10</td>\n",
       "      <td>R.PRICE 10909.5 #31</td>\n",
       "      <td>dolomite</td>\n",
       "      <td>2414.0000</td>\n",
       "      <td>2759.2</td>\n",
       "      <td>4626.07472</td>\n",
       "    </tr>\n",
       "    <tr>\n",
       "      <th>804</th>\n",
       "      <td>102225</td>\n",
       "      <td>2012-01-27</td>\n",
       "      <td>R.PRICE 10916.5 #38</td>\n",
       "      <td>dolomite</td>\n",
       "      <td>2475.7000</td>\n",
       "      <td>3116.8</td>\n",
       "      <td>5446.29632</td>\n",
       "    </tr>\n",
       "    <tr>\n",
       "      <th>805</th>\n",
       "      <td>102088</td>\n",
       "      <td>2012-09-19</td>\n",
       "      <td>R.PRICE 10883.5 #7</td>\n",
       "      <td>dolomite</td>\n",
       "      <td>2521.1000</td>\n",
       "      <td>2998.7</td>\n",
       "      <td>5446.23894</td>\n",
       "    </tr>\n",
       "    <tr>\n",
       "      <th>806</th>\n",
       "      <td>102213</td>\n",
       "      <td>2009-03-04</td>\n",
       "      <td>R.PRICE 10913.5 #35</td>\n",
       "      <td>dolomite</td>\n",
       "      <td>2470.8000</td>\n",
       "      <td>2933.1</td>\n",
       "      <td>5347.92123</td>\n",
       "    </tr>\n",
       "    <tr>\n",
       "      <th>807</th>\n",
       "      <td>102086</td>\n",
       "      <td>2002-08-29</td>\n",
       "      <td>R.PRICE 10883.5 #7</td>\n",
       "      <td>dolomite</td>\n",
       "      <td>2549.2000</td>\n",
       "      <td>2897.0</td>\n",
       "      <td>5347.86200</td>\n",
       "    </tr>\n",
       "  </tbody>\n",
       "</table>\n",
       "<p>752 rows × 7 columns</p>\n",
       "</div>"
      ],
      "text/plain": [
       "        RPC       Date          Description  Lithology        Rho      Vs  \\\n",
       "                                                          [kg/m³]   [m/s]   \n",
       "0    104818 2002-05-04    KIAMICHI FORMA. 4  sandstone  2109.1206  1595.7   \n",
       "1    104893 2012-08-09    KIAMICHI REMOLD 3  sandstone  2090.3420  1517.1   \n",
       "2    104652 2010-10-26        NAVAJO ARCO 2  sandstone  2131.9900  2041.5   \n",
       "3    104752 2007-08-01  NAVAJO ARCO REMOL 1  sandstone  2184.9392  1606.2   \n",
       "4    104598 2007-06-30   FERRON 82-3 1677.5  sandstone  2472.2308  2448.6   \n",
       "..      ...        ...                  ...        ...        ...     ...   \n",
       "803  102178 2014-10-10  R.PRICE 10909.5 #31   dolomite  2414.0000  2759.2   \n",
       "804  102225 2012-01-27  R.PRICE 10916.5 #38   dolomite  2475.7000  3116.8   \n",
       "805  102088 2012-09-19   R.PRICE 10883.5 #7   dolomite  2521.1000  2998.7   \n",
       "806  102213 2009-03-04  R.PRICE 10913.5 #35   dolomite  2470.8000  2933.1   \n",
       "807  102086 2002-08-29   R.PRICE 10883.5 #7   dolomite  2549.2000  2897.0   \n",
       "\n",
       "             Vp  \n",
       "          [m/s]  \n",
       "0    3045.55302  \n",
       "1    3000.67209  \n",
       "2    3363.57540  \n",
       "3    3195.37428  \n",
       "4    4237.54716  \n",
       "..          ...  \n",
       "803  4626.07472  \n",
       "804  5446.29632  \n",
       "805  5446.23894  \n",
       "806  5347.92123  \n",
       "807  5347.86200  \n",
       "\n",
       "[752 rows x 7 columns]"
      ]
     },
     "execution_count": 56,
     "metadata": {},
     "output_type": "execute_result"
    }
   ],
   "source": [
    "df.columns = pd.MultiIndex.from_tuples(names)\n",
    "df"
   ]
  },
  {
   "cell_type": "code",
   "execution_count": 57,
   "id": "527b1ae7",
   "metadata": {},
   "outputs": [
    {
     "data": {
      "text/html": [
       "<div>\n",
       "<style scoped>\n",
       "    .dataframe tbody tr th:only-of-type {\n",
       "        vertical-align: middle;\n",
       "    }\n",
       "\n",
       "    .dataframe tbody tr th {\n",
       "        vertical-align: top;\n",
       "    }\n",
       "\n",
       "    .dataframe thead tr th {\n",
       "        text-align: left;\n",
       "    }\n",
       "</style>\n",
       "<table border=\"1\" class=\"dataframe\">\n",
       "  <thead>\n",
       "    <tr>\n",
       "      <th></th>\n",
       "      <th>RPC</th>\n",
       "      <th>Date</th>\n",
       "      <th>Description</th>\n",
       "      <th>Lithology</th>\n",
       "      <th>Rho</th>\n",
       "      <th>Vs</th>\n",
       "      <th>Vp</th>\n",
       "    </tr>\n",
       "    <tr>\n",
       "      <th></th>\n",
       "      <th></th>\n",
       "      <th></th>\n",
       "      <th></th>\n",
       "      <th></th>\n",
       "      <th>[kg/m³]</th>\n",
       "      <th>[m/s]</th>\n",
       "      <th>[m/s]</th>\n",
       "    </tr>\n",
       "  </thead>\n",
       "  <tbody>\n",
       "    <tr>\n",
       "      <th>0</th>\n",
       "      <td>104818</td>\n",
       "      <td>2002-05-04</td>\n",
       "      <td>KIAMICHI FORMA. 4</td>\n",
       "      <td>sandstone</td>\n",
       "      <td>2109.1206</td>\n",
       "      <td>1595.7</td>\n",
       "      <td>3045.55302</td>\n",
       "    </tr>\n",
       "    <tr>\n",
       "      <th>1</th>\n",
       "      <td>104893</td>\n",
       "      <td>2012-08-09</td>\n",
       "      <td>KIAMICHI REMOLD 3</td>\n",
       "      <td>sandstone</td>\n",
       "      <td>2090.3420</td>\n",
       "      <td>1517.1</td>\n",
       "      <td>3000.67209</td>\n",
       "    </tr>\n",
       "    <tr>\n",
       "      <th>2</th>\n",
       "      <td>104652</td>\n",
       "      <td>2010-10-26</td>\n",
       "      <td>NAVAJO ARCO 2</td>\n",
       "      <td>sandstone</td>\n",
       "      <td>2131.9900</td>\n",
       "      <td>2041.5</td>\n",
       "      <td>3363.57540</td>\n",
       "    </tr>\n",
       "    <tr>\n",
       "      <th>3</th>\n",
       "      <td>104752</td>\n",
       "      <td>2007-08-01</td>\n",
       "      <td>NAVAJO ARCO REMOL 1</td>\n",
       "      <td>sandstone</td>\n",
       "      <td>2184.9392</td>\n",
       "      <td>1606.2</td>\n",
       "      <td>3195.37428</td>\n",
       "    </tr>\n",
       "    <tr>\n",
       "      <th>4</th>\n",
       "      <td>104598</td>\n",
       "      <td>2007-06-30</td>\n",
       "      <td>FERRON 82-3 1677.5</td>\n",
       "      <td>sandstone</td>\n",
       "      <td>2472.2308</td>\n",
       "      <td>2448.6</td>\n",
       "      <td>4237.54716</td>\n",
       "    </tr>\n",
       "    <tr>\n",
       "      <th>...</th>\n",
       "      <td>...</td>\n",
       "      <td>...</td>\n",
       "      <td>...</td>\n",
       "      <td>...</td>\n",
       "      <td>...</td>\n",
       "      <td>...</td>\n",
       "      <td>...</td>\n",
       "    </tr>\n",
       "    <tr>\n",
       "      <th>747</th>\n",
       "      <td>102178</td>\n",
       "      <td>2014-10-10</td>\n",
       "      <td>R.PRICE 10909.5 #31</td>\n",
       "      <td>dolomite</td>\n",
       "      <td>2414.0000</td>\n",
       "      <td>2759.2</td>\n",
       "      <td>4626.07472</td>\n",
       "    </tr>\n",
       "    <tr>\n",
       "      <th>748</th>\n",
       "      <td>102225</td>\n",
       "      <td>2012-01-27</td>\n",
       "      <td>R.PRICE 10916.5 #38</td>\n",
       "      <td>dolomite</td>\n",
       "      <td>2475.7000</td>\n",
       "      <td>3116.8</td>\n",
       "      <td>5446.29632</td>\n",
       "    </tr>\n",
       "    <tr>\n",
       "      <th>749</th>\n",
       "      <td>102088</td>\n",
       "      <td>2012-09-19</td>\n",
       "      <td>R.PRICE 10883.5 #7</td>\n",
       "      <td>dolomite</td>\n",
       "      <td>2521.1000</td>\n",
       "      <td>2998.7</td>\n",
       "      <td>5446.23894</td>\n",
       "    </tr>\n",
       "    <tr>\n",
       "      <th>750</th>\n",
       "      <td>102213</td>\n",
       "      <td>2009-03-04</td>\n",
       "      <td>R.PRICE 10913.5 #35</td>\n",
       "      <td>dolomite</td>\n",
       "      <td>2470.8000</td>\n",
       "      <td>2933.1</td>\n",
       "      <td>5347.92123</td>\n",
       "    </tr>\n",
       "    <tr>\n",
       "      <th>751</th>\n",
       "      <td>102086</td>\n",
       "      <td>2002-08-29</td>\n",
       "      <td>R.PRICE 10883.5 #7</td>\n",
       "      <td>dolomite</td>\n",
       "      <td>2549.2000</td>\n",
       "      <td>2897.0</td>\n",
       "      <td>5347.86200</td>\n",
       "    </tr>\n",
       "  </tbody>\n",
       "</table>\n",
       "<p>752 rows × 7 columns</p>\n",
       "</div>"
      ],
      "text/plain": [
       "        RPC       Date          Description  Lithology        Rho      Vs  \\\n",
       "                                                          [kg/m³]   [m/s]   \n",
       "0    104818 2002-05-04    KIAMICHI FORMA. 4  sandstone  2109.1206  1595.7   \n",
       "1    104893 2012-08-09    KIAMICHI REMOLD 3  sandstone  2090.3420  1517.1   \n",
       "2    104652 2010-10-26        NAVAJO ARCO 2  sandstone  2131.9900  2041.5   \n",
       "3    104752 2007-08-01  NAVAJO ARCO REMOL 1  sandstone  2184.9392  1606.2   \n",
       "4    104598 2007-06-30   FERRON 82-3 1677.5  sandstone  2472.2308  2448.6   \n",
       "..      ...        ...                  ...        ...        ...     ...   \n",
       "747  102178 2014-10-10  R.PRICE 10909.5 #31   dolomite  2414.0000  2759.2   \n",
       "748  102225 2012-01-27  R.PRICE 10916.5 #38   dolomite  2475.7000  3116.8   \n",
       "749  102088 2012-09-19   R.PRICE 10883.5 #7   dolomite  2521.1000  2998.7   \n",
       "750  102213 2009-03-04  R.PRICE 10913.5 #35   dolomite  2470.8000  2933.1   \n",
       "751  102086 2002-08-29   R.PRICE 10883.5 #7   dolomite  2549.2000  2897.0   \n",
       "\n",
       "             Vp  \n",
       "          [m/s]  \n",
       "0    3045.55302  \n",
       "1    3000.67209  \n",
       "2    3363.57540  \n",
       "3    3195.37428  \n",
       "4    4237.54716  \n",
       "..          ...  \n",
       "747  4626.07472  \n",
       "748  5446.29632  \n",
       "749  5446.23894  \n",
       "750  5347.92123  \n",
       "751  5347.86200  \n",
       "\n",
       "[752 rows x 7 columns]"
      ]
     },
     "execution_count": 57,
     "metadata": {},
     "output_type": "execute_result"
    }
   ],
   "source": [
    "df.reset_index(drop=True, inplace=True)\n",
    "df"
   ]
  },
  {
   "cell_type": "markdown",
   "id": "ccf5cf22",
   "metadata": {},
   "source": [
    "## Writing all this as 'chained' methods on the DataFrame\n",
    "\n",
    "If you have been writing everything as functions so far, good decision!\n",
    "\n",
    "If not, here you go:"
   ]
  },
  {
   "cell_type": "code",
   "execution_count": 3,
   "id": "c75b0734",
   "metadata": {},
   "outputs": [],
   "source": [
    "def fix_dates(df):\n",
    "    \"\"\"Transform date-likes to datetime objects.\"\"\"\n",
    "    # Fix then rename avoids adding new column and changing order.\n",
    "    df['YYYY-MM-DD'] = pd.to_datetime(df['YYYY-MM-DD'])\n",
    "    df = df.rename(columns={'YYYY-MM-DD': 'Date'})\n",
    "    return df\n",
    "\n",
    "def fix_lithology(df):\n",
    "    \"\"\"Combine lithologies.\"\"\"\n",
    "    df['Lithology'] = df['Lithology'].str.replace('SANDST.', 'sandstone', regex=False)\n",
    "    return df\n",
    "\n",
    "def fix_numeric(df):\n",
    "    \"\"\"Fix various numerical issues.\"\"\"\n",
    "    # Vs.\n",
    "    df['Vs [m/s]'] = df['Vs [km/s]'] * 1000\n",
    "    # Rho for dolomites.\n",
    "    dolomites = df['Lithology'] == 'dolomite'\n",
    "    df.loc[dolomites, 'Rho [kg/m³]'] = df.loc[dolomites, 'Rho [kg/m³]'] * 1000\n",
    "    # Vp.\n",
    "    df['Vp [m/s]'] = df['Vs [m/s]'] * df['VpVs ratio']\n",
    "    return df\n",
    "\n",
    "def split_units(df):\n",
    "    \"\"\"Split units from column names.\"\"\"\n",
    "    pairs = [c.split() if ' ' in c else (c, '') for c in df.columns]\n",
    "    df.columns = pd.MultiIndex.from_tuples(pairs)\n",
    "    return df"
   ]
  },
  {
   "cell_type": "markdown",
   "id": "13ef74db",
   "metadata": {},
   "source": [
    "Now we can do:"
   ]
  },
  {
   "cell_type": "code",
   "execution_count": 4,
   "id": "9db00697",
   "metadata": {},
   "outputs": [
    {
     "data": {
      "text/html": [
       "<div>\n",
       "<style scoped>\n",
       "    .dataframe tbody tr th:only-of-type {\n",
       "        vertical-align: middle;\n",
       "    }\n",
       "\n",
       "    .dataframe tbody tr th {\n",
       "        vertical-align: top;\n",
       "    }\n",
       "\n",
       "    .dataframe thead tr th {\n",
       "        text-align: left;\n",
       "    }\n",
       "</style>\n",
       "<table border=\"1\" class=\"dataframe\">\n",
       "  <thead>\n",
       "    <tr>\n",
       "      <th></th>\n",
       "      <th>index</th>\n",
       "      <th>RPC</th>\n",
       "      <th>Date</th>\n",
       "      <th>Description</th>\n",
       "      <th>Lithology</th>\n",
       "      <th>Rho</th>\n",
       "      <th>Vs</th>\n",
       "      <th>Vp</th>\n",
       "    </tr>\n",
       "    <tr>\n",
       "      <th></th>\n",
       "      <th></th>\n",
       "      <th></th>\n",
       "      <th></th>\n",
       "      <th></th>\n",
       "      <th></th>\n",
       "      <th>[kg/m³]</th>\n",
       "      <th>[m/s]</th>\n",
       "      <th>[m/s]</th>\n",
       "    </tr>\n",
       "  </thead>\n",
       "  <tbody>\n",
       "    <tr>\n",
       "      <th>0</th>\n",
       "      <td>0</td>\n",
       "      <td>104818</td>\n",
       "      <td>2002-05-04</td>\n",
       "      <td>KIAMICHI FORMA. 4</td>\n",
       "      <td>sandstone</td>\n",
       "      <td>2109.1206</td>\n",
       "      <td>1595.7</td>\n",
       "      <td>3045.55302</td>\n",
       "    </tr>\n",
       "    <tr>\n",
       "      <th>1</th>\n",
       "      <td>1</td>\n",
       "      <td>104893</td>\n",
       "      <td>2012-08-09</td>\n",
       "      <td>KIAMICHI REMOLD 3</td>\n",
       "      <td>sandstone</td>\n",
       "      <td>2090.3420</td>\n",
       "      <td>1517.1</td>\n",
       "      <td>3000.67209</td>\n",
       "    </tr>\n",
       "    <tr>\n",
       "      <th>2</th>\n",
       "      <td>2</td>\n",
       "      <td>104652</td>\n",
       "      <td>2010-10-26</td>\n",
       "      <td>NAVAJO ARCO 2</td>\n",
       "      <td>sandstone</td>\n",
       "      <td>2131.9900</td>\n",
       "      <td>2041.5</td>\n",
       "      <td>3363.57540</td>\n",
       "    </tr>\n",
       "    <tr>\n",
       "      <th>3</th>\n",
       "      <td>3</td>\n",
       "      <td>104752</td>\n",
       "      <td>2007-08-01</td>\n",
       "      <td>NAVAJO ARCO REMOL 1</td>\n",
       "      <td>sandstone</td>\n",
       "      <td>2184.9392</td>\n",
       "      <td>1606.2</td>\n",
       "      <td>3195.37428</td>\n",
       "    </tr>\n",
       "    <tr>\n",
       "      <th>4</th>\n",
       "      <td>4</td>\n",
       "      <td>104598</td>\n",
       "      <td>2007-06-30</td>\n",
       "      <td>FERRON 82-3 1677.5</td>\n",
       "      <td>sandstone</td>\n",
       "      <td>2472.2308</td>\n",
       "      <td>2448.6</td>\n",
       "      <td>4237.54716</td>\n",
       "    </tr>\n",
       "    <tr>\n",
       "      <th>...</th>\n",
       "      <td>...</td>\n",
       "      <td>...</td>\n",
       "      <td>...</td>\n",
       "      <td>...</td>\n",
       "      <td>...</td>\n",
       "      <td>...</td>\n",
       "      <td>...</td>\n",
       "      <td>...</td>\n",
       "    </tr>\n",
       "    <tr>\n",
       "      <th>747</th>\n",
       "      <td>803</td>\n",
       "      <td>102178</td>\n",
       "      <td>2014-10-10</td>\n",
       "      <td>R.PRICE 10909.5 #31</td>\n",
       "      <td>dolomite</td>\n",
       "      <td>2414.0000</td>\n",
       "      <td>2759.2</td>\n",
       "      <td>4626.07472</td>\n",
       "    </tr>\n",
       "    <tr>\n",
       "      <th>748</th>\n",
       "      <td>804</td>\n",
       "      <td>102225</td>\n",
       "      <td>2012-01-27</td>\n",
       "      <td>R.PRICE 10916.5 #38</td>\n",
       "      <td>dolomite</td>\n",
       "      <td>2475.7000</td>\n",
       "      <td>3116.8</td>\n",
       "      <td>5446.29632</td>\n",
       "    </tr>\n",
       "    <tr>\n",
       "      <th>749</th>\n",
       "      <td>805</td>\n",
       "      <td>102088</td>\n",
       "      <td>2012-09-19</td>\n",
       "      <td>R.PRICE 10883.5 #7</td>\n",
       "      <td>dolomite</td>\n",
       "      <td>2521.1000</td>\n",
       "      <td>2998.7</td>\n",
       "      <td>5446.23894</td>\n",
       "    </tr>\n",
       "    <tr>\n",
       "      <th>750</th>\n",
       "      <td>806</td>\n",
       "      <td>102213</td>\n",
       "      <td>2009-03-04</td>\n",
       "      <td>R.PRICE 10913.5 #35</td>\n",
       "      <td>dolomite</td>\n",
       "      <td>2470.8000</td>\n",
       "      <td>2933.1</td>\n",
       "      <td>5347.92123</td>\n",
       "    </tr>\n",
       "    <tr>\n",
       "      <th>751</th>\n",
       "      <td>807</td>\n",
       "      <td>102086</td>\n",
       "      <td>2002-08-29</td>\n",
       "      <td>R.PRICE 10883.5 #7</td>\n",
       "      <td>dolomite</td>\n",
       "      <td>2549.2000</td>\n",
       "      <td>2897.0</td>\n",
       "      <td>5347.86200</td>\n",
       "    </tr>\n",
       "  </tbody>\n",
       "</table>\n",
       "<p>752 rows × 8 columns</p>\n",
       "</div>"
      ],
      "text/plain": [
       "    index     RPC       Date          Description  Lithology        Rho  \\\n",
       "                                                                [kg/m³]   \n",
       "0       0  104818 2002-05-04    KIAMICHI FORMA. 4  sandstone  2109.1206   \n",
       "1       1  104893 2012-08-09    KIAMICHI REMOLD 3  sandstone  2090.3420   \n",
       "2       2  104652 2010-10-26        NAVAJO ARCO 2  sandstone  2131.9900   \n",
       "3       3  104752 2007-08-01  NAVAJO ARCO REMOL 1  sandstone  2184.9392   \n",
       "4       4  104598 2007-06-30   FERRON 82-3 1677.5  sandstone  2472.2308   \n",
       "..    ...     ...        ...                  ...        ...        ...   \n",
       "747   803  102178 2014-10-10  R.PRICE 10909.5 #31   dolomite  2414.0000   \n",
       "748   804  102225 2012-01-27  R.PRICE 10916.5 #38   dolomite  2475.7000   \n",
       "749   805  102088 2012-09-19   R.PRICE 10883.5 #7   dolomite  2521.1000   \n",
       "750   806  102213 2009-03-04  R.PRICE 10913.5 #35   dolomite  2470.8000   \n",
       "751   807  102086 2002-08-29   R.PRICE 10883.5 #7   dolomite  2549.2000   \n",
       "\n",
       "         Vs          Vp  \n",
       "      [m/s]       [m/s]  \n",
       "0    1595.7  3045.55302  \n",
       "1    1517.1  3000.67209  \n",
       "2    2041.5  3363.57540  \n",
       "3    1606.2  3195.37428  \n",
       "4    2448.6  4237.54716  \n",
       "..      ...         ...  \n",
       "747  2759.2  4626.07472  \n",
       "748  3116.8  5446.29632  \n",
       "749  2998.7  5446.23894  \n",
       "750  2933.1  5347.92123  \n",
       "751  2897.0  5347.86200  \n",
       "\n",
       "[752 rows x 8 columns]"
      ]
     },
     "execution_count": 4,
     "metadata": {},
     "output_type": "execute_result"
    }
   ],
   "source": [
    "url = 'https://geocomp.s3.amazonaws.com/data/RPC_4_lithologies_Messy.csv'\n",
    "\n",
    "df = (pd.read_csv(url)\n",
    "        .drop(columns=['Index', 'Source'])\n",
    "        .pipe(fix_dates)\n",
    "        .pipe(fix_lithology)\n",
    "        .pipe(fix_numeric)\n",
    "        .drop(columns=['Vs [km/s]', 'VpVs ratio', 'DTP [μs/ft]'])\n",
    "        .drop_duplicates(keep='first')\n",
    "        .dropna(axis=0)\n",
    "        .pipe(split_units)\n",
    "        .reset_index()\n",
    "     )\n",
    "\n",
    "df"
   ]
  },
  {
   "cell_type": "code",
   "execution_count": 5,
   "id": "ecb13e31",
   "metadata": {},
   "outputs": [
    {
     "data": {
      "text/plain": [
       "MultiIndex([(      'index',        ''),\n",
       "            (        'RPC',        ''),\n",
       "            (       'Date',        ''),\n",
       "            ('Description',        ''),\n",
       "            (  'Lithology',        ''),\n",
       "            (        'Rho', '[kg/m³]'),\n",
       "            (         'Vs',   '[m/s]'),\n",
       "            (         'Vp',   '[m/s]')],\n",
       "           )"
      ]
     },
     "execution_count": 5,
     "metadata": {},
     "output_type": "execute_result"
    }
   ],
   "source": [
    "df.columns"
   ]
  },
  {
   "cell_type": "markdown",
   "id": "55618c28",
   "metadata": {},
   "source": [
    "---\n",
    "\n",
    "## Next steps:<a id='next'></a>\n",
    "\n",
    "* We should move the functionality of this notebook into functions - and then a script - so that we can easily load our RPC data as part of our machine learning pipeline.\n",
    "* Ensure that the features that we have are ones that we want to use (can we - or do we need to - construct more features, like we did with `Vp`?).\n",
    "* We may want to remove columns that have redundant data (we have both `Vs [m/s]` and `Vs [km/s]`, for example, but maybe one is enough).\n",
    "* Do we have other data of this type (lithology, Vp, Vs, rho) from another source that we might want to combine with this one? If so, we should ensure column headers and units are consistent between the two sources.\n",
    "* Potentially we can make the relevant columns unit aware using `pint` or something similar: https://pint.readthedocs.io/en/0.10.1/pint-pandas.html\n",
    "* Add guidelines for using our script to the information at the start of the notebook."
   ]
  },
  {
   "cell_type": "code",
   "execution_count": null,
   "id": "73e055f1",
   "metadata": {},
   "outputs": [],
   "source": []
  }
 ],
 "metadata": {
  "kernelspec": {
   "display_name": "py39",
   "language": "python",
   "name": "py39"
  },
  "language_info": {
   "codemirror_mode": {
    "name": "ipython",
    "version": 3
   },
   "file_extension": ".py",
   "mimetype": "text/x-python",
   "name": "python",
   "nbconvert_exporter": "python",
   "pygments_lexer": "ipython3",
   "version": "3.9.7"
  }
 },
 "nbformat": 4,
 "nbformat_minor": 5
}
