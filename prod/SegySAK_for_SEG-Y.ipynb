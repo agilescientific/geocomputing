{
 "cells": [
  {
   "cell_type": "markdown",
   "metadata": {
    "colab_type": "text",
    "id": "YtlsAtRd7mCU"
   },
   "source": [
    "## `segysak` for SEG-Y data\n",
    "\n",
    "This new tool was made by Tony Hallam and substantially improved at the TRANSFORM 2020 hackathon in June.\n",
    "\n",
    "[Read the docs.](https://segysak.readthedocs.io/en/latest/)"
   ]
  },
  {
   "cell_type": "markdown",
   "metadata": {},
   "source": [
    "You'll need to install the library:\n",
    "\n",
    "    pip install segysak"
   ]
  },
  {
   "cell_type": "markdown",
   "metadata": {},
   "source": [
    "## What does it look like in `segyio`?"
   ]
  },
  {
   "cell_type": "code",
   "execution_count": null,
   "metadata": {},
   "outputs": [],
   "source": [
    "import segyio\n",
    "\n",
    "with segyio.open('../../data/Penobscot_0-1000ms.sgy') as s:\n",
    "    vol = segyio.cube(s)"
   ]
  },
  {
   "cell_type": "code",
   "execution_count": null,
   "metadata": {},
   "outputs": [],
   "source": [
    "vol.shape, vol.dtype"
   ]
  },
  {
   "cell_type": "code",
   "execution_count": null,
   "metadata": {},
   "outputs": [],
   "source": [
    "import matplotlib.pyplot as plt\n",
    "\n",
    "plt.imshow(vol[100].T)"
   ]
  },
  {
   "cell_type": "markdown",
   "metadata": {},
   "source": [
    "## Scanning with SegySAK"
   ]
  },
  {
   "cell_type": "code",
   "execution_count": null,
   "metadata": {
    "colab": {
     "base_uri": "https://localhost:8080/",
     "height": 151,
     "referenced_widgets": [
      "16fe0e70becb4812ac7ce209ae280b62",
      "4ac9d9b84e7a4da09de27ed973c7b16f",
      "0ae5af4a88d043159c3f2330729400b1",
      "14ed00232bf042818c17483ee20fef25",
      "ae671a2ff09147f9b0e1bb95347db4a5",
      "6b563e7255304d8587adbedda556d63d",
      "54dc378814da4edbae83046902e03a89",
      "bf2ee0cbbac4474d80d073d0161853ed",
      "6c24740cd4734c18bb7cb634c82f6e45",
      "f4b162b7e88945df8decf265a737836c",
      "0f92852519194de09b337c4f0792c7d2",
      "fc6c98731e7c4578abff0d810346287f",
      "97bfe44be5494719a18f1ca5f9935261",
      "9122177c42f145979def16095a412678",
      "8d033cb1896848acb1fdf5ae9b3b629e",
      "2d6ef1c1fbf14b0aba35ca642e43809d"
     ]
    },
    "colab_type": "code",
    "id": "aRC0SOe-77KL",
    "outputId": "b832d04b-efac-4a9a-d83b-72c819f4b0a9"
   },
   "outputs": [],
   "source": [
    "from segysak.segy import segy_header_scrape, segy_header_scan\n",
    "\n",
    "# Get all the trace headers.\n",
    "h = segy_header_scrape('../../data/Penobscot_0-1000ms.sgy', partial_scan=1000)"
   ]
  },
  {
   "cell_type": "code",
   "execution_count": null,
   "metadata": {},
   "outputs": [],
   "source": [
    "h.head()"
   ]
  },
  {
   "cell_type": "code",
   "execution_count": null,
   "metadata": {
    "scrolled": true
   },
   "outputs": [],
   "source": [
    "# Get statistics from the trace headers.\n",
    "h = segy_header_scan(\"../../data/Penobscot_0-1000ms.sgy\", max_traces_scan=289_000)\n",
    "h"
   ]
  },
  {
   "cell_type": "markdown",
   "metadata": {},
   "source": [
    "## Reading the data"
   ]
  },
  {
   "cell_type": "code",
   "execution_count": null,
   "metadata": {
    "colab": {
     "base_uri": "https://localhost:8080/",
     "height": 151,
     "referenced_widgets": [
      "16fe0e70becb4812ac7ce209ae280b62",
      "4ac9d9b84e7a4da09de27ed973c7b16f",
      "0ae5af4a88d043159c3f2330729400b1",
      "14ed00232bf042818c17483ee20fef25",
      "ae671a2ff09147f9b0e1bb95347db4a5",
      "6b563e7255304d8587adbedda556d63d",
      "54dc378814da4edbae83046902e03a89",
      "bf2ee0cbbac4474d80d073d0161853ed",
      "6c24740cd4734c18bb7cb634c82f6e45",
      "f4b162b7e88945df8decf265a737836c",
      "0f92852519194de09b337c4f0792c7d2",
      "fc6c98731e7c4578abff0d810346287f",
      "97bfe44be5494719a18f1ca5f9935261",
      "9122177c42f145979def16095a412678",
      "8d033cb1896848acb1fdf5ae9b3b629e",
      "2d6ef1c1fbf14b0aba35ca642e43809d"
     ]
    },
    "colab_type": "code",
    "id": "aRC0SOe-77KL",
    "outputId": "b832d04b-efac-4a9a-d83b-72c819f4b0a9"
   },
   "outputs": [],
   "source": [
    "# I cannot get this to work.\n",
    "\n",
    "# from segysak.segy import segy_loader\n",
    "\n",
    "# # Load a 100 x 100 subvolume. \n",
    "# s_ = segy_loader('../../data/Penobscot_0-1000ms.sgy', xy_crop=[7300000, 7305000, 48910000, 48911000])"
   ]
  },
  {
   "cell_type": "code",
   "execution_count": null,
   "metadata": {
    "colab": {
     "base_uri": "https://localhost:8080/",
     "height": 151,
     "referenced_widgets": [
      "16fe0e70becb4812ac7ce209ae280b62",
      "4ac9d9b84e7a4da09de27ed973c7b16f",
      "0ae5af4a88d043159c3f2330729400b1",
      "14ed00232bf042818c17483ee20fef25",
      "ae671a2ff09147f9b0e1bb95347db4a5",
      "6b563e7255304d8587adbedda556d63d",
      "54dc378814da4edbae83046902e03a89",
      "bf2ee0cbbac4474d80d073d0161853ed",
      "6c24740cd4734c18bb7cb634c82f6e45",
      "f4b162b7e88945df8decf265a737836c",
      "0f92852519194de09b337c4f0792c7d2",
      "fc6c98731e7c4578abff0d810346287f",
      "97bfe44be5494719a18f1ca5f9935261",
      "9122177c42f145979def16095a412678",
      "8d033cb1896848acb1fdf5ae9b3b629e",
      "2d6ef1c1fbf14b0aba35ca642e43809d"
     ]
    },
    "colab_type": "code",
    "id": "aRC0SOe-77KL",
    "outputId": "b832d04b-efac-4a9a-d83b-72c819f4b0a9"
   },
   "outputs": [],
   "source": [
    "from segysak.segy import segy_loader\n",
    "\n",
    "# Load a 100 x 100 subvolume. \n",
    "s = segy_loader('../../data/Penobscot_0-1000ms.sgy', ix_crop=[1100, 1200, 1100, 1200])"
   ]
  },
  {
   "cell_type": "code",
   "execution_count": null,
   "metadata": {
    "colab": {
     "base_uri": "https://localhost:8080/",
     "height": 151,
     "referenced_widgets": [
      "16fe0e70becb4812ac7ce209ae280b62",
      "4ac9d9b84e7a4da09de27ed973c7b16f",
      "0ae5af4a88d043159c3f2330729400b1",
      "14ed00232bf042818c17483ee20fef25",
      "ae671a2ff09147f9b0e1bb95347db4a5",
      "6b563e7255304d8587adbedda556d63d",
      "54dc378814da4edbae83046902e03a89",
      "bf2ee0cbbac4474d80d073d0161853ed",
      "6c24740cd4734c18bb7cb634c82f6e45",
      "f4b162b7e88945df8decf265a737836c",
      "0f92852519194de09b337c4f0792c7d2",
      "fc6c98731e7c4578abff0d810346287f",
      "97bfe44be5494719a18f1ca5f9935261",
      "9122177c42f145979def16095a412678",
      "8d033cb1896848acb1fdf5ae9b3b629e",
      "2d6ef1c1fbf14b0aba35ca642e43809d"
     ]
    },
    "colab_type": "code",
    "id": "aRC0SOe-77KL",
    "outputId": "b832d04b-efac-4a9a-d83b-72c819f4b0a9"
   },
   "outputs": [],
   "source": [
    "s"
   ]
  },
  {
   "cell_type": "code",
   "execution_count": null,
   "metadata": {
    "colab": {
     "base_uri": "https://localhost:8080/",
     "height": 313
    },
    "colab_type": "code",
    "id": "1A7l_S0I8qKr",
    "outputId": "5f511138-537a-4c5c-deaa-7cfb8c21b64c"
   },
   "outputs": [],
   "source": [
    "s.data[5].T.plot(yincrease=False)"
   ]
  },
  {
   "cell_type": "code",
   "execution_count": null,
   "metadata": {
    "colab": {
     "base_uri": "https://localhost:8080/",
     "height": 307
    },
    "colab_type": "code",
    "id": "Rh9iU5dQBgty",
    "outputId": "5b29abea-6ddd-4d5b-a79a-8880a43a3504"
   },
   "outputs": [],
   "source": [
    "s.seis.plot_bounds()"
   ]
  },
  {
   "cell_type": "code",
   "execution_count": null,
   "metadata": {
    "colab": {},
    "colab_type": "code",
    "id": "mJNOakRGCAsx"
   },
   "outputs": [],
   "source": [
    "import numpy as np\n",
    "\n",
    "arb = np.array([\n",
    "    [733000, 4892500],\n",
    "    [735550, 4894500]\n",
    "]).T"
   ]
  },
  {
   "cell_type": "code",
   "execution_count": null,
   "metadata": {
    "colab": {
     "base_uri": "https://localhost:8080/",
     "height": 307
    },
    "colab_type": "code",
    "id": "z92k8VzVDh0v",
    "outputId": "80cd6efa-99b2-42a6-f2b3-2f1c9e8d71b0"
   },
   "outputs": [],
   "source": [
    "ax = s.seis.plot_bounds()\n",
    "ax.plot(*arb, 'ro-')"
   ]
  },
  {
   "cell_type": "code",
   "execution_count": null,
   "metadata": {},
   "outputs": [],
   "source": [
    "s1 = s.seis.interp_line(*arb)"
   ]
  },
  {
   "cell_type": "code",
   "execution_count": null,
   "metadata": {
    "colab": {
     "base_uri": "https://localhost:8080/",
     "height": 301
    },
    "colab_type": "code",
    "id": "kNV1Ks0OCw5C",
    "outputId": "f6d2dc4b-b371-4ffe-efc8-f530e28d6b06"
   },
   "outputs": [],
   "source": [
    "s1.data.T.plot(yincrease=False)"
   ]
  },
  {
   "cell_type": "code",
   "execution_count": null,
   "metadata": {
    "colab": {},
    "colab_type": "code",
    "id": "E2fN8N0A8sTy"
   },
   "outputs": [],
   "source": []
  }
 ],
 "metadata": {
  "colab": {
   "name": "Untitled2.ipynb",
   "provenance": []
  },
  "kernelspec": {
   "display_name": "geocomp",
   "language": "python",
   "name": "geocomp"
  },
  "language_info": {
   "codemirror_mode": {
    "name": "ipython",
    "version": 3
   },
   "file_extension": ".py",
   "mimetype": "text/x-python",
   "name": "python",
   "nbconvert_exporter": "python",
   "pygments_lexer": "ipython3",
   "version": "3.8.5"
  }
 },
 "nbformat": 4,
 "nbformat_minor": 1
}
