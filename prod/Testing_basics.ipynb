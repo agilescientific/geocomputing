{
 "cells": [
  {
   "cell_type": "markdown",
   "metadata": {},
   "source": [
    "# Testing and test-driven development\n",
    "\n",
    "Testing is an important part of software engineering and scientific computing. There's a saying:\n",
    "\n",
    "> Untested code is broken code.\n",
    "\n",
    "Which is to say that, if you are not writing tests for your code, you should assume it's broken. \n",
    "\n",
    "Watch this video https://www.youtube.com/watch?v=FxSsnHeWQBY"
   ]
  },
  {
   "cell_type": "code",
   "execution_count": 1,
   "metadata": {
    "collapsed": true
   },
   "outputs": [],
   "source": [
    "import numpy as np"
   ]
  },
  {
   "cell_type": "markdown",
   "metadata": {},
   "source": [
    "## Simple test"
   ]
  },
  {
   "cell_type": "code",
   "execution_count": 8,
   "metadata": {
    "collapsed": true
   },
   "outputs": [],
   "source": [
    "def test_shuey():\n",
    "    vp1, vs1, rho1 = 3000, 1414, 2400\n",
    "    vp2, vs2, rho2 = 3100, 1500, 2420\n",
    "    theta = 0\n",
    "    result = shuey(vp1, vs1, rho1, vp2, vs2, rho2, theta)\n",
    "    answer = 0.021\n",
    "    assert abs(result - answer) < 0.001\n",
    "    \n",
    "    theta = 20\n",
    "    result = shuey(vp1, vs1, rho1, vp2, vs2, rho2, theta)\n",
    "    answer = 0.016\n",
    "    assert abs(result - answer) < 0.001\n",
    "    \n",
    "    return"
   ]
  },
  {
   "cell_type": "code",
   "execution_count": 9,
   "metadata": {
    "collapsed": true
   },
   "outputs": [],
   "source": [
    "def shuey(vp1, vs1, rho1, vp2, vs2, rho2, theta):\n",
    "    theta = np.radians(theta)\n",
    "\n",
    "    drho = rho2 - rho1\n",
    "    dvp = vp2 - vp1\n",
    "    dvs = vs2 - vs1\n",
    "    rho = (rho1 + rho2) / 2\n",
    "    vp = (vp1 + vp2) / 2\n",
    "    vs = (vs1 + vs2) / 2\n",
    "\n",
    "    r0 = 0.5 * (dvp/vp + drho/rho)\n",
    "    g = 0.5 * dvp/vp - 2 * (vs**2/vp**2) * (drho/rho + 2 * dvs/vs)\n",
    "\n",
    "    return r0 + g * np.sin(theta)**2"
   ]
  },
  {
   "cell_type": "code",
   "execution_count": 10,
   "metadata": {},
   "outputs": [],
   "source": [
    "test_shuey()"
   ]
  },
  {
   "cell_type": "markdown",
   "metadata": {},
   "source": [
    "## `py.test`"
   ]
  },
  {
   "cell_type": "code",
   "execution_count": null,
   "metadata": {
    "collapsed": true
   },
   "outputs": [],
   "source": []
  },
  {
   "cell_type": "markdown",
   "metadata": {},
   "source": [
    "## `doctest`"
   ]
  },
  {
   "cell_type": "code",
   "execution_count": null,
   "metadata": {
    "collapsed": true
   },
   "outputs": [],
   "source": []
  },
  {
   "cell_type": "markdown",
   "metadata": {},
   "source": [
    "## Continuous integration"
   ]
  },
  {
   "cell_type": "code",
   "execution_count": null,
   "metadata": {
    "collapsed": true
   },
   "outputs": [],
   "source": []
  }
 ],
 "metadata": {
  "kernelspec": {
   "display_name": "Python 3",
   "language": "python",
   "name": "python3"
  },
  "language_info": {
   "codemirror_mode": {
    "name": "ipython",
    "version": 3
   },
   "file_extension": ".py",
   "mimetype": "text/x-python",
   "name": "python",
   "nbconvert_exporter": "python",
   "pygments_lexer": "ipython3",
   "version": "3.6.3"
  }
 },
 "nbformat": 4,
 "nbformat_minor": 2
}
