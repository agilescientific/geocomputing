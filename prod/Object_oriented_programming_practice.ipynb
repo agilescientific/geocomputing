{
 "cells": [
  {
   "cell_type": "markdown",
   "metadata": {},
   "source": [
    "## Practice OOP: a `Rock` class\n",
    "\n",
    "This notebook provides more practice on classes.\n",
    "\n",
    "We'll implement a class to represent a rock. We're focused on rock physics here, but feel free to implement other characteristics of the rock. For example:\n",
    "\n",
    "- _Petrological:_ mineralogic composition, mineral proportions, photomicrograph, technical name, etc.\n",
    "- _Geomechanical:_ fabric, hardness, brittleness, etc.\n",
    "- _Sedimentological:_ grain size, grain size proportions (from sieve data), texture, structures, colour, etc.\n",
    "- _Curatorial:_ rock type, id, provenance, collector, etc.\n",
    "\n",
    "If you use one of these other facets, you'll need to come up with other methods to add. If you're unsure, talk to one of the instructors, or talk it over with a partner.\n",
    "\n",
    "----\n",
    "\n",
    "First, we'll define a very basic class. Then we'll add to that."
   ]
  },
  {
   "cell_type": "code",
   "execution_count": 1,
   "metadata": {},
   "outputs": [],
   "source": [
    "class Rock:\n",
    "    def __init__(self, vp, rho=None):\n",
    "        self.vp = vp\n",
    "        self.rho = rho\n",
    "        return"
   ]
  },
  {
   "cell_type": "code",
   "execution_count": 2,
   "metadata": {},
   "outputs": [
    {
     "name": "stdout",
     "output_type": "stream",
     "text": [
      "<__main__.Rock object at 0x7f0c744d0be0>\n"
     ]
    }
   ],
   "source": [
    "r = Rock(2300, 2500)\n",
    "print(r)"
   ]
  },
  {
   "cell_type": "markdown",
   "metadata": {
    "tags": [
     "exercise"
    ]
   },
   "source": [
    "## Exercises\n",
    "\n",
    "- Add a name to the Rock — let the user pass it in. Hint: edit the `__init__()` class.\n",
    "- Add an `elastic_impedance()` method to the class. Use `bruges.rockphysics.elastic_impedance()`.\n",
    "- Make `acoustic_impedance()` a **property** of the instance, instead of a method. This requires a decorator.\n",
    "- Add docstrings to the class itself, and to the (non-dunder) methods/properties.\n",
    "- Add doctests to the methods/properties.\n",
    "- Add a `__repr__()` method to control the way the rock displays. E.g. try this:\n",
    "      def __repr__(self):\n",
    "          return \"Rock({})\".format(self.Vp)\n",
    "- Add a **class method** called `from_csv()` that makes a Rock from strings like \"Sandstone,2300,1200,2500\"\n",
    "- Implement [`total_ordering`](https://docs.python.org/2/library/functools.html#functools.total_ordering) based on acoustic impedance.\"\n",
    "----"
   ]
  },
  {
   "cell_type": "markdown",
   "metadata": {
    "tags": [
     "hide"
    ]
   },
   "source": [
    "## Solutions"
   ]
  },
  {
   "cell_type": "code",
   "execution_count": 3,
   "metadata": {
    "tags": [
     "hide"
    ]
   },
   "outputs": [],
   "source": [
    "import numpy as np\n",
    "from bruges.rockphysics import elastic_impedance\n",
    "from functools import total_ordering\n",
    "\n",
    "\n",
    "@total_ordering\n",
    "class Rock:\n",
    "    \"\"\"\n",
    "    A class to hold rock properties.\n",
    "    \"\"\"\n",
    "    \n",
    "    def __init__(self, vp, vs=None, rho=None, name=None):\n",
    "        \"\"\"\n",
    "        Example\n",
    "        >>> r = Rock(2300, 1200, 2500, name=\"Rock Y\")\n",
    "        \"\"\"\n",
    "        self.vp = float(vp)\n",
    "        self.vs = float(vs) if vs is not None else np.nan\n",
    "        self.rho = float(rho) if rho is not None else np.nan\n",
    "        self.name = str(name)\n",
    "        return\n",
    "\n",
    "    # Required for total ordering.\n",
    "    def __eq__(self, other):\n",
    "        return self.acoustic_impedance == other.acoustic_impedance\n",
    "\n",
    "    # Required for total ordering.\n",
    "    def __gt__(self, other):\n",
    "        return self.acoustic_impedance > other.acoustic_impedance\n",
    "\n",
    "    def __repr__(self):\n",
    "        \"\"\"\n",
    "        Example\n",
    "        >>> r = Rock(2300, 1200, 2500, name=\"Rock Y\")\n",
    "        >>> print(r)\n",
    "        Rock(\"Rock Y\": 2300.0, 1200.0, 2500.0)\n",
    "        \"\"\"\n",
    "        return f\"Rock(\\\"{self.name}\\\": {self.vp}, {self.vs}, {self.rho})\"\n",
    "    \n",
    "    @property\n",
    "    def acoustic_impedance(self):\n",
    "        \"\"\"\n",
    "        Compute the acoustic impedance.\n",
    "        \n",
    "        Example\n",
    "        >>> r = Rock(2300, rho=2500)\n",
    "        >>> r.acoustic_impedance\n",
    "        5750000.0\n",
    "        \"\"\"\n",
    "        return self.vp * self.rho\n",
    "    \n",
    "    @classmethod\n",
    "    def from_csv(cls, text):\n",
    "        \"\"\"\n",
    "        Make a Rock object from a CSV-like string.\n",
    "\n",
    "        Example\n",
    "        >>> r = Rock.from_csv(\",2300,,2500\")\n",
    "        >>> r.acoustic_impedance\n",
    "        5750000.0\n",
    "\n",
    "        \"\"\"\n",
    "        data = text.split(',')\n",
    "        vp, vs, rho = [float(n) if n else np.nan for n in data[1:]]\n",
    "        name = data[0] or None\n",
    "        return cls(vp, vs, rho, name)\n",
    "\n",
    "    def elastic_impedance(self, theta=0):\n",
    "        \"\"\"\n",
    "        Compute the elastic impedance using `bruges`.\n",
    "        \n",
    "        Example\n",
    "        >>> r = Rock(2300, 1200, 2500)\n",
    "        >>> r.elastic_impedance(15)\n",
    "        2013737.0019058161\n",
    "        \"\"\"\n",
    "        return elastic_impedance(self.vp, self.vs, self.rho, theta)\n"
   ]
  },
  {
   "cell_type": "markdown",
   "metadata": {},
   "source": [
    "## Example outputs\n",
    "\n",
    "These are the kinds of output your class should give:\n",
    "\n",
    "    >>> r = Rock(2300, 1200, 2500, name=\"Rock Y\")\n",
    "    \n",
    "    >>> print(r)\n",
    "    Rock(\"Rock Y\": 2300, 1200, 2500)\n",
    "    \n",
    "    >>> Rock.from_csv(\"2300,1200,2500,Sandstone\")\n",
    "    Rock(\"Sandstone\": 2300.0, 1200.0, 2500.0)\n",
    "    \n",
    "    >>> r.acoustic_impedance\n",
    "    5750000\n",
    "    \n",
    "    >>> r.elastic_impedance(15)\n",
    "    2013737.0019058161\n",
    "    \n",
    "    >>> import doctest\n",
    "    >>> doctest.testmod(extraglobs={'r': Rock(2300, 1200, 2500, name=\"Rock Y\")})\n",
    "    TestResults(failed=0, attempted=3)\n"
   ]
  },
  {
   "cell_type": "code",
   "execution_count": 4,
   "metadata": {
    "tags": [
     "hide"
    ]
   },
   "outputs": [
    {
     "data": {
      "text/plain": [
       "TestResults(failed=0, attempted=9)"
      ]
     },
     "execution_count": 4,
     "metadata": {},
     "output_type": "execute_result"
    }
   ],
   "source": [
    "import doctest\n",
    "\n",
    "doctest.testmod()"
   ]
  },
  {
   "cell_type": "code",
   "execution_count": 5,
   "metadata": {
    "tags": [
     "hide"
    ]
   },
   "outputs": [],
   "source": [
    "r = Rock(2300, 1200, 2500, name=\"Rock Y\")"
   ]
  },
  {
   "cell_type": "code",
   "execution_count": 6,
   "metadata": {
    "tags": [
     "hide"
    ]
   },
   "outputs": [
    {
     "name": "stdout",
     "output_type": "stream",
     "text": [
      "Rock(\"Rock Y\": 2300.0, 1200.0, 2500.0)\n"
     ]
    }
   ],
   "source": [
    "print(r)"
   ]
  },
  {
   "cell_type": "code",
   "execution_count": 7,
   "metadata": {
    "tags": [
     "hide"
    ]
   },
   "outputs": [
    {
     "data": {
      "text/plain": [
       "5750000.0"
      ]
     },
     "execution_count": 7,
     "metadata": {},
     "output_type": "execute_result"
    }
   ],
   "source": [
    "Rock.from_csv(\"Sandstone,2300,1200,2500\").acoustic_impedance"
   ]
  },
  {
   "cell_type": "code",
   "execution_count": 8,
   "metadata": {
    "tags": [
     "hide"
    ]
   },
   "outputs": [
    {
     "data": {
      "text/plain": [
       "5750000.0"
      ]
     },
     "execution_count": 8,
     "metadata": {},
     "output_type": "execute_result"
    }
   ],
   "source": [
    "r.acoustic_impedance"
   ]
  },
  {
   "cell_type": "code",
   "execution_count": 9,
   "metadata": {
    "tags": [
     "hide"
    ]
   },
   "outputs": [
    {
     "data": {
      "text/plain": [
       "2013737.0019058161"
      ]
     },
     "execution_count": 9,
     "metadata": {},
     "output_type": "execute_result"
    }
   ],
   "source": [
    "r.elastic_impedance(15)"
   ]
  },
  {
   "cell_type": "code",
   "execution_count": 10,
   "metadata": {
    "tags": [
     "hide"
    ]
   },
   "outputs": [
    {
     "data": {
      "text/plain": [
       "True"
      ]
     },
     "execution_count": 10,
     "metadata": {},
     "output_type": "execute_result"
    }
   ],
   "source": [
    "Rock(2300, rho=2500) >= Rock(2100, rho=2500)"
   ]
  },
  {
   "cell_type": "code",
   "execution_count": 11,
   "metadata": {
    "tags": [
     "hide"
    ]
   },
   "outputs": [
    {
     "data": {
      "text/plain": [
       "[Rock(\"None\": 2100.0, nan, 2400.0),\n",
       " Rock(\"None\": 2000.0, nan, 2600.0),\n",
       " Rock(\"None\": 2300.0, nan, 2500.0)]"
      ]
     },
     "execution_count": 11,
     "metadata": {},
     "output_type": "execute_result"
    }
   ],
   "source": [
    "sorted([Rock(2300, rho=2500), Rock(2100, rho=2400), Rock(2000, rho=2600)])"
   ]
  },
  {
   "cell_type": "markdown",
   "metadata": {},
   "source": [
    "## Implement your own class\n",
    "\n",
    "- Core\n",
    "- Core sample (SWC, SCAL)\n",
    "- Well log\n",
    "- Well (borehole)\n",
    "- Seismic shot record\n",
    "- Seismic trace (or line, or vol)\n",
    "- Seismic survey plan\n",
    "- Synthetic seismogram\n",
    "- Well test or production log\n",
    "- Basin or play\n",
    "- Stratigraphic column\n",
    "- Formation (top pick, map)\n",
    "- Prospect or field\n",
    "- Well report\n",
    "- Seismic processing report\n",
    "- Outcrop\n",
    "\n",
    "----\n",
    "\n",
    "### CORE\n",
    "\n",
    "Likely mostly a data class. A core class might want to record the following attributes:\n",
    "\n",
    "- ID or box number\n",
    "- Top: 2300 m\n",
    "- Base: 2350 m\n",
    "- Diameter: 4.5 in\n",
    "- Sections: 3 ft\n",
    "- Condition: Fair\n",
    "- Cut type (onethird, twothird, biscuit, uncut)\n",
    "- Lithologies (as a {depth: lithology} dictionary perhaps)\n",
    "- A set of core photographs\n",
    "- A CAT scan 3D image\n",
    "- A list of tests or analyses (these could be another class)\n",
    "- Observations, eg grain-size curve, bioturbation, etc.\n",
    "\n",
    "Note that it probbly would not reference 'parental' things like well name, instead belonging to a separate well object.\n",
    "\n",
    "Calculated properties might include: \n",
    "\n",
    "- Length\n",
    "\n",
    "Methods might include: \n",
    "\n",
    "- Make a table representation for Jupyter\n",
    "- Plot a composite view\n",
    "- Calculate texture from core photo\n",
    "- Predict lithology from logs or core photo\n",
    "\n",
    "----\n",
    "\n",
    "### PROSPECT\n",
    "\n",
    "See the Volumetrics notebook from the Fundamentals class notebooks. Attributes might include:\n",
    "\n",
    "- Area, thickness, geometric factor, porosity, Bo or Bg, net:gross, saturation\n",
    "- Distribution types for all those attributes\n",
    "- Name, location, formation name, play type, and so on\n",
    "- Probabilities: reservoir, trap, seal, migration\n",
    "\n",
    "Properties:\n",
    "\n",
    "- Gross rock volume\n",
    "- Hydrocarbon pore volume\n",
    "- Hydrocarbons in place\n",
    "- Probability of discovery\n",
    "\n",
    "Methods:\n",
    "\n",
    "- Deterministic volumetrics\n",
    "- Simulate properies using Monte Carlo\n",
    "- Fit a distribution to a dataset (see Volumetrics notebook)\n",
    "- Combine two prospects with dependent or independent risks\n",
    "\n",
    "----\n",
    "\n",
    "### WELL REPORT\n",
    "\n",
    "Attributes:\n",
    "\n",
    "- Serial number(s)\n",
    "- Author, title, date\n",
    "- Length\n",
    "- Format\n",
    "- Abstract\n",
    "- File (eg PDF) location\n",
    "- Physical location\n",
    "\n",
    "Methods:\n",
    "\n",
    "- Find a word or phrase\n",
    "- Make a word cloud\n",
    "- Summarize or get tags\n",
    "- Get a particular page from the PDF\n",
    "- Try to extract a table from a given page\n",
    "- Run sentiment analysis\n",
    "- Find figures, or particular types of figure\n",
    "- Perform latent semantic analyis (LSA)\n",
    "\n",
    "NLP tools are easy enough to find, but it might be easier to start with some web APIs, eg on rapidapi.com. For example, see this notebook: https://github.com/kwinkunks/notebooks/blob/master/Text_processing.ipynb \n",
    "\n",
    "There is an example of LSA in this tutorial: https://github.com/seg/2017-tle-hall"
   ]
  },
  {
   "cell_type": "markdown",
   "metadata": {},
   "source": [
    "----\n",
    "\n",
    "© 2019 Agile Scientific"
   ]
  }
 ],
 "metadata": {
  "celltoolbar": "Tags",
  "kernelspec": {
   "display_name": "geocomp",
   "language": "python",
   "name": "geocomp"
  },
  "language_info": {
   "codemirror_mode": {
    "name": "ipython",
    "version": 3
   },
   "file_extension": ".py",
   "mimetype": "text/x-python",
   "name": "python",
   "nbconvert_exporter": "python",
   "pygments_lexer": "ipython3",
   "version": "3.8.6"
  }
 },
 "nbformat": 4,
 "nbformat_minor": 2
}
