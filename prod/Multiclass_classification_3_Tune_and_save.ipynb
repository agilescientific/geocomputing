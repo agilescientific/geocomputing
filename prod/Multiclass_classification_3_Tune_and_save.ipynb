{
 "cells": [
  {
   "cell_type": "markdown",
   "metadata": {},
   "source": [
    "# Multiclass classification 3: Tune and save\n",
    "\n",
    "This notebook comes after:\n",
    "\n",
    "- Multiclass_classification_1_Split_and_scale.ipynb\n",
    "- Multiclass_classification_2_Fit_and_score.ipynb\n",
    "\n",
    "This notebook assumes you have some familiarity with:\n",
    "\n",
    "- Basic Python syntax and functions.\n",
    "- Numerics and visualization with NumPy and `matplotlib` or `seaborn`.\n",
    "- Exploratory data analysis with Pandas.\n",
    "- The essential concepts of supervised machine learning.\n",
    "- The fundamentals of machine learning algorithms.\n",
    "\n",
    "If you're a bit short on a couple of these elements, not to worry. There are other courses that cover them, but you might find that we breeze past some topics in this class. Ask questions and follow links!"
   ]
  },
  {
   "cell_type": "markdown",
   "metadata": {},
   "source": [
    "---\n",
    "\n",
    "## Unfreezing the data"
   ]
  },
  {
   "cell_type": "code",
   "execution_count": 3,
   "metadata": {},
   "outputs": [
    {
     "data": {
      "text/plain": [
       "array([[7.74500000e+01, 2.39349994e+03, 4.60000000e+00, 6.64000000e-01],\n",
       "       [7.82600000e+01, 2.41611981e+03, 4.10000000e+00, 6.61000000e-01],\n",
       "       [7.90500000e+01, 2.40457606e+03, 3.60000000e+00, 6.58000000e-01],\n",
       "       [8.61000000e+01, 2.39324907e+03, 3.50000000e+00, 6.55000000e-01],\n",
       "       [7.45800000e+01, 2.38260260e+03, 3.40000000e+00, 6.47000000e-01]])"
      ]
     },
     "execution_count": 3,
     "metadata": {},
     "output_type": "execute_result"
    }
   ],
   "source": [
    "import numpy as np\n",
    "\n",
    "f = np.load(\"All_data.npz\", allow_pickle=True)\n",
    "X_train, X_test, y_train, y_test, wells = [f.get(file) for file in f.files]\n",
    "\n",
    "X_train[:5]"
   ]
  },
  {
   "cell_type": "code",
   "execution_count": 4,
   "metadata": {},
   "outputs": [
    {
     "name": "stdout",
     "output_type": "stream",
     "text": [
      "0.24.2\n"
     ]
    }
   ],
   "source": [
    "import sklearn\n",
    "\n",
    "print(sklearn.__version__)\n",
    "\n",
    "# Make sure we can see all of the model details.\n",
    "sklearn.set_config(print_changed_only=False)"
   ]
  },
  {
   "cell_type": "markdown",
   "metadata": {},
   "source": [
    "## Tuning models to improve performance"
   ]
  },
  {
   "cell_type": "markdown",
   "metadata": {},
   "source": [
    "Depending on you requirements, this results might be good enough to deploy this model and use it in production but it is usually not the best model you can get. Each method has a set of controls or arguments, known as _hyperparameters_, that can be tweaked to tune the training.\n",
    "\n",
    "Note that we don't call these settings 'parameters' because that word is reserved for the learnable parameters, weights, or coefficients in the model (e.g. $\\mathbf{w}$ and $b$ in $\\hat{y} = \\mathbf{w}\\mathbf{x} + b$).\n",
    "\n",
    "For the `SVC` there are a few of these hyperparameters:"
   ]
  },
  {
   "cell_type": "code",
   "execution_count": 5,
   "metadata": {},
   "outputs": [
    {
     "data": {
      "text/plain": [
       "SVC(C=1.0, break_ties=False, cache_size=200, class_weight=None, coef0=0.0,\n",
       "    decision_function_shape='ovr', degree=3, gamma='scale', kernel='rbf',\n",
       "    max_iter=-1, probability=False, random_state=None, shrinking=True,\n",
       "    tol=0.001, verbose=False)"
      ]
     },
     "execution_count": 5,
     "metadata": {},
     "output_type": "execute_result"
    }
   ],
   "source": [
    "from sklearn.svm import SVC\n",
    "\n",
    "SVC()"
   ]
  },
  {
   "cell_type": "markdown",
   "metadata": {
    "tags": [
     "info"
    ]
   },
   "source": [
    "Note that by default, the SVM applies regularization (unlike the usual alpha, the C hyperparameter is **inversely** proportional to the amount of regularization, so use low C for smoother models), and kernel transformations (fitting non-linearly separable data)."
   ]
  },
  {
   "cell_type": "markdown",
   "metadata": {},
   "source": [
    "For this particular algorithm, the most important hyperparameters are:\n",
    "\n",
    "- `kernel`: especially linear vs nonlinear.\n",
    "- `C`, the regularization parameter.\n",
    "- `gamma`, the kernel coefficient for nonlinear kernels.\n",
    "- `degree`, for polynomials kernels only.\n",
    "\n",
    "For the time being, we'll use the default nonlinear kernel and concentrate on finding the best value of `C`, the regularization parameter.\n",
    "\n",
    "Recall our basic model:"
   ]
  },
  {
   "cell_type": "code",
   "execution_count": 6,
   "metadata": {},
   "outputs": [
    {
     "name": "stdout",
     "output_type": "stream",
     "text": [
      "              precision    recall  f1-score   support\n",
      "\n",
      "    dolomite      0.395     0.118     0.182       127\n",
      "   limestone      0.624     0.648     0.636       662\n",
      "    mudstone      0.479     0.238     0.318       488\n",
      "   sandstone      0.111     0.015     0.026       267\n",
      "   siltstone      0.710     0.926     0.804      1509\n",
      "  wackestone      0.476     0.546     0.509       566\n",
      "\n",
      "    accuracy                          0.627      3619\n",
      "   macro avg      0.466     0.415     0.412      3619\n",
      "weighted avg      0.572     0.627     0.582      3619\n",
      "\n"
     ]
    }
   ],
   "source": [
    "from sklearn.pipeline import make_pipeline\n",
    "from sklearn.preprocessing import StandardScaler\n",
    "from sklearn.model_selection import cross_val_predict\n",
    "from sklearn.model_selection import LeaveOneGroupOut\n",
    "from sklearn.metrics import classification_report\n",
    "\n",
    "m = make_pipeline(StandardScaler(), SVC())\n",
    "y_pred = cross_val_predict(m, X_train, y_train, cv=LeaveOneGroupOut(), groups=wells)\n",
    "print(classification_report(y_train, y_pred, digits=3))"
   ]
  },
  {
   "cell_type": "markdown",
   "metadata": {},
   "source": [
    "In order to get at scores during the cross-validation process, we could use `cross_val_score()` (see previous notebook), but `cross_validate()` is even more general:"
   ]
  },
  {
   "cell_type": "code",
   "execution_count": 7,
   "metadata": {},
   "outputs": [
    {
     "data": {
      "text/plain": [
       "{'fit_time': array([0.23263454, 0.21860051, 0.23485303, 0.2300868 , 0.26090956,\n",
       "        0.25200963, 0.24249077, 0.25025344]),\n",
       " 'score_time': array([0.03885794, 0.04557776, 0.05612493, 0.05182385, 0.05115628,\n",
       "        0.05670071, 0.05053687, 0.04514813]),\n",
       " 'test_f1_weighted': array([0.57816799, 0.3439674 , 0.71174193, 0.64946216, 0.66799188,\n",
       "        0.53732141, 0.65816638, 0.56276116]),\n",
       " 'train_f1_weighted': array([0.69597429, 0.69329293, 0.68065998, 0.68658114, 0.68424027,\n",
       "        0.68105986, 0.6807521 , 0.68683007])}"
      ]
     },
     "execution_count": 7,
     "metadata": {},
     "output_type": "execute_result"
    }
   ],
   "source": [
    "from sklearn.model_selection import cross_validate\n",
    "\n",
    "cross_validate(m, X_train, y_train,\n",
    "               cv=LeaveOneGroupOut(), groups=wells,\n",
    "               scoring=['f1_weighted'], return_train_score=True,\n",
    "               n_jobs=6\n",
    "              )"
   ]
  },
  {
   "cell_type": "markdown",
   "metadata": {},
   "source": [
    "There are [a lot of different scoring parameters](https://scikit-learn.org/stable/modules/model_evaluation.html#the-scoring-parameter-defining-model-evaluation-rules) and you can even define your own.\n",
    "\n",
    "Examples of classifier scoring metrics:\n",
    "\n",
    "- `'accuracy'`\n",
    "- `'average_precision'`\n",
    "- `'f1_weighted'`\n",
    "- `'roc_auc'`\n",
    "\n",
    "...and a lot of others."
   ]
  },
  {
   "cell_type": "markdown",
   "metadata": {
    "tags": [
     "exercise"
    ]
   },
   "source": [
    "### EXERCISE\n",
    "\n",
    "Let's see how the training and validation scores vary with `C`. Can you loop over values of `C` (it's an exponential property, so try using `np.logspace()` to make an array of values to test) &mdash; collect the train and CV weighted F1 scores, and make a plot of them vs the values of `C`.\n",
    "\n",
    "You will probably want to use `ax.set_xscale('log')` to make the plot easier to read."
   ]
  },
  {
   "cell_type": "code",
   "execution_count": 8,
   "metadata": {},
   "outputs": [],
   "source": [
    "# YOUR CODE HERE\n",
    "\n"
   ]
  },
  {
   "cell_type": "code",
   "execution_count": 9,
   "metadata": {
    "tags": [
     "hide"
    ]
   },
   "outputs": [],
   "source": [
    "from sklearn.svm import SVC\n",
    "\n",
    "C = np.logspace(-3, 3, 13)\n",
    "\n",
    "all_vals = []\n",
    "all_trains = []\n",
    "for Ci in C:\n",
    "    m = make_pipeline(StandardScaler(), SVC(C=Ci))\n",
    "    scores = cross_validate(m, X_train, y_train,\n",
    "                            cv=LeaveOneGroupOut(), groups=wells,\n",
    "                            scoring=['f1_weighted'], return_train_score=True, n_jobs=6)\n",
    "    all_vals.append(np.mean(scores['test_f1_weighted']))\n",
    "    all_trains.append(np.mean(scores['train_f1_weighted']))"
   ]
  },
  {
   "cell_type": "code",
   "execution_count": 10,
   "metadata": {
    "tags": [
     "hide"
    ]
   },
   "outputs": [
    {
     "data": {
      "image/png": "[encoded data removed]",
      "text/plain": [
       "<Figure size 720x432 with 1 Axes>"
      ]
     },
     "metadata": {
      "needs_background": "light"
     },
     "output_type": "display_data"
    }
   ],
   "source": [
    "import matplotlib.pyplot as plt\n",
    "\n",
    "fig, ax = plt.subplots(figsize=(10, 6))\n",
    "ax.plot(C, np.array(all_trains))\n",
    "ax.plot(C, np.array(all_vals))\n",
    "ax.plot(C[np.argmax(all_vals)], max(all_vals), 'ro')  # <-- The max val score.\n",
    "ax.grid(c='k', alpha=0.2)\n",
    "ax.set_xscale('log')\n",
    "ax.invert_yaxis()\n",
    "ax.set_xlabel('C (complexity increasing to right)')\n",
    "ax.set_ylabel('Score (error increasing upwards)')\n",
    "ax.set_title('Score vs complexity for SVM')\n",
    "plt.show()"
   ]
  },
  {
   "cell_type": "markdown",
   "metadata": {},
   "source": [
    "Looks like the range 0.1 to 1.0 is where we want to look. `C=1.0` also happens to be the default."
   ]
  },
  {
   "cell_type": "markdown",
   "metadata": {},
   "source": [
    "## ROC-AUC as a model selection tool\n",
    "\n",
    "The **Area Under the Curve** (AUC) of the [**Receiver Operating Characteristic** (ROC)](https://en.wikipedia.org/wiki/Receiver_operating_characteristic) is another way to compare models (or versions of the model with different hyperparameter settings).\n",
    "\n",
    "[Here's a great video about the AUC-ROC method.](https://www.youtube.com/watch?v=4jRBRDbJemM)\n",
    "\n",
    "So let's take a look at the area under the ROC curve to look for the best value of `C`:"
   ]
  },
  {
   "cell_type": "code",
   "execution_count": 2,
   "metadata": {},
   "outputs": [
    {
     "ename": "NameError",
     "evalue": "name 'C' is not defined",
     "output_type": "error",
     "traceback": [
      "\u001b[0;31m---------------------------------------------------------------------------\u001b[0m",
      "\u001b[0;31mNameError\u001b[0m                                 Traceback (most recent call last)",
      "\u001b[0;32m/tmp/ipykernel_1046595/4200750413.py\u001b[0m in \u001b[0;36m<module>\u001b[0;34m\u001b[0m\n\u001b[1;32m      3\u001b[0m \u001b[0maucs\u001b[0m \u001b[0;34m=\u001b[0m \u001b[0;34m[\u001b[0m\u001b[0;34m]\u001b[0m\u001b[0;34m\u001b[0m\u001b[0;34m\u001b[0m\u001b[0m\n\u001b[1;32m      4\u001b[0m \u001b[0;34m\u001b[0m\u001b[0m\n\u001b[0;32m----> 5\u001b[0;31m \u001b[0;32mfor\u001b[0m \u001b[0mCi\u001b[0m \u001b[0;32min\u001b[0m \u001b[0mC\u001b[0m\u001b[0;34m:\u001b[0m\u001b[0;34m\u001b[0m\u001b[0;34m\u001b[0m\u001b[0m\n\u001b[0m\u001b[1;32m      6\u001b[0m     \u001b[0mm\u001b[0m \u001b[0;34m=\u001b[0m \u001b[0mmake_pipeline\u001b[0m\u001b[0;34m(\u001b[0m\u001b[0mStandardScaler\u001b[0m\u001b[0;34m(\u001b[0m\u001b[0;34m)\u001b[0m\u001b[0;34m,\u001b[0m \u001b[0mSVC\u001b[0m\u001b[0;34m(\u001b[0m\u001b[0mC\u001b[0m\u001b[0;34m=\u001b[0m\u001b[0mCi\u001b[0m\u001b[0;34m,\u001b[0m \u001b[0mprobability\u001b[0m\u001b[0;34m=\u001b[0m\u001b[0;32mTrue\u001b[0m\u001b[0;34m)\u001b[0m\u001b[0;34m)\u001b[0m\u001b[0;34m\u001b[0m\u001b[0;34m\u001b[0m\u001b[0m\n\u001b[1;32m      7\u001b[0m     y_prob = cross_val_predict(m, X_train, y_train,\n",
      "\u001b[0;31mNameError\u001b[0m: name 'C' is not defined"
     ]
    }
   ],
   "source": [
    "from sklearn.metrics import roc_auc_score\n",
    "\n",
    "aucs = []\n",
    "\n",
    "for Ci in C:\n",
    "    m = make_pipeline(StandardScaler(), SVC(C=Ci, probability=True))\n",
    "    y_prob = cross_val_predict(m, X_train, y_train,\n",
    "                               cv=LeaveOneGroupOut(), groups=wells,\n",
    "                               method='predict_proba', n_jobs=6)\n",
    "    auc = roc_auc_score(y_train, y_prob, multi_class='ovo')\n",
    "    aucs.append(auc)"
   ]
  },
  {
   "cell_type": "code",
   "execution_count": 22,
   "metadata": {},
   "outputs": [
    {
     "data": {
      "image/png": "[encoded data removed]",
      "text/plain": [
       "<Figure size 432x288 with 1 Axes>"
      ]
     },
     "metadata": {
      "needs_background": "light"
     },
     "output_type": "display_data"
    }
   ],
   "source": [
    "plt.plot(C, aucs, 'o-')\n",
    "plt.ylabel('ROC-AUC (not score!)')\n",
    "plt.xlabel('C (proportional to complexity)')\n",
    "plt.xscale('log')"
   ]
  },
  {
   "cell_type": "markdown",
   "metadata": {},
   "source": [
    "This supports the idea that 0.3 to 1.0 is a decent choice. So we can keep the default."
   ]
  },
  {
   "cell_type": "code",
   "execution_count": 11,
   "metadata": {},
   "outputs": [
    {
     "name": "stdout",
     "output_type": "stream",
     "text": [
      "              precision    recall  f1-score   support\n",
      "\n",
      "    dolomite      0.395     0.118     0.182       127\n",
      "   limestone      0.624     0.648     0.636       662\n",
      "    mudstone      0.479     0.238     0.318       488\n",
      "   sandstone      0.111     0.015     0.026       267\n",
      "   siltstone      0.710     0.926     0.804      1509\n",
      "  wackestone      0.476     0.546     0.509       566\n",
      "\n",
      "    accuracy                          0.627      3619\n",
      "   macro avg      0.466     0.415     0.412      3619\n",
      "weighted avg      0.572     0.627     0.582      3619\n",
      "\n"
     ]
    }
   ],
   "source": [
    "model = make_pipeline(StandardScaler(), SVC(C=1.0))\n",
    "y_pred = cross_val_predict(model, X_train, y_train, cv=LeaveOneGroupOut(), groups=wells)\n",
    "print(classification_report(y_train, y_pred, digits=3))"
   ]
  },
  {
   "cell_type": "markdown",
   "metadata": {},
   "source": [
    "---\n",
    "\n",
    "## Choosing the right estimator\n",
    "\n",
    "Often the hardest part of solving a machine learning problem can be finding the right estimator for the job.\n",
    "\n",
    "This is a good place to start ([here](https://scikit-learn.org/stable/tutorial/machine_learning_map/index.html) is a clickable version):\n",
    "\n",
    "<img src=\"https://scikit-learn.org/stable/_static/ml_map.png\"></img>\n",
    "\n",
    "---\n",
    "\n",
    "Different estimators are better suited for different types of data and different problems. For a classifier comparison (below) check the source code [here](http://scikit-learn.org/stable/auto_examples/classification/plot_classifier_comparison.html)\n",
    "\n",
    "<img src=\"https://scikit-learn.org/stable/_images/sphx_glr_plot_classifier_comparison_001.png\"></img>"
   ]
  },
  {
   "cell_type": "markdown",
   "metadata": {},
   "source": [
    "### [Check out this paper with a comparison of many classifiers](https://arxiv.org/abs/1708.05070)"
   ]
  },
  {
   "cell_type": "markdown",
   "metadata": {
    "tags": [
     "exe"
    ]
   },
   "source": [
    "### Exercise\n",
    "\n",
    "- Can you beat our current high score by twiddling hyperparameters on one of these models?\n",
    "- Or, try other methods available in the scikit-learn library. See the list [here](http://scikit-learn.org/stable/supervised_learning.html). For example, get a sneak peek at neural nets with the MLP."
   ]
  },
  {
   "cell_type": "code",
   "execution_count": 12,
   "metadata": {},
   "outputs": [],
   "source": [
    "# YOUR CODE HERE\n",
    "\n"
   ]
  },
  {
   "cell_type": "markdown",
   "metadata": {},
   "source": [
    "----\n",
    "\n",
    "## Hyperparameter tuning"
   ]
  },
  {
   "cell_type": "markdown",
   "metadata": {},
   "source": [
    "Many of the models can be improved (or worsened) by changing the parameters that internally make the method work. It's always a good idea to check the documentation of each model (e.g. `RandomForestClassifier` [docs](http://scikit-learn.org/stable/modules/generated/sklearn.ensemble.RandomForestClassifier.html)). This process is usually called _hyperparameter tuning_."
   ]
  },
  {
   "cell_type": "markdown",
   "metadata": {},
   "source": [
    "Scikit-learn offers a convenient way to test multiple parameters for each model through a function called `GridSearchCV`.\n",
    "\n",
    "As with other cross validation tools in `sklearn`, the default behviour is to split the training data randomly into _k_ 'folds'. But we'll define a 'LOGO' splitter as before."
   ]
  },
  {
   "cell_type": "code",
   "execution_count": 16,
   "metadata": {},
   "outputs": [
    {
     "data": {
      "text/plain": [
       "array([1.00000000e-04, 3.16227766e-04, 1.00000000e-03, 3.16227766e-03,\n",
       "       1.00000000e-02, 3.16227766e-02, 1.00000000e-01, 3.16227766e-01,\n",
       "       1.00000000e+00])"
      ]
     },
     "execution_count": 16,
     "metadata": {},
     "output_type": "execute_result"
    }
   ],
   "source": [
    "np.logspace(-4, 0, 9)"
   ]
  },
  {
   "cell_type": "code",
   "execution_count": 17,
   "metadata": {},
   "outputs": [
    {
     "name": "stdout",
     "output_type": "stream",
     "text": [
      "Fitting 8 folds for each of 117 candidates, totalling 936 fits\n"
     ]
    },
    {
     "data": {
      "text/plain": [
       "GridSearchCV(cv=LeaveOneGroupOut(), error_score=nan,\n",
       "             estimator=Pipeline(memory=None,\n",
       "                                steps=[('scaler',\n",
       "                                        StandardScaler(copy=True,\n",
       "                                                       with_mean=True,\n",
       "                                                       with_std=True)),\n",
       "                                       ('svc',\n",
       "                                        SVC(C=1.0, break_ties=False,\n",
       "                                            cache_size=200, class_weight=None,\n",
       "                                            coef0=0.0,\n",
       "                                            decision_function_shape='ovr',\n",
       "                                            degree=3, gamma='scale',\n",
       "                                            kernel='rbf', max_iter=-1,\n",
       "                                            probability=False,\n",
       "                                            random_state=None, shri...\n",
       "       2.15443469e-03, 4.64158883e-03, 1.00000000e-02, 2.15443469e-02,\n",
       "       4.64158883e-02, 1.00000000e-01, 2.15443469e-01, 4.64158883e-01,\n",
       "       1.00000000e+00]),\n",
       "                         'svc__gamma': array([1.00000000e-04, 3.16227766e-04, 1.00000000e-03, 3.16227766e-03,\n",
       "       1.00000000e-02, 3.16227766e-02, 1.00000000e-01, 3.16227766e-01,\n",
       "       1.00000000e+00])},\n",
       "             pre_dispatch='2*n_jobs', refit=True, return_train_score=False,\n",
       "             scoring='f1_weighted', verbose=1)"
      ]
     },
     "execution_count": 17,
     "metadata": {},
     "output_type": "execute_result"
    }
   ],
   "source": [
    "from sklearn.model_selection import GridSearchCV\n",
    "from sklearn.pipeline import Pipeline\n",
    "\n",
    "model = Pipeline(steps=[('scaler', StandardScaler()),\n",
    "                        ('svc', SVC()),\n",
    "                       ])\n",
    "\n",
    "param_grid = {'svc__C': np.logspace(-4, 0, 13),\n",
    "              'svc__gamma': np.logspace(-4, 0, 9),\n",
    "             }\n",
    "             \n",
    "clf = GridSearchCV(model, param_grid,\n",
    "                   scoring='f1_weighted',\n",
    "                   cv=LeaveOneGroupOut(),\n",
    "                   n_jobs=8, verbose=1,\n",
    "                  )\n",
    "\n",
    "clf.fit(X_train, y_train, groups=wells)"
   ]
  },
  {
   "cell_type": "code",
   "execution_count": 18,
   "metadata": {},
   "outputs": [
    {
     "data": {
      "text/plain": [
       "{'mean_fit_time': array([0.46061012, 0.4434748 , 0.85159558, 0.55376953, 0.60720786,\n",
       "        0.59174579, 0.56754705, 0.61584759, 0.60378504, 0.53986782,\n",
       "        0.55222437, 0.54241952, 0.53389233, 0.53363007, 0.56362939,\n",
       "        0.55264834, 0.56579146, 0.57657048, 0.57234421, 0.57386425,\n",
       "        0.57782987, 0.56461519, 0.55029058, 0.63027588, 0.58543333,\n",
       "        0.61817798, 0.56972781, 0.53628734, 0.55933505, 0.59944779,\n",
       "        0.56638333, 0.54830167, 0.58742034, 0.57513264, 0.58449122,\n",
       "        0.56268212, 0.5684855 , 0.53767934, 0.54802516, 0.55388311,\n",
       "        0.55302346, 0.53846741, 0.55410644, 0.59072015, 0.5741381 ,\n",
       "        0.5271391 , 0.55270475, 0.5563747 , 0.62586394, 0.61363462,\n",
       "        0.60037318, 0.57635191, 0.5596976 , 0.57237461, 0.53962222,\n",
       "        0.54812521, 0.54929864, 0.55378735, 0.55497053, 0.55803424,\n",
       "        0.54029477, 0.52531171, 0.57187518, 0.52975172, 0.53451842,\n",
       "        0.60661209, 0.60110116, 0.56025845, 0.57081401, 0.50925049,\n",
       "        0.50749165, 0.55168313, 0.61745188, 0.55788305, 0.629471  ,\n",
       "        0.56338045, 0.58279532, 0.49778038, 0.41958636, 0.40966359,\n",
       "        0.46958068, 0.54935366, 0.55135947, 0.57358629, 0.55978423,\n",
       "        0.52198333, 0.42740524, 0.38090715, 0.37831214, 0.41568413,\n",
       "        0.54095787, 0.55118397, 0.55115139, 0.52399665, 0.45397407,\n",
       "        0.38304624, 0.37387508, 0.37064898, 0.47777373, 0.60586116,\n",
       "        0.61671644, 0.55480531, 0.50326863, 0.43788823, 0.39916685,\n",
       "        0.38979197, 0.36916924, 0.40788829, 0.58498734, 0.63495186,\n",
       "        0.60999778, 0.48477954, 0.42202339, 0.42250293, 0.3544752 ,\n",
       "        0.35003704, 0.40359586]),\n",
       " 'std_fit_time': array([0.11205077, 0.04021075, 0.18968805, 0.08004144, 0.10155547,\n",
       "        0.11171471, 0.0546508 , 0.05676689, 0.12251815, 0.03067505,\n",
       "        0.01815853, 0.01818962, 0.01714689, 0.03153031, 0.05352418,\n",
       "        0.02699614, 0.01519374, 0.07299883, 0.11535808, 0.10703288,\n",
       "        0.11587803, 0.1177102 , 0.0959778 , 0.13379367, 0.04736161,\n",
       "        0.11951973, 0.01301055, 0.01844032, 0.01157107, 0.03180846,\n",
       "        0.02041709, 0.01891034, 0.09540805, 0.05721077, 0.01563411,\n",
       "        0.01611749, 0.10323177, 0.0563105 , 0.03556268, 0.03282191,\n",
       "        0.02698119, 0.02635216, 0.02004001, 0.01433407, 0.02117125,\n",
       "        0.02350027, 0.03312625, 0.0465888 , 0.12190549, 0.10025513,\n",
       "        0.05580965, 0.03845578, 0.02212075, 0.03039874, 0.01829338,\n",
       "        0.01671958, 0.01644589, 0.02594093, 0.01167802, 0.01843563,\n",
       "        0.02007468, 0.01663479, 0.01660065, 0.02990507, 0.02644552,\n",
       "        0.10486789, 0.12457619, 0.09316264, 0.11565612, 0.11035357,\n",
       "        0.11285336, 0.09928816, 0.12428226, 0.08485798, 0.13575216,\n",
       "        0.10295638, 0.11571865, 0.04159168, 0.01269441, 0.01167188,\n",
       "        0.01675594, 0.02389547, 0.01894872, 0.02007776, 0.02032645,\n",
       "        0.02969978, 0.01551579, 0.01748096, 0.01520588, 0.01999921,\n",
       "        0.02352733, 0.01473984, 0.02913615, 0.01583923, 0.01589098,\n",
       "        0.01500479, 0.07328211, 0.08192968, 0.07096829, 0.12317439,\n",
       "        0.0348159 , 0.01044687, 0.02119817, 0.01384211, 0.02106017,\n",
       "        0.03008026, 0.07374753, 0.07735688, 0.04610264, 0.09690676,\n",
       "        0.13504786, 0.09759688, 0.07515048, 0.0744521 , 0.06248341,\n",
       "        0.04218481, 0.08554548]),\n",
       " 'mean_score_time': array([0.07866448, 0.08964956, 0.09506965, 0.10060653, 0.10605839,\n",
       "        0.10249698, 0.08682138, 0.09250697, 0.08758521, 0.08589539,\n",
       "        0.09428743, 0.0879738 , 0.08763206, 0.09518343, 0.08823273,\n",
       "        0.08418894, 0.08581483, 0.08904272, 0.09965232, 0.10121432,\n",
       "        0.09852514, 0.09951502, 0.09080878, 0.10509884, 0.09186539,\n",
       "        0.08402142, 0.08496162, 0.08893931, 0.09559456, 0.09365606,\n",
       "        0.09064391, 0.08511624, 0.09470171, 0.08650783, 0.08707526,\n",
       "        0.08242261, 0.10040084, 0.08876044, 0.09222347, 0.08705565,\n",
       "        0.08694348, 0.08457673, 0.08802712, 0.08913168, 0.08361688,\n",
       "        0.08796471, 0.09034634, 0.09334931, 0.10136548, 0.08807749,\n",
       "        0.09001318, 0.08651745, 0.08606488, 0.0822401 , 0.08901462,\n",
       "        0.08535391, 0.08959627, 0.08476877, 0.08714259, 0.0843147 ,\n",
       "        0.08537748, 0.08155334, 0.08248594, 0.08771759, 0.08774444,\n",
       "        0.10256073, 0.10017529, 0.08941832, 0.0958617 , 0.0918037 ,\n",
       "        0.08704707, 0.08386493, 0.10631543, 0.09050581, 0.1080052 ,\n",
       "        0.08921808, 0.09450716, 0.08091739, 0.07791945, 0.07363594,\n",
       "        0.07682571, 0.08304214, 0.08545837, 0.09078306, 0.08748478,\n",
       "        0.08286253, 0.07994145, 0.07290971, 0.07060522, 0.07217422,\n",
       "        0.08576226, 0.085336  , 0.08371118, 0.08456185, 0.07962179,\n",
       "        0.07544786, 0.08011594, 0.07876241, 0.07587948, 0.09428859,\n",
       "        0.09117082, 0.08685163, 0.08652827, 0.0840669 , 0.08470941,\n",
       "        0.09881225, 0.0741559 , 0.06908596, 0.10373396, 0.10612431,\n",
       "        0.10705483, 0.09443167, 0.08427185, 0.0928306 , 0.07162839,\n",
       "        0.06699836, 0.07045379]),\n",
       " 'std_score_time': array([0.02374872, 0.01452133, 0.00754695, 0.03186741, 0.0299235 ,\n",
       "        0.03037469, 0.00865004, 0.02371199, 0.01541112, 0.00397236,\n",
       "        0.01236308, 0.00793673, 0.00714299, 0.01637358, 0.00989969,\n",
       "        0.00693058, 0.00567931, 0.02353059, 0.03273316, 0.03003482,\n",
       "        0.03305646, 0.03286387, 0.02537045, 0.03246313, 0.02631334,\n",
       "        0.00828136, 0.00699555, 0.00962602, 0.0105057 , 0.00574447,\n",
       "        0.00736081, 0.00659749, 0.02277655, 0.00966883, 0.00631766,\n",
       "        0.00661207, 0.02975149, 0.00910348, 0.00575638, 0.00810207,\n",
       "        0.00794109, 0.00336375, 0.01377553, 0.00513251, 0.00635689,\n",
       "        0.00592705, 0.0057153 , 0.0232337 , 0.02312418, 0.00664484,\n",
       "        0.00675826, 0.00358985, 0.00866692, 0.00525434, 0.00806942,\n",
       "        0.00894946, 0.0057235 , 0.00511687, 0.00967765, 0.00549804,\n",
       "        0.00859634, 0.00852827, 0.00595906, 0.00754453, 0.00806791,\n",
       "        0.03156786, 0.03214887, 0.02407827, 0.02538397, 0.02456569,\n",
       "        0.02651045, 0.0165911 , 0.03275119, 0.02532696, 0.03156365,\n",
       "        0.0241795 , 0.02881902, 0.00637554, 0.00397936, 0.00699563,\n",
       "        0.00587312, 0.00608611, 0.00814641, 0.00763465, 0.00788911,\n",
       "        0.00624589, 0.0092969 , 0.00606915, 0.00548918, 0.00416723,\n",
       "        0.00652575, 0.00705804, 0.0078036 , 0.00753045, 0.00548017,\n",
       "        0.00718035, 0.02274234, 0.02439203, 0.01543678, 0.01470355,\n",
       "        0.01000064, 0.0044516 , 0.00868488, 0.01550775, 0.00572604,\n",
       "        0.01624497, 0.02426075, 0.01879011, 0.02486469, 0.02931994,\n",
       "        0.02498718, 0.02674832, 0.01574959, 0.02695603, 0.01551237,\n",
       "        0.01056076, 0.02155778]),\n",
       " 'param_svc__C': masked_array(data=[0.0001, 0.0001, 0.0001, 0.0001, 0.0001, 0.0001, 0.0001,\n",
       "                    0.0001, 0.0001, 0.00021544346900318845,\n",
       "                    0.00021544346900318845, 0.00021544346900318845,\n",
       "                    0.00021544346900318845, 0.00021544346900318845,\n",
       "                    0.00021544346900318845, 0.00021544346900318845,\n",
       "                    0.00021544346900318845, 0.00021544346900318845,\n",
       "                    0.00046415888336127773, 0.00046415888336127773,\n",
       "                    0.00046415888336127773, 0.00046415888336127773,\n",
       "                    0.00046415888336127773, 0.00046415888336127773,\n",
       "                    0.00046415888336127773, 0.00046415888336127773,\n",
       "                    0.00046415888336127773, 0.001, 0.001, 0.001, 0.001,\n",
       "                    0.001, 0.001, 0.001, 0.001, 0.001,\n",
       "                    0.002154434690031882, 0.002154434690031882,\n",
       "                    0.002154434690031882, 0.002154434690031882,\n",
       "                    0.002154434690031882, 0.002154434690031882,\n",
       "                    0.002154434690031882, 0.002154434690031882,\n",
       "                    0.002154434690031882, 0.004641588833612777,\n",
       "                    0.004641588833612777, 0.004641588833612777,\n",
       "                    0.004641588833612777, 0.004641588833612777,\n",
       "                    0.004641588833612777, 0.004641588833612777,\n",
       "                    0.004641588833612777, 0.004641588833612777, 0.01, 0.01,\n",
       "                    0.01, 0.01, 0.01, 0.01, 0.01, 0.01, 0.01,\n",
       "                    0.021544346900318822, 0.021544346900318822,\n",
       "                    0.021544346900318822, 0.021544346900318822,\n",
       "                    0.021544346900318822, 0.021544346900318822,\n",
       "                    0.021544346900318822, 0.021544346900318822,\n",
       "                    0.021544346900318822, 0.046415888336127774,\n",
       "                    0.046415888336127774, 0.046415888336127774,\n",
       "                    0.046415888336127774, 0.046415888336127774,\n",
       "                    0.046415888336127774, 0.046415888336127774,\n",
       "                    0.046415888336127774, 0.046415888336127774, 0.1, 0.1,\n",
       "                    0.1, 0.1, 0.1, 0.1, 0.1, 0.1, 0.1, 0.21544346900318823,\n",
       "                    0.21544346900318823, 0.21544346900318823,\n",
       "                    0.21544346900318823, 0.21544346900318823,\n",
       "                    0.21544346900318823, 0.21544346900318823,\n",
       "                    0.21544346900318823, 0.21544346900318823,\n",
       "                    0.46415888336127775, 0.46415888336127775,\n",
       "                    0.46415888336127775, 0.46415888336127775,\n",
       "                    0.46415888336127775, 0.46415888336127775,\n",
       "                    0.46415888336127775, 0.46415888336127775,\n",
       "                    0.46415888336127775, 1.0, 1.0, 1.0, 1.0, 1.0, 1.0, 1.0,\n",
       "                    1.0, 1.0],\n",
       "              mask=[False, False, False, False, False, False, False, False,\n",
       "                    False, False, False, False, False, False, False, False,\n",
       "                    False, False, False, False, False, False, False, False,\n",
       "                    False, False, False, False, False, False, False, False,\n",
       "                    False, False, False, False, False, False, False, False,\n",
       "                    False, False, False, False, False, False, False, False,\n",
       "                    False, False, False, False, False, False, False, False,\n",
       "                    False, False, False, False, False, False, False, False,\n",
       "                    False, False, False, False, False, False, False, False,\n",
       "                    False, False, False, False, False, False, False, False,\n",
       "                    False, False, False, False, False, False, False, False,\n",
       "                    False, False, False, False, False, False, False, False,\n",
       "                    False, False, False, False, False, False, False, False,\n",
       "                    False, False, False, False, False, False, False, False,\n",
       "                    False, False, False, False, False],\n",
       "        fill_value='?',\n",
       "             dtype=object),\n",
       " 'param_svc__gamma': masked_array(data=[0.0001, 0.00031622776601683794, 0.001,\n",
       "                    0.0031622776601683794, 0.01, 0.03162277660168379, 0.1,\n",
       "                    0.31622776601683794, 1.0, 0.0001,\n",
       "                    0.00031622776601683794, 0.001, 0.0031622776601683794,\n",
       "                    0.01, 0.03162277660168379, 0.1, 0.31622776601683794,\n",
       "                    1.0, 0.0001, 0.00031622776601683794, 0.001,\n",
       "                    0.0031622776601683794, 0.01, 0.03162277660168379, 0.1,\n",
       "                    0.31622776601683794, 1.0, 0.0001,\n",
       "                    0.00031622776601683794, 0.001, 0.0031622776601683794,\n",
       "                    0.01, 0.03162277660168379, 0.1, 0.31622776601683794,\n",
       "                    1.0, 0.0001, 0.00031622776601683794, 0.001,\n",
       "                    0.0031622776601683794, 0.01, 0.03162277660168379, 0.1,\n",
       "                    0.31622776601683794, 1.0, 0.0001,\n",
       "                    0.00031622776601683794, 0.001, 0.0031622776601683794,\n",
       "                    0.01, 0.03162277660168379, 0.1, 0.31622776601683794,\n",
       "                    1.0, 0.0001, 0.00031622776601683794, 0.001,\n",
       "                    0.0031622776601683794, 0.01, 0.03162277660168379, 0.1,\n",
       "                    0.31622776601683794, 1.0, 0.0001,\n",
       "                    0.00031622776601683794, 0.001, 0.0031622776601683794,\n",
       "                    0.01, 0.03162277660168379, 0.1, 0.31622776601683794,\n",
       "                    1.0, 0.0001, 0.00031622776601683794, 0.001,\n",
       "                    0.0031622776601683794, 0.01, 0.03162277660168379, 0.1,\n",
       "                    0.31622776601683794, 1.0, 0.0001,\n",
       "                    0.00031622776601683794, 0.001, 0.0031622776601683794,\n",
       "                    0.01, 0.03162277660168379, 0.1, 0.31622776601683794,\n",
       "                    1.0, 0.0001, 0.00031622776601683794, 0.001,\n",
       "                    0.0031622776601683794, 0.01, 0.03162277660168379, 0.1,\n",
       "                    0.31622776601683794, 1.0, 0.0001,\n",
       "                    0.00031622776601683794, 0.001, 0.0031622776601683794,\n",
       "                    0.01, 0.03162277660168379, 0.1, 0.31622776601683794,\n",
       "                    1.0, 0.0001, 0.00031622776601683794, 0.001,\n",
       "                    0.0031622776601683794, 0.01, 0.03162277660168379, 0.1,\n",
       "                    0.31622776601683794, 1.0],\n",
       "              mask=[False, False, False, False, False, False, False, False,\n",
       "                    False, False, False, False, False, False, False, False,\n",
       "                    False, False, False, False, False, False, False, False,\n",
       "                    False, False, False, False, False, False, False, False,\n",
       "                    False, False, False, False, False, False, False, False,\n",
       "                    False, False, False, False, False, False, False, False,\n",
       "                    False, False, False, False, False, False, False, False,\n",
       "                    False, False, False, False, False, False, False, False,\n",
       "                    False, False, False, False, False, False, False, False,\n",
       "                    False, False, False, False, False, False, False, False,\n",
       "                    False, False, False, False, False, False, False, False,\n",
       "                    False, False, False, False, False, False, False, False,\n",
       "                    False, False, False, False, False, False, False, False,\n",
       "                    False, False, False, False, False, False, False, False,\n",
       "                    False, False, False, False, False],\n",
       "        fill_value='?',\n",
       "             dtype=object),\n",
       " 'params': [{'svc__C': 0.0001, 'svc__gamma': 0.0001},\n",
       "  {'svc__C': 0.0001, 'svc__gamma': 0.00031622776601683794},\n",
       "  {'svc__C': 0.0001, 'svc__gamma': 0.001},\n",
       "  {'svc__C': 0.0001, 'svc__gamma': 0.0031622776601683794},\n",
       "  {'svc__C': 0.0001, 'svc__gamma': 0.01},\n",
       "  {'svc__C': 0.0001, 'svc__gamma': 0.03162277660168379},\n",
       "  {'svc__C': 0.0001, 'svc__gamma': 0.1},\n",
       "  {'svc__C': 0.0001, 'svc__gamma': 0.31622776601683794},\n",
       "  {'svc__C': 0.0001, 'svc__gamma': 1.0},\n",
       "  {'svc__C': 0.00021544346900318845, 'svc__gamma': 0.0001},\n",
       "  {'svc__C': 0.00021544346900318845, 'svc__gamma': 0.00031622776601683794},\n",
       "  {'svc__C': 0.00021544346900318845, 'svc__gamma': 0.001},\n",
       "  {'svc__C': 0.00021544346900318845, 'svc__gamma': 0.0031622776601683794},\n",
       "  {'svc__C': 0.00021544346900318845, 'svc__gamma': 0.01},\n",
       "  {'svc__C': 0.00021544346900318845, 'svc__gamma': 0.03162277660168379},\n",
       "  {'svc__C': 0.00021544346900318845, 'svc__gamma': 0.1},\n",
       "  {'svc__C': 0.00021544346900318845, 'svc__gamma': 0.31622776601683794},\n",
       "  {'svc__C': 0.00021544346900318845, 'svc__gamma': 1.0},\n",
       "  {'svc__C': 0.00046415888336127773, 'svc__gamma': 0.0001},\n",
       "  {'svc__C': 0.00046415888336127773, 'svc__gamma': 0.00031622776601683794},\n",
       "  {'svc__C': 0.00046415888336127773, 'svc__gamma': 0.001},\n",
       "  {'svc__C': 0.00046415888336127773, 'svc__gamma': 0.0031622776601683794},\n",
       "  {'svc__C': 0.00046415888336127773, 'svc__gamma': 0.01},\n",
       "  {'svc__C': 0.00046415888336127773, 'svc__gamma': 0.03162277660168379},\n",
       "  {'svc__C': 0.00046415888336127773, 'svc__gamma': 0.1},\n",
       "  {'svc__C': 0.00046415888336127773, 'svc__gamma': 0.31622776601683794},\n",
       "  {'svc__C': 0.00046415888336127773, 'svc__gamma': 1.0},\n",
       "  {'svc__C': 0.001, 'svc__gamma': 0.0001},\n",
       "  {'svc__C': 0.001, 'svc__gamma': 0.00031622776601683794},\n",
       "  {'svc__C': 0.001, 'svc__gamma': 0.001},\n",
       "  {'svc__C': 0.001, 'svc__gamma': 0.0031622776601683794},\n",
       "  {'svc__C': 0.001, 'svc__gamma': 0.01},\n",
       "  {'svc__C': 0.001, 'svc__gamma': 0.03162277660168379},\n",
       "  {'svc__C': 0.001, 'svc__gamma': 0.1},\n",
       "  {'svc__C': 0.001, 'svc__gamma': 0.31622776601683794},\n",
       "  {'svc__C': 0.001, 'svc__gamma': 1.0},\n",
       "  {'svc__C': 0.002154434690031882, 'svc__gamma': 0.0001},\n",
       "  {'svc__C': 0.002154434690031882, 'svc__gamma': 0.00031622776601683794},\n",
       "  {'svc__C': 0.002154434690031882, 'svc__gamma': 0.001},\n",
       "  {'svc__C': 0.002154434690031882, 'svc__gamma': 0.0031622776601683794},\n",
       "  {'svc__C': 0.002154434690031882, 'svc__gamma': 0.01},\n",
       "  {'svc__C': 0.002154434690031882, 'svc__gamma': 0.03162277660168379},\n",
       "  {'svc__C': 0.002154434690031882, 'svc__gamma': 0.1},\n",
       "  {'svc__C': 0.002154434690031882, 'svc__gamma': 0.31622776601683794},\n",
       "  {'svc__C': 0.002154434690031882, 'svc__gamma': 1.0},\n",
       "  {'svc__C': 0.004641588833612777, 'svc__gamma': 0.0001},\n",
       "  {'svc__C': 0.004641588833612777, 'svc__gamma': 0.00031622776601683794},\n",
       "  {'svc__C': 0.004641588833612777, 'svc__gamma': 0.001},\n",
       "  {'svc__C': 0.004641588833612777, 'svc__gamma': 0.0031622776601683794},\n",
       "  {'svc__C': 0.004641588833612777, 'svc__gamma': 0.01},\n",
       "  {'svc__C': 0.004641588833612777, 'svc__gamma': 0.03162277660168379},\n",
       "  {'svc__C': 0.004641588833612777, 'svc__gamma': 0.1},\n",
       "  {'svc__C': 0.004641588833612777, 'svc__gamma': 0.31622776601683794},\n",
       "  {'svc__C': 0.004641588833612777, 'svc__gamma': 1.0},\n",
       "  {'svc__C': 0.01, 'svc__gamma': 0.0001},\n",
       "  {'svc__C': 0.01, 'svc__gamma': 0.00031622776601683794},\n",
       "  {'svc__C': 0.01, 'svc__gamma': 0.001},\n",
       "  {'svc__C': 0.01, 'svc__gamma': 0.0031622776601683794},\n",
       "  {'svc__C': 0.01, 'svc__gamma': 0.01},\n",
       "  {'svc__C': 0.01, 'svc__gamma': 0.03162277660168379},\n",
       "  {'svc__C': 0.01, 'svc__gamma': 0.1},\n",
       "  {'svc__C': 0.01, 'svc__gamma': 0.31622776601683794},\n",
       "  {'svc__C': 0.01, 'svc__gamma': 1.0},\n",
       "  {'svc__C': 0.021544346900318822, 'svc__gamma': 0.0001},\n",
       "  {'svc__C': 0.021544346900318822, 'svc__gamma': 0.00031622776601683794},\n",
       "  {'svc__C': 0.021544346900318822, 'svc__gamma': 0.001},\n",
       "  {'svc__C': 0.021544346900318822, 'svc__gamma': 0.0031622776601683794},\n",
       "  {'svc__C': 0.021544346900318822, 'svc__gamma': 0.01},\n",
       "  {'svc__C': 0.021544346900318822, 'svc__gamma': 0.03162277660168379},\n",
       "  {'svc__C': 0.021544346900318822, 'svc__gamma': 0.1},\n",
       "  {'svc__C': 0.021544346900318822, 'svc__gamma': 0.31622776601683794},\n",
       "  {'svc__C': 0.021544346900318822, 'svc__gamma': 1.0},\n",
       "  {'svc__C': 0.046415888336127774, 'svc__gamma': 0.0001},\n",
       "  {'svc__C': 0.046415888336127774, 'svc__gamma': 0.00031622776601683794},\n",
       "  {'svc__C': 0.046415888336127774, 'svc__gamma': 0.001},\n",
       "  {'svc__C': 0.046415888336127774, 'svc__gamma': 0.0031622776601683794},\n",
       "  {'svc__C': 0.046415888336127774, 'svc__gamma': 0.01},\n",
       "  {'svc__C': 0.046415888336127774, 'svc__gamma': 0.03162277660168379},\n",
       "  {'svc__C': 0.046415888336127774, 'svc__gamma': 0.1},\n",
       "  {'svc__C': 0.046415888336127774, 'svc__gamma': 0.31622776601683794},\n",
       "  {'svc__C': 0.046415888336127774, 'svc__gamma': 1.0},\n",
       "  {'svc__C': 0.1, 'svc__gamma': 0.0001},\n",
       "  {'svc__C': 0.1, 'svc__gamma': 0.00031622776601683794},\n",
       "  {'svc__C': 0.1, 'svc__gamma': 0.001},\n",
       "  {'svc__C': 0.1, 'svc__gamma': 0.0031622776601683794},\n",
       "  {'svc__C': 0.1, 'svc__gamma': 0.01},\n",
       "  {'svc__C': 0.1, 'svc__gamma': 0.03162277660168379},\n",
       "  {'svc__C': 0.1, 'svc__gamma': 0.1},\n",
       "  {'svc__C': 0.1, 'svc__gamma': 0.31622776601683794},\n",
       "  {'svc__C': 0.1, 'svc__gamma': 1.0},\n",
       "  {'svc__C': 0.21544346900318823, 'svc__gamma': 0.0001},\n",
       "  {'svc__C': 0.21544346900318823, 'svc__gamma': 0.00031622776601683794},\n",
       "  {'svc__C': 0.21544346900318823, 'svc__gamma': 0.001},\n",
       "  {'svc__C': 0.21544346900318823, 'svc__gamma': 0.0031622776601683794},\n",
       "  {'svc__C': 0.21544346900318823, 'svc__gamma': 0.01},\n",
       "  {'svc__C': 0.21544346900318823, 'svc__gamma': 0.03162277660168379},\n",
       "  {'svc__C': 0.21544346900318823, 'svc__gamma': 0.1},\n",
       "  {'svc__C': 0.21544346900318823, 'svc__gamma': 0.31622776601683794},\n",
       "  {'svc__C': 0.21544346900318823, 'svc__gamma': 1.0},\n",
       "  {'svc__C': 0.46415888336127775, 'svc__gamma': 0.0001},\n",
       "  {'svc__C': 0.46415888336127775, 'svc__gamma': 0.00031622776601683794},\n",
       "  {'svc__C': 0.46415888336127775, 'svc__gamma': 0.001},\n",
       "  {'svc__C': 0.46415888336127775, 'svc__gamma': 0.0031622776601683794},\n",
       "  {'svc__C': 0.46415888336127775, 'svc__gamma': 0.01},\n",
       "  {'svc__C': 0.46415888336127775, 'svc__gamma': 0.03162277660168379},\n",
       "  {'svc__C': 0.46415888336127775, 'svc__gamma': 0.1},\n",
       "  {'svc__C': 0.46415888336127775, 'svc__gamma': 0.31622776601683794},\n",
       "  {'svc__C': 0.46415888336127775, 'svc__gamma': 1.0},\n",
       "  {'svc__C': 1.0, 'svc__gamma': 0.0001},\n",
       "  {'svc__C': 1.0, 'svc__gamma': 0.00031622776601683794},\n",
       "  {'svc__C': 1.0, 'svc__gamma': 0.001},\n",
       "  {'svc__C': 1.0, 'svc__gamma': 0.0031622776601683794},\n",
       "  {'svc__C': 1.0, 'svc__gamma': 0.01},\n",
       "  {'svc__C': 1.0, 'svc__gamma': 0.03162277660168379},\n",
       "  {'svc__C': 1.0, 'svc__gamma': 0.1},\n",
       "  {'svc__C': 1.0, 'svc__gamma': 0.31622776601683794},\n",
       "  {'svc__C': 1.0, 'svc__gamma': 1.0}],\n",
       " 'split0_test_score': array([0.10955164, 0.10955164, 0.10955164, 0.10955164, 0.10955164,\n",
       "        0.10955164, 0.10955164, 0.10955164, 0.10955164, 0.10955164,\n",
       "        0.10955164, 0.10955164, 0.10955164, 0.10955164, 0.10955164,\n",
       "        0.10955164, 0.10955164, 0.10955164, 0.10955164, 0.10955164,\n",
       "        0.10955164, 0.10955164, 0.10955164, 0.10955164, 0.10955164,\n",
       "        0.10955164, 0.10955164, 0.10955164, 0.10955164, 0.10955164,\n",
       "        0.10955164, 0.10955164, 0.10955164, 0.10955164, 0.10955164,\n",
       "        0.10955164, 0.10955164, 0.10955164, 0.10955164, 0.10955164,\n",
       "        0.10955164, 0.10955164, 0.10955164, 0.10955164, 0.10955164,\n",
       "        0.10955164, 0.10955164, 0.10955164, 0.10955164, 0.10955164,\n",
       "        0.10955164, 0.2586279 , 0.25914111, 0.10955164, 0.10955164,\n",
       "        0.10955164, 0.10955164, 0.10955164, 0.10955164, 0.32709351,\n",
       "        0.38257026, 0.47903442, 0.24828055, 0.10955164, 0.10955164,\n",
       "        0.10955164, 0.10955164, 0.20172231, 0.39825751, 0.54688962,\n",
       "        0.56205759, 0.45818005, 0.10955164, 0.10955164, 0.10955164,\n",
       "        0.12474055, 0.37101251, 0.53541478, 0.56572499, 0.56533486,\n",
       "        0.5554327 , 0.10955164, 0.10955164, 0.10955164, 0.35591591,\n",
       "        0.53638807, 0.55445031, 0.57631572, 0.57618799, 0.56804006,\n",
       "        0.10955164, 0.10955164, 0.21844735, 0.48615191, 0.54232431,\n",
       "        0.56238884, 0.58621287, 0.57291334, 0.57016426, 0.10955164,\n",
       "        0.12474055, 0.37455252, 0.53806725, 0.56541452, 0.5713164 ,\n",
       "        0.58475132, 0.5690949 , 0.55885659, 0.10955164, 0.35591591,\n",
       "        0.53912553, 0.55434514, 0.57211182, 0.58478324, 0.58598841,\n",
       "        0.56666434, 0.54833189]),\n",
       " 'split1_test_score': array([0.20075901, 0.20075901, 0.20075901, 0.20075901, 0.20075901,\n",
       "        0.20075901, 0.20075901, 0.20075901, 0.20075901, 0.20075901,\n",
       "        0.20075901, 0.20075901, 0.20075901, 0.20075901, 0.20075901,\n",
       "        0.20075901, 0.20075901, 0.20075901, 0.20075901, 0.20075901,\n",
       "        0.20075901, 0.20075901, 0.20075901, 0.20075901, 0.20075901,\n",
       "        0.20075901, 0.20075901, 0.20075901, 0.20075901, 0.20075901,\n",
       "        0.20075901, 0.20075901, 0.20075901, 0.20075901, 0.20075901,\n",
       "        0.20075901, 0.20075901, 0.20075901, 0.20075901, 0.20075901,\n",
       "        0.20075901, 0.20075901, 0.20075901, 0.20075901, 0.20075901,\n",
       "        0.20075901, 0.20075901, 0.20075901, 0.20075901, 0.20075901,\n",
       "        0.20075901, 0.2778605 , 0.28430896, 0.20075901, 0.20075901,\n",
       "        0.20075901, 0.20075901, 0.20075901, 0.20075901, 0.27875906,\n",
       "        0.31962549, 0.31991861, 0.3041892 , 0.20075901, 0.20075901,\n",
       "        0.20075901, 0.20075901, 0.26041877, 0.3013874 , 0.30766266,\n",
       "        0.31512383, 0.31075128, 0.20075901, 0.20075901, 0.20075901,\n",
       "        0.20075901, 0.31716345, 0.3100968 , 0.33141274, 0.3433953 ,\n",
       "        0.32005612, 0.20075901, 0.20075901, 0.20075901, 0.28244386,\n",
       "        0.29588458, 0.31615431, 0.34123925, 0.34305748, 0.33260936,\n",
       "        0.20075901, 0.20075901, 0.2632594 , 0.27734442, 0.30486504,\n",
       "        0.33700357, 0.34546799, 0.33645371, 0.3508782 , 0.20075901,\n",
       "        0.20075901, 0.31518662, 0.29835292, 0.31048859, 0.34884646,\n",
       "        0.34889086, 0.33385391, 0.36324393, 0.20075901, 0.28230928,\n",
       "        0.29582628, 0.30178213, 0.32454963, 0.35299669, 0.3438434 ,\n",
       "        0.35459559, 0.35461144]),\n",
       " 'split2_test_score': array([0.37134696, 0.37134696, 0.37134696, 0.37134696, 0.37134696,\n",
       "        0.37134696, 0.37134696, 0.37134696, 0.37134696, 0.37134696,\n",
       "        0.37134696, 0.37134696, 0.37134696, 0.37134696, 0.37134696,\n",
       "        0.37134696, 0.37134696, 0.37134696, 0.37134696, 0.37134696,\n",
       "        0.37134696, 0.37134696, 0.37134696, 0.37134696, 0.37134696,\n",
       "        0.37134696, 0.37134696, 0.37134696, 0.37134696, 0.37134696,\n",
       "        0.37134696, 0.37134696, 0.37134696, 0.37134696, 0.37134696,\n",
       "        0.37134696, 0.37134696, 0.37134696, 0.37134696, 0.37134696,\n",
       "        0.37134696, 0.37134696, 0.37134696, 0.37134696, 0.37134696,\n",
       "        0.37134696, 0.37134696, 0.37134696, 0.37134696, 0.37134696,\n",
       "        0.37134696, 0.49322181, 0.50315784, 0.37134696, 0.37134696,\n",
       "        0.37134696, 0.37134696, 0.37134696, 0.37134696, 0.50099445,\n",
       "        0.53278333, 0.57274896, 0.50346113, 0.37134696, 0.37134696,\n",
       "        0.37134696, 0.37134696, 0.45685029, 0.52353748, 0.70909097,\n",
       "        0.68674307, 0.64424316, 0.37134696, 0.37134696, 0.37134696,\n",
       "        0.3854375 , 0.51878155, 0.70641241, 0.70157437, 0.69290837,\n",
       "        0.64750047, 0.37134696, 0.37134696, 0.37134696, 0.50633501,\n",
       "        0.66471006, 0.71193516, 0.7055691 , 0.69552685, 0.67226067,\n",
       "        0.37134696, 0.37134696, 0.46270939, 0.53805077, 0.70745501,\n",
       "        0.71268421, 0.70523219, 0.7073321 , 0.67333094, 0.37134696,\n",
       "        0.3854375 , 0.51711813, 0.69652348, 0.71922038, 0.71129175,\n",
       "        0.71572157, 0.70629452, 0.67527176, 0.37134696, 0.50633501,\n",
       "        0.67117982, 0.7147454 , 0.70866705, 0.71224699, 0.70927488,\n",
       "        0.71903688, 0.6680233 ]),\n",
       " 'split3_test_score': array([0.21351627, 0.21351627, 0.21351627, 0.21351627, 0.21351627,\n",
       "        0.21351627, 0.21351627, 0.21351627, 0.21351627, 0.21351627,\n",
       "        0.21351627, 0.21351627, 0.21351627, 0.21351627, 0.21351627,\n",
       "        0.21351627, 0.21351627, 0.21351627, 0.21351627, 0.21351627,\n",
       "        0.21351627, 0.21351627, 0.21351627, 0.21351627, 0.21351627,\n",
       "        0.21351627, 0.21351627, 0.21351627, 0.21351627, 0.21351627,\n",
       "        0.21351627, 0.21351627, 0.21351627, 0.21351627, 0.21351627,\n",
       "        0.21351627, 0.21351627, 0.21351627, 0.21351627, 0.21351627,\n",
       "        0.21351627, 0.21351627, 0.21351627, 0.21351627, 0.21351627,\n",
       "        0.21351627, 0.21351627, 0.21351627, 0.21351627, 0.21351627,\n",
       "        0.21351627, 0.31860411, 0.33737045, 0.21351627, 0.21351627,\n",
       "        0.21351627, 0.21351627, 0.21351627, 0.21351627, 0.32947786,\n",
       "        0.38524479, 0.40236531, 0.33833629, 0.21351627, 0.21351627,\n",
       "        0.21351627, 0.21351627, 0.28209148, 0.37941868, 0.57286262,\n",
       "        0.55732273, 0.53550406, 0.21351627, 0.21351627, 0.21351627,\n",
       "        0.21351627, 0.36632406, 0.55581035, 0.58532227, 0.59225406,\n",
       "        0.57584513, 0.21351627, 0.21351627, 0.21351627, 0.34758304,\n",
       "        0.42441401, 0.57431336, 0.5879859 , 0.60326055, 0.5998532 ,\n",
       "        0.21351627, 0.21351627, 0.28437585, 0.38113361, 0.57801305,\n",
       "        0.57954555, 0.59296673, 0.62594632, 0.59865248, 0.21351627,\n",
       "        0.21351627, 0.36812727, 0.56278934, 0.58109949, 0.58967753,\n",
       "        0.61652027, 0.63961886, 0.5941392 , 0.21351627, 0.34758304,\n",
       "        0.46649773, 0.58011444, 0.5897832 , 0.60715827, 0.62849286,\n",
       "        0.64336127, 0.58722819]),\n",
       " 'split4_test_score': array([0.27741716, 0.27741716, 0.27741716, 0.27741716, 0.27741716,\n",
       "        0.27741716, 0.27741716, 0.27741716, 0.27741716, 0.27741716,\n",
       "        0.27741716, 0.27741716, 0.27741716, 0.27741716, 0.27741716,\n",
       "        0.27741716, 0.27741716, 0.27741716, 0.27741716, 0.27741716,\n",
       "        0.27741716, 0.27741716, 0.27741716, 0.27741716, 0.27741716,\n",
       "        0.27741716, 0.27741716, 0.27741716, 0.27741716, 0.27741716,\n",
       "        0.27741716, 0.27741716, 0.27741716, 0.27741716, 0.27741716,\n",
       "        0.27741716, 0.27741716, 0.27741716, 0.27741716, 0.27741716,\n",
       "        0.27741716, 0.27741716, 0.27741716, 0.27741716, 0.27741716,\n",
       "        0.27741716, 0.27741716, 0.27741716, 0.27741716, 0.27741716,\n",
       "        0.27741716, 0.43795019, 0.44944275, 0.27741716, 0.27741716,\n",
       "        0.27741716, 0.27741716, 0.27741716, 0.27741716, 0.46088149,\n",
       "        0.55363969, 0.55671801, 0.42798215, 0.27741716, 0.27741716,\n",
       "        0.27741716, 0.27741716, 0.38367333, 0.53583414, 0.60760555,\n",
       "        0.60680722, 0.53567937, 0.27741716, 0.27741716, 0.27741716,\n",
       "        0.2826576 , 0.51282603, 0.58235612, 0.63400901, 0.64839728,\n",
       "        0.61155931, 0.27741716, 0.27741716, 0.27741716, 0.48588208,\n",
       "        0.57554178, 0.60612348, 0.6406012 , 0.66009448, 0.65833696,\n",
       "        0.27741716, 0.27741716, 0.39426995, 0.52416474, 0.58689467,\n",
       "        0.62013604, 0.64747027, 0.66586051, 0.66320392, 0.27741716,\n",
       "        0.2826576 , 0.50670351, 0.58343738, 0.61390593, 0.64654295,\n",
       "        0.64849152, 0.67182905, 0.65918907, 0.27741716, 0.48931053,\n",
       "        0.56878228, 0.58858601, 0.62556865, 0.65693907, 0.65307339,\n",
       "        0.6676091 , 0.65924468]),\n",
       " 'split5_test_score': array([0.28730721, 0.28730721, 0.28730721, 0.28730721, 0.28730721,\n",
       "        0.28730721, 0.28730721, 0.28730721, 0.28730721, 0.28730721,\n",
       "        0.28730721, 0.28730721, 0.28730721, 0.28730721, 0.28730721,\n",
       "        0.28730721, 0.28730721, 0.28730721, 0.28730721, 0.28730721,\n",
       "        0.28730721, 0.28730721, 0.28730721, 0.28730721, 0.28730721,\n",
       "        0.28730721, 0.28730721, 0.28730721, 0.28730721, 0.28730721,\n",
       "        0.28730721, 0.28730721, 0.28730721, 0.28730721, 0.28730721,\n",
       "        0.28730721, 0.28730721, 0.28730721, 0.28730721, 0.28730721,\n",
       "        0.28730721, 0.28730721, 0.28730721, 0.28730721, 0.28730721,\n",
       "        0.28730721, 0.28730721, 0.28730721, 0.28730721, 0.28730721,\n",
       "        0.28730721, 0.34168956, 0.3425083 , 0.28730721, 0.28730721,\n",
       "        0.28730721, 0.28730721, 0.28730721, 0.28730721, 0.34400125,\n",
       "        0.36991459, 0.40217838, 0.34080342, 0.28730721, 0.28730721,\n",
       "        0.28730721, 0.28730721, 0.32896161, 0.35768194, 0.52064423,\n",
       "        0.5147724 , 0.48108157, 0.28730721, 0.28730721, 0.28730721,\n",
       "        0.28730721, 0.34820496, 0.52674873, 0.50811339, 0.53184093,\n",
       "        0.53335765, 0.28730721, 0.28730721, 0.28730721, 0.34625525,\n",
       "        0.4979277 , 0.50493862, 0.51747561, 0.53246187, 0.5372713 ,\n",
       "        0.28730721, 0.28730721, 0.32896438, 0.36356938, 0.50317778,\n",
       "        0.51266314, 0.53805866, 0.53364028, 0.52926712, 0.28730721,\n",
       "        0.28730721, 0.34685526, 0.50892684, 0.49854564, 0.51976691,\n",
       "        0.5609443 , 0.53473097, 0.52712224, 0.28730721, 0.34625525,\n",
       "        0.5172305 , 0.49800574, 0.50110998, 0.55070361, 0.5666625 ,\n",
       "        0.53729495, 0.52976217]),\n",
       " 'split6_test_score': array([0.34638827, 0.34638827, 0.34638827, 0.34638827, 0.34638827,\n",
       "        0.34638827, 0.34638827, 0.34638827, 0.34638827, 0.34638827,\n",
       "        0.34638827, 0.34638827, 0.34638827, 0.34638827, 0.34638827,\n",
       "        0.34638827, 0.34638827, 0.34638827, 0.34638827, 0.34638827,\n",
       "        0.34638827, 0.34638827, 0.34638827, 0.34638827, 0.34638827,\n",
       "        0.34638827, 0.34638827, 0.34638827, 0.34638827, 0.34638827,\n",
       "        0.34638827, 0.34638827, 0.34638827, 0.34638827, 0.34638827,\n",
       "        0.34638827, 0.34638827, 0.34638827, 0.34638827, 0.34638827,\n",
       "        0.34638827, 0.34638827, 0.34638827, 0.34638827, 0.34638827,\n",
       "        0.34638827, 0.34638827, 0.34638827, 0.34638827, 0.34638827,\n",
       "        0.34638827, 0.53895898, 0.50709308, 0.34638827, 0.34638827,\n",
       "        0.34638827, 0.34638827, 0.34638827, 0.34638827, 0.54441012,\n",
       "        0.56418816, 0.56542722, 0.4460949 , 0.34638827, 0.34638827,\n",
       "        0.34638827, 0.34638827, 0.5283536 , 0.56073622, 0.66661063,\n",
       "        0.64471071, 0.57421133, 0.34638827, 0.34638827, 0.34638827,\n",
       "        0.42049945, 0.55922704, 0.67818191, 0.68603725, 0.67392609,\n",
       "        0.61471397, 0.34638827, 0.34638827, 0.34638827, 0.54751167,\n",
       "        0.66682226, 0.69159827, 0.68917845, 0.67449776, 0.63398031,\n",
       "        0.34638827, 0.34638827, 0.53100692, 0.56915823, 0.67429918,\n",
       "        0.68755292, 0.68743108, 0.68007492, 0.65155001, 0.34638827,\n",
       "        0.42357579, 0.55983179, 0.68035443, 0.68295843, 0.69496069,\n",
       "        0.69353712, 0.67467665, 0.65882967, 0.34638827, 0.54751167,\n",
       "        0.66826016, 0.67415485, 0.68143049, 0.69030664, 0.6803073 ,\n",
       "        0.67315537, 0.66269586]),\n",
       " 'split7_test_score': array([0.18402771, 0.18402771, 0.18402771, 0.18402771, 0.18402771,\n",
       "        0.18402771, 0.18402771, 0.18402771, 0.18402771, 0.18402771,\n",
       "        0.18402771, 0.18402771, 0.18402771, 0.18402771, 0.18402771,\n",
       "        0.18402771, 0.18402771, 0.18402771, 0.18402771, 0.18402771,\n",
       "        0.18402771, 0.18402771, 0.18402771, 0.18402771, 0.18402771,\n",
       "        0.18402771, 0.18402771, 0.18402771, 0.18402771, 0.18402771,\n",
       "        0.18402771, 0.18402771, 0.18402771, 0.18402771, 0.18402771,\n",
       "        0.18402771, 0.18402771, 0.18402771, 0.18402771, 0.18402771,\n",
       "        0.18402771, 0.18402771, 0.18402771, 0.18402771, 0.18402771,\n",
       "        0.18402771, 0.18402771, 0.18402771, 0.18402771, 0.18402771,\n",
       "        0.18402771, 0.28334935, 0.29291591, 0.18402771, 0.18402771,\n",
       "        0.18402771, 0.18402771, 0.18402771, 0.18402771, 0.29548022,\n",
       "        0.33741106, 0.37612988, 0.28698979, 0.18402771, 0.18402771,\n",
       "        0.18402771, 0.18402771, 0.24625937, 0.33465696, 0.50088205,\n",
       "        0.46936143, 0.43088267, 0.18402771, 0.18402771, 0.18402771,\n",
       "        0.19303929, 0.31978218, 0.4806874 , 0.51017364, 0.52567254,\n",
       "        0.46780003, 0.18402771, 0.18402771, 0.18402771, 0.30148778,\n",
       "        0.4282771 , 0.50051248, 0.5224301 , 0.54146992, 0.5044966 ,\n",
       "        0.18402771, 0.18402771, 0.25114125, 0.33396181, 0.48000694,\n",
       "        0.50901306, 0.54455753, 0.56201293, 0.52284843, 0.18402771,\n",
       "        0.19303929, 0.3199638 , 0.47826159, 0.49374714, 0.53691189,\n",
       "        0.55672349, 0.55749678, 0.53378812, 0.18402771, 0.30299962,\n",
       "        0.42154985, 0.48604855, 0.51624592, 0.55011008, 0.57000169,\n",
       "        0.55808959, 0.53914303]),\n",
       " 'mean_test_score': array([0.24878928, 0.24878928, 0.24878928, 0.24878928, 0.24878928,\n",
       "        0.24878928, 0.24878928, 0.24878928, 0.24878928, 0.24878928,\n",
       "        0.24878928, 0.24878928, 0.24878928, 0.24878928, 0.24878928,\n",
       "        0.24878928, 0.24878928, 0.24878928, 0.24878928, 0.24878928,\n",
       "        0.24878928, 0.24878928, 0.24878928, 0.24878928, 0.24878928,\n",
       "        0.24878928, 0.24878928, 0.24878928, 0.24878928, 0.24878928,\n",
       "        0.24878928, 0.24878928, 0.24878928, 0.24878928, 0.24878928,\n",
       "        0.24878928, 0.24878928, 0.24878928, 0.24878928, 0.24878928,\n",
       "        0.24878928, 0.24878928, 0.24878928, 0.24878928, 0.24878928,\n",
       "        0.24878928, 0.24878928, 0.24878928, 0.24878928, 0.24878928,\n",
       "        0.24878928, 0.3687828 , 0.3719923 , 0.24878928, 0.24878928,\n",
       "        0.24878928, 0.24878928, 0.24878928, 0.24878928, 0.38513725,\n",
       "        0.43067217, 0.4593151 , 0.36201718, 0.24878928, 0.24878928,\n",
       "        0.24878928, 0.24878928, 0.33604135, 0.42393879, 0.55403104,\n",
       "        0.54461237, 0.49631669, 0.24878928, 0.24878928, 0.24878928,\n",
       "        0.26349461, 0.41416522, 0.54696357, 0.56529596, 0.57171618,\n",
       "        0.54078317, 0.24878928, 0.24878928, 0.24878928, 0.39667682,\n",
       "        0.51124569, 0.55750325, 0.57259942, 0.57831961, 0.56335606,\n",
       "        0.24878928, 0.24878928, 0.34177181, 0.43419186, 0.5471295 ,\n",
       "        0.56512342, 0.58092466, 0.58552927, 0.56998692, 0.24878928,\n",
       "        0.26387915, 0.41354236, 0.54333916, 0.55817251, 0.57741432,\n",
       "        0.59069756, 0.58594945, 0.57130507, 0.24878928, 0.39727754,\n",
       "        0.51855652, 0.54972278, 0.56493334, 0.58815557, 0.59220555,\n",
       "        0.58997589, 0.56863007]),\n",
       " 'std_test_score': array([0.08214424, 0.08214424, 0.08214424, 0.08214424, 0.08214424,\n",
       "        0.08214424, 0.08214424, 0.08214424, 0.08214424, 0.08214424,\n",
       "        0.08214424, 0.08214424, 0.08214424, 0.08214424, 0.08214424,\n",
       "        0.08214424, 0.08214424, 0.08214424, 0.08214424, 0.08214424,\n",
       "        0.08214424, 0.08214424, 0.08214424, 0.08214424, 0.08214424,\n",
       "        0.08214424, 0.08214424, 0.08214424, 0.08214424, 0.08214424,\n",
       "        0.08214424, 0.08214424, 0.08214424, 0.08214424, 0.08214424,\n",
       "        0.08214424, 0.08214424, 0.08214424, 0.08214424, 0.08214424,\n",
       "        0.08214424, 0.08214424, 0.08214424, 0.08214424, 0.08214424,\n",
       "        0.08214424, 0.08214424, 0.08214424, 0.08214424, 0.08214424,\n",
       "        0.08214424, 0.10011301, 0.09367497, 0.08214424, 0.08214424,\n",
       "        0.08214424, 0.08214424, 0.08214424, 0.08214424, 0.09489589,\n",
       "        0.09517887, 0.0914209 , 0.08242181, 0.08214424, 0.08214424,\n",
       "        0.08214424, 0.08214424, 0.10525535, 0.09432367, 0.11436262,\n",
       "        0.10826646, 0.09449704, 0.08214424, 0.08214424, 0.08214424,\n",
       "        0.09427691, 0.09256123, 0.11457175, 0.11140167, 0.10447333,\n",
       "        0.09836772, 0.08214424, 0.08214424, 0.08214424, 0.09451042,\n",
       "        0.11911277, 0.11659053, 0.10910404, 0.10554063, 0.10284226,\n",
       "        0.08214424, 0.08214424, 0.10382511, 0.10139493, 0.11702767,\n",
       "        0.11064818, 0.10606435, 0.11028641, 0.09920462, 0.08214424,\n",
       "        0.0949206 , 0.09169804, 0.11709512, 0.11950186, 0.10834758,\n",
       "        0.10651248, 0.11173646, 0.09586362, 0.08214424, 0.094752  ,\n",
       "        0.11746366, 0.11904558, 0.11336052, 0.10552664, 0.10568625,\n",
       "        0.10734979, 0.09739127]),\n",
       " 'rank_test_score': array([47, 47, 47, 47, 47, 47, 47, 47, 47, 47, 47, 47, 47, 47, 47, 47, 47,\n",
       "        47, 47, 47, 47, 47, 47, 47, 47, 47, 47, 47, 47, 47, 47, 47, 47, 47,\n",
       "        47, 47, 47, 47, 47, 47, 47, 47, 47, 47, 47, 47, 47, 47, 47, 47, 47,\n",
       "        41, 40, 47, 47, 47, 47, 47, 47, 39, 33, 31, 42, 47, 47, 47, 47, 44,\n",
       "        34, 21, 25, 30, 47, 47, 47, 46, 35, 24, 15, 11, 27, 47, 47, 47, 38,\n",
       "        29, 20, 10,  8, 18, 47, 47, 43, 32, 23, 16,  7,  6, 13, 47, 45, 36,\n",
       "        26, 19,  9,  2,  5, 12, 47, 37, 28, 22, 17,  4,  1,  3, 14],\n",
       "       dtype=int32)}"
      ]
     },
     "execution_count": 18,
     "metadata": {},
     "output_type": "execute_result"
    }
   ],
   "source": [
    "clf.cv_results_"
   ]
  },
  {
   "cell_type": "markdown",
   "metadata": {},
   "source": [
    "Let's see how we do on each well as we omit it from the training in turn:"
   ]
  },
  {
   "cell_type": "code",
   "execution_count": 19,
   "metadata": {},
   "outputs": [
    {
     "name": "stdout",
     "output_type": "stream",
     "text": [
      " CHURCHMAN BIBLE ... 0.2523\n",
      "  CROSS H CATTLE ... 0.2446\n",
      "        LUKE G U ... 0.4713\n",
      "           NEWBY ... 0.3238\n",
      "           NOLAN ... 0.3912\n",
      "         SHANKLE ... 0.3552\n",
      "       SHRIMPLIN ... 0.4538\n",
      "          STUART ... 0.2823\n"
     ]
    }
   ],
   "source": [
    "for i, well in enumerate(np.unique(wells)):\n",
    "    scores = clf.cv_results_[f'split{i}_test_score']\n",
    "    print(f\"{well:>16s} ... {np.mean(scores):.4f}\")"
   ]
  },
  {
   "cell_type": "markdown",
   "metadata": {},
   "source": [
    "How does the parameter space look with respect to the score of the classifier?"
   ]
  },
  {
   "cell_type": "markdown",
   "metadata": {
    "tags": [
     "hide"
    ]
   },
   "source": [
    "This works for one log-distributed property, e.g. C."
   ]
  },
  {
   "cell_type": "code",
   "execution_count": 127,
   "metadata": {},
   "outputs": [
    {
     "data": {
      "text/plain": [
       "<matplotlib.colorbar.Colorbar at 0x7fbc4a5be040>"
      ]
     },
     "execution_count": 127,
     "metadata": {},
     "output_type": "execute_result"
    },
    {
     "data": {
      "image/png": "[encoded data removed]",
      "text/plain": [
       "<Figure size 720x432 with 2 Axes>"
      ]
     },
     "metadata": {
      "needs_background": "light"
     },
     "output_type": "display_data"
    }
   ],
   "source": [
    "scores = clf.cv_results_['mean_test_score']\n",
    "shape = [len(s) for s in param_grid.values()][:2]\n",
    "ys = list(param_grid.values())[0]\n",
    "xs = list(param_grid.values())[1]\n",
    "X, Y = np.meshgrid(xs, ys)\n",
    "Z = scores.reshape(shape)\n",
    "\n",
    "plt.figure(figsize=(10, 6))\n",
    "plt.pcolormesh(X, Y, Z, shading='auto', ec='w')\n",
    "plt.xscale('log')\n",
    "plt.yscale('log')\n",
    "plt.xlim(xs[0], xs[-1])\n",
    "plt.ylim(ys[0], ys[-1])\n",
    "plt.plot(list(clf.best_params_.values())[1],\n",
    "        list(clf.best_params_.values())[0],\n",
    "        'ro')\n",
    "plt.colorbar()"
   ]
  },
  {
   "cell_type": "code",
   "execution_count": 119,
   "metadata": {
    "tags": [
     "hide"
    ]
   },
   "outputs": [
    {
     "data": {
      "text/plain": [
       "[<matplotlib.lines.Line2D at 0x7fbc6031e670>]"
      ]
     },
     "execution_count": 119,
     "metadata": {},
     "output_type": "execute_result"
    },
    {
     "data": {
      "image/png": "[encoded data removed]",
      "text/plain": [
       "<Figure size 1440x936 with 1 Axes>"
      ]
     },
     "metadata": {
      "needs_background": "light"
     },
     "output_type": "display_data"
    }
   ],
   "source": [
    "scores = clf.cv_results_['mean_test_score']\n",
    "\n",
    "shape = [len(s) for s in param_grid.values()][:2]\n",
    "minx, *_, maxx = list(param_grid.values())[1]\n",
    "miny, *_, maxy = list(param_grid.values())[0]\n",
    "\n",
    "fig, ax = plt.subplots(figsize=shape[::-1])\n",
    "im = ax.imshow(scores.reshape(shape),\n",
    "               origin='lower',\n",
    "               extent=[minx-0.5, maxx+0.5, miny-0.5, maxy+0.5],\n",
    "               interpolation='none',\n",
    "               aspect='auto',\n",
    "               cmap='viridis')\n",
    "ax.set_xlabel(list(clf.best_params_.keys())[1].split('__')[1])\n",
    "ax.set_ylabel(list(clf.best_params_.keys())[0].split('__')[1])\n",
    "ax.plot(list(clf.best_params_.values())[1],\n",
    "        list(clf.best_params_.values())[0],\n",
    "        'ro')"
   ]
  },
  {
   "cell_type": "markdown",
   "metadata": {},
   "source": [
    "`clf` can now tell us the best parameters to use with our `SVC` classifier:"
   ]
  },
  {
   "cell_type": "code",
   "execution_count": 120,
   "metadata": {},
   "outputs": [
    {
     "data": {
      "text/plain": [
       "{'svc__C': 1.0, 'svc__gamma': 0.25}"
      ]
     },
     "execution_count": 120,
     "metadata": {},
     "output_type": "execute_result"
    }
   ],
   "source": [
    "clf.best_params_"
   ]
  },
  {
   "cell_type": "code",
   "execution_count": 121,
   "metadata": {},
   "outputs": [
    {
     "data": {
      "text/plain": [
       "Pipeline(memory=None,\n",
       "         steps=[('scaler',\n",
       "                 StandardScaler(copy=True, with_mean=True, with_std=True)),\n",
       "                ('svc',\n",
       "                 SVC(C=1.0, break_ties=False, cache_size=200, class_weight=None,\n",
       "                     coef0=0.0, decision_function_shape='ovr', degree=3,\n",
       "                     gamma=0.25, kernel='rbf', max_iter=-1, probability=False,\n",
       "                     random_state=None, shrinking=True, tol=0.001,\n",
       "                     verbose=False))],\n",
       "         verbose=False)"
      ]
     },
     "execution_count": 121,
     "metadata": {},
     "output_type": "execute_result"
    }
   ],
   "source": [
    "clf.best_estimator_"
   ]
  },
  {
   "cell_type": "code",
   "execution_count": 122,
   "metadata": {},
   "outputs": [
    {
     "data": {
      "text/plain": [
       "0.591938648735305"
      ]
     },
     "execution_count": 122,
     "metadata": {},
     "output_type": "execute_result"
    }
   ],
   "source": [
    "clf.best_score_"
   ]
  },
  {
   "cell_type": "markdown",
   "metadata": {},
   "source": [
    "## Test the model"
   ]
  },
  {
   "cell_type": "markdown",
   "metadata": {},
   "source": [
    "Now might be a good time to check our **test** set — the one we reserved at the start. How might our model do on this dataset?"
   ]
  },
  {
   "cell_type": "code",
   "execution_count": 123,
   "metadata": {},
   "outputs": [
    {
     "data": {
      "text/plain": [
       "0.524481354036701"
      ]
     },
     "execution_count": 123,
     "metadata": {},
     "output_type": "execute_result"
    }
   ],
   "source": [
    "from sklearn.metrics import f1_score\n",
    "\n",
    "f1_score(y_test, clf.predict(X_test), average='weighted')"
   ]
  },
  {
   "cell_type": "markdown",
   "metadata": {},
   "source": [
    "We get a similar result to what we were getting in validation. That's good.\n",
    "\n",
    "The pipeline is convenient whenever we have multiple steps in the prediction workflow, because it ensures we'll be consistent and makes it easier to save the model (below)."
   ]
  },
  {
   "cell_type": "markdown",
   "metadata": {},
   "source": [
    "## Training the final model\n",
    "\n",
    "Now that we have selected the model we want to use, we should retrain it on all of the data.\n",
    "\n",
    "NB We could omit the scaling step for a random forest. But it doesn't do any harm..."
   ]
  },
  {
   "cell_type": "code",
   "execution_count": 104,
   "metadata": {},
   "outputs": [],
   "source": [
    "X = np.vstack([X_train, X_test])\n",
    "y = np.hstack([y_train, y_test])\n",
    "\n",
    "model = clf.best_estimator_.fit(X, y)"
   ]
  },
  {
   "cell_type": "markdown",
   "metadata": {},
   "source": [
    "We don't have anything to test this on, but we expect it to achieve similar performance to that against the test set."
   ]
  },
  {
   "cell_type": "markdown",
   "metadata": {},
   "source": [
    "## Model persistence\n",
    "\n",
    "Often, we'd like to save the trained model, to go and apply it in some other application, or to share with someone else. The easiest way to save most models is as a Python 'pickle' object:"
   ]
  },
  {
   "cell_type": "code",
   "execution_count": 105,
   "metadata": {},
   "outputs": [
    {
     "data": {
      "text/plain": [
       "['facies_pipeline.pkl']"
      ]
     },
     "execution_count": 105,
     "metadata": {},
     "output_type": "execute_result"
    }
   ],
   "source": [
    "import joblib\n",
    "\n",
    "joblib.dump(model, 'facies_pipeline.pkl')"
   ]
  },
  {
   "cell_type": "markdown",
   "metadata": {},
   "source": [
    "## Model application"
   ]
  },
  {
   "cell_type": "markdown",
   "metadata": {},
   "source": [
    "How do you load and use a saved model?"
   ]
  },
  {
   "cell_type": "code",
   "execution_count": 106,
   "metadata": {},
   "outputs": [],
   "source": [
    "model = joblib.load('facies_pipeline.pkl')"
   ]
  },
  {
   "cell_type": "code",
   "execution_count": 107,
   "metadata": {},
   "outputs": [
    {
     "data": {
      "text/plain": [
       "{'scaler': StandardScaler(copy=True, with_mean=True, with_std=True),\n",
       " 'svc': SVC(C=1.0, break_ties=False, cache_size=200, class_weight=None, coef0=0.0,\n",
       "     decision_function_shape='ovr', degree=3, gamma=0.2, kernel='rbf',\n",
       "     max_iter=-1, probability=False, random_state=None, shrinking=True,\n",
       "     tol=0.001, verbose=False)}"
      ]
     },
     "execution_count": 107,
     "metadata": {},
     "output_type": "execute_result"
    }
   ],
   "source": [
    "model.named_steps"
   ]
  },
  {
   "cell_type": "markdown",
   "metadata": {},
   "source": [
    "Now you can load some data:\n",
    "\n",
    "    df = pd.read_csv('..some_new_data_you_have_collected.csv')\n",
    "  \n",
    "Then extract the relevant features and cast it as a 2D array:\n",
    "\n",
    "    X_new = df[['GR','RHOB','PE','ILD_log10']].values\n",
    "\n",
    "Now pass the matrix `X_new` into the classifier's predict method:\n",
    "\n",
    "    y_pred = model.predict(X_new)\n",
    "\n",
    "And you're done!"
   ]
  },
  {
   "cell_type": "markdown",
   "metadata": {},
   "source": [
    "<hr />\n",
    "\n",
    "<p style=\"color:gray\">©2021&ndash;2022 Agile Geoscience. Licensed CC-BY.</p>"
   ]
  }
 ],
 "metadata": {
  "anaconda-cloud": {},
  "celltoolbar": "Tags",
  "kernelspec": {
   "display_name": "py39",
   "language": "python",
   "name": "py39"
  },
  "language_info": {
   "codemirror_mode": {
    "name": "ipython",
    "version": 3
   },
   "file_extension": ".py",
   "mimetype": "text/x-python",
   "name": "python",
   "nbconvert_exporter": "python",
   "pygments_lexer": "ipython3",
   "version": "3.9.7"
  }
 },
 "nbformat": 4,
 "nbformat_minor": 4
}
