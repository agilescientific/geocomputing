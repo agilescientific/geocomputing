{
 "cells": [
  {
   "cell_type": "markdown",
   "metadata": {},
   "source": [
    "# Multiclass classification 3: Tune and save\n",
    "\n",
    "This notebook comes after:\n",
    "\n",
    "- Multiclass_classification_1_Split_and_scale.ipynb\n",
    "- Multiclass_classification_2_Fit_and_score.ipynb\n",
    "\n",
    "This notebook assumes you have some familiarity with:\n",
    "\n",
    "- Basic Python syntax and functions.\n",
    "- Numerics and visualization with NumPy and `matplotlib` or `seaborn`.\n",
    "- Exploratory data analysis with Pandas.\n",
    "- The essential concepts of supervised machine learning.\n",
    "- The fundamentals of machine learning algorithms.\n",
    "\n",
    "If you're a bit short on a couple of these elements, not to worry. There are other courses that cover them, but you might find that we breeze past some topics in this class. Ask questions and follow links!"
   ]
  },
  {
   "cell_type": "markdown",
   "metadata": {},
   "source": [
    "---\n",
    "\n",
    "## Unfreezing the data"
   ]
  },
  {
   "cell_type": "code",
   "execution_count": 3,
   "metadata": {},
   "outputs": [
    {
     "data": {
      "text/plain": [
       "array([[7.74500000e+01, 2.39349994e+03, 4.60000000e+00, 6.64000000e-01],\n",
       "       [7.82600000e+01, 2.41611981e+03, 4.10000000e+00, 6.61000000e-01],\n",
       "       [7.90500000e+01, 2.40457606e+03, 3.60000000e+00, 6.58000000e-01],\n",
       "       [8.61000000e+01, 2.39324907e+03, 3.50000000e+00, 6.55000000e-01],\n",
       "       [7.45800000e+01, 2.38260260e+03, 3.40000000e+00, 6.47000000e-01]])"
      ]
     },
     "execution_count": 3,
     "metadata": {},
     "output_type": "execute_result"
    }
   ],
   "source": [
    "import numpy as np\n",
    "\n",
    "f = np.load(\"All_data.npz\", allow_pickle=True)\n",
    "X_train, X_test, y_train, y_test, wells = [f.get(file) for file in f.files]\n",
    "\n",
    "X_train[:5]"
   ]
  },
  {
   "cell_type": "code",
   "execution_count": 4,
   "metadata": {},
   "outputs": [
    {
     "name": "stdout",
     "output_type": "stream",
     "text": [
      "0.24.2\n"
     ]
    }
   ],
   "source": [
    "import sklearn\n",
    "\n",
    "print(sklearn.__version__)\n",
    "\n",
    "# Make sure we can see all of the model details.\n",
    "sklearn.set_config(print_changed_only=False)"
   ]
  },
  {
   "cell_type": "markdown",
   "metadata": {},
   "source": [
    "## Tuning models to improve performance"
   ]
  },
  {
   "cell_type": "markdown",
   "metadata": {},
   "source": [
    "Depending on you requirements, this results might be good enough to deploy this model and use it in production but it is usually not the best model you can get. Each method has a set of controls or arguments, known as _hyperparameters_, that can be tweaked to tune the training.\n",
    "\n",
    "Note that we don't call these settings 'parameters' because that word is reserved for the learnable parameters, weights, or coefficients in the model (e.g. $\\mathbf{w}$ and $b$ in $\\hat{y} = \\mathbf{w}\\mathbf{x} + b$).\n",
    "\n",
    "For the `SVC` there are a few of these hyperparameters:"
   ]
  },
  {
   "cell_type": "code",
   "execution_count": 5,
   "metadata": {},
   "outputs": [
    {
     "data": {
      "text/plain": [
       "SVC(C=1.0, break_ties=False, cache_size=200, class_weight=None, coef0=0.0,\n",
       "    decision_function_shape='ovr', degree=3, gamma='scale', kernel='rbf',\n",
       "    max_iter=-1, probability=False, random_state=None, shrinking=True,\n",
       "    tol=0.001, verbose=False)"
      ]
     },
     "execution_count": 5,
     "metadata": {},
     "output_type": "execute_result"
    }
   ],
   "source": [
    "from sklearn.svm import SVC\n",
    "\n",
    "SVC()"
   ]
  },
  {
   "cell_type": "markdown",
   "metadata": {
    "tags": [
     "info"
    ]
   },
   "source": [
    "Note that by default, the SVM applies regularization (unlike the usual alpha, the C hyperparameter is **inversely** proportional to the amount of regularization, so use low C for smoother models), and kernel transformations (fitting non-linearly separable data)."
   ]
  },
  {
   "cell_type": "markdown",
   "metadata": {},
   "source": [
    "For this particular algorithm, the most important hyperparameters are:\n",
    "\n",
    "- `kernel`: especially linear vs nonlinear.\n",
    "- `C`, the regularization parameter.\n",
    "- `gamma`, the kernel coefficient for nonlinear kernels.\n",
    "- `degree`, for polynomials kernels only.\n",
    "\n",
    "For the time being, we'll use the default nonlinear kernel and concentrate on finding the best value of `C`, the regularization parameter.\n",
    "\n",
    "Recall our basic model:"
   ]
  },
  {
   "cell_type": "code",
   "execution_count": 66,
   "metadata": {},
   "outputs": [
    {
     "name": "stdout",
     "output_type": "stream",
     "text": [
      "              precision    recall  f1-score   support\n",
      "\n",
      "    dolomite      0.481     0.160     0.241        81\n",
      "   limestone      0.661     0.653     0.657       551\n",
      "    mudstone      0.359     0.176     0.236       375\n",
      "   sandstone      0.000     0.000     0.000       170\n",
      "   siltstone      0.713     0.954     0.816      1141\n",
      "  wackestone      0.431     0.465     0.448       391\n",
      "\n",
      "    accuracy                          0.631      2709\n",
      "   macro avg      0.441     0.401     0.400      2709\n",
      "weighted avg      0.561     0.631     0.582      2709\n",
      "\n"
     ]
    }
   ],
   "source": [
    "from sklearn.pipeline import make_pipeline\n",
    "from sklearn.preprocessing import StandardScaler\n",
    "from sklearn.model_selection import cross_val_predict\n",
    "from sklearn.model_selection import LeaveOneGroupOut\n",
    "from sklearn.metrics import classification_report\n",
    "\n",
    "m = make_pipeline(StandardScaler(), SVC())\n",
    "y_pred = cross_val_predict(m, X_train, y_train, cv=LeaveOneGroupOut(), groups=wells)\n",
    "print(classification_report(y_train, y_pred, digits=3))"
   ]
  },
  {
   "cell_type": "markdown",
   "metadata": {},
   "source": [
    "In order to get at scores during the cross-validation process, we could use `cross_val_score()` (see previous notebook), but `cross_validate()` is even more general:"
   ]
  },
  {
   "cell_type": "code",
   "execution_count": 12,
   "metadata": {},
   "outputs": [
    {
     "data": {
      "text/plain": [
       "{'fit_time': array([0.10070562, 0.09652448, 0.10319209, 0.09822989, 0.11598682,\n",
       "        0.11035895]),\n",
       " 'score_time': array([0.02539682, 0.0290823 , 0.03337884, 0.02870727, 0.02843237,\n",
       "        0.03283978]),\n",
       " 'test_f1_weighted': array([0.55035768, 0.31939337, 0.716337  , 0.60786152, 0.67110915,\n",
       "        0.68657318]),\n",
       " 'train_f1_weighted': array([0.70113673, 0.69664069, 0.6798503 , 0.69188605, 0.67676785,\n",
       "        0.67236759])}"
      ]
     },
     "execution_count": 12,
     "metadata": {},
     "output_type": "execute_result"
    }
   ],
   "source": [
    "from sklearn.model_selection import cross_validate\n",
    "\n",
    "cross_validate(m, X_train, y_train,\n",
    "               cv=LeaveOneGroupOut(), groups=wells,\n",
    "               scoring=['f1_weighted'], return_train_score=True,\n",
    "               n_jobs=6\n",
    "              )"
   ]
  },
  {
   "cell_type": "markdown",
   "metadata": {},
   "source": [
    "There are [a lot of different scoring parameters](https://scikit-learn.org/stable/modules/model_evaluation.html#the-scoring-parameter-defining-model-evaluation-rules) and you can even define your own.\n",
    "\n",
    "Examples of classifier scoring metrics:\n",
    "\n",
    "- `'accuracy'`\n",
    "- `'average_precision'`\n",
    "- `'f1_weighted'`\n",
    "- `'roc_auc'`\n",
    "\n",
    "...and a lot of others."
   ]
  },
  {
   "cell_type": "markdown",
   "metadata": {
    "tags": [
     "exercise"
    ]
   },
   "source": [
    "### EXERCISE\n",
    "\n",
    "Let's see how the training and validation scores vary with `C`. Can you loop over values of `C` (it's an exponential property, so try using `np.logspace()` to make an array of values to test) &mdash; collect the train and CV weighted F1 scores, and make a plot of them vs the values of `C`.\n",
    "\n",
    "You will probably want to use `ax.set_xscale('log')` to make the plot easier to read."
   ]
  },
  {
   "cell_type": "code",
   "execution_count": 13,
   "metadata": {},
   "outputs": [],
   "source": [
    "# YOUR CODE HERE\n",
    "\n"
   ]
  },
  {
   "cell_type": "code",
   "execution_count": 14,
   "metadata": {
    "tags": [
     "hide"
    ]
   },
   "outputs": [],
   "source": [
    "from sklearn.svm import SVC\n",
    "\n",
    "C = np.logspace(-3, 3, 13)\n",
    "\n",
    "all_vals = []\n",
    "all_trains = []\n",
    "for Ci in C:\n",
    "    m = make_pipeline(StandardScaler(), SVC(C=Ci))\n",
    "    scores = cross_validate(m, X_train, y_train,\n",
    "                            cv=LeaveOneGroupOut(), groups=wells,\n",
    "                            scoring=['f1_weighted'], return_train_score=True, n_jobs=6)\n",
    "    all_vals.append(np.mean(scores['test_f1_weighted']))\n",
    "    all_trains.append(np.mean(scores['train_f1_weighted']))"
   ]
  },
  {
   "cell_type": "code",
   "execution_count": 20,
   "metadata": {
    "tags": [
     "hide"
    ]
   },
   "outputs": [
    {
     "data": {
      "image/png": "[encoded data removed]",
      "text/plain": [
       "<Figure size 720x432 with 1 Axes>"
      ]
     },
     "metadata": {
      "needs_background": "light"
     },
     "output_type": "display_data"
    }
   ],
   "source": [
    "import matplotlib.pyplot as plt\n",
    "\n",
    "fig, ax = plt.subplots(figsize=(10, 6))\n",
    "ax.plot(C, np.array(all_trains))\n",
    "ax.plot(C, np.array(all_vals))\n",
    "ax.plot(C[np.argmax(all_vals)], max(all_vals), 'ro')  # <-- The max val score.\n",
    "ax.grid(c='k', alpha=0.2)\n",
    "ax.set_xscale('log')\n",
    "ax.invert_yaxis()\n",
    "ax.set_xlabel('C (complexity increasing to right)')\n",
    "ax.set_ylabel('Score (error increasing upwards)')\n",
    "ax.set_title('Score vs complexity for SVM')\n",
    "plt.show()"
   ]
  },
  {
   "cell_type": "markdown",
   "metadata": {},
   "source": [
    "Looks like the range 0.1 to 1.0 is where we want to look. `C=1.0` also happens to be the default."
   ]
  },
  {
   "cell_type": "markdown",
   "metadata": {},
   "source": [
    "## ROC-AUC as a model selection tool\n",
    "\n",
    "The **Area Under the Curve** (AUC) of the [**Receiver Operating Characteristic** (ROC)](https://en.wikipedia.org/wiki/Receiver_operating_characteristic) is another way to compare models (or versions of the model with different hyperparameter settings).\n",
    "\n",
    "[Here's a great video about the AUC-ROC method.](https://www.youtube.com/watch?v=4jRBRDbJemM)\n",
    "\n",
    "So let's take a look at the area under the ROC curve to look for the best value of `C`:"
   ]
  },
  {
   "cell_type": "code",
   "execution_count": 21,
   "metadata": {},
   "outputs": [],
   "source": [
    "from sklearn.metrics import roc_auc_score\n",
    "\n",
    "aucs = []\n",
    "\n",
    "for Ci in C:\n",
    "    m = make_pipeline(StandardScaler(), SVC(C=Ci, probability=True))\n",
    "    y_prob = cross_val_predict(m, X_train, y_train,\n",
    "                               cv=LeaveOneGroupOut(), groups=wells,\n",
    "                               method='predict_proba', n_jobs=6)\n",
    "    auc = roc_auc_score(y_train, y_prob, multi_class='ovo')\n",
    "    aucs.append(auc)"
   ]
  },
  {
   "cell_type": "code",
   "execution_count": 22,
   "metadata": {},
   "outputs": [
    {
     "data": {
      "image/png": "[encoded data removed]",
      "text/plain": [
       "<Figure size 432x288 with 1 Axes>"
      ]
     },
     "metadata": {
      "needs_background": "light"
     },
     "output_type": "display_data"
    }
   ],
   "source": [
    "plt.plot(C, aucs, 'o-')\n",
    "plt.ylabel('ROC-AUC (not score!)')\n",
    "plt.xlabel('C (proportional to complexity)')\n",
    "plt.xscale('log')"
   ]
  },
  {
   "cell_type": "markdown",
   "metadata": {},
   "source": [
    "This supports the idea that 0.3 to 1.0 is a decent choice. So we can keep the default."
   ]
  },
  {
   "cell_type": "code",
   "execution_count": 24,
   "metadata": {},
   "outputs": [
    {
     "name": "stdout",
     "output_type": "stream",
     "text": [
      "              precision    recall  f1-score   support\n",
      "\n",
      "    dolomite      0.481     0.160     0.241        81\n",
      "   limestone      0.661     0.653     0.657       551\n",
      "    mudstone      0.359     0.176     0.236       375\n",
      "   sandstone      0.000     0.000     0.000       170\n",
      "   siltstone      0.713     0.954     0.816      1141\n",
      "  wackestone      0.431     0.465     0.448       391\n",
      "\n",
      "    accuracy                          0.631      2709\n",
      "   macro avg      0.441     0.401     0.400      2709\n",
      "weighted avg      0.561     0.631     0.582      2709\n",
      "\n"
     ]
    }
   ],
   "source": [
    "model = make_pipeline(StandardScaler(), SVC(C=1.0))\n",
    "y_pred = cross_val_predict(model, X_train, y_train, cv=LeaveOneGroupOut(), groups=wells)\n",
    "print(classification_report(y_train, y_pred, digits=3))"
   ]
  },
  {
   "cell_type": "markdown",
   "metadata": {},
   "source": [
    "---\n",
    "\n",
    "## Choosing the right estimator\n",
    "\n",
    "Often the hardest part of solving a machine learning problem can be finding the right estimator for the job.\n",
    "\n",
    "This is a good place to start ([here](https://scikit-learn.org/stable/tutorial/machine_learning_map/index.html) is a clickable version):\n",
    "\n",
    "<img src=\"https://scikit-learn.org/stable/_static/ml_map.png\"></img>\n",
    "\n",
    "---\n",
    "\n",
    "Different estimators are better suited for different types of data and different problems. For a classifier comparison (below) check the source code [here](http://scikit-learn.org/stable/auto_examples/classification/plot_classifier_comparison.html)\n",
    "\n",
    "<img src=\"https://scikit-learn.org/stable/_images/sphx_glr_plot_classifier_comparison_001.png\"></img>"
   ]
  },
  {
   "cell_type": "markdown",
   "metadata": {},
   "source": [
    "### [Check out this paper with a comparison of many classifiers](https://arxiv.org/abs/1708.05070)"
   ]
  },
  {
   "cell_type": "markdown",
   "metadata": {
    "tags": [
     "exe"
    ]
   },
   "source": [
    "### Exercise\n",
    "\n",
    "- Can you beat our current high score by twiddling hyperparameters on one of these models?\n",
    "- Or, try other methods available in the scikit-learn library. See the list [here](http://scikit-learn.org/stable/supervised_learning.html). For example, get a sneak peek at neural nets with the MLP."
   ]
  },
  {
   "cell_type": "code",
   "execution_count": null,
   "metadata": {},
   "outputs": [],
   "source": [
    "# YOUR CODE HERE\n",
    "\n"
   ]
  },
  {
   "cell_type": "markdown",
   "metadata": {},
   "source": [
    "----\n",
    "\n",
    "## Hyperparameter tuning"
   ]
  },
  {
   "cell_type": "markdown",
   "metadata": {},
   "source": [
    "Many of the models can be improved (or worsened) by changing the parameters that internally make the method work. It's always a good idea to check the documentation of each model (e.g. `RandomForestClassifier` [docs](http://scikit-learn.org/stable/modules/generated/sklearn.ensemble.RandomForestClassifier.html)). This process is usually called _hyperparameter tuning_."
   ]
  },
  {
   "cell_type": "markdown",
   "metadata": {},
   "source": [
    "Scikit-learn offers a convenient way to test multiple parameters for each model through a function called `GridSearchCV`.\n",
    "\n",
    "As with other cross validation tools in `sklearn`, the default behviour is to split the training data randomly into _k_ 'folds'. But we'll define a 'LOGO' splitter as before."
   ]
  },
  {
   "cell_type": "code",
   "execution_count": 114,
   "metadata": {},
   "outputs": [
    {
     "data": {
      "text/plain": [
       "array([0.05, 0.1 , 0.15, 0.2 , 0.25, 0.3 , 0.35, 0.4 , 0.45, 0.5 , 0.55,\n",
       "       0.6 , 0.65, 0.7 , 0.75, 0.8 , 0.85, 0.9 , 0.95, 1.  ])"
      ]
     },
     "execution_count": 114,
     "metadata": {},
     "output_type": "execute_result"
    }
   ],
   "source": [
    "np.linspace(0.05, 1, 20)"
   ]
  },
  {
   "cell_type": "code",
   "execution_count": 115,
   "metadata": {},
   "outputs": [
    {
     "name": "stdout",
     "output_type": "stream",
     "text": [
      "Fitting 6 folds for each of 260 candidates, totalling 1560 fits\n"
     ]
    },
    {
     "data": {
      "text/plain": [
       "GridSearchCV(cv=LeaveOneGroupOut(), error_score=nan,\n",
       "             estimator=Pipeline(memory=None,\n",
       "                                steps=[('scaler',\n",
       "                                        StandardScaler(copy=True,\n",
       "                                                       with_mean=True,\n",
       "                                                       with_std=True)),\n",
       "                                       ('svc',\n",
       "                                        SVC(C=1.0, break_ties=False,\n",
       "                                            cache_size=200, class_weight=None,\n",
       "                                            coef0=0.0,\n",
       "                                            decision_function_shape='ovr',\n",
       "                                            degree=3, gamma='scale',\n",
       "                                            kernel='rbf', max_iter=-1,\n",
       "                                            probability=False,\n",
       "                                            random_state=None, shri...\n",
       "             param_grid={'svc__C': array([1.00000000e-04, 3.16227766e-04, 1.00000000e-03, 3.16227766e-03,\n",
       "       1.00000000e-02, 3.16227766e-02, 1.00000000e-01, 3.16227766e-01,\n",
       "       1.00000000e+00, 3.16227766e+00, 1.00000000e+01, 3.16227766e+01,\n",
       "       1.00000000e+02]),\n",
       "                         'svc__gamma': array([0.05, 0.1 , 0.15, 0.2 , 0.25, 0.3 , 0.35, 0.4 , 0.45, 0.5 , 0.55,\n",
       "       0.6 , 0.65, 0.7 , 0.75, 0.8 , 0.85, 0.9 , 0.95, 1.  ])},\n",
       "             pre_dispatch='2*n_jobs', refit=True, return_train_score=False,\n",
       "             scoring='f1_weighted', verbose=1)"
      ]
     },
     "execution_count": 115,
     "metadata": {},
     "output_type": "execute_result"
    }
   ],
   "source": [
    "from sklearn.model_selection import GridSearchCV\n",
    "from sklearn.pipeline import Pipeline\n",
    "\n",
    "model = Pipeline(steps=[('scaler', StandardScaler()),\n",
    "                        ('svc', SVC()),\n",
    "                       ])\n",
    "\n",
    "param_grid = {'svc__C': np.logspace(-4, 2, 13),\n",
    "              'svc__gamma': np.linspace(0.05, 1, 20),\n",
    "             }\n",
    "             \n",
    "clf = GridSearchCV(model, param_grid,\n",
    "                   scoring='f1_weighted',\n",
    "                   cv=LeaveOneGroupOut(),\n",
    "                   n_jobs=6, verbose=1,\n",
    "                  )\n",
    "\n",
    "clf.fit(X_train, y_train, groups=wells)"
   ]
  },
  {
   "cell_type": "code",
   "execution_count": 116,
   "metadata": {},
   "outputs": [
    {
     "data": {
      "text/plain": [
       "{'mean_fit_time': array([0.17289086, 0.17315976, 0.18308051, 0.18928572, 0.18452617,\n",
       "        0.18766399, 0.17938741, 0.19035029, 0.23365525, 0.23100003,\n",
       "        0.19131132, 0.19038761, 0.20429782, 0.3458569 , 0.47616831,\n",
       "        0.276227  , 0.23763267, 0.23884078, 0.24868035, 0.25189424,\n",
       "        0.2445786 , 0.25214458, 0.25882602, 0.26196055, 0.26602062,\n",
       "        0.30474091, 0.34435189, 0.32421498, 0.35206401, 0.34075173,\n",
       "        0.340487  , 0.31354725, 0.31622601, 0.29751877, 0.29092113,\n",
       "        0.3080465 , 0.27229548, 0.29632012, 0.32446706, 0.28978666,\n",
       "        0.24132188, 0.24699048, 0.24746068, 0.2440141 , 0.25669177,\n",
       "        0.27695004, 0.28490965, 0.27808559, 0.26205456, 0.25180785,\n",
       "        0.24596906, 0.26270783, 0.24201012, 0.25182867, 0.24653856,\n",
       "        0.24953381, 0.23940937, 0.23712313, 0.23661935, 0.23367059,\n",
       "        0.23330923, 0.23416785, 0.2369225 , 0.24039431, 0.23404562,\n",
       "        0.26973395, 0.26248535, 0.24344981, 0.23993329, 0.24474152,\n",
       "        0.25265531, 0.23570414, 0.23531572, 0.24656097, 0.26537152,\n",
       "        0.25135303, 0.23931539, 0.24858542, 0.25683216, 0.24074479,\n",
       "        0.23458676, 0.22727621, 0.22608868, 0.22713951, 0.22518206,\n",
       "        0.22692629, 0.22876712, 0.23153245, 0.23060966, 0.23252904,\n",
       "        0.23576585, 0.23981297, 0.23855333, 0.24993893, 0.25701535,\n",
       "        0.24795151, 0.23994835, 0.2674727 , 0.25807448, 0.27485104,\n",
       "        0.22423355, 0.20903393, 0.2216572 , 0.21306113, 0.20282257,\n",
       "        0.19772875, 0.19896861, 0.20181771, 0.20311622, 0.21813079,\n",
       "        0.23579593, 0.22808464, 0.2195061 , 0.23690379, 0.2414209 ,\n",
       "        0.21980639, 0.22019867, 0.22504405, 0.22484664, 0.22421881,\n",
       "        0.18038058, 0.16887446, 0.16771134, 0.17699512, 0.17865566,\n",
       "        0.1704733 , 0.1672891 , 0.16609891, 0.16700216, 0.17715375,\n",
       "        0.18801506, 0.18356971, 0.18292574, 0.18565055, 0.18566779,\n",
       "        0.19657501, 0.18804439, 0.19277628, 0.23220972, 0.21749783,\n",
       "        0.15752792, 0.14913241, 0.14497801, 0.14556277, 0.154568  ,\n",
       "        0.15548972, 0.16299562, 0.1618427 , 0.16759157, 0.16540452,\n",
       "        0.15504936, 0.15177755, 0.15630786, 0.15877056, 0.16949622,\n",
       "        0.16762463, 0.16362909, 0.16546496, 0.17654971, 0.17628229,\n",
       "        0.15819848, 0.15055494, 0.14194127, 0.13878397, 0.13891443,\n",
       "        0.1406159 , 0.14241707, 0.1434925 , 0.14379923, 0.14501941,\n",
       "        0.14637836, 0.14884003, 0.1502984 , 0.15359875, 0.15673514,\n",
       "        0.15651643, 0.15728839, 0.16169667, 0.16354219, 0.16999026,\n",
       "        0.14471213, 0.14391545, 0.14542643, 0.14666037, 0.15178903,\n",
       "        0.15199979, 0.15001822, 0.15303834, 0.15081616, 0.15105172,\n",
       "        0.1549962 , 0.15694932, 0.1579266 , 0.16264006, 0.17378525,\n",
       "        0.17587074, 0.16887371, 0.16418211, 0.16679096, 0.16744355,\n",
       "        0.15553637, 0.15690351, 0.15880779, 0.16433736, 0.17247637,\n",
       "        0.1754781 , 0.16785395, 0.16430783, 0.16555937, 0.16697888,\n",
       "        0.16705704, 0.17384032, 0.17275719, 0.1839273 , 0.19162043,\n",
       "        0.18848491, 0.20787299, 0.21833873, 0.23440468, 0.19884964,\n",
       "        0.19973858, 0.20518692, 0.22853033, 0.21362734, 0.2216862 ,\n",
       "        0.20580518, 0.20601547, 0.19951721, 0.20701973, 0.23751767,\n",
       "        0.22832334, 0.23625461, 0.21156347, 0.23023907, 0.22760093,\n",
       "        0.21055285, 0.20485854, 0.21686927, 0.24020612, 0.24661561,\n",
       "        0.2235113 , 0.25522085, 0.26182504, 0.27081462, 0.27583734,\n",
       "        0.28018419, 0.28808387, 0.30263321, 0.28955225, 0.28798326,\n",
       "        0.29013356, 0.29055643, 0.292455  , 0.28663623, 0.30797784,\n",
       "        0.29635994, 0.2906671 , 0.28774083, 0.29721793, 0.2747184 ]),\n",
       " 'std_fit_time': array([0.00353956, 0.00599685, 0.00604343, 0.0099353 , 0.00627345,\n",
       "        0.00512235, 0.00490812, 0.00746603, 0.05358699, 0.0613376 ,\n",
       "        0.02360622, 0.02561393, 0.03523758, 0.13636318, 0.12500417,\n",
       "        0.01584904, 0.00647598, 0.00833333, 0.01287288, 0.0073559 ,\n",
       "        0.01053045, 0.0077466 , 0.01382235, 0.00956681, 0.01314515,\n",
       "        0.04040117, 0.07398813, 0.06787757, 0.07213262, 0.03706356,\n",
       "        0.05868543, 0.04574304, 0.07675643, 0.05942375, 0.04682452,\n",
       "        0.03690178, 0.02285386, 0.04221009, 0.01571518, 0.02624036,\n",
       "        0.00748206, 0.01250872, 0.00654064, 0.00968711, 0.01253033,\n",
       "        0.02620063, 0.02728869, 0.04640165, 0.03667595, 0.02237395,\n",
       "        0.01153764, 0.00560571, 0.00788338, 0.0086707 , 0.0135711 ,\n",
       "        0.00866278, 0.00706108, 0.00605567, 0.0060841 , 0.00552658,\n",
       "        0.00713631, 0.00513583, 0.01275903, 0.01065447, 0.00668039,\n",
       "        0.04331351, 0.00903963, 0.0083111 , 0.01619731, 0.00984283,\n",
       "        0.00944166, 0.00801168, 0.00824421, 0.01953905, 0.00252806,\n",
       "        0.01849568, 0.00735629, 0.01209396, 0.01087424, 0.0099114 ,\n",
       "        0.00610166, 0.00639777, 0.00760935, 0.00767376, 0.00840089,\n",
       "        0.00772983, 0.00880165, 0.00623649, 0.00825286, 0.00686581,\n",
       "        0.00706001, 0.00985699, 0.00932087, 0.0074948 , 0.01415886,\n",
       "        0.00849783, 0.00759802, 0.0265566 , 0.01089029, 0.00815499,\n",
       "        0.00867676, 0.01627142, 0.02371902, 0.0163644 , 0.00906566,\n",
       "        0.00890875, 0.00987636, 0.0075745 , 0.01197196, 0.01087356,\n",
       "        0.0198668 , 0.01643251, 0.01297008, 0.01050532, 0.02149608,\n",
       "        0.00896939, 0.00991187, 0.00851198, 0.00608787, 0.00927708,\n",
       "        0.00755425, 0.00722364, 0.01134481, 0.00810612, 0.00999329,\n",
       "        0.00742067, 0.00450943, 0.00721919, 0.00669615, 0.01144452,\n",
       "        0.00847139, 0.00496914, 0.00878283, 0.01000106, 0.00818501,\n",
       "        0.00968557, 0.00848731, 0.01564922, 0.04620288, 0.04245703,\n",
       "        0.0056728 , 0.00685556, 0.00399487, 0.00579336, 0.01065647,\n",
       "        0.00633697, 0.00363415, 0.00774405, 0.00579384, 0.00607076,\n",
       "        0.00380683, 0.00410914, 0.00758582, 0.00695937, 0.00984188,\n",
       "        0.00228453, 0.0037827 , 0.00593644, 0.00998204, 0.00659742,\n",
       "        0.01002031, 0.00722817, 0.00341631, 0.00330601, 0.00493922,\n",
       "        0.00505092, 0.00398629, 0.00597114, 0.00489322, 0.00522132,\n",
       "        0.00574491, 0.00712999, 0.00666049, 0.00625067, 0.00591757,\n",
       "        0.00555961, 0.00640079, 0.00376978, 0.00848341, 0.01414179,\n",
       "        0.0036405 , 0.0041253 , 0.00664152, 0.00447911, 0.00718946,\n",
       "        0.00253308, 0.00452322, 0.00802674, 0.00454608, 0.00560747,\n",
       "        0.00852571, 0.00677376, 0.00564394, 0.00978879, 0.00945823,\n",
       "        0.00762185, 0.00523076, 0.00439988, 0.00720643, 0.00592486,\n",
       "        0.00846003, 0.00485653, 0.00636144, 0.00708827, 0.01396441,\n",
       "        0.0040018 , 0.00453435, 0.006919  , 0.00756984, 0.00781344,\n",
       "        0.00647763, 0.0068081 , 0.0073164 , 0.01091845, 0.00369323,\n",
       "        0.00554789, 0.0365414 , 0.04416368, 0.05243928, 0.01647205,\n",
       "        0.02521054, 0.00795956, 0.03228203, 0.02828864, 0.01397577,\n",
       "        0.00915402, 0.00546612, 0.00829205, 0.01231192, 0.01199778,\n",
       "        0.01605112, 0.0371348 , 0.00929616, 0.01966915, 0.01142744,\n",
       "        0.00830676, 0.00821504, 0.01786249, 0.02185232, 0.00786636,\n",
       "        0.01340813, 0.00881945, 0.01517512, 0.00789654, 0.02048165,\n",
       "        0.01449801, 0.01915992, 0.00822962, 0.00902597, 0.02386162,\n",
       "        0.0110979 , 0.02280184, 0.01494128, 0.01476701, 0.02179736,\n",
       "        0.00726566, 0.01020335, 0.01767098, 0.00888042, 0.01783375]),\n",
       " 'mean_score_time': array([0.03950719, 0.03886716, 0.04113956, 0.0454481 , 0.04073179,\n",
       "        0.03828633, 0.03930811, 0.04214406, 0.05328512, 0.0514708 ,\n",
       "        0.03950747, 0.03850178, 0.04986497, 0.07343173, 0.08229319,\n",
       "        0.05361923, 0.05148053, 0.05345956, 0.05514383, 0.05329132,\n",
       "        0.05531903, 0.05516251, 0.05590161, 0.05618695, 0.05847923,\n",
       "        0.07435544, 0.08451688, 0.07303413, 0.07061704, 0.0748479 ,\n",
       "        0.07603772, 0.06110636, 0.07633448, 0.05803247, 0.06112762,\n",
       "        0.06183652, 0.05874292, 0.06474288, 0.07335126, 0.05541472,\n",
       "        0.05344804, 0.05236204, 0.05233181, 0.05199846, 0.05985904,\n",
       "        0.06317572, 0.05830248, 0.05672896, 0.06291529, 0.05449172,\n",
       "        0.06144309, 0.05281818, 0.05089569, 0.05144087, 0.05200895,\n",
       "        0.05123997, 0.05101526, 0.05033962, 0.04939485, 0.05051275,\n",
       "        0.0515759 , 0.05203096, 0.05279887, 0.04973996, 0.05405474,\n",
       "        0.07079685, 0.05212363, 0.04998346, 0.05261608, 0.05232958,\n",
       "        0.04983755, 0.05027807, 0.05071521, 0.05725149, 0.05423526,\n",
       "        0.05111722, 0.05466151, 0.05493637, 0.05276191, 0.04963807,\n",
       "        0.05104291, 0.049751  , 0.04953595, 0.04937088, 0.04978395,\n",
       "        0.04850864, 0.04959238, 0.04999483, 0.04928354, 0.04918238,\n",
       "        0.04973141, 0.04980441, 0.05264485, 0.05416266, 0.05595879,\n",
       "        0.05055018, 0.0522054 , 0.05811254, 0.05577894, 0.06072255,\n",
       "        0.05025578, 0.05163236, 0.05119491, 0.05088854, 0.04597521,\n",
       "        0.04536494, 0.04548983, 0.04566542, 0.05080887, 0.05134432,\n",
       "        0.05358283, 0.04671371, 0.05010374, 0.05495636, 0.04806129,\n",
       "        0.04854047, 0.04761084, 0.04816628, 0.04723962, 0.04814394,\n",
       "        0.04537567, 0.0447764 , 0.04778004, 0.04548399, 0.04408522,\n",
       "        0.04306332, 0.04182553, 0.04230062, 0.04224507, 0.04553568,\n",
       "        0.04579512, 0.05000742, 0.0428832 , 0.04467587, 0.04722174,\n",
       "        0.04686852, 0.04355963, 0.04805895, 0.05422036, 0.051434  ,\n",
       "        0.0434732 , 0.04116432, 0.04004657, 0.04128933, 0.04173815,\n",
       "        0.04154396, 0.04436429, 0.04218388, 0.04572864, 0.04152437,\n",
       "        0.04021037, 0.03997819, 0.03969296, 0.04176176, 0.04235065,\n",
       "        0.04050724, 0.040295  , 0.04100708, 0.04418635, 0.04338177,\n",
       "        0.04661111, 0.04098284, 0.03840419, 0.03818727, 0.03742715,\n",
       "        0.03724917, 0.03733039, 0.03783774, 0.03810569, 0.0385412 ,\n",
       "        0.03912   , 0.03767033, 0.04137043, 0.03800281, 0.04080741,\n",
       "        0.03913148, 0.03832197, 0.03850921, 0.03905511, 0.0403082 ,\n",
       "        0.03985584, 0.03755836, 0.03714911, 0.0372477 , 0.03802562,\n",
       "        0.03753789, 0.03712002, 0.03953032, 0.03682462, 0.03758856,\n",
       "        0.03781756, 0.03697407, 0.03712515, 0.04025662, 0.04489668,\n",
       "        0.04199926, 0.03883262, 0.03835984, 0.03832575, 0.03819489,\n",
       "        0.0375888 , 0.03633702, 0.03605743, 0.0392528 , 0.03882225,\n",
       "        0.03816223, 0.03607281, 0.03694689, 0.03600705, 0.03629184,\n",
       "        0.03652231, 0.03683976, 0.03727671, 0.03924561, 0.04119639,\n",
       "        0.04143671, 0.04687397, 0.04315535, 0.05097016, 0.04794729,\n",
       "        0.04545705, 0.03972924, 0.04246402, 0.03976194, 0.0387754 ,\n",
       "        0.03568482, 0.03600784, 0.03599695, 0.03768329, 0.04923876,\n",
       "        0.04075758, 0.04152977, 0.03688518, 0.04387518, 0.03747968,\n",
       "        0.03635343, 0.03683809, 0.03917424, 0.04735537, 0.04089789,\n",
       "        0.0384529 , 0.03602902, 0.03514695, 0.03494124, 0.03471299,\n",
       "        0.03518287, 0.03604654, 0.03696338, 0.03520429, 0.03542236,\n",
       "        0.03429254, 0.03468736, 0.03429516, 0.03507415, 0.03699243,\n",
       "        0.03554606, 0.03669226, 0.03563813, 0.03703634, 0.03276364]),\n",
       " 'std_score_time': array([0.00256609, 0.0022973 , 0.0036831 , 0.00369945, 0.00413555,\n",
       "        0.00254941, 0.00330185, 0.00315597, 0.0164417 , 0.01906238,\n",
       "        0.00463013, 0.00280458, 0.00887724, 0.02815168, 0.02448706,\n",
       "        0.00371682, 0.00360785, 0.00363526, 0.00361756, 0.00335408,\n",
       "        0.00584833, 0.00496954, 0.00547616, 0.00467976, 0.00711924,\n",
       "        0.01036824, 0.01857335, 0.02244015, 0.01501978, 0.01509635,\n",
       "        0.01756521, 0.02041764, 0.0154026 , 0.01399426, 0.01181686,\n",
       "        0.01239958, 0.0055245 , 0.00903555, 0.01179782, 0.00404348,\n",
       "        0.00352632, 0.003451  , 0.00310819, 0.00413188, 0.01166106,\n",
       "        0.01335507, 0.00472054, 0.01158565, 0.02148892, 0.01121453,\n",
       "        0.01245415, 0.00320571, 0.00368317, 0.00362064, 0.00390652,\n",
       "        0.0031247 , 0.00386139, 0.00299681, 0.00301683, 0.00354341,\n",
       "        0.0033841 , 0.00431132, 0.0061632 , 0.00335082, 0.00576732,\n",
       "        0.02310056, 0.00409032, 0.00368357, 0.00931621, 0.00420614,\n",
       "        0.00361204, 0.00370049, 0.00318639, 0.00569792, 0.0034141 ,\n",
       "        0.00331508, 0.00882502, 0.00463684, 0.00349657, 0.00371979,\n",
       "        0.00360315, 0.00339225, 0.00310163, 0.00346961, 0.00364723,\n",
       "        0.00312921, 0.00432682, 0.00222148, 0.00333395, 0.00279708,\n",
       "        0.00378697, 0.00352846, 0.00606411, 0.00380222, 0.00560911,\n",
       "        0.00385469, 0.00409713, 0.00782621, 0.00495567, 0.00909988,\n",
       "        0.00371211, 0.00628367, 0.00563701, 0.00530408, 0.0031216 ,\n",
       "        0.0027443 , 0.00284281, 0.00255759, 0.00723805, 0.0057151 ,\n",
       "        0.01123894, 0.00267716, 0.00601859, 0.00571691, 0.00217438,\n",
       "        0.003457  , 0.00243362, 0.00302354, 0.00252294, 0.00371089,\n",
       "        0.00282383, 0.00194598, 0.00455608, 0.00454092, 0.00310467,\n",
       "        0.00304895, 0.00271857, 0.00245381, 0.00220658, 0.00522367,\n",
       "        0.00388356, 0.01401787, 0.0030423 , 0.00364929, 0.00472075,\n",
       "        0.00390793, 0.00262232, 0.00210276, 0.01348728, 0.01774314,\n",
       "        0.00151853, 0.00248941, 0.00227924, 0.00379218, 0.00338682,\n",
       "        0.00237144, 0.00275335, 0.00305936, 0.00481026, 0.00216116,\n",
       "        0.00229583, 0.00225052, 0.00200488, 0.00364218, 0.00238439,\n",
       "        0.00241899, 0.00266937, 0.00262142, 0.0037592 , 0.00371616,\n",
       "        0.00504984, 0.00336852, 0.00225678, 0.00214673, 0.00224157,\n",
       "        0.0017673 , 0.00218066, 0.0027733 , 0.00247215, 0.00249534,\n",
       "        0.0028752 , 0.00214836, 0.00774918, 0.00209461, 0.00522726,\n",
       "        0.00269664, 0.00221696, 0.00232858, 0.00264097, 0.00316934,\n",
       "        0.00181663, 0.00244749, 0.00265184, 0.00258885, 0.00190833,\n",
       "        0.00360973, 0.00254174, 0.00495724, 0.00240514, 0.00274135,\n",
       "        0.00355692, 0.00200052, 0.00273557, 0.00390406, 0.00761539,\n",
       "        0.00307981, 0.00259746, 0.00238888, 0.00227654, 0.00233525,\n",
       "        0.002279  , 0.00218624, 0.00238166, 0.00458462, 0.00310304,\n",
       "        0.00435463, 0.00240163, 0.0033016 , 0.00221316, 0.00245194,\n",
       "        0.002655  , 0.00184734, 0.0024024 , 0.00259445, 0.00302912,\n",
       "        0.0053654 , 0.01155058, 0.00949186, 0.01435769, 0.01426681,\n",
       "        0.00965415, 0.00375662, 0.0102583 , 0.00398173, 0.00324316,\n",
       "        0.00266675, 0.00239393, 0.00221611, 0.00371223, 0.00847051,\n",
       "        0.00816419, 0.01259157, 0.00236626, 0.0072727 , 0.00245407,\n",
       "        0.00290536, 0.0031673 , 0.00333961, 0.00606771, 0.00478153,\n",
       "        0.00409016, 0.00195346, 0.00230166, 0.00179392, 0.00269608,\n",
       "        0.00263299, 0.00281646, 0.00327839, 0.00268402, 0.00319483,\n",
       "        0.00290039, 0.00300332, 0.00254204, 0.00365557, 0.00193431,\n",
       "        0.00268568, 0.00308687, 0.00328073, 0.00298965, 0.00445283]),\n",
       " 'param_svc__C': masked_array(data=[0.0001, 0.0001, 0.0001, 0.0001, 0.0001, 0.0001, 0.0001,\n",
       "                    0.0001, 0.0001, 0.0001, 0.0001, 0.0001, 0.0001, 0.0001,\n",
       "                    0.0001, 0.0001, 0.0001, 0.0001, 0.0001, 0.0001,\n",
       "                    0.00031622776601683794, 0.00031622776601683794,\n",
       "                    0.00031622776601683794, 0.00031622776601683794,\n",
       "                    0.00031622776601683794, 0.00031622776601683794,\n",
       "                    0.00031622776601683794, 0.00031622776601683794,\n",
       "                    0.00031622776601683794, 0.00031622776601683794,\n",
       "                    0.00031622776601683794, 0.00031622776601683794,\n",
       "                    0.00031622776601683794, 0.00031622776601683794,\n",
       "                    0.00031622776601683794, 0.00031622776601683794,\n",
       "                    0.00031622776601683794, 0.00031622776601683794,\n",
       "                    0.00031622776601683794, 0.00031622776601683794, 0.001,\n",
       "                    0.001, 0.001, 0.001, 0.001, 0.001, 0.001, 0.001, 0.001,\n",
       "                    0.001, 0.001, 0.001, 0.001, 0.001, 0.001, 0.001, 0.001,\n",
       "                    0.001, 0.001, 0.001, 0.0031622776601683794,\n",
       "                    0.0031622776601683794, 0.0031622776601683794,\n",
       "                    0.0031622776601683794, 0.0031622776601683794,\n",
       "                    0.0031622776601683794, 0.0031622776601683794,\n",
       "                    0.0031622776601683794, 0.0031622776601683794,\n",
       "                    0.0031622776601683794, 0.0031622776601683794,\n",
       "                    0.0031622776601683794, 0.0031622776601683794,\n",
       "                    0.0031622776601683794, 0.0031622776601683794,\n",
       "                    0.0031622776601683794, 0.0031622776601683794,\n",
       "                    0.0031622776601683794, 0.0031622776601683794,\n",
       "                    0.0031622776601683794, 0.01, 0.01, 0.01, 0.01, 0.01,\n",
       "                    0.01, 0.01, 0.01, 0.01, 0.01, 0.01, 0.01, 0.01, 0.01,\n",
       "                    0.01, 0.01, 0.01, 0.01, 0.01, 0.01,\n",
       "                    0.03162277660168379, 0.03162277660168379,\n",
       "                    0.03162277660168379, 0.03162277660168379,\n",
       "                    0.03162277660168379, 0.03162277660168379,\n",
       "                    0.03162277660168379, 0.03162277660168379,\n",
       "                    0.03162277660168379, 0.03162277660168379,\n",
       "                    0.03162277660168379, 0.03162277660168379,\n",
       "                    0.03162277660168379, 0.03162277660168379,\n",
       "                    0.03162277660168379, 0.03162277660168379,\n",
       "                    0.03162277660168379, 0.03162277660168379,\n",
       "                    0.03162277660168379, 0.03162277660168379, 0.1, 0.1,\n",
       "                    0.1, 0.1, 0.1, 0.1, 0.1, 0.1, 0.1, 0.1, 0.1, 0.1, 0.1,\n",
       "                    0.1, 0.1, 0.1, 0.1, 0.1, 0.1, 0.1, 0.31622776601683794,\n",
       "                    0.31622776601683794, 0.31622776601683794,\n",
       "                    0.31622776601683794, 0.31622776601683794,\n",
       "                    0.31622776601683794, 0.31622776601683794,\n",
       "                    0.31622776601683794, 0.31622776601683794,\n",
       "                    0.31622776601683794, 0.31622776601683794,\n",
       "                    0.31622776601683794, 0.31622776601683794,\n",
       "                    0.31622776601683794, 0.31622776601683794,\n",
       "                    0.31622776601683794, 0.31622776601683794,\n",
       "                    0.31622776601683794, 0.31622776601683794,\n",
       "                    0.31622776601683794, 1.0, 1.0, 1.0, 1.0, 1.0, 1.0, 1.0,\n",
       "                    1.0, 1.0, 1.0, 1.0, 1.0, 1.0, 1.0, 1.0, 1.0, 1.0, 1.0,\n",
       "                    1.0, 1.0, 3.1622776601683795, 3.1622776601683795,\n",
       "                    3.1622776601683795, 3.1622776601683795,\n",
       "                    3.1622776601683795, 3.1622776601683795,\n",
       "                    3.1622776601683795, 3.1622776601683795,\n",
       "                    3.1622776601683795, 3.1622776601683795,\n",
       "                    3.1622776601683795, 3.1622776601683795,\n",
       "                    3.1622776601683795, 3.1622776601683795,\n",
       "                    3.1622776601683795, 3.1622776601683795,\n",
       "                    3.1622776601683795, 3.1622776601683795,\n",
       "                    3.1622776601683795, 3.1622776601683795, 10.0, 10.0,\n",
       "                    10.0, 10.0, 10.0, 10.0, 10.0, 10.0, 10.0, 10.0, 10.0,\n",
       "                    10.0, 10.0, 10.0, 10.0, 10.0, 10.0, 10.0, 10.0, 10.0,\n",
       "                    31.622776601683793, 31.622776601683793,\n",
       "                    31.622776601683793, 31.622776601683793,\n",
       "                    31.622776601683793, 31.622776601683793,\n",
       "                    31.622776601683793, 31.622776601683793,\n",
       "                    31.622776601683793, 31.622776601683793,\n",
       "                    31.622776601683793, 31.622776601683793,\n",
       "                    31.622776601683793, 31.622776601683793,\n",
       "                    31.622776601683793, 31.622776601683793,\n",
       "                    31.622776601683793, 31.622776601683793,\n",
       "                    31.622776601683793, 31.622776601683793, 100.0, 100.0,\n",
       "                    100.0, 100.0, 100.0, 100.0, 100.0, 100.0, 100.0, 100.0,\n",
       "                    100.0, 100.0, 100.0, 100.0, 100.0, 100.0, 100.0, 100.0,\n",
       "                    100.0, 100.0],\n",
       "              mask=[False, False, False, False, False, False, False, False,\n",
       "                    False, False, False, False, False, False, False, False,\n",
       "                    False, False, False, False, False, False, False, False,\n",
       "                    False, False, False, False, False, False, False, False,\n",
       "                    False, False, False, False, False, False, False, False,\n",
       "                    False, False, False, False, False, False, False, False,\n",
       "                    False, False, False, False, False, False, False, False,\n",
       "                    False, False, False, False, False, False, False, False,\n",
       "                    False, False, False, False, False, False, False, False,\n",
       "                    False, False, False, False, False, False, False, False,\n",
       "                    False, False, False, False, False, False, False, False,\n",
       "                    False, False, False, False, False, False, False, False,\n",
       "                    False, False, False, False, False, False, False, False,\n",
       "                    False, False, False, False, False, False, False, False,\n",
       "                    False, False, False, False, False, False, False, False,\n",
       "                    False, False, False, False, False, False, False, False,\n",
       "                    False, False, False, False, False, False, False, False,\n",
       "                    False, False, False, False, False, False, False, False,\n",
       "                    False, False, False, False, False, False, False, False,\n",
       "                    False, False, False, False, False, False, False, False,\n",
       "                    False, False, False, False, False, False, False, False,\n",
       "                    False, False, False, False, False, False, False, False,\n",
       "                    False, False, False, False, False, False, False, False,\n",
       "                    False, False, False, False, False, False, False, False,\n",
       "                    False, False, False, False, False, False, False, False,\n",
       "                    False, False, False, False, False, False, False, False,\n",
       "                    False, False, False, False, False, False, False, False,\n",
       "                    False, False, False, False, False, False, False, False,\n",
       "                    False, False, False, False, False, False, False, False,\n",
       "                    False, False, False, False, False, False, False, False,\n",
       "                    False, False, False, False, False, False, False, False,\n",
       "                    False, False, False, False, False, False, False, False,\n",
       "                    False, False, False, False],\n",
       "        fill_value='?',\n",
       "             dtype=object),\n",
       " 'param_svc__gamma': masked_array(data=[0.05, 0.1, 0.15, 0.2, 0.25, 0.3, 0.35,\n",
       "                    0.39999999999999997, 0.44999999999999996,\n",
       "                    0.49999999999999994, 0.5499999999999999, 0.6, 0.65,\n",
       "                    0.7, 0.75, 0.7999999999999999, 0.85, 0.9, 0.95, 1.0,\n",
       "                    0.05, 0.1, 0.15, 0.2, 0.25, 0.3, 0.35,\n",
       "                    0.39999999999999997, 0.44999999999999996,\n",
       "                    0.49999999999999994, 0.5499999999999999, 0.6, 0.65,\n",
       "                    0.7, 0.75, 0.7999999999999999, 0.85, 0.9, 0.95, 1.0,\n",
       "                    0.05, 0.1, 0.15, 0.2, 0.25, 0.3, 0.35,\n",
       "                    0.39999999999999997, 0.44999999999999996,\n",
       "                    0.49999999999999994, 0.5499999999999999, 0.6, 0.65,\n",
       "                    0.7, 0.75, 0.7999999999999999, 0.85, 0.9, 0.95, 1.0,\n",
       "                    0.05, 0.1, 0.15, 0.2, 0.25, 0.3, 0.35,\n",
       "                    0.39999999999999997, 0.44999999999999996,\n",
       "                    0.49999999999999994, 0.5499999999999999, 0.6, 0.65,\n",
       "                    0.7, 0.75, 0.7999999999999999, 0.85, 0.9, 0.95, 1.0,\n",
       "                    0.05, 0.1, 0.15, 0.2, 0.25, 0.3, 0.35,\n",
       "                    0.39999999999999997, 0.44999999999999996,\n",
       "                    0.49999999999999994, 0.5499999999999999, 0.6, 0.65,\n",
       "                    0.7, 0.75, 0.7999999999999999, 0.85, 0.9, 0.95, 1.0,\n",
       "                    0.05, 0.1, 0.15, 0.2, 0.25, 0.3, 0.35,\n",
       "                    0.39999999999999997, 0.44999999999999996,\n",
       "                    0.49999999999999994, 0.5499999999999999, 0.6, 0.65,\n",
       "                    0.7, 0.75, 0.7999999999999999, 0.85, 0.9, 0.95, 1.0,\n",
       "                    0.05, 0.1, 0.15, 0.2, 0.25, 0.3, 0.35,\n",
       "                    0.39999999999999997, 0.44999999999999996,\n",
       "                    0.49999999999999994, 0.5499999999999999, 0.6, 0.65,\n",
       "                    0.7, 0.75, 0.7999999999999999, 0.85, 0.9, 0.95, 1.0,\n",
       "                    0.05, 0.1, 0.15, 0.2, 0.25, 0.3, 0.35,\n",
       "                    0.39999999999999997, 0.44999999999999996,\n",
       "                    0.49999999999999994, 0.5499999999999999, 0.6, 0.65,\n",
       "                    0.7, 0.75, 0.7999999999999999, 0.85, 0.9, 0.95, 1.0,\n",
       "                    0.05, 0.1, 0.15, 0.2, 0.25, 0.3, 0.35,\n",
       "                    0.39999999999999997, 0.44999999999999996,\n",
       "                    0.49999999999999994, 0.5499999999999999, 0.6, 0.65,\n",
       "                    0.7, 0.75, 0.7999999999999999, 0.85, 0.9, 0.95, 1.0,\n",
       "                    0.05, 0.1, 0.15, 0.2, 0.25, 0.3, 0.35,\n",
       "                    0.39999999999999997, 0.44999999999999996,\n",
       "                    0.49999999999999994, 0.5499999999999999, 0.6, 0.65,\n",
       "                    0.7, 0.75, 0.7999999999999999, 0.85, 0.9, 0.95, 1.0,\n",
       "                    0.05, 0.1, 0.15, 0.2, 0.25, 0.3, 0.35,\n",
       "                    0.39999999999999997, 0.44999999999999996,\n",
       "                    0.49999999999999994, 0.5499999999999999, 0.6, 0.65,\n",
       "                    0.7, 0.75, 0.7999999999999999, 0.85, 0.9, 0.95, 1.0,\n",
       "                    0.05, 0.1, 0.15, 0.2, 0.25, 0.3, 0.35,\n",
       "                    0.39999999999999997, 0.44999999999999996,\n",
       "                    0.49999999999999994, 0.5499999999999999, 0.6, 0.65,\n",
       "                    0.7, 0.75, 0.7999999999999999, 0.85, 0.9, 0.95, 1.0,\n",
       "                    0.05, 0.1, 0.15, 0.2, 0.25, 0.3, 0.35,\n",
       "                    0.39999999999999997, 0.44999999999999996,\n",
       "                    0.49999999999999994, 0.5499999999999999, 0.6, 0.65,\n",
       "                    0.7, 0.75, 0.7999999999999999, 0.85, 0.9, 0.95, 1.0],\n",
       "              mask=[False, False, False, False, False, False, False, False,\n",
       "                    False, False, False, False, False, False, False, False,\n",
       "                    False, False, False, False, False, False, False, False,\n",
       "                    False, False, False, False, False, False, False, False,\n",
       "                    False, False, False, False, False, False, False, False,\n",
       "                    False, False, False, False, False, False, False, False,\n",
       "                    False, False, False, False, False, False, False, False,\n",
       "                    False, False, False, False, False, False, False, False,\n",
       "                    False, False, False, False, False, False, False, False,\n",
       "                    False, False, False, False, False, False, False, False,\n",
       "                    False, False, False, False, False, False, False, False,\n",
       "                    False, False, False, False, False, False, False, False,\n",
       "                    False, False, False, False, False, False, False, False,\n",
       "                    False, False, False, False, False, False, False, False,\n",
       "                    False, False, False, False, False, False, False, False,\n",
       "                    False, False, False, False, False, False, False, False,\n",
       "                    False, False, False, False, False, False, False, False,\n",
       "                    False, False, False, False, False, False, False, False,\n",
       "                    False, False, False, False, False, False, False, False,\n",
       "                    False, False, False, False, False, False, False, False,\n",
       "                    False, False, False, False, False, False, False, False,\n",
       "                    False, False, False, False, False, False, False, False,\n",
       "                    False, False, False, False, False, False, False, False,\n",
       "                    False, False, False, False, False, False, False, False,\n",
       "                    False, False, False, False, False, False, False, False,\n",
       "                    False, False, False, False, False, False, False, False,\n",
       "                    False, False, False, False, False, False, False, False,\n",
       "                    False, False, False, False, False, False, False, False,\n",
       "                    False, False, False, False, False, False, False, False,\n",
       "                    False, False, False, False, False, False, False, False,\n",
       "                    False, False, False, False, False, False, False, False,\n",
       "                    False, False, False, False, False, False, False, False,\n",
       "                    False, False, False, False],\n",
       "        fill_value='?',\n",
       "             dtype=object),\n",
       " 'params': [{'svc__C': 0.0001, 'svc__gamma': 0.05},\n",
       "  {'svc__C': 0.0001, 'svc__gamma': 0.1},\n",
       "  {'svc__C': 0.0001, 'svc__gamma': 0.15},\n",
       "  {'svc__C': 0.0001, 'svc__gamma': 0.2},\n",
       "  {'svc__C': 0.0001, 'svc__gamma': 0.25},\n",
       "  {'svc__C': 0.0001, 'svc__gamma': 0.3},\n",
       "  {'svc__C': 0.0001, 'svc__gamma': 0.35},\n",
       "  {'svc__C': 0.0001, 'svc__gamma': 0.39999999999999997},\n",
       "  {'svc__C': 0.0001, 'svc__gamma': 0.44999999999999996},\n",
       "  {'svc__C': 0.0001, 'svc__gamma': 0.49999999999999994},\n",
       "  {'svc__C': 0.0001, 'svc__gamma': 0.5499999999999999},\n",
       "  {'svc__C': 0.0001, 'svc__gamma': 0.6},\n",
       "  {'svc__C': 0.0001, 'svc__gamma': 0.65},\n",
       "  {'svc__C': 0.0001, 'svc__gamma': 0.7},\n",
       "  {'svc__C': 0.0001, 'svc__gamma': 0.75},\n",
       "  {'svc__C': 0.0001, 'svc__gamma': 0.7999999999999999},\n",
       "  {'svc__C': 0.0001, 'svc__gamma': 0.85},\n",
       "  {'svc__C': 0.0001, 'svc__gamma': 0.9},\n",
       "  {'svc__C': 0.0001, 'svc__gamma': 0.95},\n",
       "  {'svc__C': 0.0001, 'svc__gamma': 1.0},\n",
       "  {'svc__C': 0.00031622776601683794, 'svc__gamma': 0.05},\n",
       "  {'svc__C': 0.00031622776601683794, 'svc__gamma': 0.1},\n",
       "  {'svc__C': 0.00031622776601683794, 'svc__gamma': 0.15},\n",
       "  {'svc__C': 0.00031622776601683794, 'svc__gamma': 0.2},\n",
       "  {'svc__C': 0.00031622776601683794, 'svc__gamma': 0.25},\n",
       "  {'svc__C': 0.00031622776601683794, 'svc__gamma': 0.3},\n",
       "  {'svc__C': 0.00031622776601683794, 'svc__gamma': 0.35},\n",
       "  {'svc__C': 0.00031622776601683794, 'svc__gamma': 0.39999999999999997},\n",
       "  {'svc__C': 0.00031622776601683794, 'svc__gamma': 0.44999999999999996},\n",
       "  {'svc__C': 0.00031622776601683794, 'svc__gamma': 0.49999999999999994},\n",
       "  {'svc__C': 0.00031622776601683794, 'svc__gamma': 0.5499999999999999},\n",
       "  {'svc__C': 0.00031622776601683794, 'svc__gamma': 0.6},\n",
       "  {'svc__C': 0.00031622776601683794, 'svc__gamma': 0.65},\n",
       "  {'svc__C': 0.00031622776601683794, 'svc__gamma': 0.7},\n",
       "  {'svc__C': 0.00031622776601683794, 'svc__gamma': 0.75},\n",
       "  {'svc__C': 0.00031622776601683794, 'svc__gamma': 0.7999999999999999},\n",
       "  {'svc__C': 0.00031622776601683794, 'svc__gamma': 0.85},\n",
       "  {'svc__C': 0.00031622776601683794, 'svc__gamma': 0.9},\n",
       "  {'svc__C': 0.00031622776601683794, 'svc__gamma': 0.95},\n",
       "  {'svc__C': 0.00031622776601683794, 'svc__gamma': 1.0},\n",
       "  {'svc__C': 0.001, 'svc__gamma': 0.05},\n",
       "  {'svc__C': 0.001, 'svc__gamma': 0.1},\n",
       "  {'svc__C': 0.001, 'svc__gamma': 0.15},\n",
       "  {'svc__C': 0.001, 'svc__gamma': 0.2},\n",
       "  {'svc__C': 0.001, 'svc__gamma': 0.25},\n",
       "  {'svc__C': 0.001, 'svc__gamma': 0.3},\n",
       "  {'svc__C': 0.001, 'svc__gamma': 0.35},\n",
       "  {'svc__C': 0.001, 'svc__gamma': 0.39999999999999997},\n",
       "  {'svc__C': 0.001, 'svc__gamma': 0.44999999999999996},\n",
       "  {'svc__C': 0.001, 'svc__gamma': 0.49999999999999994},\n",
       "  {'svc__C': 0.001, 'svc__gamma': 0.5499999999999999},\n",
       "  {'svc__C': 0.001, 'svc__gamma': 0.6},\n",
       "  {'svc__C': 0.001, 'svc__gamma': 0.65},\n",
       "  {'svc__C': 0.001, 'svc__gamma': 0.7},\n",
       "  {'svc__C': 0.001, 'svc__gamma': 0.75},\n",
       "  {'svc__C': 0.001, 'svc__gamma': 0.7999999999999999},\n",
       "  {'svc__C': 0.001, 'svc__gamma': 0.85},\n",
       "  {'svc__C': 0.001, 'svc__gamma': 0.9},\n",
       "  {'svc__C': 0.001, 'svc__gamma': 0.95},\n",
       "  {'svc__C': 0.001, 'svc__gamma': 1.0},\n",
       "  {'svc__C': 0.0031622776601683794, 'svc__gamma': 0.05},\n",
       "  {'svc__C': 0.0031622776601683794, 'svc__gamma': 0.1},\n",
       "  {'svc__C': 0.0031622776601683794, 'svc__gamma': 0.15},\n",
       "  {'svc__C': 0.0031622776601683794, 'svc__gamma': 0.2},\n",
       "  {'svc__C': 0.0031622776601683794, 'svc__gamma': 0.25},\n",
       "  {'svc__C': 0.0031622776601683794, 'svc__gamma': 0.3},\n",
       "  {'svc__C': 0.0031622776601683794, 'svc__gamma': 0.35},\n",
       "  {'svc__C': 0.0031622776601683794, 'svc__gamma': 0.39999999999999997},\n",
       "  {'svc__C': 0.0031622776601683794, 'svc__gamma': 0.44999999999999996},\n",
       "  {'svc__C': 0.0031622776601683794, 'svc__gamma': 0.49999999999999994},\n",
       "  {'svc__C': 0.0031622776601683794, 'svc__gamma': 0.5499999999999999},\n",
       "  {'svc__C': 0.0031622776601683794, 'svc__gamma': 0.6},\n",
       "  {'svc__C': 0.0031622776601683794, 'svc__gamma': 0.65},\n",
       "  {'svc__C': 0.0031622776601683794, 'svc__gamma': 0.7},\n",
       "  {'svc__C': 0.0031622776601683794, 'svc__gamma': 0.75},\n",
       "  {'svc__C': 0.0031622776601683794, 'svc__gamma': 0.7999999999999999},\n",
       "  {'svc__C': 0.0031622776601683794, 'svc__gamma': 0.85},\n",
       "  {'svc__C': 0.0031622776601683794, 'svc__gamma': 0.9},\n",
       "  {'svc__C': 0.0031622776601683794, 'svc__gamma': 0.95},\n",
       "  {'svc__C': 0.0031622776601683794, 'svc__gamma': 1.0},\n",
       "  {'svc__C': 0.01, 'svc__gamma': 0.05},\n",
       "  {'svc__C': 0.01, 'svc__gamma': 0.1},\n",
       "  {'svc__C': 0.01, 'svc__gamma': 0.15},\n",
       "  {'svc__C': 0.01, 'svc__gamma': 0.2},\n",
       "  {'svc__C': 0.01, 'svc__gamma': 0.25},\n",
       "  {'svc__C': 0.01, 'svc__gamma': 0.3},\n",
       "  {'svc__C': 0.01, 'svc__gamma': 0.35},\n",
       "  {'svc__C': 0.01, 'svc__gamma': 0.39999999999999997},\n",
       "  {'svc__C': 0.01, 'svc__gamma': 0.44999999999999996},\n",
       "  {'svc__C': 0.01, 'svc__gamma': 0.49999999999999994},\n",
       "  {'svc__C': 0.01, 'svc__gamma': 0.5499999999999999},\n",
       "  {'svc__C': 0.01, 'svc__gamma': 0.6},\n",
       "  {'svc__C': 0.01, 'svc__gamma': 0.65},\n",
       "  {'svc__C': 0.01, 'svc__gamma': 0.7},\n",
       "  {'svc__C': 0.01, 'svc__gamma': 0.75},\n",
       "  {'svc__C': 0.01, 'svc__gamma': 0.7999999999999999},\n",
       "  {'svc__C': 0.01, 'svc__gamma': 0.85},\n",
       "  {'svc__C': 0.01, 'svc__gamma': 0.9},\n",
       "  {'svc__C': 0.01, 'svc__gamma': 0.95},\n",
       "  {'svc__C': 0.01, 'svc__gamma': 1.0},\n",
       "  {'svc__C': 0.03162277660168379, 'svc__gamma': 0.05},\n",
       "  {'svc__C': 0.03162277660168379, 'svc__gamma': 0.1},\n",
       "  {'svc__C': 0.03162277660168379, 'svc__gamma': 0.15},\n",
       "  {'svc__C': 0.03162277660168379, 'svc__gamma': 0.2},\n",
       "  {'svc__C': 0.03162277660168379, 'svc__gamma': 0.25},\n",
       "  {'svc__C': 0.03162277660168379, 'svc__gamma': 0.3},\n",
       "  {'svc__C': 0.03162277660168379, 'svc__gamma': 0.35},\n",
       "  {'svc__C': 0.03162277660168379, 'svc__gamma': 0.39999999999999997},\n",
       "  {'svc__C': 0.03162277660168379, 'svc__gamma': 0.44999999999999996},\n",
       "  {'svc__C': 0.03162277660168379, 'svc__gamma': 0.49999999999999994},\n",
       "  {'svc__C': 0.03162277660168379, 'svc__gamma': 0.5499999999999999},\n",
       "  {'svc__C': 0.03162277660168379, 'svc__gamma': 0.6},\n",
       "  {'svc__C': 0.03162277660168379, 'svc__gamma': 0.65},\n",
       "  {'svc__C': 0.03162277660168379, 'svc__gamma': 0.7},\n",
       "  {'svc__C': 0.03162277660168379, 'svc__gamma': 0.75},\n",
       "  {'svc__C': 0.03162277660168379, 'svc__gamma': 0.7999999999999999},\n",
       "  {'svc__C': 0.03162277660168379, 'svc__gamma': 0.85},\n",
       "  {'svc__C': 0.03162277660168379, 'svc__gamma': 0.9},\n",
       "  {'svc__C': 0.03162277660168379, 'svc__gamma': 0.95},\n",
       "  {'svc__C': 0.03162277660168379, 'svc__gamma': 1.0},\n",
       "  {'svc__C': 0.1, 'svc__gamma': 0.05},\n",
       "  {'svc__C': 0.1, 'svc__gamma': 0.1},\n",
       "  {'svc__C': 0.1, 'svc__gamma': 0.15},\n",
       "  {'svc__C': 0.1, 'svc__gamma': 0.2},\n",
       "  {'svc__C': 0.1, 'svc__gamma': 0.25},\n",
       "  {'svc__C': 0.1, 'svc__gamma': 0.3},\n",
       "  {'svc__C': 0.1, 'svc__gamma': 0.35},\n",
       "  {'svc__C': 0.1, 'svc__gamma': 0.39999999999999997},\n",
       "  {'svc__C': 0.1, 'svc__gamma': 0.44999999999999996},\n",
       "  {'svc__C': 0.1, 'svc__gamma': 0.49999999999999994},\n",
       "  {'svc__C': 0.1, 'svc__gamma': 0.5499999999999999},\n",
       "  {'svc__C': 0.1, 'svc__gamma': 0.6},\n",
       "  {'svc__C': 0.1, 'svc__gamma': 0.65},\n",
       "  {'svc__C': 0.1, 'svc__gamma': 0.7},\n",
       "  {'svc__C': 0.1, 'svc__gamma': 0.75},\n",
       "  {'svc__C': 0.1, 'svc__gamma': 0.7999999999999999},\n",
       "  {'svc__C': 0.1, 'svc__gamma': 0.85},\n",
       "  {'svc__C': 0.1, 'svc__gamma': 0.9},\n",
       "  {'svc__C': 0.1, 'svc__gamma': 0.95},\n",
       "  {'svc__C': 0.1, 'svc__gamma': 1.0},\n",
       "  {'svc__C': 0.31622776601683794, 'svc__gamma': 0.05},\n",
       "  {'svc__C': 0.31622776601683794, 'svc__gamma': 0.1},\n",
       "  {'svc__C': 0.31622776601683794, 'svc__gamma': 0.15},\n",
       "  {'svc__C': 0.31622776601683794, 'svc__gamma': 0.2},\n",
       "  {'svc__C': 0.31622776601683794, 'svc__gamma': 0.25},\n",
       "  {'svc__C': 0.31622776601683794, 'svc__gamma': 0.3},\n",
       "  {'svc__C': 0.31622776601683794, 'svc__gamma': 0.35},\n",
       "  {'svc__C': 0.31622776601683794, 'svc__gamma': 0.39999999999999997},\n",
       "  {'svc__C': 0.31622776601683794, 'svc__gamma': 0.44999999999999996},\n",
       "  {'svc__C': 0.31622776601683794, 'svc__gamma': 0.49999999999999994},\n",
       "  {'svc__C': 0.31622776601683794, 'svc__gamma': 0.5499999999999999},\n",
       "  {'svc__C': 0.31622776601683794, 'svc__gamma': 0.6},\n",
       "  {'svc__C': 0.31622776601683794, 'svc__gamma': 0.65},\n",
       "  {'svc__C': 0.31622776601683794, 'svc__gamma': 0.7},\n",
       "  {'svc__C': 0.31622776601683794, 'svc__gamma': 0.75},\n",
       "  {'svc__C': 0.31622776601683794, 'svc__gamma': 0.7999999999999999},\n",
       "  {'svc__C': 0.31622776601683794, 'svc__gamma': 0.85},\n",
       "  {'svc__C': 0.31622776601683794, 'svc__gamma': 0.9},\n",
       "  {'svc__C': 0.31622776601683794, 'svc__gamma': 0.95},\n",
       "  {'svc__C': 0.31622776601683794, 'svc__gamma': 1.0},\n",
       "  {'svc__C': 1.0, 'svc__gamma': 0.05},\n",
       "  {'svc__C': 1.0, 'svc__gamma': 0.1},\n",
       "  {'svc__C': 1.0, 'svc__gamma': 0.15},\n",
       "  {'svc__C': 1.0, 'svc__gamma': 0.2},\n",
       "  {'svc__C': 1.0, 'svc__gamma': 0.25},\n",
       "  {'svc__C': 1.0, 'svc__gamma': 0.3},\n",
       "  {'svc__C': 1.0, 'svc__gamma': 0.35},\n",
       "  {'svc__C': 1.0, 'svc__gamma': 0.39999999999999997},\n",
       "  {'svc__C': 1.0, 'svc__gamma': 0.44999999999999996},\n",
       "  {'svc__C': 1.0, 'svc__gamma': 0.49999999999999994},\n",
       "  {'svc__C': 1.0, 'svc__gamma': 0.5499999999999999},\n",
       "  {'svc__C': 1.0, 'svc__gamma': 0.6},\n",
       "  {'svc__C': 1.0, 'svc__gamma': 0.65},\n",
       "  {'svc__C': 1.0, 'svc__gamma': 0.7},\n",
       "  {'svc__C': 1.0, 'svc__gamma': 0.75},\n",
       "  {'svc__C': 1.0, 'svc__gamma': 0.7999999999999999},\n",
       "  {'svc__C': 1.0, 'svc__gamma': 0.85},\n",
       "  {'svc__C': 1.0, 'svc__gamma': 0.9},\n",
       "  {'svc__C': 1.0, 'svc__gamma': 0.95},\n",
       "  {'svc__C': 1.0, 'svc__gamma': 1.0},\n",
       "  {'svc__C': 3.1622776601683795, 'svc__gamma': 0.05},\n",
       "  {'svc__C': 3.1622776601683795, 'svc__gamma': 0.1},\n",
       "  {'svc__C': 3.1622776601683795, 'svc__gamma': 0.15},\n",
       "  {'svc__C': 3.1622776601683795, 'svc__gamma': 0.2},\n",
       "  {'svc__C': 3.1622776601683795, 'svc__gamma': 0.25},\n",
       "  {'svc__C': 3.1622776601683795, 'svc__gamma': 0.3},\n",
       "  {'svc__C': 3.1622776601683795, 'svc__gamma': 0.35},\n",
       "  {'svc__C': 3.1622776601683795, 'svc__gamma': 0.39999999999999997},\n",
       "  {'svc__C': 3.1622776601683795, 'svc__gamma': 0.44999999999999996},\n",
       "  {'svc__C': 3.1622776601683795, 'svc__gamma': 0.49999999999999994},\n",
       "  {'svc__C': 3.1622776601683795, 'svc__gamma': 0.5499999999999999},\n",
       "  {'svc__C': 3.1622776601683795, 'svc__gamma': 0.6},\n",
       "  {'svc__C': 3.1622776601683795, 'svc__gamma': 0.65},\n",
       "  {'svc__C': 3.1622776601683795, 'svc__gamma': 0.7},\n",
       "  {'svc__C': 3.1622776601683795, 'svc__gamma': 0.75},\n",
       "  {'svc__C': 3.1622776601683795, 'svc__gamma': 0.7999999999999999},\n",
       "  {'svc__C': 3.1622776601683795, 'svc__gamma': 0.85},\n",
       "  {'svc__C': 3.1622776601683795, 'svc__gamma': 0.9},\n",
       "  {'svc__C': 3.1622776601683795, 'svc__gamma': 0.95},\n",
       "  {'svc__C': 3.1622776601683795, 'svc__gamma': 1.0},\n",
       "  {'svc__C': 10.0, 'svc__gamma': 0.05},\n",
       "  {'svc__C': 10.0, 'svc__gamma': 0.1},\n",
       "  {'svc__C': 10.0, 'svc__gamma': 0.15},\n",
       "  {'svc__C': 10.0, 'svc__gamma': 0.2},\n",
       "  {'svc__C': 10.0, 'svc__gamma': 0.25},\n",
       "  {'svc__C': 10.0, 'svc__gamma': 0.3},\n",
       "  {'svc__C': 10.0, 'svc__gamma': 0.35},\n",
       "  {'svc__C': 10.0, 'svc__gamma': 0.39999999999999997},\n",
       "  {'svc__C': 10.0, 'svc__gamma': 0.44999999999999996},\n",
       "  {'svc__C': 10.0, 'svc__gamma': 0.49999999999999994},\n",
       "  {'svc__C': 10.0, 'svc__gamma': 0.5499999999999999},\n",
       "  {'svc__C': 10.0, 'svc__gamma': 0.6},\n",
       "  {'svc__C': 10.0, 'svc__gamma': 0.65},\n",
       "  {'svc__C': 10.0, 'svc__gamma': 0.7},\n",
       "  {'svc__C': 10.0, 'svc__gamma': 0.75},\n",
       "  {'svc__C': 10.0, 'svc__gamma': 0.7999999999999999},\n",
       "  {'svc__C': 10.0, 'svc__gamma': 0.85},\n",
       "  {'svc__C': 10.0, 'svc__gamma': 0.9},\n",
       "  {'svc__C': 10.0, 'svc__gamma': 0.95},\n",
       "  {'svc__C': 10.0, 'svc__gamma': 1.0},\n",
       "  {'svc__C': 31.622776601683793, 'svc__gamma': 0.05},\n",
       "  {'svc__C': 31.622776601683793, 'svc__gamma': 0.1},\n",
       "  {'svc__C': 31.622776601683793, 'svc__gamma': 0.15},\n",
       "  {'svc__C': 31.622776601683793, 'svc__gamma': 0.2},\n",
       "  {'svc__C': 31.622776601683793, 'svc__gamma': 0.25},\n",
       "  {'svc__C': 31.622776601683793, 'svc__gamma': 0.3},\n",
       "  {'svc__C': 31.622776601683793, 'svc__gamma': 0.35},\n",
       "  {'svc__C': 31.622776601683793, 'svc__gamma': 0.39999999999999997},\n",
       "  {'svc__C': 31.622776601683793, 'svc__gamma': 0.44999999999999996},\n",
       "  {'svc__C': 31.622776601683793, 'svc__gamma': 0.49999999999999994},\n",
       "  {'svc__C': 31.622776601683793, 'svc__gamma': 0.5499999999999999},\n",
       "  {'svc__C': 31.622776601683793, 'svc__gamma': 0.6},\n",
       "  {'svc__C': 31.622776601683793, 'svc__gamma': 0.65},\n",
       "  {'svc__C': 31.622776601683793, 'svc__gamma': 0.7},\n",
       "  {'svc__C': 31.622776601683793, 'svc__gamma': 0.75},\n",
       "  {'svc__C': 31.622776601683793, 'svc__gamma': 0.7999999999999999},\n",
       "  {'svc__C': 31.622776601683793, 'svc__gamma': 0.85},\n",
       "  {'svc__C': 31.622776601683793, 'svc__gamma': 0.9},\n",
       "  {'svc__C': 31.622776601683793, 'svc__gamma': 0.95},\n",
       "  {'svc__C': 31.622776601683793, 'svc__gamma': 1.0},\n",
       "  {'svc__C': 100.0, 'svc__gamma': 0.05},\n",
       "  {'svc__C': 100.0, 'svc__gamma': 0.1},\n",
       "  {'svc__C': 100.0, 'svc__gamma': 0.15},\n",
       "  {'svc__C': 100.0, 'svc__gamma': 0.2},\n",
       "  {'svc__C': 100.0, 'svc__gamma': 0.25},\n",
       "  {'svc__C': 100.0, 'svc__gamma': 0.3},\n",
       "  {'svc__C': 100.0, 'svc__gamma': 0.35},\n",
       "  {'svc__C': 100.0, 'svc__gamma': 0.39999999999999997},\n",
       "  {'svc__C': 100.0, 'svc__gamma': 0.44999999999999996},\n",
       "  {'svc__C': 100.0, 'svc__gamma': 0.49999999999999994},\n",
       "  {'svc__C': 100.0, 'svc__gamma': 0.5499999999999999},\n",
       "  {'svc__C': 100.0, 'svc__gamma': 0.6},\n",
       "  {'svc__C': 100.0, 'svc__gamma': 0.65},\n",
       "  {'svc__C': 100.0, 'svc__gamma': 0.7},\n",
       "  {'svc__C': 100.0, 'svc__gamma': 0.75},\n",
       "  {'svc__C': 100.0, 'svc__gamma': 0.7999999999999999},\n",
       "  {'svc__C': 100.0, 'svc__gamma': 0.85},\n",
       "  {'svc__C': 100.0, 'svc__gamma': 0.9},\n",
       "  {'svc__C': 100.0, 'svc__gamma': 0.95},\n",
       "  {'svc__C': 100.0, 'svc__gamma': 1.0}],\n",
       " 'split0_test_score': array([0.10955164, 0.10955164, 0.10955164, 0.10955164, 0.10955164,\n",
       "        0.10955164, 0.10955164, 0.10955164, 0.10955164, 0.10955164,\n",
       "        0.10955164, 0.10955164, 0.10955164, 0.10955164, 0.10955164,\n",
       "        0.10955164, 0.10955164, 0.10955164, 0.10955164, 0.10955164,\n",
       "        0.10955164, 0.10955164, 0.10955164, 0.10955164, 0.10955164,\n",
       "        0.10955164, 0.10955164, 0.10955164, 0.10955164, 0.10955164,\n",
       "        0.10955164, 0.10955164, 0.10955164, 0.10955164, 0.10955164,\n",
       "        0.10955164, 0.10955164, 0.10955164, 0.10955164, 0.10955164,\n",
       "        0.10955164, 0.10955164, 0.10955164, 0.10955164, 0.10955164,\n",
       "        0.10955164, 0.10955164, 0.10955164, 0.10955164, 0.10955164,\n",
       "        0.10955164, 0.10955164, 0.10955164, 0.10955164, 0.10955164,\n",
       "        0.10955164, 0.10955164, 0.10955164, 0.10955164, 0.10955164,\n",
       "        0.10955164, 0.10955164, 0.10955164, 0.10955164, 0.10955164,\n",
       "        0.10955164, 0.10955164, 0.10955164, 0.10955164, 0.10955164,\n",
       "        0.10955164, 0.10955164, 0.10955164, 0.10955164, 0.10955164,\n",
       "        0.10955164, 0.10955164, 0.10955164, 0.10955164, 0.10955164,\n",
       "        0.34864621, 0.37312973, 0.3806756 , 0.38051638, 0.37678791,\n",
       "        0.36736543, 0.35795332, 0.33879887, 0.32827402, 0.30106011,\n",
       "        0.2862751 , 0.27882704, 0.2719095 , 0.26300712, 0.24965909,\n",
       "        0.23101636, 0.20592389, 0.18939753, 0.16150297, 0.14391323,\n",
       "        0.41825541, 0.53302133, 0.558853  , 0.57028364, 0.56310265,\n",
       "        0.56310265, 0.56004221, 0.55704331, 0.5566098 , 0.5513746 ,\n",
       "        0.54076462, 0.5397105 , 0.53187788, 0.52476364, 0.50803991,\n",
       "        0.50347164, 0.48352783, 0.45371218, 0.45550983, 0.45985652,\n",
       "        0.5622312 , 0.55576643, 0.56235736, 0.557594  , 0.55883525,\n",
       "        0.55995698, 0.56293796, 0.56622576, 0.56871648, 0.56923555,\n",
       "        0.56661545, 0.5632183 , 0.56074366, 0.56743348, 0.56478843,\n",
       "        0.56478843, 0.56354436, 0.56008054, 0.55559588, 0.55287836,\n",
       "        0.55763213, 0.55396359, 0.55587747, 0.56072779, 0.5619855 ,\n",
       "        0.55812134, 0.56013117, 0.55017577, 0.54408364, 0.54982385,\n",
       "        0.5481454 , 0.54593714, 0.54675571, 0.54675571, 0.54675571,\n",
       "        0.5518192 , 0.55129255, 0.54863162, 0.54518556, 0.54552697,\n",
       "        0.56252377, 0.56106718, 0.56068718, 0.56001029, 0.55035768,\n",
       "        0.53765418, 0.53548196, 0.53443638, 0.53234673, 0.53573057,\n",
       "        0.53689063, 0.54065634, 0.53567932, 0.53656164, 0.52966294,\n",
       "        0.53312371, 0.52211742, 0.52321338, 0.52700306, 0.52385207,\n",
       "        0.56241172, 0.55132808, 0.53689375, 0.54095662, 0.53185904,\n",
       "        0.53378534, 0.52750017, 0.52750355, 0.52104533, 0.52516551,\n",
       "        0.51349412, 0.50915263, 0.50823134, 0.50664221, 0.50211276,\n",
       "        0.49489056, 0.49157297, 0.48607041, 0.48223691, 0.48136444,\n",
       "        0.55811681, 0.53713913, 0.52804103, 0.52432981, 0.51497254,\n",
       "        0.51649041, 0.51832322, 0.50296355, 0.49379923, 0.48006789,\n",
       "        0.47045731, 0.46241383, 0.46469358, 0.45379106, 0.44824709,\n",
       "        0.44522204, 0.44976712, 0.44727654, 0.44736398, 0.44030213,\n",
       "        0.53289967, 0.51876995, 0.51292374, 0.53061998, 0.51288911,\n",
       "        0.48250058, 0.47651666, 0.46171362, 0.44840611, 0.45584398,\n",
       "        0.44230485, 0.44350131, 0.4497594 , 0.44189349, 0.44746215,\n",
       "        0.45989188, 0.44583482, 0.43841772, 0.43160275, 0.43990077,\n",
       "        0.52462002, 0.51580293, 0.51964715, 0.49388393, 0.46065108,\n",
       "        0.448936  , 0.44538416, 0.44295972, 0.44027902, 0.43865024,\n",
       "        0.43831733, 0.4469478 , 0.42922116, 0.42667848, 0.43095185,\n",
       "        0.42458652, 0.42246287, 0.42675428, 0.43062677, 0.42797072]),\n",
       " 'split1_test_score': array([0.20075901, 0.20075901, 0.20075901, 0.20075901, 0.20075901,\n",
       "        0.20075901, 0.20075901, 0.20075901, 0.20075901, 0.20075901,\n",
       "        0.20075901, 0.20075901, 0.20075901, 0.20075901, 0.20075901,\n",
       "        0.20075901, 0.20075901, 0.20075901, 0.20075901, 0.20075901,\n",
       "        0.20075901, 0.20075901, 0.20075901, 0.20075901, 0.20075901,\n",
       "        0.20075901, 0.20075901, 0.20075901, 0.20075901, 0.20075901,\n",
       "        0.20075901, 0.20075901, 0.20075901, 0.20075901, 0.20075901,\n",
       "        0.20075901, 0.20075901, 0.20075901, 0.20075901, 0.20075901,\n",
       "        0.20075901, 0.20075901, 0.20075901, 0.20075901, 0.20075901,\n",
       "        0.20075901, 0.20075901, 0.20075901, 0.20075901, 0.20075901,\n",
       "        0.20075901, 0.20075901, 0.20075901, 0.20075901, 0.20075901,\n",
       "        0.20075901, 0.20075901, 0.20075901, 0.20075901, 0.20075901,\n",
       "        0.20075901, 0.20075901, 0.20075901, 0.20075901, 0.20075901,\n",
       "        0.20075901, 0.20075901, 0.20075901, 0.20075901, 0.20075901,\n",
       "        0.20075901, 0.20075901, 0.20075901, 0.20075901, 0.20075901,\n",
       "        0.20075901, 0.20075901, 0.20075901, 0.20075901, 0.20075901,\n",
       "        0.28417532, 0.28538297, 0.28802424, 0.28967052, 0.29133394,\n",
       "        0.29133394, 0.29143419, 0.28982474, 0.29075931, 0.28730356,\n",
       "        0.28872897, 0.29134915, 0.29175783, 0.29174671, 0.28899843,\n",
       "        0.28480975, 0.28376985, 0.27789348, 0.27099562, 0.24997073,\n",
       "        0.35081487, 0.32450742, 0.32450742, 0.32195172, 0.31922642,\n",
       "        0.31457394, 0.30736356, 0.30917026, 0.30839261, 0.30647208,\n",
       "        0.30703783, 0.31038454, 0.31208605, 0.31074159, 0.31177854,\n",
       "        0.3098411 , 0.30737208, 0.30689899, 0.30581257, 0.30193372,\n",
       "        0.31824412, 0.3262819 , 0.32965406, 0.32965406, 0.32955297,\n",
       "        0.32955297, 0.32955297, 0.33288496, 0.33293333, 0.33307304,\n",
       "        0.33307304, 0.33588497, 0.33586671, 0.3345703 , 0.33591198,\n",
       "        0.32773213, 0.32432641, 0.31264561, 0.3107823 , 0.30692904,\n",
       "        0.33512904, 0.3291447 , 0.32193962, 0.31908609, 0.32049055,\n",
       "        0.32056304, 0.32206203, 0.32190755, 0.32513634, 0.3331617 ,\n",
       "        0.33539485, 0.33539485, 0.33390286, 0.33390286, 0.33390286,\n",
       "        0.33390286, 0.33405076, 0.33405076, 0.33406914, 0.33406914,\n",
       "        0.32518145, 0.32202678, 0.32050941, 0.32291847, 0.31939337,\n",
       "        0.32154332, 0.32671433, 0.33146535, 0.32573629, 0.32438494,\n",
       "        0.32346777, 0.32481511, 0.32453558, 0.32815354, 0.32680349,\n",
       "        0.32816682, 0.33031141, 0.32927064, 0.32927064, 0.33094007,\n",
       "        0.3211933 , 0.3215449 , 0.32020498, 0.31600628, 0.31199512,\n",
       "        0.30625891, 0.31069996, 0.31428493, 0.31048612, 0.30902573,\n",
       "        0.31011617, 0.32181016, 0.32312007, 0.32745659, 0.32350555,\n",
       "        0.32489847, 0.32463809, 0.33016046, 0.33261557, 0.33634194,\n",
       "        0.32400447, 0.31800998, 0.30941056, 0.30578089, 0.30936493,\n",
       "        0.31402244, 0.31117052, 0.31866887, 0.31689995, 0.32035753,\n",
       "        0.31811319, 0.31900082, 0.32632435, 0.32827976, 0.32485048,\n",
       "        0.32063331, 0.32232207, 0.33056506, 0.33237999, 0.33192187,\n",
       "        0.31992387, 0.31164319, 0.31100505, 0.31408418, 0.31939035,\n",
       "        0.32148082, 0.31955716, 0.31775803, 0.31699295, 0.32913114,\n",
       "        0.32925817, 0.32836844, 0.33193377, 0.33124044, 0.33104137,\n",
       "        0.32984985, 0.32473383, 0.32387956, 0.31776799, 0.31293939,\n",
       "        0.31003104, 0.31332281, 0.31643717, 0.31750758, 0.31845284,\n",
       "        0.32242504, 0.32908972, 0.33155342, 0.34005826, 0.33531265,\n",
       "        0.33039795, 0.32257037, 0.31864322, 0.31046772, 0.31291452,\n",
       "        0.32073545, 0.31526498, 0.32074108, 0.32120884, 0.31546931]),\n",
       " 'split2_test_score': array([0.37134696, 0.37134696, 0.37134696, 0.37134696, 0.37134696,\n",
       "        0.37134696, 0.37134696, 0.37134696, 0.37134696, 0.37134696,\n",
       "        0.37134696, 0.37134696, 0.37134696, 0.37134696, 0.37134696,\n",
       "        0.37134696, 0.37134696, 0.37134696, 0.37134696, 0.37134696,\n",
       "        0.37134696, 0.37134696, 0.37134696, 0.37134696, 0.37134696,\n",
       "        0.37134696, 0.37134696, 0.37134696, 0.37134696, 0.37134696,\n",
       "        0.37134696, 0.37134696, 0.37134696, 0.37134696, 0.37134696,\n",
       "        0.37134696, 0.37134696, 0.37134696, 0.37134696, 0.37134696,\n",
       "        0.37134696, 0.37134696, 0.37134696, 0.37134696, 0.37134696,\n",
       "        0.37134696, 0.37134696, 0.37134696, 0.37134696, 0.37134696,\n",
       "        0.37134696, 0.37134696, 0.37134696, 0.37134696, 0.37134696,\n",
       "        0.37134696, 0.37134696, 0.37134696, 0.37134696, 0.37134696,\n",
       "        0.37134696, 0.37134696, 0.37134696, 0.37134696, 0.37134696,\n",
       "        0.37134696, 0.37134696, 0.37134696, 0.37134696, 0.37134696,\n",
       "        0.37134696, 0.37134696, 0.37134696, 0.37134696, 0.37134696,\n",
       "        0.37134696, 0.37134696, 0.37134696, 0.37134696, 0.37134696,\n",
       "        0.51333477, 0.52182944, 0.52511896, 0.5330838 , 0.53468704,\n",
       "        0.53269926, 0.53269926, 0.53079253, 0.53041387, 0.52828193,\n",
       "        0.52443125, 0.52215749, 0.51955604, 0.5157957 , 0.51074864,\n",
       "        0.5047888 , 0.4934386 , 0.4797634 , 0.47263223, 0.46460706,\n",
       "        0.55158289, 0.57742766, 0.63263557, 0.65493687, 0.64955217,\n",
       "        0.64081508, 0.64414479, 0.63026345, 0.62999766, 0.61724271,\n",
       "        0.60263862, 0.60171011, 0.59451614, 0.58651661, 0.58606937,\n",
       "        0.56592431, 0.55322041, 0.5485501 , 0.54687356, 0.54667783,\n",
       "        0.68623581, 0.69850191, 0.70104972, 0.70251433, 0.70298687,\n",
       "        0.70250656, 0.69669692, 0.6955807 , 0.69021903, 0.69021903,\n",
       "        0.68739822, 0.68616783, 0.68103362, 0.68019455, 0.68014972,\n",
       "        0.68014972, 0.67667925, 0.67431377, 0.66693269, 0.66447457,\n",
       "        0.70611202, 0.69991625, 0.69716918, 0.69667698, 0.69331511,\n",
       "        0.69651901, 0.69611433, 0.69789198, 0.69648557, 0.69134712,\n",
       "        0.68408029, 0.68069032, 0.68308066, 0.68068494, 0.67900813,\n",
       "        0.67239261, 0.67310482, 0.6727403 , 0.66536254, 0.66371232,\n",
       "        0.68851096, 0.71110735, 0.71490181, 0.71361963, 0.716337  ,\n",
       "        0.70356417, 0.69438987, 0.69328227, 0.68213192, 0.67373407,\n",
       "        0.67316278, 0.6720051 , 0.66315981, 0.66137768, 0.65759856,\n",
       "        0.65515277, 0.65083224, 0.63931279, 0.64378391, 0.64272838,\n",
       "        0.70346958, 0.70798539, 0.70324349, 0.6968283 , 0.69575085,\n",
       "        0.67923402, 0.66220973, 0.66575132, 0.64945353, 0.63571297,\n",
       "        0.64116014, 0.64269561, 0.63957956, 0.63866566, 0.63346015,\n",
       "        0.63470943, 0.62437007, 0.62087794, 0.62053102, 0.61972605,\n",
       "        0.7028293 , 0.69619955, 0.68924572, 0.67448505, 0.65392172,\n",
       "        0.64677659, 0.63074478, 0.62875329, 0.63597352, 0.63360483,\n",
       "        0.62879811, 0.62677041, 0.61997047, 0.62214741, 0.61738843,\n",
       "        0.61095387, 0.60591366, 0.60837196, 0.61609551, 0.61213643,\n",
       "        0.67856955, 0.68732979, 0.66242756, 0.63540037, 0.63387122,\n",
       "        0.63081705, 0.63026583, 0.6204679 , 0.62387093, 0.62785867,\n",
       "        0.63563333, 0.63045511, 0.63369194, 0.63107023, 0.63554297,\n",
       "        0.62406119, 0.6255834 , 0.63193968, 0.63351337, 0.63944626,\n",
       "        0.69002272, 0.66365762, 0.63255534, 0.61368545, 0.61678257,\n",
       "        0.62026363, 0.62325356, 0.62551659, 0.63181446, 0.63377008,\n",
       "        0.64011985, 0.63327773, 0.63424485, 0.63390197, 0.63885769,\n",
       "        0.64330259, 0.63756231, 0.62991492, 0.63141013, 0.62955155]),\n",
       " 'split3_test_score': array([0.21351627, 0.21351627, 0.21351627, 0.21351627, 0.21351627,\n",
       "        0.21351627, 0.21351627, 0.21351627, 0.21351627, 0.21351627,\n",
       "        0.21351627, 0.21351627, 0.21351627, 0.21351627, 0.21351627,\n",
       "        0.21351627, 0.21351627, 0.21351627, 0.21351627, 0.21351627,\n",
       "        0.21351627, 0.21351627, 0.21351627, 0.21351627, 0.21351627,\n",
       "        0.21351627, 0.21351627, 0.21351627, 0.21351627, 0.21351627,\n",
       "        0.21351627, 0.21351627, 0.21351627, 0.21351627, 0.21351627,\n",
       "        0.21351627, 0.21351627, 0.21351627, 0.21351627, 0.21351627,\n",
       "        0.21351627, 0.21351627, 0.21351627, 0.21351627, 0.21351627,\n",
       "        0.21351627, 0.21351627, 0.21351627, 0.21351627, 0.21351627,\n",
       "        0.21351627, 0.21351627, 0.21351627, 0.21351627, 0.21351627,\n",
       "        0.21351627, 0.21351627, 0.21351627, 0.21351627, 0.21351627,\n",
       "        0.21351627, 0.21351627, 0.21351627, 0.21351627, 0.21351627,\n",
       "        0.21351627, 0.21351627, 0.21351627, 0.21351627, 0.21351627,\n",
       "        0.21351627, 0.21351627, 0.21351627, 0.21351627, 0.21351627,\n",
       "        0.21351627, 0.21351627, 0.21351627, 0.21351627, 0.21351627,\n",
       "        0.3513594 , 0.37707814, 0.38470958, 0.38693794, 0.38881427,\n",
       "        0.39049489, 0.39030558, 0.38675407, 0.38470958, 0.38066512,\n",
       "        0.37534565, 0.36410158, 0.34907014, 0.34418498, 0.33184892,\n",
       "        0.32511614, 0.31840627, 0.31597571, 0.3043667 , 0.30459246,\n",
       "        0.40053841, 0.44506293, 0.49082872, 0.52867131, 0.53477055,\n",
       "        0.5449169 , 0.54773191, 0.54773191, 0.54773191, 0.5469794 ,\n",
       "        0.54658451, 0.53478618, 0.52880336, 0.52681464, 0.52431742,\n",
       "        0.51748266, 0.50728531, 0.5025541 , 0.50422226, 0.50216578,\n",
       "        0.55131665, 0.57143731, 0.58552981, 0.58670681, 0.58689837,\n",
       "        0.58712927, 0.58014393, 0.57575348, 0.57701055, 0.57867993,\n",
       "        0.57881691, 0.57881691, 0.57881691, 0.57042237, 0.56463883,\n",
       "        0.56463883, 0.56396995, 0.5617039 , 0.55032358, 0.5446482 ,\n",
       "        0.57329374, 0.59031405, 0.59100022, 0.58630034, 0.58797803,\n",
       "        0.58472306, 0.57886601, 0.57886601, 0.58547598, 0.58577338,\n",
       "        0.58309477, 0.58309477, 0.5808782 , 0.57290134, 0.55760331,\n",
       "        0.54284134, 0.54745415, 0.53667106, 0.53667106, 0.53368724,\n",
       "        0.58592542, 0.58497512, 0.5867268 , 0.6102962 , 0.60786152,\n",
       "        0.60579424, 0.60610033, 0.59493398, 0.58160509, 0.56478906,\n",
       "        0.56782571, 0.5612143 , 0.55493326, 0.54803496, 0.55415313,\n",
       "        0.54736335, 0.54779499, 0.53662688, 0.53736345, 0.53565459,\n",
       "        0.5907328 , 0.60305548, 0.60989754, 0.59686902, 0.57582105,\n",
       "        0.57008968, 0.57050639, 0.55794766, 0.54628585, 0.54573604,\n",
       "        0.54475098, 0.54171969, 0.54163659, 0.53279579, 0.52903897,\n",
       "        0.52359027, 0.52375068, 0.52449213, 0.52324991, 0.52279032,\n",
       "        0.59772489, 0.59323713, 0.57292455, 0.56513646, 0.55860408,\n",
       "        0.53749494, 0.53564759, 0.52093854, 0.51666798, 0.514524  ,\n",
       "        0.50496203, 0.50977825, 0.49505043, 0.49941842, 0.4889713 ,\n",
       "        0.4869414 , 0.48210218, 0.47758173, 0.47785501, 0.48239193,\n",
       "        0.59284073, 0.56378832, 0.55780723, 0.53379109, 0.53274217,\n",
       "        0.51820996, 0.50715979, 0.50399016, 0.50465484, 0.5034811 ,\n",
       "        0.49289431, 0.48786449, 0.49505865, 0.49427067, 0.50260568,\n",
       "        0.49555795, 0.47867648, 0.4760268 , 0.47814835, 0.48415905,\n",
       "        0.56635688, 0.55055591, 0.53459494, 0.52649179, 0.5041149 ,\n",
       "        0.50777319, 0.5140994 , 0.49921777, 0.48892994, 0.49216648,\n",
       "        0.49303476, 0.49263784, 0.48930347, 0.49640557, 0.50111552,\n",
       "        0.50774365, 0.49687215, 0.48627948, 0.48740367, 0.48933273]),\n",
       " 'split4_test_score': array([0.27741716, 0.27741716, 0.27741716, 0.27741716, 0.27741716,\n",
       "        0.27741716, 0.27741716, 0.27741716, 0.27741716, 0.27741716,\n",
       "        0.27741716, 0.27741716, 0.27741716, 0.27741716, 0.27741716,\n",
       "        0.27741716, 0.27741716, 0.27741716, 0.27741716, 0.27741716,\n",
       "        0.27741716, 0.27741716, 0.27741716, 0.27741716, 0.27741716,\n",
       "        0.27741716, 0.27741716, 0.27741716, 0.27741716, 0.27741716,\n",
       "        0.27741716, 0.27741716, 0.27741716, 0.27741716, 0.27741716,\n",
       "        0.27741716, 0.27741716, 0.27741716, 0.27741716, 0.27741716,\n",
       "        0.27741716, 0.27741716, 0.27741716, 0.27741716, 0.27741716,\n",
       "        0.27741716, 0.27741716, 0.27741716, 0.27741716, 0.27741716,\n",
       "        0.27741716, 0.27741716, 0.27741716, 0.27741716, 0.27741716,\n",
       "        0.27741716, 0.27741716, 0.27741716, 0.27741716, 0.27741716,\n",
       "        0.27741716, 0.27741716, 0.27741716, 0.27741716, 0.27741716,\n",
       "        0.27741716, 0.27741716, 0.27741716, 0.27741716, 0.27741716,\n",
       "        0.27741716, 0.27741716, 0.27741716, 0.27741716, 0.27741716,\n",
       "        0.27741716, 0.27741716, 0.27741716, 0.27741716, 0.27741716,\n",
       "        0.49336914, 0.5223921 , 0.52930304, 0.52933886, 0.52706635,\n",
       "        0.51540008, 0.51294867, 0.49604499, 0.48611187, 0.48108245,\n",
       "        0.47597438, 0.47604879, 0.47615979, 0.45487971, 0.44098718,\n",
       "        0.43114552, 0.41914753, 0.40345047, 0.37308066, 0.35811795,\n",
       "        0.58243017, 0.60947795, 0.61446146, 0.62469178, 0.62495069,\n",
       "        0.62017027, 0.61975782, 0.61612577, 0.6150941 , 0.60295908,\n",
       "        0.60295908, 0.59272178, 0.5768147 , 0.57351776, 0.56342067,\n",
       "        0.55160411, 0.55160411, 0.54915341, 0.5484338 , 0.54878956,\n",
       "        0.60851122, 0.63708349, 0.64281083, 0.64951352, 0.65593283,\n",
       "        0.65643448, 0.65829424, 0.65889029, 0.66168504, 0.66106661,\n",
       "        0.66384218, 0.66261474, 0.66384694, 0.66384694, 0.66331405,\n",
       "        0.6545146 , 0.65312876, 0.63986666, 0.63986666, 0.63986666,\n",
       "        0.63727212, 0.64935064, 0.65628029, 0.65721382, 0.65390689,\n",
       "        0.65475398, 0.65558625, 0.66157602, 0.66197101, 0.66495752,\n",
       "        0.66554964, 0.66554964, 0.66554964, 0.66557817, 0.65642866,\n",
       "        0.65642866, 0.65849071, 0.65791554, 0.65849071, 0.6563495 ,\n",
       "        0.64706194, 0.65966076, 0.65940464, 0.65939999, 0.67110915,\n",
       "        0.67235525, 0.67305966, 0.67694011, 0.66512268, 0.65445108,\n",
       "        0.65562876, 0.65622995, 0.65467125, 0.65448515, 0.65288698,\n",
       "        0.64997154, 0.65079052, 0.6540151 , 0.65071722, 0.65071722,\n",
       "        0.65440998, 0.66819703, 0.66639899, 0.67122335, 0.67367085,\n",
       "        0.66572955, 0.66769659, 0.66853967, 0.6626238 , 0.65640723,\n",
       "        0.64446699, 0.63899314, 0.63920346, 0.64427063, 0.64196087,\n",
       "        0.65124639, 0.65296756, 0.65211161, 0.65960629, 0.66479703,\n",
       "        0.66626113, 0.66819021, 0.67443786, 0.66751829, 0.67397636,\n",
       "        0.6539593 , 0.65098992, 0.64027621, 0.63814072, 0.63974228,\n",
       "        0.64114174, 0.65214641, 0.65785407, 0.65304733, 0.65468059,\n",
       "        0.65423759, 0.6540123 , 0.65257966, 0.65318188, 0.65037138,\n",
       "        0.6690971 , 0.67630452, 0.67137622, 0.66017455, 0.6484008 ,\n",
       "        0.6355604 , 0.63047334, 0.65725673, 0.65329031, 0.64569749,\n",
       "        0.64271129, 0.64764538, 0.6461524 , 0.64600678, 0.64829005,\n",
       "        0.64886104, 0.63597927, 0.63659828, 0.63535798, 0.63410828,\n",
       "        0.66343996, 0.67600149, 0.66770104, 0.65027187, 0.64654933,\n",
       "        0.65408844, 0.64575817, 0.63647472, 0.63176291, 0.63429369,\n",
       "        0.63761489, 0.63653273, 0.63569865, 0.63695163, 0.63390834,\n",
       "        0.63146651, 0.63483284, 0.63278576, 0.63194561, 0.61656991]),\n",
       " 'split5_test_score': array([0.34638827, 0.34638827, 0.34638827, 0.34638827, 0.34638827,\n",
       "        0.34638827, 0.34638827, 0.34638827, 0.34638827, 0.34638827,\n",
       "        0.34638827, 0.34638827, 0.34638827, 0.34638827, 0.34638827,\n",
       "        0.34638827, 0.34638827, 0.34638827, 0.34638827, 0.34638827,\n",
       "        0.34638827, 0.34638827, 0.34638827, 0.34638827, 0.34638827,\n",
       "        0.34638827, 0.34638827, 0.34638827, 0.34638827, 0.34638827,\n",
       "        0.34638827, 0.34638827, 0.34638827, 0.34638827, 0.34638827,\n",
       "        0.34638827, 0.34638827, 0.34638827, 0.34638827, 0.34638827,\n",
       "        0.34638827, 0.34638827, 0.34638827, 0.34638827, 0.34638827,\n",
       "        0.34638827, 0.34638827, 0.34638827, 0.34638827, 0.34638827,\n",
       "        0.34638827, 0.34638827, 0.34638827, 0.34638827, 0.34638827,\n",
       "        0.34638827, 0.34638827, 0.34638827, 0.34638827, 0.34638827,\n",
       "        0.34638827, 0.34638827, 0.34638827, 0.34638827, 0.34638827,\n",
       "        0.34638827, 0.34638827, 0.34638827, 0.34638827, 0.34638827,\n",
       "        0.34638827, 0.34638827, 0.34638827, 0.34638827, 0.34638827,\n",
       "        0.34638827, 0.34638827, 0.34638827, 0.34638827, 0.34638827,\n",
       "        0.55277816, 0.56010868, 0.56485199, 0.56105391, 0.559876  ,\n",
       "        0.55943324, 0.55845941, 0.55540437, 0.55023979, 0.53910485,\n",
       "        0.53058108, 0.52306762, 0.50812862, 0.50051033, 0.47597299,\n",
       "        0.46852863, 0.45513867, 0.44844688, 0.4259482 , 0.39050895,\n",
       "        0.58994772, 0.5926422 , 0.62959933, 0.64016335, 0.63549899,\n",
       "        0.63697761, 0.63010033, 0.62719725, 0.61998137, 0.61497374,\n",
       "        0.61497374, 0.61478606, 0.61478606, 0.61610516, 0.61289907,\n",
       "        0.60465795, 0.60441887, 0.60286302, 0.60286302, 0.59215798,\n",
       "        0.66981304, 0.67863797, 0.67850229, 0.66810784, 0.6688837 ,\n",
       "        0.6657697 , 0.66355382, 0.66548796, 0.66671688, 0.66690339,\n",
       "        0.66130663, 0.65583132, 0.64955249, 0.63983304, 0.63825968,\n",
       "        0.63825968, 0.63533058, 0.63661045, 0.63255243, 0.62596872,\n",
       "        0.68484787, 0.68380943, 0.68542013, 0.68483075, 0.68069148,\n",
       "        0.67716946, 0.67236111, 0.67274841, 0.66724847, 0.6679956 ,\n",
       "        0.6610084 , 0.66224232, 0.66385331, 0.66510885, 0.66510885,\n",
       "        0.66492382, 0.66839608, 0.66839608, 0.66450753, 0.66611694,\n",
       "        0.67978861, 0.69079733, 0.69303041, 0.68461943, 0.68657318,\n",
       "        0.68427698, 0.68318546, 0.68242117, 0.68084134, 0.67579914,\n",
       "        0.67579914, 0.67763362, 0.67151657, 0.66658846, 0.66658846,\n",
       "        0.66656491, 0.66837759, 0.67487696, 0.6755451 , 0.67359243,\n",
       "        0.69332137, 0.68806703, 0.68512057, 0.68596966, 0.69086419,\n",
       "        0.68227894, 0.67854939, 0.68430568, 0.68611481, 0.68257566,\n",
       "        0.6852614 , 0.68121738, 0.67266632, 0.67105908, 0.66731878,\n",
       "        0.66511243, 0.66433491, 0.65967705, 0.65607209, 0.65810486,\n",
       "        0.68415194, 0.69217329, 0.68998132, 0.69503681, 0.69163311,\n",
       "        0.68018227, 0.6767154 , 0.67694751, 0.67414743, 0.66764445,\n",
       "        0.67073845, 0.66259881, 0.66172487, 0.65904119, 0.66038022,\n",
       "        0.65210725, 0.63666881, 0.63390988, 0.63443414, 0.62489523,\n",
       "        0.69266952, 0.68848124, 0.69436748, 0.68478072, 0.67998469,\n",
       "        0.66959191, 0.66695015, 0.6525431 , 0.64522918, 0.63758922,\n",
       "        0.63532188, 0.62558263, 0.62059001, 0.61559471, 0.61321073,\n",
       "        0.62245095, 0.61673872, 0.60959136, 0.61524273, 0.61784684,\n",
       "        0.68142285, 0.68966719, 0.67648494, 0.65290615, 0.65361977,\n",
       "        0.62967279, 0.63346896, 0.61859936, 0.61302597, 0.60771375,\n",
       "        0.60033723, 0.60472825, 0.59842004, 0.59301866, 0.60181216,\n",
       "        0.60311425, 0.59820189, 0.59146287, 0.59638738, 0.58406553]),\n",
       " 'mean_test_score': array([0.25316322, 0.25316322, 0.25316322, 0.25316322, 0.25316322,\n",
       "        0.25316322, 0.25316322, 0.25316322, 0.25316322, 0.25316322,\n",
       "        0.25316322, 0.25316322, 0.25316322, 0.25316322, 0.25316322,\n",
       "        0.25316322, 0.25316322, 0.25316322, 0.25316322, 0.25316322,\n",
       "        0.25316322, 0.25316322, 0.25316322, 0.25316322, 0.25316322,\n",
       "        0.25316322, 0.25316322, 0.25316322, 0.25316322, 0.25316322,\n",
       "        0.25316322, 0.25316322, 0.25316322, 0.25316322, 0.25316322,\n",
       "        0.25316322, 0.25316322, 0.25316322, 0.25316322, 0.25316322,\n",
       "        0.25316322, 0.25316322, 0.25316322, 0.25316322, 0.25316322,\n",
       "        0.25316322, 0.25316322, 0.25316322, 0.25316322, 0.25316322,\n",
       "        0.25316322, 0.25316322, 0.25316322, 0.25316322, 0.25316322,\n",
       "        0.25316322, 0.25316322, 0.25316322, 0.25316322, 0.25316322,\n",
       "        0.25316322, 0.25316322, 0.25316322, 0.25316322, 0.25316322,\n",
       "        0.25316322, 0.25316322, 0.25316322, 0.25316322, 0.25316322,\n",
       "        0.25316322, 0.25316322, 0.25316322, 0.25316322, 0.25316322,\n",
       "        0.25316322, 0.25316322, 0.25316322, 0.25316322, 0.25316322,\n",
       "        0.42394383, 0.43998684, 0.44544723, 0.4467669 , 0.44642759,\n",
       "        0.44278781, 0.44063341, 0.43293659, 0.42841807, 0.419583  ,\n",
       "        0.41355607, 0.40925861, 0.40276365, 0.39502076, 0.38303587,\n",
       "        0.3742342 , 0.36263747, 0.35248791, 0.3347544 , 0.3186184 ,\n",
       "        0.48226158, 0.51368991, 0.54181425, 0.55678311, 0.55451691,\n",
       "        0.55342608, 0.55152344, 0.54792199, 0.54630124, 0.54000027,\n",
       "        0.5358264 , 0.53234986, 0.5264807 , 0.52307657, 0.51775416,\n",
       "        0.50883029, 0.5012381 , 0.4939553 , 0.49395251, 0.49193023,\n",
       "        0.56605867, 0.5779515 , 0.58331735, 0.58234843, 0.58384833,\n",
       "        0.58355833, 0.58186331, 0.58247053, 0.58288022, 0.58319626,\n",
       "        0.58184207, 0.58042234, 0.57831005, 0.57605011, 0.57451045,\n",
       "        0.57168057, 0.56949655, 0.56420349, 0.55934226, 0.55579426,\n",
       "        0.58238115, 0.58441644, 0.58461449, 0.58413929, 0.58306126,\n",
       "        0.58197498, 0.58085348, 0.58052762, 0.58006683, 0.58217653,\n",
       "        0.57954556, 0.57881817, 0.5790034 , 0.57748864, 0.57313459,\n",
       "        0.57038475, 0.57213151, 0.56973423, 0.56738109, 0.56657702,\n",
       "        0.58149869, 0.58827242, 0.58921004, 0.59181067, 0.59193865,\n",
       "        0.58753136, 0.5864886 , 0.58557988, 0.57796401, 0.57148148,\n",
       "        0.57212913, 0.57209241, 0.56741597, 0.5658669 , 0.56461559,\n",
       "        0.56339052, 0.56170403, 0.55955263, 0.56061389, 0.55958079,\n",
       "        0.58758979, 0.59002965, 0.58695989, 0.5846422 , 0.57999352,\n",
       "        0.57289607, 0.56952704, 0.56972214, 0.56266824, 0.55910386,\n",
       "        0.55654163, 0.55593143, 0.55407289, 0.55348166, 0.54956618,\n",
       "        0.54907459, 0.54693905, 0.54556493, 0.54571863, 0.54718744,\n",
       "        0.58884809, 0.58415821, 0.57734017, 0.57204788, 0.56707879,\n",
       "        0.55815432, 0.55393191, 0.54809133, 0.54593814, 0.54265683,\n",
       "        0.53903514, 0.53878475, 0.53760296, 0.53595419, 0.53241969,\n",
       "        0.52834924, 0.52513102, 0.52504747, 0.52688509, 0.52366983,\n",
       "        0.58100007, 0.57438617, 0.56831788, 0.55980848, 0.55454639,\n",
       "        0.54302679, 0.53848716, 0.53562159, 0.53207405, 0.53326693,\n",
       "        0.52968731, 0.52723623, 0.52953103, 0.52667939, 0.52969216,\n",
       "        0.53011214, 0.52125775, 0.5194089 , 0.51860553, 0.5214001 ,\n",
       "        0.57264891, 0.56816799, 0.55790343, 0.54245779, 0.53336175,\n",
       "        0.53052652, 0.53184233, 0.52572026, 0.52431176, 0.52365115,\n",
       "        0.52330367, 0.52278245, 0.51758856, 0.51623734, 0.51992668,\n",
       "        0.52182483, 0.51753284, 0.5146564 , 0.51649707, 0.51049329]),\n",
       " 'std_test_score': array([0.08961857, 0.08961857, 0.08961857, 0.08961857, 0.08961857,\n",
       "        0.08961857, 0.08961857, 0.08961857, 0.08961857, 0.08961857,\n",
       "        0.08961857, 0.08961857, 0.08961857, 0.08961857, 0.08961857,\n",
       "        0.08961857, 0.08961857, 0.08961857, 0.08961857, 0.08961857,\n",
       "        0.08961857, 0.08961857, 0.08961857, 0.08961857, 0.08961857,\n",
       "        0.08961857, 0.08961857, 0.08961857, 0.08961857, 0.08961857,\n",
       "        0.08961857, 0.08961857, 0.08961857, 0.08961857, 0.08961857,\n",
       "        0.08961857, 0.08961857, 0.08961857, 0.08961857, 0.08961857,\n",
       "        0.08961857, 0.08961857, 0.08961857, 0.08961857, 0.08961857,\n",
       "        0.08961857, 0.08961857, 0.08961857, 0.08961857, 0.08961857,\n",
       "        0.08961857, 0.08961857, 0.08961857, 0.08961857, 0.08961857,\n",
       "        0.08961857, 0.08961857, 0.08961857, 0.08961857, 0.08961857,\n",
       "        0.08961857, 0.08961857, 0.08961857, 0.08961857, 0.08961857,\n",
       "        0.08961857, 0.08961857, 0.08961857, 0.08961857, 0.08961857,\n",
       "        0.08961857, 0.08961857, 0.08961857, 0.08961857, 0.08961857,\n",
       "        0.08961857, 0.08961857, 0.08961857, 0.08961857, 0.08961857,\n",
       "        0.09990192, 0.10020631, 0.10025243, 0.0999818 , 0.09948693,\n",
       "        0.09859355, 0.09934609, 0.10002712, 0.09955019, 0.10242334,\n",
       "        0.10257232, 0.10256199, 0.10202722, 0.09997928, 0.09794448,\n",
       "        0.10007956, 0.10131999, 0.10124253, 0.10311819, 0.10285287,\n",
       "        0.09529708, 0.10028684, 0.10904468, 0.11351676, 0.11282432,\n",
       "        0.11275997, 0.11482593, 0.11165577, 0.11096181, 0.10821639,\n",
       "        0.10623818, 0.10374653, 0.10079663, 0.10027149, 0.09863092,\n",
       "        0.09484421, 0.09470958, 0.0953693 , 0.09540291, 0.09443521,\n",
       "        0.12155504, 0.12385405, 0.12332196, 0.12301212, 0.12377551,\n",
       "        0.12336046, 0.12228615, 0.12119389, 0.12074002, 0.1206244 ,\n",
       "        0.11993593, 0.11812514, 0.11692717, 0.11621892, 0.11563657,\n",
       "        0.11737954, 0.11760879, 0.11999762, 0.11923159, 0.11963184,\n",
       "        0.12291628, 0.12487423, 0.12769169, 0.12841947, 0.12656909,\n",
       "        0.126749  , 0.12559862, 0.12692271, 0.12528359, 0.12193157,\n",
       "        0.1194212 , 0.11917371, 0.12016623, 0.11999037, 0.11886635,\n",
       "        0.11816217, 0.11877575, 0.11916763, 0.11776041, 0.11760621,\n",
       "        0.12348363, 0.13059723, 0.13198745, 0.13017629, 0.13351782,\n",
       "        0.13139592, 0.12842409, 0.12688714, 0.12566115, 0.12288296,\n",
       "        0.12316669, 0.12278249, 0.12094849, 0.11888703, 0.11882892,\n",
       "        0.11766101, 0.11730487, 0.11794099, 0.11792301, 0.1171492 ,\n",
       "        0.12953966, 0.13126726, 0.13144004, 0.13201796, 0.13455172,\n",
       "        0.13198695, 0.12836919, 0.12863716, 0.1280355 , 0.12546698,\n",
       "        0.12528471, 0.12064192, 0.11847526, 0.11763827, 0.11776902,\n",
       "        0.11907804, 0.11834991, 0.11577893, 0.11596901, 0.11603178,\n",
       "        0.12860318, 0.13191538, 0.13470649, 0.13413746, 0.13145714,\n",
       "        0.12495759, 0.12310676, 0.12042755, 0.12184622, 0.1207234 ,\n",
       "        0.12281376, 0.1230861 , 0.12139202, 0.12076478, 0.12288143,\n",
       "        0.12230978, 0.1184902 , 0.1163208 , 0.11693016, 0.11514304,\n",
       "        0.12933522, 0.1344127 , 0.13213316, 0.12470956, 0.12134315,\n",
       "        0.1194782 , 0.11981904, 0.12219664, 0.12243104, 0.11620693,\n",
       "        0.11854598, 0.11756883, 0.11499153, 0.11509254, 0.11489328,\n",
       "        0.11378638, 0.11495283, 0.11633479, 0.11952383, 0.12070964,\n",
       "        0.13239203, 0.13134353, 0.12382971, 0.11698506, 0.12011142,\n",
       "        0.11806159, 0.11587296, 0.11262388, 0.1104804 , 0.11189452,\n",
       "        0.11401663, 0.11446099, 0.1171043 , 0.11907106, 0.11900004,\n",
       "        0.11795241, 0.11905973, 0.11494454, 0.11494453, 0.11264405]),\n",
       " 'rank_test_score': array([181, 181, 181, 181, 181, 181, 181, 181, 181, 181, 181, 181, 181,\n",
       "        181, 181, 181, 181, 181, 181, 181, 181, 181, 181, 181, 181, 181,\n",
       "        181, 181, 181, 181, 181, 181, 181, 181, 181, 181, 181, 181, 181,\n",
       "        181, 181, 181, 181, 181, 181, 181, 181, 181, 181, 181, 181, 181,\n",
       "        181, 181, 181, 181, 181, 181, 181, 181, 181, 181, 181, 181, 181,\n",
       "        181, 181, 181, 181, 181, 181, 181, 181, 181, 181, 181, 181, 181,\n",
       "        181, 181, 169, 166, 163, 161, 162, 164, 165, 167, 168, 170, 171,\n",
       "        172, 173, 174, 175, 176, 177, 178, 179, 180, 160, 153, 107,  83,\n",
       "         88,  92,  93,  97, 100, 108, 114, 119, 131, 139, 147, 155, 156,\n",
       "        157, 158, 159,  68,  42,  19,  25,  17,  18,  28,  23,  22,  20,\n",
       "         29,  34,  40,  45,  46,  55,  61,  71,  79,  86,  24,  14,  13,\n",
       "         16,  21,  27,  32,  33,  35,  26,  37,  39,  38,  43,  48,  57,\n",
       "         51,  58,  65,  67,  30,   6,   4,   2,   1,   8,  10,  11,  41,\n",
       "         56,  52,  53,  64,  69,  70,  72,  74,  78,  75,  77,   7,   3,\n",
       "          9,  12,  36,  49,  60,  59,  73,  80,  84,  85,  89,  91,  94,\n",
       "         95,  99, 103, 102,  98,   5,  15,  44,  54,  66,  81,  90,  96,\n",
       "        101, 105, 109, 110, 112, 113, 118, 127, 133, 134, 129, 136,  31,\n",
       "         47,  62,  76,  87, 104, 111, 115, 120, 117, 125, 128, 126, 130,\n",
       "        124, 123, 143, 145, 146, 142,  50,  63,  82, 106, 116, 122, 121,\n",
       "        132, 135, 137, 138, 140, 148, 151, 144, 141, 149, 152, 150, 154],\n",
       "       dtype=int32)}"
      ]
     },
     "execution_count": 116,
     "metadata": {},
     "output_type": "execute_result"
    }
   ],
   "source": [
    "clf.cv_results_"
   ]
  },
  {
   "cell_type": "markdown",
   "metadata": {},
   "source": [
    "Let's see how we do on each well as we omit it from the training in turn:"
   ]
  },
  {
   "cell_type": "code",
   "execution_count": 117,
   "metadata": {},
   "outputs": [
    {
     "name": "stdout",
     "output_type": "stream",
     "text": [
      " CHURCHMAN BIBLE ... 0.3713\n",
      "  CROSS H CATTLE ... 0.2822\n",
      "        LUKE G U ... 0.5550\n",
      "           NEWBY ... 0.4256\n",
      "           NOLAN ... 0.5184\n",
      "       SHRIMPLIN ... 0.5484\n"
     ]
    }
   ],
   "source": [
    "for i, well in enumerate(np.unique(wells)):\n",
    "    scores = clf.cv_results_[f'split{i}_test_score']\n",
    "    print(f\"{well:>16s} ... {np.mean(scores):.4f}\")"
   ]
  },
  {
   "cell_type": "markdown",
   "metadata": {},
   "source": [
    "How does the parameter space look with respect to the score of the classifier?"
   ]
  },
  {
   "cell_type": "markdown",
   "metadata": {
    "tags": [
     "hide"
    ]
   },
   "source": [
    "This works for one log-distributed property, e.g. C."
   ]
  },
  {
   "cell_type": "code",
   "execution_count": 127,
   "metadata": {},
   "outputs": [
    {
     "data": {
      "text/plain": [
       "<matplotlib.colorbar.Colorbar at 0x7fbc4a5be040>"
      ]
     },
     "execution_count": 127,
     "metadata": {},
     "output_type": "execute_result"
    },
    {
     "data": {
      "image/png": "[encoded data removed]",
      "text/plain": [
       "<Figure size 720x432 with 2 Axes>"
      ]
     },
     "metadata": {
      "needs_background": "light"
     },
     "output_type": "display_data"
    }
   ],
   "source": [
    "scores = clf.cv_results_['mean_test_score']\n",
    "shape = [len(s) for s in param_grid.values()][:2]\n",
    "ys = list(param_grid.values())[0]\n",
    "xs = list(param_grid.values())[1]\n",
    "X,Y = np.meshgrid(xs, ys)\n",
    "Z = scores.reshape(shape)\n",
    "\n",
    "plt.figure(figsize=(10, 6))\n",
    "plt.pcolormesh(X, Y, Z, shading='auto', ec='w')\n",
    "plt.yscale('log')\n",
    "plt.ylim(1e-2, 1e2)\n",
    "plt.plot(list(clf.best_params_.values())[1],\n",
    "        list(clf.best_params_.values())[0],\n",
    "        'ro')\n",
    "plt.colorbar()"
   ]
  },
  {
   "cell_type": "code",
   "execution_count": 119,
   "metadata": {
    "tags": [
     "hide"
    ]
   },
   "outputs": [
    {
     "data": {
      "text/plain": [
       "[<matplotlib.lines.Line2D at 0x7fbc6031e670>]"
      ]
     },
     "execution_count": 119,
     "metadata": {},
     "output_type": "execute_result"
    },
    {
     "data": {
      "image/png": "[encoded data removed]",
      "text/plain": [
       "<Figure size 1440x936 with 1 Axes>"
      ]
     },
     "metadata": {
      "needs_background": "light"
     },
     "output_type": "display_data"
    }
   ],
   "source": [
    "scores = clf.cv_results_['mean_test_score']\n",
    "\n",
    "shape = [len(s) for s in param_grid.values()][:2]\n",
    "minx, *_, maxx = list(param_grid.values())[1]\n",
    "miny, *_, maxy = list(param_grid.values())[0]\n",
    "\n",
    "fig, ax = plt.subplots(figsize=shape[::-1])\n",
    "im = ax.imshow(scores.reshape(shape),\n",
    "               origin='lower',\n",
    "               extent=[minx-0.5, maxx+0.5, miny-0.5, maxy+0.5],\n",
    "               interpolation='none',\n",
    "               aspect='auto',\n",
    "               cmap='viridis')\n",
    "ax.set_xlabel(list(clf.best_params_.keys())[1].split('__')[1])\n",
    "ax.set_ylabel(list(clf.best_params_.keys())[0].split('__')[1])\n",
    "ax.plot(list(clf.best_params_.values())[1],\n",
    "        list(clf.best_params_.values())[0],\n",
    "        'ro')"
   ]
  },
  {
   "cell_type": "markdown",
   "metadata": {},
   "source": [
    "`clf` can now tell us the best parameters to use with our `SVC` classifier:"
   ]
  },
  {
   "cell_type": "code",
   "execution_count": 120,
   "metadata": {},
   "outputs": [
    {
     "data": {
      "text/plain": [
       "{'svc__C': 1.0, 'svc__gamma': 0.25}"
      ]
     },
     "execution_count": 120,
     "metadata": {},
     "output_type": "execute_result"
    }
   ],
   "source": [
    "clf.best_params_"
   ]
  },
  {
   "cell_type": "code",
   "execution_count": 121,
   "metadata": {},
   "outputs": [
    {
     "data": {
      "text/plain": [
       "Pipeline(memory=None,\n",
       "         steps=[('scaler',\n",
       "                 StandardScaler(copy=True, with_mean=True, with_std=True)),\n",
       "                ('svc',\n",
       "                 SVC(C=1.0, break_ties=False, cache_size=200, class_weight=None,\n",
       "                     coef0=0.0, decision_function_shape='ovr', degree=3,\n",
       "                     gamma=0.25, kernel='rbf', max_iter=-1, probability=False,\n",
       "                     random_state=None, shrinking=True, tol=0.001,\n",
       "                     verbose=False))],\n",
       "         verbose=False)"
      ]
     },
     "execution_count": 121,
     "metadata": {},
     "output_type": "execute_result"
    }
   ],
   "source": [
    "clf.best_estimator_"
   ]
  },
  {
   "cell_type": "code",
   "execution_count": 122,
   "metadata": {},
   "outputs": [
    {
     "data": {
      "text/plain": [
       "0.591938648735305"
      ]
     },
     "execution_count": 122,
     "metadata": {},
     "output_type": "execute_result"
    }
   ],
   "source": [
    "clf.best_score_"
   ]
  },
  {
   "cell_type": "markdown",
   "metadata": {},
   "source": [
    "## Test the model"
   ]
  },
  {
   "cell_type": "markdown",
   "metadata": {},
   "source": [
    "Now might be a good time to check our **test** set — the one we reserved at the start. How might our model do on this dataset?"
   ]
  },
  {
   "cell_type": "code",
   "execution_count": 123,
   "metadata": {},
   "outputs": [
    {
     "data": {
      "text/plain": [
       "0.524481354036701"
      ]
     },
     "execution_count": 123,
     "metadata": {},
     "output_type": "execute_result"
    }
   ],
   "source": [
    "from sklearn.metrics import f1_score\n",
    "\n",
    "f1_score(y_test, clf.predict(X_test), average='weighted')"
   ]
  },
  {
   "cell_type": "markdown",
   "metadata": {},
   "source": [
    "We get a similar result to what we were getting in validation. That's good.\n",
    "\n",
    "The pipeline is convenient whenever we have multiple steps in the prediction workflow, because it ensures we'll be consistent and makes it easier to save the model (below)."
   ]
  },
  {
   "cell_type": "markdown",
   "metadata": {},
   "source": [
    "## Training the final model\n",
    "\n",
    "Now that we have selected the model we want to use, we should retrain it on all of the data.\n",
    "\n",
    "NB We could omit the scaling step for a random forest. But it doesn't do any harm..."
   ]
  },
  {
   "cell_type": "code",
   "execution_count": 104,
   "metadata": {},
   "outputs": [],
   "source": [
    "X = np.vstack([X_train, X_test])\n",
    "y = np.hstack([y_train, y_test])\n",
    "\n",
    "model = clf.best_estimator_.fit(X, y)"
   ]
  },
  {
   "cell_type": "markdown",
   "metadata": {},
   "source": [
    "We don't have anything to test this on, but we expect it to achieve similar performance to that against the test set."
   ]
  },
  {
   "cell_type": "markdown",
   "metadata": {},
   "source": [
    "## Model persistence\n",
    "\n",
    "Often, we'd like to save the trained model, to go and apply it in some other application, or to share with someone else. The easiest way to save most models is as a Python 'pickle' object:"
   ]
  },
  {
   "cell_type": "code",
   "execution_count": 105,
   "metadata": {},
   "outputs": [
    {
     "data": {
      "text/plain": [
       "['facies_pipeline.pkl']"
      ]
     },
     "execution_count": 105,
     "metadata": {},
     "output_type": "execute_result"
    }
   ],
   "source": [
    "import joblib\n",
    "\n",
    "joblib.dump(model, 'facies_pipeline.pkl')"
   ]
  },
  {
   "cell_type": "markdown",
   "metadata": {},
   "source": [
    "## Model application"
   ]
  },
  {
   "cell_type": "markdown",
   "metadata": {},
   "source": [
    "How do you load and use a saved model?"
   ]
  },
  {
   "cell_type": "code",
   "execution_count": 106,
   "metadata": {},
   "outputs": [],
   "source": [
    "model = joblib.load('facies_pipeline.pkl')"
   ]
  },
  {
   "cell_type": "code",
   "execution_count": 107,
   "metadata": {},
   "outputs": [
    {
     "data": {
      "text/plain": [
       "{'scaler': StandardScaler(copy=True, with_mean=True, with_std=True),\n",
       " 'svc': SVC(C=1.0, break_ties=False, cache_size=200, class_weight=None, coef0=0.0,\n",
       "     decision_function_shape='ovr', degree=3, gamma=0.2, kernel='rbf',\n",
       "     max_iter=-1, probability=False, random_state=None, shrinking=True,\n",
       "     tol=0.001, verbose=False)}"
      ]
     },
     "execution_count": 107,
     "metadata": {},
     "output_type": "execute_result"
    }
   ],
   "source": [
    "model.named_steps"
   ]
  },
  {
   "cell_type": "markdown",
   "metadata": {},
   "source": [
    "Now you can load some data:\n",
    "\n",
    "    df = pd.read_csv('..some_new_data_you_have_collected.csv')\n",
    "  \n",
    "Then extract the relevant features and cast it as a 2D array:\n",
    "\n",
    "    X_new = df[['GR','RHOB','PE','ILD_log10']].values\n",
    "\n",
    "Now pass the matrix `X_new` into the classifier's predict method:\n",
    "\n",
    "    y_pred = model.predict(X_new)\n",
    "\n",
    "And you're done!"
   ]
  },
  {
   "cell_type": "markdown",
   "metadata": {},
   "source": [
    "<hr />\n",
    "\n",
    "<p style=\"color:gray\">©2021&ndash;2022 Agile Geoscience. Licensed CC-BY.</p>"
   ]
  }
 ],
 "metadata": {
  "anaconda-cloud": {},
  "celltoolbar": "Tags",
  "kernelspec": {
   "display_name": "py39",
   "language": "python",
   "name": "py39"
  },
  "language_info": {
   "codemirror_mode": {
    "name": "ipython",
    "version": 3
   },
   "file_extension": ".py",
   "mimetype": "text/x-python",
   "name": "python",
   "nbconvert_exporter": "python",
   "pygments_lexer": "ipython3",
   "version": "3.9.7"
  }
 },
 "nbformat": 4,
 "nbformat_minor": 4
}
