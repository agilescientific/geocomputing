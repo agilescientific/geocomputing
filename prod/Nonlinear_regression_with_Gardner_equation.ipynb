{
 "cells": [
  {
   "cell_type": "markdown",
   "id": "57759deb",
   "metadata": {},
   "source": [
    "# Nonlinear regression with the Gardner equation\n",
    "\n",
    "We'd like to fit the parameters of a known function, the so-called [Gardner equation](https://www.subsurfwiki.org/wiki/Gardner%27s_equation):\n",
    "\n",
    "$$ \\rho = \\alpha \\ V_\\mathrm{P}^{\\,\\beta}\\ \\ \\mathrm{kg}/\\mathrm{m}^3 $$\n",
    "\n",
    "Where $\\alpha$ and $\\beta$ are parameters to fit.\n",
    "\n",
    "## Load some data\n",
    "\n",
    "First let's load some data:"
   ]
  },
  {
   "cell_type": "code",
   "execution_count": 1,
   "id": "0572cfe5",
   "metadata": {},
   "outputs": [
    {
     "data": {
      "text/html": [
       "<div>\n",
       "<style scoped>\n",
       "    .dataframe tbody tr th:only-of-type {\n",
       "        vertical-align: middle;\n",
       "    }\n",
       "\n",
       "    .dataframe tbody tr th {\n",
       "        vertical-align: top;\n",
       "    }\n",
       "\n",
       "    .dataframe thead th {\n",
       "        text-align: right;\n",
       "    }\n",
       "</style>\n",
       "<table border=\"1\" class=\"dataframe\">\n",
       "  <thead>\n",
       "    <tr style=\"text-align: right;\">\n",
       "      <th></th>\n",
       "      <th>Vp</th>\n",
       "      <th>Vs</th>\n",
       "      <th>rho</th>\n",
       "      <th>Lithology</th>\n",
       "    </tr>\n",
       "  </thead>\n",
       "  <tbody>\n",
       "    <tr>\n",
       "      <th>0</th>\n",
       "      <td>3045.6</td>\n",
       "      <td>1595.7</td>\n",
       "      <td>2.109121</td>\n",
       "      <td>sandstone</td>\n",
       "    </tr>\n",
       "    <tr>\n",
       "      <th>1</th>\n",
       "      <td>3000.6</td>\n",
       "      <td>1517.1</td>\n",
       "      <td>2.090342</td>\n",
       "      <td>sandstone</td>\n",
       "    </tr>\n",
       "    <tr>\n",
       "      <th>2</th>\n",
       "      <td>3363.6</td>\n",
       "      <td>2041.5</td>\n",
       "      <td>2.131990</td>\n",
       "      <td>sandstone</td>\n",
       "    </tr>\n",
       "    <tr>\n",
       "      <th>3</th>\n",
       "      <td>3195.3</td>\n",
       "      <td>1606.2</td>\n",
       "      <td>2.184939</td>\n",
       "      <td>sandstone</td>\n",
       "    </tr>\n",
       "    <tr>\n",
       "      <th>4</th>\n",
       "      <td>4237.5</td>\n",
       "      <td>2448.6</td>\n",
       "      <td>2.472231</td>\n",
       "      <td>sandstone</td>\n",
       "    </tr>\n",
       "  </tbody>\n",
       "</table>\n",
       "</div>"
      ],
      "text/plain": [
       "       Vp      Vs       rho  Lithology\n",
       "0  3045.6  1595.7  2.109121  sandstone\n",
       "1  3000.6  1517.1  2.090342  sandstone\n",
       "2  3363.6  2041.5  2.131990  sandstone\n",
       "3  3195.3  1606.2  2.184939  sandstone\n",
       "4  4237.5  2448.6  2.472231  sandstone"
      ]
     },
     "execution_count": 1,
     "metadata": {},
     "output_type": "execute_result"
    }
   ],
   "source": [
    "import pandas as pd\n",
    "\n",
    "df = pd.read_csv('https://geocomp.s3.amazonaws.com/data/RPC_simple.csv')\n",
    "\n",
    "df.head()"
   ]
  },
  {
   "cell_type": "markdown",
   "id": "94036420",
   "metadata": {
    "tags": [
     "exercise"
    ]
   },
   "source": [
    "### EXERCISE\n",
    "\n",
    "We need to get the independent data (`x`) and dependent data (`y`) out of here, multiplying `y` by 1000 to convert from units of g/cm<sup>3</sup> to the kg/m<sup>3</sup> required by the equation.\n",
    "\n",
    "Assign the Vp values to `x` and the rescaled `rho` values to `y`:"
   ]
  },
  {
   "cell_type": "code",
   "execution_count": null,
   "id": "6dc2be8f",
   "metadata": {},
   "outputs": [],
   "source": [
    "# YOUR CODE HERE\n",
    "\n"
   ]
  },
  {
   "cell_type": "code",
   "execution_count": 21,
   "id": "6a9b85a3",
   "metadata": {
    "tags": [
     "hide"
    ]
   },
   "outputs": [
    {
     "data": {
      "text/plain": [
       "((200,), (200,))"
      ]
     },
     "execution_count": 21,
     "metadata": {},
     "output_type": "execute_result"
    }
   ],
   "source": [
    "x = df.loc[df['Lithology']=='shale', 'Vp'].values\n",
    "y = df.loc[df['Lithology']=='shale', 'rho'].values * 1000\n",
    "\n",
    "x.shape, y.shape"
   ]
  },
  {
   "cell_type": "markdown",
   "id": "a4b40e94",
   "metadata": {},
   "source": [
    "### EXERCISE\n",
    "\n",
    "Make a scatter plot of `y` vs `x`."
   ]
  },
  {
   "cell_type": "code",
   "execution_count": 32,
   "id": "923671f1",
   "metadata": {},
   "outputs": [],
   "source": [
    "# YOUR CODE HERE\n",
    "\n"
   ]
  },
  {
   "cell_type": "code",
   "execution_count": 22,
   "id": "9996e6e0",
   "metadata": {
    "tags": [
     "hide"
    ]
   },
   "outputs": [
    {
     "data": {
      "text/plain": [
       "<matplotlib.collections.PathCollection at 0x7fb01f85e430>"
      ]
     },
     "execution_count": 22,
     "metadata": {},
     "output_type": "execute_result"
    },
    {
     "data": {
      "image/png": "[encoded data removed]",
      "text/plain": [
       "<Figure size 432x288 with 1 Axes>"
      ]
     },
     "metadata": {
      "needs_background": "light"
     },
     "output_type": "display_data"
    }
   ],
   "source": [
    "import matplotlib.pyplot as plt\n",
    "\n",
    "plt.scatter(x, y)"
   ]
  },
  {
   "cell_type": "markdown",
   "id": "fceaa65c",
   "metadata": {
    "tags": [
     "exercise"
    ]
   },
   "source": [
    "### EXERCISE\n",
    "\n",
    "Write a function implementing the Gardner equation:\n",
    "\n",
    "$$ \\rho = 310\\ V_\\mathrm{P}^{\\,0.25}\\ \\ \\mathrm{kg}/\\mathrm{m}^3 $$\n",
    "\n",
    "Make your function take Vp as a required argument, and two optional arguments, `alpha` and `beta`, with default values of 310 and 0.25 respectively. "
   ]
  },
  {
   "cell_type": "code",
   "execution_count": null,
   "id": "487c895b",
   "metadata": {},
   "outputs": [],
   "source": [
    "# YOUR CODE HERE\n",
    "\n"
   ]
  },
  {
   "cell_type": "code",
   "execution_count": 31,
   "id": "08b159ac",
   "metadata": {
    "tags": [
     "hide"
    ]
   },
   "outputs": [],
   "source": [
    "def gardner(vp, alpha=310, beta=0.25):\n",
    "    \"\"\"Estimate rhob from vp\"\"\"\n",
    "    return alpha * vp**beta"
   ]
  },
  {
   "cell_type": "markdown",
   "id": "e7b38750",
   "metadata": {
    "tags": [
     "exercise"
    ]
   },
   "source": [
    "### EXERCISE\n",
    "\n",
    "Plot the data again, this time overplotting the Gardner relationship using the default values for `alpha` and `beta`. "
   ]
  },
  {
   "cell_type": "code",
   "execution_count": null,
   "id": "858ddf22",
   "metadata": {},
   "outputs": [],
   "source": [
    "# YOR CODE HERE\n",
    "\n"
   ]
  },
  {
   "cell_type": "code",
   "execution_count": 26,
   "id": "cca71854",
   "metadata": {
    "tags": [
     "hide"
    ]
   },
   "outputs": [
    {
     "data": {
      "text/plain": [
       "[<matplotlib.lines.Line2D at 0x7fb01f737e80>]"
      ]
     },
     "execution_count": 26,
     "metadata": {},
     "output_type": "execute_result"
    },
    {
     "data": {
      "image/png": "[encoded data removed]",
      "text/plain": [
       "<Figure size 432x288 with 1 Axes>"
      ]
     },
     "metadata": {
      "needs_background": "light"
     },
     "output_type": "display_data"
    }
   ],
   "source": [
    "import numpy as np\n",
    "\n",
    "vp_mod = np.linspace(1500, 5500)\n",
    "rhob_mod = gardner(vp_mod)\n",
    "\n",
    "plt.scatter(x, y)\n",
    "plt.plot(vp_mod, rhob_mod, c='red')"
   ]
  },
  {
   "cell_type": "markdown",
   "id": "93705861",
   "metadata": {},
   "source": [
    "## Using `scipy.optimize`\n",
    "\n",
    "This package fits any number of parameters to an arbitrary function."
   ]
  },
  {
   "cell_type": "code",
   "execution_count": 39,
   "id": "ab0974a8",
   "metadata": {},
   "outputs": [],
   "source": [
    "from scipy.optimize import curve_fit\n",
    "\n",
    "popt, pcov = curve_fit(gardner, x, y)"
   ]
  },
  {
   "cell_type": "code",
   "execution_count": 40,
   "id": "74d3c349",
   "metadata": {},
   "outputs": [
    {
     "data": {
      "text/plain": [
       "[<matplotlib.lines.Line2D at 0x7fb01cf15c70>]"
      ]
     },
     "execution_count": 40,
     "metadata": {},
     "output_type": "execute_result"
    },
    {
     "data": {
      "image/png": "[encoded data removed]",
      "text/plain": [
       "<Figure size 432x288 with 1 Axes>"
      ]
     },
     "metadata": {
      "needs_background": "light"
     },
     "output_type": "display_data"
    }
   ],
   "source": [
    "vp_mod = np.linspace(1500, 5500)\n",
    "rhob_mod = gardner(vp_mod, *popt)\n",
    "\n",
    "plt.scatter(x, y)\n",
    "plt.plot(vp_mod, rhob_mod, c='red')"
   ]
  },
  {
   "cell_type": "markdown",
   "id": "65af0edd",
   "metadata": {},
   "source": [
    "That looks pretty good.\n",
    "\n",
    "The only thing we might not like is that it's completely outside our Scikit-Learn ecosystem, so we might have to fiddle about a bit to include it in our model selection workflow.\n",
    "\n",
    "Let's see how to make a Scikit-Learn class that will achieve the same thing, but wrap it up as an `sklearn` estimator."
   ]
  },
  {
   "cell_type": "markdown",
   "id": "0f06a028",
   "metadata": {},
   "source": [
    "## Using `sklearn.base.BaseEstimator`\n",
    "\n",
    "**Note** there are other functions in `sklearn.utils.validation`, such as `check_X_y()` and `check_array()` that you would normally want to use. They don't make sense for us, because we want `X` to be a scalar or 1D array. But if we want to play nicely with other `sklearn` utilities, we'll probably find that we have to expect 2D arrays for `X`."
   ]
  },
  {
   "cell_type": "code",
   "execution_count": 67,
   "id": "750acab9",
   "metadata": {},
   "outputs": [],
   "source": [
    "import numpy as np\n",
    "from sklearn.base import BaseEstimator, RegressorMixin\n",
    "from sklearn.utils.validation import check_is_fitted\n",
    "from scipy.optimize import curve_fit\n",
    "\n",
    "\n",
    "class GardnerEstimator(BaseEstimator, RegressorMixin):\n",
    "    \"\"\"\n",
    "    Minimalist example to give our workflow a scikit-learn interface.\n",
    "    \"\"\"\n",
    "    def fit(self, X, y):\n",
    "        self.coef_, _ = curve_fit(gardner, X, y)\n",
    "        return self\n",
    "\n",
    "    def predict(self, X):\n",
    "        check_is_fitted(self)\n",
    "        return gardner(X, *self.coef_)"
   ]
  },
  {
   "cell_type": "code",
   "execution_count": 68,
   "id": "324d85cf",
   "metadata": {},
   "outputs": [
    {
     "data": {
      "text/plain": [
       "[<matplotlib.lines.Line2D at 0x7fb01cfed8e0>]"
      ]
     },
     "execution_count": 68,
     "metadata": {},
     "output_type": "execute_result"
    },
    {
     "data": {
      "image/png": "[encoded data removed]",
      "text/plain": [
       "<Figure size 432x288 with 1 Axes>"
      ]
     },
     "metadata": {
      "needs_background": "light"
     },
     "output_type": "display_data"
    }
   ],
   "source": [
    "model = GardnerEstimator()\n",
    "\n",
    "model.fit(x, y)\n",
    "\n",
    "vp_mod = np.linspace(1500, 5500)\n",
    "rhob_mod = model.predict(vp_mod)\n",
    "\n",
    "plt.scatter(x, y)\n",
    "plt.plot(vp_mod, rhob_mod, c='red')"
   ]
  },
  {
   "cell_type": "code",
   "execution_count": 69,
   "id": "9fdbee87",
   "metadata": {},
   "outputs": [
    {
     "data": {
      "text/plain": [
       "array([7.10995911e+02, 1.54718165e-01])"
      ]
     },
     "execution_count": 69,
     "metadata": {},
     "output_type": "execute_result"
    }
   ],
   "source": [
    "model.coef_"
   ]
  },
  {
   "cell_type": "markdown",
   "id": "b37cc4d4",
   "metadata": {},
   "source": [
    "---\n",
    "\n",
    "&copy; 2022 Agile Scientific"
   ]
  }
 ],
 "metadata": {
  "celltoolbar": "Tags",
  "kernelspec": {
   "display_name": "py39",
   "language": "python",
   "name": "py39"
  },
  "language_info": {
   "codemirror_mode": {
    "name": "ipython",
    "version": 3
   },
   "file_extension": ".py",
   "mimetype": "text/x-python",
   "name": "python",
   "nbconvert_exporter": "python",
   "pygments_lexer": "ipython3",
   "version": "3.9.7"
  }
 },
 "nbformat": 4,
 "nbformat_minor": 5
}
