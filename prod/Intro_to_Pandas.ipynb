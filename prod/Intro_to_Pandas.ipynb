{
 "cells": [
  {
   "cell_type": "markdown",
   "metadata": {},
   "source": [
    "# Intro to `pandas` for machine learning\n",
    "\n",
    "We'll explore the Pandas package for simple data handling tasks using geoscience data examples. \n",
    "\n",
    "Pandas introduces the concept of a `DataFrame` in Python. If you're familiar with R, it's pretty much the same idea! Useful cheat sheet [here](https://www.datacamp.com/community/blog/pandas-cheat-sheet-python#gs.59HV6BY)\n",
    "\n",
    "The main purpose of Pandas is to allow easy manipulation of data in tabular form. Perhaps the most important idea that makes Pandas great for data science, is that it will always preserve **alignment** between data and labels."
   ]
  },
  {
   "cell_type": "code",
   "execution_count": 1,
   "metadata": {},
   "outputs": [],
   "source": [
    "import pandas as pd"
   ]
  },
  {
   "cell_type": "markdown",
   "metadata": {},
   "source": [
    "The most common data structure in Pandas is the `DataFrame`, which is a 2D structure that can hold various types of Python objects indexed by an `index` array (or multiple `index` arrays). Columns are usually labelled as well using strings. A column on its own is a different data type, called a `Series`.\n",
    "\n",
    "An easy way to think about a `DataFrame` is if you imagine it as an Excel spreadsheet.\n",
    "\n",
    "Let's define one using a small dataset:"
   ]
  },
  {
   "cell_type": "code",
   "execution_count": 2,
   "metadata": {},
   "outputs": [
    {
     "data": {
      "text/plain": [
       "[[2.13, 'sandstone'], [3.45, 'limestone'], [2.45, 'shale']]"
      ]
     },
     "execution_count": 2,
     "metadata": {},
     "output_type": "execute_result"
    }
   ],
   "source": [
    "data =  [[2.13, 'sandstone'],\n",
    "         [3.45, 'limestone'],\n",
    "         [2.45, 'shale']]\n",
    "data"
   ]
  },
  {
   "cell_type": "markdown",
   "metadata": {},
   "source": [
    "Make a `DataFrame` from `data`"
   ]
  },
  {
   "cell_type": "code",
   "execution_count": 3,
   "metadata": {},
   "outputs": [
    {
     "data": {
      "text/html": [
       "<div>\n",
       "<style scoped>\n",
       "    .dataframe tbody tr th:only-of-type {\n",
       "        vertical-align: middle;\n",
       "    }\n",
       "\n",
       "    .dataframe tbody tr th {\n",
       "        vertical-align: top;\n",
       "    }\n",
       "\n",
       "    .dataframe thead th {\n",
       "        text-align: right;\n",
       "    }\n",
       "</style>\n",
       "<table border=\"1\" class=\"dataframe\">\n",
       "  <thead>\n",
       "    <tr style=\"text-align: right;\">\n",
       "      <th></th>\n",
       "      <th>velocity</th>\n",
       "      <th>lithology</th>\n",
       "    </tr>\n",
       "  </thead>\n",
       "  <tbody>\n",
       "    <tr>\n",
       "      <th>0</th>\n",
       "      <td>2.13</td>\n",
       "      <td>sandstone</td>\n",
       "    </tr>\n",
       "    <tr>\n",
       "      <th>1</th>\n",
       "      <td>3.45</td>\n",
       "      <td>limestone</td>\n",
       "    </tr>\n",
       "    <tr>\n",
       "      <th>2</th>\n",
       "      <td>2.45</td>\n",
       "      <td>shale</td>\n",
       "    </tr>\n",
       "  </tbody>\n",
       "</table>\n",
       "</div>"
      ],
      "text/plain": [
       "   velocity  lithology\n",
       "0      2.13  sandstone\n",
       "1      3.45  limestone\n",
       "2      2.45      shale"
      ]
     },
     "execution_count": 3,
     "metadata": {},
     "output_type": "execute_result"
    }
   ],
   "source": [
    "df = pd.DataFrame(data, columns=['velocity', 'lithology'])\n",
    "df"
   ]
  },
  {
   "cell_type": "markdown",
   "metadata": {},
   "source": [
    "Accessing the data is a bit more complex than in the numpy array cases but for good reasons"
   ]
  },
  {
   "cell_type": "code",
   "execution_count": null,
   "metadata": {},
   "outputs": [],
   "source": []
  },
  {
   "cell_type": "code",
   "execution_count": 4,
   "metadata": {
    "tags": [
     "hide"
    ]
   },
   "outputs": [
    {
     "data": {
      "text/plain": [
       "0    sandstone\n",
       "1    limestone\n",
       "2        shale\n",
       "Name: lithology, dtype: object"
      ]
     },
     "execution_count": 4,
     "metadata": {},
     "output_type": "execute_result"
    }
   ],
   "source": [
    "df['lithology']"
   ]
  },
  {
   "cell_type": "code",
   "execution_count": null,
   "metadata": {
    "tags": [
     "hide"
    ]
   },
   "outputs": [],
   "source": [
    "# df[0]  # Can't get at rows like this."
   ]
  },
  {
   "cell_type": "code",
   "execution_count": 5,
   "metadata": {
    "tags": [
     "hide"
    ]
   },
   "outputs": [
    {
     "data": {
      "text/html": [
       "<div>\n",
       "<style scoped>\n",
       "    .dataframe tbody tr th:only-of-type {\n",
       "        vertical-align: middle;\n",
       "    }\n",
       "\n",
       "    .dataframe tbody tr th {\n",
       "        vertical-align: top;\n",
       "    }\n",
       "\n",
       "    .dataframe thead th {\n",
       "        text-align: right;\n",
       "    }\n",
       "</style>\n",
       "<table border=\"1\" class=\"dataframe\">\n",
       "  <thead>\n",
       "    <tr style=\"text-align: right;\">\n",
       "      <th></th>\n",
       "      <th>velocity</th>\n",
       "      <th>lithology</th>\n",
       "    </tr>\n",
       "  </thead>\n",
       "  <tbody>\n",
       "    <tr>\n",
       "      <th>0</th>\n",
       "      <td>2.13</td>\n",
       "      <td>sandstone</td>\n",
       "    </tr>\n",
       "    <tr>\n",
       "      <th>1</th>\n",
       "      <td>3.45</td>\n",
       "      <td>limestone</td>\n",
       "    </tr>\n",
       "  </tbody>\n",
       "</table>\n",
       "</div>"
      ],
      "text/plain": [
       "   velocity  lithology\n",
       "0      2.13  sandstone\n",
       "1      3.45  limestone"
      ]
     },
     "execution_count": 5,
     "metadata": {},
     "output_type": "execute_result"
    }
   ],
   "source": [
    "df.loc[0:1]  # Inclusive slice, unlike anything else in Python or NumPy"
   ]
  },
  {
   "cell_type": "code",
   "execution_count": null,
   "metadata": {
    "tags": [
     "hide"
    ]
   },
   "outputs": [],
   "source": [
    "df['id'] = [101, 102, 103]\n",
    "df = df.set_index('id')\n",
    "df.head()"
   ]
  },
  {
   "cell_type": "code",
   "execution_count": null,
   "metadata": {
    "tags": [
     "hide"
    ]
   },
   "outputs": [],
   "source": [
    "df.loc[0]"
   ]
  },
  {
   "cell_type": "code",
   "execution_count": 6,
   "metadata": {
    "tags": [
     "hide"
    ]
   },
   "outputs": [
    {
     "data": {
      "text/html": [
       "<div>\n",
       "<style scoped>\n",
       "    .dataframe tbody tr th:only-of-type {\n",
       "        vertical-align: middle;\n",
       "    }\n",
       "\n",
       "    .dataframe tbody tr th {\n",
       "        vertical-align: top;\n",
       "    }\n",
       "\n",
       "    .dataframe thead th {\n",
       "        text-align: right;\n",
       "    }\n",
       "</style>\n",
       "<table border=\"1\" class=\"dataframe\">\n",
       "  <thead>\n",
       "    <tr style=\"text-align: right;\">\n",
       "      <th></th>\n",
       "      <th>velocity</th>\n",
       "      <th>lithology</th>\n",
       "    </tr>\n",
       "  </thead>\n",
       "  <tbody>\n",
       "    <tr>\n",
       "      <th>0</th>\n",
       "      <td>2.13</td>\n",
       "      <td>sandstone</td>\n",
       "    </tr>\n",
       "  </tbody>\n",
       "</table>\n",
       "</div>"
      ],
      "text/plain": [
       "   velocity  lithology\n",
       "0      2.13  sandstone"
      ]
     },
     "execution_count": 6,
     "metadata": {},
     "output_type": "execute_result"
    }
   ],
   "source": [
    "# Skip this unless folks ask for it.\n",
    "df.iloc[0:1]  # Works like NumPy, rarely needed"
   ]
  },
  {
   "cell_type": "code",
   "execution_count": 7,
   "metadata": {
    "tags": [
     "hide"
    ]
   },
   "outputs": [
    {
     "data": {
      "text/plain": [
       "0     True\n",
       "1    False\n",
       "2     True\n",
       "Name: velocity, dtype: bool"
      ]
     },
     "execution_count": 7,
     "metadata": {},
     "output_type": "execute_result"
    }
   ],
   "source": [
    "df['velocity'] < 3"
   ]
  },
  {
   "cell_type": "code",
   "execution_count": 8,
   "metadata": {
    "tags": [
     "hide"
    ]
   },
   "outputs": [
    {
     "data": {
      "text/html": [
       "<div>\n",
       "<style scoped>\n",
       "    .dataframe tbody tr th:only-of-type {\n",
       "        vertical-align: middle;\n",
       "    }\n",
       "\n",
       "    .dataframe tbody tr th {\n",
       "        vertical-align: top;\n",
       "    }\n",
       "\n",
       "    .dataframe thead th {\n",
       "        text-align: right;\n",
       "    }\n",
       "</style>\n",
       "<table border=\"1\" class=\"dataframe\">\n",
       "  <thead>\n",
       "    <tr style=\"text-align: right;\">\n",
       "      <th></th>\n",
       "      <th>velocity</th>\n",
       "      <th>lithology</th>\n",
       "    </tr>\n",
       "  </thead>\n",
       "  <tbody>\n",
       "    <tr>\n",
       "      <th>0</th>\n",
       "      <td>2.13</td>\n",
       "      <td>sandstone</td>\n",
       "    </tr>\n",
       "    <tr>\n",
       "      <th>2</th>\n",
       "      <td>2.45</td>\n",
       "      <td>shale</td>\n",
       "    </tr>\n",
       "  </tbody>\n",
       "</table>\n",
       "</div>"
      ],
      "text/plain": [
       "   velocity  lithology\n",
       "0      2.13  sandstone\n",
       "2      2.45      shale"
      ]
     },
     "execution_count": 8,
     "metadata": {},
     "output_type": "execute_result"
    }
   ],
   "source": [
    "df.loc[df['velocity'] < 3]  # Loc provides *selectors* like NumPy arrays."
   ]
  },
  {
   "cell_type": "code",
   "execution_count": 9,
   "metadata": {
    "tags": [
     "hide"
    ]
   },
   "outputs": [
    {
     "data": {
      "text/plain": [
       "0    sandstone\n",
       "2        shale\n",
       "Name: lithology, dtype: object"
      ]
     },
     "execution_count": 9,
     "metadata": {},
     "output_type": "execute_result"
    }
   ],
   "source": [
    "df.loc[df['velocity'] < 3, 'lithology']  # Both rows and columns.\n"
   ]
  },
  {
   "cell_type": "markdown",
   "metadata": {},
   "source": [
    "## Adding data\n",
    "\n",
    "Add more data (row wise). This is adding a new record."
   ]
  },
  {
   "cell_type": "code",
   "execution_count": null,
   "metadata": {},
   "outputs": [],
   "source": []
  },
  {
   "cell_type": "code",
   "execution_count": 10,
   "metadata": {
    "tags": [
     "hide"
    ]
   },
   "outputs": [],
   "source": [
    "df.loc[99] = [3.5, 'dolomite']"
   ]
  },
  {
   "cell_type": "code",
   "execution_count": 11,
   "metadata": {
    "tags": [
     "hide"
    ]
   },
   "outputs": [
    {
     "data": {
      "text/html": [
       "<div>\n",
       "<style scoped>\n",
       "    .dataframe tbody tr th:only-of-type {\n",
       "        vertical-align: middle;\n",
       "    }\n",
       "\n",
       "    .dataframe tbody tr th {\n",
       "        vertical-align: top;\n",
       "    }\n",
       "\n",
       "    .dataframe thead th {\n",
       "        text-align: right;\n",
       "    }\n",
       "</style>\n",
       "<table border=\"1\" class=\"dataframe\">\n",
       "  <thead>\n",
       "    <tr style=\"text-align: right;\">\n",
       "      <th></th>\n",
       "      <th>velocity</th>\n",
       "      <th>lithology</th>\n",
       "    </tr>\n",
       "  </thead>\n",
       "  <tbody>\n",
       "    <tr>\n",
       "      <th>0</th>\n",
       "      <td>2.13</td>\n",
       "      <td>sandstone</td>\n",
       "    </tr>\n",
       "    <tr>\n",
       "      <th>1</th>\n",
       "      <td>3.45</td>\n",
       "      <td>limestone</td>\n",
       "    </tr>\n",
       "    <tr>\n",
       "      <th>2</th>\n",
       "      <td>2.45</td>\n",
       "      <td>shale</td>\n",
       "    </tr>\n",
       "    <tr>\n",
       "      <th>99</th>\n",
       "      <td>3.50</td>\n",
       "      <td>dolomite</td>\n",
       "    </tr>\n",
       "    <tr>\n",
       "      <th>3</th>\n",
       "      <td>2.60</td>\n",
       "      <td>shale</td>\n",
       "    </tr>\n",
       "  </tbody>\n",
       "</table>\n",
       "</div>"
      ],
      "text/plain": [
       "    velocity  lithology\n",
       "0       2.13  sandstone\n",
       "1       3.45  limestone\n",
       "2       2.45      shale\n",
       "99      3.50   dolomite\n",
       "3       2.60      shale"
      ]
     },
     "execution_count": 11,
     "metadata": {},
     "output_type": "execute_result"
    }
   ],
   "source": [
    "df.loc[3] = [2.6, 'shale']\n",
    "df"
   ]
  },
  {
   "cell_type": "markdown",
   "metadata": {},
   "source": [
    "To add a new feature or attribute we want to add a new Series.\n",
    "\n",
    "Add a new column with a \"complete\" list, array or series."
   ]
  },
  {
   "cell_type": "code",
   "execution_count": 12,
   "metadata": {},
   "outputs": [
    {
     "data": {
      "text/html": [
       "<div>\n",
       "<style scoped>\n",
       "    .dataframe tbody tr th:only-of-type {\n",
       "        vertical-align: middle;\n",
       "    }\n",
       "\n",
       "    .dataframe tbody tr th {\n",
       "        vertical-align: top;\n",
       "    }\n",
       "\n",
       "    .dataframe thead th {\n",
       "        text-align: right;\n",
       "    }\n",
       "</style>\n",
       "<table border=\"1\" class=\"dataframe\">\n",
       "  <thead>\n",
       "    <tr style=\"text-align: right;\">\n",
       "      <th></th>\n",
       "      <th>velocity</th>\n",
       "      <th>lithology</th>\n",
       "      <th>method</th>\n",
       "    </tr>\n",
       "  </thead>\n",
       "  <tbody>\n",
       "    <tr>\n",
       "      <th>0</th>\n",
       "      <td>2.13</td>\n",
       "      <td>sandstone</td>\n",
       "      <td>ultrasonic</td>\n",
       "    </tr>\n",
       "    <tr>\n",
       "      <th>1</th>\n",
       "      <td>3.45</td>\n",
       "      <td>limestone</td>\n",
       "      <td>tomographic</td>\n",
       "    </tr>\n",
       "    <tr>\n",
       "      <th>2</th>\n",
       "      <td>2.45</td>\n",
       "      <td>shale</td>\n",
       "      <td>acoustic</td>\n",
       "    </tr>\n",
       "    <tr>\n",
       "      <th>99</th>\n",
       "      <td>3.50</td>\n",
       "      <td>dolomite</td>\n",
       "      <td>petrophysical</td>\n",
       "    </tr>\n",
       "    <tr>\n",
       "      <th>3</th>\n",
       "      <td>2.60</td>\n",
       "      <td>shale</td>\n",
       "      <td>ultrasonic</td>\n",
       "    </tr>\n",
       "  </tbody>\n",
       "</table>\n",
       "</div>"
      ],
      "text/plain": [
       "    velocity  lithology         method\n",
       "0       2.13  sandstone     ultrasonic\n",
       "1       3.45  limestone    tomographic\n",
       "2       2.45      shale       acoustic\n",
       "99      3.50   dolomite  petrophysical\n",
       "3       2.60      shale     ultrasonic"
      ]
     },
     "execution_count": 12,
     "metadata": {},
     "output_type": "execute_result"
    }
   ],
   "source": [
    "df['method'] = ['ultrasonic', 'tomographic', 'acoustic', 'petrophysical', 'ultrasonic']\n",
    "df"
   ]
  },
  {
   "cell_type": "markdown",
   "metadata": {},
   "source": [
    "Alternatively, you can broadcast a value or calculation."
   ]
  },
  {
   "cell_type": "code",
   "execution_count": 13,
   "metadata": {
    "tags": [
     "hide"
    ]
   },
   "outputs": [
    {
     "data": {
      "text/html": [
       "<div>\n",
       "<style scoped>\n",
       "    .dataframe tbody tr th:only-of-type {\n",
       "        vertical-align: middle;\n",
       "    }\n",
       "\n",
       "    .dataframe tbody tr th {\n",
       "        vertical-align: top;\n",
       "    }\n",
       "\n",
       "    .dataframe thead th {\n",
       "        text-align: right;\n",
       "    }\n",
       "</style>\n",
       "<table border=\"1\" class=\"dataframe\">\n",
       "  <thead>\n",
       "    <tr style=\"text-align: right;\">\n",
       "      <th></th>\n",
       "      <th>velocity</th>\n",
       "      <th>lithology</th>\n",
       "      <th>method</th>\n",
       "      <th>source</th>\n",
       "      <th>velocity_si</th>\n",
       "    </tr>\n",
       "  </thead>\n",
       "  <tbody>\n",
       "    <tr>\n",
       "      <th>0</th>\n",
       "      <td>2.13</td>\n",
       "      <td>sandstone</td>\n",
       "      <td>ultrasonic</td>\n",
       "      <td>Agile</td>\n",
       "      <td>2130.0</td>\n",
       "    </tr>\n",
       "    <tr>\n",
       "      <th>1</th>\n",
       "      <td>3.45</td>\n",
       "      <td>limestone</td>\n",
       "      <td>tomographic</td>\n",
       "      <td>Agile</td>\n",
       "      <td>3450.0</td>\n",
       "    </tr>\n",
       "    <tr>\n",
       "      <th>2</th>\n",
       "      <td>2.45</td>\n",
       "      <td>shale</td>\n",
       "      <td>acoustic</td>\n",
       "      <td>Agile</td>\n",
       "      <td>2450.0</td>\n",
       "    </tr>\n",
       "    <tr>\n",
       "      <th>99</th>\n",
       "      <td>3.50</td>\n",
       "      <td>dolomite</td>\n",
       "      <td>petrophysical</td>\n",
       "      <td>Agile</td>\n",
       "      <td>3500.0</td>\n",
       "    </tr>\n",
       "    <tr>\n",
       "      <th>3</th>\n",
       "      <td>2.60</td>\n",
       "      <td>shale</td>\n",
       "      <td>ultrasonic</td>\n",
       "      <td>Agile</td>\n",
       "      <td>2600.0</td>\n",
       "    </tr>\n",
       "  </tbody>\n",
       "</table>\n",
       "</div>"
      ],
      "text/plain": [
       "    velocity  lithology         method source  velocity_si\n",
       "0       2.13  sandstone     ultrasonic  Agile       2130.0\n",
       "1       3.45  limestone    tomographic  Agile       3450.0\n",
       "2       2.45      shale       acoustic  Agile       2450.0\n",
       "99      3.50   dolomite  petrophysical  Agile       3500.0\n",
       "3       2.60      shale     ultrasonic  Agile       2600.0"
      ]
     },
     "execution_count": 13,
     "metadata": {},
     "output_type": "execute_result"
    }
   ],
   "source": [
    "df['source'] = 'Agile'\n",
    "df['velocity_si'] = df['velocity'] * 1000\n",
    "df"
   ]
  },
  {
   "cell_type": "code",
   "execution_count": null,
   "metadata": {},
   "outputs": [],
   "source": []
  },
  {
   "cell_type": "code",
   "execution_count": null,
   "metadata": {},
   "outputs": [],
   "source": []
  },
  {
   "cell_type": "markdown",
   "metadata": {
    "tags": [
     "exercise"
    ]
   },
   "source": [
    "\n",
    "## Exercise\n",
    "\n",
    "* Add a new boolean Series (with `True` or `False` values) `is_carbonate`. If a record has a `velocity_si` greater than 3000 it should be `True`.\n",
    "* Add a new record (row) with `id` 87, `velocity_si` of 2225, a `lithology` of sandstone, and a 'ultrasonic' `method`. Use your own name as the `source`. For other columns, feel free to make up values as needed.\n",
    "* Create a subset of the current dataframe with only the `velocity_si`, `lithology`, `method` and `source` columns and name it `df2`.\n",
    "* Adjust the `velocity_si` values of measurements only made using the 'ultrasonic' `method` in `df2` by subtracting 175 m/s."
   ]
  },
  {
   "cell_type": "code",
   "execution_count": null,
   "metadata": {},
   "outputs": [],
   "source": []
  },
  {
   "cell_type": "code",
   "execution_count": null,
   "metadata": {},
   "outputs": [],
   "source": []
  },
  {
   "cell_type": "code",
   "execution_count": null,
   "metadata": {},
   "outputs": [],
   "source": []
  },
  {
   "cell_type": "code",
   "execution_count": null,
   "metadata": {},
   "outputs": [],
   "source": []
  },
  {
   "cell_type": "code",
   "execution_count": 14,
   "metadata": {
    "tags": [
     "hide"
    ]
   },
   "outputs": [],
   "source": [
    "df['is_carbonate'] = df['velocity_si'] > 3000\n",
    "df.loc[87] = [2.225, 'sandstone', 'ultrasonic', 'Agile', 2225, False]\n",
    "df2 = df[['lithology', 'source', 'method', 'velocity_si']]"
   ]
  },
  {
   "cell_type": "code",
   "execution_count": 15,
   "metadata": {
    "tags": [
     "hide"
    ]
   },
   "outputs": [
    {
     "data": {
      "text/html": [
       "<div>\n",
       "<style scoped>\n",
       "    .dataframe tbody tr th:only-of-type {\n",
       "        vertical-align: middle;\n",
       "    }\n",
       "\n",
       "    .dataframe tbody tr th {\n",
       "        vertical-align: top;\n",
       "    }\n",
       "\n",
       "    .dataframe thead th {\n",
       "        text-align: right;\n",
       "    }\n",
       "</style>\n",
       "<table border=\"1\" class=\"dataframe\">\n",
       "  <thead>\n",
       "    <tr style=\"text-align: right;\">\n",
       "      <th></th>\n",
       "      <th>lithology</th>\n",
       "      <th>source</th>\n",
       "      <th>method</th>\n",
       "      <th>velocity_si</th>\n",
       "    </tr>\n",
       "  </thead>\n",
       "  <tbody>\n",
       "    <tr>\n",
       "      <th>0</th>\n",
       "      <td>sandstone</td>\n",
       "      <td>Agile</td>\n",
       "      <td>ultrasonic</td>\n",
       "      <td>1955.0</td>\n",
       "    </tr>\n",
       "    <tr>\n",
       "      <th>1</th>\n",
       "      <td>limestone</td>\n",
       "      <td>Agile</td>\n",
       "      <td>tomographic</td>\n",
       "      <td>3450.0</td>\n",
       "    </tr>\n",
       "    <tr>\n",
       "      <th>2</th>\n",
       "      <td>shale</td>\n",
       "      <td>Agile</td>\n",
       "      <td>acoustic</td>\n",
       "      <td>2450.0</td>\n",
       "    </tr>\n",
       "    <tr>\n",
       "      <th>99</th>\n",
       "      <td>dolomite</td>\n",
       "      <td>Agile</td>\n",
       "      <td>petrophysical</td>\n",
       "      <td>3500.0</td>\n",
       "    </tr>\n",
       "    <tr>\n",
       "      <th>3</th>\n",
       "      <td>shale</td>\n",
       "      <td>Agile</td>\n",
       "      <td>ultrasonic</td>\n",
       "      <td>2425.0</td>\n",
       "    </tr>\n",
       "    <tr>\n",
       "      <th>87</th>\n",
       "      <td>sandstone</td>\n",
       "      <td>Agile</td>\n",
       "      <td>ultrasonic</td>\n",
       "      <td>2050.0</td>\n",
       "    </tr>\n",
       "  </tbody>\n",
       "</table>\n",
       "</div>"
      ],
      "text/plain": [
       "    lithology source         method  velocity_si\n",
       "0   sandstone  Agile     ultrasonic       1955.0\n",
       "1   limestone  Agile    tomographic       3450.0\n",
       "2       shale  Agile       acoustic       2450.0\n",
       "99   dolomite  Agile  petrophysical       3500.0\n",
       "3       shale  Agile     ultrasonic       2425.0\n",
       "87  sandstone  Agile     ultrasonic       2050.0"
      ]
     },
     "execution_count": 15,
     "metadata": {},
     "output_type": "execute_result"
    }
   ],
   "source": [
    "df2.loc[df2.method=='ultrasonic', 'velocity_si'] = df.velocity_si - 175\n",
    "df2"
   ]
  },
  {
   "cell_type": "markdown",
   "metadata": {},
   "source": [
    "## Column types\n",
    "\n",
    "A Series has a `dtype` associated with it, which is the type (eg: int, string, float, &c) of the data stored within it. A given Series can only have one dtype, so the more general one is used, for example a Series with both integer and float values will be considered a float Series. These affect what can be done to a given Series (for example a string Series will not have a mean associated with it, while Series with floats or ints will)."
   ]
  },
  {
   "cell_type": "code",
   "execution_count": 16,
   "metadata": {},
   "outputs": [],
   "source": [
    "values = [53, 58, 60, '62', '70', '74']"
   ]
  },
  {
   "cell_type": "code",
   "execution_count": 17,
   "metadata": {
    "tags": [
     "hide"
    ]
   },
   "outputs": [
    {
     "data": {
      "text/plain": [
       "0    53\n",
       "1    58\n",
       "2    60\n",
       "3    62\n",
       "4    70\n",
       "5    74\n",
       "dtype: object"
      ]
     },
     "execution_count": 17,
     "metadata": {},
     "output_type": "execute_result"
    }
   ],
   "source": [
    "s = pd.Series(values)\n",
    "s"
   ]
  },
  {
   "cell_type": "code",
   "execution_count": 18,
   "metadata": {
    "tags": [
     "hide"
    ]
   },
   "outputs": [
    {
     "data": {
      "text/plain": [
       "0     106\n",
       "1     116\n",
       "2     120\n",
       "3    6262\n",
       "4    7070\n",
       "5    7474\n",
       "dtype: object"
      ]
     },
     "execution_count": 18,
     "metadata": {},
     "output_type": "execute_result"
    }
   ],
   "source": [
    "s * 2"
   ]
  },
  {
   "cell_type": "code",
   "execution_count": 19,
   "metadata": {
    "tags": [
     "hide"
    ]
   },
   "outputs": [
    {
     "data": {
      "text/plain": [
       "0    53.0\n",
       "1    58.0\n",
       "2    60.0\n",
       "3    62.0\n",
       "4    70.0\n",
       "5    74.0\n",
       "dtype: float64"
      ]
     },
     "execution_count": 19,
     "metadata": {},
     "output_type": "execute_result"
    }
   ],
   "source": [
    "s.astype(float)"
   ]
  },
  {
   "cell_type": "code",
   "execution_count": 20,
   "metadata": {
    "tags": [
     "hide"
    ]
   },
   "outputs": [],
   "source": [
    "s = s.astype(float)"
   ]
  },
  {
   "cell_type": "code",
   "execution_count": 21,
   "metadata": {
    "tags": [
     "hide"
    ]
   },
   "outputs": [
    {
     "data": {
      "text/plain": [
       "0    106.0\n",
       "1    116.0\n",
       "2    120.0\n",
       "3    124.0\n",
       "4    140.0\n",
       "5    148.0\n",
       "dtype: float64"
      ]
     },
     "execution_count": 21,
     "metadata": {},
     "output_type": "execute_result"
    }
   ],
   "source": [
    "s * 2"
   ]
  },
  {
   "cell_type": "markdown",
   "metadata": {},
   "source": [
    "### Strings\n",
    "pandas has two ways to store strings. From the [docs](https://pandas.pydata.org/docs/user_guide/basics.html#basics-dtypes):\n",
    "> * `object` dtype, which can hold any Python object, including strings.\n",
    "> * `StringDtype`, which is dedicated to strings.\n",
    "> \n",
    "> Generally, we recommend using StringDtype. See [Text data types](https://pandas.pydata.org/docs/user_guide/text.html#text-types) for more.\n",
    "> Finally, arbitrary objects may be stored using the object dtype, but should be avoided to the extent possible (for performance and interoperability with other libraries and methods. See [object conversion](https://pandas.pydata.org/docs/user_guide/basics.html#basics-object-conversion)).\n",
    "> A convenient dtypes attribute for DataFrame returns a Series with the data type of each column.\n",
    "\n",
    "A string-like column can have things that we normally do to strings done to it:"
   ]
  },
  {
   "cell_type": "code",
   "execution_count": null,
   "metadata": {},
   "outputs": [],
   "source": []
  },
  {
   "cell_type": "code",
   "execution_count": 22,
   "metadata": {
    "tags": [
     "hide"
    ]
   },
   "outputs": [
    {
     "data": {
      "text/plain": [
       "0     sandstonesandstone\n",
       "1     limestonelimestone\n",
       "2             shaleshale\n",
       "99      dolomitedolomite\n",
       "3             shaleshale\n",
       "87    sandstonesandstone\n",
       "Name: lithology, dtype: object"
      ]
     },
     "execution_count": 22,
     "metadata": {},
     "output_type": "execute_result"
    }
   ],
   "source": [
    "df2['lithology'] * 2"
   ]
  },
  {
   "cell_type": "code",
   "execution_count": 23,
   "metadata": {
    "tags": [
     "hide"
    ]
   },
   "outputs": [
    {
     "data": {
      "text/plain": [
       "0     SANDSTONE\n",
       "1     LIMESTONE\n",
       "2         SHALE\n",
       "99     DOLOMITE\n",
       "3         SHALE\n",
       "87    SANDSTONE\n",
       "Name: lithology, dtype: object"
      ]
     },
     "execution_count": 23,
     "metadata": {},
     "output_type": "execute_result"
    }
   ],
   "source": [
    "df2['lithology'].str.upper()"
   ]
  },
  {
   "cell_type": "markdown",
   "metadata": {},
   "source": [
    "Mixed values can cause some problems though:"
   ]
  },
  {
   "cell_type": "code",
   "execution_count": 24,
   "metadata": {},
   "outputs": [],
   "source": [
    "density = [\n",
    "    'Medium',\n",
    "    'Low',\n",
    "    'Med',\n",
    "    3214,\n",
    "    'High',\n",
    "    'Very high'\n",
    "]"
   ]
  },
  {
   "cell_type": "markdown",
   "metadata": {},
   "source": [
    "First we'll try accepting the default `object` data type:"
   ]
  },
  {
   "cell_type": "code",
   "execution_count": 25,
   "metadata": {},
   "outputs": [
    {
     "data": {
      "text/plain": [
       "0       Medium\n",
       "1          Low\n",
       "2          Med\n",
       "3         3214\n",
       "4         High\n",
       "5    Very high\n",
       "dtype: object"
      ]
     },
     "execution_count": 25,
     "metadata": {},
     "output_type": "execute_result"
    }
   ],
   "source": [
    "s = pd.Series(density)\n",
    "s"
   ]
  },
  {
   "cell_type": "code",
   "execution_count": 26,
   "metadata": {
    "tags": [
     "hide"
    ]
   },
   "outputs": [
    {
     "data": {
      "text/plain": [
       "0       MEDIUM\n",
       "1          LOW\n",
       "2          MED\n",
       "3          NaN\n",
       "4         HIGH\n",
       "5    VERY HIGH\n",
       "dtype: object"
      ]
     },
     "execution_count": 26,
     "metadata": {},
     "output_type": "execute_result"
    }
   ],
   "source": [
    "s.str.upper() # [str(ii).upper() for ii in s]"
   ]
  },
  {
   "cell_type": "code",
   "execution_count": 27,
   "metadata": {
    "tags": [
     "hide"
    ]
   },
   "outputs": [
    {
     "data": {
      "text/plain": [
       "0    False\n",
       "1    False\n",
       "2    False\n",
       "3      NaN\n",
       "4    False\n",
       "5    False\n",
       "dtype: object"
      ]
     },
     "execution_count": 27,
     "metadata": {},
     "output_type": "execute_result"
    }
   ],
   "source": [
    "s.str.isdigit()"
   ]
  },
  {
   "cell_type": "code",
   "execution_count": 28,
   "metadata": {},
   "outputs": [
    {
     "data": {
      "text/plain": [
       "0       Medium\n",
       "1          Low\n",
       "2       Medium\n",
       "3          NaN\n",
       "4         High\n",
       "5    Very high\n",
       "dtype: object"
      ]
     },
     "execution_count": 28,
     "metadata": {},
     "output_type": "execute_result"
    }
   ],
   "source": [
    "s.str.replace('Med$', 'Medium', regex=True)"
   ]
  },
  {
   "cell_type": "markdown",
   "metadata": {
    "tags": [
     "hide"
    ]
   },
   "source": [
    "Note that the indices of this list do not match the DataFrame index, so we have to explicitly pass the index to the Series constructor. (Try leaving `index=df.index` out.)"
   ]
  },
  {
   "cell_type": "markdown",
   "metadata": {},
   "source": [
    "If we use a string type instead, then some things will work more smoothly."
   ]
  },
  {
   "cell_type": "code",
   "execution_count": 29,
   "metadata": {},
   "outputs": [],
   "source": [
    "s = pd.Series(density, dtype='string')  # Or pd.StringDtype()"
   ]
  },
  {
   "cell_type": "code",
   "execution_count": 30,
   "metadata": {},
   "outputs": [
    {
     "data": {
      "text/plain": [
       "string[python]"
      ]
     },
     "execution_count": 30,
     "metadata": {},
     "output_type": "execute_result"
    }
   ],
   "source": [
    "s.dtype"
   ]
  },
  {
   "cell_type": "markdown",
   "metadata": {},
   "source": [
    "Using this does not, however, give us direct access to string methods — e.g. you still need `str` here — but at least things work more consistently:"
   ]
  },
  {
   "cell_type": "code",
   "execution_count": 31,
   "metadata": {},
   "outputs": [
    {
     "data": {
      "text/plain": [
       "0       Medium\n",
       "1          Low\n",
       "2       Medium\n",
       "3         3214\n",
       "4         High\n",
       "5    Very high\n",
       "dtype: string"
      ]
     },
     "execution_count": 31,
     "metadata": {},
     "output_type": "execute_result"
    }
   ],
   "source": [
    "s.str.replace('Med$', 'Medium', regex=True)"
   ]
  },
  {
   "cell_type": "code",
   "execution_count": 32,
   "metadata": {},
   "outputs": [
    {
     "data": {
      "text/plain": [
       "0    False\n",
       "1    False\n",
       "2    False\n",
       "3     True\n",
       "4    False\n",
       "5    False\n",
       "dtype: boolean"
      ]
     },
     "execution_count": 32,
     "metadata": {},
     "output_type": "execute_result"
    }
   ],
   "source": [
    "s.str.isdigit()"
   ]
  },
  {
   "cell_type": "code",
   "execution_count": 33,
   "metadata": {
    "tags": [
     "hide"
    ]
   },
   "outputs": [
    {
     "data": {
      "text/plain": [
       "0          MediumMedium\n",
       "1                LowLow\n",
       "2                MedMed\n",
       "3              32143214\n",
       "4              HighHigh\n",
       "5    Very highVery high\n",
       "dtype: string"
      ]
     },
     "execution_count": 33,
     "metadata": {},
     "output_type": "execute_result"
    }
   ],
   "source": [
    "s * 2"
   ]
  },
  {
   "cell_type": "markdown",
   "metadata": {},
   "source": [
    "### Categories\n",
    "\n",
    "It makes sense to use the [Pandas `categorical` type](https://pandas.pydata.org/pandas-docs/stable/user_guide/categorical.html) for categorical variables. These are good for a few cases:\n",
    "\n",
    "> * A string variable consisting of only a few different values (for example lithologies in a well log). Converting such a string variable to a categorical variable will save some memory.\n",
    "> * The lexical order of a variable is not the same as the logical order (“one”, “two”, “three”). By converting to a categorical and specifying an order on the categories, sorting and min/max will use the logical order instead of the lexical order.\n",
    "> * As a signal to other Python libraries that this column should be treated as a categorical variable (e.g. to use suitable statistical methods or plot types)."
   ]
  },
  {
   "cell_type": "code",
   "execution_count": 34,
   "metadata": {},
   "outputs": [
    {
     "data": {
      "text/plain": [
       "velocity         float64\n",
       "lithology       category\n",
       "method          category\n",
       "source            object\n",
       "velocity_si      float64\n",
       "is_carbonate        bool\n",
       "dtype: object"
      ]
     },
     "execution_count": 34,
     "metadata": {},
     "output_type": "execute_result"
    }
   ],
   "source": [
    "cols = ['lithology', 'method']\n",
    "df[cols] = df[cols].apply(pd.Categorical)\n",
    "\n",
    "df.dtypes"
   ]
  },
  {
   "cell_type": "markdown",
   "metadata": {},
   "source": [
    "We can now use those to do some useful things, for example:"
   ]
  },
  {
   "cell_type": "code",
   "execution_count": 35,
   "metadata": {},
   "outputs": [
    {
     "data": {
      "text/plain": [
       "0        ultrasonic\n",
       "1       tomographic\n",
       "2          acoustic\n",
       "99    petrophysical\n",
       "3        ultrasonic\n",
       "87       ultrasonic\n",
       "Name: method, dtype: category\n",
       "Categories (4, object): ['acoustic', 'petrophysical', 'tomographic', 'ultrasonic']"
      ]
     },
     "execution_count": 35,
     "metadata": {},
     "output_type": "execute_result"
    }
   ],
   "source": [
    "df['method']"
   ]
  },
  {
   "cell_type": "code",
   "execution_count": 36,
   "metadata": {},
   "outputs": [
    {
     "data": {
      "text/html": [
       "<div>\n",
       "<style scoped>\n",
       "    .dataframe tbody tr th:only-of-type {\n",
       "        vertical-align: middle;\n",
       "    }\n",
       "\n",
       "    .dataframe tbody tr th {\n",
       "        vertical-align: top;\n",
       "    }\n",
       "\n",
       "    .dataframe thead th {\n",
       "        text-align: right;\n",
       "    }\n",
       "</style>\n",
       "<table border=\"1\" class=\"dataframe\">\n",
       "  <thead>\n",
       "    <tr style=\"text-align: right;\">\n",
       "      <th></th>\n",
       "      <th>method</th>\n",
       "      <th>lithology</th>\n",
       "    </tr>\n",
       "  </thead>\n",
       "  <tbody>\n",
       "    <tr>\n",
       "      <th>count</th>\n",
       "      <td>6</td>\n",
       "      <td>6</td>\n",
       "    </tr>\n",
       "    <tr>\n",
       "      <th>unique</th>\n",
       "      <td>4</td>\n",
       "      <td>4</td>\n",
       "    </tr>\n",
       "    <tr>\n",
       "      <th>top</th>\n",
       "      <td>ultrasonic</td>\n",
       "      <td>sandstone</td>\n",
       "    </tr>\n",
       "    <tr>\n",
       "      <th>freq</th>\n",
       "      <td>3</td>\n",
       "      <td>2</td>\n",
       "    </tr>\n",
       "  </tbody>\n",
       "</table>\n",
       "</div>"
      ],
      "text/plain": [
       "            method  lithology\n",
       "count            6          6\n",
       "unique           4          4\n",
       "top     ultrasonic  sandstone\n",
       "freq             3          2"
      ]
     },
     "execution_count": 36,
     "metadata": {},
     "output_type": "execute_result"
    }
   ],
   "source": [
    "df[['method', 'lithology']].describe()"
   ]
  },
  {
   "cell_type": "markdown",
   "metadata": {},
   "source": [
    "## Reading and writing files\n",
    "\n",
    "Pandas also reads files from disk in tabular form ([here](https://pandas.pydata.org/pandas-docs/stable/user_guide/io.html)'s a list of all the formats that it can read and write). A very common one is Excel's `.xlsx` format, so let's load one!\n",
    "\n",
    "The data is the same as used in this study: http://www.kgs.ku.edu/PRS/publication/2003/ofr2003-30/index.html\n",
    "\n",
    "From that poster:\n",
    "\n",
    "> The Panoma Field (2.9 TCF gas) produces from Permian Council Grove Group marine carbonates and nonmarine silicilastics in the Hugoton embayment of the Anadarko Basin. It and the Hugoton Field, which has produced from the Chase Group since 1928, the top of which is 300 feet shallower have combined to produce 27 TCF gas, making it the largest gas producing area in North America. Both fields are stratigraphic traps with their updip west and northwest limits nearly coincident. Maximum recoveries in the Panoma are attained west of center of the field. Deeper production includes oil and gas from Pennsylvanian Lansing-Kansas City, Marmaton, and Morrow and the Mississippian.\n",
    "\n",
    "For Excel files, we can load specific sheets by passing the `sheet_name` argument:"
   ]
  },
  {
   "cell_type": "code",
   "execution_count": 37,
   "metadata": {},
   "outputs": [
    {
     "data": {
      "text/html": [
       "<div>\n",
       "<style scoped>\n",
       "    .dataframe tbody tr th:only-of-type {\n",
       "        vertical-align: middle;\n",
       "    }\n",
       "\n",
       "    .dataframe tbody tr th {\n",
       "        vertical-align: top;\n",
       "    }\n",
       "\n",
       "    .dataframe thead th {\n",
       "        text-align: right;\n",
       "    }\n",
       "</style>\n",
       "<table border=\"1\" class=\"dataframe\">\n",
       "  <thead>\n",
       "    <tr style=\"text-align: right;\">\n",
       "      <th></th>\n",
       "      <th>Well Name</th>\n",
       "      <th>Depth</th>\n",
       "      <th>Formation</th>\n",
       "      <th>RelPos</th>\n",
       "      <th>Marine</th>\n",
       "      <th>GR</th>\n",
       "      <th>ILD</th>\n",
       "      <th>DeltaPHI</th>\n",
       "      <th>PHIND</th>\n",
       "      <th>PE</th>\n",
       "      <th>Facies</th>\n",
       "      <th>Completion Date</th>\n",
       "      <th>Index</th>\n",
       "      <th>Source</th>\n",
       "    </tr>\n",
       "  </thead>\n",
       "  <tbody>\n",
       "    <tr>\n",
       "      <th>0</th>\n",
       "      <td>SHRIMPLIN</td>\n",
       "      <td>851.3064</td>\n",
       "      <td>A1 SH</td>\n",
       "      <td>1.000</td>\n",
       "      <td>1</td>\n",
       "      <td>77.45</td>\n",
       "      <td>4.613176</td>\n",
       "      <td>9.9</td>\n",
       "      <td>11.915</td>\n",
       "      <td>4.6</td>\n",
       "      <td>3.0</td>\n",
       "      <td>2010-03-26</td>\n",
       "      <td>63</td>\n",
       "      <td>KGS</td>\n",
       "    </tr>\n",
       "    <tr>\n",
       "      <th>1</th>\n",
       "      <td>SHRIMPLIN</td>\n",
       "      <td>851.4588</td>\n",
       "      <td>A1 SH</td>\n",
       "      <td>0.979</td>\n",
       "      <td>1</td>\n",
       "      <td>78.26</td>\n",
       "      <td>4.581419</td>\n",
       "      <td>14.2</td>\n",
       "      <td>12.565</td>\n",
       "      <td>4.1</td>\n",
       "      <td>3.0</td>\n",
       "      <td>2010-03-26</td>\n",
       "      <td>64</td>\n",
       "      <td>KGS</td>\n",
       "    </tr>\n",
       "    <tr>\n",
       "      <th>2</th>\n",
       "      <td>SHRIMPLIN</td>\n",
       "      <td>851.6112</td>\n",
       "      <td>A1 SH</td>\n",
       "      <td>0.957</td>\n",
       "      <td>1</td>\n",
       "      <td>79.05</td>\n",
       "      <td>4.549881</td>\n",
       "      <td>14.8</td>\n",
       "      <td>13.050</td>\n",
       "      <td>3.6</td>\n",
       "      <td>3.0</td>\n",
       "      <td>2010-03-26</td>\n",
       "      <td>65</td>\n",
       "      <td>KGS</td>\n",
       "    </tr>\n",
       "    <tr>\n",
       "      <th>3</th>\n",
       "      <td>SHRIMPLIN</td>\n",
       "      <td>851.7636</td>\n",
       "      <td>A1 SH</td>\n",
       "      <td>0.936</td>\n",
       "      <td>1</td>\n",
       "      <td>86.10</td>\n",
       "      <td>4.518559</td>\n",
       "      <td>13.9</td>\n",
       "      <td>13.115</td>\n",
       "      <td>3.5</td>\n",
       "      <td>3.0</td>\n",
       "      <td>2010-03-26</td>\n",
       "      <td>66</td>\n",
       "      <td>KGS</td>\n",
       "    </tr>\n",
       "    <tr>\n",
       "      <th>4</th>\n",
       "      <td>SHRIMPLIN</td>\n",
       "      <td>851.9160</td>\n",
       "      <td>A1 SH</td>\n",
       "      <td>0.915</td>\n",
       "      <td>1</td>\n",
       "      <td>74.58</td>\n",
       "      <td>4.436086</td>\n",
       "      <td>13.5</td>\n",
       "      <td>13.300</td>\n",
       "      <td>3.4</td>\n",
       "      <td>3.0</td>\n",
       "      <td>2010-03-26</td>\n",
       "      <td>67</td>\n",
       "      <td>KGS</td>\n",
       "    </tr>\n",
       "  </tbody>\n",
       "</table>\n",
       "</div>"
      ],
      "text/plain": [
       "   Well Name     Depth Formation  RelPos  Marine     GR       ILD  DeltaPHI  \\\n",
       "0  SHRIMPLIN  851.3064     A1 SH   1.000       1  77.45  4.613176       9.9   \n",
       "1  SHRIMPLIN  851.4588     A1 SH   0.979       1  78.26  4.581419      14.2   \n",
       "2  SHRIMPLIN  851.6112     A1 SH   0.957       1  79.05  4.549881      14.8   \n",
       "3  SHRIMPLIN  851.7636     A1 SH   0.936       1  86.10  4.518559      13.9   \n",
       "4  SHRIMPLIN  851.9160     A1 SH   0.915       1  74.58  4.436086      13.5   \n",
       "\n",
       "    PHIND   PE  Facies Completion Date  Index Source  \n",
       "0  11.915  4.6     3.0      2010-03-26     63    KGS  \n",
       "1  12.565  4.1     3.0      2010-03-26     64    KGS  \n",
       "2  13.050  3.6     3.0      2010-03-26     65    KGS  \n",
       "3  13.115  3.5     3.0      2010-03-26     66    KGS  \n",
       "4  13.300  3.4     3.0      2010-03-26     67    KGS  "
      ]
     },
     "execution_count": 37,
     "metadata": {},
     "output_type": "execute_result"
    }
   ],
   "source": [
    "df = pd.read_excel('https://geocomp.s3.amazonaws.com/data/Panoma_Field_Permian-RAW.xlsx', sheet_name='data')\n",
    "df.head()"
   ]
  },
  {
   "cell_type": "markdown",
   "metadata": {},
   "source": [
    "Without it, we get the first sheet, which in this case is not the data that we want, but it may still be useful:"
   ]
  },
  {
   "cell_type": "code",
   "execution_count": 38,
   "metadata": {},
   "outputs": [
    {
     "data": {
      "text/html": [
       "<div>\n",
       "<style scoped>\n",
       "    .dataframe tbody tr th:only-of-type {\n",
       "        vertical-align: middle;\n",
       "    }\n",
       "\n",
       "    .dataframe tbody tr th {\n",
       "        vertical-align: top;\n",
       "    }\n",
       "\n",
       "    .dataframe thead th {\n",
       "        text-align: right;\n",
       "    }\n",
       "</style>\n",
       "<table border=\"1\" class=\"dataframe\">\n",
       "  <thead>\n",
       "    <tr style=\"text-align: right;\">\n",
       "      <th></th>\n",
       "      <th>Column Name</th>\n",
       "      <th>Description</th>\n",
       "      <th>Units</th>\n",
       "    </tr>\n",
       "  </thead>\n",
       "  <tbody>\n",
       "    <tr>\n",
       "      <th>0</th>\n",
       "      <td>Index</td>\n",
       "      <td>Index for sorting records</td>\n",
       "      <td>NaN</td>\n",
       "    </tr>\n",
       "    <tr>\n",
       "      <th>1</th>\n",
       "      <td>Well Name</td>\n",
       "      <td>Name of the well that the record is from.</td>\n",
       "      <td>NaN</td>\n",
       "    </tr>\n",
       "    <tr>\n",
       "      <th>2</th>\n",
       "      <td>Depth</td>\n",
       "      <td>Measured depth below KB</td>\n",
       "      <td>NaN</td>\n",
       "    </tr>\n",
       "    <tr>\n",
       "      <th>3</th>\n",
       "      <td>Formation</td>\n",
       "      <td>Which formation the record is from. See accomp...</td>\n",
       "      <td>NaN</td>\n",
       "    </tr>\n",
       "    <tr>\n",
       "      <th>4</th>\n",
       "      <td>RelPos</td>\n",
       "      <td>Position of the record relative to a facies in...</td>\n",
       "      <td>NaN</td>\n",
       "    </tr>\n",
       "    <tr>\n",
       "      <th>5</th>\n",
       "      <td>Marine</td>\n",
       "      <td>Whether a record is of a marine rock (1) or no...</td>\n",
       "      <td>NaN</td>\n",
       "    </tr>\n",
       "    <tr>\n",
       "      <th>6</th>\n",
       "      <td>GR</td>\n",
       "      <td>Gamma Ray - natural radioactivity.</td>\n",
       "      <td>Unit: API units</td>\n",
       "    </tr>\n",
       "    <tr>\n",
       "      <th>7</th>\n",
       "      <td>DeltaPHI</td>\n",
       "      <td>Difference between the Neutron Porosity and th...</td>\n",
       "      <td>Unit: %</td>\n",
       "    </tr>\n",
       "    <tr>\n",
       "      <th>8</th>\n",
       "      <td>ILD</td>\n",
       "      <td>Induction Log Deep - Deep formation resistivity</td>\n",
       "      <td>Unit: Ohm.m</td>\n",
       "    </tr>\n",
       "    <tr>\n",
       "      <th>9</th>\n",
       "      <td>PHIND</td>\n",
       "      <td>Nuclear Density for porosity. Average of DPHI ...</td>\n",
       "      <td>Unit: API units</td>\n",
       "    </tr>\n",
       "    <tr>\n",
       "      <th>10</th>\n",
       "      <td>PE</td>\n",
       "      <td>Photoelectric factor.</td>\n",
       "      <td>Unit: Dimensionless</td>\n",
       "    </tr>\n",
       "    <tr>\n",
       "      <th>11</th>\n",
       "      <td>Facies</td>\n",
       "      <td>Numerical code for the Facies. Derived from co...</td>\n",
       "      <td>NaN</td>\n",
       "    </tr>\n",
       "    <tr>\n",
       "      <th>12</th>\n",
       "      <td>Completion Date</td>\n",
       "      <td>Drilling completion date.</td>\n",
       "      <td>NaN</td>\n",
       "    </tr>\n",
       "    <tr>\n",
       "      <th>13</th>\n",
       "      <td>Source</td>\n",
       "      <td>Original source of the data.</td>\n",
       "      <td>NaN</td>\n",
       "    </tr>\n",
       "  </tbody>\n",
       "</table>\n",
       "</div>"
      ],
      "text/plain": [
       "        Column Name                                        Description  \\\n",
       "0             Index                          Index for sorting records   \n",
       "1         Well Name          Name of the well that the record is from.   \n",
       "2             Depth                            Measured depth below KB   \n",
       "3         Formation  Which formation the record is from. See accomp...   \n",
       "4            RelPos  Position of the record relative to a facies in...   \n",
       "5            Marine  Whether a record is of a marine rock (1) or no...   \n",
       "6                GR                 Gamma Ray - natural radioactivity.   \n",
       "7          DeltaPHI  Difference between the Neutron Porosity and th...   \n",
       "8               ILD    Induction Log Deep - Deep formation resistivity   \n",
       "9             PHIND  Nuclear Density for porosity. Average of DPHI ...   \n",
       "10               PE                             Photoelectric factor.    \n",
       "11           Facies  Numerical code for the Facies. Derived from co...   \n",
       "12  Completion Date                          Drilling completion date.   \n",
       "13           Source                       Original source of the data.   \n",
       "\n",
       "                  Units  \n",
       "0                   NaN  \n",
       "1                   NaN  \n",
       "2                   NaN  \n",
       "3                   NaN  \n",
       "4                   NaN  \n",
       "5                   NaN  \n",
       "6       Unit: API units  \n",
       "7               Unit: %  \n",
       "8           Unit: Ohm.m  \n",
       "9       Unit: API units  \n",
       "10  Unit: Dimensionless  \n",
       "11                  NaN  \n",
       "12                  NaN  \n",
       "13                  NaN  "
      ]
     },
     "execution_count": 38,
     "metadata": {},
     "output_type": "execute_result"
    }
   ],
   "source": [
    "pd.read_excel('https://geocomp.s3.amazonaws.com/data/Panoma_Field_Permian-RAW.xlsx')"
   ]
  },
  {
   "cell_type": "markdown",
   "metadata": {},
   "source": [
    "We can also load all the worksheets as a dictionary by passing `sheet_name=None`, which gives us a dictionary of DataFrames, with the key being the sheet name:"
   ]
  },
  {
   "cell_type": "code",
   "execution_count": 39,
   "metadata": {},
   "outputs": [
    {
     "data": {
      "text/plain": [
       "{'metadata':         Column Name                                        Description  \\\n",
       " 0             Index                          Index for sorting records   \n",
       " 1         Well Name          Name of the well that the record is from.   \n",
       " 2             Depth                            Measured depth below KB   \n",
       " 3         Formation  Which formation the record is from. See accomp...   \n",
       " 4            RelPos  Position of the record relative to a facies in...   \n",
       " 5            Marine  Whether a record is of a marine rock (1) or no...   \n",
       " 6                GR                 Gamma Ray - natural radioactivity.   \n",
       " 7          DeltaPHI  Difference between the Neutron Porosity and th...   \n",
       " 8               ILD    Induction Log Deep - Deep formation resistivity   \n",
       " 9             PHIND  Nuclear Density for porosity. Average of DPHI ...   \n",
       " 10               PE                             Photoelectric factor.    \n",
       " 11           Facies  Numerical code for the Facies. Derived from co...   \n",
       " 12  Completion Date                          Drilling completion date.   \n",
       " 13           Source                       Original source of the data.   \n",
       " \n",
       "                   Units  \n",
       " 0                   NaN  \n",
       " 1                   NaN  \n",
       " 2                   NaN  \n",
       " 3                   NaN  \n",
       " 4                   NaN  \n",
       " 5                   NaN  \n",
       " 6       Unit: API units  \n",
       " 7               Unit: %  \n",
       " 8           Unit: Ohm.m  \n",
       " 9       Unit: API units  \n",
       " 10  Unit: Dimensionless  \n",
       " 11                  NaN  \n",
       " 12                  NaN  \n",
       " 13                  NaN  ,\n",
       " 'data':       Well Name      Depth Formation  RelPos  Marine      GR       ILD  \\\n",
       " 0     SHRIMPLIN   851.3064     A1 SH   1.000       1  77.450  4.613176   \n",
       " 1     SHRIMPLIN   851.4588     A1 SH   0.979       1  78.260  4.581419   \n",
       " 2     SHRIMPLIN   851.6112     A1 SH   0.957       1  79.050  4.549881   \n",
       " 3     SHRIMPLIN   851.7636     A1 SH   0.936       1  86.100  4.518559   \n",
       " 4     SHRIMPLIN   851.9160     A1 SH   0.915       1  74.580  4.436086   \n",
       " ...         ...        ...       ...     ...     ...     ...       ...   \n",
       " 4894   CRAWFORD  3158.5000   C Shale   0.639       0  86.078  3.580964   \n",
       " 4895   CRAWFORD  3159.0000   C Shale   0.611       0  88.855  3.459394   \n",
       " 4896   CRAWFORD  3159.5000   C Shale   0.583       0  90.490  3.388442   \n",
       " 4897   CRAWFORD  3160.0000   C Shale   0.556       0  90.975  3.326596   \n",
       " 4898   CRAWFORD  3160.5000   C Shale   0.528       0  90.108  3.258367   \n",
       " \n",
       "       DeltaPHI   PHIND     PE  Facies Completion Date  Index Source  \n",
       " 0        9.900  11.915  4.600     3.0      2010-03-26     63    KGS  \n",
       " 1       14.200  12.565  4.100     3.0      2010-03-26     64    KGS  \n",
       " 2       14.800  13.050  3.600     3.0      2010-03-26     65    KGS  \n",
       " 3       13.900  13.115  3.500     3.0      2010-03-26     66    KGS  \n",
       " 4       13.500  13.300  3.400     3.0      2010-03-26     67    KGS  \n",
       " ...        ...     ...    ...     ...             ...    ...    ...  \n",
       " 4894     5.040  16.150  3.161     2.0      2001-08-19   4957    KGS  \n",
       " 4895     5.560  16.750  3.118     2.0      2001-08-19   4958    KGS  \n",
       " 4896     6.360  16.780  3.168     2.0      2001-08-19   4959    KGS  \n",
       " 4897     7.035  16.995  3.154     2.0      2001-08-19   4960    KGS  \n",
       " 4898     7.505  17.595  3.125     2.0      2001-08-19   4961    KGS  \n",
       " \n",
       " [4899 rows x 14 columns]}"
      ]
     },
     "execution_count": 39,
     "metadata": {},
     "output_type": "execute_result"
    }
   ],
   "source": [
    "pd.read_excel('https://geocomp.s3.amazonaws.com/data/Panoma_Field_Permian-RAW.xlsx', sheet_name=None)"
   ]
  },
  {
   "cell_type": "markdown",
   "metadata": {},
   "source": [
    "Other formats are usually loaded in a similarly way, using the `pd.read_*` pattern: `pd.read_csv`, `pd.read_csv` and so on."
   ]
  },
  {
   "cell_type": "markdown",
   "metadata": {
    "tags": [
     "exercise"
    ]
   },
   "source": [
    "\n",
    "## Exercise\n",
    "\n",
    "* Select only the `Well Name`, `Depth` and `GR` columns.\n",
    "* Select only the records for the `LUKE G U` well. How many rows are there?\n",
    "* Select the `Depth` and `GR` columns only for the `LUKE G U` well.\n",
    "* Select the `Depth` and `GR` column for the `LUKE G U` well with depth greater than 850 m. What is the mean value of `GR`?"
   ]
  },
  {
   "cell_type": "code",
   "execution_count": null,
   "metadata": {},
   "outputs": [],
   "source": []
  },
  {
   "cell_type": "code",
   "execution_count": null,
   "metadata": {},
   "outputs": [],
   "source": []
  },
  {
   "cell_type": "code",
   "execution_count": null,
   "metadata": {},
   "outputs": [],
   "source": []
  },
  {
   "cell_type": "code",
   "execution_count": null,
   "metadata": {},
   "outputs": [],
   "source": []
  },
  {
   "cell_type": "code",
   "execution_count": null,
   "metadata": {},
   "outputs": [],
   "source": []
  },
  {
   "cell_type": "code",
   "execution_count": 40,
   "metadata": {
    "tags": [
     "hide"
    ]
   },
   "outputs": [
    {
     "data": {
      "text/html": [
       "<div>\n",
       "<style scoped>\n",
       "    .dataframe tbody tr th:only-of-type {\n",
       "        vertical-align: middle;\n",
       "    }\n",
       "\n",
       "    .dataframe tbody tr th {\n",
       "        vertical-align: top;\n",
       "    }\n",
       "\n",
       "    .dataframe thead th {\n",
       "        text-align: right;\n",
       "    }\n",
       "</style>\n",
       "<table border=\"1\" class=\"dataframe\">\n",
       "  <thead>\n",
       "    <tr style=\"text-align: right;\">\n",
       "      <th></th>\n",
       "      <th>Well Name</th>\n",
       "      <th>Depth</th>\n",
       "      <th>GR</th>\n",
       "    </tr>\n",
       "  </thead>\n",
       "  <tbody>\n",
       "    <tr>\n",
       "      <th>0</th>\n",
       "      <td>SHRIMPLIN</td>\n",
       "      <td>851.3064</td>\n",
       "      <td>77.450</td>\n",
       "    </tr>\n",
       "    <tr>\n",
       "      <th>1</th>\n",
       "      <td>SHRIMPLIN</td>\n",
       "      <td>851.4588</td>\n",
       "      <td>78.260</td>\n",
       "    </tr>\n",
       "    <tr>\n",
       "      <th>2</th>\n",
       "      <td>SHRIMPLIN</td>\n",
       "      <td>851.6112</td>\n",
       "      <td>79.050</td>\n",
       "    </tr>\n",
       "    <tr>\n",
       "      <th>3</th>\n",
       "      <td>SHRIMPLIN</td>\n",
       "      <td>851.7636</td>\n",
       "      <td>86.100</td>\n",
       "    </tr>\n",
       "    <tr>\n",
       "      <th>4</th>\n",
       "      <td>SHRIMPLIN</td>\n",
       "      <td>851.9160</td>\n",
       "      <td>74.580</td>\n",
       "    </tr>\n",
       "    <tr>\n",
       "      <th>...</th>\n",
       "      <td>...</td>\n",
       "      <td>...</td>\n",
       "      <td>...</td>\n",
       "    </tr>\n",
       "    <tr>\n",
       "      <th>4894</th>\n",
       "      <td>CRAWFORD</td>\n",
       "      <td>3158.5000</td>\n",
       "      <td>86.078</td>\n",
       "    </tr>\n",
       "    <tr>\n",
       "      <th>4895</th>\n",
       "      <td>CRAWFORD</td>\n",
       "      <td>3159.0000</td>\n",
       "      <td>88.855</td>\n",
       "    </tr>\n",
       "    <tr>\n",
       "      <th>4896</th>\n",
       "      <td>CRAWFORD</td>\n",
       "      <td>3159.5000</td>\n",
       "      <td>90.490</td>\n",
       "    </tr>\n",
       "    <tr>\n",
       "      <th>4897</th>\n",
       "      <td>CRAWFORD</td>\n",
       "      <td>3160.0000</td>\n",
       "      <td>90.975</td>\n",
       "    </tr>\n",
       "    <tr>\n",
       "      <th>4898</th>\n",
       "      <td>CRAWFORD</td>\n",
       "      <td>3160.5000</td>\n",
       "      <td>90.108</td>\n",
       "    </tr>\n",
       "  </tbody>\n",
       "</table>\n",
       "<p>4899 rows × 3 columns</p>\n",
       "</div>"
      ],
      "text/plain": [
       "      Well Name      Depth      GR\n",
       "0     SHRIMPLIN   851.3064  77.450\n",
       "1     SHRIMPLIN   851.4588  78.260\n",
       "2     SHRIMPLIN   851.6112  79.050\n",
       "3     SHRIMPLIN   851.7636  86.100\n",
       "4     SHRIMPLIN   851.9160  74.580\n",
       "...         ...        ...     ...\n",
       "4894   CRAWFORD  3158.5000  86.078\n",
       "4895   CRAWFORD  3159.0000  88.855\n",
       "4896   CRAWFORD  3159.5000  90.490\n",
       "4897   CRAWFORD  3160.0000  90.975\n",
       "4898   CRAWFORD  3160.5000  90.108\n",
       "\n",
       "[4899 rows x 3 columns]"
      ]
     },
     "execution_count": 40,
     "metadata": {},
     "output_type": "execute_result"
    }
   ],
   "source": [
    "df[['Well Name', 'Depth', 'GR']]"
   ]
  },
  {
   "cell_type": "code",
   "execution_count": 41,
   "metadata": {
    "tags": [
     "hide"
    ]
   },
   "outputs": [
    {
     "data": {
      "text/html": [
       "<div>\n",
       "<style scoped>\n",
       "    .dataframe tbody tr th:only-of-type {\n",
       "        vertical-align: middle;\n",
       "    }\n",
       "\n",
       "    .dataframe tbody tr th {\n",
       "        vertical-align: top;\n",
       "    }\n",
       "\n",
       "    .dataframe thead th {\n",
       "        text-align: right;\n",
       "    }\n",
       "</style>\n",
       "<table border=\"1\" class=\"dataframe\">\n",
       "  <thead>\n",
       "    <tr style=\"text-align: right;\">\n",
       "      <th></th>\n",
       "      <th>Well Name</th>\n",
       "      <th>Depth</th>\n",
       "      <th>Formation</th>\n",
       "      <th>RelPos</th>\n",
       "      <th>Marine</th>\n",
       "      <th>GR</th>\n",
       "      <th>ILD</th>\n",
       "      <th>DeltaPHI</th>\n",
       "      <th>PHIND</th>\n",
       "      <th>PE</th>\n",
       "      <th>Facies</th>\n",
       "      <th>Completion Date</th>\n",
       "      <th>Index</th>\n",
       "      <th>Source</th>\n",
       "    </tr>\n",
       "  </thead>\n",
       "  <tbody>\n",
       "    <tr>\n",
       "      <th>1386</th>\n",
       "      <td>LUKE G U</td>\n",
       "      <td>795.6804</td>\n",
       "      <td>A1 SH</td>\n",
       "      <td>1.000</td>\n",
       "      <td>1</td>\n",
       "      <td>74.90</td>\n",
       "      <td>6.053409</td>\n",
       "      <td>9.3</td>\n",
       "      <td>11.75</td>\n",
       "      <td>4.084</td>\n",
       "      <td>3.0</td>\n",
       "      <td>2012-10-01</td>\n",
       "      <td>1449</td>\n",
       "      <td>KGS</td>\n",
       "    </tr>\n",
       "    <tr>\n",
       "      <th>1387</th>\n",
       "      <td>LUKE G U</td>\n",
       "      <td>795.8328</td>\n",
       "      <td>A1 SH</td>\n",
       "      <td>0.981</td>\n",
       "      <td>1</td>\n",
       "      <td>83.80</td>\n",
       "      <td>5.559043</td>\n",
       "      <td>12.0</td>\n",
       "      <td>13.10</td>\n",
       "      <td>3.501</td>\n",
       "      <td>3.0</td>\n",
       "      <td>2012-10-01</td>\n",
       "      <td>1450</td>\n",
       "      <td>KGS</td>\n",
       "    </tr>\n",
       "    <tr>\n",
       "      <th>1388</th>\n",
       "      <td>LUKE G U</td>\n",
       "      <td>795.9852</td>\n",
       "      <td>A1 SH</td>\n",
       "      <td>0.962</td>\n",
       "      <td>1</td>\n",
       "      <td>86.97</td>\n",
       "      <td>5.321083</td>\n",
       "      <td>12.9</td>\n",
       "      <td>12.55</td>\n",
       "      <td>3.400</td>\n",
       "      <td>3.0</td>\n",
       "      <td>2012-10-01</td>\n",
       "      <td>1451</td>\n",
       "      <td>KGS</td>\n",
       "    </tr>\n",
       "    <tr>\n",
       "      <th>1389</th>\n",
       "      <td>LUKE G U</td>\n",
       "      <td>796.1376</td>\n",
       "      <td>A1 SH</td>\n",
       "      <td>0.943</td>\n",
       "      <td>1</td>\n",
       "      <td>84.43</td>\n",
       "      <td>5.105050</td>\n",
       "      <td>13.2</td>\n",
       "      <td>12.00</td>\n",
       "      <td>3.400</td>\n",
       "      <td>3.0</td>\n",
       "      <td>2012-10-01</td>\n",
       "      <td>1452</td>\n",
       "      <td>KGS</td>\n",
       "    </tr>\n",
       "    <tr>\n",
       "      <th>1390</th>\n",
       "      <td>LUKE G U</td>\n",
       "      <td>796.2900</td>\n",
       "      <td>A1 SH</td>\n",
       "      <td>0.925</td>\n",
       "      <td>1</td>\n",
       "      <td>78.51</td>\n",
       "      <td>5.105050</td>\n",
       "      <td>11.8</td>\n",
       "      <td>11.40</td>\n",
       "      <td>3.400</td>\n",
       "      <td>3.0</td>\n",
       "      <td>2012-10-01</td>\n",
       "      <td>1453</td>\n",
       "      <td>KGS</td>\n",
       "    </tr>\n",
       "    <tr>\n",
       "      <th>...</th>\n",
       "      <td>...</td>\n",
       "      <td>...</td>\n",
       "      <td>...</td>\n",
       "      <td>...</td>\n",
       "      <td>...</td>\n",
       "      <td>...</td>\n",
       "      <td>...</td>\n",
       "      <td>...</td>\n",
       "      <td>...</td>\n",
       "      <td>...</td>\n",
       "      <td>...</td>\n",
       "      <td>...</td>\n",
       "      <td>...</td>\n",
       "      <td>...</td>\n",
       "    </tr>\n",
       "    <tr>\n",
       "      <th>1842</th>\n",
       "      <td>LUKE G U</td>\n",
       "      <td>865.6320</td>\n",
       "      <td>C LM</td>\n",
       "      <td>0.074</td>\n",
       "      <td>2</td>\n",
       "      <td>79.48</td>\n",
       "      <td>4.886524</td>\n",
       "      <td>7.7</td>\n",
       "      <td>26.15</td>\n",
       "      <td>2.500</td>\n",
       "      <td>8.0</td>\n",
       "      <td>2012-10-01</td>\n",
       "      <td>1905</td>\n",
       "      <td>KGS</td>\n",
       "    </tr>\n",
       "    <tr>\n",
       "      <th>1843</th>\n",
       "      <td>LUKE G U</td>\n",
       "      <td>865.7844</td>\n",
       "      <td>C LM</td>\n",
       "      <td>0.059</td>\n",
       "      <td>2</td>\n",
       "      <td>62.88</td>\n",
       "      <td>4.886524</td>\n",
       "      <td>12.6</td>\n",
       "      <td>23.70</td>\n",
       "      <td>2.700</td>\n",
       "      <td>8.0</td>\n",
       "      <td>2012-10-01</td>\n",
       "      <td>1906</td>\n",
       "      <td>KGS</td>\n",
       "    </tr>\n",
       "    <tr>\n",
       "      <th>1844</th>\n",
       "      <td>LUKE G U</td>\n",
       "      <td>865.9368</td>\n",
       "      <td>C LM</td>\n",
       "      <td>0.044</td>\n",
       "      <td>2</td>\n",
       "      <td>41.04</td>\n",
       "      <td>4.295364</td>\n",
       "      <td>13.7</td>\n",
       "      <td>10.65</td>\n",
       "      <td>3.200</td>\n",
       "      <td>8.0</td>\n",
       "      <td>2012-10-01</td>\n",
       "      <td>1907</td>\n",
       "      <td>KGS</td>\n",
       "    </tr>\n",
       "    <tr>\n",
       "      <th>1845</th>\n",
       "      <td>LUKE G U</td>\n",
       "      <td>866.0892</td>\n",
       "      <td>C LM</td>\n",
       "      <td>0.029</td>\n",
       "      <td>2</td>\n",
       "      <td>33.99</td>\n",
       "      <td>3.689776</td>\n",
       "      <td>3.2</td>\n",
       "      <td>3.90</td>\n",
       "      <td>3.800</td>\n",
       "      <td>8.0</td>\n",
       "      <td>2012-10-01</td>\n",
       "      <td>1908</td>\n",
       "      <td>KGS</td>\n",
       "    </tr>\n",
       "    <tr>\n",
       "      <th>1846</th>\n",
       "      <td>LUKE G U</td>\n",
       "      <td>866.2416</td>\n",
       "      <td>C LM</td>\n",
       "      <td>0.015</td>\n",
       "      <td>2</td>\n",
       "      <td>30.81</td>\n",
       "      <td>3.111716</td>\n",
       "      <td>3.0</td>\n",
       "      <td>4.20</td>\n",
       "      <td>4.900</td>\n",
       "      <td>8.0</td>\n",
       "      <td>2012-10-01</td>\n",
       "      <td>1909</td>\n",
       "      <td>KGS</td>\n",
       "    </tr>\n",
       "  </tbody>\n",
       "</table>\n",
       "<p>461 rows × 14 columns</p>\n",
       "</div>"
      ],
      "text/plain": [
       "     Well Name     Depth Formation  RelPos  Marine     GR       ILD  DeltaPHI  \\\n",
       "1386  LUKE G U  795.6804     A1 SH   1.000       1  74.90  6.053409       9.3   \n",
       "1387  LUKE G U  795.8328     A1 SH   0.981       1  83.80  5.559043      12.0   \n",
       "1388  LUKE G U  795.9852     A1 SH   0.962       1  86.97  5.321083      12.9   \n",
       "1389  LUKE G U  796.1376     A1 SH   0.943       1  84.43  5.105050      13.2   \n",
       "1390  LUKE G U  796.2900     A1 SH   0.925       1  78.51  5.105050      11.8   \n",
       "...        ...       ...       ...     ...     ...    ...       ...       ...   \n",
       "1842  LUKE G U  865.6320      C LM   0.074       2  79.48  4.886524       7.7   \n",
       "1843  LUKE G U  865.7844      C LM   0.059       2  62.88  4.886524      12.6   \n",
       "1844  LUKE G U  865.9368      C LM   0.044       2  41.04  4.295364      13.7   \n",
       "1845  LUKE G U  866.0892      C LM   0.029       2  33.99  3.689776       3.2   \n",
       "1846  LUKE G U  866.2416      C LM   0.015       2  30.81  3.111716       3.0   \n",
       "\n",
       "      PHIND     PE  Facies Completion Date  Index Source  \n",
       "1386  11.75  4.084     3.0      2012-10-01   1449    KGS  \n",
       "1387  13.10  3.501     3.0      2012-10-01   1450    KGS  \n",
       "1388  12.55  3.400     3.0      2012-10-01   1451    KGS  \n",
       "1389  12.00  3.400     3.0      2012-10-01   1452    KGS  \n",
       "1390  11.40  3.400     3.0      2012-10-01   1453    KGS  \n",
       "...     ...    ...     ...             ...    ...    ...  \n",
       "1842  26.15  2.500     8.0      2012-10-01   1905    KGS  \n",
       "1843  23.70  2.700     8.0      2012-10-01   1906    KGS  \n",
       "1844  10.65  3.200     8.0      2012-10-01   1907    KGS  \n",
       "1845   3.90  3.800     8.0      2012-10-01   1908    KGS  \n",
       "1846   4.20  4.900     8.0      2012-10-01   1909    KGS  \n",
       "\n",
       "[461 rows x 14 columns]"
      ]
     },
     "execution_count": 41,
     "metadata": {},
     "output_type": "execute_result"
    }
   ],
   "source": [
    "df.loc[df['Well Name'] == 'LUKE G U']"
   ]
  },
  {
   "cell_type": "code",
   "execution_count": 42,
   "metadata": {
    "tags": [
     "hide"
    ]
   },
   "outputs": [
    {
     "data": {
      "text/html": [
       "<div>\n",
       "<style scoped>\n",
       "    .dataframe tbody tr th:only-of-type {\n",
       "        vertical-align: middle;\n",
       "    }\n",
       "\n",
       "    .dataframe tbody tr th {\n",
       "        vertical-align: top;\n",
       "    }\n",
       "\n",
       "    .dataframe thead th {\n",
       "        text-align: right;\n",
       "    }\n",
       "</style>\n",
       "<table border=\"1\" class=\"dataframe\">\n",
       "  <thead>\n",
       "    <tr style=\"text-align: right;\">\n",
       "      <th></th>\n",
       "      <th>Depth</th>\n",
       "      <th>GR</th>\n",
       "    </tr>\n",
       "  </thead>\n",
       "  <tbody>\n",
       "    <tr>\n",
       "      <th>1386</th>\n",
       "      <td>795.6804</td>\n",
       "      <td>74.90</td>\n",
       "    </tr>\n",
       "    <tr>\n",
       "      <th>1387</th>\n",
       "      <td>795.8328</td>\n",
       "      <td>83.80</td>\n",
       "    </tr>\n",
       "    <tr>\n",
       "      <th>1388</th>\n",
       "      <td>795.9852</td>\n",
       "      <td>86.97</td>\n",
       "    </tr>\n",
       "    <tr>\n",
       "      <th>1389</th>\n",
       "      <td>796.1376</td>\n",
       "      <td>84.43</td>\n",
       "    </tr>\n",
       "    <tr>\n",
       "      <th>1390</th>\n",
       "      <td>796.2900</td>\n",
       "      <td>78.51</td>\n",
       "    </tr>\n",
       "    <tr>\n",
       "      <th>...</th>\n",
       "      <td>...</td>\n",
       "      <td>...</td>\n",
       "    </tr>\n",
       "    <tr>\n",
       "      <th>1842</th>\n",
       "      <td>865.6320</td>\n",
       "      <td>79.48</td>\n",
       "    </tr>\n",
       "    <tr>\n",
       "      <th>1843</th>\n",
       "      <td>865.7844</td>\n",
       "      <td>62.88</td>\n",
       "    </tr>\n",
       "    <tr>\n",
       "      <th>1844</th>\n",
       "      <td>865.9368</td>\n",
       "      <td>41.04</td>\n",
       "    </tr>\n",
       "    <tr>\n",
       "      <th>1845</th>\n",
       "      <td>866.0892</td>\n",
       "      <td>33.99</td>\n",
       "    </tr>\n",
       "    <tr>\n",
       "      <th>1846</th>\n",
       "      <td>866.2416</td>\n",
       "      <td>30.81</td>\n",
       "    </tr>\n",
       "  </tbody>\n",
       "</table>\n",
       "<p>461 rows × 2 columns</p>\n",
       "</div>"
      ],
      "text/plain": [
       "         Depth     GR\n",
       "1386  795.6804  74.90\n",
       "1387  795.8328  83.80\n",
       "1388  795.9852  86.97\n",
       "1389  796.1376  84.43\n",
       "1390  796.2900  78.51\n",
       "...        ...    ...\n",
       "1842  865.6320  79.48\n",
       "1843  865.7844  62.88\n",
       "1844  865.9368  41.04\n",
       "1845  866.0892  33.99\n",
       "1846  866.2416  30.81\n",
       "\n",
       "[461 rows x 2 columns]"
      ]
     },
     "execution_count": 42,
     "metadata": {},
     "output_type": "execute_result"
    }
   ],
   "source": [
    "df.loc[df['Well Name'] == 'LUKE G U', ['Depth', 'GR']]\n",
    "# feel free to add .plot(x='GR', y='Depth', figsize=(2,6))"
   ]
  },
  {
   "cell_type": "code",
   "execution_count": 43,
   "metadata": {
    "tags": [
     "hide"
    ]
   },
   "outputs": [
    {
     "data": {
      "text/html": [
       "<div>\n",
       "<style scoped>\n",
       "    .dataframe tbody tr th:only-of-type {\n",
       "        vertical-align: middle;\n",
       "    }\n",
       "\n",
       "    .dataframe tbody tr th {\n",
       "        vertical-align: top;\n",
       "    }\n",
       "\n",
       "    .dataframe thead th {\n",
       "        text-align: right;\n",
       "    }\n",
       "</style>\n",
       "<table border=\"1\" class=\"dataframe\">\n",
       "  <thead>\n",
       "    <tr style=\"text-align: right;\">\n",
       "      <th></th>\n",
       "      <th>Depth</th>\n",
       "      <th>GR</th>\n",
       "    </tr>\n",
       "  </thead>\n",
       "  <tbody>\n",
       "    <tr>\n",
       "      <th>1743</th>\n",
       "      <td>850.0872</td>\n",
       "      <td>72.69</td>\n",
       "    </tr>\n",
       "    <tr>\n",
       "      <th>1744</th>\n",
       "      <td>850.2396</td>\n",
       "      <td>73.82</td>\n",
       "    </tr>\n",
       "    <tr>\n",
       "      <th>1745</th>\n",
       "      <td>850.3920</td>\n",
       "      <td>77.10</td>\n",
       "    </tr>\n",
       "    <tr>\n",
       "      <th>1746</th>\n",
       "      <td>850.5444</td>\n",
       "      <td>78.49</td>\n",
       "    </tr>\n",
       "    <tr>\n",
       "      <th>1747</th>\n",
       "      <td>850.6968</td>\n",
       "      <td>78.59</td>\n",
       "    </tr>\n",
       "    <tr>\n",
       "      <th>...</th>\n",
       "      <td>...</td>\n",
       "      <td>...</td>\n",
       "    </tr>\n",
       "    <tr>\n",
       "      <th>1842</th>\n",
       "      <td>865.6320</td>\n",
       "      <td>79.48</td>\n",
       "    </tr>\n",
       "    <tr>\n",
       "      <th>1843</th>\n",
       "      <td>865.7844</td>\n",
       "      <td>62.88</td>\n",
       "    </tr>\n",
       "    <tr>\n",
       "      <th>1844</th>\n",
       "      <td>865.9368</td>\n",
       "      <td>41.04</td>\n",
       "    </tr>\n",
       "    <tr>\n",
       "      <th>1845</th>\n",
       "      <td>866.0892</td>\n",
       "      <td>33.99</td>\n",
       "    </tr>\n",
       "    <tr>\n",
       "      <th>1846</th>\n",
       "      <td>866.2416</td>\n",
       "      <td>30.81</td>\n",
       "    </tr>\n",
       "  </tbody>\n",
       "</table>\n",
       "<p>104 rows × 2 columns</p>\n",
       "</div>"
      ],
      "text/plain": [
       "         Depth     GR\n",
       "1743  850.0872  72.69\n",
       "1744  850.2396  73.82\n",
       "1745  850.3920  77.10\n",
       "1746  850.5444  78.49\n",
       "1747  850.6968  78.59\n",
       "...        ...    ...\n",
       "1842  865.6320  79.48\n",
       "1843  865.7844  62.88\n",
       "1844  865.9368  41.04\n",
       "1845  866.0892  33.99\n",
       "1846  866.2416  30.81\n",
       "\n",
       "[104 rows x 2 columns]"
      ]
     },
     "execution_count": 43,
     "metadata": {},
     "output_type": "execute_result"
    }
   ],
   "source": [
    "df.loc[(df['Well Name'] == 'LUKE G U') & (df['Depth'] > 850), ['Depth', 'GR']]"
   ]
  },
  {
   "cell_type": "code",
   "execution_count": 44,
   "metadata": {
    "tags": [
     "hide"
    ]
   },
   "outputs": [
    {
     "data": {
      "text/plain": [
       "GR    67.665385\n",
       "dtype: float64"
      ]
     },
     "execution_count": 44,
     "metadata": {},
     "output_type": "execute_result"
    }
   ],
   "source": [
    "df.loc[(df['Well Name'] == 'LUKE G U') & (df['Depth'] > 850), ['GR']].mean()"
   ]
  },
  {
   "cell_type": "code",
   "execution_count": null,
   "metadata": {
    "tags": [
     "hide"
    ]
   },
   "outputs": [],
   "source": [
    "# This might be a bit much, but it can also show the utility of getting a subset out.\n",
    "import matplotlib.pyplot as plt\n",
    "\n",
    "fig, ax = plt.subplots(figsize=(2,6))\n",
    "df.loc[(df['Well Name'] == 'LUKE G U') & (df['Depth'] > 850),\n",
    "       ['GR', 'Depth']\n",
    "      ].plot(x='GR', y='Depth', ax=ax)\n",
    "ax.axvline(67.67, c='r')\n",
    "ax.invert_yaxis()"
   ]
  },
  {
   "cell_type": "markdown",
   "metadata": {},
   "source": [
    "## Writing Data Out\n",
    "\n",
    "Writing data out is similarly simple to reading it in, using one of the range of `to_*` functions. In this case, we will go with a simple `csv` format:"
   ]
  },
  {
   "cell_type": "code",
   "execution_count": 45,
   "metadata": {},
   "outputs": [],
   "source": [
    "df.to_csv('../data/Panoma_Field_Permian_RAW.csv', index=False)"
   ]
  },
  {
   "cell_type": "markdown",
   "metadata": {},
   "source": [
    "If we are comfortable with SQL, or have an existing database, we may wish to write our dataframe as a table there. We will use the Python implementation of [sqlite](https://www.sqlite.com/index.html), [sqlite3](https://docs.python.org/3/library/sqlite3.html). If you have an existing database you may prefer to look at [SQLalchemy](https://docs.sqlalchemy.org/) to create the connection instead:"
   ]
  },
  {
   "cell_type": "code",
   "execution_count": 46,
   "metadata": {},
   "outputs": [],
   "source": [
    "import sqlite3"
   ]
  },
  {
   "cell_type": "code",
   "execution_count": 47,
   "metadata": {},
   "outputs": [
    {
     "data": {
      "text/plain": [
       "4899"
      ]
     },
     "execution_count": 47,
     "metadata": {},
     "output_type": "execute_result"
    }
   ],
   "source": [
    "connection = sqlite3.connect('../data/panoma.db')\n",
    "df.to_sql('panoma_raw', con=connection, if_exists='replace', index=False)"
   ]
  },
  {
   "cell_type": "markdown",
   "metadata": {},
   "source": [
    "You could use `read_sql` to get data from a SQL database instead of reading a file."
   ]
  },
  {
   "cell_type": "markdown",
   "metadata": {},
   "source": [
    "<hr />\n",
    "\n",
    "<p style=\"color:gray\">©2022 Agile Geoscience. Licensed CC-BY.</p>"
   ]
  }
 ],
 "metadata": {
  "anaconda-cloud": {},
  "celltoolbar": "Tags",
  "kernelspec": {
   "display_name": "geoml",
   "language": "python",
   "name": "geoml"
  },
  "language_info": {
   "codemirror_mode": {
    "name": "ipython",
    "version": 3
   },
   "file_extension": ".py",
   "mimetype": "text/x-python",
   "name": "python",
   "nbconvert_exporter": "python",
   "pygments_lexer": "ipython3",
   "version": "3.9.12"
  }
 },
 "nbformat": 4,
 "nbformat_minor": 2
}
