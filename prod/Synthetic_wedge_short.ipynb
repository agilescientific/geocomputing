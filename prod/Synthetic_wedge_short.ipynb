{
 "cells": [
  {
   "cell_type": "markdown",
   "metadata": {},
   "source": [
    "# Synthetic seismic: wedge\n",
    "\n",
    "We're going to make the famous wedge model, which interpreters can use to visualize the tuning effect. Then we can extend the idea to other kinds of model.\n",
    "\n",
    "## Make a wedge earth model"
   ]
  },
  {
   "cell_type": "code",
   "execution_count": null,
   "metadata": {},
   "outputs": [],
   "source": [
    "import matplotlib.pyplot as plt\n",
    "import numpy as np"
   ]
  },
  {
   "cell_type": "code",
   "execution_count": null,
   "metadata": {},
   "outputs": [],
   "source": [
    "length = 80  # x range\n",
    "depth = 200  # z range"
   ]
  },
  {
   "cell_type": "markdown",
   "metadata": {
    "tags": [
     "exercise"
    ]
   },
   "source": [
    "### EXERCISE\n",
    "\n",
    "Make a NumPy array of integers with these dimensions, placing a boundary at a 'depth' of 66 and another at a depth of 133.\n",
    "\n",
    "A plot of a vertical section through this array should look something like:\n",
    "\n",
    "      |\n",
    "      |\n",
    "      ---\n",
    "        |\n",
    "        |\n",
    "        ---\n",
    "          |\n",
    "          |"
   ]
  },
  {
   "cell_type": "code",
   "execution_count": null,
   "metadata": {},
   "outputs": [],
   "source": [
    "# YOUR CODE HERE\n",
    "\n"
   ]
  },
  {
   "cell_type": "code",
   "execution_count": null,
   "metadata": {
    "tags": [
     "hide"
    ]
   },
   "outputs": [],
   "source": [
    "# We have to pass dtype=int or we get floats.\n",
    "# We need ints because we're going to use for indexing later.\n",
    "model = 1 + np.tri(depth, length, -depth//3, dtype=int)\n",
    "\n",
    "plt.imshow(model)\n",
    "plt.colorbar()\n",
    "plt.show()"
   ]
  },
  {
   "cell_type": "markdown",
   "metadata": {
    "tags": [
     "hide"
    ]
   },
   "source": [
    "Now set the upper part of the model — above the wedge — to zero."
   ]
  },
  {
   "cell_type": "code",
   "execution_count": null,
   "metadata": {
    "tags": [
     "hide"
    ]
   },
   "outputs": [],
   "source": [
    "model[:depth//3,:] = 0\n",
    "\n",
    "plt.imshow(model)\n",
    "plt.colorbar()\n",
    "plt.show()"
   ]
  },
  {
   "cell_type": "markdown",
   "metadata": {},
   "source": [
    "Now we can make some Vp-rho pairs (rock 0, rock 1, and rock 2)."
   ]
  },
  {
   "cell_type": "code",
   "execution_count": null,
   "metadata": {},
   "outputs": [],
   "source": [
    "rocks = np.array([[2540, 2550],   # <-- Upper layer\n",
    "                  [2400, 2450],   # <-- Wedge\n",
    "                  [2650, 2800]])  # <-- Lower layer"
   ]
  },
  {
   "cell_type": "markdown",
   "metadata": {},
   "source": [
    "Now we can use ['fancy indexing'](http://docs.scipy.org/doc/numpy/user/basics.indexing.html) to use `model`, which is an array of 0, 1, and 2, as the indices of the rock property pairs to 'grab' from `rocks`."
   ]
  },
  {
   "cell_type": "code",
   "execution_count": null,
   "metadata": {},
   "outputs": [],
   "source": [
    "earth = rocks[model]"
   ]
  },
  {
   "cell_type": "markdown",
   "metadata": {},
   "source": [
    "Now apply `np.prod` (product) to those Vp-rho pairs to get impedance at every sample."
   ]
  },
  {
   "cell_type": "code",
   "execution_count": null,
   "metadata": {},
   "outputs": [],
   "source": [
    "imp = np.apply_along_axis(np.prod, arr=earth, axis=-1)"
   ]
  },
  {
   "cell_type": "markdown",
   "metadata": {},
   "source": [
    "## Model seismic reflections\n",
    "\n",
    "Now we have an earth model — giving us acoustic impedance everywhere in this 2D grid — we define a function to compute reflection coefficients for every trace."
   ]
  },
  {
   "cell_type": "markdown",
   "metadata": {
    "tags": [
     "exercise"
    ]
   },
   "source": [
    "### EXERCISE\n",
    "\n",
    "Can you write a function to compute the reflection coefficients in this model?\n",
    "\n",
    "It should implement this equation, where $Z$ is acoustic impedance and :\n",
    "\n",
    "$$ R = \\frac{Z_\\mathrm{lower} - Z_\\mathrm{upper}}{Z_\\mathrm{lower} + Z_\\mathrm{upper}} $$\n",
    "\n",
    "The result should be a sparse 2D array of shape (199, 80). The upper interface of the wedge should be positive."
   ]
  },
  {
   "cell_type": "code",
   "execution_count": null,
   "metadata": {},
   "outputs": [],
   "source": [
    "def make_rc(imp):\n",
    "    \n",
    "    # YOUR CODE HERE\n",
    "    \n",
    "    return rc\n",
    "\n",
    "rc = make_rc(imp)"
   ]
  },
  {
   "cell_type": "code",
   "execution_count": null,
   "metadata": {
    "tags": [
     "hide"
    ]
   },
   "outputs": [],
   "source": [
    "def make_rc(imp):\n",
    "    \"\"\"\n",
    "    Compute reflection coefficients.\n",
    "    \"\"\"\n",
    "    upper = imp[ :-1, :]\n",
    "    lower = imp[1:  , :]\n",
    "    \n",
    "    return (lower - upper) / (lower + upper)\n",
    "\n",
    "rc = make_rc(imp)"
   ]
  },
  {
   "cell_type": "markdown",
   "metadata": {},
   "source": [
    "You should be able to plot the RC series like so:"
   ]
  },
  {
   "cell_type": "code",
   "execution_count": null,
   "metadata": {
    "tags": [
     "hide"
    ]
   },
   "outputs": [],
   "source": [
    "plt.figure(figsize=(8,4))\n",
    "plt.imshow(rc, aspect='auto')\n",
    "plt.colorbar()\n",
    "plt.show()"
   ]
  },
  {
   "cell_type": "markdown",
   "metadata": {
    "tags": [
     "exercise"
    ]
   },
   "source": [
    "### EXERCISE\n",
    "\n",
    "Implement a Ricker wavelet of frequency $f$ with amplitude $A$ at time $t$ given by:\n",
    "\n",
    "$$ \\mathbf{a}(\\mathbf{t}) = (1-2 \\pi^2 f^2 \\mathbf{t}^2) \\mathrm{e}^{-\\pi^2 f^2 \\mathbf{t}^2} $$"
   ]
  },
  {
   "cell_type": "code",
   "execution_count": null,
   "metadata": {},
   "outputs": [],
   "source": [
    "# YOUR CODE HERE\n",
    "\n"
   ]
  },
  {
   "cell_type": "markdown",
   "metadata": {
    "tags": [
     "hide"
    ]
   },
   "source": [
    "There is an implementation in `scipy.signal` but it has a 'width parameter' instead of 'frequency' so it's harder to parameterize.\n",
    "\n",
    "Instead, we'll use `bruges` to make a wavelet:"
   ]
  },
  {
   "cell_type": "code",
   "execution_count": null,
   "metadata": {
    "tags": [
     "hide"
    ]
   },
   "outputs": [],
   "source": [
    "from bruges.filters import ricker\n",
    "\n",
    "f = 25  # We'll use this later.\n",
    "w, t = ricker(duration=0.128, dt=0.001, f=f, return_t=True)\n",
    "\n",
    "plt.plot(t, w)\n",
    "plt.show()"
   ]
  },
  {
   "cell_type": "markdown",
   "metadata": {
    "tags": [
     "exercise"
    ]
   },
   "source": [
    "### EXERCISE\n",
    "\n",
    "Make an RC series 200 samples long, with one positive and one negative RC. Make a corresponding time array.\n",
    "\n",
    "Pass the RC series to `np.convolve()` along with the wavelet, then plot the resulting synthetic seismogram."
   ]
  },
  {
   "cell_type": "code",
   "execution_count": null,
   "metadata": {},
   "outputs": [],
   "source": [
    "# YOUR CODE HERE\n",
    "\n"
   ]
  },
  {
   "cell_type": "code",
   "execution_count": null,
   "metadata": {
    "tags": [
     "hide"
    ]
   },
   "outputs": [],
   "source": [
    "temp = np.zeros(200)\n",
    "temp[66] = 1\n",
    "temp[133] = -0.5\n",
    "\n",
    "tr = np.convolve(temp, w, mode='same')\n",
    "\n",
    "plt.plot(tr)"
   ]
  },
  {
   "cell_type": "markdown",
   "metadata": {},
   "source": [
    "## Synthetic wedge"
   ]
  },
  {
   "cell_type": "markdown",
   "metadata": {},
   "source": [
    "It's only a little trickier for us to apply 1D convolution to every trace in our 2D reflection coeeficient matrix. NumPy provides a function, `apply_along_axis()` to apply any function along any one axis of an n-dimensional array. I don't think it's much faster than looping, but I find it easier to think about."
   ]
  },
  {
   "cell_type": "code",
   "execution_count": null,
   "metadata": {},
   "outputs": [],
   "source": []
  },
  {
   "cell_type": "code",
   "execution_count": null,
   "metadata": {
    "tags": [
     "hide"
    ]
   },
   "outputs": [],
   "source": [
    "def convolve(trace, wavelet):\n",
    "    return np.convolve(trace, wavelet, mode='same')\n",
    "\n",
    "synth = np.apply_along_axis(convolve,\n",
    "                            axis=0,\n",
    "                            arr=rc,\n",
    "                            wavelet=w)\n",
    "\n",
    "plt.figure(figsize=(12,6))\n",
    "plt.imshow(synth, cmap=\"Greys\", aspect=0.2)\n",
    "plt.colorbar()\n",
    "plt.show()"
   ]
  },
  {
   "cell_type": "markdown",
   "metadata": {
    "tags": [
     "exercise"
    ]
   },
   "source": [
    "### EXERCISE\n",
    "\n",
    "Use `ipywidgets.interact` to turn this into an interactive plot, so that we can vary the frequency of the wavelet and see the effect on the synthetic.\n",
    "\n",
    "Here's a reminder of how to use it:\n",
    "\n",
    "    from ipywidgets import interact\n",
    "\n",
    "    @interact(a=(0, 10, 1), b=(0, 100, 10))\n",
    "    def main(a, b):\n",
    "        \"\"\"Do the things!\"\"\"\n",
    "        print(a + b)\n",
    "        return"
   ]
  },
  {
   "cell_type": "code",
   "execution_count": null,
   "metadata": {},
   "outputs": [],
   "source": [
    "# YOUR CODE HERE\n",
    "\n"
   ]
  },
  {
   "cell_type": "code",
   "execution_count": null,
   "metadata": {
    "tags": [
     "hide"
    ]
   },
   "outputs": [],
   "source": [
    "from ipywidgets import interact\n",
    "\n",
    "@interact(f=(4, 100, 4))\n",
    "def show(f):\n",
    "    w, t = ricker(duration=0.128, dt=0.001, f=f, return_t=True)\n",
    "    synth = np.apply_along_axis(convolve,\n",
    "                                axis=0,\n",
    "                                arr=rc,\n",
    "                                wavelet=w)\n",
    "    plt.figure(figsize=(12,6))\n",
    "    plt.imshow(synth, cmap=\"Greys\", aspect=0.2)\n",
    "    plt.colorbar()\n",
    "    plt.show()"
   ]
  },
  {
   "cell_type": "markdown",
   "metadata": {},
   "source": [
    "<hr />\n",
    "\n",
    "<div>\n",
    "<img src=\"https://avatars1.githubusercontent.com/u/1692321?s=50\"><p style=\"text-align:center\">© Agile Scientific 2020</p>\n",
    "</div>"
   ]
  }
 ],
 "metadata": {
  "anaconda-cloud": {},
  "celltoolbar": "Tags",
  "kernelspec": {
   "display_name": "geocomp",
   "language": "python",
   "name": "geocomp"
  },
  "language_info": {
   "codemirror_mode": {
    "name": "ipython",
    "version": 3
   },
   "file_extension": ".py",
   "mimetype": "text/x-python",
   "name": "python",
   "nbconvert_exporter": "python",
   "pygments_lexer": "ipython3",
   "version": "3.8.5"
  }
 },
 "nbformat": 4,
 "nbformat_minor": 2
}
