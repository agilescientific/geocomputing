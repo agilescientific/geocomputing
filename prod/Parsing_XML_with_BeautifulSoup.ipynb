{
 "cells": [
  {
   "cell_type": "markdown",
   "metadata": {},
   "source": [
    "# Parsing XML with BeautifulSoup\n",
    "\n",
    "[BeautifulSoup](https://www.crummy.com/software/BeautifulSoup/bs4/doc/) is a general way to read hierarchical, tree-like structures, e.g. XML and HTML.\n",
    "\n",
    "Let's read some XML! Here's the data:"
   ]
  },
  {
   "cell_type": "code",
   "execution_count": 1,
   "metadata": {},
   "outputs": [],
   "source": [
    "xml_text = \"\"\"<?xml version=\"1.0\" ?>\n",
    "<collection>\n",
    "<mineral>\n",
    "<name>Quartz</name>\n",
    "<hardness>7</hardness>\n",
    "<colour>colourless</colour>\n",
    "<info>Common in continental crust</info>\n",
    "</mineral>\n",
    "<mineral>\n",
    "<name>Olivine</name>\n",
    "<hardness>6.5</hardness>\n",
    "<colour>green</colour>\n",
    "<info>Very common in the mantle</info>\n",
    "</mineral>\n",
    "</collection>\n",
    "\"\"\""
   ]
  },
  {
   "cell_type": "code",
   "execution_count": 2,
   "metadata": {
    "scrolled": true
   },
   "outputs": [
    {
     "name": "stdout",
     "output_type": "stream",
     "text": [
      "<?xml version=\"1.0\" encoding=\"utf-8\"?>\n",
      "<collection>\n",
      " <mineral>\n",
      "  <name>\n",
      "   Quartz\n",
      "  </name>\n",
      "  <hardness>\n",
      "   7\n",
      "  </hardness>\n",
      "  <colour>\n",
      "   colourless\n",
      "  </colour>\n",
      "  <info>\n",
      "   Common in continental crust\n",
      "  </info>\n",
      " </mineral>\n",
      " <mineral>\n",
      "  <name>\n",
      "   Olivine\n",
      "  </name>\n",
      "  <hardness>\n",
      "   6.5\n",
      "  </hardness>\n",
      "  <colour>\n",
      "   green\n",
      "  </colour>\n",
      "  <info>\n",
      "   Very common in the mantle\n",
      "  </info>\n",
      " </mineral>\n",
      "</collection>\n"
     ]
    }
   ],
   "source": [
    "from bs4 import BeautifulSoup\n",
    "\n",
    "soup = BeautifulSoup(xml_text, 'xml')\n",
    "\n",
    "print(soup.prettify())"
   ]
  },
  {
   "cell_type": "markdown",
   "metadata": {},
   "source": [
    "## Find all of a particular field"
   ]
  },
  {
   "cell_type": "code",
   "execution_count": 3,
   "metadata": {},
   "outputs": [
    {
     "data": {
      "text/plain": [
       "[<name>Quartz</name>, <name>Olivine</name>]"
      ]
     },
     "execution_count": 3,
     "metadata": {},
     "output_type": "execute_result"
    }
   ],
   "source": [
    "minerals = soup.find_all('name')\n",
    "minerals"
   ]
  },
  {
   "cell_type": "code",
   "execution_count": 4,
   "metadata": {},
   "outputs": [
    {
     "name": "stdout",
     "output_type": "stream",
     "text": [
      "Quartz\n",
      "Olivine\n"
     ]
    }
   ],
   "source": [
    "for mineral in minerals:\n",
    "    print(mineral.get_text())"
   ]
  },
  {
   "cell_type": "markdown",
   "metadata": {},
   "source": [
    "## Put data in `pandas`"
   ]
  },
  {
   "cell_type": "code",
   "execution_count": 5,
   "metadata": {},
   "outputs": [],
   "source": [
    "minerals = soup.find_all('mineral')"
   ]
  },
  {
   "cell_type": "code",
   "execution_count": 6,
   "metadata": {},
   "outputs": [],
   "source": [
    "import pandas as pd\n",
    "\n",
    "data = []\n",
    "for mineral in minerals:\n",
    "    d = [x for x in filter(None, mineral.get_text().split('\\n'))]\n",
    "    data.append(d)\n",
    "    \n",
    "# I'm sure there's a better way to get these names...\n",
    "df = pd.DataFrame(data, columns=['Name', 'Hardness', 'Color', 'Info'])"
   ]
  },
  {
   "cell_type": "code",
   "execution_count": 7,
   "metadata": {},
   "outputs": [
    {
     "data": {
      "text/html": [
       "<div>\n",
       "<style scoped>\n",
       "    .dataframe tbody tr th:only-of-type {\n",
       "        vertical-align: middle;\n",
       "    }\n",
       "\n",
       "    .dataframe tbody tr th {\n",
       "        vertical-align: top;\n",
       "    }\n",
       "\n",
       "    .dataframe thead th {\n",
       "        text-align: right;\n",
       "    }\n",
       "</style>\n",
       "<table border=\"1\" class=\"dataframe\">\n",
       "  <thead>\n",
       "    <tr style=\"text-align: right;\">\n",
       "      <th></th>\n",
       "      <th>Name</th>\n",
       "      <th>Hardness</th>\n",
       "      <th>Color</th>\n",
       "      <th>Info</th>\n",
       "    </tr>\n",
       "  </thead>\n",
       "  <tbody>\n",
       "    <tr>\n",
       "      <th>0</th>\n",
       "      <td>Quartz</td>\n",
       "      <td>7</td>\n",
       "      <td>colourless</td>\n",
       "      <td>Common in continental crust</td>\n",
       "    </tr>\n",
       "    <tr>\n",
       "      <th>1</th>\n",
       "      <td>Olivine</td>\n",
       "      <td>6.5</td>\n",
       "      <td>green</td>\n",
       "      <td>Very common in the mantle</td>\n",
       "    </tr>\n",
       "  </tbody>\n",
       "</table>\n",
       "</div>"
      ],
      "text/plain": [
       "      Name Hardness       Color                         Info\n",
       "0   Quartz        7  colourless  Common in continental crust\n",
       "1  Olivine      6.5       green    Very common in the mantle"
      ]
     },
     "execution_count": 7,
     "metadata": {},
     "output_type": "execute_result"
    }
   ],
   "source": [
    "df"
   ]
  },
  {
   "cell_type": "markdown",
   "metadata": {},
   "source": [
    "## Select\n",
    "\n",
    "Sometimes you'd like to be more specific about what you're selecting. Then you can use `select()`, which on a simple level does what `find_all()` can do..."
   ]
  },
  {
   "cell_type": "code",
   "execution_count": 8,
   "metadata": {},
   "outputs": [
    {
     "data": {
      "text/plain": [
       "[<info>Common in continental crust</info>,\n",
       " <info>Very common in the mantle</info>]"
      ]
     },
     "execution_count": 8,
     "metadata": {},
     "output_type": "execute_result"
    }
   ],
   "source": [
    "soup.select('info')"
   ]
  },
  {
   "cell_type": "markdown",
   "metadata": {},
   "source": [
    "...but you can also pass full branches: `soup.select(\"div[id=foo] > div > div[class=fee] > span > span > a\"`"
   ]
  },
  {
   "cell_type": "code",
   "execution_count": 9,
   "metadata": {},
   "outputs": [
    {
     "data": {
      "text/plain": [
       "[<info>Common in continental crust</info>,\n",
       " <info>Very common in the mantle</info>]"
      ]
     },
     "execution_count": 9,
     "metadata": {},
     "output_type": "execute_result"
    }
   ],
   "source": [
    "soup.select('collection > mineral > info')"
   ]
  },
  {
   "cell_type": "code",
   "execution_count": 10,
   "metadata": {},
   "outputs": [
    {
     "data": {
      "text/plain": [
       "['Common in continental crust', 'Very common in the mantle']"
      ]
     },
     "execution_count": 10,
     "metadata": {},
     "output_type": "execute_result"
    }
   ],
   "source": [
    "[i.text for i in soup.select('collection > mineral > info')]"
   ]
  }
 ],
 "metadata": {
  "kernelspec": {
   "display_name": "geocomp",
   "language": "python",
   "name": "geocomp"
  },
  "language_info": {
   "codemirror_mode": {
    "name": "ipython",
    "version": 3
   },
   "file_extension": ".py",
   "mimetype": "text/x-python",
   "name": "python",
   "nbconvert_exporter": "python",
   "pygments_lexer": "ipython3",
   "version": "3.7.0"
  }
 },
 "nbformat": 4,
 "nbformat_minor": 2
}
