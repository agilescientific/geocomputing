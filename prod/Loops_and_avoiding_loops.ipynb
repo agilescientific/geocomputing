{
 "cells": [
  {
   "cell_type": "markdown",
   "metadata": {},
   "source": [
    "# Loops and avoiding loops\n",
    "\n",
    "There are several ways to loop, explicitly or implicitly.\n",
    "\n",
    "For numerical problems, the fastest ways is to avoid a loop by using a **NumPy array**. We'll look at this last.\n",
    "\n",
    "For general problems, the **`for` loop** is probably the best way to go. If the contents of the loop are fairly simple, then a **list comprehension** might be slightly better. Occasionally, it might make more sense to use a **`while` loop**.\n",
    "\n",
    "If you don't actually need to manifest the new object in memory (for example, because you're going to loop over it), then a **generator expression** or **`map`** is good because they don't actually perform the operation until required to yield the next item. (This is called 'lazy evaluation'). \n",
    "\n",
    "----\n",
    "\n",
    "Let's solve the same problem &mdash; collecting the squares of the numbers 0, 10, 20... 100 &mdash; a few different ways. \n",
    "\n",
    "We could use something like `range(0, 101, 10)` to generate the list of input numbers on the fly, but to keep the amount of code I need to explain down to a minimum, I'll just define the input variable `numbers` literally:"
   ]
  },
  {
   "cell_type": "code",
   "execution_count": 56,
   "metadata": {},
   "outputs": [],
   "source": [
    "numbers = [0, 10, 20, 30, 40, 50, 60, 70, 80, 90, 100]"
   ]
  },
  {
   "cell_type": "markdown",
   "metadata": {},
   "source": [
    "## `while`"
   ]
  },
  {
   "cell_type": "code",
   "execution_count": 57,
   "metadata": {},
   "outputs": [
    {
     "data": {
      "text/plain": [
       "[0, 100, 400, 900, 1600, 2500, 3600, 4900, 6400, 8100, 10000]"
      ]
     },
     "execution_count": 57,
     "metadata": {},
     "output_type": "execute_result"
    }
   ],
   "source": [
    "squares = []\n",
    "i = 0\n",
    "\n",
    "while i <= 10:\n",
    "    n = numbers[i]\n",
    "    squares.append(n**2)\n",
    "    i += 1\n",
    "\n",
    "squares"
   ]
  },
  {
   "cell_type": "markdown",
   "metadata": {},
   "source": [
    "In practice, it's relatively rare to see `while` loops in Python, and you almost never see counters used in this way (to index into some array). The `while` loop is useful sometimes though, e.g. in situations where you are iterating some process operating on a set of inputs, rather than iterating over an array or collection of items. For that kind of task, `for` loops are usually a better way to go."
   ]
  },
  {
   "cell_type": "markdown",
   "metadata": {},
   "source": [
    "## `for`"
   ]
  },
  {
   "cell_type": "code",
   "execution_count": 58,
   "metadata": {},
   "outputs": [
    {
     "data": {
      "text/plain": [
       "[0, 100, 400, 900, 1600, 2500, 3600, 4900, 6400, 8100, 10000]"
      ]
     },
     "execution_count": 58,
     "metadata": {},
     "output_type": "execute_result"
    }
   ],
   "source": [
    "squares = []\n",
    "for n in numbers:\n",
    "    squares.append(n**2)\n",
    "    \n",
    "squares"
   ]
  },
  {
   "cell_type": "markdown",
   "metadata": {
    "tags": [
     "exercise"
    ]
   },
   "source": [
    "### Exercise\n",
    "\n",
    "- Use a `for` loop and string methods to process this list into a new one that is just a list of rock names."
   ]
  },
  {
   "cell_type": "code",
   "execution_count": 59,
   "metadata": {},
   "outputs": [
    {
     "name": "stdout",
     "output_type": "stream",
     "text": [
      "# Sandstone: 2300 m/s\n",
      "# Limestone: 3500 m/s\n",
      "# Shale: 2450 m/s\n",
      "# Salt: 4500 m/s\n"
     ]
    }
   ],
   "source": [
    "rocks = '# Sandstone: 2300 m/s\\n# Limestone: 3500 m/s\\n# Shale: 2450 m/s\\n# Salt: 4500 m/s'\n",
    "print(rocks)"
   ]
  },
  {
   "cell_type": "code",
   "execution_count": 60,
   "metadata": {},
   "outputs": [],
   "source": [
    "# Your code here."
   ]
  },
  {
   "cell_type": "code",
   "execution_count": 61,
   "metadata": {
    "tags": [
     "hide"
    ]
   },
   "outputs": [
    {
     "data": {
      "text/plain": [
       "['Sandstone', 'Limestone', 'Shale', 'Salt']"
      ]
     },
     "execution_count": 61,
     "metadata": {},
     "output_type": "execute_result"
    }
   ],
   "source": [
    "names = []\n",
    "for rock in rocks.split('\\n'):\n",
    "    name = rock[:rock.find(':')]\n",
    "    names.append(name.strip('# '))\n",
    "    \n",
    "names"
   ]
  },
  {
   "cell_type": "markdown",
   "metadata": {},
   "source": [
    "In fact, we often use [regular expressions](https://docs.python.org/3/library/re.html) for tasks like this. "
   ]
  },
  {
   "cell_type": "code",
   "execution_count": 62,
   "metadata": {},
   "outputs": [
    {
     "data": {
      "text/plain": [
       "['Sandstone', 'Limestone', 'Shale', 'Salt']"
      ]
     },
     "execution_count": 62,
     "metadata": {},
     "output_type": "execute_result"
    }
   ],
   "source": [
    "import re\n",
    "\n",
    "rock = '# Sandstone: 2300 m/s'\n",
    "name = re.findall(r'# (\\w+):', rocks)\n",
    "name"
   ]
  },
  {
   "cell_type": "markdown",
   "metadata": {},
   "source": [
    "## List comprehension\n",
    "\n",
    "A compact way to write a `for` loop... it's also faster than a loop."
   ]
  },
  {
   "cell_type": "code",
   "execution_count": 64,
   "metadata": {},
   "outputs": [
    {
     "data": {
      "text/plain": [
       "[0, 100, 400, 900, 1600, 2500, 3600, 4900, 6400, 8100, 10000]"
      ]
     },
     "execution_count": 64,
     "metadata": {},
     "output_type": "execute_result"
    }
   ],
   "source": [
    "squares = [n**2 for n in numbers]\n",
    "\n",
    "squares"
   ]
  },
  {
   "cell_type": "markdown",
   "metadata": {},
   "source": [
    "Sometimes, we don't actually need to instantiate the entire list &mdash; or if it very large, we might not be able to without running out of memory or disk space. If we're going to pass this new object on to some other loop or  function, we might be able to use a **generator expression** instead:"
   ]
  },
  {
   "cell_type": "code",
   "execution_count": 92,
   "metadata": {},
   "outputs": [
    {
     "data": {
      "text/plain": [
       "<generator object <genexpr> at 0x7f64b4d69138>"
      ]
     },
     "execution_count": 92,
     "metadata": {},
     "output_type": "execute_result"
    }
   ],
   "source": [
    "(n**2 for n in numbers)"
   ]
  },
  {
   "cell_type": "markdown",
   "metadata": {},
   "source": [
    "If we use this in the next step of our process, the new list of squares never actually gets instantiated, so we save taking up a chunk of memory."
   ]
  },
  {
   "cell_type": "code",
   "execution_count": 93,
   "metadata": {},
   "outputs": [
    {
     "name": "stdout",
     "output_type": "stream",
     "text": [
      "Result: 0\n",
      "Result: 100\n",
      "Result: 400\n",
      "Result: 900\n",
      "Result: 1600\n",
      "Result: 2500\n",
      "Result: 3600\n",
      "Result: 4900\n",
      "Result: 6400\n",
      "Result: 8100\n",
      "Result: 10000\n"
     ]
    }
   ],
   "source": [
    "for item in (n**2 for n in numbers):\n",
    "    print(\"Result:\", item)"
   ]
  },
  {
   "cell_type": "markdown",
   "metadata": {
    "tags": [
     "exercise"
    ]
   },
   "source": [
    "### Exercise\n",
    "\n",
    "- Use a list comprehension to perform the string processing task in the previous exercise."
   ]
  },
  {
   "cell_type": "code",
   "execution_count": 65,
   "metadata": {},
   "outputs": [],
   "source": [
    "# Your code here."
   ]
  },
  {
   "cell_type": "code",
   "execution_count": 66,
   "metadata": {
    "tags": [
     "hide"
    ]
   },
   "outputs": [
    {
     "data": {
      "text/plain": [
       "['Sandstone', 'Limestone', 'Shale', 'Salt']"
      ]
     },
     "execution_count": 66,
     "metadata": {},
     "output_type": "execute_result"
    }
   ],
   "source": [
    "[re.sub(r'# ([a-zA-Z]+).*', r'\\1', rock) for rock in rocks.split('\\n')]"
   ]
  },
  {
   "cell_type": "markdown",
   "metadata": {},
   "source": [
    "## `map`\n",
    "\n",
    "We often perform tasks on sequences by writing a function that takes a list as an argument. We pass our list to the function and it gets processed, and we get some result back.\n",
    "\n",
    "You can think of `map` as 'sending' a function to an object, rather than the other way around. This approach is an example of what is known as 'functional programming'. \n",
    "\n",
    "We start by defining a function to map to the object. The function should take a single argument, which represents the element of the sequence at each step of the iteration:"
   ]
  },
  {
   "cell_type": "code",
   "execution_count": 67,
   "metadata": {},
   "outputs": [],
   "source": [
    "def square(x):\n",
    "    return x**2"
   ]
  },
  {
   "cell_type": "code",
   "execution_count": 68,
   "metadata": {},
   "outputs": [
    {
     "data": {
      "text/plain": [
       "<map at 0x7f64b4d42be0>"
      ]
     },
     "execution_count": 68,
     "metadata": {},
     "output_type": "execute_result"
    }
   ],
   "source": [
    "squares = map(square, numbers)\n",
    "\n",
    "squares"
   ]
  },
  {
   "cell_type": "markdown",
   "metadata": {},
   "source": [
    "Notice that this doesn't give us a list, we get a `map` object. We can loop over this without doing anything to it, but if we just want a list, like we got from our previous methods, we'll have to typecast it to a `list`."
   ]
  },
  {
   "cell_type": "code",
   "execution_count": 30,
   "metadata": {},
   "outputs": [
    {
     "data": {
      "text/plain": [
       "[0, 100, 400, 900, 1600, 2500, 3600, 4900, 6400, 8100, 10000]"
      ]
     },
     "execution_count": 30,
     "metadata": {},
     "output_type": "execute_result"
    }
   ],
   "source": [
    "list(squares)"
   ]
  },
  {
   "cell_type": "markdown",
   "metadata": {},
   "source": [
    "There is an alternative to this. Since Python 3.5 we are also allowed to use unpacking with a strange-looking comma, to get a tuple, but I think this barely looks like Python code:"
   ]
  },
  {
   "cell_type": "code",
   "execution_count": 38,
   "metadata": {},
   "outputs": [
    {
     "data": {
      "text/plain": [
       "(0, 100, 400, 900, 1600, 2500, 3600, 4900, 6400, 8100, 10000)"
      ]
     },
     "execution_count": 38,
     "metadata": {},
     "output_type": "execute_result"
    }
   ],
   "source": [
    "*map(square, range(0, 101, 10)),"
   ]
  },
  {
   "cell_type": "markdown",
   "metadata": {},
   "source": [
    "### A note about partials\n",
    "\n",
    "Notice that we don't get to send any parameters to the function in `map`, we essentially just send each element of the collection one at a time. It is possible to use `map` with functions that take multiple arguments with the application of something called [\"partial application\"](https://en.wikipedia.org/wiki/Partial_application). \n",
    "\n",
    "Suppose that instead of a function `square()`, we happen to have a more general function `power()`, that also takes the power to which we want to raise a number:"
   ]
  },
  {
   "cell_type": "code",
   "execution_count": 69,
   "metadata": {},
   "outputs": [
    {
     "data": {
      "text/plain": [
       "900"
      ]
     },
     "execution_count": 69,
     "metadata": {},
     "output_type": "execute_result"
    }
   ],
   "source": [
    "def power(x, y):\n",
    "        return x ** y\n",
    "\n",
    "power(30, 2)"
   ]
  },
  {
   "cell_type": "markdown",
   "metadata": {},
   "source": [
    "We'd like to use this in our `map` with `y = 2` in every case. Naively, we might try this:"
   ]
  },
  {
   "cell_type": "code",
   "execution_count": 74,
   "metadata": {},
   "outputs": [
    {
     "ename": "TypeError",
     "evalue": "power() missing 1 required positional argument: 'x'",
     "output_type": "error",
     "traceback": [
      "\u001b[0;31m---------------------------------------------------------------------------\u001b[0m",
      "\u001b[0;31mTypeError\u001b[0m                                 Traceback (most recent call last)",
      "\u001b[0;32m<ipython-input-74-6870a8641c04>\u001b[0m in \u001b[0;36m<module>\u001b[0;34m\u001b[0m\n\u001b[0;32m----> 1\u001b[0;31m \u001b[0mlist\u001b[0m\u001b[0;34m(\u001b[0m\u001b[0mmap\u001b[0m\u001b[0;34m(\u001b[0m\u001b[0mpower\u001b[0m\u001b[0;34m(\u001b[0m\u001b[0my\u001b[0m\u001b[0;34m=\u001b[0m\u001b[0;36m2\u001b[0m\u001b[0;34m)\u001b[0m\u001b[0;34m,\u001b[0m \u001b[0mnumbers\u001b[0m\u001b[0;34m)\u001b[0m\u001b[0;34m)\u001b[0m\u001b[0;34m\u001b[0m\u001b[0m\n\u001b[0m",
      "\u001b[0;31mTypeError\u001b[0m: power() missing 1 required positional argument: 'x'"
     ]
    }
   ],
   "source": [
    "list(map(power(y=2), numbers))"
   ]
  },
  {
   "cell_type": "markdown",
   "metadata": {},
   "source": [
    "To satisfy `map`, we need to create a new function that only requires `x` as input. We can do this in a couple of ways &mdash; by wrapping our function in another function, or by the use of Python's `functools` library.\n",
    "\n",
    "First, let's wrap our function. Notice that this new function just returns the result of sending its input to `power` with `y = 2`."
   ]
  },
  {
   "cell_type": "code",
   "execution_count": 75,
   "metadata": {},
   "outputs": [
    {
     "data": {
      "text/plain": [
       "[0, 100, 400, 900, 1600, 2500, 3600, 4900, 6400, 8100, 10000]"
      ]
     },
     "execution_count": 75,
     "metadata": {},
     "output_type": "execute_result"
    }
   ],
   "source": [
    "def square(x):\n",
    "    return power(x, 2)\n",
    "\n",
    "list(map(square, numbers))"
   ]
  },
  {
   "cell_type": "markdown",
   "metadata": {},
   "source": [
    "Alternatively, we can use the `partial()` function from the `functools` library to do the same job. It takes `square` as the first argument, and the arguments of `square()` to set as subsequent arguments (by default, it takes them in order, so we have to specify that we're setting `y`)."
   ]
  },
  {
   "cell_type": "code",
   "execution_count": 76,
   "metadata": {},
   "outputs": [
    {
     "data": {
      "text/plain": [
       "[0, 100, 400, 900, 1600, 2500, 3600, 4900, 6400, 8100, 10000]"
      ]
     },
     "execution_count": 76,
     "metadata": {},
     "output_type": "execute_result"
    }
   ],
   "source": [
    "from functools import partial\n",
    "\n",
    "square = partial(power, y=2)\n",
    "\n",
    "list(map(square, numbers))"
   ]
  },
  {
   "cell_type": "markdown",
   "metadata": {},
   "source": [
    "### A note about `lambda`\n",
    "\n",
    "Notice that in the previous sections, we define the function `square()`, and immediately use it. It may turn out that we don't need to use it again &mdash; it was a one-time need.\n",
    "\n",
    "In practice, we often don't define a function in this kind of situation. If we don't want to use it again, and this is the only thing we needed it for, then we often make a `lambda` instead. \n",
    "\n",
    "Lambdas are just unnamed functions. So our `square()` function is equivalent to this:"
   ]
  },
  {
   "cell_type": "code",
   "execution_count": 81,
   "metadata": {},
   "outputs": [
    {
     "data": {
      "text/plain": [
       "<function __main__.<lambda>(x)>"
      ]
     },
     "execution_count": 81,
     "metadata": {},
     "output_type": "execute_result"
    }
   ],
   "source": [
    "lambda x: x**2"
   ]
  },
  {
   "cell_type": "markdown",
   "metadata": {},
   "source": [
    "We can use a `lambda` anywhere we would normally use a function. Here's how we might define the `map` with a lambda:"
   ]
  },
  {
   "cell_type": "code",
   "execution_count": 82,
   "metadata": {},
   "outputs": [
    {
     "data": {
      "text/plain": [
       "[0, 100, 400, 900, 1600, 2500, 3600, 4900, 6400, 8100, 10000]"
      ]
     },
     "execution_count": 82,
     "metadata": {},
     "output_type": "execute_result"
    }
   ],
   "source": [
    "squares = map(lambda x: x**2, numbers)\n",
    "\n",
    "list(squares)"
   ]
  },
  {
   "cell_type": "markdown",
   "metadata": {},
   "source": [
    "By the way, here's a gotcha: we can only cast it once. The map is an iterator, and once it has iterated it is 'used up' so to speak."
   ]
  },
  {
   "cell_type": "code",
   "execution_count": 83,
   "metadata": {},
   "outputs": [
    {
     "data": {
      "text/plain": [
       "[]"
      ]
     },
     "execution_count": 83,
     "metadata": {},
     "output_type": "execute_result"
    }
   ],
   "source": [
    "list(squares)"
   ]
  },
  {
   "cell_type": "markdown",
   "metadata": {
    "tags": [
     "exercise"
    ]
   },
   "source": [
    "### Exercise\n",
    "\n",
    "- Perform the string processing task as a `map`."
   ]
  },
  {
   "cell_type": "code",
   "execution_count": 84,
   "metadata": {},
   "outputs": [
    {
     "data": {
      "text/plain": [
       "['Sandstone', 'Limestone', 'Shale', 'Salt']"
      ]
     },
     "execution_count": 84,
     "metadata": {},
     "output_type": "execute_result"
    }
   ],
   "source": [
    "# Make a function to process each item. Call it 'process'.\n",
    "# Your code here.\n",
    "\n",
    "rock_list = rocks.split('\\n')\n",
    "list(map(process, rock_list))"
   ]
  },
  {
   "cell_type": "markdown",
   "metadata": {},
   "source": [
    "This should give:\n",
    "\n",
    "    ['Sandstone', 'Limestone', 'Shale', 'Salt']"
   ]
  },
  {
   "cell_type": "code",
   "execution_count": 85,
   "metadata": {
    "tags": [
     "hide"
    ]
   },
   "outputs": [
    {
     "data": {
      "text/plain": [
       "['Sandstone', 'Limestone', 'Shale', 'Salt']"
      ]
     },
     "execution_count": 85,
     "metadata": {},
     "output_type": "execute_result"
    }
   ],
   "source": [
    "def process(rock):\n",
    "    return rock[:rock.find(':')].strip('# ')\n",
    "\n",
    "list(map(process, rock_list))"
   ]
  },
  {
   "cell_type": "markdown",
   "metadata": {},
   "source": [
    "## `numpy` (and `pandas`)\n",
    "\n",
    "We can also avoid the loop by using NumPy's n-dimensional array or 'ndarray'. Many mathematical operations involving arrays are automatically 'vectorized', meaning that the operation is carried out either elementwise or 'broadcast' over one or more dimensions. We can write very compact code, and it's almost always much faster than trying to do math on Python's native objects.\n",
    "\n",
    "Pandas's `Series` objects (columns) are essentially NumPy arrays, so this works on them too."
   ]
  },
  {
   "cell_type": "code",
   "execution_count": 88,
   "metadata": {},
   "outputs": [
    {
     "data": {
      "text/plain": [
       "array([  0,  10,  20,  30,  40,  50,  60,  70,  80,  90, 100])"
      ]
     },
     "execution_count": 88,
     "metadata": {},
     "output_type": "execute_result"
    }
   ],
   "source": [
    "import numpy as np\n",
    "\n",
    "numbers = np.array(numbers)\n",
    "\n",
    "numbers"
   ]
  },
  {
   "cell_type": "markdown",
   "metadata": {},
   "source": [
    "Now we can do math directly on this array object:"
   ]
  },
  {
   "cell_type": "code",
   "execution_count": 89,
   "metadata": {},
   "outputs": [
    {
     "data": {
      "text/plain": [
       "array([    0,   100,   400,   900,  1600,  2500,  3600,  4900,  6400,\n",
       "        8100, 10000])"
      ]
     },
     "execution_count": 89,
     "metadata": {},
     "output_type": "execute_result"
    }
   ],
   "source": [
    "numbers**2"
   ]
  },
  {
   "cell_type": "markdown",
   "metadata": {},
   "source": [
    "So our problem becomes very easy:"
   ]
  },
  {
   "cell_type": "code",
   "execution_count": 91,
   "metadata": {},
   "outputs": [],
   "source": [
    "squares = numbers**2"
   ]
  },
  {
   "cell_type": "markdown",
   "metadata": {},
   "source": [
    "That's it! \n",
    "\n",
    "You can probably see why for numerical problems &mdash; iterating over a list of numbers and transforming them into other numbers &mdash; NumPy arrays are almost always the way to go. \n",
    "\n",
    "Normally we'd stop there, since having an array is just as good as (or better than!) having a list. That is, we can use it in many of the places we can use a list. But to have strictly the same result as the other blocks here, we need to cast to a list:"
   ]
  },
  {
   "cell_type": "code",
   "execution_count": 87,
   "metadata": {},
   "outputs": [
    {
     "data": {
      "text/plain": [
       "[0, 100, 400, 900, 1600, 2500, 3600, 4900, 6400, 8100, 10000]"
      ]
     },
     "execution_count": 87,
     "metadata": {},
     "output_type": "execute_result"
    }
   ],
   "source": [
    "list(squares)"
   ]
  }
 ],
 "metadata": {
  "celltoolbar": "Tags",
  "kernelspec": {
   "display_name": "geocomp",
   "language": "python",
   "name": "geocomp"
  },
  "language_info": {
   "codemirror_mode": {
    "name": "ipython",
    "version": 3
   },
   "file_extension": ".py",
   "mimetype": "text/x-python",
   "name": "python",
   "nbconvert_exporter": "python",
   "pygments_lexer": "ipython3",
   "version": "3.8.5"
  }
 },
 "nbformat": 4,
 "nbformat_minor": 2
}
