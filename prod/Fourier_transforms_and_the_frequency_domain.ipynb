{
 "cells": [
  {
   "cell_type": "markdown",
   "metadata": {},
   "source": [
    "# The frequency domain\n",
    "\n",
    "We want to learn about the Fourier transform, and eventually the short-time Fourier transform (STFT) and spectral decomposition.\n",
    "\n",
    "Let's start in the time domain."
   ]
  },
  {
   "cell_type": "code",
   "execution_count": null,
   "metadata": {},
   "outputs": [],
   "source": [
    "import matplotlib.pyplot as plt\n",
    "import numpy as np"
   ]
  },
  {
   "cell_type": "markdown",
   "metadata": {},
   "source": [
    "## Making waves"
   ]
  },
  {
   "cell_type": "markdown",
   "metadata": {
    "tags": [
     "exercise"
    ]
   },
   "source": [
    "### EXERCISE\n",
    "\n",
    "Implement a function to generate a sine wave signal `s` with amplitude `a` and frequency `f`:\n",
    "\n",
    "$$ s(t) = a \\sin ( 2 \\pi f t ) $$\n",
    "\n",
    "Use `np.linspace` to generate a time series of _even_ length, given (for example) a `duration` of 1 s and a sample interval `dt` of 0.001 s."
   ]
  },
  {
   "cell_type": "code",
   "execution_count": null,
   "metadata": {},
   "outputs": [],
   "source": [
    "def sine_wave(duration, dt, f, a=1):\n",
    "    \n",
    "    # YOUR CODE HERE\n",
    "    \n",
    "    return s, t"
   ]
  },
  {
   "cell_type": "code",
   "execution_count": null,
   "metadata": {
    "tags": [
     "hide"
    ]
   },
   "outputs": [],
   "source": [
    "def sine_wave(duration, dt, f, a=1):\n",
    "    \"\"\"\n",
    "    Produce a sine wave and return it with its time basis.\n",
    "    \"\"\"\n",
    "    t = np.linspace(0, duration, int(duration/dt))\n",
    "    return a * np.sin(2 * np.pi * f * t), t"
   ]
  },
  {
   "cell_type": "markdown",
   "metadata": {
    "tags": [
     "exercise"
    ]
   },
   "source": [
    "### EXERCISE\n",
    "\n",
    "Generate and plot a 1-second-long sine wave at 261.63 Hz, sampled at a sampling frequency `fs` of 10 kHz."
   ]
  },
  {
   "cell_type": "code",
   "execution_count": null,
   "metadata": {},
   "outputs": [],
   "source": [
    "f = \n",
    "fs =\n",
    "s, t = \n",
    "\n",
    "assert s.size == 10_000"
   ]
  },
  {
   "cell_type": "code",
   "execution_count": null,
   "metadata": {},
   "outputs": [],
   "source": []
  },
  {
   "cell_type": "code",
   "execution_count": null,
   "metadata": {
    "tags": [
     "hide"
    ]
   },
   "outputs": [],
   "source": [
    "fs = 10_000  # Hz sample rate.\n",
    "s, t = sine_wave(1, 1/fs, f=261.63)\n",
    "\n",
    "plt.figure(figsize=(15, 2))\n",
    "plt.plot(t, s)"
   ]
  },
  {
   "cell_type": "markdown",
   "metadata": {},
   "source": [
    "This frequency corresponds to middle-C, or C4."
   ]
  },
  {
   "cell_type": "code",
   "execution_count": null,
   "metadata": {},
   "outputs": [],
   "source": [
    "from IPython.display import Audio\n",
    "\n",
    "Audio(s, rate=fs)"
   ]
  },
  {
   "cell_type": "markdown",
   "metadata": {},
   "source": [
    "## A chord\n",
    "\n",
    "Now we want to combine three waves with different frequencies and amplitudes."
   ]
  },
  {
   "cell_type": "code",
   "execution_count": null,
   "metadata": {},
   "outputs": [],
   "source": [
    "f = np.array([261.6, 329.6, 392.0])  # C4, E4, G4 = C-major\n",
    "a = np.array([1.5, 0.5, 1])"
   ]
  },
  {
   "cell_type": "markdown",
   "metadata": {
    "tags": [
     "exercise"
    ]
   },
   "source": [
    "### EXERCISE\n",
    "\n",
    "Modify your function to accept arrays for the frequency and amplitude. It should return a signal of shape (3, n), where n is the number of samples.\n",
    "\n",
    "Recall the 'new axis' trick we used with the `ricker()` function to get it to accept an array of frequencies.\n",
    "\n",
    "Use your function to generate the three-frequency chord. Make it last 2 seconds at 10 kHz sampling."
   ]
  },
  {
   "cell_type": "code",
   "execution_count": null,
   "metadata": {},
   "outputs": [],
   "source": [
    "# YOUR CODE HERE\n",
    "def sine_wave(duration, dt, f, a=1):\n",
    "    \n",
    "    # YOUR CODE HERE\n",
    "    \n",
    "    return s, t\n",
    "\n",
    "s_, t =   # Call your function\n",
    "\n",
    "assert s_.shape == (3, 20_000)"
   ]
  },
  {
   "cell_type": "code",
   "execution_count": null,
   "metadata": {
    "tags": [
     "hide"
    ]
   },
   "outputs": [],
   "source": [
    "s_, t = sine_wave(duration=2, dt=1/fs,\n",
    "                  f=f.reshape(3, 1),\n",
    "                  a=a.reshape(3, 1),\n",
    "                 )"
   ]
  },
  {
   "cell_type": "code",
   "execution_count": null,
   "metadata": {
    "tags": [
     "hide"
    ]
   },
   "outputs": [],
   "source": [
    "plt.plot(s_.T[:200])"
   ]
  },
  {
   "cell_type": "markdown",
   "metadata": {
    "tags": [
     "exercise"
    ]
   },
   "source": [
    "### EXERCISE\n",
    "\n",
    "Sum the three 'channels' of the signal to get a composite 1D signal. Then:\n",
    "\n",
    "- Plot it.\n",
    "- Listen to it."
   ]
  },
  {
   "cell_type": "code",
   "execution_count": null,
   "metadata": {},
   "outputs": [],
   "source": [
    "# YOUR CODE HERE\n",
    "\n"
   ]
  },
  {
   "cell_type": "code",
   "execution_count": null,
   "metadata": {
    "tags": [
     "hide"
    ]
   },
   "outputs": [],
   "source": [
    "s = np.sum(s_, axis=0)\n",
    "plt.plot(s[:200])"
   ]
  },
  {
   "cell_type": "code",
   "execution_count": null,
   "metadata": {
    "tags": [
     "hide"
    ]
   },
   "outputs": [],
   "source": [
    "Audio(s, rate=fs)"
   ]
  },
  {
   "cell_type": "markdown",
   "metadata": {},
   "source": [
    "## The Fourier transform\n",
    "\n",
    "We can obtain the complex spectrum like so:"
   ]
  },
  {
   "cell_type": "code",
   "execution_count": null,
   "metadata": {},
   "outputs": [],
   "source": [
    "S = np.fft.fft(s)"
   ]
  },
  {
   "cell_type": "code",
   "execution_count": null,
   "metadata": {},
   "outputs": [],
   "source": []
  },
  {
   "cell_type": "code",
   "execution_count": null,
   "metadata": {
    "tags": [
     "hide"
    ]
   },
   "outputs": [],
   "source": [
    "S"
   ]
  },
  {
   "cell_type": "code",
   "execution_count": null,
   "metadata": {
    "tags": [
     "hide"
    ]
   },
   "outputs": [],
   "source": [
    "plt.plot(S)"
   ]
  },
  {
   "cell_type": "markdown",
   "metadata": {},
   "source": [
    "Notice that the spectrum is complex. The magnitude carries amplitude information; the angle ('argument') part carries phase information.\n",
    "\n",
    "NumPy gives you the full spectrum of positive and negative frequencies (for the imaginary part of the signal). For real signals, these are the same.\n",
    "\n",
    "It can be confusing, because the negative portion is tacked onto the end of the positive portion... and it's backwards."
   ]
  },
  {
   "cell_type": "markdown",
   "metadata": {},
   "source": [
    "`fftfreq` tells us this:"
   ]
  },
  {
   "cell_type": "code",
   "execution_count": null,
   "metadata": {},
   "outputs": [],
   "source": [
    "np.fft.fftfreq(s.size, d=1/fs)"
   ]
  },
  {
   "cell_type": "markdown",
   "metadata": {},
   "source": [
    "Instead of trying to juggle everything, I suggest using `fftshift` to put everything where it's supposed to be:"
   ]
  },
  {
   "cell_type": "code",
   "execution_count": null,
   "metadata": {
    "tags": [
     "hide"
    ]
   },
   "outputs": [],
   "source": [
    "S_ = np.fft.fftshift(S)\n",
    "\n",
    "plt.plot(S_)"
   ]
  },
  {
   "cell_type": "code",
   "execution_count": null,
   "metadata": {
    "tags": [
     "hide"
    ]
   },
   "outputs": [],
   "source": [
    "freq = np.fft.fftfreq(s.size, d=1/fs)\n",
    "\n",
    "freq_ = np.fft.fftshift(freq)"
   ]
  },
  {
   "cell_type": "code",
   "execution_count": null,
   "metadata": {
    "tags": [
     "hide"
    ]
   },
   "outputs": [],
   "source": [
    "n = s.size / 2  # The spectral magnitude contains energy from the whole signal.\n",
    "                # It's common to normalize by 1/N, 1/2N or 1/sqrt(N)."
   ]
  },
  {
   "cell_type": "code",
   "execution_count": null,
   "metadata": {
    "tags": [
     "hide"
    ]
   },
   "outputs": [],
   "source": [
    "plt.plot(freq_, np.abs(S_)/n)\n",
    "plt.xlim(0, 500)"
   ]
  },
  {
   "cell_type": "markdown",
   "metadata": {},
   "source": [
    "## The real spectrum\n",
    "\n",
    "With most signals, we are only interested in the positive frequencies, so we can use the 'real' FFT, or `rfft()`."
   ]
  },
  {
   "cell_type": "code",
   "execution_count": null,
   "metadata": {},
   "outputs": [],
   "source": []
  },
  {
   "cell_type": "code",
   "execution_count": null,
   "metadata": {
    "tags": [
     "hide"
    ]
   },
   "outputs": [],
   "source": [
    "S = np.fft.rfft(s)\n",
    "freq = np.fft.rfftfreq(s.size, d=1/fs)\n",
    "\n",
    "plt.plot(freq, np.abs(S)/n)\n",
    "plt.xlim(0, 500)"
   ]
  },
  {
   "cell_type": "markdown",
   "metadata": {},
   "source": [
    "## The phase spectrum\n",
    "\n",
    "The phase spectrum contains the timing information. \n",
    "\n",
    "Instantaneous phase is given by the complex angle:"
   ]
  },
  {
   "cell_type": "code",
   "execution_count": null,
   "metadata": {},
   "outputs": [],
   "source": []
  },
  {
   "cell_type": "code",
   "execution_count": null,
   "metadata": {
    "tags": [
     "hide"
    ]
   },
   "outputs": [],
   "source": [
    "plt.plot(freq, np.angle(S))\n",
    "plt.xlim(0, 500)"
   ]
  },
  {
   "cell_type": "markdown",
   "metadata": {},
   "source": [
    "## Converting to decibels\n",
    "\n",
    "It's common to see spectrums plotted on a logarithmic decibel (dB) scale. We can compute this:\n",
    "\n",
    "$$ \\mathrm{dB} = 20 \\log_{10} \\frac{A}{A_\\mathrm{ref}} $$\n",
    "\n",
    "The amplitude is divided by a 'reference' amplitude, which is usually the maximum amplitude — for this signal, or from your entire collection of signals if you want to compare relative amplitudes."
   ]
  },
  {
   "cell_type": "markdown",
   "metadata": {
    "tags": [
     "exercise"
    ]
   },
   "source": [
    "### EXERCISE\n",
    "\n",
    "Compute and plot the spectrum `S` in decibels."
   ]
  },
  {
   "cell_type": "code",
   "execution_count": null,
   "metadata": {},
   "outputs": [],
   "source": [
    "# YOUR CODE HERE\n",
    "\n"
   ]
  },
  {
   "cell_type": "code",
   "execution_count": null,
   "metadata": {},
   "outputs": [],
   "source": []
  },
  {
   "cell_type": "code",
   "execution_count": null,
   "metadata": {
    "tags": [
     "hide"
    ]
   },
   "outputs": [],
   "source": [
    "Aref = np.max(np.abs(S))\n",
    "\n",
    "dB = 20 * np.log10(np.abs(S) / Aref)\n",
    "\n",
    "plt.figure(figsize=(15, 3))\n",
    "plt.plot(freq, dB)"
   ]
  },
  {
   "cell_type": "markdown",
   "metadata": {},
   "source": [
    "## Apodization\n",
    "\n",
    "Notice that our spectral peaks are a bit spread out in frequency. This is because it starts and ends abruptly. Abrupt time is spread out in frequency, and vice versa. We can mitigate the effect by **windowing** the signal. For example:"
   ]
  },
  {
   "cell_type": "code",
   "execution_count": null,
   "metadata": {},
   "outputs": [],
   "source": [
    "s_win = np.blackman(s.size) * s\n",
    "\n",
    "plt.figure(figsize=(15, 2))\n",
    "plt.plot(s_win)"
   ]
  },
  {
   "cell_type": "code",
   "execution_count": null,
   "metadata": {},
   "outputs": [],
   "source": [
    "S_win = np.fft.rfft(s_win)\n",
    "\n",
    "plt.plot(freq, np.abs(S)/n)\n",
    "plt.plot(freq, np.abs(S_win)/n)\n",
    "plt.xlim(0, 500)"
   ]
  },
  {
   "cell_type": "markdown",
   "metadata": {
    "tags": [
     "exercise"
    ]
   },
   "source": [
    "### EXERCISE\n",
    "\n",
    "Try implementing the `tukey()` window from `scipy.signal`.\n",
    "\n",
    "What do you notice about the magnitudes of the Fourier coeffients?"
   ]
  },
  {
   "cell_type": "code",
   "execution_count": null,
   "metadata": {},
   "outputs": [],
   "source": [
    "# YOUR CODE HERE\n",
    "\n"
   ]
  },
  {
   "cell_type": "code",
   "execution_count": null,
   "metadata": {
    "tags": [
     "hide"
    ]
   },
   "outputs": [],
   "source": [
    "import scipy.signal as ss\n",
    "\n",
    "s_win = ss.windows.tukey(s.size) * s\n",
    "\n",
    "plt.figure(figsize=(15, 2))\n",
    "plt.plot(s_win)"
   ]
  },
  {
   "cell_type": "code",
   "execution_count": null,
   "metadata": {
    "tags": [
     "hide"
    ]
   },
   "outputs": [],
   "source": [
    "S_win = np.fft.rfft(s_win)\n",
    "\n",
    "plt.plot(freq, np.abs(S_win)/n)\n",
    "plt.xlim(0, 500)"
   ]
  },
  {
   "cell_type": "markdown",
   "metadata": {},
   "source": [
    "## Filtering\n",
    "\n",
    "We can apply a frequency filter in the Fourier domain:"
   ]
  },
  {
   "cell_type": "markdown",
   "metadata": {
    "tags": [
     "exercise"
    ]
   },
   "source": [
    "### EXERCISE\n",
    "\n",
    "Make a 1D array with a step function. It shoudl be the same legth as `S_win`. It should have a value of zero up to the 300 Hz point, then a value of 1 above that point.\n",
    "\n",
    "Plot your function with `S_win`."
   ]
  },
  {
   "cell_type": "code",
   "execution_count": null,
   "metadata": {},
   "outputs": [],
   "source": [
    "# YOUR CODE HERE\n",
    "\n"
   ]
  },
  {
   "cell_type": "code",
   "execution_count": null,
   "metadata": {
    "tags": [
     "hide"
    ]
   },
   "outputs": [],
   "source": [
    "locut = np.zeros(S_win.size)\n",
    "locut[freq >= 300] = 1\n",
    "\n",
    "plt.plot(freq, np.abs(S_win)/n)\n",
    "plt.plot(freq, locut, c='C2')\n",
    "plt.fill_between(freq, locut, color='C2', alpha=0.2)\n",
    "plt.xlim(0, 500)"
   ]
  },
  {
   "cell_type": "markdown",
   "metadata": {
    "tags": [
     "exercise"
    ]
   },
   "source": [
    "### EXERCISE\n",
    "\n",
    "Now try multiplying `S_win` by your step function.\n",
    "\n",
    "Then pass the result through `np.fft.irfft()` and plot the result. Try listening to it!"
   ]
  },
  {
   "cell_type": "code",
   "execution_count": null,
   "metadata": {},
   "outputs": [],
   "source": [
    "# YOUR CODE HERE\n",
    "\n"
   ]
  },
  {
   "cell_type": "code",
   "execution_count": null,
   "metadata": {
    "tags": [
     "hide"
    ]
   },
   "outputs": [],
   "source": [
    "S_new = S_win * locut\n",
    "\n",
    "plt.plot(freq, np.abs(S_new)/n)\n",
    "plt.xlim(0, 500)"
   ]
  },
  {
   "cell_type": "code",
   "execution_count": null,
   "metadata": {
    "tags": [
     "hide"
    ]
   },
   "outputs": [],
   "source": [
    "s_new = np.fft.irfft(S_new)\n",
    "\n",
    "plt.figure(figsize=(15, 3))\n",
    "plt.plot(s_new)"
   ]
  },
  {
   "cell_type": "code",
   "execution_count": null,
   "metadata": {
    "tags": [
     "hide"
    ]
   },
   "outputs": [],
   "source": [
    "Audio(s_new, rate=fs)"
   ]
  },
  {
   "cell_type": "code",
   "execution_count": null,
   "metadata": {
    "tags": [
     "hide"
    ]
   },
   "outputs": [],
   "source": [
    "s_new_constructed = ss.windows.tukey(s.size) * (s_[1] + s_[2])\n",
    "\n",
    "np.allclose(s_new, s_new_constructed, atol=1e-3)"
   ]
  },
  {
   "cell_type": "markdown",
   "metadata": {
    "tags": [
     "hide"
    ]
   },
   "source": [
    "## Convolution"
   ]
  },
  {
   "cell_type": "code",
   "execution_count": null,
   "metadata": {},
   "outputs": [],
   "source": [
    "r = np.random.randn(1000)\n",
    "\n",
    "plt.plot(r)"
   ]
  },
  {
   "cell_type": "code",
   "execution_count": null,
   "metadata": {},
   "outputs": [],
   "source": [
    "import bruges as bg\n",
    "\n",
    "w = bg.filters.ricker(1.000, .001, 25)\n",
    "\n",
    "plt.plot(w)"
   ]
  },
  {
   "cell_type": "code",
   "execution_count": null,
   "metadata": {},
   "outputs": [],
   "source": [
    "r_sm = np.convolve(r, w, mode='same')\n",
    "\n",
    "plt.plot(r_sm)"
   ]
  },
  {
   "cell_type": "markdown",
   "metadata": {},
   "source": [
    "Now we compute the convolution as the product of two spectrums:"
   ]
  },
  {
   "cell_type": "code",
   "execution_count": null,
   "metadata": {},
   "outputs": [],
   "source": [
    "R = np.fft.rfft(r)\n",
    "W = np.fft.rfft(w)\n",
    "\n",
    "RW = R * W   # This is equivalent to time domain convolution.\n",
    "\n",
    "rw_ = np.fft.irfft(RW)\n",
    "\n",
    "rw = np.fft.fftshift(rw_)  # This bit is important — the signal is not in order."
   ]
  },
  {
   "cell_type": "code",
   "execution_count": null,
   "metadata": {},
   "outputs": [],
   "source": [
    "plt.figure(figsize=(15, 3))\n",
    "plt.plot(rw, lw=5, c='pink', label='fft')\n",
    "plt.plot(r_sm, label='convolve')\n",
    "plt.legend()"
   ]
  },
  {
   "cell_type": "markdown",
   "metadata": {},
   "source": [
    "There's an off-by-one error, not sure where that is coming from."
   ]
  },
  {
   "cell_type": "markdown",
   "metadata": {},
   "source": [
    "## More good stuff in `scipy.signal`\n",
    "\n",
    "The `welch` function is a bit easier to use, but you need to pay attention to its parameters."
   ]
  },
  {
   "cell_type": "code",
   "execution_count": null,
   "metadata": {},
   "outputs": [],
   "source": [
    "f, Pxx = ss.welch(s, fs=fs, scaling='spectrum')"
   ]
  },
  {
   "cell_type": "code",
   "execution_count": null,
   "metadata": {},
   "outputs": [],
   "source": [
    "plt.plot(f, Pxx)\n",
    "plt.xlim(0, 500)"
   ]
  },
  {
   "cell_type": "markdown",
   "metadata": {},
   "source": [
    "## Scale space\n",
    "\n",
    "There are lots of alternatives to the Fourier transform. One of the most important is the wavelet transform. This casts the data into a 'scale' domain, producing a 'scalogram'. Instead of being monotonic sines and cosines, the components are polytonic 'wavelets' of some kind.\n",
    "\n",
    "Let's use the Morlet wavelet to decompose `s_new`, our two-tone signal."
   ]
  },
  {
   "cell_type": "code",
   "execution_count": null,
   "metadata": {},
   "outputs": [],
   "source": [
    "scales = np.arange(1, 25)\n",
    "cwt = ss.cwt(s, ss.morlet2, scales)\n",
    "\n",
    "cwt = np.log(abs(cwt.real))\n",
    "\n",
    "plt.imshow(cwt.real, aspect='auto', origin='lower', vmax=abs(cwt).max(), vmin=-abs(cwt).max())"
   ]
  },
  {
   "cell_type": "code",
   "execution_count": null,
   "metadata": {},
   "outputs": [],
   "source": [
    "cwt.real"
   ]
  },
  {
   "cell_type": "markdown",
   "metadata": {},
   "source": [
    "## Images and other data\n",
    "\n",
    "By the way, we can make Fourier transforms of any data — especially regularly sampled data — including well logs, seismic data, and images."
   ]
  },
  {
   "cell_type": "code",
   "execution_count": null,
   "metadata": {},
   "outputs": [],
   "source": [
    "import segyio\n",
    "\n",
    "with segyio.open('../data/Penobscot_0-1000ms.sgy') as s:\n",
    "    seismic = segyio.cube(s)[::2]"
   ]
  },
  {
   "cell_type": "code",
   "execution_count": null,
   "metadata": {},
   "outputs": [],
   "source": [
    "img = seismic[:, :, 90]\n",
    "\n",
    "plt.figure(figsize=(15, 10))\n",
    "plt.imshow(img, cmap='gray', aspect='auto')"
   ]
  },
  {
   "cell_type": "code",
   "execution_count": null,
   "metadata": {},
   "outputs": [],
   "source": [
    "import scipy.fft as sf\n",
    "\n",
    "S = sf.fft2(seismic[:, :, 90])"
   ]
  },
  {
   "cell_type": "code",
   "execution_count": null,
   "metadata": {},
   "outputs": [],
   "source": [
    "S.shape"
   ]
  },
  {
   "cell_type": "code",
   "execution_count": null,
   "metadata": {},
   "outputs": [],
   "source": [
    "plt.figure(figsize=(15, 12))\n",
    "plt.imshow(np.sqrt(np.abs(sf.fftshift(S))))"
   ]
  },
  {
   "cell_type": "markdown",
   "metadata": {},
   "source": [
    "## Another signal\n",
    "\n",
    "Let's make another signal."
   ]
  },
  {
   "cell_type": "markdown",
   "metadata": {
    "tags": [
     "exercise"
    ]
   },
   "source": [
    "### EXERCISE\n",
    "\n",
    "Can you make a signal with a **transient**? For example, make a 5-second 'background' signal at 410 Hz, then add a shorter, louder 2-second signal at 455 Hz in the middle (i.e. starting at 1.5 seconds).\n",
    "\n",
    "Try adding some noise to the signal as well, using one of the random number generators in `np.random`.\n",
    "\n",
    "Plot and listen to your signal."
   ]
  },
  {
   "cell_type": "code",
   "execution_count": null,
   "metadata": {},
   "outputs": [],
   "source": [
    "# YOUR CODE HERE\n",
    "\n"
   ]
  },
  {
   "cell_type": "code",
   "execution_count": null,
   "metadata": {
    "tags": [
     "hide"
    ]
   },
   "outputs": [],
   "source": [
    "tmax, dt = 5.0, 0.001\n",
    "fs = int(1 / dt)\n",
    "n = int(1 + tmax / dt)\n",
    "t = np.linspace(0.0, tmax, n)\n",
    "\n",
    "# Create two sin waves.\n",
    "s1 = np.sin(2*np.pi*410*t)\n",
    "s2 = 2*np.sin(2*np.pi*455*t)\n",
    "\n",
    "# Create a transient.\n",
    "s2 *= np.where((t>1.5)&(t<3.5), 1.0, 0.0)\n",
    "\n",
    "# Add some noise.\n",
    "noise = 0.0 * np.random.randn(len(t))\n",
    "\n",
    "s = s1 + s2 + noise"
   ]
  },
  {
   "cell_type": "code",
   "execution_count": null,
   "metadata": {
    "tags": [
     "hide"
    ]
   },
   "outputs": [],
   "source": [
    "plt.figure(figsize=(15, 2))\n",
    "plt.plot(s)"
   ]
  },
  {
   "cell_type": "code",
   "execution_count": null,
   "metadata": {
    "tags": [
     "hide"
    ]
   },
   "outputs": [],
   "source": [
    "from IPython.display import Audio\n",
    "\n",
    "Audio(s, rate=fs*3)"
   ]
  },
  {
   "cell_type": "markdown",
   "metadata": {
    "tags": [
     "exercise"
    ]
   },
   "source": [
    "### EXERCISE\n",
    "\n",
    "Plot the spectrum of your signal."
   ]
  },
  {
   "cell_type": "code",
   "execution_count": null,
   "metadata": {},
   "outputs": [],
   "source": [
    "# YOUR CODE HERE\n",
    "\n"
   ]
  },
  {
   "cell_type": "code",
   "execution_count": null,
   "metadata": {
    "tags": [
     "hide"
    ]
   },
   "outputs": [],
   "source": []
  },
  {
   "cell_type": "markdown",
   "metadata": {},
   "source": [
    "Notice that you cannot tell how the two frequencies are related in time.\n",
    "\n",
    "That's when we need time-frequency representations."
   ]
  },
  {
   "cell_type": "markdown",
   "metadata": {},
   "source": [
    "## Time-frequency representations"
   ]
  },
  {
   "cell_type": "code",
   "execution_count": null,
   "metadata": {},
   "outputs": [],
   "source": [
    "import scipy.signal as ss\n",
    "\n",
    "window = 64\n",
    "step = 1\n",
    "\n",
    "f, t, Sxx = ss.spectrogram(s,\n",
    "                           fs=fs,\n",
    "                           nperseg=window,\n",
    "                           noverlap=window - step,\n",
    "                           scaling='spectrum',\n",
    "                           mode='magnitude',\n",
    "                          )\n",
    "\n",
    "plt.figure(figsize=(12, 6))\n",
    "plt.imshow(Sxx, origin='lower', extent=(0, t[-1], 0, fs/2), aspect='auto', interpolation='none')\n",
    "plt.ylim(300, 500)"
   ]
  },
  {
   "cell_type": "markdown",
   "metadata": {},
   "source": [
    "---\n",
    "\n",
    "## Spectral decomposition on seismic data\n",
    "\n",
    "### Check out the [`Spectral_decomposition.ipynb`](./Spectral_decomposition.ipynb) notebook.\n",
    "\n",
    "---"
   ]
  },
  {
   "cell_type": "markdown",
   "metadata": {},
   "source": [
    "---\n",
    "\n",
    "&copy; 2021 Agile Scientific, licenced CC-BY and Apache 2.0"
   ]
  }
 ],
 "metadata": {
  "celltoolbar": "Tags",
  "kernelspec": {
   "display_name": "geoph",
   "language": "python",
   "name": "geoph"
  },
  "language_info": {
   "codemirror_mode": {
    "name": "ipython",
    "version": 3
   },
   "file_extension": ".py",
   "mimetype": "text/x-python",
   "name": "python",
   "nbconvert_exporter": "python",
   "pygments_lexer": "ipython3",
   "version": "3.9.7"
  }
 },
 "nbformat": 4,
 "nbformat_minor": 2
}
