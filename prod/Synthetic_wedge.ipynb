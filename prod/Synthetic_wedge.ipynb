{
 "cells": [
  {
   "cell_type": "markdown",
   "metadata": {},
   "source": [
    "# Synthetic wedge\n",
    "\n",
    "We're going to make the famous wedge model, which interpreters can use to visualize the tuning effect. Then we can extend the idea to other kinds of synthetic seismic.\n",
    "\n",
    "## Make a simple earth model"
   ]
  },
  {
   "cell_type": "code",
   "execution_count": 1,
   "metadata": {},
   "outputs": [],
   "source": [
    "import matplotlib.pyplot as plt\n",
    "import numpy as np"
   ]
  },
  {
   "cell_type": "code",
   "execution_count": 2,
   "metadata": {},
   "outputs": [],
   "source": [
    "width = 80  # x range\n",
    "depth = 200  # z range"
   ]
  },
  {
   "cell_type": "markdown",
   "metadata": {},
   "source": [
    "Recall that you can make a 2D NumPy array of zeros or ones using `np.zeros()` or `np.ones()` respectively, for example:"
   ]
  },
  {
   "cell_type": "code",
   "execution_count": null,
   "metadata": {},
   "outputs": [],
   "source": [
    "np.zeros((5, 10))  # Rows, columns."
   ]
  },
  {
   "cell_type": "markdown",
   "metadata": {},
   "source": [
    "And you can mutate NumPy arrays like this:"
   ]
  },
  {
   "cell_type": "code",
   "execution_count": null,
   "metadata": {},
   "outputs": [],
   "source": [
    "arr = np.ones((6, 4))\n",
    "arr[3:] = 100  # This could also be a 1D array with 4 elements, or a 2D array shape 3x4.\n",
    "arr"
   ]
  },
  {
   "cell_type": "markdown",
   "metadata": {
    "tags": [
     "exercise"
    ]
   },
   "source": [
    "### EXERCISE\n",
    "\n",
    "Make a 2-D NumPy array of integers with these dimensions, placing a boundary at a 'depth' of 66 and another at a depth of 133.\n",
    "\n",
    "A plot of a vertical section through this array should look something like:\n",
    "\n",
    "      |        <- 0's in this row\n",
    "      |        <- 0\n",
    "      --- \n",
    "        |      <- 1\n",
    "        |      <- 1\n",
    "        ---\n",
    "          |    <- 2\n",
    "          |    <- 2\n",
    "          \n",
    "There are a couple of ways to plot your result. Notice that by default the `imshow` plot has te origin at the top, whereas the `plot` has the origin at the bottom.\n",
    "\n",
    "<img src=\"../assets/model_plots.png\">"
   ]
  },
  {
   "cell_type": "code",
   "execution_count": null,
   "metadata": {},
   "outputs": [],
   "source": [
    "# YOUR CODE HERE\n",
    "\n"
   ]
  },
  {
   "cell_type": "code",
   "execution_count": 3,
   "metadata": {
    "tags": [
     "hide"
    ]
   },
   "outputs": [
    {
     "data": {
      "image/png": "[encoded data removed]",
      "text/plain": [
       "<Figure size 432x288 with 1 Axes>"
      ]
     },
     "metadata": {
      "needs_background": "light"
     },
     "output_type": "display_data"
    }
   ],
   "source": [
    "# We have to pass dtype=int or we get floats.\n",
    "# We need ints because we're going to use this thing for indexing later.\n",
    "\n",
    "def make_model(depth, width):\n",
    "    \"\"\"\n",
    "    Build a wedge model.\n",
    "    \"\"\"\n",
    "    model = np.zeros((depth, width), dtype=np.int8)\n",
    "    model[depth//3:] = 1\n",
    "    model[-depth//3:] = 2\n",
    "    return model\n",
    "\n",
    "# Another approach is to make a single 'log'\n",
    "# then repeat is in the 'x' direction.\n",
    "def make_model(depth, width):\n",
    "    layer = depth // 3\n",
    "    log = np.array((1 + layer)*[0] + (1 + layer)*[1] + layer*[2])\n",
    "    model = np.repeat(log[:, None], width, axis=-1)\n",
    "    return model\n",
    "\n",
    "model = make_model(depth, width)\n",
    "\n",
    "fig, ax = plt.subplots()\n",
    "ax.imshow(model)\n",
    "plt.show()"
   ]
  },
  {
   "cell_type": "code",
   "execution_count": null,
   "metadata": {
    "tags": [
     "hide"
    ]
   },
   "outputs": [],
   "source": [
    "# Jus tin case the question comes up.\n",
    "fig, ax = plt.subplots()\n",
    "im = ax.imshow(model)\n",
    "cbar = plt.colorbar(im)\n",
    "cbar.ax.invert_yaxis()  # To reverse the colorbar.\n",
    "plt.show()"
   ]
  },
  {
   "cell_type": "markdown",
   "metadata": {},
   "source": [
    "Now we can make some velocity–density $(V_\\mathrm{P}, \\rho)$ pairs for each rock type (rock index 0, index 1, and index 2)."
   ]
  },
  {
   "cell_type": "code",
   "execution_count": 4,
   "metadata": {},
   "outputs": [],
   "source": [
    "rocks = np.array([[2540, 2550],   # <-- Upper layer\n",
    "                  [2400, 2450],   # <-- Middle layer\n",
    "                  [2650, 2800]])  # <-- Lower layer"
   ]
  },
  {
   "cell_type": "markdown",
   "metadata": {},
   "source": [
    "Now we can use ['fancy indexing'](http://docs.scipy.org/doc/numpy/user/basics.indexing.html) to make `model`, which is an array of 0, 1, and 2, as the indices of the rock property pairs to 'grab' from `rocks`."
   ]
  },
  {
   "cell_type": "code",
   "execution_count": null,
   "metadata": {},
   "outputs": [],
   "source": []
  },
  {
   "cell_type": "code",
   "execution_count": 5,
   "metadata": {
    "tags": [
     "hide"
    ]
   },
   "outputs": [],
   "source": [
    "earth = rocks[model]"
   ]
  },
  {
   "cell_type": "markdown",
   "metadata": {},
   "source": [
    "Now apply `np.prod` (product) to those velocity–density pairs to get impedance at every sample."
   ]
  },
  {
   "cell_type": "code",
   "execution_count": null,
   "metadata": {},
   "outputs": [],
   "source": []
  },
  {
   "cell_type": "code",
   "execution_count": 6,
   "metadata": {
    "tags": [
     "hide"
    ]
   },
   "outputs": [
    {
     "data": {
      "text/plain": [
       "<matplotlib.colorbar.Colorbar at 0x7f37530a9cd0>"
      ]
     },
     "execution_count": 6,
     "metadata": {},
     "output_type": "execute_result"
    },
    {
     "data": {
      "image/png": "[encoded data removed]",
      "text/plain": [
       "<Figure size 432x288 with 2 Axes>"
      ]
     },
     "metadata": {
      "needs_background": "light"
     },
     "output_type": "display_data"
    }
   ],
   "source": [
    "imp = earth[:, :, 0] * earth[..., 1]  # Optional use of ellipsis.\n",
    "\n",
    "# Or, equivalently:\n",
    "imp = np.prod(earth, axis=-1)\n",
    "\n",
    "plt.imshow(imp)\n",
    "plt.colorbar()"
   ]
  },
  {
   "cell_type": "markdown",
   "metadata": {},
   "source": [
    "## Model seismic reflectivity\n",
    "\n",
    "Now we have an earth model — giving us acoustic impedance everywhere in this 2D grid — we define a function to compute reflection coefficients for every trace."
   ]
  },
  {
   "cell_type": "markdown",
   "metadata": {
    "tags": [
     "exercise"
    ]
   },
   "source": [
    "### EXERCISE\n",
    "\n",
    "Can you write a function to compute the reflection coefficients in this model?\n",
    "\n",
    "It should implement this equation, where $Z$ is acoustic impedance and :\n",
    "\n",
    "$$ R = \\frac{Z_\\mathrm{lower} - Z_\\mathrm{upper}}{Z_\\mathrm{lower} + Z_\\mathrm{upper}} $$\n",
    "\n",
    "The result should be a sparse 2D array _almost_ the same size and shape as the input. The upper interface should be negative.\n",
    "\n",
    "**Look out** - depending on how you implement this, the output will probably be shorter (in depth) than the input, which can cause 'off by one' issues later, with plotting etc. One solution is to deal with it now, if you want to."
   ]
  },
  {
   "cell_type": "code",
   "execution_count": null,
   "metadata": {},
   "outputs": [],
   "source": [
    "def make_rc(imp):\n",
    "    \n",
    "    # YOUR CODE HERE\n",
    "    \n",
    "    return rc\n",
    "\n",
    "rc = make_rc(imp)"
   ]
  },
  {
   "cell_type": "code",
   "execution_count": null,
   "metadata": {
    "tags": [
     "hide"
    ]
   },
   "outputs": [],
   "source": [
    "# This is almost useful, but there's no equivalent pairwise addition.\n",
    "plt.imshow(np.diff(imp, axis=0))\n",
    "plt.colorbar()"
   ]
  },
  {
   "cell_type": "code",
   "execution_count": 7,
   "metadata": {
    "tags": [
     "hide"
    ]
   },
   "outputs": [],
   "source": [
    "def make_rc(imp):\n",
    "    \"\"\"\n",
    "    Compute reflection coefficients.\n",
    "    \"\"\"\n",
    "    # It's a good idea to preserve the shape of the model.\n",
    "    imp = np.pad(imp, pad_width=[(0, 1), (0, 0)], mode='edge')\n",
    "\n",
    "    upper = imp[ :-1, :]\n",
    "    lower = imp[1:  , :]\n",
    "    \n",
    "    return (lower - upper) / (lower + upper)\n",
    "    \n",
    "rc = make_rc(imp)\n",
    "\n",
    "assert rc.shape == imp.shape"
   ]
  },
  {
   "cell_type": "markdown",
   "metadata": {},
   "source": [
    "You should be able to plot the RC series like so:"
   ]
  },
  {
   "cell_type": "code",
   "execution_count": 8,
   "metadata": {},
   "outputs": [
    {
     "data": {
      "image/png": "[encoded data removed]",
      "text/plain": [
       "<Figure size 576x288 with 2 Axes>"
      ]
     },
     "metadata": {
      "needs_background": "light"
     },
     "output_type": "display_data"
    }
   ],
   "source": [
    "plt.figure(figsize=(8,4))\n",
    "plt.imshow(rc, aspect='auto')\n",
    "plt.colorbar()\n",
    "plt.show()"
   ]
  },
  {
   "cell_type": "markdown",
   "metadata": {},
   "source": [
    "We can also use `bruges` to make the reflectivity series. The catch is that we need the Vp and Rho models separately (and Vs, if we had this data). \n",
    "\n",
    "To retain the shape of the model, we can move the (Vp, Rho) axis to the front of the array with\n",
    "\n",
    "    np.moveaxis(earth, -1, 0)\n",
    "    \n",
    "You could also do `np.rollaxis(earth, -1)` but I prefer the more general `moveaxis`. \n",
    "\n",
    "Once this axis is the first one, we can unpack into `vp` and `rho` variables, or use the unpacking operator `*` to give Vp and Rho directly to the function:\n",
    "\n",
    "    bruges.reflection.acoustic_reflectivity(*np.moveaxis(earth, -1, 0))"
   ]
  },
  {
   "cell_type": "code",
   "execution_count": 10,
   "metadata": {},
   "outputs": [
    {
     "data": {
      "text/plain": [
       "'0.4.4'"
      ]
     },
     "execution_count": 10,
     "metadata": {},
     "output_type": "execute_result"
    }
   ],
   "source": [
    "import bruges\n",
    "\n",
    "# Must be 0.4.4 at least.\n",
    "bruges.__version__"
   ]
  },
  {
   "cell_type": "code",
   "execution_count": 11,
   "metadata": {},
   "outputs": [
    {
     "name": "stderr",
     "output_type": "stream",
     "text": [
      "/tmp/ipykernel_936267/348217431.py:2: FutureWarning: In future releases, mode will be 'same' by default.\n",
      "  rc = bruges.reflection.acoustic_reflectivity(vp, rho, mode='same')\n"
     ]
    },
    {
     "data": {
      "image/png": "[encoded data removed]",
      "text/plain": [
       "<Figure size 432x288 with 1 Axes>"
      ]
     },
     "metadata": {
      "needs_background": "light"
     },
     "output_type": "display_data"
    }
   ],
   "source": [
    "vp, rho = np.moveaxis(earth, -1, 0)\n",
    "rc = bruges.reflection.acoustic_reflectivity(vp, rho, mode='same')\n",
    "\n",
    "plt.figure(figsize=(6, 4))\n",
    "plt.imshow(rc, aspect='auto', interpolation='none')\n",
    "plt.show()"
   ]
  },
  {
   "cell_type": "code",
   "execution_count": null,
   "metadata": {},
   "outputs": [],
   "source": [
    "rc.shape"
   ]
  },
  {
   "cell_type": "markdown",
   "metadata": {},
   "source": [
    "## Model a seismic wavelet"
   ]
  },
  {
   "cell_type": "markdown",
   "metadata": {
    "tags": [
     "exercise"
    ]
   },
   "source": [
    "### EXERCISE\n",
    "\n",
    "Implement a Ricker wavelet of frequency $f$ with amplitude $\\mathbf{a}$ at time $\\mathbf{t}$ given by:\n",
    "\n",
    "$$ \\mathbf{a}(\\mathbf{t}) = (1-2 \\pi^2 f^2 \\mathbf{t}^2) \\mathrm{e}^{-\\pi^2 f^2 \\mathbf{t}^2} $$\n",
    "\n",
    "The time parameter $\\mathbf{t}$ will be an array of time samples in seconds, e.g. `[-0.008, -0.004, 0.000, 0.004, 0.008,...]`. It should be symmetrical about $t = 0$ and it should include a 0 point. You will need to know how long to make it, and what time step to use. So altogether you'll have three arguments.\n",
    "\n",
    "**Note** that the time series is a bit fiddly. Ideally, you want to go from $-\\frac12t$ to $+\\frac12t$ inclusively, and have 0.0 at the centre. Experiment with `np.arange()` and `np.linspace()` to see if you can achieve this.\n",
    "\n",
    "Pass both the wavelet and the timeseries back to the user. \n",
    "\n",
    "Make a plot of the wavelet's amplitude against time.\n",
    "\n",
    "**Stretch goal:** supposing you wanted to be able to pass in an array of frequencies, like `f = [10, 20, 30, 40]`. How can you get your function to cope with that? <a title=\"See what happens if you multiply an array of shape (5,) by an array of shape (5, 1). Can you think of how to exploit this behaviour?\"><b>HINT.</b></a>"
   ]
  },
  {
   "cell_type": "code",
   "execution_count": null,
   "metadata": {},
   "outputs": [],
   "source": [
    "# YOUR CODE HERE\n",
    "\n"
   ]
  },
  {
   "cell_type": "code",
   "execution_count": null,
   "metadata": {
    "tags": [
     "hide"
    ]
   },
   "outputs": [],
   "source": [
    "np.arange(-1, 1, 0.2)\n",
    "\n",
    "# Note the non-zero value at the centre, and the last step (1.0) is missing."
   ]
  },
  {
   "cell_type": "code",
   "execution_count": null,
   "metadata": {
    "tags": [
     "hide"
    ]
   },
   "outputs": [],
   "source": [
    "np.linspace(-1, 1, 10)\n",
    "\n",
    "# We need n+1 steps to get round 1/n steps."
   ]
  },
  {
   "cell_type": "code",
   "execution_count": 12,
   "metadata": {
    "tags": [
     "hide"
    ]
   },
   "outputs": [
    {
     "data": {
      "text/plain": [
       "[<matplotlib.lines.Line2D at 0x7f3750443760>]"
      ]
     },
     "execution_count": 12,
     "metadata": {},
     "output_type": "execute_result"
    },
    {
     "data": {
      "image/png": "[encoded data removed]",
      "text/plain": [
       "<Figure size 432x288 with 1 Axes>"
      ]
     },
     "metadata": {
      "needs_background": "light"
     },
     "output_type": "display_data"
    }
   ],
   "source": [
    "from collections import namedtuple\n",
    "\n",
    "def ricker(duration, dt, f):\n",
    "    \"\"\"\n",
    "    Ricker function.\n",
    "    \"\"\"\n",
    "    # Leave this stretch goal until after demo'ing with scalar f.\n",
    "    f = np.array(f).reshape(-1, 1)\n",
    "\n",
    "    n = int(duration / dt) + 1\n",
    "    t = np.linspace(-duration/2, duration/2, n)\n",
    "    pft2 = (np.pi * f * t)**2\n",
    "    w = (1 - 2 * pft2) * np.exp(-pft2)\n",
    "    \n",
    "    # Don't use a namedtuple the first time you demo this.\n",
    "    Wavelet = namedtuple('Wavelet', ['amplitude', 'time'])\n",
    "\n",
    "    return Wavelet(amplitude=np.squeeze(w), \n",
    "                   time = t)\n",
    "\n",
    "f = np.arange(5, 100, 5)\n",
    "\n",
    "w, t = ricker(duration=0.128, dt=0.001, f=25)\n",
    "\n",
    "plt.plot(t, w, 'o-')"
   ]
  },
  {
   "cell_type": "code",
   "execution_count": 13,
   "metadata": {
    "tags": [
     "hide"
    ]
   },
   "outputs": [
    {
     "data": {
      "image/png": "[encoded data removed]",
      "text/plain": [
       "<Figure size 432x288 with 1 Axes>"
      ]
     },
     "metadata": {
      "needs_background": "light"
     },
     "output_type": "display_data"
    }
   ],
   "source": [
    "# After the stretch goal implementation, you can do this:\n",
    "w, t = ricker(0.128, 0.002, f=np.arange(5, 100, 5))\n",
    "\n",
    "plt.imshow(w)\n",
    "plt.show()"
   ]
  },
  {
   "cell_type": "markdown",
   "metadata": {},
   "source": [
    "There is [an implementation in `scipy.signal`](https://docs.scipy.org/doc/scipy/reference/generated/scipy.signal.ricker.html) but it has a 'width parameter' instead of 'frequency' so it's harder to parameterize.\n",
    "\n",
    "Instead, we'll use `bruges` to make a wavelet:"
   ]
  },
  {
   "cell_type": "code",
   "execution_count": null,
   "metadata": {},
   "outputs": [],
   "source": []
  },
  {
   "cell_type": "code",
   "execution_count": 14,
   "metadata": {
    "tags": [
     "hide"
    ]
   },
   "outputs": [
    {
     "data": {
      "image/png": "[encoded data removed]",
      "text/plain": [
       "<Figure size 432x288 with 1 Axes>"
      ]
     },
     "metadata": {
      "needs_background": "light"
     },
     "output_type": "display_data"
    }
   ],
   "source": [
    "from bruges.filters import ricker\n",
    "\n",
    "f = 25  # We'll use this later.\n",
    "w, t = ricker(duration=0.128, dt=0.001, f=f, return_t=True, sym=True)\n",
    "\n",
    "plt.plot(t, w)\n",
    "plt.show()"
   ]
  },
  {
   "cell_type": "markdown",
   "metadata": {},
   "source": [
    "## Make a 1D synthetic"
   ]
  },
  {
   "cell_type": "markdown",
   "metadata": {
    "tags": [
     "exercise"
    ]
   },
   "source": [
    "### EXERCISE\n",
    "\n",
    "We'll start with a 1D problem, using the first column of our model as the RC series.The task is to convolve it with the wavelet.\n",
    "\n",
    "Pass the RC series to `np.convolve()` along with the wavelet, then plot the resulting synthetic seismogram."
   ]
  },
  {
   "cell_type": "code",
   "execution_count": null,
   "metadata": {},
   "outputs": [],
   "source": []
  },
  {
   "cell_type": "code",
   "execution_count": null,
   "metadata": {
    "tags": [
     "hide"
    ]
   },
   "outputs": [],
   "source": [
    "plt.plot(rc[:, 0])"
   ]
  },
  {
   "cell_type": "code",
   "execution_count": null,
   "metadata": {},
   "outputs": [],
   "source": [
    "# YOUR CODE HERE\n",
    "\n"
   ]
  },
  {
   "cell_type": "code",
   "execution_count": 15,
   "metadata": {
    "tags": [
     "hide"
    ]
   },
   "outputs": [
    {
     "data": {
      "text/plain": [
       "[<matplotlib.lines.Line2D at 0x7f37504b0880>]"
      ]
     },
     "execution_count": 15,
     "metadata": {},
     "output_type": "execute_result"
    },
    {
     "data": {
      "image/png": "[encoded data removed]",
      "text/plain": [
       "<Figure size 1080x216 with 1 Axes>"
      ]
     },
     "metadata": {
      "needs_background": "light"
     },
     "output_type": "display_data"
    }
   ],
   "source": [
    "profile = rc[:, 0]\n",
    "trace = np.convolve(profile, w, mode='same')\n",
    "\n",
    "fig, ax = plt.subplots(figsize=(15, 3))\n",
    "ax.plot(profile)\n",
    "ax.plot(trace)"
   ]
  },
  {
   "cell_type": "code",
   "execution_count": 16,
   "metadata": {
    "tags": [
     "hide"
    ]
   },
   "outputs": [
    {
     "data": {
      "image/png": "[encoded data removed]",
      "text/plain": [
       "<Figure size 432x288 with 2 Axes>"
      ]
     },
     "metadata": {
      "needs_background": "light"
     },
     "output_type": "display_data"
    }
   ],
   "source": [
    "# A reminder how to put two panels in a plot.\n",
    "# fig, axs = plt.subplots(ncols=2)\n",
    "# OR:\n",
    "fig, (ax0, ax1) = plt.subplots(ncols=2)\n",
    "\n",
    "# Need this when we plot vertically.\n",
    "y = np.arange(0, profile.size)\n",
    "\n",
    "ax0.plot(profile, y)\n",
    "ax1.plot(trace, y)\n",
    "plt.show()"
   ]
  },
  {
   "cell_type": "markdown",
   "metadata": {},
   "source": [
    "## A 2D synthetic"
   ]
  },
  {
   "cell_type": "markdown",
   "metadata": {},
   "source": [
    "It's only a little trickier for us to apply 1D convolution to every trace in our 2D reflection coeeficient matrix. NumPy provides a function, `apply_along_axis()` to apply any function along any one axis of an n-dimensional array. I don't think it's much faster than looping, but I find it easier to think about.\n",
    "\n",
    "Which axis? It's hard to remember and get it right first time, but ask yourself which dimension contains the size of the items you want? In our case, `axis=0`."
   ]
  },
  {
   "cell_type": "code",
   "execution_count": null,
   "metadata": {},
   "outputs": [],
   "source": []
  },
  {
   "cell_type": "code",
   "execution_count": 17,
   "metadata": {
    "tags": [
     "hide"
    ]
   },
   "outputs": [
    {
     "data": {
      "image/png": "[encoded data removed]",
      "text/plain": [
       "<Figure size 864x432 with 2 Axes>"
      ]
     },
     "metadata": {
      "needs_background": "light"
     },
     "output_type": "display_data"
    }
   ],
   "source": [
    "syn = np.apply_along_axis(np.convolve,\n",
    "                          axis=0,\n",
    "                          arr=rc,\n",
    "                          v=w,         # kwarg for np.convolve\n",
    "                          mode='same', # kwarg for np.convolve\n",
    "                         )\n",
    "\n",
    "plt.figure(figsize=(12,6))\n",
    "plt.imshow(syn, cmap=\"Greys\", aspect=0.2)\n",
    "plt.colorbar()\n",
    "plt.show()"
   ]
  },
  {
   "cell_type": "markdown",
   "metadata": {
    "tags": [
     "exercise"
    ]
   },
   "source": [
    "### EXERCISE\n",
    "\n",
    "Use `ipywidgets.interact` to turn this into an interactive plot, so that we can vary the frequency of the wavelet and see the effect on the synthetic.\n",
    "\n",
    "Here's a reminder of how to use it:\n",
    "\n",
    "    from ipywidgets import interact\n",
    "\n",
    "    @interact(a=(0, 10, 1), b=(0, 100, 10))\n",
    "    def main(a, b):\n",
    "        \"\"\"Do the things!\"\"\"\n",
    "        print(a + b)\n",
    "        return"
   ]
  },
  {
   "cell_type": "code",
   "execution_count": 18,
   "metadata": {},
   "outputs": [],
   "source": [
    "# YOUR CODE HERE\n",
    "\n"
   ]
  },
  {
   "cell_type": "code",
   "execution_count": 19,
   "metadata": {
    "tags": [
     "hide"
    ]
   },
   "outputs": [
    {
     "data": {
      "application/vnd.jupyter.widget-view+json": {
       "model_id": "dd0b4072c6e94bf7a70271735d73a10b",
       "version_major": 2,
       "version_minor": 0
      },
      "text/plain": [
       "interactive(children=(IntSlider(value=34, description='f', max=64, min=6, step=2), Output()), _dom_classes=('w…"
      ]
     },
     "metadata": {},
     "output_type": "display_data"
    }
   ],
   "source": [
    "from ipywidgets import interact\n",
    "\n",
    "@interact(f=(6, 64, 2))\n",
    "def show(f):\n",
    "    w, t = ricker(duration=0.256, dt=0.001, f=f, return_t=True, sym=True)\n",
    "    syn = np.apply_along_axis(np.convolve,\n",
    "                              axis=0,\n",
    "                              arr=rc,\n",
    "                              v=w, mode='same')\n",
    "    plt.figure(figsize=(12,6))\n",
    "    plt.imshow(syn, cmap=\"Greys\", aspect=0.2)\n",
    "    plt.colorbar()\n",
    "    plt.show()"
   ]
  },
  {
   "cell_type": "code",
   "execution_count": 20,
   "metadata": {
    "tags": [
     "hide"
    ]
   },
   "outputs": [
    {
     "data": {
      "application/vnd.jupyter.widget-view+json": {
       "model_id": "cdc594371e5e4f9b85f44ad571918056",
       "version_major": 2,
       "version_minor": 0
      },
      "text/plain": [
       "interactive(children=(IntSlider(value=5, description='a', max=10), FloatSlider(value=0.05, description='The 2n…"
      ]
     },
     "metadata": {},
     "output_type": "display_data"
    }
   ],
   "source": [
    "# More options in case someone asks!\n",
    "from ipywidgets import interact, widgets, Layout\n",
    "\n",
    "style = {'description_width': 'initial'}\n",
    "layout = Layout(width='500px')\n",
    "\n",
    "slider = widgets.FloatSlider(value=0.05,\n",
    "                             min=0, max=0.1, step=0.001,\n",
    "                             readout_format='.3f',\n",
    "                             description=\"The 2nd number\",\n",
    "                             style=style,\n",
    "                             layout=layout,\n",
    "                            )\n",
    "\n",
    "@interact(a=(0, 10, 1), b=slider)\n",
    "def main(a, b):\n",
    "    \"\"\"Do the things!\"\"\"\n",
    "    print(a + b)\n",
    "    return\n",
    "\n",
    "# Slider 'a' has default properties.\n",
    "# Slider 'b' has a long slider, and adjusted style to accommodate long description."
   ]
  },
  {
   "cell_type": "markdown",
   "metadata": {
    "tags": [
     "exercise"
    ]
   },
   "source": [
    "### EXERCISE\n",
    "\n",
    "Can you make a composite plot showing:\n",
    "\n",
    "- The model\n",
    "- The synthetic — you can maybe overlay this on the model.\n",
    "- A 'well': a trace from the model.\n",
    "- The synthetic for the 'well'."
   ]
  },
  {
   "cell_type": "code",
   "execution_count": 21,
   "metadata": {},
   "outputs": [],
   "source": [
    "# YOUR CODE HERE\n",
    "\n"
   ]
  },
  {
   "cell_type": "code",
   "execution_count": 22,
   "metadata": {
    "tags": [
     "hide"
    ]
   },
   "outputs": [
    {
     "data": {
      "image/png": "[encoded data removed]",
      "text/plain": [
       "<Figure size 1080x432 with 3 Axes>"
      ]
     },
     "metadata": {
      "needs_background": "light"
     },
     "output_type": "display_data"
    }
   ],
   "source": [
    "highlight = 56\n",
    "\n",
    "fix, (ax1, ax2, ax3) = plt.subplots(ncols=3,\n",
    "                                    figsize=(15, 6),\n",
    "                                    gridspec_kw={'width_ratios': [3, 1, 1]}\n",
    "                                   )\n",
    "\n",
    "ax1.imshow(model, cmap='summer_r', aspect='auto')\n",
    "for offset, trace in enumerate(syn.T[::2]):\n",
    "    x2 = 2*offset\n",
    "    x1 = x2 + 10*trace\n",
    "    y = np.arange(trace.size)\n",
    "    c = 'r' if x2 == highlight else 'k'\n",
    "    ax1.fill_betweenx(y, x1, x2, where=x1-x2>0, interpolate=True, color=c)\n",
    "    ax1.plot(x1, y, color=c, lw=0.5)\n",
    "ax1.set_xlim(0, 79)\n",
    "\n",
    "ax2.plot(imp[:, highlight], y)\n",
    "ax2.set_ylim(200, 0)\n",
    "ax2.grid(c='k', alpha=0.2)\n",
    "\n",
    "ax3.plot(syn[:, highlight], y, 'r')\n",
    "ax3.set_ylim(200, 0)\n",
    "ax3.grid(c='k', alpha=0.2)\n",
    "\n",
    "plt.show()"
   ]
  },
  {
   "cell_type": "markdown",
   "metadata": {},
   "source": [
    "## A wedge model"
   ]
  },
  {
   "cell_type": "markdown",
   "metadata": {
    "tags": [
     "exercise"
    ]
   },
   "source": [
    "### EXERCISE\n",
    "\n",
    "Can you repeat this workflow (model > RC series > synthetic) for a wedge model instead of a layer cake?"
   ]
  },
  {
   "cell_type": "code",
   "execution_count": null,
   "metadata": {},
   "outputs": [],
   "source": [
    "# YOUR CODE HERE\n",
    "\n"
   ]
  },
  {
   "cell_type": "code",
   "execution_count": null,
   "metadata": {
    "tags": [
     "hide"
    ]
   },
   "outputs": [],
   "source": [
    "model = 1 + np.tri(depth, width, k=1-depth//3, dtype=int)\n",
    "#                                ^ adj. so left-most is thick=0.\n",
    "\n",
    "plt.imshow(model)\n",
    "plt.colorbar()\n",
    "plt.show()"
   ]
  },
  {
   "cell_type": "markdown",
   "metadata": {
    "tags": [
     "hide"
    ]
   },
   "source": [
    "Now set the upper part of the model — above the wedge — to zero."
   ]
  },
  {
   "cell_type": "code",
   "execution_count": null,
   "metadata": {
    "tags": [
     "hide"
    ]
   },
   "outputs": [],
   "source": [
    "model[:depth//3,:] = 0\n",
    "\n",
    "plt.imshow(model)\n",
    "plt.colorbar()\n",
    "plt.show()"
   ]
  },
  {
   "cell_type": "code",
   "execution_count": null,
   "metadata": {
    "tags": [
     "hide"
    ]
   },
   "outputs": [],
   "source": [
    "# OPTIONAL: Add sides.\n",
    "model = np.pad(model, [(0,), (width//4,)], mode='edge')\n",
    "\n",
    "plt.imshow(model)\n",
    "plt.colorbar()\n",
    "plt.show()"
   ]
  },
  {
   "cell_type": "code",
   "execution_count": null,
   "metadata": {
    "tags": [
     "hide"
    ]
   },
   "outputs": [],
   "source": [
    "def make_wedge(depth, width):\n",
    "    model = 1 + np.tri(depth, width, 1-depth//3, dtype=int)\n",
    "    model[:depth//3,:] = 0\n",
    "    \n",
    "    # Optional extra bits at the sides.\n",
    "    model = np.pad(model, [(0,), (width//4,)], mode='edge')\n",
    "\n",
    "    return model\n",
    "\n",
    "def make_syn(model, rocks, wavelet):\n",
    "    earth = rocks[model]\n",
    "    imp = np.apply_along_axis(np.prod, arr=earth, axis=-1)\n",
    "    rc = make_rc(imp)\n",
    "    syn = np.apply_along_axis(np.convolve, axis=0, arr=rc,\n",
    "                              v=wavelet, mode='same')\n",
    "    return syn\n",
    "\n",
    "model = make_wedge(depth, width)\n",
    "syn = make_syn(model, rocks, wavelet=w)\n",
    "\n",
    "plt.figure(figsize=(12, 6))\n",
    "plt.imshow(syn, cmap='gray', aspect='auto')"
   ]
  },
  {
   "cell_type": "markdown",
   "metadata": {},
   "source": [
    "## Making wedges with `bruges`\n",
    "\n",
    "As of version 0.4.2, `bruges` has a wedge builder. It's fairly flexible."
   ]
  },
  {
   "cell_type": "code",
   "execution_count": null,
   "metadata": {},
   "outputs": [],
   "source": [
    "from bruges.models import wedge\n",
    "\n",
    "model, *_ = wedge(depth=(67, 67, 66),\n",
    "                  width=(20, 80, 20),\n",
    "                  breadth=None,\n",
    "                  strat=(0, 1, 2),\n",
    "                  thickness=(0.0, 1.0),\n",
    "                  mode='linear',\n",
    "                  conformance='proportional',\n",
    "                  )\n",
    "\n",
    "plt.figure(figsize=(10, 6))\n",
    "plt.imshow(model, aspect='auto')\n",
    "plt.show()"
   ]
  },
  {
   "cell_type": "code",
   "execution_count": null,
   "metadata": {},
   "outputs": [],
   "source": [
    "model2, *_ = wedge(depth=(300, 400, 300),\n",
    "                   width=(100, 800, 100),\n",
    "                   breadth=None,\n",
    "                   strat=([0, 1, 0], [1, 2, 1, 3, 3, 1], [4, 2, 1]),\n",
    "                   thickness=(0.0, 1.0),\n",
    "                   mode='sigmoid',\n",
    "                   conformance='top',\n",
    "                   )\n",
    "\n",
    "plt.figure(figsize=(10, 6))\n",
    "plt.imshow(model2, aspect='auto')\n",
    "plt.colorbar()\n",
    "plt.show()"
   ]
  },
  {
   "cell_type": "markdown",
   "metadata": {
    "tags": [
     "exercise"
    ]
   },
   "source": [
    "### EXERCISE\n",
    "\n",
    "Let's do some analysis on the synthetic.\n",
    "\n",
    "- Plot the **position** of the _actual_ top of the wedge on the synthetic.\n",
    "- Plot the **position** of the _apparent_ top of the wedge on the synthetic.\n",
    "\n",
    "In a separate plot *in the same figure*:\n",
    "\n",
    "- Plot the **amplitude** at the _actual_ top of the wedge."
   ]
  },
  {
   "cell_type": "code",
   "execution_count": null,
   "metadata": {
    "tags": [
     "hide"
    ]
   },
   "outputs": [],
   "source": [
    "# BEFORE UNLEASHING THEM ON THIS EXERCISE...\n",
    "# Students will need a way to get the apparent pick.\n",
    "# See what ideas they have.\n",
    "\n",
    "# Check the data:\n",
    "syn = make_syn(model, rocks, wavelet=w)\n",
    "one_trace = syn[:, 75]\n",
    "\n",
    "# Naive way:\n",
    "top_apparent = np.argmin(one_trace) # <-- Will need to constrain here.\n",
    "\n",
    "plt.figure(figsize=(8, 4))\n",
    "plt.plot(one_trace)\n",
    "plt.axvline(top_apparent, c='r')\n",
    "\n",
    "# How can you constrain to the first trough?\n",
    "# How about just using one_trace[:80]"
   ]
  },
  {
   "cell_type": "code",
   "execution_count": null,
   "metadata": {
    "tags": [
     "hide"
    ]
   },
   "outputs": [],
   "source": [
    "# More elegant, but note that find_peaks()\n",
    "# only works on 1D things.\n",
    "import scipy.signal as ss\n",
    "\n",
    "ss.find_peaks(one_trace, height=one_trace)\n",
    "\n",
    "# Returns peaks and heights.\n",
    "# Question: How can we make this give us troughs, not peaks?\n",
    "# Answer: use the negative trace."
   ]
  },
  {
   "cell_type": "code",
   "execution_count": null,
   "metadata": {},
   "outputs": [],
   "source": [
    "# YOUR CODE HERE\n",
    "\n"
   ]
  },
  {
   "cell_type": "code",
   "execution_count": null,
   "metadata": {
    "tags": [
     "hide"
    ]
   },
   "outputs": [],
   "source": [
    "# Time of actual top.\n",
    "t_actual = np.ones(syn.shape[-1]) * depth//3\n",
    "\n",
    "# Time and amp of apparent top — naive approach.\n",
    "t_apparent = np.argmin(syn[:depth//3+10, :], axis=0)\n",
    "a_apparent = np.min(syn, axis=0)"
   ]
  },
  {
   "cell_type": "code",
   "execution_count": null,
   "metadata": {
    "tags": [
     "hide"
    ]
   },
   "outputs": [],
   "source": [
    "import scipy.signal as ss\n",
    "\n",
    "horizon, amplitude = [], []\n",
    "for trace in syn.T:\n",
    "    # Use negative trace to find troughs.\n",
    "    pos, amp = ss.find_peaks(-trace, height=trace)\n",
    "    amp = amp['peak_heights']\n",
    "    horizon.append(pos[0])   # Want the first (shallowest) peak.\n",
    "    amplitude.append(amp[0]) # Corresponding amplitude.\n",
    "\n",
    "gs = {'height_ratios': [1, 2]}\n",
    "fig, (ax0, ax1) = plt.subplots(figsize=(16, 12), nrows=2, sharex=True, gridspec_kw=gs)\n",
    "ax0.plot(amplitude, 'r')\n",
    "ax1.imshow(syn, aspect='auto', cmap='Greys', vmin=-0.1, vmax=0.1)\n",
    "ax1.plot(horizon, c='r')\n",
    "ax1.plot(t_apparent, 'y--')\n",
    "ax1.plot(t_actual, 'c')\n",
    "ax1.set_xticklabels([0, 0, 0, 20, 40, 60, 80])  # Set x-axis labels to thickness.\n",
    "ax1.set_xlabel('Wedge thickness (ms)')\n",
    "ax0.set_title(\"Wedge model, {} Hz wavelet\".format(f))\n",
    "plt.show()"
   ]
  },
  {
   "cell_type": "code",
   "execution_count": null,
   "metadata": {
    "tags": [
     "hide"
    ]
   },
   "outputs": [],
   "source": [
    "# Probably don't want to get into this unless someone asks.\n",
    "# Basically the problem is that find_peaks() only finds\n",
    "# actual indices, whereas the real peak might be nearby.\n",
    "data = np.array([-2, 1, 5, 10, 11, 4, -1, 0])\n",
    "\n",
    "from welly.utils import parabolic\n",
    "\n",
    "idx_parabolic, max_parabolic = parabolic(data, np.argmax(data))\n",
    "idx_find_peaks, max_find_peaks = ss.find_peaks(data, height=data)\n",
    "\n",
    "plt.plot(data, 'o-')\n",
    "plt.plot(idx_parabolic, max_parabolic, '+', c='red', ms=12, label='parabolic')\n",
    "plt.plot(idx_find_peaks[0], max_find_peaks['peak_heights'][0], '+', c='lime', ms=12, label='find_peaks')\n",
    "plt.legend()"
   ]
  },
  {
   "cell_type": "markdown",
   "metadata": {
    "tags": [
     "exercise"
    ]
   },
   "source": [
    "### EXERCISE\n",
    "\n",
    "Some challenges:\n",
    "\n",
    "1. Can you make a horizon for the bottom of the wedge?\n",
    "1. Does the frequency affect the amplitude of the horizons? \n",
    "1. Try using some of the other wavelets in `bruges.filters`. Do they affect the horizons?\n",
    "1. Use `bruges.reflection` to make a synthetic for offsets other than 0 deg. Can you make a synthetic gather? (You will need to make up or calculate a value for $V_\\mathrm{S}$)."
   ]
  },
  {
   "cell_type": "code",
   "execution_count": null,
   "metadata": {},
   "outputs": [],
   "source": [
    "# YOUR CODE HERE\n",
    "\n"
   ]
  },
  {
   "cell_type": "code",
   "execution_count": null,
   "metadata": {
    "tags": [
     "hide"
    ]
   },
   "outputs": [],
   "source": [
    "# TODO — Solutions for 1, 2, and 3 in that exercise."
   ]
  },
  {
   "cell_type": "code",
   "execution_count": null,
   "metadata": {
    "tags": [
     "hide"
    ]
   },
   "outputs": [],
   "source": [
    "# Solution 4.\n",
    "from bruges.reflection import reflectivity\n",
    "\n",
    "rocks = np.array([[2540, 1340, 2550],\n",
    "                  [2400, 1050, 2450],\n",
    "                  [2650, 1380, 2800]])\n",
    "\n",
    "earth = rocks[model]\n",
    "\n",
    "vp, vs, rho = np.moveaxis(earth, -1, 0)\n",
    "\n",
    "rc = np.stack([reflectivity(vp, vs, rho, theta=θ, mode='same') for θ in np.arange(60)])\n",
    "\n",
    "syn = np.apply_along_axis(np.convolve, arr=rc, axis=1, v=w, mode='same')\n",
    "\n",
    "plt.figure(figsize=(10, 6))\n",
    "plt.imshow(syn[..., 60].T.real, aspect='auto')"
   ]
  },
  {
   "cell_type": "markdown",
   "metadata": {},
   "source": [
    "## `xarray` is kinder"
   ]
  },
  {
   "cell_type": "code",
   "execution_count": null,
   "metadata": {},
   "outputs": [],
   "source": []
  },
  {
   "cell_type": "code",
   "execution_count": null,
   "metadata": {
    "tags": [
     "hide"
    ]
   },
   "outputs": [],
   "source": [
    "# Can help to use xarray in situations like this:\n",
    "import xarray as xr\n",
    "\n",
    "a, t, i = map(np.arange, syn.shape)\n",
    "\n",
    "syn_ = xr.DataArray(syn,\n",
    "                    name='amplitude',\n",
    "                    coords=[a, t, i],\n",
    "                    dims=['angle', 'twt', 'inline']\n",
    "                   )\n",
    "\n",
    "inline = 79\n",
    "\n",
    "syn_[..., inline].T.real.plot.imshow(origin='upper')"
   ]
  },
  {
   "cell_type": "code",
   "execution_count": null,
   "metadata": {
    "tags": [
     "hide"
    ]
   },
   "outputs": [],
   "source": [
    "angle = 20\n",
    "\n",
    "fig, (ax0, ax1) = plt.subplots(ncols=2, figsize=(15, 6))\n",
    "syn_[angle].real.plot.imshow(ax=ax0, origin='upper', cmap='RdBu', vmin=-0.1, vmax=0.1)\n",
    "ax0.axvline(inline, c='k', alpha=0.5)\n",
    "syn_[..., inline].T.real.plot.imshow(ax=ax1, origin='upper', cmap='RdBu', vmin=-0.1, vmax=0.1)\n",
    "ax1.axvline(angle, c='k', alpha=0.5)"
   ]
  },
  {
   "cell_type": "markdown",
   "metadata": {},
   "source": [
    "## A really cool model\n",
    "\n",
    "Let's load an image and use it as a model."
   ]
  },
  {
   "cell_type": "code",
   "execution_count": null,
   "metadata": {},
   "outputs": [],
   "source": [
    "import urllib\n",
    "from PIL import Image\n",
    "\n",
    "url = 'https://geocomp.s3.amazonaws.com/data/Hubbard_etal_2014.png'\n",
    "\n",
    "img = Image.open(urllib.request.urlopen(url))"
   ]
  },
  {
   "cell_type": "markdown",
   "metadata": {},
   "source": [
    "This is just a 4-channel PNG (red, green, blue, alpha)."
   ]
  },
  {
   "cell_type": "code",
   "execution_count": null,
   "metadata": {},
   "outputs": [],
   "source": [
    "img"
   ]
  },
  {
   "cell_type": "markdown",
   "metadata": {},
   "source": [
    "We need this as a NumPy array, and we can discard the alpha channel:"
   ]
  },
  {
   "cell_type": "code",
   "execution_count": null,
   "metadata": {},
   "outputs": [],
   "source": []
  },
  {
   "cell_type": "code",
   "execution_count": null,
   "metadata": {
    "tags": [
     "hide"
    ]
   },
   "outputs": [],
   "source": [
    "import numpy as np\n",
    "\n",
    "im = np.array(img)[..., :3]"
   ]
  },
  {
   "cell_type": "markdown",
   "metadata": {},
   "source": [
    "There are various clustering algorithms we could use, but DBSCAN is optimized for runtime (just be careful about memory; if memory is an issue, use OPTICS).\n",
    "\n",
    "Reshape the image pixels into a 2D array for `scikit-learn`, and reduce the number of points so we don't eat our memory:"
   ]
  },
  {
   "cell_type": "code",
   "execution_count": null,
   "metadata": {},
   "outputs": [],
   "source": [
    "X = np.reshape(im, (-1, 3))[::50]"
   ]
  },
  {
   "cell_type": "code",
   "execution_count": null,
   "metadata": {},
   "outputs": [],
   "source": [
    "from sklearn.cluster import DBSCAN\n",
    "\n",
    "clu = DBSCAN(eps=0.1, min_samples=25, n_jobs=6)\n",
    "clu.fit(X)"
   ]
  },
  {
   "cell_type": "code",
   "execution_count": null,
   "metadata": {},
   "outputs": [],
   "source": [
    "colours = []\n",
    "for label in np.unique(clu.labels_):\n",
    "    if label == -1:\n",
    "        continue  # Noisy values.\n",
    "    sub = X[clu.labels_==label]\n",
    "    colours.append(np.mean(sub, axis=0))"
   ]
  },
  {
   "cell_type": "code",
   "execution_count": null,
   "metadata": {},
   "outputs": [],
   "source": [
    "import matplotlib.pyplot as plt\n",
    "\n",
    "fig, axs = plt.subplots(ncols=len(colours))\n",
    "for ax, colour in zip(axs, colours):\n",
    "    ax.imshow([[colour/255]])\n",
    "    ax.axis('off')"
   ]
  },
  {
   "cell_type": "markdown",
   "metadata": {},
   "source": [
    "Now we need to look up every pixel and choose the nearest of these, to assign it an integer"
   ]
  },
  {
   "cell_type": "code",
   "execution_count": null,
   "metadata": {},
   "outputs": [],
   "source": [
    "from scipy.spatial import cKDTree\n",
    "\n",
    "kdtree = cKDTree(colours)\n",
    "dist, ix = kdtree.query(im)"
   ]
  },
  {
   "cell_type": "code",
   "execution_count": null,
   "metadata": {},
   "outputs": [],
   "source": [
    "rocks = np.array([\n",
    "    6477000,\n",
    "    7420000,\n",
    "    5880000,\n",
    "    6800000,\n",
    "    6100000,\n",
    "    6400000,\n",
    "])"
   ]
  },
  {
   "cell_type": "code",
   "execution_count": null,
   "metadata": {},
   "outputs": [],
   "source": [
    "imp = rocks[ix]\n",
    "\n",
    "imp"
   ]
  },
  {
   "cell_type": "markdown",
   "metadata": {},
   "source": [
    "Alternatively, you could use something like a USGS colour table here: https://gist.github.com/kwinkunks/ea1f34e57d11ad17e340."
   ]
  },
  {
   "cell_type": "markdown",
   "metadata": {
    "tags": [
     "exercise"
    ]
   },
   "source": [
    "### EXERCISE\n",
    "\n",
    "Make a synthetic from this \"impedance\" earth model."
   ]
  },
  {
   "cell_type": "code",
   "execution_count": null,
   "metadata": {},
   "outputs": [],
   "source": [
    "# YOUR CODE HERE\n",
    "\n"
   ]
  },
  {
   "cell_type": "code",
   "execution_count": null,
   "metadata": {
    "tags": [
     "hide"
    ]
   },
   "outputs": [],
   "source": [
    "rc = make_rc(imp)\n",
    "synth = np.apply_along_axis(np.convolve,\n",
    "                            axis=0,\n",
    "                            arr=rc,\n",
    "                            v=w, mode='same')"
   ]
  },
  {
   "cell_type": "code",
   "execution_count": null,
   "metadata": {
    "tags": [
     "hide"
    ]
   },
   "outputs": [],
   "source": [
    "plt.figure(figsize=(12, 6))\n",
    "plt.imshow(synth, cmap=\"RdBu\", vmin=-0.15, vmax=0.15)\n",
    "plt.colorbar(shrink=0.3)\n",
    "plt.show()"
   ]
  },
  {
   "cell_type": "markdown",
   "metadata": {
    "tags": [
     "exercise"
    ]
   },
   "source": [
    "### EXERCISE\n",
    "\n",
    "- Add some noise to the RC series, e.g. using `np.random.random()`.\n",
    "- Smooth the synthetic in the x direction too, e.g. using `scipy.ndimage.gaussian_filter1d()`.\n",
    "- Plot the synthetic with the model.\n",
    "- Add a plot of a single trace at the side, with the location on the section.\n",
    "- Make a model of your own!"
   ]
  },
  {
   "cell_type": "code",
   "execution_count": null,
   "metadata": {},
   "outputs": [],
   "source": [
    "# YOUR CODE HERE \n",
    "\n"
   ]
  },
  {
   "cell_type": "code",
   "execution_count": null,
   "metadata": {
    "tags": [
     "hide"
    ]
   },
   "outputs": [],
   "source": [
    "from scipy.ndimage import gaussian_filter1d\n",
    "\n",
    "rc_n = rc + 0.01 * np.random.normal(size=rc.shape)\n",
    "\n",
    "synth_v = np.apply_along_axis(np.convolve,\n",
    "                              axis=0,\n",
    "                              arr=rc_n,\n",
    "                              v=w, mode='same')\n",
    "\n",
    "synth = gaussian_filter1d(synth_v, sigma=4, axis=-1)\n",
    "\n",
    "plt.figure(figsize=(12, 12))\n",
    "plt.imshow(synth, cmap=\"RdBu\", vmin=-0.1, vmax=0.1)\n",
    "plt.colorbar(shrink=0.4)\n",
    "plt.show()"
   ]
  },
  {
   "cell_type": "markdown",
   "metadata": {},
   "source": [
    "<hr />\n",
    "\n",
    "<div>\n",
    "<img src=\"https://avatars1.githubusercontent.com/u/1692321?s=50\"><p style=\"text-align:center\">© Agile Scientific 2020</p>\n",
    "</div>"
   ]
  }
 ],
 "metadata": {
  "anaconda-cloud": {},
  "celltoolbar": "Tags",
  "kernelspec": {
   "display_name": "Python 3 (ipykernel)",
   "language": "python",
   "name": "python3"
  },
  "language_info": {
   "codemirror_mode": {
    "name": "ipython",
    "version": 3
   },
   "file_extension": ".py",
   "mimetype": "text/x-python",
   "name": "python",
   "nbconvert_exporter": "python",
   "pygments_lexer": "ipython3",
   "version": "3.9.7"
  }
 },
 "nbformat": 4,
 "nbformat_minor": 2
}
