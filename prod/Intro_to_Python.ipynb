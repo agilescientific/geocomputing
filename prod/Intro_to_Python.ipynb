{
 "cells": [
  {
   "cell_type": "markdown",
   "metadata": {},
   "source": [
    "# Intro to Python\n",
    "\n",
    "We are going to work on the basics for working with some well data over the course of this and following tutorials.  At the end of this, you should be able to read in a text file with log data, manipulate it to some extent, and then save it back to disk."
   ]
  },
  {
   "cell_type": "markdown",
   "metadata": {
    "tags": [
     "hide"
    ]
   },
   "source": [
    "#### Instructor's note:\n",
    "This notebook assumes that there has been an initial introduction to Python on the command line, covering at least basic assignment and maths. It might be good to gloss over the context manager for now, but it is good practice to use it regardless."
   ]
  },
  {
   "cell_type": "markdown",
   "metadata": {},
   "source": [
    "## Loading our data and an initial look\n",
    "\n",
    "We will come back to reading and writing data from disc in more detail later in the week, but this is the minimal way to read a file in safely."
   ]
  },
  {
   "cell_type": "code",
   "execution_count": null,
   "metadata": {},
   "outputs": [],
   "source": [
    "with open('../data/well_data.txt', 'r') as f:\n",
    "    data = f.readlines()"
   ]
  },
  {
   "cell_type": "markdown",
   "metadata": {},
   "source": [
    "We can then take a look at what our data is:"
   ]
  },
  {
   "cell_type": "code",
   "execution_count": null,
   "metadata": {},
   "outputs": [],
   "source": []
  },
  {
   "cell_type": "code",
   "execution_count": null,
   "metadata": {
    "tags": [
     "hide"
    ]
   },
   "outputs": [],
   "source": [
    "data"
   ]
  },
  {
   "cell_type": "code",
   "execution_count": null,
   "metadata": {
    "tags": [
     "hide"
    ]
   },
   "outputs": [],
   "source": [
    "type(data)"
   ]
  },
  {
   "cell_type": "markdown",
   "metadata": {},
   "source": [
    "We can access parts of our list to do things with:"
   ]
  },
  {
   "cell_type": "code",
   "execution_count": null,
   "metadata": {},
   "outputs": [],
   "source": []
  },
  {
   "cell_type": "code",
   "execution_count": null,
   "metadata": {
    "tags": [
     "hide"
    ]
   },
   "outputs": [],
   "source": [
    "data[0]"
   ]
  },
  {
   "cell_type": "markdown",
   "metadata": {},
   "source": [
    "Notice that the index starts at `0`. We can get the length of a list (and many other objects) with the `len` function:"
   ]
  },
  {
   "cell_type": "code",
   "execution_count": null,
   "metadata": {},
   "outputs": [],
   "source": [
    "len(data)"
   ]
  },
  {
   "cell_type": "markdown",
   "metadata": {
    "tags": [
     "exercise"
    ]
   },
   "source": [
    "### Exercise\n",
    "\n",
    "* Use the built-in `type` function to find out what the data type of our first element in our `data` list is?\n",
    "* Read the `GDR_clmag_part.XYZ` file in the `data` folder and assign it the name `mag_data`. (This is a subset of the data available [here](https://pubs.usgs.gov/of/2006/1204/german_mag.html) from the USGS.)\n",
    "* How many rows are in the file?\n",
    "* What is the `type` of the first element in `mag_data`?"
   ]
  },
  {
   "cell_type": "code",
   "execution_count": null,
   "metadata": {},
   "outputs": [],
   "source": [
    "# The type of the first element in `data`.\n"
   ]
  },
  {
   "cell_type": "code",
   "execution_count": null,
   "metadata": {},
   "outputs": [],
   "source": [
    "# Read in '../data/GDR_clmag_part.XYZ'.\n",
    "with open #\n",
    "    mag_data = #"
   ]
  },
  {
   "cell_type": "code",
   "execution_count": null,
   "metadata": {},
   "outputs": [],
   "source": [
    "# How many rows in `mag_data`?\n"
   ]
  },
  {
   "cell_type": "code",
   "execution_count": null,
   "metadata": {},
   "outputs": [],
   "source": [
    "# The type of the first element in `mag_data`.\n"
   ]
  },
  {
   "cell_type": "code",
   "execution_count": null,
   "metadata": {
    "tags": [
     "hide"
    ]
   },
   "outputs": [],
   "source": [
    "with open('../data/GDR_clmag_part.XYZ', 'r') as f:\n",
    "    mag_data = f.readlines()"
   ]
  },
  {
   "cell_type": "code",
   "execution_count": null,
   "metadata": {
    "tags": [
     "hide"
    ]
   },
   "outputs": [],
   "source": [
    "len(mag_data)"
   ]
  },
  {
   "cell_type": "code",
   "execution_count": null,
   "metadata": {
    "tags": [
     "hide"
    ]
   },
   "outputs": [],
   "source": [
    "mag_data"
   ]
  },
  {
   "cell_type": "markdown",
   "metadata": {},
   "source": [
    "The way that we are reading data in gets us a list of strings. So, let us take a look at strings, and what we can do with them."
   ]
  },
  {
   "cell_type": "markdown",
   "metadata": {},
   "source": [
    "## Strings in detail\n",
    "\n",
    "* Creating strings\n",
    "* `print` and special characters (`\\n`, `\\t`)\n",
    "* Indexing\n",
    "* Membership and operations\n",
    "* String methods (`strip`, `lower`, `islower`, `find`, `replace`)\n",
    "* Formatting strings: f-strings and `.format`"
   ]
  },
  {
   "cell_type": "code",
   "execution_count": null,
   "metadata": {},
   "outputs": [],
   "source": []
  },
  {
   "cell_type": "code",
   "execution_count": null,
   "metadata": {
    "tags": [
     "hide"
    ]
   },
   "outputs": [],
   "source": [
    "type('sandstone')"
   ]
  },
  {
   "cell_type": "code",
   "execution_count": null,
   "metadata": {
    "tags": [
     "hide"
    ]
   },
   "outputs": [],
   "source": [
    "type(\"sandstone\")"
   ]
  },
  {
   "cell_type": "code",
   "execution_count": null,
   "metadata": {
    "tags": [
     "hide"
    ]
   },
   "outputs": [],
   "source": [
    "\"sandstone's\""
   ]
  },
  {
   "cell_type": "code",
   "execution_count": null,
   "metadata": {},
   "outputs": [],
   "source": [
    "s = 'sandstone\\tphi:\\t0.3\\n\\t\\tGR:\\t32'\n",
    "s"
   ]
  },
  {
   "cell_type": "code",
   "execution_count": null,
   "metadata": {
    "tags": [
     "hide"
    ]
   },
   "outputs": [],
   "source": [
    "print(s)"
   ]
  },
  {
   "cell_type": "code",
   "execution_count": null,
   "metadata": {
    "tags": [
     "hide"
    ]
   },
   "outputs": [],
   "source": [
    "len(s)"
   ]
  },
  {
   "cell_type": "markdown",
   "metadata": {},
   "source": [
    "#### Indexing and Slicing"
   ]
  },
  {
   "cell_type": "code",
   "execution_count": null,
   "metadata": {},
   "outputs": [],
   "source": []
  },
  {
   "cell_type": "code",
   "execution_count": null,
   "metadata": {
    "tags": [
     "hide"
    ]
   },
   "outputs": [],
   "source": [
    "s[4]"
   ]
  },
  {
   "cell_type": "code",
   "execution_count": null,
   "metadata": {
    "tags": [
     "hide"
    ]
   },
   "outputs": [],
   "source": [
    "# This does _not_ work. Strings are immutable, so they can not be changed.\n",
    "# Might want to compare to a list later instead?\n",
    "s[4] = 'S'"
   ]
  },
  {
   "cell_type": "code",
   "execution_count": null,
   "metadata": {
    "tags": [
     "hide"
    ]
   },
   "outputs": [],
   "source": [
    "s[:9]"
   ]
  },
  {
   "cell_type": "code",
   "execution_count": null,
   "metadata": {
    "tags": [
     "hide"
    ]
   },
   "outputs": [],
   "source": [
    "s[-2:]"
   ]
  },
  {
   "cell_type": "markdown",
   "metadata": {},
   "source": [
    "#### Membership and operations"
   ]
  },
  {
   "cell_type": "code",
   "execution_count": null,
   "metadata": {},
   "outputs": [],
   "source": []
  },
  {
   "cell_type": "code",
   "execution_count": null,
   "metadata": {
    "tags": [
     "hide"
    ]
   },
   "outputs": [],
   "source": [
    "'sand' in s"
   ]
  },
  {
   "cell_type": "code",
   "execution_count": null,
   "metadata": {
    "tags": [
     "hide"
    ]
   },
   "outputs": [],
   "source": [
    "'=' * 10"
   ]
  },
  {
   "cell_type": "code",
   "execution_count": null,
   "metadata": {
    "tags": [
     "hide"
    ]
   },
   "outputs": [],
   "source": [
    "'Hello ' + 'world' + '!'"
   ]
  },
  {
   "cell_type": "code",
   "execution_count": null,
   "metadata": {
    "tags": [
     "hide"
    ]
   },
   "outputs": [],
   "source": [
    "'The value is ' + str(243.21) + ' Nm.'"
   ]
  },
  {
   "cell_type": "code",
   "execution_count": null,
   "metadata": {
    "tags": [
     "hide"
    ]
   },
   "outputs": [],
   "source": [
    "' '.join(['Hello', 'World'])"
   ]
  },
  {
   "cell_type": "markdown",
   "metadata": {},
   "source": [
    "#### String methods"
   ]
  },
  {
   "cell_type": "code",
   "execution_count": null,
   "metadata": {},
   "outputs": [],
   "source": [
    "'  a string    surrounded by spaces   \\n   '.strip()"
   ]
  },
  {
   "cell_type": "code",
   "execution_count": null,
   "metadata": {},
   "outputs": [],
   "source": []
  },
  {
   "cell_type": "code",
   "execution_count": null,
   "metadata": {
    "tags": [
     "hide"
    ]
   },
   "outputs": [],
   "source": [
    "s.lower()"
   ]
  },
  {
   "cell_type": "code",
   "execution_count": null,
   "metadata": {
    "tags": [
     "hide"
    ]
   },
   "outputs": [],
   "source": [
    "s.islower()"
   ]
  },
  {
   "cell_type": "code",
   "execution_count": null,
   "metadata": {
    "tags": [
     "hide"
    ]
   },
   "outputs": [],
   "source": [
    "s.find('GR')"
   ]
  },
  {
   "cell_type": "code",
   "execution_count": null,
   "metadata": {
    "tags": [
     "hide"
    ]
   },
   "outputs": [],
   "source": [
    "s.startswith('Sand')"
   ]
  },
  {
   "cell_type": "code",
   "execution_count": null,
   "metadata": {
    "tags": [
     "hide"
    ]
   },
   "outputs": [],
   "source": [
    "s.replace('sand', 'silt')"
   ]
  },
  {
   "cell_type": "markdown",
   "metadata": {},
   "source": [
    "Methods can be 'chained':"
   ]
  },
  {
   "cell_type": "code",
   "execution_count": null,
   "metadata": {},
   "outputs": [],
   "source": []
  },
  {
   "cell_type": "code",
   "execution_count": null,
   "metadata": {
    "tags": [
     "hide"
    ]
   },
   "outputs": [],
   "source": [
    "s.replace('sand', 'silt').upper()"
   ]
  },
  {
   "cell_type": "markdown",
   "metadata": {},
   "source": [
    "### Formatting strings\n",
    "\n",
    "We can format the results of values in strings in two ways: `.format` or using f-strings. The latter is more compact, and there is no particular reason to not use them, unless you are working on legacy code. We can put expressions or variables into strings directly using this."
   ]
  },
  {
   "cell_type": "code",
   "execution_count": null,
   "metadata": {},
   "outputs": [],
   "source": [
    "poro = 0.15\n",
    "\n",
    "'The porosity is ' + poro"
   ]
  },
  {
   "cell_type": "code",
   "execution_count": null,
   "metadata": {},
   "outputs": [],
   "source": []
  },
  {
   "cell_type": "code",
   "execution_count": null,
   "metadata": {
    "tags": [
     "hide"
    ]
   },
   "outputs": [],
   "source": [
    "'The porosity is ' + str(poro)\n",
    "f'The porosity is {poro}'\n",
    "'The porosity is {}'.format(poro)"
   ]
  },
  {
   "cell_type": "markdown",
   "metadata": {},
   "source": [
    "The formatting mini-language docs: https://docs.python.org/3/library/string.html#formatspec"
   ]
  },
  {
   "cell_type": "markdown",
   "metadata": {
    "tags": [
     "exercise"
    ]
   },
   "source": [
    "### Exercise\n",
    "\n",
    "- Use the `math` or `numpy` module and an f-string to print $\\mathrm{e}$ (the base of the natural logarithm) to 3 decimal places. \n",
    "- Change `'JURASSIC*PERIOD\\n'` to lower case.\n",
    "- Change the `'*'` to a space, change everything to title case, and remove the new line. Do this in a single expression if you can."
   ]
  },
  {
   "cell_type": "code",
   "execution_count": null,
   "metadata": {
    "tags": [
     "hide"
    ]
   },
   "outputs": [],
   "source": [
    "import math"
   ]
  },
  {
   "cell_type": "code",
   "execution_count": null,
   "metadata": {},
   "outputs": [],
   "source": [
    "# Print e in an f-string with 3 decimal places.\n"
   ]
  },
  {
   "cell_type": "code",
   "execution_count": null,
   "metadata": {},
   "outputs": [],
   "source": [
    "# Change the following string to lower case.\n",
    "s = 'JURASSIC*PERIOD\\n'\n"
   ]
  },
  {
   "cell_type": "code",
   "execution_count": null,
   "metadata": {},
   "outputs": [],
   "source": [
    "# Change the '*' to a space, change everything to title case, and remove the new line character.\n"
   ]
  },
  {
   "cell_type": "markdown",
   "metadata": {},
   "source": [
    "## Lists in detail\n",
    "\n",
    "Our data was loaded as a list, so let us look at how lists behave and what they can do.\n",
    "\n",
    "* Creating lists\n",
    "* Indexing\n",
    "* Slicing\n",
    "* Modifying list elements\n",
    "* List methods (append, pop, insert, count, index)\n",
    "* Things to be aware of"
   ]
  },
  {
   "cell_type": "code",
   "execution_count": null,
   "metadata": {},
   "outputs": [],
   "source": []
  },
  {
   "cell_type": "code",
   "execution_count": null,
   "metadata": {
    "tags": [
     "hide"
    ]
   },
   "outputs": [],
   "source": [
    "# creation of a new list:\n",
    "a_list = [0, 1, 2, 3, 4, 5]\n",
    "\n",
    "# creation of a list from a string:\n",
    "thicknesses = data[0].split()[0].split(';')"
   ]
  },
  {
   "cell_type": "markdown",
   "metadata": {},
   "source": [
    "**Indexing and slicing**"
   ]
  },
  {
   "cell_type": "markdown",
   "metadata": {
    "tags": [
     "hide"
    ]
   },
   "source": [
    "Either of the above lists should work to show the basics below:"
   ]
  },
  {
   "cell_type": "code",
   "execution_count": null,
   "metadata": {},
   "outputs": [],
   "source": []
  },
  {
   "cell_type": "code",
   "execution_count": null,
   "metadata": {
    "tags": [
     "hide"
    ]
   },
   "outputs": [],
   "source": [
    "thicknesses[0]"
   ]
  },
  {
   "cell_type": "code",
   "execution_count": null,
   "metadata": {
    "tags": [
     "hide"
    ]
   },
   "outputs": [],
   "source": [
    "len(thicknesses)"
   ]
  },
  {
   "cell_type": "code",
   "execution_count": null,
   "metadata": {
    "tags": [
     "hide"
    ]
   },
   "outputs": [],
   "source": [
    "thicknesses[-1]"
   ]
  },
  {
   "cell_type": "code",
   "execution_count": null,
   "metadata": {
    "tags": [
     "hide"
    ]
   },
   "outputs": [],
   "source": [
    "thicknesses[3:6]"
   ]
  },
  {
   "cell_type": "code",
   "execution_count": null,
   "metadata": {
    "tags": [
     "hide"
    ]
   },
   "outputs": [],
   "source": [
    "thicknesses[::2]"
   ]
  },
  {
   "cell_type": "code",
   "execution_count": null,
   "metadata": {
    "tags": [
     "hide"
    ]
   },
   "outputs": [],
   "source": [
    "thicknesses"
   ]
  },
  {
   "cell_type": "markdown",
   "metadata": {},
   "source": [
    "#### Modifying Lists"
   ]
  },
  {
   "cell_type": "code",
   "execution_count": null,
   "metadata": {},
   "outputs": [],
   "source": []
  },
  {
   "cell_type": "code",
   "execution_count": null,
   "metadata": {
    "tags": [
     "hide"
    ]
   },
   "outputs": [],
   "source": [
    "thicknesses[4] = '12'"
   ]
  },
  {
   "cell_type": "code",
   "execution_count": null,
   "metadata": {
    "tags": [
     "hide"
    ]
   },
   "outputs": [],
   "source": [
    "thicknesses"
   ]
  },
  {
   "cell_type": "markdown",
   "metadata": {},
   "source": [
    "#### List Methods"
   ]
  },
  {
   "cell_type": "markdown",
   "metadata": {
    "tags": [
     "hide"
    ]
   },
   "source": [
    "Useful methods to cover:\n",
    "\n",
    "```\n",
    ".index()\n",
    ".count()\n",
    ".append()\n",
    ".extend()\n",
    ".pop()\n",
    "```"
   ]
  },
  {
   "cell_type": "code",
   "execution_count": null,
   "metadata": {},
   "outputs": [],
   "source": []
  },
  {
   "cell_type": "markdown",
   "metadata": {},
   "source": [
    "### Things to be aware of with lists:\n",
    "#### Heterogeneous Lists"
   ]
  },
  {
   "cell_type": "code",
   "execution_count": null,
   "metadata": {},
   "outputs": [],
   "source": [
    "mixed_list = [0, 1, 2.5, thicknesses, 'sandstone', [100,200,300]]"
   ]
  },
  {
   "cell_type": "code",
   "execution_count": null,
   "metadata": {},
   "outputs": [],
   "source": []
  },
  {
   "cell_type": "markdown",
   "metadata": {},
   "source": [
    "#### Mutability gotcha:"
   ]
  },
  {
   "cell_type": "code",
   "execution_count": null,
   "metadata": {},
   "outputs": [],
   "source": [
    "a = [1, 2, 3, 4]\n",
    "b = a"
   ]
  },
  {
   "cell_type": "code",
   "execution_count": null,
   "metadata": {
    "tags": [
     "hide"
    ]
   },
   "outputs": [],
   "source": [
    "b[0] = 10\n",
    "b"
   ]
  },
  {
   "cell_type": "code",
   "execution_count": null,
   "metadata": {
    "tags": [
     "hide"
    ]
   },
   "outputs": [],
   "source": [
    "a"
   ]
  },
  {
   "cell_type": "code",
   "execution_count": null,
   "metadata": {
    "tags": [
     "hide"
    ]
   },
   "outputs": [],
   "source": [
    "b = a.copy()"
   ]
  },
  {
   "cell_type": "code",
   "execution_count": null,
   "metadata": {
    "tags": [
     "hide"
    ]
   },
   "outputs": [],
   "source": [
    "b[0] = 1\n",
    "b"
   ]
  },
  {
   "cell_type": "code",
   "execution_count": null,
   "metadata": {
    "tags": [
     "hide"
    ]
   },
   "outputs": [],
   "source": [
    "a"
   ]
  },
  {
   "cell_type": "markdown",
   "metadata": {
    "tags": [
     "hide"
    ]
   },
   "source": [
    "### Make sure that the following have been done to get the data ready for later:\n",
    "Also, make sure that `len(thicknesses)` is 10."
   ]
  },
  {
   "cell_type": "code",
   "execution_count": null,
   "metadata": {
    "tags": [
     "hide"
    ]
   },
   "outputs": [],
   "source": [
    "data_thickness = data[0].split()[0]\n",
    "data_thickness.split(';')"
   ]
  },
  {
   "cell_type": "code",
   "execution_count": null,
   "metadata": {
    "tags": [
     "hide"
    ]
   },
   "outputs": [],
   "source": [
    "thicknesses = data_thickness.split(';')"
   ]
  },
  {
   "cell_type": "code",
   "execution_count": null,
   "metadata": {
    "tags": [
     "hide"
    ]
   },
   "outputs": [],
   "source": [
    "thicknesses[4] = '12'"
   ]
  },
  {
   "cell_type": "markdown",
   "metadata": {
    "tags": [
     "exercise"
    ]
   },
   "source": [
    "### Optional Exercise\n",
    "\n",
    "* In the `mag_data` that we loaded previously:\n",
    "    * How many of the items in the list are header rows, starting with `/`? <a title=\"Slice into the `mage_data`. There are not more than 20 header rows.\"><b>HINT</b></a>\n",
    "    * How many footer rows, also starting with `/` are there? <a title=\"Slice into the `mage_data`. There are not more than 10 footer rows.\"><b>HINT</b></a>\n",
    "    * Remove any header and footer items from `mag_data` and name the result `cleaned_mag_data`. You should have 52135 elements in your list.\n",
    "    * Save any header data to a new list `mag_header`."
   ]
  },
  {
   "cell_type": "code",
   "execution_count": null,
   "metadata": {},
   "outputs": [],
   "source": []
  },
  {
   "cell_type": "code",
   "execution_count": null,
   "metadata": {},
   "outputs": [],
   "source": []
  },
  {
   "cell_type": "code",
   "execution_count": null,
   "metadata": {
    "tags": [
     "hide"
    ]
   },
   "outputs": [],
   "source": [
    "# 13 header rows:\n",
    "mag_data[:20]"
   ]
  },
  {
   "cell_type": "code",
   "execution_count": null,
   "metadata": {
    "tags": [
     "hide"
    ]
   },
   "outputs": [],
   "source": [
    "# 2 footer rows:\n",
    "mag_data[-10:]\n",
    "# mag_data[-1:-10:-1] # also works"
   ]
  },
  {
   "cell_type": "code",
   "execution_count": null,
   "metadata": {},
   "outputs": [],
   "source": [
    "cleaned_mag_data = #"
   ]
  },
  {
   "cell_type": "code",
   "execution_count": null,
   "metadata": {
    "tags": [
     "hide"
    ]
   },
   "outputs": [],
   "source": [
    "# Either repeated\n",
    "# mag_data.pop(0) and mag_data.pop()\n",
    "# or\n",
    "cleaned_mag_data = mag_data[13:-2]\n",
    "# The second is nicer if you have to drop a bunch of things.\n",
    "cleaned_mag_data[:15]"
   ]
  },
  {
   "cell_type": "code",
   "execution_count": null,
   "metadata": {
    "tags": [
     "hide"
    ]
   },
   "outputs": [],
   "source": [
    "cleaned_mag_data[-10:]"
   ]
  },
  {
   "cell_type": "code",
   "execution_count": null,
   "metadata": {},
   "outputs": [],
   "source": [
    "# If you did the above correctly, this cell will have no output.\n",
    "assert len(cleaned_mag_data) == 52135"
   ]
  },
  {
   "cell_type": "code",
   "execution_count": null,
   "metadata": {},
   "outputs": [],
   "source": [
    "mag_header = #"
   ]
  },
  {
   "cell_type": "code",
   "execution_count": null,
   "metadata": {
    "tags": [
     "hide"
    ]
   },
   "outputs": [],
   "source": [
    "mag_header = mag_data[:13]\n",
    "mag_header"
   ]
  },
  {
   "cell_type": "markdown",
   "metadata": {},
   "source": [
    "## Looping: `for` ... `in` ...`:`\n",
    "\n",
    "* Motivation\n",
    "* Basic pattern\n",
    "* Making new lists\n",
    "* List comprehensions"
   ]
  },
  {
   "cell_type": "code",
   "execution_count": null,
   "metadata": {},
   "outputs": [],
   "source": [
    "thicknesses"
   ]
  },
  {
   "cell_type": "code",
   "execution_count": null,
   "metadata": {},
   "outputs": [],
   "source": [
    "type(thicknesses[0])"
   ]
  },
  {
   "cell_type": "markdown",
   "metadata": {},
   "source": [
    "We can change the type of each element in a list by _typecasting_."
   ]
  },
  {
   "cell_type": "code",
   "execution_count": null,
   "metadata": {},
   "outputs": [],
   "source": []
  },
  {
   "cell_type": "code",
   "execution_count": null,
   "metadata": {
    "tags": [
     "hide"
    ]
   },
   "outputs": [],
   "source": [
    "int('230'), float('35.2'), str(234), bool(1)"
   ]
  },
  {
   "cell_type": "code",
   "execution_count": null,
   "metadata": {
    "tags": [
     "hide"
    ]
   },
   "outputs": [],
   "source": [
    "int(thicknesses[0])"
   ]
  },
  {
   "cell_type": "markdown",
   "metadata": {},
   "source": [
    "#### Basic Pattern"
   ]
  },
  {
   "cell_type": "code",
   "execution_count": null,
   "metadata": {},
   "outputs": [],
   "source": []
  },
  {
   "cell_type": "code",
   "execution_count": null,
   "metadata": {
    "tags": [
     "hide"
    ]
   },
   "outputs": [],
   "source": [
    "for item in thicknesses:\n",
    "    print(item)\n",
    "    print(type(item))"
   ]
  },
  {
   "cell_type": "markdown",
   "metadata": {},
   "source": [
    "#### Making new lists\n",
    "\n",
    "This is a very common pattern:"
   ]
  },
  {
   "cell_type": "code",
   "execution_count": null,
   "metadata": {},
   "outputs": [],
   "source": []
  },
  {
   "cell_type": "code",
   "execution_count": null,
   "metadata": {
    "tags": [
     "hide"
    ]
   },
   "outputs": [],
   "source": [
    "thickness_ints = []\n",
    "for item in thicknesses:\n",
    "    thickness_ints.append(int(item))\n",
    "    \n",
    "thickness_ints"
   ]
  },
  {
   "cell_type": "code",
   "execution_count": null,
   "metadata": {
    "tags": [
     "hide"
    ]
   },
   "outputs": [],
   "source": [
    "for item in thickness_ints:\n",
    "    print(type(item))"
   ]
  },
  {
   "cell_type": "markdown",
   "metadata": {},
   "source": [
    "#### Plotting taster"
   ]
  },
  {
   "cell_type": "code",
   "execution_count": null,
   "metadata": {},
   "outputs": [],
   "source": [
    "import matplotlib.pyplot as plt"
   ]
  },
  {
   "cell_type": "code",
   "execution_count": null,
   "metadata": {},
   "outputs": [],
   "source": [
    "plt.plot(thickness_ints)"
   ]
  },
  {
   "cell_type": "markdown",
   "metadata": {},
   "source": [
    "#### List comprehensions"
   ]
  },
  {
   "cell_type": "code",
   "execution_count": null,
   "metadata": {},
   "outputs": [],
   "source": []
  },
  {
   "cell_type": "code",
   "execution_count": null,
   "metadata": {
    "tags": [
     "hide"
    ]
   },
   "outputs": [],
   "source": [
    "# List comprehension instead\n",
    "[int(n) for n in thicknesses]"
   ]
  },
  {
   "cell_type": "markdown",
   "metadata": {
    "tags": [
     "exercise"
    ]
   },
   "source": [
    "### Exercise\n",
    "\n",
    "Rearrange the following lines to loop over a list of files and gather the second part of the file names &mdash; the months &mdash; into a new list, then print the new list.\n",
    "\n",
    "When the code runs, it should produce:\n",
    "\n",
    "    ['Jan', 'Mar', 'Jun', 'Jun']\n"
   ]
  },
  {
   "cell_type": "code",
   "execution_count": null,
   "metadata": {},
   "outputs": [],
   "source": [
    "print(months)\n",
    "files = ['MH_Jan-18.png', 'MH_Mar-18.png', 'MH_Jun-18.png', 'MH_Jun-17.png']\n",
    "months.append(month)\n",
    "month = file.split('_')[1].split('-')[0]\n",
    "for file in files:\n",
    "months = []"
   ]
  },
  {
   "cell_type": "code",
   "execution_count": null,
   "metadata": {},
   "outputs": [],
   "source": []
  },
  {
   "cell_type": "code",
   "execution_count": null,
   "metadata": {
    "tags": [
     "hide"
    ]
   },
   "outputs": [],
   "source": [
    "files = ['MH_Jan-18.png', 'MH_Mar-18.png', 'MH_Jun-18.png', 'MH_Jun-17.png']\n",
    "months = []\n",
    "for file in files:\n",
    "    month = file.split('_')[1].split('-')[0]\n",
    "    months.append(month)\n",
    "print(months)"
   ]
  },
  {
   "cell_type": "markdown",
   "metadata": {
    "tags": [
     "exercise"
    ]
   },
   "source": [
    "### Exercise\n",
    "\n",
    "* Create lists of the data from the strings stored in `data[1]` and `data[2]`, giving them appropriate names (`densities` and `lithologies`).\n",
    "* Typecast the elements in the `density` list to an appropriate type, rather than strings. Save the results as a new list (`density_floats`).\n",
    "* Optional: If you are feeling comfortable with list comprehensions, do the typecasting of the densities into `float` values using a list comprehension instead of a `for` loop.\n",
    "* Optional: Calculate the depth of the top of each layer in our dataset by subtracting the thickness of the previous layer, starting at 0. <a title=\"You will need to keep track of the depth (starting at 0) with a separate name and change the value as you iterate through the loop.\"><b>HINT</b></a>\n",
    "\n",
    "The last one is definitely a stretch exercise, unless you are already comfortable with programming in other languages, so do not feel bad if you are struggling."
   ]
  },
  {
   "cell_type": "code",
   "execution_count": null,
   "metadata": {},
   "outputs": [],
   "source": [
    "# Create a list of the data.\n",
    "data[1]"
   ]
  },
  {
   "cell_type": "code",
   "execution_count": null,
   "metadata": {},
   "outputs": [],
   "source": [
    "data[2]"
   ]
  },
  {
   "cell_type": "code",
   "execution_count": null,
   "metadata": {
    "tags": [
     "hide"
    ]
   },
   "outputs": [],
   "source": [
    "densities = data[1].split()[0].split(';')\n",
    "lithologies = data[2].split()[0].split(';')\n",
    "densities"
   ]
  },
  {
   "cell_type": "code",
   "execution_count": null,
   "metadata": {
    "tags": [
     "hide"
    ]
   },
   "outputs": [],
   "source": [
    "lithologies"
   ]
  },
  {
   "cell_type": "code",
   "execution_count": null,
   "metadata": {},
   "outputs": [],
   "source": [
    "# Cast the density values into a list of floats.\n",
    "density_floats = #"
   ]
  },
  {
   "cell_type": "code",
   "execution_count": null,
   "metadata": {
    "tags": [
     "hide"
    ]
   },
   "outputs": [],
   "source": [
    "density_floats = []\n",
    "for den in densities:\n",
    "    density_floats.append(float(den))\n",
    "    \n",
    "density_floats"
   ]
  },
  {
   "cell_type": "code",
   "execution_count": null,
   "metadata": {},
   "outputs": [],
   "source": [
    "# Do the typecasting as a list comprehension.\n"
   ]
  },
  {
   "cell_type": "code",
   "execution_count": null,
   "metadata": {
    "tags": [
     "hide"
    ]
   },
   "outputs": [],
   "source": [
    "[float(den) for den in densities]"
   ]
  },
  {
   "cell_type": "code",
   "execution_count": null,
   "metadata": {},
   "outputs": [],
   "source": [
    "# Calculate the depth of each row.\n",
    "current_depth = 0\n",
    "depths = []\n",
    "# for ... in ...:"
   ]
  },
  {
   "cell_type": "code",
   "execution_count": null,
   "metadata": {
    "tags": [
     "hide"
    ]
   },
   "outputs": [],
   "source": [
    "# Build this up slowly.\n",
    "curr_depth = 0\n",
    "depths = []\n",
    "for layer_thickness in thickness_ints:\n",
    "    depths.append(curr_depth)\n",
    "    #curr_depth = curr_depth + layer_thickness\n",
    "    curr_depth -= layer_thickness  # Show the above first.\n",
    "depths"
   ]
  },
  {
   "cell_type": "code",
   "execution_count": null,
   "metadata": {
    "tags": [
     "hide"
    ]
   },
   "outputs": [],
   "source": [
    "plt.plot(thickness_ints, depths)"
   ]
  },
  {
   "cell_type": "markdown",
   "metadata": {},
   "source": [
    "We now have the following lists from our well:"
   ]
  },
  {
   "cell_type": "code",
   "execution_count": null,
   "metadata": {},
   "outputs": [],
   "source": [
    "print(thickness_ints)\n",
    "print(density_floats)\n",
    "print(lithologies)\n",
    "print(depths)"
   ]
  },
  {
   "cell_type": "markdown",
   "metadata": {
    "tags": [
     "hide"
    ]
   },
   "source": [
    "Make sure to give the clean versions of these to students:"
   ]
  },
  {
   "cell_type": "code",
   "execution_count": null,
   "metadata": {
    "tags": [
     "hide"
    ]
   },
   "outputs": [],
   "source": [
    "thickness_ints = [10, 30, 15, 45, 12, 11, 21, 1, 12, 19]\n",
    "density_floats = [2.3, 2.4, 2.5, 2.5, 2.45, 2.3, 2.55, -999.25, 2.55, 2.6]\n",
    "lithologies = ['SH', 'SST', 'SLT', 'SH', 'SST', 'INT', 'SH', 'SST', 'SLT', 'SH']\n",
    "depths = [0, -10, -40, -55, -100, -112, -123, -144, -145, -157]"
   ]
  },
  {
   "cell_type": "markdown",
   "metadata": {
    "tags": [
     "exercise"
    ]
   },
   "source": [
    "\n",
    "- Optional: Our `mag_data` contains some header information that we loaded earlier. Print the header rows using string methods in a `for` loop. We only want the header data, not any footers that may be present. <a title=\"str.startswith is a useful method that may help.\"><b>HINT</b></a>\n",
    "- Optional: Save just the header data as a list named `mag_header`.\n",
    "- Optional: Save the non-header data as a list named `cleaned_mag_data`.\n",
    "\n",
    "If you are feeling comfortable so far, the last three questions should be attainable with what we have shown. If you are feeling less comfortable, we will help you with solutions soon."
   ]
  },
  {
   "cell_type": "code",
   "execution_count": null,
   "metadata": {},
   "outputs": [],
   "source": [
    "# Print the header lines in `mag_data`.\n",
    "\n",
    "\n"
   ]
  },
  {
   "cell_type": "code",
   "execution_count": null,
   "metadata": {},
   "outputs": [],
   "source": [
    "mag_header = # YOUR CODE HERE"
   ]
  },
  {
   "cell_type": "code",
   "execution_count": null,
   "metadata": {},
   "outputs": [],
   "source": [
    "cleaned_mag_data = #"
   ]
  },
  {
   "cell_type": "code",
   "execution_count": null,
   "metadata": {
    "tags": [
     "hide"
    ]
   },
   "outputs": [],
   "source": [
    "for line in mag_data:\n",
    "    if line.startswith('/'):\n",
    "        print(line.strip())\n",
    "    else: # We want the break, because otherwise we catch the footers in this dataset as well.\n",
    "        break"
   ]
  },
  {
   "cell_type": "code",
   "execution_count": null,
   "metadata": {
    "tags": [
     "hide"
    ]
   },
   "outputs": [],
   "source": [
    "mag_header = []\n",
    "for line in mag_data:\n",
    "    if line.startswith('/'):\n",
    "        mag_header.append(line)\n",
    "    else:\n",
    "        break\n",
    "mag_header"
   ]
  },
  {
   "cell_type": "markdown",
   "metadata": {},
   "source": [
    "## Mathematics\n",
    "\n",
    "We covered much of this in the console, but just as revision:"
   ]
  },
  {
   "cell_type": "markdown",
   "metadata": {
    "tags": [
     "info"
    ]
   },
   "source": [
    "\n",
    "```python\n",
    "2 + 3 # Addition\n",
    "2 - 3  # Subtraction\n",
    "2 * 3  # Multiplication\n",
    "2 / 3  # Division\n",
    "11 // 2  # Floor division\n",
    "11 % 2  # Modulo (remainder)\n",
    "2**3  # Exponentiation\n",
    "```\n",
    "\n",
    "If we want to do more complex maths than covered above, then we will need to `import` a library with additional functions. `import math` is the option from the standard library. This gives us access to a number of other functions, such as:\n",
    "\n",
    "```python\n",
    "math.sqrt(2)  # square root\n",
    "math.floor(2.5)  # lowest integer (2 in this case)\n",
    "math.ceiling(2.3)  # next integer (3 in this case)\n",
    "math.cos(2)  # cosine of 2 radians. Other trig functions are available.\n",
    "```\n",
    "\n",
    "`help(math)` will give you a list of everything."
   ]
  },
  {
   "cell_type": "code",
   "execution_count": null,
   "metadata": {},
   "outputs": [],
   "source": [
    "import math"
   ]
  },
  {
   "cell_type": "markdown",
   "metadata": {
    "tags": [
     "exercise"
    ]
   },
   "source": [
    "### Optional Exercise\n",
    "\n",
    "1. What is the log<sub>10</sub> of 7e6? (You will need to use the `math` library, or `numpy` if you prefer.)\n",
    "1. What is the $\\tan$ of $\\pi / 4$ radians?\n",
    "1. What is $\\sin^2(45^\\circ)$?\n",
    "1. Given $\\phi_0 = 0.3$, $c = 0.005$, and $z = 157$, what is $\\phi = \\phi_{0}\\,\\operatorname{e}^{-cz}$? <a title=\"There is a function, math.exp, that might be useful.\"><b>HINT</b></a>"
   ]
  },
  {
   "cell_type": "code",
   "execution_count": null,
   "metadata": {},
   "outputs": [],
   "source": []
  },
  {
   "cell_type": "code",
   "execution_count": null,
   "metadata": {},
   "outputs": [],
   "source": []
  },
  {
   "cell_type": "code",
   "execution_count": null,
   "metadata": {},
   "outputs": [],
   "source": []
  },
  {
   "cell_type": "code",
   "execution_count": null,
   "metadata": {},
   "outputs": [],
   "source": [
    "phi_zero = 0.3\n",
    "c = 0.005\n",
    "\n",
    "phi = # your code here"
   ]
  },
  {
   "cell_type": "markdown",
   "metadata": {
    "tags": [
     "info"
    ]
   },
   "source": [
    "### Booleans\n",
    "\n",
    "`bool`s are either `True` or `False`. These can be very useful, most obviously for selectively running particular blocks of code.\n",
    "\n",
    "Boolean values can be obtained in a number of ways. Many functions or methods will return either `True` or `False`. Comparisons also return a `bool`:\n",
    "\n",
    "| Equal to | Not equal to | Less than | Greater than | Less than or equal | Greater than or equal |\n",
    "|----------|--------------|-----------|--------------|--------------------|-----------------------|\n",
    "|   `==`   |     `!=`     |    `<`    |      `>`     |        `<=`        |          `>=`         |\n",
    "\n",
    "Different types will never be equal (that is, something like `1 == '1'` is `False`). If you want to know if something is the same object as another, then you should use `is` and `is not`.\n",
    "\n",
    "Some objects contain others (for example lists), and membership within a collection can be tested with `in`, which gives a `True` or `False`.\n",
    "\n",
    "We can also link expressions that are True or False together in a few ways:\n",
    "\n",
    "| Operation \t| Result                                                           \t|\n",
    "|-----------\t|------------------------------------------------------------------\t|\n",
    "| a **or** b    \t| True if either a or b is true                                    \t|\n",
    "| a **and** b   \t| False if either a or b is false,<br>True if both a and b are true |\n",
    "| **not** a     \t| True if a is true, else False                                    \t|\n",
    "\n",
    "In some cases (notably with numpy arrays) `&` and `|` are used instead of `and` and `or`. `&` and `|` are bitwise operators: they are only used on numbers, and work at the level of individual 1s and 0s. In most cases you will want `and` and `or` instead.\n",
    "\n",
    "#### Truthiness\n",
    "\n",
    "Some things are considered to be \"truthy\" (and will count as `True`) while others are \"falsey\" (counting as `False`). Examples of things that are falsey are the following:\n",
    "* `0`\n",
    "* `0.0`\n",
    "* empty collections (such as an empty list `[]`, and empty versions of the other datastructures that we will cover in this notebook but have not seen yet),\n",
    "* empty strings (`''` or `\"\"`).\n",
    "\n",
    "Most other things will be truthy.\n",
    "\n",
    "Here is a simple example, but play around with more:\n",
    "\n",
    "```python\n",
    "e_list = []\n",
    "\n",
    "if e_list:\n",
    "    print('True!')\n",
    "else:\n",
    "    print('False!')\n",
    "    \n",
    "f_list = [0]\n",
    "\n",
    "if f_list:\n",
    "    print('True!')\n",
    "else:\n",
    "    print('False!')\n",
    "```"
   ]
  },
  {
   "cell_type": "markdown",
   "metadata": {},
   "source": [
    "## `if` statements\n",
    "\n",
    "One of the most common places to see booleans is in `if` statements. These allow for different blocks of code to be run depending on the result of a check.\n",
    "\n",
    "* Basic pattern\n",
    "* `if` ... `else`\n",
    "* `if` ... `elif` ... `else` - mutually exclusive options\n",
    "* Combined with `for` ... `in` ... `:` to control iterations\n",
    "    - `break`, `continue`"
   ]
  },
  {
   "cell_type": "code",
   "execution_count": null,
   "metadata": {},
   "outputs": [],
   "source": [
    "string = '12300 ft'"
   ]
  },
  {
   "cell_type": "code",
   "execution_count": null,
   "metadata": {
    "tags": [
     "hide"
    ]
   },
   "outputs": [],
   "source": [
    "# Build up to this to show the basic pattern.\n",
    "\n",
    "if 'm' in string:\n",
    "    units = 'm'\n",
    "elif 'ft' in string:\n",
    "    units = 'ft'\n",
    "else:\n",
    "    units = None\n",
    "    \n",
    "print(units)"
   ]
  },
  {
   "cell_type": "code",
   "execution_count": null,
   "metadata": {},
   "outputs": [],
   "source": []
  },
  {
   "cell_type": "markdown",
   "metadata": {},
   "source": [
    "### `if` in `for` loops; `break` and `continue`"
   ]
  },
  {
   "cell_type": "code",
   "execution_count": null,
   "metadata": {},
   "outputs": [],
   "source": []
  },
  {
   "cell_type": "code",
   "execution_count": null,
   "metadata": {
    "tags": [
     "hide"
    ]
   },
   "outputs": [],
   "source": [
    "fixed_dens = []\n",
    "for den in density_floats:\n",
    "    if den == -999.25:\n",
    "        den = None\n",
    "    fixed_dens.append(den)\n",
    "    \n",
    "fixed_dens"
   ]
  },
  {
   "cell_type": "code",
   "execution_count": null,
   "metadata": {
    "tags": [
     "hide"
    ]
   },
   "outputs": [],
   "source": [
    "plt.plot(fixed_dens, depths)"
   ]
  },
  {
   "cell_type": "code",
   "execution_count": null,
   "metadata": {
    "tags": [
     "hide"
    ]
   },
   "outputs": [],
   "source": [
    "for den in density_floats:\n",
    "    if den == -999.25:\n",
    "        print('Density is -999.25, ending loop.')\n",
    "        break\n",
    "    print(den)"
   ]
  },
  {
   "cell_type": "code",
   "execution_count": null,
   "metadata": {
    "tags": [
     "hide"
    ]
   },
   "outputs": [],
   "source": [
    "for den in density_floats:\n",
    "    if den == -999.25:\n",
    "        print('Density is -999.25, skipping.')\n",
    "        continue\n",
    "    print(den)"
   ]
  },
  {
   "cell_type": "code",
   "execution_count": null,
   "metadata": {},
   "outputs": [],
   "source": []
  },
  {
   "cell_type": "markdown",
   "metadata": {
    "tags": [
     "exercise"
    ]
   },
   "source": [
    "### Exercise\n",
    " \n",
    "* We previously loaded a `xyz` file into memory (as `mag_data`). Loop over the string in each row containing a `lon`, `lat` and `resmag` and `split` the row into a list. Typecast each value into a number (the latitude and longitude should be `float`s, residual magnetic anomaly (`resmag`) can be `int`). Then `append` each number to its corresponding list. When you are done, you should have three lists, each with 52135 elements. Note: You may need to remove the headers and footers first. <a title=\"Try this with a smaller subset of the data, or `break` after dealing with the first row.\"><b>HINT</b></a> <a title=\"If you need to trim your data, you can either slice only the data out, or use string methods to skip non-data rows.\"><b>HINT 2</b></a>\n",
    "* Use the given `plt.scatter` to create a scatter plot of our `resmags` at their `x`, `y` coordinates.\n",
    "* Add an `if` statement inside your loop to only store rows where the `resmag` is positive and replot the resulting lists."
   ]
  },
  {
   "cell_type": "code",
   "execution_count": null,
   "metadata": {
    "tags": [
     "hide"
    ]
   },
   "outputs": [],
   "source": [
    "# If we skipped the exercise earlier, then we need to create `cleaned_mag_data`:\n",
    "cleaned_mag_data = mag_data[13:-2]\n",
    "\n",
    "# We can also do it with a for loop and string methods."
   ]
  },
  {
   "cell_type": "code",
   "execution_count": null,
   "metadata": {},
   "outputs": [],
   "source": [
    "lats = []\n",
    "lons = []\n",
    "resmags = []\n",
    "\n",
    "# for ... in ...:"
   ]
  },
  {
   "cell_type": "code",
   "execution_count": null,
   "metadata": {
    "tags": [
     "hide"
    ]
   },
   "outputs": [],
   "source": [
    "# This probably needs some build up first.\n",
    "\n",
    "lons = []\n",
    "lats = []\n",
    "resmags = []\n",
    "\n",
    "for row in cleaned_mag_data:\n",
    "    row = row.split()\n",
    "    lons.append(float(row[0]))\n",
    "    lats.append(float(row[1]))\n",
    "    resmags.append(int(row[2]))"
   ]
  },
  {
   "cell_type": "code",
   "execution_count": null,
   "metadata": {},
   "outputs": [],
   "source": [
    "# As before, this should give no output if the above has worked correctly.\n",
    "assert len(lats) == len(lons) == len(resmags) == 52135"
   ]
  },
  {
   "cell_type": "code",
   "execution_count": null,
   "metadata": {},
   "outputs": [],
   "source": [
    "plt.scatter(lons, lats, c=resmags, s=2)\n",
    "plt.colorbar()"
   ]
  },
  {
   "cell_type": "code",
   "execution_count": null,
   "metadata": {},
   "outputs": [],
   "source": [
    "# Keep only values where `resmag` is positive\n",
    "pos_lons = []\n",
    "pos_lats = []\n",
    "pos_resmags = []\n",
    "\n",
    "# for ... in ...:"
   ]
  },
  {
   "cell_type": "code",
   "execution_count": null,
   "metadata": {
    "tags": [
     "hide"
    ]
   },
   "outputs": [],
   "source": [
    "pos_lons = []\n",
    "pos_lats = []\n",
    "pos_resmags = []\n",
    "\n",
    "for row in cleaned_mag_data:\n",
    "    row = row.split()\n",
    "    mag = int(row[2])\n",
    "    if mag > 0:\n",
    "        pos_lons.append(float(row[0]))\n",
    "        pos_lats.append(float(row[1]))\n",
    "        pos_resmags.append(mag)"
   ]
  },
  {
   "cell_type": "code",
   "execution_count": null,
   "metadata": {},
   "outputs": [],
   "source": [
    "plt.scatter(pos_lons, pos_lats, c=pos_resmags, s=2)\n",
    "plt.colorbar()"
   ]
  },
  {
   "cell_type": "markdown",
   "metadata": {},
   "source": [
    "## Maths using `numpy`\n",
    "\n",
    "Numpy makes a number of things easier when working with numerical data.\n",
    "\n",
    "* Creating a numpy ndarray.\n",
    "* Elementwise mathematics\n",
    "* Multi-dimensional indexing"
   ]
  },
  {
   "cell_type": "code",
   "execution_count": null,
   "metadata": {},
   "outputs": [],
   "source": [
    "import numpy as np"
   ]
  },
  {
   "cell_type": "markdown",
   "metadata": {},
   "source": [
    "#### Creating ndarrays"
   ]
  },
  {
   "cell_type": "code",
   "execution_count": null,
   "metadata": {},
   "outputs": [],
   "source": []
  },
  {
   "cell_type": "code",
   "execution_count": null,
   "metadata": {
    "tags": [
     "hide"
    ]
   },
   "outputs": [],
   "source": [
    "np.array([1, 2, 3, 4])\n",
    "np.array(depths)"
   ]
  },
  {
   "cell_type": "code",
   "execution_count": null,
   "metadata": {
    "tags": [
     "hide"
    ]
   },
   "outputs": [],
   "source": [
    "depths_arr = np.array(depths)\n",
    "type(depths_arr)"
   ]
  },
  {
   "cell_type": "code",
   "execution_count": null,
   "metadata": {
    "tags": [
     "hide"
    ]
   },
   "outputs": [],
   "source": [
    "np.arange(0, 100, 10)"
   ]
  },
  {
   "cell_type": "code",
   "execution_count": null,
   "metadata": {
    "tags": [
     "hide"
    ]
   },
   "outputs": [],
   "source": [
    "np.linspace(0, 100, 10)"
   ]
  },
  {
   "cell_type": "markdown",
   "metadata": {},
   "source": [
    "#### Elementwise mathematics\n",
    "_Maths on collections with numpy compared to using loops_\n",
    "\n",
    "Turcotte and Schubert in _Geodynamics_ (2014) state that over a large depth range the porosity-depth relationship can be described by an exponential equation:\n",
    "\n",
    "$$\\phi = \\phi_{0}\\,\\operatorname{e}^{-cz}$$\n",
    "\n",
    "where $\\phi$ is porosity, $\\phi_{0}$ is some initial porosity, $\\mathrm{e}$ is Euler's constant, $z$ is depth, $c$ is some constant. Note that our depths are negative, so we will not use `-c` in our implementation.\n",
    "\n",
    "We can do it in a standard loop like this:\n",
    "```python\n",
    "porosities = []\n",
    "for depth in depths:\n",
    "    porosities.append(phi_zero * math.exp(c * depth))\n",
    "```\n",
    "\n",
    "This is much more direct when using numpy:"
   ]
  },
  {
   "cell_type": "code",
   "execution_count": null,
   "metadata": {},
   "outputs": [],
   "source": [
    "phi_zero = 0.3\n",
    "c = 0.005"
   ]
  },
  {
   "cell_type": "code",
   "execution_count": null,
   "metadata": {},
   "outputs": [],
   "source": []
  },
  {
   "cell_type": "code",
   "execution_count": null,
   "metadata": {
    "tags": [
     "hide"
    ]
   },
   "outputs": [],
   "source": [
    "depths * 2"
   ]
  },
  {
   "cell_type": "code",
   "execution_count": null,
   "metadata": {
    "tags": [
     "hide"
    ]
   },
   "outputs": [],
   "source": [
    "porosities_arr = phi_zero * np.exp(c * depths_arr)\n",
    "porosities_arr"
   ]
  },
  {
   "cell_type": "markdown",
   "metadata": {},
   "source": [
    "We can also plot this new array:"
   ]
  },
  {
   "cell_type": "code",
   "execution_count": null,
   "metadata": {},
   "outputs": [],
   "source": [
    "#porosities_arr = # this should be a numpy array\n",
    "plt.plot(porosities, depths, 'o-')\n",
    "plt.plot(porosities_arr, depths, 'o-', alpha=0.5)"
   ]
  },
  {
   "cell_type": "markdown",
   "metadata": {
    "tags": [
     "hide"
    ]
   },
   "source": [
    "#### Booleans and NumPy arrays\n",
    "\n",
    "We will only do this if it comes up. It is covered in the matplotlib notebook anyway."
   ]
  },
  {
   "cell_type": "code",
   "execution_count": null,
   "metadata": {
    "tags": [
     "hide"
    ]
   },
   "outputs": [],
   "source": [
    "bool_arr = np.array([True, True, False, False, True])\n",
    "my_arr = np.array([1, 2, 3, 4, 5])"
   ]
  },
  {
   "cell_type": "code",
   "execution_count": null,
   "metadata": {
    "tags": [
     "hide"
    ]
   },
   "outputs": [],
   "source": [
    "my_arr[bool_arr]"
   ]
  },
  {
   "cell_type": "code",
   "execution_count": null,
   "metadata": {
    "tags": [
     "hide"
    ]
   },
   "outputs": [],
   "source": [
    "porosities_arr"
   ]
  },
  {
   "cell_type": "code",
   "execution_count": null,
   "metadata": {
    "tags": [
     "hide"
    ]
   },
   "outputs": [],
   "source": [
    "porosities_arr > 0.15"
   ]
  },
  {
   "cell_type": "code",
   "execution_count": null,
   "metadata": {
    "tags": [
     "hide"
    ]
   },
   "outputs": [],
   "source": [
    "porosities_arr[porosities_arr > 0.15]"
   ]
  },
  {
   "cell_type": "code",
   "execution_count": null,
   "metadata": {
    "tags": [
     "hide"
    ]
   },
   "outputs": [],
   "source": [
    "resmags_arr = np.array(resmags)\n",
    "lats_arr = np.array(lats)\n",
    "lons_arr = np.array(lons)"
   ]
  },
  {
   "cell_type": "code",
   "execution_count": null,
   "metadata": {
    "tags": [
     "hide"
    ]
   },
   "outputs": [],
   "source": [
    "resmags_arr"
   ]
  },
  {
   "cell_type": "code",
   "execution_count": null,
   "metadata": {
    "tags": [
     "hide"
    ]
   },
   "outputs": [],
   "source": [
    "resmags_arr >= 0"
   ]
  },
  {
   "cell_type": "code",
   "execution_count": null,
   "metadata": {
    "tags": [
     "hide"
    ]
   },
   "outputs": [],
   "source": [
    "mask = resmags_arr >= 0\n",
    "mask"
   ]
  },
  {
   "cell_type": "code",
   "execution_count": null,
   "metadata": {
    "tags": [
     "hide"
    ]
   },
   "outputs": [],
   "source": [
    "lats_arr"
   ]
  },
  {
   "cell_type": "code",
   "execution_count": null,
   "metadata": {
    "tags": [
     "hide"
    ]
   },
   "outputs": [],
   "source": [
    "lats_arr[mask]"
   ]
  },
  {
   "cell_type": "code",
   "execution_count": null,
   "metadata": {
    "tags": [
     "hide"
    ]
   },
   "outputs": [],
   "source": [
    "lats_arr.size, lats_arr[mask].size"
   ]
  },
  {
   "cell_type": "code",
   "execution_count": null,
   "metadata": {
    "tags": [
     "hide"
    ]
   },
   "outputs": [],
   "source": [
    "plt.scatter(lons_arr[mask], lats_arr[mask], c=resmags_arr[mask], s=2)"
   ]
  },
  {
   "cell_type": "markdown",
   "metadata": {},
   "source": [
    "#### Multi-dimensional arrays in NumPy"
   ]
  },
  {
   "cell_type": "code",
   "execution_count": 11,
   "metadata": {},
   "outputs": [
    {
     "ename": "UnicodeDecodeError",
     "evalue": "'utf-8' codec can't decode byte 0x92 in position 56: invalid start byte",
     "output_type": "error",
     "traceback": [
      "\u001b[0;31m---------------------------------------------------------------------------\u001b[0m",
      "\u001b[0;31mUnicodeDecodeError\u001b[0m                        Traceback (most recent call last)",
      "\u001b[0;32m/tmp/ipykernel_359041/1339058460.py\u001b[0m in \u001b[0;36m<module>\u001b[0;34m\u001b[0m\n\u001b[1;32m      1\u001b[0m \u001b[0mbefore\u001b[0m \u001b[0;34m=\u001b[0m \u001b[0mnp\u001b[0m\u001b[0;34m.\u001b[0m\u001b[0mloadtxt\u001b[0m\u001b[0;34m(\u001b[0m\u001b[0;34m'../data/st-helens_before.txt'\u001b[0m\u001b[0;34m)\u001b[0m\u001b[0;34m\u001b[0m\u001b[0;34m\u001b[0m\u001b[0m\n\u001b[0;32m----> 2\u001b[0;31m \u001b[0mafter\u001b[0m \u001b[0;34m=\u001b[0m \u001b[0mnp\u001b[0m\u001b[0;34m.\u001b[0m\u001b[0mloadtxt\u001b[0m\u001b[0;34m(\u001b[0m\u001b[0;34m'../data/st-helens_after.zip'\u001b[0m\u001b[0;34m)\u001b[0m\u001b[0;34m\u001b[0m\u001b[0;34m\u001b[0m\u001b[0m\n\u001b[0m",
      "\u001b[0;32m~/miniconda3/envs/geocomp/lib/python3.9/site-packages/numpy/lib/npyio.py\u001b[0m in \u001b[0;36mloadtxt\u001b[0;34m(fname, dtype, comments, delimiter, converters, skiprows, usecols, unpack, ndmin, encoding, max_rows, like)\u001b[0m\n\u001b[1;32m   1096\u001b[0m         \u001b[0;32mtry\u001b[0m\u001b[0;34m:\u001b[0m\u001b[0;34m\u001b[0m\u001b[0;34m\u001b[0m\u001b[0m\n\u001b[1;32m   1097\u001b[0m             \u001b[0;32mwhile\u001b[0m \u001b[0;32mnot\u001b[0m \u001b[0mfirst_vals\u001b[0m\u001b[0;34m:\u001b[0m\u001b[0;34m\u001b[0m\u001b[0;34m\u001b[0m\u001b[0m\n\u001b[0;32m-> 1098\u001b[0;31m                 \u001b[0mfirst_line\u001b[0m \u001b[0;34m=\u001b[0m \u001b[0mnext\u001b[0m\u001b[0;34m(\u001b[0m\u001b[0mfh\u001b[0m\u001b[0;34m)\u001b[0m\u001b[0;34m\u001b[0m\u001b[0;34m\u001b[0m\u001b[0m\n\u001b[0m\u001b[1;32m   1099\u001b[0m                 \u001b[0mfirst_vals\u001b[0m \u001b[0;34m=\u001b[0m \u001b[0msplit_line\u001b[0m\u001b[0;34m(\u001b[0m\u001b[0mfirst_line\u001b[0m\u001b[0;34m)\u001b[0m\u001b[0;34m\u001b[0m\u001b[0;34m\u001b[0m\u001b[0m\n\u001b[1;32m   1100\u001b[0m         \u001b[0;32mexcept\u001b[0m \u001b[0mStopIteration\u001b[0m\u001b[0;34m:\u001b[0m\u001b[0;34m\u001b[0m\u001b[0;34m\u001b[0m\u001b[0m\n",
      "\u001b[0;32m~/miniconda3/envs/geocomp/lib/python3.9/codecs.py\u001b[0m in \u001b[0;36mdecode\u001b[0;34m(self, input, final)\u001b[0m\n\u001b[1;32m    320\u001b[0m         \u001b[0;31m# decode input (taking the buffer into account)\u001b[0m\u001b[0;34m\u001b[0m\u001b[0;34m\u001b[0m\u001b[0m\n\u001b[1;32m    321\u001b[0m         \u001b[0mdata\u001b[0m \u001b[0;34m=\u001b[0m \u001b[0mself\u001b[0m\u001b[0;34m.\u001b[0m\u001b[0mbuffer\u001b[0m \u001b[0;34m+\u001b[0m \u001b[0minput\u001b[0m\u001b[0;34m\u001b[0m\u001b[0;34m\u001b[0m\u001b[0m\n\u001b[0;32m--> 322\u001b[0;31m         \u001b[0;34m(\u001b[0m\u001b[0mresult\u001b[0m\u001b[0;34m,\u001b[0m \u001b[0mconsumed\u001b[0m\u001b[0;34m)\u001b[0m \u001b[0;34m=\u001b[0m \u001b[0mself\u001b[0m\u001b[0;34m.\u001b[0m\u001b[0m_buffer_decode\u001b[0m\u001b[0;34m(\u001b[0m\u001b[0mdata\u001b[0m\u001b[0;34m,\u001b[0m \u001b[0mself\u001b[0m\u001b[0;34m.\u001b[0m\u001b[0merrors\u001b[0m\u001b[0;34m,\u001b[0m \u001b[0mfinal\u001b[0m\u001b[0;34m)\u001b[0m\u001b[0;34m\u001b[0m\u001b[0;34m\u001b[0m\u001b[0m\n\u001b[0m\u001b[1;32m    323\u001b[0m         \u001b[0;31m# keep undecoded input until the next call\u001b[0m\u001b[0;34m\u001b[0m\u001b[0;34m\u001b[0m\u001b[0m\n\u001b[1;32m    324\u001b[0m         \u001b[0mself\u001b[0m\u001b[0;34m.\u001b[0m\u001b[0mbuffer\u001b[0m \u001b[0;34m=\u001b[0m \u001b[0mdata\u001b[0m\u001b[0;34m[\u001b[0m\u001b[0mconsumed\u001b[0m\u001b[0;34m:\u001b[0m\u001b[0;34m]\u001b[0m\u001b[0;34m\u001b[0m\u001b[0;34m\u001b[0m\u001b[0m\n",
      "\u001b[0;31mUnicodeDecodeError\u001b[0m: 'utf-8' codec can't decode byte 0x92 in position 56: invalid start byte"
     ]
    }
   ],
   "source": [
    "before = np.loadtxt('../data/st-helens_before.txt')\n",
    "after = np.loadtxt('../data/st-helens_after.zip')"
   ]
  },
  {
   "cell_type": "code",
   "execution_count": null,
   "metadata": {
    "tags": [
     "hide"
    ]
   },
   "outputs": [],
   "source": [
    "before.shape, before.size, before.ndim"
   ]
  },
  {
   "cell_type": "code",
   "execution_count": null,
   "metadata": {
    "tags": [
     "hide"
    ]
   },
   "outputs": [],
   "source": [
    "before[10:100].shape, before[10:100]"
   ]
  },
  {
   "cell_type": "code",
   "execution_count": null,
   "metadata": {
    "tags": [
     "hide"
    ]
   },
   "outputs": [],
   "source": [
    "plt.imshow(before[10:100])"
   ]
  },
  {
   "cell_type": "code",
   "execution_count": null,
   "metadata": {
    "tags": [
     "hide"
    ]
   },
   "outputs": [],
   "source": [
    "before[:, 0]"
   ]
  },
  {
   "cell_type": "code",
   "execution_count": null,
   "metadata": {
    "tags": [
     "hide"
    ]
   },
   "outputs": [],
   "source": [
    "before[:, 0].shape"
   ]
  },
  {
   "cell_type": "code",
   "execution_count": null,
   "metadata": {
    "tags": [
     "hide"
    ]
   },
   "outputs": [],
   "source": [
    "plt.imshow(before[::10, ::10])"
   ]
  },
  {
   "cell_type": "code",
   "execution_count": null,
   "metadata": {
    "tags": [
     "hide"
    ]
   },
   "outputs": [],
   "source": [
    "plt.imshow(before - after)"
   ]
  },
  {
   "cell_type": "code",
   "execution_count": null,
   "metadata": {
    "tags": [
     "hide"
    ]
   },
   "outputs": [],
   "source": [
    "plt.plot(before[:, 160])\n",
    "plt.plot(after[:, 160])\n",
    "plt.plot(before[:, 160] - after[:, 160])\n",
    "plt.axhline(0, alpha=0.3, c='k')"
   ]
  },
  {
   "cell_type": "markdown",
   "metadata": {},
   "source": [
    "## Tuples\n",
    "\n",
    "We will be brief about these. At base, tuples are essentially immutable lists."
   ]
  },
  {
   "cell_type": "code",
   "execution_count": null,
   "metadata": {},
   "outputs": [],
   "source": []
  },
  {
   "cell_type": "code",
   "execution_count": null,
   "metadata": {},
   "outputs": [],
   "source": [
    "coords = # the lon and lat of our well."
   ]
  },
  {
   "cell_type": "markdown",
   "metadata": {
    "tags": [
     "info"
    ]
   },
   "source": [
    "## Sets\n",
    "\n",
    "These are less common data structures, but when they are the right tool, they are fantastic. We are not going to cover them in detail, but it is worth seeing them. The official documentation describes them well:\n",
    "\n",
    "> A set object is an unordered collection of distinct hashable objects. Common uses include membership testing, removing duplicates from a sequence, and computing mathematical operations such as intersection, union, difference, and symmetric difference.\n",
    "\n",
    "We can create sets from existing objects like `list`s or `array`s, or from scratch:\n",
    "```python\n",
    ">>> basin1_lith = 'dolerite shale sandstone sandstone dolerite'.split()\n",
    ">>> basin1_lith_set = set(basin1_lith)\n",
    "{'dolerite', 'sandstone', 'shale'}\n",
    ">>> basin2_lith_set = {'dolerite', 'limestone', 'mudstone', 'dolomite', 'mudstone', 'dolerite', 'dolerite'}\n",
    "{'dolerite', 'dolomite', 'limestone', 'mudstone'}\n",
    "```\n",
    "\n",
    "Notice that the values in a set are unique: duplicates are removed. We can only put immutable objects into a set, such as strings, ints, and floats.\n",
    "\n",
    "Once we have sets, then we can compare them in various ways:\n",
    "\n",
    "* `intersection` (only what is in both sets)\n",
    "* `union` (combination of both sets)\n",
    "* `difference` (items only in one of the sets)\n",
    "\n",
    "Note that sets are mutable, so you can add or remove items from them.\n",
    "\n",
    "Below is some code to test some set operations for yourself:\n",
    "\n",
    "```python\n",
    "arr_40 = np.random.randint(20, 40, size=40)\n",
    "arr_20 = np.random.randint(0, 30, size=40)\n",
    "\n",
    "plt.hist(arr_40, alpha=0.5, bins=20)\n",
    "plt.hist(arr_20, alpha=0.5, bins=30)\n",
    "plt.show()\n",
    "\n",
    "set_40 = set(arr_40)\n",
    "set_20 = set(arr_20)\n",
    "set_35 = {36, 37, 39, 36, 39, 38, 37, 39, 38, 39, 36, 36, 35, 39, 35}\n",
    "\n",
    "#Things to try:\n",
    "set_20.intersection(set_40)\n",
    "set_20.difference(set_40)\n",
    "set_20.isdisjoint(set_35)\n",
    "set_35.issubset(set_40)\n",
    "```"
   ]
  },
  {
   "cell_type": "markdown",
   "metadata": {},
   "source": [
    "## Dictionaries\n",
    "\n",
    "- Not a sequence, but a database-like mapping of k, v pairs\n",
    "- Forming with `{...}`\n",
    "- Keys and values\n",
    "- Retrieving a value using a key\n",
    "- Adding keys\n",
    "- Deleting keys with `pop`\n",
    "- `in`\n",
    "- `get` (a bit like a database)\n",
    "- `update` with `{k: v}`, or just do `dict[k] = v`\n",
    "- Iterating over a dictionary"
   ]
  },
  {
   "cell_type": "markdown",
   "metadata": {},
   "source": [
    "The data that we currently have from our well is the following:"
   ]
  },
  {
   "cell_type": "code",
   "execution_count": null,
   "metadata": {},
   "outputs": [],
   "source": [
    "print(coords)\n",
    "print(thickness_ints)\n",
    "print(density_floats)\n",
    "print(lithologies)\n",
    "print(depths)\n",
    "print(porosities)"
   ]
  },
  {
   "cell_type": "code",
   "execution_count": null,
   "metadata": {
    "tags": [
     "hide"
    ]
   },
   "outputs": [],
   "source": [
    "# you can easily share these with students:\n",
    "coords = (-33.5, 21.0)\n",
    "thickness_ints = [10, 30, 15, 45, 12, 11, 21, 1, 12, 19, 42, 33]\n",
    "density_floats = [2.3, 2.4, 2.5, 2.5, 2.45, 2.3, 2.55, -999.25, 2.55, 2.6]\n",
    "lithologies = ['SH', 'SST', 'SLT', 'SH', 'SST', 'INT', 'SH', 'SST', 'SLT', 'SH']\n",
    "depths = [0, -10, -40, -55, -100, -112, -123, -144, -145, -157, -176, -218]\n",
    "porosities = [0.3, 0.2853688273502142, 0.24561922592339452, 0.22787163696749052, 0.18195919791379003, 0.17136271915464446, 0.16219226859279498, 0.1460256767879915, 0.14529737068660872, 0.13683591053569175, 0.12443487350447441, 0.10086494811202]"
   ]
  },
  {
   "cell_type": "markdown",
   "metadata": {},
   "source": [
    "We can store these in a single collection:"
   ]
  },
  {
   "cell_type": "code",
   "execution_count": null,
   "metadata": {},
   "outputs": [],
   "source": [
    "data_dict = {'location': coords,\n",
    "             'thicknesses': thickness_ints,\n",
    "             'density': density_floats,\n",
    "             'lithology': lithologies,\n",
    "             'depths': depths,\n",
    "             'porosities': porosities,\n",
    "            }"
   ]
  },
  {
   "cell_type": "code",
   "execution_count": null,
   "metadata": {},
   "outputs": [],
   "source": [
    "data_dict"
   ]
  },
  {
   "cell_type": "code",
   "execution_count": null,
   "metadata": {},
   "outputs": [],
   "source": []
  },
  {
   "cell_type": "code",
   "execution_count": null,
   "metadata": {
    "tags": [
     "hide"
    ]
   },
   "outputs": [],
   "source": [
    "data_dict['depths']"
   ]
  },
  {
   "cell_type": "code",
   "execution_count": null,
   "metadata": {
    "tags": [
     "hide"
    ]
   },
   "outputs": [],
   "source": [
    "data_dict.get('depths')"
   ]
  },
  {
   "cell_type": "code",
   "execution_count": null,
   "metadata": {
    "tags": [
     "hide"
    ]
   },
   "outputs": [],
   "source": [
    "data_dict.get('processor', 'Anonymous')"
   ]
  },
  {
   "cell_type": "code",
   "execution_count": null,
   "metadata": {
    "tags": [
     "hide"
    ]
   },
   "outputs": [],
   "source": [
    "# adding K:V pair directly\n",
    "data_dict['processor'] = 'Martin'\n",
    "data_dict"
   ]
  },
  {
   "cell_type": "code",
   "execution_count": null,
   "metadata": {
    "tags": [
     "hide"
    ]
   },
   "outputs": [],
   "source": [
    "# adding K:V pair with dictionary in `.update`\n",
    "data_dict.update({'processor': 'Rob'})"
   ]
  },
  {
   "cell_type": "code",
   "execution_count": null,
   "metadata": {
    "tags": [
     "hide"
    ]
   },
   "outputs": [],
   "source": [
    "data_dict.pop('processor')"
   ]
  },
  {
   "cell_type": "markdown",
   "metadata": {},
   "source": [
    "**Finding things**"
   ]
  },
  {
   "cell_type": "code",
   "execution_count": null,
   "metadata": {},
   "outputs": [],
   "source": []
  },
  {
   "cell_type": "code",
   "execution_count": null,
   "metadata": {
    "tags": [
     "hide"
    ]
   },
   "outputs": [],
   "source": [
    "'porosity' in data_dict"
   ]
  },
  {
   "cell_type": "code",
   "execution_count": null,
   "metadata": {
    "tags": [
     "hide"
    ]
   },
   "outputs": [],
   "source": [
    "data_dict.keys()"
   ]
  },
  {
   "cell_type": "code",
   "execution_count": null,
   "metadata": {
    "tags": [
     "hide"
    ]
   },
   "outputs": [],
   "source": [
    "data_dict.values()"
   ]
  },
  {
   "cell_type": "code",
   "execution_count": null,
   "metadata": {
    "tags": [
     "hide"
    ]
   },
   "outputs": [],
   "source": [
    "data_dict.items()"
   ]
  },
  {
   "cell_type": "code",
   "execution_count": null,
   "metadata": {},
   "outputs": [],
   "source": [
    "data_dict"
   ]
  },
  {
   "cell_type": "markdown",
   "metadata": {},
   "source": [
    "#### Looping for a dictionary"
   ]
  },
  {
   "cell_type": "code",
   "execution_count": null,
   "metadata": {},
   "outputs": [],
   "source": []
  },
  {
   "cell_type": "code",
   "execution_count": null,
   "metadata": {
    "tags": [
     "hide"
    ]
   },
   "outputs": [],
   "source": [
    "# Dictionaries are iterable over their keys with no special effort:\n",
    "for key in data_dict:  # the same as `for key in data_dict.keys():`\n",
    "    print(key)"
   ]
  },
  {
   "cell_type": "code",
   "execution_count": null,
   "metadata": {
    "tags": [
     "hide"
    ]
   },
   "outputs": [],
   "source": [
    "for value in data_dict.values():\n",
    "    print(type(value))"
   ]
  },
  {
   "cell_type": "code",
   "execution_count": null,
   "metadata": {
    "tags": [
     "hide"
    ]
   },
   "outputs": [],
   "source": [
    "for key, value in data_dict.items():\n",
    "    print(key + ' has value: {}'.format(value))"
   ]
  },
  {
   "cell_type": "markdown",
   "metadata": {
    "tags": [
     "exercise"
    ]
   },
   "source": [
    "## Exercise\n",
    "\n",
    "Using our `data_dict`:\n",
    "* Print the following, filling in the values from our `data_dict`: <a title=\"Note that we want a longitude of '21', not '21.0'.\"><b>HINT</b></a>\n",
    "      'Our well is located at -33.5 S, 21 E.'\n",
    "* The well is in the 'Western' prospect. Add this 'prospect' to the `dict`.\n",
    "* One of the items in the `lithology` list is `INT`. Change it to `SLT`.\n",
    "* Optional: Some of our keys are singular. It might be better to have the keys for lists as plurals. Change the `lithology` and `density` keys to be `lithologies` and `densities`. The old keys should not be in `data_dict` when you are done."
   ]
  },
  {
   "cell_type": "code",
   "execution_count": null,
   "metadata": {},
   "outputs": [],
   "source": [
    "# Print 'Our well is located at -33.5 S, 21 E.', filling in the values from the dictionary.\n"
   ]
  },
  {
   "cell_type": "code",
   "execution_count": null,
   "metadata": {
    "tags": [
     "hide"
    ]
   },
   "outputs": [],
   "source": [
    "lon, lat = data_dict['location']\n",
    "print(f'Our well is located at {lon} S, {lat:.0f} E.')\n",
    "print('Our well is located at {} S, {:.0f} E.'.format(*data_dict['location'])) # This is nice."
   ]
  },
  {
   "cell_type": "code",
   "execution_count": null,
   "metadata": {},
   "outputs": [],
   "source": [
    "# Add a prospect.\n"
   ]
  },
  {
   "cell_type": "code",
   "execution_count": null,
   "metadata": {
    "tags": [
     "hide"
    ]
   },
   "outputs": [],
   "source": [
    "data_dict['prospect'] = 'Western'"
   ]
  },
  {
   "cell_type": "code",
   "execution_count": null,
   "metadata": {},
   "outputs": [],
   "source": [
    "# Change 'INT' to 'SLT' in `data_dict`'s lithology list.\n"
   ]
  },
  {
   "cell_type": "code",
   "execution_count": null,
   "metadata": {
    "tags": [
     "hide"
    ]
   },
   "outputs": [],
   "source": [
    "new_liths = []\n",
    "for lith in data_dict['lithology']:\n",
    "    if lith == 'INT':\n",
    "        lith = 'SLT'\n",
    "    new_liths.append(lith)\n",
    "data_dict['lithology'] = new_liths\n",
    "\n",
    "# This will also work:\n",
    "# data_dict['lithology'][5] = 'SLT'\n",
    "# data_dict['lithology']\n",
    "\n",
    "# data_dict.get('lithology').index['INT'] to find the index is a better approach generally."
   ]
  },
  {
   "cell_type": "code",
   "execution_count": null,
   "metadata": {},
   "outputs": [],
   "source": [
    "# Make the keys plural\n",
    "\n",
    "\n",
    "\n"
   ]
  },
  {
   "cell_type": "code",
   "execution_count": null,
   "metadata": {
    "tags": [
     "hide"
    ]
   },
   "outputs": [],
   "source": [
    "plurals = {'lithology': 'lithologies', 'density': 'densities'}\n",
    "for k, v in plurals.items():\n",
    "    data_dict[v] = data_dict.pop(k)"
   ]
  },
  {
   "cell_type": "code",
   "execution_count": null,
   "metadata": {},
   "outputs": [],
   "source": [
    "data_dict"
   ]
  },
  {
   "cell_type": "markdown",
   "metadata": {
    "tags": [
     "exercise"
    ]
   },
   "source": [
    "### Stretch/ Homework Exercise\n",
    "\n",
    "We will leave this one for now, but it is a nice use case for how you might create a dictionary from a list of strings. Definitely come back and try it on your own. When you do, if you get stuck, please feel free to ask for help.\n",
    "\n",
    "* Convert the `mag_header` list to a dictionary (`mag_dict`). You will need to loop over the list and decide which of the rows have information that makes sense to keep, as well as obtaining keys and values from those list elements. You do not need to try and keep all the rows. Also make sure that the keys are lower-case and contain `_` instead of any spaces. <a title=\"Look for rows with `:` in them.\"><b>HINT</b></a>\n",
    "* Add the `lats`, `lons` and `resmags` as values to this dictionary, with appropriate keys (`lats`, `lons`, `resmags`). If you prefer, add them as `numpy` arrays instead of lists."
   ]
  },
  {
   "cell_type": "code",
   "execution_count": null,
   "metadata": {},
   "outputs": [],
   "source": [
    "mag_header"
   ]
  },
  {
   "cell_type": "code",
   "execution_count": null,
   "metadata": {},
   "outputs": [],
   "source": [
    "mag_dict = {}\n",
    "\n",
    "# for ... in ...:"
   ]
  },
  {
   "cell_type": "code",
   "execution_count": null,
   "metadata": {
    "tags": [
     "hide"
    ]
   },
   "outputs": [],
   "source": [
    "for line in mag_header:\n",
    "    if ':' in line:\n",
    "        print(line.split(': '))"
   ]
  },
  {
   "cell_type": "code",
   "execution_count": null,
   "metadata": {
    "tags": [
     "hide"
    ]
   },
   "outputs": [],
   "source": [
    "# As usual, build this one up.\n",
    "mag_dict = {}\n",
    "\n",
    "for line in mag_header:\n",
    "    if ':' in line:\n",
    "        part1, part2 = line.split(': ')\n",
    "        part2 = part2.strip()\n",
    "        try: # This can be skipped, but it might be nice to show.\n",
    "            part2 = int(part2)\n",
    "        except ValueError:\n",
    "            pass\n",
    "        part1 = part1.lower().replace('/ ', '').replace(' ', '_')\n",
    "        mag_dict[part1] = part2\n",
    "        \n",
    "mag_dict"
   ]
  },
  {
   "cell_type": "code",
   "execution_count": null,
   "metadata": {
    "tags": [
     "hide"
    ]
   },
   "outputs": [],
   "source": [
    "to_add = 'lats lons resmags'.split()\n",
    "\n",
    "for key, value in zip(to_add, [lats, lons, resmags]):\n",
    "    mag_dict[key] = value"
   ]
  },
  {
   "cell_type": "code",
   "execution_count": null,
   "metadata": {},
   "outputs": [],
   "source": [
    "mag_dict"
   ]
  },
  {
   "cell_type": "markdown",
   "metadata": {},
   "source": [
    "## Writing back out\n",
    "\n",
    "We have now loaded our data, processed it (and added some new things to it!). In order to keep this, we will write our file back to disk, in the simplest possible example (we will come back to reading and writing files later in the week).\n",
    "\n",
    "We do this in much the same way as we read our data in:"
   ]
  },
  {
   "cell_type": "code",
   "execution_count": null,
   "metadata": {},
   "outputs": [],
   "source": [
    "with open('../data/processed_well.txt', 'w') as f:\n",
    "    for k, v in data_dict.items():\n",
    "        f.write(f'{v} # {k}\\n')"
   ]
  },
  {
   "cell_type": "markdown",
   "metadata": {},
   "source": [
    "### Saving our aeromag data\n",
    "\n",
    "We will also save our plot to disk, using `plt.savefig()`."
   ]
  },
  {
   "cell_type": "code",
   "execution_count": null,
   "metadata": {},
   "outputs": [],
   "source": [
    "maxx = 920  # absolute maximum value in our data, so that the colorbar is centred on 0.\n",
    "plt.scatter(mag_dict['lons'], mag_dict['lats'], c=mag_dict['resmags'], s=2,\n",
    "            cmap='RdBu', vmin=-maxx, vmax=maxx)\n",
    "plt.xlabel('Longitude [°E]')\n",
    "plt.ylabel('Latitude [°N]')\n",
    "plt.colorbar(label='Residual Magnetic Anomaly [nT]')\n",
    "plt.savefig('../data/afghan_aeromag.png', dpi=300)"
   ]
  },
  {
   "cell_type": "markdown",
   "metadata": {},
   "source": [
    "We have now covered the basics of Python's syntax. While you can do a lot with what we have shown here, we will dive into some useful additional concepts over the rest of the week, which will make it easier for you to be productive.\n",
    "\n",
    "---\n",
    "\n",
    "## Other great places to pick up Python:\n",
    "\n",
    "- [Learn X in Y minutes](https://learnxinyminutes.com/docs/python3/) — If you just want to get cracking.\n",
    "- [Stavros](https://www.stavros.io/tutorials/python/) — If you want to know a bit more.\n",
    "- [Robert Johansson's lectures](Lecture-1-Introduction-to-Python-Programming.ipynb)\n",
    "- [Tutorials Point](http://www.tutorialspoint.com/python/python_quick_guide.htm) — Another option.\n",
    "- [Code Academy](https://www.codecademy.com/learn/learn-python-3) — A more sedate pace.\n",
    "- [Udacity Intro to Computer Science](https://www.udacity.com/course/intro-to-computer-science--cs101) — Fantastic but a serious undertaking.\n",
    "- [All the tutorials!](https://wiki.python.org/moin/BeginnersGuide/Programmers)\n",
    "\n",
    "**WARNING** There's still some Python 2 around. Keep away from it if you can! Python 3 has lots of advantages, and there are hardly any libraries now that have not made the switch.\n",
    "\n",
    "----"
   ]
  },
  {
   "cell_type": "markdown",
   "metadata": {},
   "source": [
    "## Python is...\n",
    "\n",
    "- Not just a scripting language.\n",
    "- Interpreted, not compiled.\n",
    "- Strongly typed — types are enforced.\n",
    "- Dynamically, implicitly typed — you don't have to declare variables.\n",
    "- Case sensitive — var and VAR are two different variables.\n",
    "- Object-oriented — everything is an object.\n",
    "- Supportive of functional and procedural styles."
   ]
  },
  {
   "cell_type": "markdown",
   "metadata": {},
   "source": [
    "<hr />\n",
    "\n",
    "<div>\n",
    "<img src=\"https://avatars1.githubusercontent.com/u/1692321?s=50\"><p style=\"text-align:center\">© Agile Geoscience 2021</p>\n",
    "</div>"
   ]
  }
 ],
 "metadata": {
  "celltoolbar": "Tags",
  "kernelspec": {
   "display_name": "geocomp",
   "language": "python",
   "name": "geocomp"
  },
  "language_info": {
   "codemirror_mode": {
    "name": "ipython",
    "version": 3
   },
   "file_extension": ".py",
   "mimetype": "text/x-python",
   "name": "python",
   "nbconvert_exporter": "python",
   "pygments_lexer": "ipython3",
   "version": "3.9.7"
  }
 },
 "nbformat": 4,
 "nbformat_minor": 4
}
