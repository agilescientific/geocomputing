{
 "cells": [
  {
   "cell_type": "markdown",
   "id": "6e947d35",
   "metadata": {},
   "source": [
    "# An introduction to functions\n",
    "\n",
    "We have looked at 1D, 2D and 3D data, and along the way you have learned about `int`, `float`, `bool`, `str`, `list`, `dict` types as well as **mathematics** operations in python and some **plotting**, **indexing and slicing**, **loops and flow control**, now let's finally wrap it all together and write our own functions. They are the building blocks of most programs and help us avoid to repeat ourselves, they look like this:"
   ]
  },
  {
   "cell_type": "code",
   "execution_count": null,
   "id": "6cb4108b",
   "metadata": {},
   "outputs": [],
   "source": []
  },
  {
   "cell_type": "code",
   "execution_count": 1,
   "id": "62c34d2c",
   "metadata": {
    "tags": [
     "hide"
    ]
   },
   "outputs": [
    {
     "data": {
      "text/plain": [
       "809.5"
      ]
     },
     "execution_count": 1,
     "metadata": {},
     "output_type": "execute_result"
    }
   ],
   "source": [
    "sum([12, 43.5, 754])"
   ]
  },
  {
   "cell_type": "code",
   "execution_count": 2,
   "id": "a932e954",
   "metadata": {
    "tags": [
     "hide"
    ]
   },
   "outputs": [],
   "source": [
    "def add(a, b):\n",
    "    \"\"\"Adds two numbers!\"\"\"\n",
    "    result = a + b\n",
    "    return result"
   ]
  },
  {
   "cell_type": "markdown",
   "id": "112242f3",
   "metadata": {},
   "source": [
    "We can 'call' (use) this function:"
   ]
  },
  {
   "cell_type": "code",
   "execution_count": 3,
   "id": "1133cc80",
   "metadata": {},
   "outputs": [
    {
     "data": {
      "text/plain": [
       "92"
      ]
     },
     "execution_count": 3,
     "metadata": {},
     "output_type": "execute_result"
    }
   ],
   "source": [
    "add(5, 87)"
   ]
  },
  {
   "cell_type": "markdown",
   "id": "e1d07bcd",
   "metadata": {},
   "source": [
    "In general Python functions have the following pattern, in pseudocode:\n",
    "\n",
    "```python\n",
    "    def f(x):\n",
    "        \"\"\"Docstring.\"\"\"\n",
    "        y = <operations on x>\n",
    "        return y\n",
    "```\n",
    "This is analgous to defining the mathematical function $y = f(x)$.\n",
    "\n",
    "The idea is that you can organize your code using functions. Instead of just being a long series of instructions, your code can use re-usable blocks, jumping around from block to block.\n",
    "\n",
    "When you 'call' a function, by using its name and passing it any arguments (input) it needs, it returns its output to exactly the place it was called from.\n",
    "\n",
    "For example, instead of writing:\n",
    "\n",
    "```python\n",
    "    x = (xf - 32) * 9 / 5\n",
    "    y = (yf - 32) * 5 / 9\n",
    "    z = (zf - 32) * 5 / 9\n",
    "```  \n",
    "\n",
    "It is more readable and easier to maintain &mdash; and probably more correct! &mdash; if we do this:\n",
    "\n",
    "```python\n",
    "    def f2c(temp):\n",
    "        \"\"\"Convert F to C.\"\"\"\n",
    "        return (temp - 32) * 5 / 9\n",
    "```\n",
    "\n",
    "Now we can call the function:\n",
    "\n",
    "```\n",
    "    x = f2c(xf)\n",
    "    y = f2c(yf)\n",
    "    z = f2c(zf)\n",
    "```\n",
    "\n",
    "Better yet:\n",
    "\n",
    "```python\n",
    "    x, y, z = [f2c(t) for t in [xf, yf, zf]]\n",
    "```\n",
    "\n",
    "----\n",
    "\n",
    "\n",
    "## A simple function\n",
    "\n",
    "We'll start by defining a very simple function, implementing the [acoustic impedance](https://subsurfwiki.org/wiki/Impedance) equation:\n",
    "\n",
    "$$ Z = \\rho V_\\mathrm{P} $$"
   ]
  },
  {
   "cell_type": "code",
   "execution_count": null,
   "id": "febd36ce",
   "metadata": {},
   "outputs": [],
   "source": []
  },
  {
   "cell_type": "code",
   "execution_count": 4,
   "id": "07233649",
   "metadata": {
    "tags": [
     "hide"
    ]
   },
   "outputs": [],
   "source": [
    "def impedance(rho, vp):\n",
    "    \"\"\"\n",
    "    Calculate the acoustic impedance of a rock, given Vp and rho.\n",
    "    \"\"\"\n",
    "    z = rho * vp\n",
    "    return z"
   ]
  },
  {
   "cell_type": "code",
   "execution_count": 5,
   "id": "d6b4b3bf",
   "metadata": {},
   "outputs": [
    {
     "data": {
      "text/plain": [
       "5750000"
      ]
     },
     "execution_count": 5,
     "metadata": {},
     "output_type": "execute_result"
    }
   ],
   "source": [
    "impedance(2300, 2500)"
   ]
  },
  {
   "cell_type": "markdown",
   "id": "a88b82d2",
   "metadata": {},
   "source": [
    "Note that we do not have access to any of the variables inside the function."
   ]
  },
  {
   "cell_type": "code",
   "execution_count": 6,
   "id": "38a212fb",
   "metadata": {},
   "outputs": [
    {
     "ename": "NameError",
     "evalue": "name 'z' is not defined",
     "output_type": "error",
     "traceback": [
      "\u001b[1;31m---------------------------------------------------------------------------\u001b[0m",
      "\u001b[1;31mNameError\u001b[0m                                 Traceback (most recent call last)",
      "Input \u001b[1;32mIn [6]\u001b[0m, in \u001b[0;36m<module>\u001b[1;34m\u001b[0m\n\u001b[1;32m----> 1\u001b[0m \u001b[43mz\u001b[49m\n",
      "\u001b[1;31mNameError\u001b[0m: name 'z' is not defined"
     ]
    }
   ],
   "source": [
    "z"
   ]
  },
  {
   "cell_type": "markdown",
   "id": "bb1e1db1",
   "metadata": {},
   "source": [
    "Similarly, if the variable `z` already exists outside the function, it is unaffected by the function:"
   ]
  },
  {
   "cell_type": "code",
   "execution_count": 7,
   "id": "ef48b31e",
   "metadata": {},
   "outputs": [
    {
     "name": "stdout",
     "output_type": "stream",
     "text": [
      "Not even a number.\n"
     ]
    }
   ],
   "source": [
    "z = 'Not even a number.'\n",
    "\n",
    "impedance(2400, 2100)\n",
    "\n",
    "print(z)"
   ]
  },
  {
   "cell_type": "markdown",
   "id": "cd03cf67",
   "metadata": {},
   "source": [
    "## Making a module\n",
    "\n",
    "Add your function to a new text file called `utils.py`, and save it in the current directory.\n",
    "\n",
    "Now we'll try importing that module into a new notebook. We'll do it together..."
   ]
  },
  {
   "cell_type": "markdown",
   "id": "7aeaa35c",
   "metadata": {
    "tags": [
     "hide"
    ]
   },
   "source": [
    "### Instructor notes\n",
    "\n",
    "Now go to a new notebook and import the new function, then call it. Or go out to a terminal and do it from the interpreter.\n",
    "\n",
    "If you show them the docstring at this time, it's very cool.\n",
    "\n",
    "You can do it in this notebook, but it's not as instructive. (If you do it in this notebook, be sure to use `import utils`, not `from utils import impedance` because the latter is confusing given that we already have an existing `impedance` function defined in this notebook.)"
   ]
  },
  {
   "cell_type": "markdown",
   "id": "90fe2859",
   "metadata": {
    "tags": [
     "exercise"
    ]
   },
   "source": [
    "### Exercise\n",
    "\n",
    "We want a function to compute acoustic velocity from slowness (aka travel time, or the reciprocal of velocity). For example, we might compute Vp from the DT log.\n",
    "\n",
    "Rearrange the following lines to create this function:"
   ]
  },
  {
   "cell_type": "code",
   "execution_count": null,
   "id": "2efd7046",
   "metadata": {},
   "outputs": [],
   "source": [
    "return vel\n",
    "vel = 1e6 / slow\n",
    "def vel_from_slow(slow):\n",
    "\"\"\"Velocity from slowness, given in μs per unit distance.\"\"\""
   ]
  },
  {
   "cell_type": "code",
   "execution_count": null,
   "id": "785388d4",
   "metadata": {},
   "outputs": [],
   "source": [
    "# YOUR CODE HERE\n",
    "\n"
   ]
  },
  {
   "cell_type": "code",
   "execution_count": 8,
   "id": "062d002a",
   "metadata": {
    "tags": [
     "hide"
    ]
   },
   "outputs": [],
   "source": [
    "def vel_from_slow(slow):\n",
    "    \"\"\"Velocity from slowness, given in μs per unit distance.\"\"\"\n",
    "    vel = 1e6 / slow\n",
    "    return vel"
   ]
  },
  {
   "cell_type": "markdown",
   "id": "c235cbae",
   "metadata": {},
   "source": [
    "Use this to call the function:"
   ]
  },
  {
   "cell_type": "code",
   "execution_count": 9,
   "id": "6c73cd10",
   "metadata": {},
   "outputs": [
    {
     "data": {
      "text/plain": [
       "2000.0"
      ]
     },
     "execution_count": 9,
     "metadata": {},
     "output_type": "execute_result"
    }
   ],
   "source": [
    "vel_from_slow(500)"
   ]
  },
  {
   "cell_type": "markdown",
   "id": "284bf97a",
   "metadata": {},
   "source": [
    "You should get \n",
    "\n",
    "    2000.0"
   ]
  },
  {
   "cell_type": "markdown",
   "id": "d478ac5a",
   "metadata": {
    "tags": [
     "exercise"
    ]
   },
   "source": [
    "### Exercise\n",
    "\n",
    "What happens if you pass a NumPy array to your function? Generate an array with:\n",
    "\n",
    "    import numpy as np\n",
    "    dt = np.array([450, 475, 550, 425])\n",
    "\n",
    "Then give `dt` to the `vel_from_slow` function. You should get an array of 4 numbers back:\n",
    "\n",
    "    array([2222.22222222, 2105.26315789, 1818.18181818, 2352.94117647])\n",
    "\n",
    "**Plot the velocity corresponding to all values of DT from 250 to 500. <a title=\"Use np.arange(250, 600) to generate the DT values, and plot vel_from_slow(dt) against it.\">Hover for hint.</a>**"
   ]
  },
  {
   "cell_type": "code",
   "execution_count": 10,
   "id": "65beb754",
   "metadata": {},
   "outputs": [],
   "source": [
    "import numpy as np\n",
    "# YOUR CODE HERE\n",
    "\n"
   ]
  },
  {
   "cell_type": "code",
   "execution_count": 11,
   "id": "c76d9da6",
   "metadata": {
    "tags": [
     "hide"
    ]
   },
   "outputs": [
    {
     "data": {
      "text/plain": [
       "<matplotlib.lines.Line2D at 0x1e25f0b5670>"
      ]
     },
     "execution_count": 11,
     "metadata": {},
     "output_type": "execute_result"
    },
    {
     "data": {
      "image/png": "[encoded data removed]",
      "text/plain": [
       "<Figure size 432x288 with 1 Axes>"
      ]
     },
     "metadata": {
      "needs_background": "light"
     },
     "output_type": "display_data"
    }
   ],
   "source": [
    "dt = np.arange(200, 800)\n",
    "\n",
    "import matplotlib.pyplot as plt\n",
    "\n",
    "fig, ax = plt.subplots()\n",
    "ax.plot(dt, vel_from_slow(dt))\n",
    "\n",
    "# Optional annotation.\n",
    "ax.set_title('Velocity vs slowness')\n",
    "ax.set_xlabel('DT [µs/m]')\n",
    "ax.set_ylabel('Vp [m/s]')\n",
    "ax.grid(c='k', alpha=0.2)\n",
    "ax.axhline(1486, c='cyan')  # Water velocity."
   ]
  },
  {
   "cell_type": "markdown",
   "id": "1f3d0eee",
   "metadata": {},
   "source": [
    "## Optional arguments and default values\n",
    "\n",
    "Remember `math.log()`? You can optionally pass the base of the logarithm; by default it is Euler's constant, e.\n",
    "\n",
    "We can do that in our functions too.\n",
    "\n",
    "Suppose we want to implement [Gardner's equation](https://www.subsurfwiki.org/wiki/Gardner%27s_equation):\n",
    "\n",
    "$$ \\rho = 310\\ V_\\mathrm{P}^{\\,0.25}\\ \\ \\mathrm{kg}/\\mathrm{m}^3 $$\n",
    "\n",
    "Let's go through this together:"
   ]
  },
  {
   "cell_type": "markdown",
   "id": "c2bcc8c0",
   "metadata": {
    "tags": [
     "hide"
    ]
   },
   "source": [
    "### Instructor notes:\n",
    "\n",
    "Build up gradually:\n",
    "    \n",
    "- Implement Gardner's equation as a Python function.\n",
    "- Make the factor $\\alpha$ of 310 and the exponent $\\beta$ of 0.25 into arguments the user can change if they want to. I.e. give them default values.\n",
    "- How can you make this function accept a list of velocities?\n",
    "- Add this function to your `utils.py` file in the `/notebooks` folder."
   ]
  },
  {
   "cell_type": "code",
   "execution_count": null,
   "id": "77e22c38",
   "metadata": {},
   "outputs": [],
   "source": [
    "def gardner():\n",
    "    raise NotImplementedError"
   ]
  },
  {
   "cell_type": "code",
   "execution_count": 12,
   "id": "4a279edc",
   "metadata": {
    "tags": [
     "hide"
    ]
   },
   "outputs": [],
   "source": [
    "def gardner(vp, alpha=310, beta=0.25):\n",
    "    \"\"\"Compute RHOB from Vp using Gardner's relation.\n",
    "    \n",
    "    Example\n",
    "    >>> gardner(2500)\n",
    "    2192.0310216782973\n",
    "    \"\"\"\n",
    "    rho = alpha * vp**beta\n",
    "    \n",
    "    return rho"
   ]
  },
  {
   "cell_type": "markdown",
   "id": "62f2a521",
   "metadata": {},
   "source": [
    "The following cell should return **no outputs** if you function is written correctly:"
   ]
  },
  {
   "cell_type": "code",
   "execution_count": 13,
   "id": "9c473bda",
   "metadata": {},
   "outputs": [],
   "source": [
    "np.testing.assert_almost_equal(gardner(2650), 2224.1965, decimal=4)"
   ]
  },
  {
   "cell_type": "markdown",
   "id": "b17f5063",
   "metadata": {},
   "source": [
    "## Multiple returns\n",
    "\n",
    "Functions can only return one thing, but we can pack multiple things into a collection of some kind, frequently a tuple.\n",
    "\n",
    "We are going to write a function that takes a dataset and returns the maximum value, along with the index position(s) of that maximum."
   ]
  },
  {
   "cell_type": "code",
   "execution_count": 17,
   "id": "60a31268",
   "metadata": {},
   "outputs": [],
   "source": [
    "def max_and_pos(data):\n",
    "    \"\"\"Returns the maximum value and the position of that value, if it is present.\n",
    "\n",
    "    Args:\n",
    "        data (array-like), input values\n",
    "    Returns:\n",
    "        max, x_pos, y_pos\n",
    "    \"\"\"\n",
    "    median_val = np.mean(data)\n",
    "    positions = np.argwhere(data == median_val)\n",
    "    \n",
    "    return median_val, positions"
   ]
  },
  {
   "cell_type": "code",
   "execution_count": 18,
   "id": "e062ee74",
   "metadata": {},
   "outputs": [
    {
     "data": {
      "text/plain": [
       "(499.5, array([], shape=(0, 1), dtype=int64))"
      ]
     },
     "execution_count": 18,
     "metadata": {},
     "output_type": "execute_result"
    }
   ],
   "source": [
    "max_and_pos(dt)"
   ]
  },
  {
   "cell_type": "markdown",
   "id": "b9c112fd",
   "metadata": {},
   "source": [
    "The next two topics (`args` and `kwargs`, and `try`/`except` blocks) are included here as something for you to look at in your own time, so that they are at least somewhat familiar when you come across them in the future.\n",
    "\n",
    "## `args` and `kwargs`\n",
    "\n",
    "This is a more advanced concept, but it's good to know about. We can write functions that take an arbitrary number of arguments, as well as arguments you give specific names to:"
   ]
  },
  {
   "cell_type": "code",
   "execution_count": null,
   "id": "985a135d",
   "metadata": {},
   "outputs": [],
   "source": [
    "def add(*args):\n",
    "    print(args)\n",
    "    return sum(args)\n",
    "\n",
    "add(2, 3, 4, 5, 6, 7)"
   ]
  },
  {
   "cell_type": "markdown",
   "id": "81601cce",
   "metadata": {},
   "source": [
    "We can mix this with an arbitrary number of positional and keyword arguments:"
   ]
  },
  {
   "cell_type": "code",
   "execution_count": null,
   "id": "01600f7c",
   "metadata": {},
   "outputs": [],
   "source": [
    "def foo(x, y, *args):\n",
    "    \"\"\"\n",
    "    Print these things.\n",
    "    \"\"\"\n",
    "    print(x, y)\n",
    "    print(args)\n",
    "    return"
   ]
  },
  {
   "cell_type": "code",
   "execution_count": null,
   "id": "d9078295",
   "metadata": {},
   "outputs": [],
   "source": [
    "foo(2, 'this', 'that', 45)"
   ]
  },
  {
   "cell_type": "markdown",
   "id": "58b1dd16",
   "metadata": {},
   "source": [
    "The unnamed `args` are stored in a `tuple`, and this is what was printed out by `print(args)`.\n",
    "\n",
    "You can pass keyword arguments in the same way, with a slightly different syntax:"
   ]
  },
  {
   "cell_type": "code",
   "execution_count": null,
   "id": "543dd529",
   "metadata": {},
   "outputs": [],
   "source": [
    "def bar(x, y=1, **kwargs):\n",
    "    print(x, y)\n",
    "    print(kwargs)\n",
    "    return"
   ]
  },
  {
   "cell_type": "markdown",
   "id": "3429f2b1",
   "metadata": {},
   "source": [
    "This time the unspecified `kwargs` are stored in a `dict`:"
   ]
  },
  {
   "cell_type": "code",
   "execution_count": null,
   "id": "a7710707",
   "metadata": {},
   "outputs": [],
   "source": [
    "bar(2, 'this', that='that', other=45)"
   ]
  },
  {
   "cell_type": "markdown",
   "id": "b3a19942",
   "metadata": {},
   "source": [
    "You can create a `dict` of containing the keywords and values outside the function and pass it in. The `**kwargs` syntax unpacks the element of the dictionary for use inside the function:"
   ]
  },
  {
   "cell_type": "code",
   "execution_count": null,
   "id": "86493177",
   "metadata": {},
   "outputs": [],
   "source": [
    "func_params = dict(param1='alpha', param2='beta', param3=99.0)\n",
    "\n",
    "func_params"
   ]
  },
  {
   "cell_type": "code",
   "execution_count": null,
   "id": "27ae703c",
   "metadata": {},
   "outputs": [],
   "source": [
    "bar(2, **func_params)"
   ]
  },
  {
   "cell_type": "code",
   "execution_count": null,
   "id": "25cc9b8a",
   "metadata": {
    "tags": [
     "hide"
    ]
   },
   "outputs": [],
   "source": [
    "lineplot_params = {'xlabel': 'time (s)',\n",
    "                   'linewidth': 2,\n",
    "                   'color': '#DD1D21'}"
   ]
  },
  {
   "cell_type": "code",
   "execution_count": null,
   "id": "6533cb1b",
   "metadata": {
    "tags": [
     "hide"
    ]
   },
   "outputs": [],
   "source": [
    "def my_awesome_plot(x, y, **kwargs):\n",
    "    \"\"\"A plot to showcase **kwargs.\"\"\"\n",
    "    label_text = kwargs.pop('xlabel') # we have to pop this off before passing into plot()\n",
    "    plt.title('Two sine waves')\n",
    "    plt.xlabel(label_text)\n",
    "    plt.ylabel('Signal')\n",
    "    plt.plot(x, y, **kwargs)\n",
    "    plt.scatter(x, y)\n",
    "    return None"
   ]
  },
  {
   "cell_type": "code",
   "execution_count": null,
   "id": "919169ee",
   "metadata": {
    "tags": [
     "hide"
    ]
   },
   "outputs": [],
   "source": [
    "x = np.arange(0, 10, 0.3)\n",
    "y = np.sin(10 * x) + np.sin(8 * x)\n",
    "my_awesome_plot(x, y, **lineplot_params)"
   ]
  },
  {
   "cell_type": "markdown",
   "id": "cf2b4039",
   "metadata": {},
   "source": [
    "## `try` and `except`\n",
    "\n",
    "This is not really related to functions directly, but is how to handle errors that are caused by code that is valid int terms of syntax, but can not be executed for some reason. Effectively, we are going to ask for forgiveness rather permission to do something that might not actually work.\n",
    "\n",
    "Here is a simple example, attempting to typecast a `str` into a `int`:"
   ]
  },
  {
   "cell_type": "code",
   "execution_count": null,
   "id": "88fee377",
   "metadata": {},
   "outputs": [],
   "source": [
    "int('42.4') # this will fail"
   ]
  },
  {
   "cell_type": "code",
   "execution_count": null,
   "id": "cb5b1fa1",
   "metadata": {},
   "outputs": [],
   "source": [
    "y = '42.5'\n",
    "try:\n",
    "    x = int(y)\n",
    "except ValueError:\n",
    "    x = float(y)\n",
    "x"
   ]
  },
  {
   "cell_type": "code",
   "execution_count": null,
   "id": "67e6450e",
   "metadata": {
    "tags": [
     "hide"
    ]
   },
   "outputs": [],
   "source": [
    "y = '42'\n",
    "try:\n",
    "    x = int(y)\n",
    "except ValueError:\n",
    "    x = float(y)\n",
    "x"
   ]
  },
  {
   "cell_type": "markdown",
   "id": "933a141e",
   "metadata": {},
   "source": [
    "Things to bear in mind here:\n",
    "\n",
    "* Avoid a bare `except`: you should always have a way to fix the exception that has been raised.\n",
    "* The built-in set of Exceptions that are available are discussed in the [Python documentation](https://docs.python.org/3/library/exceptions.html). Some libraries may also have their own.\n",
    "* There are more details here that are worth reading: https://docs.python.org/3/tutorial/errors.html"
   ]
  },
  {
   "cell_type": "markdown",
   "id": "1db8e3fb",
   "metadata": {},
   "source": [
    "## Closing notes\n",
    "\n",
    "Functions are extremely useful, and in many cases if you write code it should be put into a function to aid later re-use, and prevent needing to right the same code many times.\n",
    "\n",
    "When writing functions, _always_ add a docstring. There are a few standards that are common, so choose something for your project and stick to it. [Here is a comparison of the following styles](https://queirozf.com/entries/python-docstrings-reference-examples):\n",
    "* Google: https://github.com/google/styleguide/blob/gh-pages/pyguide.md#38-comments-and-docstrings\n",
    "* Numpy: https://numpydoc.readthedocs.io/en/latest/format.html\n",
    "* Matplotlib: https://matplotlib.org/stable/devel/documenting_mpl.html#writing-docstrings (this uses ReStructured Text, which is very common in other libraries)\n",
    "\n",
    "Try and keep functions self-contained, and return something sensible from them.\n",
    "\n",
    "## Next\n",
    "\n",
    "We are going to combine everything that we have seen so far to make our combination plot."
   ]
  }
 ],
 "metadata": {
  "celltoolbar": "Tags",
  "kernelspec": {
   "display_name": "geocomp",
   "language": "python",
   "name": "geocomp"
  },
  "language_info": {
   "codemirror_mode": {
    "name": "ipython",
    "version": 3
   },
   "file_extension": ".py",
   "mimetype": "text/x-python",
   "name": "python",
   "nbconvert_exporter": "python",
   "pygments_lexer": "ipython3",
   "version": "3.9.7"
  }
 },
 "nbformat": 4,
 "nbformat_minor": 5
}
