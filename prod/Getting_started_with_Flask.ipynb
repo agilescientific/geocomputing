{
 "cells": [
  {
   "cell_type": "markdown",
   "metadata": {
    "inputHidden": false,
    "outputHidden": false
   },
   "source": [
    "# Getting Started with Flask\n",
    "---\n",
    "\n",
    "### Content\n",
    "- What is it? How to install it? \n",
    "- How to write a basic Flask application\n",
    "- Jinja and templates\n",
    "- APIs. Creating them, using them\n"
   ]
  },
  {
   "cell_type": "markdown",
   "metadata": {},
   "source": [
    "---\n",
    "## What is it?\n",
    "[Flask](http://flask.pocoo.org/) is a minimal web framework for Python. One of its advantages is the extensive documentation as well as the number of plugins available for it. It uses the [Jinja2](http://jinja.pocoo.org/) templating engine to render HTML objects and can easily be integrated with web toolkits like [Bootstrap](https://getbootstrap.com/), to make consistent and responsive HTML layouts.\n",
    "\n",
    "---\n",
    "## How to install it?\n",
    " - `conda install Flask` or `pip install Flask`"
   ]
  },
  {
   "cell_type": "markdown",
   "metadata": {},
   "source": [
    "----\n",
    "\n",
    "## How to write a basic Flask application\n",
    "\n",
    "Flask applications are meant to run on a command-line as a python script. This means that all the code we will write should be done _outside_ of this notebook.\n",
    "\n",
    "It is also common practice to create a file structure for the application that will help developing it in a much easier and organized. This will all make more sense as we move along but for now, create a new folder with the following file structure inside:\n",
    "\n",
    "```\n",
    "my-app/\n",
    "    │   app.py\n",
    "    │   config.py\n",
    "    │   requirements.txt \n",
    "    └── static/\n",
    "    └── templates/\n",
    "\n",
    "```\n",
    "\n",
    "The name of the application `my-app` can be anything you want.\n",
    "\n",
    "| File | Usage |\n",
    "|:---- |:---- |\n",
    "| `app.py` | Contains all the python code your application will execute |\n",
    "| `config.py` | Contains configuration variables related to Flask, plugins or your libraries |\n",
    "| `requirements.txt` | Contains the python library requirements for your application to run |\n",
    "| `static/` | This directory will store the public files that will be \"server\" through your app |\n",
    "| `templates/` | This directory will (must) contain all the Jinja2 templates, i.e. HTML files |"
   ]
  },
  {
   "cell_type": "markdown",
   "metadata": {},
   "source": [
    "The follwing block of code is meant to be your first Flask application and it goes inside the `app.py` file. Copy and paste the code into that file (create it if it doesn't exist already)."
   ]
  },
  {
   "cell_type": "markdown",
   "metadata": {
    "inputHidden": false,
    "outputHidden": false
   },
   "source": [
    "```Python\n",
    "from flask import Flask\n",
    "app = Flask(__name__)\n",
    "\n",
    "@app.route('/')\n",
    "def hello_world():\n",
    "    return 'Hello World!'\n",
    "```"
   ]
  },
  {
   "cell_type": "markdown",
   "metadata": {
    "inputHidden": false,
    "outputHidden": false
   },
   "source": [
    "Note: `@​app.route('/')` is a Python [decorator](https://www.python.org/dev/peps/pep-0318/) that associates the web address with respect to your root web domain and the function defined under it. Every time someone goes to the root web address ('/') of your application, this function is executed.\n",
    "\n",
    "In order to run your Flask application, open a terminal inside your application root directory and execute:\n",
    "\n",
    "- `flask run`\n",
    "- or `python -m flask run`\n",
    "\n",
    "This message should be displayed if everything went well: `Running on http://127.0.0.1:5000/ (Press CTRL+C to quit)`\n",
    "\n",
    "That will start a local web server, so if you click or go to that web address you should see the result of first web application!"
   ]
  },
  {
   "cell_type": "markdown",
   "metadata": {
    "tags": [
     "hide"
    ]
   },
   "source": [
    "### What's the difference between `flask run` and `python app.py`? When I do the former, I cannot change the host for example; but I can if I do the latter (requires `if __name__ == '__nain__'` of course."
   ]
  },
  {
   "cell_type": "markdown",
   "metadata": {
    "tags": [
     "exercise"
    ]
   },
   "source": [
    "### Exercise\n",
    "\n",
    "Write different routes and functions to display different content on each one. Test them by running the Flask server and point your browser to each new route."
   ]
  },
  {
   "cell_type": "markdown",
   "metadata": {},
   "source": [
    "----\n",
    "\n",
    "## Templates\n",
    "\n",
    "Flask supports a very flexible and powerful HTML templating engine called Jinja2. With it, you can pass dynamic content into HTML and it's part of the reason why people find minimal web frameworks like Flask so useful.\n",
    "\n",
    "But first we need a minimal review of HTML in general. Put this in a file called `minimal.html`:"
   ]
  },
  {
   "cell_type": "markdown",
   "metadata": {},
   "source": [
    "```HTML\n",
    "<!DOCTYPE html>\n",
    "<html lang=\"en\">\n",
    "<head>\n",
    "\t<meta charset=\"utf-8\">\n",
    "\t<title>Hello, world!</title>\n",
    "</head>\n",
    "\n",
    "<body>\n",
    "\n",
    "\t<h1>Hello</h1>\n",
    "    <img src=\"static/myfig.png\" style=\"width:50%\"/>\n",
    "    <p>My Python data is: {{ data }}</p>\n",
    "\n",
    "</body>\n",
    "</html>\n",
    "```"
   ]
  },
  {
   "cell_type": "markdown",
   "metadata": {},
   "source": [
    "We can render an HTML template with `Flask` using `render_template`:\n",
    "\n",
    "```Python\n",
    "from flask import Flask\n",
    "from flask import request\n",
    "from flask import render_template\n",
    "\n",
    "app = Flask(__name__)\n",
    "\n",
    "@app.route('/minimal')\n",
    "def minimal():\n",
    "    data = request.args.get('data', '')\n",
    "    return render_template('minimal.html', data=data)\n",
    "\n",
    "if __name__ == '__main__':\n",
    "    app.run()\n",
    "```"
   ]
  },
  {
   "cell_type": "markdown",
   "metadata": {},
   "source": [
    "Now visit\n",
    "\n",
    "    http://127.0.0.1/minimal?data=Hello"
   ]
  },
  {
   "cell_type": "markdown",
   "metadata": {
    "tags": [
     "exercise"
    ]
   },
   "source": [
    "### Exercise\n",
    "\n",
    "- Have a look at [the Jinja2 documentation](http://jinja.pocoo.org/docs/2.10/).\n",
    "- Send more data into your template.\n",
    "- Try sending in a list of items and printing them all in turn."
   ]
  },
  {
   "cell_type": "markdown",
   "metadata": {
    "tags": [
     "hide"
    ]
   },
   "source": [
    "```Python\n",
    "@app.route('/minimal')\n",
    "def minimal():\n",
    "    data_str = request.args.get('data', '')\n",
    "    data = [float(x) for x in data_str.split(',')]\n",
    "    return render_template('minimal.html', data=data)\n",
    "```\n",
    "\n",
    "----\n",
    "```HTML\n",
    "<p>My Python data is: </p>\n",
    "    \n",
    "<ol>\n",
    "    {% for d in data %}\n",
    "        <li>Element: {{ d }}</li>\n",
    "    {% endfor %}\n",
    "</ol>\n",
    "```"
   ]
  },
  {
   "cell_type": "markdown",
   "metadata": {},
   "source": [
    "## More templating, and styling with Bootstrap\n",
    "\n",
    "We don't usually put all our template code in one page. Instead, we split it into sections, each with its own HTML file. A minimal example might consist of two files, `base.html` and `hello.html` (the files can be called anything you like).\n",
    "\n",
    "First, `base.html` contains all the generic boilerplate content that appears on every page of the website:"
   ]
  },
  {
   "cell_type": "markdown",
   "metadata": {},
   "source": [
    "```HTML\n",
    "<!doctype html>\n",
    "<html lang=\"en\">\n",
    "  <head>\n",
    "    <!-- Required meta tags -->\n",
    "    <meta charset=\"utf-8\">\n",
    "    <meta name=\"viewport\" content=\"width=device-width, initial-scale=1, shrink-to-fit=no\">\n",
    "\n",
    "    <!-- Bootstrap CSS -->\n",
    "    <link rel=\"stylesheet\" href=\"https://maxcdn.bootstrapcdn.com/bootstrap/4.0.0-beta.3/css/bootstrap.min.css\" crossorigin=\"anonymous\">\n",
    "\n",
    "    <!-- Page title -->\n",
    "    <title>\n",
    "    \n",
    "        {% block title %}{% endblock %}\n",
    "    \n",
    "    </title>\n",
    "  </head>\n",
    "\n",
    "  <!-- Page body -->\n",
    "  <body>\n",
    "  <!-- Content inside Bootstrap class container -->\n",
    "  <div class=\"container\">\n",
    "    <div class=\"row\">\n",
    "      <div class=\"col-6\">\n",
    "\n",
    "         {% block content %}{% endblock %}\n",
    "\n",
    "      </div>\n",
    "    </div>\n",
    "  </div> <!-- /.container -->\n",
    "\n",
    "  <!-- Load JavaScript -->\n",
    "  <!-- jQuery first, then Popper.js, then Bootstrap JS -->\n",
    "  <script src=\"https://code.jquery.com/jquery-3.2.1.slim.min.js\" crossorigin=\"anonymous\"></script>\n",
    "  <script src=\"https://cdnjs.cloudflare.com/ajax/libs/popper.js/1.12.9/umd/popper.min.js\" crossorigin=\"anonymous\"></script>\n",
    "  <script src=\"https://maxcdn.bootstrapcdn.com/bootstrap/4.0.0-beta.3/js/bootstrap.min.js\" crossorigin=\"anonymous\"></script>\n",
    "</body>\n",
    "</html>\n",
    "```"
   ]
  },
  {
   "cell_type": "markdown",
   "metadata": {},
   "source": [
    "Another file, `hello.html`, extends the base file and holds the actual content:\n",
    "\n",
    "```HTML\n",
    "{% extends \"base.html\" %}\n",
    "{% block title %}Hello world!{% endblock %}\n",
    "{% block content %}\n",
    "<h1>Hello</h1>\n",
    "<img src=\"myfig.png\" style=\"width:50%\"/>\n",
    "<p>This is my 'bootstrap' demo page.</p>\n",
    "{% endblock %}\n",
    "```"
   ]
  },
  {
   "cell_type": "markdown",
   "metadata": {},
   "source": [
    "As before, we can render an HTML template using `render_template`:"
   ]
  },
  {
   "cell_type": "markdown",
   "metadata": {},
   "source": [
    "```Python\n",
    "from flask import Flask, render_template\n",
    "\n",
    "app = Flask(__name__)\n",
    "\n",
    "@app.route('/hello')\n",
    "def hello():\n",
    "    return render_template('hello.html')\n",
    "\n",
    "if __name__ == '__main__':\n",
    "    app.run()\n",
    "```"
   ]
  },
  {
   "cell_type": "markdown",
   "metadata": {},
   "source": [
    "As we already saw, you can pass information into the template files using Jinja2's markup. These special \"place holder\" tags inside the HTML that Jinja2 will process once Flask calls the `render_template` function. There are 4 main tags that Jinja2 will process:\n",
    "\n",
    "- `{% ... %}` for Statements\n",
    "- `{{ ... }}` for Expressions to print to the template output\n",
    "- `{# ... #}` for Comments not included in the template output\n",
    "- `#  ... ##` for Line Statements\n"
   ]
  },
  {
   "cell_type": "markdown",
   "metadata": {
    "tags": [
     "exercise"
    ]
   },
   "source": [
    "### Exercise\n",
    "\n",
    "Write the HTML file to render the data being passed by this function:"
   ]
  },
  {
   "cell_type": "markdown",
   "metadata": {},
   "source": [
    "```Python\n",
    "@app.route('/jinja_demo')\n",
    "def jinja_demo():\n",
    "    logs = [{'mnemonic': 'GR', 'name': 'gamma-ray', 'units': 'API'},\n",
    "             {'mnemonic': 'RHOB', 'name': 'bulk density', 'units': 'kg/m3'},\n",
    "             {'mnemonic': 'DT', 'name': 'P-wave sonic', 'units': 'us/m'},\n",
    "            ]\n",
    "    return render_template('jinja_demo.html', logs=logs)\n",
    "```"
   ]
  },
  {
   "cell_type": "markdown",
   "metadata": {
    "tags": [
     "hide"
    ]
   },
   "source": [
    "There are lots of ways of doing it, this is just an example:\n",
    "\n",
    "```HTML\n",
    "{% extends \"base.html\" %}\n",
    "{% block title %}Logs{% endblock %}\n",
    "{% block content %}\n",
    "  {% for log in logs %}\n",
    "    <h2>{{ log.name }}</h2>\n",
    "    <p>Mnemonic: {{ log.mnemonic }}</p>\n",
    "    <p>Units: {{ log.units }}</p>\n",
    "  {% endfor %}\n",
    "{% endblock %}\n",
    "```"
   ]
  },
  {
   "cell_type": "markdown",
   "metadata": {
    "tags": [
     "exercise"
    ]
   },
   "source": [
    "### Exercise\n",
    "\n",
    "Use `numpy` to generate a random number and return a new number to your template every time you refresh the page on the browser."
   ]
  },
  {
   "cell_type": "markdown",
   "metadata": {},
   "source": [
    "Let's now do something even better. Let's generate an new image every time we access one of the views and display it on the template!"
   ]
  },
  {
   "cell_type": "markdown",
   "metadata": {},
   "source": [
    "```Python\n",
    "import numpy as np\n",
    "import matplotlib.pyplot as plt\n",
    "\n",
    "points = np.random.rand(10)\n",
    "fig, ax = plt.subplots()\n",
    "ax.plot(points)\n",
    "fig.savefig(\"static/myfig.png\")\n",
    "```"
   ]
  },
  {
   "cell_type": "markdown",
   "metadata": {
    "tags": [
     "exercise"
    ]
   },
   "source": [
    "### Exercise\n",
    "\n",
    "Incorporate the previous code into your `app.py` to store an image inside the directory `static/` and display it on your template by using the `<img src=\"static/myfig.png\" />` image tag.\n",
    "\n",
    "Instead of making random data, can you send in some data as a query in the URL? The URL should like something like this:\n",
    "\n",
    "    http://127.0.0.1:5000/plot?data=2,4,6,3,4,5,3,2,4,6,1\n",
    "    \n",
    "You can access this data inside your `plot()` function (the one handling this endpoint) with:\n",
    "\n",
    "    request.args.get('data')\n",
    "    \n",
    "Note that it is a string."
   ]
  },
  {
   "cell_type": "markdown",
   "metadata": {},
   "source": [
    "----\n",
    "\n",
    "**Everything below here is Under Construction... turn back!**"
   ]
  },
  {
   "cell_type": "markdown",
   "metadata": {},
   "source": [
    "## Use a third-party API in your app"
   ]
  },
  {
   "cell_type": "markdown",
   "metadata": {
    "tags": [
     "exercise"
    ]
   },
   "source": [
    "### Exercise\n",
    "\n",
    "Create a view in your Flask app to display 3 of the `result` elements of the dictionary response from the http://curvenam.es/ API."
   ]
  },
  {
   "cell_type": "markdown",
   "metadata": {},
   "source": [
    "## Writing your own APIs\n",
    "\n",
    "A so-called REST API allows a user to interact with your app in various ways. So far, the app has only served HTTP **GET** requests to a browser. (In general, loading a web page makes a GET request to your server.) As you saw above, the GET protocol can accept a **query string** as part of the URL, in effect passing arguments to the server.\n",
    "\n",
    "If you need to accept more complex data that won't easily fit into a query string (such as an image or a file) then you need to handle an HTTP **POST** request. If you want to send data to store in a database, it should be a **PUT** request. And if you want to delete data, it should be a **DELETE** request. There are other quest types, but these are the main ones.\n",
    "\n",
    "**This section is Under Construction... turn back!**"
   ]
  },
  {
   "cell_type": "markdown",
   "metadata": {},
   "source": [
    "## Forms\n",
    "\n",
    "**This section is Under Construction... turn back!**"
   ]
  },
  {
   "cell_type": "markdown",
   "metadata": {
    "tags": [
     "exercise"
    ]
   },
   "source": [
    "### Exercise\n",
    "\n",
    "One way to handle different types of HTTP request is like so:\n",
    "\n",
    "```Python\n",
    "from flask import request\n",
    "\n",
    "@app.route('/plot', methods=['GET', 'POST'])\n",
    "def plot():\n",
    "    if request.method == 'POST':\n",
    "        return make_plot(request)  # Pass request to some other function.\n",
    "    else:\n",
    "        return show_info()  # Do something that doesn't require any input.\n",
    "```\n",
    "\n",
    "Update your app to use this kind of routing."
   ]
  },
  {
   "cell_type": "markdown",
   "metadata": {},
   "source": [
    "## Make an app\n",
    "\n",
    "**This section is Under Construction... turn back!**"
   ]
  },
  {
   "cell_type": "markdown",
   "metadata": {
    "tags": [
     "exercise"
    ]
   },
   "source": [
    "### Exercise\n",
    "\n",
    "- Build an app with a form to plot a wavelet.\n",
    "- Make an API for your app so others can request plots without the form.\n",
    "- If you can, make the plot interactive."
   ]
  },
  {
   "cell_type": "code",
   "execution_count": null,
   "metadata": {},
   "outputs": [],
   "source": []
  }
 ],
 "metadata": {
  "celltoolbar": "Tags",
  "kernel_info": {
   "name": "book"
  },
  "kernelspec": {
   "display_name": "Python 3",
   "language": "python",
   "name": "python3"
  },
  "language_info": {
   "codemirror_mode": {
    "name": "ipython",
    "version": 3
   },
   "file_extension": ".py",
   "mimetype": "text/x-python",
   "name": "python",
   "nbconvert_exporter": "python",
   "pygments_lexer": "ipython3",
   "version": "3.6.8"
  },
  "nteract": {
   "version": "0.5.4"
  }
 },
 "nbformat": 4,
 "nbformat_minor": 4
}
