{
 "cells": [
  {
   "cell_type": "markdown",
   "metadata": {},
   "source": [
    "# Practice NumPy\n",
    "\n",
    "Make sure you look at [`Intro_to_NumPy.ipynb`](Intro_to_NumPy.ipynb) first!"
   ]
  },
  {
   "cell_type": "code",
   "execution_count": null,
   "metadata": {},
   "outputs": [],
   "source": [
    "import numpy as np\n",
    "\n",
    "from utils import vp_from_dt, impedance, rc_series"
   ]
  },
  {
   "cell_type": "code",
   "execution_count": null,
   "metadata": {},
   "outputs": [],
   "source": [
    "test = np.random.random(10000000)"
   ]
  },
  {
   "cell_type": "code",
   "execution_count": null,
   "metadata": {},
   "outputs": [],
   "source": [
    "%timeit rc_series(test)"
   ]
  },
  {
   "cell_type": "markdown",
   "metadata": {},
   "source": [
    "Note that the log has to be fairly big for the benchmarking to work properly, because otherwise the CPU caches the computation and this skews the results."
   ]
  },
  {
   "cell_type": "markdown",
   "metadata": {},
   "source": [
    "Now we can re-write our function using arrays instead of lists. Let's just remind ourselves of what it looked like before:"
   ]
  },
  {
   "cell_type": "code",
   "execution_count": null,
   "metadata": {},
   "outputs": [],
   "source": [
    "import inspect\n",
    "print(inspect.getsource(rc_series))"
   ]
  },
  {
   "cell_type": "markdown",
   "metadata": {
    "tags": [
     "exercise"
    ]
   },
   "source": [
    "## Exercise\n",
    "\n",
    "- Recall your `impedance()` function. How would you write that for NumPy arrays?\n",
    "- Rewrite the `vp_from_dt()` function as a NumPy operation. Make sure the function continues to work on lists by casting the input to arrays.\n",
    "- Rewrite the `rc_series()` function to get rid of the loop. Remember that the math operations work on the entire array at once.\n",
    "- Time your new RC series function on the random `test` data and compare to the loop version.\n",
    "- Replace the functions in your `utils.py` file with vectorized versions."
   ]
  },
  {
   "cell_type": "code",
   "execution_count": null,
   "metadata": {},
   "outputs": [],
   "source": [
    "def vp_from_dt(dt):\n",
    "    \n",
    "    # YOUR CODE HERE"
   ]
  },
  {
   "cell_type": "code",
   "execution_count": null,
   "metadata": {},
   "outputs": [],
   "source": [
    "def rc_vector(imp):\n",
    "    \n",
    "    # YOUR CODE HERE"
   ]
  },
  {
   "cell_type": "code",
   "execution_count": null,
   "metadata": {},
   "outputs": [],
   "source": [
    "z = np.arange(10)\n",
    "rc_vector(z)"
   ]
  },
  {
   "cell_type": "markdown",
   "metadata": {},
   "source": [
    "You should get the same output as you did before:\n",
    "\n",
    "    array([1.        , 0.33333333, 0.2       , 0.14285714, 0.11111111,\n",
    "       0.09090909, 0.07692308, 0.06666667, 0.05882353])"
   ]
  },
  {
   "cell_type": "code",
   "execution_count": null,
   "metadata": {
    "tags": [
     "hide"
    ]
   },
   "outputs": [],
   "source": [
    "def vp_from_dt(dt):\n",
    "    return 1e6 / dt"
   ]
  },
  {
   "cell_type": "code",
   "execution_count": null,
   "metadata": {
    "tags": [
     "hide"
    ]
   },
   "outputs": [],
   "source": [
    "def rc_vector(z):\n",
    "    uppers = z[:-1]\n",
    "    lowers = z[1:]\n",
    "    return (lowers - uppers) / (uppers + lowers)"
   ]
  },
  {
   "cell_type": "code",
   "execution_count": null,
   "metadata": {
    "tags": [
     "hide"
    ]
   },
   "outputs": [],
   "source": [
    "%timeit rc_vector(test)"
   ]
  },
  {
   "cell_type": "markdown",
   "metadata": {
    "tags": [
     "hide"
    ]
   },
   "source": [
    "60+ times faster on my machine!"
   ]
  },
  {
   "cell_type": "markdown",
   "metadata": {},
   "source": [
    "## Load and use some real data"
   ]
  },
  {
   "cell_type": "code",
   "execution_count": 1,
   "metadata": {},
   "outputs": [
    {
     "name": "stderr",
     "output_type": "stream",
     "text": [
      "/home/matt/miniconda3/envs/geocomp/lib/python3.9/site-packages/welly/well.py:194: FutureWarning: From v0.5 the default will be 'original', keeping whatever is used in the LAS file. If you want to force conversion to metres, change your code to use `index='m'`.\n",
      "  warnings.warn(m, FutureWarning)\n"
     ]
    }
   ],
   "source": [
    "from welly import Well\n",
    "\n",
    "w = Well.from_las('https://geocomp.s3.amazonaws.com/data/R-39.las', index='original')\n",
    "\n",
    "gr = w.data['GR']\n",
    "dt = w.data['DT4P']\n",
    "rhob = w.data['RHOB']\n",
    "dts = w.data['DT4S']"
   ]
  },
  {
   "cell_type": "markdown",
   "metadata": {
    "tags": [
     "exercise"
    ]
   },
   "source": [
    "### Exercise\n",
    "\n",
    "- Complete the following lines to run the vectorized `rc_series` function on the log data to make an RC series array.\n",
    "- Plot the array using the cell provided."
   ]
  },
  {
   "cell_type": "code",
   "execution_count": null,
   "metadata": {},
   "outputs": [],
   "source": [
    "vp = \n",
    "vs = \n",
    "imp = "
   ]
  },
  {
   "cell_type": "code",
   "execution_count": null,
   "metadata": {
    "tags": [
     "hide"
    ]
   },
   "outputs": [],
   "source": [
    "vp = vp_from_dt(dt)\n",
    "vs = vp_from_dt(dts)\n",
    "imp = impedance(rhob, vp)"
   ]
  },
  {
   "cell_type": "code",
   "execution_count": null,
   "metadata": {
    "tags": [
     "hide"
    ]
   },
   "outputs": [],
   "source": [
    "import matplotlib.pyplot as plt\n",
    "\n",
    "depth = dt.basis\n",
    "\n",
    "plt.figure(figsize=(2, 10))\n",
    "plt.plot(imp, depth)\n",
    "plt.show()"
   ]
  },
  {
   "cell_type": "markdown",
   "metadata": {},
   "source": [
    "## OPTIONAL STOPPING POINT"
   ]
  },
  {
   "cell_type": "markdown",
   "metadata": {},
   "source": [
    "# Compute a time-to-depth relationship\n",
    "\n",
    "The time-to-depth relationship taking a start-time for the top of the log `tstart`, and then by adding the cumulative travel time for each depth sample beneath it. \n",
    "\n",
    "We obtain the cumulative travel-time by scaling the p-sonic log by the sample interval (6\" or 0.1524 m) and by calling `np.cumsum()` on it. "
   ]
  },
  {
   "cell_type": "code",
   "execution_count": null,
   "metadata": {},
   "outputs": [],
   "source": [
    "tstart = 1.300"
   ]
  },
  {
   "cell_type": "code",
   "execution_count": null,
   "metadata": {},
   "outputs": [],
   "source": [
    "# two-way-time to depth relationship\n",
    "scaled_dt = 0.1524 * np.nan_to_num(dt) / 1e6\n",
    "tcum = 2 * np.cumsum(scaled_dt)\n",
    "tdr = tcum + tstart"
   ]
  },
  {
   "cell_type": "markdown",
   "metadata": {},
   "source": [
    "Let's look at our time-depth curve"
   ]
  },
  {
   "cell_type": "code",
   "execution_count": null,
   "metadata": {},
   "outputs": [],
   "source": [
    "plt.figure(figsize = (4,5))\n",
    "plt.plot(tdr, depth)\n",
    "plt.plot([0, tdr[0]], [0, depth[0]], '--', c='grey')\n",
    "plt.grid(lw=0.5)\n",
    "plt.xlim(0, 2.0)\n",
    "plt.ylim(3500, 0)\n",
    "plt.ylabel('TVD ss [m]')\n",
    "plt.xlabel('two-way-time [s]')"
   ]
  },
  {
   "cell_type": "markdown",
   "metadata": {},
   "source": [
    "It looks pretty close to being linear over this depth range, but it isn't quite linear!"
   ]
  },
  {
   "cell_type": "markdown",
   "metadata": {},
   "source": [
    "## Convert the logs to time and compute RC"
   ]
  },
  {
   "cell_type": "code",
   "execution_count": null,
   "metadata": {},
   "outputs": [],
   "source": [
    "delta_t = 0.001 # sample rate of the data\n",
    "mint = 0.0  # the shallowest travel time we care about (seismic reference datum)\n",
    "maxt = 2.5  # the deepest travel time we care about\n",
    "t = np.arange(mint, maxt, delta_t)\n",
    "\n",
    "gr_t = np.interp(x=t, xp=tdr, fp=gr)\n",
    "imp_t = np.interp(x=t, xp=tdr, fp=imp)"
   ]
  },
  {
   "cell_type": "code",
   "execution_count": null,
   "metadata": {},
   "outputs": [],
   "source": [
    "rc = rc_vector(imp_t)"
   ]
  },
  {
   "cell_type": "markdown",
   "metadata": {},
   "source": [
    "## Convolution\n",
    "\n",
    "Now we'll use the RC to compute a synthetic."
   ]
  },
  {
   "cell_type": "code",
   "execution_count": null,
   "metadata": {},
   "outputs": [],
   "source": [
    "from bruges.filters import ricker\n",
    "\n",
    "wavelet, tw = ricker(0.128, delta_t, 25.0, return_t=True)\n",
    "\n",
    "plt.plot(wavelet)"
   ]
  },
  {
   "cell_type": "code",
   "execution_count": null,
   "metadata": {},
   "outputs": [],
   "source": [
    "syn = np.convolve(rc, wavelet, mode='same')"
   ]
  },
  {
   "cell_type": "code",
   "execution_count": null,
   "metadata": {},
   "outputs": [],
   "source": [
    "t_, syn_ = t[1500:2000], syn[1500:2000]\n",
    "\n",
    "plt.figure(figsize=(15, 2))\n",
    "plt.plot(t_, syn_)\n",
    "plt.fill_between(t_, 0, syn_, where=syn_>0)\n",
    "plt.show()"
   ]
  },
  {
   "cell_type": "markdown",
   "metadata": {},
   "source": [
    "## OPTIONAL STOPPING POINT"
   ]
  },
  {
   "cell_type": "markdown",
   "metadata": {},
   "source": [
    "## Compute offset synthetic"
   ]
  },
  {
   "cell_type": "code",
   "execution_count": null,
   "metadata": {},
   "outputs": [],
   "source": []
  },
  {
   "cell_type": "code",
   "execution_count": null,
   "metadata": {},
   "outputs": [],
   "source": []
  },
  {
   "cell_type": "code",
   "execution_count": null,
   "metadata": {},
   "outputs": [],
   "source": []
  },
  {
   "cell_type": "code",
   "execution_count": null,
   "metadata": {
    "tags": [
     "hide"
    ]
   },
   "outputs": [],
   "source": [
    "vp_t = np.interp(x=t, xp=tdr, fp=vp)\n",
    "vs_t = np.interp(x=t, xp=tdr, fp=vs)\n",
    "rhob_t = np.interp(x=t, xp=tdr, fp=rhob)"
   ]
  },
  {
   "cell_type": "code",
   "execution_count": null,
   "metadata": {
    "tags": [
     "hide"
    ]
   },
   "outputs": [],
   "source": [
    "from bruges.reflection import reflectivity\n",
    "\n",
    "theta = np.arange(46)\n",
    "\n",
    "vs_t[vs_t < 0] = vp_t[vs_t < 0] / 2\n",
    "\n",
    "rc_theta = reflectivity(vp_t, vs_t, rhob_t, theta).T"
   ]
  },
  {
   "cell_type": "code",
   "execution_count": null,
   "metadata": {
    "tags": [
     "hide"
    ]
   },
   "outputs": [],
   "source": [
    "plt.imshow(rc_theta.real, aspect='auto')"
   ]
  },
  {
   "cell_type": "code",
   "execution_count": null,
   "metadata": {
    "tags": [
     "hide"
    ]
   },
   "outputs": [],
   "source": [
    "def convolve(tr, w):\n",
    "    return np.convolve(tr, w, mode='same')\n",
    "\n",
    "s = np.apply_along_axis(convolve, 0, rc_theta.real, wavelet)"
   ]
  },
  {
   "cell_type": "code",
   "execution_count": null,
   "metadata": {
    "scrolled": false,
    "tags": [
     "hide"
    ]
   },
   "outputs": [],
   "source": [
    "plt.figure(figsize=(6, 10))\n",
    "plt.imshow(s, cmap=\"RdBu\", aspect='auto', clim=[-0.25, 0.25], extent=[theta[0], theta[-1], t[-1], t[0]])\n",
    "plt.ylim(2.0, 1.2)\n",
    "plt.colorbar()\n",
    "plt.show()"
   ]
  },
  {
   "cell_type": "code",
   "execution_count": null,
   "metadata": {
    "scrolled": false
   },
   "outputs": [],
   "source": [
    "fig, axs = plt.subplots(figsize=(7, 10),\n",
    "                        ncols=3,\n",
    "                        sharey=True,\n",
    "                        gridspec_kw=dict(width_ratios=[1.5, 1, 1 ]),\n",
    "                       )\n",
    "\n",
    "# Plot synthetic gather.\n",
    "ax = axs[0]\n",
    "ax.imshow(s, cmap=\"seismic\", aspect='auto', clim=(-0.35,0.35), extent=[0,60, t[-1], t[0]])\n",
    "gain = 10\n",
    "for i, tr in enumerate(s.T):\n",
    "    if i % 2 == 1:\n",
    "        axs[0].plot(gain*(tr)+i, t[:-1], 'k', alpha=0.5)\n",
    "ax.set_xlim(0,45)\n",
    "ax.set_ylim(2.0, 1.2)\n",
    "ax.set_xlabel('two-way-time (s)')\n",
    "ax.set_title('incidence angle ($\\degree$)')\n",
    "\n",
    "# Plot impedance log.\n",
    "ax = axs[1]\n",
    "ax.plot(imp_t, t,  lw=1.0)\n",
    "ax.set_xlim(np.percentile(imp,5)*0.8, np.percentile(imp,95)*1.2)\n",
    "ax.grid(c='k', alpha=0.25)\n",
    "ax.set_yticks([])\n",
    "ax.set_title('impedance')\n",
    "\n",
    "# Plot colour-filled GR.\n",
    "ax = axs[2]\n",
    "ax.plot(gr_t, t,  c='k',lw=1.0)\n",
    "ax.fill_betweenx(t, gr_t, 0, color='lightgrey')\n",
    "ax.fill_betweenx(t, gr_t, 100, color='khaki')\n",
    "ax.grid(c='k', alpha=0.25)\n",
    "ax.set_xlim(20,100)\n",
    "ax.set_yticks([])\n",
    "ax.set_xticks([25,50,75,100])\n",
    "ax.grid(lw=0.5)\n",
    "ax.set_title('gamma ray (API)')\n",
    "\n",
    "plt.show()"
   ]
  },
  {
   "cell_type": "markdown",
   "metadata": {},
   "source": [
    "## OPTIONAL STOPPING POINT"
   ]
  },
  {
   "cell_type": "markdown",
   "metadata": {},
   "source": [
    "----\n",
    "\n",
    "## Vsh\n",
    "\n",
    "_V_<sub>sh</sub> or _V_<sub>shale</sub> is the volume of shale in a given volume of rock. Often synonymous with _V_<sub>clay</sub>, though strictly speaking this should be measured at a different scale: _V_<sub>clay</sub> pertains to a rock, whereas _V_<sub>sh</sub> pertains to an interval of strata. \n",
    "\n",
    "It is possible to calculate _V_<sub>sh</sub> from spectral gamma-ray CGR curve data (usually where GR comes from):\n",
    "\n",
    "$$x = \\frac{\\mathsf{CGR}_\\mathrm{zone} - \\mathsf{CGR}_\\mathrm{clean}}{\\mathsf{CGR}_\\mathrm{shale} - \\mathsf{CGR}_\\mathrm{clean}}$$\n",
    "\n",
    "In many circumstances, _x_ can be used as _V_<sub>sh</sub>. Alternatively, one of the following corrections can be optionally applied:\n",
    "\n",
    "$V_\\mathrm{sh} = \\frac{0.5x}{1.5-x}$\n",
    "\n",
    "$V_\\mathrm{sh} = 1.7 - \\sqrt{3.38 - (x + 0.7)2}$"
   ]
  },
  {
   "cell_type": "markdown",
   "metadata": {
    "tags": [
     "exercise"
    ]
   },
   "source": [
    "### Exercise\n",
    "\n",
    "Implement the Vsh equation.\n",
    "\n",
    "- Your function should work on scalars and on arrays or other sequences.\n",
    "- The function should never return a number outside the closed interaval [0, 1].\n",
    "- Write a docstring and tests for your function.\n",
    "- Apply your function to the GR log from the well `w`"
   ]
  },
  {
   "cell_type": "code",
   "execution_count": null,
   "metadata": {},
   "outputs": [],
   "source": [
    "def vshale(cgr, clean, shale):\n",
    "\n",
    "    # Your code here!\n",
    "    \n",
    "    return vsh"
   ]
  },
  {
   "cell_type": "code",
   "execution_count": null,
   "metadata": {},
   "outputs": [],
   "source": [
    "cgr = [40, 50, 80, 100, 120, 80, np.nan, 10]\n",
    "vshale(cgr, clean=40, shale=100)"
   ]
  },
  {
   "cell_type": "markdown",
   "metadata": {},
   "source": [
    "This should yield:\n",
    "\n",
    "    array([ 0.    ,  0.0625,  0.4   ,  1.    ,  1.    ,  0.4   ,     nan,  0.    ])"
   ]
  },
  {
   "cell_type": "code",
   "execution_count": null,
   "metadata": {
    "tags": [
     "hide"
    ]
   },
   "outputs": [],
   "source": [
    "def vshale(cgr, clean, shale):\n",
    "    \"\"\"\n",
    "    Compute VSH for arrays or single values.\n",
    "    \"\"\"\n",
    "    cgr = np.atleast_1d(cgr)\n",
    "    \n",
    "    # If we don't like the warnings, we can temporarily\n",
    "    # replace the nans.\n",
    "    nans = np.isnan(cgr)\n",
    "    cgr[np.isnan(cgr)] = 0\n",
    "\n",
    "    x = (cgr - clean) / (shale - clean)\n",
    "    vsh = 0.5 * x / (1.5 - x)\n",
    "    \n",
    "    # Make sure we're in the interval [0, 1]\n",
    "    vsh[vsh > 1] = 1\n",
    "    vsh[vsh < 0] = 0\n",
    "\n",
    "    # Replace the nans.\n",
    "    vsh[nans] = np.nan\n",
    "    \n",
    "    return np.squeeze(vsh)"
   ]
  },
  {
   "cell_type": "code",
   "execution_count": null,
   "metadata": {
    "tags": [
     "hide"
    ]
   },
   "outputs": [],
   "source": [
    "vshale(cgr, clean=40, shale=100)"
   ]
  },
  {
   "cell_type": "code",
   "execution_count": null,
   "metadata": {
    "tags": [
     "hide"
    ]
   },
   "outputs": [],
   "source": [
    "vshale(45, 40, 100)"
   ]
  },
  {
   "cell_type": "code",
   "execution_count": 2,
   "metadata": {
    "tags": [
     "hide"
    ]
   },
   "outputs": [
    {
     "ename": "NameError",
     "evalue": "name 'vshale' is not defined",
     "output_type": "error",
     "traceback": [
      "\u001b[0;31m---------------------------------------------------------------------------\u001b[0m",
      "\u001b[0;31mNameError\u001b[0m                                 Traceback (most recent call last)",
      "\u001b[0;32m/tmp/ipykernel_293713/3826726640.py\u001b[0m in \u001b[0;36m<module>\u001b[0;34m\u001b[0m\n\u001b[1;32m      1\u001b[0m \u001b[0mw\u001b[0m \u001b[0;34m=\u001b[0m \u001b[0mWell\u001b[0m\u001b[0;34m.\u001b[0m\u001b[0mfrom_las\u001b[0m\u001b[0;34m(\u001b[0m\u001b[0;34m'https://geocomp.s3.amazonaws.com/data/R-39.las'\u001b[0m\u001b[0;34m,\u001b[0m \u001b[0mindex\u001b[0m\u001b[0;34m=\u001b[0m\u001b[0;34m'original'\u001b[0m\u001b[0;34m)\u001b[0m\u001b[0;34m\u001b[0m\u001b[0;34m\u001b[0m\u001b[0m\n\u001b[1;32m      2\u001b[0m \u001b[0;34m\u001b[0m\u001b[0m\n\u001b[0;32m----> 3\u001b[0;31m \u001b[0mvsh\u001b[0m \u001b[0;34m=\u001b[0m \u001b[0mvshale\u001b[0m\u001b[0;34m(\u001b[0m\u001b[0mw\u001b[0m\u001b[0;34m.\u001b[0m\u001b[0mdata\u001b[0m\u001b[0;34m[\u001b[0m\u001b[0;34m'GR'\u001b[0m\u001b[0;34m]\u001b[0m\u001b[0;34m,\u001b[0m \u001b[0;36m40\u001b[0m\u001b[0;34m,\u001b[0m \u001b[0;36m100\u001b[0m\u001b[0;34m)\u001b[0m\u001b[0;34m\u001b[0m\u001b[0;34m\u001b[0m\u001b[0m\n\u001b[0m\u001b[1;32m      4\u001b[0m \u001b[0mdepth\u001b[0m \u001b[0;34m=\u001b[0m \u001b[0mw\u001b[0m\u001b[0;34m.\u001b[0m\u001b[0mdata\u001b[0m\u001b[0;34m[\u001b[0m\u001b[0;34m'GR'\u001b[0m\u001b[0;34m]\u001b[0m\u001b[0;34m.\u001b[0m\u001b[0mbasis\u001b[0m\u001b[0;34m\u001b[0m\u001b[0;34m\u001b[0m\u001b[0m\n\u001b[1;32m      5\u001b[0m \u001b[0;34m\u001b[0m\u001b[0m\n",
      "\u001b[0;31mNameError\u001b[0m: name 'vshale' is not defined"
     ]
    }
   ],
   "source": [
    "w = Well.from_las('https://geocomp.s3.amazonaws.com/data/R-39.las', index='original')\n",
    "\n",
    "vsh = vshale(w.data['GR'], 40, 100)\n",
    "depth = w.data['GR'].basis\n",
    "\n",
    "plt.figure(figsize=(2, 8))\n",
    "plt.plot(vsh[:200], depth[:200])\n",
    "plt.title('Vshale')\n",
    "plt.show()"
   ]
  },
  {
   "cell_type": "markdown",
   "metadata": {},
   "source": [
    "----\n",
    "\n",
    "## Confining pressure\n",
    "\n",
    "The confining pressure as a function of depth is given by:\n",
    "\n",
    "$$p_{c}\\left ( z \\right )=p_{0}+g\\int_{0}^{z}\\rho (z)dz$$\n",
    "\n",
    "where $\\rho_{z}$ is the density of the overlying rock at depth z, and g is the acceleration due to gravity, $9.81 m/s^{2}$, $p_{0}$ is the datum pressure, the pressure at the surface. Hint: calculate the $p_{0}$ to using by passing a constant density down to the top of the of shallowest log measurement. $$p_{0}=\\rho_{0}gz_{0}$$"
   ]
  },
  {
   "cell_type": "markdown",
   "metadata": {
    "tags": [
     "exercise"
    ]
   },
   "source": [
    "### Exercise\n",
    "\n",
    "- Write a function implementing the equation shown above.\n",
    "- Your function should work on scalars and on arrays or other sequences.\n",
    "- The function should take a optional keyword argument to return pressure in Pa (Pascals) or MPa (MegaPascals).\n",
    "- Write a docstring and tests for your function.\n",
    "- Apply your function to the `RHOB` log from the well `w`, and make a plot"
   ]
  },
  {
   "cell_type": "code",
   "execution_count": null,
   "metadata": {},
   "outputs": [],
   "source": [
    "def confining_pressure(rhob, rho0=2200.0, z0=0):\n",
    "\n",
    "    # Your code here!\n",
    "    \n",
    "    return pconf"
   ]
  },
  {
   "cell_type": "code",
   "execution_count": null,
   "metadata": {
    "tags": [
     "hide"
    ]
   },
   "outputs": [],
   "source": [
    "def confining_pressure(rhob, rho0=2200.0, z0=0):\n",
    "\n",
    "    # Your code here!\n",
    "    \n",
    "    return pconf"
   ]
  },
  {
   "cell_type": "markdown",
   "metadata": {},
   "source": [
    "<hr />\n",
    "\n",
    "<div>\n",
    "<img src=\"https://avatars1.githubusercontent.com/u/1692321?s=50\"><p style=\"text-align:center\">© Agile Geoscience 2018</p>\n",
    "</div>"
   ]
  }
 ],
 "metadata": {
  "anaconda-cloud": {},
  "kernelspec": {
   "display_name": "geocomp",
   "language": "python",
   "name": "geocomp"
  },
  "language_info": {
   "codemirror_mode": {
    "name": "ipython",
    "version": 3
   },
   "file_extension": ".py",
   "mimetype": "text/x-python",
   "name": "python",
   "nbconvert_exporter": "python",
   "pygments_lexer": "ipython3",
   "version": "3.9.7"
  }
 },
 "nbformat": 4,
 "nbformat_minor": 1
}
