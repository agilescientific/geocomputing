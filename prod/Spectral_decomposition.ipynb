{
 "cells": [
  {
   "cell_type": "markdown",
   "metadata": {},
   "source": [
    "# Spectral decomposition\n",
    "\n",
    "This uses `xarray` to help keep track of the various dimensions in this multi-dimensional problem."
   ]
  },
  {
   "cell_type": "code",
   "execution_count": null,
   "metadata": {},
   "outputs": [],
   "source": [
    "import matplotlib.pyplot as plt\n",
    "import numpy as np"
   ]
  },
  {
   "cell_type": "code",
   "execution_count": null,
   "metadata": {},
   "outputs": [],
   "source": [
    "import xarray as xr\n",
    "import segyio\n",
    "import numpy as np\n",
    "\n",
    "\n",
    "with segyio.open('../data/F3_16-bit_int.sgy') as s:\n",
    "    seismic = segyio.cube(s)\n",
    "        \n",
    "i, x, t = map(np.arange, seismic.shape)\n",
    "\n",
    "data = xr.DataArray(seismic,\n",
    "                    name='amplitude',\n",
    "                    coords=[i, x, t*0.004],\n",
    "                    dims=['inline', 'xline', 'twt'],\n",
    "                   )"
   ]
  },
  {
   "cell_type": "markdown",
   "metadata": {},
   "source": [
    "These axes are xline, inline, time."
   ]
  },
  {
   "cell_type": "code",
   "execution_count": null,
   "metadata": {},
   "outputs": [],
   "source": [
    "data[100].T.plot.imshow(origin='upper')"
   ]
  },
  {
   "cell_type": "markdown",
   "metadata": {},
   "source": [
    "## Do spectral decomposition\n",
    "\n",
    "We'll use scipy's `spectrogram` and put the result in an `xarray.DataArray()` for convenience.\n",
    "\n",
    "We can compute the entire spectrogram, a 4D hypercube. Then we can take whatever slices we want from there."
   ]
  },
  {
   "cell_type": "code",
   "execution_count": null,
   "metadata": {},
   "outputs": [],
   "source": [
    "import scipy.signal as ss\n",
    "\n",
    "fs = 250  # Hz\n",
    "window = 0.2  # seconds\n",
    "\n",
    "nperseg = int(fs * window)  # samples in window\n",
    "step = 1\n",
    "noverlap = nperseg - step\n",
    "\n",
    "# Entire cube uses too much memory.\n",
    "data_ = data[50:150, 600:]\n",
    "\n",
    "f, t, Sxx = ss.spectrogram(data_,\n",
    "                           fs=fs,\n",
    "                           nperseg=nperseg,\n",
    "                           noverlap=noverlap,\n",
    "                           axis=-1,\n",
    "                           scaling='spectrum',\n",
    "                           mode='magnitude',\n",
    "                          )\n",
    "\n",
    "i = np.arange(data_.shape[0]) + 50\n",
    "x = np.arange(data_.shape[1]) + 600\n",
    "\n",
    "sd = xr.DataArray(np.sqrt(Sxx),\n",
    "                  name='amplitude',\n",
    "                  coords=[i, x, f, t],\n",
    "                  dims=['inline', 'xline', 'freq', 'time']\n",
    "                 )"
   ]
  },
  {
   "cell_type": "code",
   "execution_count": null,
   "metadata": {},
   "outputs": [],
   "source": [
    "sd.shape"
   ]
  },
  {
   "cell_type": "code",
   "execution_count": null,
   "metadata": {},
   "outputs": [],
   "source": [
    "f"
   ]
  },
  {
   "cell_type": "markdown",
   "metadata": {},
   "source": [
    "The shape is xline, inline, frequency, time. There are only 26 frequency slices because of the length of the window and the 125 Hz Nyquist limit. The frequency samples are at intervals of 1 / `window` = 5 Hz. The first two are likely garbage (out of band) and so is anything above 0.8 * Nyquist = 100 Hz, typically (there's usually a hi-cut there in seismic acquisition, to reduce aliasing)."
   ]
  },
  {
   "cell_type": "code",
   "execution_count": null,
   "metadata": {},
   "outputs": [],
   "source": [
    "sd.coords"
   ]
  },
  {
   "cell_type": "code",
   "execution_count": null,
   "metadata": {},
   "outputs": [],
   "source": [
    "sd[50, 100].T.plot.imshow(origin='upper')"
   ]
  },
  {
   "cell_type": "markdown",
   "metadata": {},
   "source": [
    "This is a time-frequency 'spectrogram' of 1 trace, but this is not usually what you want."
   ]
  },
  {
   "cell_type": "markdown",
   "metadata": {},
   "source": [
    "## RGB display\n",
    "\n",
    "Make a 3-channel cube for 3 frequencies (and move freq 'channels' to last axis).\n",
    "\n",
    "This is really nice becase `xarray` will do the interpolation for us. So even if the window was a weird length and the frequency samples were not whole numbers, `xarray` can do the interpolation for us. Cool!"
   ]
  },
  {
   "cell_type": "code",
   "execution_count": null,
   "metadata": {},
   "outputs": [],
   "source": [
    "rgb_ = sd.interp(freq=[10, 20, 40]).transpose(..., 'freq')"
   ]
  },
  {
   "cell_type": "code",
   "execution_count": null,
   "metadata": {},
   "outputs": [],
   "source": [
    "rgb_.shape"
   ]
  },
  {
   "cell_type": "markdown",
   "metadata": {},
   "source": [
    "Normalize:"
   ]
  },
  {
   "cell_type": "code",
   "execution_count": null,
   "metadata": {},
   "outputs": [],
   "source": [
    "rgb = (rgb_ - rgb_.min()) / (rgb_.max() - rgb_.min())"
   ]
  },
  {
   "cell_type": "markdown",
   "metadata": {},
   "source": [
    "And `xarray` uses `imshow` to plot a 3D array as RGB:"
   ]
  },
  {
   "cell_type": "code",
   "execution_count": null,
   "metadata": {},
   "outputs": [],
   "source": [
    "rgb.sel(time=0.5).plot.imshow()"
   ]
  },
  {
   "cell_type": "markdown",
   "metadata": {
    "tags": [
     "exercise"
    ]
   },
   "source": [
    "### EXERCISE\n",
    "\n",
    "Can you make a plot showing a line through the seismic on the left and the same line through the RGB cube on the right?"
   ]
  },
  {
   "cell_type": "code",
   "execution_count": null,
   "metadata": {},
   "outputs": [],
   "source": []
  },
  {
   "cell_type": "code",
   "execution_count": null,
   "metadata": {
    "tags": [
     "hide"
    ]
   },
   "outputs": [],
   "source": [
    "fig, (ax0, ax1) = plt.subplots(ncols=2, figsize=(15,6), sharey=True)\n",
    "\n",
    "L = 50\n",
    "data_.sel(inline=L).T.plot.imshow(ax=ax0, origin='upper')\n",
    "rgb.sel(inline=L).T.plot.imshow(ax=ax1, origin='upper')"
   ]
  },
  {
   "cell_type": "markdown",
   "metadata": {},
   "source": [
    "It's probably going to be a good idea to do a whitening step (per trace normalization, basically)."
   ]
  },
  {
   "cell_type": "markdown",
   "metadata": {},
   "source": [
    "## Tuning cubes\n",
    "\n",
    "Alternatively, we can get an entire cube at a particular frequency, again using `xarray`'s interpolation."
   ]
  },
  {
   "cell_type": "code",
   "execution_count": null,
   "metadata": {},
   "outputs": [],
   "source": [
    "tc_40Hz = sd.interp(freq=40)\n",
    "tc_40Hz.shape"
   ]
  },
  {
   "cell_type": "code",
   "execution_count": null,
   "metadata": {},
   "outputs": [],
   "source": [
    "import matplotlib.pyplot as plt\n",
    "\n",
    "fig, (ax0, ax1) = plt.subplots(ncols=2, figsize=(15,6), sharey=True)\n",
    "\n",
    "data_[5].T.plot.imshow(ax=ax0, origin='upper')\n",
    "tc_40Hz[5].T.plot.imshow(ax=ax1, origin='upper')"
   ]
  },
  {
   "cell_type": "markdown",
   "metadata": {},
   "source": [
    "---\n",
    "\n",
    "© 2021 Agile Scientific"
   ]
  }
 ],
 "metadata": {
  "celltoolbar": "Tags",
  "kernelspec": {
   "display_name": "geoph",
   "language": "python",
   "name": "geoph"
  },
  "language_info": {
   "codemirror_mode": {
    "name": "ipython",
    "version": 3
   },
   "file_extension": ".py",
   "mimetype": "text/x-python",
   "name": "python",
   "nbconvert_exporter": "python",
   "pygments_lexer": "ipython3",
   "version": "3.9.7"
  }
 },
 "nbformat": 4,
 "nbformat_minor": 2
}
