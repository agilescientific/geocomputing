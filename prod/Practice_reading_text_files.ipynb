{
 "cells": [
  {
   "cell_type": "markdown",
   "metadata": {},
   "source": [
    "# Practice reading text files\n",
    "\n",
    "Be sure to look at [Intro_to_reading_text_files.ipynb](Intro_to_reading_text_files.ipynb) before coming in here.\n",
    "\n",
    "---"
   ]
  },
  {
   "cell_type": "markdown",
   "metadata": {},
   "source": [
    "The data for these exercises were generated from the following USGS dataset: https://pubs.usgs.gov/dds/dds-033/USGS_3D/ssx_txt/3dstart.htm"
   ]
  },
  {
   "cell_type": "markdown",
   "metadata": {
    "tags": [
     "hide"
    ]
   },
   "source": [
    "#### Note to instructors\n",
    "\n",
    "The 55 files are of two types:\n",
    "\n",
    "- Filenames starting `UWI_`, which have `#` as comments and `','` as the delimiter.\n",
    "- Filenames without `UWI_`, which have `%` as the comment character and are TAB-delimited.\n",
    "\n",
    "For both types:\n",
    "\n",
    "- Units can be in feet or metres. (Coordinates are always in metres.)\n",
    "- Formation names can be in order or not.\n",
    "- If a file's units are `M`, then the porosities are v/votherwise they are percent. "
   ]
  },
  {
   "cell_type": "markdown",
   "metadata": {
    "tags": [
     "exercise"
    ]
   },
   "source": [
    "### EXERCISE\n",
    "\n",
    "- Write a loop to visit all the lines of the given file.\n",
    "- Ignore the lines that start with a comment character (`#` in this file). <a title=\"The string method startswith() will be useful, and you can 'ignore' lines with the keyword continue\">**HINT**</a>\n",
    "- Print the lines that contain formation tops. <a title=\"That is, the lines you don't skip.\">**HINT**</a>\n",
    "- When you get to the `# Porosity` section, stop reading the file. <a title=\"Use break to end the loop.\">**HINT**</a>"
   ]
  },
  {
   "cell_type": "code",
   "execution_count": 1,
   "metadata": {},
   "outputs": [
    {
     "name": "stdout",
     "output_type": "stream",
     "text": [
      "# LOC: 38190.00 M,-32884.00 M\n",
      "# KB: 1577.34 M\n",
      "# TD: 3419.86 M\n",
      "# UNITS: M\n",
      "# Formations\n",
      "Ardmore,2510.03\n",
      "Cody,2521.61\n",
      "Sussex Upper Top,2521.61\n",
      "Sussex Lower Top,2527.71\n",
      "Sussex Lower Base,2528.62\n",
      "Sussex Upper Base,2529.54\n",
      "Niobrara,2530.75\n",
      "# Porosity\n",
      "2521.31,0.184\n",
      "2521.92,0.219\n",
      "2522.52,0.145\n",
      "2523.13,0.150\n",
      "2523.74,0.135\n",
      "2524.35,0.125\n",
      "2524.96,0.140\n",
      "2525.57,0.155\n",
      "2526.18,0.155\n",
      "2526.79,0.140\n",
      "2527.40,0.160\n",
      "2528.01,0.125\n",
      "2528.62,0.106\n",
      "2529.23,0.057\n",
      "2529.84,0.087\n",
      "2530.45,0.067\n",
      "2531.06,0.087\n",
      "2531.67,0.096\n"
     ]
    }
   ],
   "source": [
    "fname = '../data/sussex/UWI_4900523013.tops'\n",
    "\n",
    "with open(fname, 'rt') as f:\n",
    "    for line in f:\n",
    "        \n",
    "        # YOUR CODE HERE\n",
    "\n",
    "        print(line, end='')"
   ]
  },
  {
   "cell_type": "code",
   "execution_count": 2,
   "metadata": {
    "tags": [
     "hide"
    ]
   },
   "outputs": [
    {
     "name": "stdout",
     "output_type": "stream",
     "text": [
      "Ardmore,2510.03\n",
      "Cody,2521.61\n",
      "Sussex Upper Top,2521.61\n",
      "Sussex Lower Top,2527.71\n",
      "Sussex Lower Base,2528.62\n",
      "Sussex Upper Base,2529.54\n",
      "Niobrara,2530.75\n"
     ]
    }
   ],
   "source": [
    "with open(fname, 'rt') as f:\n",
    "    for line in f:\n",
    "        if line.startswith('# Por'):\n",
    "            break\n",
    "        elif line.startswith('#'):\n",
    "            continue\n",
    "        print(line, end='')"
   ]
  },
  {
   "cell_type": "markdown",
   "metadata": {
    "tags": [
     "exercise"
    ]
   },
   "source": [
    "### EXERCISE\n",
    "\n",
    "- Add to your code so that it creates an empty dictionary, then inside the loop you should add a `name: depth` pair for each of the formations listed. <a title=\"Split the line with the string method split(), passing in the delimeter character.\">**HINT**</a>\n",
    "- If you are adding depths as strings, convert them to floating point numbers before adding to the dictionary."
   ]
  },
  {
   "cell_type": "code",
   "execution_count": 3,
   "metadata": {},
   "outputs": [
    {
     "ename": "IndentationError",
     "evalue": "expected an indented block (<ipython-input-3-73e4cd103c41>, line 14)",
     "output_type": "error",
     "traceback": [
      "\u001b[0;36m  File \u001b[0;32m\"<ipython-input-3-73e4cd103c41>\"\u001b[0;36m, line \u001b[0;32m14\u001b[0m\n\u001b[0;31m    tops\u001b[0m\n\u001b[0m    ^\u001b[0m\n\u001b[0;31mIndentationError\u001b[0m\u001b[0;31m:\u001b[0m expected an indented block\n"
     ]
    }
   ],
   "source": [
    "with open(fname, 'rt') as f:\n",
    "    \n",
    "    # Instantiate the new dictionary here (1 line).\n",
    "    \n",
    "    # ----- end ------\n",
    "    \n",
    "    # YOUR PREVIOUS CODE\n",
    "\n",
    "    # Split the line and add to the dictionary here (2 or 3 lines).\n",
    "    \n",
    "    \n",
    "    # ----- end ------\n",
    "            \n",
    "tops"
   ]
  },
  {
   "cell_type": "code",
   "execution_count": 4,
   "metadata": {
    "tags": [
     "hide"
    ]
   },
   "outputs": [
    {
     "data": {
      "text/plain": [
       "{'Ardmore': 2510.03,\n",
       " 'Cody': 2521.61,\n",
       " 'Sussex Upper Top': 2521.61,\n",
       " 'Sussex Lower Top': 2527.71,\n",
       " 'Sussex Lower Base': 2528.62,\n",
       " 'Sussex Upper Base': 2529.54,\n",
       " 'Niobrara': 2530.75}"
      ]
     },
     "execution_count": 4,
     "metadata": {},
     "output_type": "execute_result"
    }
   ],
   "source": [
    "tops = {}    \n",
    "with open(fname, 'rt') as f:\n",
    "    for line in f:\n",
    "        if line.startswith('# Por'):\n",
    "            break\n",
    "        elif line.startswith('#'):\n",
    "            continue\n",
    "        top, depth = line.split(',')\n",
    "        tops[top] = float(depth)\n",
    "tops"
   ]
  },
  {
   "cell_type": "markdown",
   "metadata": {
    "tags": [
     "exercise"
    ]
   },
   "source": [
    "### EXERCISE\n",
    "\n",
    "Turn this code into a function called `read_tops()`.\n",
    "\n",
    "Make sure everything, including the file reading, is handled by your function. Don't forget the docstring!"
   ]
  },
  {
   "cell_type": "code",
   "execution_count": 5,
   "metadata": {},
   "outputs": [],
   "source": [
    "# YOUR CODE HERE\n",
    "    \n"
   ]
  },
  {
   "cell_type": "code",
   "execution_count": 6,
   "metadata": {
    "tags": [
     "hide"
    ]
   },
   "outputs": [],
   "source": [
    "def read_tops(fname):\n",
    "    \"\"\"\n",
    "    Read a TOPS file and produce a dictionary of formation:depth pairs.\n",
    "    \"\"\"\n",
    "    tops = {}    \n",
    "    with open(fname, 'rt') as f:\n",
    "        for line in f:\n",
    "            if line.startswith('# Por'):\n",
    "                break\n",
    "            elif line.startswith('#'):\n",
    "                continue\n",
    "            top, depth = line.split(',')\n",
    "            tops[top] = float(depth)\n",
    "    return tops"
   ]
  },
  {
   "cell_type": "markdown",
   "metadata": {},
   "source": [
    "The following code block should work:"
   ]
  },
  {
   "cell_type": "code",
   "execution_count": 7,
   "metadata": {},
   "outputs": [
    {
     "data": {
      "text/plain": [
       "{'Ardmore': 2510.03,\n",
       " 'Cody': 2521.61,\n",
       " 'Sussex Upper Top': 2521.61,\n",
       " 'Sussex Lower Top': 2527.71,\n",
       " 'Sussex Lower Base': 2528.62,\n",
       " 'Sussex Upper Base': 2529.54,\n",
       " 'Niobrara': 2530.75}"
      ]
     },
     "execution_count": 7,
     "metadata": {},
     "output_type": "execute_result"
    }
   ],
   "source": [
    "fname = '../data/sussex/UWI_4900523013.tops'\n",
    "\n",
    "tops = read_tops(fname)\n",
    "tops"
   ]
  },
  {
   "cell_type": "markdown",
   "metadata": {
    "tags": [
     "exercise"
    ]
   },
   "source": [
    "### EXERCISE\n",
    "\n",
    "Make a plot of the tops using `ax.axhline()` to add lines and `ax.text()` to add labels."
   ]
  },
  {
   "cell_type": "code",
   "execution_count": 8,
   "metadata": {},
   "outputs": [],
   "source": [
    "import matplotlib.pyplot as plt\n",
    "\n",
    "# YOUR CODE HERE\n",
    "\n"
   ]
  },
  {
   "cell_type": "code",
   "execution_count": 9,
   "metadata": {
    "tags": [
     "hide"
    ]
   },
   "outputs": [
    {
     "data": {
      "image/png": "[encoded data removed]",
      "text/plain": [
       "<Figure size 288x576 with 1 Axes>"
      ]
     },
     "metadata": {
      "needs_background": "light"
     },
     "output_type": "display_data"
    }
   ],
   "source": [
    "import matplotlib.pyplot as plt\n",
    "\n",
    "fig, ax = plt.subplots(figsize=(4, 8))\n",
    "\n",
    "for name, depth in tops.items():\n",
    "    ax.axhline(depth)\n",
    "    ax.text(0.05, depth, name, va='bottom')\n",
    "    ax.set_ylim(2535, 2505)    \n",
    "    ax.set_xticks([])"
   ]
  },
  {
   "cell_type": "code",
   "execution_count": 13,
   "metadata": {
    "tags": [
     "hide"
    ]
   },
   "outputs": [
    {
     "data": {
      "image/png": "[encoded data removed]",
      "text/plain": [
       "<Figure size 108x432 with 1 Axes>"
      ]
     },
     "metadata": {
      "needs_background": "light"
     },
     "output_type": "display_data"
    }
   ],
   "source": [
    "# Coming in striplog 0.8.8\n",
    "from striplog import Striplog\n",
    "\n",
    "s = Striplog.from_dict(tops)\n",
    "\n",
    "s.plot(label='formation', aspect=4)"
   ]
  },
  {
   "cell_type": "markdown",
   "metadata": {
    "tags": [
     "exercise"
    ]
   },
   "source": [
    "### EXERCISE\n",
    "\n",
    "When the function works on `../data/sussex/UWI_4900523013.tops`, use your function to read `UWI_4900523863.tops`. Notice that the depths seem a lot deeper than the previous file. Why do you think this is?\n",
    "\n",
    "- Adapt your function so that it reads the units.\n",
    "- If the units are `'FT'`, then you will have to multiply the depths by 0.3048.\n",
    "- If you encounter the depth -999.25, either skip the record or replace `-999.25` with `np.nan`."
   ]
  },
  {
   "cell_type": "code",
   "execution_count": null,
   "metadata": {},
   "outputs": [],
   "source": [
    "# YOUR CODE HERE\n",
    "# Start by copying and pasting the function from the previous exercise.\n",
    "\n"
   ]
  },
  {
   "cell_type": "code",
   "execution_count": null,
   "metadata": {
    "tags": [
     "hide"
    ]
   },
   "outputs": [],
   "source": [
    "def read_tops(fname):\n",
    "    \"\"\"\n",
    "    Read a TOPS file and produce a dictionary of formation:depth pairs.\n",
    "    \"\"\"\n",
    "    tops = {}    \n",
    "    with open(fname, 'rt') as f:\n",
    "        for line in f:\n",
    "            if line.startswith('# Por'):\n",
    "                break\n",
    "                \n",
    "            # NEW BIT\n",
    "            elif line.startswith('# UNITS:'):\n",
    "                units = line[line.find(':')+1:].strip().upper()\n",
    "                mult = 1 if units == 'M' else 0.3048\n",
    "                continue\n",
    "            # ----- end -----\n",
    "\n",
    "            elif line.startswith('#'):\n",
    "                continue\n",
    "\n",
    "            top, depth = line.split(',')\n",
    "            \n",
    "            # NEW BIT\n",
    "            if depth.strip() == '-999.25':\n",
    "                continue\n",
    "            # ----- end -----\n",
    "            \n",
    "            tops[top] = mult * float(depth)  # <-- put the muliplier here\n",
    "\n",
    "    return tops"
   ]
  },
  {
   "cell_type": "code",
   "execution_count": null,
   "metadata": {},
   "outputs": [],
   "source": [
    "read_tops(fname)"
   ]
  },
  {
   "cell_type": "code",
   "execution_count": null,
   "metadata": {},
   "outputs": [],
   "source": [
    "read_tops('../data/sussex/UWI_4900523863.tops')\n",
    "\n",
    "# This should not contain tops for Sussex Lower, and values should be around 2450."
   ]
  },
  {
   "cell_type": "markdown",
   "metadata": {
    "tags": [
     "exercise"
    ]
   },
   "source": [
    "### EXERCISE\n",
    "\n",
    "As well as the tops dictionary, get your function to hand back the (x, y) location of the well.\n",
    "\n",
    "Remember you have the `clean_quantity()` code from `Intro_to_Python` (it might even be in your `utils.py` module). We can use it here:"
   ]
  },
  {
   "cell_type": "code",
   "execution_count": null,
   "metadata": {},
   "outputs": [],
   "source": [
    "# YOUR CODE HERE\n",
    "\n"
   ]
  },
  {
   "cell_type": "code",
   "execution_count": null,
   "metadata": {
    "tags": [
     "hide"
    ]
   },
   "outputs": [],
   "source": [
    "def clean_quantity(quantity):\n",
    "    \"\"\"Clean the units from a number.\"\"\"\n",
    "    if 'm' in quantity.lower():\n",
    "        units = 'M'\n",
    "    elif 'f' in quantity.lower():\n",
    "        units = 'FT'\n",
    "    else:\n",
    "        units = None\n",
    "\n",
    "    stripped = quantity.lower().strip(' .mft\\n\\t')\n",
    "    value = stripped.replace(',', '')\n",
    "\n",
    "    return float(value), units\n",
    "\n",
    "\n",
    "def read_tops(fname):\n",
    "    \"\"\"\n",
    "    Read a TOPS file and produce a dictionary of formation:depth pairs.\n",
    "    \"\"\"\n",
    "    tops = {}    \n",
    "    with open(fname, 'rt') as f:\n",
    "        for line in f:\n",
    "            if line.startswith('# Por'):\n",
    "                break\n",
    "                \n",
    "            # NEW BIT\n",
    "            elif line.startswith('# LOC:'):\n",
    "                _, data = line.split(':')\n",
    "                x, y = data.split(',')\n",
    "                x, loc_units = clean_quantity(x)\n",
    "                y, _ = clean_quantity(y)\n",
    "                assert loc_units == 'M'  # <-- sensible\n",
    "                continue\n",
    "            # ----- end -----\n",
    "\n",
    "            elif line.startswith('# UNITS:'):\n",
    "                units = line[line.find(':')+1:].strip().upper()\n",
    "                mult = 1 if units == 'M' else 0.3048\n",
    "                continue\n",
    "\n",
    "            elif line.startswith('#'):\n",
    "                continue\n",
    "\n",
    "            top, depth = line.split(',')\n",
    "            \n",
    "            if depth.strip() == '-999.25':\n",
    "                continue\n",
    "            \n",
    "            tops[top] = mult * float(depth)  # <-- put the muliplier here\n",
    "\n",
    "    return (x, y), tops"
   ]
  },
  {
   "cell_type": "code",
   "execution_count": null,
   "metadata": {},
   "outputs": [],
   "source": [
    "read_tops('../data/sussex/UWI_4900523863.tops')"
   ]
  },
  {
   "cell_type": "markdown",
   "metadata": {
    "tags": [
     "exercise"
    ]
   },
   "source": [
    "### EXERCISE\n",
    "\n",
    "1. Use `glob.glob` to count the TOPS files in `../data/sussex` whose name starts with `UWI_`. You should find there are 30 files.\n",
    "1. Now write a function that takes the POSIX-path you just wrote and retrieves the (x, y) location and tops dictionary for each file.\n",
    "1. Store the result for each file in a new dictionary, and store all the results in either one big dict, or in a list of dicts (in which case you'll want the UWI of the well in the inner dictionary).\n",
    "\n",
    "You'll find this useful:"
   ]
  },
  {
   "cell_type": "code",
   "execution_count": null,
   "metadata": {},
   "outputs": [],
   "source": [
    "from os.path import basename, splitext\n",
    "\n",
    "fname = '../data/sussex/UWI_4900523863.tops'\n",
    "\n",
    "# Break up the filename:\n",
    "uwi, _ = splitext(basename(fname))\n",
    "uwi[4:]\n",
    "\n",
    "# NB Python 3.9 has uwi.removeprefix('UWI_'), which is safer than the slicing I do here:"
   ]
  },
  {
   "cell_type": "code",
   "execution_count": null,
   "metadata": {},
   "outputs": [],
   "source": [
    "# YOUR CODE HERE\n",
    "\n"
   ]
  },
  {
   "cell_type": "code",
   "execution_count": null,
   "metadata": {
    "tags": [
     "hide"
    ]
   },
   "outputs": [],
   "source": [
    "import glob\n",
    "\n",
    "len(glob.glob('../data/sussex/UWI_*.tops'))"
   ]
  },
  {
   "cell_type": "code",
   "execution_count": null,
   "metadata": {
    "tags": [
     "hide"
    ]
   },
   "outputs": [],
   "source": [
    "def read_all_tops(path):\n",
    "    \"\"\"\n",
    "    Use read_tops to visit each file in a POSIX-path, producing a dict of data from\n",
    "    all files, with \n",
    "    \"\"\"\n",
    "    results = {}\n",
    "    for fname in glob.glob(path):\n",
    "        (x, y), tops = read_tops(fname)\n",
    "        uwi, _ = splitext(basename(fname))\n",
    "        results[int(uwi[4:])] = {'pos': (x, y), 'tops': tops}  # Could also store x and y as separate keys.\n",
    "    return results\n",
    "\n",
    "all_tops = read_all_tops('../data/sussex/UWI_*.tops')\n",
    "all_tops"
   ]
  },
  {
   "cell_type": "markdown",
   "metadata": {
    "tags": [
     "hide"
    ]
   },
   "source": [
    "### Instructor notes\n",
    "\n",
    "There are two obvious datastructures:\n",
    "\n",
    "    [\n",
    "     {'uwi': 123, 'pos': (201, 302), 'tops': {'A': 333, 'B': 444, 'C': 555}},\n",
    "     {'uwi': 234, 'pos': (203, 304), 'tops': {'A': 303, 'B': 404, 'C': 505}},\n",
    "    ]\n",
    "    \n",
    "_vs_\n",
    "\n",
    "    {\n",
    "     123: {'pos': (201, 302), 'tops': {'A': 333, 'B': 444, 'C': 555}},\n",
    "     234: {'pos': (203, 304), 'tops': {'A': 303, 'B': 404, 'C': 505}},\n",
    "    }\n",
    "    \n",
    "The former style is fairly common as a JSON payload from a web API. One might throw these dictionaries straight into a database or something. But it's hard to retrieve a specific well in that case. Ultimately, how you want to use the thing is the guide to how to do it."
   ]
  },
  {
   "cell_type": "markdown",
   "metadata": {
    "tags": [
     "exercise"
    ]
   },
   "source": [
    "### EXERCISE\n",
    "\n",
    "Make a scatter plot of the **Sussex Upper Top**.\n",
    "\n",
    "We have to essentially transpose the data, because right now it's stored per well (which you can think of as rows in a table), whereas we want a 'column' of data. This means visiting all the 'rows' and retrieving the data we want.\n",
    "\n",
    "You can use a loop, or write list comprehensions."
   ]
  },
  {
   "cell_type": "code",
   "execution_count": null,
   "metadata": {},
   "outputs": [],
   "source": [
    "import matplotlib.pyplot as plt\n",
    "\n",
    "# YOUR CODE HERE\n",
    "x = \n",
    "y = \n",
    "z = \n",
    "\n",
    "plt.figure(figsize=(6, 9))\n",
    "plt.scatter(x, y, c=z)\n",
    "plt.axis('equal')"
   ]
  },
  {
   "cell_type": "code",
   "execution_count": null,
   "metadata": {
    "tags": [
     "hide"
    ]
   },
   "outputs": [],
   "source": [
    "import matplotlib.pyplot as plt\n",
    "\n",
    "x = [data['pos'][0] for data in all_tops.values()]\n",
    "y = [data['pos'][1] for data in all_tops.values()]\n",
    "z = [data['tops']['Sussex Upper Top'] for data in all_tops.values()]\n",
    "\n",
    "plt.figure(figsize=(6, 9))\n",
    "plt.scatter(x, y, c=z)\n",
    "plt.axis('equal')"
   ]
  },
  {
   "cell_type": "code",
   "execution_count": null,
   "metadata": {
    "tags": [
     "hide"
    ]
   },
   "outputs": [],
   "source": [
    "# Another approach, avoiding traversing the list another time:\n",
    "xy = [data['pos'] for data in all_tops.values()]\n",
    "plt.scatter(*zip(*xy), c=z)"
   ]
  },
  {
   "cell_type": "markdown",
   "metadata": {
    "tags": [
     "exercise"
    ]
   },
   "source": [
    "## Query\n",
    "\n",
    "Fetch the x, y, and Niobrara depth of the wells with top Nibrara deeper than 2500 m?"
   ]
  },
  {
   "cell_type": "code",
   "execution_count": null,
   "metadata": {},
   "outputs": [],
   "source": [
    "# YOUR CODE HERE\n"
   ]
  },
  {
   "cell_type": "code",
   "execution_count": null,
   "metadata": {
    "tags": [
     "hide"
    ]
   },
   "outputs": [],
   "source": [
    "# Build this up.\n",
    "# Doesn't really matter what we return, I chose a tuple here to match the SQL example later.\n",
    "[data['pos']+(data['tops']['Niobrara'],) for data in all_tops.values() if data['tops']['Niobrara'] > 2500]"
   ]
  },
  {
   "cell_type": "markdown",
   "metadata": {},
   "source": [
    "---\n",
    "\n",
    "## Make a map!\n",
    "\n",
    "Let's interpolate these points to make a map..."
   ]
  },
  {
   "cell_type": "code",
   "execution_count": null,
   "metadata": {},
   "outputs": [],
   "source": [
    "from scipy.interpolate import Rbf\n",
    "import numpy as np\n",
    "\n",
    "interpolator = Rbf(x, y, z, epsilon=2500)\n",
    "\n",
    "# Note the x, y switch, because mgrid works like rows, columns.\n",
    "grid_y, grid_x = np.mgrid[-35000:-25000:100, 35000:43000:100]\n",
    "\n",
    "z_hat = interpolator(grid_x, grid_y)\n",
    "\n",
    "plt.figure(figsize=(6, 9))\n",
    "plt.imshow(z_hat, extent=[35000, 43000, -35000, -25000], origin='lower', aspect='auto', vmin=2400, vmax=2600)\n",
    "plt.scatter(x, y, c=z, s=60, vmin=2400, vmax=2600, ec='w')\n",
    "plt.colorbar()"
   ]
  },
  {
   "cell_type": "markdown",
   "metadata": {},
   "source": [
    "---\n",
    "\n",
    "## Sneak peek at `pandas`\n",
    "\n",
    "If we stored the data in a `pandas.DataFrame`, this would be a little easier. The catch is that getting it into `pandas` may or may not be an enjoyable experience, depending on the organization of the data to start with."
   ]
  },
  {
   "cell_type": "code",
   "execution_count": null,
   "metadata": {},
   "outputs": [],
   "source": [
    "import pandas as pd\n",
    "\n",
    "df = pd.DataFrame.from_dict(all_tops).transpose()\n",
    "df.head()"
   ]
  },
  {
   "cell_type": "code",
   "execution_count": null,
   "metadata": {},
   "outputs": [],
   "source": []
  },
  {
   "cell_type": "code",
   "execution_count": null,
   "metadata": {
    "tags": [
     "hide"
    ]
   },
   "outputs": [],
   "source": [
    "# Build this up\n",
    "pd.DataFrame(df.pos.to_list(), columns=['x', 'y'], index=df.index)"
   ]
  },
  {
   "cell_type": "code",
   "execution_count": null,
   "metadata": {
    "tags": [
     "hide"
    ]
   },
   "outputs": [],
   "source": [
    "tables = [df.drop(['pos', 'tops'], axis=1), \n",
    "          pd.DataFrame(df.pos.to_list(), columns=['x', 'y'], index=df.index),\n",
    "          df.tops.apply(pd.Series),\n",
    "         ]\n",
    "\n",
    "df = pd.concat(tables, axis=1)"
   ]
  },
  {
   "cell_type": "code",
   "execution_count": null,
   "metadata": {
    "tags": [
     "hide"
    ]
   },
   "outputs": [],
   "source": [
    "plt.figure(figsize=(6, 9))\n",
    "plt.scatter(df.x, df.y, c=df['Sussex Upper Top'])\n",
    "plt.axis('equal')"
   ]
  },
  {
   "cell_type": "markdown",
   "metadata": {},
   "source": [
    "---\n",
    "\n",
    "## Demo: Using SQLite\n",
    "\n",
    "See _Writing to files and databases_ for more on SQLite."
   ]
  },
  {
   "cell_type": "code",
   "execution_count": null,
   "metadata": {},
   "outputs": [],
   "source": [
    "# Run this if you need to nuke the database:\n",
    "!rm ./tops.db"
   ]
  },
  {
   "cell_type": "markdown",
   "metadata": {},
   "source": [
    "Build the tables:"
   ]
  },
  {
   "cell_type": "code",
   "execution_count": null,
   "metadata": {},
   "outputs": [],
   "source": [
    "import sqlite3\n",
    "\n",
    "con = sqlite3.connect('tops.db')\n",
    "\n",
    "with con:\n",
    "    \n",
    "    cur = con.cursor()\n",
    "    cur.execute(\"CREATE TABLE wells([uwi] INT PRIMARY KEY, [x] DECIMAL, [y] DECIMAL)\")\n",
    "    cur.execute(\"CREATE TABLE strat([uwi] INT, [formation] TEXT, [depth] DECIMAL)\")\n",
    "    "
   ]
  },
  {
   "cell_type": "markdown",
   "metadata": {},
   "source": [
    "Populate with data from `all_tops`:"
   ]
  },
  {
   "cell_type": "code",
   "execution_count": null,
   "metadata": {},
   "outputs": [],
   "source": [
    "with con:\n",
    "    for uwi, data in all_tops.items():\n",
    "        cur.execute(f\"INSERT INTO wells VALUES({uwi},{data['pos'][0]},{data['pos'][1]})\")\n",
    "        for name, depth in data['tops'].items():\n",
    "            cur.execute(f\"INSERT INTO strat VALUES({uwi},'{name}',{depth})\")"
   ]
  },
  {
   "cell_type": "markdown",
   "metadata": {},
   "source": [
    "An example query:"
   ]
  },
  {
   "cell_type": "code",
   "execution_count": null,
   "metadata": {},
   "outputs": [],
   "source": [
    "con = sqlite3.connect('tops.db')\n",
    "\n",
    "with con:    \n",
    "    \n",
    "    cur = con.cursor()    \n",
    "    cur.execute(\"\"\"\n",
    "       SELECT wells.x, wells.y, strat.depth \n",
    "       FROM wells INNER JOIN strat \n",
    "       ON wells.uwi = strat.uwi\n",
    "       WHERE strat.formation IS 'Niobrara' AND strat.depth > 2500\n",
    "    \"\"\")\n",
    "\n",
    "    rows = cur.fetchall()  # Can also fetchone\n",
    "\n",
    "for row in rows:\n",
    "    print(row)"
   ]
  },
  {
   "cell_type": "markdown",
   "metadata": {},
   "source": [
    "---\n",
    "\n",
    "# Intro to Python students stop here\n",
    "\n",
    "---\n",
    "\n",
    "What follows are more exercises, left as challenges to the student:"
   ]
  },
  {
   "cell_type": "markdown",
   "metadata": {
    "tags": [
     "exercise"
    ]
   },
   "source": [
    "### EXERCISE\n",
    "\n",
    "Try reading the files without `UWI_` in the filename.\n",
    "\n",
    "- You will need to let the user choose different 'comment' characters, or try to auto-detect it if you dare!\n",
    "- You will also need to allow for different delimiters, other than a comma. Again as an option or with magic.\n",
    "- You might want to handle the null values differently.\n",
    "- Maybe print some 'progress logging' as you go, so the user knows what's going on. If you want, dig into the `logging` or `warnings` modules built in to Python."
   ]
  },
  {
   "cell_type": "markdown",
   "metadata": {
    "tags": [
     "exercise"
    ]
   },
   "source": [
    "### EXERCISE\n",
    "\n",
    "Retrieve the porosity values from the files, storing them as another dictionary of depth:porosity pairs.\n",
    "\n",
    "- Notice that files with Imperial units have different units for the porosities as well. Dammit.\n",
    "- Write a function to compute the mean porosity in a given unit from the data you generated.\n",
    "- Make a map of porosity in a given zone, labeling the map with the zone name and its mean porosity."
   ]
  },
  {
   "cell_type": "markdown",
   "metadata": {},
   "source": [
    "---\n",
    "\n",
    "&copy; 2020 Agile Scientific"
   ]
  }
 ],
 "metadata": {
  "celltoolbar": "Tags",
  "kernelspec": {
   "display_name": "geocomp",
   "language": "python",
   "name": "geocomp"
  },
  "language_info": {
   "codemirror_mode": {
    "name": "ipython",
    "version": 3
   },
   "file_extension": ".py",
   "mimetype": "text/x-python",
   "name": "python",
   "nbconvert_exporter": "python",
   "pygments_lexer": "ipython3",
   "version": "3.9.7"
  }
 },
 "nbformat": 4,
 "nbformat_minor": 1
}
