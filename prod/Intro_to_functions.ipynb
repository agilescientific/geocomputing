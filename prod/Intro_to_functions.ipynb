{
 "cells": [
  {
   "cell_type": "markdown",
   "metadata": {},
   "source": [
    "# An introduction to functions\n",
    "\n",
    "Functions are the building blocks of most programs. Without functions, we would often have to repeat ourselves. They look like this:"
   ]
  },
  {
   "cell_type": "code",
   "execution_count": null,
   "metadata": {},
   "outputs": [],
   "source": []
  },
  {
   "cell_type": "code",
   "execution_count": 2,
   "metadata": {
    "tags": [
     "hide"
    ]
   },
   "outputs": [
    {
     "data": {
      "text/plain": [
       "72"
      ]
     },
     "execution_count": 2,
     "metadata": {},
     "output_type": "execute_result"
    }
   ],
   "source": [
    "sum([23, 24, 25])"
   ]
  },
  {
   "cell_type": "code",
   "execution_count": 3,
   "metadata": {
    "tags": [
     "hide"
    ]
   },
   "outputs": [],
   "source": [
    "def add(a, b):\n",
    "    \"\"\"Adds two numbers!\"\"\"\n",
    "    result = a + b\n",
    "    return result"
   ]
  },
  {
   "cell_type": "markdown",
   "metadata": {
    "tags": [
     "hide"
    ]
   },
   "source": [
    "We can 'call' (use) this function:"
   ]
  },
  {
   "cell_type": "code",
   "execution_count": 4,
   "metadata": {
    "tags": [
     "hide"
    ]
   },
   "outputs": [
    {
     "data": {
      "text/plain": [
       "13"
      ]
     },
     "execution_count": 4,
     "metadata": {},
     "output_type": "execute_result"
    }
   ],
   "source": [
    "add(3, 10)"
   ]
  },
  {
   "cell_type": "markdown",
   "metadata": {},
   "source": [
    "In general Python functions have the following pattern, in pseudocode:\n",
    "\n",
    "```python\n",
    "    def f(x):\n",
    "        \"\"\"Docstring.\"\"\"\n",
    "        y = <operations on x>\n",
    "        return y\n",
    "```\n",
    "This is analgous to defining the mathematical function $y = f(x)$.\n",
    "\n",
    "The idea is that you can organize your code using functions. Instead of just being a long series of instructions, your code can use re-usable blocks, jumping around from block to block.\n",
    "\n",
    "When you 'call' a function, by using its name and passing it any arguments (input) it needs, it returns its output to exactly the place it was called from.\n",
    "\n",
    "For example, instead of writing:\n",
    "\n",
    "```python\n",
    "    x = (xf - 32) * 9 / 5\n",
    "    y = (yf - 32) * 5 / 9\n",
    "    z = (zf - 32) * 5 / 9\n",
    "```  \n",
    "\n",
    "It is more readable and easier to maintain &mdash; and probably more correct! &mdash; if we do this:\n",
    "\n",
    "```python\n",
    "    def f2c(temp):\n",
    "        \"\"\"Convert F to C.\"\"\"\n",
    "        return (temp - 32) * 5 / 9\n",
    "```\n",
    "\n",
    "Now we can call the function:\n",
    "\n",
    "```\n",
    "    x = f2c(xf)\n",
    "    y = f2c(yf)\n",
    "    z = f2c(zf)\n",
    "```\n",
    "\n",
    "Better yet:\n",
    "\n",
    "```python\n",
    "    x, y, z = [f2c(t) for t in [xf, yf, zf]]\n",
    "```\n",
    "\n",
    "----\n",
    "\n",
    "\n",
    "## A simple function\n",
    "\n",
    "We'll start by defining a very simple function, implementing the acoustic impedance equation:\n",
    "\n",
    "$$ Z = \\rho V_\\mathrm{P} $$"
   ]
  },
  {
   "cell_type": "code",
   "execution_count": null,
   "metadata": {
    "collapsed": true
   },
   "outputs": [],
   "source": []
  },
  {
   "cell_type": "code",
   "execution_count": 147,
   "metadata": {
    "tags": [
     "hide"
    ]
   },
   "outputs": [],
   "source": [
    "def impedance(rho, vp):\n",
    "    '''\n",
    "    Calculate the acoustic impedance of a rock, given Vp and rho.\n",
    "    '''\n",
    "    z = rho * vp\n",
    "    return z"
   ]
  },
  {
   "cell_type": "code",
   "execution_count": 148,
   "metadata": {},
   "outputs": [
    {
     "data": {
      "text/plain": [
       "5750000"
      ]
     },
     "execution_count": 148,
     "metadata": {},
     "output_type": "execute_result"
    }
   ],
   "source": [
    "impedance(2300, 2500)"
   ]
  },
  {
   "cell_type": "markdown",
   "metadata": {},
   "source": [
    "Note that we do not have access to any of the variables inside the function."
   ]
  },
  {
   "cell_type": "code",
   "execution_count": 149,
   "metadata": {},
   "outputs": [
    {
     "ename": "NameError",
     "evalue": "name 'z' is not defined",
     "output_type": "error",
     "traceback": [
      "\u001b[0;31m---------------------------------------------------------------------------\u001b[0m",
      "\u001b[0;31mNameError\u001b[0m                                 Traceback (most recent call last)",
      "\u001b[0;32m<ipython-input-149-3a710d2a84f8>\u001b[0m in \u001b[0;36m<module>\u001b[0;34m\u001b[0m\n\u001b[0;32m----> 1\u001b[0;31m \u001b[0mz\u001b[0m\u001b[0;34m\u001b[0m\u001b[0;34m\u001b[0m\u001b[0m\n\u001b[0m",
      "\u001b[0;31mNameError\u001b[0m: name 'z' is not defined"
     ]
    }
   ],
   "source": [
    "z"
   ]
  },
  {
   "cell_type": "markdown",
   "metadata": {},
   "source": [
    "Similarly, if the variable `z` already exists outside the function, it is unaffected by the function:"
   ]
  },
  {
   "cell_type": "code",
   "execution_count": 150,
   "metadata": {},
   "outputs": [
    {
     "name": "stdout",
     "output_type": "stream",
     "text": [
      "Not even a number.\n"
     ]
    }
   ],
   "source": [
    "z = 'Not even a number.'\n",
    "\n",
    "impedance(2400, 2100)\n",
    "\n",
    "print(z)"
   ]
  },
  {
   "cell_type": "markdown",
   "metadata": {},
   "source": [
    "If you switch the order of the inputs, i.e. you don't rely on their positions, you must name them:"
   ]
  },
  {
   "cell_type": "code",
   "execution_count": 152,
   "metadata": {},
   "outputs": [
    {
     "data": {
      "text/plain": [
       "5750000"
      ]
     },
     "execution_count": 152,
     "metadata": {},
     "output_type": "execute_result"
    }
   ],
   "source": [
    "vp, rho = 2500, 2300  # These can be called whatever you like!\n",
    "\n",
    "impedance(vp=vp, rho=rho)"
   ]
  },
  {
   "cell_type": "markdown",
   "metadata": {},
   "source": [
    "## Making a module\n",
    "\n",
    "Add your function to a new text file called `utils.py`, and save it in the current directory.\n",
    "\n",
    "Now we'll try importing that module into a new notebook. We'll do it together..."
   ]
  },
  {
   "cell_type": "markdown",
   "metadata": {
    "tags": [
     "hide"
    ]
   },
   "source": [
    "### Instructor notes\n",
    "\n",
    "Now go to a new notebook and import the new function, then call it. Or go out to a terminal and do it from the interpreter.\n",
    "\n",
    "If you show them the docstring at this time, it's very cool.\n",
    "\n",
    "You can do it in this notebook, but it's not as instructive. (If you do it in this notebook, be sure to use `import utils`, not `from utils import impedance` because the latter is confusing given that we already have an existing `impedance` function defined in this notebook.)"
   ]
  },
  {
   "cell_type": "markdown",
   "metadata": {
    "tags": [
     "exercise"
    ]
   },
   "source": [
    "### Exercise\n",
    "\n",
    "We want a function to compute acoustic velocity from slowness (aka travel time, or the reciprocal of velocity). For example, we might compute Vp from the DT log.\n",
    "\n",
    "Rearrange the following lines to create this function:"
   ]
  },
  {
   "cell_type": "code",
   "execution_count": null,
   "metadata": {},
   "outputs": [],
   "source": [
    "return vel\n",
    "vel = 1e6 / slow\n",
    "def vel_from_slow(slow):\n",
    "\"\"\"Velocity from slowness, given in μs per unit distance.\"\"\""
   ]
  },
  {
   "cell_type": "code",
   "execution_count": null,
   "metadata": {},
   "outputs": [],
   "source": [
    "# YOUR CODE HERE\n",
    "\n"
   ]
  },
  {
   "cell_type": "code",
   "execution_count": 1,
   "metadata": {
    "tags": [
     "hide"
    ]
   },
   "outputs": [],
   "source": [
    "def vel_from_slow(slow):\n",
    "    \"\"\"Velocity from slowness, given in μs per unit distance.\"\"\"\n",
    "    vel = 1e6 / slow\n",
    "    return vel"
   ]
  },
  {
   "cell_type": "markdown",
   "metadata": {},
   "source": [
    "Use this to call the function:"
   ]
  },
  {
   "cell_type": "code",
   "execution_count": null,
   "metadata": {},
   "outputs": [],
   "source": [
    "vel_from_slow(500)"
   ]
  },
  {
   "cell_type": "markdown",
   "metadata": {},
   "source": [
    "You should get \n",
    "\n",
    "    2000.0"
   ]
  },
  {
   "cell_type": "markdown",
   "metadata": {
    "tags": [
     "exercise"
    ]
   },
   "source": [
    "### Exercise\n",
    "\n",
    "What happens if you pass a NumPy array to your function? Generate an array with:\n",
    "\n",
    "    import numpy as np\n",
    "    dt = np.array([450, 475, 550, 425])\n",
    "\n",
    "Then give `dt` to the `vel_from_slow` function. You should get an array of 4 numbers back:\n",
    "\n",
    "    array([2222.22222222, 2105.26315789, 1818.18181818, 2352.94117647])\n",
    "\n",
    "**Plot the velocity corresponding to all values of DT from 250 to 500. <a title=\"Use np.arange(250, 600) to generate the DT values, and plot vel_from_slow(dt) against it.\">Hover for hint.</a>**"
   ]
  },
  {
   "cell_type": "code",
   "execution_count": 5,
   "metadata": {},
   "outputs": [
    {
     "data": {
      "text/plain": [
       "array([2222.22222222, 2105.26315789, 1818.18181818, 2352.94117647])"
      ]
     },
     "execution_count": 5,
     "metadata": {},
     "output_type": "execute_result"
    }
   ],
   "source": [
    "# YOUR CODE HERE\n",
    "\n"
   ]
  },
  {
   "cell_type": "code",
   "execution_count": 221,
   "metadata": {
    "tags": [
     "hide"
    ]
   },
   "outputs": [
    {
     "data": {
      "text/plain": [
       "<matplotlib.lines.Line2D at 0x7fdac87aaee0>"
      ]
     },
     "execution_count": 221,
     "metadata": {},
     "output_type": "execute_result"
    },
    {
     "data": {
      "image/png": "[encoded data removed]",
      "text/plain": [
       "<Figure size 432x288 with 1 Axes>"
      ]
     },
     "metadata": {
      "needs_background": "light"
     },
     "output_type": "display_data"
    }
   ],
   "source": [
    "dt = np.arange(200, 800)\n",
    "\n",
    "import matplotlib.pyplot as plt\n",
    "\n",
    "fig, ax = plt.subplots()\n",
    "ax.plot(dt, vel_from_slow(dt))\n",
    "\n",
    "# Optional annotation.\n",
    "ax.set_title('Velocity vs slowness')\n",
    "ax.set_xlabel('DT [µs/m]')\n",
    "ax.set_ylabel('Vp [m/s]')\n",
    "ax.grid(c='k', alpha=0.2)\n",
    "ax.axhline(1486, c='cyan')  # Water velocity."
   ]
  },
  {
   "cell_type": "markdown",
   "metadata": {},
   "source": [
    "## Optional arguments and default values\n",
    "\n",
    "Remember `math.log()`? You can optionally pass the base of the logarithm; by default it is Euler's constant, e.\n",
    "\n",
    "We can do that in our functions too.\n",
    "\n",
    "Let's say we need a function that will combine the date, the name of a processing company, and a prospect name into a filename. For now we'll assume we're getting [ISO 8601](https://en.wikipedia.org/wiki/ISO_8601) for dates."
   ]
  },
  {
   "cell_type": "code",
   "execution_count": null,
   "metadata": {},
   "outputs": [],
   "source": [
    "# Let's do this together...\n"
   ]
  },
  {
   "cell_type": "code",
   "execution_count": 1,
   "metadata": {
    "tags": [
     "hide"
    ]
   },
   "outputs": [],
   "source": [
    "# Start with...\n",
    "def make_filename(company, prospect, date):\n",
    "    \"\"\"\n",
    "    Combine the date, the name of a processing company,\n",
    "    and a prospect name into a filename.\n",
    "    \"\"\"\n",
    "    return f\"{date}_{company}_{prospect}.sgy\""
   ]
  },
  {
   "cell_type": "code",
   "execution_count": 2,
   "metadata": {
    "tags": [
     "hide"
    ]
   },
   "outputs": [
    {
     "data": {
      "text/plain": [
       "'2021-06-29'"
      ]
     },
     "execution_count": 2,
     "metadata": {},
     "output_type": "execute_result"
    }
   ],
   "source": [
    "from datetime import datetime\n",
    "\n",
    "datetime.now().date().isoformat()"
   ]
  },
  {
   "cell_type": "code",
   "execution_count": 3,
   "metadata": {
    "tags": [
     "hide"
    ]
   },
   "outputs": [],
   "source": [
    "# Build to...\n",
    "from datetime import datetime\n",
    "\n",
    "# Doesn't make sense to use a specific date as default... except 'today'.\n",
    "# Strings are good defaults; mutables are not.\n",
    "\n",
    "def make_filename(prospect, company='MyCo', date=None):\n",
    "    \"\"\"\n",
    "    Combine the date, the name of a processing company,\n",
    "    and a prospect name into a filename.\n",
    "    \"\"\"\n",
    "    if date is None:\n",
    "        date = datetime.now().date().isoformat()\n",
    "\n",
    "    # Add this at end, it's a good way to parse (almost) \"any\" date.\n",
    "    else:\n",
    "        date = pd.to_datetime(date).date().isoformat()\n",
    "\n",
    "    return f\"{date}_{company}_{prospect}.sgy\""
   ]
  },
  {
   "cell_type": "code",
   "execution_count": 4,
   "metadata": {
    "tags": [
     "hide"
    ]
   },
   "outputs": [
    {
     "data": {
      "text/plain": [
       "Timestamp('1971-05-26 00:00:00')"
      ]
     },
     "execution_count": 4,
     "metadata": {},
     "output_type": "execute_result"
    }
   ],
   "source": [
    "import pandas as pd\n",
    "\n",
    "date = '26th May 1971'\n",
    "\n",
    "# As a pandas timestamp. Pandas is good at interpreting dates.\n",
    "dt = pd.to_datetime(date)\n",
    "dt"
   ]
  },
  {
   "cell_type": "code",
   "execution_count": 119,
   "metadata": {
    "tags": [
     "hide"
    ]
   },
   "outputs": [
    {
     "data": {
      "text/plain": [
       "'1971-05-26'"
      ]
     },
     "execution_count": 119,
     "metadata": {},
     "output_type": "execute_result"
    }
   ],
   "source": [
    "# Date only in ISO-8601 format.\n",
    "dt.date().isoformat()"
   ]
  },
  {
   "cell_type": "markdown",
   "metadata": {},
   "source": [
    "The output should look similar to this:\n",
    "\n",
    "    '2020-10-06_MyCo_Alpha.sgy'"
   ]
  },
  {
   "cell_type": "code",
   "execution_count": 128,
   "metadata": {},
   "outputs": [
    {
     "data": {
      "text/plain": [
       "'2020-10-06_MyCo_Alpha.sgy'"
      ]
     },
     "execution_count": 128,
     "metadata": {},
     "output_type": "execute_result"
    }
   ],
   "source": [
    "make_filename('Alpha')"
   ]
  },
  {
   "cell_type": "markdown",
   "metadata": {
    "tags": [
     "exercise"
    ]
   },
   "source": [
    "### Exercise\n",
    "\n",
    "This exercise is about [Gardner's equation](https://www.subsurfwiki.org/wiki/Gardner%27s_equation):\n",
    "\n",
    "$$ \\rho = 310\\ V_\\mathrm{P}^{\\,0.25}\\ \\ \\mathrm{kg}/\\mathrm{m}^3 $$\n",
    "\n",
    "\n",
    "- Implement Gardner's equation as a Python function.\n",
    "- Make the factor $\\alpha$ of 310 and the exponent $\\beta$ of 0.25 into arguments the user can change if they want to. I.e. give them default values.\n",
    "- How can you make this function accept a list of velocities?\n",
    "- Add this function to your `utils.py` file in the `/notebooks` folder."
   ]
  },
  {
   "cell_type": "code",
   "execution_count": null,
   "metadata": {},
   "outputs": [],
   "source": [
    "def gardner(vp):\n",
    "    \n",
    "    # Your code here.\n",
    "    "
   ]
  },
  {
   "cell_type": "code",
   "execution_count": 1,
   "metadata": {
    "tags": [
     "hide"
    ]
   },
   "outputs": [],
   "source": [
    "def gardner(vp, alpha=310, beta=0.25):\n",
    "    \"\"\"Compute RHOB from Vp using Gardner's relation.\n",
    "    \n",
    "    Example\n",
    "    >>> gardner(2500)\n",
    "    2192.0310216782973\n",
    "    \"\"\"\n",
    "    rho = alpha * vp**beta\n",
    "    \n",
    "    return rho"
   ]
  },
  {
   "cell_type": "markdown",
   "metadata": {},
   "source": [
    "The following should yield a number close to `2224.1965`."
   ]
  },
  {
   "cell_type": "code",
   "execution_count": null,
   "metadata": {},
   "outputs": [],
   "source": [
    "gardner(2650)"
   ]
  },
  {
   "cell_type": "markdown",
   "metadata": {},
   "source": [
    "As before, we can check how the output is related to the inputs."
   ]
  },
  {
   "cell_type": "code",
   "execution_count": null,
   "metadata": {},
   "outputs": [],
   "source": []
  },
  {
   "cell_type": "code",
   "execution_count": 6,
   "metadata": {
    "tags": [
     "hide"
    ]
   },
   "outputs": [
    {
     "data": {
      "text/plain": [
       "[<matplotlib.lines.Line2D at 0x7f7841d34ee0>]"
      ]
     },
     "execution_count": 6,
     "metadata": {},
     "output_type": "execute_result"
    },
    {
     "data": {
      "image/png": "[encoded data removed]",
      "text/plain": [
       "<Figure size 432x288 with 1 Axes>"
      ]
     },
     "metadata": {
      "needs_background": "light"
     },
     "output_type": "display_data"
    }
   ],
   "source": [
    "# Talk through this.\n",
    "vp = 2000\n",
    "alpha = 310\n",
    "beta = np.linspace(0.1, 0.5, 21)\n",
    "\n",
    "rhob_g = gardner(vp, alpha=alpha, beta=beta)\n",
    "\n",
    "fig, ax = plt.subplots()\n",
    "ax.plot(beta, rhob_g)"
   ]
  },
  {
   "cell_type": "markdown",
   "metadata": {},
   "source": [
    "This <code>gardner</code> function will allow us pass in _any_ combination of $\\alpha$ and $\\beta$ and return a density. As before, we can check how the output is related to the inputs. In this case, there are two, so we'll have to represent the output as a surface.\n",
    "\n",
    "We can look at all possible combinations of $\\alpha$ and $\\beta$ (within a range) using a NumPy trick. Then we can contour this surface to help delineate the range of physically plausible values."
   ]
  },
  {
   "cell_type": "code",
   "execution_count": 55,
   "metadata": {},
   "outputs": [
    {
     "data": {
      "text/plain": [
       "(21, 21)"
      ]
     },
     "execution_count": 55,
     "metadata": {},
     "output_type": "execute_result"
    }
   ],
   "source": [
    "vp = 2000\n",
    "alpha = np.linspace(200, 400, 21)\n",
    "beta = np.linspace(0.1, 0.45, 21) \n",
    "\n",
    "rhob_g = gardner(vp, alpha=alpha, beta=beta.reshape(-1, 1)) # This trick produces the grid of output.\n",
    "rhob_g.shape"
   ]
  },
  {
   "cell_type": "code",
   "execution_count": 70,
   "metadata": {
    "tags": [
     "hide"
    ]
   },
   "outputs": [
    {
     "data": {
      "text/plain": [
       "array([[ 100,  200,  300,  400,  500],\n",
       "       [ 200,  400,  600,  800, 1000],\n",
       "       [ 300,  600,  900, 1200, 1500]])"
      ]
     },
     "execution_count": 70,
     "metadata": {},
     "output_type": "execute_result"
    }
   ],
   "source": [
    "# More about that NumPy trick.\n",
    "\n",
    "a = np.array([1, 2, 3, 4, 5])\n",
    "b = np.array([100, 200, 300])  # Different length! So a * b would fail.\n",
    "\n",
    "a * b.reshape(-1, 1)  # Reshape b to a column vector. Equivalent to a * b[:, None]\n",
    "\n",
    "# Instead of multiply(a, b), we have gardner(alpha, beta), otherwise it's the same idea.\n",
    "# Note we don't actually make a grid at any point. NumPy produces the grid."
   ]
  },
  {
   "cell_type": "markdown",
   "metadata": {},
   "source": [
    "Any time we have a 2D array we can look at it with `plt.imshow`."
   ]
  },
  {
   "cell_type": "code",
   "execution_count": 76,
   "metadata": {},
   "outputs": [
    {
     "data": {
      "text/plain": [
       "<matplotlib.colorbar.Colorbar at 0x7f783ffe6490>"
      ]
     },
     "execution_count": 76,
     "metadata": {},
     "output_type": "execute_result"
    },
    {
     "data": {
      "image/png": "[encoded data removed]",
      "text/plain": [
       "<Figure size 432x288 with 2 Axes>"
      ]
     },
     "metadata": {
      "needs_background": "light"
     },
     "output_type": "display_data"
    }
   ],
   "source": [
    "extent = [alpha[0], alpha[-1], beta[0], beta[-1]]\n",
    "\n",
    "fig, ax = plt.subplots()\n",
    "im = ax.imshow(rhob_g, origin='lower', extent=extent, aspect='auto')\n",
    "plt.colorbar(im)"
   ]
  },
  {
   "cell_type": "markdown",
   "metadata": {},
   "source": [
    "Not all combinations of $\\alpha$ and $\\beta$ will be physically possible. Some will be extremely low, some will be extremely high. \n",
    "\n",
    "For instance: \n",
    "\n",
    "- The density of water is 1000 kg/m<sup>3</sup> (more if it's saline). \n",
    "- The density of coal can be as low as 1200 kg/m<sup>3</sup>. \n",
    "- The density of granite is 2750 kg/m<sup>3</sup> and basalt can be 2950 kg/m<sup>3</sup>. \n",
    "- The density of cast iron is 7000 kg/m<sup>3</sup>.\n",
    "\n",
    "So we may choose to bracket our solutions to the range between 1200 to 3000 kg/m<sup>3</sup>. Densities above or below this range are unlikely to be found in the subsurface. Especially in sedimentary basins where Gardner's equation is intended."
   ]
  },
  {
   "cell_type": "code",
   "execution_count": 79,
   "metadata": {},
   "outputs": [],
   "source": [
    "reasonable = [1200, 2000, 2250, 2750, 3000]"
   ]
  },
  {
   "cell_type": "code",
   "execution_count": 80,
   "metadata": {},
   "outputs": [
    {
     "data": {
      "image/png": "[encoded data removed]",
      "text/plain": [
       "<Figure size 648x432 with 2 Axes>"
      ]
     },
     "metadata": {
      "needs_background": "light"
     },
     "output_type": "display_data"
    }
   ],
   "source": [
    "fig, ax = plt.subplots(figsize=(9, 6))\n",
    "\n",
    "cf = ax.contourf(rhob_g, levels=reasonable, extent=extent, cmap='Greens')\n",
    "fig.colorbar(cf)\n",
    "\n",
    "ax.axvline(310, c='r')\n",
    "ax.axhline(0.25, c='r')\n",
    "\n",
    "ax.set_title(r\"Gardner's Density kg/m³ for 2000 m/s\")\n",
    "ax.set_xlabel('alpha')\n",
    "ax.set_ylabel('beta')\n",
    "\n",
    "plt.show()"
   ]
  },
  {
   "cell_type": "markdown",
   "metadata": {},
   "source": [
    "## Multiple returns\n",
    "\n",
    "Functions can only return one thing, but we can pack multiple things into a tuple.\n",
    "\n",
    "Imagine we wanted to adapt our `make_filename()` function to provide a path according to the company, instead of including it in the filename. Now our function can return the path and the filename:"
   ]
  },
  {
   "cell_type": "code",
   "execution_count": 78,
   "metadata": {},
   "outputs": [],
   "source": [
    "# Let's do this together...\n",
    "\n"
   ]
  },
  {
   "cell_type": "code",
   "execution_count": 143,
   "metadata": {
    "tags": [
     "hide"
    ]
   },
   "outputs": [],
   "source": [
    "import os\n",
    "\n",
    "def make_filename(prospect, company='MyCo', date=None, area=None):\n",
    "    \"\"\"\n",
    "    Combine the date, the name of a processing company,\n",
    "    and a prospect name into a filename.\n",
    "    \"\"\"\n",
    "    if date is None:\n",
    "        date = datetime.now().date().isoformat()\n",
    "\n",
    "    else:\n",
    "        date = pd.to_datetime(date).date().isoformat()\n",
    "\n",
    "    # ONLY THIS PART IS NEW\n",
    "    path = os.path.join(os.path.sep, 'ext', 'data', company)\n",
    "    fname = f'{date}_{prospect}.sgy'\n",
    "        \n",
    "    return path, fname"
   ]
  },
  {
   "cell_type": "code",
   "execution_count": 144,
   "metadata": {
    "tags": [
     "hide"
    ]
   },
   "outputs": [
    {
     "data": {
      "text/plain": [
       "('/ext/data/MyCo', '2020-10-06_Alpha.sgy')"
      ]
     },
     "execution_count": 144,
     "metadata": {},
     "output_type": "execute_result"
    }
   ],
   "source": [
    "make_filename('Alpha')"
   ]
  },
  {
   "cell_type": "code",
   "execution_count": 145,
   "metadata": {
    "tags": [
     "hide"
    ]
   },
   "outputs": [
    {
     "data": {
      "text/plain": [
       "'/ext/data/MyCo/2020-10-06_Beta.sgy'"
      ]
     },
     "execution_count": 145,
     "metadata": {},
     "output_type": "execute_result"
    }
   ],
   "source": [
    "path, fname = make_filename('Beta')\n",
    "\n",
    "os.path.join(path, fname)"
   ]
  },
  {
   "cell_type": "markdown",
   "metadata": {},
   "source": [
    "----\n",
    "\n",
    "# Intro to Python students: go to the [`Practice_functions.ipynb`](Practice_functions.ipynb) notebook.\n",
    "\n",
    "----"
   ]
  },
  {
   "cell_type": "markdown",
   "metadata": {
    "tags": [
     "exercise"
    ]
   },
   "source": [
    "### Exercise\n",
    "\n",
    "Write a function to list the prospects processed by each company. Your function should return a dictionary mapping each company (CGG, TGS, etc) to the prospect(s) they processed seismic data for (Alpha, Beta, etc)."
   ]
  },
  {
   "cell_type": "code",
   "execution_count": 61,
   "metadata": {},
   "outputs": [],
   "source": [
    "fnames = [\n",
    " '2017-03-19.CGG.Gamma.segy',\n",
    " '2016-02-02.CGG.Iota.segy',\n",
    " '2016-02-01.CGG.Iota.segp',\n",
    " '2020-10-03.TGS.Alpha.segy',\n",
    " '2008-01-21.PGS.Zeta.segy',\n",
    " '2008-01-21.PGS.Zeta.segp',\n",
    " '2008-02-02.WesternGeco.Beta.segy',\n",
    "]"
   ]
  },
  {
   "cell_type": "markdown",
   "metadata": {},
   "source": [
    "We've been asked for a list of the prospects processed by each company."
   ]
  },
  {
   "cell_type": "code",
   "execution_count": 63,
   "metadata": {},
   "outputs": [],
   "source": [
    "def process(fnames):\n",
    "    \n",
    "    # YOUR CODE HERE\n"
   ]
  },
  {
   "cell_type": "code",
   "execution_count": 86,
   "metadata": {
    "tags": [
     "hide"
    ]
   },
   "outputs": [],
   "source": [
    "def process(fnames, sort=False, dupes=True):\n",
    "    \"\"\"\n",
    "    Process a list of files into a dictionary of datasets.\n",
    "    \"\"\"    \n",
    "    # Add as later 'feature'.\n",
    "    if sort:\n",
    "        fnames = sorted(fnames)\n",
    "    \n",
    "    datasets = {}\n",
    "    for fname in fnames:\n",
    "        \n",
    "        date, company, prospect, ftype = fname.split('.')\n",
    "        \n",
    "        if company in datasets:\n",
    "            prospects = datasets[company]\n",
    "        else:\n",
    "            prospects = []\n",
    "\n",
    "        if prospect not in prospects or dupes:\n",
    "            prospects.append(prospect)\n",
    "\n",
    "        datasets[company] = prospects\n",
    "        \n",
    "    return datasets\n",
    "\n",
    "# It would be better to use datasets.get(company, list()) and append to that.\n",
    "# It would be even better to use collections.defaultdict:\n",
    "#     datasets = defaultdict(list)\n",
    "#     for fname in fnames:\n",
    "#         date, company, prospect, ftype = prospect_.split('.')\n",
    "#         datasets[company].append(prospect)"
   ]
  },
  {
   "cell_type": "code",
   "execution_count": 87,
   "metadata": {
    "tags": [
     "hide"
    ]
   },
   "outputs": [
    {
     "data": {
      "text/plain": [
       "{'CGG': ['Gamma', 'Iota', 'Iota'],\n",
       " 'TGS': ['Alpha'],\n",
       " 'PGS': ['Zeta', 'Zeta'],\n",
       " 'WesternGeco': ['Beta']}"
      ]
     },
     "execution_count": 87,
     "metadata": {},
     "output_type": "execute_result"
    }
   ],
   "source": [
    "process(fnames)"
   ]
  },
  {
   "cell_type": "code",
   "execution_count": 77,
   "metadata": {
    "tags": [
     "hide"
    ]
   },
   "outputs": [],
   "source": [
    "from collections import defaultdict\n",
    "\n",
    "def process(fnames, sort=False, dupes=True):\n",
    "    \"\"\"\n",
    "    Process a list of files into a dictionary of datasets.\n",
    "    \"\"\"    \n",
    "    if sort:\n",
    "        fnames = sorted(fnames)\n",
    "    \n",
    "    datasets = defaultdict(list)\n",
    "    for fname in fnames:\n",
    "        \n",
    "        date, company, prospect, ftype = fname.split('.')\n",
    "        \n",
    "        if prospect not in datasets[company] or dupes:\n",
    "            datasets[company].append(prospect)\n",
    "        \n",
    "    return datasets\n"
   ]
  },
  {
   "cell_type": "markdown",
   "metadata": {},
   "source": [
    "## `args` and `kwargs`\n",
    "\n",
    "This is a more advanced concept, but it's good to know about. We can write functions that take an arbitrary number of arguments, as well as arguments you give specific names to:"
   ]
  },
  {
   "cell_type": "code",
   "execution_count": 14,
   "metadata": {},
   "outputs": [
    {
     "name": "stdout",
     "output_type": "stream",
     "text": [
      "(2, 3, 4, 5, 6, 7)\n"
     ]
    },
    {
     "data": {
      "text/plain": [
       "27"
      ]
     },
     "execution_count": 14,
     "metadata": {},
     "output_type": "execute_result"
    }
   ],
   "source": [
    "def add(*args):\n",
    "    print(args)\n",
    "    return sum(args)\n",
    "\n",
    "add(2, 3, 4, 5, 6, 7)"
   ]
  },
  {
   "cell_type": "markdown",
   "metadata": {},
   "source": [
    "We can mix this with an arbitrary number of positional and keyword arguments:"
   ]
  },
  {
   "cell_type": "code",
   "execution_count": 15,
   "metadata": {
    "collapsed": true
   },
   "outputs": [],
   "source": [
    "def foo(x, y, *args):\n",
    "    \"\"\"\n",
    "    Print these things.\n",
    "    \"\"\"\n",
    "    print(x, y)\n",
    "    print(args)\n",
    "    return"
   ]
  },
  {
   "cell_type": "code",
   "execution_count": 16,
   "metadata": {},
   "outputs": [
    {
     "name": "stdout",
     "output_type": "stream",
     "text": [
      "2 this\n",
      "('that', 45)\n"
     ]
    }
   ],
   "source": [
    "foo(2, 'this', 'that', 45)"
   ]
  },
  {
   "cell_type": "markdown",
   "metadata": {},
   "source": [
    "The unnamed `args` are stored in a `tuple`, and this is what was printed out by `print(args)`.\n",
    "\n",
    "You can pass keyword arguments in the same way, with a slightly different syntax:"
   ]
  },
  {
   "cell_type": "code",
   "execution_count": 17,
   "metadata": {
    "collapsed": true
   },
   "outputs": [],
   "source": [
    "def bar(x, y=1, **kwargs):\n",
    "    print(x, y)\n",
    "    print(kwargs)\n",
    "    return"
   ]
  },
  {
   "cell_type": "markdown",
   "metadata": {},
   "source": [
    "This time the unspecified `kwargs` are stored in a `dict`:"
   ]
  },
  {
   "cell_type": "code",
   "execution_count": 18,
   "metadata": {},
   "outputs": [
    {
     "name": "stdout",
     "output_type": "stream",
     "text": [
      "2 this\n",
      "{'that': 'that', 'other': 45}\n"
     ]
    }
   ],
   "source": [
    "bar(2, 'this', that='that', other=45)"
   ]
  },
  {
   "cell_type": "markdown",
   "metadata": {},
   "source": [
    "You can create a `dict` of containing the keywords and values outside the function and pass it in. The `**kwargs` syntax unpacks the element of the dictionary for use inside the function:"
   ]
  },
  {
   "cell_type": "code",
   "execution_count": null,
   "metadata": {},
   "outputs": [],
   "source": [
    "func_params = dict(param1='alpha', param2='beta', param3=99.0)\n",
    "\n",
    "func_params"
   ]
  },
  {
   "cell_type": "code",
   "execution_count": null,
   "metadata": {
    "collapsed": true
   },
   "outputs": [],
   "source": [
    "bar(2, **func_params)"
   ]
  },
  {
   "cell_type": "code",
   "execution_count": 48,
   "metadata": {
    "tags": [
     "hide"
    ]
   },
   "outputs": [],
   "source": [
    "lineplot_params = {'xlabel': 'time (s)', 'linewidth': 2, 'color': '#DD1D21'}"
   ]
  },
  {
   "cell_type": "code",
   "execution_count": 47,
   "metadata": {
    "tags": [
     "hide"
    ]
   },
   "outputs": [],
   "source": [
    "def my_awesome_plot(x, y, **kwargs):\n",
    "    label_text = kwargs.pop('xlabel') # we have to pop this off before passing into plot()\n",
    "    plt.title('Two sine waves')\n",
    "    plt.xlabel(label_text)\n",
    "    plt.ylabel('Signal')\n",
    "    plt.plot(x, y, **kwargs)\n",
    "    plt.scatter(x, y)"
   ]
  },
  {
   "cell_type": "code",
   "execution_count": 49,
   "metadata": {
    "tags": [
     "hide"
    ]
   },
   "outputs": [
    {
     "data": {
      "image/png": "[encoded data removed]",
      "text/plain": [
       "<Figure size 432x288 with 1 Axes>"
      ]
     },
     "metadata": {
      "needs_background": "light"
     },
     "output_type": "display_data"
    }
   ],
   "source": [
    "import numpy as np\n",
    "import matplotlib.pyplot as plt\n",
    "x = np.arange(0, 10, 0.3)\n",
    "y = np.sin(10 * x) + np.sin(8 * x)\n",
    "my_awesome_plot(x, y, **lineplot_params)"
   ]
  },
  {
   "cell_type": "markdown",
   "metadata": {},
   "source": [
    "## Passing functions, and unnamed functions\n",
    "\n",
    "Functions have names, just like other objects in Python. We can pass them around, just like other objects. Sometimes we might want to use a function as input to another function.\n",
    "\n",
    "For example, the `sorted` function sorts sequences:"
   ]
  },
  {
   "cell_type": "code",
   "execution_count": 2,
   "metadata": {},
   "outputs": [
    {
     "data": {
      "text/plain": [
       "[' ', ' ', 'G', 'I', 'L', 'e', 'e', 'g', 'l', 'o', 'o', 'o', 'v', 'y']"
      ]
     },
     "execution_count": 2,
     "metadata": {},
     "output_type": "execute_result"
    }
   ],
   "source": [
    "x = list('I Love Geology')\n",
    "\n",
    "sorted(x)"
   ]
  },
  {
   "cell_type": "markdown",
   "metadata": {},
   "source": [
    "Notice how Python sorts the upper case characters before the lower case ones. Supposing we'd like to ignore the case of the letters when sorting? Then we can pass `str.lower` and it will use that..."
   ]
  },
  {
   "cell_type": "code",
   "execution_count": 3,
   "metadata": {},
   "outputs": [
    {
     "data": {
      "text/plain": [
       "[' ', ' ', 'e', 'e', 'G', 'g', 'I', 'L', 'l', 'o', 'o', 'o', 'v', 'y']"
      ]
     },
     "execution_count": 3,
     "metadata": {},
     "output_type": "execute_result"
    }
   ],
   "source": [
    "sorted(x, key=str.lower)"
   ]
  },
  {
   "cell_type": "markdown",
   "metadata": {},
   "source": [
    "If there's no function for the sort you'd like to do, you can make one. Let's sort by a completely arbitrary order:"
   ]
  },
  {
   "cell_type": "code",
   "execution_count": 7,
   "metadata": {},
   "outputs": [
    {
     "data": {
      "text/plain": [
       "['e', 'e', ' ', ' ', 'I', 'o', 'o', 'o', 'v', 'L', 'l', 'y', 'G', 'g']"
      ]
     },
     "execution_count": 7,
     "metadata": {},
     "output_type": "execute_result"
    }
   ],
   "source": [
    "ORDER = 'the quick brown fox jumped over the lazy dog'  # Any pangram will do.\n",
    "\n",
    "    \n",
    "def fox_sort(xi):\n",
    "    return ORDER.index(xi.lower())\n",
    "\n",
    "sorted(x, key=fox_sort)"
   ]
  },
  {
   "cell_type": "markdown",
   "metadata": {},
   "source": [
    "Sometimes in a situation like this you don't actually want to go to the trouble of defining a function, especially such a short one. Python has a 'function-lite' option — the `lambda` — which we define but don't name. You can think of it as a one-shot, throwaway, or temporary function:"
   ]
  },
  {
   "cell_type": "code",
   "execution_count": 8,
   "metadata": {},
   "outputs": [
    {
     "data": {
      "text/plain": [
       "['e', 'e', ' ', ' ', 'I', 'o', 'o', 'o', 'v', 'L', 'l', 'y', 'G', 'g']"
      ]
     },
     "execution_count": 8,
     "metadata": {},
     "output_type": "execute_result"
    }
   ],
   "source": [
    "sorted(x, key=lambda xi: ORDER.index(xi.lower()))"
   ]
  },
  {
   "cell_type": "markdown",
   "metadata": {},
   "source": [
    "The syntax is a little weird though, and some people think that using a lot of `lambda` functions makes for hard-to-read code."
   ]
  },
  {
   "cell_type": "markdown",
   "metadata": {
    "tags": [
     "exercise"
    ]
   },
   "source": [
    "### Exercise\n",
    "\n",
    "I have a list of rocks, can you sort them by the last letter in each name?\n",
    "\n",
    "Here's the desired result: `['sandstone', 'chalk', 'basalt']`"
   ]
  },
  {
   "cell_type": "code",
   "execution_count": 10,
   "metadata": {},
   "outputs": [
    {
     "ename": "NameError",
     "evalue": "name 'last_char' is not defined",
     "output_type": "error",
     "traceback": [
      "\u001b[0;31m---------------------------------------------------------------------------\u001b[0m",
      "\u001b[0;31mNameError\u001b[0m                                 Traceback (most recent call last)",
      "\u001b[0;32m<ipython-input-10-4798cd9ebe6b>\u001b[0m in \u001b[0;36m<module>\u001b[0;34m\u001b[0m\n\u001b[1;32m      4\u001b[0m \u001b[0;31m# Add your code here. HINT: define a function.\u001b[0m\u001b[0;34m\u001b[0m\u001b[0;34m\u001b[0m\u001b[0;34m\u001b[0m\u001b[0m\n\u001b[1;32m      5\u001b[0m \u001b[0;34m\u001b[0m\u001b[0m\n\u001b[0;32m----> 6\u001b[0;31m \u001b[0msorted\u001b[0m\u001b[0;34m(\u001b[0m\u001b[0mrocks\u001b[0m\u001b[0;34m,\u001b[0m \u001b[0mkey\u001b[0m\u001b[0;34m=\u001b[0m\u001b[0mlast_char\u001b[0m\u001b[0;34m)\u001b[0m\u001b[0;34m\u001b[0m\u001b[0;34m\u001b[0m\u001b[0m\n\u001b[0m",
      "\u001b[0;31mNameError\u001b[0m: name 'last_char' is not defined"
     ]
    }
   ],
   "source": [
    "# Add your code here. HINT: define a function.\n",
    "rocks = ['basalt', 'chalk', 'sandstone']\n",
    "\n",
    "# Add your code here. HINT: define a function.\n",
    "\n",
    "sorted(rocks, key=last_char)"
   ]
  },
  {
   "cell_type": "code",
   "execution_count": 11,
   "metadata": {
    "tags": [
     "hide"
    ]
   },
   "outputs": [
    {
     "data": {
      "text/plain": [
       "['sandstone', 'chalk', 'basalt']"
      ]
     },
     "execution_count": 11,
     "metadata": {},
     "output_type": "execute_result"
    }
   ],
   "source": [
    "rocks = ['basalt', 'chalk', 'sandstone']\n",
    "\n",
    "# Function goes here\n",
    "def last_char(name):\n",
    "    return name[-1]\n",
    "\n",
    "# Now calling the function \n",
    "sorted(rocks, key=last_char)"
   ]
  },
  {
   "cell_type": "code",
   "execution_count": 12,
   "metadata": {
    "tags": [
     "hide"
    ]
   },
   "outputs": [
    {
     "data": {
      "text/plain": [
       "['sandstone', 'chalk', 'basalt']"
      ]
     },
     "execution_count": 12,
     "metadata": {},
     "output_type": "execute_result"
    }
   ],
   "source": [
    "sorted(rocks, key=lambda name: name[-1])"
   ]
  },
  {
   "cell_type": "code",
   "execution_count": 13,
   "metadata": {
    "tags": [
     "hide"
    ]
   },
   "outputs": [
    {
     "data": {
      "text/plain": [
       "['sandstone', 'chalk', 'basalt']"
      ]
     },
     "execution_count": 13,
     "metadata": {},
     "output_type": "execute_result"
    }
   ],
   "source": [
    "from operator import itemgetter\n",
    "\n",
    "sorted(rocks, key=itemgetter(-1))"
   ]
  },
  {
   "cell_type": "markdown",
   "metadata": {
    "tags": [
     "exercise"
    ]
   },
   "source": [
    "### Exercise\n",
    "\n",
    "Can you sort this list of files in numerical order?\n",
    "\n",
    "Here's the desired result: `['file01.txt', 'file2.txt', 'file03.txt', 'file11.txt', 'file12.txt']`"
   ]
  },
  {
   "cell_type": "code",
   "execution_count": 14,
   "metadata": {},
   "outputs": [],
   "source": [
    "files = ['file2.txt', 'file03.txt', 'file11.txt', 'file12.txt', 'file01.txt']\n",
    "\n",
    "# Your code goes here\n",
    "\n"
   ]
  },
  {
   "cell_type": "code",
   "execution_count": 15,
   "metadata": {
    "tags": [
     "hide"
    ]
   },
   "outputs": [
    {
     "data": {
      "text/plain": [
       "['file01.txt', 'file2.txt', 'file03.txt', 'file11.txt', 'file12.txt']"
      ]
     },
     "execution_count": 15,
     "metadata": {},
     "output_type": "execute_result"
    }
   ],
   "source": [
    "def get_file_number(fname):\n",
    "    return int(fname.split('.')[0].replace('file', ''))\n",
    "\n",
    "sorted(files, key=get_file_number)"
   ]
  },
  {
   "cell_type": "markdown",
   "metadata": {},
   "source": [
    "## A note about documentation\n",
    "\n",
    "There are two main kinds of documentation:\n",
    "\n",
    "- Docs that you write to help people understand how to use your tool.\n",
    "- Comments in the code to help other coders understand how the tool works.\n",
    "\n",
    "In general, you should try to write code that does not need copious documentation. Using descriptive variable and function names, keeping functions simple, and writing function docstrings all help.\n",
    "\n",
    "Docstrings are the least that is required of you — these will become available to users of your code, as shown in the examples that follow. First, here's how to write a docstring: "
   ]
  },
  {
   "cell_type": "code",
   "execution_count": 18,
   "metadata": {
    "collapsed": true
   },
   "outputs": [],
   "source": [
    "def ignore_case(x):\n",
    "    \"\"\"\n",
    "    This is a docstring. It's special.\n",
    "    \n",
    "    Args:\n",
    "        x (str). A string to send to lowercase.\n",
    "        \n",
    "    Returns:\n",
    "        str. The string in lowercase.\n",
    "    \"\"\"\n",
    "    # This is just a normal comment.\n",
    "    return x.lower()  # So is this."
   ]
  },
  {
   "cell_type": "markdown",
   "metadata": {},
   "source": [
    "Now let's look at how another person might read this information. The easiest way to get it is to call `help()` on the function:"
   ]
  },
  {
   "cell_type": "code",
   "execution_count": 20,
   "metadata": {},
   "outputs": [
    {
     "name": "stdout",
     "output_type": "stream",
     "text": [
      "Help on function ignore_case in module __main__:\n",
      "\n",
      "ignore_case(x)\n",
      "    This is a docstring. It's special.\n",
      "    \n",
      "    Args:\n",
      "        x (str). A string to send to lowercase.\n",
      "        \n",
      "    Returns:\n",
      "        str. The string in lowercase.\n",
      "\n"
     ]
    }
   ],
   "source": [
    "help(ignore_case)"
   ]
  },
  {
   "cell_type": "markdown",
   "metadata": {},
   "source": [
    "You could also inspect the docstring directly; Python stores it on an attribute of the function called `__doc__`:"
   ]
  },
  {
   "cell_type": "code",
   "execution_count": 19,
   "metadata": {},
   "outputs": [
    {
     "name": "stdout",
     "output_type": "stream",
     "text": [
      "\n",
      "    This is a docstring. It's special.\n",
      "    \n",
      "    Args:\n",
      "        x (str). A string to send to lowercase.\n",
      "        \n",
      "    Returns:\n",
      "        str. The string in lowercase.\n",
      "    \n"
     ]
    }
   ],
   "source": [
    "print(ignore_case.__doc__)"
   ]
  },
  {
   "cell_type": "markdown",
   "metadata": {},
   "source": [
    "In Jupyter Notebooks and in the IPython interpreter you can also type the name of the function with a `?`"
   ]
  },
  {
   "cell_type": "code",
   "execution_count": 23,
   "metadata": {
    "collapsed": true
   },
   "outputs": [],
   "source": [
    "ignore_case?"
   ]
  },
  {
   "cell_type": "markdown",
   "metadata": {},
   "source": [
    "## A note about testing\n",
    "\n",
    "Testing is an important step in writing correct code. Indeed, programmers have a saying:\n",
    "\n",
    " > Untested code is broken code.\n",
    " \n",
    "In our experience, the process of writing tests often reveals bugs, and almost always results in better code. \n",
    "\n",
    "A quick and easy way to get started with testing is the built-in `doctest` module. Simply add one or more examples to the docstring of the function:"
   ]
  },
  {
   "cell_type": "code",
   "execution_count": 29,
   "metadata": {
    "collapsed": true
   },
   "outputs": [],
   "source": [
    "def ignore_case(x):\n",
    "    \"\"\"\n",
    "    This is a docstring. It's special.\n",
    "    \n",
    "    Args:\n",
    "        x (str). A string to send to lowercase.\n",
    "        \n",
    "    Returns:\n",
    "        str. The string in lowercase.\n",
    "        \n",
    "    Example:\n",
    "    >>> ignore_case('Geology.')\n",
    "    'geology.'\n",
    "\n",
    "    \"\"\"\n",
    "    # This is just a normal comment.\n",
    "    return x.lower()  # So is this."
   ]
  },
  {
   "cell_type": "markdown",
   "metadata": {},
   "source": [
    "Then we can test the function like this:"
   ]
  },
  {
   "cell_type": "code",
   "execution_count": 30,
   "metadata": {},
   "outputs": [
    {
     "data": {
      "text/plain": [
       "TestResults(failed=0, attempted=1)"
      ]
     },
     "execution_count": 30,
     "metadata": {},
     "output_type": "execute_result"
    }
   ],
   "source": [
    "import doctest\n",
    "doctest.testmod()"
   ]
  },
  {
   "cell_type": "markdown",
   "metadata": {},
   "source": [
    "Our test passed! `doctest` looked for the line that looks like interactive Python input (with the `>>>` at the start), ran it, and compared its output to the line in my example. Since the lines matched, the test passed. You can add as many tests as you like to the docstring.\n",
    "\n",
    "See [the `docstring` documentation](https://docs.python.org/3.6/library/doctest.html) for more details, or check out the notebook [Introduction to testing](Intro_to_testing.ipynb) to go deeper."
   ]
  },
  {
   "cell_type": "markdown",
   "metadata": {
    "collapsed": true
   },
   "source": [
    "## A note about type hints\n",
    "\n",
    "New in Python 3. Essentially a type of documentation. [Read about them.](https://docs.python.org/3/library/typing.html) [Read PEP484](https://www.python.org/dev/peps/pep-0484/).\n",
    "\n",
    "You can check the internal consistency of types using [mypy](http://mypy-lang.org/index.html).\n",
    "\n",
    "Python is **strongly typed** — you cannot add an `int` to a `str`. For example, `2 + '3'` throws a `TypeError`, whereas in JavaScript, which is weakly typed, it returns `'23'`. \n",
    "\n",
    "But Python is **dynamically typed**, so I can do `x = 5` and then, later, `x = 'Hello'` — the type of `x` is dynamic, and depends only on the data I point it to. Similarly, I can pass ints, floats or strings into a function that multiplies things:"
   ]
  },
  {
   "cell_type": "code",
   "execution_count": 31,
   "metadata": {},
   "outputs": [
    {
     "data": {
      "text/plain": [
       "'thisthis'"
      ]
     },
     "execution_count": 31,
     "metadata": {},
     "output_type": "execute_result"
    }
   ],
   "source": [
    "def double(n):\n",
    "    return 2 * n\n",
    "\n",
    "double('this')"
   ]
  },
  {
   "cell_type": "markdown",
   "metadata": {},
   "source": [
    "As you might imagine, sometimes this kind of flexibility can be the cause of bugs. \n",
    "\n",
    "The basic idea of type hints is to bridge the gap between dynamic typing (Python's usual mode, so to speak), and static typing (a popular feature of some other languages, such as Java or C).\n",
    "\n",
    "You can annotate a variable assignment with the expected type of the variable, for example:"
   ]
  },
  {
   "cell_type": "code",
   "execution_count": 32,
   "metadata": {
    "collapsed": true
   },
   "outputs": [],
   "source": [
    "n: float = 3.14159"
   ]
  },
  {
   "cell_type": "markdown",
   "metadata": {},
   "source": [
    "There's a similar signature for annotating functions, with some special syntax for annotating the return variable too:"
   ]
  },
  {
   "cell_type": "code",
   "execution_count": 33,
   "metadata": {},
   "outputs": [
    {
     "data": {
      "text/plain": [
       "4.2"
      ]
     },
     "execution_count": 33,
     "metadata": {},
     "output_type": "execute_result"
    }
   ],
   "source": [
    "def double(n: float) -> float:\n",
    "    return 2 * n\n",
    "\n",
    "double(2.1)"
   ]
  },
  {
   "cell_type": "markdown",
   "metadata": {},
   "source": [
    "These are just annotations, however, there is no actual type checking. You can still do whatever you want."
   ]
  },
  {
   "cell_type": "code",
   "execution_count": 34,
   "metadata": {},
   "outputs": [
    {
     "data": {
      "text/plain": [
       "'thatthat'"
      ]
     },
     "execution_count": 34,
     "metadata": {},
     "output_type": "execute_result"
    }
   ],
   "source": [
    "double('that')"
   ]
  },
  {
   "cell_type": "markdown",
   "metadata": {},
   "source": [
    "You can, however, check the internal consistency of types using [mypy](http://mypy-lang.org/index.html).\n",
    "\n",
    "The `typing` module helps make hybrid types, new types, etc."
   ]
  },
  {
   "cell_type": "code",
   "execution_count": 35,
   "metadata": {
    "collapsed": true
   },
   "outputs": [],
   "source": [
    "from typing import List\n",
    "\n",
    "def scale(scalar: float, vector: List[float]) -> List[float]:\n",
    "    return [scalar * num for num in vector]\n",
    "\n",
    "new_vector = scale(2.0, [1.0, -4.2, 5.4])"
   ]
  },
  {
   "cell_type": "code",
   "execution_count": 36,
   "metadata": {},
   "outputs": [
    {
     "data": {
      "text/plain": [
       "[2.0, -8.4, 10.8]"
      ]
     },
     "execution_count": 36,
     "metadata": {},
     "output_type": "execute_result"
    }
   ],
   "source": [
    "new_vector"
   ]
  },
  {
   "cell_type": "markdown",
   "metadata": {},
   "source": [
    "None of this changes the actual type of the variables:"
   ]
  },
  {
   "cell_type": "code",
   "execution_count": 51,
   "metadata": {},
   "outputs": [
    {
     "data": {
      "text/plain": [
       "list"
      ]
     },
     "execution_count": 51,
     "metadata": {},
     "output_type": "execute_result"
    }
   ],
   "source": [
    "type(new_vector)"
   ]
  },
  {
   "cell_type": "markdown",
   "metadata": {
    "collapsed": true
   },
   "source": [
    "<hr />\n",
    "\n",
    "<div>\n",
    "<img src=\"https://avatars1.githubusercontent.com/u/1692321?s=50\"><p style=\"text-align:center\">© Agile Geoscience 2018</p>\n",
    "</div>"
   ]
  }
 ],
 "metadata": {
  "anaconda-cloud": {},
  "celltoolbar": "Tags",
  "kernelspec": {
   "display_name": "py39",
   "language": "python",
   "name": "py39"
  },
  "language_info": {
   "codemirror_mode": {
    "name": "ipython",
    "version": 3
   },
   "file_extension": ".py",
   "mimetype": "text/x-python",
   "name": "python",
   "nbconvert_exporter": "python",
   "pygments_lexer": "ipython3",
   "version": "3.9.7"
  }
 },
 "nbformat": 4,
 "nbformat_minor": 1
}
