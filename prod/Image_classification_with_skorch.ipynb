{
 "cells": [
  {
   "cell_type": "markdown",
   "metadata": {},
   "source": [
    "# Image classification with `skorch`\n",
    "\n",
    "**Make sure you look at [`Image classification`](Image_classification.ipynb) before coming here.**\n",
    "\n",
    "**I recommend using the notebook [`Image classification with PyTorch`](Image_classification_with_Scikit-Learn.ipynb) instead of this one.**\n",
    "\n",
    "We'll use `Pytorch` together with supporting libraries `tensorlayers` and `skorch` to train a classifier for fossil images."
   ]
  },
  {
   "cell_type": "code",
   "execution_count": 1,
   "metadata": {},
   "outputs": [],
   "source": [
    "import matplotlib.pyplot as plt\n",
    "import numpy as np"
   ]
  },
  {
   "cell_type": "markdown",
   "metadata": {},
   "source": [
    "## The fossil dataset\n",
    "\n",
    "Let's generate a workflow to classify images using a CNN.\n",
    "We'll make use of a collection of functions in `utils.py` to help process the images found in the `data/fossils` folder."
   ]
  },
  {
   "cell_type": "code",
   "execution_count": 147,
   "metadata": {},
   "outputs": [],
   "source": [
    "import numpy as np\n",
    "\n",
    "ds = np.DataSource('../data/')\n",
    "\n",
    "X = np.load(ds.open('https://geocomp.s3.amazonaws.com/data/fossils_X.npy', mode='rb'))\n",
    "y = np.load(ds.open('https://geocomp.s3.amazonaws.com/data/fossils_y.npy', mode='rb'))"
   ]
  },
  {
   "cell_type": "code",
   "execution_count": 148,
   "metadata": {},
   "outputs": [],
   "source": [
    "from sklearn.model_selection import train_test_split\n",
    "\n",
    "X_train, X_test, y_train, y_test = train_test_split(X, y, test_size=0.10, random_state=42)"
   ]
  },
  {
   "cell_type": "code",
   "execution_count": 149,
   "metadata": {},
   "outputs": [
    {
     "data": {
      "text/plain": [
       "(527, 1024)"
      ]
     },
     "execution_count": 149,
     "metadata": {},
     "output_type": "execute_result"
    }
   ],
   "source": [
    "X_train.shape"
   ]
  },
  {
   "cell_type": "code",
   "execution_count": 153,
   "metadata": {
    "scrolled": true
   },
   "outputs": [
    {
     "data": {
      "text/plain": [
       "<matplotlib.colorbar.Colorbar at 0x7ff38bcf27c0>"
      ]
     },
     "execution_count": 153,
     "metadata": {},
     "output_type": "execute_result"
    },
    {
     "data": {
      "image/png": "[encoded data removed]",
      "text/plain": [
       "<Figure size 432x288 with 2 Axes>"
      ]
     },
     "metadata": {
      "needs_background": "light"
     },
     "output_type": "display_data"
    }
   ],
   "source": [
    "plt.imshow(X_train[0].reshape(32,32))\n",
    "plt.colorbar()"
   ]
  },
  {
   "cell_type": "markdown",
   "metadata": {
    "tags": [
     "hide"
    ]
   },
   "source": [
    "## Note to instructors\n",
    "\n",
    "Depending on the level and interests of the group, and the time available, and what you've covered so far, it might be a good idea to pause here and check that everyone is comfortable with convolution. Not necessarily exactly how it works, alrthough that's fairly straightforward, but at least the concept and purpose of it.\n",
    "\n",
    "We're focused on convolution for **feature extraction**, as opposed to filtering, so keep examples focused on that. Edge detection is a pretty intuitive topic.\n",
    "\n",
    "For example, you could do a demo like these:"
   ]
  },
  {
   "cell_type": "code",
   "execution_count": 154,
   "metadata": {
    "tags": [
     "hide"
    ]
   },
   "outputs": [
    {
     "data": {
      "text/plain": [
       "array([0, 0, 0, 0, 0, 1, 1, 0, 0, 0, 0, 0])"
      ]
     },
     "execution_count": 154,
     "metadata": {},
     "output_type": "execute_result"
    }
   ],
   "source": [
    "# 1D example: a step.\n",
    "signal = [0, 0, 0, 0, 0, 0, 0, 1, 1, 1, 1, 1, 1, 1]\n",
    "\n",
    "kernel = [1, 0, -1]\n",
    "\n",
    "np.convolve(signal, kernel, mode='valid')  # Can talk about effect of mode='same' or 'full' too\n",
    "\n",
    "# The 'edge' is highlighted, flat stuff is just 0's."
   ]
  },
  {
   "cell_type": "code",
   "execution_count": 155,
   "metadata": {
    "tags": [
     "hide"
    ]
   },
   "outputs": [
    {
     "data": {
      "text/plain": [
       "<matplotlib.image.AxesImage at 0x7ff38a497b50>"
      ]
     },
     "execution_count": 155,
     "metadata": {},
     "output_type": "execute_result"
    },
    {
     "data": {
      "image/png": "[encoded data removed]",
      "text/plain": [
       "<Figure size 432x288 with 1 Axes>"
      ]
     },
     "metadata": {
      "needs_background": "light"
     },
     "output_type": "display_data"
    }
   ],
   "source": [
    "# 2D example\n",
    "from scipy.signal import convolve2d\n",
    "\n",
    "kernel = np.array([[-1, 0, 1],  # This is one of the two Sobel edge detection kernels.\n",
    "                   [-2, 0, 2],  # The other one is the transpose of this.\n",
    "                   [-1, 0, 1]])\n",
    "\n",
    "# Look at these individually too.\n",
    "a = convolve2d(X_train[0].reshape(32,32), kernel, mode='valid')\n",
    "b = convolve2d(X_train[0].reshape(32,32), kernel.T, mode='valid')\n",
    "out = np.sqrt(a**2 + b**2)\n",
    "\n",
    "plt.imshow(out)"
   ]
  },
  {
   "cell_type": "markdown",
   "metadata": {},
   "source": [
    "## A convolutional neural network with skorch\n",
    "\n",
    "Here's a nice resource on ConvNets: https://cs231n.github.io/convolutional-networks/"
   ]
  },
  {
   "cell_type": "markdown",
   "metadata": {},
   "source": [
    "We need to encode the labels:"
   ]
  },
  {
   "cell_type": "code",
   "execution_count": 156,
   "metadata": {},
   "outputs": [],
   "source": [
    "from sklearn.preprocessing import LabelEncoder\n",
    "\n",
    "encoder = LabelEncoder()\n",
    "encoder.fit(np.append(y_train, y_test))\n",
    "\n",
    "y_train = encoder.transform(y_train)\n",
    "y_test = encoder.transform(y_test)"
   ]
  },
  {
   "cell_type": "markdown",
   "metadata": {},
   "source": [
    "Skorch can use NumPy arrays, which is nice, but for they have to be single precision (i.e. 32-bit floats) to be compatible with PyTorch and GPUs."
   ]
  },
  {
   "cell_type": "code",
   "execution_count": 157,
   "metadata": {},
   "outputs": [],
   "source": [
    "X_train = X_train.reshape(-1, 1, 32, 32).astype(np.float32)\n",
    "X_test = X_test.reshape(-1, 1, 32, 32).astype(np.float32)"
   ]
  },
  {
   "cell_type": "markdown",
   "metadata": {},
   "source": [
    "PyTorch will need to know the device we're computing on:"
   ]
  },
  {
   "cell_type": "code",
   "execution_count": 158,
   "metadata": {},
   "outputs": [
    {
     "data": {
      "text/plain": [
       "device(type='cuda', index=0)"
      ]
     },
     "execution_count": 158,
     "metadata": {},
     "output_type": "execute_result"
    }
   ],
   "source": [
    "import torch\n",
    "\n",
    "device = torch.device(\"cuda:0\" if torch.cuda.is_available() else \"cpu\")\n",
    "device"
   ]
  },
  {
   "cell_type": "code",
   "execution_count": 159,
   "metadata": {},
   "outputs": [],
   "source": [
    "from torch import nn\n",
    "from collections import OrderedDict\n",
    "\n",
    "class FossilNet(torch.nn.Module):\n",
    "    def __init__(self):\n",
    "        super(FossilNet, self).__init__()\n",
    "\n",
    "        # Note that most activations, maxpooling, and dropout are commutative.\n",
    "        # Pooling reduces dimensions, so doing it first speeds things up.\n",
    "        # BN is generally not commutative; some place it before activation, some after.\n",
    "        self.layer1 = nn.Sequential(\n",
    "            nn.Conv2d(1, 24, kernel_size=3, padding=1),\n",
    "            nn.MaxPool2d(kernel_size=2),\n",
    "            nn.ReLU(),\n",
    "            nn.BatchNorm2d(24),\n",
    "        )\n",
    "\n",
    "        # Another way to define a layer.\n",
    "        self.layer2 = nn.Sequential(OrderedDict([\n",
    "            ('conv', nn.Conv2d(24, 8, kernel_size=3, padding=1)),\n",
    "            ('pool', nn.MaxPool2d(kernel_size=2)),\n",
    "            ('relu', nn.ReLU()),\n",
    "            ('bn', nn.BatchNorm2d(8)),])\n",
    "        )\n",
    "        \n",
    "        self.drop_out = nn.Dropout(p=0.25)\n",
    "\n",
    "        # The last component is an ordinary 'fully connected' neural network.\n",
    "        # It can also have multiple layers, like any 'vanilla' neural net.\n",
    "        # The shape comes from 32 x 32 images reduced by convolutions & pooling.\n",
    "        self.fc = nn.Linear(8 * 8 * 8, 3)\n",
    "        self.smax = nn.Softmax(dim=-1)  # Not required for pure PyTorch,\n",
    "                                        # because Criterion includes it.\n",
    "        \n",
    "        \n",
    "    def forward(self, x):\n",
    "        x = self.layer1(x)\n",
    "        x = self.layer2(x)\n",
    "        x = torch.flatten(x, start_dim=1)\n",
    "        x = self.drop_out(x)\n",
    "        x = self.fc(x)\n",
    "        x = self.smax(x)\n",
    "        return x\n",
    "\n",
    "net = FossilNet().to(device)"
   ]
  },
  {
   "cell_type": "code",
   "execution_count": 160,
   "metadata": {},
   "outputs": [
    {
     "data": {
      "text/plain": [
       "FossilNet(\n",
       "  (layer1): Sequential(\n",
       "    (0): Conv2d(1, 24, kernel_size=(3, 3), stride=(1, 1), padding=(1, 1))\n",
       "    (1): MaxPool2d(kernel_size=2, stride=2, padding=0, dilation=1, ceil_mode=False)\n",
       "    (2): ReLU()\n",
       "    (3): BatchNorm2d(24, eps=1e-05, momentum=0.1, affine=True, track_running_stats=True)\n",
       "  )\n",
       "  (layer2): Sequential(\n",
       "    (conv): Conv2d(24, 8, kernel_size=(3, 3), stride=(1, 1), padding=(1, 1))\n",
       "    (pool): MaxPool2d(kernel_size=2, stride=2, padding=0, dilation=1, ceil_mode=False)\n",
       "    (relu): ReLU()\n",
       "    (bn): BatchNorm2d(8, eps=1e-05, momentum=0.1, affine=True, track_running_stats=True)\n",
       "  )\n",
       "  (drop_out): Dropout(p=0.25, inplace=False)\n",
       "  (fc): Linear(in_features=512, out_features=3, bias=True)\n",
       "  (smax): Softmax(dim=-1)\n",
       ")"
      ]
     },
     "execution_count": 160,
     "metadata": {},
     "output_type": "execute_result"
    }
   ],
   "source": [
    "net"
   ]
  },
  {
   "cell_type": "code",
   "execution_count": 161,
   "metadata": {},
   "outputs": [],
   "source": [
    "from skorch import NeuralNetClassifier\n",
    "from skorch.callbacks import EarlyStopping, Checkpoint\n",
    "\n",
    "# Callbacks.\n",
    "cp = Checkpoint(dirname='skorch_cp')\n",
    "es = EarlyStopping(monitor='valid_loss', patience=9)\n",
    "\n",
    "cnn = NeuralNetClassifier(net,\n",
    "                          max_epochs=100,\n",
    "                          batch_size=100,\n",
    "                          lr=0.002,\n",
    "                          optimizer=torch.optim.Adam,\n",
    "                          callbacks=[cp, es],\n",
    "                          )"
   ]
  },
  {
   "cell_type": "markdown",
   "metadata": {},
   "source": [
    "**Note** `skorch` will do validation internally on 20% of the input data. You can turn this off with `train_split=None`, or use a predefined dataset, for example like so (from [the docs](https://skorch.readthedocs.io/en/stable/user/FAQ.html#i-already-split-my-data-into-training-and-validation-sets-how-can-i-use-them)):\n",
    "\n",
    "```python\n",
    "from sklearn.model_selection import train_test_split\n",
    "from skorch.helper import predefined_split\n",
    "from skorch.dataset import Dataset\n",
    "\n",
    "X_train, X_test, y_train, y_test = train_test_split(X, y)\n",
    "\n",
    "valid_ds = Dataset(X_test, y_test)\n",
    "\n",
    "net = NeuralNet(\n",
    "    ...,\n",
    "    train_split=predefined_split(valid_ds)\n",
    ")\n",
    "\n",
    "net.fit(X_train, y_train)\n",
    "```"
   ]
  },
  {
   "cell_type": "code",
   "execution_count": 162,
   "metadata": {
    "jupyter": {
     "outputs_hidden": true
    },
    "scrolled": true
   },
   "outputs": [
    {
     "name": "stdout",
     "output_type": "stream",
     "text": [
      "  epoch    train_loss    valid_acc    valid_loss    cp     dur\n",
      "-------  ------------  -----------  ------------  ----  ------\n",
      "      1        \u001b[36m1.0437\u001b[0m       \u001b[32m0.3208\u001b[0m        \u001b[35m1.0940\u001b[0m     +  0.0932\n",
      "      2        \u001b[36m0.8147\u001b[0m       0.3208        1.1298        0.0830\n",
      "      3        \u001b[36m0.7031\u001b[0m       \u001b[32m0.3679\u001b[0m        1.1803        0.0832\n",
      "      4        \u001b[36m0.6329\u001b[0m       \u001b[32m0.4057\u001b[0m        1.1456        0.0808\n",
      "      5        0.6348       \u001b[32m0.5094\u001b[0m        1.1055        0.0833\n",
      "      6        \u001b[36m0.5818\u001b[0m       \u001b[32m0.5566\u001b[0m        \u001b[35m1.0403\u001b[0m     +  0.0834\n",
      "      7        \u001b[36m0.5520\u001b[0m       \u001b[32m0.5943\u001b[0m        \u001b[35m0.9783\u001b[0m     +  0.0807\n",
      "      8        \u001b[36m0.5125\u001b[0m       \u001b[32m0.6038\u001b[0m        \u001b[35m0.9396\u001b[0m     +  0.0787\n",
      "      9        \u001b[36m0.4782\u001b[0m       0.6038        \u001b[35m0.8841\u001b[0m     +  0.0778\n",
      "     10        \u001b[36m0.4414\u001b[0m       \u001b[32m0.6415\u001b[0m        \u001b[35m0.8405\u001b[0m     +  0.0775\n",
      "     11        \u001b[36m0.4225\u001b[0m       \u001b[32m0.6792\u001b[0m        \u001b[35m0.7906\u001b[0m     +  0.0841\n",
      "     12        \u001b[36m0.3862\u001b[0m       0.6698        0.8889        0.0796\n",
      "     13        \u001b[36m0.3623\u001b[0m       0.6792        \u001b[35m0.7547\u001b[0m     +  0.0759\n",
      "     14        \u001b[36m0.3414\u001b[0m       \u001b[32m0.6887\u001b[0m        0.7730        0.0876\n",
      "     15        \u001b[36m0.3208\u001b[0m       0.6887        0.7992        0.0925\n",
      "     16        \u001b[36m0.3086\u001b[0m       0.6887        \u001b[35m0.7483\u001b[0m     +  0.0834\n",
      "     17        \u001b[36m0.2846\u001b[0m       0.6792        0.8119        0.0793\n",
      "     18        \u001b[36m0.2529\u001b[0m       0.6509        0.9133        0.0770\n",
      "     19        \u001b[36m0.2370\u001b[0m       \u001b[32m0.7075\u001b[0m        0.8689        0.0827\n",
      "     20        \u001b[36m0.2145\u001b[0m       0.6981        \u001b[35m0.7408\u001b[0m     +  0.0884\n",
      "     21        \u001b[36m0.2120\u001b[0m       0.7075        0.7930        0.0804\n",
      "     22        \u001b[36m0.2105\u001b[0m       0.6698        0.9421        0.0735\n",
      "     23        \u001b[36m0.2027\u001b[0m       0.7075        0.7796        0.0730\n",
      "     24        \u001b[36m0.1657\u001b[0m       0.7075        0.7944        0.0733\n",
      "     25        \u001b[36m0.1629\u001b[0m       0.6509        0.7682        0.0739\n",
      "     26        0.1629       \u001b[32m0.7547\u001b[0m        0.8384        0.0736\n",
      "     27        0.1828       0.6132        1.0167        0.0759\n",
      "     28        0.1860       0.6887        0.9038        0.0735\n",
      "Stopping since valid_loss has not improved in the last 9 epochs.\n"
     ]
    },
    {
     "data": {
      "text/plain": [
       "<class 'skorch.classifier.NeuralNetClassifier'>[initialized](\n",
       "  module_=FossilNet(\n",
       "    (layer1): Sequential(\n",
       "      (0): Conv2d(1, 24, kernel_size=(3, 3), stride=(1, 1), padding=(1, 1))\n",
       "      (1): MaxPool2d(kernel_size=2, stride=2, padding=0, dilation=1, ceil_mode=False)\n",
       "      (2): ReLU()\n",
       "      (3): BatchNorm2d(24, eps=1e-05, momentum=0.1, affine=True, track_running_stats=True)\n",
       "    )\n",
       "    (layer2): Sequential(\n",
       "      (conv): Conv2d(24, 8, kernel_size=(3, 3), stride=(1, 1), padding=(1, 1))\n",
       "      (pool): MaxPool2d(kernel_size=2, stride=2, padding=0, dilation=1, ceil_mode=False)\n",
       "      (relu): ReLU()\n",
       "      (bn): BatchNorm2d(8, eps=1e-05, momentum=0.1, affine=True, track_running_stats=True)\n",
       "    )\n",
       "    (drop_out): Dropout(p=0.25, inplace=False)\n",
       "    (fc): Linear(in_features=512, out_features=3, bias=True)\n",
       "    (smax): Softmax(dim=-1)\n",
       "  ),\n",
       ")"
      ]
     },
     "execution_count": 162,
     "metadata": {},
     "output_type": "execute_result"
    }
   ],
   "source": [
    "cnn.fit(X_train, y_train)"
   ]
  },
  {
   "cell_type": "code",
   "execution_count": 163,
   "metadata": {},
   "outputs": [
    {
     "data": {
      "text/plain": [
       "<matplotlib.legend.Legend at 0x7ff38aea6e20>"
      ]
     },
     "execution_count": 163,
     "metadata": {},
     "output_type": "execute_result"
    },
    {
     "data": {
      "image/png": "[encoded data removed]",
      "text/plain": [
       "<Figure size 432x288 with 1 Axes>"
      ]
     },
     "metadata": {
      "needs_background": "light"
     },
     "output_type": "display_data"
    }
   ],
   "source": [
    "plt.plot(cnn.history[:, 'train_loss'], label='Train loss')\n",
    "plt.plot(cnn.history[:, 'valid_loss'], label='Validation loss')\n",
    "plt.xlabel('Epoch')\n",
    "plt.ylabel('Loss')\n",
    "plt.legend()"
   ]
  },
  {
   "cell_type": "code",
   "execution_count": 164,
   "metadata": {},
   "outputs": [],
   "source": [
    "cnn.load_params(checkpoint=cp)\n",
    "\n",
    "y_pred = cnn.predict(X_val)"
   ]
  },
  {
   "cell_type": "code",
   "execution_count": 165,
   "metadata": {},
   "outputs": [
    {
     "name": "stdout",
     "output_type": "stream",
     "text": [
      "              precision    recall  f1-score   support\n",
      "\n",
      "           0       0.79      0.76      0.77        29\n",
      "           1       0.71      0.83      0.76        29\n",
      "           2       0.62      0.53      0.57        30\n",
      "\n",
      "    accuracy                           0.70        88\n",
      "   macro avg       0.70      0.71      0.70        88\n",
      "weighted avg       0.70      0.70      0.70        88\n",
      "\n"
     ]
    }
   ],
   "source": [
    "from sklearn.metrics import classification_report\n",
    "\n",
    "print(classification_report(y_pred, y_val))"
   ]
  },
  {
   "cell_type": "code",
   "execution_count": 166,
   "metadata": {},
   "outputs": [
    {
     "data": {
      "text/plain": [
       "array([[0.2544, 0.0003, 0.7454],\n",
       "       [0.028 , 0.8166, 0.1554],\n",
       "       [0.0387, 0.8613, 0.0999],\n",
       "       [0.0386, 0.8994, 0.062 ],\n",
       "       [0.106 , 0.3705, 0.5236],\n",
       "       [0.4005, 0.0007, 0.5989],\n",
       "       [0.0156, 0.9216, 0.0628],\n",
       "       [0.0191, 0.6031, 0.3777],\n",
       "       [0.983 , 0.    , 0.0169],\n",
       "       [0.9835, 0.0012, 0.0153]], dtype=float32)"
      ]
     },
     "execution_count": 166,
     "metadata": {},
     "output_type": "execute_result"
    }
   ],
   "source": [
    "np.set_printoptions(precision=4, suppress=True)\n",
    "\n",
    "y_probs = cnn.predict_proba(X_val)\n",
    "y_probs[:10]"
   ]
  },
  {
   "cell_type": "code",
   "execution_count": 167,
   "metadata": {},
   "outputs": [
    {
     "data": {
      "image/png": "[encoded data removed]",
      "text/plain": [
       "<Figure size 864x576 with 15 Axes>"
      ]
     },
     "metadata": {},
     "output_type": "display_data"
    }
   ],
   "source": [
    "import mlutils\n",
    "\n",
    "mlutils.visualize(X_val, y_val, y_probs,\n",
    "                ncols=5, nrows=3,\n",
    "                shape=(32, 32),\n",
    "                classes=encoder.classes_\n",
    "               )"
   ]
  },
  {
   "cell_type": "markdown",
   "metadata": {},
   "source": [
    "## The kernels\n",
    "\n",
    "It is possible to inspect and visualize the weights in the model's layers:"
   ]
  },
  {
   "cell_type": "code",
   "execution_count": 168,
   "metadata": {},
   "outputs": [
    {
     "data": {
      "text/plain": [
       "(24, 1, 3, 3)"
      ]
     },
     "execution_count": 168,
     "metadata": {},
     "output_type": "execute_result"
    }
   ],
   "source": [
    "w1 = cnn.module_.layer1[0].weight.detach().numpy()\n",
    "w1.shape"
   ]
  },
  {
   "cell_type": "code",
   "execution_count": 169,
   "metadata": {},
   "outputs": [
    {
     "data": {
      "text/plain": [
       "0.32908511906862253"
      ]
     },
     "execution_count": 169,
     "metadata": {},
     "output_type": "execute_result"
    }
   ],
   "source": [
    "ma = np.percentile(w1, 99)\n",
    "ma"
   ]
  },
  {
   "cell_type": "code",
   "execution_count": 170,
   "metadata": {},
   "outputs": [
    {
     "data": {
      "image/png": "[encoded data removed]",
      "text/plain": [
       "<Figure size 864x288 with 25 Axes>"
      ]
     },
     "metadata": {
      "needs_background": "light"
     },
     "output_type": "display_data"
    }
   ],
   "source": [
    "ma = np.percentile(w1, 99)\n",
    "\n",
    "fig, axs = plt.subplots(nrows=3, ncols=8, figsize=(12, 4))\n",
    "for w, ax in zip(w1, axs.ravel()):\n",
    "    im = ax.imshow(np.sum(w, axis=0), vmin=-ma, vmax=ma, cmap='RdBu')\n",
    "    ax.axis('off')\n",
    "    \n",
    "fig.subplots_adjust(right=0.85)\n",
    "cbar_ax = fig.add_axes([0.875, 0.25, 0.025, 0.5])\n",
    "cbar = fig.colorbar(im, cax=cbar_ax)"
   ]
  },
  {
   "cell_type": "code",
   "execution_count": 171,
   "metadata": {},
   "outputs": [
    {
     "data": {
      "image/png": "[encoded data removed]",
      "text/plain": [
       "<Figure size 864x108 with 9 Axes>"
      ]
     },
     "metadata": {
      "needs_background": "light"
     },
     "output_type": "display_data"
    }
   ],
   "source": [
    "w2 = cnn.module_.layer2[0].weight.detach().numpy()\n",
    "ma = np.percentile(w2, 99)\n",
    "\n",
    "fig, axs = plt.subplots(nrows=1, ncols=8, figsize=(12, 1.5))\n",
    "for w, ax in zip(w2, axs.ravel()):\n",
    "    im = ax.imshow(np.sum(w, axis=0), vmin=-ma, vmax=ma, cmap='RdBu')\n",
    "    ax.axis('off')\n",
    "    \n",
    "fig.subplots_adjust(right=0.85)\n",
    "cbar_ax = fig.add_axes([0.875, 0.25, 0.025, 0.5])\n",
    "cbar = fig.colorbar(im, cax=cbar_ax)"
   ]
  },
  {
   "cell_type": "markdown",
   "metadata": {},
   "source": [
    "## Using grid search with this network"
   ]
  },
  {
   "cell_type": "markdown",
   "metadata": {},
   "source": [
    "In theory, you can also use `scikit-learn` training flow objects to train robust models such as `GridSearchCV`.\n",
    "\n",
    "This is potentially cool, but I am not 100% certain that the models are initializing for each model. If you want to use this, I suggest reading the `skorch` docs carefully."
   ]
  },
  {
   "cell_type": "code",
   "execution_count": 175,
   "metadata": {
    "scrolled": true
   },
   "outputs": [
    {
     "name": "stdout",
     "output_type": "stream",
     "text": [
      "  epoch    train_loss     dur\n",
      "-------  ------------  ------\n",
      "      1        \u001b[36m0.2487\u001b[0m  0.0685\n",
      "      2        \u001b[36m0.2091\u001b[0m  0.0641\n",
      "      3        \u001b[36m0.1881\u001b[0m  0.0576\n",
      "      4        \u001b[36m0.1833\u001b[0m  0.0569\n",
      "      5        \u001b[36m0.1551\u001b[0m  0.0572\n",
      "      6        0.1565  0.0569\n",
      "      7        \u001b[36m0.1491\u001b[0m  0.0567\n",
      "      8        0.1505  0.0578\n",
      "      9        \u001b[36m0.1365\u001b[0m  0.0569\n",
      "     10        \u001b[36m0.1210\u001b[0m  0.0582\n",
      "  epoch    train_loss     dur\n",
      "-------  ------------  ------\n",
      "      1        \u001b[36m0.3995\u001b[0m  0.0619\n",
      "      2        \u001b[36m0.2947\u001b[0m  0.0627\n",
      "      3        0.3268  0.0618\n",
      "      4        0.3106  0.0576\n",
      "      5        \u001b[36m0.2587\u001b[0m  0.0583\n",
      "      6        \u001b[36m0.2584\u001b[0m  0.0582\n",
      "      7        \u001b[36m0.2225\u001b[0m  0.0588\n",
      "      8        \u001b[36m0.2103\u001b[0m  0.0583\n",
      "      9        \u001b[36m0.2045\u001b[0m  0.0606\n",
      "     10        \u001b[36m0.1888\u001b[0m  0.0545\n",
      "  epoch    train_loss     dur\n",
      "-------  ------------  ------\n",
      "      1        \u001b[36m0.4004\u001b[0m  0.0519\n",
      "      2        \u001b[36m0.3339\u001b[0m  0.0557\n",
      "      3        \u001b[36m0.3299\u001b[0m  0.0559\n",
      "      4        \u001b[36m0.2931\u001b[0m  0.0628\n",
      "      5        \u001b[36m0.2625\u001b[0m  0.0623\n",
      "      6        \u001b[36m0.2530\u001b[0m  0.0626\n",
      "      7        \u001b[36m0.2269\u001b[0m  0.0545\n",
      "      8        \u001b[36m0.2261\u001b[0m  0.0549\n",
      "      9        \u001b[36m0.2157\u001b[0m  0.0551\n",
      "     10        \u001b[36m0.1942\u001b[0m  0.0546\n",
      "  epoch    train_loss     dur\n",
      "-------  ------------  ------\n",
      "      1        \u001b[36m0.2307\u001b[0m  0.0524\n",
      "      2        \u001b[36m0.2184\u001b[0m  0.0539\n",
      "      3        \u001b[36m0.1872\u001b[0m  0.0547\n",
      "      4        \u001b[36m0.1803\u001b[0m  0.0564\n",
      "      5        \u001b[36m0.1761\u001b[0m  0.0568\n",
      "      6        \u001b[36m0.1688\u001b[0m  0.0544\n",
      "      7        \u001b[36m0.1364\u001b[0m  0.0546\n",
      "      8        0.1652  0.0562\n",
      "      9        0.1451  0.0568\n",
      "     10        \u001b[36m0.1224\u001b[0m  0.0556\n",
      "  epoch    train_loss     dur\n",
      "-------  ------------  ------\n",
      "      1        \u001b[36m0.3915\u001b[0m  0.0544\n",
      "      2        \u001b[36m0.3337\u001b[0m  0.0559\n",
      "      3        \u001b[36m0.3083\u001b[0m  0.0555\n",
      "      4        \u001b[36m0.2868\u001b[0m  0.0562\n",
      "      5        \u001b[36m0.2544\u001b[0m  0.0594\n",
      "      6        0.2648  0.0564\n",
      "      7        \u001b[36m0.2361\u001b[0m  0.0630\n",
      "      8        \u001b[36m0.2089\u001b[0m  0.0580\n",
      "      9        \u001b[36m0.1986\u001b[0m  0.0559\n",
      "     10        \u001b[36m0.1840\u001b[0m  0.0567\n",
      "  epoch    train_loss     dur\n",
      "-------  ------------  ------\n",
      "      1        \u001b[36m0.4361\u001b[0m  0.0534\n",
      "      2        \u001b[36m0.3271\u001b[0m  0.0566\n",
      "      3        \u001b[36m0.3104\u001b[0m  0.0567\n",
      "      4        \u001b[36m0.2875\u001b[0m  0.0563\n",
      "      5        \u001b[36m0.2869\u001b[0m  0.0561\n",
      "      6        \u001b[36m0.2445\u001b[0m  0.0557\n",
      "      7        \u001b[36m0.2333\u001b[0m  0.0560\n",
      "      8        \u001b[36m0.2324\u001b[0m  0.0557\n",
      "      9        \u001b[36m0.2197\u001b[0m  0.0556\n",
      "     10        \u001b[36m0.2087\u001b[0m  0.0561\n",
      "  epoch    train_loss     dur\n",
      "-------  ------------  ------\n",
      "      1        \u001b[36m0.2299\u001b[0m  0.0547\n",
      "      2        \u001b[36m0.1963\u001b[0m  0.0565\n",
      "      3        0.1966  0.0568\n",
      "      4        \u001b[36m0.1932\u001b[0m  0.0568\n",
      "      5        0.1957  0.0597\n",
      "      6        \u001b[36m0.1610\u001b[0m  0.0659\n",
      "      7        0.1731  0.0665\n",
      "      8        0.1743  0.0667\n",
      "      9        \u001b[36m0.1589\u001b[0m  0.0656\n",
      "     10        0.1624  0.0670\n",
      "  epoch    train_loss     dur\n",
      "-------  ------------  ------\n",
      "      1        \u001b[36m0.4110\u001b[0m  0.0605\n",
      "      2        \u001b[36m0.3250\u001b[0m  0.0570\n",
      "      3        \u001b[36m0.3084\u001b[0m  0.0567\n",
      "      4        \u001b[36m0.2633\u001b[0m  0.0565\n",
      "      5        \u001b[36m0.2540\u001b[0m  0.0565\n",
      "      6        \u001b[36m0.2487\u001b[0m  0.0572\n",
      "      7        \u001b[36m0.2371\u001b[0m  0.0573\n",
      "      8        0.2439  0.0559\n",
      "      9        \u001b[36m0.2305\u001b[0m  0.0585\n",
      "     10        \u001b[36m0.2201\u001b[0m  0.0578\n",
      "  epoch    train_loss     dur\n",
      "-------  ------------  ------\n",
      "      1        \u001b[36m0.4266\u001b[0m  0.0563\n",
      "      2        \u001b[36m0.3427\u001b[0m  0.0558\n",
      "      3        0.3551  0.0595\n",
      "      4        \u001b[36m0.3201\u001b[0m  0.0603\n",
      "      5        \u001b[36m0.2871\u001b[0m  0.0633\n",
      "      6        \u001b[36m0.2600\u001b[0m  0.0698\n",
      "      7        0.2670  0.0599\n",
      "      8        \u001b[36m0.2598\u001b[0m  0.0589\n",
      "      9        \u001b[36m0.2369\u001b[0m  0.0601\n",
      "     10        \u001b[36m0.2269\u001b[0m  0.0597\n",
      "  epoch    train_loss     dur\n",
      "-------  ------------  ------\n",
      "      1        \u001b[36m0.3715\u001b[0m  0.0561\n",
      "      2        \u001b[36m0.2911\u001b[0m  0.0591\n",
      "      3        \u001b[36m0.2145\u001b[0m  0.0606\n",
      "      4        0.2158  0.0568\n",
      "      5        \u001b[36m0.1960\u001b[0m  0.0587\n",
      "      6        \u001b[36m0.1816\u001b[0m  0.0566\n",
      "      7        \u001b[36m0.1406\u001b[0m  0.0585\n",
      "      8        \u001b[36m0.1289\u001b[0m  0.0573\n",
      "      9        \u001b[36m0.1164\u001b[0m  0.0600\n",
      "     10        0.1176  0.0568\n",
      "  epoch    train_loss     dur\n",
      "-------  ------------  ------\n",
      "      1        \u001b[36m0.4868\u001b[0m  0.0603\n",
      "      2        \u001b[36m0.4047\u001b[0m  0.0573\n",
      "      3        \u001b[36m0.3449\u001b[0m  0.0562\n",
      "      4        \u001b[36m0.2956\u001b[0m  0.0614\n",
      "      5        \u001b[36m0.2513\u001b[0m  0.0624\n",
      "      6        \u001b[36m0.2235\u001b[0m  0.0602\n",
      "      7        \u001b[36m0.1964\u001b[0m  0.0607\n",
      "      8        0.2020  0.0623\n",
      "      9        \u001b[36m0.1440\u001b[0m  0.0665\n",
      "     10        0.1534  0.0659\n",
      "  epoch    train_loss     dur\n",
      "-------  ------------  ------\n",
      "      1        \u001b[36m0.5114\u001b[0m  0.0579\n",
      "      2        \u001b[36m0.3731\u001b[0m  0.0607\n",
      "      3        \u001b[36m0.3659\u001b[0m  0.0600\n",
      "      4        \u001b[36m0.2901\u001b[0m  0.0587\n",
      "      5        \u001b[36m0.2270\u001b[0m  0.0576\n",
      "      6        \u001b[36m0.2232\u001b[0m  0.0577\n",
      "      7        \u001b[36m0.1870\u001b[0m  0.0582\n",
      "      8        \u001b[36m0.1509\u001b[0m  0.0610\n",
      "      9        \u001b[36m0.1470\u001b[0m  0.0576\n",
      "     10        \u001b[36m0.1330\u001b[0m  0.0605\n",
      "  epoch    train_loss     dur\n",
      "-------  ------------  ------\n",
      "      1        \u001b[36m0.3990\u001b[0m  0.0609\n",
      "      2        \u001b[36m0.3260\u001b[0m  0.0621\n",
      "      3        \u001b[36m0.2794\u001b[0m  0.0590\n",
      "      4        \u001b[36m0.2328\u001b[0m  0.0657\n",
      "      5        \u001b[36m0.2016\u001b[0m  0.0723\n",
      "      6        \u001b[36m0.1920\u001b[0m  0.0712\n",
      "      7        \u001b[36m0.1671\u001b[0m  0.0634\n",
      "      8        \u001b[36m0.1373\u001b[0m  0.0641\n",
      "      9        \u001b[36m0.1340\u001b[0m  0.0725\n",
      "     10        \u001b[36m0.1165\u001b[0m  0.0745\n",
      "  epoch    train_loss     dur\n",
      "-------  ------------  ------\n",
      "      1        \u001b[36m0.4798\u001b[0m  0.0583\n",
      "      2        \u001b[36m0.3843\u001b[0m  0.0585\n",
      "      3        \u001b[36m0.3472\u001b[0m  0.0614\n",
      "      4        \u001b[36m0.2805\u001b[0m  0.0572\n",
      "      5        \u001b[36m0.2504\u001b[0m  0.0631\n",
      "      6        \u001b[36m0.2328\u001b[0m  0.0677\n",
      "      7        \u001b[36m0.1919\u001b[0m  0.0690\n",
      "      8        \u001b[36m0.1648\u001b[0m  0.0653\n",
      "      9        \u001b[36m0.1574\u001b[0m  0.0582\n",
      "     10        \u001b[36m0.1245\u001b[0m  0.0634\n",
      "  epoch    train_loss     dur\n",
      "-------  ------------  ------\n",
      "      1        \u001b[36m0.5610\u001b[0m  0.0638\n",
      "      2        \u001b[36m0.3859\u001b[0m  0.0619\n",
      "      3        \u001b[36m0.3304\u001b[0m  0.0719\n",
      "      4        \u001b[36m0.2863\u001b[0m  0.0740\n",
      "      5        \u001b[36m0.2731\u001b[0m  0.0655\n",
      "      6        \u001b[36m0.2117\u001b[0m  0.0587\n",
      "      7        \u001b[36m0.1931\u001b[0m  0.0602\n",
      "      8        \u001b[36m0.1774\u001b[0m  0.0610\n",
      "      9        \u001b[36m0.1534\u001b[0m  0.0627\n",
      "     10        \u001b[36m0.1365\u001b[0m  0.0671\n",
      "  epoch    train_loss     dur\n",
      "-------  ------------  ------\n",
      "      1        \u001b[36m0.3895\u001b[0m  0.0620\n",
      "      2        \u001b[36m0.3015\u001b[0m  0.0622\n",
      "      3        \u001b[36m0.2442\u001b[0m  0.0723\n",
      "      4        \u001b[36m0.2397\u001b[0m  0.0724\n",
      "      5        \u001b[36m0.2173\u001b[0m  0.0666\n",
      "      6        \u001b[36m0.1974\u001b[0m  0.0662\n",
      "      7        \u001b[36m0.1964\u001b[0m  0.0757\n",
      "      8        \u001b[36m0.1840\u001b[0m  0.0701\n",
      "      9        \u001b[36m0.1726\u001b[0m  0.0684\n",
      "     10        \u001b[36m0.1623\u001b[0m  0.0649\n",
      "  epoch    train_loss     dur\n",
      "-------  ------------  ------\n",
      "      1        \u001b[36m0.5313\u001b[0m  0.0644\n",
      "      2        \u001b[36m0.4343\u001b[0m  0.0641\n",
      "      3        \u001b[36m0.3716\u001b[0m  0.0664\n",
      "      4        \u001b[36m0.3179\u001b[0m  0.0623\n",
      "      5        \u001b[36m0.2822\u001b[0m  0.0574\n",
      "      6        \u001b[36m0.2656\u001b[0m  0.0585\n",
      "      7        \u001b[36m0.2364\u001b[0m  0.0638\n",
      "      8        \u001b[36m0.2363\u001b[0m  0.0692\n",
      "      9        \u001b[36m0.1865\u001b[0m  0.0699\n",
      "     10        0.2057  0.0623\n",
      "  epoch    train_loss     dur\n",
      "-------  ------------  ------\n",
      "      1        \u001b[36m0.5818\u001b[0m  0.0602\n",
      "      2        \u001b[36m0.3734\u001b[0m  0.0585\n",
      "      3        \u001b[36m0.3469\u001b[0m  0.0606\n",
      "      4        \u001b[36m0.3131\u001b[0m  0.0583\n",
      "      5        \u001b[36m0.2648\u001b[0m  0.0645\n",
      "      6        0.2703  0.0593\n",
      "      7        \u001b[36m0.2574\u001b[0m  0.0595\n",
      "      8        \u001b[36m0.2226\u001b[0m  0.0624\n",
      "      9        \u001b[36m0.2168\u001b[0m  0.0648\n",
      "     10        \u001b[36m0.1942\u001b[0m  0.0651\n",
      "  epoch    train_loss     dur\n",
      "-------  ------------  ------\n",
      "      1        \u001b[36m1.1226\u001b[0m  0.0655\n",
      "      2        \u001b[36m0.7121\u001b[0m  0.0639\n",
      "      3        \u001b[36m0.5996\u001b[0m  0.0660\n",
      "      4        \u001b[36m0.5379\u001b[0m  0.0645\n",
      "      5        \u001b[36m0.4521\u001b[0m  0.0651\n",
      "      6        \u001b[36m0.3967\u001b[0m  0.0674\n"
     ]
    },
    {
     "name": "stdout",
     "output_type": "stream",
     "text": [
      "      7        \u001b[36m0.3667\u001b[0m  0.0679\n",
      "      8        \u001b[36m0.2965\u001b[0m  0.0736\n",
      "      9        0.3005  0.0697\n",
      "     10        \u001b[36m0.2821\u001b[0m  0.0650\n",
      "  epoch    train_loss     dur\n",
      "-------  ------------  ------\n",
      "      1        \u001b[36m1.0931\u001b[0m  0.0621\n",
      "      2        \u001b[36m0.7526\u001b[0m  0.0675\n",
      "      3        \u001b[36m0.6240\u001b[0m  0.0719\n",
      "      4        \u001b[36m0.5617\u001b[0m  0.0683\n",
      "      5        \u001b[36m0.4545\u001b[0m  0.0643\n",
      "      6        \u001b[36m0.4069\u001b[0m  0.0576\n",
      "      7        \u001b[36m0.3531\u001b[0m  0.0567\n",
      "      8        \u001b[36m0.3035\u001b[0m  0.0566\n",
      "      9        \u001b[36m0.2891\u001b[0m  0.0601\n",
      "     10        \u001b[36m0.2603\u001b[0m  0.0668\n",
      "  epoch    train_loss     dur\n",
      "-------  ------------  ------\n",
      "      1        \u001b[36m1.1386\u001b[0m  0.0668\n",
      "      2        \u001b[36m0.7622\u001b[0m  0.0630\n",
      "      3        \u001b[36m0.7296\u001b[0m  0.0607\n",
      "      4        \u001b[36m0.5102\u001b[0m  0.0570\n",
      "      5        \u001b[36m0.4752\u001b[0m  0.0575\n",
      "      6        \u001b[36m0.4206\u001b[0m  0.0581\n",
      "      7        \u001b[36m0.3479\u001b[0m  0.0643\n",
      "      8        \u001b[36m0.3028\u001b[0m  0.0689\n",
      "      9        \u001b[36m0.2590\u001b[0m  0.0606\n",
      "     10        \u001b[36m0.2274\u001b[0m  0.0632\n",
      "  epoch    train_loss     dur\n",
      "-------  ------------  ------\n",
      "      1        \u001b[36m1.1981\u001b[0m  0.0530\n",
      "      2        \u001b[36m0.8362\u001b[0m  0.0574\n",
      "      3        \u001b[36m0.6490\u001b[0m  0.0569\n",
      "      4        \u001b[36m0.5713\u001b[0m  0.0577\n",
      "      5        \u001b[36m0.5071\u001b[0m  0.0571\n",
      "      6        \u001b[36m0.4449\u001b[0m  0.0560\n",
      "      7        \u001b[36m0.4086\u001b[0m  0.0579\n",
      "      8        \u001b[36m0.3652\u001b[0m  0.0564\n",
      "      9        \u001b[36m0.3323\u001b[0m  0.0567\n",
      "     10        \u001b[36m0.2948\u001b[0m  0.0578\n",
      "  epoch    train_loss     dur\n",
      "-------  ------------  ------\n",
      "      1        \u001b[36m1.0502\u001b[0m  0.0652\n",
      "      2        \u001b[36m0.8247\u001b[0m  0.0664\n",
      "      3        \u001b[36m0.6875\u001b[0m  0.0645\n",
      "      4        \u001b[36m0.5967\u001b[0m  0.0569\n",
      "      5        \u001b[36m0.5282\u001b[0m  0.0579\n",
      "      6        \u001b[36m0.4504\u001b[0m  0.0561\n",
      "      7        \u001b[36m0.3900\u001b[0m  0.0586\n",
      "      8        \u001b[36m0.3320\u001b[0m  0.0655\n",
      "      9        0.3407  0.0587\n",
      "     10        \u001b[36m0.2890\u001b[0m  0.0566\n",
      "  epoch    train_loss     dur\n",
      "-------  ------------  ------\n",
      "      1        \u001b[36m1.2282\u001b[0m  0.0686\n",
      "      2        \u001b[36m0.9225\u001b[0m  0.0662\n",
      "      3        \u001b[36m0.6440\u001b[0m  0.0673\n",
      "      4        \u001b[36m0.6119\u001b[0m  0.0642\n",
      "      5        \u001b[36m0.5480\u001b[0m  0.0576\n",
      "      6        \u001b[36m0.4171\u001b[0m  0.0571\n",
      "      7        \u001b[36m0.3749\u001b[0m  0.0575\n",
      "      8        \u001b[36m0.3412\u001b[0m  0.0637\n",
      "      9        \u001b[36m0.3250\u001b[0m  0.0659\n",
      "     10        \u001b[36m0.2991\u001b[0m  0.0650\n",
      "  epoch    train_loss     dur\n",
      "-------  ------------  ------\n",
      "      1        \u001b[36m1.1633\u001b[0m  0.0651\n",
      "      2        \u001b[36m0.8553\u001b[0m  0.0628\n",
      "      3        \u001b[36m0.6487\u001b[0m  0.0602\n",
      "      4        \u001b[36m0.5580\u001b[0m  0.0592\n",
      "      5        \u001b[36m0.4681\u001b[0m  0.0605\n",
      "      6        \u001b[36m0.4116\u001b[0m  0.0584\n",
      "      7        \u001b[36m0.4014\u001b[0m  0.0573\n",
      "      8        \u001b[36m0.3632\u001b[0m  0.0601\n",
      "      9        \u001b[36m0.3347\u001b[0m  0.0593\n",
      "     10        \u001b[36m0.3093\u001b[0m  0.0579\n",
      "  epoch    train_loss     dur\n",
      "-------  ------------  ------\n",
      "      1        \u001b[36m1.1957\u001b[0m  0.0627\n",
      "      2        \u001b[36m0.7578\u001b[0m  0.0654\n",
      "      3        \u001b[36m0.6358\u001b[0m  0.0609\n",
      "      4        \u001b[36m0.5693\u001b[0m  0.0659\n",
      "      5        \u001b[36m0.4987\u001b[0m  0.0670\n",
      "      6        \u001b[36m0.4644\u001b[0m  0.0658\n",
      "      7        \u001b[36m0.4208\u001b[0m  0.0697\n",
      "      8        \u001b[36m0.3772\u001b[0m  0.0650\n",
      "      9        \u001b[36m0.3557\u001b[0m  0.0618\n",
      "     10        \u001b[36m0.3427\u001b[0m  0.0613\n",
      "  epoch    train_loss     dur\n",
      "-------  ------------  ------\n",
      "      1        \u001b[36m1.0736\u001b[0m  0.0566\n",
      "      2        \u001b[36m0.8492\u001b[0m  0.0606\n",
      "      3        \u001b[36m0.6069\u001b[0m  0.0581\n",
      "      4        \u001b[36m0.5481\u001b[0m  0.0592\n",
      "      5        \u001b[36m0.5266\u001b[0m  0.0596\n",
      "      6        \u001b[36m0.4515\u001b[0m  0.0594\n",
      "      7        \u001b[36m0.3899\u001b[0m  0.0617\n",
      "      8        0.3920  0.0600\n",
      "      9        \u001b[36m0.3348\u001b[0m  0.0596\n",
      "     10        \u001b[36m0.3100\u001b[0m  0.0603\n"
     ]
    },
    {
     "data": {
      "text/plain": [
       "GridSearchCV(cv=3,\n",
       "             estimator=<class 'skorch.classifier.NeuralNetClassifier'>[uninitialized](\n",
       "  module=FossilNet(\n",
       "    (layer1): Sequential(\n",
       "      (0): Conv2d(1, 24, kernel_size=(3, 3), stride=(1, 1), padding=(1, 1))\n",
       "      (1): MaxPool2d(kernel_size=2, stride=2, padding=0, dilation=1, ceil_mode=False)\n",
       "      (2): ReLU()\n",
       "      (3): BatchNorm2d(24, eps=1e-05, momentum=0.1, affine=True, track_running_stats=True...\n",
       "      (pool): MaxPool2d(kernel_size=2, stride=2, padding=0, dilation=1, ceil_mode=False)\n",
       "      (relu): ReLU()\n",
       "      (bn): BatchNorm2d(8, eps=1e-05, momentum=0.1, affine=True, track_running_stats=True)\n",
       "    )\n",
       "    (drop_out): Dropout(p=0.25, inplace=False)\n",
       "    (fc): Linear(in_features=512, out_features=3, bias=True)\n",
       "    (smax): Softmax(dim=-1)\n",
       "  ),\n",
       "),\n",
       "             param_grid={'lr': [0.001, 0.003, 0.01],\n",
       "                         'optimizer__weight_decay': [0.001, 0.01, 0.1]},\n",
       "             refit=False, scoring='f1_weighted')"
      ]
     },
     "execution_count": 175,
     "metadata": {},
     "output_type": "execute_result"
    }
   ],
   "source": [
    "from sklearn.model_selection import GridSearchCV\n",
    "\n",
    "cnn = NeuralNetClassifier(net,\n",
    "                          max_epochs=10,\n",
    "                          batch_size=100,\n",
    "                          optimizer=torch.optim.Adam,\n",
    "                          train_split=None,  # Not needed in CV.\n",
    "                          )\n",
    "\n",
    "params = {\n",
    "    'lr': [0.001, 0.003, 0.01],                     # Learning rate.\n",
    "    'optimizer__weight_decay': [0.001, 0.01, 0.1],  # L2 regularization.\n",
    "}\n",
    "\n",
    "gs = GridSearchCV(cnn, params, refit=False, cv=3, scoring='f1_weighted')\n",
    "\n",
    "gs.fit(X_train, y_train)"
   ]
  },
  {
   "cell_type": "code",
   "execution_count": 176,
   "metadata": {},
   "outputs": [
    {
     "name": "stdout",
     "output_type": "stream",
     "text": [
      "0.8606193874307436 {'lr': 0.001, 'optimizer__weight_decay': 0.1}\n"
     ]
    }
   ],
   "source": [
    "print(gs.best_score_, gs.best_params_)"
   ]
  },
  {
   "cell_type": "markdown",
   "metadata": {},
   "source": [
    "## What next?\n",
    "\n",
    "At this point you might:\n",
    "\n",
    "- Continue exploring model variations to find the best performance.\n",
    "- Check the model's performance against the test data.\n",
    "- Train the model on all your data.\n",
    "- Save the model to disk for use later or by someone else.\n",
    "- Make an app or API or some way for others to make inferences."
   ]
  },
  {
   "cell_type": "markdown",
   "metadata": {},
   "source": [
    "## Model persistence\n",
    "\n",
    "The easiest way to save a model is to `pickle` the trained model object."
   ]
  },
  {
   "cell_type": "code",
   "execution_count": 177,
   "metadata": {},
   "outputs": [],
   "source": [
    "import pickle\n",
    "\n",
    "# Saving.\n",
    "with open('fossil_classifier.pkl', 'wb') as f:\n",
    "    pickle.dump(cnn, f)\n",
    "\n",
    "# Loading.\n",
    "with open('fossil_classifier.pkl', 'rb') as f:\n",
    "    cnn = pickle.load(f)"
   ]
  },
  {
   "cell_type": "code",
   "execution_count": 178,
   "metadata": {},
   "outputs": [
    {
     "data": {
      "text/plain": [
       "array([2, 1, 1, 1, 2, 2, 1, 1, 0, 0, 0, 2, 2, 1, 2, 0, 1, 0, 2, 1, 1, 2,\n",
       "       2, 1, 1, 0, 0, 1, 1, 0, 2, 1, 2, 1, 0, 2, 2, 1, 0, 1, 2, 1, 1, 0,\n",
       "       0, 2, 0, 0, 1, 2, 0, 2, 0, 1, 1, 2, 0, 0, 2, 2, 0, 2, 0, 0, 0, 0,\n",
       "       1, 2, 0, 2, 2, 2, 1, 0, 2, 0, 0, 2, 1, 1, 1, 0, 2, 0, 1, 2, 1, 2])"
      ]
     },
     "execution_count": 178,
     "metadata": {},
     "output_type": "execute_result"
    }
   ],
   "source": [
    "cnn.initialize()\n",
    "cnn.predict(X_val)"
   ]
  },
  {
   "cell_type": "markdown",
   "metadata": {},
   "source": [
    "---\n",
    "\n",
    "&copy; 2022 Agile Scientific"
   ]
  }
 ],
 "metadata": {
  "celltoolbar": "Tags",
  "kernelspec": {
   "display_name": "geoml",
   "language": "python",
   "name": "geoml"
  },
  "language_info": {
   "codemirror_mode": {
    "name": "ipython",
    "version": 3
   },
   "file_extension": ".py",
   "mimetype": "text/x-python",
   "name": "python",
   "nbconvert_exporter": "python",
   "pygments_lexer": "ipython3",
   "version": "3.9.7"
  }
 },
 "nbformat": 4,
 "nbformat_minor": 4
}
