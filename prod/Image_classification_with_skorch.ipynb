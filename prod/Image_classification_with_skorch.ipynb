{
 "cells": [
  {
   "cell_type": "markdown",
   "metadata": {},
   "source": [
    "# Image classification with `skorch`\n",
    "\n",
    "**Make sure you look at [`Image classification`](Image_classification.ipynb) before coming here.**\n",
    "\n",
    "**I recommend using the notebook [`Image classification with PyTorch`](Image_classification_with_Scikit-Learn.ipynb) instead of this one.**\n",
    "\n",
    "We'll use `Pytorch` together with supporting libraries `tensorlayers` and `skorch` to train a classifier for fossil images."
   ]
  },
  {
   "cell_type": "code",
   "execution_count": 1,
   "metadata": {},
   "outputs": [],
   "source": [
    "import matplotlib.pyplot as plt\n",
    "import numpy as np"
   ]
  },
  {
   "cell_type": "markdown",
   "metadata": {},
   "source": [
    "## The fossil dataset\n",
    "\n",
    "Let's generate a workflow to classify images using a CNN.\n",
    "We'll make use of a collection of functions in `utils.py` to help process the images found in the `data/fossils` folder."
   ]
  },
  {
   "cell_type": "code",
   "execution_count": 2,
   "metadata": {},
   "outputs": [],
   "source": [
    "import numpy as np\n",
    "\n",
    "ds = np.DataSource('../data/')\n",
    "\n",
    "X = np.load(ds.open('https://geocomp.s3.amazonaws.com/data/fossils_X.npy', mode='rb'))\n",
    "y = np.load(ds.open('https://geocomp.s3.amazonaws.com/data/fossils_y.npy', mode='rb'))"
   ]
  },
  {
   "cell_type": "code",
   "execution_count": 3,
   "metadata": {},
   "outputs": [],
   "source": [
    "from sklearn.model_selection import train_test_split\n",
    "\n",
    "X_train, X_val, y_train, y_val = train_test_split(X, y, test_size=0.15, random_state=42)"
   ]
  },
  {
   "cell_type": "code",
   "execution_count": 4,
   "metadata": {},
   "outputs": [
    {
     "data": {
      "text/plain": [
       "(498, 1024)"
      ]
     },
     "execution_count": 4,
     "metadata": {},
     "output_type": "execute_result"
    }
   ],
   "source": [
    "X_train.shape"
   ]
  },
  {
   "cell_type": "code",
   "execution_count": 5,
   "metadata": {
    "scrolled": true
   },
   "outputs": [
    {
     "data": {
      "text/plain": [
       "<matplotlib.colorbar.Colorbar at 0x7efe789681f0>"
      ]
     },
     "execution_count": 5,
     "metadata": {},
     "output_type": "execute_result"
    },
    {
     "data": {
      "image/png": "[encoded data removed]",
      "text/plain": [
       "<Figure size 432x288 with 2 Axes>"
      ]
     },
     "metadata": {
      "needs_background": "light"
     },
     "output_type": "display_data"
    }
   ],
   "source": [
    "plt.imshow(X_train[1].reshape(32,32))\n",
    "plt.colorbar()"
   ]
  },
  {
   "cell_type": "markdown",
   "metadata": {},
   "source": [
    "## A convolutional neural network with skorch"
   ]
  },
  {
   "cell_type": "code",
   "execution_count": 6,
   "metadata": {},
   "outputs": [],
   "source": [
    "from sklearn.preprocessing import LabelEncoder\n",
    "\n",
    "encoder = LabelEncoder()\n",
    "encoder.fit(np.append(y_train, y_val))\n",
    "\n",
    "y_train = encoder.transform(y_train)\n",
    "y_val = encoder.transform(y_val)"
   ]
  },
  {
   "cell_type": "markdown",
   "metadata": {},
   "source": [
    "Skorch can use NumPY arrays, which is nice, but for some reason they have to be single precision (i.e. 32-bit floats)."
   ]
  },
  {
   "cell_type": "code",
   "execution_count": 18,
   "metadata": {},
   "outputs": [],
   "source": [
    "X_train = X_train.reshape(-1, 1, 32, 32).astype(np.float32)\n",
    "X_val = X_val.reshape(-1, 1, 32, 32).astype(np.float32)"
   ]
  },
  {
   "cell_type": "code",
   "execution_count": 14,
   "metadata": {},
   "outputs": [],
   "source": [
    "import torch\n",
    "from torch import nn\n",
    "import torchlayers as tl\n",
    "\n",
    "# torch.nn and torchlayers can be mixed easily.\n",
    "net_arch = torch.nn.Sequential(\n",
    "    tl.Conv(32, kernel_size=3),  # specify ONLY out_channels\n",
    "    nn.ELU(),  # use torch.nn wherever you wish\n",
    "    tl.BatchNorm(),\n",
    "    tl.Conv(16, kernel_size=3),\n",
    "    nn.ELU(),  \n",
    "    tl.BatchNorm(),\n",
    "    tl.GlobalMaxPool(),\n",
    "    tl.Linear(100), # Add a fully connected hidden layer\n",
    "    tl.ELU(), # Activate the hidden layer\n",
    "    tl.Linear(3),  # Output for 3 classes\n",
    "    tl.Softmax(dim=-1)\n",
    ")\n",
    "\n",
    "net = tl.build(net_arch, torch.randn(1, *X_train[0].shape))"
   ]
  },
  {
   "cell_type": "code",
   "execution_count": 15,
   "metadata": {},
   "outputs": [
    {
     "data": {
      "text/plain": [
       "Sequential(\n",
       "  (0): Conv2d(1, 32, kernel_size=(3, 3), stride=(1, 1), padding=(1, 1))\n",
       "  (1): ELU(alpha=1.0)\n",
       "  (2): BatchNorm2d(32, eps=1e-05, momentum=0.1, affine=True, track_running_stats=True)\n",
       "  (3): Conv2d(32, 16, kernel_size=(3, 3), stride=(1, 1), padding=(1, 1))\n",
       "  (4): ELU(alpha=1.0)\n",
       "  (5): BatchNorm2d(16, eps=1e-05, momentum=0.1, affine=True, track_running_stats=True)\n",
       "  (6): GlobalMaxPool()\n",
       "  (7): Linear(in_features=16, out_features=100, bias=True)\n",
       "  (8): ELU(alpha=1.0)\n",
       "  (9): Linear(in_features=100, out_features=3, bias=True)\n",
       "  (10): Softmax(dim=-1)\n",
       ")"
      ]
     },
     "execution_count": 15,
     "metadata": {},
     "output_type": "execute_result"
    }
   ],
   "source": [
    "net"
   ]
  },
  {
   "cell_type": "code",
   "execution_count": 16,
   "metadata": {},
   "outputs": [],
   "source": [
    "from skorch import NeuralNetClassifier\n",
    "from skorch.callbacks import EarlyStopping, Checkpoint\n",
    "\n",
    "# Callbacks.\n",
    "cp = Checkpoint(dirname='skorch_cp')\n",
    "es = EarlyStopping(monitor='valid_loss', patience=9)\n",
    "\n",
    "cnn = NeuralNetClassifier(\n",
    "    net,\n",
    "    max_epochs=100,\n",
    "    batch_size=100,\n",
    "    lr=0.002,\n",
    "    optimizer=torch.optim.Adam,\n",
    "    callbacks=[cp, es],\n",
    ")"
   ]
  },
  {
   "cell_type": "code",
   "execution_count": 17,
   "metadata": {
    "jupyter": {
     "outputs_hidden": true
    },
    "scrolled": true
   },
   "outputs": [
    {
     "name": "stdout",
     "output_type": "stream",
     "text": [
      "  epoch    train_loss    valid_acc    valid_loss    cp     dur\n",
      "-------  ------------  -----------  ------------  ----  ------\n",
      "      1        \u001b[36m1.1536\u001b[0m       \u001b[32m0.3200\u001b[0m        \u001b[35m1.1065\u001b[0m     +  0.3625\n",
      "      2        \u001b[36m1.0293\u001b[0m       0.3200        \u001b[35m1.1053\u001b[0m     +  0.4201\n",
      "      3        \u001b[36m1.0114\u001b[0m       0.3200        \u001b[35m1.1014\u001b[0m     +  0.4789\n",
      "      4        \u001b[36m0.9789\u001b[0m       \u001b[32m0.3700\u001b[0m        \u001b[35m1.0975\u001b[0m     +  0.5121\n",
      "      5        \u001b[36m0.9510\u001b[0m       \u001b[32m0.4200\u001b[0m        \u001b[35m1.0727\u001b[0m     +  0.5134\n",
      "      6        \u001b[36m0.9256\u001b[0m       \u001b[32m0.4600\u001b[0m        \u001b[35m1.0502\u001b[0m     +  0.5321\n",
      "      7        \u001b[36m0.8995\u001b[0m       \u001b[32m0.4900\u001b[0m        \u001b[35m1.0379\u001b[0m     +  0.5091\n",
      "      8        \u001b[36m0.8787\u001b[0m       \u001b[32m0.5000\u001b[0m        \u001b[35m1.0197\u001b[0m     +  0.5222\n",
      "      9        \u001b[36m0.8574\u001b[0m       0.5000        \u001b[35m1.0109\u001b[0m     +  0.5105\n",
      "     10        \u001b[36m0.8365\u001b[0m       0.4900        \u001b[35m0.9988\u001b[0m     +  0.5022\n",
      "     11        \u001b[36m0.8207\u001b[0m       0.4900        \u001b[35m0.9946\u001b[0m     +  0.4841\n",
      "     12        \u001b[36m0.8049\u001b[0m       \u001b[32m0.5300\u001b[0m        \u001b[35m0.9710\u001b[0m     +  0.4779\n",
      "     13        \u001b[36m0.7896\u001b[0m       \u001b[32m0.5400\u001b[0m        \u001b[35m0.9555\u001b[0m     +  0.4401\n",
      "     14        \u001b[36m0.7767\u001b[0m       \u001b[32m0.5500\u001b[0m        \u001b[35m0.9446\u001b[0m     +  0.4498\n",
      "     15        \u001b[36m0.7610\u001b[0m       0.5500        \u001b[35m0.9281\u001b[0m     +  0.4507\n",
      "     16        \u001b[36m0.7483\u001b[0m       0.5500        \u001b[35m0.9189\u001b[0m     +  0.4593\n",
      "     17        \u001b[36m0.7343\u001b[0m       \u001b[32m0.5600\u001b[0m        \u001b[35m0.9077\u001b[0m     +  0.4936\n",
      "     18        \u001b[36m0.7205\u001b[0m       0.5600        \u001b[35m0.9028\u001b[0m     +  0.5134\n",
      "     19        \u001b[36m0.7104\u001b[0m       0.5600        \u001b[35m0.8986\u001b[0m     +  0.4688\n",
      "     20        \u001b[36m0.6994\u001b[0m       \u001b[32m0.5700\u001b[0m        \u001b[35m0.8903\u001b[0m     +  0.4845\n",
      "     21        \u001b[36m0.6896\u001b[0m       0.5600        \u001b[35m0.8893\u001b[0m     +  0.4643\n",
      "     22        \u001b[36m0.6804\u001b[0m       0.5600        0.8899        0.4542\n",
      "     23        \u001b[36m0.6698\u001b[0m       0.5700        \u001b[35m0.8871\u001b[0m     +  0.4615\n",
      "     24        \u001b[36m0.6631\u001b[0m       \u001b[32m0.5800\u001b[0m        \u001b[35m0.8868\u001b[0m     +  0.4581\n",
      "     25        \u001b[36m0.6554\u001b[0m       0.5700        \u001b[35m0.8836\u001b[0m     +  0.4588\n",
      "     26        \u001b[36m0.6467\u001b[0m       0.5700        \u001b[35m0.8832\u001b[0m     +  0.4712\n",
      "     27        \u001b[36m0.6435\u001b[0m       0.5700        0.8834        0.4814\n",
      "     28        \u001b[36m0.6375\u001b[0m       \u001b[32m0.5900\u001b[0m        \u001b[35m0.8786\u001b[0m     +  0.4838\n",
      "     29        \u001b[36m0.6251\u001b[0m       0.5900        0.8801        0.5089\n",
      "     30        \u001b[36m0.6228\u001b[0m       0.5800        0.8847        0.4699\n",
      "     31        \u001b[36m0.6170\u001b[0m       0.5800        0.8847        0.4414\n",
      "     32        \u001b[36m0.6081\u001b[0m       0.5900        0.8799        0.4607\n",
      "     33        \u001b[36m0.6038\u001b[0m       0.5700        0.8874        0.4580\n",
      "     34        \u001b[36m0.5976\u001b[0m       \u001b[32m0.6000\u001b[0m        0.8804        0.4814\n",
      "     35        \u001b[36m0.5918\u001b[0m       0.5900        0.8789        0.4807\n",
      "     36        \u001b[36m0.5788\u001b[0m       \u001b[32m0.6100\u001b[0m        0.8941        0.4961\n",
      "Stopping since valid_loss has not improved in the last 9 epochs.\n"
     ]
    },
    {
     "data": {
      "text/plain": [
       "<class 'skorch.classifier.NeuralNetClassifier'>[initialized](\n",
       "  module_=Sequential(\n",
       "    (0): Conv2d(1, 32, kernel_size=(3, 3), stride=(1, 1), padding=(1, 1))\n",
       "    (1): ELU(alpha=1.0)\n",
       "    (2): BatchNorm2d(32, eps=1e-05, momentum=0.1, affine=True, track_running_stats=True)\n",
       "    (3): Conv2d(32, 16, kernel_size=(3, 3), stride=(1, 1), padding=(1, 1))\n",
       "    (4): ELU(alpha=1.0)\n",
       "    (5): BatchNorm2d(16, eps=1e-05, momentum=0.1, affine=True, track_running_stats=True)\n",
       "    (6): GlobalMaxPool()\n",
       "    (7): Linear(in_features=16, out_features=100, bias=True)\n",
       "    (8): ELU(alpha=1.0)\n",
       "    (9): Linear(in_features=100, out_features=3, bias=True)\n",
       "    (10): Softmax(dim=-1)\n",
       "  ),\n",
       ")"
      ]
     },
     "execution_count": 17,
     "metadata": {},
     "output_type": "execute_result"
    }
   ],
   "source": [
    "cnn.fit(X_train, y_train)"
   ]
  },
  {
   "cell_type": "code",
   "execution_count": 19,
   "metadata": {},
   "outputs": [
    {
     "data": {
      "text/plain": [
       "<matplotlib.legend.Legend at 0x7efe641c8700>"
      ]
     },
     "execution_count": 19,
     "metadata": {},
     "output_type": "execute_result"
    },
    {
     "data": {
      "image/png": "[encoded data removed]",
      "text/plain": [
       "<Figure size 432x288 with 1 Axes>"
      ]
     },
     "metadata": {
      "needs_background": "light"
     },
     "output_type": "display_data"
    }
   ],
   "source": [
    "plt.plot(cnn.history[:, 'train_loss'], label='Train loss')\n",
    "plt.plot(cnn.history[:, 'valid_loss'], label='Validation loss')\n",
    "plt.xlabel('Epoch')\n",
    "plt.ylabel('Loss')\n",
    "plt.legend()"
   ]
  },
  {
   "cell_type": "code",
   "execution_count": 20,
   "metadata": {},
   "outputs": [],
   "source": [
    "cnn.load_params(checkpoint=cp)\n",
    "\n",
    "y_pred = cnn.predict(X_val)"
   ]
  },
  {
   "cell_type": "code",
   "execution_count": 21,
   "metadata": {},
   "outputs": [
    {
     "name": "stdout",
     "output_type": "stream",
     "text": [
      "              precision    recall  f1-score   support\n",
      "\n",
      "           0       0.57      0.67      0.62        24\n",
      "           1       0.74      0.74      0.74        34\n",
      "           2       0.46      0.40      0.43        30\n",
      "\n",
      "    accuracy                           0.60        88\n",
      "   macro avg       0.59      0.60      0.59        88\n",
      "weighted avg       0.60      0.60      0.60        88\n",
      "\n"
     ]
    }
   ],
   "source": [
    "from sklearn.metrics import classification_report\n",
    "\n",
    "print(classification_report(y_pred, y_val))"
   ]
  },
  {
   "cell_type": "code",
   "execution_count": 22,
   "metadata": {},
   "outputs": [
    {
     "data": {
      "text/plain": [
       "array([[0.58530104, 0.04546485, 0.36923406],\n",
       "       [0.04333271, 0.6212834 , 0.33538392],\n",
       "       [0.02334902, 0.7148449 , 0.26180607],\n",
       "       [0.02414412, 0.7493779 , 0.22647792],\n",
       "       [0.31622937, 0.2921475 , 0.39162308],\n",
       "       [0.45035234, 0.0892497 , 0.460398  ],\n",
       "       [0.00959289, 0.79456747, 0.19583969],\n",
       "       [0.01284781, 0.7052605 , 0.28189167],\n",
       "       [0.24009119, 0.00668284, 0.7532259 ],\n",
       "       [0.3777745 , 0.16213979, 0.46008575]], dtype=float32)"
      ]
     },
     "execution_count": 22,
     "metadata": {},
     "output_type": "execute_result"
    }
   ],
   "source": [
    "y_probs = cnn.predict_proba(X_val)\n",
    "y_probs[:10]"
   ]
  },
  {
   "cell_type": "code",
   "execution_count": 24,
   "metadata": {},
   "outputs": [
    {
     "data": {
      "image/png": "[encoded data removed]",
      "text/plain": [
       "<Figure size 864x576 with 15 Axes>"
      ]
     },
     "metadata": {},
     "output_type": "display_data"
    }
   ],
   "source": [
    "import utils\n",
    "\n",
    "utils.visualize(X_val, y_val, y_probs,\n",
    "                ncols=5, nrows=3,\n",
    "                shape=(32, 32),\n",
    "                classes=encoder.classes_\n",
    "               )"
   ]
  },
  {
   "cell_type": "markdown",
   "metadata": {},
   "source": [
    "## The kernels"
   ]
  },
  {
   "cell_type": "code",
   "execution_count": 25,
   "metadata": {},
   "outputs": [
    {
     "data": {
      "text/plain": [
       "(32, 1, 3, 3)"
      ]
     },
     "execution_count": 25,
     "metadata": {},
     "output_type": "execute_result"
    }
   ],
   "source": [
    "w1 = cnn.module_[0].weight.detach().numpy()\n",
    "w1.shape"
   ]
  },
  {
   "cell_type": "code",
   "execution_count": 26,
   "metadata": {},
   "outputs": [
    {
     "data": {
      "image/png": "[encoded data removed]",
      "text/plain": [
       "<Figure size 864x432 with 32 Axes>"
      ]
     },
     "metadata": {
      "needs_background": "light"
     },
     "output_type": "display_data"
    }
   ],
   "source": [
    "fig, axs = plt.subplots(nrows=4, ncols=8, figsize=(12, 6))\n",
    "for w, ax in zip(w1, axs.ravel()):\n",
    "    ax.imshow(np.sum(w, axis=0))\n",
    "    ax.axis('off')"
   ]
  },
  {
   "cell_type": "code",
   "execution_count": 27,
   "metadata": {},
   "outputs": [
    {
     "data": {
      "image/png": "[encoded data removed]",
      "text/plain": [
       "<Figure size 864x216 with 16 Axes>"
      ]
     },
     "metadata": {
      "needs_background": "light"
     },
     "output_type": "display_data"
    }
   ],
   "source": [
    "w2 = cnn.module_[3].weight.detach().numpy()\n",
    "\n",
    "fig, axs = plt.subplots(nrows=2, ncols=8, figsize=(12, 3))\n",
    "for w, ax in zip(w2, axs.ravel()):\n",
    "    ax.imshow(np.sum(w, axis=0))\n",
    "    ax.axis('off')"
   ]
  },
  {
   "cell_type": "markdown",
   "metadata": {},
   "source": [
    "## Using grid search with this network"
   ]
  },
  {
   "cell_type": "markdown",
   "metadata": {},
   "source": [
    "In theory, you can also use `scikit-learn` training flow objects to train robust models such as `GridSearchCV`.\n",
    "\n",
    "This is potentially cool, but I am not 100% certain that the models are initializing for each model. If you want to use this, I suggest reading the `skorch` docs carefully."
   ]
  },
  {
   "cell_type": "code",
   "execution_count": 28,
   "metadata": {
    "scrolled": true
   },
   "outputs": [
    {
     "name": "stdout",
     "output_type": "stream",
     "text": [
      "  epoch    train_loss    valid_acc    valid_loss     dur\n",
      "-------  ------------  -----------  ------------  ------\n",
      "      1        \u001b[36m0.6992\u001b[0m       \u001b[32m0.7164\u001b[0m        \u001b[35m0.6886\u001b[0m  0.3013\n",
      "      2        \u001b[36m0.6426\u001b[0m       0.6716        \u001b[35m0.6863\u001b[0m  0.2732\n",
      "      3        \u001b[36m0.6035\u001b[0m       0.6866        0.6977  0.3028\n",
      "      4        \u001b[36m0.5857\u001b[0m       0.7015        \u001b[35m0.6834\u001b[0m  0.3102\n",
      "      5        0.5919       0.6716        0.7111  0.2915\n",
      "      6        \u001b[36m0.5845\u001b[0m       0.6567        0.7340  0.2850\n",
      "      7        \u001b[36m0.5709\u001b[0m       0.6567        0.7199  0.3061\n",
      "      8        \u001b[36m0.5705\u001b[0m       0.6567        0.7325  0.3121\n",
      "      9        \u001b[36m0.5652\u001b[0m       0.6567        0.7529  0.3154\n",
      "     10        \u001b[36m0.5575\u001b[0m       0.6269        0.7451  0.3298\n",
      "  epoch    train_loss    valid_acc    valid_loss     dur\n",
      "-------  ------------  -----------  ------------  ------\n",
      "      1        \u001b[36m0.7407\u001b[0m       \u001b[32m0.5821\u001b[0m        \u001b[35m0.8605\u001b[0m  0.3465\n",
      "      2        \u001b[36m0.7125\u001b[0m       \u001b[32m0.6418\u001b[0m        0.8749  0.3388\n",
      "      3        \u001b[36m0.6816\u001b[0m       0.6269        0.8642  0.3624\n",
      "      4        \u001b[36m0.6660\u001b[0m       0.5672        0.8665  0.3500\n",
      "      5        \u001b[36m0.6497\u001b[0m       0.5970        0.8663  0.3675\n",
      "      6        0.6507       0.6119        \u001b[35m0.8593\u001b[0m  0.3448\n",
      "      7        \u001b[36m0.6419\u001b[0m       0.5970        0.8700  0.3266\n",
      "      8        \u001b[36m0.6370\u001b[0m       0.5970        0.8692  0.3183\n",
      "      9        \u001b[36m0.6278\u001b[0m       0.5821        0.8600  0.3405\n",
      "     10        \u001b[36m0.6267\u001b[0m       0.5970        0.8648  0.3443\n",
      "  epoch    train_loss    valid_acc    valid_loss     dur\n",
      "-------  ------------  -----------  ------------  ------\n",
      "      1        \u001b[36m0.8124\u001b[0m       \u001b[32m0.5970\u001b[0m        \u001b[35m0.8538\u001b[0m  0.3465\n",
      "      2        \u001b[36m0.6595\u001b[0m       \u001b[32m0.6418\u001b[0m        0.9065  0.3249\n",
      "      3        0.7257       0.6119        0.8744  0.3146\n",
      "      4        0.6881       0.6119        0.8542  0.3349\n",
      "      5        \u001b[36m0.6400\u001b[0m       0.6119        0.8636  0.3150\n",
      "      6        0.6426       0.5821        0.8718  0.3612\n",
      "      7        0.6503       0.5970        0.8597  0.3623\n",
      "      8        \u001b[36m0.6370\u001b[0m       0.5970        \u001b[35m0.8497\u001b[0m  0.3953\n",
      "      9        \u001b[36m0.6175\u001b[0m       0.5970        0.8566  0.3389\n",
      "     10        \u001b[36m0.6135\u001b[0m       0.6269        0.8665  0.3518\n",
      "  epoch    train_loss    valid_acc    valid_loss     dur\n",
      "-------  ------------  -----------  ------------  ------\n",
      "      1        \u001b[36m0.9967\u001b[0m       \u001b[32m0.5821\u001b[0m        \u001b[35m0.9147\u001b[0m  0.3196\n",
      "      2        \u001b[36m0.8052\u001b[0m       \u001b[32m0.5970\u001b[0m        \u001b[35m0.8701\u001b[0m  0.3295\n",
      "      3        \u001b[36m0.6680\u001b[0m       \u001b[32m0.6119\u001b[0m        \u001b[35m0.7716\u001b[0m  0.3271\n",
      "      4        \u001b[36m0.6534\u001b[0m       \u001b[32m0.6418\u001b[0m        0.7825  0.3464\n",
      "      5        \u001b[36m0.6301\u001b[0m       0.6119        0.8261  0.3706\n",
      "      6        \u001b[36m0.6246\u001b[0m       0.6119        0.8386  0.3695\n",
      "      7        \u001b[36m0.5996\u001b[0m       0.5821        0.8327  0.4034\n",
      "      8        \u001b[36m0.5949\u001b[0m       0.5522        0.8688  0.3591\n",
      "      9        \u001b[36m0.5766\u001b[0m       0.5672        0.8473  0.3326\n",
      "     10        \u001b[36m0.5598\u001b[0m       0.5821        0.8462  0.3316\n",
      "  epoch    train_loss    valid_acc    valid_loss     dur\n",
      "-------  ------------  -----------  ------------  ------\n",
      "      1        \u001b[36m1.1841\u001b[0m       \u001b[32m0.6119\u001b[0m        \u001b[35m0.9721\u001b[0m  0.3147\n",
      "      2        \u001b[36m1.0369\u001b[0m       0.5373        \u001b[35m0.9425\u001b[0m  0.3214\n",
      "      3        \u001b[36m0.8733\u001b[0m       0.5224        0.9972  0.3260\n",
      "      4        \u001b[36m0.8566\u001b[0m       0.5672        \u001b[35m0.8973\u001b[0m  0.3263\n",
      "      5        \u001b[36m0.8205\u001b[0m       0.5672        \u001b[35m0.8878\u001b[0m  0.3083\n",
      "      6        \u001b[36m0.8204\u001b[0m       0.5522        0.9228  0.3318\n",
      "      7        \u001b[36m0.7881\u001b[0m       0.4925        0.9112  0.3342\n",
      "      8        \u001b[36m0.7783\u001b[0m       0.5075        0.8957  0.3286\n",
      "      9        \u001b[36m0.7565\u001b[0m       0.5821        0.9339  0.3560\n",
      "     10        0.7570       0.5821        0.9212  0.3322\n",
      "  epoch    train_loss    valid_acc    valid_loss     dur\n",
      "-------  ------------  -----------  ------------  ------\n",
      "      1        \u001b[36m1.4966\u001b[0m       \u001b[32m0.6119\u001b[0m        \u001b[35m1.0058\u001b[0m  0.3774\n",
      "      2        \u001b[36m1.0212\u001b[0m       0.5970        \u001b[35m0.9834\u001b[0m  0.3554\n",
      "      3        \u001b[36m0.9066\u001b[0m       0.5522        \u001b[35m0.9585\u001b[0m  0.3243\n",
      "      4        \u001b[36m0.8224\u001b[0m       0.5970        0.9934  0.3442\n",
      "      5        \u001b[36m0.8134\u001b[0m       0.5821        0.9758  0.3952\n",
      "      6        0.8328       0.5224        \u001b[35m0.9136\u001b[0m  0.3637\n",
      "      7        \u001b[36m0.7988\u001b[0m       0.5373        \u001b[35m0.8755\u001b[0m  0.4018\n",
      "      8        \u001b[36m0.7741\u001b[0m       0.5821        0.8797  0.3433\n",
      "      9        \u001b[36m0.7482\u001b[0m       0.5224        0.8975  0.3421\n",
      "     10        \u001b[36m0.7450\u001b[0m       0.5373        0.9114  0.3343\n",
      "0.6586345381526105 {'lr': 0.001}\n"
     ]
    }
   ],
   "source": [
    "from sklearn.model_selection import GridSearchCV\n",
    "\n",
    "cnn = NeuralNetClassifier(\n",
    "    net,\n",
    "    max_epochs=10,\n",
    "    batch_size=100,\n",
    "    optimizer=torch.optim.Adam,\n",
    ")\n",
    "\n",
    "params = {\n",
    "    'lr': [0.001, 0.003],\n",
    "}\n",
    "\n",
    "gs = GridSearchCV(cnn, params, refit=False, cv=3, scoring='accuracy')\n",
    "\n",
    "gs.fit(X_train, y_train)\n",
    "print(gs.best_score_, gs.best_params_)"
   ]
  },
  {
   "cell_type": "markdown",
   "metadata": {},
   "source": [
    "## Model persistence\n",
    "\n",
    "The easiest way to save a model is to `pickle` the trained model object."
   ]
  },
  {
   "cell_type": "code",
   "execution_count": 29,
   "metadata": {},
   "outputs": [],
   "source": [
    "import pickle\n",
    "\n",
    "# Saving.\n",
    "with open('torch_classifier.pkl', 'wb') as f:\n",
    "    pickle.dump(cnn, f)\n",
    "\n",
    "# Loading.\n",
    "with open('torch_classifier.pkl', 'rb') as f:\n",
    "    cnn = pickle.load(f)"
   ]
  },
  {
   "cell_type": "code",
   "execution_count": 31,
   "metadata": {},
   "outputs": [
    {
     "data": {
      "text/plain": [
       "array([0, 1, 1, 1, 2, 2, 1, 1, 2, 2, 2, 2, 2, 1, 2, 0, 1, 1, 2, 1, 2, 2,\n",
       "       2, 1, 1, 0, 2, 2, 2, 0, 0, 1, 0, 1, 2, 1, 1, 1, 0, 1, 2, 1, 2, 0,\n",
       "       2, 2, 2, 2, 1, 1, 0, 1, 0, 1, 1, 1, 0, 0, 2, 2, 0, 1, 0, 0, 0, 0,\n",
       "       1, 1, 0, 2, 2, 1, 1, 0, 2, 0, 0, 1, 1, 1, 2, 0, 2, 0, 1, 0, 1, 2])"
      ]
     },
     "execution_count": 31,
     "metadata": {},
     "output_type": "execute_result"
    }
   ],
   "source": [
    "cnn.initialize()\n",
    "cnn.predict(X_val)"
   ]
  },
  {
   "cell_type": "markdown",
   "metadata": {},
   "source": [
    "---\n",
    "\n",
    "&copy; 2020 Agile Scientific"
   ]
  }
 ],
 "metadata": {
  "celltoolbar": "Tags",
  "kernelspec": {
   "display_name": "geoml",
   "language": "python",
   "name": "geoml"
  },
  "language_info": {
   "codemirror_mode": {
    "name": "ipython",
    "version": 3
   },
   "file_extension": ".py",
   "mimetype": "text/x-python",
   "name": "python",
   "nbconvert_exporter": "python",
   "pygments_lexer": "ipython3",
   "version": "3.7.10"
  }
 },
 "nbformat": 4,
 "nbformat_minor": 4
}
