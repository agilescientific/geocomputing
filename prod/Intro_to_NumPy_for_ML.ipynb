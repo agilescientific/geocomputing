{
 "cells": [
  {
   "cell_type": "markdown",
   "metadata": {
    "hideCode": false,
    "hidePrompt": false
   },
   "source": [
    "# Intro to NumPy\n",
    "\n",
    "We're going to meet the NumPy library for maths, numerics, ndarrays, linear algebra, and more."
   ]
  },
  {
   "cell_type": "code",
   "execution_count": 2,
   "metadata": {
    "hideCode": false,
    "hidePrompt": false
   },
   "outputs": [],
   "source": [
    "import numpy as np"
   ]
  },
  {
   "cell_type": "markdown",
   "metadata": {
    "hideCode": false,
    "hidePrompt": false
   },
   "source": [
    "Let's load a bit of data. NumPy provides a convenient way to load data from a URL. "
   ]
  },
  {
   "cell_type": "code",
   "execution_count": 7,
   "metadata": {
    "hideCode": false,
    "hidePrompt": false
   },
   "outputs": [],
   "source": [
    "ds = np.DataSource('../data/')\n",
    "\n",
    "f = ds.open('https://geocomp.s3.amazonaws.com/data/GR-NPHI-RHOB-DT.npy', mode='rb')\n",
    "\n",
    "data = np.load(f)  # f could also just be a local filename.\n",
    "\n",
    "dt = data[:, -1]"
   ]
  },
  {
   "cell_type": "code",
   "execution_count": 8,
   "metadata": {
    "tags": [
     "hide"
    ]
   },
   "outputs": [
    {
     "data": {
      "text/plain": [
       "(71,)"
      ]
     },
     "execution_count": 8,
     "metadata": {},
     "output_type": "execute_result"
    }
   ],
   "source": [
    "dt.shape"
   ]
  },
  {
   "cell_type": "code",
   "execution_count": 9,
   "metadata": {
    "hideCode": false,
    "hidePrompt": false
   },
   "outputs": [
    {
     "data": {
      "text/plain": [
       "78.26930000272084"
      ]
     },
     "execution_count": 9,
     "metadata": {},
     "output_type": "execute_result"
    }
   ],
   "source": [
    "dt[30]"
   ]
  },
  {
   "cell_type": "code",
   "execution_count": 10,
   "metadata": {
    "hideCode": false,
    "hidePrompt": false
   },
   "outputs": [
    {
     "data": {
      "text/plain": [
       "array([78.2693    , 78.8674    , 80.2621    , 78.1063    , 78.9166    ,\n",
       "       78.1695    , 78.44      , 79.0334    , 76.98660001, 80.0743    ])"
      ]
     },
     "execution_count": 10,
     "metadata": {},
     "output_type": "execute_result"
    }
   ],
   "source": [
    "dt[30:40]"
   ]
  },
  {
   "cell_type": "markdown",
   "metadata": {
    "hideCode": false,
    "hidePrompt": false
   },
   "source": [
    "These are NumPy arrays, which we'll meet properly in a minute. For now, just notice that they look a lot like lists... which might mean that even 'naive' functions that were written for scalar quantities (i.e. not for sequences) work on them."
   ]
  },
  {
   "cell_type": "code",
   "execution_count": 12,
   "metadata": {
    "hideCode": false,
    "hidePrompt": false
   },
   "outputs": [
    {
     "data": {
      "text/plain": [
       "array([3693.19799659, 3730.70388886, 3675.62822147, 3726.34358651,\n",
       "       3758.25354638, 3696.18073454, 3607.42931629, 3684.71062684,\n",
       "       3678.12541085, 3535.17545983, 3541.32004803, 3542.49306423,\n",
       "       3712.37837027, 3827.35706421, 3842.49308177, 3697.08636112,\n",
       "       3674.91029743, 3824.90277739, 3850.38573334, 3808.80022796,\n",
       "       3869.13980179, 3830.30059314, 3850.70678409, 3842.64809897,\n",
       "       3885.83696567, 3800.93477063, 3821.36857149, 3856.63637537,\n",
       "       3868.3197557 , 3872.90567032, 3894.24716957, 3864.7146982 ,\n",
       "       3797.55824988, 3902.37407209, 3862.30526925, 3899.21900492,\n",
       "       3885.77256501, 3856.59733733, 3959.13054973, 3806.46474594,\n",
       "       3756.12773794, 3640.62884489, 3823.89987612, 3790.51674394,\n",
       "       3797.19869392, 3787.31398921, 3865.04794546, 3941.28927231,\n",
       "       3866.68561106, 3874.46135048, 3865.709709  , 3834.2709351 ,\n",
       "       3999.79528586, 3841.1856258 , 3890.95620754, 3940.76951038,\n",
       "       3877.44821156, 4002.09033078, 3839.99032451, 3954.82571761,\n",
       "       3863.58796492, 3792.44571667, 3809.65713052, 3841.98452122,\n",
       "       3857.15370384, 3685.92262941, 3802.48059453, 3799.24339241,\n",
       "       3752.1465896 , 3791.70030634, 3819.79299436])"
      ]
     },
     "execution_count": 12,
     "metadata": {},
     "output_type": "execute_result"
    }
   ],
   "source": [
    "def vp_from_dt(dt):\n",
    "    return 1e6 / dt\n",
    "\n",
    "vp_from_dt(dt/0.3048)"
   ]
  },
  {
   "cell_type": "markdown",
   "metadata": {
    "hideCode": false,
    "hidePrompt": false
   },
   "source": [
    "Our functions do work on them!"
   ]
  },
  {
   "cell_type": "markdown",
   "metadata": {
    "hideCode": false,
    "hidePrompt": false
   },
   "source": [
    "## What is NumPy?\n",
    "\n",
    "NumPy provides two fundametal objects: an _n_-dimensional array object (`ndarray`) and a universal function object (`ufunc`). The `ndarray` is a data structure, and the `ufunc` is a protocol for performing very fast elementwise operations on those data structures. \n",
    "\n",
    "As we have seen, NumPy's `ndarray` data structures are a lot like lists. As we'll see, however, they have a big advantage over lists.\n",
    "\n",
    "We instantiate an `ndarray` with a list, or any sequence:"
   ]
  },
  {
   "cell_type": "code",
   "execution_count": 14,
   "metadata": {
    "hideCode": false,
    "hidePrompt": false
   },
   "outputs": [],
   "source": [
    "a = np.array([1, 2, 3, 4, 5])"
   ]
  },
  {
   "cell_type": "code",
   "execution_count": 15,
   "metadata": {
    "hideCode": false,
    "hidePrompt": false
   },
   "outputs": [
    {
     "ename": "AttributeError",
     "evalue": "'numpy.ndarray' object has no attribute 'append'",
     "output_type": "error",
     "traceback": [
      "\u001b[0;31m---------------------------------------------------------------------------\u001b[0m",
      "\u001b[0;31mAttributeError\u001b[0m                            Traceback (most recent call last)",
      "\u001b[0;32m<ipython-input-15-a09ce8848fdf>\u001b[0m in \u001b[0;36m<module>\u001b[0;34m\u001b[0m\n\u001b[0;32m----> 1\u001b[0;31m \u001b[0ma\u001b[0m\u001b[0;34m.\u001b[0m\u001b[0mappend\u001b[0m\u001b[0;34m(\u001b[0m\u001b[0;36m6\u001b[0m\u001b[0;34m)\u001b[0m\u001b[0;34m\u001b[0m\u001b[0;34m\u001b[0m\u001b[0m\n\u001b[0m",
      "\u001b[0;31mAttributeError\u001b[0m: 'numpy.ndarray' object has no attribute 'append'"
     ]
    }
   ],
   "source": [
    "a.append(6)"
   ]
  },
  {
   "cell_type": "markdown",
   "metadata": {
    "hideCode": false,
    "hidePrompt": false
   },
   "source": [
    "OK, so they're not exactly like lists. Indeed, there's one very big difference. \n",
    "\n",
    "Recall that trying to multiply a list doesn't do what you want it to do:"
   ]
  },
  {
   "cell_type": "code",
   "execution_count": 16,
   "metadata": {
    "hideCode": false,
    "hidePrompt": false
   },
   "outputs": [
    {
     "name": "stdout",
     "output_type": "stream",
     "text": [
      "[1, 2, 3, 4, 5, 1, 2, 3, 4, 5, 1, 2, 3, 4, 5, 1, 2, 3, 4, 5, 1, 2, 3, 4, 5, 1, 2, 3, 4, 5, 1, 2, 3, 4, 5, 1, 2, 3, 4, 5, 1, 2, 3, 4, 5, 1, 2, 3, 4, 5]\n"
     ]
    }
   ],
   "source": [
    "b = [1, 2, 3, 4, 5]\n",
    "print(10 * b)"
   ]
  },
  {
   "cell_type": "markdown",
   "metadata": {
    "hideCode": false,
    "hidePrompt": false
   },
   "source": [
    "Instead, to multiply the numbers in a list by 10, we have to do something like this:"
   ]
  },
  {
   "cell_type": "code",
   "execution_count": 17,
   "metadata": {
    "hideCode": false,
    "hidePrompt": false
   },
   "outputs": [
    {
     "data": {
      "text/plain": [
       "[10, 20, 30, 40, 50]"
      ]
     },
     "execution_count": 17,
     "metadata": {},
     "output_type": "execute_result"
    }
   ],
   "source": [
    "[10 * n for n in b]"
   ]
  },
  {
   "cell_type": "markdown",
   "metadata": {
    "hideCode": false,
    "hidePrompt": false
   },
   "source": [
    "But NumPy has a superpower: ufunc. What the heck is ufunc? It doesn't really matter, the point is what it enables: elementwise arithmetic. "
   ]
  },
  {
   "cell_type": "code",
   "execution_count": 18,
   "metadata": {
    "hideCode": false,
    "hidePrompt": false
   },
   "outputs": [
    {
     "data": {
      "text/plain": [
       "array([1, 2, 3, 4, 5])"
      ]
     },
     "execution_count": 18,
     "metadata": {},
     "output_type": "execute_result"
    }
   ],
   "source": [
    "a"
   ]
  },
  {
   "cell_type": "code",
   "execution_count": 20,
   "metadata": {
    "hideCode": false,
    "hidePrompt": false
   },
   "outputs": [
    {
     "data": {
      "text/plain": [
       "array([1000, 2000, 3000, 4000, 5000])"
      ]
     },
     "execution_count": 20,
     "metadata": {},
     "output_type": "execute_result"
    }
   ],
   "source": [
    "1000 * a"
   ]
  },
  {
   "cell_type": "markdown",
   "metadata": {},
   "source": [
    "Specifically an N-dimensional array is a homogenous collection of 'items' indexed using N integers. With a 1-D array, you can index into a single element using 1 integer, with a 2-D array you need two integers, etc. \n",
    "\n",
    "This proves to be A Very Powerful Thing.\n",
    "\n",
    "NumPy contains lots of other tools, including convolution, interpolation, and linear algebra operators, but most of what we do with it every day revolves around the `ndarray`, so we're going to spend a bit of time getting to know them."
   ]
  },
  {
   "cell_type": "markdown",
   "metadata": {
    "hideCode": false,
    "hidePrompt": false
   },
   "source": [
    "## The `ndarray`"
   ]
  },
  {
   "cell_type": "markdown",
   "metadata": {},
   "source": [
    "There are two essential pieces of information that define an _n_-dimensional array. The shape of the array, and the kind of item that the array is composed of:"
   ]
  },
  {
   "cell_type": "markdown",
   "metadata": {},
   "source": [
    "### shape\n",
    "\n",
    "    >>> a = np.arange(5)\n",
    "    >>> a.shape\n",
    "    (5,)\n",
    "\n",
    "is an `tuple` of _n_ integers (one for each dimension) that provides information about how far the index can vary in that dimension. \n",
    "\n",
    "### dtype\n",
    "\n",
    "    >>> a.dtype\n",
    "    dtype('int64')\n",
    "\n",
    "Because the `ndarray` is a homogeneous collection of exactly the same data type, NumPy code can be very fast."
   ]
  },
  {
   "cell_type": "markdown",
   "metadata": {},
   "source": [
    "## Array creation\n",
    "\n",
    "There are plenty [array creation functions](https://docs.scipy.org/doc/numpy/reference/routines.array-creation.html) in NumPy allowing you to generate data from scratch, or from existing data. \n",
    "\n",
    "- `np.ones`, `np.zeros`, `np.ones_like`\n",
    "\n",
    "- `np.arange`, `np.linspace`\n",
    "\n",
    "- `np.random` module\n",
    "\n",
    "Let's look at a few of them:"
   ]
  },
  {
   "cell_type": "code",
   "execution_count": null,
   "metadata": {},
   "outputs": [],
   "source": []
  },
  {
   "cell_type": "code",
   "execution_count": null,
   "metadata": {
    "hideCode": false,
    "hidePrompt": false,
    "tags": [
     "hide"
    ]
   },
   "outputs": [],
   "source": [
    "np.ones(10), np.zeros(10), np.ones_like([2, 4, 6, 8])"
   ]
  },
  {
   "cell_type": "code",
   "execution_count": 36,
   "metadata": {
    "tags": [
     "hide"
    ]
   },
   "outputs": [
    {
     "data": {
      "text/plain": [
       "array([[65537, 65537, 65537, 65537, 65537],\n",
       "       [65537, 65537, 65537, 65537, 65537],\n",
       "       [65537, 65537, 65537, 65537, 65537]], dtype=int32)"
      ]
     },
     "execution_count": 36,
     "metadata": {},
     "output_type": "execute_result"
    }
   ],
   "source": [
    "# start with...\n",
    "np.ones((3,5), dtype='int16')  \n",
    "np.ones((3,5)).dtype\n",
    "\n",
    "# then try...\n",
    "np.ones((3,5), dtype='int16') + 2**16"
   ]
  },
  {
   "cell_type": "code",
   "execution_count": 37,
   "metadata": {
    "tags": [
     "hide"
    ]
   },
   "outputs": [
    {
     "data": {
      "text/plain": [
       "array([[0., 0., 0., 0., 0.],\n",
       "       [0., 0., 0., 0., 0.],\n",
       "       [0., 0., 0., 0., 0.]])"
      ]
     },
     "execution_count": 37,
     "metadata": {},
     "output_type": "execute_result"
    }
   ],
   "source": [
    "np.zeros((3,5))"
   ]
  },
  {
   "cell_type": "code",
   "execution_count": 14,
   "metadata": {
    "tags": [
     "hide"
    ]
   },
   "outputs": [
    {
     "data": {
      "image/png": "[encoded data removed]",
      "text/plain": [
       "<Figure size 432x288 with 1 Axes>"
      ]
     },
     "metadata": {
      "needs_background": "light"
     },
     "output_type": "display_data"
    }
   ],
   "source": [
    "import matplotlib.pyplot as plt\n",
    "\n",
    "dz = 0.1524\n",
    "md = np.arange(0, dz*dt.size, dz)\n",
    "\n",
    "fig, ax = plt.subplots()\n",
    "ax.plot(dt, md)\n",
    "ax.invert_yaxis()"
   ]
  },
  {
   "cell_type": "code",
   "execution_count": 52,
   "metadata": {
    "hideCode": false,
    "hidePrompt": false,
    "tags": [
     "hide"
    ]
   },
   "outputs": [
    {
     "data": {
      "text/plain": [
       "array([3.14159265, 3.14159265, 3.14159265, 3.14159265, 3.14159265,\n",
       "       3.14159265, 3.14159265, 3.14159265, 3.14159265, 3.14159265])"
      ]
     },
     "execution_count": 52,
     "metadata": {},
     "output_type": "execute_result"
    }
   ],
   "source": [
    "np.ones(10) * np.pi"
   ]
  },
  {
   "cell_type": "code",
   "execution_count": 55,
   "metadata": {
    "tags": [
     "hide"
    ]
   },
   "outputs": [
    {
     "name": "stdout",
     "output_type": "stream",
     "text": [
      "1.75 µs ± 266 ns per loop (mean ± std. dev. of 7 runs, 1000000 loops each)\n"
     ]
    }
   ],
   "source": [
    "%timeit np.ones((10,10,10))"
   ]
  },
  {
   "cell_type": "code",
   "execution_count": 56,
   "metadata": {
    "tags": [
     "hide"
    ]
   },
   "outputs": [
    {
     "name": "stdout",
     "output_type": "stream",
     "text": [
      "463 ns ± 6.74 ns per loop (mean ± std. dev. of 7 runs, 1000000 loops each)\n"
     ]
    }
   ],
   "source": [
    "# np.empty can be way faster than ones or zeros because it grabs whatever is in memory\n",
    "\n",
    "%timeit np.empty((10,10,10))"
   ]
  },
  {
   "cell_type": "code",
   "execution_count": 57,
   "metadata": {
    "hideCode": false,
    "hidePrompt": false,
    "tags": [
     "hide"
    ]
   },
   "outputs": [
    {
     "data": {
      "text/plain": [
       "array([0, 1, 2, 3, 4, 5, 6, 7, 8, 9])"
      ]
     },
     "execution_count": 57,
     "metadata": {},
     "output_type": "execute_result"
    }
   ],
   "source": [
    "np.arange(0, 10, 1)"
   ]
  },
  {
   "cell_type": "code",
   "execution_count": 58,
   "metadata": {
    "hideCode": false,
    "hidePrompt": false,
    "tags": [
     "hide"
    ]
   },
   "outputs": [
    {
     "data": {
      "text/plain": [
       "dtype('int64')"
      ]
     },
     "execution_count": 58,
     "metadata": {},
     "output_type": "execute_result"
    }
   ],
   "source": [
    "np.arange(0, 10, 1).dtype"
   ]
  },
  {
   "cell_type": "code",
   "execution_count": 62,
   "metadata": {
    "hideCode": false,
    "hidePrompt": false,
    "tags": [
     "hide"
    ]
   },
   "outputs": [],
   "source": [
    "np.linspace(0, 9, 10)\n",
    "\n",
    "a, step = np.linspace(0, 100, 101, retstep=True)"
   ]
  },
  {
   "cell_type": "code",
   "execution_count": 64,
   "metadata": {
    "tags": [
     "hide"
    ]
   },
   "outputs": [
    {
     "data": {
      "text/plain": [
       "array([  0.,   1.,   2.,   3.,   4.,   5.,   6.,   7.,   8.,   9.,  10.,\n",
       "        11.,  12.,  13.,  14.,  15.,  16.,  17.,  18.,  19.,  20.,  21.,\n",
       "        22.,  23.,  24.,  25.,  26.,  27.,  28.,  29.,  30.,  31.,  32.,\n",
       "        33.,  34.,  35.,  36.,  37.,  38.,  39.,  40.,  41.,  42.,  43.,\n",
       "        44.,  45.,  46.,  47.,  48.,  49.,  50.,  51.,  52.,  53.,  54.,\n",
       "        55.,  56.,  57.,  58.,  59.,  60.,  61.,  62.,  63.,  64.,  65.,\n",
       "        66.,  67.,  68.,  69.,  70.,  71.,  72.,  73.,  74.,  75.,  76.,\n",
       "        77.,  78.,  79.,  80.,  81.,  82.,  83.,  84.,  85.,  86.,  87.,\n",
       "        88.,  89.,  90.,  91.,  92.,  93.,  94.,  95.,  96.,  97.,  98.,\n",
       "        99., 100.])"
      ]
     },
     "execution_count": 64,
     "metadata": {},
     "output_type": "execute_result"
    }
   ],
   "source": [
    "a"
   ]
  },
  {
   "cell_type": "code",
   "execution_count": 65,
   "metadata": {
    "tags": [
     "hide"
    ]
   },
   "outputs": [
    {
     "data": {
      "text/plain": [
       "array([  10.        ,   10.98541142,   12.06792641,   13.25711366,\n",
       "         14.56348478,   15.9985872 ,   17.57510625,   19.30697729,\n",
       "         21.20950888,   23.29951811,   25.59547923,   28.11768698,\n",
       "         30.88843596,   33.93221772,   37.2759372 ,   40.94915062,\n",
       "         44.98432669,   49.41713361,   54.28675439,   59.63623317,\n",
       "         65.51285569,   71.9685673 ,   79.06043211,   86.85113738,\n",
       "         95.40954763,  104.81131342,  115.13953993,  126.48552169,\n",
       "        138.94954944,  152.64179672,  167.68329368,  184.20699693,\n",
       "        202.35896477,  222.29964825,  244.20530945,  268.26957953,\n",
       "        294.70517026,  323.74575428,  355.64803062,  390.69399371,\n",
       "        429.19342601,  471.48663635,  517.94746792,  568.9866029 ,\n",
       "        625.05519253,  686.648845  ,  754.31200634,  828.64277285,\n",
       "        910.29817799, 1000.        ])"
      ]
     },
     "execution_count": 65,
     "metadata": {},
     "output_type": "execute_result"
    }
   ],
   "source": [
    "np.logspace(1, 3, 50)"
   ]
  },
  {
   "cell_type": "code",
   "execution_count": 66,
   "metadata": {
    "hideCode": false,
    "hidePrompt": false,
    "tags": [
     "hide"
    ]
   },
   "outputs": [
    {
     "data": {
      "text/plain": [
       "array([[1., 0., 0., 0., 0.],\n",
       "       [0., 1., 0., 0., 0.],\n",
       "       [0., 0., 1., 0., 0.],\n",
       "       [0., 0., 0., 1., 0.],\n",
       "       [0., 0., 0., 0., 1.]])"
      ]
     },
     "execution_count": 66,
     "metadata": {},
     "output_type": "execute_result"
    }
   ],
   "source": [
    "np.eye(5)"
   ]
  },
  {
   "cell_type": "markdown",
   "metadata": {},
   "source": [
    "## Broadcasting"
   ]
  },
  {
   "cell_type": "code",
   "execution_count": null,
   "metadata": {},
   "outputs": [],
   "source": []
  },
  {
   "cell_type": "code",
   "execution_count": null,
   "metadata": {},
   "outputs": [],
   "source": []
  },
  {
   "cell_type": "code",
   "execution_count": null,
   "metadata": {},
   "outputs": [],
   "source": []
  },
  {
   "cell_type": "code",
   "execution_count": null,
   "metadata": {
    "hideCode": false,
    "hidePrompt": false,
    "tags": [
     "hide"
    ]
   },
   "outputs": [],
   "source": [
    "np.arange(0, 10) + 1"
   ]
  },
  {
   "cell_type": "code",
   "execution_count": null,
   "metadata": {
    "hideCode": false,
    "hidePrompt": false,
    "tags": [
     "hide"
    ]
   },
   "outputs": [],
   "source": [
    "np.arange(0, 10) + np.ones(10)"
   ]
  },
  {
   "cell_type": "code",
   "execution_count": null,
   "metadata": {
    "hideCode": false,
    "hidePrompt": false,
    "tags": [
     "hide"
    ]
   },
   "outputs": [],
   "source": [
    "np.arange(10) + np.arange(0, 110, 10)"
   ]
  },
  {
   "cell_type": "markdown",
   "metadata": {},
   "source": [
    "## Slicing"
   ]
  },
  {
   "cell_type": "code",
   "execution_count": null,
   "metadata": {},
   "outputs": [],
   "source": []
  },
  {
   "cell_type": "code",
   "execution_count": null,
   "metadata": {},
   "outputs": [],
   "source": []
  },
  {
   "cell_type": "code",
   "execution_count": null,
   "metadata": {},
   "outputs": [],
   "source": []
  },
  {
   "cell_type": "code",
   "execution_count": null,
   "metadata": {
    "hideCode": false,
    "hidePrompt": false,
    "tags": [
     "hide"
    ]
   },
   "outputs": [],
   "source": [
    "a = np.arange(20).reshape(4,5)\n",
    "a"
   ]
  },
  {
   "cell_type": "code",
   "execution_count": null,
   "metadata": {
    "tags": [
     "hide"
    ]
   },
   "outputs": [],
   "source": [
    "# A column is not a column vector, it's just a 1D array\n",
    "a[:, 0]"
   ]
  },
  {
   "cell_type": "code",
   "execution_count": null,
   "metadata": {
    "hideCode": false,
    "hidePrompt": false,
    "tags": [
     "hide"
    ]
   },
   "outputs": [],
   "source": [
    "a[:, 1]"
   ]
  },
  {
   "cell_type": "code",
   "execution_count": null,
   "metadata": {
    "hideCode": false,
    "hidePrompt": false,
    "tags": [
     "hide"
    ]
   },
   "outputs": [],
   "source": [
    "a.T"
   ]
  },
  {
   "cell_type": "code",
   "execution_count": null,
   "metadata": {
    "tags": [
     "hide"
    ]
   },
   "outputs": [],
   "source": [
    "# Setting values in slices\n",
    "a[:, 2] *= 100\n",
    "a"
   ]
  },
  {
   "cell_type": "markdown",
   "metadata": {},
   "source": [
    "## Plotting"
   ]
  },
  {
   "cell_type": "code",
   "execution_count": null,
   "metadata": {},
   "outputs": [],
   "source": []
  },
  {
   "cell_type": "code",
   "execution_count": null,
   "metadata": {},
   "outputs": [],
   "source": []
  },
  {
   "cell_type": "code",
   "execution_count": null,
   "metadata": {
    "hideCode": false,
    "hidePrompt": false,
    "tags": [
     "hide"
    ]
   },
   "outputs": [],
   "source": [
    "theta = np.arange(0, np.pi, 0.1)\n",
    "y = np.sin(theta)**2\n",
    "y"
   ]
  },
  {
   "cell_type": "code",
   "execution_count": null,
   "metadata": {
    "hideCode": false,
    "hidePrompt": false,
    "tags": [
     "hide"
    ]
   },
   "outputs": [],
   "source": [
    "import matplotlib.pyplot as plt\n",
    "\n",
    "plt.plot(theta, y, 'r-o')"
   ]
  },
  {
   "cell_type": "markdown",
   "metadata": {},
   "source": [
    "## Nans"
   ]
  },
  {
   "cell_type": "code",
   "execution_count": null,
   "metadata": {},
   "outputs": [],
   "source": []
  },
  {
   "cell_type": "code",
   "execution_count": null,
   "metadata": {},
   "outputs": [],
   "source": []
  },
  {
   "cell_type": "code",
   "execution_count": null,
   "metadata": {},
   "outputs": [],
   "source": []
  },
  {
   "cell_type": "code",
   "execution_count": null,
   "metadata": {
    "hideCode": false,
    "hidePrompt": false,
    "tags": [
     "hide"
    ]
   },
   "outputs": [],
   "source": [
    "a = np.nan\n",
    "a"
   ]
  },
  {
   "cell_type": "code",
   "execution_count": null,
   "metadata": {
    "tags": [
     "hide"
    ]
   },
   "outputs": [],
   "source": [
    "# NaN is not a number, so == doesn't work as expected\n",
    "a == np.nan, np.nan == np.nan"
   ]
  },
  {
   "cell_type": "code",
   "execution_count": null,
   "metadata": {
    "hideCode": false,
    "hidePrompt": false,
    "tags": [
     "hide"
    ]
   },
   "outputs": [],
   "source": [
    "a is np.nan, np.isnan(a)"
   ]
  },
  {
   "cell_type": "markdown",
   "metadata": {},
   "source": [
    "## Masking with boolean arrays"
   ]
  },
  {
   "cell_type": "code",
   "execution_count": null,
   "metadata": {},
   "outputs": [],
   "source": [
    "a"
   ]
  },
  {
   "cell_type": "code",
   "execution_count": null,
   "metadata": {},
   "outputs": [],
   "source": []
  },
  {
   "cell_type": "code",
   "execution_count": null,
   "metadata": {},
   "outputs": [],
   "source": []
  },
  {
   "cell_type": "code",
   "execution_count": null,
   "metadata": {},
   "outputs": [],
   "source": []
  },
  {
   "cell_type": "code",
   "execution_count": null,
   "metadata": {
    "hideCode": false,
    "hidePrompt": false,
    "tags": [
     "hide"
    ]
   },
   "outputs": [],
   "source": [
    "# Boolean arrays\n",
    "a > 12"
   ]
  },
  {
   "cell_type": "code",
   "execution_count": null,
   "metadata": {
    "hideCode": false,
    "hidePrompt": false,
    "tags": [
     "hide"
    ]
   },
   "outputs": [],
   "source": [
    "a[a > 12] = np.nan\n",
    "a"
   ]
  },
  {
   "cell_type": "markdown",
   "metadata": {},
   "source": [
    "## Indexing with arrays"
   ]
  },
  {
   "cell_type": "code",
   "execution_count": null,
   "metadata": {},
   "outputs": [],
   "source": []
  },
  {
   "cell_type": "code",
   "execution_count": null,
   "metadata": {},
   "outputs": [],
   "source": []
  },
  {
   "cell_type": "code",
   "execution_count": null,
   "metadata": {},
   "outputs": [],
   "source": []
  },
  {
   "cell_type": "code",
   "execution_count": null,
   "metadata": {
    "tags": [
     "hide"
    ]
   },
   "outputs": [],
   "source": [
    "a = np.arange(25).reshape(5,5)"
   ]
  },
  {
   "cell_type": "code",
   "execution_count": null,
   "metadata": {
    "tags": [
     "hide"
    ]
   },
   "outputs": [],
   "source": [
    "# You can index with sequences... so can get arbitrary items from array.\n",
    "# Can't do this with lists or other Python sequences.\n",
    "rows = [0, 3, 4]\n",
    "a[rows]"
   ]
  },
  {
   "cell_type": "markdown",
   "metadata": {},
   "source": [
    "## Vector and matrix operations"
   ]
  },
  {
   "cell_type": "markdown",
   "metadata": {
    "hideCode": false,
    "hidePrompt": false
   },
   "source": [
    "NumPy chooses the correct 'orientation' for a 1D vector when performing multiplication with a 2D array:"
   ]
  },
  {
   "cell_type": "code",
   "execution_count": null,
   "metadata": {},
   "outputs": [],
   "source": []
  },
  {
   "cell_type": "code",
   "execution_count": null,
   "metadata": {},
   "outputs": [],
   "source": []
  },
  {
   "cell_type": "code",
   "execution_count": null,
   "metadata": {},
   "outputs": [],
   "source": []
  },
  {
   "cell_type": "code",
   "execution_count": 69,
   "metadata": {
    "hideCode": false,
    "hidePrompt": false,
    "tags": [
     "hide"
    ]
   },
   "outputs": [
    {
     "data": {
      "text/plain": [
       "array([[  1.,  10., 100.],\n",
       "       [  1.,  10., 100.],\n",
       "       [  1.,  10., 100.],\n",
       "       [  1.,  10., 100.]])"
      ]
     },
     "execution_count": 69,
     "metadata": {},
     "output_type": "execute_result"
    }
   ],
   "source": [
    "# 2D array multiplied by 1D array\n",
    "np.ones((4,3)) * np.array([1, 10, 100])"
   ]
  },
  {
   "cell_type": "code",
   "execution_count": null,
   "metadata": {
    "tags": [
     "hide"
    ]
   },
   "outputs": [],
   "source": [
    "np.array([1, 10, 100]).reshape(-1, 1)"
   ]
  },
  {
   "cell_type": "code",
   "execution_count": null,
   "metadata": {
    "tags": [
     "hide"
    ]
   },
   "outputs": [],
   "source": [
    "np.array([1, 10, 100, 1000]).reshape(-1, 1)"
   ]
  },
  {
   "cell_type": "code",
   "execution_count": null,
   "metadata": {
    "tags": [
     "hide"
    ]
   },
   "outputs": [],
   "source": [
    "a = np.arange(120)\n",
    "\n",
    "# minus one syntax says, 'you figure this one out'\n",
    "a.reshape(-1,6) "
   ]
  },
  {
   "cell_type": "code",
   "execution_count": null,
   "metadata": {
    "hideCode": false,
    "hidePrompt": false,
    "tags": [
     "hide"
    ]
   },
   "outputs": [],
   "source": [
    "# 2D array multiplied by 'column vector'\n",
    "np.ones((4,3)) * np.array([1, 10, 100, 1000]).reshape(-1, 1)"
   ]
  },
  {
   "cell_type": "markdown",
   "metadata": {},
   "source": [
    "Matrix multiply:"
   ]
  },
  {
   "cell_type": "code",
   "execution_count": null,
   "metadata": {},
   "outputs": [],
   "source": []
  },
  {
   "cell_type": "code",
   "execution_count": null,
   "metadata": {},
   "outputs": [],
   "source": []
  },
  {
   "cell_type": "code",
   "execution_count": null,
   "metadata": {},
   "outputs": [],
   "source": []
  },
  {
   "cell_type": "code",
   "execution_count": 70,
   "metadata": {
    "tags": [
     "hide"
    ]
   },
   "outputs": [
    {
     "ename": "ValueError",
     "evalue": "operands could not be broadcast together with shapes (4,3) (3,2) ",
     "output_type": "error",
     "traceback": [
      "\u001b[0;31m---------------------------------------------------------------------------\u001b[0m",
      "\u001b[0;31mValueError\u001b[0m                                Traceback (most recent call last)",
      "\u001b[0;32m<ipython-input-70-3ecef3f7fb95>\u001b[0m in \u001b[0;36m<module>\u001b[0;34m\u001b[0m\n\u001b[1;32m      1\u001b[0m \u001b[0;31m# Can't use ordinary multiply:\u001b[0m\u001b[0;34m\u001b[0m\u001b[0;34m\u001b[0m\u001b[0;34m\u001b[0m\u001b[0m\n\u001b[0;32m----> 2\u001b[0;31m \u001b[0mnp\u001b[0m\u001b[0;34m.\u001b[0m\u001b[0mones\u001b[0m\u001b[0;34m(\u001b[0m\u001b[0;34m(\u001b[0m\u001b[0;36m4\u001b[0m\u001b[0;34m,\u001b[0m \u001b[0;36m3\u001b[0m\u001b[0;34m)\u001b[0m\u001b[0;34m)\u001b[0m \u001b[0;34m*\u001b[0m \u001b[0mnp\u001b[0m\u001b[0;34m.\u001b[0m\u001b[0mones\u001b[0m\u001b[0;34m(\u001b[0m\u001b[0;34m(\u001b[0m\u001b[0;36m3\u001b[0m\u001b[0;34m,\u001b[0m\u001b[0;36m2\u001b[0m\u001b[0;34m)\u001b[0m\u001b[0;34m)\u001b[0m\u001b[0;34m\u001b[0m\u001b[0;34m\u001b[0m\u001b[0m\n\u001b[0m",
      "\u001b[0;31mValueError\u001b[0m: operands could not be broadcast together with shapes (4,3) (3,2) "
     ]
    }
   ],
   "source": [
    "# Can't use ordinary multiply:\n",
    "np.ones((4, 3)) * np.ones((3,2))"
   ]
  },
  {
   "cell_type": "code",
   "execution_count": 71,
   "metadata": {
    "tags": [
     "hide"
    ]
   },
   "outputs": [
    {
     "data": {
      "text/plain": [
       "array([[3., 3.],\n",
       "       [3., 3.],\n",
       "       [3., 3.],\n",
       "       [3., 3.]])"
      ]
     },
     "execution_count": 71,
     "metadata": {},
     "output_type": "execute_result"
    }
   ],
   "source": [
    "np.ones((4, 3)) @ np.ones((3, 2))"
   ]
  },
  {
   "cell_type": "markdown",
   "metadata": {},
   "source": [
    "No need to 'orientate' when performing the dot (inner or scalar) product between two vectors:"
   ]
  },
  {
   "cell_type": "code",
   "execution_count": null,
   "metadata": {},
   "outputs": [],
   "source": []
  },
  {
   "cell_type": "code",
   "execution_count": null,
   "metadata": {},
   "outputs": [],
   "source": []
  },
  {
   "cell_type": "code",
   "execution_count": null,
   "metadata": {},
   "outputs": [],
   "source": []
  },
  {
   "cell_type": "code",
   "execution_count": 72,
   "metadata": {
    "hideCode": false,
    "hidePrompt": false,
    "tags": [
     "hide"
    ]
   },
   "outputs": [
    {
     "data": {
      "text/plain": [
       "10101"
      ]
     },
     "execution_count": 72,
     "metadata": {},
     "output_type": "execute_result"
    }
   ],
   "source": [
    "np.array([1, 10, 100]) @ np.array([1, 10, 100])"
   ]
  },
  {
   "cell_type": "code",
   "execution_count": 76,
   "metadata": {
    "hideCode": false,
    "hidePrompt": false,
    "tags": [
     "hide"
    ]
   },
   "outputs": [
    {
     "data": {
      "text/plain": [
       "array([111., 111., 111., 111.])"
      ]
     },
     "execution_count": 76,
     "metadata": {},
     "output_type": "execute_result"
    }
   ],
   "source": [
    "# Matrix multiply with a vector 'just works' although you might think it shouldn't.\n",
    "np.ones((4,3)) @ np.array([1, 10, 100])"
   ]
  },
  {
   "cell_type": "code",
   "execution_count": 78,
   "metadata": {
    "hideCode": false,
    "hidePrompt": false,
    "tags": [
     "hide"
    ]
   },
   "outputs": [
    {
     "data": {
      "text/plain": [
       "array([[111.],\n",
       "       [111.],\n",
       "       [111.],\n",
       "       [111.]])"
      ]
     },
     "execution_count": 78,
     "metadata": {},
     "output_type": "execute_result"
    }
   ],
   "source": [
    "# Matrix multiply with a column vector\n",
    "np.ones((4,3)) @ np.array([1, 10, 100]).reshape((3,1))"
   ]
  },
  {
   "cell_type": "code",
   "execution_count": 80,
   "metadata": {
    "tags": [
     "hide"
    ]
   },
   "outputs": [
    {
     "data": {
      "text/plain": [
       "array([[  1],\n",
       "       [ 10],\n",
       "       [100]])"
      ]
     },
     "execution_count": 80,
     "metadata": {},
     "output_type": "execute_result"
    }
   ],
   "source": [
    "# Another way to make column vector, equivalent to reshape(-1, 1)\n",
    "np.array([1, 10, 100])[:, None]"
   ]
  },
  {
   "cell_type": "code",
   "execution_count": 79,
   "metadata": {
    "tags": [
     "hide"
    ]
   },
   "outputs": [
    {
     "data": {
      "text/plain": [
       "array([[  1],\n",
       "       [ 10],\n",
       "       [100]])"
      ]
     },
     "execution_count": 79,
     "metadata": {},
     "output_type": "execute_result"
    }
   ],
   "source": [
    "# YET ANOTHER way to make column vector, equivalent to reshape(-1, 1)\n",
    "np.array([1, 10, 100])[:, np.newaxis]"
   ]
  },
  {
   "cell_type": "code",
   "execution_count": 81,
   "metadata": {},
   "outputs": [
    {
     "data": {
      "text/plain": [
       "5.0"
      ]
     },
     "execution_count": 81,
     "metadata": {},
     "output_type": "execute_result"
    }
   ],
   "source": [
    "# Norm of a vector.\n",
    "np.linalg.norm([3, 4])"
   ]
  },
  {
   "cell_type": "code",
   "execution_count": null,
   "metadata": {},
   "outputs": [],
   "source": [
    "# Distance between two points.\n",
    "p = np.array([3, 4])\n",
    "q = np.array([6, 8])\n",
    "np.linalg.norm(p - q)"
   ]
  },
  {
   "cell_type": "markdown",
   "metadata": {},
   "source": [
    "Solve a linear system of equations:\n",
    "\n",
    "$$ 3x + y/2 = 9.5 $$\n",
    "$$ x - 2y = -12$$\n",
    "\n",
    "Let's solve $\\mathrm{G}\\mathrm{m} = \\mathrm{d}$ with the closed-form solution, first via the standard equation..."
   ]
  },
  {
   "cell_type": "code",
   "execution_count": null,
   "metadata": {},
   "outputs": [],
   "source": []
  },
  {
   "cell_type": "code",
   "execution_count": 92,
   "metadata": {
    "tags": [
     "hide"
    ]
   },
   "outputs": [
    {
     "data": {
      "text/plain": [
       "array([2., 7.])"
      ]
     },
     "execution_count": 92,
     "metadata": {},
     "output_type": "execute_result"
    }
   ],
   "source": [
    "G = np.array([[3, 0.5], [1, -2]])\n",
    "d = np.array([9.5, -12])\n",
    "\n",
    "m_est = G.T @ np.linalg.inv(G @ G.T) @ d\n",
    "\n",
    "m_est"
   ]
  },
  {
   "cell_type": "markdown",
   "metadata": {},
   "source": [
    "And with NumPy's least squares solver:"
   ]
  },
  {
   "cell_type": "code",
   "execution_count": null,
   "metadata": {},
   "outputs": [],
   "source": []
  },
  {
   "cell_type": "code",
   "execution_count": 93,
   "metadata": {
    "tags": [
     "hide"
    ]
   },
   "outputs": [
    {
     "name": "stderr",
     "output_type": "stream",
     "text": [
      "/home/matt/anaconda3/envs/geocomp/lib/python3.7/site-packages/ipykernel_launcher.py:2: FutureWarning: `rcond` parameter will change to the default of machine precision times ``max(M, N)`` where M and N are the input matrix dimensions.\n",
      "To use the future default and silence this warning we advise to pass `rcond=None`, to keep using the old, explicitly pass `rcond=-1`.\n",
      "  \n"
     ]
    }
   ],
   "source": [
    "# Solve a system of equations by least squares.\n",
    "m, residuals, rank, sv = np.linalg.lstsq(G, d)"
   ]
  },
  {
   "cell_type": "code",
   "execution_count": 83,
   "metadata": {
    "tags": [
     "hide"
    ]
   },
   "outputs": [
    {
     "data": {
      "text/plain": [
       "array([2., 7.])"
      ]
     },
     "execution_count": 83,
     "metadata": {},
     "output_type": "execute_result"
    }
   ],
   "source": [
    "m"
   ]
  },
  {
   "cell_type": "markdown",
   "metadata": {},
   "source": [
    "## Random variables"
   ]
  },
  {
   "cell_type": "code",
   "execution_count": null,
   "metadata": {},
   "outputs": [],
   "source": []
  },
  {
   "cell_type": "code",
   "execution_count": null,
   "metadata": {},
   "outputs": [],
   "source": []
  },
  {
   "cell_type": "code",
   "execution_count": null,
   "metadata": {},
   "outputs": [],
   "source": []
  },
  {
   "cell_type": "code",
   "execution_count": null,
   "metadata": {
    "hideCode": false,
    "hidePrompt": false,
    "tags": [
     "hide"
    ]
   },
   "outputs": [],
   "source": [
    "np.random.random((3, 5))"
   ]
  },
  {
   "cell_type": "markdown",
   "metadata": {
    "hideCode": false,
    "hidePrompt": false,
    "tags": [
     "hide"
    ]
   },
   "source": [
    "Draw porosities from a normal distribution."
   ]
  },
  {
   "cell_type": "code",
   "execution_count": null,
   "metadata": {
    "hideCode": false,
    "hidePrompt": false,
    "tags": [
     "hide"
    ]
   },
   "outputs": [],
   "source": [
    "np.random.normal(loc=20, scale=3, size=10)"
   ]
  },
  {
   "cell_type": "code",
   "execution_count": null,
   "metadata": {
    "tags": [
     "hide"
    ]
   },
   "outputs": [],
   "source": [
    "np.random.randint(low=1000, high=2000, size=5)"
   ]
  },
  {
   "cell_type": "markdown",
   "metadata": {
    "tags": [
     "exercise"
    ]
   },
   "source": [
    "### Exercise\n",
    "\n",
    "Can you make and then plot 20 noisy pertubations of the `dt` log we loaded earlier, given a standard deviation of 2.5 microseconds per metre?"
   ]
  },
  {
   "cell_type": "code",
   "execution_count": null,
   "metadata": {},
   "outputs": [],
   "source": [
    "import matplotlib.pyplot as plt"
   ]
  },
  {
   "cell_type": "code",
   "execution_count": null,
   "metadata": {},
   "outputs": [],
   "source": [
    "# Use a function from the np.random module to make an\n",
    "# array with shape (20, s), where s is the size of dt.\n",
    "noise = \n",
    "\n",
    "# Then add it to dt to make dt_noisy.\n",
    "dt_noisy = "
   ]
  },
  {
   "cell_type": "code",
   "execution_count": 19,
   "metadata": {
    "tags": [
     "hide"
    ]
   },
   "outputs": [],
   "source": [
    "noise = np.random.normal(loc=0, scale=2.5, size=(20, dt.size))\n",
    "dt_noisy = dt + noise"
   ]
  },
  {
   "cell_type": "markdown",
   "metadata": {},
   "source": [
    "Use this code to plot your result:"
   ]
  },
  {
   "cell_type": "code",
   "execution_count": 20,
   "metadata": {},
   "outputs": [
    {
     "data": {
      "image/png": "[encoded data removed]",
      "text/plain": [
       "<Figure size 1080x216 with 1 Axes>"
      ]
     },
     "metadata": {
      "needs_background": "light"
     },
     "output_type": "display_data"
    }
   ],
   "source": [
    "md = np.arange(0, dz*dt.size, dz)\n",
    "\n",
    "plt.figure(figsize=(15, 3))\n",
    "_ = plt.plot(md, dt_noisy.T, color='k', alpha=0.1)"
   ]
  },
  {
   "cell_type": "code",
   "execution_count": null,
   "metadata": {
    "tags": [
     "hide"
    ]
   },
   "outputs": [],
   "source": [
    "plt.imshow(dt_noisy.T, aspect=0.3)"
   ]
  },
  {
   "cell_type": "code",
   "execution_count": null,
   "metadata": {
    "tags": [
     "hide"
    ]
   },
   "outputs": [],
   "source": [
    "# To read x's and y's from a map, you need an array of x's and an array of y's:\n",
    "a[[2,3], [1, 3]]  # gets (2, 1) and (3, 3)"
   ]
  },
  {
   "cell_type": "code",
   "execution_count": null,
   "metadata": {
    "tags": [
     "hide"
    ]
   },
   "outputs": [],
   "source": [
    "# To get x's and y's from a list of (x, y):\n",
    "xy = np.array([[2, 1], [3, 3], [0, 4]])\n",
    "xy"
   ]
  },
  {
   "cell_type": "markdown",
   "metadata": {
    "tags": [
     "exercise"
    ]
   },
   "source": [
    "### Exercise\n",
    "\n",
    "Can you use simultaneous assignment and the matrix transpose operation to get separate arrays for `x` and `y`?"
   ]
  },
  {
   "cell_type": "code",
   "execution_count": null,
   "metadata": {},
   "outputs": [],
   "source": []
  },
  {
   "cell_type": "code",
   "execution_count": null,
   "metadata": {
    "tags": [
     "hide"
    ]
   },
   "outputs": [],
   "source": [
    "x, y = xy.T\n",
    "\n",
    "a[x, y]"
   ]
  },
  {
   "cell_type": "markdown",
   "metadata": {
    "tags": [
     "exercise"
    ]
   },
   "source": [
    "### Exercise\n",
    "\n",
    "Make a 2D velocity model of shape (120, 100) with 3 equal-thickness layers:\n",
    "\n",
    "- 1486 m/s\n",
    "- 2000 m/s\n",
    "- 2400 m/s\n",
    "\n",
    "Plot the result with `plt.imshow`."
   ]
  },
  {
   "cell_type": "code",
   "execution_count": null,
   "metadata": {},
   "outputs": [],
   "source": []
  },
  {
   "cell_type": "code",
   "execution_count": null,
   "metadata": {
    "tags": [
     "hide"
    ]
   },
   "outputs": [],
   "source": [
    "d, w = 120, 100\n",
    "vel = np.ones((d, w)) * 1486\n",
    "\n",
    "# Watch out for the Obiwan error.\n",
    "vel[1 + d//3:1 + 2*d//3] = 2000\n",
    "vel[1 - d//3:] = 2400\n",
    "\n",
    "_ = plt.imshow(vel)"
   ]
  },
  {
   "cell_type": "markdown",
   "metadata": {},
   "source": [
    "Try giving this array to your `rc_series()` function. Plot the result with `imshow`."
   ]
  },
  {
   "cell_type": "code",
   "execution_count": null,
   "metadata": {},
   "outputs": [],
   "source": []
  },
  {
   "cell_type": "code",
   "execution_count": null,
   "metadata": {
    "tags": [
     "hide"
    ]
   },
   "outputs": [],
   "source": [
    "from utils import rc_vector\n",
    "rc = rc_vector(vel)\n",
    "plt.imshow(rc)"
   ]
  },
  {
   "cell_type": "code",
   "execution_count": null,
   "metadata": {
    "tags": [
     "hide"
    ]
   },
   "outputs": [],
   "source": [
    "from bruges.filters import ricker\n",
    "w = ricker(0.1, 0.002, 25)\n",
    "plt.plot(w)"
   ]
  },
  {
   "cell_type": "code",
   "execution_count": null,
   "metadata": {
    "tags": [
     "hide"
    ]
   },
   "outputs": [],
   "source": [
    "def convolve_one_trace(tr):\n",
    "    return np.convolve(tr, w, mode='same')\n",
    "\n",
    "syn = np.apply_along_axis(convolve_one_trace, axis=0, arr=rc)\n",
    "\n",
    "fig, axs = plt.subplots(ncols=2)\n",
    "axs[0].imshow(vel)\n",
    "axs[1].imshow(syn)"
   ]
  },
  {
   "cell_type": "markdown",
   "metadata": {},
   "source": [
    "## Fancy indexing"
   ]
  },
  {
   "cell_type": "code",
   "execution_count": null,
   "metadata": {},
   "outputs": [],
   "source": []
  },
  {
   "cell_type": "code",
   "execution_count": null,
   "metadata": {},
   "outputs": [],
   "source": []
  },
  {
   "cell_type": "code",
   "execution_count": null,
   "metadata": {},
   "outputs": [],
   "source": []
  },
  {
   "cell_type": "code",
   "execution_count": null,
   "metadata": {
    "hideCode": false,
    "hidePrompt": false,
    "tags": [
     "hide"
    ]
   },
   "outputs": [],
   "source": [
    "c = np.random.randint(3, size=(5,5))\n",
    "c"
   ]
  },
  {
   "cell_type": "code",
   "execution_count": null,
   "metadata": {
    "hideCode": false,
    "hidePrompt": false,
    "tags": [
     "hide"
    ]
   },
   "outputs": [],
   "source": [
    "d = np.array([111,222,333])\n",
    "d"
   ]
  },
  {
   "cell_type": "code",
   "execution_count": null,
   "metadata": {
    "hideCode": false,
    "hidePrompt": false,
    "tags": [
     "hide"
    ]
   },
   "outputs": [],
   "source": [
    "d[c]"
   ]
  },
  {
   "cell_type": "markdown",
   "metadata": {
    "hideCode": false,
    "hidePrompt": false
   },
   "source": [
    "----\n",
    "\n",
    "### INTRO STUDENTS TURN BACK NOW\n",
    "\n",
    "## Broadcasting example\n",
    "\n",
    "Broadcasting is a powerful idea. Here's a function to plot a waveform:"
   ]
  },
  {
   "cell_type": "code",
   "execution_count": null,
   "metadata": {
    "hideCode": false,
    "hidePrompt": false
   },
   "outputs": [],
   "source": [
    "def wave(f):\n",
    "    t = np.linspace(0, 1, 100)\n",
    "    return np.sin(2 * np.pi * f * t)"
   ]
  },
  {
   "cell_type": "markdown",
   "metadata": {
    "hideCode": false,
    "hidePrompt": false
   },
   "source": [
    "We can of course pass a scalar for `f`:"
   ]
  },
  {
   "cell_type": "code",
   "execution_count": null,
   "metadata": {
    "hideCode": false,
    "hidePrompt": false
   },
   "outputs": [],
   "source": [
    "import matplotlib.pyplot as plt\n",
    "\n",
    "f = 20\n",
    "plt.plot(wave(f))"
   ]
  },
  {
   "cell_type": "markdown",
   "metadata": {
    "hideCode": false,
    "hidePrompt": false
   },
   "source": [
    "But with a small modification, we can allow the function to accept vectors for `f` too:"
   ]
  },
  {
   "cell_type": "code",
   "execution_count": null,
   "metadata": {
    "hideCode": false,
    "hidePrompt": false
   },
   "outputs": [],
   "source": [
    "def wave(f):\n",
    "    f = np.asanyarray(f).reshape(-1, 1)\n",
    "    t = np.linspace(0, 1, 100)\n",
    "    return np.squeeze(np.sin(2 * np.pi * f * t))"
   ]
  },
  {
   "cell_type": "code",
   "execution_count": null,
   "metadata": {
    "hideCode": false,
    "hidePrompt": false
   },
   "outputs": [],
   "source": [
    "f = range(1, 31)\n",
    "plt.imshow(wave(f))"
   ]
  },
  {
   "cell_type": "markdown",
   "metadata": {
    "hideCode": false,
    "hidePrompt": false
   },
   "source": [
    "Our library `bruges` implements most of its functions this way. So, for example, you can pass a range of frequencies to the Ricker-wavelet-generating function `ricker()`:"
   ]
  },
  {
   "cell_type": "code",
   "execution_count": null,
   "metadata": {
    "hideCode": false,
    "hidePrompt": false
   },
   "outputs": [],
   "source": [
    "import bruges\n",
    "\n",
    "plt.imshow(bruges.filters.ricker(0.2, 0.001, range(40)))"
   ]
  },
  {
   "cell_type": "markdown",
   "metadata": {},
   "source": [
    "## Array manipulation\n",
    "\n",
    "There are a number of [array manipulation](https://docs.scipy.org/doc/numpy/reference/routines.array-manipulation.html) routines in NumPy. The ones we use the most are:\n",
    "\n",
    "#### Changing shape\n",
    "\n",
    "- `np.reshape(a, newshape)`\n",
    "- `np.flatten(a)` \n",
    "\n",
    "#### Transpose-like operations\n",
    "\n",
    "- `np.transpose(a[, axes)` &mdash; same as `a.T`\n",
    "- `np.moveaxis(a, source, destination)`\n",
    "- `np.rollaxis(a, axis[, start])`\n",
    "- `np.swapaxes(a, axis1, axis2)`\n",
    "- `np.flatten(a)`\n",
    "\n",
    "#### Change the number of dimensions\n",
    "\n",
    "- `a[:, None]` &mdash; treats an array as if it has the new dimension already, effectively adding it\n",
    "- `np.reshape(a, newshape)` &mdash; where newshape contains a new dimension of size 1\n",
    "- `np.expand_dims(a, axis)` &mdash; adds dimensions\n",
    "- `np.squeeze(a[, axis)` &mdash; removes dimensions\n",
    "- `np.atleast_1d(*arys)`, `np.atleast_2d(*arys)`, `np.atleast_3d(*arys)` &mdash; treats arys as if they have at least the specified number of dimensions\n",
    "\n",
    "#### Joining arrays\n",
    "\n",
    "- `np.concatenate((a1, a2, ...)[, axis, out])` – join a sequence of arrays along an existing axis\n",
    "- `np.stack(arrays[, axis, out])` – join a sequence of arrays along a new axis.\n",
    "- `np.hstack(tup)` – stack arrays in sequence horizontally (column-wise).\n",
    "- `np.vstack(tup)` – stack arrays in sequence vertically (row-wise).\n",
    "- `np.block(arrays)` – assemble an `ndarray` from nested lists of blocks.\n",
    "\n",
    "#### Spltting arrays\n",
    "\n",
    "- `np.spilt(arr, indices_or_sections[, axis])`\n",
    "\n",
    "#### Tiling arrays\n",
    "\n",
    "- `np.tile(A, reps)` – construct an array by repeating A the number of times given by reps\n",
    "- `np.repeat(a, repeat[, axis])` - repeat elements of an array\n",
    "\n",
    "#### Rearraging elements\n",
    "\n",
    "- `np.flip(m[, axis])` – reverse the order of elements in an array along the give axis\n",
    "- `np.fliplr(m)` – flip an array in the left-right direction.\n",
    "- `np.flipud(m)` – flip the array in the up-down direction\n",
    "- `np.reshape(a, newshape[, order])` – gives a new shape to an array without changing it's data\n",
    "- `np.roll(a, shift[, axis])` - roll array elements along a given axis\n",
    "\n",
    "#### Adding and removing elements\n",
    "\n",
    "- `np.trim_zeros(filt[,trim])` – Trim the leading and/or trailing zeros from a 1-D array or sequence.\n",
    "- `np.unique(ar[, return_index, return_inverse, ...])` – Find the unique elements of an array"
   ]
  },
  {
   "cell_type": "markdown",
   "metadata": {
    "hideCode": false,
    "hidePrompt": false
   },
   "source": [
    "<hr />\n",
    "\n",
    "<div>\n",
    "<img src=\"https://avatars1.githubusercontent.com/u/1692321?s=50\"><p style=\"text-align:center\">© Agile Geoscience 2021</p>\n",
    "</div>"
   ]
  }
 ],
 "metadata": {
  "anaconda-cloud": {},
  "celltoolbar": "Tags",
  "hide_code_all_hidden": false,
  "kernelspec": {
   "display_name": "geocomp",
   "language": "python",
   "name": "geocomp"
  },
  "language_info": {
   "codemirror_mode": {
    "name": "ipython",
    "version": 3
   },
   "file_extension": ".py",
   "mimetype": "text/x-python",
   "name": "python",
   "nbconvert_exporter": "python",
   "pygments_lexer": "ipython3",
   "version": "3.8.5"
  }
 },
 "nbformat": 4,
 "nbformat_minor": 1
}
