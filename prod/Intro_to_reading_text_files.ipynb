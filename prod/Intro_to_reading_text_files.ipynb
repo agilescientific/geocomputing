{
 "cells": [
  {
   "cell_type": "markdown",
   "metadata": {},
   "source": [
    "# Intro to reading text files\n",
    "\n",
    "Sometimes we need to read data from files. In general, these will be text files or binary files. Text files are easy to read, binary files are not.\n",
    "\n",
    "Let's start with writing and then reading a bit of text."
   ]
  },
  {
   "cell_type": "code",
   "execution_count": null,
   "metadata": {},
   "outputs": [],
   "source": []
  },
  {
   "cell_type": "code",
   "execution_count": null,
   "metadata": {
    "tags": [
     "hide"
    ]
   },
   "outputs": [],
   "source": [
    "with open('../data/myfile.txt', 'w') as f:\n",
    "    f.write('My text data.')"
   ]
  },
  {
   "cell_type": "markdown",
   "metadata": {},
   "source": [
    "Now we can read this data:"
   ]
  },
  {
   "cell_type": "code",
   "execution_count": null,
   "metadata": {},
   "outputs": [],
   "source": []
  },
  {
   "cell_type": "code",
   "execution_count": null,
   "metadata": {
    "tags": [
     "hide"
    ]
   },
   "outputs": [],
   "source": [
    "with open('../data/myfile.txt', 'r') as f:\n",
    "    data = f.read()\n",
    "data"
   ]
  },
  {
   "cell_type": "code",
   "execution_count": 3,
   "metadata": {
    "tags": [
     "hide"
    ]
   },
   "outputs": [
    {
     "name": "stdout",
     "output_type": "stream",
     "text": [
      "File is closed: False.\n"
     ]
    },
    {
     "ename": "ZeroDivisionError",
     "evalue": "division by zero",
     "output_type": "error",
     "traceback": [
      "\u001b[0;31m---------------------------------------------------------------------------\u001b[0m",
      "\u001b[0;31mZeroDivisionError\u001b[0m                         Traceback (most recent call last)",
      "\u001b[0;32m<ipython-input-3-f2889d002fe5>\u001b[0m in \u001b[0;36m<module>\u001b[0;34m\u001b[0m\n\u001b[1;32m      3\u001b[0m \u001b[0;32mwith\u001b[0m \u001b[0mopen\u001b[0m\u001b[0;34m(\u001b[0m\u001b[0;34m'../data/myfile.txt'\u001b[0m\u001b[0;34m,\u001b[0m \u001b[0;34m'r'\u001b[0m\u001b[0;34m)\u001b[0m \u001b[0;32mas\u001b[0m \u001b[0mf\u001b[0m\u001b[0;34m:\u001b[0m\u001b[0;34m\u001b[0m\u001b[0;34m\u001b[0m\u001b[0m\n\u001b[1;32m      4\u001b[0m     \u001b[0mprint\u001b[0m\u001b[0;34m(\u001b[0m\u001b[0;34mf'File is closed: {f.closed}.'\u001b[0m\u001b[0;34m)\u001b[0m\u001b[0;34m\u001b[0m\u001b[0;34m\u001b[0m\u001b[0m\n\u001b[0;32m----> 5\u001b[0;31m     \u001b[0mx\u001b[0m \u001b[0;34m=\u001b[0m \u001b[0;36m1\u001b[0m \u001b[0;34m/\u001b[0m \u001b[0;36m0\u001b[0m\u001b[0;34m\u001b[0m\u001b[0;34m\u001b[0m\u001b[0m\n\u001b[0m\u001b[1;32m      6\u001b[0m \u001b[0;31m# This errors out.\u001b[0m\u001b[0;34m\u001b[0m\u001b[0;34m\u001b[0m\u001b[0;34m\u001b[0m\u001b[0m\n",
      "\u001b[0;31mZeroDivisionError\u001b[0m: division by zero"
     ]
    }
   ],
   "source": [
    "# Only get into this if it comes up, or return to it later. It's likely too\n",
    "# much information for now.\n",
    "# The file is closed correctly, even with the error happening inside the block.\n",
    "with open('../data/myfile.txt', 'r') as f:\n",
    "    print(f'File is closed: {f.closed}.')\n",
    "    x = 1 / 0\n",
    "# This errors out. You can't follow it with more commands because they won't be run."
   ]
  },
  {
   "cell_type": "code",
   "execution_count": 4,
   "metadata": {
    "tags": [
     "hide"
    ]
   },
   "outputs": [
    {
     "name": "stdout",
     "output_type": "stream",
     "text": [
      "File is closed: True.\n"
     ]
    }
   ],
   "source": [
    "print(f'File is closed: {f.closed}.')"
   ]
  },
  {
   "cell_type": "markdown",
   "metadata": {},
   "source": [
    "## File modes\n",
    "\n",
    "You have to decide what you want to do with the file.\n",
    "\n",
    "- **`r`** &mdash; read only (default)\n",
    "- **`r+`** &mdash; read and write (pointer at 0 &mdash; careful to manage the pointer!)\n",
    "- **`x`** &mdash; open for exclusive creation, failing if the file already exists (add `+` for read and write)\n",
    "- **`w`** &mdash; write new file **and clobbers existing file if it already exists**\n",
    "- **`a`** &mdash; append existing\n",
    "\n",
    "You can also add another letter to indicate whether you're handling text or bytes:\n",
    "\n",
    "- **`t`** &mdash; text (default)\n",
    "- **`b`** &mdash; bytes\n",
    "\n",
    "For example, to open an existing text file for appending data to the end:\n",
    "\n",
    "    with open(fname, 'at') as f:\n",
    "        f.write('New data')"
   ]
  },
  {
   "cell_type": "markdown",
   "metadata": {},
   "source": [
    "## Read some data\n",
    "\n",
    "The data for these exercises were generated from the following USGS dataset: https://pubs.usgs.gov/dds/dds-033/USGS_3D/ssx_txt/3dstart.htm\n",
    "\n",
    "We're going to read data from some specially formatted TOPS files. Let's check one out:"
   ]
  },
  {
   "cell_type": "markdown",
   "metadata": {
    "tags": [
     "hide"
    ]
   },
   "source": [
    "#### Note to instructors\n",
    "\n",
    "The 55 files are of two types:\n",
    "\n",
    "- Filenames starting `UWI_`, which have `#` as comments and `','` as the delimiter.\n",
    "- Filenames without `UWI_`, which have `%` as the comment character and are TAB-delimited.\n",
    "\n",
    "For both types:\n",
    "\n",
    "- Units can be in feet or metres. (Coordinates are always in metres.)\n",
    "- Formation names can be in order or not.\n",
    "- If a file's units are `M`, then the porosities are v/v, otherwise they are percent. "
   ]
  },
  {
   "cell_type": "code",
   "execution_count": null,
   "metadata": {},
   "outputs": [],
   "source": []
  },
  {
   "cell_type": "code",
   "execution_count": null,
   "metadata": {},
   "outputs": [],
   "source": []
  },
  {
   "cell_type": "code",
   "execution_count": 1,
   "metadata": {
    "tags": [
     "hide"
    ]
   },
   "outputs": [],
   "source": [
    "fname = '../data/sussex/UWI_4900523013.tops'\n",
    "\n",
    "with open(fname, 'r') as f:\n",
    "    data = f.read()"
   ]
  },
  {
   "cell_type": "code",
   "execution_count": 2,
   "metadata": {
    "tags": [
     "hide"
    ]
   },
   "outputs": [
    {
     "data": {
      "text/plain": [
       "'# LOC: 38190.00 M,-32884.00 M\\n# KB: 1577.34 M\\n# TD: 3419.86 M\\n# UNITS: M\\n# Formations\\nArdmore,2510.03\\nCody,2521.61\\nSussex Upper Top,2521.61\\nSussex Lower Top,2527.71\\nSussex Lower Base,2528.62\\nSussex Upper Base,2529.54\\nNiobrara,2530.75\\n# Porosity\\n2521.31,0.184\\n2521.92,0.219\\n2522.52,0.145\\n2523.13,0.150\\n2523.74,0.135\\n2524.35,0.125\\n2524.96,0.140\\n2525.57,0.155\\n2526.18,0.155\\n2526.79,0.140\\n2527.40,0.160\\n2528.01,0.125\\n2528.62,0.106\\n2529.23,0.057\\n2529.84,0.087\\n2530.45,0.067\\n2531.06,0.087\\n2531.67,0.096\\n'"
      ]
     },
     "execution_count": 2,
     "metadata": {},
     "output_type": "execute_result"
    }
   ],
   "source": [
    "data"
   ]
  },
  {
   "cell_type": "code",
   "execution_count": null,
   "metadata": {
    "tags": [
     "hide"
    ]
   },
   "outputs": [],
   "source": [
    "print(data)"
   ]
  },
  {
   "cell_type": "code",
   "execution_count": null,
   "metadata": {
    "tags": [
     "hide"
    ]
   },
   "outputs": [],
   "source": [
    "with open(fname, 'r') as f:\n",
    "    lines = f.readlines()"
   ]
  },
  {
   "cell_type": "code",
   "execution_count": null,
   "metadata": {
    "tags": [
     "hide"
    ]
   },
   "outputs": [],
   "source": [
    "lines"
   ]
  },
  {
   "cell_type": "markdown",
   "metadata": {},
   "source": [
    "We can also use this pattern:"
   ]
  },
  {
   "cell_type": "code",
   "execution_count": null,
   "metadata": {},
   "outputs": [],
   "source": []
  },
  {
   "cell_type": "code",
   "execution_count": null,
   "metadata": {
    "tags": [
     "hide"
    ]
   },
   "outputs": [],
   "source": [
    "with open(fname, 'r') as f:\n",
    "    for line in f:\n",
    "        print(line, end='')"
   ]
  },
  {
   "cell_type": "markdown",
   "metadata": {},
   "source": [
    "We can get at the filename too, which can be useful:"
   ]
  },
  {
   "cell_type": "code",
   "execution_count": null,
   "metadata": {},
   "outputs": [],
   "source": []
  },
  {
   "cell_type": "code",
   "execution_count": null,
   "metadata": {
    "tags": [
     "hide"
    ]
   },
   "outputs": [],
   "source": [
    "from os import path\n",
    "\n",
    "with open(fname, 'r') as f:\n",
    "    print(path.basename(fname))\n",
    "    print(19 * '=')\n",
    "    for line in f:\n",
    "        print(line, end='')"
   ]
  },
  {
   "cell_type": "markdown",
   "metadata": {
    "tags": [
     "exercise"
    ]
   },
   "source": [
    "### EXERCISE\n",
    "\n",
    "- Write a `for` loop to read the lines of the file one by one. <a title=\"Use either f.readlines() OR for line in f:\">**HINT**</a>\n",
    "- Find the line containing `TD:` print the quantity (depth plus units) from it. <a title=\"Use the keyword 'in' to check for the substring 'TD:' then use the string method split(':') on what you find.\">**HINT**</a>\n",
    "- You should add `break` after your print statement, as Python can stop reading the file at that point.\n",
    "\n",
    "Once you have that working, try this:\n",
    "\n",
    "- Use the `clean_quantity()` function you wrote before to split this quantity into value and units.\n",
    "- Print these out together."
   ]
  },
  {
   "cell_type": "code",
   "execution_count": null,
   "metadata": {},
   "outputs": [],
   "source": [
    "# YOUR CODE HERE\n",
    "\n"
   ]
  },
  {
   "cell_type": "code",
   "execution_count": null,
   "metadata": {
    "tags": [
     "hide"
    ]
   },
   "outputs": [],
   "source": [
    "# Load this from utils if possible.\n",
    "def clean_quantity(quantity):\n",
    "    \"\"\"Clean the units from a number.\"\"\"\n",
    "    if 'm' in quantity.lower():\n",
    "        units = 'M'\n",
    "    elif 'f' in quantity.lower():\n",
    "        units = 'FT'\n",
    "    else:\n",
    "        units = None\n",
    "\n",
    "    stripped = quantity.lower().strip(' .mft\\n\\t')\n",
    "    value = stripped.replace(',', '')\n",
    "\n",
    "    return float(value), units\n",
    "\n",
    "# Build this up gradually.\n",
    "with open(fname, 'r') as f:\n",
    "    for line in f:\n",
    "        if 'TD:' in line:\n",
    "            _, quantity = line.split(':')\n",
    "            depth, units = clean_quantity(quantity)\n",
    "            print(depth, units)\n",
    "            break"
   ]
  },
  {
   "cell_type": "markdown",
   "metadata": {
    "tags": [
     "exercise"
    ]
   },
   "source": [
    "### EXERCISE\n",
    "\n",
    "Turn your code into a function that takes the filename as an argument. Return the value and the units.\n",
    "\n",
    "Don't forget the docstring!"
   ]
  },
  {
   "cell_type": "code",
   "execution_count": null,
   "metadata": {},
   "outputs": [],
   "source": [
    "# YOUR CODE HERE\n",
    "\n"
   ]
  },
  {
   "cell_type": "code",
   "execution_count": null,
   "metadata": {
    "tags": [
     "hide"
    ]
   },
   "outputs": [],
   "source": [
    "def get_td(fname):\n",
    "    \"\"\"\n",
    "    Read a single TOPS file and return the TD with its units.\n",
    "    \"\"\"\n",
    "    with open(fname, 'r') as f:\n",
    "        for line in f:\n",
    "            if 'TD:' in line:\n",
    "                _, quantity = line.split(':')\n",
    "                depth, units = clean_quantity(quantity)\n",
    "                break\n",
    "    return depth, units\n",
    "\n",
    "get_td(fname)"
   ]
  },
  {
   "cell_type": "markdown",
   "metadata": {},
   "source": [
    "Let's check another file:"
   ]
  },
  {
   "cell_type": "code",
   "execution_count": null,
   "metadata": {},
   "outputs": [],
   "source": [
    "get_td('../data/sussex/UWI_4900523863.tops')"
   ]
  },
  {
   "cell_type": "markdown",
   "metadata": {
    "tags": [
     "exercise"
    ]
   },
   "source": [
    "### EXERCISE\n",
    "\n",
    "Change your function so that I can specify the units I want as an argument. Then do any necessary conversion and return the depth only. Return the depth with the units it is measured in (irrespective of how it was stored in the file)."
   ]
  },
  {
   "cell_type": "code",
   "execution_count": null,
   "metadata": {},
   "outputs": [],
   "source": [
    "# YOUR CODE HERE\n",
    "\n"
   ]
  },
  {
   "cell_type": "code",
   "execution_count": 2,
   "metadata": {
    "tags": [
     "hide"
    ]
   },
   "outputs": [],
   "source": [
    "fname = '../data/sussex/UWI_4900523013.tops'"
   ]
  },
  {
   "cell_type": "code",
   "execution_count": 9,
   "metadata": {
    "tags": [
     "hide"
    ]
   },
   "outputs": [
    {
     "data": {
      "text/plain": [
       "(3419.86, 'M')"
      ]
     },
     "execution_count": 9,
     "metadata": {},
     "output_type": "execute_result"
    }
   ],
   "source": [
    "# STEP 1\n",
    "def get_td(fname):\n",
    "    \"\"\"\n",
    "    Read a single TOPS file and return the TD with units.\n",
    "    \"\"\"\n",
    "    with open(fname, 'r') as f:\n",
    "        for line in f:\n",
    "            if 'TD:' in line:\n",
    "                _, quantity = line.split(':')\n",
    "                td, source_units = clean_quantity(quantity)\n",
    "                break\n",
    "                \n",
    "    source_units = source_units.upper()\n",
    "\n",
    "    return td, source_units\n",
    "\n",
    "get_td(fname)"
   ]
  },
  {
   "cell_type": "code",
   "execution_count": 19,
   "metadata": {
    "tags": [
     "hide"
    ]
   },
   "outputs": [
    {
     "data": {
      "text/plain": [
       "(3419.86, 'M')"
      ]
     },
     "execution_count": 19,
     "metadata": {},
     "output_type": "execute_result"
    }
   ],
   "source": [
    "# STEP 2\n",
    "def get_td(fname, target_units='M'):\n",
    "    \"\"\"\n",
    "    Read a single TOPS file and return the TD in the specified units.\n",
    "    \"\"\"\n",
    "    with open(fname, 'r') as f:\n",
    "        for line in f:\n",
    "            if 'TD:' in line:\n",
    "                _, quantity = line.split(':')\n",
    "                td, source_units = clean_quantity(quantity)\n",
    "                break\n",
    "                \n",
    "    source_units, target_units = source_units.upper(), target_units.upper()\n",
    "\n",
    "    # One way:\n",
    "    if (source_units == 'M') and (target_units == 'FT'):\n",
    "        td *=  1 / 0.3048\n",
    "    elif (source_units == 'FT') and (target_units == 'M'):\n",
    "        td *=  0.3048\n",
    "    # ================\n",
    "\n",
    "    # Alternative way:            \n",
    "    convert = {\n",
    "        ('M', 'FT'): 1 / 0.3048,\n",
    "        ('FT', 'M'): 0.3048,\n",
    "    }\n",
    "    td *= convert.get((source_units, target_units), 1)\n",
    "    # ================\n",
    "\n",
    "    return td, target_units\n",
    "\n",
    "get_td(fname)"
   ]
  },
  {
   "cell_type": "code",
   "execution_count": 20,
   "metadata": {},
   "outputs": [
    {
     "data": {
      "text/plain": [
       "(8188.0, 'FT')"
      ]
     },
     "execution_count": 20,
     "metadata": {},
     "output_type": "execute_result"
    }
   ],
   "source": [
    "get_td('../data/sussex/UWI_4900523863.tops', target_units='FT')\n",
    "\n",
    "# Should be 8188 ft."
   ]
  },
  {
   "cell_type": "markdown",
   "metadata": {},
   "source": [
    "## Reading multiple files\n",
    "\n",
    "Sometimes you will want to read a lot of files from disk, perhaps even from multiple directories. The easiest way to do this is with the built-in library `glob`, which accept POSIX-style paths, with wildcards etc. [Read about these.](https://tldp.org/LDP/GNU-Linux-Tools-Summary/html/x11655.htm)\n",
    "\n",
    "`glob.glob(path)` returns a list of filenames."
   ]
  },
  {
   "cell_type": "code",
   "execution_count": null,
   "metadata": {},
   "outputs": [],
   "source": [
    "from glob import glob\n",
    "\n",
    "for fname in glob('../data/sussex/UWI*.tops'):\n",
    "    print(fname)"
   ]
  },
  {
   "cell_type": "markdown",
   "metadata": {},
   "source": [
    "This is just a list of path strings, so you can loop over it to read multiple files. It supports all the usual syntax for UNIX-style globbing, including recursion over directories with `**`. "
   ]
  },
  {
   "cell_type": "markdown",
   "metadata": {},
   "source": [
    "There are other options too, for example `os.walk()` allows you to 'walk' an entire branch of the file system. People often use this with `fnmatch.fnmatch()` for POSIX-like filename matching.\n",
    "\n",
    "There's also `os.listdir()` which is the fastest of these options. Unlike `glob.glob()` is returns filenames only, not paths, so you will have to construct the path yourself to read a file."
   ]
  },
  {
   "cell_type": "code",
   "execution_count": null,
   "metadata": {},
   "outputs": [],
   "source": [
    "import os\n",
    "\n",
    "for fname in os.listdir('../data/sussex'):\n",
    "    if 'UWI' in fname:\n",
    "        print(fname)"
   ]
  },
  {
   "cell_type": "markdown",
   "metadata": {
    "tags": [
     "exercise"
    ]
   },
   "source": [
    "### EXERCISE\n",
    "\n",
    "Write a new function to visit all of the TOPS files in the `sussex` directory. Make a histogram of the TDs (total depths of the wells) from all TOPS files you find (both ones starting with `UWI_` and those that don't).\n",
    "\n",
    "You will need to cope with the fact that the TD might be missing from a file. You can do this in the new function, or back in the `get_td` function.\n",
    "\n",
    "You should end up with 55 values."
   ]
  },
  {
   "cell_type": "code",
   "execution_count": null,
   "metadata": {},
   "outputs": [],
   "source": [
    "# YOUR CODE HERE\n",
    "\n"
   ]
  },
  {
   "cell_type": "code",
   "execution_count": 21,
   "metadata": {
    "tags": [
     "hide"
    ]
   },
   "outputs": [
    {
     "data": {
      "text/plain": [
       "(3419.86, 'M')"
      ]
     },
     "execution_count": 21,
     "metadata": {},
     "output_type": "execute_result"
    }
   ],
   "source": [
    "# Start with the same function as before.\n",
    "def get_td(fname, target_units='M'):\n",
    "    \"\"\"\n",
    "    Read a single TOPS file and return the TD in the specified units.\n",
    "    \"\"\"\n",
    "    with open(fname, 'r') as f:\n",
    "        td, source_units = None, None  # <-- Set defaults in case TD not found.\n",
    "        for line in f:\n",
    "            if 'TD:' in line:\n",
    "                _, quantity = line.split(':')\n",
    "                td, source_units = clean_quantity(quantity)\n",
    "                break\n",
    "                \n",
    "    if td is not None:\n",
    "        source_units, target_units = source_units.upper(), target_units.upper()\n",
    "\n",
    "        convert = {\n",
    "            ('M', 'FT'): 1 / 0.3048,\n",
    "            ('FT', 'M'): 0.3048,\n",
    "        }\n",
    "        td *= convert.get((source_units, target_units), 1)\n",
    "\n",
    "    return td, target_units\n",
    "\n",
    "get_td(fname)"
   ]
  },
  {
   "cell_type": "code",
   "execution_count": 22,
   "metadata": {},
   "outputs": [],
   "source": [
    "import glob"
   ]
  },
  {
   "cell_type": "code",
   "execution_count": 23,
   "metadata": {
    "tags": [
     "hide"
    ]
   },
   "outputs": [],
   "source": [
    "def get_all_tds(path):\n",
    "    \"\"\"\n",
    "    Read all files in a POSIX path and return them in a list.\n",
    "    \"\"\"\n",
    "    tds = []\n",
    "    for fname in glob.glob(path):\n",
    "        td, units = get_td(fname)\n",
    "        if td is not None:\n",
    "            tds.append(td)\n",
    "    return tds\n",
    "\n",
    "tds = get_all_tds('../data/sussex/*.tops')"
   ]
  },
  {
   "cell_type": "code",
   "execution_count": 24,
   "metadata": {},
   "outputs": [
    {
     "data": {
      "image/png": "[encoded data removed]",
      "text/plain": [
       "<Figure size 432x288 with 1 Axes>"
      ]
     },
     "metadata": {
      "needs_background": "light"
     },
     "output_type": "display_data"
    }
   ],
   "source": [
    "import matplotlib.pyplot as plt\n",
    "\n",
    "_ = plt.hist(tds, bins=51)"
   ]
  },
  {
   "cell_type": "markdown",
   "metadata": {},
   "source": [
    "---\n",
    "\n",
    "## CONTINUE to [Practice reading text files](Practice_reading_text_files.ipynb)"
   ]
  },
  {
   "cell_type": "markdown",
   "metadata": {},
   "source": [
    "---\n",
    "\n",
    "&copy; 2020 Agile Scientific"
   ]
  }
 ],
 "metadata": {
  "celltoolbar": "Tags",
  "kernelspec": {
   "display_name": "geocomp",
   "language": "python",
   "name": "geocomp"
  },
  "language_info": {
   "codemirror_mode": {
    "name": "ipython",
    "version": 3
   },
   "file_extension": ".py",
   "mimetype": "text/x-python",
   "name": "python",
   "nbconvert_exporter": "python",
   "pygments_lexer": "ipython3",
   "version": "3.9.7"
  }
 },
 "nbformat": 4,
 "nbformat_minor": 1
}
