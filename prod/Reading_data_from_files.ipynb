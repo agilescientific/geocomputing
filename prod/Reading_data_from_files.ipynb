{
 "cells": [
  {
   "cell_type": "markdown",
   "metadata": {},
   "source": [
    "# Reading data from files\n",
    "\n",
    "Sometimes we need to read data from files. In general, these will be text files or binary files. Text files are easy to read, binary files are not.\n",
    "\n",
    "Let's start with writing and then reading a bit of text."
   ]
  },
  {
   "cell_type": "code",
   "execution_count": null,
   "metadata": {
    "collapsed": true
   },
   "outputs": [],
   "source": []
  },
  {
   "cell_type": "code",
   "execution_count": 1,
   "metadata": {
    "collapsed": true,
    "tags": [
     "hide"
    ]
   },
   "outputs": [],
   "source": [
    "with open('../data/myfile.txt', 'w') as f:\n",
    "    f.write('My text data.')"
   ]
  },
  {
   "cell_type": "markdown",
   "metadata": {},
   "source": [
    "Now we can read this data:"
   ]
  },
  {
   "cell_type": "code",
   "execution_count": null,
   "metadata": {
    "collapsed": true
   },
   "outputs": [],
   "source": []
  },
  {
   "cell_type": "code",
   "execution_count": 2,
   "metadata": {
    "tags": [
     "hide"
    ]
   },
   "outputs": [
    {
     "data": {
      "text/plain": [
       "'My text data.'"
      ]
     },
     "execution_count": 2,
     "metadata": {},
     "output_type": "execute_result"
    }
   ],
   "source": [
    "with open('../data/myfile.txt', 'r') as f:\n",
    "    data = f.read()\n",
    "data"
   ]
  },
  {
   "cell_type": "markdown",
   "metadata": {},
   "source": [
    "## File modes\n",
    "\n",
    "You have to decide what you want to do with the file.\n",
    "\n",
    "- **`r`** &mdash; read only (default)\n",
    "- **`r+`** &mdash; read and write (pointer at 0 &mdash; careful to manage the pointer!)\n",
    "- **`x`** &mdash; open for exclusive creation, failing if the file already exists (add `+` for read and write)\n",
    "- **`w`** &mdash; write new file **and clobbers existing file if it already exists**\n",
    "- **`a`** &mdash; append existing\n",
    "\n",
    "You can also add another letter to indicate whether you're handling text or bytes:\n",
    "\n",
    "- **`t`** &mdash; text (default)\n",
    "- **`b`** &mdash; bytes\n",
    "\n",
    "For example, to open an existing text file for appending data to the end:\n",
    "\n",
    "    with open(fname, 'at') as f:\n",
    "        f.write('New data')"
   ]
  },
  {
   "cell_type": "markdown",
   "metadata": {},
   "source": [
    "## Read some data"
   ]
  },
  {
   "cell_type": "markdown",
   "metadata": {},
   "source": [
    "Let's read some tops data:"
   ]
  },
  {
   "cell_type": "code",
   "execution_count": null,
   "metadata": {
    "collapsed": true
   },
   "outputs": [],
   "source": []
  },
  {
   "cell_type": "code",
   "execution_count": null,
   "metadata": {
    "collapsed": true
   },
   "outputs": [],
   "source": []
  },
  {
   "cell_type": "code",
   "execution_count": 4,
   "metadata": {
    "collapsed": true,
    "tags": [
     "hide"
    ]
   },
   "outputs": [],
   "source": [
    "with open('../data/L-30_tops.txt', 'r') as f:\n",
    "    data = f.read()"
   ]
  },
  {
   "cell_type": "code",
   "execution_count": 5,
   "metadata": {
    "tags": [
     "hide"
    ]
   },
   "outputs": [
    {
     "data": {
      "text/plain": [
       "'# L-30 well tops\\nWyanDot FM,867.156\\nDAWSON CANYON FM,984.50402\\nLOGAN CANYON FM,1136.904\\nUpper MISSISAUGA FM,2251.2529\\nLower MISSISAUGA FM,3190.6464\\nABENAKI FM,3404.3112\\nMID BACCARO,3485.0832\\nLower BACCARO,3964.5337\\nBase O-Marker,2469.207\\nTD,4268.0\\nPay_sand_1-rft,2478.0\\npay_sand_2,2499.0\\npay_sand_3,2543.0\\npay_sand_4,2637.0\\nsand_5,2699.0\\nsand_6,2795.0\\nsand_7,2835.0\\n'"
      ]
     },
     "execution_count": 5,
     "metadata": {},
     "output_type": "execute_result"
    }
   ],
   "source": [
    "data"
   ]
  },
  {
   "cell_type": "code",
   "execution_count": 6,
   "metadata": {
    "collapsed": true,
    "tags": [
     "hide"
    ]
   },
   "outputs": [],
   "source": [
    "with open('../data/L-30_tops.txt', 'r') as f:\n",
    "    lines = f.readlines()"
   ]
  },
  {
   "cell_type": "code",
   "execution_count": 7,
   "metadata": {
    "tags": [
     "hide"
    ]
   },
   "outputs": [
    {
     "data": {
      "text/plain": [
       "['# L-30 well tops\\n',\n",
       " 'WyanDot FM,867.156\\n',\n",
       " 'DAWSON CANYON FM,984.50402\\n',\n",
       " 'LOGAN CANYON FM,1136.904\\n',\n",
       " 'Upper MISSISAUGA FM,2251.2529\\n',\n",
       " 'Lower MISSISAUGA FM,3190.6464\\n',\n",
       " 'ABENAKI FM,3404.3112\\n',\n",
       " 'MID BACCARO,3485.0832\\n',\n",
       " 'Lower BACCARO,3964.5337\\n',\n",
       " 'Base O-Marker,2469.207\\n',\n",
       " 'TD,4268.0\\n',\n",
       " 'Pay_sand_1-rft,2478.0\\n',\n",
       " 'pay_sand_2,2499.0\\n',\n",
       " 'pay_sand_3,2543.0\\n',\n",
       " 'pay_sand_4,2637.0\\n',\n",
       " 'sand_5,2699.0\\n',\n",
       " 'sand_6,2795.0\\n',\n",
       " 'sand_7,2835.0\\n']"
      ]
     },
     "execution_count": 7,
     "metadata": {},
     "output_type": "execute_result"
    }
   ],
   "source": [
    "lines"
   ]
  },
  {
   "cell_type": "markdown",
   "metadata": {},
   "source": [
    "Note that we can also use this pattern:"
   ]
  },
  {
   "cell_type": "code",
   "execution_count": 2,
   "metadata": {},
   "outputs": [
    {
     "name": "stdout",
     "output_type": "stream",
     "text": [
      "# Formation name,Depth\n",
      "WyanDot FM,867.156\n",
      "DAWSON CANYON FM,984.50402\n",
      "LOGAN CANYON FM,1136.904\n",
      "Upper MISSISAUGA FM,2251.2529\n",
      "Lower MISSISAUGA FM,3190.6464\n",
      "ABENAKI FM,3404.3112\n",
      "MID BACCARO,3485.0832\n",
      "Lower BACCARO,3964.5337\n",
      "Base O-Marker,2469.207\n",
      "TD,4268.0\n",
      "Pay_sand_1-rft,2478.0\n",
      "pay_sand_2,2499.0\n",
      "pay_sand_3,2543.0\n",
      "pay_sand_4,2637.0\n",
      "sand_5,2699.0\n",
      "sand_6,2795.0\n",
      "sand_7,2835.0"
     ]
    }
   ],
   "source": [
    "with open('../data/L-30_tops.txt', 'r') as f:\n",
    "    for line in f:\n",
    "        print(line, end='')"
   ]
  },
  {
   "cell_type": "markdown",
   "metadata": {
    "tags": [
     "exercise"
    ]
   },
   "source": [
    "### Exercise\n",
    "\n",
    "Write a `for` loop to read the lines of the file one by one, adding key:value pairs to a dictionary as you go.\n",
    "\n",
    "<a title=\"You will need to skip the loop over lines that look like comments. Use str.split() to break the line at a comma, and `float()` to convert strings to numbers.\">**Hover for hints**</a>"
   ]
  },
  {
   "cell_type": "code",
   "execution_count": 9,
   "metadata": {
    "collapsed": true
   },
   "outputs": [],
   "source": [
    "# YOUR CODE HERE\n",
    "\n",
    "\n"
   ]
  },
  {
   "cell_type": "code",
   "execution_count": 13,
   "metadata": {
    "collapsed": true,
    "tags": [
     "hide"
    ]
   },
   "outputs": [],
   "source": [
    "tops = {}\n",
    "for line in lines:\n",
    "\n",
    "    if line.startswith('#'):\n",
    "        continue\n",
    "    name, depth = line.split(',')\n",
    "    name = name.title()\n",
    "    depth = float(depth.strip())\n",
    "\n",
    "    tops[name] = depth"
   ]
  },
  {
   "cell_type": "code",
   "execution_count": 14,
   "metadata": {
    "tags": [
     "hide"
    ]
   },
   "outputs": [
    {
     "data": {
      "text/plain": [
       "{'Abenaki Fm': 3404.3112,\n",
       " 'Base O-Marker': 2469.207,\n",
       " 'Dawson Canyon Fm': 984.50402,\n",
       " 'Logan Canyon Fm': 1136.904,\n",
       " 'Lower Baccaro': 3964.5337,\n",
       " 'Lower Missisauga Fm': 3190.6464,\n",
       " 'Mid Baccaro': 3485.0832,\n",
       " 'Pay_Sand_1-Rft': 2478.0,\n",
       " 'Pay_Sand_2': 2499.0,\n",
       " 'Pay_Sand_3': 2543.0,\n",
       " 'Pay_Sand_4': 2637.0,\n",
       " 'Sand_5': 2699.0,\n",
       " 'Sand_6': 2795.0,\n",
       " 'Sand_7': 2835.0,\n",
       " 'Td': 4268.0,\n",
       " 'Upper Missisauga Fm': 2251.2529,\n",
       " 'Wyandot Fm': 867.156}"
      ]
     },
     "execution_count": 14,
     "metadata": {},
     "output_type": "execute_result"
    }
   ],
   "source": [
    "tops"
   ]
  },
  {
   "cell_type": "markdown",
   "metadata": {
    "tags": [
     "exercise"
    ]
   },
   "source": [
    "### Exercise\n",
    "\n",
    "Your challenge is to turn this into a function, or functions, complete with docstring and any options you want to try to implement.\n",
    "\n",
    "- Make sure everything, including the file reading, is handled by your function.\n",
    "- Don't forget the docstring!\n",
    "- When the function works on `../data/L-30_tops.txt`, make it work on `../data/B-41_tops.txt`. This will take some debugging.\n",
    "- Remember you have the `clean_depth()` code from `Intro_to_Python` (it might even be in your `utils.py` module).\n",
    "- You will probably want to let the user choose different 'comment' characters.\n",
    "- Let the user select different delimiters, other than a comma.\n",
    "- Other things, like skipping lines or transforming the case of the names, could also be optional.\n",
    "- Maybe print some 'progress logging' as you go, so the user knows what's going on. If you want, dig into the `logging` or `warnings` modules built in to Python.\n",
    "\n",
    "When you're done, add the function to `utils.py`."
   ]
  },
  {
   "cell_type": "code",
   "execution_count": null,
   "metadata": {
    "collapsed": true
   },
   "outputs": [],
   "source": []
  },
  {
   "cell_type": "markdown",
   "metadata": {
    "tags": [
     "hide"
    ]
   },
   "source": [
    "### Instructor notes\n",
    "\n",
    "- Start with the loop\n",
    "- When a simple loop works, put it in a function, should be something like the first function, below.\n",
    "- Add a (short) docstring.\n",
    "- Once in a function, get it working on B-41.txt.\n",
    "- Remove hard-coded parameters, one at a time.\n"
   ]
  },
  {
   "cell_type": "code",
   "execution_count": 15,
   "metadata": {
    "collapsed": true,
    "tags": [
     "hide"
    ]
   },
   "outputs": [],
   "source": [
    "def get_tops_from_file(fname):\n",
    "\n",
    "    with open(fname, 'r') as f:\n",
    "        lines = f.readlines()\n",
    "\n",
    "    tops = {}\n",
    "\n",
    "    for line in lines:\n",
    "\n",
    "        if line.startswith('#'):\n",
    "            continue\n",
    "\n",
    "        top, depth = line.split(',')\n",
    "\n",
    "        top = top.title()\n",
    "\n",
    "        tops[top] = float(depth)\n",
    "\n",
    "    return tops\n"
   ]
  },
  {
   "cell_type": "markdown",
   "metadata": {
    "tags": [
     "hide"
    ]
   },
   "source": [
    "Ideally, students will use the depth cleaning function they assembled / wrote on Day 1. It should be un `util.py`, but if not, here it is:"
   ]
  },
  {
   "cell_type": "code",
   "execution_count": 40,
   "metadata": {
    "collapsed": true,
    "tags": [
     "hide"
    ]
   },
   "outputs": [],
   "source": [
    "def clean_depth(string):\n",
    "    \"\"\"Clean the units from a number.\"\"\"\n",
    "    if 'm' in string.lower():\n",
    "        units = 'M'\n",
    "    elif 'f' in string.lower():\n",
    "        units = 'FT'\n",
    "    else:\n",
    "        units = None\n",
    "\n",
    "    stripped = string.lower().strip(' .mft\\n\\t')\n",
    "    value = stripped.replace(',', '')\n",
    "\n",
    "    return float(value), units"
   ]
  },
  {
   "cell_type": "code",
   "execution_count": 3,
   "metadata": {
    "tags": [
     "hide"
    ]
   },
   "outputs": [],
   "source": [
    "def get_tops_from_file(fname, skip=0, comment='#', delimiter=',', null=-999.25, fix_case=True):\n",
    "    \"\"\"\n",
    "    Read a CSV-like file and get top depths from it.\n",
    "    \"\"\"\n",
    "    with open(fname, 'r') as f:\n",
    "        data = f.readlines()[skip:]\n",
    "\n",
    "    tops = {}\n",
    "    for line in data:\n",
    "        \n",
    "        # Skip comment rows.\n",
    "        if line.startswith(comment):\n",
    "            continue\n",
    "\n",
    "        # Assign names to elements.\n",
    "        name, dstr = line.split(delimiter)\n",
    "\n",
    "        if fix_case:\n",
    "            name = name.title()\n",
    "\n",
    "        # Get rid of extra chars.\n",
    "        try:\n",
    "            depth, _ = clean_depth(dstr)  # << don't use clean_depth()[0], the assignment is clearer.\n",
    "        except ValueError:\n",
    "            depth = null\n",
    "        \n",
    "        tops[name] = depth\n",
    "        \n",
    "    return tops"
   ]
  },
  {
   "cell_type": "code",
   "execution_count": 4,
   "metadata": {
    "tags": [
     "hide"
    ]
   },
   "outputs": [
    {
     "ename": "ValueError",
     "evalue": "not enough values to unpack (expected 2, got 1)",
     "output_type": "error",
     "traceback": [
      "\u001b[0;31m---------------------------------------------------------------------------\u001b[0m",
      "\u001b[0;31mValueError\u001b[0m                                Traceback (most recent call last)",
      "\u001b[0;32m<ipython-input-4-ae3e588e41ff>\u001b[0m in \u001b[0;36m<module>\u001b[0;34m\u001b[0m\n\u001b[0;32m----> 1\u001b[0;31m \u001b[0mget_tops_from_file\u001b[0m\u001b[0;34m(\u001b[0m\u001b[0;34m'../data/B-41_tops.txt'\u001b[0m\u001b[0;34m)\u001b[0m\u001b[0;34m\u001b[0m\u001b[0;34m\u001b[0m\u001b[0m\n\u001b[0m",
      "\u001b[0;32m<ipython-input-3-0f2e2036dbed>\u001b[0m in \u001b[0;36mget_tops_from_file\u001b[0;34m(fname, skip, comment, delimiter, null, fix_case)\u001b[0m\n\u001b[1;32m     14\u001b[0m \u001b[0;34m\u001b[0m\u001b[0m\n\u001b[1;32m     15\u001b[0m         \u001b[0;31m# Assign names to elements.\u001b[0m\u001b[0;34m\u001b[0m\u001b[0;34m\u001b[0m\u001b[0;34m\u001b[0m\u001b[0m\n\u001b[0;32m---> 16\u001b[0;31m         \u001b[0mname\u001b[0m\u001b[0;34m,\u001b[0m \u001b[0mdstr\u001b[0m \u001b[0;34m=\u001b[0m \u001b[0mline\u001b[0m\u001b[0;34m.\u001b[0m\u001b[0msplit\u001b[0m\u001b[0;34m(\u001b[0m\u001b[0mdelimiter\u001b[0m\u001b[0;34m)\u001b[0m\u001b[0;34m\u001b[0m\u001b[0;34m\u001b[0m\u001b[0m\n\u001b[0m\u001b[1;32m     17\u001b[0m \u001b[0;34m\u001b[0m\u001b[0m\n\u001b[1;32m     18\u001b[0m         \u001b[0;32mif\u001b[0m \u001b[0mfix_case\u001b[0m\u001b[0;34m:\u001b[0m\u001b[0;34m\u001b[0m\u001b[0;34m\u001b[0m\u001b[0m\n",
      "\u001b[0;31mValueError\u001b[0m: not enough values to unpack (expected 2, got 1)"
     ]
    }
   ],
   "source": [
    "get_tops_from_file('../data/B-41_tops.txt')"
   ]
  },
  {
   "cell_type": "markdown",
   "metadata": {},
   "source": [
    "## Reading multiple files\n",
    "\n",
    "Sometimes you will want to read a lot of files from disk, perhaps even from multiple directories. The easiest way to do this is with the built-in library `glob`, which accept POSIX-style paths, with wildcards etc. [Read about these.](https://tldp.org/LDP/GNU-Linux-Tools-Summary/html/x11655.htm)\n",
    "\n",
    "`glob.glob(path)` returns a list of filenames."
   ]
  },
  {
   "cell_type": "code",
   "execution_count": 6,
   "metadata": {},
   "outputs": [
    {
     "name": "stdout",
     "output_type": "stream",
     "text": [
      "../data/sussex/UWI_4900523138.tops\n",
      "../data/sussex/UWI_4900523389.tops\n",
      "../data/sussex/UWI_4900525200.tops\n",
      "../data/sussex/UWI_4900524005.tops\n",
      "../data/sussex/UWI_4900523444.tops\n",
      "../data/sussex/UWI4999999999.tops\n",
      "../data/sussex/UWI_4900523013.tops\n",
      "../data/sussex/UWI_4900524277.tops\n",
      "../data/sussex/UWI_4900523595.tops\n",
      "../data/sussex/UWI_4900523570.tops\n",
      "../data/sussex/UWI_4900525104.tops\n",
      "../data/sussex/UWI_4900524228.tops\n",
      "../data/sussex/UWI_4900525135.tops\n",
      "../data/sussex/UWI_4900525111.tops\n",
      "../data/sussex/UWI_4900525133.tops\n",
      "../data/sussex/UWI_4900523478.tops\n",
      "../data/sussex/UWI_4900527320.tops\n",
      "../data/sussex/UWI_4900525209.tops\n",
      "../data/sussex/UWI_4900523333.tops\n",
      "../data/sussex/UWI_4900523649.tops\n",
      "../data/sussex/UWI_4900525210.tops\n",
      "../data/sussex/UWI_4900523816.tops\n",
      "../data/sussex/UWI_4900524006.tops\n",
      "../data/sussex/UWI_4900523753.tops\n",
      "../data/sussex/UWI_4900523863.tops\n",
      "../data/sussex/UWI_4900523499.tops\n",
      "../data/sussex/UWI_4900523650.tops\n",
      "../data/sussex/UWI_4900524202.tops\n",
      "../data/sussex/UWI_4900522918.tops\n",
      "../data/sussex/UWI_4900525134.tops\n",
      "../data/sussex/UWI_4900525287.tops\n"
     ]
    }
   ],
   "source": [
    "from glob import glob\n",
    "\n",
    "for fname in glob('../data/sussex/UWI*.tops'):\n",
    "    print(fname)"
   ]
  },
  {
   "cell_type": "markdown",
   "metadata": {},
   "source": [
    "There are other options too, for example `os.walk()` allows you to 'walk' an entire branch of the file system. People often use this with `fnmatch.fnmatch()` for POSIX-like filename matching.\n",
    "\n",
    "There's also `os.listdir()` which is the fastest of these options. Unlike `glob.glob()` is returns filenames only, not paths, so you will have to construct the path yourself to read a file."
   ]
  },
  {
   "cell_type": "code",
   "execution_count": 5,
   "metadata": {},
   "outputs": [
    {
     "name": "stdout",
     "output_type": "stream",
     "text": [
      "UWI_4900523138.tops\n",
      "UWI_4900523389.tops\n",
      "UWI_4900525200.tops\n",
      "UWI_4900524005.tops\n",
      "UWI_4900523444.tops\n",
      "UWI4999999999.tops\n",
      "UWI_4900523013.tops\n",
      "UWI_4900524277.tops\n",
      "UWI_4900523595.tops\n",
      "UWI_4900523570.tops\n",
      "UWI_4900525104.tops\n",
      "UWI_4900524228.tops\n",
      "UWI_4900525135.tops\n",
      "UWI_4900525111.tops\n",
      "UWI_4900525133.tops\n",
      "UWI_4900523478.tops\n",
      "UWI_4900527320.tops\n",
      "UWI_4900525209.tops\n",
      "UWI_4900523333.tops\n",
      "UWI_4999999999.txt\n",
      "UWI_4900523649.tops\n",
      "UWI_4900525210.tops\n",
      "UWI_4900523816.tops\n",
      "UWI_4900524006.tops\n",
      "UWI_4900523753.tops\n",
      "UWI_4900523863.tops\n",
      "UWI_4900523499.tops\n",
      "UWI_4900523650.tops\n",
      "UWI_4900524202.tops\n",
      "UWI_4900522918.tops\n",
      "UWI_4900525134.tops\n",
      "UWI_4900525287.tops\n"
     ]
    }
   ],
   "source": [
    "import os\n",
    "\n",
    "for fname in os.listdir('../data/sussex'):\n",
    "    if 'UWI' in fname:\n",
    "        print(fname)"
   ]
  },
  {
   "cell_type": "markdown",
   "metadata": {},
   "source": [
    "## Intro to Python students: stop here for now\n",
    "\n",
    "----"
   ]
  },
  {
   "cell_type": "markdown",
   "metadata": {},
   "source": [
    "## Reading with `pandas`"
   ]
  },
  {
   "cell_type": "markdown",
   "metadata": {
    "tags": [
     "exercise"
    ]
   },
   "source": [
    "### EXERCISE\n",
    "\n",
    "Can you read either Tops file using `pd.read_csv()`?"
   ]
  },
  {
   "cell_type": "code",
   "execution_count": null,
   "metadata": {},
   "outputs": [],
   "source": []
  },
  {
   "cell_type": "code",
   "execution_count": 9,
   "metadata": {
    "tags": [
     "hide"
    ]
   },
   "outputs": [
    {
     "data": {
      "text/html": [
       "<div>\n",
       "<style scoped>\n",
       "    .dataframe tbody tr th:only-of-type {\n",
       "        vertical-align: middle;\n",
       "    }\n",
       "\n",
       "    .dataframe tbody tr th {\n",
       "        vertical-align: top;\n",
       "    }\n",
       "\n",
       "    .dataframe thead th {\n",
       "        text-align: right;\n",
       "    }\n",
       "</style>\n",
       "<table border=\"1\" class=\"dataframe\">\n",
       "  <thead>\n",
       "    <tr style=\"text-align: right;\">\n",
       "      <th></th>\n",
       "      <th>Formation</th>\n",
       "      <th>Depth</th>\n",
       "    </tr>\n",
       "  </thead>\n",
       "  <tbody>\n",
       "    <tr>\n",
       "      <th>0</th>\n",
       "      <td>WyanDot FM</td>\n",
       "      <td>858.62158M</td>\n",
       "    </tr>\n",
       "    <tr>\n",
       "      <th>1</th>\n",
       "      <td>DAWSON CANYON FM</td>\n",
       "      <td>985.113M</td>\n",
       "    </tr>\n",
       "    <tr>\n",
       "      <th>2</th>\n",
       "      <td>LOGAN CANYON FM</td>\n",
       "      <td>1157.0207M</td>\n",
       "    </tr>\n",
       "    <tr>\n",
       "      <th>3</th>\n",
       "      <td>Upper MISSISAUGA FM</td>\n",
       "      <td>2246.9856M</td>\n",
       "    </tr>\n",
       "    <tr>\n",
       "      <th>4</th>\n",
       "      <td>Lower MISSISAUGA FM</td>\n",
       "      <td>3190.6464M</td>\n",
       "    </tr>\n",
       "    <tr>\n",
       "      <th>5</th>\n",
       "      <td>Base O-Marker</td>\n",
       "      <td>2472.561M</td>\n",
       "    </tr>\n",
       "    <tr>\n",
       "      <th>6</th>\n",
       "      <td>Abenaki</td>\n",
       "      <td>-999.25</td>\n",
       "    </tr>\n",
       "    <tr>\n",
       "      <th>7</th>\n",
       "      <td>pay_sand_1</td>\n",
       "      <td>M</td>\n",
       "    </tr>\n",
       "    <tr>\n",
       "      <th>8</th>\n",
       "      <td>TD</td>\n",
       "      <td>-999.25</td>\n",
       "    </tr>\n",
       "  </tbody>\n",
       "</table>\n",
       "</div>"
      ],
      "text/plain": [
       "             Formation       Depth\n",
       "0           WyanDot FM  858.62158M\n",
       "1     DAWSON CANYON FM    985.113M\n",
       "2      LOGAN CANYON FM  1157.0207M\n",
       "3  Upper MISSISAUGA FM  2246.9856M\n",
       "4  Lower MISSISAUGA FM  3190.6464M\n",
       "5        Base O-Marker   2472.561M\n",
       "6              Abenaki     -999.25\n",
       "7           pay_sand_1           M\n",
       "8                   TD     -999.25"
      ]
     },
     "execution_count": 9,
     "metadata": {},
     "output_type": "execute_result"
    }
   ],
   "source": [
    "import pandas as pd\n",
    "import numpy as np\n",
    "\n",
    "df = pd.read_csv('../data/B-41_tops.txt',\n",
    "                 comment=\"%\",\n",
    "                 delimiter='\\t',\n",
    "                 names=['Formation', 'Depth'],\n",
    "                )\n",
    "\n",
    "\n",
    "df.Formation = df.Formation.str.title()\n",
    "\n",
    "df.Depth = df.Depth.str.rstrip('M').replace('', '-999.25')\n",
    "df.Depth = df.Depth.astype(float).replace({-999.25: np.nan})\n",
    "\n",
    "df"
   ]
  },
  {
   "cell_type": "code",
   "execution_count": 11,
   "metadata": {
    "tags": [
     "hide"
    ]
   },
   "outputs": [
    {
     "data": {
      "text/html": [
       "<div>\n",
       "<style scoped>\n",
       "    .dataframe tbody tr th:only-of-type {\n",
       "        vertical-align: middle;\n",
       "    }\n",
       "\n",
       "    .dataframe tbody tr th {\n",
       "        vertical-align: top;\n",
       "    }\n",
       "\n",
       "    .dataframe thead th {\n",
       "        text-align: right;\n",
       "    }\n",
       "</style>\n",
       "<table border=\"1\" class=\"dataframe\">\n",
       "  <thead>\n",
       "    <tr style=\"text-align: right;\">\n",
       "      <th></th>\n",
       "      <th>Formation</th>\n",
       "      <th>Depth</th>\n",
       "    </tr>\n",
       "  </thead>\n",
       "  <tbody>\n",
       "    <tr>\n",
       "      <th>0</th>\n",
       "      <td>Wyandot Fm</td>\n",
       "      <td>858.62158</td>\n",
       "    </tr>\n",
       "    <tr>\n",
       "      <th>1</th>\n",
       "      <td>Dawson Canyon Fm</td>\n",
       "      <td>985.11300</td>\n",
       "    </tr>\n",
       "    <tr>\n",
       "      <th>2</th>\n",
       "      <td>Logan Canyon Fm</td>\n",
       "      <td>1157.02070</td>\n",
       "    </tr>\n",
       "    <tr>\n",
       "      <th>3</th>\n",
       "      <td>Upper Missisauga Fm</td>\n",
       "      <td>2246.98560</td>\n",
       "    </tr>\n",
       "    <tr>\n",
       "      <th>4</th>\n",
       "      <td>Lower Missisauga Fm</td>\n",
       "      <td>3190.64640</td>\n",
       "    </tr>\n",
       "    <tr>\n",
       "      <th>5</th>\n",
       "      <td>Base O-Marker</td>\n",
       "      <td>2472.56100</td>\n",
       "    </tr>\n",
       "    <tr>\n",
       "      <th>6</th>\n",
       "      <td>Abenaki</td>\n",
       "      <td>NaN</td>\n",
       "    </tr>\n",
       "    <tr>\n",
       "      <th>7</th>\n",
       "      <td>Pay_Sand_1</td>\n",
       "      <td>NaN</td>\n",
       "    </tr>\n",
       "    <tr>\n",
       "      <th>8</th>\n",
       "      <td>Td</td>\n",
       "      <td>NaN</td>\n",
       "    </tr>\n",
       "  </tbody>\n",
       "</table>\n",
       "</div>"
      ],
      "text/plain": [
       "             Formation       Depth\n",
       "0           Wyandot Fm   858.62158\n",
       "1     Dawson Canyon Fm   985.11300\n",
       "2      Logan Canyon Fm  1157.02070\n",
       "3  Upper Missisauga Fm  2246.98560\n",
       "4  Lower Missisauga Fm  3190.64640\n",
       "5        Base O-Marker  2472.56100\n",
       "6              Abenaki         NaN\n",
       "7           Pay_Sand_1         NaN\n",
       "8                   Td         NaN"
      ]
     },
     "execution_count": 11,
     "metadata": {},
     "output_type": "execute_result"
    }
   ],
   "source": [
    "import numpy as np\n",
    "\n",
    "df.Formation = df.Formation.str.title()\n",
    "\n",
    "df.Depth = df.Depth.str.rstrip('M').replace('', '-999.25')\n",
    "df.Depth = df.Depth.astype(float).replace({-999.25: np.nan})\n",
    "\n",
    "df"
   ]
  },
  {
   "cell_type": "markdown",
   "metadata": {},
   "source": [
    "Make a CSV file with these improvements."
   ]
  },
  {
   "cell_type": "code",
   "execution_count": null,
   "metadata": {},
   "outputs": [],
   "source": [
    "pd.to_csv('../data/L-30_tops.csv')"
   ]
  },
  {
   "cell_type": "markdown",
   "metadata": {},
   "source": [
    "## Read using NumPy\n",
    "\n",
    "We can use `np.loadtxt()` for numeric files."
   ]
  },
  {
   "cell_type": "code",
   "execution_count": 20,
   "metadata": {},
   "outputs": [
    {
     "data": {
      "text/plain": [
       "array([ 867.156  ,  984.50402, 1136.904  , 2251.2529 , 3190.6464 ,\n",
       "       3404.3112 , 3485.0832 , 3964.5337 , 2469.207  , 4268.     ,\n",
       "       2478.     , 2499.     , 2543.     , 2637.     , 2699.     ,\n",
       "       2795.     , 2835.     ])"
      ]
     },
     "execution_count": 20,
     "metadata": {},
     "output_type": "execute_result"
    }
   ],
   "source": [
    "import numpy as np\n",
    "\n",
    "np.loadtxt('../data/L-30_tops.txt', skiprows=1, usecols=[1], delimiter=',')"
   ]
  },
  {
   "cell_type": "markdown",
   "metadata": {},
   "source": [
    "Or there's [`np.genfromtxt()`](https://docs.scipy.org/doc/numpy-1.13.0/user/basics.io.genfromtxt.html), which copes better with missing values &mdash; try running it on `'../data/B-41_tops.txt'`."
   ]
  },
  {
   "cell_type": "code",
   "execution_count": 21,
   "metadata": {},
   "outputs": [
    {
     "data": {
      "text/plain": [
       "array([[       nan,  867.156  ],\n",
       "       [       nan,  984.50402],\n",
       "       [       nan, 1136.904  ],\n",
       "       [       nan, 2251.2529 ],\n",
       "       [       nan, 3190.6464 ],\n",
       "       [       nan, 3404.3112 ],\n",
       "       [       nan, 3485.0832 ],\n",
       "       [       nan, 3964.5337 ],\n",
       "       [       nan, 2469.207  ],\n",
       "       [       nan, 4268.     ],\n",
       "       [       nan, 2478.     ],\n",
       "       [       nan, 2499.     ],\n",
       "       [       nan, 2543.     ],\n",
       "       [       nan, 2637.     ],\n",
       "       [       nan, 2699.     ],\n",
       "       [       nan, 2795.     ],\n",
       "       [       nan, 2835.     ]])"
      ]
     },
     "execution_count": 21,
     "metadata": {},
     "output_type": "execute_result"
    }
   ],
   "source": [
    "np.genfromtxt('../data/L-30_tops.txt', skip_header=1, delimiter=',')"
   ]
  },
  {
   "cell_type": "markdown",
   "metadata": {},
   "source": [
    "Both functions have a useful keyword argument, `unpack`, which you should set to `True` to get the columns back as separate vectors.\n",
    "\n",
    "Note that both functions can read GZIP files too."
   ]
  },
  {
   "cell_type": "markdown",
   "metadata": {},
   "source": [
    "## Reading without loops: `re`\n",
    "\n",
    "You can learn about regex and the `re` module in two notebooks:\n",
    "\n",
    "- [Regular_expressions_intro.ipynb](../demos/Regular_expressions_intro.ipynb)\n",
    "- [Regular_expressions_for_text_processing.ipynb](../demos/Regular_expressions_for_text_processing.ipynb)"
   ]
  },
  {
   "cell_type": "code",
   "execution_count": 50,
   "metadata": {},
   "outputs": [],
   "source": [
    "# With regex.\n",
    "import re\n",
    "\n",
    "with open('../data/L-30_tops.txt') as f:\n",
    "    data = re.findall('(.+?),([.0-9]+)', f.read())\n",
    "    tops = {name: float(depth) for name, depth in data}"
   ]
  },
  {
   "cell_type": "code",
   "execution_count": 51,
   "metadata": {},
   "outputs": [
    {
     "data": {
      "text/plain": [
       "{'WyanDot FM': 867.156,\n",
       " 'DAWSON CANYON FM': 984.50402,\n",
       " 'LOGAN CANYON FM': 1136.904,\n",
       " 'Upper MISSISAUGA FM': 2251.2529,\n",
       " 'Lower MISSISAUGA FM': 3190.6464,\n",
       " 'ABENAKI FM': 3404.3112,\n",
       " 'MID BACCARO': 3485.0832,\n",
       " 'Lower BACCARO': 3964.5337,\n",
       " 'Base O-Marker': 2469.207,\n",
       " 'TD': 4268.0,\n",
       " 'Pay_sand_1-rft': 2478.0,\n",
       " 'pay_sand_2': 2499.0,\n",
       " 'pay_sand_3': 2543.0,\n",
       " 'pay_sand_4': 2637.0,\n",
       " 'sand_5': 2699.0,\n",
       " 'sand_6': 2795.0,\n",
       " 'sand_7': 2835.0}"
      ]
     },
     "execution_count": 51,
     "metadata": {},
     "output_type": "execute_result"
    }
   ],
   "source": [
    "tops"
   ]
  },
  {
   "cell_type": "markdown",
   "metadata": {},
   "source": [
    "## Reading without loops: `map`"
   ]
  },
  {
   "cell_type": "code",
   "execution_count": 13,
   "metadata": {},
   "outputs": [
    {
     "data": {
      "text/plain": [
       "{'WyanDot FM': 867.156,\n",
       " 'DAWSON CANYON FM': 984.50402,\n",
       " 'LOGAN CANYON FM': 1136.904,\n",
       " 'Upper MISSISAUGA FM': 2251.2529,\n",
       " 'Lower MISSISAUGA FM': 3190.6464,\n",
       " 'ABENAKI FM': 3404.3112,\n",
       " 'MID BACCARO': 3485.0832,\n",
       " 'Lower BACCARO': 3964.5337,\n",
       " 'Base O-Marker': 2469.207,\n",
       " 'TD': 4268.0,\n",
       " 'Pay_sand_1-rft': 2478.0,\n",
       " 'pay_sand_2': 2499.0,\n",
       " 'pay_sand_3': 2543.0,\n",
       " 'pay_sand_4': 2637.0,\n",
       " 'sand_5': 2699.0,\n",
       " 'sand_6': 2795.0,\n",
       " 'sand_7': 2835.0}"
      ]
     },
     "execution_count": 13,
     "metadata": {},
     "output_type": "execute_result"
    }
   ],
   "source": [
    "# Another way (awesome)\n",
    "def process_line(line):\n",
    "    k, v = line.split(',')\n",
    "    return k, float(v)\n",
    "\n",
    "with open('../data/L-30_tops.txt') as f:\n",
    "    _ = f.readline()  # Skip first line.\n",
    "    tops = dict(map(process_line, f))\n",
    "    \n",
    "tops"
   ]
  },
  {
   "cell_type": "markdown",
   "metadata": {},
   "source": [
    "## Reading without loops: `map` and `filter`\n",
    "\n",
    "We can avoid the ugly `_ = f.readline()` in the previous cell by filtering the lines with an `is_valid` function that checks we're not in a comment."
   ]
  },
  {
   "cell_type": "code",
   "execution_count": 22,
   "metadata": {},
   "outputs": [
    {
     "data": {
      "text/plain": [
       "{'WyanDot FM': 867.156,\n",
       " 'DAWSON CANYON FM': 984.50402,\n",
       " 'LOGAN CANYON FM': 1136.904,\n",
       " 'Upper MISSISAUGA FM': 2251.2529,\n",
       " 'Lower MISSISAUGA FM': 3190.6464,\n",
       " 'ABENAKI FM': 3404.3112,\n",
       " 'MID BACCARO': 3485.0832,\n",
       " 'Lower BACCARO': 3964.5337,\n",
       " 'Base O-Marker': 2469.207,\n",
       " 'TD': 4268.0,\n",
       " 'Pay_sand_1-rft': 2478.0,\n",
       " 'pay_sand_2': 2499.0,\n",
       " 'pay_sand_3': 2543.0,\n",
       " 'pay_sand_4': 2637.0,\n",
       " 'sand_5': 2699.0,\n",
       " 'sand_6': 2795.0,\n",
       " 'sand_7': 2835.0}"
      ]
     },
     "execution_count": 22,
     "metadata": {},
     "output_type": "execute_result"
    }
   ],
   "source": [
    "def process_line(line):\n",
    "    \"\"\"Process one valid line.\n",
    "    \"\"\"\n",
    "    k, v = line.split(',')\n",
    "    return k, float(v)\n",
    "\n",
    "def is_valid(line):\n",
    "    \"\"\"Decide is a line is processable.\n",
    "    \"\"\"\n",
    "    return '#' not in line\n",
    "\n",
    "with open('../data/L-30_tops.txt') as f:\n",
    "    tops = dict(map(process_line, filter(is_valid, f)))\n",
    "    \n",
    "tops"
   ]
  },
  {
   "cell_type": "code",
   "execution_count": 30,
   "metadata": {
    "tags": [
     "hide"
    ]
   },
   "outputs": [
    {
     "data": {
      "text/plain": [
       "{'WyanDot FM': 858.62158,\n",
       " 'DAWSON CANYON FM': 985.113,\n",
       " 'LOGAN CANYON FM': 1157.0207,\n",
       " 'Upper MISSISAUGA FM': 2246.9856,\n",
       " 'Lower MISSISAUGA FM': 3190.6464,\n",
       " 'Base O-Marker': 2472.561,\n",
       " 'Abenaki': -999.25,\n",
       " 'pay_sand_1': -999.25,\n",
       " 'TD': -999.25}"
      ]
     },
     "execution_count": 30,
     "metadata": {},
     "output_type": "execute_result"
    }
   ],
   "source": [
    "# Update that one to deal with B-41.\n",
    "# Curry is_valid to allow other chars.\n",
    "def process_line(line):\n",
    "    k, v = line.split(',')\n",
    "    v = v.lower().strip('ftm \\n')\n",
    "    if not v:\n",
    "        v = -999.25\n",
    "    return k, float(v)\n",
    "\n",
    "def is_valid(char):\n",
    "    return lambda line: char not in line\n",
    "\n",
    "with open('../data/B-41_tops.txt') as f:\n",
    "    tops = dict(map(process_line, filter(is_valid('%'), f)))\n",
    "\n",
    "tops"
   ]
  },
  {
   "cell_type": "markdown",
   "metadata": {},
   "source": [
    "## Reading without loops: `dict` comprehension\n",
    "\n",
    "A (gross) one-liner! But seriously, this is getting silly..."
   ]
  },
  {
   "cell_type": "code",
   "execution_count": 10,
   "metadata": {
    "scrolled": true
   },
   "outputs": [
    {
     "data": {
      "text/plain": [
       "{'WyanDot FM': 858.62158,\n",
       " 'DAWSON CANYON FM': 985.113,\n",
       " 'LOGAN CANYON FM': 1157.0207,\n",
       " 'Upper MISSISAUGA FM': 2246.9856,\n",
       " 'Lower MISSISAUGA FM': 3190.6464,\n",
       " 'Base O-Marker': 2472.561,\n",
       " 'Abenaki': -999.25,\n",
       " 'pay_sand_1': 0.0,\n",
       " 'TD': -999.25}"
      ]
     },
     "execution_count": 10,
     "metadata": {},
     "output_type": "execute_result"
    }
   ],
   "source": [
    "# An awful one-liner\n",
    "with open('../data/B-41_tops.txt') as f:\n",
    "    tops = {k: float(v.lower().strip(' \\n\\tm') or 0) for k, v in [l.split(',') for l in f if '%' not in l]}\n",
    "\n",
    "tops"
   ]
  },
  {
   "cell_type": "markdown",
   "metadata": {},
   "source": [
    "## Read CSV files using pandas\n",
    "\n",
    "Reading a CSV is easy:"
   ]
  },
  {
   "cell_type": "code",
   "execution_count": 1,
   "metadata": {},
   "outputs": [
    {
     "data": {
      "text/html": [
       "<div>\n",
       "<style scoped>\n",
       "    .dataframe tbody tr th:only-of-type {\n",
       "        vertical-align: middle;\n",
       "    }\n",
       "\n",
       "    .dataframe tbody tr th {\n",
       "        vertical-align: top;\n",
       "    }\n",
       "\n",
       "    .dataframe thead th {\n",
       "        text-align: right;\n",
       "    }\n",
       "</style>\n",
       "<table border=\"1\" class=\"dataframe\">\n",
       "  <thead>\n",
       "    <tr style=\"text-align: right;\">\n",
       "      <th></th>\n",
       "      <th>Formation name</th>\n",
       "      <th>Depth [m]</th>\n",
       "    </tr>\n",
       "  </thead>\n",
       "  <tbody>\n",
       "    <tr>\n",
       "      <th>0</th>\n",
       "      <td>WyanDot FM</td>\n",
       "      <td>867.15600</td>\n",
       "    </tr>\n",
       "    <tr>\n",
       "      <th>1</th>\n",
       "      <td>DAWSON CANYON FM</td>\n",
       "      <td>984.50402</td>\n",
       "    </tr>\n",
       "    <tr>\n",
       "      <th>2</th>\n",
       "      <td>LOGAN CANYON FM</td>\n",
       "      <td>1136.90400</td>\n",
       "    </tr>\n",
       "    <tr>\n",
       "      <th>3</th>\n",
       "      <td>Upper MISSISAUGA FM</td>\n",
       "      <td>2251.25290</td>\n",
       "    </tr>\n",
       "    <tr>\n",
       "      <th>4</th>\n",
       "      <td>Lower MISSISAUGA FM</td>\n",
       "      <td>3190.64640</td>\n",
       "    </tr>\n",
       "  </tbody>\n",
       "</table>\n",
       "</div>"
      ],
      "text/plain": [
       "        Formation name   Depth [m]\n",
       "0           WyanDot FM   867.15600\n",
       "1     DAWSON CANYON FM   984.50402\n",
       "2      LOGAN CANYON FM  1136.90400\n",
       "3  Upper MISSISAUGA FM  2251.25290\n",
       "4  Lower MISSISAUGA FM  3190.64640"
      ]
     },
     "execution_count": 1,
     "metadata": {},
     "output_type": "execute_result"
    }
   ],
   "source": [
    "import pandas as pd\n",
    "\n",
    "df = pd.read_csv('../data/L-30_tops.csv')\n",
    "\n",
    "df.head()"
   ]
  },
  {
   "cell_type": "code",
   "execution_count": 3,
   "metadata": {},
   "outputs": [
    {
     "data": {
      "text/html": [
       "<div>\n",
       "<style scoped>\n",
       "    .dataframe tbody tr th:only-of-type {\n",
       "        vertical-align: middle;\n",
       "    }\n",
       "\n",
       "    .dataframe tbody tr th {\n",
       "        vertical-align: top;\n",
       "    }\n",
       "\n",
       "    .dataframe thead th {\n",
       "        text-align: right;\n",
       "    }\n",
       "</style>\n",
       "<table border=\"1\" class=\"dataframe\">\n",
       "  <thead>\n",
       "    <tr style=\"text-align: right;\">\n",
       "      <th></th>\n",
       "      <th>Formation name</th>\n",
       "      <th>Depth [m]</th>\n",
       "    </tr>\n",
       "  </thead>\n",
       "  <tbody>\n",
       "    <tr>\n",
       "      <th>0</th>\n",
       "      <td>Wyandot Fm</td>\n",
       "      <td>867.15600</td>\n",
       "    </tr>\n",
       "    <tr>\n",
       "      <th>1</th>\n",
       "      <td>Dawson Canyon Fm</td>\n",
       "      <td>984.50402</td>\n",
       "    </tr>\n",
       "    <tr>\n",
       "      <th>2</th>\n",
       "      <td>Logan Canyon Fm</td>\n",
       "      <td>1136.90400</td>\n",
       "    </tr>\n",
       "    <tr>\n",
       "      <th>3</th>\n",
       "      <td>Upper Missisauga Fm</td>\n",
       "      <td>2251.25290</td>\n",
       "    </tr>\n",
       "    <tr>\n",
       "      <th>4</th>\n",
       "      <td>Lower Missisauga Fm</td>\n",
       "      <td>3190.64640</td>\n",
       "    </tr>\n",
       "  </tbody>\n",
       "</table>\n",
       "</div>"
      ],
      "text/plain": [
       "        Formation name   Depth [m]\n",
       "0           Wyandot Fm   867.15600\n",
       "1     Dawson Canyon Fm   984.50402\n",
       "2      Logan Canyon Fm  1136.90400\n",
       "3  Upper Missisauga Fm  2251.25290\n",
       "4  Lower Missisauga Fm  3190.64640"
      ]
     },
     "execution_count": 3,
     "metadata": {},
     "output_type": "execute_result"
    }
   ],
   "source": [
    "df['Formation name'] = df['Formation name'].str.title()\n",
    "df.head()"
   ]
  },
  {
   "cell_type": "code",
   "execution_count": 4,
   "metadata": {},
   "outputs": [],
   "source": [
    "df.to_csv('../data/L-30_tops_improved.csv')"
   ]
  },
  {
   "cell_type": "markdown",
   "metadata": {},
   "source": [
    "## `csv` built-in module"
   ]
  },
  {
   "cell_type": "code",
   "execution_count": 20,
   "metadata": {},
   "outputs": [
    {
     "name": "stdout",
     "output_type": "stream",
     "text": [
      "['Formation name', 'Depth [m]']\n",
      "['WyanDot FM', '867.156']\n",
      "['DAWSON CANYON FM', '984.50402']\n",
      "['LOGAN CANYON FM', '1136.904']\n",
      "['Upper MISSISAUGA FM', '2251.2529']\n",
      "['Lower MISSISAUGA FM', '3190.6464']\n",
      "['ABENAKI FM', '3404.3112']\n",
      "['MID BACCARO', '3485.0832']\n",
      "['Lower BACCARO', '3964.5337']\n",
      "['Base O-Marker', '2469.207']\n",
      "['TD', '4268.0']\n",
      "['Pay_sand_1-rft', '2478.0']\n",
      "['pay_sand_2', '2499.0']\n",
      "['pay_sand_3', '2543.0']\n",
      "['pay_sand_4', '2637.0']\n",
      "['sand_5', '2699.0']\n",
      "['sand_6', '2795.0']\n",
      "['sand_7', '2835.0']\n"
     ]
    }
   ],
   "source": [
    "import csv\n",
    "\n",
    "with open('../data/L-30_tops.csv') as f:\n",
    "    reader = csv.reader(f)\n",
    "    for row in reader:\n",
    "        print(row)"
   ]
  },
  {
   "cell_type": "code",
   "execution_count": 22,
   "metadata": {},
   "outputs": [
    {
     "name": "stdout",
     "output_type": "stream",
     "text": [
      "WyanDot FM 867.156\n",
      "DAWSON CANYON FM 984.50402\n",
      "LOGAN CANYON FM 1136.904\n",
      "Upper MISSISAUGA FM 2251.2529\n",
      "Lower MISSISAUGA FM 3190.6464\n",
      "ABENAKI FM 3404.3112\n",
      "MID BACCARO 3485.0832\n",
      "Lower BACCARO 3964.5337\n",
      "Base O-Marker 2469.207\n",
      "TD 4268.0\n",
      "Pay_sand_1-rft 2478.0\n",
      "pay_sand_2 2499.0\n",
      "pay_sand_3 2543.0\n",
      "pay_sand_4 2637.0\n",
      "sand_5 2699.0\n",
      "sand_6 2795.0\n",
      "sand_7 2835.0\n"
     ]
    }
   ],
   "source": [
    "import csv\n",
    "\n",
    "with open('../data/L-30_tops.csv') as f:\n",
    "    reader = csv.DictReader(f)\n",
    "    for row in reader:\n",
    "        print(row['Formation name'], row['Depth [m]'])"
   ]
  },
  {
   "cell_type": "markdown",
   "metadata": {
    "tags": [
     "hide"
    ]
   },
   "source": [
    "## Addendum: Using SQLite\n",
    "\n",
    "See _Writing to files and databases_ for more on SQLite."
   ]
  },
  {
   "cell_type": "code",
   "execution_count": 70,
   "metadata": {
    "collapsed": true,
    "tags": [
     "hide"
    ]
   },
   "outputs": [],
   "source": [
    "import sqlite3 as lite\n",
    "import sys\n",
    "\n",
    "con = lite.connect('tops.db')\n",
    "\n",
    "with con:\n",
    "    \n",
    "    cur = con.cursor()    \n",
    "    cur.execute(\"CREATE TABLE strat(formation TEXT, depth DECIMAL, age INT)\")\n",
    "    \n",
    "    for name, depth in tops.items():\n",
    "        cur.execute(\"INSERT INTO strat VALUES('{}',{},{})\".format(name, depth, 0))\n"
   ]
  },
  {
   "cell_type": "code",
   "execution_count": 71,
   "metadata": {
    "tags": [
     "hide"
    ]
   },
   "outputs": [
    {
     "name": "stdout",
     "output_type": "stream",
     "text": [
      "('Wyandot Fm', 867.156, 0)\n",
      "('Dawson Canyon Fm', 984.50402, 0)\n",
      "('Logan Canyon Fm', 1136.904, 0)\n",
      "('Upper Missisauga Fm', 2251.2529, 0)\n",
      "('Lower Missisauga Fm', 3190.6464, 0)\n",
      "('Abenaki Fm', 3404.3112, 0)\n",
      "('Mid Baccaro', 3485.0832, 0)\n",
      "('Lower Baccaro', 3964.5337, 0)\n",
      "('Base O-Marker', 2469.207, 0)\n",
      "('Td', 4268, 0)\n",
      "('Pay_Sand_1-Rft', 2478, 0)\n",
      "('Pay_Sand_2', 2499, 0)\n",
      "('Pay_Sand_3', 2543, 0)\n",
      "('Pay_Sand_4', 2637, 0)\n",
      "('Sand_5', 2699, 0)\n",
      "('Sand_6', 2795, 0)\n",
      "('Sand_7', 2835, 0)\n"
     ]
    }
   ],
   "source": [
    "con = lite.connect('tops.db')\n",
    "\n",
    "with con:    \n",
    "    \n",
    "    cur = con.cursor()    \n",
    "    cur.execute(\"SELECT * FROM strat\")\n",
    "\n",
    "    rows = cur.fetchall()\n",
    "\n",
    "    for row in rows:\n",
    "        print(row)"
   ]
  },
  {
   "cell_type": "code",
   "execution_count": null,
   "metadata": {
    "collapsed": true
   },
   "outputs": [],
   "source": []
  }
 ],
 "metadata": {
  "celltoolbar": "Tags",
  "kernelspec": {
   "display_name": "geocomp",
   "language": "python",
   "name": "geocomp"
  },
  "language_info": {
   "codemirror_mode": {
    "name": "ipython",
    "version": 3
   },
   "file_extension": ".py",
   "mimetype": "text/x-python",
   "name": "python",
   "nbconvert_exporter": "python",
   "pygments_lexer": "ipython3",
   "version": "3.9.7"
  }
 },
 "nbformat": 4,
 "nbformat_minor": 1
}
