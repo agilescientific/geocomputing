{
 "cells": [
  {
   "cell_type": "markdown",
   "metadata": {},
   "source": [
    "# Volumetrics: HCIP calculation\n",
    "\n",
    "We'll implement the volumetric equation:\n",
    "\n",
    "$$ V = A \\times T \\times G \\times \\phi \\times N\\!\\!:\\!\\!G \\times S_\\mathrm{O} \\times \\frac{1}{B_\\mathrm{O}} $$\n",
    "\n",
    "## Gross rock volume \n",
    "\n",
    "$$ \\mathrm{GRV} = A \\times T $$"
   ]
  },
  {
   "cell_type": "code",
   "execution_count": null,
   "metadata": {},
   "outputs": [],
   "source": []
  },
  {
   "cell_type": "code",
   "execution_count": 1,
   "metadata": {
    "tags": [
     "hide"
    ]
   },
   "outputs": [
    {
     "data": {
      "text/plain": [
       "48000000000"
      ]
     },
     "execution_count": 1,
     "metadata": {},
     "output_type": "execute_result"
    }
   ],
   "source": [
    "thick = 80            # metres\n",
    "area = 20000 * 30000  # metres\n",
    "\n",
    "grv = thick * area\n",
    "grv"
   ]
  },
  {
   "cell_type": "markdown",
   "metadata": {},
   "source": [
    "Wouldn't it be cool if we could carry units around with our calculations? With [`pint`](https://pint.readthedocs.io/en/latest/index.html), we can!"
   ]
  },
  {
   "cell_type": "code",
   "execution_count": null,
   "metadata": {},
   "outputs": [],
   "source": []
  },
  {
   "cell_type": "code",
   "execution_count": 5,
   "metadata": {
    "tags": [
     "hide"
    ]
   },
   "outputs": [
    {
     "data": {
      "text/html": [
       "48000000000 meter<sup>3</sup>"
      ],
      "text/latex": [
       "$48000000000\\ \\mathrm{meter}^{3}$"
      ],
      "text/plain": [
       "48000000000 <Unit('meter ** 3')>"
      ]
     },
     "execution_count": 5,
     "metadata": {},
     "output_type": "execute_result"
    }
   ],
   "source": [
    "import pint\n",
    "\n",
    "unit = pint.UnitRegistry()\n",
    "\n",
    "thick = 80 * unit.m\n",
    "area = 20000 * unit.m * 30000 * unit.m\n",
    "grv = thick * area\n",
    "grv"
   ]
  },
  {
   "cell_type": "markdown",
   "metadata": {
    "tags": [
     "exercise"
    ]
   },
   "source": [
    "Make a <bold>function</bold> that computes the GRV."
   ]
  },
  {
   "cell_type": "code",
   "execution_count": null,
   "metadata": {},
   "outputs": [],
   "source": []
  },
  {
   "cell_type": "code",
   "execution_count": 6,
   "metadata": {
    "tags": [
     "hide"
    ]
   },
   "outputs": [],
   "source": [
    "def calculate_grv(thickness, area):\n",
    "    return thickness * area"
   ]
  },
  {
   "cell_type": "markdown",
   "metadata": {},
   "source": [
    "Now we can just call this function, instead of remembering the equation. (Admittedly, the equation is rather easy to remember in this case!)"
   ]
  },
  {
   "cell_type": "code",
   "execution_count": 7,
   "metadata": {},
   "outputs": [
    {
     "data": {
      "text/html": [
       "48000000000 meter<sup>3</sup>"
      ],
      "text/latex": [
       "$48000000000\\ \\mathrm{meter}^{3}$"
      ],
      "text/plain": [
       "48000000000 <Unit('meter ** 3')>"
      ]
     },
     "execution_count": 7,
     "metadata": {},
     "output_type": "execute_result"
    }
   ],
   "source": [
    "calculate_grv(thick, area)"
   ]
  },
  {
   "cell_type": "markdown",
   "metadata": {},
   "source": [
    "It works!\n",
    "\n",
    "Now we need to compensate for the prospect not being a flat slab of rock &mdash; using the geometric factor. \n",
    "\n",
    "We will implement the equations implied by this diagram:"
   ]
  },
  {
   "cell_type": "markdown",
   "metadata": {},
   "source": [
    "<html>\n",
    "    <img src=\"http://subsurfwiki.org/images/6/66/Geometric_correction_factor.png\", width=600>\n",
    "</html>"
   ]
  },
  {
   "cell_type": "code",
   "execution_count": 8,
   "metadata": {},
   "outputs": [
    {
     "name": "stdout",
     "output_type": "stream",
     "text": [
      "What shape is the prospect? \n"
     ]
    }
   ],
   "source": [
    "top = input(\"What shape is the prospect? \")"
   ]
  },
  {
   "cell_type": "code",
   "execution_count": 9,
   "metadata": {},
   "outputs": [
    {
     "ename": "NameError",
     "evalue": "name 'g' is not defined",
     "output_type": "error",
     "traceback": [
      "\u001b[0;31m---------------------------------------------------------------------------\u001b[0m",
      "\u001b[0;31mNameError\u001b[0m                                 Traceback (most recent call last)",
      "\u001b[0;32m<ipython-input-9-3590d8b77783>\u001b[0m in \u001b[0;36m<module>\u001b[0;34m\u001b[0m\n\u001b[1;32m     11\u001b[0m     \u001b[0mg\u001b[0m \u001b[0;34m=\u001b[0m \u001b[0;36m1\u001b[0m\u001b[0;34m\u001b[0m\u001b[0;34m\u001b[0m\u001b[0m\n\u001b[1;32m     12\u001b[0m \u001b[0;34m\u001b[0m\u001b[0m\n\u001b[0;32m---> 13\u001b[0;31m \u001b[0mg\u001b[0m\u001b[0;34m\u001b[0m\u001b[0;34m\u001b[0m\u001b[0m\n\u001b[0m",
      "\u001b[0;31mNameError\u001b[0m: name 'g' is not defined"
     ]
    }
   ],
   "source": [
    "height = 100 * unit.m\n",
    "ratio = thick / height\n",
    "\n",
    "if top == 'round':\n",
    "    g = -0.6 * ratio + 1\n",
    "\n",
    "if top == 'flat':\n",
    "    g = -0.3 * ratio + 1\n",
    "\n",
    "if top == 'slab':\n",
    "    g = 1\n",
    "\n",
    "g"
   ]
  },
  {
   "cell_type": "markdown",
   "metadata": {
    "tags": [
     "exercise"
    ]
   },
   "source": [
    "### Exercise\n",
    "\n",
    "Turn this one into a function."
   ]
  },
  {
   "cell_type": "code",
   "execution_count": 10,
   "metadata": {},
   "outputs": [],
   "source": [
    "def geometric_factor(thick, height, top='slab'):\n",
    "\n",
    "    # Your code here\n",
    "    \n",
    "    return g"
   ]
  },
  {
   "cell_type": "code",
   "execution_count": 11,
   "metadata": {
    "tags": [
     "hide"
    ]
   },
   "outputs": [],
   "source": [
    "def geometric_factor(thick, height, top='slab'):\n",
    "\n",
    "    ratio = thick / height\n",
    "\n",
    "    if top == 'round':\n",
    "        g = -0.6 * ratio + 1\n",
    "    elif top == 'flat':\n",
    "        g = -0.3 * ratio + 1\n",
    "    else:\n",
    "        g = 1\n",
    "\n",
    "    return g"
   ]
  },
  {
   "cell_type": "code",
   "execution_count": 12,
   "metadata": {},
   "outputs": [
    {
     "data": {
      "text/html": [
       "0.52 dimensionless"
      ],
      "text/latex": [
       "$0.52\\ dimensionless$"
      ],
      "text/plain": [
       "0.52 <Unit('dimensionless')>"
      ]
     },
     "execution_count": 12,
     "metadata": {},
     "output_type": "execute_result"
    }
   ],
   "source": [
    "geometric_factor(thick, height=100*unit.m, top='round')"
   ]
  },
  {
   "cell_type": "code",
   "execution_count": 13,
   "metadata": {},
   "outputs": [
    {
     "ename": "NameError",
     "evalue": "name 'g' is not defined",
     "output_type": "error",
     "traceback": [
      "\u001b[0;31m---------------------------------------------------------------------------\u001b[0m",
      "\u001b[0;31mNameError\u001b[0m                                 Traceback (most recent call last)",
      "\u001b[0;32m<ipython-input-13-fa8ebb93c4f2>\u001b[0m in \u001b[0;36m<module>\u001b[0;34m\u001b[0m\n\u001b[0;32m----> 1\u001b[0;31m \u001b[0mgrv\u001b[0m \u001b[0;34m*=\u001b[0m \u001b[0mg\u001b[0m\u001b[0;34m\u001b[0m\u001b[0;34m\u001b[0m\u001b[0m\n\u001b[0m",
      "\u001b[0;31mNameError\u001b[0m: name 'g' is not defined"
     ]
    }
   ],
   "source": [
    "grv *= g"
   ]
  },
  {
   "cell_type": "markdown",
   "metadata": {},
   "source": [
    "What if we have multiple prospects?"
   ]
  },
  {
   "cell_type": "code",
   "execution_count": 14,
   "metadata": {},
   "outputs": [],
   "source": [
    "import numpy as np\n",
    "\n",
    "thicknesses = np.array([10, 25, 15, 5, 100]) * unit.m\n",
    "heights = np.array([75, 100, 20, 100, 200]) * unit.m"
   ]
  },
  {
   "cell_type": "code",
   "execution_count": 15,
   "metadata": {},
   "outputs": [
    {
     "data": {
      "text/html": [
       "<table><tbody><tr><th>Magnitude</th><td style='text-align:left;'><pre>[0.92 0.85 0.55 0.97 0.7]</pre></td></tr><tr><th>Units</th><td style='text-align:left;'>dimensionless</td></tr></tbody></table>"
      ],
      "text/latex": [
       "$\\begin{pmatrix}0.92 & 0.85 & 0.55 & 0.97 & 0.7\\end{pmatrix}\\ dimensionless$"
      ],
      "text/plain": [
       "array([0.92, 0.85, 0.55, 0.97, 0.7 ]) <Unit('dimensionless')>"
      ]
     },
     "execution_count": 15,
     "metadata": {},
     "output_type": "execute_result"
    }
   ],
   "source": [
    "geometric_factor(thicknesses, heights, top='round')"
   ]
  },
  {
   "cell_type": "markdown",
   "metadata": {},
   "source": [
    "It works!"
   ]
  },
  {
   "cell_type": "markdown",
   "metadata": {},
   "source": [
    "## HC pore volume\n",
    "\n",
    "We need:\n",
    "\n",
    "- net:gross &mdash; the ratio of reservoir-quality rock thickness to the total thickness of the interval.\n",
    "- porosity\n",
    "- $S_\\mathrm{O}$ &mdash; the oil saturation, or proportion of oil to total pore fluid."
   ]
  },
  {
   "cell_type": "code",
   "execution_count": 16,
   "metadata": {},
   "outputs": [
    {
     "data": {
      "text/plain": [
       "0.096"
      ]
     },
     "execution_count": 16,
     "metadata": {},
     "output_type": "execute_result"
    }
   ],
   "source": [
    "netg = 0.5   # fraction\n",
    "por = 0.24   # fraction\n",
    "s_o = 0.8    # fraction\n",
    "\n",
    "hcpv = netg * por * s_o\n",
    "hcpv"
   ]
  },
  {
   "cell_type": "markdown",
   "metadata": {},
   "source": [
    "We'll leave that as a fraction for now."
   ]
  },
  {
   "cell_type": "markdown",
   "metadata": {
    "tags": [
     "exercise"
    ]
   },
   "source": [
    "### EXERCISE\n",
    "\n",
    "- Turn this into a function by rearranging the following lines of code:"
   ]
  },
  {
   "cell_type": "code",
   "execution_count": 17,
   "metadata": {},
   "outputs": [
    {
     "ename": "SyntaxError",
     "evalue": "unexpected EOF while parsing (<ipython-input-17-0e1bae06c81a>, line 4)",
     "output_type": "error",
     "traceback": [
      "\u001b[0;36m  File \u001b[0;32m\"<ipython-input-17-0e1bae06c81a>\"\u001b[0;36m, line \u001b[0;32m4\u001b[0m\n\u001b[0;31m    def calculate_hcpv(netg, por, s_o):\u001b[0m\n\u001b[0m                                       ^\u001b[0m\n\u001b[0;31mSyntaxError\u001b[0m\u001b[0;31m:\u001b[0m unexpected EOF while parsing\n"
     ]
    }
   ],
   "source": [
    "\"\"\"A function to compute the hydrocarbon pore volume.\"\"\"\n",
    "return hcpv\n",
    "hcpv = netg * por * s_o\n",
    "def calculate_hcpv(netg, por, s_o):"
   ]
  },
  {
   "cell_type": "code",
   "execution_count": 18,
   "metadata": {},
   "outputs": [],
   "source": [
    "# Put your code here:\n",
    "\n"
   ]
  },
  {
   "cell_type": "code",
   "execution_count": 19,
   "metadata": {
    "tags": [
     "hide"
    ]
   },
   "outputs": [],
   "source": [
    "def calculate_hcpv(netg, por, s_o):\n",
    "    \"\"\"A function to compute the hydrocarbon pore volume.\"\"\"\n",
    "    hcpv = netg * por * s_o\n",
    "    return hcpv"
   ]
  },
  {
   "cell_type": "markdown",
   "metadata": {},
   "source": [
    "## Formation volume factor\n",
    "\n",
    "Oil shrinks when we produce it, especially if it has high GOR. The FVF, or $B_O$, is the ratio of a reservoir barrel to a stock-tank barrel (25 deg C and 1 atm). Typically the FVF is between 1 (heavy oil) and 1.7 (high GOR)."
   ]
  },
  {
   "cell_type": "code",
   "execution_count": 20,
   "metadata": {},
   "outputs": [],
   "source": [
    "fvf = 1.1"
   ]
  },
  {
   "cell_type": "markdown",
   "metadata": {
    "tags": [
     "exercise"
    ]
   },
   "source": [
    "### EXERCISE\n",
    "\n",
    "For gas, $B_\\mathrm{G}$ is $0.35 Z T / P$, where $Z$ is the correction factor, or gas compressibility factor. $T$ should be in kelvin and $P$ in kPa. $Z$ is usually between 0.8 and 1.2, but it can be as low as 0.3 and as high as 2.0.\n",
    "\n",
    "Can you write a function to calculate $B_\\mathrm{G}$?"
   ]
  },
  {
   "cell_type": "code",
   "execution_count": 21,
   "metadata": {},
   "outputs": [],
   "source": [
    "def calculate_Bg(     ):  # Add the arguments.\n",
    "    \"\"\"Write a docstring.\"\"\"\n",
    "    \n",
    "    \n",
    "    return         # Don't forget to return something!"
   ]
  },
  {
   "cell_type": "code",
   "execution_count": 22,
   "metadata": {
    "tags": [
     "hide"
    ]
   },
   "outputs": [],
   "source": [
    "def calculate_Bg(Z=1, T=273.15, P=101.325):\n",
    "    \"\"\"\n",
    "    Compute B_G from correction factor Z, temperature T (K),\n",
    "    and pressure P (kPa).\n",
    "    \"\"\"\n",
    "    Bg = 0.35 * Z * T / P\n",
    "    return Bg"
   ]
  },
  {
   "cell_type": "code",
   "execution_count": 23,
   "metadata": {},
   "outputs": [
    {
     "data": {
      "text/html": [
       "0.10255 kelvin/kilopascal"
      ],
      "text/latex": [
       "$0.10255\\ \\frac{\\mathrm{kelvin}}{\\mathrm{kilopascal}}$"
      ],
      "text/plain": [
       "0.10255 <Unit('kelvin / kilopascal')>"
      ]
     },
     "execution_count": 23,
     "metadata": {},
     "output_type": "execute_result"
    }
   ],
   "source": [
    "calculate_Bg(T=293*unit.K, P=1000*unit.kPa)"
   ]
  },
  {
   "cell_type": "markdown",
   "metadata": {},
   "source": [
    "## Put it all together\n",
    "\n",
    "Now we have the components of the volumetric equation:"
   ]
  },
  {
   "cell_type": "code",
   "execution_count": 24,
   "metadata": {},
   "outputs": [
    {
     "data": {
      "text/html": [
       "4189090909.0909085 meter<sup>3</sup>"
      ],
      "text/latex": [
       "$4189090909.0909085\\ \\mathrm{meter}^{3}$"
      ],
      "text/plain": [
       "4189090909.0909085 <Unit('meter ** 3')>"
      ]
     },
     "execution_count": 24,
     "metadata": {},
     "output_type": "execute_result"
    }
   ],
   "source": [
    "hcip = grv * hcpv / fvf\n",
    "hcip"
   ]
  },
  {
   "cell_type": "markdown",
   "metadata": {},
   "source": [
    "Pint can convert to other units, e.g. Imperial barrels, for us."
   ]
  },
  {
   "cell_type": "code",
   "execution_count": 25,
   "metadata": {},
   "outputs": [
    {
     "data": {
      "text/html": [
       "25596421620.257477 imperial_barrel"
      ],
      "text/latex": [
       "$25596421620.257477\\ \\mathrm{imperial\\_barrel}$"
      ],
      "text/plain": [
       "25596421620.257477 <Unit('imperial_barrel')>"
      ]
     },
     "execution_count": 25,
     "metadata": {},
     "output_type": "execute_result"
    }
   ],
   "source": [
    "hcip.to('imperial_barrel')"
   ]
  },
  {
   "cell_type": "markdown",
   "metadata": {},
   "source": [
    "An Imperial barrel is 43 gallons ([Wikipedia](https://en.wikipedia.org/wiki/Barrel_(unit)), whereas an oil barrel is only 42 gallons. [For more on conversion to bbl, BOE, etc.](https://en.wikipedia.org/wiki/Barrel_of_oil_equivalent).\n",
    "\n",
    "So let's define a custom unit:"
   ]
  },
  {
   "cell_type": "code",
   "execution_count": 26,
   "metadata": {},
   "outputs": [],
   "source": [
    "unit.define('oil_barrel = 42 gallon = bbl')"
   ]
  },
  {
   "cell_type": "code",
   "execution_count": 27,
   "metadata": {},
   "outputs": [
    {
     "data": {
      "text/html": [
       "26348589118.31922 oil_barrel"
      ],
      "text/latex": [
       "$26348589118.31922\\ \\mathrm{oil\\_barrel}$"
      ],
      "text/plain": [
       "26348589118.31922 <Unit('oil_barrel')>"
      ]
     },
     "execution_count": 27,
     "metadata": {},
     "output_type": "execute_result"
    }
   ],
   "source": [
    "hcip.to('bbl')"
   ]
  },
  {
   "cell_type": "markdown",
   "metadata": {
    "tags": [
     "exercise"
    ]
   },
   "source": [
    "### EXERCISE\n",
    "\n",
    "Can you write a function to compute the volume (i.e. the HCIP), given all the inputs?\n",
    "\n",
    "Try to use the functions you have already written."
   ]
  },
  {
   "cell_type": "code",
   "execution_count": 28,
   "metadata": {},
   "outputs": [],
   "source": [
    "# Put your code here.\n",
    "\n",
    "\n",
    "    "
   ]
  },
  {
   "cell_type": "code",
   "execution_count": 29,
   "metadata": {
    "tags": [
     "hide"
    ]
   },
   "outputs": [],
   "source": [
    "# Solution.\n",
    "def calculate_hcip(thickness, area, height, top, netg, por, s_o, fvf):\n",
    "    grv = calculate_grv(thickness, area)\n",
    "    g = geometric_factor(thickness, height, top)\n",
    "    grv *= g\n",
    "    hcpv = calculate_hcpv(netg, por, s_o)\n",
    "    return grv * hcpv / fvf"
   ]
  },
  {
   "cell_type": "code",
   "execution_count": 30,
   "metadata": {},
   "outputs": [
    {
     "data": {
      "text/html": [
       "4189090909.0909085 meter<sup>3</sup>"
      ],
      "text/latex": [
       "$4189090909.0909085\\ \\mathrm{meter}^{3}$"
      ],
      "text/plain": [
       "4189090909.0909085 <Unit('meter ** 3')>"
      ]
     },
     "execution_count": 30,
     "metadata": {},
     "output_type": "execute_result"
    }
   ],
   "source": [
    "calculate_hcip(thick, area, height, top, netg, por, s_o, fvf)"
   ]
  },
  {
   "cell_type": "markdown",
   "metadata": {},
   "source": [
    "## Monte Carlo simulation\n",
    "\n",
    "We can easily draw randomly from distributions of properties:\n",
    "\n",
    "- Normal: https://docs.scipy.org/doc/numpy/reference/generated/numpy.random.normal.html\n",
    "- Uniform: https://docs.scipy.org/doc/numpy/reference/generated/numpy.random.uniform.html\n",
    "- Lognormal: https://docs.scipy.org/doc/numpy/reference/generated/numpy.random.lognormal.html"
   ]
  },
  {
   "cell_type": "code",
   "execution_count": 31,
   "metadata": {},
   "outputs": [],
   "source": [
    "import numpy as np\n",
    "\n",
    "netg = np.random.normal(loc=0.5, scale=0.1, size=100)\n",
    "por = np.random.normal(loc=0.15, scale=0.025, size=100)"
   ]
  },
  {
   "cell_type": "code",
   "execution_count": 32,
   "metadata": {},
   "outputs": [
    {
     "data": {
      "image/png": "[encoded data removed]",
      "text/plain": [
       "<Figure size 432x288 with 1 Axes>"
      ]
     },
     "metadata": {
      "needs_background": "light"
     },
     "output_type": "display_data"
    }
   ],
   "source": [
    "import matplotlib.pyplot as plt\n",
    "\n",
    "_ = plt.hist(por)"
   ]
  },
  {
   "cell_type": "code",
   "execution_count": 33,
   "metadata": {},
   "outputs": [
    {
     "name": "stderr",
     "output_type": "stream",
     "text": [
      "/Users/matt/opt/miniconda3/envs/geocomp/lib/python3.8/site-packages/seaborn/distributions.py:2557: FutureWarning: `distplot` is a deprecated function and will be removed in a future version. Please adapt your code to use either `displot` (a figure-level function with similar flexibility) or `histplot` (an axes-level function for histograms).\n",
      "  warnings.warn(msg, FutureWarning)\n",
      "/Users/matt/opt/miniconda3/envs/geocomp/lib/python3.8/site-packages/seaborn/distributions.py:2056: FutureWarning: The `axis` variable is no longer used and will be removed. Instead, assign variables directly to `x` or `y`.\n",
      "  warnings.warn(msg, FutureWarning)\n"
     ]
    },
    {
     "data": {
      "text/plain": [
       "<AxesSubplot:ylabel='Density'>"
      ]
     },
     "execution_count": 33,
     "metadata": {},
     "output_type": "execute_result"
    },
    {
     "data": {
      "image/png": "[encoded data removed]",
      "text/plain": [
       "<Figure size 432x288 with 1 Axes>"
      ]
     },
     "metadata": {
      "needs_background": "light"
     },
     "output_type": "display_data"
    }
   ],
   "source": [
    "import seaborn as sns\n",
    "\n",
    "sns.distplot(por, rug=True)"
   ]
  },
  {
   "cell_type": "code",
   "execution_count": 34,
   "metadata": {},
   "outputs": [
    {
     "data": {
      "text/plain": [
       "array([0.04427712, 0.06236849, 0.04296027, 0.03368466, 0.07071386,\n",
       "       0.0498602 , 0.05846551, 0.04320051, 0.06822684, 0.06379743,\n",
       "       0.05835895, 0.08465344, 0.04534658, 0.05767118, 0.056044  ,\n",
       "       0.04712785, 0.0574098 , 0.06565881, 0.07556812, 0.06441453,\n",
       "       0.07853891, 0.05490625, 0.02547876, 0.06283608, 0.05761926,\n",
       "       0.05352282, 0.06288085, 0.06073618, 0.04597958, 0.04611274,\n",
       "       0.04818464, 0.04942944, 0.03978203, 0.07355209, 0.04204813,\n",
       "       0.05286646, 0.05574991, 0.05448392, 0.05387353, 0.05848949,\n",
       "       0.05698897, 0.05863015, 0.06458509, 0.04572697, 0.04600483,\n",
       "       0.08663773, 0.07689846, 0.03694795, 0.06053895, 0.09323866,\n",
       "       0.08867808, 0.05187191, 0.06056986, 0.06170616, 0.04663036,\n",
       "       0.05355935, 0.02285901, 0.05778476, 0.0567655 , 0.06723879,\n",
       "       0.051292  , 0.05291846, 0.06656947, 0.07071494, 0.04406005,\n",
       "       0.04647503, 0.08707861, 0.05381401, 0.04693957, 0.03176119,\n",
       "       0.06348392, 0.04982301, 0.05629426, 0.06869865, 0.05670591,\n",
       "       0.10237802, 0.0251372 , 0.04977815, 0.04494768, 0.07155387,\n",
       "       0.05552194, 0.07924612, 0.04698891, 0.06841312, 0.02974454,\n",
       "       0.03781177, 0.0591837 , 0.06273569, 0.04983221, 0.05394806,\n",
       "       0.06705535, 0.03452893, 0.05371853, 0.05095794, 0.04916225,\n",
       "       0.06514448, 0.03831154, 0.08983546, 0.0702979 , 0.07458411])"
      ]
     },
     "execution_count": 34,
     "metadata": {},
     "output_type": "execute_result"
    }
   ],
   "source": [
    "hcpv = calculate_hcpv(netg, por, s_o)\n",
    "hcpv"
   ]
  },
  {
   "cell_type": "code",
   "execution_count": 35,
   "metadata": {},
   "outputs": [
    {
     "data": {
      "image/png": "[encoded data removed]",
      "text/plain": [
       "<Figure size 432x288 with 1 Axes>"
      ]
     },
     "metadata": {
      "needs_background": "light"
     },
     "output_type": "display_data"
    }
   ],
   "source": [
    "_ = plt.hist(hcpv, bins=20)"
   ]
  },
  {
   "cell_type": "code",
   "execution_count": 36,
   "metadata": {},
   "outputs": [
    {
     "data": {
      "text/plain": [
       "0.056981872920069704"
      ]
     },
     "execution_count": 36,
     "metadata": {},
     "output_type": "execute_result"
    }
   ],
   "source": [
    "hcpv.mean()"
   ]
  },
  {
   "cell_type": "markdown",
   "metadata": {},
   "source": [
    "The histogram looks a bit ragged, but this is probably because of the relatively small number of samples."
   ]
  },
  {
   "cell_type": "markdown",
   "metadata": {
    "tags": [
     "exercise"
    ]
   },
   "source": [
    "### EXERCISE\n",
    "\n",
    "1. Compute HCIP with these distributions. Make a histogram of the result in millions of barrels.\n",
    "1. How does the histogram look if you take 1000 samples instead of 100?\n",
    "1. Make distributions for some of the other properties, like thickness and FVF.\n",
    "1. Maybe our functions should check that we don't get unreasonable values, like negative numbers, or decimal fractions over 1.0 Try to implement this if you have time."
   ]
  },
  {
   "cell_type": "code",
   "execution_count": null,
   "metadata": {},
   "outputs": [],
   "source": []
  },
  {
   "cell_type": "code",
   "execution_count": null,
   "metadata": {},
   "outputs": [],
   "source": []
  },
  {
   "cell_type": "code",
   "execution_count": null,
   "metadata": {},
   "outputs": [],
   "source": []
  },
  {
   "cell_type": "code",
   "execution_count": 37,
   "metadata": {
    "tags": [
     "hide"
    ]
   },
   "outputs": [],
   "source": [
    "hcip = calculate_hcip(thick, area, height, top, netg, por, s_o, fvf)"
   ]
  },
  {
   "cell_type": "code",
   "execution_count": 38,
   "metadata": {
    "tags": [
     "hide"
    ]
   },
   "outputs": [
    {
     "name": "stderr",
     "output_type": "stream",
     "text": [
      "/Users/matt/opt/miniconda3/envs/geocomp/lib/python3.8/site-packages/numpy/core/_asarray.py:136: UnitStrippedWarning: The unit of the quantity is stripped when downcasting to ndarray.\n",
      "  return array(a, dtype, copy=False, order=order, subok=True)\n"
     ]
    },
    {
     "data": {
      "image/png": "[encoded data removed]",
      "text/plain": [
       "<Figure size 432x288 with 1 Axes>"
      ]
     },
     "metadata": {
      "needs_background": "light"
     },
     "output_type": "display_data"
    }
   ],
   "source": [
    "_ = plt.hist(hcip.to('Mbbl'), bins=20)"
   ]
  },
  {
   "cell_type": "markdown",
   "metadata": {},
   "source": [
    "## Using scipy's distributions\n",
    "\n",
    "`scipy` has some distribution functions too. While they're a bit more complicated to use than NumPy's, they are more rigorous. For example, they allow us to fit to data.\n",
    "\n",
    "Following [this post](https://mikulskibartosz.name/monte-carlo-simulation-in-python-d63f0cfcdf6f)"
   ]
  },
  {
   "cell_type": "code",
   "execution_count": 39,
   "metadata": {},
   "outputs": [
    {
     "data": {
      "image/png": "[encoded data removed]",
      "text/plain": [
       "<Figure size 432x288 with 1 Axes>"
      ]
     },
     "metadata": {
      "needs_background": "light"
     },
     "output_type": "display_data"
    }
   ],
   "source": [
    "from scipy.stats import norm\n",
    "\n",
    "mean = 3\n",
    "standard_deviation = 2\n",
    "normal_distribution = norm(loc=mean, scale=standard_deviation)\n",
    "\n",
    "x = np.linspace(-6, 12, 200)\n",
    "\n",
    "_, ax = plt.subplots()\n",
    "ax.plot(x, normal_distribution.pdf(x), '-', lw=2)\n",
    "plt.title(f'Normal distribution with mean {mean} and standard deviation {standard_deviation}')\n",
    "plt.show()"
   ]
  },
  {
   "cell_type": "code",
   "execution_count": 40,
   "metadata": {},
   "outputs": [
    {
     "data": {
      "text/plain": [
       "array([4.50805501, 3.01315193, 4.13518025, 6.10940668, 6.84845465,\n",
       "       2.39623557, 4.96650899, 2.89946507, 4.5788796 , 1.45013307,\n",
       "       3.72833087, 4.7780498 , 3.79506797, 6.50994847, 3.12346494,\n",
       "       4.16538371, 4.33881399, 6.599377  , 4.75429717, 1.13254782])"
      ]
     },
     "execution_count": 40,
     "metadata": {},
     "output_type": "execute_result"
    }
   ],
   "source": [
    "number_of_simulations = 20\n",
    "\n",
    "normal_distribution.rvs(number_of_simulations)"
   ]
  },
  {
   "cell_type": "markdown",
   "metadata": {},
   "source": [
    "Let's fit a log-normal distribution to some porosity data."
   ]
  },
  {
   "cell_type": "code",
   "execution_count": 41,
   "metadata": {},
   "outputs": [],
   "source": [
    "import pandas as pd\n",
    "\n",
    "uid = \"1QcSw_xRAYgJzD9HsIXNjmS7o4Zb6qkRBgIWhmp4f2mI\"\n",
    "url = f\"https://docs.google.com/spreadsheets/d/{uid}/export?format=csv\"\n",
    "df = pd.read_csv(url)"
   ]
  },
  {
   "cell_type": "code",
   "execution_count": 42,
   "metadata": {},
   "outputs": [
    {
     "data": {
      "text/html": [
       "<div>\n",
       "<style scoped>\n",
       "    .dataframe tbody tr th:only-of-type {\n",
       "        vertical-align: middle;\n",
       "    }\n",
       "\n",
       "    .dataframe tbody tr th {\n",
       "        vertical-align: top;\n",
       "    }\n",
       "\n",
       "    .dataframe thead th {\n",
       "        text-align: right;\n",
       "    }\n",
       "</style>\n",
       "<table border=\"1\" class=\"dataframe\">\n",
       "  <thead>\n",
       "    <tr style=\"text-align: right;\">\n",
       "      <th></th>\n",
       "      <th>Gross environment</th>\n",
       "      <th>Environment</th>\n",
       "      <th>Porosity</th>\n",
       "      <th>Permeability</th>\n",
       "    </tr>\n",
       "  </thead>\n",
       "  <tbody>\n",
       "    <tr>\n",
       "      <th>0</th>\n",
       "      <td>Fluvial</td>\n",
       "      <td>Mid-braided stream</td>\n",
       "      <td>21.0</td>\n",
       "      <td>3162.3</td>\n",
       "    </tr>\n",
       "    <tr>\n",
       "      <th>1</th>\n",
       "      <td>Fluvial</td>\n",
       "      <td>Mid-braided stream</td>\n",
       "      <td>21.3</td>\n",
       "      <td>1905.5</td>\n",
       "    </tr>\n",
       "    <tr>\n",
       "      <th>2</th>\n",
       "      <td>Fluvial</td>\n",
       "      <td>Mid-braided stream</td>\n",
       "      <td>22.5</td>\n",
       "      <td>2238.7</td>\n",
       "    </tr>\n",
       "    <tr>\n",
       "      <th>3</th>\n",
       "      <td>Fluvial</td>\n",
       "      <td>Mid-braided stream</td>\n",
       "      <td>23.7</td>\n",
       "      <td>2290.9</td>\n",
       "    </tr>\n",
       "    <tr>\n",
       "      <th>4</th>\n",
       "      <td>Fluvial</td>\n",
       "      <td>Mid-braided stream</td>\n",
       "      <td>25.8</td>\n",
       "      <td>2511.9</td>\n",
       "    </tr>\n",
       "  </tbody>\n",
       "</table>\n",
       "</div>"
      ],
      "text/plain": [
       "  Gross environment         Environment  Porosity  Permeability\n",
       "0           Fluvial  Mid-braided stream      21.0        3162.3\n",
       "1           Fluvial  Mid-braided stream      21.3        1905.5\n",
       "2           Fluvial  Mid-braided stream      22.5        2238.7\n",
       "3           Fluvial  Mid-braided stream      23.7        2290.9\n",
       "4           Fluvial  Mid-braided stream      25.8        2511.9"
      ]
     },
     "execution_count": 42,
     "metadata": {},
     "output_type": "execute_result"
    }
   ],
   "source": [
    "df.head()"
   ]
  },
  {
   "cell_type": "code",
   "execution_count": 43,
   "metadata": {},
   "outputs": [
    {
     "data": {
      "text/plain": [
       "<matplotlib.legend.Legend at 0x7fedd83a84c0>"
      ]
     },
     "execution_count": 43,
     "metadata": {},
     "output_type": "execute_result"
    },
    {
     "data": {
      "image/png": "[encoded data removed]",
      "text/plain": [
       "<Figure size 432x288 with 1 Axes>"
      ]
     },
     "metadata": {
      "needs_background": "light"
     },
     "output_type": "display_data"
    }
   ],
   "source": [
    "for name, group in df.groupby('Gross environment'):\n",
    "    plt.scatter(group.Porosity, np.log10(group.Permeability), label=name)\n",
    "plt.legend()"
   ]
  },
  {
   "cell_type": "code",
   "execution_count": 44,
   "metadata": {},
   "outputs": [],
   "source": [
    "from scipy.stats import lognorm\n",
    "\n",
    "deltaic = df.loc[df['Gross environment']=='Deltaic']\n",
    "s, loc, scale = lognorm.fit(deltaic.Porosity)"
   ]
  },
  {
   "cell_type": "code",
   "execution_count": 45,
   "metadata": {},
   "outputs": [
    {
     "data": {
      "text/plain": [
       "(0.008464095558651206, -403.2850971886679, 426.8679901174987)"
      ]
     },
     "execution_count": 45,
     "metadata": {},
     "output_type": "execute_result"
    }
   ],
   "source": [
    "s, loc, scale"
   ]
  },
  {
   "cell_type": "code",
   "execution_count": 46,
   "metadata": {},
   "outputs": [
    {
     "data": {
      "image/png": "[encoded data removed]",
      "text/plain": [
       "<Figure size 432x288 with 2 Axes>"
      ]
     },
     "metadata": {
      "needs_background": "light"
     },
     "output_type": "display_data"
    }
   ],
   "source": [
    "x = np.linspace(0, 40, 200)\n",
    "\n",
    "_, ax = plt.subplots()\n",
    "plt.hist(df.Porosity, bins=80, range=(0, 80))\n",
    "ax2 = ax.twinx()\n",
    "ax2.plot(x, lognorm.pdf(x, loc=loc, scale=scale, s=s), 'r')\n",
    "plt.show()"
   ]
  },
  {
   "cell_type": "markdown",
   "metadata": {},
   "source": [
    "Now we can use this in our calculation:"
   ]
  },
  {
   "cell_type": "code",
   "execution_count": 47,
   "metadata": {},
   "outputs": [
    {
     "name": "stderr",
     "output_type": "stream",
     "text": [
      "/Users/matt/opt/miniconda3/envs/geocomp/lib/python3.8/site-packages/seaborn/distributions.py:2557: FutureWarning: `distplot` is a deprecated function and will be removed in a future version. Please adapt your code to use either `displot` (a figure-level function with similar flexibility) or `histplot` (an axes-level function for histograms).\n",
      "  warnings.warn(msg, FutureWarning)\n"
     ]
    },
    {
     "data": {
      "image/png": "[encoded data removed]",
      "text/plain": [
       "<Figure size 432x288 with 1 Axes>"
      ]
     },
     "metadata": {
      "needs_background": "light"
     },
     "output_type": "display_data"
    }
   ],
   "source": [
    "hcip = calculate_hcip(thick, area, height, top, netg, por, s_o, fvf).magnitude\n",
    "\n",
    "sns.distplot(hcip)\n",
    "plt.title('100 realizations')\n",
    "plt.xlabel('$\\mathrm{HCIP\\ in\\ billion\\ m^3}$')\n",
    "plt.show()"
   ]
  },
  {
   "cell_type": "code",
   "execution_count": 48,
   "metadata": {},
   "outputs": [
    {
     "name": "stdout",
     "output_type": "stream",
     "text": [
      "P10  is 1.73e+09 Sm³\n",
      "P50  is 2.45e+09 Sm³\n",
      "mean is 2.49e+09 Sm³\n",
      "P90  is 3.30e+09 Sm³\n"
     ]
    }
   ],
   "source": [
    "print(f\"P10  is {np.percentile(hcip, 10):.2e} Sm³\")\n",
    "print(f\"P50  is {np.median(hcip):.2e} Sm³\")\n",
    "print(f\"mean is {np.mean(hcip):.2e} Sm³\")\n",
    "print(f\"P90  is {np.percentile(hcip, 90):.2e} Sm³\")"
   ]
  },
  {
   "cell_type": "markdown",
   "metadata": {},
   "source": [
    "## Compute on a DataFrame\n",
    "\n",
    "Suppose we have a spreadsheet of prospect data:"
   ]
  },
  {
   "cell_type": "code",
   "execution_count": 49,
   "metadata": {},
   "outputs": [
    {
     "data": {
      "text/html": [
       "<div>\n",
       "<style scoped>\n",
       "    .dataframe tbody tr th:only-of-type {\n",
       "        vertical-align: middle;\n",
       "    }\n",
       "\n",
       "    .dataframe tbody tr th {\n",
       "        vertical-align: top;\n",
       "    }\n",
       "\n",
       "    .dataframe thead th {\n",
       "        text-align: right;\n",
       "    }\n",
       "</style>\n",
       "<table border=\"1\" class=\"dataframe\">\n",
       "  <thead>\n",
       "    <tr style=\"text-align: right;\">\n",
       "      <th></th>\n",
       "      <th>Index</th>\n",
       "      <th>Name</th>\n",
       "      <th>Thick [m]</th>\n",
       "      <th>Area [km2]</th>\n",
       "      <th>GeomFactor</th>\n",
       "      <th>N:G</th>\n",
       "      <th>phi</th>\n",
       "      <th>So</th>\n",
       "      <th>Bo</th>\n",
       "    </tr>\n",
       "  </thead>\n",
       "  <tbody>\n",
       "    <tr>\n",
       "      <th>0</th>\n",
       "      <td>0</td>\n",
       "      <td>Prospect_1</td>\n",
       "      <td>173</td>\n",
       "      <td>65.714854</td>\n",
       "      <td>0.73</td>\n",
       "      <td>0.26</td>\n",
       "      <td>0.150557</td>\n",
       "      <td>0.45</td>\n",
       "      <td>1.10</td>\n",
       "    </tr>\n",
       "    <tr>\n",
       "      <th>1</th>\n",
       "      <td>1</td>\n",
       "      <td>Prospect_2</td>\n",
       "      <td>410</td>\n",
       "      <td>40.684869</td>\n",
       "      <td>0.43</td>\n",
       "      <td>0.59</td>\n",
       "      <td>0.163122</td>\n",
       "      <td>0.38</td>\n",
       "      <td>1.23</td>\n",
       "    </tr>\n",
       "    <tr>\n",
       "      <th>2</th>\n",
       "      <td>2</td>\n",
       "      <td>Prospect_3</td>\n",
       "      <td>160</td>\n",
       "      <td>13.883810</td>\n",
       "      <td>0.55</td>\n",
       "      <td>0.16</td>\n",
       "      <td>0.167810</td>\n",
       "      <td>0.59</td>\n",
       "      <td>1.29</td>\n",
       "    </tr>\n",
       "    <tr>\n",
       "      <th>3</th>\n",
       "      <td>3</td>\n",
       "      <td>Prospect_4</td>\n",
       "      <td>11</td>\n",
       "      <td>5.572679</td>\n",
       "      <td>0.67</td>\n",
       "      <td>0.12</td>\n",
       "      <td>0.176766</td>\n",
       "      <td>0.29</td>\n",
       "      <td>1.20</td>\n",
       "    </tr>\n",
       "    <tr>\n",
       "      <th>4</th>\n",
       "      <td>4</td>\n",
       "      <td>Prospect_5</td>\n",
       "      <td>257</td>\n",
       "      <td>49.995814</td>\n",
       "      <td>0.81</td>\n",
       "      <td>0.31</td>\n",
       "      <td>0.179255</td>\n",
       "      <td>0.14</td>\n",
       "      <td>1.28</td>\n",
       "    </tr>\n",
       "  </tbody>\n",
       "</table>\n",
       "</div>"
      ],
      "text/plain": [
       "   Index        Name  Thick [m]  Area [km2]  GeomFactor   N:G       phi    So  \\\n",
       "0      0  Prospect_1        173   65.714854        0.73  0.26  0.150557  0.45   \n",
       "1      1  Prospect_2        410   40.684869        0.43  0.59  0.163122  0.38   \n",
       "2      2  Prospect_3        160   13.883810        0.55  0.16  0.167810  0.59   \n",
       "3      3  Prospect_4         11    5.572679        0.67  0.12  0.176766  0.29   \n",
       "4      4  Prospect_5        257   49.995814        0.81  0.31  0.179255  0.14   \n",
       "\n",
       "     Bo  \n",
       "0  1.10  \n",
       "1  1.23  \n",
       "2  1.29  \n",
       "3  1.20  \n",
       "4  1.28  "
      ]
     },
     "execution_count": 49,
     "metadata": {},
     "output_type": "execute_result"
    }
   ],
   "source": [
    "import pandas as pd\n",
    "\n",
    "uid = \"1P2JxXG_jLZ0vx8BlFvm0hD6sBBZH2zU8tk9T-SI27mE\"\n",
    "url = f\"https://docs.google.com/spreadsheets/d/{uid}/export?format=csv\"\n",
    "\n",
    "df = pd.read_csv(url)\n",
    "df.head()"
   ]
  },
  {
   "cell_type": "markdown",
   "metadata": {},
   "source": [
    "We have to map the row contents to our HCIP function:"
   ]
  },
  {
   "cell_type": "code",
   "execution_count": 50,
   "metadata": {},
   "outputs": [],
   "source": [
    "names = {\n",
    "    'thickness': 'Thick [m]',\n",
    "    'area': 'Area [km2]',\n",
    "    'netg': 'N:G',\n",
    "    'por': 'phi',\n",
    "    's_o': 'So',\n",
    "    'fvf': 'Bo'\n",
    "}\n",
    "\n",
    "def hcip_row(row):\n",
    "    params = {k: row[v] for k, v in names.items()}\n",
    "    params['height'] = 1e6\n",
    "    params['top'] = 'slab'\n",
    "    hcip = calculate_hcip(**params) * row['GeomFactor']\n",
    "    return hcip"
   ]
  },
  {
   "cell_type": "code",
   "execution_count": 51,
   "metadata": {},
   "outputs": [
    {
     "data": {
      "text/html": [
       "<div>\n",
       "<style scoped>\n",
       "    .dataframe tbody tr th:only-of-type {\n",
       "        vertical-align: middle;\n",
       "    }\n",
       "\n",
       "    .dataframe tbody tr th {\n",
       "        vertical-align: top;\n",
       "    }\n",
       "\n",
       "    .dataframe thead th {\n",
       "        text-align: right;\n",
       "    }\n",
       "</style>\n",
       "<table border=\"1\" class=\"dataframe\">\n",
       "  <thead>\n",
       "    <tr style=\"text-align: right;\">\n",
       "      <th></th>\n",
       "      <th>Index</th>\n",
       "      <th>Name</th>\n",
       "      <th>Thick [m]</th>\n",
       "      <th>Area [km2]</th>\n",
       "      <th>GeomFactor</th>\n",
       "      <th>N:G</th>\n",
       "      <th>phi</th>\n",
       "      <th>So</th>\n",
       "      <th>Bo</th>\n",
       "      <th>HCIP</th>\n",
       "    </tr>\n",
       "  </thead>\n",
       "  <tbody>\n",
       "    <tr>\n",
       "      <th>0</th>\n",
       "      <td>0</td>\n",
       "      <td>Prospect_1</td>\n",
       "      <td>173</td>\n",
       "      <td>65.714854</td>\n",
       "      <td>0.73</td>\n",
       "      <td>0.26</td>\n",
       "      <td>0.150557</td>\n",
       "      <td>0.45</td>\n",
       "      <td>1.10</td>\n",
       "      <td>132.900794</td>\n",
       "    </tr>\n",
       "    <tr>\n",
       "      <th>1</th>\n",
       "      <td>1</td>\n",
       "      <td>Prospect_2</td>\n",
       "      <td>410</td>\n",
       "      <td>40.684869</td>\n",
       "      <td>0.43</td>\n",
       "      <td>0.59</td>\n",
       "      <td>0.163122</td>\n",
       "      <td>0.38</td>\n",
       "      <td>1.23</td>\n",
       "      <td>213.269652</td>\n",
       "    </tr>\n",
       "    <tr>\n",
       "      <th>2</th>\n",
       "      <td>2</td>\n",
       "      <td>Prospect_3</td>\n",
       "      <td>160</td>\n",
       "      <td>13.883810</td>\n",
       "      <td>0.55</td>\n",
       "      <td>0.16</td>\n",
       "      <td>0.167810</td>\n",
       "      <td>0.59</td>\n",
       "      <td>1.29</td>\n",
       "      <td>15.003450</td>\n",
       "    </tr>\n",
       "    <tr>\n",
       "      <th>3</th>\n",
       "      <td>3</td>\n",
       "      <td>Prospect_4</td>\n",
       "      <td>11</td>\n",
       "      <td>5.572679</td>\n",
       "      <td>0.67</td>\n",
       "      <td>0.12</td>\n",
       "      <td>0.176766</td>\n",
       "      <td>0.29</td>\n",
       "      <td>1.20</td>\n",
       "      <td>0.210537</td>\n",
       "    </tr>\n",
       "    <tr>\n",
       "      <th>4</th>\n",
       "      <td>4</td>\n",
       "      <td>Prospect_5</td>\n",
       "      <td>257</td>\n",
       "      <td>49.995814</td>\n",
       "      <td>0.81</td>\n",
       "      <td>0.31</td>\n",
       "      <td>0.179255</td>\n",
       "      <td>0.14</td>\n",
       "      <td>1.28</td>\n",
       "      <td>63.256274</td>\n",
       "    </tr>\n",
       "  </tbody>\n",
       "</table>\n",
       "</div>"
      ],
      "text/plain": [
       "   Index        Name  Thick [m]  Area [km2]  GeomFactor   N:G       phi    So  \\\n",
       "0      0  Prospect_1        173   65.714854        0.73  0.26  0.150557  0.45   \n",
       "1      1  Prospect_2        410   40.684869        0.43  0.59  0.163122  0.38   \n",
       "2      2  Prospect_3        160   13.883810        0.55  0.16  0.167810  0.59   \n",
       "3      3  Prospect_4         11    5.572679        0.67  0.12  0.176766  0.29   \n",
       "4      4  Prospect_5        257   49.995814        0.81  0.31  0.179255  0.14   \n",
       "\n",
       "     Bo        HCIP  \n",
       "0  1.10  132.900794  \n",
       "1  1.23  213.269652  \n",
       "2  1.29   15.003450  \n",
       "3  1.20    0.210537  \n",
       "4  1.28   63.256274  "
      ]
     },
     "execution_count": 51,
     "metadata": {},
     "output_type": "execute_result"
    }
   ],
   "source": [
    "df['HCIP'] = df.apply(hcip_row, axis=1)\n",
    "\n",
    "df.head()"
   ]
  },
  {
   "cell_type": "markdown",
   "metadata": {
    "tags": [
     "exercise"
    ]
   },
   "source": [
    "### Exercise\n",
    "\n",
    "- Can you generate a Monte Carlo result for every prospect?"
   ]
  },
  {
   "cell_type": "markdown",
   "metadata": {},
   "source": [
    "<hr />\n",
    "\n",
    "<div>\n",
    "<img src=\"https://avatars1.githubusercontent.com/u/1692321?s=50\"><p style=\"text-align:center\">© Agile Geoscience 2016</p>\n",
    "</div>"
   ]
  }
 ],
 "metadata": {
  "anaconda-cloud": {},
  "celltoolbar": "Tags",
  "kernelspec": {
   "display_name": "geocomp",
   "language": "python",
   "name": "geocomp"
  },
  "language_info": {
   "codemirror_mode": {
    "name": "ipython",
    "version": 3
   },
   "file_extension": ".py",
   "mimetype": "text/x-python",
   "name": "python",
   "nbconvert_exporter": "python",
   "pygments_lexer": "ipython3",
   "version": "3.8.5"
  }
 },
 "nbformat": 4,
 "nbformat_minor": 1
}