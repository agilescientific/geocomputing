{
 "cells": [
  {
   "cell_type": "markdown",
   "id": "d9edd4e7",
   "metadata": {},
   "source": [
    "# Logs and other 1D data\n",
    "\n",
    "Wireline logs, and 1D data in general, are a fundamental data type for subsurface scientists and engineers.\n",
    "\n",
    "The data themselves are usually some physical measurement: conductivity of rock, speed of sound, natural radiation counts, volume of fluid, and so on.\n",
    "\n",
    "The data points also have a set of 'coordinates' in time or space. For a wireline log, the coordinates are depths; for production data, they are timestamps. Often, there are multiple sets of coordinates to worry about, such as MD, TVDSS, and TWT for wireline logs.\n",
    "\n",
    "A lot of our work as scientists and engineers comes down to wrangling data like this. Let's look at some."
   ]
  },
  {
   "cell_type": "markdown",
   "id": "25959c2a",
   "metadata": {},
   "source": [
    "## Data from the F3 dataset\n",
    "\n",
    "Let's start off by loading some well data, to do this, we'll use a `function` from [welly](https://code.agilescientific.com/welly/):"
   ]
  },
  {
   "cell_type": "markdown",
   "id": "cc3a9641",
   "metadata": {
    "tags": [
     "hide"
    ]
   },
   "source": [
    "💡 Encourage students to write comments in code blocks."
   ]
  },
  {
   "cell_type": "code",
   "execution_count": null,
   "id": "065cf641",
   "metadata": {},
   "outputs": [],
   "source": [
    "from welly import Well\n",
    "\n",
    "url = 'https://geocomp.s3.amazonaws.com/data/F02-1_logs.las'\n",
    "\n",
    "w = Well.from_las(url)\n",
    "\n",
    "dt = list(w.data['DT'].values)\n",
    "\n",
    "dt[:5]"
   ]
  },
  {
   "cell_type": "markdown",
   "id": "c338fd99",
   "metadata": {},
   "source": [
    "We have now loaded some data. We made an **assignment**, which means giving a name (`dt`) to a data structure (a `list` full of numbers in this case), so we can now inspect `dt`:"
   ]
  },
  {
   "cell_type": "code",
   "execution_count": null,
   "id": "5b18d357",
   "metadata": {},
   "outputs": [],
   "source": [
    "dt"
   ]
  },
  {
   "cell_type": "markdown",
   "id": "9a0d172e",
   "metadata": {},
   "source": [
    "As this is a very long log (how long in fact?), we'll just **slice** into the `list` to grab the first 10 values to learn about this data structure, the `list`:"
   ]
  },
  {
   "cell_type": "code",
   "execution_count": null,
   "id": "f6561ccd",
   "metadata": {},
   "outputs": [],
   "source": [
    "len(dt)"
   ]
  },
  {
   "cell_type": "code",
   "execution_count": null,
   "id": "f3dfd79f",
   "metadata": {},
   "outputs": [],
   "source": [
    "# Slicing\n",
    "dt[0:10]"
   ]
  },
  {
   "cell_type": "code",
   "execution_count": null,
   "id": "e38318ee",
   "metadata": {},
   "outputs": [],
   "source": [
    "# Saving the slice\n",
    "dt_ten = dt[0:10]\n",
    "dt_ten"
   ]
  },
  {
   "cell_type": "markdown",
   "id": "e816d6e6",
   "metadata": {},
   "source": [
    "Notice that, for now, there are no coordinates, only the data.\n",
    "\n",
    "This thing now exists in memory, with the name `dt_ten` pointing at it. We can ask to see it:"
   ]
  },
  {
   "cell_type": "code",
   "execution_count": null,
   "id": "bd7d804e",
   "metadata": {},
   "outputs": [],
   "source": [
    "dt_ten"
   ]
  },
  {
   "cell_type": "markdown",
   "id": "11d371af",
   "metadata": {},
   "source": [
    "But we can't do 'mathy' things with it in a particularly easy way:"
   ]
  },
  {
   "cell_type": "code",
   "execution_count": null,
   "id": "0fa64ad1",
   "metadata": {},
   "outputs": [],
   "source": [
    "dt_ten + 10 \n",
    "\n",
    "# This results in an error:"
   ]
  },
  {
   "cell_type": "markdown",
   "id": "d490a5b8",
   "metadata": {},
   "source": [
    "Later on we'll meet NumPy and see how its `ndarray` data structure can help us with this.\n",
    "\n",
    "We can plot it though! We need a library for this, plotting is not built into the core of Python. (Most things aren't; the core of Python just contains a few fundamental tools.)"
   ]
  },
  {
   "cell_type": "code",
   "execution_count": null,
   "id": "8d1469f1",
   "metadata": {},
   "outputs": [],
   "source": [
    "import matplotlib.pyplot as plt\n",
    "\n",
    "plt.plot(dt_ten, '*-')"
   ]
  },
  {
   "cell_type": "code",
   "execution_count": null,
   "id": "681da0a7",
   "metadata": {},
   "outputs": [],
   "source": [
    "plt.plot(dt)"
   ]
  },
  {
   "cell_type": "markdown",
   "id": "ee88c076",
   "metadata": {},
   "source": [
    "Another handy plot:"
   ]
  },
  {
   "cell_type": "code",
   "execution_count": null,
   "id": "0e16030f",
   "metadata": {},
   "outputs": [],
   "source": [
    "# And let's look at the whole data set too\n",
    "_ = plt.hist(dt)"
   ]
  },
  {
   "cell_type": "markdown",
   "id": "cd0076e6",
   "metadata": {
    "tags": [
     "exercise"
    ]
   },
   "source": [
    "### EXERCISE\n",
    "\n",
    "- Make a plot of the `dt` log only from index `4000` up to index `4100`."
   ]
  },
  {
   "cell_type": "code",
   "execution_count": null,
   "id": "fc202cf7",
   "metadata": {},
   "outputs": [],
   "source": [
    "# YOUR CODE HERE\n",
    "\n"
   ]
  },
  {
   "cell_type": "code",
   "execution_count": null,
   "id": "69a9121c",
   "metadata": {
    "tags": [
     "hide"
    ]
   },
   "outputs": [],
   "source": [
    "plt.plot(dt[4000:4100])"
   ]
  },
  {
   "cell_type": "markdown",
   "id": "d18d70ba",
   "metadata": {},
   "source": [
    "## What can `list` do?\n",
    "\n",
    "This data structure has three important features:\n",
    "\n",
    "- Its instances are sequences with concepts like length, membership, and iterability.\n",
    "- Its instances are ordered collections that we can index and slice elements and subsequences from.\n",
    "- Its instances have 'methods' attached to them, which are functions that access their data.\n",
    "\n",
    "Let's explore!"
   ]
  },
  {
   "cell_type": "code",
   "execution_count": null,
   "id": "79fa011e",
   "metadata": {},
   "outputs": [],
   "source": [
    "dt_ten"
   ]
  },
  {
   "cell_type": "code",
   "execution_count": null,
   "id": "06a7dfe4",
   "metadata": {},
   "outputs": [],
   "source": []
  },
  {
   "cell_type": "code",
   "execution_count": null,
   "id": "98d09909",
   "metadata": {
    "tags": [
     "hide"
    ]
   },
   "outputs": [],
   "source": [
    "# We'll talk about iterability in a minute.\n",
    "\n",
    "# Length.\n",
    "len(dt_ten)"
   ]
  },
  {
   "cell_type": "code",
   "execution_count": null,
   "id": "35bcdd57",
   "metadata": {
    "tags": [
     "hide"
    ]
   },
   "outputs": [],
   "source": [
    "# Membership.\n",
    "42 in dt_ten"
   ]
  },
  {
   "cell_type": "code",
   "execution_count": null,
   "id": "5937f4fe",
   "metadata": {
    "tags": [
     "hide"
    ]
   },
   "outputs": [],
   "source": [
    "# Sortability.\n",
    "sorted(dt_ten)  # Returns a copy, unlike list.sort() method."
   ]
  },
  {
   "cell_type": "code",
   "execution_count": null,
   "id": "beb81db2",
   "metadata": {
    "tags": [
     "hide"
    ]
   },
   "outputs": [],
   "source": [
    "# There's a built-in function to sum collections.\n",
    "sum(dt_ten)"
   ]
  },
  {
   "cell_type": "code",
   "execution_count": null,
   "id": "1cfcb086",
   "metadata": {
    "tags": [
     "hide"
    ]
   },
   "outputs": [],
   "source": [
    "# Indexing.\n",
    "dt_ten[0], dt_ten[3], dt_ten[11], dt_ten[-1]  # Explain why -1."
   ]
  },
  {
   "cell_type": "code",
   "execution_count": null,
   "id": "3368e6ee",
   "metadata": {
    "tags": [
     "hide"
    ]
   },
   "outputs": [],
   "source": [
    "# Slicing.\n",
    "dt_ten[5:8]    # 8 - 5 = 3 items.\n",
    "dt_ten[:10]    # The first 10.\n",
    "dt_ten[1:]     # All except the first.\n",
    "dt_ten[:-1]    # All except the last\n",
    "dt_ten[:10:2]  # Every other of first ten"
   ]
  },
  {
   "cell_type": "code",
   "execution_count": null,
   "id": "1faa3314",
   "metadata": {
    "tags": [
     "hide"
    ]
   },
   "outputs": [],
   "source": [
    "# Assignment by index (but not slice).\n",
    "dt_ten[0] = 100\n",
    "dt_ten\n",
    "\n",
    "# This CHANGES item 0, does not insert new item at 0 (method for that).\n",
    "# Mutability. Be careful with it, often better to make a new thing."
   ]
  },
  {
   "cell_type": "code",
   "execution_count": null,
   "id": "c8d6b77a",
   "metadata": {
    "tags": [
     "hide"
    ]
   },
   "outputs": [],
   "source": [
    "# Methods.\n",
    "dt_ten.index(100)"
   ]
  },
  {
   "cell_type": "code",
   "execution_count": null,
   "id": "517210dd",
   "metadata": {
    "tags": [
     "hide"
    ]
   },
   "outputs": [],
   "source": [
    "# Append is easily the most useful; works in place (lists are mutable).\n",
    "dt_ten.append(50)\n",
    "dt_ten"
   ]
  },
  {
   "cell_type": "markdown",
   "id": "3933585a",
   "metadata": {
    "tags": [
     "exercise"
    ]
   },
   "source": [
    "### EXERCISE\n",
    "\n",
    "For this exercise, use `dt_ten`.\n",
    "- Omit the first and last value from `dt_ten`, **assign** the result to `dt_8`.\n",
    "- In `dt_8`, remove the last value and save it as `last` (this should no longer be `50`)\n",
    "- Print every third value in `dt_8`."
   ]
  },
  {
   "cell_type": "code",
   "execution_count": null,
   "id": "15d2510f",
   "metadata": {},
   "outputs": [],
   "source": [
    "# YOUR CODE HERE\n",
    "\n"
   ]
  },
  {
   "cell_type": "code",
   "execution_count": null,
   "id": "b45a3858",
   "metadata": {
    "tags": [
     "hide"
    ]
   },
   "outputs": [],
   "source": [
    "dt_8 = dt_ten[1:-1]"
   ]
  },
  {
   "cell_type": "code",
   "execution_count": null,
   "id": "b7223562",
   "metadata": {
    "tags": [
     "hide"
    ]
   },
   "outputs": [],
   "source": [
    "last = dt_8.pop()\n",
    "assert last != 50"
   ]
  },
  {
   "cell_type": "code",
   "execution_count": null,
   "id": "b296b3ba",
   "metadata": {
    "tags": [
     "hide"
    ]
   },
   "outputs": [],
   "source": [
    "print(dt_8[::3])"
   ]
  },
  {
   "cell_type": "markdown",
   "id": "79bd7738",
   "metadata": {},
   "source": [
    "## Iterability\n",
    "\n",
    "Often we'd lile to step over the items in a collection, transforming them or somehow using them as we go. For example, we might collect the transformed versions in a new list (\"remove the endings from these filenames\") or perhaps we'll loop over a list of URLs, making web requests to each one in turn and collecting the results."
   ]
  },
  {
   "cell_type": "code",
   "execution_count": null,
   "id": "8738ee92",
   "metadata": {},
   "outputs": [],
   "source": []
  },
  {
   "cell_type": "code",
   "execution_count": null,
   "id": "167d6e0f",
   "metadata": {
    "scrolled": true,
    "tags": [
     "hide"
    ]
   },
   "outputs": [],
   "source": [
    "# Iterability.\n",
    "# Earlier on I tried to add 10 to the GR log.\n",
    "\n",
    "# This is a `for` loop. Notice:\n",
    "#  - No counters or increments.\n",
    "#  - We get each `n` from `gr` in turn.\n",
    "for n in dt_ten:\n",
    "    print(n + 10)"
   ]
  },
  {
   "cell_type": "code",
   "execution_count": null,
   "id": "98feed94",
   "metadata": {
    "tags": [
     "hide"
    ]
   },
   "outputs": [],
   "source": [
    "# dt hasn't changed:\n",
    "dt_ten"
   ]
  },
  {
   "cell_type": "code",
   "execution_count": null,
   "id": "3d41ef81",
   "metadata": {
    "tags": [
     "hide"
    ]
   },
   "outputs": [],
   "source": [
    "# `n` was an actual assignment happening for each step in `gr`:\n",
    "n"
   ]
  },
  {
   "cell_type": "code",
   "execution_count": null,
   "id": "69a6f804",
   "metadata": {
    "tags": [
     "hide"
    ]
   },
   "outputs": [],
   "source": [
    "# To 'save' the transformed numbers, I need to collect them in a new list.\n",
    "dt_out = []\n",
    "for n in dt_ten:\n",
    "    dt_out.append(n + 10)\n",
    "dt_out"
   ]
  },
  {
   "cell_type": "markdown",
   "id": "c40ec16c",
   "metadata": {
    "tags": [
     "exercise"
    ]
   },
   "source": [
    "### EXERCISE\n",
    "\n",
    "Rearrange the following lines of code to make a list of depths using the datum as the new start level. Pay attention to the indentation."
   ]
  },
  {
   "cell_type": "code",
   "execution_count": null,
   "id": "d0c31fd2",
   "metadata": {},
   "outputs": [],
   "source": [
    "for depth in depths:\n",
    "print(adjusted_depths)\n",
    "adjusted_depths = []\n",
    "depths = [48.0, 63.0, 70.5, 78.0, 86.75, 100.5, 109.25, 111.75, 120.5, 120.5, 138.0, 140.5, 151.75]\n",
    "adjusted_depths.append(depth - datum)\n",
    "datum = 34.8"
   ]
  },
  {
   "cell_type": "code",
   "execution_count": null,
   "id": "bc22a4f2",
   "metadata": {},
   "outputs": [],
   "source": []
  },
  {
   "cell_type": "code",
   "execution_count": null,
   "id": "16180926",
   "metadata": {
    "tags": [
     "hide"
    ]
   },
   "outputs": [],
   "source": [
    "depths = [48.0, 63.0, 70.5, 78.0, 86.75, 100.5, 109.25, 111.75, 120.5, 120.5, 138.0, 140.5, 151.75]\n",
    "adjusted_depths = []\n",
    "datum = 34.8\n",
    "for depth in depths:\n",
    "    adjusted_depths.append(depth - datum)\n",
    "    \n",
    "print(adjusted_depths)"
   ]
  },
  {
   "cell_type": "markdown",
   "id": "25fda669",
   "metadata": {},
   "source": [
    "## `if` statements\n",
    "\n",
    "One of the most common places to see booleans is in `if` statements. These allow for different blocks of code to be run depending on the result of a check.\n",
    "\n",
    "* Basic pattern\n",
    "* `if` ... `else`\n",
    "* `if` ... `elif` ... `else` - mutually exclusive options\n",
    "* Combined with `for` ... `in` ... `:` to control iterations\n",
    "    - `break`, `continue`\n",
    "\n",
    "Let's look at an example with our `gr_all` data:"
   ]
  },
  {
   "cell_type": "code",
   "execution_count": null,
   "id": "0f6a7fc3",
   "metadata": {},
   "outputs": [],
   "source": []
  },
  {
   "cell_type": "code",
   "execution_count": null,
   "id": "e29ae1fa",
   "metadata": {
    "tags": [
     "hide"
    ]
   },
   "outputs": [],
   "source": [
    "# build this up\n",
    "\n",
    "depth = '2034 ft'\n",
    "\n",
    "if 'f' in depth.lower():\n",
    "    units = 'ft'\n",
    "elif 'm' in depth.lower():\n",
    "    units = 'm'\n",
    "else:\n",
    "    untis = None\n",
    "\n",
    "units"
   ]
  },
  {
   "cell_type": "markdown",
   "id": "a381bf48",
   "metadata": {
    "tags": [
     "exercise"
    ]
   },
   "source": [
    "### EXERCISE\n",
    "\n",
    "Rearrange the following lines of code to print 'Shallow' (<400), 'Medium' (>400, <600), or 'Deep' (>=600), based on `depth`. The code is all there, it just needs to be rearranged and indented correctly."
   ]
  },
  {
   "cell_type": "code",
   "execution_count": null,
   "id": "e92021f3",
   "metadata": {},
   "outputs": [],
   "source": [
    "elif depth < 800:\n",
    "print('Medium')\n",
    "print('Shallow')\n",
    "depth = 383\n",
    "else:\n",
    "if depth < 400:\n",
    "print('Deep')"
   ]
  },
  {
   "cell_type": "code",
   "execution_count": null,
   "id": "ae0ba738",
   "metadata": {},
   "outputs": [],
   "source": []
  },
  {
   "cell_type": "code",
   "execution_count": null,
   "id": "910c6c0e",
   "metadata": {
    "tags": [
     "hide"
    ]
   },
   "outputs": [],
   "source": [
    "depth = 383\n",
    "if depth < 400:\n",
    "    print('Shallow')\n",
    "elif depth < 800:\n",
    "    print('Medium')\n",
    "else:\n",
    "    print('Deep')"
   ]
  },
  {
   "cell_type": "markdown",
   "id": "ef240e11",
   "metadata": {},
   "source": [
    "## `break` and `continue`\n",
    "\n",
    "The data we loaded, the `dt` curve, have no missing data, but if we load the `gr` we can see that the first few values are all `nan` values, so called for \"not a number\":"
   ]
  },
  {
   "cell_type": "code",
   "execution_count": null,
   "id": "e679b553",
   "metadata": {},
   "outputs": [],
   "source": []
  },
  {
   "cell_type": "code",
   "execution_count": null,
   "id": "41edf536",
   "metadata": {
    "tags": [
     "hide"
    ]
   },
   "outputs": [],
   "source": [
    "gr = list(w.data['GR'].values)\n",
    "gr[:20]"
   ]
  },
  {
   "cell_type": "markdown",
   "id": "7a6e6ba0",
   "metadata": {},
   "source": [
    "So now if we want to iterate over these values, we need some control at each step of the iteration to check whether the value is valid, this is where `break` and `continue` can come in. First we'll use `numpy` to identify those `nan` values (we could also use the `math` library, but as `numpy` is the go-to library for all scientific computing in Python, we might as well get familiar with it:"
   ]
  },
  {
   "cell_type": "code",
   "execution_count": null,
   "id": "66c99fb2",
   "metadata": {},
   "outputs": [],
   "source": []
  },
  {
   "cell_type": "code",
   "execution_count": null,
   "id": "b3bc8cf7",
   "metadata": {
    "tags": [
     "hide"
    ]
   },
   "outputs": [],
   "source": [
    "# np.isnan returns a boolean value: True or False\n",
    "np.isnan(42), np.isnan(gr[0])"
   ]
  },
  {
   "cell_type": "code",
   "execution_count": null,
   "id": "e37e3c7a",
   "metadata": {
    "tags": [
     "hide"
    ]
   },
   "outputs": [],
   "source": [
    "# build this up\n",
    "import numpy as np\n",
    "\n",
    "print(f'Len of all data: {len(gr)}')\n",
    "\n",
    "gr_clean = []\n",
    "for g in gr:\n",
    "    if np.isnan(g):\n",
    "        print(f'Skipping value: {g}')\n",
    "        continue\n",
    "    else:\n",
    "        gr_clean.append(g)\n",
    "        \n",
    "print(f'Len of cleaned data: {len(gr_clean)}')"
   ]
  },
  {
   "cell_type": "code",
   "execution_count": null,
   "id": "19e9de82",
   "metadata": {
    "tags": [
     "hide"
    ]
   },
   "outputs": [],
   "source": [
    "print(f'Len of all data: {len(gr)}')\n",
    "\n",
    "for idx, g in enumerate(gr):\n",
    "    if np.isnan(g):\n",
    "        print(f'Bad value `{g}` at idx `{idx}`, interrupting.')\n",
    "        break"
   ]
  },
  {
   "cell_type": "markdown",
   "id": "253dba7f",
   "metadata": {
    "tags": [
     "exercise"
    ]
   },
   "source": [
    "### EXERCISE\n",
    "\n",
    "- First print each value in `gr_clean`.\n",
    "- Next print only the first 15 values of `gr_clean`.\n",
    "- Then modify your code again to only print values strictly smaller than `2`.\n",
    "- Next add a condition to multiply values that are greater or equal to `2` by `10`, and print them.\n",
    "- Finally, add a print statement to log that the loop is over."
   ]
  },
  {
   "cell_type": "code",
   "execution_count": null,
   "id": "0c90fa8a",
   "metadata": {},
   "outputs": [],
   "source": [
    "# YOUR CODE HERE\n",
    "\n"
   ]
  },
  {
   "cell_type": "code",
   "execution_count": null,
   "id": "006a0c82",
   "metadata": {
    "tags": [
     "hide"
    ]
   },
   "outputs": [],
   "source": [
    "for g in gr_clean[:15]:\n",
    "    if g < 2:\n",
    "        print(g)\n",
    "    else:\n",
    "        print(g * 10)\n",
    "\n",
    "print('Loop finished.')"
   ]
  },
  {
   "cell_type": "markdown",
   "id": "8c60418b",
   "metadata": {
    "tags": [
     "info"
    ]
   },
   "source": [
    "### Booleans\n",
    "\n",
    "`bool`s are either `True` or `False`. These can be very useful, most obviously for selectively running particular blocks of code.\n",
    "\n",
    "Boolean values can be obtained in a number of ways. Many functions or methods will return either `True` or `False`. Comparisons also return a `bool`:\n",
    "\n",
    "| Equal to | Not equal to | Less than | Greater than | Less than or equal | Greater than or equal |\n",
    "|----------|--------------|-----------|--------------|--------------------|-----------------------|\n",
    "|   `==`   |     `!=`     |    `<`    |      `>`     |        `<=`        |          `>=`         |\n",
    "\n",
    "Different types will never be equal (that is, something like `1 == '1'` is `False`). If you want to know if something is the same object as another, then you should use `is` and `is not`.\n",
    "\n",
    "Some objects contain others (for example lists), and membership within a collection can be tested with `in`, which gives a `True` or `False`.\n",
    "\n",
    "We can also link expressions that are True or False together in a few ways:\n",
    "\n",
    "| Operation \t| Result                                                           \t|\n",
    "|-----------\t|------------------------------------------------------------------\t|\n",
    "| a **or** b    \t| True if either a or b is true                                    \t|\n",
    "| a **and** b   \t| False if either a or b is false,<br>True if both a and b are true |\n",
    "| **not** a     \t| True if a is true, else False                                    \t|\n",
    "\n",
    "In some cases (notably with numpy arrays) `&` and `|` are used instead of `and` and `or`. `&` and `|` are bitwise operators: they are only used on numbers, and work at the level of individual 1s and 0s. In most cases you will want `and` and `or` instead.\n",
    "\n",
    "#### Truthiness\n",
    "\n",
    "Some things are considered to be \"truthy\" (and will count as `True`) while others are \"falsey\" (counting as `False`). Examples of things that are falsey are the following:\n",
    "* `0`\n",
    "* `0.0`\n",
    "* empty collections (such as an empty list `[]`, and empty versions of the other datastructures that we will cover in this notebook but have not seen yet),\n",
    "* empty strings (`''` or `\"\"`).\n",
    "\n",
    "Most other things will be truthy.\n",
    "\n",
    "Here is a simple example, but play around with more:\n",
    "\n",
    "```python\n",
    "e_list = []\n",
    "\n",
    "if e_list:\n",
    "    print('True!')\n",
    "else:\n",
    "    print('False!')\n",
    "    \n",
    "f_list = [0]\n",
    "\n",
    "if f_list:\n",
    "    print('True!')\n",
    "else:\n",
    "    print('False!')\n",
    "```"
   ]
  },
  {
   "cell_type": "markdown",
   "id": "8210f6d1",
   "metadata": {},
   "source": [
    "## Comprehensions\n",
    "\n",
    "There's an optional extra bit of Python syntax that can sometimes help write more readable code. Any time you're doing some transformation on a collection like this, you can write it as a 'comprehension'. Let's start with a shorter subset of `gr` values:"
   ]
  },
  {
   "cell_type": "code",
   "execution_count": null,
   "id": "22e78616",
   "metadata": {},
   "outputs": [],
   "source": [
    "dt_out = [n + 10 for n in dt_ten]\n",
    "dt_out"
   ]
  },
  {
   "cell_type": "markdown",
   "id": "92db8a5b",
   "metadata": {},
   "source": [
    "If you find that harder to read than the `for` loop, just ignore it. You'll love it one day, but it can wait!"
   ]
  },
  {
   "cell_type": "markdown",
   "id": "8beffb64",
   "metadata": {
    "tags": [
     "exercise"
    ]
   },
   "source": [
    "### EXERCISE\n",
    "\n",
    " - Create a list of numbers.\n",
    " - Make a new list that contains only the second half of your list.\n",
    " - Can you sort your list from largest to smallest?\n",
    " - Find the sum of the squares of the numbers in your list.\n",
    " - Append three new numbers to your list. Can you do it in one step? <a title=\"You might need to Google how to concatenate lists in Python.\">HINT</a>"
   ]
  },
  {
   "cell_type": "code",
   "execution_count": null,
   "id": "86b87913",
   "metadata": {},
   "outputs": [],
   "source": [
    "# YOUR CODE HERE\n",
    "\n"
   ]
  },
  {
   "cell_type": "code",
   "execution_count": null,
   "id": "25ff5684",
   "metadata": {
    "tags": [
     "hide"
    ]
   },
   "outputs": [],
   "source": [
    "# Possible solutions here.\n",
    "my_list = [1, 4, 5, 7, 3, 47, 65, 51, 11, 52]\n",
    "print(f'my_list: {my_list}')\n",
    "my_range = np.random.randint(low=10, high=100, size=10)\n",
    "print(f'my_range: {my_range}')\n",
    "print(f'2nd half of list: {my_list[len(my_list)//2:]}')\n",
    "print(f'reverse sorted list: {sorted(my_list, reverse=True)}')\n",
    "sum_squares = sum([n**2 for n in my_list])\n",
    "print(f'Sum of squares: {sum_squares}')\n",
    "my_list.extend([345, 987, -999])\n",
    "print(f'extended list: {my_list}')"
   ]
  },
  {
   "cell_type": "markdown",
   "id": "0357c54c",
   "metadata": {},
   "source": [
    "## Math on a `list` vs `np.ndarray`\n",
    "\n",
    "Remember that we could not do this:"
   ]
  },
  {
   "cell_type": "code",
   "execution_count": null,
   "id": "ab3fba6f",
   "metadata": {},
   "outputs": [],
   "source": [
    "my_list + 10"
   ]
  },
  {
   "cell_type": "code",
   "execution_count": null,
   "id": "908d8594",
   "metadata": {},
   "outputs": [],
   "source": []
  },
  {
   "cell_type": "code",
   "execution_count": null,
   "id": "a1271d6c",
   "metadata": {
    "tags": [
     "hide"
    ]
   },
   "outputs": [],
   "source": [
    "np.array(my_list) + 10"
   ]
  },
  {
   "cell_type": "code",
   "execution_count": null,
   "id": "dee72b9e",
   "metadata": {
    "tags": [
     "hide"
    ]
   },
   "outputs": [],
   "source": [
    "my_list * 2"
   ]
  },
  {
   "cell_type": "code",
   "execution_count": null,
   "id": "73e859f7",
   "metadata": {},
   "outputs": [],
   "source": [
    "np.array(my_list) * 2"
   ]
  },
  {
   "cell_type": "markdown",
   "id": "1735f39e",
   "metadata": {},
   "source": [
    "## Indexing and slicing `np.ndarray`\n",
    "\n",
    "It is important to realize that everything you have learned about indexing and slicing on a `list` can be applied to a `np.ndarray`. Let's make one to illustrate:"
   ]
  },
  {
   "cell_type": "code",
   "execution_count": null,
   "id": "22f85323",
   "metadata": {},
   "outputs": [],
   "source": [
    "arr = np.random.randint(low=10, high=100, size=50)\n",
    "arr"
   ]
  },
  {
   "cell_type": "code",
   "execution_count": null,
   "id": "8e513aa6",
   "metadata": {},
   "outputs": [],
   "source": []
  },
  {
   "cell_type": "code",
   "execution_count": null,
   "id": "40fe228e",
   "metadata": {
    "tags": [
     "hide"
    ]
   },
   "outputs": [],
   "source": [
    "arr[0], arr[-1]"
   ]
  },
  {
   "cell_type": "code",
   "execution_count": null,
   "id": "9efd66d7",
   "metadata": {
    "tags": [
     "hide"
    ]
   },
   "outputs": [],
   "source": [
    "arr[10:40:2]"
   ]
  },
  {
   "cell_type": "code",
   "execution_count": null,
   "id": "17db6f03",
   "metadata": {
    "tags": [
     "hide"
    ]
   },
   "outputs": [],
   "source": [
    "tops = arr[:-1]\n",
    "tops"
   ]
  },
  {
   "cell_type": "code",
   "execution_count": null,
   "id": "7f0b131b",
   "metadata": {
    "tags": [
     "hide"
    ]
   },
   "outputs": [],
   "source": [
    "bases = arr[1:]\n",
    "bases"
   ]
  },
  {
   "cell_type": "code",
   "execution_count": null,
   "id": "a64dc0a7",
   "metadata": {
    "tags": [
     "hide"
    ]
   },
   "outputs": [],
   "source": [
    "plt.plot(tops - bases)"
   ]
  },
  {
   "cell_type": "markdown",
   "id": "4357e6fb",
   "metadata": {},
   "source": [
    "## Handling `nan` values without a loop\n",
    "\n",
    "When we wrote a loop to handle the `nan` values in `gr`, we actually needed `numpy` or the `math` library to identify the `nan` values, there is a shorter way to achieve the same results by leveraging `numpy`, for this we need `gr` to be a `np.ndarray` rather than a `list`, we can use typecasting to achieve this:"
   ]
  },
  {
   "cell_type": "code",
   "execution_count": null,
   "id": "7d02bb09",
   "metadata": {},
   "outputs": [],
   "source": [
    "gr_arr = np.array(gr)\n",
    "gr_arr[:25]"
   ]
  },
  {
   "cell_type": "code",
   "execution_count": null,
   "id": "33236745",
   "metadata": {},
   "outputs": [],
   "source": []
  },
  {
   "cell_type": "code",
   "execution_count": null,
   "id": "a470b4af",
   "metadata": {
    "tags": [
     "hide"
    ]
   },
   "outputs": [],
   "source": [
    "# Use numpy to filter out the nans\n",
    "gr_arr = gr_arr[~np.isnan(gr_arr)]\n",
    "print(type(gr_arr))\n",
    "gr_arr[:15]"
   ]
  },
  {
   "cell_type": "markdown",
   "id": "5ad0c877",
   "metadata": {},
   "source": [
    "## Boolean array\n",
    "\n",
    "What is going on here `gr_arr[~np.isnan(gr_arr)]`!?\n",
    "Let's break it down to understand it:"
   ]
  },
  {
   "cell_type": "code",
   "execution_count": null,
   "id": "72b241a8",
   "metadata": {},
   "outputs": [],
   "source": [
    "empty_arr = np.array([])\n",
    "empty_arr"
   ]
  },
  {
   "cell_type": "code",
   "execution_count": null,
   "id": "cae4009e",
   "metadata": {},
   "outputs": [],
   "source": [
    "test_arr   = np.array([1, 2, 3, 4, 5])\n",
    "test_bools = np.array([True, True, False, True, False])\n",
    "test_arr, test_bools"
   ]
  },
  {
   "cell_type": "code",
   "execution_count": null,
   "id": "4d23d2c2",
   "metadata": {},
   "outputs": [],
   "source": []
  },
  {
   "cell_type": "code",
   "execution_count": null,
   "id": "e2e3bd49",
   "metadata": {
    "tags": [
     "hide"
    ]
   },
   "outputs": [],
   "source": [
    "# contiguous slicing\n",
    "test_arr[0:3]"
   ]
  },
  {
   "cell_type": "code",
   "execution_count": null,
   "id": "e61ecd8d",
   "metadata": {
    "tags": [
     "hide"
    ]
   },
   "outputs": [],
   "source": [
    "# discontiguous slicing based on boolean array\n",
    "test_arr[test_bools]"
   ]
  },
  {
   "cell_type": "code",
   "execution_count": null,
   "id": "8edfd3e0",
   "metadata": {},
   "outputs": [],
   "source": [
    "# adding nan values\n",
    "test_gr = np.array([np.nan, 120, 80, 90, np.nan, 115, 90])\n",
    "test_gr"
   ]
  },
  {
   "cell_type": "code",
   "execution_count": null,
   "id": "382c3789",
   "metadata": {
    "tags": [
     "hide"
    ]
   },
   "outputs": [],
   "source": [
    "np.isnan(test_gr[0])"
   ]
  },
  {
   "cell_type": "code",
   "execution_count": null,
   "id": "898f0ffe",
   "metadata": {
    "tags": [
     "hide"
    ]
   },
   "outputs": [],
   "source": [
    "np.isnan(test_gr)"
   ]
  },
  {
   "cell_type": "code",
   "execution_count": null,
   "id": "5d7939c7",
   "metadata": {
    "tags": [
     "hide"
    ]
   },
   "outputs": [],
   "source": [
    "test_gr[np.isnan(test_gr)]"
   ]
  },
  {
   "cell_type": "code",
   "execution_count": null,
   "id": "f2fdecb0",
   "metadata": {
    "tags": [
     "hide"
    ]
   },
   "outputs": [],
   "source": [
    "~np.isnan(test_gr)"
   ]
  },
  {
   "cell_type": "code",
   "execution_count": null,
   "id": "2924ad06",
   "metadata": {
    "tags": [
     "hide"
    ]
   },
   "outputs": [],
   "source": [
    "test_gr[~np.isnan(test_gr)]"
   ]
  },
  {
   "cell_type": "markdown",
   "id": "a805b706",
   "metadata": {},
   "source": [
    "## Wrapping up\n",
    "\n",
    "So we've loaded a well log, we've modified it, looped over it, controlled the flow of our python programm, let's now finish by simply plotting it using `welly`:"
   ]
  },
  {
   "cell_type": "code",
   "execution_count": null,
   "id": "8e721856",
   "metadata": {},
   "outputs": [],
   "source": [
    "w.data['GR'].plot()"
   ]
  },
  {
   "cell_type": "markdown",
   "id": "70979dec",
   "metadata": {},
   "source": [
    "## NEXT\n",
    "\n",
    "To continue and do more meaningful processing on data like this,\n",
    "\n",
    "- We're going to need one more data type (dictionaries).\n",
    "- We're going to have to learn how to write our own functions.\n",
    "- We'll practise making our own plots.\n",
    "- We'll look at file I/O.\n",
    "\n",
    "There's plenty more Python to learn!"
   ]
  }
 ],
 "metadata": {
  "celltoolbar": "Tags",
  "kernelspec": {
   "display_name": "geocomp",
   "language": "python",
   "name": "geocomp"
  },
  "language_info": {
   "codemirror_mode": {
    "name": "ipython",
    "version": 3
   },
   "file_extension": ".py",
   "mimetype": "text/x-python",
   "name": "python",
   "nbconvert_exporter": "python",
   "pygments_lexer": "ipython3",
   "version": "3.9.7"
  }
 },
 "nbformat": 4,
 "nbformat_minor": 5
}
