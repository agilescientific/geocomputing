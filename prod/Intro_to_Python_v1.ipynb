{
 "cells": [
  {
   "cell_type": "markdown",
   "metadata": {},
   "source": [
    "# Intro to Python\n",
    "\n",
    "You've met Python on the command line. Welcome to the Jupyter Notebook... we'll pick up where we left off:"
   ]
  },
  {
   "cell_type": "markdown",
   "metadata": {
    "tags": [
     "exercise"
    ]
   },
   "source": [
    "### Exercise\n",
    "\n",
    "1. Evaluate $x^2 + 3x - 7$ when $x = 5$. (You should get 33.)\n",
    "1. What is the log<sub>10</sub> of 7e7? (Use the `math` library, or `numpy` if you prefer.)\n",
    "1. What is the $\\tan$ of $\\pi / 4$ radians?\n",
    "1. What is $\\sin^2(45^\\circ)$?"
   ]
  },
  {
   "cell_type": "code",
   "execution_count": null,
   "metadata": {
    "scrolled": true
   },
   "outputs": [],
   "source": [
    "# Part 1 – Mathematical operators.\n"
   ]
  },
  {
   "cell_type": "code",
   "execution_count": null,
   "metadata": {
    "scrolled": true
   },
   "outputs": [],
   "source": [
    "# Part 2 – Scientific notion and using a function from the math library.\n"
   ]
  },
  {
   "cell_type": "code",
   "execution_count": null,
   "metadata": {
    "scrolled": true
   },
   "outputs": [],
   "source": [
    "# Part 3 – Trigonometric calculation.\n"
   ]
  },
  {
   "cell_type": "code",
   "execution_count": 9,
   "metadata": {
    "scrolled": true
   },
   "outputs": [],
   "source": [
    "# Part 4 – Trigonometric calculation.\n"
   ]
  },
  {
   "cell_type": "code",
   "execution_count": null,
   "metadata": {
    "scrolled": true,
    "tags": [
     "hide"
    ]
   },
   "outputs": [],
   "source": [
    "x = 5\n",
    "x**2 + 3*x - 7"
   ]
  },
  {
   "cell_type": "code",
   "execution_count": null,
   "metadata": {
    "scrolled": true,
    "tags": [
     "hide"
    ]
   },
   "outputs": [],
   "source": [
    "import math\n",
    "math.log10(7e7)"
   ]
  },
  {
   "cell_type": "code",
   "execution_count": 14,
   "metadata": {
    "scrolled": true,
    "tags": [
     "hide"
    ]
   },
   "outputs": [
    {
     "data": {
      "text/plain": [
       "0.9999999999999999"
      ]
     },
     "execution_count": 14,
     "metadata": {},
     "output_type": "execute_result"
    }
   ],
   "source": [
    "math.tan(math.pi / 4)"
   ]
  },
  {
   "cell_type": "code",
   "execution_count": 15,
   "metadata": {
    "tags": [
     "hide"
    ]
   },
   "outputs": [
    {
     "data": {
      "text/plain": [
       "0.4999999999999999"
      ]
     },
     "execution_count": 15,
     "metadata": {},
     "output_type": "execute_result"
    }
   ],
   "source": [
    "math.sin(math.radians(45))**2"
   ]
  },
  {
   "cell_type": "markdown",
   "metadata": {},
   "source": [
    "## Sneak peek at NumPy"
   ]
  },
  {
   "cell_type": "code",
   "execution_count": 2,
   "metadata": {
    "scrolled": true
   },
   "outputs": [
    {
     "data": {
      "text/plain": [
       "1.9459101490553132"
      ]
     },
     "execution_count": 2,
     "metadata": {},
     "output_type": "execute_result"
    }
   ],
   "source": [
    "import numpy as np\n",
    "\n",
    "np.log(7)"
   ]
  },
  {
   "cell_type": "code",
   "execution_count": 8,
   "metadata": {},
   "outputs": [
    {
     "data": {
      "text/plain": [
       "array([ 0. ,  0.5,  1. ,  1.5,  2. ,  2.5,  3. ,  3.5,  4. ,  4.5,  5. ,\n",
       "        5.5,  6. ,  6.5,  7. ,  7.5,  8. ,  8.5,  9. ,  9.5, 10. , 10.5,\n",
       "       11. , 11.5, 12. , 12.5, 13. , 13.5, 14. , 14.5, 15. , 15.5, 16. ,\n",
       "       16.5, 17. , 17.5, 18. , 18.5, 19. , 19.5, 20. ])"
      ]
     },
     "execution_count": 8,
     "metadata": {},
     "output_type": "execute_result"
    }
   ],
   "source": [
    "x = np.linspace(0, 20, num=41)\n",
    "x"
   ]
  },
  {
   "cell_type": "code",
   "execution_count": 9,
   "metadata": {},
   "outputs": [
    {
     "data": {
      "text/plain": [
       "array([ 0.        ,  0.47942554,  0.84147098,  0.99749499,  0.90929743,\n",
       "        0.59847214,  0.14112001, -0.35078323, -0.7568025 , -0.97753012,\n",
       "       -0.95892427, -0.70554033, -0.2794155 ,  0.21511999,  0.6569866 ,\n",
       "        0.93799998,  0.98935825,  0.79848711,  0.41211849, -0.07515112,\n",
       "       -0.54402111, -0.87969576, -0.99999021, -0.87545217, -0.53657292,\n",
       "       -0.0663219 ,  0.42016704,  0.80378443,  0.99060736,  0.93489506,\n",
       "        0.65028784,  0.20646748, -0.28790332, -0.71178534, -0.96139749,\n",
       "       -0.97562601, -0.75098725, -0.34248062,  0.14987721,  0.60553987,\n",
       "        0.91294525])"
      ]
     },
     "execution_count": 9,
     "metadata": {},
     "output_type": "execute_result"
    }
   ],
   "source": [
    "np.sin(x)"
   ]
  },
  {
   "cell_type": "code",
   "execution_count": 10,
   "metadata": {},
   "outputs": [
    {
     "data": {
      "text/plain": [
       "array([ 0.        ,  0.47942554,  0.84147098,  0.99749499,  0.90929743,\n",
       "        0.59847214,  0.14112001, -0.35078323, -0.7568025 , -0.97753012,\n",
       "       -0.95892427, -0.70554033, -0.2794155 ,  0.21511999,  0.6569866 ,\n",
       "        0.93799998,  0.98935825,  0.79848711,  0.41211849, -0.07515112,\n",
       "       -0.54402111, -0.87969576, -0.99999021, -0.87545217, -0.53657292,\n",
       "       -0.0663219 ,  0.42016704,  0.80378443,  0.99060736,  0.93489506,\n",
       "        0.65028784,  0.20646748, -0.28790332, -0.71178534, -0.96139749,\n",
       "       -0.97562601, -0.75098725, -0.34248062,  0.14987721,  0.60553987,\n",
       "        0.91294525])"
      ]
     },
     "execution_count": 10,
     "metadata": {},
     "output_type": "execute_result"
    }
   ],
   "source": [
    "y = np.sin(x)\n",
    "y"
   ]
  },
  {
   "cell_type": "code",
   "execution_count": 11,
   "metadata": {},
   "outputs": [
    {
     "data": {
      "text/plain": [
       "[<matplotlib.lines.Line2D at 0x7f438257a8b0>]"
      ]
     },
     "execution_count": 11,
     "metadata": {},
     "output_type": "execute_result"
    },
    {
     "data": {
      "image/png": "[encoded data removed]",
      "text/plain": [
       "<Figure size 432x288 with 1 Axes>"
      ]
     },
     "metadata": {
      "needs_background": "light"
     },
     "output_type": "display_data"
    }
   ],
   "source": [
    "import matplotlib.pyplot as plt\n",
    "\n",
    "plt.plot(x, y)"
   ]
  },
  {
   "cell_type": "code",
   "execution_count": 3,
   "metadata": {
    "scrolled": true
   },
   "outputs": [
    {
     "data": {
      "text/plain": [
       "array([[ 904.,  917.,  927., ..., 1107., 1100., 1096.],\n",
       "       [ 895.,  913.,  922., ..., 1104., 1095., 1089.],\n",
       "       [ 899.,  914.,  923., ..., 1110., 1101., 1095.],\n",
       "       ...,\n",
       "       [ 964.,  967.,  981., ...,  940.,  942.,  948.],\n",
       "       [ 962.,  964.,  978., ...,  953.,  951.,  958.],\n",
       "       [ 959.,  966.,  977., ...,  961.,  962.,  966.]])"
      ]
     },
     "execution_count": 3,
     "metadata": {},
     "output_type": "execute_result"
    }
   ],
   "source": [
    "before = np.load('../data/st-helens_before.npy')\n",
    "\n",
    "before"
   ]
  },
  {
   "cell_type": "code",
   "execution_count": 13,
   "metadata": {},
   "outputs": [
    {
     "data": {
      "text/plain": [
       "(448, 307)"
      ]
     },
     "execution_count": 13,
     "metadata": {},
     "output_type": "execute_result"
    }
   ],
   "source": [
    "before.shape"
   ]
  },
  {
   "cell_type": "code",
   "execution_count": 14,
   "metadata": {
    "scrolled": true
   },
   "outputs": [
    {
     "data": {
      "text/plain": [
       "<matplotlib.image.AxesImage at 0x7f437a468df0>"
      ]
     },
     "execution_count": 14,
     "metadata": {},
     "output_type": "execute_result"
    },
    {
     "data": {
      "image/png": "[encoded data removed]",
      "text/plain": [
       "<Figure size 432x288 with 1 Axes>"
      ]
     },
     "metadata": {
      "needs_background": "light"
     },
     "output_type": "display_data"
    }
   ],
   "source": [
    "plt.imshow(before)"
   ]
  },
  {
   "cell_type": "markdown",
   "metadata": {},
   "source": [
    "## Strings\n",
    "\n",
    "Strings are containers for text data in Python.\n",
    "\n",
    "There are two big things about strings:\n",
    "\n",
    "- Strings as sequences of characters\n",
    "  - `len`, `in`\n",
    "  - Concatenation and multiplication (leads to `str()` and type casting)\n",
    "  - Indexing, slicing\n",
    "- String methods (objects, methods, functions)\n",
    "  - `upper`, `isupper`, `startswith`, `find`, `replace`\n",
    " \n",
    "We'll also look at:\n",
    "\n",
    "- Print, `\\n` and escapes\n",
    "- f-strings and `str.format()`"
   ]
  },
  {
   "cell_type": "code",
   "execution_count": null,
   "metadata": {},
   "outputs": [],
   "source": []
  },
  {
   "cell_type": "code",
   "execution_count": null,
   "metadata": {},
   "outputs": [],
   "source": []
  },
  {
   "cell_type": "code",
   "execution_count": null,
   "metadata": {},
   "outputs": [],
   "source": []
  },
  {
   "cell_type": "code",
   "execution_count": null,
   "metadata": {
    "scrolled": true,
    "tags": [
     "hide"
    ]
   },
   "outputs": [],
   "source": [
    "s = \"Sandstone\\t2500 m/s\""
   ]
  },
  {
   "cell_type": "code",
   "execution_count": null,
   "metadata": {
    "scrolled": true,
    "tags": [
     "hide"
    ]
   },
   "outputs": [],
   "source": [
    "# Strings as sequences\n",
    "len(s)\n",
    "'d' in s"
   ]
  },
  {
   "cell_type": "code",
   "execution_count": null,
   "metadata": {
    "scrolled": true,
    "tags": [
     "hide"
    ]
   },
   "outputs": [],
   "source": [
    "# Indexing and slicing\n",
    "# s[start:stop:stride]\n",
    "s[3]\n",
    "s[0]\n",
    "s[-1]\n",
    "s[::-2]"
   ]
  },
  {
   "cell_type": "code",
   "execution_count": 5,
   "metadata": {
    "tags": [
     "hide"
    ]
   },
   "outputs": [
    {
     "ename": "NameError",
     "evalue": "name 's' is not defined",
     "output_type": "error",
     "traceback": [
      "\u001b[0;31m---------------------------------------------------------------------------\u001b[0m",
      "\u001b[0;31mNameError\u001b[0m                                 Traceback (most recent call last)",
      "\u001b[0;32m<ipython-input-5-4dfd6ad4ce40>\u001b[0m in \u001b[0;36m<module>\u001b[0;34m\u001b[0m\n\u001b[1;32m      1\u001b[0m \u001b[0;31m# Methods.\u001b[0m\u001b[0;34m\u001b[0m\u001b[0;34m\u001b[0m\u001b[0;34m\u001b[0m\u001b[0m\n\u001b[0;32m----> 2\u001b[0;31m \u001b[0ms\u001b[0m\u001b[0;34m.\u001b[0m\u001b[0mlower\u001b[0m\u001b[0;34m(\u001b[0m\u001b[0;34m)\u001b[0m\u001b[0;34m\u001b[0m\u001b[0;34m\u001b[0m\u001b[0m\n\u001b[0m",
      "\u001b[0;31mNameError\u001b[0m: name 's' is not defined"
     ]
    }
   ],
   "source": [
    "# Methods as functions.\n",
    "s.lower()\n",
    "\n",
    "# Returns a copy! s is unchanged."
   ]
  },
  {
   "cell_type": "code",
   "execution_count": null,
   "metadata": {
    "scrolled": true,
    "tags": [
     "hide"
    ]
   },
   "outputs": [],
   "source": [
    "# What happens if we try to add strings together?\n",
    "'The porosity of ' + s + 'is :' + 0.28"
   ]
  },
  {
   "cell_type": "code",
   "execution_count": null,
   "metadata": {
    "scrolled": true,
    "tags": [
     "hide"
    ]
   },
   "outputs": [],
   "source": [
    "porosity = 0.28\n",
    "str(porosity)"
   ]
  },
  {
   "cell_type": "code",
   "execution_count": null,
   "metadata": {
    "scrolled": true,
    "tags": [
     "hide"
    ]
   },
   "outputs": [],
   "source": [
    "'The porosity of ' + s + 'is :' + str(porosity * 100) + '%'"
   ]
  },
  {
   "cell_type": "code",
   "execution_count": null,
   "metadata": {
    "scrolled": true,
    "tags": [
     "hide"
    ]
   },
   "outputs": [],
   "source": [
    "# Do the same thing with an f-string\n",
    "f'The porosity of {s} is : {porosity * 100}%'"
   ]
  },
  {
   "cell_type": "code",
   "execution_count": null,
   "metadata": {
    "scrolled": true,
    "tags": [
     "hide"
    ]
   },
   "outputs": [],
   "source": [
    "# formatting strings 2 ways.\n",
    "n = 0.1 + 0.2\n",
    "\n",
    "print('n is {:.3f}'.format(n:.3f))\n",
    "\n",
    "print(f'n is {n:.2f}')"
   ]
  },
  {
   "cell_type": "code",
   "execution_count": null,
   "metadata": {
    "scrolled": true,
    "tags": [
     "hide"
    ]
   },
   "outputs": [],
   "source": [
    "type(s)"
   ]
  },
  {
   "cell_type": "code",
   "execution_count": null,
   "metadata": {
    "scrolled": true,
    "tags": [
     "hide"
    ]
   },
   "outputs": [],
   "source": [
    "a = 'Sandstone is a type of stone.'\n",
    "a.find('stone')"
   ]
  },
  {
   "cell_type": "code",
   "execution_count": null,
   "metadata": {
    "scrolled": true,
    "tags": [
     "hide"
    ]
   },
   "outputs": [],
   "source": [
    "a = '123,456 m'\n",
    "print(a.replace(',', '\\t'))"
   ]
  },
  {
   "cell_type": "code",
   "execution_count": null,
   "metadata": {
    "scrolled": true,
    "tags": [
     "hide"
    ]
   },
   "outputs": [],
   "source": [
    "s.replace('sand', 'silt').title()"
   ]
  },
  {
   "cell_type": "code",
   "execution_count": null,
   "metadata": {
    "scrolled": true,
    "tags": [
     "hide"
    ]
   },
   "outputs": [],
   "source": [
    "# A note about escape characters and unicode\n",
    "print(u'It\\'s time for \\U0001F355')"
   ]
  },
  {
   "cell_type": "markdown",
   "metadata": {
    "tags": [
     "exercise"
    ]
   },
   "source": [
    "### Exercise\n",
    "\n",
    "- What types are:\n",
    "    - `'Jurassic'`\n",
    "    - `5`\n",
    "    - `3.1416`\n",
    "    - `s`\n",
    "    - `math`\n",
    "    - `math.log`\n",
    "    - `str`\n",
    "- Use the `math` module and an f-string to print $\\mathrm{e}$ (the base of the natural logarithm) to 3 decimal places. \n",
    "- Change `'JURASSIC*PERIOD\\n'` to lower case.\n",
    "- Change the `'*'` to a space, change everything to title case, and remove the new line.\n",
    "- For a bonus point, make sure your expression also works for `'CARBONIFEROUS*PERIOD\\n'`\n",
    "- For another bonus point, do this all in a single expression."
   ]
  },
  {
   "cell_type": "code",
   "execution_count": null,
   "metadata": {
    "scrolled": true
   },
   "outputs": [],
   "source": [
    "# What types are: 'Jurassic', 5, 3.14, s, math, math.log, and str ?\n"
   ]
  },
  {
   "cell_type": "code",
   "execution_count": null,
   "metadata": {
    "scrolled": true
   },
   "outputs": [],
   "source": [
    "# Print e in an f-string with 3 decimal places.\n"
   ]
  },
  {
   "cell_type": "code",
   "execution_count": null,
   "metadata": {
    "scrolled": true
   },
   "outputs": [],
   "source": [
    "# Change the following string to lower case.\n",
    "s = 'JURASSIC*PERIOD\\n'\n"
   ]
  },
  {
   "cell_type": "code",
   "execution_count": null,
   "metadata": {
    "scrolled": true
   },
   "outputs": [],
   "source": [
    "# Change the '*' to a space, change everything to title case, and remove the new line character.\n"
   ]
  },
  {
   "cell_type": "code",
   "execution_count": null,
   "metadata": {
    "scrolled": true
   },
   "outputs": [],
   "source": [
    "# Make sure the expression above also works for 'CARBONIFEROUS*PERIOD\\n'.\n",
    "s2 = 'CARBONIFEROUS*PERIOD\\n'\n"
   ]
  },
  {
   "cell_type": "code",
   "execution_count": null,
   "metadata": {
    "scrolled": true
   },
   "outputs": [],
   "source": [
    "# Bonus point: do this all in a single expression (one line).\n"
   ]
  },
  {
   "cell_type": "markdown",
   "metadata": {},
   "source": [
    "## Another sneak peek at NumPy"
   ]
  },
  {
   "cell_type": "markdown",
   "metadata": {},
   "source": [
    "Indexing works the same way on NumPY's arrays:"
   ]
  },
  {
   "cell_type": "code",
   "execution_count": null,
   "metadata": {},
   "outputs": [],
   "source": [
    "before[0]"
   ]
  },
  {
   "cell_type": "markdown",
   "metadata": {},
   "source": [
    "To get a column of data, we need to index into the second dimension of the array:"
   ]
  },
  {
   "cell_type": "code",
   "execution_count": null,
   "metadata": {},
   "outputs": [],
   "source": [
    "before[:, 0]"
   ]
  },
  {
   "cell_type": "markdown",
   "metadata": {},
   "source": [
    "These row and column arrays are 1-dimensional:"
   ]
  },
  {
   "cell_type": "code",
   "execution_count": 39,
   "metadata": {},
   "outputs": [
    {
     "data": {
      "text/plain": [
       "[<matplotlib.lines.Line2D at 0x7f1a596b42b0>]"
      ]
     },
     "execution_count": 39,
     "metadata": {},
     "output_type": "execute_result"
    },
    {
     "data": {
      "image/png": "[encoded data removed]",
      "text/plain": [
       "<Figure size 432x288 with 1 Axes>"
      ]
     },
     "metadata": {
      "needs_background": "light"
     },
     "output_type": "display_data"
    }
   ],
   "source": [
    "plt.plot(before[150])"
   ]
  },
  {
   "cell_type": "markdown",
   "metadata": {},
   "source": [
    "Some functions are avilable as functions and methods:"
   ]
  },
  {
   "cell_type": "code",
   "execution_count": null,
   "metadata": {
    "scrolled": true
   },
   "outputs": [],
   "source": [
    "np.max(before)"
   ]
  },
  {
   "cell_type": "code",
   "execution_count": null,
   "metadata": {
    "scrolled": true
   },
   "outputs": [],
   "source": [
    "before.max()"
   ]
  },
  {
   "cell_type": "code",
   "execution_count": null,
   "metadata": {},
   "outputs": [],
   "source": [
    "np.sqrt(before)  # Not available as a method."
   ]
  },
  {
   "cell_type": "markdown",
   "metadata": {},
   "source": [
    "## `if ... else`\n",
    "\n",
    "- White space in Python\n",
    "- Basic pattern\n",
    "- `elif` for mutually exclusive options, e.g. when parsing a file, or comparing a number to various ranges.\n",
    "- One-liner: `lithology = \"sand\" if GR < 50 else \"shale\"`"
   ]
  },
  {
   "cell_type": "code",
   "execution_count": 6,
   "metadata": {
    "scrolled": true
   },
   "outputs": [
    {
     "data": {
      "text/plain": [
       "True"
      ]
     },
     "execution_count": 6,
     "metadata": {},
     "output_type": "execute_result"
    }
   ],
   "source": [
    "string = 'UWI 6/09239/45-0001'\n",
    "\n",
    "'/' in string"
   ]
  },
  {
   "cell_type": "code",
   "execution_count": 7,
   "metadata": {
    "scrolled": true,
    "tags": [
     "hide"
    ]
   },
   "outputs": [
    {
     "name": "stdout",
     "output_type": "stream",
     "text": [
      "Valid\n"
     ]
    }
   ],
   "source": [
    "string = 'UWI 6/09239/45-0001'\n",
    "\n",
    "if '/' in string:\n",
    "    print('Valid')"
   ]
  },
  {
   "cell_type": "code",
   "execution_count": null,
   "metadata": {
    "scrolled": true
   },
   "outputs": [],
   "source": []
  },
  {
   "cell_type": "code",
   "execution_count": null,
   "metadata": {
    "scrolled": true,
    "tags": [
     "hide"
    ]
   },
   "outputs": [],
   "source": [
    "# Build up example\n",
    "if string.startswith('UWI') and ('/' in string):\n",
    "    print('Valid')\n",
    "else:\n",
    "    print('Not valid')\n",
    "print('Done')"
   ]
  },
  {
   "cell_type": "code",
   "execution_count": null,
   "metadata": {
    "scrolled": true
   },
   "outputs": [],
   "source": []
  },
  {
   "cell_type": "code",
   "execution_count": null,
   "metadata": {
    "scrolled": true,
    "tags": [
     "hide"
    ]
   },
   "outputs": [],
   "source": [
    "# Build this up, don't just type it all out.\n",
    "string = '2340 m'  # or 12300 ft\n",
    "\n",
    "if 'm' in string:\n",
    "    units = 'M'\n",
    "elif 'f' in string:\n",
    "    units = 'FT'\n",
    "else:\n",
    "    units = None\n",
    "    \n",
    "print(units)"
   ]
  },
  {
   "cell_type": "markdown",
   "metadata": {},
   "source": [
    "This diagram might help make sense of `if` (then again it might not!). In particular, it shows how the different branches `if` and `else`, or the different branches of `if`, `elif`, and `else`, are *mutually exclusive*. There is no scenario where more than one 'branch' runs.\n",
    "\n",
    "<img src=\"../images/python_if_elif_else.png\">"
   ]
  },
  {
   "cell_type": "markdown",
   "metadata": {},
   "source": [
    "### How do Boolean operators work on NumPy arrays?\n",
    "\n",
    "Boolean operators are often used in `if` statements. They work as expected on numbers..."
   ]
  },
  {
   "cell_type": "code",
   "execution_count": 52,
   "metadata": {},
   "outputs": [
    {
     "data": {
      "text/plain": [
       "True"
      ]
     },
     "execution_count": 52,
     "metadata": {},
     "output_type": "execute_result"
    }
   ],
   "source": [
    "a = 3.14\n",
    "\n",
    "a < 10"
   ]
  },
  {
   "cell_type": "markdown",
   "metadata": {},
   "source": [
    "See if you can figure out how they work on strings :)\n",
    "\n",
    "They work differently on NumPy arrays:"
   ]
  },
  {
   "cell_type": "code",
   "execution_count": 41,
   "metadata": {},
   "outputs": [
    {
     "data": {
      "text/plain": [
       "array([[False, False, False, ..., False, False, False],\n",
       "       [False, False, False, ..., False, False, False],\n",
       "       [False, False, False, ..., False, False, False],\n",
       "       ...,\n",
       "       [False, False, False, ..., False, False, False],\n",
       "       [False, False, False, ..., False, False, False],\n",
       "       [False, False, False, ..., False, False, False]])"
      ]
     },
     "execution_count": 41,
     "metadata": {},
     "output_type": "execute_result"
    }
   ],
   "source": [
    "before > 2000"
   ]
  },
  {
   "cell_type": "code",
   "execution_count": 42,
   "metadata": {},
   "outputs": [
    {
     "data": {
      "text/plain": [
       "<matplotlib.image.AxesImage at 0x7f1a5968d2e0>"
      ]
     },
     "execution_count": 42,
     "metadata": {},
     "output_type": "execute_result"
    },
    {
     "data": {
      "image/png": "[encoded data removed]",
      "text/plain": [
       "<Figure size 432x288 with 1 Axes>"
      ]
     },
     "metadata": {
      "needs_background": "light"
     },
     "output_type": "display_data"
    }
   ],
   "source": [
    "plt.imshow(before > 2000)"
   ]
  },
  {
   "cell_type": "markdown",
   "metadata": {},
   "source": [
    "What proportion of the dataset is over 2000 m?"
   ]
  },
  {
   "cell_type": "code",
   "execution_count": 51,
   "metadata": {},
   "outputs": [
    {
     "data": {
      "text/plain": [
       "0.08916211028385296"
      ]
     },
     "execution_count": 51,
     "metadata": {},
     "output_type": "execute_result"
    }
   ],
   "source": [
    "before[before > 2000].size / before.size"
   ]
  },
  {
   "cell_type": "markdown",
   "metadata": {},
   "source": [
    "## Lists\n",
    "\n",
    "- Split `'Triassic Jurassic Cretaceous'`\n",
    "- \"Just another sequence\"\n",
    "- Numbers in a list, plot them\n",
    "- Making a list, syntax: parentheses, brackets\n",
    "- Heterogeneous lists, nested lists\n",
    "- Indexing and slicing (brackets when slicing)\n",
    "- `append`, `index`, `pop`\n",
    "- Mutability, compared to strings, `append`\n",
    "- Mutability gotcha"
   ]
  },
  {
   "cell_type": "code",
   "execution_count": null,
   "metadata": {},
   "outputs": [],
   "source": [
    "'Triassic Jurassic Cretaceous'.split()"
   ]
  },
  {
   "cell_type": "code",
   "execution_count": null,
   "metadata": {},
   "outputs": [],
   "source": []
  },
  {
   "cell_type": "code",
   "execution_count": null,
   "metadata": {},
   "outputs": [],
   "source": []
  },
  {
   "cell_type": "code",
   "execution_count": null,
   "metadata": {
    "scrolled": true,
    "tags": [
     "hide"
    ]
   },
   "outputs": [],
   "source": [
    "periods = 'Triassic Jurassic Cretaceous'\n",
    "list_of_periods = periods.split()"
   ]
  },
  {
   "cell_type": "code",
   "execution_count": null,
   "metadata": {
    "scrolled": true,
    "tags": [
     "hide"
    ]
   },
   "outputs": [],
   "source": [
    "# Numbers in a list, plot them.\n",
    "vp = [2350, 2400, 2630, 2650, 2700, 2660]\n"
   ]
  },
  {
   "cell_type": "code",
   "execution_count": null,
   "metadata": {
    "tags": [
     "hide"
    ]
   },
   "outputs": [],
   "source": [
    "plt.plot(vp)"
   ]
  },
  {
   "cell_type": "code",
   "execution_count": null,
   "metadata": {
    "scrolled": true,
    "tags": [
     "hide"
    ]
   },
   "outputs": [],
   "source": [
    "# Making a list with [].\n"
   ]
  },
  {
   "cell_type": "code",
   "execution_count": null,
   "metadata": {
    "scrolled": true,
    "tags": [
     "hide"
    ]
   },
   "outputs": [],
   "source": [
    "# Heterogeneous lists and nested lists.\n",
    "complex_list = [0, 1, 2.5, math.pi, list_of_periods, 'STRINGS', [100,200,300]]"
   ]
  },
  {
   "cell_type": "code",
   "execution_count": null,
   "metadata": {
    "scrolled": true,
    "tags": [
     "hide"
    ]
   },
   "outputs": [],
   "source": [
    "# Indexing and slicing (square brackets when slicing).\n"
   ]
  },
  {
   "cell_type": "code",
   "execution_count": null,
   "metadata": {
    "scrolled": true,
    "tags": [
     "hide"
    ]
   },
   "outputs": [],
   "source": [
    "# List methods: append, index, pop.\n"
   ]
  },
  {
   "cell_type": "code",
   "execution_count": null,
   "metadata": {
    "scrolled": true,
    "tags": [
     "hide"
    ]
   },
   "outputs": [],
   "source": [
    "# Mutability compared to strings, `append`.\n",
    "s[5] = 'S'\n",
    "# compared to \n",
    "s.replace('s','S')\n",
    "#"
   ]
  },
  {
   "cell_type": "code",
   "execution_count": null,
   "metadata": {
    "scrolled": true,
    "tags": [
     "hide"
    ]
   },
   "outputs": [],
   "source": [
    "# Deep copy.\n",
    "# Don't get into this unless it comes up.\n",
    "\n",
    "a = [1, 2, 3, 4, 5]\n",
    "b = [100, 200, 300, a]\n",
    "c = b.copy()\n",
    "c[-1][0] = 1000\n",
    "print(a)  # Got mutated.\n",
    "\n",
    "from copy import deepcopy\n",
    "x = [1, 2, 3, 4, 5]\n",
    "y = [100, 200, 300, x]\n",
    "d = deepcopy(y)\n",
    "d[-1][0] = 1000\n",
    "print(x)  # Deep copy is not mutated."
   ]
  },
  {
   "cell_type": "markdown",
   "metadata": {},
   "source": [
    "## Tuples\n",
    "\n",
    "We won't dwell on tuples, but you should know what they are."
   ]
  },
  {
   "cell_type": "code",
   "execution_count": null,
   "metadata": {},
   "outputs": [],
   "source": []
  },
  {
   "cell_type": "markdown",
   "metadata": {},
   "source": [
    "## Sets\n",
    "\n",
    "Same story... we'll be brief!"
   ]
  },
  {
   "cell_type": "code",
   "execution_count": null,
   "metadata": {},
   "outputs": [],
   "source": []
  },
  {
   "cell_type": "markdown",
   "metadata": {
    "tags": [
     "exercise"
    ]
   },
   "source": [
    "### Exercise\n",
    "\n",
    "- Split this string into a list called `lithologies`: `'Sandstone, Shale, Limestone, Dolomite, Basalt, Granite'`.\n",
    "- Use `sorted()` to sort the list. Can you sort it backwards? \n",
    "- Copy the list to a new name, `rocks`.\n",
    "- Add the following rocks to the new list: `'Gypsum'`, `'Halite'` (and make sure they're not in the old one).\n",
    "- Change the second element to `'Mudstone'`."
   ]
  },
  {
   "cell_type": "code",
   "execution_count": null,
   "metadata": {
    "scrolled": true
   },
   "outputs": [],
   "source": [
    "# Split this string into a list called 'lithologies'\n",
    "str_with_rocks = 'Sandstone, Shale, Limestone, Dolomite, Basalt, Granite'\n"
   ]
  },
  {
   "cell_type": "code",
   "execution_count": null,
   "metadata": {
    "scrolled": true
   },
   "outputs": [],
   "source": [
    "# Use sorted() to sort this list. Can you sort it backwards?\n"
   ]
  },
  {
   "cell_type": "code",
   "execution_count": null,
   "metadata": {
    "scrolled": true
   },
   "outputs": [],
   "source": [
    "# Copy the list to a new name called `rocks`\n"
   ]
  },
  {
   "cell_type": "code",
   "execution_count": null,
   "metadata": {
    "scrolled": true
   },
   "outputs": [],
   "source": [
    "# Add the following rocks to this new list: 'Gypsum', 'Halite'\n",
    "# Also make sure they are not in the old one\n",
    "\n"
   ]
  },
  {
   "cell_type": "code",
   "execution_count": null,
   "metadata": {
    "scrolled": true
   },
   "outputs": [],
   "source": [
    "# Change the second element in `rocks` to 'Mudstone'\n"
   ]
  },
  {
   "cell_type": "markdown",
   "metadata": {},
   "source": [
    "## More NumPy"
   ]
  },
  {
   "cell_type": "code",
   "execution_count": null,
   "metadata": {
    "scrolled": true
   },
   "outputs": [],
   "source": [
    "before"
   ]
  },
  {
   "cell_type": "markdown",
   "metadata": {},
   "source": [
    "Slicing into arrays:"
   ]
  },
  {
   "cell_type": "code",
   "execution_count": null,
   "metadata": {
    "scrolled": true
   },
   "outputs": [],
   "source": []
  },
  {
   "cell_type": "markdown",
   "metadata": {},
   "source": [
    "Math with a list, compared to arrays:"
   ]
  },
  {
   "cell_type": "code",
   "execution_count": null,
   "metadata": {
    "scrolled": true
   },
   "outputs": [],
   "source": []
  },
  {
   "cell_type": "code",
   "execution_count": null,
   "metadata": {
    "scrolled": true
   },
   "outputs": [],
   "source": []
  },
  {
   "cell_type": "code",
   "execution_count": null,
   "metadata": {
    "scrolled": true
   },
   "outputs": [],
   "source": [
    "after = np.load('../data/st-helens_after.npy')"
   ]
  },
  {
   "cell_type": "code",
   "execution_count": null,
   "metadata": {
    "scrolled": true
   },
   "outputs": [],
   "source": []
  },
  {
   "cell_type": "markdown",
   "metadata": {},
   "source": [
    "## `for ... in ...` (for each)\n",
    "\n",
    "- Basic pattern on a list\n",
    "- Basic pattern on a string\n",
    "- Print 'sand' or 'shale' for porosities `[0.03, 0.01, 0.19, 0.12, 0.21, 0.05, 17.5, 3.0]`\n",
    "- If we've covered `dict`, then mention stepping over `dict.items()`\n",
    "- List comprehension &mdash; with strings\n",
    "- `continue` and `break`"
   ]
  },
  {
   "cell_type": "code",
   "execution_count": null,
   "metadata": {
    "scrolled": true
   },
   "outputs": [],
   "source": [
    "# Recall we have our list of rocks from before:\n",
    "rocks"
   ]
  },
  {
   "cell_type": "code",
   "execution_count": null,
   "metadata": {},
   "outputs": [],
   "source": []
  },
  {
   "cell_type": "code",
   "execution_count": null,
   "metadata": {
    "scrolled": true,
    "tags": [
     "hide"
    ]
   },
   "outputs": [],
   "source": [
    "for rock in rocks:\n",
    "    print(rock.upper())"
   ]
  },
  {
   "cell_type": "code",
   "execution_count": null,
   "metadata": {
    "scrolled": true,
    "tags": [
     "hide"
    ]
   },
   "outputs": [],
   "source": [
    "[rock.upper() for rock in rocks]"
   ]
  },
  {
   "cell_type": "code",
   "execution_count": null,
   "metadata": {
    "scrolled": true
   },
   "outputs": [],
   "source": [
    "porosities = [0.03, 0.01, 0.19, 0.12, 0.21, 0.05, 17.5, 3.0]"
   ]
  },
  {
   "cell_type": "code",
   "execution_count": null,
   "metadata": {
    "scrolled": true
   },
   "outputs": [],
   "source": []
  },
  {
   "cell_type": "code",
   "execution_count": null,
   "metadata": {
    "scrolled": true,
    "tags": [
     "hide"
    ]
   },
   "outputs": [],
   "source": [
    "# Build this up from scratch.\n",
    "regular = []\n",
    "for porosity in porosities:\n",
    "    \n",
    "    if porosity > 1:\n",
    "        porosity /= 100\n",
    "    print(regular)\n",
    "\n",
    "    regular.append(porosity)\n",
    "    \n",
    "regular"
   ]
  },
  {
   "cell_type": "code",
   "execution_count": null,
   "metadata": {
    "scrolled": true,
    "tags": [
     "hide"
    ]
   },
   "outputs": [],
   "source": [
    "# for-else\n",
    "# Don't get into this unless it comes up.\n",
    "\n",
    "for n in [0, 1, 2, 3, 4, 5, 6]:\n",
    "    if n == 5:\n",
    "        break\n",
    "    elif n > 2:\n",
    "        print(n)\n",
    "    else:\n",
    "        continue\n",
    "else:\n",
    "    print('Loop finished normally')\n",
    "    \n",
    "# Note if we break the loop (in the if), we could\n",
    "# do 'something special' before breaking.\n",
    "# But you can't do something special when *not*\n",
    "# breaking... except with the else."
   ]
  },
  {
   "cell_type": "markdown",
   "metadata": {
    "tags": [
     "exercise"
    ]
   },
   "source": [
    "### Exercise\n",
    "\n",
    "Rearrange the following lines to loop over a list of files and gather the second part of the file names &mdash; the months &mdash; into a new list, then print the new list.\n",
    "\n",
    "When the code runs, it should produce:\n",
    "\n",
    "    ['Jan', 'Mar', 'Jun', 'Jun']\n"
   ]
  },
  {
   "cell_type": "code",
   "execution_count": null,
   "metadata": {
    "scrolled": true
   },
   "outputs": [],
   "source": [
    "print(months)\n",
    "files = ['MH_Jan-18.png', 'MH_Mar-18.png', 'MH_Jun-18.png', 'MH_Jun-17.png']\n",
    "months.append(month)\n",
    "month = file.split('_')[1].split('-')[0]\n",
    "for file in files:\n",
    "months = []"
   ]
  },
  {
   "cell_type": "code",
   "execution_count": null,
   "metadata": {
    "scrolled": true
   },
   "outputs": [],
   "source": []
  },
  {
   "cell_type": "code",
   "execution_count": null,
   "metadata": {
    "scrolled": true,
    "tags": [
     "hide"
    ]
   },
   "outputs": [],
   "source": [
    "files = ['MH_Jan-18.png', 'MH_Mar-18.png', 'MH_Jun-18.png', 'MH_Jun-17.png']\n",
    "months = []\n",
    "for file in files:\n",
    "    month = file.split('_')[1].split('-')[0]\n",
    "    months.append(month)\n",
    "print(months)"
   ]
  },
  {
   "cell_type": "markdown",
   "metadata": {
    "tags": [
     "exercise"
    ]
   },
   "source": [
    "### Exercise\n",
    "\n",
    "- Make a loop to print the squares of the numbers up to 10. Start with `for n in range(1, 11):`\n",
    "- Modify your loop to capture the squares in a new list, instead of printing them.\n",
    "- For a bonus point, do this with a list comprehension instead.\n",
    "- Add an `if` to only collect the squares of even numbers (to the `for` loop version; it's a bit harder with the list comprehension).\n",
    "- Loop over the following list and make a new list of 1000 times each value. However, if the value is -999.25, skip it:\n",
    "    - `[2.3, 2.4, 2.8, -999.25, 2.1, -999.25, 2.5, 2.5]`"
   ]
  },
  {
   "cell_type": "code",
   "execution_count": null,
   "metadata": {
    "scrolled": true,
    "tags": [
     "hide"
    ]
   },
   "outputs": [],
   "source": [
    "squares = []\n",
    "for n in range(1, 11):\n",
    "    if n % 2 == 0:\n",
    "        squares.append(n**2)\n",
    "squares"
   ]
  },
  {
   "cell_type": "code",
   "execution_count": null,
   "metadata": {
    "scrolled": true,
    "tags": [
     "hide"
    ]
   },
   "outputs": [],
   "source": [
    "[n**2 for n in range(1, 11) if n % 2 == 0]\n",
    "[1000*d for d in data if d != -999.25]"
   ]
  },
  {
   "cell_type": "code",
   "execution_count": null,
   "metadata": {
    "scrolled": true
   },
   "outputs": [],
   "source": []
  },
  {
   "cell_type": "code",
   "execution_count": null,
   "metadata": {
    "scrolled": true
   },
   "outputs": [],
   "source": []
  },
  {
   "cell_type": "code",
   "execution_count": null,
   "metadata": {
    "scrolled": true
   },
   "outputs": [],
   "source": []
  },
  {
   "cell_type": "markdown",
   "metadata": {},
   "source": [
    "Again, this diagram might help... but it might not.\n",
    "\n",
    "<img src=\"../images/python_for.png\">"
   ]
  },
  {
   "cell_type": "markdown",
   "metadata": {},
   "source": [
    "## Dictionaries\n",
    "\n",
    "- Not a sequence, but a database-like mapping of k, v pairs\n",
    "- Forming with `{...}`\n",
    "- Keys and values\n",
    "- Retrieving a value using a key\n",
    "- Adding keys\n",
    "- Deleting keys with `pop`\n",
    "- `in`\n",
    "- `get` (a bit like a database)\n",
    "- `update` with `{k: v}`, or just do `dict[k] = v`"
   ]
  },
  {
   "cell_type": "code",
   "execution_count": null,
   "metadata": {
    "scrolled": true,
    "tags": [
     "hide"
    ]
   },
   "outputs": [],
   "source": [
    "log = {'mnemonic': 'GR',\n",
    "       'mean': 65.0,\n",
    "       'tool': 'NGT' }\n",
    "\n",
    "# Add colour, company, date, data..."
   ]
  },
  {
   "cell_type": "code",
   "execution_count": 53,
   "metadata": {
    "scrolled": true,
    "tags": [
     "hide"
    ]
   },
   "outputs": [],
   "source": [
    "mineral = {'name': 'quartz',\n",
    "           'density': 2.65,\n",
    "           'formula': 'SiO2',}\n",
    "\n",
    "# Add colour, hardness, streak, habit..."
   ]
  },
  {
   "cell_type": "code",
   "execution_count": null,
   "metadata": {
    "scrolled": true
   },
   "outputs": [],
   "source": []
  },
  {
   "cell_type": "code",
   "execution_count": null,
   "metadata": {
    "scrolled": true
   },
   "outputs": [],
   "source": []
  },
  {
   "cell_type": "code",
   "execution_count": null,
   "metadata": {
    "scrolled": true,
    "tags": [
     "hide"
    ]
   },
   "outputs": [],
   "source": [
    "# Dictionary update\n",
    "\n",
    "# This is worded pretty weirdly:\n",
    "mineral.update?\n",
    "\n",
    "# Let's see the various ways you can do it."
   ]
  },
  {
   "cell_type": "code",
   "execution_count": null,
   "metadata": {
    "scrolled": true,
    "tags": [
     "hide"
    ]
   },
   "outputs": [],
   "source": [
    "# Update with iterable of 2-tuples:\n",
    "D = {'name': 'Sandstone', 'density': 2340}\n",
    "E = [('velocity', 2200), ('phi', 0.19)]\n",
    "D.update(E)\n",
    "D"
   ]
  },
  {
   "cell_type": "code",
   "execution_count": null,
   "metadata": {
    "scrolled": true,
    "tags": [
     "hide"
    ]
   },
   "outputs": [],
   "source": [
    "# Update with another dict:\n",
    "D = {'name': 'Sandstone', 'density': 2340}\n",
    "F = {'velocity': 2200, 'phi': 0.19}\n",
    "D.update(F)\n",
    "D"
   ]
  },
  {
   "cell_type": "code",
   "execution_count": null,
   "metadata": {
    "scrolled": true,
    "tags": [
     "hide"
    ]
   },
   "outputs": [],
   "source": [
    "# Update with keyword arguments:\n",
    "D = {'name': 'Sandstone', 'density': 2340}\n",
    "D.update(velocity=2200, phi=0.19)\n",
    "D"
   ]
  },
  {
   "cell_type": "code",
   "execution_count": null,
   "metadata": {
    "scrolled": true,
    "tags": [
     "hide"
    ]
   },
   "outputs": [],
   "source": [
    "# Updating with keywords is the same as dict unpacking F:\n",
    "D = {'name': 'Sandstone', 'density': 2340}\n",
    "D.update(**F)\n",
    "D"
   ]
  },
  {
   "cell_type": "markdown",
   "metadata": {
    "tags": [
     "exercise"
    ]
   },
   "source": [
    "### Exercise\n",
    "\n",
    "Using the dictionary called `periods`, complete the following tasks:\n",
    "\n",
    "- Retrieve the start of the Jurassic.\n",
    "- Use the command in an f-string to print:\n",
    "      'The Jurassic started about 201 Ma ago.'\n",
    "- Add the Permian, starting at 298.9 Ma.\n",
    "- The Quaternary has the wrong age; change it to 2.58 Ma.\n",
    "- The Palaeogene has the wrong spelling; change it.\n",
    "- Get a sorted list of the start ages (note, you don't need to sort the entire dictionary, which is a little tricky; you just need to sort the ages).\n",
    "- Stretch goal: Make a new dictionary with values that also contain the uncertainty in the ages (you can make up the uncertainties).\n",
    "- Stretch goal: Loop over the dictionary, printing the sentence in the second question (above) for each key-value pair. <a title=\"The items() method will be useful.\"><b>HINT</b></a>"
   ]
  },
  {
   "cell_type": "code",
   "execution_count": null,
   "metadata": {
    "scrolled": true
   },
   "outputs": [],
   "source": [
    "periods = {\n",
    "    'Triassic': 251.9,\n",
    "    'Jurassic': 201.3,\n",
    "    'Cretaceous': 145.0,\n",
    "    'Palogene': 66.0,\n",
    "    'Neogene': 23.03,\n",
    "    'Quaternary': 2.18,\n",
    "}"
   ]
  },
  {
   "cell_type": "code",
   "execution_count": null,
   "metadata": {
    "scrolled": true
   },
   "outputs": [],
   "source": [
    "# Retrieve the start of the Jurassic.\n"
   ]
  },
  {
   "cell_type": "code",
   "execution_count": null,
   "metadata": {
    "scrolled": true
   },
   "outputs": [],
   "source": [
    "# Use this in an f-string to print, 'The Jurassic started about 201 Ma ago.'\n"
   ]
  },
  {
   "cell_type": "code",
   "execution_count": null,
   "metadata": {
    "scrolled": true
   },
   "outputs": [],
   "source": [
    "# Add the Permian period to the dictionary, which started at 298.9 Ma\n"
   ]
  },
  {
   "cell_type": "code",
   "execution_count": null,
   "metadata": {
    "scrolled": true
   },
   "outputs": [],
   "source": [
    "# The Quaternary has the wrong age; change it to 2.58 Ma.\n"
   ]
  },
  {
   "cell_type": "code",
   "execution_count": null,
   "metadata": {
    "scrolled": true
   },
   "outputs": [],
   "source": [
    "# The Palaeogene has the wrong spelling; change it.\n"
   ]
  },
  {
   "cell_type": "code",
   "execution_count": null,
   "metadata": {
    "scrolled": true
   },
   "outputs": [],
   "source": [
    "# Get a sorted list of the start ages.\n"
   ]
  },
  {
   "cell_type": "code",
   "execution_count": null,
   "metadata": {
    "scrolled": true
   },
   "outputs": [],
   "source": [
    "# Make a new dictionary with values that also contain an uncertainty in ages\n"
   ]
  },
  {
   "cell_type": "code",
   "execution_count": null,
   "metadata": {
    "scrolled": true
   },
   "outputs": [],
   "source": [
    "# Loop over the dictionary, printing the sentence in the second question (above) for each item\n"
   ]
  },
  {
   "cell_type": "code",
   "execution_count": 2,
   "metadata": {
    "tags": [
     "hide"
    ]
   },
   "outputs": [
    {
     "ename": "NameError",
     "evalue": "name 'periods' is not defined",
     "output_type": "error",
     "traceback": [
      "\u001b[0;31m---------------------------------------------------------------------------\u001b[0m",
      "\u001b[0;31mNameError\u001b[0m                                 Traceback (most recent call last)",
      "\u001b[0;32m<ipython-input-2-46ebfae800e1>\u001b[0m in \u001b[0;36m<module>\u001b[0;34m\u001b[0m\n\u001b[0;32m----> 1\u001b[0;31m \u001b[0mperiods\u001b[0m\u001b[0;34m.\u001b[0m\u001b[0mget\u001b[0m\u001b[0;34m(\u001b[0m\u001b[0;34m'Jurassic'\u001b[0m\u001b[0;34m)\u001b[0m\u001b[0;34m\u001b[0m\u001b[0;34m\u001b[0m\u001b[0m\n\u001b[0m",
      "\u001b[0;31mNameError\u001b[0m: name 'periods' is not defined"
     ]
    }
   ],
   "source": [
    "periods['Jurassic']\n",
    "# Or periods.get('Jurassic')"
   ]
  },
  {
   "cell_type": "code",
   "execution_count": null,
   "metadata": {
    "tags": [
     "hide"
    ]
   },
   "outputs": [],
   "source": [
    "f\"The Jurassic started about {periods.get('Jurassic'):.0f} Ma ago.\""
   ]
  },
  {
   "cell_type": "code",
   "execution_count": null,
   "metadata": {
    "tags": [
     "hide"
    ]
   },
   "outputs": [],
   "source": [
    "periods['Permian'] = 298.9"
   ]
  },
  {
   "cell_type": "code",
   "execution_count": null,
   "metadata": {
    "tags": [
     "hide"
    ]
   },
   "outputs": [],
   "source": [
    "periods['Quaternary'] = 2.58"
   ]
  },
  {
   "cell_type": "code",
   "execution_count": null,
   "metadata": {
    "tags": [
     "hide"
    ]
   },
   "outputs": [],
   "source": [
    "periods['Palaeogene'] = periods.pop['Paleogene']"
   ]
  },
  {
   "cell_type": "code",
   "execution_count": null,
   "metadata": {
    "tags": [
     "hide"
    ]
   },
   "outputs": [],
   "source": [
    "sorted(periods.values())"
   ]
  },
  {
   "cell_type": "code",
   "execution_count": null,
   "metadata": {
    "scrolled": true,
    "tags": [
     "hide"
    ]
   },
   "outputs": [],
   "source": [
    "periods = {\n",
    "    'Triassic': (251.9, 0.24),\n",
    "    'Jurassic': (201.3, 0.9),\n",
    "    'Cretaceous': (145.0, 1),\n",
    "    'Palaeogene': (65, 0.1),\n",
    "    'Neogene': (23.03, 0.3),\n",
    "    'Quaternary': (2.58, 0.001),\n",
    "}"
   ]
  },
  {
   "cell_type": "code",
   "execution_count": null,
   "metadata": {
    "scrolled": true,
    "tags": [
     "hide"
    ]
   },
   "outputs": [],
   "source": [
    "# This dict comprehension builds a dictionary version of the above:\n",
    "{k:{'start': s, 'uncert': u} for k, (s, u) in periods.items()}"
   ]
  },
  {
   "cell_type": "code",
   "execution_count": null,
   "metadata": {
    "scrolled": true,
    "tags": [
     "hide"
    ]
   },
   "outputs": [],
   "source": [
    "# Advanced learners often ask about sorting the whole dictionary on its values.\n",
    "# You can do this in a loop (see below), but here's a quick dict comp that does it.\n",
    "# Warning: it contains three things which beginners definitely do not need to know:\n",
    "# a dict comprehension, lambdas, and `sorted`'s `key` argument, none of which\n",
    "# is a topic for beginners.\n",
    "{k: v for k, v in sorted(periods.items(), key=lambda x: x[1])}"
   ]
  },
  {
   "cell_type": "code",
   "execution_count": null,
   "metadata": {
    "scrolled": true,
    "tags": [
     "hide"
    ]
   },
   "outputs": [],
   "source": [
    "# Here's a loop you can build up from scratch if you really get into it.\n",
    "sorted_dict = {}\n",
    "for age in sorted(periods.values()):\n",
    "    # print(age)\n",
    "    for item in periods.items():\n",
    "        if item[1] == age:\n",
    "            # print(item)\n",
    "            sorted_dict[item[0]] = age\n",
    "            \n",
    "sorted_dict"
   ]
  },
  {
   "cell_type": "markdown",
   "metadata": {
    "tags": [
     "exercise"
    ]
   },
   "source": [
    "### Optional exercise: counting with a dictionary\n",
    "\n",
    "Dictionaries are useful for counting things. Can you loop over the list of strings `strat` and make a dictionary that maps each unique layer type to the count of layers for that type?\n",
    "\n",
    "You should end up with a dictionary that looks similar to:\n",
    "\n",
    "    {'marl': 169,\n",
    "     'sandstone': 178,\n",
    "     'shale': 169,\n",
    "     'dolomite': 168,\n",
    "     'limestone': 145,\n",
    "     'siltstone': 171}"
   ]
  },
  {
   "cell_type": "markdown",
   "metadata": {},
   "source": [
    "To do this, we'll generate some fake data:.\n",
    "\n",
    "We can start with a small number of 'layers', to make sure our code is working. Then we can process any number of layers."
   ]
  },
  {
   "cell_type": "code",
   "execution_count": 3,
   "metadata": {
    "scrolled": true
   },
   "outputs": [
    {
     "data": {
      "text/plain": [
       "['marl',\n",
       " 'sandstone',\n",
       " 'siltstone',\n",
       " 'limestone',\n",
       " 'limestone',\n",
       " 'sandstone',\n",
       " 'siltstone',\n",
       " 'shale',\n",
       " 'limestone',\n",
       " 'marl']"
      ]
     },
     "execution_count": 3,
     "metadata": {},
     "output_type": "execute_result"
    }
   ],
   "source": [
    "import random\n",
    "\n",
    "rocks = ['marl', 'sandstone', 'shale', 'dolomite', 'limestone', 'siltstone']\n",
    "strat = [random.choice(rocks) for _ in range(10)]\n",
    "strat"
   ]
  },
  {
   "cell_type": "code",
   "execution_count": 4,
   "metadata": {
    "scrolled": true
   },
   "outputs": [],
   "source": [
    "# Your code here.\n"
   ]
  },
  {
   "cell_type": "code",
   "execution_count": null,
   "metadata": {
    "scrolled": true,
    "tags": [
     "hide"
    ]
   },
   "outputs": [],
   "source": [
    "counts = {}\n",
    "for layer in strat:\n",
    "    if layer in counts:\n",
    "        counts[layer] += 1\n",
    "    else:\n",
    "        counts[layer] = 1\n",
    "\n",
    "counts"
   ]
  },
  {
   "cell_type": "code",
   "execution_count": null,
   "metadata": {
    "scrolled": true,
    "tags": [
     "hide"
    ]
   },
   "outputs": [],
   "source": [
    "counts = {}\n",
    "for layer in strat:\n",
    "    counts[layer] = counts.get(layer, 0) + 1\n",
    "    \n",
    "counts"
   ]
  },
  {
   "cell_type": "code",
   "execution_count": null,
   "metadata": {
    "scrolled": true,
    "tags": [
     "hide"
    ]
   },
   "outputs": [],
   "source": [
    "# Using collections.defaultdict\n",
    "from collections import defaultdict\n",
    "counts = defaultdict(int)\n",
    "for layer in strat:\n",
    "    counts[layer] += 1\n",
    "    \n",
    "counts"
   ]
  },
  {
   "cell_type": "code",
   "execution_count": null,
   "metadata": {
    "scrolled": true,
    "tags": [
     "hide"
    ]
   },
   "outputs": [],
   "source": [
    "# Using collections.Counter\n",
    "from collections import Counter\n",
    "\n",
    "counts = Counter(strat)\n",
    "\n",
    "counts"
   ]
  },
  {
   "cell_type": "markdown",
   "metadata": {
    "tags": [
     "exercise",
     "hide"
    ]
   },
   "source": [
    "### Exercise: collecting\n",
    "\n",
    "Let's say the layers are 1 m thick. We would like a dictionary that provides the tops of all the reservoir units, sandstone and dolomite, the tops of seals, and the tops of everything else. The result should be a dictionary that looks like this:\n",
    "\n"
   ]
  },
  {
   "cell_type": "code",
   "execution_count": null,
   "metadata": {
    "scrolled": true,
    "tags": [
     "hide"
    ]
   },
   "outputs": [],
   "source": []
  },
  {
   "cell_type": "code",
   "execution_count": null,
   "metadata": {
    "scrolled": true,
    "tags": [
     "hide"
    ]
   },
   "outputs": [],
   "source": [
    "reservoirs_and_seals = {'reservoir': [],\n",
    "                        'seal': [],\n",
    "                        'other': []\n",
    "                       }\n",
    "for depth, layer in enumerate(strat):\n",
    "    if layer in ['sandstone', 'dolomite']:\n",
    "        reservoirs_and_seals['reservoir'].append(depth)\n",
    "    elif layer in ['shale', 'marl']:\n",
    "        reservoirs_and_seals['seal'].append(depth)\n",
    "    else:\n",
    "        reservoirs_and_seals['other'].append(depth)\n",
    "\n",
    "reservoirs_and_seals"
   ]
  },
  {
   "cell_type": "code",
   "execution_count": null,
   "metadata": {
    "scrolled": true,
    "tags": [
     "hide"
    ]
   },
   "outputs": [],
   "source": [
    "# Use defaultdict and eliminate the switch:\n",
    "reservoirs_and_seals = defaultdict(list)\n",
    "\n",
    "layer_types = {\n",
    "    'sandstone': 'reservoir',\n",
    "    'dolomite': 'reservoir',\n",
    "    'shale': 'seal',\n",
    "    'marl': 'seal',\n",
    "}\n",
    "\n",
    "for depth, layer in enumerate(strat):\n",
    "    layer_type = layer_types.get(layer, 'other')\n",
    "    reservoirs_and_seals[layer_type].append(depth)\n",
    "\n",
    "reservoirs_and_seals"
   ]
  },
  {
   "cell_type": "code",
   "execution_count": null,
   "metadata": {
    "scrolled": true,
    "tags": [
     "hide"
    ]
   },
   "outputs": [],
   "source": [
    "# Could define dictionary in more compact way then reorganize it.\n",
    "layer_types_compact = {\n",
    "    'reservoir': ['sandstone', 'dolomite'],\n",
    "    'seal': ['shale', 'marl'],\n",
    "}\n",
    "for layer_type, layer_names in layer_types_compact.items():\n",
    "    for layer_name in layer_names:\n",
    "        layer_types[layer_name] = layer_type\n",
    "        \n",
    "# Then do as before.\n",
    "reservoirs_and_seals = defaultdict(list)\n",
    "for depth, layer in enumerate(strat):\n",
    "    layer_type = layer_types.get(layer, 'other')\n",
    "    reservoirs_and_seals[layer_type].append(depth)\n",
    "\n",
    "reservoirs_and_seals"
   ]
  },
  {
   "cell_type": "code",
   "execution_count": null,
   "metadata": {
    "scrolled": true,
    "tags": [
     "hide"
    ]
   },
   "outputs": [],
   "source": [
    "# Using itertools.groupby()\n",
    "from itertools import groupby\n",
    "\n",
    "{k: list(v) for k, v in dict(groupby(strat, key=lambda x:layer_types.get(x, 'other'))).items()}"
   ]
  },
  {
   "cell_type": "code",
   "execution_count": null,
   "metadata": {
    "scrolled": true,
    "tags": [
     "hide"
    ]
   },
   "outputs": [],
   "source": [
    "for n, g in groupby(strat, key=lambda x:layer_types.get(x, 'other')):\n",
    "    print(n, g)"
   ]
  },
  {
   "cell_type": "markdown",
   "metadata": {},
   "source": [
    "---\n",
    "\n",
    "## Other great places to pick up Python:\n",
    "\n",
    "- [Learn X in Y minutes](https://learnxinyminutes.com/docs/python3/) — If you just want to get cracking.\n",
    "- [Stavros](https://www.stavros.io/tutorials/python/) — If you want to know a bit more.\n",
    "- [Robert Johansson's lectures](Lecture-1-Introduction-to-Python-Programming.ipynb)\n",
    "- [Tutorials Point](http://www.tutorialspoint.com/python/python_quick_guide.htm) — Another option.\n",
    "- [Code Academy](https://www.codecademy.com/learn/learn-python-3) — A more sedate pace.\n",
    "- [Udacity Intro to Computer Science](https://www.udacity.com/course/intro-to-computer-science--cs101) — Fantastic but a serious undertaking.\n",
    "- [All the tutorials!](https://wiki.python.org/moin/BeginnersGuide/Programmers)\n",
    "\n",
    "**WARNING** There's still a lot of Python 2 around. Keep away from it if you can! Python 3 has lots of advantages, and there are hardly any libraries now that have not made the swtich.\n",
    "\n",
    "----"
   ]
  },
  {
   "cell_type": "markdown",
   "metadata": {},
   "source": [
    "## Python is...\n",
    "\n",
    "- Not just a scripting language.\n",
    "- Interpreted, not compiled.\n",
    "- Strongly typed — types are enforced.\n",
    "- Dynamically, implicitly typed — you don't have to declare variables.\n",
    "- Case sensitive — var and VAR are two different variables.\n",
    "- Object-oriented — everything is an object.\n",
    "- Supportive of functional and procedural styles."
   ]
  },
  {
   "cell_type": "code",
   "execution_count": null,
   "metadata": {
    "scrolled": true
   },
   "outputs": [],
   "source": [
    "import this"
   ]
  },
  {
   "cell_type": "markdown",
   "metadata": {},
   "source": [
    "## Nice Python\n",
    "\n",
    "- Read [PEP8](https://www.python.org/dev/peps/pep-0008/).\n",
    "- Use an IDE or use a linter in your text editor.\n",
    "- Write docstrings: think about your users and colleagues and your future self!\n",
    "- Write code that doesn't need a lot of inline comments.\n"
   ]
  },
  {
   "cell_type": "markdown",
   "metadata": {},
   "source": [
    "<hr />\n",
    "\n",
    "<div>\n",
    "<img src=\"https://avatars1.githubusercontent.com/u/1692321?s=50\"><p style=\"text-align:center\">© Agile Geoscience 2018</p>\n",
    "</div>"
   ]
  }
 ],
 "metadata": {
  "anaconda-cloud": {},
  "celltoolbar": "Tags",
  "kernelspec": {
   "display_name": "geocomp",
   "language": "python",
   "name": "geocomp"
  },
  "language_info": {
   "codemirror_mode": {
    "name": "ipython",
    "version": 3
   },
   "file_extension": ".py",
   "mimetype": "text/x-python",
   "name": "python",
   "nbconvert_exporter": "python",
   "pygments_lexer": "ipython3",
   "version": "3.8.10"
  }
 },
 "nbformat": 4,
 "nbformat_minor": 2
}
