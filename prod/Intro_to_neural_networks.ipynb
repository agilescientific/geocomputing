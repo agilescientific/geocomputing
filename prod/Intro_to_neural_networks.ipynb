{
 "cells": [
  {
   "cell_type": "markdown",
   "id": "5dcca6d6",
   "metadata": {},
   "source": [
    "# Intro to neural networks\n",
    "\n",
    "**This notebook is designed to be a high-level introduction to solving fairly straightforward machine learning tasks with neural networks. For a more in-depth introduction, see [`Neural_networks_from_scratch.ipynb`](Neural_networks_from_scratch.ipynb).**"
   ]
  },
  {
   "cell_type": "code",
   "execution_count": null,
   "id": "ef84ec27",
   "metadata": {},
   "outputs": [],
   "source": []
  }
 ],
 "metadata": {
  "kernelspec": {
   "display_name": "geoml",
   "language": "python",
   "name": "geoml"
  },
  "language_info": {
   "codemirror_mode": {
    "name": "ipython",
    "version": 3
   },
   "file_extension": ".py",
   "mimetype": "text/x-python",
   "name": "python",
   "nbconvert_exporter": "python",
   "pygments_lexer": "ipython3",
   "version": "3.9.7"
  }
 },
 "nbformat": 4,
 "nbformat_minor": 5
}
