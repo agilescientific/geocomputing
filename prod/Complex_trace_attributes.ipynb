{
 "cells": [
  {
   "cell_type": "markdown",
   "id": "cb981081",
   "metadata": {},
   "source": [
    "# Complex trace attributes\n",
    "\n",
    "A normal seismic display shows **amplitude**, with the phase and frequency implicitly determining, along with geology, how the amplitude is distributed for a given acquisition and processing experiment. In this notebook, we look at a family of attributes related to the **complex trace**.\n",
    "\n",
    "Art Barnes is required reading before jumping into seismic attributes! Read this: https://csegrecorder.com/articles/view/too-many-seismic-attributes\n",
    "\n",
    "Barnes (2016) is also worth reading. Here's his account of the complex trace:\n",
    "\n",
    "> The essence of complex seismic trace analysis lies in the separation of amplitude information from phase information in seismic data. This idea is inspired by the example of Fourier analysis. Fourier frequency transforms are represented either in Cartesian form as cosine and sine spectra, or in polar form as amplitude and phase spectra. Cosine and sine spectra are natural products of the Fourier transform, but amplitude and phase spectra are better suited for physical studies. [...]\n",
    "\n",
    "> Just as Fourier transforms are represented in terms of amplitude and phase spectra,\n",
    "so too can seismic traces be represented with analogous amplitude and phase attributes.\n",
    "To accomplish this, complex trace analysis introduces a quadrature trace derived from\n",
    "the seismic trace (Cohen, 1995; Vakman, 1998). The seismic and quadrature traces are\n",
    "analogous to the cosine and sine spectra in Fourier analysis, with the essential difference\n",
    "that the quadrature trace depends on the real trace, whereas the cosine and sine spectra\n",
    "are independent. A further difference, implied in the derivation of the quadrature trace,\n",
    "is that generally the seismic trace should not have a dc component. Complex trace\n",
    "amplitude and phase attributes prove as useful as their Fourier counterparts.\n"
   ]
  },
  {
   "cell_type": "markdown",
   "id": "e9131825",
   "metadata": {},
   "source": [
    "## Load some seismic data\n",
    "\n",
    "We'll use 1000 ms of the F3 seismic dataset. It's 459MB, sampled at 4 ms.\n",
    "\n",
    "To get the data on Mac or Linux you can do this right from a Jupyter Notebook:\n",
    "\n",
    "    ! wget -O ../data/F3_16-bit_int.sgy https://geocomp.s3.amazonaws.com/data/F3_16-bit_int.sgy\n",
    "\n",
    "On Windows, you can [visit the URL by clicking here](https://geocomp.s3.amazonaws.com/data/F3_16-bit_int.sgy) (which will download the file) then move it to the `data` directory."
   ]
  },
  {
   "cell_type": "code",
   "execution_count": 1,
   "id": "73d4f12e",
   "metadata": {},
   "outputs": [
    {
     "data": {
      "text/plain": [
       "(651, 951, 251)"
      ]
     },
     "execution_count": 1,
     "metadata": {},
     "output_type": "execute_result"
    }
   ],
   "source": [
    "import segyio\n",
    "import numpy as np\n",
    "\n",
    "\n",
    "with segyio.open('../data/F3_16-bit_int.sgy') as s:\n",
    "    seismic = segyio.cube(s)\n",
    "    \n",
    "# Volume is int16. Turn it into floats.\n",
    "seismic = (seismic / np.max(np.abs(seismic))).astype(np.float32)\n",
    "    \n",
    "seismic.shape"
   ]
  },
  {
   "cell_type": "code",
   "execution_count": null,
   "id": "4fc7bde3",
   "metadata": {},
   "outputs": [],
   "source": [
    "ma = np.percentile(seismic, 99.95)"
   ]
  },
  {
   "cell_type": "code",
   "execution_count": null,
   "id": "dc9d2055",
   "metadata": {},
   "outputs": [],
   "source": [
    "import matplotlib.pyplot as plt\n",
    "\n",
    "fig, ax = plt.subplots(figsize=(12, 6))\n",
    "ax.imshow(seismic[100].T, aspect='auto', vmin=-ma, vmax=ma)"
   ]
  },
  {
   "cell_type": "markdown",
   "id": "bab8eb91",
   "metadata": {},
   "source": [
    "## The complex trace\n",
    "\n",
    "The general idea is that the **seismic trace** $x(t)$ is the product of instantaneous amplitude $a_i(t)$ (aka reflection strength), and the cosine of instantaneous phase $\\theta_i(t)$. The **quadrature trace** $y(t)$ is the product of amplitude and the sine of the phase. Then the **complex trace** $z(t) = x(t) + i y(t)$. \n",
    "\n",
    "The complex trace is computable as the Hilbert transform of the seismic trace. This gives us access to the instantaneous amplitude and phase."
   ]
  },
  {
   "cell_type": "markdown",
   "id": "eb17ce54",
   "metadata": {},
   "source": [
    "Start with a single trace:"
   ]
  },
  {
   "cell_type": "code",
   "execution_count": null,
   "id": "ab829c7d",
   "metadata": {},
   "outputs": [],
   "source": [
    "tr = seismic[100, 780]\n",
    "\n",
    "fig, ax = plt.subplots(figsize=(15, 2))\n",
    "ax.plot(tr)"
   ]
  },
  {
   "cell_type": "code",
   "execution_count": null,
   "id": "2e886daa",
   "metadata": {},
   "outputs": [],
   "source": [
    "from scipy.signal import hilbert\n",
    "\n",
    "h = hilbert(tr)\n",
    "\n",
    "h"
   ]
  },
  {
   "cell_type": "code",
   "execution_count": null,
   "id": "8a38fe5a",
   "metadata": {},
   "outputs": [],
   "source": [
    "plt.figure(figsize=(10, 10))\n",
    "ax = plt.axes(projection='3d')\n",
    "ax.set_box_aspect((1, 1, 3)) \n",
    "\n",
    "t = np.linspace(0, 1.0, tr.size)\n",
    "t_new = np.arange(0, 1.0001, 0.0005)\n",
    "\n",
    "from scipy.interpolate import interp1d\n",
    "\n",
    "real = interp1d(t, h.real, kind='cubic')(t_new)\n",
    "quad = interp1d(t, h.imag, kind='cubic')(t_new)\n",
    "time = t_new\n",
    "\n",
    "ax.plot3D(real, quad, time, 'navy', lw=2, zorder=3)\n",
    "ax.plot3D(-0.5*np.ones_like(real), quad, time, 'g', zorder=2)  # Quadrature.\n",
    "ax.plot3D(real, quad, np.ones_like(time), 'b', zorder=1)       # Real trace.\n",
    "ax.plot3D(real, np.ones_like(quad), time, 'r', zorder=0)\n",
    "ax.set_zlim3d(1, 0)\n",
    "plt.show()"
   ]
  },
  {
   "cell_type": "markdown",
   "id": "6210454d",
   "metadata": {
    "tags": [
     "exercise"
    ]
   },
   "source": [
    "### EXERCISE\n",
    "\n",
    "The instantaneous amplitude, aka envelope or reflection strength, is the _magnitude_ or _absolute value_ of the complex trace. Compute and plot this."
   ]
  },
  {
   "cell_type": "code",
   "execution_count": null,
   "id": "f9228edb",
   "metadata": {},
   "outputs": [],
   "source": []
  },
  {
   "cell_type": "code",
   "execution_count": null,
   "id": "e7277eff",
   "metadata": {
    "tags": [
     "hide"
    ]
   },
   "outputs": [],
   "source": [
    "env = np.abs(h)\n",
    "\n",
    "fig, ax = plt.subplots(figsize=(15, 2))\n",
    "ax.plot(env)\n",
    "ax.plot(tr, c='c')"
   ]
  },
  {
   "cell_type": "markdown",
   "id": "b0203ba7",
   "metadata": {},
   "source": [
    "It should look kind of low-frequency, and not oscillate around zero like the seismic does. [Read more about the envelope.](https://agilescientific.com/blog/2011/3/23/e-is-for-envelope.html)\n",
    "\n",
    "Importantly, this view of the amplitude data is useful because it is independent of the phase. So if we rotate the phase, the envelope does not change:"
   ]
  },
  {
   "cell_type": "code",
   "execution_count": null,
   "id": "ca4f3ba2",
   "metadata": {},
   "outputs": [],
   "source": [
    "import bruges as bg\n",
    "\n",
    "tr_rot = bg.filters.rotate_phase(tr, 45)\n",
    "\n",
    "h_rot = hilbert(tr_rot)\n",
    "# Add new envelope.\n",
    "\n",
    "\n",
    "sel = slice(100, 200)\n",
    "\n",
    "fig, ax = plt.subplots(figsize=(15, 3))\n",
    "ax.plot(env[sel])\n",
    "#ax.plot(env_rot[sel], '--')\n",
    "ax.plot(tr[sel], c='c')\n",
    "#ax.plot(tr_rot[sel])"
   ]
  },
  {
   "cell_type": "markdown",
   "id": "ed10fc28",
   "metadata": {
    "tags": [
     "exercise"
    ]
   },
   "source": [
    "### EXERCISE\n",
    "\n",
    "Zoom in on part of the trace, and add a slider to vary the phase. (You don't need to recompute the envelope, now that you know it's phase independent.)\n",
    "\n",
    "If you can, add a slider to choose the trace in each direction as well.\n",
    "\n",
    "Compute the envelope attribute on the entire cube first.\n",
    "\n",
    "Recall that you can make any function interactive with `ipywidgets`:\n",
    "\n",
    "    from ipywidgets import interact\n",
    "\n",
    "    @interact(a=(10, 100, 10), b=(100, 1000, 100))\n",
    "    def add(a, b):\n",
    "        print(f\"a + b = {a + b}\")"
   ]
  },
  {
   "cell_type": "code",
   "execution_count": null,
   "id": "7c19014a",
   "metadata": {},
   "outputs": [],
   "source": []
  },
  {
   "cell_type": "code",
   "execution_count": null,
   "id": "f60b6081",
   "metadata": {},
   "outputs": [],
   "source": []
  },
  {
   "cell_type": "code",
   "execution_count": null,
   "id": "09583b13",
   "metadata": {
    "tags": [
     "hide"
    ]
   },
   "outputs": [],
   "source": [
    "env = np.abs(hilbert(seismic))"
   ]
  },
  {
   "cell_type": "code",
   "execution_count": null,
   "id": "97d31d5e",
   "metadata": {
    "tags": [
     "hide"
    ]
   },
   "outputs": [],
   "source": [
    "from ipywidgets import interact\n",
    "\n",
    "@interact(phi=(-180, 180, 5), inline=(0, 651, 10), xline=(0, 951, 10))\n",
    "def main(phi, inline, xline):\n",
    "    tr = bg.filters.rotate_phase(seismic[inline, xline], phi)\n",
    "    \n",
    "    fig, ax = plt.subplots(figsize=(15, 3))\n",
    "    ax.plot(tr)\n",
    "    ax.plot(env[inline, xline])\n",
    "    ax.set_ylim(-ma, ma)\n",
    "    plt.show()\n",
    "    return"
   ]
  },
  {
   "cell_type": "markdown",
   "id": "42fe1816",
   "metadata": {},
   "source": [
    "## Instantaneous phase"
   ]
  },
  {
   "cell_type": "markdown",
   "id": "b15e85e4",
   "metadata": {},
   "source": [
    "### EXERCISE\n",
    "\n",
    "Compute the **instantanous phase** for the entire volume. The phase $\\phi$ is computed from the Hilbert transform $h$ by (adapted [from here](https://wiki.seg.org/wiki/Instantaneous_attributes)):\n",
    "\n",
    "$$ \\phi(t) = {\\rm Im}[\\ln h(t)] $$\n",
    "\n",
    "That is, the instantaneous phase is the imaginary part of the natural log of the Hilbert transform.\n",
    "\n",
    "You should choose a circular colourbar for the result, because the phase 'wraps' around $-\\pi$ to $+\\pi$. "
   ]
  },
  {
   "cell_type": "code",
   "execution_count": null,
   "id": "7862e6d1",
   "metadata": {},
   "outputs": [],
   "source": []
  },
  {
   "cell_type": "code",
   "execution_count": null,
   "id": "78fab7d8",
   "metadata": {
    "tags": [
     "hide"
    ]
   },
   "outputs": [],
   "source": [
    "phi = np.imag(np.log(hilbert(seismic)))"
   ]
  },
  {
   "cell_type": "code",
   "execution_count": null,
   "id": "33e19796",
   "metadata": {
    "tags": [
     "hide"
    ]
   },
   "outputs": [],
   "source": [
    "fig, ax = plt.subplots(figsize=(15, 10))\n",
    "im = ax.imshow(phi[100].T, cmap='twilight', aspect='auto', interpolation='none')\n",
    "plt.colorbar(im)"
   ]
  },
  {
   "cell_type": "markdown",
   "id": "78b71f96",
   "metadata": {},
   "source": [
    "## Instantaneous frequency\n",
    "\n",
    "From [the SciPy docs](https://docs.scipy.org/doc/scipy/reference/generated/scipy.signal.hilbert.html)"
   ]
  },
  {
   "cell_type": "code",
   "execution_count": null,
   "id": "5e3c511a",
   "metadata": {},
   "outputs": [],
   "source": [
    "T = 0.004\n",
    "\n",
    "# Differentiate the instantaneous phase with respect to time:\n",
    "instantaneous_frequency = np.diff(phase) / 2.0 * np.pi * 0.004"
   ]
  },
  {
   "cell_type": "code",
   "execution_count": null,
   "id": "9db9a80c",
   "metadata": {},
   "outputs": [],
   "source": [
    "plt.figure(figsize=(15, 10))\n",
    "plt.imshow(instantaneous_frequency.T, cmap='plasma')"
   ]
  },
  {
   "cell_type": "code",
   "execution_count": null,
   "id": "e3e6b144",
   "metadata": {},
   "outputs": [],
   "source": [
    "plt.figure(figsize=(12, 3))\n",
    "plt.plot(instantaneous_frequency[100])\n",
    "plt.grid(c='k', alpha=0.2)"
   ]
  },
  {
   "cell_type": "markdown",
   "id": "da8a5a74",
   "metadata": {},
   "source": [
    "I am not a fan of this, whatever it is."
   ]
  },
  {
   "cell_type": "markdown",
   "id": "c773f3f0",
   "metadata": {},
   "source": [
    "## Instantaneous frequency: better estimates\n",
    "\n",
    "According to Claerbout (1985, _Fundamentals of Geophysical Data Processing_, Blackwell, p20):\n",
    "\n",
    "$$ f_i(t) = \\frac{1}{2\\pi} \\ \\mathrm{Im} \\left[\\frac{h'(t)}{h(t)} \\right] \\approx \\frac{1}{\\pi T} \\ \\mathrm{Im} \\left[\\frac{h(t+T) - h(t)}{h(t+T) + h(t)} \\right] $$ \n",
    "\n",
    "Given that the time interval $T$ is 0.004 s, can you compute this approximation?"
   ]
  },
  {
   "cell_type": "code",
   "execution_count": null,
   "id": "bbf7973d",
   "metadata": {},
   "outputs": [],
   "source": []
  },
  {
   "cell_type": "code",
   "execution_count": null,
   "id": "9404260c",
   "metadata": {
    "tags": [
     "hide"
    ]
   },
   "outputs": [],
   "source": [
    "def f_inst_claerbout(h, T):\n",
    "    \"\"\"Instantaneous frequency after Claerbout (1985).\"\"\"\n",
    "    return (1 / (np.pi * T)) * np.imag((h[1:] - h[:-1]) / (h[1:] + h[:-1]))\n",
    "\n",
    "f = f_inst_claerbout(h, T=0.004)\n",
    "\n",
    "fig, ax = plt.subplots(figsize=(15, 3))\n",
    "ax.plot(f)\n",
    "ax.set_ylim(-50, 250)\n",
    "ax.grid(c='k', alpha=0.2)"
   ]
  },
  {
   "cell_type": "code",
   "execution_count": null,
   "id": "1d591794",
   "metadata": {
    "tags": [
     "hide"
    ]
   },
   "outputs": [],
   "source": [
    "# Scheuer, TE and DW Oldenburg (1988). Local phase velocity from complex seismic data.\n",
    "# Geophysics 53 (12), p1503. DOI: http://dx.doi.org/10.1190/1.1442431.\n",
    "\n",
    "def f_inst_scheuer_oldenburg(x, T):\n",
    "    \"\"\"Instantaneous frequency after Claerbout (1985).\"\"\"\n",
    "    h = hilbert(x)\n",
    "    y = np.abs(h) * np.sin(np.log(h).imag)\n",
    "    expr = (x[:-1] * y[1:] - x[1:] * y[:-1]) / (x[:-1] * x[1:] + y[1:] * y[:-1])\n",
    "    return (1 / (2 * np.pi * T)) * np.arctan(expr)\n",
    "\n",
    "tr_ = tr / np.max(np.abs(tr))\n",
    "\n",
    "f_so = f_inst_scheuer_oldenburg(tr_, T=0.004)\n",
    "\n",
    "fig, ax = plt.subplots(figsize=(15, 3))\n",
    "ax.plot(f_so, label='Scheuer & Oldenburg')\n",
    "ax.plot(f, label='')\n",
    "ax.set_ylim(-50, 250)\n",
    "ax.grid(c='k', alpha=0.2)"
   ]
  },
  {
   "cell_type": "markdown",
   "id": "cc112691",
   "metadata": {},
   "source": [
    "These functions are also implemented in `bruges` (since v0.4.5):"
   ]
  },
  {
   "cell_type": "code",
   "execution_count": 12,
   "id": "d0fb5e85",
   "metadata": {},
   "outputs": [
    {
     "data": {
      "text/plain": [
       "<matplotlib.image.AxesImage at 0x7f050029d430>"
      ]
     },
     "execution_count": 12,
     "metadata": {},
     "output_type": "execute_result"
    },
    {
     "data": {
      "image/png": "[encoded data removed]",
      "text/plain": [
       "<Figure size 1080x720 with 1 Axes>"
      ]
     },
     "metadata": {
      "needs_background": "light"
     },
     "output_type": "display_data"
    }
   ],
   "source": [
    "import bruges as bg\n",
    "import matplotlib.pyplot as plt\n",
    "\n",
    "plt.figure(figsize=(15, 10))\n",
    "plt.imshow(bg.attribute.instantaneous_frequency(seismic[100], dt=0.004).T, cmap='plasma', aspect='auto')"
   ]
  },
  {
   "cell_type": "markdown",
   "id": "03ad9d08",
   "metadata": {},
   "source": [
    "For more on Fourier frequency, which does bring with it some challenges around resolution, see the notebook on spectral decomposition."
   ]
  },
  {
   "cell_type": "markdown",
   "id": "2ed0ae65",
   "metadata": {},
   "source": [
    "## Horizons\n",
    "\n",
    "These will be much easier if we turn the seismic and horizon(s) into an `xarray.DataArray`:"
   ]
  },
  {
   "cell_type": "code",
   "execution_count": null,
   "id": "62f4b466",
   "metadata": {},
   "outputs": [],
   "source": [
    "import xarray as xr\n",
    "\n",
    "il, xl, ts = seismic.shape\n",
    "\n",
    "inlines = np.arange(il) + 1000\n",
    "xlines = np.arange(xl) + 1000\n",
    "time = np.arange(ts) * 0.004\n",
    "\n",
    "s = xr.DataArray(seismic,\n",
    "                 name='amplitude',\n",
    "                 coords=[inlines, xlines, time],\n",
    "                 dims=['inline', 'xline', 'twt'],\n",
    "                )"
   ]
  },
  {
   "cell_type": "code",
   "execution_count": null,
   "id": "bf2280a5",
   "metadata": {},
   "outputs": [],
   "source": [
    "import numpy as np\n",
    "\n",
    "ds = np.DataSource('../data/')\n",
    "\n",
    "horizon = np.load(ds.open('https://geocomp.s3.amazonaws.com/data/F3_horizon.npy', mode='rb'))\n",
    "\n",
    "s.shape, horizon.shape"
   ]
  },
  {
   "cell_type": "markdown",
   "id": "28b1f00b",
   "metadata": {
    "tags": [
     "exercise"
    ]
   },
   "source": [
    "### EXERCISE\n",
    "\n",
    "Make a `DataArray` for the horizon, and plot it as a map.\n",
    "\n",
    "Can you plot a 2D seismic section with the horizon?"
   ]
  },
  {
   "cell_type": "code",
   "execution_count": null,
   "id": "d8a4917d",
   "metadata": {},
   "outputs": [],
   "source": []
  },
  {
   "cell_type": "code",
   "execution_count": null,
   "id": "207268ce",
   "metadata": {
    "tags": [
     "hide"
    ]
   },
   "outputs": [],
   "source": [
    "h = xr.DataArray(horizon,\n",
    "                 name='twt',\n",
    "                 coords=[inlines, xlines],\n",
    "                 dims=['inline', 'xline'],\n",
    "                )\n",
    "h.plot()"
   ]
  },
  {
   "cell_type": "code",
   "execution_count": null,
   "id": "9bf13ad8",
   "metadata": {
    "tags": [
     "hide"
    ]
   },
   "outputs": [],
   "source": [
    "s.sel(inline=1100).T.plot.imshow(origin='upper')\n",
    "h.sel(inline=1100).plot(c='r')"
   ]
  },
  {
   "cell_type": "markdown",
   "id": "7a2d1844",
   "metadata": {},
   "source": [
    "It's very easy to get the (linear) interpolated amplitude out of the volume now:"
   ]
  },
  {
   "cell_type": "code",
   "execution_count": null,
   "id": "caa0d80b",
   "metadata": {},
   "outputs": [],
   "source": [
    "amp = s.interp(twt=h)\n",
    "\n",
    "amp.plot()"
   ]
  },
  {
   "cell_type": "markdown",
   "id": "976bd403",
   "metadata": {
    "tags": [
     "exercise"
    ]
   },
   "source": [
    "### EXERCISE\n",
    "\n",
    "Create a plot showing the instantaneous attributes computed on this horizon."
   ]
  },
  {
   "cell_type": "code",
   "execution_count": null,
   "id": "06677369",
   "metadata": {},
   "outputs": [],
   "source": []
  },
  {
   "cell_type": "code",
   "execution_count": null,
   "id": "139421de",
   "metadata": {
    "tags": [
     "hide"
    ]
   },
   "outputs": [],
   "source": []
  }
 ],
 "metadata": {
  "celltoolbar": "Tags",
  "kernelspec": {
   "display_name": "py39",
   "language": "python",
   "name": "py39"
  },
  "language_info": {
   "codemirror_mode": {
    "name": "ipython",
    "version": 3
   },
   "file_extension": ".py",
   "mimetype": "text/x-python",
   "name": "python",
   "nbconvert_exporter": "python",
   "pygments_lexer": "ipython3",
   "version": "3.9.7"
  }
 },
 "nbformat": 4,
 "nbformat_minor": 5
}
