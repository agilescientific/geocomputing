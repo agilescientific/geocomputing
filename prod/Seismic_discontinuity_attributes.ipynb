{
 "cells": [
  {
   "cell_type": "markdown",
   "id": "dd10f501",
   "metadata": {},
   "source": [
    "# Seismic discontinuity attributes\n",
    "\n",
    "Reminder: Art Barnes is required reading before jumping into attributes! Read this: https://csegrecorder.com/articles/view/too-many-seismic-attributes"
   ]
  },
  {
   "cell_type": "markdown",
   "id": "8c6cf78b",
   "metadata": {},
   "source": [
    "## Load some seismic data\n",
    "\n",
    "We'll use 1000 ms of the F3 seismic dataset. It's 459MB, sampled at 4 ms.\n",
    "\n",
    "To get the data on Mac or Linux you can do this right from a Jupyter Notebook:\n",
    "\n",
    "    ! wget -O ../data/F3_16-bit_int.sgy https://geocomp.s3.amazonaws.com/data/F3_16-bit_int.sgy\n",
    "\n",
    "On Windows, you can [visit the URL by clicking here](https://geocomp.s3.amazonaws.com/data/F3_16-bit_int.sgy) (which will download the file) then move it to the `data` directory."
   ]
  },
  {
   "cell_type": "code",
   "execution_count": null,
   "id": "5bc125e5",
   "metadata": {},
   "outputs": [],
   "source": [
    "import segyio\n",
    "\n",
    "with segyio.open('../data/F3_16-bit_int.sgy') as s:\n",
    "    seismic = segyio.cube(s)\n",
    "    \n",
    "seismic.shape"
   ]
  },
  {
   "cell_type": "code",
   "execution_count": null,
   "id": "c6e0b637",
   "metadata": {},
   "outputs": [],
   "source": [
    "seismic.dtype"
   ]
  },
  {
   "cell_type": "code",
   "execution_count": null,
   "id": "c48a1199",
   "metadata": {},
   "outputs": [],
   "source": [
    "import numpy as np\n",
    "\n",
    "ma = np.percentile(seismic, 99.95)"
   ]
  },
  {
   "cell_type": "code",
   "execution_count": null,
   "id": "7a048470",
   "metadata": {},
   "outputs": [],
   "source": [
    "import matplotlib.pyplot as plt\n",
    "\n",
    "fig, ax = plt.subplots(figsize=(12, 6))\n",
    "ax.imshow(seismic[100].T, aspect='auto', vmin=-ma, vmax=ma)"
   ]
  },
  {
   "cell_type": "markdown",
   "id": "2cf273af",
   "metadata": {},
   "source": [
    "## Similarity\n",
    "\n",
    "Seismic similarity attributes, such as coherence and semblance, etc, are extremely useful attributes. In terma so freadin matter, you can't do better than [Joe Kington's 2015 Leading Edge tutorial](https://github.com/seg/tutorials-2015/blob/master/1512_Semblance_coherence_and_discontinuity/writeup.md) on this topic. [Here's the Notebook.](https://github.com/seg/tutorials-2015/blob/master/1512_Semblance_coherence_and_discontinuity/Discontinuity_tutorial.ipynb). We'll lean heavily on Joe's work here.\n",
    "\n",
    "Joe uses a `moving_window` function to take a function `func` and pass it pieces of data reshaped into some `window`. The task of passing the running window over our dataset is handed off to `scipy.ndimage.generic_filter`, which you can think of as taking care of the machinery of convolution, correlation, or other moving window algorithms. This way, we can focus on writing simple functions that deal with single 3D kernels one at a time."
   ]
  },
  {
   "cell_type": "code",
   "execution_count": null,
   "id": "d0bfb474",
   "metadata": {},
   "outputs": [],
   "source": [
    "# Decimated seismic sub-cube:\n",
    "seismic_ = seismic[:200:3, 600::3, 75:175] / np.max(np.abs(seismic))"
   ]
  },
  {
   "cell_type": "code",
   "execution_count": null,
   "id": "18f458c1",
   "metadata": {},
   "outputs": [],
   "source": [
    "from scipy.ndimage import generic_filter\n",
    "\n",
    "def moving_window(data, func, window):\n",
    "    \"\"\"\n",
    "    Helper function for multi-trace attribute generation.\n",
    "    This function applies a 3D function func to process a\n",
    "    region of shape `window` over a dataset `data`.\n",
    "    \"\"\"\n",
    "    wrapped = lambda x: func(x.reshape(window))\n",
    "    return generic_filter(data, wrapped, window)"
   ]
  },
  {
   "cell_type": "markdown",
   "id": "5b1e1d00",
   "metadata": {},
   "source": [
    "## The original approach\n",
    "\n",
    "We'll look first at Marfurt et al's (1999) extension of Bahorich & Farmer's original cross-correlation approach:"
   ]
  },
  {
   "cell_type": "code",
   "execution_count": null,
   "id": "a9e60b3f",
   "metadata": {},
   "outputs": [],
   "source": [
    "def marfurt_semblance(region):\n",
    "    \"\"\"\n",
    "    Marfurt, K., V. Sudhaker, A. Gersztenkorn, K. D. Crawford, and S. E. Nissen, 1999,\n",
    "    Coherency calculations in the presence of structural dip: GEOPHYSICS, 64, 104-111.\n",
    "    doi:10.1190/1.1444508\n",
    "    \"\"\"\n",
    "    i, x, t = region.shape\n",
    "    region = region.reshape(-1, t)\n",
    "    square_sums = np.sum(region, axis=0)**2\n",
    "    sum_squares = np.sum(region**2, axis=0)\n",
    "    c = square_sums.sum() / (square_sums.sum() + 1e-12)  # Divide by zero.\n",
    "    return c / (i * x)"
   ]
  },
  {
   "cell_type": "code",
   "execution_count": null,
   "id": "20d9943b",
   "metadata": {},
   "outputs": [],
   "source": [
    "semb = moving_window(seismic_, marfurt_semblance, (3, 3, 9))"
   ]
  },
  {
   "cell_type": "code",
   "execution_count": null,
   "id": "d8b6a239",
   "metadata": {},
   "outputs": [],
   "source": [
    "fig, ax = plt.subplots(figsize=(10, 6))\n",
    "im = ax.imshow(semb[50].T)\n",
    "plt.colorbar(im)"
   ]
  },
  {
   "cell_type": "markdown",
   "id": "65307f20",
   "metadata": {},
   "source": [
    "One caveat to some similarity methods is that they're sensitive to lateral differences in amplitude as well as in phase. While this is desirable for detecting stratigraphic features, differences due amplitude can obscure subtle structural features. Gersztenkorn and Marfurt (1999) proposed an implementation that is sensitive only to lateral changes in phase of the input waveforms: _eigenstructure-based coherence_.\n",
    "\n",
    "This computes the covariance matrix of the input region, similar to the previous example. However, it uses the ratio of the largest eigenvalue of the covariance matrix to the sum of the eigenvalues:"
   ]
  },
  {
   "cell_type": "code",
   "execution_count": null,
   "id": "06f94bc4",
   "metadata": {},
   "outputs": [],
   "source": [
    "def gersztenkorn(region):\n",
    "    \"\"\"\n",
    "    Gersztenkorn, A., and K. J. Marfurt, 1999, Eigenstructure‐based coherence\n",
    "    computations as an aid to 3-D structural and stratigraphic mapping:\n",
    "    GEOPHYSICS, 64, 1468-1479. doi:10.1190/1.1444651\n",
    "    \"\"\"\n",
    "    # Stack traces in 3D region into 2D array.\n",
    "    region = region.reshape(-1, region.shape[-1])\n",
    "\n",
    "    # Calculate eigenvalues of covariance matrix.\n",
    "    cov = region.dot(region.T)\n",
    "    vals = np.linalg.eigvalsh(cov)\n",
    "    return vals.max() / (vals.sum() + 1e-12)\n",
    "  \n",
    "semb = moving_window(seismic_, gersztenkorn, (3, 3, 9))"
   ]
  },
  {
   "cell_type": "code",
   "execution_count": null,
   "id": "2cc8a321",
   "metadata": {},
   "outputs": [],
   "source": [
    "fig, ax = plt.subplots(figsize=(10, 6))\n",
    "im = ax.imshow(semb[50].T)\n",
    "plt.colorbar(im)"
   ]
  },
  {
   "cell_type": "markdown",
   "id": "3114c3f2",
   "metadata": {},
   "source": [
    "An entirely different approach than any we've discussed so far is to apply a structure tensor to seismic attributes. The structure tensor measures how the gradient of each dimension co-varies locally. Randen et al. (2000) were the first to propose this approach in their Gradient Structure Tensor (GST) attributes. A number of useful attributes can be computed from the ratios of the eigenvalues of the structure tensor, one of which is a measure of how planar the data is locally, which we'll refer to as GST coherence (Randen, et al 2000) (Figure 1E)."
   ]
  },
  {
   "cell_type": "code",
   "execution_count": null,
   "id": "07f27574",
   "metadata": {},
   "outputs": [],
   "source": [
    "from scipy.ndimage import gaussian_filter1d\n",
    "\n",
    "def gradients(seismic, sigma):\n",
    "    grads = []\n",
    "    for axis in range(3):\n",
    "        grad = gaussian_filter1d(seismic, sigma, axis=axis, order=1)\n",
    "        grads.append(grad[..., np.newaxis])\n",
    "    return np.concatenate(grads, axis=3)\n",
    "\n",
    "def moving_window4d(grad, window, func):\n",
    "    \"\"\"Applies the given function *func* over a moving *window*, reducing \n",
    "    the input *grad* array from 4D to 3D.\"\"\"\n",
    "    # Pad in the spatial dimensions, but leave the gradient dimension unpadded.\n",
    "    half_window = [(x // 2, x // 2) for x in window] + [(0, 0)]\n",
    "    padded = np.pad(grad, half_window, mode='reflect')\n",
    "    \n",
    "    out = np.empty(grad.shape[:3], dtype=float)\n",
    "    for i, j, k in np.ndindex(out.shape):\n",
    "        region = padded[i:i+window[0], j:j+window[1], k:k+window[2], :]\n",
    "        out[i,j,k] = func(region)\n",
    "    return out\n",
    "\n",
    "def gst_coherence_calc(region):\n",
    "    region = region.reshape(-1, 3)\n",
    "    gst = region.T.dot(region)\n",
    "    eigs = np.sort(np.linalg.eigvalsh(gst))[::-1]\n",
    "    return (eigs[0]-eigs[1]) / (eigs[0]+eigs[1])\n",
    "\n",
    "def gst_coherence(seismic, window, sigma=1):\n",
    "    \"\"\"\n",
    "    Randen, T., E. Monsen, C. Singe, A. Abrahamsen, J. Hansen, T. Saeter, and J. Schlaf, 2000,\n",
    "    Three-dimensional texture attributes for seismic data analysis, 70th Annual International Meeting,\n",
    "    SEG, Expanded Abstracts, 668-671.\n",
    "    \"\"\"\n",
    "    grad = gradients(seismic, sigma)\n",
    "    return moving_window4d(grad, window, gst_coherence_calc)"
   ]
  },
  {
   "cell_type": "code",
   "execution_count": null,
   "id": "eca5a254",
   "metadata": {},
   "outputs": [],
   "source": [
    "semb = gst_coherence(seismic_, (3, 3, 9))"
   ]
  },
  {
   "cell_type": "code",
   "execution_count": null,
   "id": "1f4fa9fa",
   "metadata": {},
   "outputs": [],
   "source": [
    "semb.shape"
   ]
  },
  {
   "cell_type": "code",
   "execution_count": null,
   "id": "d850bab5",
   "metadata": {},
   "outputs": [],
   "source": [
    "plt.imshow(semb[50].T)"
   ]
  },
  {
   "cell_type": "code",
   "execution_count": null,
   "id": "35ecd7c9",
   "metadata": {},
   "outputs": [],
   "source": []
  }
 ],
 "metadata": {
  "celltoolbar": "Tags",
  "kernelspec": {
   "display_name": "Python 3 (ipykernel)",
   "language": "python",
   "name": "python3"
  },
  "language_info": {
   "codemirror_mode": {
    "name": "ipython",
    "version": 3
   },
   "file_extension": ".py",
   "mimetype": "text/x-python",
   "name": "python",
   "nbconvert_exporter": "python",
   "pygments_lexer": "ipython3",
   "version": "3.9.7"
  }
 },
 "nbformat": 4,
 "nbformat_minor": 5
}
