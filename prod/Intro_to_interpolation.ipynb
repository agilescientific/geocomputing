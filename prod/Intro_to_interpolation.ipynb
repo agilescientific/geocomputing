{
 "cells": [
  {
   "cell_type": "markdown",
   "id": "503e3022",
   "metadata": {},
   "source": [
    "# Intro to interpolation in 1 dimension\n",
    "\n",
    "Let's make a bit of data, representing a nonlinear relationship."
   ]
  },
  {
   "cell_type": "code",
   "execution_count": 54,
   "id": "207436b7",
   "metadata": {},
   "outputs": [],
   "source": [
    "x = [10, 20, 30, 50, 60]\n",
    "y = [0.1, 0.2, 0.4, 1.6, 3.2]"
   ]
  },
  {
   "cell_type": "code",
   "execution_count": 55,
   "id": "1b73dbd2",
   "metadata": {},
   "outputs": [
    {
     "data": {
      "text/plain": [
       "[<matplotlib.lines.Line2D at 0x15e0c0730>]"
      ]
     },
     "execution_count": 55,
     "metadata": {},
     "output_type": "execute_result"
    },
    {
     "data": {
      "image/png": "[encoded data removed]",
      "text/plain": [
       "<Figure size 432x288 with 1 Axes>"
      ]
     },
     "metadata": {
      "needs_background": "light"
     },
     "output_type": "display_data"
    }
   ],
   "source": [
    "import matplotlib.pyplot as plt\n",
    "\n",
    "plt.plot(x, y, 'o')"
   ]
  },
  {
   "cell_type": "markdown",
   "id": "1281e1a0",
   "metadata": {},
   "source": [
    "Make a new basis:"
   ]
  },
  {
   "cell_type": "code",
   "execution_count": 56,
   "id": "b492ca1e",
   "metadata": {},
   "outputs": [
    {
     "data": {
      "text/plain": [
       "array([10.        , 10.83333333, 11.66666667, 12.5       , 13.33333333,\n",
       "       14.16666667, 15.        , 15.83333333, 16.66666667, 17.5       ,\n",
       "       18.33333333, 19.16666667, 20.        , 20.83333333, 21.66666667,\n",
       "       22.5       , 23.33333333, 24.16666667, 25.        , 25.83333333,\n",
       "       26.66666667, 27.5       , 28.33333333, 29.16666667, 30.        ,\n",
       "       30.83333333, 31.66666667, 32.5       , 33.33333333, 34.16666667,\n",
       "       35.        , 35.83333333, 36.66666667, 37.5       , 38.33333333,\n",
       "       39.16666667, 40.        , 40.83333333, 41.66666667, 42.5       ,\n",
       "       43.33333333, 44.16666667, 45.        , 45.83333333, 46.66666667,\n",
       "       47.5       , 48.33333333, 49.16666667, 50.        , 50.83333333,\n",
       "       51.66666667, 52.5       , 53.33333333, 54.16666667, 55.        ,\n",
       "       55.83333333, 56.66666667, 57.5       , 58.33333333, 59.16666667,\n",
       "       60.        ])"
      ]
     },
     "execution_count": 56,
     "metadata": {},
     "output_type": "execute_result"
    }
   ],
   "source": [
    "import numpy as np\n",
    "\n",
    "x_new = np.linspace(10, 60, 61)\n",
    "x_new"
   ]
  },
  {
   "cell_type": "markdown",
   "id": "3931bbba",
   "metadata": {},
   "source": [
    "## NumPy's `interp`\n",
    "\n",
    "This thing can only do linear interpolation."
   ]
  },
  {
   "cell_type": "code",
   "execution_count": 57,
   "id": "a907d1cd",
   "metadata": {},
   "outputs": [],
   "source": [
    "y_new = np.interp(x_new, x, y)"
   ]
  },
  {
   "cell_type": "code",
   "execution_count": 58,
   "id": "e3ae9a11",
   "metadata": {},
   "outputs": [
    {
     "data": {
      "text/plain": [
       "[<matplotlib.lines.Line2D at 0x15e12e400>]"
      ]
     },
     "execution_count": 58,
     "metadata": {},
     "output_type": "execute_result"
    },
    {
     "data": {
      "image/png": "[encoded data removed]",
      "text/plain": [
       "<Figure size 432x288 with 1 Axes>"
      ]
     },
     "metadata": {
      "needs_background": "light"
     },
     "output_type": "display_data"
    }
   ],
   "source": [
    "plt.plot(x, y, 'o')\n",
    "plt.plot(x_new, y_new)"
   ]
  },
  {
   "cell_type": "markdown",
   "id": "09f2fda8",
   "metadata": {},
   "source": [
    "## SciPy's `interp1d`"
   ]
  },
  {
   "cell_type": "code",
   "execution_count": 59,
   "id": "66b4abc0",
   "metadata": {},
   "outputs": [],
   "source": [
    "from scipy.interpolate import interp1d"
   ]
  },
  {
   "cell_type": "code",
   "execution_count": 60,
   "id": "5b519e4c",
   "metadata": {},
   "outputs": [
    {
     "data": {
      "text/plain": [
       "[<matplotlib.lines.Line2D at 0x15daecb50>]"
      ]
     },
     "execution_count": 60,
     "metadata": {},
     "output_type": "execute_result"
    },
    {
     "data": {
      "image/png": "[encoded data removed]",
      "text/plain": [
       "<Figure size 432x288 with 1 Axes>"
      ]
     },
     "metadata": {
      "needs_background": "light"
     },
     "output_type": "display_data"
    }
   ],
   "source": [
    "f = interp1d(x, y, kind='cubic')\n",
    "\n",
    "y_new = f(x_new)\n",
    "\n",
    "plt.plot(x, y, 'o')\n",
    "plt.plot(x_new, y_new)"
   ]
  },
  {
   "cell_type": "markdown",
   "id": "c07945d6",
   "metadata": {},
   "source": [
    "## With `pandas`\n",
    "\n",
    "The scipy interpolator is available via `pandas` too:"
   ]
  },
  {
   "cell_type": "code",
   "execution_count": 61,
   "id": "cfa62c27",
   "metadata": {},
   "outputs": [
    {
     "data": {
      "text/html": [
       "<div>\n",
       "<style scoped>\n",
       "    .dataframe tbody tr th:only-of-type {\n",
       "        vertical-align: middle;\n",
       "    }\n",
       "\n",
       "    .dataframe tbody tr th {\n",
       "        vertical-align: top;\n",
       "    }\n",
       "\n",
       "    .dataframe thead th {\n",
       "        text-align: right;\n",
       "    }\n",
       "</style>\n",
       "<table border=\"1\" class=\"dataframe\">\n",
       "  <thead>\n",
       "    <tr style=\"text-align: right;\">\n",
       "      <th></th>\n",
       "      <th>x</th>\n",
       "      <th>y</th>\n",
       "    </tr>\n",
       "  </thead>\n",
       "  <tbody>\n",
       "    <tr>\n",
       "      <th>0</th>\n",
       "      <td>10.0</td>\n",
       "      <td>0.1</td>\n",
       "    </tr>\n",
       "    <tr>\n",
       "      <th>1</th>\n",
       "      <td>20.0</td>\n",
       "      <td>0.2</td>\n",
       "    </tr>\n",
       "    <tr>\n",
       "      <th>2</th>\n",
       "      <td>30.0</td>\n",
       "      <td>0.4</td>\n",
       "    </tr>\n",
       "    <tr>\n",
       "      <th>3</th>\n",
       "      <td>50.0</td>\n",
       "      <td>1.6</td>\n",
       "    </tr>\n",
       "    <tr>\n",
       "      <th>4</th>\n",
       "      <td>60.0</td>\n",
       "      <td>3.2</td>\n",
       "    </tr>\n",
       "  </tbody>\n",
       "</table>\n",
       "</div>"
      ],
      "text/plain": [
       "      x    y\n",
       "0  10.0  0.1\n",
       "1  20.0  0.2\n",
       "2  30.0  0.4\n",
       "3  50.0  1.6\n",
       "4  60.0  3.2"
      ]
     },
     "execution_count": 61,
     "metadata": {},
     "output_type": "execute_result"
    }
   ],
   "source": [
    "import pandas as pd\n",
    "\n",
    "df = pd.DataFrame(np.array([x, y]).T, columns=['x', 'y'])\n",
    "df"
   ]
  },
  {
   "cell_type": "code",
   "execution_count": 62,
   "id": "a774ceee",
   "metadata": {},
   "outputs": [
    {
     "data": {
      "text/plain": [
       "array([10.        , 10.83333333, 11.66666667, 12.5       , 13.33333333,\n",
       "       14.16666667, 15.        , 15.83333333, 16.66666667, 17.5       ,\n",
       "       18.33333333, 19.16666667, 20.        , 20.83333333, 21.66666667,\n",
       "       22.5       , 23.33333333, 24.16666667, 25.        , 25.83333333,\n",
       "       26.66666667, 27.5       , 28.33333333, 29.16666667, 30.        ,\n",
       "       30.83333333, 31.66666667, 32.5       , 33.33333333, 34.16666667,\n",
       "       35.        , 35.83333333, 36.66666667, 37.5       , 38.33333333,\n",
       "       39.16666667, 40.        , 40.83333333, 41.66666667, 42.5       ,\n",
       "       43.33333333, 44.16666667, 45.        , 45.83333333, 46.66666667,\n",
       "       47.5       , 48.33333333, 49.16666667, 50.        , 50.83333333,\n",
       "       51.66666667, 52.5       , 53.33333333, 54.16666667, 55.        ,\n",
       "       55.83333333, 56.66666667, 57.5       , 58.33333333, 59.16666667,\n",
       "       60.        ])"
      ]
     },
     "execution_count": 62,
     "metadata": {},
     "output_type": "execute_result"
    }
   ],
   "source": [
    "x_new"
   ]
  },
  {
   "cell_type": "code",
   "execution_count": 63,
   "id": "5a883965",
   "metadata": {},
   "outputs": [
    {
     "data": {
      "text/html": [
       "<div>\n",
       "<style scoped>\n",
       "    .dataframe tbody tr th:only-of-type {\n",
       "        vertical-align: middle;\n",
       "    }\n",
       "\n",
       "    .dataframe tbody tr th {\n",
       "        vertical-align: top;\n",
       "    }\n",
       "\n",
       "    .dataframe thead th {\n",
       "        text-align: right;\n",
       "    }\n",
       "</style>\n",
       "<table border=\"1\" class=\"dataframe\">\n",
       "  <thead>\n",
       "    <tr style=\"text-align: right;\">\n",
       "      <th></th>\n",
       "      <th>x</th>\n",
       "    </tr>\n",
       "  </thead>\n",
       "  <tbody>\n",
       "    <tr>\n",
       "      <th>0</th>\n",
       "      <td>10.000000</td>\n",
       "    </tr>\n",
       "    <tr>\n",
       "      <th>1</th>\n",
       "      <td>10.833333</td>\n",
       "    </tr>\n",
       "    <tr>\n",
       "      <th>2</th>\n",
       "      <td>11.666667</td>\n",
       "    </tr>\n",
       "    <tr>\n",
       "      <th>3</th>\n",
       "      <td>12.500000</td>\n",
       "    </tr>\n",
       "    <tr>\n",
       "      <th>4</th>\n",
       "      <td>13.333333</td>\n",
       "    </tr>\n",
       "    <tr>\n",
       "      <th>...</th>\n",
       "      <td>...</td>\n",
       "    </tr>\n",
       "    <tr>\n",
       "      <th>56</th>\n",
       "      <td>56.666667</td>\n",
       "    </tr>\n",
       "    <tr>\n",
       "      <th>57</th>\n",
       "      <td>57.500000</td>\n",
       "    </tr>\n",
       "    <tr>\n",
       "      <th>58</th>\n",
       "      <td>58.333333</td>\n",
       "    </tr>\n",
       "    <tr>\n",
       "      <th>59</th>\n",
       "      <td>59.166667</td>\n",
       "    </tr>\n",
       "    <tr>\n",
       "      <th>60</th>\n",
       "      <td>60.000000</td>\n",
       "    </tr>\n",
       "  </tbody>\n",
       "</table>\n",
       "<p>61 rows × 1 columns</p>\n",
       "</div>"
      ],
      "text/plain": [
       "            x\n",
       "0   10.000000\n",
       "1   10.833333\n",
       "2   11.666667\n",
       "3   12.500000\n",
       "4   13.333333\n",
       "..        ...\n",
       "56  56.666667\n",
       "57  57.500000\n",
       "58  58.333333\n",
       "59  59.166667\n",
       "60  60.000000\n",
       "\n",
       "[61 rows x 1 columns]"
      ]
     },
     "execution_count": 63,
     "metadata": {},
     "output_type": "execute_result"
    }
   ],
   "source": [
    "dg = pd.DataFrame(x_new, columns=['x'])\n",
    "dg"
   ]
  },
  {
   "cell_type": "code",
   "execution_count": 64,
   "id": "087302f9",
   "metadata": {},
   "outputs": [
    {
     "data": {
      "text/html": [
       "<div>\n",
       "<style scoped>\n",
       "    .dataframe tbody tr th:only-of-type {\n",
       "        vertical-align: middle;\n",
       "    }\n",
       "\n",
       "    .dataframe tbody tr th {\n",
       "        vertical-align: top;\n",
       "    }\n",
       "\n",
       "    .dataframe thead th {\n",
       "        text-align: right;\n",
       "    }\n",
       "</style>\n",
       "<table border=\"1\" class=\"dataframe\">\n",
       "  <thead>\n",
       "    <tr style=\"text-align: right;\">\n",
       "      <th></th>\n",
       "      <th>x</th>\n",
       "      <th>y</th>\n",
       "    </tr>\n",
       "  </thead>\n",
       "  <tbody>\n",
       "    <tr>\n",
       "      <th>0</th>\n",
       "      <td>10.000000</td>\n",
       "      <td>0.1</td>\n",
       "    </tr>\n",
       "    <tr>\n",
       "      <th>1</th>\n",
       "      <td>10.833333</td>\n",
       "      <td>NaN</td>\n",
       "    </tr>\n",
       "    <tr>\n",
       "      <th>2</th>\n",
       "      <td>11.666667</td>\n",
       "      <td>NaN</td>\n",
       "    </tr>\n",
       "    <tr>\n",
       "      <th>3</th>\n",
       "      <td>12.500000</td>\n",
       "      <td>NaN</td>\n",
       "    </tr>\n",
       "    <tr>\n",
       "      <th>4</th>\n",
       "      <td>13.333333</td>\n",
       "      <td>NaN</td>\n",
       "    </tr>\n",
       "    <tr>\n",
       "      <th>5</th>\n",
       "      <td>14.166667</td>\n",
       "      <td>NaN</td>\n",
       "    </tr>\n",
       "    <tr>\n",
       "      <th>6</th>\n",
       "      <td>15.000000</td>\n",
       "      <td>NaN</td>\n",
       "    </tr>\n",
       "    <tr>\n",
       "      <th>7</th>\n",
       "      <td>15.833333</td>\n",
       "      <td>NaN</td>\n",
       "    </tr>\n",
       "    <tr>\n",
       "      <th>8</th>\n",
       "      <td>16.666667</td>\n",
       "      <td>NaN</td>\n",
       "    </tr>\n",
       "    <tr>\n",
       "      <th>9</th>\n",
       "      <td>17.500000</td>\n",
       "      <td>NaN</td>\n",
       "    </tr>\n",
       "    <tr>\n",
       "      <th>10</th>\n",
       "      <td>18.333333</td>\n",
       "      <td>NaN</td>\n",
       "    </tr>\n",
       "    <tr>\n",
       "      <th>11</th>\n",
       "      <td>19.166667</td>\n",
       "      <td>NaN</td>\n",
       "    </tr>\n",
       "    <tr>\n",
       "      <th>12</th>\n",
       "      <td>20.000000</td>\n",
       "      <td>0.2</td>\n",
       "    </tr>\n",
       "    <tr>\n",
       "      <th>13</th>\n",
       "      <td>20.833333</td>\n",
       "      <td>NaN</td>\n",
       "    </tr>\n",
       "    <tr>\n",
       "      <th>14</th>\n",
       "      <td>21.666667</td>\n",
       "      <td>NaN</td>\n",
       "    </tr>\n",
       "  </tbody>\n",
       "</table>\n",
       "</div>"
      ],
      "text/plain": [
       "            x    y\n",
       "0   10.000000  0.1\n",
       "1   10.833333  NaN\n",
       "2   11.666667  NaN\n",
       "3   12.500000  NaN\n",
       "4   13.333333  NaN\n",
       "5   14.166667  NaN\n",
       "6   15.000000  NaN\n",
       "7   15.833333  NaN\n",
       "8   16.666667  NaN\n",
       "9   17.500000  NaN\n",
       "10  18.333333  NaN\n",
       "11  19.166667  NaN\n",
       "12  20.000000  0.2\n",
       "13  20.833333  NaN\n",
       "14  21.666667  NaN"
      ]
     },
     "execution_count": 64,
     "metadata": {},
     "output_type": "execute_result"
    }
   ],
   "source": [
    "dh = pd.merge(df, dg, on='x', how='right')\n",
    "dh[:15]"
   ]
  },
  {
   "cell_type": "code",
   "execution_count": 65,
   "id": "143d609d",
   "metadata": {},
   "outputs": [
    {
     "data": {
      "text/html": [
       "<div>\n",
       "<style scoped>\n",
       "    .dataframe tbody tr th:only-of-type {\n",
       "        vertical-align: middle;\n",
       "    }\n",
       "\n",
       "    .dataframe tbody tr th {\n",
       "        vertical-align: top;\n",
       "    }\n",
       "\n",
       "    .dataframe thead th {\n",
       "        text-align: right;\n",
       "    }\n",
       "</style>\n",
       "<table border=\"1\" class=\"dataframe\">\n",
       "  <thead>\n",
       "    <tr style=\"text-align: right;\">\n",
       "      <th></th>\n",
       "      <th>x</th>\n",
       "      <th>y</th>\n",
       "    </tr>\n",
       "  </thead>\n",
       "  <tbody>\n",
       "    <tr>\n",
       "      <th>0</th>\n",
       "      <td>10.000000</td>\n",
       "      <td>0.100000</td>\n",
       "    </tr>\n",
       "    <tr>\n",
       "      <th>1</th>\n",
       "      <td>10.833333</td>\n",
       "      <td>0.105124</td>\n",
       "    </tr>\n",
       "    <tr>\n",
       "      <th>2</th>\n",
       "      <td>11.666667</td>\n",
       "      <td>0.110783</td>\n",
       "    </tr>\n",
       "    <tr>\n",
       "      <th>3</th>\n",
       "      <td>12.500000</td>\n",
       "      <td>0.116992</td>\n",
       "    </tr>\n",
       "    <tr>\n",
       "      <th>4</th>\n",
       "      <td>13.333333</td>\n",
       "      <td>0.123765</td>\n",
       "    </tr>\n",
       "    <tr>\n",
       "      <th>...</th>\n",
       "      <td>...</td>\n",
       "      <td>...</td>\n",
       "    </tr>\n",
       "    <tr>\n",
       "      <th>56</th>\n",
       "      <td>56.666667</td>\n",
       "      <td>2.560494</td>\n",
       "    </tr>\n",
       "    <tr>\n",
       "      <th>57</th>\n",
       "      <td>57.500000</td>\n",
       "      <td>2.709570</td>\n",
       "    </tr>\n",
       "    <tr>\n",
       "      <th>58</th>\n",
       "      <td>58.333333</td>\n",
       "      <td>2.865721</td>\n",
       "    </tr>\n",
       "    <tr>\n",
       "      <th>59</th>\n",
       "      <td>59.166667</td>\n",
       "      <td>3.029135</td>\n",
       "    </tr>\n",
       "    <tr>\n",
       "      <th>60</th>\n",
       "      <td>60.000000</td>\n",
       "      <td>3.200000</td>\n",
       "    </tr>\n",
       "  </tbody>\n",
       "</table>\n",
       "<p>61 rows × 2 columns</p>\n",
       "</div>"
      ],
      "text/plain": [
       "            x         y\n",
       "0   10.000000  0.100000\n",
       "1   10.833333  0.105124\n",
       "2   11.666667  0.110783\n",
       "3   12.500000  0.116992\n",
       "4   13.333333  0.123765\n",
       "..        ...       ...\n",
       "56  56.666667  2.560494\n",
       "57  57.500000  2.709570\n",
       "58  58.333333  2.865721\n",
       "59  59.166667  3.029135\n",
       "60  60.000000  3.200000\n",
       "\n",
       "[61 rows x 2 columns]"
      ]
     },
     "execution_count": 65,
     "metadata": {},
     "output_type": "execute_result"
    }
   ],
   "source": [
    "dh = dh.interpolate('cubic')\n",
    "dh"
   ]
  },
  {
   "cell_type": "code",
   "execution_count": 66,
   "id": "fff36171",
   "metadata": {},
   "outputs": [
    {
     "data": {
      "text/plain": [
       "array([0.1       , 0.10512394, 0.11078318, 0.11699219, 0.12376543])"
      ]
     },
     "execution_count": 66,
     "metadata": {},
     "output_type": "execute_result"
    }
   ],
   "source": [
    "y_new[:5]"
   ]
  },
  {
   "cell_type": "code",
   "execution_count": 67,
   "id": "c7463f91",
   "metadata": {},
   "outputs": [
    {
     "data": {
      "text/plain": [
       "[<matplotlib.lines.Line2D at 0x15e195be0>]"
      ]
     },
     "execution_count": 67,
     "metadata": {},
     "output_type": "execute_result"
    },
    {
     "data": {
      "image/png": "[encoded data removed]",
      "text/plain": [
       "<Figure size 432x288 with 1 Axes>"
      ]
     },
     "metadata": {
      "needs_background": "light"
     },
     "output_type": "display_data"
    }
   ],
   "source": [
    "plt.plot(x_new, y_new)\n",
    "plt.plot(dh.x, dh.y, '--')"
   ]
  },
  {
   "cell_type": "markdown",
   "id": "c60b574c",
   "metadata": {},
   "source": [
    "## With `sklearn`"
   ]
  },
  {
   "cell_type": "code",
   "execution_count": 78,
   "id": "a85cc7c7",
   "metadata": {},
   "outputs": [
    {
     "data": {
      "text/plain": [
       "[<matplotlib.lines.Line2D at 0x1611b1310>]"
      ]
     },
     "execution_count": 78,
     "metadata": {},
     "output_type": "execute_result"
    },
    {
     "data": {
      "image/png": "[encoded data removed]",
      "text/plain": [
       "<Figure size 432x288 with 1 Axes>"
      ]
     },
     "metadata": {
      "needs_background": "light"
     },
     "output_type": "display_data"
    }
   ],
   "source": [
    "from sklearn.neighbors import KNeighborsRegressor\n",
    "\n",
    "x = np.array(x).reshape(-1, 1)\n",
    "x_new = np.array(x_new).reshape(-1, 1)\n",
    "\n",
    "f = KNeighborsRegressor(n_neighbors=2).fit(x, y)  # x has to be 2D\n",
    "y_new = f.predict(x_new)\n",
    "\n",
    "plt.plot(x, y, 'o')\n",
    "plt.plot(x_new, y_new)"
   ]
  },
  {
   "cell_type": "code",
   "execution_count": 93,
   "id": "4705a51a",
   "metadata": {},
   "outputs": [
    {
     "data": {
      "text/plain": [
       "<matplotlib.legend.Legend at 0x1623b5dc0>"
      ]
     },
     "execution_count": 93,
     "metadata": {},
     "output_type": "execute_result"
    },
    {
     "data": {
      "image/png": "[encoded data removed]",
      "text/plain": [
       "<Figure size 432x288 with 1 Axes>"
      ]
     },
     "metadata": {
      "needs_background": "light"
     },
     "output_type": "display_data"
    }
   ],
   "source": [
    "from sklearn.neighbors import KNeighborsRegressor\n",
    "from sklearn.svm import SVR\n",
    "from sklearn.tree import DecisionTreeRegressor\n",
    "from sklearn.ensemble import RandomForestRegressor\n",
    "from sklearn.gaussian_process import GaussianProcessRegressor\n",
    "from sklearn.gaussian_process.kernels import RBF\n",
    "\n",
    "plt.plot(x, y, 'o', ms=10)\n",
    "\n",
    "models = {\n",
    "    'KNN': KNeighborsRegressor(n_neighbors=2),\n",
    "    'SVR': SVR(C=1e3),  # Turn regularization mostly off.\n",
    "    'DT': DecisionTreeRegressor(),\n",
    "    'RF': RandomForestRegressor(),\n",
    "    'GP': GaussianProcessRegressor(kernel=RBF(length_scale=2)),\n",
    "}\n",
    "\n",
    "for name, model in models.items():\n",
    "    f = model.fit(x, y)  # x has to be 2D\n",
    "    y_new = f.predict(x_new)\n",
    "    plt.plot(x_new, y_new, label=name)\n",
    "\n",
    "plt.legend()"
   ]
  },
  {
   "cell_type": "code",
   "execution_count": null,
   "id": "af5f525f",
   "metadata": {},
   "outputs": [],
   "source": []
  }
 ],
 "metadata": {
  "kernelspec": {
   "display_name": "Python 3 (ipykernel)",
   "language": "python",
   "name": "python3"
  },
  "language_info": {
   "codemirror_mode": {
    "name": "ipython",
    "version": 3
   },
   "file_extension": ".py",
   "mimetype": "text/x-python",
   "name": "python",
   "nbconvert_exporter": "python",
   "pygments_lexer": "ipython3",
   "version": "3.9.7"
  }
 },
 "nbformat": 4,
 "nbformat_minor": 5
}
