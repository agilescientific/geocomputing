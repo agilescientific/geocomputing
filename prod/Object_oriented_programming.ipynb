{
 "cells": [
  {
   "cell_type": "markdown",
   "metadata": {},
   "source": [
    "# Introduction to object oriented Python\n",
    "\n",
    "Everything in Python is an object: variables, raw types, functions, everything.\n",
    "\n",
    "Sometimes it's useful to organize code around data — to think of a type of data as owning its own functions and metadata. In essence, we store data along with relevant functions (methods) in one 'thing' — an object. You can also think of this as writing your own 'types'.\n",
    "\n",
    "You can also build very complicated code this way, so be careful! Don't dive into writing classes until you've used Python for a while and start to see how most people use objects in Python. \n",
    "\n",
    "This notebook builds on the workflow in [Intro to PYthon](Intro_to_Python.ipynb), so you shoudl be sure to look at that notebook first."
   ]
  },
  {
   "cell_type": "markdown",
   "metadata": {},
   "source": [
    "## Types\n",
    "\n",
    "Python has several types, many of which you're already familiar with."
   ]
  },
  {
   "cell_type": "code",
   "execution_count": 1,
   "metadata": {},
   "outputs": [
    {
     "data": {
      "text/plain": [
       "int"
      ]
     },
     "execution_count": 1,
     "metadata": {},
     "output_type": "execute_result"
    }
   ],
   "source": [
    "type(5)"
   ]
  },
  {
   "cell_type": "code",
   "execution_count": 2,
   "metadata": {},
   "outputs": [
    {
     "data": {
      "text/plain": [
       "(str, str)"
      ]
     },
     "execution_count": 2,
     "metadata": {},
     "output_type": "execute_result"
    }
   ],
   "source": [
    "type('fifteen'), type('15')"
   ]
  },
  {
   "cell_type": "markdown",
   "metadata": {},
   "source": [
    "'fifteen' is an **instance** of the class **str**.\n",
    "\n",
    "Most of these objects have methods, which are just functions that 'belong' to the class:"
   ]
  },
  {
   "cell_type": "code",
   "execution_count": 3,
   "metadata": {},
   "outputs": [
    {
     "data": {
      "text/plain": [
       "3"
      ]
     },
     "execution_count": 3,
     "metadata": {},
     "output_type": "execute_result"
    }
   ],
   "source": [
    "'fifteen'.find('t')  # Call the method `find` on the string"
   ]
  },
  {
   "cell_type": "code",
   "execution_count": 4,
   "metadata": {},
   "outputs": [
    {
     "data": {
      "text/plain": [
       "[1, 3, 4, 5, 7, 8, 1000]"
      ]
     },
     "execution_count": 4,
     "metadata": {},
     "output_type": "execute_result"
    }
   ],
   "source": [
    "lst = [1,3,4,5,7,8]\n",
    "lst.append(1000)\n",
    "lst"
   ]
  },
  {
   "cell_type": "markdown",
   "metadata": {},
   "source": [
    "## A simple class"
   ]
  },
  {
   "cell_type": "code",
   "execution_count": 5,
   "metadata": {},
   "outputs": [],
   "source": [
    "layers = [0.23, 0.34, 0.45, 0.25, 0.23, 0.35]"
   ]
  },
  {
   "cell_type": "markdown",
   "metadata": {},
   "source": [
    "Start with only one special method: `__init__()` which is required anyway.\n",
    "\n",
    "Inside `__init__()` we'll only define one **attribute**, `self.layers`."
   ]
  },
  {
   "cell_type": "code",
   "execution_count": 6,
   "metadata": {},
   "outputs": [],
   "source": [
    "import numpy as np\n",
    "\n",
    "class Layers(object):  # The 'new' Python base class — gives us some useful basic features.\n",
    "    \n",
    "    def __init__(self, layers):  # All methods take `self`, which is 'this' instance\n",
    "\n",
    "        # Just make sure we end up with an array\n",
    "        self.layers = np.array(layers)\n",
    "        \n",
    "        # __init__ can not return anything, and most people don't include a `return` line."
   ]
  },
  {
   "cell_type": "markdown",
   "metadata": {},
   "source": [
    "Now we can **instantiate** an instance of the class **Layers**"
   ]
  },
  {
   "cell_type": "code",
   "execution_count": 7,
   "metadata": {},
   "outputs": [],
   "source": [
    "l = Layers(layers=layers)"
   ]
  },
  {
   "cell_type": "code",
   "execution_count": 8,
   "metadata": {},
   "outputs": [
    {
     "data": {
      "text/plain": [
       "<__main__.Layers at 0x7fa812ea0048>"
      ]
     },
     "execution_count": 8,
     "metadata": {},
     "output_type": "execute_result"
    }
   ],
   "source": [
    "l"
   ]
  },
  {
   "cell_type": "code",
   "execution_count": 9,
   "metadata": {},
   "outputs": [
    {
     "data": {
      "text/plain": [
       "array([0.23, 0.34, 0.45, 0.25, 0.23, 0.35])"
      ]
     },
     "execution_count": 9,
     "metadata": {},
     "output_type": "execute_result"
    }
   ],
   "source": [
    "l.layers"
   ]
  },
  {
   "cell_type": "markdown",
   "metadata": {},
   "source": [
    "At this point, we might as well just have an array, like we had before. So let's add another attribute, let's give the object a natural language name called `label`:"
   ]
  },
  {
   "cell_type": "code",
   "execution_count": 10,
   "metadata": {},
   "outputs": [],
   "source": [
    "class Layers(object):\n",
    "    \n",
    "    def __init__(self, layers, label=None):  # We use a default value of None\n",
    "\n",
    "        self.layers = np.array(layers)\n",
    "        self.label = label or \"My log\"  # This trick substitutes anything evaluating as False with 'My log'"
   ]
  },
  {
   "cell_type": "code",
   "execution_count": 11,
   "metadata": {},
   "outputs": [],
   "source": [
    "l = Layers(layers, label='Well 1')"
   ]
  },
  {
   "cell_type": "code",
   "execution_count": 12,
   "metadata": {},
   "outputs": [
    {
     "data": {
      "text/plain": [
       "'Well 1'"
      ]
     },
     "execution_count": 12,
     "metadata": {},
     "output_type": "execute_result"
    }
   ],
   "source": [
    "l.label"
   ]
  },
  {
   "cell_type": "markdown",
   "metadata": {},
   "source": [
    "## Magic methods"
   ]
  },
  {
   "cell_type": "markdown",
   "metadata": {},
   "source": [
    "Let's find out how big our fancy `Layers` object is..."
   ]
  },
  {
   "cell_type": "code",
   "execution_count": 13,
   "metadata": {},
   "outputs": [
    {
     "ename": "TypeError",
     "evalue": "object of type 'Layers' has no len()",
     "output_type": "error",
     "traceback": [
      "\u001b[0;31m---------------------------------------------------------------------------\u001b[0m",
      "\u001b[0;31mTypeError\u001b[0m                                 Traceback (most recent call last)",
      "\u001b[0;32m<ipython-input-13-e75269d816bd>\u001b[0m in \u001b[0;36m<module>\u001b[0;34m\u001b[0m\n\u001b[0;32m----> 1\u001b[0;31m \u001b[0mlen\u001b[0m\u001b[0;34m(\u001b[0m\u001b[0ml\u001b[0m\u001b[0;34m)\u001b[0m\u001b[0;34m\u001b[0m\u001b[0;34m\u001b[0m\u001b[0m\n\u001b[0m",
      "\u001b[0;31mTypeError\u001b[0m: object of type 'Layers' has no len()"
     ]
    }
   ],
   "source": [
    "len(l)"
   ]
  },
  {
   "cell_type": "markdown",
   "metadata": {},
   "source": [
    "Dammit!\n",
    "\n",
    "The class inherited from `object` when we defined it, and it doesn't know how to apply `len` to our thing. We could do this..."
   ]
  },
  {
   "cell_type": "code",
   "execution_count": 14,
   "metadata": {},
   "outputs": [
    {
     "data": {
      "text/plain": [
       "6"
      ]
     },
     "execution_count": 14,
     "metadata": {},
     "output_type": "execute_result"
    }
   ],
   "source": [
    "len(l.layers)"
   ]
  },
  {
   "cell_type": "markdown",
   "metadata": {},
   "source": [
    "But sometimes we'd like something to 'just work' — maybe later we're going to pass our instances to something that can take lists or our new objects, and that thing might call `len()` on our object. \n",
    "\n",
    "That's why this also doesn't help:"
   ]
  },
  {
   "cell_type": "code",
   "execution_count": 13,
   "metadata": {},
   "outputs": [],
   "source": [
    "class Layers(object):\n",
    "    def __init__(self, layers, label=None):\n",
    "        self.layers = np.array(layers)\n",
    "        self.label = label or \"My log\"\n",
    "        self.length = self.layers.size"
   ]
  },
  {
   "cell_type": "markdown",
   "metadata": {},
   "source": [
    "What's more, storing length in an attribute like this is unexpected...\n",
    "\n",
    "So we tell it with a so-called 'dunder' (double-underscore) or ['magic' method](https://docs.python.org/3/reference/datamodel.html) (not to be confused with IPython magics). That way, we can give our object the same interface as typical Python objects."
   ]
  },
  {
   "cell_type": "code",
   "execution_count": 14,
   "metadata": {},
   "outputs": [],
   "source": [
    "class Layers(object):\n",
    "    def __init__(self, layers, label=None): \n",
    "        self.layers = np.array(layers)\n",
    "        self.label = label or \"My log\"\n",
    "\n",
    "    def __len__(self):\n",
    "        return len(self.layers)"
   ]
  },
  {
   "cell_type": "code",
   "execution_count": 15,
   "metadata": {},
   "outputs": [
    {
     "data": {
      "text/plain": [
       "6"
      ]
     },
     "execution_count": 15,
     "metadata": {},
     "output_type": "execute_result"
    }
   ],
   "source": [
    "l = Layers(layers, label='Well 1')\n",
    "len(l)"
   ]
  },
  {
   "cell_type": "markdown",
   "metadata": {},
   "source": [
    "Another useful magic method is `__repr__()`. Right now all we see when we do `l` on its own is:"
   ]
  },
  {
   "cell_type": "code",
   "execution_count": 16,
   "metadata": {},
   "outputs": [
    {
     "data": {
      "text/plain": [
       "<__main__.Layers at 0x7fa8047804a8>"
      ]
     },
     "execution_count": 16,
     "metadata": {},
     "output_type": "execute_result"
    }
   ],
   "source": [
    "l"
   ]
  },
  {
   "cell_type": "markdown",
   "metadata": {},
   "source": [
    "A similar method `__str__()` defines what happens if we cast the object to a `str` type — which is also what happens to it if we call `print()` on it.\n",
    "\n",
    "- The goal of `__repr__` is to be unambiguous\n",
    "- The goal of `__str__` is to be readable\n",
    "\n",
    "\n",
    "By default, `str` does the same as `repr`:"
   ]
  },
  {
   "cell_type": "code",
   "execution_count": 17,
   "metadata": {},
   "outputs": [
    {
     "name": "stdout",
     "output_type": "stream",
     "text": [
      "<__main__.Layers object at 0x7fa8047804a8>\n"
     ]
    }
   ],
   "source": [
    "print(l)"
   ]
  },
  {
   "cell_type": "markdown",
   "metadata": {
    "tags": [
     "exercise"
    ]
   },
   "source": [
    "## Exercise:\n",
    "\n",
    "- Try writing a `__str__()` method. Keep it simple. It should return `Layers(6 layers)` when you print our 6-layer instance on the command line.\n",
    "- Try writing a `__repr__()` method. It should return the code required to instantiate the object. It should return `Layers(layers=array([0.23, 0.34, 0.45, 0.25, 0.23, 0.35]), label=\"Well 1\")` when you type the name of our 6-layer instance on the command line.\n",
    "- **Hint.** You might want to use `repr()` on the internal `self.layers` object to get a representation of it for your `repr`."
   ]
  },
  {
   "cell_type": "code",
   "execution_count": 18,
   "metadata": {},
   "outputs": [
    {
     "ename": "IndentationError",
     "evalue": "expected an indented block (<ipython-input-18-9201e59ff164>, line 12)",
     "output_type": "error",
     "traceback": [
      "\u001b[0;36m  File \u001b[0;32m\"<ipython-input-18-9201e59ff164>\"\u001b[0;36m, line \u001b[0;32m12\u001b[0m\n\u001b[0;31m    def __str__(self):\u001b[0m\n\u001b[0m      ^\u001b[0m\n\u001b[0;31mIndentationError\u001b[0m\u001b[0;31m:\u001b[0m expected an indented block\n"
     ]
    }
   ],
   "source": [
    "class Layers(object):\n",
    "    def __init__(self, layers, label=None): \n",
    "        self.layers = np.array(layers)\n",
    "        self.label = label or \"My log\"\n",
    "\n",
    "    def __len__(self):\n",
    "        return len(self.layers)\n",
    "    \n",
    "    def __repr__(self):\n",
    "        # Your code here.\n",
    "        \n",
    "    def __str__(self):\n",
    "        # Your code here."
   ]
  },
  {
   "cell_type": "code",
   "execution_count": 19,
   "metadata": {
    "tags": [
     "hide"
    ]
   },
   "outputs": [],
   "source": [
    "class Layers(object):\n",
    "    def __init__(self, layers, label=None): \n",
    "        self.layers = np.array(layers)\n",
    "        self.label = label or \"My log\"\n",
    "\n",
    "    def __len__(self):\n",
    "        return len(self.layers)\n",
    "    \n",
    "    def __repr__(self):\n",
    "        return f'Layers(layers={repr(self.layers)}, label=\"{self.label}\")'\n",
    "    \n",
    "    def __str__(self):\n",
    "        return f'Layers({len(self)} layers)'"
   ]
  },
  {
   "cell_type": "code",
   "execution_count": 20,
   "metadata": {
    "tags": [
     "hide"
    ]
   },
   "outputs": [
    {
     "data": {
      "text/plain": [
       "Layers(layers=array([0.23, 0.34, 0.45, 0.25, 0.23, 0.35]), label=\"Well 1\")"
      ]
     },
     "execution_count": 20,
     "metadata": {},
     "output_type": "execute_result"
    }
   ],
   "source": [
    "l = Layers(layers, label='Well 1')\n",
    "l"
   ]
  },
  {
   "cell_type": "code",
   "execution_count": 21,
   "metadata": {
    "tags": [
     "hide"
    ]
   },
   "outputs": [
    {
     "name": "stdout",
     "output_type": "stream",
     "text": [
      "Layers(6 layers)\n"
     ]
    }
   ],
   "source": [
    "print(l)"
   ]
  },
  {
   "cell_type": "markdown",
   "metadata": {},
   "source": [
    "A handy extra magic method in Jupyter notebook is `_repr_html_()` which tells the notebook what to use for `repr()` — it overrides `__repr__()` when you're in the notebook."
   ]
  },
  {
   "cell_type": "code",
   "execution_count": 22,
   "metadata": {},
   "outputs": [],
   "source": [
    "class Layers(object):\n",
    "    def __init__(self, layers, label=None):\n",
    "        self.layers = np.array(layers)\n",
    "        self.label = label or \"My log\"\n",
    "        self.length = self.layers.size\n",
    "        \n",
    "    def __len__(self):\n",
    "        return len(self.layers)\n",
    "\n",
    "    def _repr_html_(self):\n",
    "        rows = \"<tr><th>{}</th></tr>\".format(self.label)\n",
    "        rows += \"<tr><td>\"\n",
    "        layer_strs = [str(i) for i in self.layers]\n",
    "        rows += \"</td></tr><tr><td>\".join(layer_strs)\n",
    "        rows += \"</td></tr>\"\n",
    "        html = \"<table>{}</table>\".format(rows)\n",
    "        return html"
   ]
  },
  {
   "cell_type": "code",
   "execution_count": 23,
   "metadata": {},
   "outputs": [
    {
     "data": {
      "text/html": [
       "<table><tr><th>Well 1</th></tr><tr><td>0.23</td></tr><tr><td>0.34</td></tr><tr><td>0.45</td></tr><tr><td>0.25</td></tr><tr><td>0.23</td></tr><tr><td>0.35</td></tr></table>"
      ],
      "text/plain": [
       "<__main__.Layers at 0x7fa804780f28>"
      ]
     },
     "execution_count": 23,
     "metadata": {},
     "output_type": "execute_result"
    }
   ],
   "source": [
    "l = Layers(layers, label='Well 1')\n",
    "l"
   ]
  },
  {
   "cell_type": "markdown",
   "metadata": {
    "tags": [
     "exercise"
    ]
   },
   "source": [
    "## Exercise\n",
    "\n",
    "- Try writing a method that allows you to do layers1 + layers2. You will need to define an `__add__()` method. It should return the result ofthe concatenation.\n",
    "- Use `np.hstack([arr1, arr2])` to stack the arrays containing the data. Form some kind of new label."
   ]
  },
  {
   "cell_type": "code",
   "execution_count": 24,
   "metadata": {},
   "outputs": [
    {
     "ename": "IndentationError",
     "evalue": "expected an indented block (<ipython-input-24-df9778b9d963>, line 13)",
     "output_type": "error",
     "traceback": [
      "\u001b[0;36m  File \u001b[0;32m\"<ipython-input-24-df9778b9d963>\"\u001b[0;36m, line \u001b[0;32m13\u001b[0m\n\u001b[0;31m    def _repr_html_(self):\u001b[0m\n\u001b[0m      ^\u001b[0m\n\u001b[0;31mIndentationError\u001b[0m\u001b[0;31m:\u001b[0m expected an indented block\n"
     ]
    }
   ],
   "source": [
    "class Layers(object):\n",
    "    def __init__(self, layers, label=None):\n",
    "        self.layers = np.array(layers)\n",
    "        self.label = label or \"My log\"\n",
    "        self.length = self.layers.size\n",
    "        \n",
    "    def __len__(self):\n",
    "        return len(self.layers)\n",
    "\n",
    "    def __add__(self, other):\n",
    "        # Your code here\n",
    "    \n",
    "    def _repr_html_(self):\n",
    "        rows = \"<tr><th>{}</th></tr>\".format(self.label)\n",
    "        rows += \"<tr><td>\"\n",
    "        layer_strs = [str(i) for i in self.layers]\n",
    "        rows += \"</td></tr><tr><td>\".join(layer_strs)\n",
    "        rows += \"</td></tr>\"\n",
    "        html = \"<table>{}</table>\".format(rows)\n",
    "        return html"
   ]
  },
  {
   "cell_type": "code",
   "execution_count": 25,
   "metadata": {
    "tags": [
     "hide"
    ]
   },
   "outputs": [],
   "source": [
    "class Layers(object):\n",
    "    def __init__(self, layers, label=None):\n",
    "        self.layers = np.array(layers)\n",
    "        self.label = label or \"My log\"\n",
    "        self.length = self.layers.size\n",
    "        \n",
    "    def __len__(self):\n",
    "        return len(self.layers)\n",
    "\n",
    "    def __add__(self, other):\n",
    "        new_layers = np.hstack([self.layers, other.layers])\n",
    "        new_label = \"{} + {}\".format(self.label, other.label)\n",
    "        return Layers(new_layers, label=new_label)\n",
    "    \n",
    "    def _repr_html_(self):\n",
    "        rows = \"<tr><th>{}</th></tr>\".format(self.label)\n",
    "        rows += \"<tr><td>\"\n",
    "        layer_strs = [str(i) for i in self.layers]\n",
    "        rows += \"</td></tr><tr><td>\".join(layer_strs)\n",
    "        rows += \"</td></tr>\"\n",
    "        html = \"<table>{}</table>\".format(rows)\n",
    "        return html"
   ]
  },
  {
   "cell_type": "code",
   "execution_count": 26,
   "metadata": {
    "tags": [
     "hide"
    ]
   },
   "outputs": [
    {
     "data": {
      "text/html": [
       "<table><tr><th>First + Second</th></tr><tr><td>1</td></tr><tr><td>2</td></tr><tr><td>3</td></tr><tr><td>4</td></tr><tr><td>5</td></tr><tr><td>6</td></tr></table>"
      ],
      "text/plain": [
       "<__main__.Layers at 0x7fa80478f2e8>"
      ]
     },
     "execution_count": 26,
     "metadata": {},
     "output_type": "execute_result"
    }
   ],
   "source": [
    "Layers([1,2,3], \"First\") + Layers([4,5,6], \"Second\")"
   ]
  },
  {
   "cell_type": "markdown",
   "metadata": {},
   "source": [
    "## Constructor methods\n",
    "\n",
    "It can be handy to have several ways to instantiate a class, rather than knowing you'll pass a list (say). \n",
    "\n",
    "Let's make a CSV file and write a special method to read those. Even though this is only a 1D dataset, I'll make it more interesting — and more like what you'll normally encounter — by assuming we're reading lots of rows from the CSV."
   ]
  },
  {
   "cell_type": "code",
   "execution_count": 27,
   "metadata": {},
   "outputs": [],
   "source": [
    "import csv\n",
    "\n",
    "with open('../data/my_layers.csv', 'w') as f:\n",
    "    writer = csv.writer(f, lineterminator='\\n')\n",
    "    for row in layers:\n",
    "        writer.writerow([row])  # Have to form a list b/c it's just a 1D array."
   ]
  },
  {
   "cell_type": "code",
   "execution_count": 44,
   "metadata": {},
   "outputs": [],
   "source": [
    "class Layers(object):\n",
    "    def __init__(self, layers, label=None):\n",
    "        self.layers = np.array(layers)\n",
    "        self.label = label or \"My log\"\n",
    "        self.length = self.layers.size\n",
    "        \n",
    "    def __len__(self):\n",
    "        return len(self.layers)\n",
    "    \n",
    "    def _repr_html_(self):\n",
    "        rows = \"<tr><th>{}</th></tr>\".format(self.label)\n",
    "        rows += \"<tr><td>\"\n",
    "        layer_strs = [str(i) for i in self.layers]\n",
    "        rows += \"</td></tr><tr><td>\".join(layer_strs)\n",
    "        rows += \"</td></tr>\"\n",
    "        html = \"<table>{}</table>\".format(rows)\n",
    "        return html\n",
    "    \n",
    "    # This decorator indicates to Python that this method handles classes not instances.\n",
    "    @classmethod\n",
    "    def from_csv(cls, filename, column=0):  # Takes cls not self.\n",
    "        layer_list = []\n",
    "        with open(filename, 'r') as f:\n",
    "            reader = csv.reader(f)\n",
    "            for row in reader:\n",
    "                layer_list.append(row[column])\n",
    "        return cls(layer_list)  # Returns an instance of the class."
   ]
  },
  {
   "cell_type": "code",
   "execution_count": 45,
   "metadata": {},
   "outputs": [
    {
     "data": {
      "text/html": [
       "<table><tr><th>My log</th></tr><tr><td>0.23</td></tr><tr><td>0.34</td></tr><tr><td>0.45</td></tr><tr><td>0.25</td></tr><tr><td>0.23</td></tr><tr><td>0.35</td></tr></table>"
      ],
      "text/plain": [
       "<__main__.Layers at 0x7f2ac83bd2b0>"
      ]
     },
     "execution_count": 45,
     "metadata": {},
     "output_type": "execute_result"
    }
   ],
   "source": [
    "l = Layers.from_csv('../data/my_layers.csv', column=0)\n",
    "l"
   ]
  },
  {
   "cell_type": "markdown",
   "metadata": {
    "tags": [
     "exercise"
    ]
   },
   "source": [
    "## Exercises\n",
    "\n",
    "- Can you write a method to compute reflection coefficients for these layers?\n",
    "- Can you write a method to plot the `Layers` instance? Try to make it look like this:\n",
    "\n",
    "![](../images/rcs_plot.png)"
   ]
  },
  {
   "cell_type": "code",
   "execution_count": 46,
   "metadata": {
    "tags": [
     "hide"
    ]
   },
   "outputs": [],
   "source": [
    "import matplotlib.pyplot as plt\n",
    "%matplotlib inline\n",
    "\n",
    "class Layers(object):\n",
    "    def __init__(self, layers, label=None):\n",
    "        self.layers = np.array(layers)\n",
    "        self.label = label or \"My log\"\n",
    "        self.length = self.layers.size\n",
    "        \n",
    "    def __len__(self):\n",
    "        return len(self.layers)\n",
    "\n",
    "    def __repr__(self):\n",
    "        return f'Layers(layers={repr(self.layers)}, label=\"{self.label}\")'\n",
    "    \n",
    "    def __str__(self):\n",
    "        return f'Layers({len(self)} layers)'\n",
    "    \n",
    "    def __add__(self, other):\n",
    "        new_layers = np.hstack([self.layers, other.layers])\n",
    "        new_label = \"{} + {}\".format(self.label, other.label)\n",
    "        return Layers(new_layers, label=new_label)\n",
    "    \n",
    "    def _repr_html_(self):\n",
    "        rows = \"<tr><th>{}</th></tr>\".format(self.label)\n",
    "        rows += \"<tr><td>\"\n",
    "        layer_strs = [str(i) for i in self.layers]\n",
    "        rows += \"</td></tr><tr><td>\".join(layer_strs)\n",
    "        rows += \"</td></tr>\"\n",
    "        html = \"<table>{}</table>\".format(rows)\n",
    "        return html\n",
    "    \n",
    "    # This decorator indicates to Python that this method handles classes not instances.\n",
    "    @classmethod\n",
    "    def from_csv(cls, filename, column=0):  # Takes cls not self.\n",
    "        layer_list = []\n",
    "        with open(filename, 'r') as f:\n",
    "            reader = csv.reader(f)\n",
    "            for row in reader:\n",
    "                layer_list.append(row[column])\n",
    "        return cls(layer_list)  # Returns an instance of the class.   \n",
    "    \n",
    "    def rcs(self):\n",
    "        uppers = self.layers[:-1]\n",
    "        lowers = self.layers[1:]\n",
    "        return (lowers-uppers) / (uppers+lowers)\n",
    "    \n",
    "    def plot(self, lw=0.5, color='#6699ff'):\n",
    "        fig = plt.figure(figsize=(2,6))\n",
    "        ax = fig.add_subplot(111)\n",
    "        ax.barh(range(len(self.layers)), self.layers, color=color, lw=lw, align='edge', height=1.0, alpha=1.0, zorder=10)\n",
    "        ax.grid(zorder=2)\n",
    "        ax.set_ylabel('Layers')\n",
    "        ax.set_title(self.label)\n",
    "        ax.set_xlim([-0.5,1.0])\n",
    "        ax.set_xlabel('Measurement (units)')\n",
    "        ax.invert_yaxis()  \n",
    "        ax.set_xticks(ax.get_xticks()[::2])    # take out every second tick\n",
    "        ax.spines['right'].set_visible(False)  # hide the spine on the right\n",
    "        ax.yaxis.set_ticks_position('left')    # Only show ticks on the left and bottom spines\n",
    "        \n",
    "        plt.show()\n",
    "        return\n"
   ]
  },
  {
   "cell_type": "code",
   "execution_count": 47,
   "metadata": {},
   "outputs": [
    {
     "data": {
      "text/plain": [
       "array([ 0.19298246,  0.13924051, -0.28571429, -0.04166667,  0.20689655])"
      ]
     },
     "execution_count": 47,
     "metadata": {},
     "output_type": "execute_result"
    }
   ],
   "source": [
    "l = Layers(layers, label='Well 1')\n",
    "l.rcs()"
   ]
  },
  {
   "cell_type": "code",
   "execution_count": 48,
   "metadata": {},
   "outputs": [
    {
     "data": {
      "image/png": "[encoded data removed]",
      "text/plain": [
       "<Figure size 144x432 with 1 Axes>"
      ]
     },
     "metadata": {
      "needs_background": "light"
     },
     "output_type": "display_data"
    }
   ],
   "source": [
    "l.plot()"
   ]
  },
  {
   "cell_type": "markdown",
   "metadata": {},
   "source": [
    "<hr />\n",
    "\n",
    "<div>\n",
    "<img src=\"https://avatars1.githubusercontent.com/u/1692321?s=50\"><p style=\"text-align:center\">© Agile Geoscience 2019</p>\n",
    "</div>"
   ]
  }
 ],
 "metadata": {
  "anaconda-cloud": {},
  "celltoolbar": "Tags",
  "kernelspec": {
   "display_name": "Python 3",
   "language": "python",
   "name": "python3"
  },
  "language_info": {
   "codemirror_mode": {
    "name": "ipython",
    "version": 3
   },
   "file_extension": ".py",
   "mimetype": "text/x-python",
   "name": "python",
   "nbconvert_exporter": "python",
   "pygments_lexer": "ipython3",
   "version": "3.6.7"
  }
 },
 "nbformat": 4,
 "nbformat_minor": 4
}
