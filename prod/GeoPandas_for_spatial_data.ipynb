{
 "cells": [
  {
   "cell_type": "markdown",
   "metadata": {},
   "source": [
    "# `GeoPandas` for spatial data management\n",
    "\n",
    "[GeoPandas](http://geopandas.org/) is an extension of Pandas. A `GeoDataFrame` is just like a normal DataFrame, except each record has a [`shapely`](https://shapely.readthedocs.io/en/stable/manual.html) geometry attached. This geometry can be a point, a line, or a polygon.\n",
    "\n",
    "GeoDataFrames can easily be saved as SHP or GeoJSON."
   ]
  },
  {
   "cell_type": "markdown",
   "metadata": {},
   "source": [
    "## `shapely` for geometries\n",
    "\n",
    "`geopandas` uses `shapely` for 2D geometry processing and analysis.\n",
    "\n",
    "If you ever need to handle 2D geometric relationships, this library will save you a lot of time. It implements a lot of trickt maths, and is also very fast.\n",
    "\n",
    "[Read the docs.](https://shapely.readthedocs.io/en/stable/manual.html)\n",
    "\n",
    "The main objects are Points, Lines (called LineStrings) and Polygons. Each object also has a 'Multi' version which is a collection of those objects. \n",
    "\n",
    "We'll start by making a small collection of Points:"
   ]
  },
  {
   "cell_type": "code",
   "execution_count": 1,
   "metadata": {},
   "outputs": [
    {
     "data": {
      "image/svg+xml": [
       "<svg xmlns=\"http://www.w3.org/2000/svg\" xmlns:xlink=\"http://www.w3.org/1999/xlink\" width=\"100.0\" height=\"100.0\" viewBox=\"-0.08 -0.08 1.1600000000000001 2.16\" preserveAspectRatio=\"xMinYMin meet\"><g transform=\"matrix(1,0,0,-1,0,2.0)\"><g><circle cx=\"0.0\" cy=\"0.0\" r=\"0.0648\" stroke=\"#555555\" stroke-width=\"0.0216\" fill=\"#66cc99\" opacity=\"0.6\" /><circle cx=\"1.0\" cy=\"2.0\" r=\"0.0648\" stroke=\"#555555\" stroke-width=\"0.0216\" fill=\"#66cc99\" opacity=\"0.6\" /></g></g></svg>"
      ],
      "text/plain": [
       "<shapely.geometry.multipoint.MultiPoint at 0x10bd439a0>"
      ]
     },
     "execution_count": 1,
     "metadata": {},
     "output_type": "execute_result"
    }
   ],
   "source": [
    "from shapely.geometry import Point, MultiPoint\n",
    "\n",
    "p = Point(0.0, 0.0)\n",
    "q = Point(1.0, 2.0)\n",
    "\n",
    "MultiPoint([p, q])  # A collection of points."
   ]
  },
  {
   "cell_type": "code",
   "execution_count": 12,
   "metadata": {},
   "outputs": [
    {
     "data": {
      "image/svg+xml": [
       "<svg xmlns=\"http://www.w3.org/2000/svg\" xmlns:xlink=\"http://www.w3.org/1999/xlink\" width=\"100.0\" height=\"100.0\" viewBox=\"-0.08 -0.08 1.1600000000000001 2.16\" preserveAspectRatio=\"xMinYMin meet\"><g transform=\"matrix(1,0,0,-1,0,2.0)\"><polyline fill=\"none\" stroke=\"#66cc99\" stroke-width=\"0.0432\" points=\"0.0,0.0 1.0,2.0\" opacity=\"0.8\" /></g></svg>"
      ],
      "text/plain": [
       "<shapely.geometry.linestring.LineString at 0x10bd436d0>"
      ]
     },
     "execution_count": 12,
     "metadata": {},
     "output_type": "execute_result"
    }
   ],
   "source": [
    "from shapely.geometry import LineString\n",
    "\n",
    "L = LineString([p, q])\n",
    "L"
   ]
  },
  {
   "cell_type": "code",
   "execution_count": null,
   "metadata": {},
   "outputs": [],
   "source": []
  },
  {
   "cell_type": "code",
   "execution_count": 13,
   "metadata": {
    "tags": [
     "hide"
    ]
   },
   "outputs": [
    {
     "data": {
      "text/plain": [
       "2.23606797749979"
      ]
     },
     "execution_count": 13,
     "metadata": {},
     "output_type": "execute_result"
    }
   ],
   "source": [
    "L.length"
   ]
  },
  {
   "cell_type": "code",
   "execution_count": 14,
   "metadata": {},
   "outputs": [],
   "source": [
    "L2 = LineString([(1, 0), (0, 2)])"
   ]
  },
  {
   "cell_type": "code",
   "execution_count": 15,
   "metadata": {},
   "outputs": [
    {
     "data": {
      "text/plain": [
       "((0.5, 1.0),)"
      ]
     },
     "execution_count": 15,
     "metadata": {},
     "output_type": "execute_result"
    }
   ],
   "source": [
    "tuple(L.intersection(L2).coords)"
   ]
  },
  {
   "cell_type": "code",
   "execution_count": 16,
   "metadata": {},
   "outputs": [
    {
     "data": {
      "text/plain": [
       "((0.17888543819998318, 0.35777087639996635),)"
      ]
     },
     "execution_count": 16,
     "metadata": {},
     "output_type": "execute_result"
    }
   ],
   "source": [
    "tuple(LineString([p, q]).interpolate(0.4).coords)"
   ]
  },
  {
   "cell_type": "code",
   "execution_count": 17,
   "metadata": {},
   "outputs": [
    {
     "data": {
      "image/svg+xml": [
       "<svg xmlns=\"http://www.w3.org/2000/svg\" xmlns:xlink=\"http://www.w3.org/1999/xlink\" width=\"100.0\" height=\"100.0\" viewBox=\"-1.16 -1.16 4.32 4.32\" preserveAspectRatio=\"xMinYMin meet\"><g transform=\"matrix(1,0,0,-1,0,2.0)\"><path fill-rule=\"evenodd\" fill=\"#66cc99\" stroke=\"#555555\" stroke-width=\"0.0864\" opacity=\"0.6\" d=\"M 3.0,-1.0 L 3.0,3.0 L -1.0,3.0 L -1.0,-1.0 L 3.0,-1.0 z\" /></g></svg>"
      ],
      "text/plain": [
       "<shapely.geometry.polygon.Polygon at 0x111f30f10>"
      ]
     },
     "execution_count": 17,
     "metadata": {},
     "output_type": "execute_result"
    }
   ],
   "source": [
    "from shapely.geometry import box, Polygon\n",
    "\n",
    "x = box(-1, -1, 3, 3)  # minx, miny, maxx, maxy\n",
    "x"
   ]
  },
  {
   "cell_type": "code",
   "execution_count": null,
   "metadata": {},
   "outputs": [],
   "source": []
  },
  {
   "cell_type": "code",
   "execution_count": 18,
   "metadata": {
    "tags": [
     "hide"
    ]
   },
   "outputs": [
    {
     "data": {
      "text/plain": [
       "True"
      ]
     },
     "execution_count": 18,
     "metadata": {},
     "output_type": "execute_result"
    }
   ],
   "source": [
    "x.contains(p)"
   ]
  },
  {
   "cell_type": "markdown",
   "metadata": {
    "tags": [
     "exercise"
    ]
   },
   "source": [
    "### EXERCISE\n",
    "\n",
    "Create two LineString objects:\n",
    "\n",
    "- Line 1 points: (0, 0), (1, 1), (0, 2), (1, 3), (0, 4)\n",
    "- Line 2 points: (0, -1), (1, 5)\n",
    "\n",
    "At how many points do these lines intersect?"
   ]
  },
  {
   "cell_type": "code",
   "execution_count": 19,
   "metadata": {},
   "outputs": [],
   "source": [
    "# YOUR CODE HERE\n"
   ]
  },
  {
   "cell_type": "code",
   "execution_count": 20,
   "metadata": {
    "tags": [
     "hide"
    ]
   },
   "outputs": [
    {
     "data": {
      "text/plain": [
       "4"
      ]
     },
     "execution_count": 20,
     "metadata": {},
     "output_type": "execute_result"
    }
   ],
   "source": [
    "a = LineString([(0, 0), (1, 1), (0, 2), (1, 3), (0, 4)])\n",
    "b = LineString([(0, -1), (1, 5)])\n",
    "\n",
    "len(a.intersection(b))"
   ]
  },
  {
   "cell_type": "code",
   "execution_count": 26,
   "metadata": {
    "tags": [
     "hide"
    ]
   },
   "outputs": [
    {
     "data": {
      "text/plain": [
       "array([[0., 0.],\n",
       "       [1., 1.],\n",
       "       [0., 2.],\n",
       "       [1., 3.],\n",
       "       [0., 4.]])"
      ]
     },
     "execution_count": 26,
     "metadata": {},
     "output_type": "execute_result"
    }
   ],
   "source": [
    "# We can turn things into arrays if needed:\n",
    "import numpy as np\n",
    "\n",
    "np.array(a)"
   ]
  },
  {
   "cell_type": "code",
   "execution_count": 45,
   "metadata": {
    "tags": [
     "hide"
    ]
   },
   "outputs": [
    {
     "data": {
      "text/plain": [
       "[<matplotlib.lines.Line2D at 0x163cb52b0>]"
      ]
     },
     "execution_count": 45,
     "metadata": {},
     "output_type": "execute_result"
    },
    {
     "data": {
      "image/png": "[encoded data removed]",
      "text/plain": [
       "<Figure size 432x288 with 1 Axes>"
      ]
     },
     "metadata": {
      "needs_background": "light"
     },
     "output_type": "display_data"
    }
   ],
   "source": [
    "# So plotting is fairly easy:\n",
    "import matplotlib.pyplot as plt\n",
    "\n",
    "plt.plot(*np.array(a).T)\n",
    "plt.plot(*np.array(b).T)\n",
    "plt.plot(*np.array(a.intersection(b)).T, 'o', ms=14, mfc=(1, 0, 0, 0.15))"
   ]
  },
  {
   "cell_type": "markdown",
   "metadata": {},
   "source": [
    "## Read a shapefile\n",
    "\n",
    "We'll use this dataset: https://geocomp.s3.amazonaws.com/data/Offshore_wells.geojson\n",
    "\n",
    "This was generated from a shapefile that was written by QGIS."
   ]
  },
  {
   "cell_type": "code",
   "execution_count": 37,
   "metadata": {},
   "outputs": [
    {
     "data": {
      "text/html": [
       "<div>\n",
       "<style scoped>\n",
       "    .dataframe tbody tr th:only-of-type {\n",
       "        vertical-align: middle;\n",
       "    }\n",
       "\n",
       "    .dataframe tbody tr th {\n",
       "        vertical-align: top;\n",
       "    }\n",
       "\n",
       "    .dataframe thead th {\n",
       "        text-align: right;\n",
       "    }\n",
       "</style>\n",
       "<table border=\"1\" class=\"dataframe\">\n",
       "  <thead>\n",
       "    <tr style=\"text-align: right;\">\n",
       "      <th></th>\n",
       "      <th>Company</th>\n",
       "      <th>D__</th>\n",
       "      <th>Drilling_U</th>\n",
       "      <th>RT_Elevati</th>\n",
       "      <th>Spud_Date</th>\n",
       "      <th>Total_De_1</th>\n",
       "      <th>Total_Dept</th>\n",
       "      <th>Water_Dept</th>\n",
       "      <th>Well_Nam_1</th>\n",
       "      <th>Well_Name</th>\n",
       "      <th>Well_No_</th>\n",
       "      <th>Well_Symb</th>\n",
       "      <th>Well_Termi</th>\n",
       "      <th>Well_Type</th>\n",
       "      <th>seafl_twt_</th>\n",
       "      <th>geometry</th>\n",
       "    </tr>\n",
       "  </thead>\n",
       "  <tbody>\n",
       "    <tr>\n",
       "      <th>0</th>\n",
       "      <td>Mobil et al</td>\n",
       "      <td>1.0</td>\n",
       "      <td>Bawden Rig 18</td>\n",
       "      <td>8.2</td>\n",
       "      <td>1967-06-07</td>\n",
       "      <td>15106.0</td>\n",
       "      <td>4604.0</td>\n",
       "      <td>3.9</td>\n",
       "      <td>C-67</td>\n",
       "      <td>Sable Island</td>\n",
       "      <td>1.0</td>\n",
       "      <td>Plugged dry hole</td>\n",
       "      <td>1968-01-02</td>\n",
       "      <td>Exploratory</td>\n",
       "      <td>5.252525</td>\n",
       "      <td>POINT (-59.91627 43.93476)</td>\n",
       "    </tr>\n",
       "    <tr>\n",
       "      <th>1</th>\n",
       "      <td>Shell</td>\n",
       "      <td>2.0</td>\n",
       "      <td>Sedneth 1</td>\n",
       "      <td>25.9</td>\n",
       "      <td>1969-09-01</td>\n",
       "      <td>13085.0</td>\n",
       "      <td>3988.0</td>\n",
       "      <td>57.9</td>\n",
       "      <td>E-84</td>\n",
       "      <td>Onondaga</td>\n",
       "      <td>2.0</td>\n",
       "      <td>Plugged gas well</td>\n",
       "      <td>1969-11-11</td>\n",
       "      <td>Exploratory</td>\n",
       "      <td>77.979798</td>\n",
       "      <td>POINT (-60.22067 43.72122)</td>\n",
       "    </tr>\n",
       "    <tr>\n",
       "      <th>2</th>\n",
       "      <td>Shell</td>\n",
       "      <td>3.0</td>\n",
       "      <td>Sedneth 1</td>\n",
       "      <td>25.9</td>\n",
       "      <td>1969-11-16</td>\n",
       "      <td>13516.0</td>\n",
       "      <td>4120.0</td>\n",
       "      <td>82.3</td>\n",
       "      <td>O-25</td>\n",
       "      <td>Oneida</td>\n",
       "      <td>3.0</td>\n",
       "      <td>Plugged dry hole</td>\n",
       "      <td>1970-02-10</td>\n",
       "      <td>Exploratory</td>\n",
       "      <td>110.841751</td>\n",
       "      <td>POINT (-61.55940 43.24934)</td>\n",
       "    </tr>\n",
       "    <tr>\n",
       "      <th>3</th>\n",
       "      <td>Shell</td>\n",
       "      <td>4.0</td>\n",
       "      <td>Sedneth 1</td>\n",
       "      <td>26.0</td>\n",
       "      <td>1970-02-16</td>\n",
       "      <td>7235.0</td>\n",
       "      <td>2205.0</td>\n",
       "      <td>95.1</td>\n",
       "      <td>N-30</td>\n",
       "      <td>Naskapi</td>\n",
       "      <td>4.0</td>\n",
       "      <td>Plugged dry hole</td>\n",
       "      <td>1970-03-19</td>\n",
       "      <td>Exploratory</td>\n",
       "      <td>128.080808</td>\n",
       "      <td>POINT (-62.56584 43.49640)</td>\n",
       "    </tr>\n",
       "    <tr>\n",
       "      <th>4</th>\n",
       "      <td>Shell</td>\n",
       "      <td>5.0</td>\n",
       "      <td>Sedco H</td>\n",
       "      <td>31.4</td>\n",
       "      <td>1970-05-03</td>\n",
       "      <td>6975.0</td>\n",
       "      <td>2126.0</td>\n",
       "      <td>117.0</td>\n",
       "      <td>B-93</td>\n",
       "      <td>Mohawk</td>\n",
       "      <td>5.0</td>\n",
       "      <td>Plugged dry hole</td>\n",
       "      <td>1970-05-23</td>\n",
       "      <td>Exploratory</td>\n",
       "      <td>157.575758</td>\n",
       "      <td>POINT (-64.73084 42.70305)</td>\n",
       "    </tr>\n",
       "  </tbody>\n",
       "</table>\n",
       "</div>"
      ],
      "text/plain": [
       "       Company  D__     Drilling_U  RT_Elevati   Spud_Date  Total_De_1  \\\n",
       "0  Mobil et al  1.0  Bawden Rig 18         8.2  1967-06-07     15106.0   \n",
       "1        Shell  2.0      Sedneth 1        25.9  1969-09-01     13085.0   \n",
       "2        Shell  3.0      Sedneth 1        25.9  1969-11-16     13516.0   \n",
       "3        Shell  4.0      Sedneth 1        26.0  1970-02-16      7235.0   \n",
       "4        Shell  5.0        Sedco H        31.4  1970-05-03      6975.0   \n",
       "\n",
       "   Total_Dept  Water_Dept Well_Nam_1     Well_Name  Well_No_  \\\n",
       "0      4604.0         3.9       C-67  Sable Island       1.0   \n",
       "1      3988.0        57.9       E-84      Onondaga       2.0   \n",
       "2      4120.0        82.3       O-25        Oneida       3.0   \n",
       "3      2205.0        95.1       N-30       Naskapi       4.0   \n",
       "4      2126.0       117.0       B-93        Mohawk       5.0   \n",
       "\n",
       "          Well_Symb  Well_Termi    Well_Type  seafl_twt_  \\\n",
       "0  Plugged dry hole  1968-01-02  Exploratory    5.252525   \n",
       "1  Plugged gas well  1969-11-11  Exploratory   77.979798   \n",
       "2  Plugged dry hole  1970-02-10  Exploratory  110.841751   \n",
       "3  Plugged dry hole  1970-03-19  Exploratory  128.080808   \n",
       "4  Plugged dry hole  1970-05-23  Exploratory  157.575758   \n",
       "\n",
       "                     geometry  \n",
       "0  POINT (-59.91627 43.93476)  \n",
       "1  POINT (-60.22067 43.72122)  \n",
       "2  POINT (-61.55940 43.24934)  \n",
       "3  POINT (-62.56584 43.49640)  \n",
       "4  POINT (-64.73084 42.70305)  "
      ]
     },
     "execution_count": 37,
     "metadata": {},
     "output_type": "execute_result"
    }
   ],
   "source": [
    "import geopandas as gpd\n",
    "\n",
    "gdf = gpd.read_file('https://geocomp.s3.amazonaws.com/data/Offshore_wells.geojson')\n",
    "\n",
    "gdf.head()"
   ]
  },
  {
   "cell_type": "code",
   "execution_count": 38,
   "metadata": {},
   "outputs": [
    {
     "data": {
      "text/plain": [
       "<AxesSubplot:>"
      ]
     },
     "execution_count": 38,
     "metadata": {},
     "output_type": "execute_result"
    },
    {
     "data": {
      "image/png": "[encoded data removed]",
      "text/plain": [
       "<Figure size 432x288 with 1 Axes>"
      ]
     },
     "metadata": {
      "needs_background": "light"
     },
     "output_type": "display_data"
    }
   ],
   "source": [
    "gdf.plot()"
   ]
  },
  {
   "cell_type": "markdown",
   "metadata": {},
   "source": [
    "The CRS is stored with [an EPSG code](https://spatialreference.org/ref/epsg/).\n",
    "\n",
    "This one is WGS84:"
   ]
  },
  {
   "cell_type": "code",
   "execution_count": null,
   "metadata": {},
   "outputs": [],
   "source": [
    "gdf.crs"
   ]
  },
  {
   "cell_type": "markdown",
   "metadata": {},
   "source": [
    "## Data analysis\n",
    "\n",
    "Let's look at the data in this GeoDataFrame:"
   ]
  },
  {
   "cell_type": "code",
   "execution_count": null,
   "metadata": {},
   "outputs": [],
   "source": []
  },
  {
   "cell_type": "code",
   "execution_count": null,
   "metadata": {
    "tags": [
     "hide"
    ]
   },
   "outputs": [],
   "source": [
    "gdf.describe()"
   ]
  },
  {
   "cell_type": "code",
   "execution_count": null,
   "metadata": {},
   "outputs": [],
   "source": []
  },
  {
   "cell_type": "code",
   "execution_count": null,
   "metadata": {
    "tags": [
     "hide"
    ]
   },
   "outputs": [],
   "source": [
    "# Build this up.\n",
    "gdf['Total_Dept'].hist(bins=20)"
   ]
  },
  {
   "cell_type": "markdown",
   "metadata": {},
   "source": [
    "Let's look at companies:"
   ]
  },
  {
   "cell_type": "code",
   "execution_count": null,
   "metadata": {},
   "outputs": [],
   "source": []
  },
  {
   "cell_type": "code",
   "execution_count": null,
   "metadata": {
    "tags": [
     "hide"
    ]
   },
   "outputs": [],
   "source": [
    "gdf['Company'].value_counts()"
   ]
  },
  {
   "cell_type": "markdown",
   "metadata": {},
   "source": [
    "Notice how many typos and repeats there are! We could find all the occurrences of `\"Pex-Tex\"` and `\"Pex/Tex\"`:"
   ]
  },
  {
   "cell_type": "code",
   "execution_count": null,
   "metadata": {},
   "outputs": [],
   "source": [
    "gdf.loc[gdf['Company'].str.count('Pex-Tex|Pex/Tex') > 0]"
   ]
  },
  {
   "cell_type": "markdown",
   "metadata": {},
   "source": [
    "Before we go much further, it's going to be advantageous to convert dates to `datetime` objects — right now they are strings:"
   ]
  },
  {
   "cell_type": "code",
   "execution_count": null,
   "metadata": {},
   "outputs": [],
   "source": [
    "gdf.loc[0, 'Spud_Date']"
   ]
  },
  {
   "cell_type": "code",
   "execution_count": 66,
   "metadata": {},
   "outputs": [
    {
     "data": {
      "text/plain": [
       "Timestamp('1967-06-07 00:00:00')"
      ]
     },
     "execution_count": 66,
     "metadata": {},
     "output_type": "execute_result"
    }
   ],
   "source": [
    "import pandas as pd\n",
    "\n",
    "gdf['Spud_Date'] = pd.to_datetime(gdf['Spud_Date'])\n",
    "gdf['Well_Termi'] = pd.to_datetime(gdf['Well_Termi'])\n",
    "gdf.loc[0, 'Spud_Date']"
   ]
  },
  {
   "cell_type": "code",
   "execution_count": 58,
   "metadata": {
    "tags": [
     "hide"
    ]
   },
   "outputs": [
    {
     "name": "stdout",
     "output_type": "stream",
     "text": [
      "1992-08-27 00:00:00\n",
      "1969-05-05 00:00:00\n",
      "2001-09-03 14:33:00\n",
      "2019-05-04 00:00:00\n",
      "DatetimeIndex(['2021-03-03', '2021-03-21'], dtype='datetime64[ns]', freq=None)\n"
     ]
    }
   ],
   "source": [
    "# In case it comes up!\n",
    "import pandas as pd\n",
    "\n",
    "# These all parse.\n",
    "dates = [\n",
    "    '27th Aug 1992',\n",
    "    '1969-05-05',\n",
    "    '2:33 pm, 3rd Sept 2001',\n",
    "    '04-MAY-19',\n",
    "]\n",
    "\n",
    "for date in dates:\n",
    "    print(pd.to_datetime(date))\n",
    "    \n",
    "# If the dates are silly, you'll need a format string.\n",
    "datecol = ['2021-03-03', '2021-21-03']\n",
    "print(pd.to_datetime(datecol, format=\"%Y-%d-%m\"))"
   ]
  },
  {
   "cell_type": "markdown",
   "metadata": {
    "tags": [
     "exercise"
    ]
   },
   "source": [
    "### EXERCISE\n",
    "\n",
    "What's the TD of the first well drilled after the year 2000 in more than 200 m of water?"
   ]
  },
  {
   "cell_type": "code",
   "execution_count": null,
   "metadata": {},
   "outputs": [],
   "source": [
    "# YOUR CODE HERE\n",
    "\n"
   ]
  },
  {
   "cell_type": "code",
   "execution_count": 71,
   "metadata": {
    "tags": [
     "hide"
    ]
   },
   "outputs": [
    {
     "data": {
      "text/html": [
       "<div>\n",
       "<style scoped>\n",
       "    .dataframe tbody tr th:only-of-type {\n",
       "        vertical-align: middle;\n",
       "    }\n",
       "\n",
       "    .dataframe tbody tr th {\n",
       "        vertical-align: top;\n",
       "    }\n",
       "\n",
       "    .dataframe thead th {\n",
       "        text-align: right;\n",
       "    }\n",
       "</style>\n",
       "<table border=\"1\" class=\"dataframe\">\n",
       "  <thead>\n",
       "    <tr style=\"text-align: right;\">\n",
       "      <th></th>\n",
       "      <th>Company</th>\n",
       "      <th>D__</th>\n",
       "      <th>Drilling_U</th>\n",
       "      <th>RT_Elevati</th>\n",
       "      <th>Spud_Date</th>\n",
       "      <th>Total_De_1</th>\n",
       "      <th>Total_Dept</th>\n",
       "      <th>Water_Dept</th>\n",
       "      <th>Well_Nam_1</th>\n",
       "      <th>Well_Name</th>\n",
       "      <th>Well_No_</th>\n",
       "      <th>Well_Symb</th>\n",
       "      <th>Well_Termi</th>\n",
       "      <th>Well_Type</th>\n",
       "      <th>seafl_twt_</th>\n",
       "      <th>geometry</th>\n",
       "    </tr>\n",
       "  </thead>\n",
       "  <tbody>\n",
       "    <tr>\n",
       "      <th>201</th>\n",
       "      <td>Encana-Marauder</td>\n",
       "      <td>398.0</td>\n",
       "      <td>Rowan Gorilla VI</td>\n",
       "      <td>47.50</td>\n",
       "      <td>2005-11-18</td>\n",
       "      <td>12139.00</td>\n",
       "      <td>3700.0</td>\n",
       "      <td>29.5</td>\n",
       "      <td>J-14</td>\n",
       "      <td>Dominion</td>\n",
       "      <td>202.0</td>\n",
       "      <td>Plugged dry hole</td>\n",
       "      <td>2006-01-30</td>\n",
       "      <td>Exploration</td>\n",
       "      <td>39.730640</td>\n",
       "      <td>POINT (-60.53097 43.89266)</td>\n",
       "    </tr>\n",
       "    <tr>\n",
       "      <th>202</th>\n",
       "      <td>ExxonMobil</td>\n",
       "      <td>399.0</td>\n",
       "      <td>Galaxy II</td>\n",
       "      <td>56.70</td>\n",
       "      <td>2006-02-08</td>\n",
       "      <td>11089.00</td>\n",
       "      <td>3380.0</td>\n",
       "      <td>66.6</td>\n",
       "      <td>N-76</td>\n",
       "      <td>Alma 3</td>\n",
       "      <td>203.0</td>\n",
       "      <td>Gas well</td>\n",
       "      <td>2006-04-11</td>\n",
       "      <td>Development</td>\n",
       "      <td>89.696970</td>\n",
       "      <td>POINT (-60.68860 43.59638)</td>\n",
       "    </tr>\n",
       "    <tr>\n",
       "      <th>203</th>\n",
       "      <td>Encana-Marauder</td>\n",
       "      <td>400.0</td>\n",
       "      <td>Rowan Gorilla VI</td>\n",
       "      <td>47.50</td>\n",
       "      <td>2005-12-30</td>\n",
       "      <td>14567.00</td>\n",
       "      <td>4440.0</td>\n",
       "      <td>29.5</td>\n",
       "      <td>J-14A</td>\n",
       "      <td>Dominion</td>\n",
       "      <td>204.0</td>\n",
       "      <td>Plugged dry hole</td>\n",
       "      <td>2006-01-24</td>\n",
       "      <td>Exploration</td>\n",
       "      <td>39.730640</td>\n",
       "      <td>POINT (-60.53097 43.89266)</td>\n",
       "    </tr>\n",
       "    <tr>\n",
       "      <th>204</th>\n",
       "      <td>EnCana</td>\n",
       "      <td>402.0</td>\n",
       "      <td>Rowan Gorilla III</td>\n",
       "      <td>43.80</td>\n",
       "      <td>2010-01-12</td>\n",
       "      <td>8330.00</td>\n",
       "      <td>2539.0</td>\n",
       "      <td>41.6</td>\n",
       "      <td>E-70</td>\n",
       "      <td>Margaree</td>\n",
       "      <td>206.0</td>\n",
       "      <td>Injection well</td>\n",
       "      <td>2010-03-31</td>\n",
       "      <td>Development</td>\n",
       "      <td>56.026936</td>\n",
       "      <td>POINT (-60.67152 43.82144)</td>\n",
       "    </tr>\n",
       "    <tr>\n",
       "      <th>205</th>\n",
       "      <td>ExxonMobil</td>\n",
       "      <td>401.0</td>\n",
       "      <td>Rowan Gorilla III</td>\n",
       "      <td>49.73</td>\n",
       "      <td>2009-06-08</td>\n",
       "      <td>13074.10</td>\n",
       "      <td>3985.0</td>\n",
       "      <td>66.6</td>\n",
       "      <td>N-76</td>\n",
       "      <td>Alma 4</td>\n",
       "      <td>205.0</td>\n",
       "      <td>Gas well</td>\n",
       "      <td>2009-08-14</td>\n",
       "      <td>Development</td>\n",
       "      <td>89.696970</td>\n",
       "      <td>POINT (-60.68863 43.59636)</td>\n",
       "    </tr>\n",
       "    <tr>\n",
       "      <th>206</th>\n",
       "      <td>ExxonMobil</td>\n",
       "      <td>403.0</td>\n",
       "      <td>Rowan Gorilla III</td>\n",
       "      <td>40.90</td>\n",
       "      <td>2009-08-08</td>\n",
       "      <td>14202.75</td>\n",
       "      <td>4329.0</td>\n",
       "      <td>66.6</td>\n",
       "      <td>N-76</td>\n",
       "      <td>Alma 4A</td>\n",
       "      <td>207.0</td>\n",
       "      <td>Gas well</td>\n",
       "      <td>2009-10-05</td>\n",
       "      <td>Development</td>\n",
       "      <td>89.696970</td>\n",
       "      <td>POINT (-60.68863 43.59636)</td>\n",
       "    </tr>\n",
       "  </tbody>\n",
       "</table>\n",
       "</div>"
      ],
      "text/plain": [
       "             Company    D__         Drilling_U  RT_Elevati  Spud_Date  \\\n",
       "201  Encana-Marauder  398.0   Rowan Gorilla VI       47.50 2005-11-18   \n",
       "202       ExxonMobil  399.0          Galaxy II       56.70 2006-02-08   \n",
       "203  Encana-Marauder  400.0   Rowan Gorilla VI       47.50 2005-12-30   \n",
       "204           EnCana  402.0  Rowan Gorilla III       43.80 2010-01-12   \n",
       "205       ExxonMobil  401.0  Rowan Gorilla III       49.73 2009-06-08   \n",
       "206       ExxonMobil  403.0  Rowan Gorilla III       40.90 2009-08-08   \n",
       "\n",
       "     Total_De_1  Total_Dept  Water_Dept Well_Nam_1 Well_Name  Well_No_  \\\n",
       "201    12139.00      3700.0        29.5       J-14  Dominion     202.0   \n",
       "202    11089.00      3380.0        66.6       N-76    Alma 3     203.0   \n",
       "203    14567.00      4440.0        29.5      J-14A  Dominion     204.0   \n",
       "204     8330.00      2539.0        41.6       E-70  Margaree     206.0   \n",
       "205    13074.10      3985.0        66.6       N-76    Alma 4     205.0   \n",
       "206    14202.75      4329.0        66.6       N-76   Alma 4A     207.0   \n",
       "\n",
       "            Well_Symb Well_Termi    Well_Type  seafl_twt_  \\\n",
       "201  Plugged dry hole 2006-01-30  Exploration   39.730640   \n",
       "202          Gas well 2006-04-11  Development   89.696970   \n",
       "203  Plugged dry hole 2006-01-24  Exploration   39.730640   \n",
       "204    Injection well 2010-03-31  Development   56.026936   \n",
       "205          Gas well 2009-08-14  Development   89.696970   \n",
       "206          Gas well 2009-10-05  Development   89.696970   \n",
       "\n",
       "                       geometry  \n",
       "201  POINT (-60.53097 43.89266)  \n",
       "202  POINT (-60.68860 43.59638)  \n",
       "203  POINT (-60.53097 43.89266)  \n",
       "204  POINT (-60.67152 43.82144)  \n",
       "205  POINT (-60.68863 43.59636)  \n",
       "206  POINT (-60.68863 43.59636)  "
      ]
     },
     "execution_count": 71,
     "metadata": {},
     "output_type": "execute_result"
    }
   ],
   "source": [
    "gdf.loc[gdf['Spud_Date'] > 'Nov, 2005']  # This is pretty cool."
   ]
  },
  {
   "cell_type": "code",
   "execution_count": 59,
   "metadata": {
    "tags": [
     "hide"
    ]
   },
   "outputs": [
    {
     "data": {
      "text/html": [
       "<div>\n",
       "<style scoped>\n",
       "    .dataframe tbody tr th:only-of-type {\n",
       "        vertical-align: middle;\n",
       "    }\n",
       "\n",
       "    .dataframe tbody tr th {\n",
       "        vertical-align: top;\n",
       "    }\n",
       "\n",
       "    .dataframe thead th {\n",
       "        text-align: right;\n",
       "    }\n",
       "</style>\n",
       "<table border=\"1\" class=\"dataframe\">\n",
       "  <thead>\n",
       "    <tr style=\"text-align: right;\">\n",
       "      <th></th>\n",
       "      <th>Company</th>\n",
       "      <th>D__</th>\n",
       "      <th>Drilling_U</th>\n",
       "      <th>RT_Elevati</th>\n",
       "      <th>Spud_Date</th>\n",
       "      <th>Total_De_1</th>\n",
       "      <th>Total_Dept</th>\n",
       "      <th>Water_Dept</th>\n",
       "      <th>Well_Nam_1</th>\n",
       "      <th>Well_Name</th>\n",
       "      <th>Well_No_</th>\n",
       "      <th>Well_Symb</th>\n",
       "      <th>Well_Termi</th>\n",
       "      <th>Well_Type</th>\n",
       "      <th>seafl_twt_</th>\n",
       "      <th>geometry</th>\n",
       "    </tr>\n",
       "  </thead>\n",
       "  <tbody>\n",
       "    <tr>\n",
       "      <th>179</th>\n",
       "      <td>Marathon Cda</td>\n",
       "      <td>374.0</td>\n",
       "      <td>West Navion</td>\n",
       "      <td>35.5</td>\n",
       "      <td>2001-12-26</td>\n",
       "      <td>11470.0</td>\n",
       "      <td>3496.0</td>\n",
       "      <td>1737.0</td>\n",
       "      <td>B-24</td>\n",
       "      <td>Annapolis</td>\n",
       "      <td>180.0</td>\n",
       "      <td>Plugged gas show</td>\n",
       "      <td>2002-04-24</td>\n",
       "      <td>Exploration</td>\n",
       "      <td>2339.393939</td>\n",
       "      <td>POINT (-59.80980 43.38560)</td>\n",
       "    </tr>\n",
       "    <tr>\n",
       "      <th>182</th>\n",
       "      <td>Chevron Cda</td>\n",
       "      <td>377.0</td>\n",
       "      <td>Deepwater Millennium</td>\n",
       "      <td>24.0</td>\n",
       "      <td>2002-05-22</td>\n",
       "      <td>19915.0</td>\n",
       "      <td>6070.0</td>\n",
       "      <td>977.0</td>\n",
       "      <td>H-23</td>\n",
       "      <td>Newburn</td>\n",
       "      <td>183.0</td>\n",
       "      <td>Plugged gas show</td>\n",
       "      <td>2002-08-21</td>\n",
       "      <td>Exploration</td>\n",
       "      <td>1315.824916</td>\n",
       "      <td>POINT (-60.80513 43.20464)</td>\n",
       "    </tr>\n",
       "    <tr>\n",
       "      <th>183</th>\n",
       "      <td>Marathon Cda</td>\n",
       "      <td>378.0</td>\n",
       "      <td>West Navion</td>\n",
       "      <td>35.5</td>\n",
       "      <td>2002-04-17</td>\n",
       "      <td>20282.0</td>\n",
       "      <td>6182.0</td>\n",
       "      <td>1711.0</td>\n",
       "      <td>G-24</td>\n",
       "      <td>Annapolis</td>\n",
       "      <td>184.0</td>\n",
       "      <td>Plugged gas well</td>\n",
       "      <td>2002-08-16</td>\n",
       "      <td>Exploration</td>\n",
       "      <td>2304.377104</td>\n",
       "      <td>POINT (-59.80732 43.38978)</td>\n",
       "    </tr>\n",
       "    <tr>\n",
       "      <th>187</th>\n",
       "      <td>EnCana Corp.</td>\n",
       "      <td>383.0</td>\n",
       "      <td>Eirik Raude</td>\n",
       "      <td>25.0</td>\n",
       "      <td>2002-11-16</td>\n",
       "      <td>11811.0</td>\n",
       "      <td>3600.0</td>\n",
       "      <td>1674.5</td>\n",
       "      <td>C-15</td>\n",
       "      <td>Torbrook</td>\n",
       "      <td>188.0</td>\n",
       "      <td>Plugged dry hole</td>\n",
       "      <td>2003-01-14</td>\n",
       "      <td>Exploration</td>\n",
       "      <td>2255.218855</td>\n",
       "      <td>POINT (-62.29259 42.56751)</td>\n",
       "    </tr>\n",
       "    <tr>\n",
       "      <th>192</th>\n",
       "      <td>Imperial Oil</td>\n",
       "      <td>388.0</td>\n",
       "      <td>Eirik Raude</td>\n",
       "      <td>25.0</td>\n",
       "      <td>2003-07-06</td>\n",
       "      <td>15584.0</td>\n",
       "      <td>4750.0</td>\n",
       "      <td>1803.0</td>\n",
       "      <td>B-79</td>\n",
       "      <td>Balvenie</td>\n",
       "      <td>193.0</td>\n",
       "      <td>Plugged dry hole</td>\n",
       "      <td>2003-09-06</td>\n",
       "      <td>Exploration</td>\n",
       "      <td>2428.282828</td>\n",
       "      <td>POINT (-60.18167 43.13377)</td>\n",
       "    </tr>\n",
       "  </tbody>\n",
       "</table>\n",
       "</div>"
      ],
      "text/plain": [
       "          Company    D__            Drilling_U  RT_Elevati   Spud_Date  \\\n",
       "179  Marathon Cda  374.0           West Navion        35.5  2001-12-26   \n",
       "182   Chevron Cda  377.0  Deepwater Millennium        24.0  2002-05-22   \n",
       "183  Marathon Cda  378.0           West Navion        35.5  2002-04-17   \n",
       "187  EnCana Corp.  383.0           Eirik Raude        25.0  2002-11-16   \n",
       "192  Imperial Oil  388.0           Eirik Raude        25.0  2003-07-06   \n",
       "\n",
       "     Total_De_1  Total_Dept  Water_Dept Well_Nam_1  Well_Name  Well_No_  \\\n",
       "179     11470.0      3496.0      1737.0       B-24  Annapolis     180.0   \n",
       "182     19915.0      6070.0       977.0       H-23    Newburn     183.0   \n",
       "183     20282.0      6182.0      1711.0       G-24  Annapolis     184.0   \n",
       "187     11811.0      3600.0      1674.5       C-15   Torbrook     188.0   \n",
       "192     15584.0      4750.0      1803.0       B-79   Balvenie     193.0   \n",
       "\n",
       "            Well_Symb  Well_Termi    Well_Type   seafl_twt_  \\\n",
       "179  Plugged gas show  2002-04-24  Exploration  2339.393939   \n",
       "182  Plugged gas show  2002-08-21  Exploration  1315.824916   \n",
       "183  Plugged gas well  2002-08-16  Exploration  2304.377104   \n",
       "187  Plugged dry hole  2003-01-14  Exploration  2255.218855   \n",
       "192  Plugged dry hole  2003-09-06  Exploration  2428.282828   \n",
       "\n",
       "                       geometry  \n",
       "179  POINT (-59.80980 43.38560)  \n",
       "182  POINT (-60.80513 43.20464)  \n",
       "183  POINT (-59.80732 43.38978)  \n",
       "187  POINT (-62.29259 42.56751)  \n",
       "192  POINT (-60.18167 43.13377)  "
      ]
     },
     "execution_count": 59,
     "metadata": {},
     "output_type": "execute_result"
    }
   ],
   "source": [
    "wells = gdf.loc[(gdf['Water_Dept'] > 200) & (gdf['Spud_Date'] > '2000')]\n",
    "\n",
    "# -- OR, probably better... --\n",
    "deep = gdf['Water_Dept'] > 200\n",
    "late = gdf['Spud_Date'] > '2000'  # Must be str, or pd.to_datetime('2000')\n",
    "wells = gdf.loc[deep & late]      # Cute.\n",
    "# ----------------------------\n",
    "\n",
    "wells.head()"
   ]
  },
  {
   "cell_type": "code",
   "execution_count": 87,
   "metadata": {
    "tags": [
     "hide"
    ]
   },
   "outputs": [
    {
     "data": {
      "text/plain": [
       "179    3496.0\n",
       "Name: Total_Dept, dtype: float64"
      ]
     },
     "execution_count": 87,
     "metadata": {},
     "output_type": "execute_result"
    }
   ],
   "source": [
    "# Series.argmin() and Series.idxmin() don't work on dates.\n",
    "# So this is the best I can come up with:\n",
    "\n",
    "sd = wells['Spud_Date']\n",
    "wells.loc[sd==sd.min(), 'Total_Dept']"
   ]
  },
  {
   "cell_type": "markdown",
   "metadata": {},
   "source": [
    "## Define a polygon\n",
    "\n",
    "We have a polygon, but it is in UTM coordinates. We'll have to deal with that."
   ]
  },
  {
   "cell_type": "markdown",
   "metadata": {
    "tags": [
     "exercise"
    ]
   },
   "source": [
    "### EXERCISE\n",
    "\n",
    "Define a `shapely.Polygon` with the following vertices: \n",
    "\n",
    "| Point |   UTMx    |     UTMy    |\n",
    "|:-----:|-----------|-------------|\n",
    "|   1   | 700,000 m | 4,950,000 m |\n",
    "|   2   | 700,000 m | 4,800,000 m |\n",
    "|   3   | 800,000 m | 4,800,000 m |\n",
    "|   4   | 800,000 m | 4,950,000 m |\n"
   ]
  },
  {
   "cell_type": "code",
   "execution_count": null,
   "metadata": {},
   "outputs": [],
   "source": [
    "from shapely.geometry import Polygon\n",
    "\n",
    "# YOUR CODE HERE\n"
   ]
  },
  {
   "cell_type": "code",
   "execution_count": 89,
   "metadata": {
    "tags": [
     "hide"
    ]
   },
   "outputs": [],
   "source": [
    "from shapely.geometry import Polygon\n",
    "\n",
    "poly = Polygon([\n",
    "    (700_000, 4_950_000),\n",
    "    (700_000, 4_800_000),\n",
    "    (800_000, 4_800_000),\n",
    "    (800_000, 4_950_000),\n",
    "])"
   ]
  },
  {
   "cell_type": "code",
   "execution_count": 90,
   "metadata": {},
   "outputs": [
    {
     "data": {
      "image/svg+xml": [
       "<svg xmlns=\"http://www.w3.org/2000/svg\" xmlns:xlink=\"http://www.w3.org/1999/xlink\" width=\"300\" height=\"300\" viewBox=\"694000.0 4794000.0 112000.0 162000.0\" preserveAspectRatio=\"xMinYMin meet\"><g transform=\"matrix(1,0,0,-1,0,9750000.0)\"><path fill-rule=\"evenodd\" fill=\"#66cc99\" stroke=\"#555555\" stroke-width=\"1080.0\" opacity=\"0.6\" d=\"M 700000.0,4950000.0 L 700000.0,4800000.0 L 800000.0,4800000.0 L 800000.0,4950000.0 L 700000.0,4950000.0 z\" /></g></svg>"
      ],
      "text/plain": [
       "<shapely.geometry.polygon.Polygon at 0x163ea2c70>"
      ]
     },
     "execution_count": 90,
     "metadata": {},
     "output_type": "execute_result"
    }
   ],
   "source": [
    "poly"
   ]
  },
  {
   "cell_type": "markdown",
   "metadata": {
    "tags": [
     "exercise"
    ]
   },
   "source": [
    "### EXERCISE \n",
    "\n",
    "The CRS for these coordinates is given as:\n",
    "\n",
    "> NAD83-CSRS-UTM20N\n",
    "\n",
    "**CSRS** refers to the Canadian Spatial Reference System, a 3D, space-based update of the original ground-based geodetic NAD83 datum. [Read about it.](https://www.nrcan.gc.ca/maps-tools-and-publications/tools/geodetic-reference-systems/canadian-spatial-reference-system-csrs/9052)\n",
    "\n",
    "Can you find the EPSG code for this datum, and use it to create a `GeoDataFrame`?\n",
    "\n",
    "You can look up the EPSG code here: https://spatialreference.org/ref/epsg/"
   ]
  },
  {
   "cell_type": "code",
   "execution_count": null,
   "metadata": {},
   "outputs": [],
   "source": [
    "# YOUR CODE HERE\n",
    "\n",
    "gpoly = gpd.GeoDataFrame( ... )"
   ]
  },
  {
   "cell_type": "code",
   "execution_count": 102,
   "metadata": {
    "tags": [
     "hide"
    ]
   },
   "outputs": [
    {
     "data": {
      "text/html": [
       "<div>\n",
       "<style scoped>\n",
       "    .dataframe tbody tr th:only-of-type {\n",
       "        vertical-align: middle;\n",
       "    }\n",
       "\n",
       "    .dataframe tbody tr th {\n",
       "        vertical-align: top;\n",
       "    }\n",
       "\n",
       "    .dataframe thead th {\n",
       "        text-align: right;\n",
       "    }\n",
       "</style>\n",
       "<table border=\"1\" class=\"dataframe\">\n",
       "  <thead>\n",
       "    <tr style=\"text-align: right;\">\n",
       "      <th></th>\n",
       "      <th>name</th>\n",
       "      <th>geometry</th>\n",
       "    </tr>\n",
       "  </thead>\n",
       "  <tbody>\n",
       "    <tr>\n",
       "      <th>0</th>\n",
       "      <td>Area A</td>\n",
       "      <td>POLYGON ((700000.000 4950000.000, 700000.000 4...</td>\n",
       "    </tr>\n",
       "  </tbody>\n",
       "</table>\n",
       "</div>"
      ],
      "text/plain": [
       "     name                                           geometry\n",
       "0  Area A  POLYGON ((700000.000 4950000.000, 700000.000 4..."
      ]
     },
     "execution_count": 102,
     "metadata": {},
     "output_type": "execute_result"
    }
   ],
   "source": [
    "data = {'name': ['Area A'],  # These have to be lists of things (or pass an index like [0] to the constructor.)\n",
    "        'geometry': [poly],\n",
    "       }\n",
    "\n",
    "gpoly = gpd.GeoDataFrame(data, crs=\"epsg:2961\")\n",
    "\n",
    "gpoly"
   ]
  },
  {
   "cell_type": "markdown",
   "metadata": {},
   "source": [
    "Now we can convert the dataframe to any other CRS. We'll convert it to match the well data:"
   ]
  },
  {
   "cell_type": "code",
   "execution_count": 103,
   "metadata": {},
   "outputs": [
    {
     "data": {
      "text/html": [
       "<div>\n",
       "<style scoped>\n",
       "    .dataframe tbody tr th:only-of-type {\n",
       "        vertical-align: middle;\n",
       "    }\n",
       "\n",
       "    .dataframe tbody tr th {\n",
       "        vertical-align: top;\n",
       "    }\n",
       "\n",
       "    .dataframe thead th {\n",
       "        text-align: right;\n",
       "    }\n",
       "</style>\n",
       "<table border=\"1\" class=\"dataframe\">\n",
       "  <thead>\n",
       "    <tr style=\"text-align: right;\">\n",
       "      <th></th>\n",
       "      <th>name</th>\n",
       "      <th>geometry</th>\n",
       "    </tr>\n",
       "  </thead>\n",
       "  <tbody>\n",
       "    <tr>\n",
       "      <th>0</th>\n",
       "      <td>Area A</td>\n",
       "      <td>POLYGON ((-60.47663 44.67550, -60.53321 43.326...</td>\n",
       "    </tr>\n",
       "  </tbody>\n",
       "</table>\n",
       "</div>"
      ],
      "text/plain": [
       "     name                                           geometry\n",
       "0  Area A  POLYGON ((-60.47663 44.67550, -60.53321 43.326..."
      ]
     },
     "execution_count": 103,
     "metadata": {},
     "output_type": "execute_result"
    }
   ],
   "source": [
    "gpoly = gpoly.to_crs(gdf.crs)\n",
    "gpoly"
   ]
  },
  {
   "cell_type": "code",
   "execution_count": 104,
   "metadata": {},
   "outputs": [
    {
     "data": {
      "image/png": "[encoded data removed]",
      "text/plain": [
       "<Figure size 432x288 with 1 Axes>"
      ]
     },
     "metadata": {
      "needs_background": "light"
     },
     "output_type": "display_data"
    }
   ],
   "source": [
    "import matplotlib.pyplot as plt\n",
    "\n",
    "fig, ax = plt.subplots()\n",
    "\n",
    "ax = gpoly.plot(ax=ax, color='r', aspect=1)\n",
    "ax = gdf.plot(ax=ax)"
   ]
  },
  {
   "cell_type": "markdown",
   "metadata": {},
   "source": [
    "## Intersect wells and polygon\n",
    "\n",
    "We can intersect the well dataframe `df` with the Shapely polygon:"
   ]
  },
  {
   "cell_type": "code",
   "execution_count": null,
   "metadata": {},
   "outputs": [],
   "source": []
  },
  {
   "cell_type": "code",
   "execution_count": 105,
   "metadata": {
    "tags": [
     "hide"
    ]
   },
   "outputs": [
    {
     "data": {
      "text/plain": [
       "array([[  0,   0,   0,   0,   0,   0,   0,   0,   0,   0,   0,   0,   0,\n",
       "          0,   0,   0,   0,   0,   0,   0,   0,   0,   0,   0,   0,   0,\n",
       "          0,   0,   0,   0,   0,   0,   0,   0,   0,   0,   0,   0,   0,\n",
       "          0,   0,   0,   0,   0,   0,   0,   0,   0,   0,   0,   0,   0,\n",
       "          0,   0,   0,   0,   0,   0,   0,   0,   0,   0,   0,   0,   0,\n",
       "          0,   0,   0,   0,   0,   0,   0,   0,   0,   0,   0,   0,   0,\n",
       "          0,   0,   0,   0,   0,   0,   0,   0,   0,   0,   0,   0,   0,\n",
       "          0,   0,   0,   0],\n",
       "       [197, 183, 117,  91,  32,  78, 198, 186, 199,  95, 105,  98,  75,\n",
       "         81,  87, 153, 156, 158, 155, 154, 181, 200,  73,  72,  71, 195,\n",
       "         82,  38,  80,  48,  85,   8,  20,   7,   6,  59,  50, 106, 116,\n",
       "        123, 161, 176, 163, 160, 164, 162, 203, 201,  68,  34,   0,  70,\n",
       "        174,  28,  26, 152,  46,  45,  36,  33,  37,  43,  66, 110, 170,\n",
       "        185, 184,  96, 108,  63,  65,   9,  13,  94, 179, 177,  62,  99,\n",
       "        102,  83, 188, 118, 120,  11, 113, 168, 166, 112, 178,  29,   1,\n",
       "         24,  18,  41,  58]])"
      ]
     },
     "execution_count": 105,
     "metadata": {},
     "output_type": "execute_result"
    }
   ],
   "source": [
    "gdf.sindex.query_bulk(gpoly.geometry)"
   ]
  },
  {
   "cell_type": "code",
   "execution_count": 106,
   "metadata": {
    "tags": [
     "hide"
    ]
   },
   "outputs": [],
   "source": [
    "poly, well = gdf.sindex.query_bulk(gpoly.geometry)"
   ]
  },
  {
   "cell_type": "code",
   "execution_count": 116,
   "metadata": {
    "tags": [
     "hide"
    ]
   },
   "outputs": [],
   "source": [
    "gdw = gdf.loc[well]"
   ]
  },
  {
   "cell_type": "markdown",
   "metadata": {},
   "source": [
    "## Write a shapefile"
   ]
  },
  {
   "cell_type": "code",
   "execution_count": 120,
   "metadata": {},
   "outputs": [],
   "source": [
    "# Can't put data times in Shapefiles apparently.\n",
    "gdw['Spud_Date'] = gdw['Spud_Date'].apply(str)\n",
    "gdw['Well_Termi'] = gdw['Well_Termi'].apply(str)"
   ]
  },
  {
   "cell_type": "code",
   "execution_count": 131,
   "metadata": {},
   "outputs": [],
   "source": [
    "gdw.to_file('../data/Wells_in_polygon')  # Makes a folder.\n",
    "gdw.to_file('../data/Wells_in_polygon.geojson', driver='GeoJSON')"
   ]
  },
  {
   "cell_type": "code",
   "execution_count": 136,
   "metadata": {
    "tags": [
     "hide"
    ]
   },
   "outputs": [
    {
     "name": "stdout",
     "output_type": "stream",
     "text": [
      "rm: ../data/Wells_in_polygon.geojson: No such file or directory\r\n"
     ]
    }
   ],
   "source": [
    "# Not for class, just to keep our repo tidy.\n",
    "!rm -rf ../data/Wells_in_polygon.*\n",
    "!rm ../data/Wells_in_polygon.geojson"
   ]
  },
  {
   "cell_type": "markdown",
   "metadata": {},
   "source": [
    "---\n",
    "\n",
    "© Agile Scientific - code licenced Apache 2.0"
   ]
  }
 ],
 "metadata": {
  "celltoolbar": "Tags",
  "kernelspec": {
   "display_name": "geoph",
   "language": "python",
   "name": "geoph"
  },
  "language_info": {
   "codemirror_mode": {
    "name": "ipython",
    "version": 3
   },
   "file_extension": ".py",
   "mimetype": "text/x-python",
   "name": "python",
   "nbconvert_exporter": "python",
   "pygments_lexer": "ipython3",
   "version": "3.9.5"
  }
 },
 "nbformat": 4,
 "nbformat_minor": 2
}
