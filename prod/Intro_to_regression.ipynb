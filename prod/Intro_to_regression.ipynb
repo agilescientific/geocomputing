{
 "cells": [
  {
   "cell_type": "markdown",
   "metadata": {},
   "source": [
    "# Intro to regression\n",
    "\n",
    "Regression is a generic task for statistical models that predict **continuous** properties. Contrast that with models that predict discrete properties or classes, which perform _classification_. We'll cover classification in another notebook.\n",
    "\n",
    "In this notebook we'll ask: what's the least amount we can do to build and use a regression model?\n",
    "\n",
    "First we need a task. Let's try to predict a well log from another. The steps are:\n",
    "\n",
    "1. Load data.\n",
    "1. Make `X` and `y`.\n",
    "1. Standardize the data.\n",
    "1. Train a model.\n",
    "1. Evaluate the result.\n",
    "1. Adjust and repeat...\n",
    "\n",
    "---\n",
    "\n",
    "## Load data"
   ]
  },
  {
   "cell_type": "code",
   "execution_count": null,
   "metadata": {},
   "outputs": [],
   "source": [
    "\n",
    "\n"
   ]
  },
  {
   "cell_type": "code",
   "execution_count": 4,
   "metadata": {
    "tags": [
     "hide"
    ]
   },
   "outputs": [
    {
     "data": {
      "text/plain": [
       "array([[102.70370002,   0.2455    ,   2.5965    ,  82.53010001],\n",
       "       [ 91.31870001,   0.2432    ,   2.5882    ,  81.7004    ],\n",
       "       [104.75629998,   0.2406    ,   2.5755    ,  82.9246    ],\n",
       "       [106.90440001,   0.2393    ,   2.5726    ,  81.796     ],\n",
       "       [106.83279999,   0.2416    ,   2.5804    ,  81.1015    ],\n",
       "       [110.3892    ,   0.2294    ,   2.5781    ,  82.4635    ],\n",
       "       [113.18169999,   0.2516    ,   2.5609    ,  84.49229999],\n",
       "       [104.60520001,   0.2543    ,   2.5911    ,  82.7202    ],\n",
       "       [110.81879998,   0.2299    ,   2.6312    ,  82.8683    ],\n",
       "       [102.89460002,   0.2547    ,   2.5796    ,  86.2192    ]])"
      ]
     },
     "execution_count": 4,
     "metadata": {},
     "output_type": "execute_result"
    }
   ],
   "source": [
    "import numpy as np\n",
    "\n",
    "ds = np.DataSource('../data/')\n",
    "\n",
    "data = np.load(ds.open('https://geocomp.s3.amazonaws.com/data/GR-NPHI-RHOB-DT.npy', mode='rb'))\n",
    "\n",
    "data[:10]"
   ]
  },
  {
   "cell_type": "markdown",
   "metadata": {},
   "source": [
    "We're going to start with the simplest possible problem: predicting the DT log (last column) from the RHOB log (second-to-last column)."
   ]
  },
  {
   "cell_type": "markdown",
   "metadata": {},
   "source": [
    "## Make `X` and `y`\n",
    "\n",
    "Let's make `X` (the density log, with SI units) and `y` (the DT log, transformed to velocity)."
   ]
  },
  {
   "cell_type": "code",
   "execution_count": null,
   "metadata": {},
   "outputs": [],
   "source": []
  },
  {
   "cell_type": "code",
   "execution_count": 5,
   "metadata": {
    "tags": [
     "hide"
    ]
   },
   "outputs": [],
   "source": [
    "X = 1000 * data[: , -2].reshape(-1, 1)\n",
    "y = 0.3048 * 1e6 / data[:, -1]"
   ]
  },
  {
   "cell_type": "code",
   "execution_count": 6,
   "metadata": {
    "tags": [
     "hide"
    ]
   },
   "outputs": [
    {
     "data": {
      "text/plain": [
       "((71, 1), (71,))"
      ]
     },
     "execution_count": 6,
     "metadata": {},
     "output_type": "execute_result"
    }
   ],
   "source": [
    "X.shape, y.shape"
   ]
  },
  {
   "cell_type": "code",
   "execution_count": 7,
   "metadata": {
    "tags": [
     "hide"
    ]
   },
   "outputs": [
    {
     "data": {
      "text/plain": [
       "<matplotlib.collections.PathCollection at 0x7fdc90191d30>"
      ]
     },
     "execution_count": 7,
     "metadata": {},
     "output_type": "execute_result"
    },
    {
     "data": {
      "image/png": "[encoded data removed]",
      "text/plain": [
       "<Figure size 432x288 with 1 Axes>"
      ]
     },
     "metadata": {
      "needs_background": "light"
     },
     "output_type": "display_data"
    }
   ],
   "source": [
    "import matplotlib.pyplot as plt\n",
    "\n",
    "plt.scatter(X, y, c='k')"
   ]
  },
  {
   "cell_type": "markdown",
   "metadata": {},
   "source": [
    "## Standardize the data\n",
    "\n",
    "Before doing linear regression, it's a good idea to transform the input to Z-score ('stnadardization')."
   ]
  },
  {
   "cell_type": "code",
   "execution_count": null,
   "metadata": {},
   "outputs": [],
   "source": []
  },
  {
   "cell_type": "code",
   "execution_count": 12,
   "metadata": {
    "tags": [
     "hide"
    ]
   },
   "outputs": [],
   "source": [
    "from sklearn.preprocessing import StandardScaler\n",
    "\n",
    "scaler = StandardScaler().fit(X)\n",
    "\n",
    "X = scaler.transform(X)"
   ]
  },
  {
   "cell_type": "markdown",
   "metadata": {},
   "source": [
    "## Train a model\n",
    "\n",
    "Now we can train a model:"
   ]
  },
  {
   "cell_type": "code",
   "execution_count": null,
   "metadata": {},
   "outputs": [],
   "source": []
  },
  {
   "cell_type": "code",
   "execution_count": 13,
   "metadata": {
    "tags": [
     "hide"
    ]
   },
   "outputs": [],
   "source": [
    "from sklearn.linear_model import LinearRegression\n",
    "\n",
    "est = LinearRegression().fit(X, y)"
   ]
  },
  {
   "cell_type": "markdown",
   "metadata": {
    "tags": [
     "hide"
    ]
   },
   "source": [
    "The weights or coefficients are now non-zero, so the model has learned something:"
   ]
  },
  {
   "cell_type": "code",
   "execution_count": 14,
   "metadata": {
    "tags": [
     "hide"
    ]
   },
   "outputs": [
    {
     "data": {
      "text/plain": [
       "(array([23.58596249]), 3807.625131412203)"
      ]
     },
     "execution_count": 14,
     "metadata": {},
     "output_type": "execute_result"
    }
   ],
   "source": [
    "est.coef_, est.intercept_"
   ]
  },
  {
   "cell_type": "markdown",
   "metadata": {
    "tags": [
     "hide"
    ]
   },
   "source": [
    "Let's look at the model... there's no easy way to do this, unfortunately. We didn't withhold any blind data, so we have to either use `X`, or we can make some data. Let's do both:"
   ]
  },
  {
   "cell_type": "code",
   "execution_count": 8,
   "metadata": {
    "tags": [
     "hide"
    ]
   },
   "outputs": [
    {
     "data": {
      "image/png": "[encoded data removed]",
      "text/plain": [
       "<Figure size 432x288 with 1 Axes>"
      ]
     },
     "metadata": {
      "needs_background": "light"
     },
     "output_type": "display_data"
    }
   ],
   "source": [
    "# Make a regularly sampled model.\n",
    "X_model = np.linspace(-3, 3).reshape(-1, 1)\n",
    "y_model = est.predict(X_model)\n",
    "\n",
    "# Predict the training data.\n",
    "y_pred = est.predict(X)\n",
    "\n",
    "# Plot it all...\n",
    "plt.scatter(X, y, c='k')\n",
    "plt.scatter(X, y_pred)\n",
    "plt.plot(X_model, y_model)\n",
    "plt.show()"
   ]
  },
  {
   "cell_type": "markdown",
   "metadata": {},
   "source": [
    "## Evaluate the model\n",
    "\n",
    "How did we do?"
   ]
  },
  {
   "cell_type": "code",
   "execution_count": null,
   "metadata": {},
   "outputs": [],
   "source": []
  },
  {
   "cell_type": "code",
   "execution_count": 9,
   "metadata": {
    "tags": [
     "hide"
    ]
   },
   "outputs": [
    {
     "data": {
      "text/plain": [
       "0.0569913124407907"
      ]
     },
     "execution_count": 9,
     "metadata": {},
     "output_type": "execute_result"
    }
   ],
   "source": [
    "from sklearn.metrics import r2_score, mean_squared_error\n",
    "\n",
    "r2_score(y, est.predict(X))"
   ]
  },
  {
   "cell_type": "code",
   "execution_count": 10,
   "metadata": {
    "tags": [
     "hide"
    ]
   },
   "outputs": [
    {
     "data": {
      "text/plain": [
       "9204.797576590761"
      ]
     },
     "execution_count": 10,
     "metadata": {},
     "output_type": "execute_result"
    }
   ],
   "source": [
    "mean_squared_error(y, y_pred)"
   ]
  },
  {
   "cell_type": "code",
   "execution_count": 11,
   "metadata": {
    "tags": [
     "hide"
    ]
   },
   "outputs": [
    {
     "data": {
      "text/plain": [
       "95.94163630348797"
      ]
     },
     "execution_count": 11,
     "metadata": {},
     "output_type": "execute_result"
    }
   ],
   "source": [
    "np.sqrt(mean_squared_error(y, y_pred))"
   ]
  },
  {
   "cell_type": "code",
   "execution_count": 12,
   "metadata": {
    "tags": [
     "hide"
    ]
   },
   "outputs": [
    {
     "data": {
      "text/plain": [
       "<AxesSubplot:ylabel='Count'>"
      ]
     },
     "execution_count": 12,
     "metadata": {},
     "output_type": "execute_result"
    },
    {
     "data": {
      "image/png": "[encoded data removed]",
      "text/plain": [
       "<Figure size 432x288 with 1 Axes>"
      ]
     },
     "metadata": {
      "needs_background": "light"
     },
     "output_type": "display_data"
    }
   ],
   "source": [
    "import seaborn as sns\n",
    "\n",
    "residuals = y - y_pred\n",
    "\n",
    "sns.histplot(residuals)"
   ]
  },
  {
   "cell_type": "code",
   "execution_count": 13,
   "metadata": {
    "tags": [
     "hide"
    ]
   },
   "outputs": [
    {
     "data": {
      "text/plain": [
       "6.404892266006537e-14"
      ]
     },
     "execution_count": 13,
     "metadata": {},
     "output_type": "execute_result"
    }
   ],
   "source": [
    "np.mean(residuals)"
   ]
  },
  {
   "cell_type": "markdown",
   "metadata": {},
   "source": [
    "## More dimensions!\n",
    "\n",
    "We have 2 more features, making 3 in all. Now the model will be like:\n",
    "\n",
    "$$ \\hat{y} = w_0 x_0 + w_1 x_1 + w_2 x_2 + b $$"
   ]
  },
  {
   "cell_type": "code",
   "execution_count": 8,
   "metadata": {},
   "outputs": [
    {
     "data": {
      "text/plain": [
       "array([[102.70370002,   0.2455    ,   2.5965    ,  82.53010001],\n",
       "       [ 91.31870001,   0.2432    ,   2.5882    ,  81.7004    ],\n",
       "       [104.75629998,   0.2406    ,   2.5755    ,  82.9246    ],\n",
       "       [106.90440001,   0.2393    ,   2.5726    ,  81.796     ],\n",
       "       [106.83279999,   0.2416    ,   2.5804    ,  81.1015    ],\n",
       "       [110.3892    ,   0.2294    ,   2.5781    ,  82.4635    ],\n",
       "       [113.18169999,   0.2516    ,   2.5609    ,  84.49229999],\n",
       "       [104.60520001,   0.2543    ,   2.5911    ,  82.7202    ],\n",
       "       [110.81879998,   0.2299    ,   2.6312    ,  82.8683    ],\n",
       "       [102.89460002,   0.2547    ,   2.5796    ,  86.2192    ]])"
      ]
     },
     "execution_count": 8,
     "metadata": {},
     "output_type": "execute_result"
    }
   ],
   "source": [
    "data[:10]"
   ]
  },
  {
   "cell_type": "code",
   "execution_count": 15,
   "metadata": {
    "tags": [
     "hide"
    ]
   },
   "outputs": [],
   "source": [
    "X2 = data[:, :3].reshape(-1, 3)"
   ]
  },
  {
   "cell_type": "code",
   "execution_count": 16,
   "metadata": {
    "tags": [
     "hide"
    ]
   },
   "outputs": [],
   "source": [
    "scaler = StandardScaler().fit(X2)\n",
    "\n",
    "X2 = scaler.transform(X2)"
   ]
  },
  {
   "cell_type": "code",
   "execution_count": 17,
   "metadata": {
    "tags": [
     "hide"
    ]
   },
   "outputs": [],
   "source": [
    "est2 = LinearRegression().fit(X2, y)\n",
    "\n",
    "y_pred2 = est2.predict(X2)"
   ]
  },
  {
   "cell_type": "markdown",
   "metadata": {
    "tags": [
     "hide"
    ]
   },
   "source": [
    "Let's see how this new model does:"
   ]
  },
  {
   "cell_type": "code",
   "execution_count": 18,
   "metadata": {
    "tags": [
     "hide"
    ]
   },
   "outputs": [
    {
     "data": {
      "text/plain": [
       "0.5597900163150489"
      ]
     },
     "execution_count": 18,
     "metadata": {},
     "output_type": "execute_result"
    }
   ],
   "source": [
    "r2_score(y, y_pred2)"
   ]
  },
  {
   "cell_type": "code",
   "execution_count": 19,
   "metadata": {
    "tags": [
     "hide"
    ]
   },
   "outputs": [
    {
     "data": {
      "text/plain": [
       "65.55098443267046"
      ]
     },
     "execution_count": 19,
     "metadata": {},
     "output_type": "execute_result"
    }
   ],
   "source": [
    "np.sqrt(mean_squared_error(y, y_pred2))"
   ]
  },
  {
   "cell_type": "markdown",
   "metadata": {
    "tags": [
     "hide"
    ]
   },
   "source": [
    "This seems to be a better model!\n",
    "\n",
    "If we want to plot the linear model, we'll need to add a couple of dimensions to `X_model`; we can use the means of the other two columns."
   ]
  },
  {
   "cell_type": "code",
   "execution_count": 20,
   "metadata": {
    "tags": [
     "hide"
    ]
   },
   "outputs": [],
   "source": [
    "X_model2 = np.array([0, 0, 1]) * X_model"
   ]
  },
  {
   "cell_type": "markdown",
   "metadata": {
    "tags": [
     "hide"
    ]
   },
   "source": [
    "We can try to look at the projection of this new model onto the original 2D plane of the problem. The real data is shown in black, and the original (bad) model in blue. The new model is shown in orange (with mean values for the other two dimensions)."
   ]
  },
  {
   "cell_type": "code",
   "execution_count": 21,
   "metadata": {
    "tags": [
     "hide"
    ]
   },
   "outputs": [
    {
     "data": {
      "image/png": "[encoded data removed]",
      "text/plain": [
       "<Figure size 720x432 with 1 Axes>"
      ]
     },
     "metadata": {
      "needs_background": "light"
     },
     "output_type": "display_data"
    }
   ],
   "source": [
    "y_pred = est.predict(X)\n",
    "y_model2 = est2.predict(X_model2)\n",
    "\n",
    "plt.figure(figsize=(10, 6))\n",
    "plt.scatter(X, y, c='k', label='real data')\n",
    "plt.scatter(X, y_pred, c='C0', s=40, label='1 feature pred')\n",
    "plt.scatter(X2[:, 2], y_pred2, c='orange', label='3 features')\n",
    "plt.plot(X_model, y_model, 'C0', label='1 feature')\n",
    "plt.plot(X_model2[:, 2], y_model2, 'orange', label='3 features')\n",
    "plt.legend()\n",
    "plt.show()"
   ]
  },
  {
   "cell_type": "markdown",
   "metadata": {
    "tags": [
     "hide"
    ]
   },
   "source": [
    "It's more instructive to look at the residuals:"
   ]
  },
  {
   "cell_type": "code",
   "execution_count": 22,
   "metadata": {
    "tags": [
     "hide"
    ]
   },
   "outputs": [
    {
     "data": {
      "text/plain": [
       "<matplotlib.legend.Legend at 0x7f57db437f40>"
      ]
     },
     "execution_count": 22,
     "metadata": {},
     "output_type": "execute_result"
    },
    {
     "data": {
      "image/png": "[encoded data removed]",
      "text/plain": [
       "<Figure size 432x288 with 1 Axes>"
      ]
     },
     "metadata": {
      "needs_background": "light"
     },
     "output_type": "display_data"
    }
   ],
   "source": [
    "residuals2 = y - est2.predict(X2)\n",
    "\n",
    "sns.kdeplot(residuals, label='1 feature')\n",
    "sns.kdeplot(residuals2, label='3 features')\n",
    "plt.legend()"
   ]
  },
  {
   "cell_type": "markdown",
   "metadata": {},
   "source": [
    "---\n",
    "\n",
    "&copy; 2020 Agile Scientific, licenced CC-BY"
   ]
  }
 ],
 "metadata": {
  "celltoolbar": "Tags",
  "kernelspec": {
   "display_name": "Python 3 (ipykernel)",
   "language": "python",
   "name": "python3"
  },
  "language_info": {
   "codemirror_mode": {
    "name": "ipython",
    "version": 3
   },
   "file_extension": ".py",
   "mimetype": "text/x-python",
   "name": "python",
   "nbconvert_exporter": "python",
   "pygments_lexer": "ipython3",
   "version": "3.9.7"
  }
 },
 "nbformat": 4,
 "nbformat_minor": 4
}
