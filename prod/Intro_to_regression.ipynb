{
 "cells": [
  {
   "cell_type": "markdown",
   "metadata": {},
   "source": [
    "# Intro to regression\n",
    "\n",
    "Regression is a generic task for statistical models that predict **continuous** properties. Contrast that with models that predict discrete properties or classes, which perform _classification_. We'll cover classification in another notebook.\n",
    "\n",
    "In this notebook we'll ask: what's the least amount we can do to build and use a regression model?\n",
    "\n",
    "First we need a task. Let's try to predict a well log from another. The steps are:\n",
    "\n",
    "1. Load data.\n",
    "1. Make `X` and `y`.\n",
    "1. Standardize the data.\n",
    "1. Train a model.\n",
    "1. Evaluate the result.\n",
    "1. Adjust and repeat...\n",
    "\n",
    "---\n",
    "\n",
    "## Load data"
   ]
  },
  {
   "cell_type": "code",
   "execution_count": null,
   "metadata": {},
   "outputs": [],
   "source": [
    "\n",
    "\n"
   ]
  },
  {
   "cell_type": "code",
   "execution_count": 1,
   "metadata": {
    "tags": [
     "hide"
    ]
   },
   "outputs": [
    {
     "name": "stderr",
     "output_type": "stream",
     "text": [
      "/home/matt/miniconda3/envs/geoml/lib/python3.9/site-packages/welly/well.py:194: FutureWarning: From v0.5 the default will be 'original', keeping whatever is used in the LAS file. If you want to force conversion to metres, change your code to use `index='m'`.\n",
      "  warnings.warn(m, FutureWarning)\n"
     ]
    }
   ],
   "source": [
    "import welly\n",
    "\n",
    "w = welly.Well.from_las(\"https://geocomp.s3.amazonaws.com/data/R-39.las\")\n",
    "xy, z = w.data_as_matrix(keys=['GR', 'NPOR', 'RHOB', 'DT4P', 'DT4S'], return_basis=True, step=1.0)\n",
    "data = np.hstack([z.reshape(-1, 1), xy])\n",
    "# np.savetxt('/local/S3/geocomp/data/MD-GR-NPOR-RHOB-DT4P-DT4S.txt', data, delimiter=',')"
   ]
  },
  {
   "cell_type": "code",
   "execution_count": 27,
   "metadata": {
    "tags": [
     "hide"
    ]
   },
   "outputs": [
    {
     "data": {
      "text/html": [
       "<div>\n",
       "<style scoped>\n",
       "    .dataframe tbody tr th:only-of-type {\n",
       "        vertical-align: middle;\n",
       "    }\n",
       "\n",
       "    .dataframe tbody tr th {\n",
       "        vertical-align: top;\n",
       "    }\n",
       "\n",
       "    .dataframe thead th {\n",
       "        text-align: right;\n",
       "    }\n",
       "</style>\n",
       "<table border=\"1\" class=\"dataframe\">\n",
       "  <thead>\n",
       "    <tr style=\"text-align: right;\">\n",
       "      <th></th>\n",
       "      <th>MD</th>\n",
       "      <th>GR</th>\n",
       "      <th>NPOR</th>\n",
       "      <th>RHOB</th>\n",
       "      <th>DT4P</th>\n",
       "      <th>DT4S</th>\n",
       "    </tr>\n",
       "  </thead>\n",
       "  <tbody>\n",
       "    <tr>\n",
       "      <th>0</th>\n",
       "      <td>2193.036</td>\n",
       "      <td>45.742700</td>\n",
       "      <td>0.359600</td>\n",
       "      <td>2107.913600</td>\n",
       "      <td>311.028400</td>\n",
       "      <td>537.259000</td>\n",
       "    </tr>\n",
       "    <tr>\n",
       "      <th>1</th>\n",
       "      <td>2194.036</td>\n",
       "      <td>51.843641</td>\n",
       "      <td>0.383929</td>\n",
       "      <td>2114.938819</td>\n",
       "      <td>311.028400</td>\n",
       "      <td>537.259000</td>\n",
       "    </tr>\n",
       "    <tr>\n",
       "      <th>2</th>\n",
       "      <td>2195.036</td>\n",
       "      <td>69.373662</td>\n",
       "      <td>0.372925</td>\n",
       "      <td>2146.069531</td>\n",
       "      <td>311.039761</td>\n",
       "      <td>536.813117</td>\n",
       "    </tr>\n",
       "    <tr>\n",
       "      <th>3</th>\n",
       "      <td>2196.036</td>\n",
       "      <td>73.129669</td>\n",
       "      <td>0.368883</td>\n",
       "      <td>2151.876208</td>\n",
       "      <td>327.869660</td>\n",
       "      <td>570.625717</td>\n",
       "    </tr>\n",
       "    <tr>\n",
       "      <th>4</th>\n",
       "      <td>2197.036</td>\n",
       "      <td>88.200546</td>\n",
       "      <td>0.419034</td>\n",
       "      <td>2463.387345</td>\n",
       "      <td>330.171309</td>\n",
       "      <td>-365.070147</td>\n",
       "    </tr>\n",
       "    <tr>\n",
       "      <th>...</th>\n",
       "      <td>...</td>\n",
       "      <td>...</td>\n",
       "      <td>...</td>\n",
       "      <td>...</td>\n",
       "      <td>...</td>\n",
       "      <td>...</td>\n",
       "    </tr>\n",
       "    <tr>\n",
       "      <th>1191</th>\n",
       "      <td>3384.036</td>\n",
       "      <td>41.915004</td>\n",
       "      <td>0.241400</td>\n",
       "      <td>2480.864500</td>\n",
       "      <td>252.495100</td>\n",
       "      <td>445.847800</td>\n",
       "    </tr>\n",
       "    <tr>\n",
       "      <th>1192</th>\n",
       "      <td>3385.036</td>\n",
       "      <td>43.960123</td>\n",
       "      <td>0.241400</td>\n",
       "      <td>2480.864500</td>\n",
       "      <td>252.495100</td>\n",
       "      <td>445.847800</td>\n",
       "    </tr>\n",
       "    <tr>\n",
       "      <th>1193</th>\n",
       "      <td>3386.036</td>\n",
       "      <td>40.038764</td>\n",
       "      <td>0.241400</td>\n",
       "      <td>2480.864500</td>\n",
       "      <td>252.495100</td>\n",
       "      <td>445.847800</td>\n",
       "    </tr>\n",
       "    <tr>\n",
       "      <th>1194</th>\n",
       "      <td>3387.036</td>\n",
       "      <td>38.240777</td>\n",
       "      <td>0.241400</td>\n",
       "      <td>2480.864500</td>\n",
       "      <td>252.495100</td>\n",
       "      <td>445.847800</td>\n",
       "    </tr>\n",
       "    <tr>\n",
       "      <th>1195</th>\n",
       "      <td>3388.036</td>\n",
       "      <td>32.027600</td>\n",
       "      <td>0.241400</td>\n",
       "      <td>2480.864500</td>\n",
       "      <td>252.495100</td>\n",
       "      <td>445.847800</td>\n",
       "    </tr>\n",
       "  </tbody>\n",
       "</table>\n",
       "<p>1196 rows × 6 columns</p>\n",
       "</div>"
      ],
      "text/plain": [
       "            MD         GR      NPOR         RHOB        DT4P        DT4S\n",
       "0     2193.036  45.742700  0.359600  2107.913600  311.028400  537.259000\n",
       "1     2194.036  51.843641  0.383929  2114.938819  311.028400  537.259000\n",
       "2     2195.036  69.373662  0.372925  2146.069531  311.039761  536.813117\n",
       "3     2196.036  73.129669  0.368883  2151.876208  327.869660  570.625717\n",
       "4     2197.036  88.200546  0.419034  2463.387345  330.171309 -365.070147\n",
       "...        ...        ...       ...          ...         ...         ...\n",
       "1191  3384.036  41.915004  0.241400  2480.864500  252.495100  445.847800\n",
       "1192  3385.036  43.960123  0.241400  2480.864500  252.495100  445.847800\n",
       "1193  3386.036  40.038764  0.241400  2480.864500  252.495100  445.847800\n",
       "1194  3387.036  38.240777  0.241400  2480.864500  252.495100  445.847800\n",
       "1195  3388.036  32.027600  0.241400  2480.864500  252.495100  445.847800\n",
       "\n",
       "[1196 rows x 6 columns]"
      ]
     },
     "execution_count": 27,
     "metadata": {},
     "output_type": "execute_result"
    }
   ],
   "source": [
    "import pandas as pd\n",
    "\n",
    "df = pd.read_csv('https://geocomp.s3.amazonaws.com/data/MD-GR-NPOR-RHOB-DT4P-DT4S.txt',\n",
    "                 names='MD-GR-NPOR-RHOB-DT4P-DT4S'.split('-'),\n",
    "                )\n",
    "\n",
    "df"
   ]
  },
  {
   "cell_type": "code",
   "execution_count": 33,
   "metadata": {
    "tags": [
     "hide"
    ]
   },
   "outputs": [
    {
     "data": {
      "text/html": [
       "<div>\n",
       "<style scoped>\n",
       "    .dataframe tbody tr th:only-of-type {\n",
       "        vertical-align: middle;\n",
       "    }\n",
       "\n",
       "    .dataframe tbody tr th {\n",
       "        vertical-align: top;\n",
       "    }\n",
       "\n",
       "    .dataframe thead th {\n",
       "        text-align: right;\n",
       "    }\n",
       "</style>\n",
       "<table border=\"1\" class=\"dataframe\">\n",
       "  <thead>\n",
       "    <tr style=\"text-align: right;\">\n",
       "      <th></th>\n",
       "      <th>MD</th>\n",
       "      <th>GR</th>\n",
       "      <th>NPOR</th>\n",
       "      <th>RHOB</th>\n",
       "      <th>DT4P</th>\n",
       "      <th>DT4S</th>\n",
       "    </tr>\n",
       "  </thead>\n",
       "  <tbody>\n",
       "    <tr>\n",
       "      <th>count</th>\n",
       "      <td>1196.000000</td>\n",
       "      <td>1196.000000</td>\n",
       "      <td>1196.000000</td>\n",
       "      <td>1196.000000</td>\n",
       "      <td>1196.000000</td>\n",
       "      <td>1196.000000</td>\n",
       "    </tr>\n",
       "    <tr>\n",
       "      <th>mean</th>\n",
       "      <td>2790.536000</td>\n",
       "      <td>67.651168</td>\n",
       "      <td>0.327833</td>\n",
       "      <td>2492.510252</td>\n",
       "      <td>279.854858</td>\n",
       "      <td>462.820733</td>\n",
       "    </tr>\n",
       "    <tr>\n",
       "      <th>std</th>\n",
       "      <td>345.399768</td>\n",
       "      <td>16.584102</td>\n",
       "      <td>0.073247</td>\n",
       "      <td>113.628417</td>\n",
       "      <td>25.897177</td>\n",
       "      <td>396.698555</td>\n",
       "    </tr>\n",
       "    <tr>\n",
       "      <th>min</th>\n",
       "      <td>2193.036000</td>\n",
       "      <td>20.533973</td>\n",
       "      <td>0.063613</td>\n",
       "      <td>2085.521075</td>\n",
       "      <td>174.242612</td>\n",
       "      <td>-3278.379200</td>\n",
       "    </tr>\n",
       "    <tr>\n",
       "      <th>25%</th>\n",
       "      <td>2491.786000</td>\n",
       "      <td>55.929214</td>\n",
       "      <td>0.282957</td>\n",
       "      <td>2449.629850</td>\n",
       "      <td>262.940034</td>\n",
       "      <td>464.979536</td>\n",
       "    </tr>\n",
       "    <tr>\n",
       "      <th>50%</th>\n",
       "      <td>2790.536000</td>\n",
       "      <td>72.154001</td>\n",
       "      <td>0.341788</td>\n",
       "      <td>2506.717670</td>\n",
       "      <td>284.703725</td>\n",
       "      <td>515.470562</td>\n",
       "    </tr>\n",
       "    <tr>\n",
       "      <th>75%</th>\n",
       "      <td>3089.286000</td>\n",
       "      <td>80.129819</td>\n",
       "      <td>0.381460</td>\n",
       "      <td>2566.703012</td>\n",
       "      <td>299.693629</td>\n",
       "      <td>555.194036</td>\n",
       "    </tr>\n",
       "    <tr>\n",
       "      <th>max</th>\n",
       "      <td>3388.036000</td>\n",
       "      <td>156.760897</td>\n",
       "      <td>0.540542</td>\n",
       "      <td>2948.923828</td>\n",
       "      <td>342.492104</td>\n",
       "      <td>590.466475</td>\n",
       "    </tr>\n",
       "  </tbody>\n",
       "</table>\n",
       "</div>"
      ],
      "text/plain": [
       "                MD           GR         NPOR         RHOB         DT4P  \\\n",
       "count  1196.000000  1196.000000  1196.000000  1196.000000  1196.000000   \n",
       "mean   2790.536000    67.651168     0.327833  2492.510252   279.854858   \n",
       "std     345.399768    16.584102     0.073247   113.628417    25.897177   \n",
       "min    2193.036000    20.533973     0.063613  2085.521075   174.242612   \n",
       "25%    2491.786000    55.929214     0.282957  2449.629850   262.940034   \n",
       "50%    2790.536000    72.154001     0.341788  2506.717670   284.703725   \n",
       "75%    3089.286000    80.129819     0.381460  2566.703012   299.693629   \n",
       "max    3388.036000   156.760897     0.540542  2948.923828   342.492104   \n",
       "\n",
       "              DT4S  \n",
       "count  1196.000000  \n",
       "mean    462.820733  \n",
       "std     396.698555  \n",
       "min   -3278.379200  \n",
       "25%     464.979536  \n",
       "50%     515.470562  \n",
       "75%     555.194036  \n",
       "max     590.466475  "
      ]
     },
     "execution_count": 33,
     "metadata": {},
     "output_type": "execute_result"
    }
   ],
   "source": [
    "df.describe()"
   ]
  },
  {
   "cell_type": "code",
   "execution_count": 130,
   "metadata": {
    "tags": [
     "hide"
    ]
   },
   "outputs": [
    {
     "data": {
      "text/html": [
       "<div>\n",
       "<style scoped>\n",
       "    .dataframe tbody tr th:only-of-type {\n",
       "        vertical-align: middle;\n",
       "    }\n",
       "\n",
       "    .dataframe tbody tr th {\n",
       "        vertical-align: top;\n",
       "    }\n",
       "\n",
       "    .dataframe thead th {\n",
       "        text-align: right;\n",
       "    }\n",
       "</style>\n",
       "<table border=\"1\" class=\"dataframe\">\n",
       "  <thead>\n",
       "    <tr style=\"text-align: right;\">\n",
       "      <th></th>\n",
       "      <th>MD</th>\n",
       "      <th>GR</th>\n",
       "      <th>NPOR</th>\n",
       "      <th>RHOB</th>\n",
       "      <th>DT4P</th>\n",
       "      <th>DT4S</th>\n",
       "    </tr>\n",
       "  </thead>\n",
       "  <tbody>\n",
       "    <tr>\n",
       "      <th>count</th>\n",
       "      <td>1180.000000</td>\n",
       "      <td>1180.000000</td>\n",
       "      <td>1180.000000</td>\n",
       "      <td>1180.000000</td>\n",
       "      <td>1180.000000</td>\n",
       "      <td>1180.000000</td>\n",
       "    </tr>\n",
       "    <tr>\n",
       "      <th>mean</th>\n",
       "      <td>2794.369898</td>\n",
       "      <td>67.446540</td>\n",
       "      <td>0.326575</td>\n",
       "      <td>2492.839470</td>\n",
       "      <td>279.319626</td>\n",
       "      <td>506.030330</td>\n",
       "    </tr>\n",
       "    <tr>\n",
       "      <th>std</th>\n",
       "      <td>344.129491</td>\n",
       "      <td>16.573208</td>\n",
       "      <td>0.072867</td>\n",
       "      <td>113.728833</td>\n",
       "      <td>25.633681</td>\n",
       "      <td>60.566666</td>\n",
       "    </tr>\n",
       "    <tr>\n",
       "      <th>min</th>\n",
       "      <td>2193.036000</td>\n",
       "      <td>20.533973</td>\n",
       "      <td>0.063613</td>\n",
       "      <td>2085.521075</td>\n",
       "      <td>174.242612</td>\n",
       "      <td>294.858697</td>\n",
       "    </tr>\n",
       "    <tr>\n",
       "      <th>25%</th>\n",
       "      <td>2497.786000</td>\n",
       "      <td>55.838850</td>\n",
       "      <td>0.281608</td>\n",
       "      <td>2449.121048</td>\n",
       "      <td>262.798815</td>\n",
       "      <td>469.128767</td>\n",
       "    </tr>\n",
       "    <tr>\n",
       "      <th>50%</th>\n",
       "      <td>2793.536000</td>\n",
       "      <td>71.905249</td>\n",
       "      <td>0.340721</td>\n",
       "      <td>2507.595056</td>\n",
       "      <td>284.037424</td>\n",
       "      <td>516.340168</td>\n",
       "    </tr>\n",
       "    <tr>\n",
       "      <th>75%</th>\n",
       "      <td>3093.286000</td>\n",
       "      <td>79.879259</td>\n",
       "      <td>0.380069</td>\n",
       "      <td>2568.167429</td>\n",
       "      <td>299.011058</td>\n",
       "      <td>555.903227</td>\n",
       "    </tr>\n",
       "    <tr>\n",
       "      <th>max</th>\n",
       "      <td>3388.036000</td>\n",
       "      <td>156.760897</td>\n",
       "      <td>0.540542</td>\n",
       "      <td>2948.923828</td>\n",
       "      <td>340.858944</td>\n",
       "      <td>590.466475</td>\n",
       "    </tr>\n",
       "  </tbody>\n",
       "</table>\n",
       "</div>"
      ],
      "text/plain": [
       "                MD           GR         NPOR         RHOB         DT4P  \\\n",
       "count  1180.000000  1180.000000  1180.000000  1180.000000  1180.000000   \n",
       "mean   2794.369898    67.446540     0.326575  2492.839470   279.319626   \n",
       "std     344.129491    16.573208     0.072867   113.728833    25.633681   \n",
       "min    2193.036000    20.533973     0.063613  2085.521075   174.242612   \n",
       "25%    2497.786000    55.838850     0.281608  2449.121048   262.798815   \n",
       "50%    2793.536000    71.905249     0.340721  2507.595056   284.037424   \n",
       "75%    3093.286000    79.879259     0.380069  2568.167429   299.011058   \n",
       "max    3388.036000   156.760897     0.540542  2948.923828   340.858944   \n",
       "\n",
       "              DT4S  \n",
       "count  1180.000000  \n",
       "mean    506.030330  \n",
       "std      60.566666  \n",
       "min     294.858697  \n",
       "25%     469.128767  \n",
       "50%     516.340168  \n",
       "75%     555.903227  \n",
       "max     590.466475  "
      ]
     },
     "execution_count": 130,
     "metadata": {},
     "output_type": "execute_result"
    }
   ],
   "source": [
    "df = df[df['DT4S'] > 200]\n",
    "\n",
    "df.describe()"
   ]
  },
  {
   "cell_type": "markdown",
   "metadata": {},
   "source": [
    "We're going to start with the simplest possible problem: predicting the DTS log (last column) from the DTP log (second-to-last column)."
   ]
  },
  {
   "cell_type": "markdown",
   "metadata": {},
   "source": [
    "## Make `X` and `y`\n",
    "\n",
    "Let's make `X` (the DT log) and `y` (the DTS log)."
   ]
  },
  {
   "cell_type": "code",
   "execution_count": null,
   "metadata": {},
   "outputs": [],
   "source": []
  },
  {
   "cell_type": "code",
   "execution_count": 131,
   "metadata": {
    "tags": [
     "hide"
    ]
   },
   "outputs": [],
   "source": [
    "X = df['DT4P'].values.reshape(-1, 1)\n",
    "y = df['DT4S'].values"
   ]
  },
  {
   "cell_type": "code",
   "execution_count": 132,
   "metadata": {
    "tags": [
     "hide"
    ]
   },
   "outputs": [
    {
     "data": {
      "text/plain": [
       "((1180, 1), (1180,))"
      ]
     },
     "execution_count": 132,
     "metadata": {},
     "output_type": "execute_result"
    }
   ],
   "source": [
    "X.shape, y.shape"
   ]
  },
  {
   "cell_type": "code",
   "execution_count": 133,
   "metadata": {
    "tags": [
     "hide"
    ]
   },
   "outputs": [
    {
     "data": {
      "text/plain": [
       "<matplotlib.collections.PathCollection at 0x7f74315eaee0>"
      ]
     },
     "execution_count": 133,
     "metadata": {},
     "output_type": "execute_result"
    },
    {
     "data": {
      "image/png": "[encoded data removed]",
      "text/plain": [
       "<Figure size 432x288 with 1 Axes>"
      ]
     },
     "metadata": {
      "needs_background": "light"
     },
     "output_type": "display_data"
    }
   ],
   "source": [
    "import matplotlib.pyplot as plt\n",
    "\n",
    "plt.scatter(X, y, c='k')"
   ]
  },
  {
   "cell_type": "markdown",
   "metadata": {},
   "source": [
    "## Split the data\n",
    "\n",
    "We need to hold some data out so we know how we are doing.\n",
    "\n",
    "**Caveat: this data was resampled at 1 m, but it is probably still correlated.**"
   ]
  },
  {
   "cell_type": "code",
   "execution_count": null,
   "metadata": {},
   "outputs": [],
   "source": []
  },
  {
   "cell_type": "code",
   "execution_count": 134,
   "metadata": {
    "tags": [
     "hide"
    ]
   },
   "outputs": [
    {
     "data": {
      "text/plain": [
       "((944, 1), (236, 1))"
      ]
     },
     "execution_count": 134,
     "metadata": {},
     "output_type": "execute_result"
    }
   ],
   "source": [
    "from sklearn.model_selection import train_test_split\n",
    "\n",
    "X_train, X_test, y_train, y_test = train_test_split(X, y, test_size=0.2, random_state=42)\n",
    "\n",
    "X_train.shape, X_test.shape"
   ]
  },
  {
   "cell_type": "markdown",
   "metadata": {},
   "source": [
    "## Standardize the data\n",
    "\n",
    "Before doing linear regression, it's a good idea to transform the input to Z-score ('standardization')."
   ]
  },
  {
   "cell_type": "code",
   "execution_count": null,
   "metadata": {},
   "outputs": [],
   "source": []
  },
  {
   "cell_type": "code",
   "execution_count": 135,
   "metadata": {
    "tags": [
     "hide"
    ]
   },
   "outputs": [],
   "source": [
    "from sklearn.preprocessing import StandardScaler\n",
    "\n",
    "scaler = StandardScaler().fit(X_train)\n",
    "\n",
    "X_train = scaler.transform(X_train)\n",
    "X_test = scaler.transform(X_test)"
   ]
  },
  {
   "cell_type": "code",
   "execution_count": 136,
   "metadata": {
    "tags": [
     "hide"
    ]
   },
   "outputs": [
    {
     "data": {
      "text/plain": [
       "<matplotlib.collections.PathCollection at 0x7f7431554e80>"
      ]
     },
     "execution_count": 136,
     "metadata": {},
     "output_type": "execute_result"
    },
    {
     "data": {
      "image/png": "[encoded data removed]",
      "text/plain": [
       "<Figure size 432x288 with 1 Axes>"
      ]
     },
     "metadata": {
      "needs_background": "light"
     },
     "output_type": "display_data"
    }
   ],
   "source": [
    "import matplotlib.pyplot as plt\n",
    "\n",
    "plt.scatter(X, y, c='k')"
   ]
  },
  {
   "cell_type": "markdown",
   "metadata": {},
   "source": [
    "## Train a model\n",
    "\n",
    "Now we can train a model:"
   ]
  },
  {
   "cell_type": "code",
   "execution_count": null,
   "metadata": {},
   "outputs": [],
   "source": []
  },
  {
   "cell_type": "code",
   "execution_count": 137,
   "metadata": {
    "tags": [
     "hide"
    ]
   },
   "outputs": [],
   "source": [
    "from sklearn.linear_model import LinearRegression\n",
    "\n",
    "est = LinearRegression().fit(X_train, y_train)"
   ]
  },
  {
   "cell_type": "markdown",
   "metadata": {
    "tags": [
     "hide"
    ]
   },
   "source": [
    "The weights or coefficients are now non-zero, so the model has learned something:"
   ]
  },
  {
   "cell_type": "code",
   "execution_count": 138,
   "metadata": {
    "tags": [
     "hide"
    ]
   },
   "outputs": [
    {
     "data": {
      "text/plain": [
       "(array([57.1323923]), 505.560549025736)"
      ]
     },
     "execution_count": 138,
     "metadata": {},
     "output_type": "execute_result"
    }
   ],
   "source": [
    "est.coef_, est.intercept_"
   ]
  },
  {
   "cell_type": "markdown",
   "metadata": {
    "tags": [
     "hide"
    ]
   },
   "source": [
    "Let's look at the model... there's no easy way to do this, unfortunately. We didn't withhold any blind data, so we have to either use `X`, or we can make some data. Let's do both:"
   ]
  },
  {
   "cell_type": "code",
   "execution_count": 139,
   "metadata": {
    "tags": [
     "hide"
    ]
   },
   "outputs": [
    {
     "data": {
      "image/png": "[encoded data removed]",
      "text/plain": [
       "<Figure size 432x288 with 1 Axes>"
      ]
     },
     "metadata": {
      "needs_background": "light"
     },
     "output_type": "display_data"
    }
   ],
   "source": [
    "# Make a regularly sampled model.\n",
    "X_model = np.linspace(-3, 3).reshape(-1, 1)\n",
    "y_model = est.predict(X_model)\n",
    "\n",
    "# Predict the training data.\n",
    "y_pred = est.predict(X_train)\n",
    "\n",
    "# Plot it all...\n",
    "plt.scatter(X_train, y_train, c='k')\n",
    "plt.scatter(X_train, y_pred)\n",
    "plt.plot(X_model, y_model)\n",
    "plt.show()"
   ]
  },
  {
   "cell_type": "markdown",
   "metadata": {},
   "source": [
    "## Evaluate the model\n",
    "\n",
    "How did we do?"
   ]
  },
  {
   "cell_type": "code",
   "execution_count": null,
   "metadata": {},
   "outputs": [],
   "source": []
  },
  {
   "cell_type": "code",
   "execution_count": 140,
   "metadata": {
    "tags": [
     "hide"
    ]
   },
   "outputs": [
    {
     "data": {
      "text/plain": [
       "0.907857602873269"
      ]
     },
     "execution_count": 140,
     "metadata": {},
     "output_type": "execute_result"
    }
   ],
   "source": [
    "from sklearn.metrics import r2_score, mean_squared_error\n",
    "\n",
    "y_pred = est.predict(X_test)\n",
    "\n",
    "r2_score(y_test, y_pred)"
   ]
  },
  {
   "cell_type": "code",
   "execution_count": 141,
   "metadata": {
    "tags": [
     "hide"
    ]
   },
   "outputs": [
    {
     "data": {
      "text/plain": [
       "322.5337386579497"
      ]
     },
     "execution_count": 141,
     "metadata": {},
     "output_type": "execute_result"
    }
   ],
   "source": [
    "mean_squared_error(y_test, y_pred)"
   ]
  },
  {
   "cell_type": "code",
   "execution_count": 142,
   "metadata": {
    "tags": [
     "hide"
    ]
   },
   "outputs": [
    {
     "data": {
      "text/plain": [
       "17.959224333415676"
      ]
     },
     "execution_count": 142,
     "metadata": {},
     "output_type": "execute_result"
    }
   ],
   "source": [
    "np.sqrt(mean_squared_error(y_test, y_pred))"
   ]
  },
  {
   "cell_type": "code",
   "execution_count": 143,
   "metadata": {
    "tags": [
     "hide"
    ]
   },
   "outputs": [
    {
     "data": {
      "text/plain": [
       "<AxesSubplot:ylabel='Count'>"
      ]
     },
     "execution_count": 143,
     "metadata": {},
     "output_type": "execute_result"
    },
    {
     "data": {
      "image/png": "[encoded data removed]",
      "text/plain": [
       "<Figure size 432x288 with 1 Axes>"
      ]
     },
     "metadata": {
      "needs_background": "light"
     },
     "output_type": "display_data"
    }
   ],
   "source": [
    "import seaborn as sns\n",
    "\n",
    "residuals = y_test - y_pred\n",
    "\n",
    "sns.histplot(residuals)"
   ]
  },
  {
   "cell_type": "code",
   "execution_count": 144,
   "metadata": {
    "tags": [
     "hide"
    ]
   },
   "outputs": [
    {
     "data": {
      "text/plain": [
       "0.14903617370860658"
      ]
     },
     "execution_count": 144,
     "metadata": {},
     "output_type": "execute_result"
    }
   ],
   "source": [
    "np.mean(residuals)"
   ]
  },
  {
   "cell_type": "markdown",
   "metadata": {},
   "source": [
    "## More dimensions!\n",
    "\n",
    "We have more features; let's use them all. Now the model will be like:\n",
    "\n",
    "$$ \\hat{y} = w_0 x_0 + w_1 x_1 + w_2 x_2 + w_3 x_3 + w_4 x_4 + b $$\n"
   ]
  },
  {
   "cell_type": "code",
   "execution_count": null,
   "metadata": {},
   "outputs": [],
   "source": []
  },
  {
   "cell_type": "code",
   "execution_count": 145,
   "metadata": {
    "tags": [
     "hide"
    ]
   },
   "outputs": [
    {
     "data": {
      "text/html": [
       "<div>\n",
       "<style scoped>\n",
       "    .dataframe tbody tr th:only-of-type {\n",
       "        vertical-align: middle;\n",
       "    }\n",
       "\n",
       "    .dataframe tbody tr th {\n",
       "        vertical-align: top;\n",
       "    }\n",
       "\n",
       "    .dataframe thead th {\n",
       "        text-align: right;\n",
       "    }\n",
       "</style>\n",
       "<table border=\"1\" class=\"dataframe\">\n",
       "  <thead>\n",
       "    <tr style=\"text-align: right;\">\n",
       "      <th></th>\n",
       "      <th>MD</th>\n",
       "      <th>GR</th>\n",
       "      <th>NPOR</th>\n",
       "      <th>RHOB</th>\n",
       "      <th>DT4P</th>\n",
       "      <th>DT4S</th>\n",
       "    </tr>\n",
       "  </thead>\n",
       "  <tbody>\n",
       "    <tr>\n",
       "      <th>0</th>\n",
       "      <td>2193.036</td>\n",
       "      <td>45.742700</td>\n",
       "      <td>0.359600</td>\n",
       "      <td>2107.913600</td>\n",
       "      <td>311.028400</td>\n",
       "      <td>537.259000</td>\n",
       "    </tr>\n",
       "    <tr>\n",
       "      <th>1</th>\n",
       "      <td>2194.036</td>\n",
       "      <td>51.843641</td>\n",
       "      <td>0.383929</td>\n",
       "      <td>2114.938819</td>\n",
       "      <td>311.028400</td>\n",
       "      <td>537.259000</td>\n",
       "    </tr>\n",
       "    <tr>\n",
       "      <th>2</th>\n",
       "      <td>2195.036</td>\n",
       "      <td>69.373662</td>\n",
       "      <td>0.372925</td>\n",
       "      <td>2146.069531</td>\n",
       "      <td>311.039761</td>\n",
       "      <td>536.813117</td>\n",
       "    </tr>\n",
       "    <tr>\n",
       "      <th>3</th>\n",
       "      <td>2196.036</td>\n",
       "      <td>73.129669</td>\n",
       "      <td>0.368883</td>\n",
       "      <td>2151.876208</td>\n",
       "      <td>327.869660</td>\n",
       "      <td>570.625717</td>\n",
       "    </tr>\n",
       "    <tr>\n",
       "      <th>9</th>\n",
       "      <td>2202.036</td>\n",
       "      <td>82.824725</td>\n",
       "      <td>0.406431</td>\n",
       "      <td>2461.946970</td>\n",
       "      <td>314.599135</td>\n",
       "      <td>589.734229</td>\n",
       "    </tr>\n",
       "  </tbody>\n",
       "</table>\n",
       "</div>"
      ],
      "text/plain": [
       "         MD         GR      NPOR         RHOB        DT4P        DT4S\n",
       "0  2193.036  45.742700  0.359600  2107.913600  311.028400  537.259000\n",
       "1  2194.036  51.843641  0.383929  2114.938819  311.028400  537.259000\n",
       "2  2195.036  69.373662  0.372925  2146.069531  311.039761  536.813117\n",
       "3  2196.036  73.129669  0.368883  2151.876208  327.869660  570.625717\n",
       "9  2202.036  82.824725  0.406431  2461.946970  314.599135  589.734229"
      ]
     },
     "execution_count": 145,
     "metadata": {},
     "output_type": "execute_result"
    }
   ],
   "source": [
    "df.head()"
   ]
  },
  {
   "cell_type": "code",
   "execution_count": 146,
   "metadata": {
    "tags": [
     "hide"
    ]
   },
   "outputs": [],
   "source": [
    "X2 = df[['MD', 'GR', 'NPOR', 'RHOB', 'DT4P']]"
   ]
  },
  {
   "cell_type": "code",
   "execution_count": 147,
   "metadata": {
    "tags": [
     "hide"
    ]
   },
   "outputs": [],
   "source": [
    "X2_train, X2_test, y2_train, y2_test = train_test_split(X2, y, test_size=0.2, random_state=42)\n",
    "\n",
    "scaler = StandardScaler().fit(X2_train)\n",
    "\n",
    "X2_train = scaler.transform(X2_train)\n",
    "X2_test = scaler.transform(X2_test)"
   ]
  },
  {
   "cell_type": "code",
   "execution_count": 148,
   "metadata": {
    "tags": [
     "hide"
    ]
   },
   "outputs": [],
   "source": [
    "est2 = LinearRegression().fit(X2_train, y2_train)\n",
    "\n",
    "y_pred2 = est2.predict(X2_test)"
   ]
  },
  {
   "cell_type": "markdown",
   "metadata": {
    "tags": [
     "hide"
    ]
   },
   "source": [
    "Let's see how this new model does:"
   ]
  },
  {
   "cell_type": "code",
   "execution_count": 149,
   "metadata": {
    "tags": [
     "hide"
    ]
   },
   "outputs": [
    {
     "data": {
      "text/plain": [
       "0.9477605931787968"
      ]
     },
     "execution_count": 149,
     "metadata": {},
     "output_type": "execute_result"
    }
   ],
   "source": [
    "r2_score(y2_test, y_pred2)"
   ]
  },
  {
   "cell_type": "code",
   "execution_count": 150,
   "metadata": {
    "tags": [
     "hide"
    ]
   },
   "outputs": [
    {
     "data": {
      "text/plain": [
       "13.522498458110995"
      ]
     },
     "execution_count": 150,
     "metadata": {},
     "output_type": "execute_result"
    }
   ],
   "source": [
    "np.sqrt(mean_squared_error(y2_test, y_pred2))"
   ]
  },
  {
   "cell_type": "markdown",
   "metadata": {
    "tags": [
     "hide"
    ]
   },
   "source": [
    "Let's look at the residuals:"
   ]
  },
  {
   "cell_type": "code",
   "execution_count": 151,
   "metadata": {
    "tags": [
     "hide"
    ]
   },
   "outputs": [
    {
     "data": {
      "text/plain": [
       "<matplotlib.legend.Legend at 0x7f7431444190>"
      ]
     },
     "execution_count": 151,
     "metadata": {},
     "output_type": "execute_result"
    },
    {
     "data": {
      "image/png": "[encoded data removed]",
      "text/plain": [
       "<Figure size 432x288 with 1 Axes>"
      ]
     },
     "metadata": {
      "needs_background": "light"
     },
     "output_type": "display_data"
    }
   ],
   "source": [
    "residuals2 = y2_test - y_pred2\n",
    "\n",
    "sns.kdeplot(residuals, label='1 feature')\n",
    "sns.kdeplot(residuals2, label='All features')\n",
    "plt.legend()"
   ]
  },
  {
   "cell_type": "markdown",
   "metadata": {},
   "source": [
    "## A more complex model still"
   ]
  },
  {
   "cell_type": "code",
   "execution_count": null,
   "metadata": {},
   "outputs": [],
   "source": []
  },
  {
   "cell_type": "code",
   "execution_count": 171,
   "metadata": {
    "tags": [
     "hide"
    ]
   },
   "outputs": [
    {
     "data": {
      "text/plain": [
       "<matplotlib.legend.Legend at 0x7f741be37e80>"
      ]
     },
     "execution_count": 171,
     "metadata": {},
     "output_type": "execute_result"
    },
    {
     "data": {
      "image/png": "[encoded data removed]",
      "text/plain": [
       "<Figure size 432x288 with 1 Axes>"
      ]
     },
     "metadata": {
      "needs_background": "light"
     },
     "output_type": "display_data"
    }
   ],
   "source": [
    "from sklearn.pipeline import make_pipeline\n",
    "from sklearn.preprocessing import PolynomialFeatures\n",
    "from sklearn.linear_model import Ridge\n",
    "\n",
    "model = make_pipeline(PolynomialFeatures(degree=3), Ridge())\n",
    "\n",
    "model.fit(X2_train, y2_train)\n",
    "\n",
    "y_pred3 = model.predict(X2_test)\n",
    "\n",
    "residuals3 = y2_test - y_pred3\n",
    "\n",
    "sns.kdeplot(residuals, label='1 feature')\n",
    "sns.kdeplot(residuals2, label='All features')\n",
    "sns.kdeplot(residuals3, label='Poly features')\n",
    "plt.legend()"
   ]
  },
  {
   "cell_type": "markdown",
   "metadata": {},
   "source": [
    "---\n",
    "\n",
    "&copy; 2020 Agile Scientific, licenced CC-BY"
   ]
  }
 ],
 "metadata": {
  "celltoolbar": "Tags",
  "kernelspec": {
   "display_name": "geoml",
   "language": "python",
   "name": "geoml"
  },
  "language_info": {
   "codemirror_mode": {
    "name": "ipython",
    "version": 3
   },
   "file_extension": ".py",
   "mimetype": "text/x-python",
   "name": "python",
   "nbconvert_exporter": "python",
   "pygments_lexer": "ipython3",
   "version": "3.9.7"
  }
 },
 "nbformat": 4,
 "nbformat_minor": 4
}
