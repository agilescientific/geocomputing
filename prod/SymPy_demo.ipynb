{
 "cells": [
  {
   "cell_type": "markdown",
   "metadata": {},
   "source": [
    "# SymPy demo\n",
    "\n",
    "If you need to install SymPy:\n",
    "\n",
    "    pip install sympy"
   ]
  },
  {
   "cell_type": "code",
   "execution_count": 1,
   "metadata": {},
   "outputs": [
    {
     "data": {
      "text/plain": [
       "'1.6.2'"
      ]
     },
     "execution_count": 1,
     "metadata": {},
     "output_type": "execute_result"
    }
   ],
   "source": [
    "import sympy\n",
    "sympy.__version__"
   ]
  },
  {
   "cell_type": "code",
   "execution_count": 2,
   "metadata": {},
   "outputs": [],
   "source": [
    "sympy.init_printing(use_latex='mathjax')"
   ]
  },
  {
   "cell_type": "markdown",
   "metadata": {},
   "source": [
    "## Rearrange and simplify equations\n",
    "\n",
    "We have an expression for Vp in terms of Young's modulus, $E$, and shear modulus, $\\mu$:\n",
    "\n",
    "$$ V_\\mathrm{P} = \\sqrt{\\frac{\\mu\\,(E-4\\mu)}{\\rho\\,(E-3\\mu)}} $$\n",
    "\n",
    "We need single symbols for quantities, so I'll use $\\alpha$ for $V_\\mathrm{P}$ and $\\beta$ for $V_\\mathrm{S}$, and $\\gamma$ for their ratio."
   ]
  },
  {
   "cell_type": "code",
   "execution_count": 3,
   "metadata": {},
   "outputs": [],
   "source": [
    "alpha, beta, gamma = sympy.symbols(\"alpha, beta, gamma\")\n",
    "lamda, mu, E, K, M, rho = sympy.symbols(\"lamda, mu, E, K, M, rho\")"
   ]
  },
  {
   "cell_type": "markdown",
   "metadata": {},
   "source": [
    "Now we can use these symbols to make an expression."
   ]
  },
  {
   "cell_type": "code",
   "execution_count": 4,
   "metadata": {},
   "outputs": [
    {
     "data": {
      "text/latex": [
       "$\\displaystyle \\sqrt{\\frac{\\mu \\left(E - 4 \\mu\\right)}{\\rho \\left(E - 3 \\mu\\right)}}$"
      ],
      "text/plain": [
       "    _____________\n",
       "   ╱ μ⋅(E - 4⋅μ) \n",
       "  ╱  ─────────── \n",
       "╲╱   ρ⋅(E - 3⋅μ) "
      ]
     },
     "execution_count": 4,
     "metadata": {},
     "output_type": "execute_result"
    }
   ],
   "source": [
    "from sympy import sqrt\n",
    "\n",
    "alpha_expr = sqrt((mu * (E - 4*mu)) / (rho * (E - 3*mu)))\n",
    "alpha_expr"
   ]
  },
  {
   "cell_type": "code",
   "execution_count": 5,
   "metadata": {},
   "outputs": [
    {
     "name": "stdout",
     "output_type": "stream",
     "text": [
      "\\sqrt{\\frac{\\mu \\left(E - 4 \\mu\\right)}{\\rho \\left(E - 3 \\mu\\right)}}\n"
     ]
    }
   ],
   "source": [
    "print(sympy.latex(alpha_expr))"
   ]
  },
  {
   "cell_type": "markdown",
   "metadata": {},
   "source": [
    "We also know that\n",
    "\n",
    "$$ \\mu = \\frac{3KE}{9K-E} $$"
   ]
  },
  {
   "cell_type": "code",
   "execution_count": 6,
   "metadata": {},
   "outputs": [],
   "source": [
    "mu_expr = (3 * K * E) / (9 * K - E)"
   ]
  },
  {
   "cell_type": "markdown",
   "metadata": {},
   "source": [
    "Now we can substitute this into the first expression."
   ]
  },
  {
   "cell_type": "code",
   "execution_count": 7,
   "metadata": {},
   "outputs": [
    {
     "data": {
      "text/latex": [
       "$\\displaystyle \\sqrt{3} \\sqrt{\\frac{E K \\left(- \\frac{12 E K}{- E + 9 K} + E\\right)}{\\rho \\left(- E + 9 K\\right) \\left(- \\frac{9 E K}{- E + 9 K} + E\\right)}}$"
      ],
      "text/plain": [
       "           _______________________________\n",
       "          ╱          ⎛   12⋅E⋅K     ⎞     \n",
       "         ╱       E⋅K⋅⎜- ──────── + E⎟     \n",
       "        ╱            ⎝  -E + 9⋅K    ⎠     \n",
       "√3⋅    ╱    ───────────────────────────── \n",
       "      ╱                  ⎛   9⋅E⋅K      ⎞ \n",
       "     ╱      ρ⋅(-E + 9⋅K)⋅⎜- ──────── + E⎟ \n",
       "   ╲╱                    ⎝  -E + 9⋅K    ⎠ "
      ]
     },
     "execution_count": 7,
     "metadata": {},
     "output_type": "execute_result"
    }
   ],
   "source": [
    "subs = alpha_expr.subs(mu, mu_expr)\n",
    "subs"
   ]
  },
  {
   "cell_type": "markdown",
   "metadata": {},
   "source": [
    "This is a bit ugly! Let's simplify it:"
   ]
  },
  {
   "cell_type": "code",
   "execution_count": 8,
   "metadata": {},
   "outputs": [
    {
     "data": {
      "text/latex": [
       "$\\displaystyle \\sqrt{3} \\sqrt{\\frac{K \\left(E + 3 K\\right)}{\\rho \\left(- E + 9 K\\right)}}$"
      ],
      "text/plain": [
       "       ______________\n",
       "      ╱ K⋅(E + 3⋅K)  \n",
       "√3⋅  ╱  ──────────── \n",
       "   ╲╱   ρ⋅(-E + 9⋅K) "
      ]
     },
     "execution_count": 8,
     "metadata": {},
     "output_type": "execute_result"
    }
   ],
   "source": [
    "from sympy import simplify\n",
    "\n",
    "simplify(subs)"
   ]
  },
  {
   "cell_type": "markdown",
   "metadata": {},
   "source": [
    "We can get this as LaTeX plain-text if we want."
   ]
  },
  {
   "cell_type": "code",
   "execution_count": 9,
   "metadata": {},
   "outputs": [
    {
     "name": "stdout",
     "output_type": "stream",
     "text": [
      "\\sqrt{3} \\sqrt{\\frac{K \\left(E + 3 K\\right)}{\\rho \\left(- E + 9 K\\right)}}\n"
     ]
    }
   ],
   "source": [
    "print(sympy.latex(simplify(subs)))"
   ]
  },
  {
   "cell_type": "markdown",
   "metadata": {},
   "source": [
    "## Solve an equation\n",
    "\n",
    "We'll solve\n",
    "\n",
    " $$ x + 2y = 3 $$\n",
    " $$ 3x + 4y = 17 $$ \n",
    " \n",
    "We'll re-write this using $x_1$ and $x_2$ instead of $x$ and $y$. They are just the names for the unknowns, but it's easier if we just think of there being one, multi-valued unknown. \n",
    "\n",
    " $$ x_1 + 2x_2 = 3 $$\n",
    " $$ 3x_1 + 4x_2 = 17 $$ \n",
    " \n",
    "Multi-valued quantities are _vectors_, usually written in bold face: $\\mathbf{x} = [x_1, x_2]$.\n",
    " \n",
    "Now we can rewrite this in the form $\\mathbf{A}\\mathbf{x} = \\mathbf{b}$ (which is analogous to the $\\mathbf{G}\\mathbf{m} = \\mathbf{d}$ form of many geophysical problems). $\\mathbf{A}$ is the matrix containing all the parameters, or coefficients, of the variables (the unknowns in this case) on the left-hand side of the equation. And $\\mathbf{b}$ is a vector containing the known outputs &mdash; the right-hand side of the equation.\n",
    " \n",
    " $$  \\mathbf{A}\\mathbf{x} = \\mathbf{b} $$\n",
    " \n",
    " $$ \\begin{bmatrix} 1, 2 \\\\ 3, 4 \\end{bmatrix}  \\begin{bmatrix} x_1 \\\\ x_2 \\end{bmatrix} =  \\begin{bmatrix} 3 \\\\ 17 \\end{bmatrix}$$\n",
    "\n",
    "To multiply a matrix by a vector, we multiply the first row by the vector and add the result. So the first row yields $(1 x_1 + 2 x_2)$ &mdash; the first of the two equations we started with. And the second row gives us $(3 x_1 + 4 x_2)$ &mdash; the second equation.\n",
    "\n",
    "So now 'all' we have to do is find the vector $\\mathbf{x}$ that satisfies this new algebraic equation:\n",
    "\n",
    " $$ \\mathbf{A}\\mathbf{x} = \\mathbf{b} $$\n",
    " $$ \\Rightarrow \\mathbf{x} = \\mathbf{A}^{-1} \\mathbf{b}$$\n",
    " \n",
    "There's one catch... That symbol $\\mathrm{A}^{-1}$ doesn't mean the reciprocal. It means the inverse. And that's where the fun starts.\n",
    "\n",
    "We won't go into it now, but the inverse can be hard to compute. Sometimes it's impossible. So mathematicians have come up with lots of other ways to solve this kind of equation. Welcome to the world of **linear algebra**!"
   ]
  },
  {
   "cell_type": "markdown",
   "metadata": {},
   "source": [
    "### Solve with SymPy"
   ]
  },
  {
   "cell_type": "code",
   "execution_count": 10,
   "metadata": {},
   "outputs": [
    {
     "data": {
      "text/latex": [
       "$\\displaystyle \\left\\{ x_{1} : 11, \\  x_{2} : -4\\right\\}$"
      ],
      "text/plain": [
       "{x₁: 11, x₂: -4}"
      ]
     },
     "execution_count": 10,
     "metadata": {},
     "output_type": "execute_result"
    }
   ],
   "source": [
    "from sympy.solvers import solve\n",
    "from sympy import symbols\n",
    "\n",
    "# Define the symbols we are going to use.\n",
    "x_1, x_2 = symbols('x_1, x_2')\n",
    "\n",
    "# Define the equations, making them equal zero.\n",
    "equations = [x_1 + 2*x_2 - 3,\n",
    "             3*x_1 + 4*x_2 - 17]\n",
    "\n",
    "# Solve for x_1 and x_2.\n",
    "solve(equations, (x_1, x_2))"
   ]
  },
  {
   "cell_type": "markdown",
   "metadata": {},
   "source": [
    "We can also solve it as a linear system.\n",
    "\n",
    "This requires us to formulate the equations as a single matrix, called an _augmented matrix_. It might look a bit funny, but it's a standard way to solve this kind of problem:"
   ]
  },
  {
   "cell_type": "code",
   "execution_count": 11,
   "metadata": {},
   "outputs": [
    {
     "data": {
      "text/latex": [
       "$\\displaystyle \\left\\{ x_{1} : 11, \\  x_{2} : -4\\right\\}$"
      ],
      "text/plain": [
       "{x₁: 11, x₂: -4}"
      ]
     },
     "execution_count": 11,
     "metadata": {},
     "output_type": "execute_result"
    }
   ],
   "source": [
    "from sympy import Matrix, solve_linear_system\n",
    "\n",
    "x_1, x_2 = symbols('x_1, x_2')\n",
    "\n",
    "system = Matrix([[1, 2,  3],\n",
    "                 [3, 4, 17]])\n",
    "\n",
    "solve_linear_system(system, x_1, x_2)"
   ]
  },
  {
   "cell_type": "markdown",
   "metadata": {},
   "source": [
    "### Solve with `np.linalg`\n",
    "\n",
    "We can solve linear systems without SymPy."
   ]
  },
  {
   "cell_type": "code",
   "execution_count": 12,
   "metadata": {},
   "outputs": [],
   "source": [
    "import numpy as np\n",
    "\n",
    "A = np.array([[1, 2],\n",
    "              [3, 4]])\n",
    "\n",
    "b = np.array([3, 17])"
   ]
  },
  {
   "cell_type": "code",
   "execution_count": 13,
   "metadata": {},
   "outputs": [
    {
     "data": {
      "text/plain": [
       "array([11., -4.])"
      ]
     },
     "execution_count": 13,
     "metadata": {},
     "output_type": "execute_result"
    }
   ],
   "source": [
    "x = np.linalg.inv(A) @ b\n",
    "\n",
    "x"
   ]
  },
  {
   "cell_type": "markdown",
   "metadata": {},
   "source": [
    "We can check that this is actually a solution:"
   ]
  },
  {
   "cell_type": "code",
   "execution_count": 14,
   "metadata": {},
   "outputs": [
    {
     "data": {
      "text/plain": [
       "array([ 3., 17.])"
      ]
     },
     "execution_count": 14,
     "metadata": {},
     "output_type": "execute_result"
    }
   ],
   "source": [
    "A @ x"
   ]
  },
  {
   "cell_type": "markdown",
   "metadata": {},
   "source": [
    "Indeed, this is the `b` we started with. However, not all matrices are invertible, so this method won't always work. Sometimes we need `solve`:"
   ]
  },
  {
   "cell_type": "code",
   "execution_count": 15,
   "metadata": {},
   "outputs": [
    {
     "data": {
      "text/plain": [
       "array([11., -4.])"
      ]
     },
     "execution_count": 15,
     "metadata": {},
     "output_type": "execute_result"
    }
   ],
   "source": [
    "np.linalg.solve(A, b)"
   ]
  },
  {
   "cell_type": "markdown",
   "metadata": {},
   "source": [
    "Least squares is another option:"
   ]
  },
  {
   "cell_type": "code",
   "execution_count": 16,
   "metadata": {},
   "outputs": [
    {
     "data": {
      "text/plain": [
       "array([11., -4.])"
      ]
     },
     "execution_count": 16,
     "metadata": {},
     "output_type": "execute_result"
    }
   ],
   "source": [
    "x, *_ = np.linalg.lstsq(A, b, rcond=-1)\n",
    "\n",
    "x"
   ]
  },
  {
   "cell_type": "markdown",
   "metadata": {},
   "source": [
    "----\n",
    "\n",
    "&copy; 2020 Agile Scientific &mdash; licensed CC-BY"
   ]
  }
 ],
 "metadata": {
  "kernelspec": {
   "display_name": "geocomp",
   "language": "python",
   "name": "geocomp"
  },
  "language_info": {
   "codemirror_mode": {
    "name": "ipython",
    "version": 3
   },
   "file_extension": ".py",
   "mimetype": "text/x-python",
   "name": "python",
   "nbconvert_exporter": "python",
   "pygments_lexer": "ipython3",
   "version": "3.8.5"
  }
 },
 "nbformat": 4,
 "nbformat_minor": 2
}
