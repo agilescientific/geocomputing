{
 "cells": [
  {
   "cell_type": "markdown",
   "metadata": {},
   "source": [
    "## Dealing with images\n",
    "\n",
    "We'll take a look at the Python Imaging Library. The main points about this library:\n",
    "\n",
    "- Reads and writes essentially any image format.\n",
    "- Can do all sorts of manipulation (resizing, cropping, enhancing, drawing, compositing).\n",
    "- Can convert to and from NumPy arrays.\n",
    "\n",
    "We'll also briefly look at reading and writing images with `matplotlib` and `scikit-image`. Main features of `matplotlib`:\n",
    "\n",
    "- Only reads PNG format.\n",
    "- Doesn't do any manipulation, although you can resize an image in `scipy`.\n",
    "- Writes most common formats (PNG, JPG, GIF, plus PDF and SVG for vectors).\n",
    "- Uses NumPy arrays implicitly.\n",
    "\n",
    "To install it, do:\n",
    "\n",
    "    conda install pillow\n",
    "\n",
    "Start with the usual:"
   ]
  },
  {
   "cell_type": "code",
   "execution_count": null,
   "metadata": {},
   "outputs": [],
   "source": [
    "import numpy as np\n",
    "import matplotlib.pyplot as plt"
   ]
  },
  {
   "cell_type": "markdown",
   "metadata": {},
   "source": [
    "## A quick look at `matplotlib`\n",
    "\n",
    "[Here are the docs.](https://matplotlib.org/users/image_tutorial.html)\n",
    "\n",
    "Matplotlib can only load PNGs natively. You can load a JPEG, but mpl will use PIL behind the scenes.\n",
    "\n",
    "Unlike PIL, mpl loads images as 4-byte floats in [0, 1]. \n",
    "\n",
    "First, download this image to your computer and then use the filename to load it with `matplotlib`:\n",
    "\n",
    "<img src=\"https://geocomp.s3.amazonaws.com/data/quartz-arenite_Michael-C-Rygel_CC-BY-SA.png\" width=600 />"
   ]
  },
  {
   "cell_type": "code",
   "execution_count": null,
   "metadata": {},
   "outputs": [],
   "source": [
    "img = plt.imread(\"PATH/TO/THE/FILE\")"
   ]
  },
  {
   "cell_type": "code",
   "execution_count": null,
   "metadata": {
    "scrolled": true
   },
   "outputs": [],
   "source": [
    "import numpy as np\n",
    "\n",
    "np.asarray(img)"
   ]
  },
  {
   "cell_type": "markdown",
   "metadata": {},
   "source": [
    "Notice we have an h &times; w &times; 3 array — this is an RGB image. PNGs often have a 4th channel, alpha or A, which holds opacity.\n",
    "\n",
    "`plt.imshow()` plots 3-channel arrays like this in colour:"
   ]
  },
  {
   "cell_type": "code",
   "execution_count": null,
   "metadata": {},
   "outputs": [],
   "source": [
    "plt.imshow(img)"
   ]
  },
  {
   "cell_type": "markdown",
   "metadata": {},
   "source": [
    "We can plot only the red channel (say), and apply false colour via a lookup table:"
   ]
  },
  {
   "cell_type": "code",
   "execution_count": null,
   "metadata": {},
   "outputs": [],
   "source": [
    "plt.imshow(img[..., 0])\n",
    "plt.colorbar()"
   ]
  },
  {
   "cell_type": "code",
   "execution_count": null,
   "metadata": {},
   "outputs": [],
   "source": [
    "_ = plt.hist(img[..., 0].ravel(), bins=128)"
   ]
  },
  {
   "cell_type": "markdown",
   "metadata": {},
   "source": [
    "## PIL's `Image` object\n",
    "\n",
    "[Here are the docs!](http://effbot.org/imagingbook/image.htm)"
   ]
  },
  {
   "cell_type": "code",
   "execution_count": null,
   "metadata": {},
   "outputs": [],
   "source": [
    "from PIL import Image\n",
    "import urllib\n",
    "\n",
    "url = \"https://geocomp.s3.amazonaws.com/data/quartz-arenite_Michael-C-Rygel_CC-BY-SA.png\"\n",
    "im = Image.open(urllib.request.urlopen(url))"
   ]
  },
  {
   "cell_type": "code",
   "execution_count": null,
   "metadata": {},
   "outputs": [],
   "source": [
    "im"
   ]
  },
  {
   "cell_type": "markdown",
   "metadata": {},
   "source": [
    "Notice that the size (not `shape`!) is reported as columns &times; rows, so it's different from a NumPy array."
   ]
  },
  {
   "cell_type": "code",
   "execution_count": null,
   "metadata": {},
   "outputs": [],
   "source": [
    "im.size"
   ]
  },
  {
   "cell_type": "code",
   "execution_count": null,
   "metadata": {},
   "outputs": [],
   "source": [
    "np.array(im).shape"
   ]
  },
  {
   "cell_type": "code",
   "execution_count": null,
   "metadata": {},
   "outputs": [],
   "source": [
    "aspect = 1200/961\n",
    "w = 600\n",
    "h = int(w / aspect)   # Has to be an int.\n",
    "\n",
    "im = im.resize((w, h), Image.ANTIALIAS)\n",
    "im"
   ]
  },
  {
   "cell_type": "markdown",
   "metadata": {},
   "source": [
    "You can save having to compute the new image size with the `thumbnail` method but be careful — it resizes the image in place:"
   ]
  },
  {
   "cell_type": "code",
   "execution_count": null,
   "metadata": {},
   "outputs": [],
   "source": [
    "temp = im.copy()\n",
    "temp.thumbnail((64, 64), Image.ANTIALIAS)"
   ]
  },
  {
   "cell_type": "code",
   "execution_count": null,
   "metadata": {},
   "outputs": [],
   "source": [
    "temp"
   ]
  },
  {
   "cell_type": "markdown",
   "metadata": {},
   "source": [
    "We can plot this little image and see that it's now pixellated at any reasonable size:"
   ]
  },
  {
   "cell_type": "code",
   "execution_count": null,
   "metadata": {},
   "outputs": [],
   "source": [
    "plt.imshow(temp, interpolation='none')"
   ]
  },
  {
   "cell_type": "markdown",
   "metadata": {},
   "source": [
    "We can ask `imshow` for some more sensible interpolation:"
   ]
  },
  {
   "cell_type": "code",
   "execution_count": null,
   "metadata": {},
   "outputs": [],
   "source": [
    "plt.imshow(temp, interpolation='bicubic')"
   ]
  },
  {
   "cell_type": "markdown",
   "metadata": {},
   "source": [
    "## Handling images as arrays\n",
    "\n",
    "As you see in the last example, we can treat PIL `Image` as an array sometimes, eg passing it to `imshow`. But sometimes it's convenient to treat images entirely as NumPy arrays. It's easy to convert between the two:"
   ]
  },
  {
   "cell_type": "code",
   "execution_count": null,
   "metadata": {},
   "outputs": [],
   "source": [
    "rgb = np.array(im)\n",
    "\n",
    "red_channel = rgb[:, :, 0]\n",
    "plt.imshow(red_channel, cmap='gray')"
   ]
  },
  {
   "cell_type": "markdown",
   "metadata": {},
   "source": [
    "Note that NumPy doesn't implicitly care about the values:"
   ]
  },
  {
   "cell_type": "code",
   "execution_count": null,
   "metadata": {},
   "outputs": [],
   "source": [
    "np.max(red_channel)"
   ]
  },
  {
   "cell_type": "code",
   "execution_count": null,
   "metadata": {},
   "outputs": [],
   "source": [
    "red_max1 = red_channel / 255\n",
    "plt.imshow(red_max1, cmap='gray')"
   ]
  },
  {
   "cell_type": "markdown",
   "metadata": {},
   "source": [
    "But if you convert back to a PIL `Image`, it cares. In fact, it won't even accept our decimal numbers in the 0–1 range:"
   ]
  },
  {
   "cell_type": "code",
   "execution_count": null,
   "metadata": {},
   "outputs": [],
   "source": [
    "im_red =  Image.fromarray(red_max1)\n",
    "im_red"
   ]
  },
  {
   "cell_type": "markdown",
   "metadata": {},
   "source": [
    "We have to cast them to unsigned 8-bit integers (i.e. integers in the range 0 to 255):"
   ]
  },
  {
   "cell_type": "code",
   "execution_count": null,
   "metadata": {},
   "outputs": [],
   "source": [
    "im_red = Image.fromarray(np.uint8(red_max1 * 255))\n",
    "im_red"
   ]
  },
  {
   "cell_type": "markdown",
   "metadata": {
    "tags": [
     "exercise"
    ]
   },
   "source": [
    "### Exercise\n",
    "\n",
    "- Make a histogram of the image using [the `histogram()` method](http://effbot.org/imagingbook/image.htm#tag-Image.Image.histogram) on `Image`.\n",
    "- Use the `crop()` method on the `Image` to crop the scalebar off the image.\n",
    "- Crop the scalebar out of the image, and calculate the real-world size of each pixel in the image.\n",
    "- Compute the luminance of the image $Y = 0.299 R + 0.587 G + 0.114 B$ and plot a transect across the middle of the image."
   ]
  },
  {
   "cell_type": "code",
   "execution_count": null,
   "metadata": {},
   "outputs": [],
   "source": [
    "# Your code here..."
   ]
  },
  {
   "cell_type": "markdown",
   "metadata": {
    "tags": [
     "hide"
    ]
   },
   "source": [
    "### Histogram"
   ]
  },
  {
   "cell_type": "code",
   "execution_count": null,
   "metadata": {
    "tags": [
     "hide"
    ]
   },
   "outputs": [],
   "source": [
    "im.histogram?"
   ]
  },
  {
   "cell_type": "code",
   "execution_count": null,
   "metadata": {
    "tags": [
     "hide"
    ]
   },
   "outputs": [],
   "source": [
    "h = np.array(im.histogram())\n",
    "r, g, b = np.array_split(h, 3)\n",
    "\n",
    "plt.plot(r, 'r')\n",
    "plt.plot(g, 'g')\n",
    "plt.plot(b, 'b')\n",
    "plt.show()"
   ]
  },
  {
   "cell_type": "code",
   "execution_count": null,
   "metadata": {
    "tags": [
     "hide"
    ]
   },
   "outputs": [],
   "source": [
    "im.size"
   ]
  },
  {
   "cell_type": "markdown",
   "metadata": {
    "tags": [
     "hide"
    ]
   },
   "source": [
    "### Cropping"
   ]
  },
  {
   "cell_type": "code",
   "execution_count": null,
   "metadata": {
    "tags": [
     "hide"
    ]
   },
   "outputs": [],
   "source": [
    "# left, upper, right, lower\n",
    "main = im.crop((2, 2, 530, 435))\n",
    "main"
   ]
  },
  {
   "cell_type": "code",
   "execution_count": null,
   "metadata": {
    "tags": [
     "hide"
    ]
   },
   "outputs": [],
   "source": [
    "scale = im.crop((530, 435, 600, 480))\n",
    "scale = np.array(scale)\n",
    "\n",
    "plt.imshow(scale)"
   ]
  },
  {
   "cell_type": "code",
   "execution_count": null,
   "metadata": {
    "tags": [
     "hide"
    ]
   },
   "outputs": [],
   "source": [
    "plt.plot(scale[10, :, 0])"
   ]
  },
  {
   "cell_type": "code",
   "execution_count": null,
   "metadata": {
    "tags": [
     "hide"
    ]
   },
   "outputs": [],
   "source": [
    "bar = scale[10, :, 0] < 100\n",
    "bar.sum()"
   ]
  },
  {
   "cell_type": "markdown",
   "metadata": {
    "tags": [
     "hide"
    ]
   },
   "source": [
    "Therefore we have 57 pixels in the scale bar. We know it's 0.25 mm or 0.25 &times; 10<sup>–3</sup> m long, so each pixel is:"
   ]
  },
  {
   "cell_type": "code",
   "execution_count": null,
   "metadata": {
    "tags": [
     "hide"
    ]
   },
   "outputs": [],
   "source": [
    "0.25e-3 / 57"
   ]
  },
  {
   "cell_type": "markdown",
   "metadata": {
    "tags": [
     "hide"
    ]
   },
   "source": [
    "... about 4.4 microns wide."
   ]
  },
  {
   "cell_type": "markdown",
   "metadata": {
    "tags": [
     "hide"
    ]
   },
   "source": [
    "### Luminance"
   ]
  },
  {
   "cell_type": "code",
   "execution_count": null,
   "metadata": {
    "tags": [
     "hide"
    ]
   },
   "outputs": [],
   "source": [
    "r, g, b = np.array(main).T\n",
    "y = 0.299*r + 0.587*g + 0.114*b"
   ]
  },
  {
   "cell_type": "code",
   "execution_count": null,
   "metadata": {
    "tags": [
     "hide"
    ]
   },
   "outputs": [],
   "source": [
    "plt.imshow(y.T, cmap='gray')"
   ]
  },
  {
   "cell_type": "markdown",
   "metadata": {},
   "source": [
    "Save this file as `\"../data/quartz-arenite_LUMINANCE_Michael-C-Rygel_CC-BY-SA.npy\"`"
   ]
  },
  {
   "cell_type": "code",
   "execution_count": null,
   "metadata": {},
   "outputs": [],
   "source": [
    "fname = \"../data/quartz-arenite_LUMINANCE_Michael-C-Rygel_CC-BY-SA.npy\"\n",
    "np.save(fname, y.T)"
   ]
  },
  {
   "cell_type": "markdown",
   "metadata": {},
   "source": [
    "## Where next?\n",
    "\n",
    "Next, try the tutorial on [Image segmentation](../demos/Image_segmentation.ipynb)."
   ]
  },
  {
   "cell_type": "code",
   "execution_count": null,
   "metadata": {},
   "outputs": [],
   "source": []
  }
 ],
 "metadata": {
  "celltoolbar": "Tags",
  "kernelspec": {
   "display_name": "geocomp",
   "language": "python",
   "name": "geocomp"
  },
  "language_info": {
   "codemirror_mode": {
    "name": "ipython",
    "version": 3
   },
   "file_extension": ".py",
   "mimetype": "text/x-python",
   "name": "python",
   "nbconvert_exporter": "python",
   "pygments_lexer": "ipython3",
   "version": "3.9.7"
  }
 },
 "nbformat": 4,
 "nbformat_minor": 2
}
