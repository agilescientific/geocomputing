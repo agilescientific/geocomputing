{
 "cells": [
  {
   "cell_type": "markdown",
   "metadata": {},
   "source": [
    "# Info from the web\n",
    "\n",
    "**This notebook goes with [a blog post at Agile*](http://ageo.co/xlines02).**\n",
    "\n",
    "We're going to get some info from a web service, and from Wikipedia. We'll make good use of [the `requests` library](http://docs.python-requests.org/en/master/), a really nicely designed Python library for making web requests in Python."
   ]
  },
  {
   "cell_type": "markdown",
   "metadata": {},
   "source": [
    "## Simple http server\n",
    "\n",
    "Before we do anything else, let's have a look at running a very simple server right on your computer.\n",
    "\n",
    "Let's say you want to share a file with someone on your local network.\n",
    "\n",
    "You can use Python's [`http.server`](https://docs.python.org/3/library/http.server.html) package for this. \n",
    "\n",
    "### 1. Open a terminal\n",
    "\n",
    "Then change directory to the location from which you want to share files.\n",
    "\n",
    "### 2. Find your IP address\n",
    "\n",
    "Your local IP address is given by `ipconfig` on Windows, or `ifconfig` on Mac or Linux (you might need to install something first).\n",
    "\n",
    "### 3. Start server\n",
    "\n",
    "Type:\n",
    "\n",
    "    python -m http.server\n",
    "    \n",
    "(Note the use of the `-m` switch to tell Python to run a module in its path directly.)\n",
    "\n",
    "### 4. Visit the IP address\n",
    "\n",
    "Visit the IP address on another device on the same network. Don't forget to add the port, usually `8000`, to the end of the IP address.\n",
    "\n",
    "**You can see the files on the host computer!**"
   ]
  },
  {
   "cell_type": "markdown",
   "metadata": {},
   "source": [
    "## Using the curvenam.es web API\n",
    "\n",
    "[`curvenam.es`](http://curvenam.es) is a little web app for looking up curve mnemonics from LAS files.\n",
    "\n",
    "Here's what [the demo request from the site](http://curvenam.es/lookup) looks like:\n",
    "\n",
    "    http://curvenam.es/lookup?mnemonic=TEST&method=fuzzy&limit=5&maxdist=2\n",
    "    \n",
    "We split this into the URL, and the query parameters:"
   ]
  },
  {
   "cell_type": "markdown",
   "metadata": {},
   "source": [
    "----\n",
    "## A note about proxies\n",
    "\n",
    "If you are in a corporate environment, you probably connect to the Internet through another computer called a 'proxy'. You will need the URL of this proxy; it might look like `https://proxy.my-company.net:8080`. Then use it in your Python environment like this:\n",
    "\n",
    "    proxies  = {'https': 'https://proxy.my-company.net:8080'}\n",
    "    r = requests.get(url, proxies=proxies)\n",
    "    \n",
    "Each time you use `requests.get()` you will need to pass the `proxies` dictionary in this way.\n",
    "\n",
    "----"
   ]
  },
  {
   "cell_type": "code",
   "execution_count": 1,
   "metadata": {},
   "outputs": [],
   "source": [
    "import requests"
   ]
  },
  {
   "cell_type": "code",
   "execution_count": 2,
   "metadata": {},
   "outputs": [],
   "source": [
    "url = 'http://curvenam.es/lookup'"
   ]
  },
  {
   "cell_type": "code",
   "execution_count": 3,
   "metadata": {},
   "outputs": [],
   "source": [
    "params = {'mnemonic': 'DT4P',\n",
    "          'method': 'fuzzy',\n",
    "          'limit': 1,\n",
    "          'maxdist': 2\n",
    "         }"
   ]
  },
  {
   "cell_type": "code",
   "execution_count": 4,
   "metadata": {},
   "outputs": [],
   "source": [
    "r = requests.get(url, params)"
   ]
  },
  {
   "cell_type": "markdown",
   "metadata": {},
   "source": [
    "If we were successful, the server sends back a `200` status code:"
   ]
  },
  {
   "cell_type": "code",
   "execution_count": 5,
   "metadata": {},
   "outputs": [
    {
     "data": {
      "text/plain": [
       "200"
      ]
     },
     "execution_count": 5,
     "metadata": {},
     "output_type": "execute_result"
    }
   ],
   "source": [
    "r.status_code"
   ]
  },
  {
   "cell_type": "code",
   "execution_count": 5,
   "metadata": {},
   "outputs": [
    {
     "data": {
      "text/plain": [
       "{'Cache-Control': 'no-cache', 'Content-Type': 'application/vnd.api+json', 'X-Cloud-Trace-Context': '1271d066be86ef3e055ee404174e97ac;o=1', 'Date': 'Thu, 15 Nov 2018 14:16:31 GMT', 'Server': 'Google Frontend', 'Content-Length': '359'}"
      ]
     },
     "execution_count": 5,
     "metadata": {},
     "output_type": "execute_result"
    }
   ],
   "source": [
    "r.headers"
   ]
  },
  {
   "cell_type": "markdown",
   "metadata": {},
   "source": [
    "The result of the query is in the `text` attribute of the result:"
   ]
  },
  {
   "cell_type": "code",
   "execution_count": 6,
   "metadata": {},
   "outputs": [
    {
     "data": {
      "text/plain": [
       "'{\"mnemonic\": \"DT4P\", \"maxdist\": \"2\", \"limit\": \"1\", \"result\": [{\"mnemonic\": \"DT4P\", \"distance\": 0, \"curve\": {\"mnemonic\": \"DT4P\", \"model\": \"\", \"unittype\": \"AcousticSlowness\", \"description\": \"Delta-T Compressional - Monopole P&S\", \"units\": \"\", \"company\": \"Schlumberger\", \"type\": \"Curve\", \"method\": \"Wireline\"}}], \"time\": 0.0072801113128662109, \"method\": \"fuzzy\"}'"
      ]
     },
     "execution_count": 6,
     "metadata": {},
     "output_type": "execute_result"
    }
   ],
   "source": [
    "r.text"
   ]
  },
  {
   "cell_type": "markdown",
   "metadata": {},
   "source": [
    "There's a convenient `json()` method to give us the result as JSON:"
   ]
  },
  {
   "cell_type": "code",
   "execution_count": 7,
   "metadata": {},
   "outputs": [
    {
     "data": {
      "text/plain": [
       "{'limit': '1',\n",
       " 'maxdist': '2',\n",
       " 'method': 'fuzzy',\n",
       " 'mnemonic': 'DT4P',\n",
       " 'result': [{'curve': {'company': 'Schlumberger',\n",
       "    'description': 'Delta-T Compressional - Monopole P&S',\n",
       "    'method': 'Wireline',\n",
       "    'mnemonic': 'DT4P',\n",
       "    'model': '',\n",
       "    'type': 'Curve',\n",
       "    'units': '',\n",
       "    'unittype': 'AcousticSlowness'},\n",
       "   'distance': 0,\n",
       "   'mnemonic': 'DT4P'}],\n",
       " 'time': 0.007280111312866211}"
      ]
     },
     "execution_count": 7,
     "metadata": {},
     "output_type": "execute_result"
    }
   ],
   "source": [
    "r.json()"
   ]
  },
  {
   "cell_type": "code",
   "execution_count": 8,
   "metadata": {},
   "outputs": [
    {
     "name": "stdout",
     "output_type": "stream",
     "text": [
      "Delta-T Compressional - Monopole P&S\n"
     ]
    }
   ],
   "source": [
    "try:\n",
    "    print(r.json()['result'][0]['curve']['description'])\n",
    "except:\n",
    "    print(\"No results\")"
   ]
  },
  {
   "cell_type": "markdown",
   "metadata": {},
   "source": [
    "----\n",
    "\n",
    "## Scraping geological ages from Wikipedia\n",
    "\n",
    "Sometimes there isn't a nice API and we have to get what we want from unstructured data. Let's use the task of getting geological ages from Wikipedia as an example.\n",
    "\n",
    "We'll start with the Jurassic, then generalize."
   ]
  },
  {
   "cell_type": "code",
   "execution_count": 9,
   "metadata": {},
   "outputs": [],
   "source": [
    "url = \"http://en.wikipedia.org/wiki/Jurassic\""
   ]
  },
  {
   "cell_type": "markdown",
   "metadata": {},
   "source": [
    "I used `View Source` in my browser to figure out where the age range is on the page, and what it looks like. The most predictable spot, that will work on every period's page, is in the infobox. It's given as a range, in italic text, with \"million years ago\" right after it.\n",
    "\n",
    "Try to find the same string here."
   ]
  },
  {
   "cell_type": "code",
   "execution_count": 10,
   "metadata": {},
   "outputs": [],
   "source": [
    "r = requests.get(url)"
   ]
  },
  {
   "cell_type": "markdown",
   "metadata": {},
   "source": [
    "Now we have the entire text of the webpage, along with some metadata. The text is stored in `r.text`, and I happen to know that the piece of text we need contains \"million years ago\":"
   ]
  },
  {
   "cell_type": "code",
   "execution_count": 14,
   "metadata": {},
   "outputs": [
    {
     "data": {
      "text/plain": [
       "8856"
      ]
     },
     "execution_count": 14,
     "metadata": {},
     "output_type": "execute_result"
    }
   ],
   "source": [
    "r.text.find('million years ago')"
   ]
  },
  {
   "cell_type": "code",
   "execution_count": 15,
   "metadata": {},
   "outputs": [
    {
     "data": {
      "text/plain": [
       "'87,231)\"><b>Jurassic Period</b><br />\\n<i>201.3–145&#160;million years ago</i><br />\\n<div id=\"Timelin'"
      ]
     },
     "execution_count": 15,
     "metadata": {},
     "output_type": "execute_result"
    }
   ],
   "source": [
    "r.text[8800:8900]"
   ]
  },
  {
   "cell_type": "markdown",
   "metadata": {},
   "source": [
    "We can get at that bit of text using a [regular expression](https://docs.python.org/2/library/re.html):"
   ]
  },
  {
   "cell_type": "code",
   "execution_count": 16,
   "metadata": {},
   "outputs": [
    {
     "data": {
      "text/plain": [
       "'201.3–145&#160;million years ago'"
      ]
     },
     "execution_count": 16,
     "metadata": {},
     "output_type": "execute_result"
    }
   ],
   "source": [
    "import re\n",
    "\n",
    "s = re.search(r'<i>(.+?million years ago)</i>', r.text)\n",
    "text = s.group(1)\n",
    "text"
   ]
  },
  {
   "cell_type": "markdown",
   "metadata": {},
   "source": [
    "And if we're really cunning, we can get the start and end ages:"
   ]
  },
  {
   "cell_type": "code",
   "execution_count": 17,
   "metadata": {},
   "outputs": [
    {
     "name": "stdout",
     "output_type": "stream",
     "text": [
      "According to Wikipedia, the Jurassic lasted 56.30 Ma.\n"
     ]
    }
   ],
   "source": [
    "start, end = re.search(r'<i>([\\.0-9]+)–([\\.0-9]+)&#160;million years ago</i>', r.text).groups()\n",
    "duration = float(start) - float(end)\n",
    "\n",
    "print(\"According to Wikipedia, the Jurassic lasted {:.2f} Ma.\".format(duration))"
   ]
  },
  {
   "cell_type": "markdown",
   "metadata": {
    "tags": [
     "exercise"
    ]
   },
   "source": [
    "### Exercise\n",
    "\n",
    "- Make a function to get the start and end ages of *any* geologic period, taking the name of the period as an argument."
   ]
  },
  {
   "cell_type": "code",
   "execution_count": null,
   "metadata": {},
   "outputs": [],
   "source": []
  },
  {
   "cell_type": "code",
   "execution_count": 19,
   "metadata": {
    "tags": [
     "hide"
    ]
   },
   "outputs": [],
   "source": [
    "def get_age(period):\n",
    "    url =  \"http://en.wikipedia.org/wiki/\" + period\n",
    "    r = requests.get(url)\n",
    "    start, end = re.search(r'<i>([\\.0-9]+)–([\\.0-9]+)&#160;million years ago</i>', r.text).groups()\n",
    "    return float(start), float(end)"
   ]
  },
  {
   "cell_type": "markdown",
   "metadata": {},
   "source": [
    "You should be able to call your function like this:"
   ]
  },
  {
   "cell_type": "code",
   "execution_count": 24,
   "metadata": {},
   "outputs": [
    {
     "data": {
      "text/plain": [
       "(145.0, 66.0)"
      ]
     },
     "execution_count": 24,
     "metadata": {},
     "output_type": "execute_result"
    }
   ],
   "source": [
    "get_age('Cretaceous')"
   ]
  },
  {
   "cell_type": "markdown",
   "metadata": {
    "tags": [
     "exercise"
    ]
   },
   "source": [
    "### Exercise\n",
    "\n",
    "- Make a function that returns the sentence we made before, with the duration, calling the function you just wrote:"
   ]
  },
  {
   "cell_type": "code",
   "execution_count": null,
   "metadata": {},
   "outputs": [],
   "source": []
  },
  {
   "cell_type": "code",
   "execution_count": 22,
   "metadata": {
    "tags": [
     "hide"
    ]
   },
   "outputs": [],
   "source": [
    "def duration(period):\n",
    "    t0, t1 = get_age(period)\n",
    "    duration = t0 - t1\n",
    "    response = \"According to Wikipedia, the {0} lasted {1:.2f} Ma.\".format(period, duration)\n",
    "    return response"
   ]
  },
  {
   "cell_type": "code",
   "execution_count": 23,
   "metadata": {},
   "outputs": [
    {
     "data": {
      "text/plain": [
       "'According to Wikipedia, the Cretaceous lasted 79.00 Ma.'"
      ]
     },
     "execution_count": 23,
     "metadata": {},
     "output_type": "execute_result"
    }
   ],
   "source": [
    "duration('Cretaceous')"
   ]
  },
  {
   "cell_type": "markdown",
   "metadata": {},
   "source": [
    "## Downloading an image file"
   ]
  },
  {
   "cell_type": "code",
   "execution_count": null,
   "metadata": {},
   "outputs": [],
   "source": [
    "import requests\n",
    "\n",
    "image = \"https://virtualexplorer.com.au/article/2002/53/evolution-of-the-western-mediterranean/media/figure07.png\"\n",
    "\n",
    "r = requests.get(image)\n",
    "\n",
    "r.content"
   ]
  },
  {
   "cell_type": "code",
   "execution_count": null,
   "metadata": {},
   "outputs": [],
   "source": [
    "import io\n",
    "\n",
    "f = io.BytesIO(r.content)"
   ]
  },
  {
   "cell_type": "code",
   "execution_count": null,
   "metadata": {},
   "outputs": [],
   "source": [
    "import matplotlib.image as mpimg\n",
    "\n",
    "img = mpimg.imread(f)"
   ]
  },
  {
   "cell_type": "code",
   "execution_count": null,
   "metadata": {},
   "outputs": [],
   "source": [
    "import matplotlib.pyplot as plt\n",
    "\n",
    "plt.imshow(img)"
   ]
  },
  {
   "cell_type": "markdown",
   "metadata": {},
   "source": [
    "## Get predictions from an ML model"
   ]
  },
  {
   "cell_type": "code",
   "execution_count": null,
   "metadata": {},
   "outputs": [],
   "source": [
    "import requests\n",
    "\n",
    "url = \"https://geofignet.geosci.ai/api\"\n",
    "params = {'image': image}\n",
    "headers = {\"Accept\": \"application/json\"}\n",
    "\n",
    "response = requests.get(url, headers=headers, params=params)\n",
    "response.json()"
   ]
  },
  {
   "cell_type": "markdown",
   "metadata": {},
   "source": [
    "<hr />\n",
    "\n",
    "<div>\n",
    "<img src=\"https://avatars1.githubusercontent.com/u/1692321?s=50\"><p style=\"text-align:center\">© Agile Geoscience 2016</p>\n",
    "</div>"
   ]
  }
 ],
 "metadata": {
  "anaconda-cloud": {},
  "celltoolbar": "Tags",
  "kernelspec": {
   "display_name": "geocomp",
   "language": "python",
   "name": "geocomp"
  },
  "language_info": {
   "codemirror_mode": {
    "name": "ipython",
    "version": 3
   },
   "file_extension": ".py",
   "mimetype": "text/x-python",
   "name": "python",
   "nbconvert_exporter": "python",
   "pygments_lexer": "ipython3",
   "version": "3.8.5"
  }
 },
 "nbformat": 4,
 "nbformat_minor": 2
}