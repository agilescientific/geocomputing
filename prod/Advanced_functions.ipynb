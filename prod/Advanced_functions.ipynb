{
 "cells": [
  {
   "cell_type": "markdown",
   "metadata": {},
   "source": [
    "# Advanced functions\n",
    "\n",
    "Review [`Intro_to_functions`](Intro_to_functions.ipynb) and [`Practice_functions`](Practice_functions.ipynb) before coming in here.\n",
    "\n",
    "Our goal for this notebook is to get some practice writing functions. You can place these functions in `utils.py` once you've confirmed that you've got them working properly in the notebook.\n",
    "\n",
    "In doing so, we will implement a function to compute reflection coefficients from sequences of Vp and density values."
   ]
  },
  {
   "cell_type": "code",
   "execution_count": null,
   "metadata": {},
   "outputs": [],
   "source": [
    "rho = [2.45, 2.35, 2.45, 2.55, 2.80, 2.75]\n",
    "vp = [2300, 2400, 2500, 2300, 2600, 2700]"
   ]
  },
  {
   "cell_type": "code",
   "execution_count": null,
   "metadata": {},
   "outputs": [],
   "source": [
    "import matplotlib.pyplot as plt\n",
    "\n",
    "plt.plot(vp)"
   ]
  },
  {
   "cell_type": "code",
   "execution_count": null,
   "metadata": {},
   "outputs": [],
   "source": [
    "from utils import impedance\n",
    "\n",
    "impedance(rho, vp)"
   ]
  },
  {
   "cell_type": "markdown",
   "metadata": {},
   "source": [
    "It turns out there's a way to step over the values of `rho` and `vp` together. We will use the function `zip()`. [Read about zip() here](https://docs.python.org/3.3/library/functions.html#zip). Try the code below to see what it does."
   ]
  },
  {
   "cell_type": "code",
   "execution_count": null,
   "metadata": {},
   "outputs": [],
   "source": [
    "a = [1, 2, 3]\n",
    "b = [10, 11, 12]\n",
    "\n",
    "for pair in zip(a, b):\n",
    "    print(pair)"
   ]
  },
  {
   "cell_type": "markdown",
   "metadata": {},
   "source": [
    "Remember the trick we used before to assign two variables to a tuple?\n",
    "\n",
    "    x, y = (1.61, 3.14)\n",
    "    \n",
    "After doing this, `x` points to `1.61` and `y` to `3.14`. \n",
    "\n",
    "We can use the same trick in the `for` loop initialization, so that we have **two** integer variables inside the loop instead of one tuple:"
   ]
  },
  {
   "cell_type": "code",
   "execution_count": null,
   "metadata": {},
   "outputs": [],
   "source": [
    "for an, bn in zip(a, b):\n",
    "    print('an is', an)\n",
    "    print('bn is', bn)\n",
    "    print()"
   ]
  },
  {
   "cell_type": "markdown",
   "metadata": {
    "tags": [
     "demo"
    ]
   },
   "source": [
    "Let's update the `impedance` function to handle this data. We can use a `for` loop to step over the values of `rho` and `vp`. Remember, `rho` and `vp` are lists. "
   ]
  },
  {
   "cell_type": "markdown",
   "metadata": {
    "tags": [
     "exercise"
    ]
   },
   "source": [
    "### Exercise\n",
    "\n",
    "Update your `impedance` function to handle this data. It should contain a `for` loop to step over the values of `rho` and `vp`. Remember, `rho` and `vp` are lists. "
   ]
  },
  {
   "cell_type": "code",
   "execution_count": null,
   "metadata": {
    "tags": [
     "solution"
    ]
   },
   "outputs": [],
   "source": [
    "def impedance(rho, vp):\n",
    "\n",
    "    # Your code here.\n",
    "    \n",
    "    return  # You must return something."
   ]
  },
  {
   "cell_type": "code",
   "execution_count": null,
   "metadata": {
    "tags": [
     "hide"
    ]
   },
   "outputs": [],
   "source": [
    "def impedance(rho, vp):\n",
    "    \"\"\"\n",
    "    Compute impedance given sequences of vp and rho.\n",
    "    \"\"\"\n",
    "    z = []\n",
    "    for r, v in zip(rho, vp):\n",
    "        z.append(r * v)\n",
    "    return z"
   ]
  },
  {
   "cell_type": "code",
   "execution_count": null,
   "metadata": {},
   "outputs": [],
   "source": [
    "# Once you're done, this should work...\n",
    "impedance(rho, vp)"
   ]
  },
  {
   "cell_type": "markdown",
   "metadata": {},
   "source": [
    "This should give you:\n",
    "\n",
    "    [5635.0, 5640.0, 6125.0, 5865.0, 7280.0, 7425.0]"
   ]
  },
  {
   "cell_type": "markdown",
   "metadata": {},
   "source": [
    "Now that we've got our function working for lists, let's try it when we pass in two scalars:"
   ]
  },
  {
   "cell_type": "code",
   "execution_count": null,
   "metadata": {},
   "outputs": [],
   "source": [
    "impedance(2300, 2400)"
   ]
  },
  {
   "cell_type": "markdown",
   "metadata": {},
   "source": [
    "## Handling errors\n",
    "\n",
    "Obviously, there are plenty of ways in which we might encounter errors in our programs. There are a number of ways that our programs can break. In fact, every time our code breaks, we get a specific error message that we can use as a hint as to why the program isn't working. This can be a `TypeError`, `SyntaxError`, `FileNotFoundError`, a `NameError`, and `IndexError`, and so on. A full list of [Python's built-in exceptions](https://docs.python.org/3/library/exceptions.html#bltin-exceptions) can be found here."
   ]
  },
  {
   "cell_type": "code",
   "execution_count": null,
   "metadata": {
    "tags": [
     "hide"
    ]
   },
   "outputs": [],
   "source": [
    "builtin_exceptions = locals()['__builtins__']\n",
    "help(builtin_exceptions.TypeError)"
   ]
  },
  {
   "cell_type": "markdown",
   "metadata": {},
   "source": [
    "In situations where we want to want to handle errors like the `TypeError` above, instead of forcing the program to stop, we can use `try-except` statement.  \n",
    "```\n",
    "    try:\n",
    "        # to do this code\n",
    "\n",
    "    except TypeError:\n",
    "        # do this code instead\n",
    "```        \n",
    "The principle at work is:\n",
    "\n",
    "> It's better to ask for forgiveness than permission."
   ]
  },
  {
   "cell_type": "markdown",
   "metadata": {
    "tags": [
     "demo"
    ]
   },
   "source": [
    "Let's update `impedance` to handle both scalars and sequences of numbers (vectors, essentially.)"
   ]
  },
  {
   "cell_type": "markdown",
   "metadata": {
    "tags": [
     "exercise"
    ]
   },
   "source": [
    "### Exercise\n",
    "\n",
    "Update your `impedance` function to handle both cases. The first case you need to deal with is when `vp` and `rho` are scalars (single values, `floats` or `ints`), the second case is when `vp` and `rho` are lists (whose elements are either `floats` or `ints`)"
   ]
  },
  {
   "cell_type": "code",
   "execution_count": null,
   "metadata": {
    "tags": [
     "solution"
    ]
   },
   "outputs": [],
   "source": [
    "# YOUR CODE HERE\n"
   ]
  },
  {
   "cell_type": "code",
   "execution_count": null,
   "metadata": {
    "tags": [
     "hide"
    ]
   },
   "outputs": [],
   "source": [
    "def impedance(rho, vp):\n",
    "    \"\"\"\n",
    "    Compute impedance given sequences or scalars, vp and rho.\n",
    "    \"\"\"\n",
    "    try:\n",
    "        z = rho * vp\n",
    "    except:\n",
    "        z = [r * v] for r, v in zip(rho, vp)]\n",
    "    return z"
   ]
  },
  {
   "cell_type": "code",
   "execution_count": null,
   "metadata": {},
   "outputs": [],
   "source": [
    "impedance([2500, 2400], [2600, 2600])"
   ]
  },
  {
   "cell_type": "code",
   "execution_count": null,
   "metadata": {},
   "outputs": [],
   "source": [
    "# Check it still works for scalars:\n",
    "impedance(2300, 2400)"
   ]
  },
  {
   "cell_type": "markdown",
   "metadata": {},
   "source": [
    "It works!"
   ]
  },
  {
   "cell_type": "markdown",
   "metadata": {
    "tags": [
     "exercise"
    ]
   },
   "source": [
    "### Exercise\n",
    "\n",
    "If you have already met NumPy at this point, can you implement the same functionality — accepting scalars and vectors — but using NumPy arrays?"
   ]
  },
  {
   "cell_type": "markdown",
   "metadata": {},
   "source": [
    "## Docstrings and doctests\n",
    "\n",
    "Let's add a docstring and doctests to our function."
   ]
  },
  {
   "cell_type": "code",
   "execution_count": null,
   "metadata": {
    "tags": [
     "hide"
    ]
   },
   "outputs": [],
   "source": [
    "def impedance(rho, vp):\n",
    "    \"\"\"\n",
    "    Compute impedance given sequences or scalars, rho and vp.\n",
    "    \n",
    "    >>> impedance(2.5, 2500)\n",
    "    6250.0\n",
    "    >>> impedance([3000, 2500], [2600, 2200])\n",
    "    [5500000, 7800000]\n",
    "    \"\"\"\n",
    "    try:\n",
    "        z = rho * vp\n",
    "    except:\n",
    "        z = [r * v for r, v in zip(rho, vp)]\n",
    "    return z"
   ]
  },
  {
   "cell_type": "code",
   "execution_count": null,
   "metadata": {},
   "outputs": [],
   "source": [
    "import doctest\n",
    "doctest.testmod()"
   ]
  },
  {
   "cell_type": "markdown",
   "metadata": {
    "tags": [
     "demo"
    ]
   },
   "source": [
    "There is another way to deal with this. Recall that arrays 'automatically' cope with sequences. So we can cast the inputs to arrays and then do without the loop:"
   ]
  },
  {
   "cell_type": "code",
   "execution_count": null,
   "metadata": {
    "tags": [
     "hide"
    ]
   },
   "outputs": [],
   "source": [
    "import numpy as np\n",
    "\n",
    "def impedance(rho, vp):\n",
    "    \"\"\"\n",
    "    Small function to implement acoustic\n",
    "    impedance equation.\n",
    "\n",
    "    Example\n",
    "    >>> impedance(2000, 3000)\n",
    "    6000000\n",
    "    \"\"\"\n",
    "    rho = np.asanyarray(rho)\n",
    "    vp = np.asanyarray(vp)\n",
    "    return rho * vp"
   ]
  },
  {
   "cell_type": "markdown",
   "metadata": {
    "tags": [
     "hide"
    ]
   },
   "source": [
    "### Instructor notes\n",
    "\n",
    "- Add the doctest by hand\n",
    "- Don't copy and paste the working function call -- it's not a proper test\n",
    "- 'Accidentally' make a typo in the test so it fails the first time (e.g. add one too many zeros)"
   ]
  },
  {
   "cell_type": "markdown",
   "metadata": {
    "tags": [
     "exercise"
    ]
   },
   "source": [
    "### Exercise\n",
    "\n",
    "Add docstrings and doctests to the Gardner function, then add it and your definition of `impedance` to your utils.py"
   ]
  },
  {
   "cell_type": "markdown",
   "metadata": {},
   "source": [
    "## Compute reflection coefficients\n",
    "\n",
    "Reflectivity is given by:\n",
    "\n",
    "$$ \\mathrm{rc} = \\frac{Z_\\mathrm{lower} - Z_\\mathrm{upper}}{Z_\\mathrm{lower} + Z_\\mathrm{upper}} $$\n",
    "\n",
    "Let's implement this."
   ]
  },
  {
   "cell_type": "markdown",
   "metadata": {
    "tags": [
     "exercise"
    ]
   },
   "source": [
    "### Exercise\n",
    "\n",
    "Can you implement the reflectivity equation?\n",
    "\n",
    "You will need to use slicing to implement the concept of upper and lower layers."
   ]
  },
  {
   "cell_type": "code",
   "execution_count": null,
   "metadata": {
    "tags": [
     "solution"
    ]
   },
   "outputs": [],
   "source": [
    "def rc_series(z):\n",
    "\n",
    "    # YOUR CODE HERE!"
   ]
  },
  {
   "cell_type": "code",
   "execution_count": null,
   "metadata": {
    "tags": [
     "hide"
    ]
   },
   "outputs": [],
   "source": [
    "def rc_series(z):\n",
    "    \"\"\"\n",
    "    Computes RC series from acoustic impedance.\n",
    "    \n",
    "    param z: list or 1-d array acoustic impedances\n",
    "    \"\"\"\n",
    "    upper = z[:-1]\n",
    "    lower = z[1:]\n",
    "    rc = []\n",
    "    for u, l in zip(upper, lower):\n",
    "        rc.append((l - u) / (l + u))\n",
    "    return rc"
   ]
  },
  {
   "cell_type": "code",
   "execution_count": null,
   "metadata": {},
   "outputs": [],
   "source": [
    "# When you're done, this should work...\n",
    "z = impedance(rho, vp)\n",
    "rc_series(z)"
   ]
  },
  {
   "cell_type": "markdown",
   "metadata": {},
   "source": [
    "You should get:\n",
    "\n",
    "    [0.0004434589800443459,\n",
    "     0.04122396940076498,\n",
    "     -0.021684737281067557,\n",
    "     0.10764549258273101,\n",
    "     0.009860591635498192]"
   ]
  },
  {
   "cell_type": "markdown",
   "metadata": {
    "tags": [
     "demo"
    ]
   },
   "source": [
    "We can write the same function with a list comprehension."
   ]
  },
  {
   "cell_type": "code",
   "execution_count": null,
   "metadata": {
    "tags": [
     "hide"
    ]
   },
   "outputs": [],
   "source": [
    "def rc_series2(z):\n",
    "    return [(l-u)/(l+u) for l, u in zip(z[1:], z[:-1])]"
   ]
  },
  {
   "cell_type": "code",
   "execution_count": null,
   "metadata": {
    "tags": [
     "hide"
    ]
   },
   "outputs": [],
   "source": [
    "rc_series2(z)"
   ]
  },
  {
   "cell_type": "markdown",
   "metadata": {
    "tags": [
     "exercise"
    ]
   },
   "source": [
    "### Exercise\n",
    "\n",
    "Put all the functions &mdash; `impedance()`, `rc_series()`, and `vp_from_dt()` &mdash; are in `utils.py`. Make sure it is saved in the same directory this notebook is in.\n",
    "\n",
    "Make sure these functions are sufficiently documented and have tests."
   ]
  },
  {
   "cell_type": "markdown",
   "metadata": {},
   "source": [
    "----\n",
    "\n",
    "&copy; 2018 Agile Scientific"
   ]
  }
 ],
 "metadata": {
  "anaconda-cloud": {},
  "celltoolbar": "Tags",
  "kernelspec": {
   "display_name": "geocomp",
   "language": "python",
   "name": "geocomp"
  },
  "language_info": {
   "codemirror_mode": {
    "name": "ipython",
    "version": 3
   },
   "file_extension": ".py",
   "mimetype": "text/x-python",
   "name": "python",
   "nbconvert_exporter": "python",
   "pygments_lexer": "ipython3",
   "version": "3.9.7"
  }
 },
 "nbformat": 4,
 "nbformat_minor": 2
}
