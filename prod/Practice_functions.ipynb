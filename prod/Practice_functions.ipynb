{
 "cells": [
  {
   "cell_type": "markdown",
   "metadata": {},
   "source": [
    "# Practice functions\n",
    "\n",
    "Review [`Intro_to_functions`](Intro_to_functions.ipynb) before coming in here.\n",
    "\n",
    "Our goal for this notebook is to get some practice writing functions. You can place these functions in `utils.py` once you've confirmed that you've got them working properly in the notebook."
   ]
  },
  {
   "cell_type": "markdown",
   "metadata": {
    "tags": [
     "exercise"
    ]
   },
   "source": [
    "### Exercise\n",
    "\n",
    "We would like to write a function that takes malformed depth strings from LAS files and returns something we can cast to a float. For example, if we get strings `'2370 M'` or `'12,300ft'` as input then we would like our function to return `'2370'` or `'12300'`.\n",
    "\n",
    "Rearrange the following lines to perform this task:"
   ]
  },
  {
   "cell_type": "code",
   "execution_count": null,
   "metadata": {},
   "outputs": [],
   "source": [
    "# Replace any numeral separating commas.\n",
    "return value\n",
    "stripped = quantity.lower().strip(' \\n\\t.mft')\n",
    "def clean_quantity(quantity):\n",
    "# Remove units and other stuff.\n",
    "\"\"\"Clean the units from a number.\"\"\"\n",
    "value = stripped.replace(',', '')"
   ]
  },
  {
   "cell_type": "code",
   "execution_count": null,
   "metadata": {},
   "outputs": [],
   "source": [
    "#YOUR CODE HERE\n",
    "\n"
   ]
  },
  {
   "cell_type": "code",
   "execution_count": 1,
   "metadata": {
    "tags": [
     "hide"
    ]
   },
   "outputs": [],
   "source": [
    "def clean_quantity(quantity):\n",
    "    \"\"\"Clean the units from a number.\"\"\"\n",
    "    # Remove units and other stuff.\n",
    "    stripped = quantity.lower().strip(' \\n\\t.mft')\n",
    "    # Replace any numeral separating commas.\n",
    "    value = stripped.replace(',', '')\n",
    "    return value"
   ]
  },
  {
   "cell_type": "markdown",
   "metadata": {},
   "source": [
    "Here's a cell you can run to check that your function returns what you need."
   ]
  },
  {
   "cell_type": "code",
   "execution_count": 4,
   "metadata": {},
   "outputs": [],
   "source": [
    "tests = {'2370 M': '2370', '12,300ft': '12300'}\n",
    "\n",
    "for test, answer in tests.items():\n",
    "    assert clean_quantity(test) == answer\n",
    "    \n",
    "# If everything is good, then nothing happens when you run this cell!"
   ]
  },
  {
   "cell_type": "markdown",
   "metadata": {
    "tags": [
     "exercise"
    ]
   },
   "source": [
    "### Exercise\n",
    "\n",
    "Notice the type returned by this function. Can you change it slightly to return a more appropriate type?\n",
    "\n",
    "Your new function should return `2370.0` or `12300.0` for the examples you used previously."
   ]
  },
  {
   "cell_type": "markdown",
   "metadata": {
    "tags": [
     "exercise"
    ]
   },
   "source": [
    "### Exercise\n",
    "\n",
    "Use the code from the `if` section of `Intro_to_Python` to also return the units as a string. If there's nothing we recognize, we'll return `None` for the units.\n",
    "\n",
    "After both of these modifications your function should work like this: if we get `'2370 M'` or `'12,300ft'` as input then we would like our function to return `(2370.0, 'm')` or `(12300.0, 'ft')`. Finally, an input of `'3322'` should return `(3322.0, None)`."
   ]
  },
  {
   "cell_type": "code",
   "execution_count": null,
   "metadata": {},
   "outputs": [],
   "source": [
    "# YOUR CODE HERE\n",
    "\n"
   ]
  },
  {
   "cell_type": "code",
   "execution_count": 1,
   "metadata": {
    "tags": [
     "hide"
    ]
   },
   "outputs": [],
   "source": [
    "def clean_quantity(quantity):\n",
    "    \"\"\"Clean the units from a number.\"\"\"\n",
    "    if 'm' in quantity.lower():\n",
    "        units = 'm'\n",
    "    elif 'f' in quantity.lower():\n",
    "        units = 'ft'\n",
    "    else:\n",
    "        units = None\n",
    "    \n",
    "    stripped = quantity.lower().strip(' .mft\\n\\t')  # They need tab and newline for a future exercise.\n",
    "    value = stripped.replace(',', '')\n",
    "\n",
    "    return float(value), units"
   ]
  },
  {
   "cell_type": "code",
   "execution_count": null,
   "metadata": {},
   "outputs": [],
   "source": [
    "tests = {'2370 M': (2370.0, 'm'), '12,300ft': (12300.0, 'ft'), '3322': (3322.0, None)}\n",
    "\n",
    "for test, answer in tests.items():\n",
    "    assert clean_quantity(test) == answer"
   ]
  },
  {
   "cell_type": "markdown",
   "metadata": {},
   "source": [
    "### Stretch goal\n",
    "\n",
    "Can you modify the function so that a user can optionally pass in a dictionary of term:unit pairs with which to augment the current search?\n",
    "\n",
    "For example, I might pass in a dictionary like `{'mile': 'mi', 'mm': 'millimetres'}`."
   ]
  },
  {
   "cell_type": "code",
   "execution_count": 104,
   "metadata": {},
   "outputs": [],
   "source": [
    "# YOUR CODE HERE\n",
    "\n"
   ]
  },
  {
   "cell_type": "code",
   "execution_count": 1,
   "metadata": {
    "tags": [
     "hide"
    ]
   },
   "outputs": [],
   "source": [
    "import string\n",
    "\n",
    "def clean_quantity(quantity, terms=None):  # Cannot use mutables as default values.\n",
    "    \"\"\"\n",
    "    Clean the units from a number.\n",
    "    \n",
    "    Accepts a dictionary of possible unit types.\n",
    "    \"\"\"\n",
    "    terms_ = {'m': 'm', 'f': 'ft'}\n",
    "    if terms is None:\n",
    "        terms = {}\n",
    "    terms_.update(terms)\n",
    "    \n",
    "    units = None\n",
    "    for term, unit in terms_.items():\n",
    "        if term.lower() in quantity.lower():\n",
    "            units = unit.lower()\n",
    "    \n",
    "    stop = string.ascii_lowercase + ' .\\n\\t'\n",
    "    stripped = quantity.lower().strip(stop)\n",
    "    value = stripped.replace(',', '')\n",
    "\n",
    "    return float(value), units"
   ]
  },
  {
   "cell_type": "markdown",
   "metadata": {},
   "source": [
    "Once you have something, test it on this:"
   ]
  },
  {
   "cell_type": "code",
   "execution_count": 3,
   "metadata": {},
   "outputs": [
    {
     "data": {
      "text/plain": [
       "(2345.0, 'millimetres')"
      ]
     },
     "execution_count": 3,
     "metadata": {},
     "output_type": "execute_result"
    }
   ],
   "source": [
    "depth = '2345 mm'\n",
    "\n",
    "clean_quantity(depth, {'mile': 'miles', 'mm': 'millimetres'})"
   ]
  },
  {
   "cell_type": "markdown",
   "metadata": {},
   "source": [
    "When you get it working, add this function to the `utils.py` module."
   ]
  },
  {
   "cell_type": "markdown",
   "metadata": {
    "tags": [
     "advanced"
    ]
   },
   "source": [
    "<h3>Advanced topic: Named tuples</h3>\n",
    "\n",
    "<p>The `clean_quantity()` function is a pretty good use case for 'named tuples', which are like lightweight classes. To return a named tuple, replace the last line of the function with:</p>\n",
    "\n",
    "<pre>\n",
    "Quantity = namedtuple('Quantity', ['value', 'units'])\n",
    "return Quantity(value=float(value), units=units)\n",
    "</pre>\n",
    "\n",
    "<p>Now we can get unpack the results just as before, without knowing anything about named tuples:</p>\n",
    "\n",
    "<pre>\n",
    "value, units = clean_quantity('2375 m')\n",
    "</pre>\n",
    "\n",
    "<p>Or we can get the tuple itself, and see that the fields are labelled for us. Nice!</p>\n",
    "\n",
    "<p>We can also get at its fields via dot notation, like attributes on a class: `quantity.value` and `quantity.units`.</p>\n",
    "\n",
    "<p>Finally, you can get a dictionary representation with `quantity._asdict()`.</p>"
   ]
  },
  {
   "cell_type": "markdown",
   "metadata": {},
   "source": [
    "## Optional arguments and default values\n",
    "\n",
    "As we saw earlier, we can set default values for some or all of the things we pass to the function — its 'arguments'."
   ]
  },
  {
   "cell_type": "markdown",
   "metadata": {
    "tags": [
     "exercise"
    ]
   },
   "source": [
    "### Exercise\n",
    "\n",
    "Let's implement the equation for VSH:\n",
    "\n",
    "$$ \\mathrm{VSH}_\\mathrm{Linear} = \\frac{\\mathrm{GR}_\\mathrm{log} - \\mathrm{GR}_\\mathrm{clean}}{\\mathrm{GR}_\\mathrm{shale} - \\mathrm{GR}_\\mathrm{clean}} $$\n",
    "\n",
    "Things to consider:\n",
    "\n",
    "- How many 'input' variables are there in this equation? Make sure your function has the same number.\n",
    "- Use default values of 25 API and 125 API for the clean response and the shale response respectively.\n",
    "- The equation is linear, but VSH has a min of 0 and a max of 1. Implement this using [`np.clip()`](https://numpy.org/doc/stable/reference/generated/numpy.clip.html).\n",
    "- Don't forget to write a docstring!"
   ]
  },
  {
   "cell_type": "code",
   "execution_count": null,
   "metadata": {},
   "outputs": [],
   "source": [
    "# YOUR CODE HERE\n",
    "\n"
   ]
  },
  {
   "cell_type": "code",
   "execution_count": 9,
   "metadata": {
    "tags": [
     "hide"
    ]
   },
   "outputs": [],
   "source": [
    "def vsh_linear(gr, clean=25, shale=125):\n",
    "    \"\"\"\n",
    "    Computes VSH given GR. Optionally give GR_sand and GR_shale bounds.\n",
    "    \"\"\"\n",
    "    vsh = (gr - clean) / (shale - clean)\n",
    "    return np.clip(vsh, 0, 1)"
   ]
  },
  {
   "cell_type": "markdown",
   "metadata": {
    "tags": [
     "exercise"
    ]
   },
   "source": [
    "### Exercise\n",
    "\n",
    "There are [various other models of VSH](https://geoloil.com/VshModels.php), for example Clavier and Stieber.\n",
    "\n",
    "The Stieber model looks like this:\n",
    "\n",
    "$$ \\mathrm{VSH}_\\mathrm{Stieber} = \\frac{\\mathrm{VSH}}{3 - 2\\times\\mathrm{VSH}} $$\n",
    "\n",
    "We'd implement it like so:\n",
    "\n",
    "```python\n",
    "def vsh_stieber(vsh):\n",
    "    \"\"\"Compute VSH using the Stieber model.\"\"\"\n",
    "    return vsh / (3 - 2*vsh)\n",
    "```\n",
    "\n",
    "The Clavier model looks like this:\n",
    "\n",
    "$$ \\mathrm{VSH}_\\mathrm{Clavier} = 1.7 - \\sqrt{3.38 - (\\mathrm{VSH} + 0.7)^2} $$\n",
    "\n",
    "Implement this model in code:"
   ]
  },
  {
   "cell_type": "code",
   "execution_count": 93,
   "metadata": {
    "tags": [
     "hide"
    ]
   },
   "outputs": [],
   "source": [
    "def vsh_stieber(vsh):\n",
    "    \"\"\"Compute VSH using the Stieber model.\"\"\"\n",
    "    return vsh / (3 - 2*vsh)"
   ]
  },
  {
   "cell_type": "code",
   "execution_count": null,
   "metadata": {},
   "outputs": [],
   "source": [
    "# YOUR CODE HERE\n",
    "\n"
   ]
  },
  {
   "cell_type": "code",
   "execution_count": 7,
   "metadata": {
    "tags": [
     "hide"
    ]
   },
   "outputs": [],
   "source": [
    "def vsh_clavier(vsh):\n",
    "    \"\"\"Compute VSH using the Clavier model.\"\"\"\n",
    "    return 1.7 - np.sqrt(3.38 - (vsh + 0.7)**2)"
   ]
  },
  {
   "cell_type": "code",
   "execution_count": 95,
   "metadata": {
    "tags": [
     "hide"
    ]
   },
   "outputs": [
    {
     "data": {
      "text/plain": [
       "<matplotlib.legend.Legend at 0x7f0b8e144460>"
      ]
     },
     "execution_count": 95,
     "metadata": {},
     "output_type": "execute_result"
    },
    {
     "data": {
      "image/png": "[encoded data removed]",
      "text/plain": [
       "<Figure size 432x288 with 1 Axes>"
      ]
     },
     "metadata": {
      "needs_background": "light"
     },
     "output_type": "display_data"
    }
   ],
   "source": [
    "import numpy as np\n",
    "import matplotlib.pyplot as plt\n",
    "\n",
    "GR = np.linspace(0, 150)\n",
    "\n",
    "clean, shale = 25, 125\n",
    "\n",
    "VSH = vsh_linear(GR, clean=clean, shale=shale)\n",
    "stieber = vsh_stieber(VSH)\n",
    "clavier = vsh_clavier(VSH)\n",
    "\n",
    "fig, ax = plt.subplots()\n",
    "ax.plot(GR, VSH, label=\"Linear\")\n",
    "ax.plot(GR, stieber, label=\"Stieber\")\n",
    "ax.plot(GR, clavier, label=\"Clavier\")\n",
    "ax.axvline(clean, c='y')\n",
    "ax.axvline(shale, c='g')\n",
    "ax.grid(color='k', alpha=0.15)\n",
    "ax.legend()"
   ]
  },
  {
   "cell_type": "markdown",
   "metadata": {
    "tags": [
     "exercise"
    ]
   },
   "source": [
    "### Exercise\n",
    "\n",
    "There's also the Larionov model of VSH for pre-Cretaceous rocks:\n",
    "\n",
    "$$ \\mathrm{VSH}_\\mathrm{Larionov, old} = 0.33 \\ (2^{2 \\times \\mathrm{VSH}} - 1) $$\n",
    "\n",
    "and the Larionov model of VSH for post-Cretaceous rocks:\n",
    "\n",
    "$$ \\mathrm{VSH}_\\mathrm{Larionov, young} = 0.083 \\ (2^{3.7 \\times \\mathrm{VSH}} - 1) $$\n",
    "\n",
    "Implement one or both of these functions."
   ]
  },
  {
   "cell_type": "code",
   "execution_count": null,
   "metadata": {},
   "outputs": [],
   "source": [
    "# YOUR CODE HERE\n",
    "\n"
   ]
  },
  {
   "cell_type": "code",
   "execution_count": 78,
   "metadata": {
    "tags": [
     "hide"
    ]
   },
   "outputs": [],
   "source": [
    "def vsh_larionov_old(vsh):\n",
    "    \"\"\"Larionov's relationship for old rocks.\"\"\"\n",
    "    return 0.33 * (2**(2 * vsh) - 1)"
   ]
  },
  {
   "cell_type": "code",
   "execution_count": 83,
   "metadata": {},
   "outputs": [
    {
     "data": {
      "text/plain": [
       "<matplotlib.legend.Legend at 0x7f0b8e7ea8b0>"
      ]
     },
     "execution_count": 83,
     "metadata": {},
     "output_type": "execute_result"
    },
    {
     "data": {
      "image/png": "[encoded data removed]",
      "text/plain": [
       "<Figure size 432x288 with 1 Axes>"
      ]
     },
     "metadata": {
      "needs_background": "light"
     },
     "output_type": "display_data"
    }
   ],
   "source": [
    "import matplotlib.pyplot as plt\n",
    "\n",
    "larionov_old = vsh_larionov_old(VSH, )\n",
    "\n",
    "fig, ax = plt.subplots()\n",
    "ax.plot(GR, VSH, label=\"Linear\")\n",
    "ax.plot(GR, stieber, label=\"Stieber\")\n",
    "ax.plot(GR, clavier, label=\"Clavier\")\n",
    "ax.plot(GR, larionov_old, label=\"Larionov, old\")\n",
    "ax.grid(color='k', alpha=0.15)\n",
    "# ax.set_ylim(0.95, 1.05)\n",
    "ax.legend()"
   ]
  },
  {
   "cell_type": "markdown",
   "metadata": {},
   "source": [
    "### 🤔 Check the numerical accuracy for the most shaley rocks\n",
    "\n",
    "Does that look okay? If it does, try `ax.set_ylim=(0.95, 1.05)`.\n",
    "\n",
    "What's going on?"
   ]
  },
  {
   "cell_type": "markdown",
   "metadata": {
    "tags": [
     "hide"
    ]
   },
   "source": [
    "This is partly a design conversation, partly a reproducibility conversation, and partly a geological conversation.\n",
    "\n",
    "The main problem is that when VSH = 1, our new quantity does not quite give us 1 back.\n",
    "\n",
    "Notice that the 2 functions are almost the same. Furthermore, notice that the factor $0.33$ is the same as $2^2 - 1$, and $0.083 \\approx 2^{3.7} - 1$. Since they are related, we can eliminate the numerical inaccuracy by computing these numbers.\n",
    "\n",
    "It turns out we can write a single equation with one variable:\n",
    "\n",
    "$$ \\mathrm{VSH}_\\mathrm{Larionov} = \\frac{1}{L} \\ (2^{\\log_2(L) \\times \\mathrm{VSH}} - 1) $$\n"
   ]
  },
  {
   "cell_type": "code",
   "execution_count": 91,
   "metadata": {
    "tags": [
     "hide"
    ]
   },
   "outputs": [],
   "source": [
    "def vsh_larionov(vsh, age=None, L=8):\n",
    "    \"\"\"\n",
    "    Compute VSH using Larionov's relationships.\n",
    "    \n",
    "    - If `age` is given, it is interpreted as an age in Ma.\n",
    "    - If `age` is `None` (default value), then `x` is used.\n",
    "    \"\"\"\n",
    "    if age is not None:\n",
    "        if age < 65:\n",
    "            L = 13\n",
    "        else:\n",
    "            L = 4\n",
    "    \n",
    "    a, b = 1/(L - 1), np.log2(L)\n",
    "            \n",
    "    return a * (2**(b * vsh) - 1)"
   ]
  },
  {
   "cell_type": "code",
   "execution_count": 92,
   "metadata": {
    "tags": [
     "hide"
    ]
   },
   "outputs": [
    {
     "data": {
      "text/plain": [
       "<matplotlib.legend.Legend at 0x7f0b8ee74460>"
      ]
     },
     "execution_count": 92,
     "metadata": {},
     "output_type": "execute_result"
    },
    {
     "data": {
      "image/png": "[encoded data removed]",
      "text/plain": [
       "<Figure size 432x288 with 1 Axes>"
      ]
     },
     "metadata": {
      "needs_background": "light"
     },
     "output_type": "display_data"
    }
   ],
   "source": [
    "import matplotlib.pyplot as plt\n",
    "\n",
    "larionov_default = vsh_larionov(VSH)\n",
    "larionov_young = vsh_larionov(VSH, age=10)\n",
    "larionov_old = vsh_larionov(VSH, age=100)\n",
    "\n",
    "fig, ax = plt.subplots()\n",
    "ax.plot(GR, VSH, label=\"Linear\")\n",
    "ax.plot(GR, stieber, label=\"Stieber\")\n",
    "ax.plot(GR, clavier, label=\"Clavier\")\n",
    "ax.plot(GR, larionov_default, label=\"Larionov\")\n",
    "ax.plot(GR, larionov_young, label=\"Larionov young\")\n",
    "ax.plot(GR, larionov_old, label=\"Larionov old\")\n",
    "ax.grid(color='k', alpha=0.15)\n",
    "ax.legend()"
   ]
  },
  {
   "cell_type": "code",
   "execution_count": 75,
   "metadata": {
    "tags": [
     "hide"
    ]
   },
   "outputs": [
    {
     "data": {
      "application/vnd.jupyter.widget-view+json": {
       "model_id": "bd5a8a1851d143a99c4a2e5ca4c68eef",
       "version_major": 2,
       "version_minor": 0
      },
      "text/plain": [
       "interactive(children=(IntSlider(value=16, description='L', max=31, min=2), Output()), _dom_classes=('widget-in…"
      ]
     },
     "metadata": {},
     "output_type": "display_data"
    }
   ],
   "source": [
    "from ipywidgets import interact\n",
    "\n",
    "@interact(L=(2, 31))\n",
    "def show(L):\n",
    "\n",
    "    larionov = vsh_larionov(VSH, L=L)\n",
    "\n",
    "    fig, ax = plt.subplots(figsize=(10, 5))\n",
    "    ax.plot(GR, VSH, label=\"Linear\")\n",
    "    ax.plot(GR, stieber, label=\"Stieber\")\n",
    "    ax.plot(GR, clavier, label=\"Clavier\")\n",
    "    ax.plot(GR, larionov, label=f\"Larionov, L={L}\")\n",
    "    ax.grid(color='k', alpha=0.15)\n",
    "    ax.legend()"
   ]
  },
  {
   "cell_type": "markdown",
   "metadata": {},
   "source": [
    "----\n",
    "\n",
    "&copy; 2020 Agile Scientific"
   ]
  }
 ],
 "metadata": {
  "anaconda-cloud": {},
  "celltoolbar": "Tags",
  "kernelspec": {
   "display_name": "geocomp",
   "language": "python",
   "name": "geocomp"
  },
  "language_info": {
   "codemirror_mode": {
    "name": "ipython",
    "version": 3
   },
   "file_extension": ".py",
   "mimetype": "text/x-python",
   "name": "python",
   "nbconvert_exporter": "python",
   "pygments_lexer": "ipython3",
   "version": "3.9.7"
  }
 },
 "nbformat": 4,
 "nbformat_minor": 2
}
