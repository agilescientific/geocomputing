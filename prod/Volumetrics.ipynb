{
 "cells": [
  {
   "cell_type": "markdown",
   "metadata": {},
   "source": [
    "# Volumetrics: HCIP calculation\n",
    "\n",
    "We'll implement the volumetric equation:\n",
    "\n",
    "$$ V = A \\times T \\times G \\times \\phi \\times N\\!\\!:\\!\\!G \\times S_\\mathrm{O} \\times \\frac{1}{B_\\mathrm{O}} $$\n",
    "\n",
    "## Gross rock volume \n",
    "\n",
    "$$ \\mathrm{GRV} = A \\times T $$"
   ]
  },
  {
   "cell_type": "code",
   "execution_count": null,
   "metadata": {},
   "outputs": [],
   "source": []
  },
  {
   "cell_type": "code",
   "execution_count": null,
   "metadata": {
    "tags": [
     "hide"
    ]
   },
   "outputs": [],
   "source": [
    "thick = 80            # metres\n",
    "area = 20000 * 30000  # metres\n",
    "\n",
    "grv = thick * area\n",
    "grv"
   ]
  },
  {
   "cell_type": "markdown",
   "metadata": {},
   "source": [
    "Wouldn't it be cool if we could carry units around with our calculations? With [`pint`](https://pint.readthedocs.io/en/latest/index.html), we can!"
   ]
  },
  {
   "cell_type": "code",
   "execution_count": null,
   "metadata": {},
   "outputs": [],
   "source": []
  },
  {
   "cell_type": "code",
   "execution_count": null,
   "metadata": {
    "tags": [
     "hide"
    ]
   },
   "outputs": [],
   "source": [
    "import pint\n",
    "\n",
    "u = pint.UnitRegistry()\n",
    "\n",
    "thick = 80 * u.m\n",
    "area = 20000 * u.m * 30000 * u.m\n",
    "grv = thick * area\n",
    "grv"
   ]
  },
  {
   "cell_type": "markdown",
   "metadata": {
    "tags": [
     "hide"
    ]
   },
   "source": [
    "By the way, `pint` can also do some really handy things, like parse strings:"
   ]
  },
  {
   "cell_type": "code",
   "execution_count": null,
   "metadata": {
    "tags": [
     "hide"
    ]
   },
   "outputs": [],
   "source": [
    "import pint\n",
    "\n",
    "u.Quantity(\"2,300cm^3\")"
   ]
  },
  {
   "cell_type": "markdown",
   "metadata": {
    "tags": [
     "exercise"
    ]
   },
   "source": [
    "### EXERCISE\n",
    "\n",
    "Make a <bold>function</bold> that computes the GRV by rearranging the following lines of code:\n",
    "\n",
    "    return grv\n",
    "    \"\"\"Compute GRV from thickness and area.\"\"\"\n",
    "    grv = thickness * area\n",
    "    def calculate_grv(thickness, area):\n"
   ]
  },
  {
   "cell_type": "code",
   "execution_count": null,
   "metadata": {},
   "outputs": [],
   "source": [
    "# YOUR CODE HERE\n",
    "\n"
   ]
  },
  {
   "cell_type": "code",
   "execution_count": null,
   "metadata": {
    "tags": [
     "hide"
    ]
   },
   "outputs": [],
   "source": [
    "def calculate_grv(thickness, area):\n",
    "    \"\"\"\n",
    "    Compute GRV from thickness and area.\n",
    "    \n",
    "    Example                                       # <-- Add as example, if appropriate.\n",
    "    >>> calculate_grv(thickness=80, area=100)     # <-- But don't add the doctest at first!\n",
    "    8000\n",
    "    \"\"\"\n",
    "    grv = thickness * area\n",
    "    return grv"
   ]
  },
  {
   "cell_type": "code",
   "execution_count": null,
   "metadata": {
    "tags": [
     "hide"
    ]
   },
   "outputs": [],
   "source": [
    "import doctest\n",
    "\n",
    "doctest.testmod()"
   ]
  },
  {
   "cell_type": "markdown",
   "metadata": {},
   "source": [
    "Now we can just call this function, instead of remembering the equation. (Admittedly, the equation is rather easy to remember in this case!)"
   ]
  },
  {
   "cell_type": "code",
   "execution_count": null,
   "metadata": {},
   "outputs": [],
   "source": [
    "calculate_grv(thick, area)"
   ]
  },
  {
   "cell_type": "markdown",
   "metadata": {},
   "source": [
    "It works!\n",
    "\n",
    "Now we need to compensate for the prospect not being a flat slab of rock &mdash; using the geometric factor. \n",
    "\n",
    "We will implement the equations implied by this diagram:"
   ]
  },
  {
   "cell_type": "markdown",
   "metadata": {},
   "source": [
    "<html>\n",
    "    <img src=\"http://subsurfwiki.org/images/6/66/Geometric_correction_factor.png\", width=600>\n",
    "</html>"
   ]
  },
  {
   "cell_type": "code",
   "execution_count": null,
   "metadata": {},
   "outputs": [],
   "source": [
    "top = input(\"What shape is the prospect? \")"
   ]
  },
  {
   "cell_type": "code",
   "execution_count": null,
   "metadata": {},
   "outputs": [],
   "source": [
    "top"
   ]
  },
  {
   "cell_type": "code",
   "execution_count": null,
   "metadata": {
    "tags": [
     "hide"
    ]
   },
   "outputs": [],
   "source": [
    "height = 100 * u.m\n",
    "ratio = thick / height\n",
    "\n",
    "# Depending on time available, this could be part of the exercise:\n",
    "if top == 'round':\n",
    "    g = -0.6 * ratio + 1\n",
    "elif top == 'flat':\n",
    "    g = -0.3 * ratio + 1\n",
    "else:\n",
    "    g = 1\n",
    "\n",
    "g"
   ]
  },
  {
   "cell_type": "markdown",
   "metadata": {
    "tags": [
     "exercise"
    ]
   },
   "source": [
    "### EXERCISE\n",
    "\n",
    "Turn the geometric factor into a function. <a title=\"Remember y = mx + b\">HINT</a>\n",
    "\n",
    "Can you reproduce the plot above?"
   ]
  },
  {
   "cell_type": "code",
   "execution_count": null,
   "metadata": {},
   "outputs": [],
   "source": [
    "def geometric_factor(thick, height, top):\n",
    "\n",
    "    # Your code here.\n",
    "    \n",
    "    return g"
   ]
  },
  {
   "cell_type": "code",
   "execution_count": null,
   "metadata": {
    "tags": [
     "hide"
    ]
   },
   "outputs": [],
   "source": [
    "def geometric_factor(thick, height, top='slab'):\n",
    "    \"\"\"\n",
    "    Compute geometric factor.\n",
    "    \"\"\"\n",
    "    ratio = np.clip(thick / height, 0, 1[y])  # Ensure not more than 1.\n",
    "\n",
    "    # One way:\n",
    "    if top == 'round':\n",
    "        g = -0.6 * ratio + 1\n",
    "    elif top == 'flat':\n",
    "        g = -0.3 * ratio + 1\n",
    "    else:\n",
    "        g = 1\n",
    "     \n",
    "    # Or, slightly better:\n",
    "    f = {'round': -0.6, 'flat': -0.3}.get(top, 0)\n",
    "    g = f * ratio + 1\n",
    "\n",
    "    return g"
   ]
  },
  {
   "cell_type": "code",
   "execution_count": null,
   "metadata": {},
   "outputs": [],
   "source": [
    "geometric_factor(thick, height=100*u.m, top='round')"
   ]
  },
  {
   "cell_type": "code",
   "execution_count": null,
   "metadata": {
    "tags": [
     "hide"
    ]
   },
   "outputs": [],
   "source": [
    "import matplotlib.pyplot as plt\n",
    "\n",
    "thicknesses = np.arange(0, 1, 0.05)\n",
    "heights = 1\n",
    "x = thicknesses / heights\n",
    "\n",
    "for t in ['round', 'flat', 'slab']:\n",
    "    y = geometric_factor(thicknesses, heights, top=t)\n",
    "    plt.plot(x, y)\n",
    "plt.ylim(0, 1.05)"
   ]
  },
  {
   "cell_type": "markdown",
   "metadata": {},
   "source": [
    "We'll carry on with a `g` of 1."
   ]
  },
  {
   "cell_type": "code",
   "execution_count": null,
   "metadata": {},
   "outputs": [],
   "source": [
    "g = geometric_factor(thick, height=100*u.m, top='slab')\n",
    "\n",
    "grv * g"
   ]
  },
  {
   "cell_type": "markdown",
   "metadata": {
    "tags": [
     "info"
    ]
   },
   "source": [
    "💡 It's not that easy to write this function so that you can pass arrays to it, because you need a way to handle the `top` parameter. Give it a try sometime."
   ]
  },
  {
   "cell_type": "markdown",
   "metadata": {},
   "source": [
    "## HC pore volume\n",
    "\n",
    "We need:\n",
    "\n",
    "- net:gross &mdash; the ratio of reservoir-quality rock thickness to the total thickness of the interval.\n",
    "- porosity\n",
    "- $S_\\mathrm{O}$ &mdash; the oil saturation, or proportion of oil to total pore fluid."
   ]
  },
  {
   "cell_type": "code",
   "execution_count": null,
   "metadata": {},
   "outputs": [],
   "source": [
    "netg = 0.5   # fraction\n",
    "por = 0.24   # fraction\n",
    "s_o = 0.8    # fraction\n",
    "\n",
    "netg * por * s_o"
   ]
  },
  {
   "cell_type": "markdown",
   "metadata": {},
   "source": [
    "We'll leave that as a fraction for now."
   ]
  },
  {
   "cell_type": "markdown",
   "metadata": {
    "tags": [
     "exercise"
    ]
   },
   "source": [
    "### EXERCISE\n",
    "\n",
    "Turn this into a function."
   ]
  },
  {
   "cell_type": "code",
   "execution_count": null,
   "metadata": {},
   "outputs": [],
   "source": [
    "def calculate_hcpv( ... ):  # Add the arguments.\n",
    "    \n",
    "    # YOUR CODE HERE\n",
    "    \n",
    "    return  # Don't forget to return something!"
   ]
  },
  {
   "cell_type": "code",
   "execution_count": null,
   "metadata": {
    "tags": [
     "hide"
    ]
   },
   "outputs": [],
   "source": [
    "def calculate_hcpv(netg, por, s_o):\n",
    "    \"\"\"A function to compute the hydrocarbon pore volume.\"\"\"\n",
    "    hcpv = netg * por * s_o\n",
    "    return hcpv"
   ]
  },
  {
   "cell_type": "code",
   "execution_count": null,
   "metadata": {},
   "outputs": [],
   "source": [
    "hcpv = calculate_hcpv(netg, por, s_o)"
   ]
  },
  {
   "cell_type": "markdown",
   "metadata": {},
   "source": [
    "## Formation volume factor\n",
    "\n",
    "Oil shrinks when we produce it, especially if it has high GOR. The FVF, or $B_\\mathrm{O}$, is the ratio of a reservoir barrel to a stock-tank barrel (25 deg C and 1 atm). Typically the FVF is between 1 (heavy oil) and 1.7 (high GOR). \n",
    "\n",
    "$B_\\mathrm{O}$ is a function of the oil gravity, gas gravity, temperature, and the solution GOR. [Read about it.](https://petrowiki.spe.org/Oil_formation_volume_factor)"
   ]
  },
  {
   "cell_type": "code",
   "execution_count": null,
   "metadata": {},
   "outputs": [],
   "source": [
    "fvf = 1.1"
   ]
  },
  {
   "cell_type": "markdown",
   "metadata": {
    "tags": [
     "exercise"
    ]
   },
   "source": [
    "### EXERCISE\n",
    "\n",
    "For gas, $B_\\mathrm{G}$ is $0.35 Z T / P$, where $Z$ is the correction factor, or gas compressibility factor. $T$ should be in kelvin and $P$ in kPa. $Z$ is usually between 0.8 and 1.2, but it can be as low as 0.3 and as high as 2.0.\n",
    "\n",
    "Can you write a function to calculate $B_\\mathrm{G}$?"
   ]
  },
  {
   "cell_type": "code",
   "execution_count": null,
   "metadata": {},
   "outputs": [],
   "source": [
    "def calculate_Bg( ... ):\n",
    "\n",
    "    # YOUR CODE HERE\n",
    "    \n"
   ]
  },
  {
   "cell_type": "code",
   "execution_count": null,
   "metadata": {
    "tags": [
     "hide"
    ]
   },
   "outputs": [],
   "source": [
    "def calculate_Bg(T=273.15, P=101.325e3, Z=1, units='SI'):  # <-- Discussion about handling units.\n",
    "    \"\"\"\n",
    "    Compute B_G from correction factor Z, temperature T (K),\n",
    "    and pressure P (Pa).\n",
    "    \"\"\"\n",
    "    Bg = 0.35 * Z * T / P\n",
    "    \n",
    "    # if units == 'SI':\n",
    "    # etc.\n",
    "    \n",
    "    return Bg"
   ]
  },
  {
   "cell_type": "code",
   "execution_count": null,
   "metadata": {},
   "outputs": [],
   "source": [
    "x = calculate_Bg(T=293*u.K, P=1000*u.kPa)\n",
    "\n",
    "assert x.m == 0.10255  # Attribute m gives magnitude only.\n",
    "\n",
    "x"
   ]
  },
  {
   "cell_type": "markdown",
   "metadata": {},
   "source": [
    "## Put it all together\n",
    "\n",
    "Now we have the components of the volumetric equation:"
   ]
  },
  {
   "cell_type": "code",
   "execution_count": null,
   "metadata": {},
   "outputs": [],
   "source": [
    "hcip = grv * g * hcpv / fvf\n",
    "hcip"
   ]
  },
  {
   "cell_type": "markdown",
   "metadata": {},
   "source": [
    "Pint can convert to other units, e.g. Imperial barrels, for us."
   ]
  },
  {
   "cell_type": "code",
   "execution_count": null,
   "metadata": {},
   "outputs": [],
   "source": [
    "hcip.to('imperial_barrel')"
   ]
  },
  {
   "cell_type": "markdown",
   "metadata": {},
   "source": [
    "An Imperial barrel is 43 gallons ([Wikipedia](https://en.wikipedia.org/wiki/Barrel_(unit)), whereas an oil barrel is only 42 gallons. [For more on conversion to bbl, BOE, etc.](https://en.wikipedia.org/wiki/Barrel_of_oil_equivalent).\n",
    "\n",
    "So let's define a custom unit:"
   ]
  },
  {
   "cell_type": "code",
   "execution_count": null,
   "metadata": {},
   "outputs": [],
   "source": [
    "u.define('oil_barrel = 42 gallon = bbl')"
   ]
  },
  {
   "cell_type": "code",
   "execution_count": null,
   "metadata": {},
   "outputs": [],
   "source": [
    "hcip.to('bbl')"
   ]
  },
  {
   "cell_type": "code",
   "execution_count": null,
   "metadata": {},
   "outputs": [],
   "source": [
    "hcip.to('Gbbl')"
   ]
  },
  {
   "cell_type": "markdown",
   "metadata": {
    "tags": [
     "exercise"
    ]
   },
   "source": [
    "### EXERCISE\n",
    "\n",
    "Can you write a function to compute the volume (i.e. the HCIP), given all the inputs?\n",
    "\n",
    "Try to use the functions you have already written.\n",
    "\n",
    "Make it possible to pass in geomatric factor, `g` — and if it is passed in, just ignore the values for `height` and `top`. "
   ]
  },
  {
   "cell_type": "code",
   "execution_count": null,
   "metadata": {},
   "outputs": [],
   "source": [
    "# Put your code here.\n",
    "\n",
    "\n",
    "    "
   ]
  },
  {
   "cell_type": "code",
   "execution_count": null,
   "metadata": {
    "tags": [
     "hide"
    ]
   },
   "outputs": [],
   "source": [
    "def calculate_hcip(thickness, area, height, top, netg, por, s_o, fvf, g=None):\n",
    "    \"\"\"\n",
    "    Calculate HCIP, given all the parameters.\n",
    "    \n",
    "    If geometric factor `g` is given, `height` and `top` are ignored.\n",
    "    \"\"\"\n",
    "    grv = calculate_grv(thickness, area)\n",
    "    \n",
    "    if g is None:\n",
    "        g = geometric_factor(thickness, height, top)\n",
    "\n",
    "    grv *= g\n",
    "    hcpv = calculate_hcpv(netg, por, s_o)\n",
    "    return grv * hcpv / fvf"
   ]
  },
  {
   "cell_type": "code",
   "execution_count": null,
   "metadata": {},
   "outputs": [],
   "source": [
    "v = calculate_hcip(thick, area, height, top, netg, por, s_o, fvf).to('Gbbl')\n",
    "\n",
    "assert abs(v.m - 26.35) < 0.01\n",
    "assert v.u == 'gigaoil_barrel'"
   ]
  },
  {
   "cell_type": "code",
   "execution_count": null,
   "metadata": {},
   "outputs": [],
   "source": [
    "v = calculate_hcip(thick, area, None, None, netg, por, s_o, fvf, g=0.5)\n",
    "\n",
    "assert abs(v.m - 2.095e9) < 1e6\n",
    "assert v.u == 'meter ** 3'"
   ]
  },
  {
   "cell_type": "markdown",
   "metadata": {},
   "source": [
    "## Monte Carlo simulation\n",
    "\n",
    "We can easily draw randomly from distributions of properties:\n",
    "\n",
    "- Normal: https://docs.scipy.org/doc/numpy/reference/generated/numpy.random.normal.html\n",
    "- Uniform: https://docs.scipy.org/doc/numpy/reference/generated/numpy.random.uniform.html\n",
    "- Lognormal: https://docs.scipy.org/doc/numpy/reference/generated/numpy.random.lognormal.html\n",
    "\n",
    "The normal distribution is probably familiar:\n",
    "\n",
    "<img src=\"https://subsurfwiki.org/images/3/3a/Normal_distribution.png\" width=\"500px\" />"
   ]
  },
  {
   "cell_type": "code",
   "execution_count": null,
   "metadata": {},
   "outputs": [],
   "source": [
    "import numpy as np\n",
    "\n",
    "por = np.random.normal(loc=0.15, scale=0.025, size=100)\n",
    "por"
   ]
  },
  {
   "cell_type": "code",
   "execution_count": null,
   "metadata": {},
   "outputs": [],
   "source": [
    "import matplotlib.pyplot as plt\n",
    "\n",
    "_ = plt.hist(por, bins='auto')  # Various bin calcs: sqrt, fd, stone, rice, etc."
   ]
  },
  {
   "cell_type": "code",
   "execution_count": null,
   "metadata": {},
   "outputs": [],
   "source": [
    "import seaborn as sns\n",
    "sns.set_style(\"whitegrid\")\n",
    "\n",
    "sns.histplot(por, kde=True)"
   ]
  },
  {
   "cell_type": "markdown",
   "metadata": {},
   "source": [
    "We expect that our simple functions work on NumPy arrays:"
   ]
  },
  {
   "cell_type": "code",
   "execution_count": null,
   "metadata": {},
   "outputs": [],
   "source": [
    "netg = np.random.normal(loc=0.5, scale=0.1, size=100)\n",
    "\n",
    "hcpv = calculate_hcpv(netg, por, s_o)\n",
    "hcpv"
   ]
  },
  {
   "cell_type": "code",
   "execution_count": null,
   "metadata": {},
   "outputs": [],
   "source": [
    "_ = plt.hist(hcpv)"
   ]
  },
  {
   "cell_type": "markdown",
   "metadata": {},
   "source": [
    "The histogram looks a bit ragged, but this is probably because of the relatively small number of samples."
   ]
  },
  {
   "cell_type": "markdown",
   "metadata": {
    "tags": [
     "exercise"
    ]
   },
   "source": [
    "### EXERCISE\n",
    "\n",
    "1. Compute HCIP with these distributions. Make a histogram of the result in millions of barrels.\n",
    "1. How does the histogram look if you take 1000 samples instead of 100?\n",
    "1. Make distributions for some of the other properties, like thickness and FVF.\n",
    "1. Check that you don't get unreasonable values, like negative numbers, or decimal fractions over 1.0 Try to implement this if you have time."
   ]
  },
  {
   "cell_type": "code",
   "execution_count": null,
   "metadata": {},
   "outputs": [],
   "source": [
    "# YOUR CODE HERE\n",
    "\n"
   ]
  },
  {
   "cell_type": "code",
   "execution_count": null,
   "metadata": {
    "tags": [
     "hide"
    ]
   },
   "outputs": [],
   "source": [
    "area = np.random.normal(loc=2e4*3e4, scale=1e7, size=1000) * u.m**2\n",
    "thick = np.random.normal(loc=80, scale=10, size=1000) * u.m\n",
    "grv = calculate_grv(thick, area)\n",
    "\n",
    "netg = np.random.normal(loc=0.5, scale=0.1, size=1000)\n",
    "por = np.random.normal(loc=0.15, scale=0.025, size=1000)\n",
    "s_o = np.random.normal(loc=0.8, scale=0.05, size=1000)\n",
    "\n",
    "# Regularize.\n",
    "netg = np.clip(netg, a_min=0.0, a_max=1.0)\n",
    "por = np.clip(por, a_min=0.0, a_max=0.35)\n",
    "s_o = np.clip(s_o, a_min=0.0, a_max=1.0)\n",
    "\n",
    "hcpv = calculate_hcpv(netg, por, s_o)\n",
    "\n",
    "fvf = np.random.normal(loc=1.05, scale=0.05, size=1000)\n",
    "fvf = np.clip(fvf, a_min=1.0, a_max=np.inf)\n",
    "\n",
    "hcip = grv * hcpv / fvf"
   ]
  },
  {
   "cell_type": "code",
   "execution_count": null,
   "metadata": {
    "tags": [
     "hide"
    ]
   },
   "outputs": [],
   "source": [
    "_ = plt.hist(hcip.m)"
   ]
  },
  {
   "cell_type": "markdown",
   "metadata": {},
   "source": [
    "Now we can compute some summary statistics. For the **mode** we'll need the KDE:"
   ]
  },
  {
   "cell_type": "code",
   "execution_count": null,
   "metadata": {},
   "outputs": [],
   "source": [
    "import scipy.stats as st\n",
    "import scipy.optimize as so\n",
    "\n",
    "# Fit a KDE.\n",
    "kernel = st.gaussian_kde(hcip.m)\n",
    "\n",
    "# Evaluate it, e.g. to make a plot.\n",
    "x = np.linspace(0, 7e9, 100)\n",
    "kde = kernel(x)\n",
    "\n",
    "# Find the maximum on the -ve KDE (all we have is 'minimize'):\n",
    "maxx = so.fmin(lambda x_i: -kernel(x_i), 0)  # 0 is initial guess.\n",
    "\n",
    "# Make a plot.\n",
    "plt.hist(hcip.m)\n",
    "plt.plot(x, kde*300*2e9)\n",
    "plt.axvline(maxx, c='r')\n",
    "plt.show()"
   ]
  },
  {
   "cell_type": "code",
   "execution_count": null,
   "metadata": {},
   "outputs": [],
   "source": [
    "stats = {\n",
    "    'p10': np.percentile(hcip, 10),  # Some people call this P90.\n",
    "    'mode': maxx.item() * hcip.u,    # Add units.\n",
    "    'p50': np.median(hcip),\n",
    "    'mean': np.mean(hcip),\n",
    "    'p90': np.percentile(hcip, 90),  # Some people call this P10.\n",
    "}\n",
    "\n",
    "for stat, x in stats.items():\n",
    "    print(f\"{stat} is {x.to('Gbbl').m:.1f} billion bbl\")"
   ]
  },
  {
   "cell_type": "code",
   "execution_count": null,
   "metadata": {},
   "outputs": [],
   "source": [
    "sns.displot(hcip.to('Gbbl').m, kde=True, aspect=2)\n",
    "for stat, x in stats.items():\n",
    "    c = 'g' if stat == 'mode' else 'r' if stat == 'mean' else 'b'\n",
    "    plt.axvline(x.to('Gbbl').m, c=c, alpha=0.67)"
   ]
  },
  {
   "cell_type": "markdown",
   "metadata": {},
   "source": [
    "#### Go further\n",
    "\n",
    "We've just scatched the surface of Monte Carlo simulation here. To find out more, check out the notebook [Monte_Carlo_simulation.ipynb](Monte_Carlo_simulation.ipynb).\n",
    "\n",
    "Some things to think about:\n",
    "\n",
    "- Our variables were uncorrelated, whereas some of them might actually be correlated. For example, perhaps net:gross and thickness are related.\n",
    "- Some of these properties probably do not have a normal distribution; for example, porosity is often skewed.\n",
    "- Rather than doing the entire field at once, we might want to break it into components and simulate them independently. This would allow us to model the spatial dependence of, say, thickness. Then we're going down the geomodeling road..."
   ]
  },
  {
   "cell_type": "markdown",
   "metadata": {},
   "source": [
    "---\n",
    "\n",
    "## Compute on a DataFrame\n",
    "\n",
    "Suppose we have a spreadsheet of prospect data:"
   ]
  },
  {
   "cell_type": "code",
   "execution_count": null,
   "metadata": {},
   "outputs": [],
   "source": [
    "import pandas as pd\n",
    "\n",
    "uid = \"1P2JxXG_jLZ0vx8BlFvm0hD6sBBZH2zU8tk9T-SI27mE\"\n",
    "url = f\"https://docs.google.com/spreadsheets/d/{uid}/export?format=csv\"\n",
    "\n",
    "df = pd.read_csv(url)\n",
    "df.head()"
   ]
  },
  {
   "cell_type": "markdown",
   "metadata": {},
   "source": [
    "We usually want to avoid looping over `pandas.DataFrame` objects, so when we want to do something to every row (or column) the best idea is usually to write a 'row processing' function, then use `df.apply()` to set it to work. This is a [**functional programming**](https://en.wikipedia.org/wiki/Functional_programming) paradigm."
   ]
  },
  {
   "cell_type": "code",
   "execution_count": null,
   "metadata": {},
   "outputs": [],
   "source": [
    "def hcpv_row(row):\n",
    "    \"\"\"Process one row.\"\"\"\n",
    "    hcpv = calculate_hcpv(row['N:G'], row['phi'], row['So'])\n",
    "    return hcpv\n",
    "\n",
    "df.apply(hcpv_row, axis=1)"
   ]
  },
  {
   "cell_type": "markdown",
   "metadata": {
    "tags": [
     "exercise"
    ]
   },
   "source": [
    "### Exercise\n",
    "\n",
    "- Compute the HCIP for every prospect. <a title=\"Write a function that computes the HCIP for one row. Then use df.apply(func, axis=1) to apply it to the DataFrame.\">Hover for HINT</a>\n",
    "- Make a histogram of the HCIP volumes.\n",
    "- List the largest prospects. <a title=\"Try df.nlargest()\">Hover for HINT</a>\n",
    "- Plot the prospects on a map, using HCIP or some other data as the size of the marker.\n",
    "- Can you generate a Monte Carlo result for every prospect?"
   ]
  },
  {
   "cell_type": "code",
   "execution_count": null,
   "metadata": {},
   "outputs": [],
   "source": [
    "# OPTIONAL\n",
    "# You might like to use this mapping from the\n",
    "# DataFrame columns to the function arguments:\n",
    "names = {\n",
    "    'thickness': 'Thick [m]',\n",
    "    'area': 'Area [km2]',\n",
    "    'height': None,\n",
    "    'top': None,\n",
    "    'netg': 'N:G',\n",
    "    'por': 'phi',\n",
    "    's_o': 'So',\n",
    "    'fvf': 'Bo',\n",
    "    'g': 'GeomFactor',\n",
    "}"
   ]
  },
  {
   "cell_type": "code",
   "execution_count": null,
   "metadata": {},
   "outputs": [],
   "source": [
    "# YOUR CODE HERE\n",
    "\n"
   ]
  },
  {
   "cell_type": "code",
   "execution_count": null,
   "metadata": {
    "tags": [
     "hide"
    ]
   },
   "outputs": [],
   "source": [
    "names = {\n",
    "    'thickness': 'Thick [m]',\n",
    "    'area': 'Area [km2]',\n",
    "    'height': None,\n",
    "    'top': None,\n",
    "    'netg': 'N:G',\n",
    "    'por': 'phi',\n",
    "    's_o': 'So',\n",
    "    'fvf': 'Bo',\n",
    "    'g': 'GeomFactor',\n",
    "}\n",
    "\n",
    "def hcip_row(row):\n",
    "    params = {k: row.get(v) for k, v in names.items()}\n",
    "    hcip = calculate_hcip(**params)\n",
    "    return hcip"
   ]
  },
  {
   "cell_type": "code",
   "execution_count": null,
   "metadata": {
    "tags": [
     "hide"
    ]
   },
   "outputs": [],
   "source": [
    "df['HCIP'] = df.apply(hcip_row, axis=1)\n",
    "\n",
    "df.head()"
   ]
  },
  {
   "cell_type": "code",
   "execution_count": null,
   "metadata": {
    "tags": [
     "hide"
    ]
   },
   "outputs": [],
   "source": [
    "df.HCIP.hist()"
   ]
  },
  {
   "cell_type": "code",
   "execution_count": null,
   "metadata": {
    "tags": [
     "hide"
    ]
   },
   "outputs": [],
   "source": [
    "df[df.HCIP > 400]"
   ]
  },
  {
   "cell_type": "code",
   "execution_count": null,
   "metadata": {
    "tags": [
     "hide"
    ]
   },
   "outputs": [],
   "source": [
    "df.nlargest(5, ['HCIP'])"
   ]
  },
  {
   "cell_type": "markdown",
   "metadata": {},
   "source": [
    "## A peek at GeoPandas"
   ]
  },
  {
   "cell_type": "code",
   "execution_count": null,
   "metadata": {},
   "outputs": [],
   "source": []
  },
  {
   "cell_type": "code",
   "execution_count": null,
   "metadata": {
    "tags": [
     "hide"
    ]
   },
   "outputs": [],
   "source": [
    "import geopandas as gpd\n",
    "\n",
    "geometry = gpd.points_from_xy(df['UTMx [m]'], df['UTMy [m]'])\n",
    "\n",
    "gdf = gpd.GeoDataFrame(df, geometry=geometry)\n",
    "\n",
    "gdf"
   ]
  },
  {
   "cell_type": "code",
   "execution_count": null,
   "metadata": {
    "tags": [
     "hide"
    ]
   },
   "outputs": [],
   "source": [
    "gdf.plot(markersize=df.HCIP, c=df.phi)"
   ]
  },
  {
   "cell_type": "code",
   "execution_count": null,
   "metadata": {
    "tags": [
     "hide"
    ]
   },
   "outputs": [],
   "source": [
    "gdf.to_file('Prospects.shp')\n",
    "gdf.to_file('Prospects.geojson', driver='GeoJSON')"
   ]
  },
  {
   "cell_type": "markdown",
   "metadata": {},
   "source": [
    "<hr />\n",
    "\n",
    "<div>\n",
    "<img src=\"https://avatars1.githubusercontent.com/u/1692321?s=50\"><p style=\"text-align:center\">© Agile Geoscience 2021</p>\n",
    "</div>"
   ]
  }
 ],
 "metadata": {
  "anaconda-cloud": {},
  "celltoolbar": "Tags",
  "kernelspec": {
   "display_name": "geosci",
   "language": "python",
   "name": "geosci"
  },
  "language_info": {
   "codemirror_mode": {
    "name": "ipython",
    "version": 3
   },
   "file_extension": ".py",
   "mimetype": "text/x-python",
   "name": "python",
   "nbconvert_exporter": "python",
   "pygments_lexer": "ipython3",
   "version": "3.9.6"
  }
 },
 "nbformat": 4,
 "nbformat_minor": 1
}
