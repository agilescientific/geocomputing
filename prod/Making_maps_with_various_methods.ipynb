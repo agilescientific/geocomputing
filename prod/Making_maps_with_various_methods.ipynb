{
 "cells": [
  {
   "cell_type": "markdown",
   "metadata": {},
   "source": [
    "# Making maps\n",
    "\n",
    "I'm using a small dataset originally from [**Geoff Bohling**](http://people.ku.edu/~gbohling/) at the Kansas Geological Survey. I can no longer find the data online, but here's what he says about it:\n",
    "\n",
    "> Our example data consist of vertically averaged porosity values, in percent, in Zone A of the Big Bean Oil Field (fictitious, but based on real data). Porosity values are available from 85 wells distributed throughout the field, which is approximately 20 km in east-west extent and 16 km north-south. The porosities range from 12% to 17%.\n",
    "\n",
    "[Read more about it](http://discoverspatial.in/wp-content/uploads/2018/04/IntroToGeostatistics-Geoff-Bohling.pdf)\n",
    "\n",
    "We will look at four ways to do this:\n",
    "\n",
    "- Using SciPy with `scipy.interpolate.RBFInterpolator` (**requires SciPy 1.7.0+**)\n",
    "- Using SciPy with `scipy.griddata()`\n",
    "- Using the Scikit-Learn machine learning library with `sklearn.gaussian_process`\n",
    "- Using the [Verde](https://github.com/fatiando/verde) spatial gridding library with `verde.Spline` (thank you to Leo Uieda for contributing this!)\n",
    "\n",
    "### TODO\n",
    "\n",
    "- Export to TXT and GeoTIFF\n",
    "\n",
    "\n",
    "## Load and inspect the data"
   ]
  },
  {
   "cell_type": "code",
   "execution_count": 1,
   "metadata": {},
   "outputs": [],
   "source": [
    "import numpy as np\n",
    "import matplotlib.pyplot as plt"
   ]
  },
  {
   "cell_type": "markdown",
   "metadata": {
    "tags": [
     "exercise"
    ]
   },
   "source": [
    "### EXERCISE\n",
    "\n",
    "The data file is on the web at `https://www.dropbox.com/s/6dyfc4fl5slhgry/ZoneA.dat?raw=1` and `https://geocomp.s3.amazonaws.com/data/ZoneA.dat`.\n",
    "\n",
    "Load the data from the text file into a Pandas DataFrame. <a title=\"Use Pandas's read_csv() method. You will need to set some arguments: sep, header, usecols, names, and dtype.\"><b>Hover for HINT</b></a>\n",
    "\n",
    "We don't need all of the fields, but we at least need x, y, thickness and porosity. The top of the DataFrame should look something like this:\n",
    "\n",
    "              x       y     thick       por\n",
    "    0   12100.0  8300.0   37.1531   14.6515\n",
    "    1    5300.0  8700.0   31.4993   14.5093\n",
    "    \n",
    "Once you have the data, can you make a KDE plot (`sns.kdeplot()`) with Seaborn?"
   ]
  },
  {
   "cell_type": "code",
   "execution_count": 2,
   "metadata": {},
   "outputs": [],
   "source": [
    "# YOUR CODE HERE\n",
    "fname = \"https://geocomp.s3.amazonaws.com/data/ZoneA.dat\"\n",
    "\n"
   ]
  },
  {
   "cell_type": "code",
   "execution_count": 3,
   "metadata": {
    "tags": [
     "hide"
    ]
   },
   "outputs": [
    {
     "data": {
      "text/html": [
       "<div>\n",
       "<style scoped>\n",
       "    .dataframe tbody tr th:only-of-type {\n",
       "        vertical-align: middle;\n",
       "    }\n",
       "\n",
       "    .dataframe tbody tr th {\n",
       "        vertical-align: top;\n",
       "    }\n",
       "\n",
       "    .dataframe thead th {\n",
       "        text-align: right;\n",
       "    }\n",
       "</style>\n",
       "<table border=\"1\" class=\"dataframe\">\n",
       "  <thead>\n",
       "    <tr style=\"text-align: right;\">\n",
       "      <th></th>\n",
       "      <th>x</th>\n",
       "      <th>y</th>\n",
       "      <th>thick</th>\n",
       "      <th>por</th>\n",
       "      <th>perm</th>\n",
       "    </tr>\n",
       "  </thead>\n",
       "  <tbody>\n",
       "    <tr>\n",
       "      <th>0</th>\n",
       "      <td>12100.0</td>\n",
       "      <td>8300.0</td>\n",
       "      <td>37.1531</td>\n",
       "      <td>14.6515</td>\n",
       "      <td>2.8547</td>\n",
       "    </tr>\n",
       "    <tr>\n",
       "      <th>1</th>\n",
       "      <td>5300.0</td>\n",
       "      <td>8700.0</td>\n",
       "      <td>31.4993</td>\n",
       "      <td>14.5093</td>\n",
       "      <td>NaN</td>\n",
       "    </tr>\n",
       "    <tr>\n",
       "      <th>2</th>\n",
       "      <td>3500.0</td>\n",
       "      <td>13900.0</td>\n",
       "      <td>36.9185</td>\n",
       "      <td>14.0639</td>\n",
       "      <td>NaN</td>\n",
       "    </tr>\n",
       "    <tr>\n",
       "      <th>3</th>\n",
       "      <td>5100.0</td>\n",
       "      <td>1900.0</td>\n",
       "      <td>24.0156</td>\n",
       "      <td>15.1084</td>\n",
       "      <td>1.1407</td>\n",
       "    </tr>\n",
       "    <tr>\n",
       "      <th>4</th>\n",
       "      <td>9900.0</td>\n",
       "      <td>13700.0</td>\n",
       "      <td>35.0411</td>\n",
       "      <td>13.9190</td>\n",
       "      <td>NaN</td>\n",
       "    </tr>\n",
       "  </tbody>\n",
       "</table>\n",
       "</div>"
      ],
      "text/plain": [
       "         x        y    thick      por    perm\n",
       "0  12100.0   8300.0  37.1531  14.6515  2.8547\n",
       "1   5300.0   8700.0  31.4993  14.5093     NaN\n",
       "2   3500.0  13900.0  36.9185  14.0639     NaN\n",
       "3   5100.0   1900.0  24.0156  15.1084  1.1407\n",
       "4   9900.0  13700.0  35.0411  13.9190     NaN"
      ]
     },
     "execution_count": 3,
     "metadata": {},
     "output_type": "execute_result"
    }
   ],
   "source": [
    "import pandas as pd\n",
    "\n",
    "df = pd.read_csv('https://geocomp.s3.amazonaws.com/data/ZoneA.dat',\n",
    "                 sep=' ',\n",
    "                 header=9,\n",
    "                 usecols=[0, 1, 2, 3, 4],\n",
    "                 names=['x', 'y', 'thick', 'por', 'perm'],\n",
    "                 dtype=\"float64\",\n",
    "                 na_values=[-999.9999],\n",
    "                )\n",
    "\n",
    "df.head()"
   ]
  },
  {
   "cell_type": "markdown",
   "metadata": {},
   "source": [
    "This looks a bit unpleasant, but we're just getting out min and max values for the x and y columns."
   ]
  },
  {
   "cell_type": "code",
   "execution_count": 4,
   "metadata": {},
   "outputs": [],
   "source": [
    "extent = x_min, x_max, y_min, y_max = [df.x.min()-1000, df.x.max()+1000,\n",
    "                                       df.y.min()-1000, df.y.max()+1000]"
   ]
  },
  {
   "cell_type": "markdown",
   "metadata": {},
   "source": [
    "Later on, we'll see a nicer way to do this using the Verde library.\n",
    "\n",
    "Now we can plot the data:"
   ]
  },
  {
   "cell_type": "markdown",
   "metadata": {
    "tags": [
     "exercise"
    ]
   },
   "source": [
    "### EXERCISE\n",
    "\n",
    "Make a map of the porosity data. Use the colour of the points to indicate porosity, and use the size to indicate thickness of the zone.\n",
    "\n",
    "Add a colourbar, title, and other annotation."
   ]
  },
  {
   "cell_type": "code",
   "execution_count": 5,
   "metadata": {},
   "outputs": [],
   "source": [
    "# YOUR CODE HERE\n",
    "\n"
   ]
  },
  {
   "cell_type": "code",
   "execution_count": 6,
   "metadata": {
    "tags": [
     "hide"
    ]
   },
   "outputs": [
    {
     "data": {
      "image/png": "[encoded data removed]",
      "text/plain": [
       "<Figure size 720x432 with 2 Axes>"
      ]
     },
     "metadata": {
      "needs_background": "light"
     },
     "output_type": "display_data"
    }
   ],
   "source": [
    "fig, ax = plt.subplots(figsize=(10,6))\n",
    "\n",
    "scatter = ax.scatter(df.x, df.y, c=df.por, s=2*df.thick)\n",
    "plt.colorbar(scatter)\n",
    "ax.set_aspect(1)\n",
    "ax.set_xlim(x_min, x_max)\n",
    "ax.set_ylim(y_min, y_max)\n",
    "ax.set_xlabel('Easting [m]')\n",
    "ax.set_ylabel('Northing [m]')\n",
    "ax.set_title('Porosity %')\n",
    "ax.grid(c='k', alpha=0.2)\n",
    "\n",
    "plt.show()"
   ]
  },
  {
   "cell_type": "markdown",
   "metadata": {},
   "source": [
    "## Make a regular grid\n",
    "\n",
    "We must make a grid, which represents the points we'd like to predict."
   ]
  },
  {
   "cell_type": "code",
   "execution_count": 51,
   "metadata": {},
   "outputs": [
    {
     "data": {
      "text/plain": [
       "(2, 36, 43)"
      ]
     },
     "execution_count": 51,
     "metadata": {},
     "output_type": "execute_result"
    }
   ],
   "source": [
    "# Notice the order of x (columns) and y (rows)!\n",
    "grid = np.mgrid[y_min:y_max:500, x_min:x_max:500]\n",
    "grid.shape\n",
    "\n",
    "# Use *shape* argument to specify the *number* (not size) of bins:\n",
    "# grid_y, grid_x = np.mgrid[y_min:y_max:100j, x_min:x_max:100j]"
   ]
  },
  {
   "cell_type": "code",
   "execution_count": 52,
   "metadata": {},
   "outputs": [],
   "source": [
    "_, *shape = grid.shape\n",
    "grid_ = grid.reshape(2, -1)"
   ]
  },
  {
   "cell_type": "code",
   "execution_count": 53,
   "metadata": {},
   "outputs": [
    {
     "data": {
      "text/plain": [
       "<matplotlib.collections.PathCollection at 0x7fe6721e2e90>"
      ]
     },
     "execution_count": 53,
     "metadata": {},
     "output_type": "execute_result"
    },
    {
     "data": {
      "image/png": "[encoded data removed]",
      "text/plain": [
       "<Figure size 720x432 with 1 Axes>"
      ]
     },
     "metadata": {
      "needs_background": "light"
     },
     "output_type": "display_data"
    }
   ],
   "source": [
    "plt.figure(figsize=(10,6))\n",
    "plt.scatter(*grid, marker='+', lw=0.5, s=10)"
   ]
  },
  {
   "cell_type": "markdown",
   "metadata": {},
   "source": [
    "That was easy!\n",
    "\n",
    "----\n",
    "\n",
    "## Interpolation with radial basis function\n",
    "\n",
    "Now we make an interpolator and use it to predict into the grid 'cells'.\n",
    "\n",
    "**This requires SciPy 1.7.0+ (June 2021), otherwise you'll have to use `scipy.interpolate.Rbf`.**"
   ]
  },
  {
   "cell_type": "code",
   "execution_count": 9,
   "metadata": {},
   "outputs": [
    {
     "ename": "SyntaxError",
     "evalue": "invalid syntax (<ipython-input-9-79dd330f8521>, line 3)",
     "output_type": "error",
     "traceback": [
      "\u001b[0;36m  File \u001b[0;32m\"<ipython-input-9-79dd330f8521>\"\u001b[0;36m, line \u001b[0;32m3\u001b[0m\n\u001b[0;31m    rbfi =\u001b[0m\n\u001b[0m           ^\u001b[0m\n\u001b[0;31mSyntaxError\u001b[0m\u001b[0;31m:\u001b[0m invalid syntax\n"
     ]
    }
   ],
   "source": [
    "from scipy.interpolate import RBFInterpolator\n",
    "\n",
    "rbfi = "
   ]
  },
  {
   "cell_type": "code",
   "execution_count": 76,
   "metadata": {
    "tags": [
     "hide"
    ]
   },
   "outputs": [],
   "source": [
    "from scipy.interpolate import RBFInterpolator\n",
    "\n",
    "# Make an n-dimensional interpolator. This is essential line number 4.\n",
    "rbfi = RBFInterpolator(df[['x', 'y']], df.por, epsilon=1)\n",
    "\n",
    "# Predict on the regular grid. Line 5.\n",
    "di = rbfi(grid_.T).reshape(shape)"
   ]
  },
  {
   "cell_type": "code",
   "execution_count": 77,
   "metadata": {},
   "outputs": [
    {
     "data": {
      "text/plain": [
       "(36, 43)"
      ]
     },
     "execution_count": 77,
     "metadata": {},
     "output_type": "execute_result"
    }
   ],
   "source": [
    "di.shape"
   ]
  },
  {
   "cell_type": "markdown",
   "metadata": {},
   "source": [
    "Let's plot the result. First, we'll need the min and max of the combined sparse and gridded data, so we can plot them with the same colourmap ranges:"
   ]
  },
  {
   "cell_type": "code",
   "execution_count": 57,
   "metadata": {},
   "outputs": [],
   "source": [
    "mi = np.min(np.hstack([di.ravel(), df.por]))\n",
    "ma = np.max(np.hstack([di.ravel(), df.por]))"
   ]
  },
  {
   "cell_type": "markdown",
   "metadata": {
    "tags": [
     "exercise"
    ]
   },
   "source": [
    "### EXERCISE\n",
    "\n",
    "Can you make a plot of the interpolated surface, with the original data overplotted in the same colours?\n",
    "\n",
    "You'll need to use `mi` and `ma` to control the colourbars. And you will need the transpose (`arr.T`)  and `imshow()`'s `origin='lower'` argument to keep everything matched up with the original dataset."
   ]
  },
  {
   "cell_type": "code",
   "execution_count": 58,
   "metadata": {},
   "outputs": [],
   "source": [
    "# YOUR CODE HERE\n",
    "\n"
   ]
  },
  {
   "cell_type": "code",
   "execution_count": 72,
   "metadata": {
    "tags": [
     "hide"
    ]
   },
   "outputs": [
    {
     "data": {
      "image/png": "[encoded data removed]",
      "text/plain": [
       "<Figure size 1080x1080 with 2 Axes>"
      ]
     },
     "metadata": {
      "needs_background": "light"
     },
     "output_type": "display_data"
    }
   ],
   "source": [
    "plt.figure(figsize=(15,15))\n",
    "c1 = plt.imshow(di, origin=\"lower\", extent=extent, vmin=mi, vmax=ma, aspect=1)\n",
    "c2 = plt.scatter(df.x, df.y, s=60, c=df.por, edgecolor='#ffffff66', vmin=mi, vmax=ma)\n",
    "\n",
    "plt.colorbar(c1, shrink=0.67)\n",
    "plt.show()"
   ]
  },
  {
   "cell_type": "markdown",
   "metadata": {},
   "source": [
    "The circles (the data) are the same colour as the grid (the model), so we can see that the error on this prediction is almost zero. In fact, the default parameters force the model to pass through all the data points (interpolation, as opposed to estimation or approximation)."
   ]
  },
  {
   "cell_type": "markdown",
   "metadata": {
    "tags": [
     "exercise"
    ]
   },
   "source": [
    "### EXERCISE\n",
    "\n",
    "Make a histogram and kernel density estimation of the residuals. <a title=\"Make predictions at the original input locations then subtract the original porosity data from those. Use sns.distplot() to plot them.\"><b>Hover for HINT</b></a>\n",
    "\n",
    "Repeat the exercise but change the smoothing parameter (e.g. to 0.2) to see the effect on the residuals."
   ]
  },
  {
   "cell_type": "code",
   "execution_count": null,
   "metadata": {},
   "outputs": [],
   "source": [
    "# YOUR CODE HERE\n",
    "\n"
   ]
  },
  {
   "cell_type": "code",
   "execution_count": 73,
   "metadata": {
    "tags": [
     "hide"
    ]
   },
   "outputs": [
    {
     "ename": "TypeError",
     "evalue": "__call__() takes 2 positional arguments but 3 were given",
     "output_type": "error",
     "traceback": [
      "\u001b[0;31m---------------------------------------------------------------------------\u001b[0m",
      "\u001b[0;31mTypeError\u001b[0m                                 Traceback (most recent call last)",
      "\u001b[0;32m<ipython-input-73-110de482a550>\u001b[0m in \u001b[0;36m<module>\u001b[0;34m\u001b[0m\n\u001b[1;32m      1\u001b[0m \u001b[0;32mimport\u001b[0m \u001b[0mseaborn\u001b[0m \u001b[0;32mas\u001b[0m \u001b[0msns\u001b[0m\u001b[0;34m\u001b[0m\u001b[0;34m\u001b[0m\u001b[0m\n\u001b[1;32m      2\u001b[0m \u001b[0;34m\u001b[0m\u001b[0m\n\u001b[0;32m----> 3\u001b[0;31m \u001b[0mpor_hat\u001b[0m \u001b[0;34m=\u001b[0m \u001b[0mrbfi\u001b[0m\u001b[0;34m(\u001b[0m\u001b[0mdf\u001b[0m\u001b[0;34m.\u001b[0m\u001b[0mx\u001b[0m\u001b[0;34m,\u001b[0m \u001b[0mdf\u001b[0m\u001b[0;34m.\u001b[0m\u001b[0my\u001b[0m\u001b[0;34m)\u001b[0m\u001b[0;34m\u001b[0m\u001b[0;34m\u001b[0m\u001b[0m\n\u001b[0m\u001b[1;32m      4\u001b[0m \u001b[0;34m\u001b[0m\u001b[0m\n\u001b[1;32m      5\u001b[0m \u001b[0msns\u001b[0m\u001b[0;34m.\u001b[0m\u001b[0mdistplot\u001b[0m\u001b[0;34m(\u001b[0m\u001b[0mpor_hat\u001b[0m \u001b[0;34m-\u001b[0m \u001b[0mdf\u001b[0m\u001b[0;34m.\u001b[0m\u001b[0mpor\u001b[0m\u001b[0;34m)\u001b[0m\u001b[0;34m\u001b[0m\u001b[0;34m\u001b[0m\u001b[0m\n",
      "\u001b[0;31mTypeError\u001b[0m: __call__() takes 2 positional arguments but 3 were given"
     ]
    }
   ],
   "source": [
    "import seaborn as sns\n",
    "\n",
    "por_hat = rbfi(df.x, df.y)\n",
    "\n",
    "sns.distplot(por_hat - df.por)"
   ]
  },
  {
   "cell_type": "markdown",
   "metadata": {},
   "source": [
    "The `Rbf()` interpolator has [a few options](https://docs.scipy.org/doc/scipy/reference/generated/scipy.interpolate.Rbf.html). The most important one is probably `smooth`, which is the thing to increase if you end up with a singular matrix (because it can't converge on a solution). Anything above 0 relaxes the constraint that the surface must pass through every point. If you get an error, you probably need to change the smoothing.\n",
    "\n",
    "You can also change the `function` (default is `multiquadric`, which also has an `epsilon` parameter to vary the range of influence of each point)."
   ]
  },
  {
   "cell_type": "code",
   "execution_count": 74,
   "metadata": {
    "tags": [
     "hide"
    ]
   },
   "outputs": [
    {
     "ename": "NameError",
     "evalue": "name 'Rbf' is not defined",
     "output_type": "error",
     "traceback": [
      "\u001b[0;31m---------------------------------------------------------------------------\u001b[0m",
      "\u001b[0;31mNameError\u001b[0m                                 Traceback (most recent call last)",
      "\u001b[0;32m<ipython-input-74-dad8f51548f8>\u001b[0m in \u001b[0;36m<module>\u001b[0;34m\u001b[0m\n\u001b[0;32m----> 1\u001b[0;31m \u001b[0mrbfi\u001b[0m \u001b[0;34m=\u001b[0m \u001b[0mRbf\u001b[0m\u001b[0;34m(\u001b[0m\u001b[0mdf\u001b[0m\u001b[0;34m.\u001b[0m\u001b[0mx\u001b[0m\u001b[0;34m,\u001b[0m \u001b[0mdf\u001b[0m\u001b[0;34m.\u001b[0m\u001b[0my\u001b[0m\u001b[0;34m,\u001b[0m \u001b[0mdf\u001b[0m\u001b[0;34m.\u001b[0m\u001b[0mpor\u001b[0m\u001b[0;34m,\u001b[0m \u001b[0msmooth\u001b[0m\u001b[0;34m=\u001b[0m\u001b[0;36m0.2\u001b[0m\u001b[0;34m)\u001b[0m\u001b[0;34m\u001b[0m\u001b[0;34m\u001b[0m\u001b[0m\n\u001b[0m\u001b[1;32m      2\u001b[0m \u001b[0mdi\u001b[0m \u001b[0;34m=\u001b[0m \u001b[0mrbfi\u001b[0m\u001b[0;34m(\u001b[0m\u001b[0mgrid_x\u001b[0m\u001b[0;34m,\u001b[0m \u001b[0mgrid_y\u001b[0m\u001b[0;34m)\u001b[0m\u001b[0;34m\u001b[0m\u001b[0;34m\u001b[0m\u001b[0m\n\u001b[1;32m      3\u001b[0m \u001b[0;34m\u001b[0m\u001b[0m\n\u001b[1;32m      4\u001b[0m \u001b[0mplt\u001b[0m\u001b[0;34m.\u001b[0m\u001b[0mimshow\u001b[0m\u001b[0;34m(\u001b[0m\u001b[0mdi\u001b[0m\u001b[0;34m,\u001b[0m \u001b[0morigin\u001b[0m\u001b[0;34m=\u001b[0m\u001b[0;34m\"lower\"\u001b[0m\u001b[0;34m,\u001b[0m \u001b[0mextent\u001b[0m\u001b[0;34m=\u001b[0m\u001b[0mextent\u001b[0m\u001b[0;34m)\u001b[0m\u001b[0;34m\u001b[0m\u001b[0;34m\u001b[0m\u001b[0m\n\u001b[1;32m      5\u001b[0m \u001b[0mplt\u001b[0m\u001b[0;34m.\u001b[0m\u001b[0mscatter\u001b[0m\u001b[0;34m(\u001b[0m\u001b[0mdf\u001b[0m\u001b[0;34m.\u001b[0m\u001b[0mx\u001b[0m\u001b[0;34m,\u001b[0m \u001b[0mdf\u001b[0m\u001b[0;34m.\u001b[0m\u001b[0my\u001b[0m\u001b[0;34m,\u001b[0m \u001b[0ms\u001b[0m\u001b[0;34m=\u001b[0m\u001b[0;36m2\u001b[0m\u001b[0;34m,\u001b[0m \u001b[0mc\u001b[0m\u001b[0;34m=\u001b[0m\u001b[0;34m'w'\u001b[0m\u001b[0;34m)\u001b[0m\u001b[0;34m\u001b[0m\u001b[0;34m\u001b[0m\u001b[0m\n",
      "\u001b[0;31mNameError\u001b[0m: name 'Rbf' is not defined"
     ]
    }
   ],
   "source": [
    "rbfi = Rbf(df.x, df.y, df.por, smooth=0.2)\n",
    "di = rbfi(grid_x, grid_y)\n",
    "\n",
    "plt.imshow(di, origin=\"lower\", extent=extent)\n",
    "plt.scatter(df.x, df.y, s=2, c='w')\n",
    "plt.show()"
   ]
  },
  {
   "cell_type": "markdown",
   "metadata": {
    "tags": [
     "exercise"
    ]
   },
   "source": [
    "### EXERCISE\n",
    "\n",
    "Make an interactive plot to see the effect of the smoothing parameter on `Rbf`."
   ]
  },
  {
   "cell_type": "code",
   "execution_count": null,
   "metadata": {},
   "outputs": [],
   "source": [
    "# YOUR CODE HERE\n",
    "\n"
   ]
  },
  {
   "cell_type": "code",
   "execution_count": null,
   "metadata": {
    "tags": [
     "hide"
    ]
   },
   "outputs": [],
   "source": [
    "from ipywidgets import interact\n",
    "\n",
    "@interact(smooth=(0, 1, 0.1), epsilon=(100, 5_000, 200))\n",
    "def main(smooth, epsilon):\n",
    "    rbfi = Rbf(df.x, df.y, df.por, smooth=smooth, epsilon=epsilon)\n",
    "\n",
    "    di = rbfi(grid_x, grid_y)\n",
    "    por_hat = rbfi(df.x, df.y)\n",
    "\n",
    "    residuals = por_hat - df.por\n",
    "\n",
    "    fig, axs = plt.subplots(ncols=2, figsize=(15, 5))\n",
    "\n",
    "    mi = np.min(np.hstack([di.ravel(), df.por.values]))\n",
    "    ma = np.max(np.hstack([di.ravel(), df.por.values]))\n",
    "\n",
    "    im = axs[0].imshow(di, origin='lower', extent=extent, vmin=mi, vmax=ma)\n",
    "    sns.scatterplot(df.x, df.y, hue=df.por, palette='viridis', vmin=mi, vmax=ma, ax=axs[0])\n",
    "\n",
    "    sns.distplot(residuals, ax=axs[1])\n",
    "    axs[1].set_xlim(-2, 2)\n",
    "    \n",
    "    plt.show()\n",
    "    return"
   ]
  },
  {
   "cell_type": "markdown",
   "metadata": {
    "tags": [
     "exercise"
    ]
   },
   "source": [
    "### EXERCISE\n",
    "\n",
    "Use `plt.contour()` or `plt.contourf()` to make a contour map of this surface."
   ]
  },
  {
   "cell_type": "code",
   "execution_count": null,
   "metadata": {},
   "outputs": [],
   "source": [
    "# YOUR CODE HERE\n",
    "\n"
   ]
  },
  {
   "cell_type": "code",
   "execution_count": null,
   "metadata": {
    "tags": [
     "hide"
    ]
   },
   "outputs": [],
   "source": [
    "plt.figure(figsize=(15, 10))\n",
    "\n",
    "plt.contourf(di, origin=\"lower\", extent=extent,\n",
    "             levels=np.arange(12, 18, 0.2),\n",
    "            )\n",
    "plt.contour(di, origin=\"lower\", extent=extent,\n",
    "            levels=np.arange(12, 18, 0.2),\n",
    "            linewidths=[1], colors=['k'], alpha=0.2\n",
    "           )\n",
    "plt.scatter(df.x, df.y, s=12, c='w')\n",
    "\n",
    "plt.show()"
   ]
  },
  {
   "cell_type": "markdown",
   "metadata": {},
   "source": [
    "## Interpolation with `scipy.griddata()`"
   ]
  },
  {
   "cell_type": "markdown",
   "metadata": {},
   "source": [
    "The `Rbf()` interpolator is the one to know about, because it has lots of useful parameters. It's probably the only one you need to know. But there is also `scipy.griddata()`. For example see [this SciPy recipe](https://docs.scipy.org/doc/scipy-0.14.0/reference/generated/scipy.interpolate.griddata.html).\n",
    "\n",
    "The interface is slightly different &mdash; we have to pass a single array of the coordinates (the (x, y) locations of the points we know). We also pass the values to interpolate, and the grids.\n",
    "\n",
    "The function will not accept Pandas `Series` objects, so we'll use the `Series.values` attribute to get at the NumPy array representation.\n",
    "\n",
    "First, let's make the 2D array of coordinates:"
   ]
  },
  {
   "cell_type": "code",
   "execution_count": 78,
   "metadata": {},
   "outputs": [],
   "source": [
    "points = df[['x', 'y']].values"
   ]
  },
  {
   "cell_type": "markdown",
   "metadata": {},
   "source": [
    "The gridding step is easy. We'll try three different algorithms:"
   ]
  },
  {
   "cell_type": "code",
   "execution_count": 82,
   "metadata": {},
   "outputs": [],
   "source": [
    "from scipy.interpolate import griddata\n",
    "\n",
    "grid_z0 = griddata(points, df.por.values, grid.T, method='nearest')\n",
    "grid_z1 = griddata(points, df.por.values, grid.T, method='linear')\n",
    "grid_z2 = griddata(points, df.por.values, grid.T, method='cubic')"
   ]
  },
  {
   "cell_type": "markdown",
   "metadata": {},
   "source": [
    "Inspect the results."
   ]
  },
  {
   "cell_type": "code",
   "execution_count": 83,
   "metadata": {},
   "outputs": [
    {
     "data": {
      "image/png": "[encoded data removed]",
      "text/plain": [
       "<Figure size 1080x360 with 3 Axes>"
      ]
     },
     "metadata": {
      "needs_background": "light"
     },
     "output_type": "display_data"
    }
   ],
   "source": [
    "fig, axs = plt.subplots(ncols=3, figsize=(15, 5))\n",
    "\n",
    "ax = axs[0]\n",
    "ax.imshow(grid_z0, origin='lower', extent=extent)\n",
    "ax.scatter(df.x, df.y, s=2, c='w')\n",
    "ax.set_title('Nearest')\n",
    "\n",
    "ax = axs[1]\n",
    "ax.imshow(grid_z1, origin='lower', extent=extent)\n",
    "ax.scatter(df.x, df.y, s=2, c='w')\n",
    "ax.set_title('Linear')\n",
    "\n",
    "ax = axs[2]\n",
    "ax.imshow(grid_z2, origin='lower', extent=extent)\n",
    "ax.scatter(df.x, df.y, s=2, c='w')\n",
    "ax.set_title('Cubic')\n",
    "\n",
    "plt.show()"
   ]
  },
  {
   "cell_type": "markdown",
   "metadata": {},
   "source": [
    "I don't particularly like any of these results."
   ]
  },
  {
   "cell_type": "markdown",
   "metadata": {},
   "source": [
    "## Using `sklearn.gaussian_process`"
   ]
  },
  {
   "cell_type": "markdown",
   "metadata": {},
   "source": [
    "Modeling with a Gaussian process is equivalent to kriging. Conveniently, the popular machine learning library `scikit-learn` has a Gaussian process modeling tool."
   ]
  },
  {
   "cell_type": "code",
   "execution_count": null,
   "metadata": {},
   "outputs": [],
   "source": [
    "from sklearn.gaussian_process.kernels import RBF\n",
    "\n",
    "kernel = RBF(length_scale=1000)"
   ]
  },
  {
   "cell_type": "markdown",
   "metadata": {},
   "source": [
    "The main hyperparameters are the kernel, which we just defined, and `alpha`, which controls the smoothness. Larger values imply mmore noise in the input data, and result in smoother grids; default is very small: 1 &times; 10<sup>-9</sup>."
   ]
  },
  {
   "cell_type": "code",
   "execution_count": null,
   "metadata": {},
   "outputs": [],
   "source": [
    "from sklearn.gaussian_process import GaussianProcessRegressor\n",
    "\n",
    "gp = GaussianProcessRegressor(normalize_y=True,\n",
    "                              alpha=0.1,  # Larger values imply more noise in the input data.\n",
    "                              kernel=kernel,)\n",
    "\n",
    "gp.fit(df[['x', 'y']].values, df.por.values)"
   ]
  },
  {
   "cell_type": "markdown",
   "metadata": {},
   "source": [
    "To make a prediction, we need to construct the X matrix: (x, y) coordinates in 2 columns:"
   ]
  },
  {
   "cell_type": "code",
   "execution_count": null,
   "metadata": {},
   "outputs": [],
   "source": [
    "X_grid = np.stack([grid_x.ravel(), grid_y.ravel()]).T"
   ]
  },
  {
   "cell_type": "markdown",
   "metadata": {},
   "source": [
    "Now we can make a prediction:"
   ]
  },
  {
   "cell_type": "code",
   "execution_count": null,
   "metadata": {},
   "outputs": [],
   "source": [
    "y_grid = gp.predict(X_grid).reshape(grid_x.shape)"
   ]
  },
  {
   "cell_type": "markdown",
   "metadata": {},
   "source": [
    "And plot the predicted grid with the input data using the same colourmap:"
   ]
  },
  {
   "cell_type": "code",
   "execution_count": null,
   "metadata": {},
   "outputs": [],
   "source": [
    "# Compute min and max of all the data:\n",
    "mi = np.min(np.hstack([y_grid.ravel(), df.por.values]))\n",
    "ma = np.max(np.hstack([y_grid.ravel(), df.por.values]))\n",
    "\n",
    "# Plot it all.\n",
    "plt.figure(figsize=(15,15))\n",
    "im = plt.imshow(y_grid, origin='lower', extent=extent, vmin=mi, vmax=ma)\n",
    "pts = plt.scatter(df.x, df.y, c=df.por, s=80, edgecolor='#ffffff66', vmin=mi, vmax=ma)\n",
    "plt.colorbar(im, shrink=0.67)\n",
    "plt.show()"
   ]
  },
  {
   "cell_type": "markdown",
   "metadata": {},
   "source": [
    "As before, we can compute the error by making a prediction on the original (x, y) values and comparing to the actual measured porosities at those locations:"
   ]
  },
  {
   "cell_type": "code",
   "execution_count": null,
   "metadata": {},
   "outputs": [],
   "source": [
    "por_hat = gp.predict(df[['x', 'y']].values)\n",
    "\n",
    "sns.distplot(por_hat - df.por)"
   ]
  },
  {
   "cell_type": "code",
   "execution_count": null,
   "metadata": {},
   "outputs": [],
   "source": [
    "df['por_Rbf'] = rbfi(df.x, df.y)\n",
    "df['por_GP'] = gp.predict(df[['x', 'y']].values)\n",
    "\n",
    "sns.distplot(df['por_Rbf'] - df.por)\n",
    "sns.distplot(df['por_GP'] - df.por)"
   ]
  },
  {
   "cell_type": "markdown",
   "metadata": {
    "tags": [
     "exercise"
    ]
   },
   "source": [
    "### EXERCISE\n",
    "\n",
    "Try some other regressors in `scikit-learn`. Look at the maps they produce, and check their residuals. (You might want to write a loop to check several models.)\n",
    "\n",
    "Which regressors produce the best maps? "
   ]
  },
  {
   "cell_type": "code",
   "execution_count": null,
   "metadata": {},
   "outputs": [],
   "source": [
    "# YOUR CODE HERE\n",
    "\n"
   ]
  },
  {
   "cell_type": "code",
   "execution_count": null,
   "metadata": {
    "tags": [
     "hide"
    ]
   },
   "outputs": [],
   "source": [
    "from sklearn.linear_model import LinearRegression\n",
    "from sklearn.ensemble import RandomForestRegressor\n",
    "from sklearn.neural_network import MLPRegressor\n",
    "from sklearn.neighbors import KNeighborsRegressor\n",
    "from sklearn.svm import SVR\n",
    "\n",
    "models =  {\n",
    "    'Gauss': GaussianProcessRegressor(normalize_y=True, alpha=0.1, kernel=kernel),\n",
    "    'LinReg': LinearRegression(),\n",
    "    'KNN': KNeighborsRegressor(n_neighbors=5, weights='distance'),\n",
    "    'RForest': RandomForestRegressor(),\n",
    "    'SVM': SVR(),\n",
    "    'NNet': MLPRegressor(hidden_layer_sizes=[100, 100, 100,]),\n",
    "}\n",
    "\n",
    "fig, axs = plt.subplots(ncols=3, nrows=2, figsize=(15, 10))\n",
    "\n",
    "for (model, regr), ax in zip(models.items(), axs.ravel()):\n",
    "    regr.fit(df[['x', 'y']].values, df.por.values)\n",
    "    y_grid = regr.predict(X_grid).reshape(grid_x.shape)\n",
    "    \n",
    "    mi = np.min(np.hstack([y_grid.ravel(), df.por.values]))\n",
    "    ma = np.max(np.hstack([y_grid.ravel(), df.por.values]))\n",
    "\n",
    "    im = ax.imshow(y_grid, origin='lower', extent=extent, vmin=mi, vmax=ma)\n",
    "    pts = ax.scatter(df.x, df.y, c=df.por, s=80, edgecolor='#ffffff66', vmin=mi, vmax=ma)\n",
    "    ax.set_title(model)\n",
    "\n",
    "plt.show()"
   ]
  },
  {
   "cell_type": "markdown",
   "metadata": {},
   "source": [
    "----\n",
    "\n",
    "## Using `verde.Spline`"
   ]
  },
  {
   "cell_type": "markdown",
   "metadata": {},
   "source": [
    "One of the options in scipy's `Rbf` interpolator is the \"thin-plate\" kernel. This is what the `verde.Spline` interpolator is based on but with a few modifications, like damping regularization to smooth the solution. It's similar to the `RBF` and `GaussianProcessRegressor` approach but Verde provides a more convenient API for gridding tasks.\n",
    "\n",
    "For example, we now have a nicer way to define `extent`, using `vd.pad_region()`:"
   ]
  },
  {
   "cell_type": "code",
   "execution_count": null,
   "metadata": {},
   "outputs": [],
   "source": [
    "import verde as vd\n",
    "\n",
    "extent = x_min, x_max, y_min, y_max = vd.pad_region(vd.get_region((df.x, df.y)), pad=1000)"
   ]
  },
  {
   "cell_type": "code",
   "execution_count": null,
   "metadata": {},
   "outputs": [],
   "source": [
    "spline = vd.Spline(mindist=2000, damping=1e-4)\n",
    "\n",
    "spline.fit((df.x, df.y), df.por)"
   ]
  },
  {
   "cell_type": "markdown",
   "metadata": {},
   "source": [
    "To make a grid, use the `.grid` method of the spline:"
   ]
  },
  {
   "cell_type": "code",
   "execution_count": null,
   "metadata": {},
   "outputs": [],
   "source": [
    "grid = spline.grid(region=extent, spacing=500)\n",
    "grid"
   ]
  },
  {
   "cell_type": "markdown",
   "metadata": {},
   "source": [
    "This returns an [`xarray.Dataset`](http://xarray.pydata.org/en/stable/generated/xarray.Dataset.html#xarray.Dataset) which can be easily plotted, saved to disk as netCDF, or used for computations. The coordinates for the grid are automatically generated and populated based on the desired region and spacing. The spacing is adjusted to fit the desired region exactly. Optionally, you can set `adjust=\"region\"` to adjust the size of the region so that the spacing is exact."
   ]
  },
  {
   "cell_type": "markdown",
   "metadata": {},
   "source": [
    "And plot the predicted grid with the input data using the same colourmap:"
   ]
  },
  {
   "cell_type": "code",
   "execution_count": null,
   "metadata": {},
   "outputs": [],
   "source": [
    "# Compute min and max of all the data:\n",
    "mi = np.min(np.hstack([grid.scalars.values.ravel(), df.por.values]))\n",
    "ma = np.max(np.hstack([grid.scalars.values.ravel(), df.por.values]))\n",
    "\n",
    "# Plot it all.\n",
    "plt.figure(figsize=(15,15))\n",
    "im = plt.imshow(grid.scalars, origin='lower', extent=extent, vmin=mi, vmax=ma)\n",
    "pts = plt.scatter(df.x, df.y, c=df.por, s=80, edgecolor='#ffffff66', vmin=mi, vmax=ma)\n",
    "plt.colorbar(im, shrink=0.67)\n",
    "plt.show()"
   ]
  },
  {
   "cell_type": "markdown",
   "metadata": {},
   "source": [
    "As before, we can compute the error by making a prediction on the original (x, y) values and comparing to the actual measured porosities at those locations:"
   ]
  },
  {
   "cell_type": "code",
   "execution_count": null,
   "metadata": {},
   "outputs": [],
   "source": [
    "por_hat = spline.predict((df.x, df.y))\n",
    "\n",
    "sns.distplot(por_hat - df.por)"
   ]
  },
  {
   "cell_type": "markdown",
   "metadata": {},
   "source": [
    "Having an `xarray` is very convenient because these objects are easy to save out in HDF5 or netCDF format, and will play nicely with `segysak` (for example). \n",
    "\n",
    "They also make it easier to do things like get profiles out of the map. Indeed, Verde makes this easier still:"
   ]
  },
  {
   "cell_type": "code",
   "execution_count": null,
   "metadata": {},
   "outputs": [],
   "source": [
    "prof = spline.profile(point1=(0, 0), point2=(20_000, 16_000), size=200)\n",
    "prof.head()"
   ]
  },
  {
   "cell_type": "code",
   "execution_count": null,
   "metadata": {},
   "outputs": [],
   "source": [
    "plt.plot(prof.distance, prof.scalars)"
   ]
  },
  {
   "cell_type": "code",
   "execution_count": null,
   "metadata": {},
   "outputs": [],
   "source": [
    "fig, axs = plt.subplots(ncols=2, figsize=(15,6))\n",
    "\n",
    "ax = axs[0]\n",
    "ax.imshow(grid.scalars, origin='lower', extent=extent, vmin=mi, vmax=ma)\n",
    "ax.scatter(df.x, df.y, c=df.por, s=80, edgecolor='#ffffff66', vmin=mi, vmax=ma)\n",
    "ax.plot([0, 20_000], [0, 16_000], c='r', lw=3)\n",
    "\n",
    "ax = axs[1]\n",
    "ax.plot(prof.distance, prof.scalars, \"r-\", lw=2)\n",
    "\n",
    "plt.show()"
   ]
  },
  {
   "cell_type": "markdown",
   "metadata": {},
   "source": [
    "## Another `verde` example\n",
    "\n",
    "This uses another dataset that Verde can download: [the Baja California bathymetry data](https://www.fatiando.org/verde/v1.0.0/sample_data/baja_bathymetry.html#sphx-glr-sample-data-baja-bathymetry-py)."
   ]
  },
  {
   "cell_type": "code",
   "execution_count": null,
   "metadata": {},
   "outputs": [],
   "source": [
    "import verde as vd\n",
    "\n",
    "data = vd.datasets.fetch_baja_bathymetry()\n",
    "\n",
    "data.head()"
   ]
  },
  {
   "cell_type": "code",
   "execution_count": null,
   "metadata": {},
   "outputs": [],
   "source": [
    "%matplotlib inline\n",
    "import matplotlib.pyplot as plt\n",
    "import cartopy.crs as ccrs\n",
    "\n",
    "plt.figure(figsize=(9, 8))\n",
    "\n",
    "ax = plt.axes(projection=ccrs.Mercator())\n",
    "\n",
    "# Cartopy requires setting the projection of the original data through\n",
    "# the transform argument. Use PlateCarree for geographic data.\n",
    "plt.scatter(\n",
    "    data.longitude,\n",
    "    data.latitude,\n",
    "    c=data.bathymetry_m,\n",
    "    s=0.1,\n",
    "    transform=ccrs.PlateCarree(),\n",
    ")\n",
    "plt.colorbar().set_label(\"meters\")\n",
    "ax.set_title(\"Bathymetry from Baja California\")\n",
    "\n",
    "# Use an utility function to add tick labels and land and ocean features to the map.\n",
    "vd.datasets.setup_baja_bathymetry_map(ax)\n",
    "\n",
    "plt.tight_layout()\n",
    "plt.show()"
   ]
  },
  {
   "cell_type": "code",
   "execution_count": null,
   "metadata": {},
   "outputs": [],
   "source": [
    "import pyproj\n",
    "\n",
    "# We're choosing the latitude of true scale as the mean latitude of our dataset.\n",
    "projection = pyproj.Proj(proj=\"merc\", lat_ts=data.latitude.mean())"
   ]
  },
  {
   "cell_type": "code",
   "execution_count": null,
   "metadata": {},
   "outputs": [],
   "source": [
    "# pyproj doesn't play well with Pandas so we need to convert to numpy arrays\n",
    "proj_coords = projection(data.longitude.values, data.latitude.values)\n",
    "proj_coords"
   ]
  },
  {
   "cell_type": "markdown",
   "metadata": {},
   "source": [
    "### Cartesian grid using `BlockReduce`"
   ]
  },
  {
   "cell_type": "code",
   "execution_count": null,
   "metadata": {},
   "outputs": [],
   "source": [
    "spacing = 10 / 60\n",
    "reducer = vd.BlockReduce(np.median, spacing=spacing * 111e3)\n",
    "filter_coords, filter_bathy = reducer.filter(proj_coords, data.bathymetry_m)\n",
    "spline = vd.Spline().fit(filter_coords, filter_bathy)\n",
    "\n",
    "grid = spline.grid(spacing=spacing * 111e3, data_names=[\"bathymetry\"])\n",
    "\n",
    "grid"
   ]
  },
  {
   "cell_type": "code",
   "execution_count": null,
   "metadata": {},
   "outputs": [],
   "source": [
    "grid = vd.distance_mask(proj_coords, maxdist=30e3, grid=grid)\n",
    "\n",
    "plt.figure(figsize=(7, 6))\n",
    "plt.title(\"Gridded bathymetry in Cartesian coordinates\")\n",
    "plt.pcolormesh(grid.easting, grid.northing, grid.bathymetry, cmap=\"viridis\", vmax=0)\n",
    "plt.colorbar().set_label(\"bathymetry (m)\")\n",
    "plt.plot(filter_coords[0], filter_coords[1], \".k\", markersize=0.5)\n",
    "plt.xlabel(\"Easting (m)\")\n",
    "plt.ylabel(\"Northing (m)\")\n",
    "plt.gca().set_aspect(\"equal\")\n",
    "plt.tight_layout()\n",
    "plt.show()"
   ]
  },
  {
   "cell_type": "markdown",
   "metadata": {},
   "source": [
    "See [the Verde documentation](https://www.fatiando.org/verde/v1.0.0/tutorials/projections.html#geographic-grids) for an example of creating a geographic (as opposed to Catesian) grid.\n",
    "\n",
    "You can also see [how to grid this dataset using SciPy](https://www.fatiando.org/verde/v1.0.0/gallery/scipygridder.html#sphx-glr-gallery-scipygridder-py) via Verde's improved interface."
   ]
  },
  {
   "cell_type": "markdown",
   "metadata": {},
   "source": [
    "----\n",
    "\n",
    "<center>&copy; 2020 Agile Scientific, licensed CC-BY</center>"
   ]
  }
 ],
 "metadata": {
  "celltoolbar": "Tags",
  "kernelspec": {
   "display_name": "geoml",
   "language": "python",
   "name": "geoml"
  },
  "language_info": {
   "codemirror_mode": {
    "name": "ipython",
    "version": 3
   },
   "file_extension": ".py",
   "mimetype": "text/x-python",
   "name": "python",
   "nbconvert_exporter": "python",
   "pygments_lexer": "ipython3",
   "version": "3.9.7"
  }
 },
 "nbformat": 4,
 "nbformat_minor": 2
}
