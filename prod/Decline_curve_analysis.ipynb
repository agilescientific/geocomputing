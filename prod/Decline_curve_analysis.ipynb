{
 "cells": [
  {
   "cell_type": "markdown",
   "metadata": {
    "colab_type": "text",
    "id": "SotodcnM5XV7"
   },
   "source": [
    "# Decline curve analysis\n",
    "\n",
    "We'll look at fitting a decline curve to production data. I'm using information from two sources:\n",
    "\n",
    "- [SPE Wiki](https://petrowiki.spe.org/Production_forecasting_decline_curve_analysis), wich is content from the Petroelum Engineering Handbook, but which was unfortunately badly converted from the print edition.\n",
    "- [This tutorial](https://www.cedengineering.com/userfiles/Forecasting%20Oil%20and%20Gas%20Using%20Decline%20Curves.pdf) from John Weaver for CED Engineering.\n",
    "\n",
    "In particular, we're going to implement the Arps general decline curve equation, and fit its parameter $b$ to some data from an oil field in Norway.\n",
    "\n",
    "First we'll need some data. Normally you'd use decline curve analysis on data from individual wells, but I'm going to use data from entire fields. This is probably a terrible idea, but maybe we can just think of it as 'average well performance'... notwithstanding that there is probably more than just primary production going on in our examples.\n",
    "\n",
    "Pandas is very useful for handling time series, so we'll use that to wrangle some data out of the 23,000+ rows in the dataset."
   ]
  },
  {
   "cell_type": "markdown",
   "metadata": {
    "colab_type": "text",
    "id": "GuHK_ikz5XV-"
   },
   "source": [
    "## Use pandas to load CSV\n",
    "\n",
    "I copied the URL for this CSV from this link:\n",
    "\n",
    "http://factpages.npd.no/factpages/Default.aspx?culture=nb-no&nav1=field&nav2=TableView|Production|Saleable|Monthly\n",
    "\n",
    "This file is saved at `https://geocomp.s3.amazonaws.com/data/Norway_field_production_monthly.csv` as well, in case the link breaks."
   ]
  },
  {
   "cell_type": "code",
   "execution_count": 1,
   "metadata": {
    "colab": {},
    "colab_type": "code",
    "id": "E9jRc80g5XWB"
   },
   "outputs": [],
   "source": [
    "csv = \"https://factpages.npd.no/ReportServer_npdpublic?/FactPages/TableView/field_production_monthly&rs:Command=Render&rc:Toolbar=false&rc:Parameters=f&rs:Format=CSV&Top100=false&IpAddress=165.225.35.29&CultureCode=nb-no\""
   ]
  },
  {
   "cell_type": "code",
   "execution_count": 2,
   "metadata": {
    "colab": {},
    "colab_type": "code",
    "id": "TSrVvUKa5XWK"
   },
   "outputs": [],
   "source": [
    "import pandas as pd\n",
    "\n",
    "df = pd.read_csv(csv)"
   ]
  },
  {
   "cell_type": "code",
   "execution_count": 3,
   "metadata": {
    "colab": {
     "base_uri": "https://localhost:8080/",
     "height": 222
    },
    "colab_type": "code",
    "executionInfo": {
     "elapsed": 504,
     "status": "ok",
     "timestamp": 1560165249751,
     "user": {
      "displayName": "Matt Hall",
      "photoUrl": "https://lh5.googleusercontent.com/-wc2cQrA5f94/AAAAAAAAAAI/AAAAAAAAhtI/-p0Ej-pd3c8/s64/photo.jpg",
      "userId": "10999355236974656427"
     },
     "user_tz": -120
    },
    "id": "YCiGwIiD5XWR",
    "outputId": "4549f0e7-b247-40e0-eafb-f17a785c85a6"
   },
   "outputs": [
    {
     "data": {
      "text/html": [
       "<div>\n",
       "<style scoped>\n",
       "    .dataframe tbody tr th:only-of-type {\n",
       "        vertical-align: middle;\n",
       "    }\n",
       "\n",
       "    .dataframe tbody tr th {\n",
       "        vertical-align: top;\n",
       "    }\n",
       "\n",
       "    .dataframe thead th {\n",
       "        text-align: right;\n",
       "    }\n",
       "</style>\n",
       "<table border=\"1\" class=\"dataframe\">\n",
       "  <thead>\n",
       "    <tr style=\"text-align: right;\">\n",
       "      <th></th>\n",
       "      <th>prfInformationCarrier</th>\n",
       "      <th>prfYear</th>\n",
       "      <th>prfMonth</th>\n",
       "      <th>prfPrdOilNetMillSm3</th>\n",
       "      <th>prfPrdGasNetBillSm3</th>\n",
       "      <th>prfPrdNGLNetMillSm3</th>\n",
       "      <th>prfPrdCondensateNetMillSm3</th>\n",
       "      <th>prfPrdOeNetMillSm3</th>\n",
       "      <th>prfPrdProducedWaterInFieldMillSm3</th>\n",
       "      <th>prfNpdidInformationCarrier</th>\n",
       "    </tr>\n",
       "  </thead>\n",
       "  <tbody>\n",
       "    <tr>\n",
       "      <th>0</th>\n",
       "      <td>16/1-12 (Rolvsnes)</td>\n",
       "      <td>2021</td>\n",
       "      <td>8</td>\n",
       "      <td>0.00653</td>\n",
       "      <td>0.0</td>\n",
       "      <td>0.0</td>\n",
       "      <td>0.0</td>\n",
       "      <td>0.00653</td>\n",
       "      <td>0.00291</td>\n",
       "      <td>17196400</td>\n",
       "    </tr>\n",
       "    <tr>\n",
       "      <th>1</th>\n",
       "      <td>16/1-12 (Rolvsnes)</td>\n",
       "      <td>2021</td>\n",
       "      <td>9</td>\n",
       "      <td>0.01053</td>\n",
       "      <td>0.0</td>\n",
       "      <td>0.0</td>\n",
       "      <td>0.0</td>\n",
       "      <td>0.01053</td>\n",
       "      <td>0.00719</td>\n",
       "      <td>17196400</td>\n",
       "    </tr>\n",
       "    <tr>\n",
       "      <th>2</th>\n",
       "      <td>16/1-12 (Rolvsnes)</td>\n",
       "      <td>2021</td>\n",
       "      <td>10</td>\n",
       "      <td>0.01238</td>\n",
       "      <td>0.0</td>\n",
       "      <td>0.0</td>\n",
       "      <td>0.0</td>\n",
       "      <td>0.01238</td>\n",
       "      <td>0.00912</td>\n",
       "      <td>17196400</td>\n",
       "    </tr>\n",
       "    <tr>\n",
       "      <th>3</th>\n",
       "      <td>16/1-12 (Rolvsnes)</td>\n",
       "      <td>2021</td>\n",
       "      <td>11</td>\n",
       "      <td>0.01298</td>\n",
       "      <td>0.0</td>\n",
       "      <td>0.0</td>\n",
       "      <td>0.0</td>\n",
       "      <td>0.01298</td>\n",
       "      <td>0.01186</td>\n",
       "      <td>17196400</td>\n",
       "    </tr>\n",
       "    <tr>\n",
       "      <th>4</th>\n",
       "      <td>16/1-12 (Rolvsnes)</td>\n",
       "      <td>2021</td>\n",
       "      <td>12</td>\n",
       "      <td>0.00461</td>\n",
       "      <td>0.0</td>\n",
       "      <td>0.0</td>\n",
       "      <td>0.0</td>\n",
       "      <td>0.00461</td>\n",
       "      <td>0.00418</td>\n",
       "      <td>17196400</td>\n",
       "    </tr>\n",
       "  </tbody>\n",
       "</table>\n",
       "</div>"
      ],
      "text/plain": [
       "  prfInformationCarrier  prfYear  prfMonth  prfPrdOilNetMillSm3  \\\n",
       "0    16/1-12 (Rolvsnes)     2021         8              0.00653   \n",
       "1    16/1-12 (Rolvsnes)     2021         9              0.01053   \n",
       "2    16/1-12 (Rolvsnes)     2021        10              0.01238   \n",
       "3    16/1-12 (Rolvsnes)     2021        11              0.01298   \n",
       "4    16/1-12 (Rolvsnes)     2021        12              0.00461   \n",
       "\n",
       "   prfPrdGasNetBillSm3  prfPrdNGLNetMillSm3  prfPrdCondensateNetMillSm3  \\\n",
       "0                  0.0                  0.0                         0.0   \n",
       "1                  0.0                  0.0                         0.0   \n",
       "2                  0.0                  0.0                         0.0   \n",
       "3                  0.0                  0.0                         0.0   \n",
       "4                  0.0                  0.0                         0.0   \n",
       "\n",
       "   prfPrdOeNetMillSm3  prfPrdProducedWaterInFieldMillSm3  \\\n",
       "0             0.00653                            0.00291   \n",
       "1             0.01053                            0.00719   \n",
       "2             0.01238                            0.00912   \n",
       "3             0.01298                            0.01186   \n",
       "4             0.00461                            0.00418   \n",
       "\n",
       "   prfNpdidInformationCarrier  \n",
       "0                    17196400  \n",
       "1                    17196400  \n",
       "2                    17196400  \n",
       "3                    17196400  \n",
       "4                    17196400  "
      ]
     },
     "execution_count": 3,
     "metadata": {},
     "output_type": "execute_result"
    }
   ],
   "source": [
    "df.head()"
   ]
  },
  {
   "cell_type": "markdown",
   "metadata": {
    "tags": [
     "exercise"
    ]
   },
   "source": [
    "### Exercise\n",
    "\n",
    "- How many rows are there in this dataframe?\n",
    "- How many fields are represented? (Look at the column called `'prfInformationCarrier'`)\n",
    "- How many years of data are there?\n",
    "- What is the total production? (Look at the column called `'prfPrdOeNetMillSm3'`)"
   ]
  },
  {
   "cell_type": "code",
   "execution_count": 4,
   "metadata": {},
   "outputs": [],
   "source": [
    "# YOUR CODE HERE\n",
    "\n"
   ]
  },
  {
   "cell_type": "code",
   "execution_count": 5,
   "metadata": {
    "colab": {
     "base_uri": "https://localhost:8080/",
     "height": 35
    },
    "colab_type": "code",
    "executionInfo": {
     "elapsed": 838,
     "status": "ok",
     "timestamp": 1560165251376,
     "user": {
      "displayName": "Matt Hall",
      "photoUrl": "https://lh5.googleusercontent.com/-wc2cQrA5f94/AAAAAAAAAAI/AAAAAAAAhtI/-p0Ej-pd3c8/s64/photo.jpg",
      "userId": "10999355236974656427"
     },
     "user_tz": -120
    },
    "id": "Cka6DXa95XWd",
    "outputId": "8533f839-3ce1-4657-c0b5-ca128c80e2d4",
    "tags": [
     "hide"
    ]
   },
   "outputs": [
    {
     "data": {
      "text/plain": [
       "23222"
      ]
     },
     "execution_count": 5,
     "metadata": {},
     "output_type": "execute_result"
    }
   ],
   "source": [
    "len(df)"
   ]
  },
  {
   "cell_type": "code",
   "execution_count": 6,
   "metadata": {
    "tags": [
     "hide"
    ]
   },
   "outputs": [
    {
     "data": {
      "text/html": [
       "<div>\n",
       "<style scoped>\n",
       "    .dataframe tbody tr th:only-of-type {\n",
       "        vertical-align: middle;\n",
       "    }\n",
       "\n",
       "    .dataframe tbody tr th {\n",
       "        vertical-align: top;\n",
       "    }\n",
       "\n",
       "    .dataframe thead th {\n",
       "        text-align: right;\n",
       "    }\n",
       "</style>\n",
       "<table border=\"1\" class=\"dataframe\">\n",
       "  <thead>\n",
       "    <tr style=\"text-align: right;\">\n",
       "      <th></th>\n",
       "      <th>prfYear</th>\n",
       "      <th>prfMonth</th>\n",
       "      <th>prfPrdOilNetMillSm3</th>\n",
       "      <th>prfPrdGasNetBillSm3</th>\n",
       "      <th>prfPrdNGLNetMillSm3</th>\n",
       "      <th>prfPrdCondensateNetMillSm3</th>\n",
       "      <th>prfPrdOeNetMillSm3</th>\n",
       "      <th>prfPrdProducedWaterInFieldMillSm3</th>\n",
       "      <th>prfNpdidInformationCarrier</th>\n",
       "    </tr>\n",
       "  </thead>\n",
       "  <tbody>\n",
       "    <tr>\n",
       "      <th>count</th>\n",
       "      <td>23222.000000</td>\n",
       "      <td>23222.000000</td>\n",
       "      <td>23222.000000</td>\n",
       "      <td>23222.000000</td>\n",
       "      <td>23222.000000</td>\n",
       "      <td>23222.000000</td>\n",
       "      <td>23222.000000</td>\n",
       "      <td>23222.000000</td>\n",
       "      <td>2.322200e+04</td>\n",
       "    </tr>\n",
       "    <tr>\n",
       "      <th>mean</th>\n",
       "      <td>2007.376066</td>\n",
       "      <td>6.489019</td>\n",
       "      <td>0.200486</td>\n",
       "      <td>0.121110</td>\n",
       "      <td>0.019687</td>\n",
       "      <td>0.005291</td>\n",
       "      <td>0.346574</td>\n",
       "      <td>0.157157</td>\n",
       "      <td>2.884377e+06</td>\n",
       "    </tr>\n",
       "    <tr>\n",
       "      <th>std</th>\n",
       "      <td>10.782887</td>\n",
       "      <td>3.469063</td>\n",
       "      <td>0.387877</td>\n",
       "      <td>0.348257</td>\n",
       "      <td>0.043695</td>\n",
       "      <td>0.028137</td>\n",
       "      <td>0.593467</td>\n",
       "      <td>0.384084</td>\n",
       "      <td>6.670064e+06</td>\n",
       "    </tr>\n",
       "    <tr>\n",
       "      <th>min</th>\n",
       "      <td>1971.000000</td>\n",
       "      <td>1.000000</td>\n",
       "      <td>-0.037570</td>\n",
       "      <td>-0.103860</td>\n",
       "      <td>-0.020290</td>\n",
       "      <td>-0.008240</td>\n",
       "      <td>-0.037570</td>\n",
       "      <td>-0.002980</td>\n",
       "      <td>4.343700e+04</td>\n",
       "    </tr>\n",
       "    <tr>\n",
       "      <th>25%</th>\n",
       "      <td>2000.000000</td>\n",
       "      <td>3.000000</td>\n",
       "      <td>0.007700</td>\n",
       "      <td>0.000000</td>\n",
       "      <td>0.000000</td>\n",
       "      <td>0.000000</td>\n",
       "      <td>0.031530</td>\n",
       "      <td>0.000000</td>\n",
       "      <td>4.356800e+04</td>\n",
       "    </tr>\n",
       "    <tr>\n",
       "      <th>50%</th>\n",
       "      <td>2010.000000</td>\n",
       "      <td>6.000000</td>\n",
       "      <td>0.052010</td>\n",
       "      <td>0.014350</td>\n",
       "      <td>0.001810</td>\n",
       "      <td>0.000000</td>\n",
       "      <td>0.131320</td>\n",
       "      <td>0.005140</td>\n",
       "      <td>4.373200e+04</td>\n",
       "    </tr>\n",
       "    <tr>\n",
       "      <th>75%</th>\n",
       "      <td>2016.000000</td>\n",
       "      <td>10.000000</td>\n",
       "      <td>0.222357</td>\n",
       "      <td>0.081297</td>\n",
       "      <td>0.018060</td>\n",
       "      <td>0.000000</td>\n",
       "      <td>0.390792</td>\n",
       "      <td>0.124895</td>\n",
       "      <td>1.854729e+06</td>\n",
       "    </tr>\n",
       "    <tr>\n",
       "      <th>max</th>\n",
       "      <td>2022.000000</td>\n",
       "      <td>12.000000</td>\n",
       "      <td>3.453530</td>\n",
       "      <td>3.743890</td>\n",
       "      <td>0.458810</td>\n",
       "      <td>0.462690</td>\n",
       "      <td>4.990650</td>\n",
       "      <td>3.651950</td>\n",
       "      <td>3.854224e+07</td>\n",
       "    </tr>\n",
       "  </tbody>\n",
       "</table>\n",
       "</div>"
      ],
      "text/plain": [
       "            prfYear      prfMonth  prfPrdOilNetMillSm3  prfPrdGasNetBillSm3  \\\n",
       "count  23222.000000  23222.000000         23222.000000         23222.000000   \n",
       "mean    2007.376066      6.489019             0.200486             0.121110   \n",
       "std       10.782887      3.469063             0.387877             0.348257   \n",
       "min     1971.000000      1.000000            -0.037570            -0.103860   \n",
       "25%     2000.000000      3.000000             0.007700             0.000000   \n",
       "50%     2010.000000      6.000000             0.052010             0.014350   \n",
       "75%     2016.000000     10.000000             0.222357             0.081297   \n",
       "max     2022.000000     12.000000             3.453530             3.743890   \n",
       "\n",
       "       prfPrdNGLNetMillSm3  prfPrdCondensateNetMillSm3  prfPrdOeNetMillSm3  \\\n",
       "count         23222.000000                23222.000000        23222.000000   \n",
       "mean              0.019687                    0.005291            0.346574   \n",
       "std               0.043695                    0.028137            0.593467   \n",
       "min              -0.020290                   -0.008240           -0.037570   \n",
       "25%               0.000000                    0.000000            0.031530   \n",
       "50%               0.001810                    0.000000            0.131320   \n",
       "75%               0.018060                    0.000000            0.390792   \n",
       "max               0.458810                    0.462690            4.990650   \n",
       "\n",
       "       prfPrdProducedWaterInFieldMillSm3  prfNpdidInformationCarrier  \n",
       "count                       23222.000000                2.322200e+04  \n",
       "mean                            0.157157                2.884377e+06  \n",
       "std                             0.384084                6.670064e+06  \n",
       "min                            -0.002980                4.343700e+04  \n",
       "25%                             0.000000                4.356800e+04  \n",
       "50%                             0.005140                4.373200e+04  \n",
       "75%                             0.124895                1.854729e+06  \n",
       "max                             3.651950                3.854224e+07  "
      ]
     },
     "execution_count": 6,
     "metadata": {},
     "output_type": "execute_result"
    }
   ],
   "source": [
    "df.describe()"
   ]
  },
  {
   "cell_type": "code",
   "execution_count": 7,
   "metadata": {
    "tags": [
     "hide"
    ]
   },
   "outputs": [
    {
     "data": {
      "text/plain": [
       "122"
      ]
     },
     "execution_count": 7,
     "metadata": {},
     "output_type": "execute_result"
    }
   ],
   "source": [
    "df.prfInformationCarrier.unique().size"
   ]
  },
  {
   "cell_type": "code",
   "execution_count": 8,
   "metadata": {
    "tags": [
     "hide"
    ]
   },
   "outputs": [
    {
     "data": {
      "text/plain": [
       "8048.14092"
      ]
     },
     "execution_count": 8,
     "metadata": {},
     "output_type": "execute_result"
    }
   ],
   "source": [
    "df.prfPrdOeNetMillSm3.sum()"
   ]
  },
  {
   "cell_type": "markdown",
   "metadata": {
    "tags": [
     "exercise"
    ]
   },
   "source": [
    "### EXERCISE\n",
    "\n",
    "Make a column called **CondNetMillSm3** that is the sum of the condensate and NGL columns.\n",
    "\n",
    "Drop the redundant columns."
   ]
  },
  {
   "cell_type": "code",
   "execution_count": 9,
   "metadata": {},
   "outputs": [],
   "source": [
    "# YOUR CODE HERE\n",
    "\n"
   ]
  },
  {
   "cell_type": "code",
   "execution_count": 10,
   "metadata": {
    "tags": [
     "hide"
    ]
   },
   "outputs": [
    {
     "data": {
      "text/html": [
       "<div>\n",
       "<style scoped>\n",
       "    .dataframe tbody tr th:only-of-type {\n",
       "        vertical-align: middle;\n",
       "    }\n",
       "\n",
       "    .dataframe tbody tr th {\n",
       "        vertical-align: top;\n",
       "    }\n",
       "\n",
       "    .dataframe thead th {\n",
       "        text-align: right;\n",
       "    }\n",
       "</style>\n",
       "<table border=\"1\" class=\"dataframe\">\n",
       "  <thead>\n",
       "    <tr style=\"text-align: right;\">\n",
       "      <th></th>\n",
       "      <th>prfInformationCarrier</th>\n",
       "      <th>prfYear</th>\n",
       "      <th>prfMonth</th>\n",
       "      <th>prfPrdOilNetMillSm3</th>\n",
       "      <th>prfPrdGasNetBillSm3</th>\n",
       "      <th>prfPrdOeNetMillSm3</th>\n",
       "      <th>prfPrdProducedWaterInFieldMillSm3</th>\n",
       "      <th>prfNpdidInformationCarrier</th>\n",
       "      <th>calcCondNetMillSm3</th>\n",
       "    </tr>\n",
       "  </thead>\n",
       "  <tbody>\n",
       "    <tr>\n",
       "      <th>0</th>\n",
       "      <td>16/1-12 (Rolvsnes)</td>\n",
       "      <td>2021</td>\n",
       "      <td>8</td>\n",
       "      <td>0.00653</td>\n",
       "      <td>0.0</td>\n",
       "      <td>0.00653</td>\n",
       "      <td>0.00291</td>\n",
       "      <td>17196400</td>\n",
       "      <td>0.0</td>\n",
       "    </tr>\n",
       "    <tr>\n",
       "      <th>1</th>\n",
       "      <td>16/1-12 (Rolvsnes)</td>\n",
       "      <td>2021</td>\n",
       "      <td>9</td>\n",
       "      <td>0.01053</td>\n",
       "      <td>0.0</td>\n",
       "      <td>0.01053</td>\n",
       "      <td>0.00719</td>\n",
       "      <td>17196400</td>\n",
       "      <td>0.0</td>\n",
       "    </tr>\n",
       "    <tr>\n",
       "      <th>2</th>\n",
       "      <td>16/1-12 (Rolvsnes)</td>\n",
       "      <td>2021</td>\n",
       "      <td>10</td>\n",
       "      <td>0.01238</td>\n",
       "      <td>0.0</td>\n",
       "      <td>0.01238</td>\n",
       "      <td>0.00912</td>\n",
       "      <td>17196400</td>\n",
       "      <td>0.0</td>\n",
       "    </tr>\n",
       "    <tr>\n",
       "      <th>3</th>\n",
       "      <td>16/1-12 (Rolvsnes)</td>\n",
       "      <td>2021</td>\n",
       "      <td>11</td>\n",
       "      <td>0.01298</td>\n",
       "      <td>0.0</td>\n",
       "      <td>0.01298</td>\n",
       "      <td>0.01186</td>\n",
       "      <td>17196400</td>\n",
       "      <td>0.0</td>\n",
       "    </tr>\n",
       "    <tr>\n",
       "      <th>4</th>\n",
       "      <td>16/1-12 (Rolvsnes)</td>\n",
       "      <td>2021</td>\n",
       "      <td>12</td>\n",
       "      <td>0.00461</td>\n",
       "      <td>0.0</td>\n",
       "      <td>0.00461</td>\n",
       "      <td>0.00418</td>\n",
       "      <td>17196400</td>\n",
       "      <td>0.0</td>\n",
       "    </tr>\n",
       "  </tbody>\n",
       "</table>\n",
       "</div>"
      ],
      "text/plain": [
       "  prfInformationCarrier  prfYear  prfMonth  prfPrdOilNetMillSm3  \\\n",
       "0    16/1-12 (Rolvsnes)     2021         8              0.00653   \n",
       "1    16/1-12 (Rolvsnes)     2021         9              0.01053   \n",
       "2    16/1-12 (Rolvsnes)     2021        10              0.01238   \n",
       "3    16/1-12 (Rolvsnes)     2021        11              0.01298   \n",
       "4    16/1-12 (Rolvsnes)     2021        12              0.00461   \n",
       "\n",
       "   prfPrdGasNetBillSm3  prfPrdOeNetMillSm3  prfPrdProducedWaterInFieldMillSm3  \\\n",
       "0                  0.0             0.00653                            0.00291   \n",
       "1                  0.0             0.01053                            0.00719   \n",
       "2                  0.0             0.01238                            0.00912   \n",
       "3                  0.0             0.01298                            0.01186   \n",
       "4                  0.0             0.00461                            0.00418   \n",
       "\n",
       "   prfNpdidInformationCarrier  calcCondNetMillSm3  \n",
       "0                    17196400                 0.0  \n",
       "1                    17196400                 0.0  \n",
       "2                    17196400                 0.0  \n",
       "3                    17196400                 0.0  \n",
       "4                    17196400                 0.0  "
      ]
     },
     "execution_count": 10,
     "metadata": {},
     "output_type": "execute_result"
    }
   ],
   "source": [
    "condensate = ['prfPrdCondensateNetMillSm3', 'prfPrdNGLNetMillSm3']\n",
    "df['calcCondNetMillSm3'] = df[condensate].sum(axis=1)\n",
    "df = df.drop(columns=condensate)\n",
    "df.head()"
   ]
  },
  {
   "cell_type": "markdown",
   "metadata": {
    "colab_type": "text",
    "id": "35O6iE1B5XWu"
   },
   "source": [
    "## Add a datetime"
   ]
  },
  {
   "cell_type": "markdown",
   "metadata": {
    "colab_type": "text",
    "id": "f4TYPRo25XWw"
   },
   "source": [
    "We'd like to give this dataframe a **datetime** index with `pandas` datetimes. To do this easily, we need:\n",
    "\n",
    "- EITHER columns named like `'year'`, `'month'`, `'day'`\n",
    "- OR a column with a datetime string like `2019-06-30`.\n",
    "\n",
    "In this dataframe, we have the former, so let's work with that."
   ]
  },
  {
   "cell_type": "markdown",
   "metadata": {
    "tags": [
     "exercise"
    ]
   },
   "source": [
    "### Exercise\n",
    "\n",
    "- Make a Series for the date using a pattern like `df['prfYear'].astype(str) + '🐍'` (but don't add it to the dateframe yet).\n",
    "- Make a datetime column called `'date'` using `pd.to_datetime()`, passing in the Series you just made.\n",
    "- To turn the new column into an index, give its name to `df.set_index()`.\n",
    "- Finally, drop all the redundant date-related columns.\n",
    "\n",
    "You should end up with a new dataframe with the `'date'` column as an index."
   ]
  },
  {
   "cell_type": "code",
   "execution_count": 11,
   "metadata": {},
   "outputs": [],
   "source": [
    "# YOUR CODE HERE\n",
    "\n"
   ]
  },
  {
   "cell_type": "code",
   "execution_count": 12,
   "metadata": {
    "tags": [
     "hide"
    ]
   },
   "outputs": [],
   "source": [
    "date = df['prfYear'].astype(str) + '-' + df['prfMonth'].astype(str) + '-1'"
   ]
  },
  {
   "cell_type": "code",
   "execution_count": 13,
   "metadata": {
    "colab": {},
    "colab_type": "code",
    "id": "FvsUBkAH5XXM",
    "tags": [
     "hide"
    ]
   },
   "outputs": [
    {
     "data": {
      "text/html": [
       "<div>\n",
       "<style scoped>\n",
       "    .dataframe tbody tr th:only-of-type {\n",
       "        vertical-align: middle;\n",
       "    }\n",
       "\n",
       "    .dataframe tbody tr th {\n",
       "        vertical-align: top;\n",
       "    }\n",
       "\n",
       "    .dataframe thead th {\n",
       "        text-align: right;\n",
       "    }\n",
       "</style>\n",
       "<table border=\"1\" class=\"dataframe\">\n",
       "  <thead>\n",
       "    <tr style=\"text-align: right;\">\n",
       "      <th></th>\n",
       "      <th>prfInformationCarrier</th>\n",
       "      <th>prfPrdOilNetMillSm3</th>\n",
       "      <th>prfPrdGasNetBillSm3</th>\n",
       "      <th>prfPrdOeNetMillSm3</th>\n",
       "      <th>prfPrdProducedWaterInFieldMillSm3</th>\n",
       "      <th>prfNpdidInformationCarrier</th>\n",
       "      <th>calcCondNetMillSm3</th>\n",
       "    </tr>\n",
       "    <tr>\n",
       "      <th>date</th>\n",
       "      <th></th>\n",
       "      <th></th>\n",
       "      <th></th>\n",
       "      <th></th>\n",
       "      <th></th>\n",
       "      <th></th>\n",
       "      <th></th>\n",
       "    </tr>\n",
       "  </thead>\n",
       "  <tbody>\n",
       "    <tr>\n",
       "      <th>2021-08-01</th>\n",
       "      <td>16/1-12 (Rolvsnes)</td>\n",
       "      <td>0.00653</td>\n",
       "      <td>0.0</td>\n",
       "      <td>0.00653</td>\n",
       "      <td>0.00291</td>\n",
       "      <td>17196400</td>\n",
       "      <td>0.0</td>\n",
       "    </tr>\n",
       "    <tr>\n",
       "      <th>2021-09-01</th>\n",
       "      <td>16/1-12 (Rolvsnes)</td>\n",
       "      <td>0.01053</td>\n",
       "      <td>0.0</td>\n",
       "      <td>0.01053</td>\n",
       "      <td>0.00719</td>\n",
       "      <td>17196400</td>\n",
       "      <td>0.0</td>\n",
       "    </tr>\n",
       "    <tr>\n",
       "      <th>2021-10-01</th>\n",
       "      <td>16/1-12 (Rolvsnes)</td>\n",
       "      <td>0.01238</td>\n",
       "      <td>0.0</td>\n",
       "      <td>0.01238</td>\n",
       "      <td>0.00912</td>\n",
       "      <td>17196400</td>\n",
       "      <td>0.0</td>\n",
       "    </tr>\n",
       "    <tr>\n",
       "      <th>2021-11-01</th>\n",
       "      <td>16/1-12 (Rolvsnes)</td>\n",
       "      <td>0.01298</td>\n",
       "      <td>0.0</td>\n",
       "      <td>0.01298</td>\n",
       "      <td>0.01186</td>\n",
       "      <td>17196400</td>\n",
       "      <td>0.0</td>\n",
       "    </tr>\n",
       "    <tr>\n",
       "      <th>2021-12-01</th>\n",
       "      <td>16/1-12 (Rolvsnes)</td>\n",
       "      <td>0.00461</td>\n",
       "      <td>0.0</td>\n",
       "      <td>0.00461</td>\n",
       "      <td>0.00418</td>\n",
       "      <td>17196400</td>\n",
       "      <td>0.0</td>\n",
       "    </tr>\n",
       "  </tbody>\n",
       "</table>\n",
       "</div>"
      ],
      "text/plain": [
       "           prfInformationCarrier  prfPrdOilNetMillSm3  prfPrdGasNetBillSm3  \\\n",
       "date                                                                         \n",
       "2021-08-01    16/1-12 (Rolvsnes)              0.00653                  0.0   \n",
       "2021-09-01    16/1-12 (Rolvsnes)              0.01053                  0.0   \n",
       "2021-10-01    16/1-12 (Rolvsnes)              0.01238                  0.0   \n",
       "2021-11-01    16/1-12 (Rolvsnes)              0.01298                  0.0   \n",
       "2021-12-01    16/1-12 (Rolvsnes)              0.00461                  0.0   \n",
       "\n",
       "            prfPrdOeNetMillSm3  prfPrdProducedWaterInFieldMillSm3  \\\n",
       "date                                                                \n",
       "2021-08-01             0.00653                            0.00291   \n",
       "2021-09-01             0.01053                            0.00719   \n",
       "2021-10-01             0.01238                            0.00912   \n",
       "2021-11-01             0.01298                            0.01186   \n",
       "2021-12-01             0.00461                            0.00418   \n",
       "\n",
       "            prfNpdidInformationCarrier  calcCondNetMillSm3  \n",
       "date                                                        \n",
       "2021-08-01                    17196400                 0.0  \n",
       "2021-09-01                    17196400                 0.0  \n",
       "2021-10-01                    17196400                 0.0  \n",
       "2021-11-01                    17196400                 0.0  \n",
       "2021-12-01                    17196400                 0.0  "
      ]
     },
     "execution_count": 13,
     "metadata": {},
     "output_type": "execute_result"
    }
   ],
   "source": [
    "# Build this up.\n",
    "df['date'] = pd.to_datetime(date)\n",
    "df = df.set_index('date')\n",
    "df = df.drop(columns=['prfYear', 'prfMonth'])  # Redundant.\n",
    "df.head()"
   ]
  },
  {
   "cell_type": "markdown",
   "metadata": {
    "colab_type": "text",
    "id": "1pCS6NRw5XXu"
   },
   "source": [
    "## Time series with `pandas`\n",
    "\n",
    "`pandas` knows all about time series. So we can easily make a time series plot:"
   ]
  },
  {
   "cell_type": "code",
   "execution_count": 14,
   "metadata": {},
   "outputs": [
    {
     "data": {
      "text/plain": [
       "<AxesSubplot:xlabel='date'>"
      ]
     },
     "execution_count": 14,
     "metadata": {},
     "output_type": "execute_result"
    },
    {
     "data": {
      "image/png": "[encoded data removed]",
      "text/plain": [
       "<Figure size 432x288 with 1 Axes>"
      ]
     },
     "metadata": {
      "needs_background": "light"
     },
     "output_type": "display_data"
    }
   ],
   "source": [
    "field = df.prfInformationCarrier=='OSEBERG'\n",
    "\n",
    "df.prfPrdOilNetMillSm3[field].plot()"
   ]
  },
  {
   "cell_type": "markdown",
   "metadata": {},
   "source": [
    "We can easily stretch it out, or add other lines:"
   ]
  },
  {
   "cell_type": "code",
   "execution_count": 15,
   "metadata": {
    "colab": {
     "base_uri": "https://localhost:8080/",
     "height": 246
    },
    "colab_type": "code",
    "executionInfo": {
     "elapsed": 1210,
     "status": "ok",
     "timestamp": 1560165256686,
     "user": {
      "displayName": "Matt Hall",
      "photoUrl": "https://lh5.googleusercontent.com/-wc2cQrA5f94/AAAAAAAAAAI/AAAAAAAAhtI/-p0Ej-pd3c8/s64/photo.jpg",
      "userId": "10999355236974656427"
     },
     "user_tz": -120
    },
    "id": "0mwROnOf5XXw",
    "outputId": "43430308-037f-4661-a9ba-e7d3b60d0c65"
   },
   "outputs": [
    {
     "data": {
      "text/plain": [
       "<AxesSubplot:xlabel='date'>"
      ]
     },
     "execution_count": 15,
     "metadata": {},
     "output_type": "execute_result"
    },
    {
     "data": {
      "image/png": "[encoded data removed]",
      "text/plain": [
       "<Figure size 1080x216 with 1 Axes>"
      ]
     },
     "metadata": {
      "needs_background": "light"
     },
     "output_type": "display_data"
    }
   ],
   "source": [
    "# Put in colour order, knowing matplotlib's default...\n",
    "features = ['prfPrdProducedWaterInFieldMillSm3',\n",
    "            'calcCondNetMillSm3',\n",
    "            'prfPrdOilNetMillSm3',\n",
    "            'prfPrdGasNetBillSm3',\n",
    "            ]\n",
    "\n",
    "df.loc[field, features].plot(figsize=(15, 3))"
   ]
  },
  {
   "cell_type": "markdown",
   "metadata": {},
   "source": [
    "Let's make a dataframe of only the TROLL field."
   ]
  },
  {
   "cell_type": "code",
   "execution_count": 16,
   "metadata": {},
   "outputs": [],
   "source": [
    "oseberg = df.loc[field, features]"
   ]
  },
  {
   "cell_type": "markdown",
   "metadata": {},
   "source": [
    "Now we can slice using natural dates:"
   ]
  },
  {
   "cell_type": "code",
   "execution_count": 17,
   "metadata": {},
   "outputs": [
    {
     "data": {
      "text/plain": [
       "<AxesSubplot:xlabel='date'>"
      ]
     },
     "execution_count": 17,
     "metadata": {},
     "output_type": "execute_result"
    },
    {
     "data": {
      "image/png": "[encoded data removed]",
      "text/plain": [
       "<Figure size 432x288 with 1 Axes>"
      ]
     },
     "metadata": {
      "needs_background": "light"
     },
     "output_type": "display_data"
    }
   ],
   "source": [
    "oseberg['Jun 2005':'Jun 2007'].plot(legend=None)"
   ]
  },
  {
   "cell_type": "markdown",
   "metadata": {},
   "source": [
    "Or resample at some new rate:"
   ]
  },
  {
   "cell_type": "code",
   "execution_count": 18,
   "metadata": {},
   "outputs": [
    {
     "data": {
      "text/html": [
       "<div>\n",
       "<style scoped>\n",
       "    .dataframe tbody tr th:only-of-type {\n",
       "        vertical-align: middle;\n",
       "    }\n",
       "\n",
       "    .dataframe tbody tr th {\n",
       "        vertical-align: top;\n",
       "    }\n",
       "\n",
       "    .dataframe thead th {\n",
       "        text-align: right;\n",
       "    }\n",
       "</style>\n",
       "<table border=\"1\" class=\"dataframe\">\n",
       "  <thead>\n",
       "    <tr style=\"text-align: right;\">\n",
       "      <th></th>\n",
       "      <th>prfPrdProducedWaterInFieldMillSm3</th>\n",
       "      <th>calcCondNetMillSm3</th>\n",
       "      <th>prfPrdOilNetMillSm3</th>\n",
       "      <th>prfPrdGasNetBillSm3</th>\n",
       "    </tr>\n",
       "    <tr>\n",
       "      <th>date</th>\n",
       "      <th></th>\n",
       "      <th></th>\n",
       "      <th></th>\n",
       "      <th></th>\n",
       "    </tr>\n",
       "  </thead>\n",
       "  <tbody>\n",
       "    <tr>\n",
       "      <th>2000-12-31</th>\n",
       "      <td>3.04741</td>\n",
       "      <td>0.62963</td>\n",
       "      <td>15.41082</td>\n",
       "      <td>1.40319</td>\n",
       "    </tr>\n",
       "    <tr>\n",
       "      <th>2001-12-31</th>\n",
       "      <td>2.15526</td>\n",
       "      <td>0.95492</td>\n",
       "      <td>10.97032</td>\n",
       "      <td>3.79670</td>\n",
       "    </tr>\n",
       "    <tr>\n",
       "      <th>2002-12-31</th>\n",
       "      <td>1.74208</td>\n",
       "      <td>1.01913</td>\n",
       "      <td>10.11254</td>\n",
       "      <td>2.79761</td>\n",
       "    </tr>\n",
       "    <tr>\n",
       "      <th>2003-12-31</th>\n",
       "      <td>2.30469</td>\n",
       "      <td>1.02507</td>\n",
       "      <td>9.17511</td>\n",
       "      <td>1.23880</td>\n",
       "    </tr>\n",
       "    <tr>\n",
       "      <th>2004-12-31</th>\n",
       "      <td>2.53713</td>\n",
       "      <td>1.18399</td>\n",
       "      <td>8.71377</td>\n",
       "      <td>2.42291</td>\n",
       "    </tr>\n",
       "    <tr>\n",
       "      <th>2005-12-31</th>\n",
       "      <td>2.98200</td>\n",
       "      <td>1.16467</td>\n",
       "      <td>7.46677</td>\n",
       "      <td>2.82091</td>\n",
       "    </tr>\n",
       "    <tr>\n",
       "      <th>2006-12-31</th>\n",
       "      <td>2.80199</td>\n",
       "      <td>1.25517</td>\n",
       "      <td>6.26178</td>\n",
       "      <td>3.37007</td>\n",
       "    </tr>\n",
       "    <tr>\n",
       "      <th>2007-12-31</th>\n",
       "      <td>2.41461</td>\n",
       "      <td>1.30303</td>\n",
       "      <td>5.16358</td>\n",
       "      <td>1.54752</td>\n",
       "    </tr>\n",
       "    <tr>\n",
       "      <th>2008-12-31</th>\n",
       "      <td>2.39510</td>\n",
       "      <td>1.17904</td>\n",
       "      <td>5.29253</td>\n",
       "      <td>3.81843</td>\n",
       "    </tr>\n",
       "    <tr>\n",
       "      <th>2009-12-31</th>\n",
       "      <td>2.71481</td>\n",
       "      <td>1.07486</td>\n",
       "      <td>5.12539</td>\n",
       "      <td>2.37967</td>\n",
       "    </tr>\n",
       "    <tr>\n",
       "      <th>2010-12-31</th>\n",
       "      <td>2.91521</td>\n",
       "      <td>0.95892</td>\n",
       "      <td>4.30944</td>\n",
       "      <td>3.10296</td>\n",
       "    </tr>\n",
       "    <tr>\n",
       "      <th>2011-12-31</th>\n",
       "      <td>2.11780</td>\n",
       "      <td>1.19895</td>\n",
       "      <td>3.91369</td>\n",
       "      <td>1.52993</td>\n",
       "    </tr>\n",
       "    <tr>\n",
       "      <th>2012-12-31</th>\n",
       "      <td>1.78297</td>\n",
       "      <td>1.17648</td>\n",
       "      <td>3.31058</td>\n",
       "      <td>4.56856</td>\n",
       "    </tr>\n",
       "    <tr>\n",
       "      <th>2013-12-31</th>\n",
       "      <td>1.75993</td>\n",
       "      <td>1.19754</td>\n",
       "      <td>2.99878</td>\n",
       "      <td>3.69003</td>\n",
       "    </tr>\n",
       "    <tr>\n",
       "      <th>2014-12-31</th>\n",
       "      <td>2.05494</td>\n",
       "      <td>1.09838</td>\n",
       "      <td>2.73197</td>\n",
       "      <td>1.95014</td>\n",
       "    </tr>\n",
       "    <tr>\n",
       "      <th>2015-12-31</th>\n",
       "      <td>2.94685</td>\n",
       "      <td>1.11962</td>\n",
       "      <td>3.03605</td>\n",
       "      <td>2.69524</td>\n",
       "    </tr>\n",
       "    <tr>\n",
       "      <th>2016-12-31</th>\n",
       "      <td>3.06815</td>\n",
       "      <td>1.16162</td>\n",
       "      <td>3.48981</td>\n",
       "      <td>1.41839</td>\n",
       "    </tr>\n",
       "    <tr>\n",
       "      <th>2017-12-31</th>\n",
       "      <td>3.58487</td>\n",
       "      <td>1.17779</td>\n",
       "      <td>3.48994</td>\n",
       "      <td>3.46259</td>\n",
       "    </tr>\n",
       "    <tr>\n",
       "      <th>2018-12-31</th>\n",
       "      <td>2.92089</td>\n",
       "      <td>1.05453</td>\n",
       "      <td>2.56836</td>\n",
       "      <td>2.70078</td>\n",
       "    </tr>\n",
       "    <tr>\n",
       "      <th>2019-12-31</th>\n",
       "      <td>2.43198</td>\n",
       "      <td>1.07745</td>\n",
       "      <td>3.32081</td>\n",
       "      <td>3.11982</td>\n",
       "    </tr>\n",
       "    <tr>\n",
       "      <th>2020-12-31</th>\n",
       "      <td>2.38251</td>\n",
       "      <td>0.95882</td>\n",
       "      <td>3.70738</td>\n",
       "      <td>3.46854</td>\n",
       "    </tr>\n",
       "  </tbody>\n",
       "</table>\n",
       "</div>"
      ],
      "text/plain": [
       "            prfPrdProducedWaterInFieldMillSm3  calcCondNetMillSm3  \\\n",
       "date                                                                \n",
       "2000-12-31                            3.04741             0.62963   \n",
       "2001-12-31                            2.15526             0.95492   \n",
       "2002-12-31                            1.74208             1.01913   \n",
       "2003-12-31                            2.30469             1.02507   \n",
       "2004-12-31                            2.53713             1.18399   \n",
       "2005-12-31                            2.98200             1.16467   \n",
       "2006-12-31                            2.80199             1.25517   \n",
       "2007-12-31                            2.41461             1.30303   \n",
       "2008-12-31                            2.39510             1.17904   \n",
       "2009-12-31                            2.71481             1.07486   \n",
       "2010-12-31                            2.91521             0.95892   \n",
       "2011-12-31                            2.11780             1.19895   \n",
       "2012-12-31                            1.78297             1.17648   \n",
       "2013-12-31                            1.75993             1.19754   \n",
       "2014-12-31                            2.05494             1.09838   \n",
       "2015-12-31                            2.94685             1.11962   \n",
       "2016-12-31                            3.06815             1.16162   \n",
       "2017-12-31                            3.58487             1.17779   \n",
       "2018-12-31                            2.92089             1.05453   \n",
       "2019-12-31                            2.43198             1.07745   \n",
       "2020-12-31                            2.38251             0.95882   \n",
       "\n",
       "            prfPrdOilNetMillSm3  prfPrdGasNetBillSm3  \n",
       "date                                                  \n",
       "2000-12-31             15.41082              1.40319  \n",
       "2001-12-31             10.97032              3.79670  \n",
       "2002-12-31             10.11254              2.79761  \n",
       "2003-12-31              9.17511              1.23880  \n",
       "2004-12-31              8.71377              2.42291  \n",
       "2005-12-31              7.46677              2.82091  \n",
       "2006-12-31              6.26178              3.37007  \n",
       "2007-12-31              5.16358              1.54752  \n",
       "2008-12-31              5.29253              3.81843  \n",
       "2009-12-31              5.12539              2.37967  \n",
       "2010-12-31              4.30944              3.10296  \n",
       "2011-12-31              3.91369              1.52993  \n",
       "2012-12-31              3.31058              4.56856  \n",
       "2013-12-31              2.99878              3.69003  \n",
       "2014-12-31              2.73197              1.95014  \n",
       "2015-12-31              3.03605              2.69524  \n",
       "2016-12-31              3.48981              1.41839  \n",
       "2017-12-31              3.48994              3.46259  \n",
       "2018-12-31              2.56836              2.70078  \n",
       "2019-12-31              3.32081              3.11982  \n",
       "2020-12-31              3.70738              3.46854  "
      ]
     },
     "execution_count": 18,
     "metadata": {},
     "output_type": "execute_result"
    }
   ],
   "source": [
    "oseberg['2000':'2020'].resample('Y').sum()  # <-- You can add .plot() to this too!"
   ]
  },
  {
   "cell_type": "markdown",
   "metadata": {},
   "source": [
    "Try to imagine doing that in Excel!"
   ]
  },
  {
   "cell_type": "markdown",
   "metadata": {},
   "source": [
    "---\n",
    "\n",
    "## Fit a decline curve\n",
    "\n",
    "Let's try fitting a decline curve to the Oseberg data."
   ]
  },
  {
   "cell_type": "markdown",
   "metadata": {
    "colab_type": "text",
    "id": "3evyE8q45XYH",
    "tags": [
     "exercise"
    ]
   },
   "source": [
    "### EXERCISE\n",
    "\n",
    "Get the data for 1997 to 2004, when the oil production declined on a curve, more or less. Multiply it by 1,000,000 so that it's in units of m<sup>3</sup>.\n",
    "\n",
    "Make a time series for the data using `np.arange()`. Make sure it's the same size as the production dataset (that is, the same length)."
   ]
  },
  {
   "cell_type": "code",
   "execution_count": 19,
   "metadata": {},
   "outputs": [],
   "source": [
    "# YOUR CODE HERE.\n",
    "\n"
   ]
  },
  {
   "cell_type": "code",
   "execution_count": 20,
   "metadata": {
    "colab": {
     "base_uri": "https://localhost:8080/",
     "height": 417
    },
    "colab_type": "code",
    "executionInfo": {
     "elapsed": 645,
     "status": "ok",
     "timestamp": 1560165257216,
     "user": {
      "displayName": "Matt Hall",
      "photoUrl": "https://lh5.googleusercontent.com/-wc2cQrA5f94/AAAAAAAAAAI/AAAAAAAAhtI/-p0Ej-pd3c8/s64/photo.jpg",
      "userId": "10999355236974656427"
     },
     "user_tz": -120
    },
    "id": "8PnzW_445XYJ",
    "outputId": "ac8db087-9fd9-4ff1-e34d-c00eb6a63783",
    "tags": [
     "hide"
    ]
   },
   "outputs": [
    {
     "data": {
      "text/plain": [
       "<AxesSubplot:xlabel='date'>"
      ]
     },
     "execution_count": 20,
     "metadata": {},
     "output_type": "execute_result"
    },
    {
     "data": {
      "image/png": "[encoded data removed]",
      "text/plain": [
       "<Figure size 432x288 with 1 Axes>"
      ]
     },
     "metadata": {
      "needs_background": "light"
     },
     "output_type": "display_data"
    }
   ],
   "source": [
    "oseberg.loc['1997':'2004'].prfPrdOilNetMillSm3.plot()"
   ]
  },
  {
   "cell_type": "code",
   "execution_count": 21,
   "metadata": {
    "tags": [
     "hide"
    ]
   },
   "outputs": [],
   "source": [
    "import numpy as np\n",
    "\n",
    "# Make flow rate and time (in months)\n",
    "q = oseberg.loc['1997':'2004'].prfPrdOilNetMillSm3.values * 1e6\n",
    "t = np.arange(q.size)"
   ]
  },
  {
   "cell_type": "markdown",
   "metadata": {
    "tags": [
     "exercise"
    ]
   },
   "source": [
    "### EXERCISE\n",
    "\n",
    "Now we need to implement the general **hyperbolic decline** curve using [Arp's equation](https://petrowiki.spe.org/Production_forecasting_decline_curve_analysis):\n",
    "\n",
    "$$ Q(t) = \\frac{Q_i}{(1 + b D_i t)^{1 / b}} $$\n",
    "\n",
    "where $Q_i$ is the inital rate, $t$ is cumulative time and $D_i$ is the initial decline rate, a constant. In general, $0 \\le b \\le 1$, and although it can be as high as 2.0 in shale reservoirs it is usually $0 \\le b \\le 0.5$ for conventional reservoirs. There are two special cases of this general function:\n",
    "\n",
    "- **Exponential decline** where $b = 0$, so $ Q = Q_i \\mathrm{e}^{-dt} $.\n",
    "- **Harmonic decline** where $b = 1$, so $ Q = Q_i / (1 + d_i t) $.\n",
    "\n",
    "**Implement the equation and make a plot showing how a production rate of 10,000 would fall over 10,000 days. Assume an initial decline rate of 0.1%.**"
   ]
  },
  {
   "cell_type": "code",
   "execution_count": 22,
   "metadata": {},
   "outputs": [],
   "source": [
    "# YOUR CODE HERE\n",
    "\n"
   ]
  },
  {
   "cell_type": "code",
   "execution_count": 23,
   "metadata": {
    "tags": [
     "hide"
    ]
   },
   "outputs": [
    {
     "data": {
      "text/plain": [
       "array([10000.        ,  9990.00624688,  9980.02497502, ...,\n",
       "          66.69605013,    66.67699343,    66.65794354])"
      ]
     },
     "execution_count": 23,
     "metadata": {},
     "output_type": "execute_result"
    }
   ],
   "source": [
    "import numpy as np\n",
    "\n",
    "def flow_rate(t, b, Qi, Di):\n",
    "    \"\"\"Arps' equation.\n",
    "    \n",
    "    Args:\n",
    "        t (array-like): The time basis. Can be a scalar.\n",
    "        b (float): The so-called 'b-factor'.\n",
    "        Qi (float): The initial production rate.\n",
    "        Di (float): The initial fractional depletion rate.\n",
    "        \n",
    "    Returns:\n",
    "        array-like: The rate at each time in t. If t is scalar,\n",
    "            this will be a scalar value.\n",
    "    \"\"\"\n",
    "    b += 1e-12  # Deal with potential div0 error.\n",
    "    return Qi / (1 + b * Di * t)**(1 / b)\n",
    "\n",
    "T = np.arange(10_000)\n",
    "Q = flow_rate(T, Qi=10_000, Di=0.001, b=0.25)\n",
    "\n",
    "Q"
   ]
  },
  {
   "cell_type": "code",
   "execution_count": 24,
   "metadata": {
    "tags": [
     "hide"
    ]
   },
   "outputs": [
    {
     "data": {
      "text/plain": [
       "[<matplotlib.lines.Line2D at 0x7f6d9abff400>]"
      ]
     },
     "execution_count": 24,
     "metadata": {},
     "output_type": "execute_result"
    },
    {
     "data": {
      "image/png": "[encoded data removed]",
      "text/plain": [
       "<Figure size 432x288 with 1 Axes>"
      ]
     },
     "metadata": {
      "needs_background": "light"
     },
     "output_type": "display_data"
    }
   ],
   "source": [
    "import matplotlib.pyplot as plt\n",
    "\n",
    "plt.plot(T, Q)"
   ]
  },
  {
   "cell_type": "markdown",
   "metadata": {},
   "source": [
    "## Optimization\n",
    "\n",
    "SciPy has an optimization module, `scipy.optimize`. In there is a convenient fitting function called [`curve_fit()`](https://docs.scipy.org/doc/scipy/reference/generated/scipy.optimize.curve_fit.html). The function is not too difficult to use when you have some data `X` and `y`, and a very simple function `func` with one parameter `w` to optimize:\n",
    "\n",
    "```\n",
    "def func(x, w):\n",
    "    y = np.exp(w * x)\n",
    "    return y\n",
    "    \n",
    "popt, pcov = curve_fit(func, X, y)\n",
    "```\n",
    "\n",
    "Suppose we have other arguments, say `a`, that we do **not** want to fit (hyperparameters):\n",
    "\n",
    "```\n",
    "def func2(x, w, a):\n",
    "    y = a + np.exp(w * x)\n",
    "    return y\n",
    "```\n",
    "\n",
    "Now we have to wrap `func` with another function that sets those other arguments. This is conceptually a bit tricky but Python's `functools` library provides a tool to help do it:\n",
    "\n",
    "```\n",
    "func = partial(func2, a=10)\n",
    "```\n",
    "\n",
    "The only catch is that the order of arguments in `func2` is not changed, so if we need the returned function to have a call signature like `func(x, w)` then `a` must come after `w` in the original function's (`func2`) call signature.\n",
    "\n",
    "Anyway, now we can call `func` and ignore the argument `a`."
   ]
  },
  {
   "cell_type": "code",
   "execution_count": 25,
   "metadata": {
    "tags": [
     "hide"
    ]
   },
   "outputs": [
    {
     "data": {
      "text/plain": [
       "444.4444444445726"
      ]
     },
     "execution_count": 25,
     "metadata": {},
     "output_type": "execute_result"
    }
   ],
   "source": [
    "# NB Sometimes it's neater to wrap with another function that accepts\n",
    "# the hyperparameters at call time. Here's how you can do this:\n",
    "def func(Qi, Di): # What we will call, setting Qi and Di.\n",
    "    def f(t, b):  # Required call signature for `curve_fit`.\n",
    "        return flow_rate(t=t, Qi=Qi, Di=Di, b=b)\n",
    "    return f\n",
    "\n",
    "f = func(Qi=1000, Di=0.01)\n",
    "\n",
    "# Now you can call f with the desired arguments:\n",
    "f(t=100, b=0.5)\n",
    "\n",
    "# It amounts to the same thing as `partial` but it's a bit neater in the\n",
    "# calling code and is much harder to explain to a beginner. Also, this\n",
    "# recipe allows us to define `flow_rate`'s arguments in any order."
   ]
  },
  {
   "cell_type": "code",
   "execution_count": 26,
   "metadata": {
    "tags": [
     "hide"
    ]
   },
   "outputs": [],
   "source": [
    "def effective_decline(Q):\n",
    "    return (Q[0] - Q[1]) / Q[0] # Wiki has Q[1] in the denominator, surely that's wrong??\n",
    "\n",
    "def hyperbolic_decline(Q):\n",
    "    \"\"\"aka Nominal decline, accroding to SPE Wiki.\"\"\"\n",
    "    return -np.log(1 - effective_decline(Q))"
   ]
  },
  {
   "cell_type": "code",
   "execution_count": 27,
   "metadata": {},
   "outputs": [
    {
     "data": {
      "text/plain": [
       "array([1.])"
      ]
     },
     "execution_count": 27,
     "metadata": {},
     "output_type": "execute_result"
    }
   ],
   "source": [
    "from functools import partial\n",
    "from scipy.optimize import curve_fit\n",
    "\n",
    "Qi = q[0]\n",
    "Di = effective_decline(q)  # Initial effective fractional decline.\n",
    "\n",
    "func = partial(flow_rate, Qi=Qi, Di=Di)\n",
    "\n",
    "popt, pcov = curve_fit(func, t, q, bounds=(0, 1.0))\n",
    "popt"
   ]
  },
  {
   "cell_type": "code",
   "execution_count": 28,
   "metadata": {},
   "outputs": [
    {
     "data": {
      "text/plain": [
       "[<matplotlib.lines.Line2D at 0x7f6d981fc280>]"
      ]
     },
     "execution_count": 28,
     "metadata": {},
     "output_type": "execute_result"
    },
    {
     "data": {
      "image/png": "[encoded data removed]",
      "text/plain": [
       "<Figure size 432x288 with 1 Axes>"
      ]
     },
     "metadata": {
      "needs_background": "light"
     },
     "output_type": "display_data"
    }
   ],
   "source": [
    "q_pred = flow_rate(t, b=popt, Qi=Qi, Di=Di)\n",
    "\n",
    "plt.plot(t, q)\n",
    "plt.plot(t, q_pred)"
   ]
  },
  {
   "cell_type": "markdown",
   "metadata": {},
   "source": [
    "It seems the initial production rate is too high."
   ]
  },
  {
   "cell_type": "markdown",
   "metadata": {},
   "source": [
    "### Would it make a difference to smooth the input?\n",
    "\n",
    "The production curve is spiky, probably reflecting regular maintenance shutdowns. Does it make a difference if we remove those, e.g. with a median filter?"
   ]
  },
  {
   "cell_type": "code",
   "execution_count": 29,
   "metadata": {},
   "outputs": [
    {
     "data": {
      "text/plain": [
       "[<matplotlib.lines.Line2D at 0x7f6d9811bb50>]"
      ]
     },
     "execution_count": 29,
     "metadata": {},
     "output_type": "execute_result"
    },
    {
     "data": {
      "image/png": "[encoded data removed]",
      "text/plain": [
       "<Figure size 432x288 with 1 Axes>"
      ]
     },
     "metadata": {
      "needs_background": "light"
     },
     "output_type": "display_data"
    }
   ],
   "source": [
    "# Try a median filter to get rid of the shutdown months.\n",
    "from scipy.ndimage import median_filter\n",
    "\n",
    "q_smooth = median_filter(q, size=3)\n",
    "\n",
    "plt.plot(t, q)\n",
    "plt.plot(t, q_smooth)"
   ]
  },
  {
   "cell_type": "code",
   "execution_count": 30,
   "metadata": {},
   "outputs": [
    {
     "data": {
      "text/plain": [
       "[<matplotlib.lines.Line2D at 0x7f6d98093850>]"
      ]
     },
     "execution_count": 30,
     "metadata": {},
     "output_type": "execute_result"
    },
    {
     "data": {
      "image/png": "[encoded data removed]",
      "text/plain": [
       "<Figure size 432x288 with 1 Axes>"
      ]
     },
     "metadata": {
      "needs_background": "light"
     },
     "output_type": "display_data"
    }
   ],
   "source": [
    "Qi = q_smooth[0]\n",
    "Di = effective_decline(q_smooth)\n",
    "\n",
    "func = partial(flow_rate, Qi=Qi, Di=Di)\n",
    "\n",
    "popt, pcov = curve_fit(func, t, q_smooth, bounds=(0, 1.0))\n",
    "\n",
    "q_pred_smooth = flow_rate(t, b=popt, Qi=Qi, Di=Di)\n",
    "\n",
    "plt.plot(t, q_smooth)\n",
    "plt.plot(t, q_pred)\n",
    "plt.plot(t, q_pred_smooth)"
   ]
  },
  {
   "cell_type": "code",
   "execution_count": 31,
   "metadata": {},
   "outputs": [
    {
     "data": {
      "text/plain": [
       "array([1.])"
      ]
     },
     "execution_count": 31,
     "metadata": {},
     "output_type": "execute_result"
    }
   ],
   "source": [
    "popt"
   ]
  },
  {
   "cell_type": "markdown",
   "metadata": {
    "tags": [
     "exercise"
    ]
   },
   "source": [
    "### EXERCISE\n",
    "\n",
    "Recover the oil production data for the TROLL field.\n",
    "\n",
    "Use OSEBERG's decline model to predict TROLL's production from July 2003 to December 2012.\n",
    "\n",
    "How well does it match? For example, what's the relative error in total production over the period?"
   ]
  },
  {
   "cell_type": "code",
   "execution_count": 41,
   "metadata": {},
   "outputs": [],
   "source": [
    "# YOUR CODE HERE\n",
    "\n"
   ]
  },
  {
   "cell_type": "code",
   "execution_count": 42,
   "metadata": {
    "scrolled": true,
    "tags": [
     "hide"
    ]
   },
   "outputs": [
    {
     "data": {
      "text/plain": [
       "<AxesSubplot:xlabel='date'>"
      ]
     },
     "execution_count": 42,
     "metadata": {},
     "output_type": "execute_result"
    },
    {
     "data": {
      "image/png": "[encoded data removed]",
      "text/plain": [
       "<Figure size 432x288 with 1 Axes>"
      ]
     },
     "metadata": {
      "needs_background": "light"
     },
     "output_type": "display_data"
    }
   ],
   "source": [
    "troll = df.loc[df['prfInformationCarrier']=='TROLL', features]\n",
    "\n",
    "troll.prfPrdOilNetMillSm3.plot()"
   ]
  },
  {
   "cell_type": "code",
   "execution_count": 43,
   "metadata": {
    "tags": [
     "hide"
    ]
   },
   "outputs": [
    {
     "data": {
      "text/plain": [
       "<AxesSubplot:xlabel='date'>"
      ]
     },
     "execution_count": 43,
     "metadata": {},
     "output_type": "execute_result"
    },
    {
     "data": {
      "image/png": "[encoded data removed]",
      "text/plain": [
       "<Figure size 432x288 with 1 Axes>"
      ]
     },
     "metadata": {
      "needs_background": "light"
     },
     "output_type": "display_data"
    }
   ],
   "source": [
    "troll.loc['Jul 2003':'Dec 2012'].prfPrdOilNetMillSm3.plot()"
   ]
  },
  {
   "cell_type": "code",
   "execution_count": 35,
   "metadata": {
    "tags": [
     "hide"
    ]
   },
   "outputs": [],
   "source": [
    "q_troll = troll.loc['Jul 2003':'Dec 2012'].prfPrdOilNetMillSm3.values * 1e6\n",
    "t_troll = np.arange(q_troll.size)"
   ]
  },
  {
   "cell_type": "code",
   "execution_count": 36,
   "metadata": {
    "tags": [
     "hide"
    ]
   },
   "outputs": [
    {
     "data": {
      "text/plain": [
       "[<matplotlib.lines.Line2D at 0x7f6d926afaf0>]"
      ]
     },
     "execution_count": 36,
     "metadata": {},
     "output_type": "execute_result"
    },
    {
     "data": {
      "image/png": "[encoded data removed]",
      "text/plain": [
       "<Figure size 432x288 with 1 Axes>"
      ]
     },
     "metadata": {
      "needs_background": "light"
     },
     "output_type": "display_data"
    }
   ],
   "source": [
    "Qi_troll = q_troll[0]\n",
    "Di_troll = hyperbolic_decline(q_troll)\n",
    "\n",
    "q_pred = flow_rate(t_troll, b=popt, Qi=Qi_troll, Di=Di_troll)\n",
    "\n",
    "plt.plot(t_troll, q_troll)\n",
    "plt.plot(t_troll, q_pred)"
   ]
  },
  {
   "cell_type": "markdown",
   "metadata": {
    "tags": [
     "hide"
    ]
   },
   "source": [
    "Not too bad! How does the cumulative production compare?"
   ]
  },
  {
   "cell_type": "code",
   "execution_count": 37,
   "metadata": {
    "tags": [
     "hide"
    ]
   },
   "outputs": [
    {
     "name": "stdout",
     "output_type": "stream",
     "text": [
      "With b = 1.00, we get a relative error of 6.9%\n"
     ]
    }
   ],
   "source": [
    "def error(y_true, y_pred):\n",
    "     return 100 * (y_pred.sum() - y_true.sum()) / y_true.sum()\n",
    "\n",
    "err = error(q_troll, q_pred)\n",
    "\n",
    "print(f\"With b = {popt[0]:0.2f}, we get a relative error of {err:.1f}%\") "
   ]
  },
  {
   "cell_type": "markdown",
   "metadata": {},
   "source": [
    "Using Oseberg's value for `b` I got an overestimate of 6.9%.\n",
    "\n",
    "What if we'd known the optimal parameter? Try refitting the model to Troll's data and seeing the difference:"
   ]
  },
  {
   "cell_type": "code",
   "execution_count": null,
   "metadata": {},
   "outputs": [],
   "source": [
    "# YOUR CODE HERE\n",
    "\n"
   ]
  },
  {
   "cell_type": "code",
   "execution_count": 40,
   "metadata": {
    "tags": [
     "hide"
    ]
   },
   "outputs": [
    {
     "name": "stdout",
     "output_type": "stream",
     "text": [
      "With b = 0.82, we get a relative error of 2.4%\n"
     ]
    }
   ],
   "source": [
    "# Refit model on TROLL data.\n",
    "func = partial(flow_rate, Qi=Qi_troll, Di=Di_troll)\n",
    "\n",
    "popt, pcov = curve_fit(func, t_troll, q_troll, bounds=(0, 1.0))\n",
    "\n",
    "q_pred = flow_rate(t_troll, b=popt, Qi=Qi_troll, Di=Di_troll)\n",
    "\n",
    "err = error(q_troll, q_pred)\n",
    "print(f\"With b = {popt[0]:0.2f}, we get a relative error of {err:.1f}%\") "
   ]
  },
  {
   "cell_type": "markdown",
   "metadata": {},
   "source": [
    "----\n",
    "\n",
    "&copy; 2022 Agile Scientific, licensed CC-BY"
   ]
  }
 ],
 "metadata": {
  "accelerator": "GPU",
  "celltoolbar": "Tags",
  "colab": {
   "name": "Pandas_with_NPD_data.ipynb",
   "provenance": [
    {
     "file_id": "https://github.com/kwinkunks/notebooks/blob/master/Pandas_with_NPD_data.ipynb",
     "timestamp": 1560162219087
    }
   ],
   "version": "0.3.2"
  },
  "kernelspec": {
   "display_name": "geocomp",
   "language": "python",
   "name": "geocomp"
  },
  "language_info": {
   "codemirror_mode": {
    "name": "ipython",
    "version": 3
   },
   "file_extension": ".py",
   "mimetype": "text/x-python",
   "name": "python",
   "nbconvert_exporter": "python",
   "pygments_lexer": "ipython3",
   "version": "3.9.7"
  }
 },
 "nbformat": 4,
 "nbformat_minor": 1
}
