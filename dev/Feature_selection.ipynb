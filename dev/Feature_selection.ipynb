{
 "cells": [
  {
   "cell_type": "markdown",
   "metadata": {},
   "source": [
    "# Feature selection\n",
    "\n",
    "### The curse of dimensionality\n",
    "\n",
    "In general, we don't want to learn with an arbitrarily large number of features.\n",
    "\n",
    "We can still improve on the 2 or 3 variables in a lot of 'standard' modeling tasks (e.g. modeling facies from a few logs, or porosity from facies, or permeability from porosity). But the earth is massively high-dimensional... what's the right number, and why does it matter?\n",
    "\n",
    "- High-dimensional models are hard to explain.\n",
    "- High-dimensional datasets are hard to visualize.\n",
    "- We need a lot of data to properly sample the joint distributions of high-dimensional datasets. \n",
    "- We're more likely to have redundant features in the data."
   ]
  },
  {
   "cell_type": "markdown",
   "metadata": {},
   "source": [
    "## Radius of unit circle"
   ]
  },
  {
   "cell_type": "code",
   "execution_count": 7,
   "metadata": {},
   "outputs": [
    {
     "data": {
      "text/plain": [
       "[<matplotlib.lines.Line2D at 0x7f8c802fa220>]"
      ]
     },
     "execution_count": 7,
     "metadata": {},
     "output_type": "execute_result"
    },
    {
     "data": {
      "image/png": "[encoded data removed]",
      "text/plain": [
       "<Figure size 432x288 with 1 Axes>"
      ]
     },
     "metadata": {
      "needs_background": "light"
     },
     "output_type": "display_data"
    }
   ],
   "source": [
    "import matplotlib.pyplot as plt\n",
    "import numpy as np\n",
    "\n",
    "radii = [np.linalg.norm(np.ones(dim)) for dim in range(1, 32)]\n",
    "    \n",
    "plt.plot(radii)"
   ]
  },
  {
   "cell_type": "markdown",
   "metadata": {},
   "source": [
    "## Distance between points"
   ]
  },
  {
   "cell_type": "code",
   "execution_count": 1,
   "metadata": {},
   "outputs": [],
   "source": [
    "import numpy as np\n",
    "from scipy.spatial.distance import pdist, squareform\n",
    "\n",
    "def dists(dim, n=1000, scale=1):\n",
    "    X = np.random.random(size=(n, dim)) * scale\n",
    "    d = pdist(X)\n",
    "    return f\"range: {np.min(d):.3f}-{np.max(d):.3f}, mean: {np.mean(d):.3f}, stdev: {np.std(d):.4f}, rsd: {np.std(d)*100/np.mean(d):.4f}\""
   ]
  },
  {
   "cell_type": "code",
   "execution_count": 2,
   "metadata": {},
   "outputs": [
    {
     "data": {
      "text/plain": [
       "'range: 0.000-0.996, mean: 0.340, stdev: 0.2403, rsd: 70.6605'"
      ]
     },
     "execution_count": 2,
     "metadata": {},
     "output_type": "execute_result"
    }
   ],
   "source": [
    "dists(1)"
   ]
  },
  {
   "cell_type": "code",
   "execution_count": 11,
   "metadata": {},
   "outputs": [
    {
     "data": {
      "text/plain": [
       "('range: 0.001-1.360, mean: 0.514, stdev: 0.2449, rsd: 47.6666',\n",
       " 1.4142135623730951)"
      ]
     },
     "execution_count": 11,
     "metadata": {},
     "output_type": "execute_result"
    }
   ],
   "source": [
    "dists(2), np.sqrt(2)"
   ]
  },
  {
   "cell_type": "code",
   "execution_count": 12,
   "metadata": {},
   "outputs": [
    {
     "data": {
      "text/plain": [
       "('range: 0.008-1.618, mean: 0.657, stdev: 0.2484, rsd: 37.7912',\n",
       " 1.7320508075688772)"
      ]
     },
     "execution_count": 12,
     "metadata": {},
     "output_type": "execute_result"
    }
   ],
   "source": [
    "dists(3), np.sqrt(3)"
   ]
  },
  {
   "cell_type": "code",
   "execution_count": 14,
   "metadata": {},
   "outputs": [
    {
     "data": {
      "text/plain": [
       "('range: 0.139-2.486, mean: 1.269, stdev: 0.2449, rsd: 19.3015',\n",
       " 3.1622776601683795)"
      ]
     },
     "execution_count": 14,
     "metadata": {},
     "output_type": "execute_result"
    }
   ],
   "source": [
    "dists(10, n=10000), np.sqrt(10)"
   ]
  },
  {
   "cell_type": "code",
   "execution_count": 15,
   "metadata": {},
   "outputs": [
    {
     "data": {
      "text/plain": [
       "('range: 1.186-3.829, mean: 2.568, stdev: 0.2423, rsd: 9.4356',\n",
       " 3.1622776601683795)"
      ]
     },
     "execution_count": 15,
     "metadata": {},
     "output_type": "execute_result"
    }
   ],
   "source": [
    "dists(40, n=10000), np.sqrt(10)"
   ]
  },
  {
   "cell_type": "code",
   "execution_count": 6,
   "metadata": {},
   "outputs": [
    {
     "data": {
      "text/plain": [
       "'range: 2.912-5.256, mean: 4.072, stdev: 0.2417, rsd: 5.9355'"
      ]
     },
     "execution_count": 6,
     "metadata": {},
     "output_type": "execute_result"
    }
   ],
   "source": [
    "dists(100)"
   ]
  },
  {
   "cell_type": "code",
   "execution_count": 7,
   "metadata": {},
   "outputs": [
    {
     "data": {
      "text/plain": [
       "'range: 11.789-14.011, mean: 12.916, stdev: 0.2425, rsd: 1.8774'"
      ]
     },
     "execution_count": 7,
     "metadata": {},
     "output_type": "execute_result"
    }
   ],
   "source": [
    "dists(1000)"
   ]
  },
  {
   "cell_type": "code",
   "execution_count": 38,
   "metadata": {},
   "outputs": [
    {
     "data": {
      "text/plain": [
       "'range: 39.816-41.688, mean: 40.833, stdev: 0.2369, rsd: 0.5803'"
      ]
     },
     "execution_count": 38,
     "metadata": {},
     "output_type": "execute_result"
    }
   ],
   "source": [
    "dists(10000, n=100)"
   ]
  },
  {
   "cell_type": "code",
   "execution_count": 57,
   "metadata": {},
   "outputs": [
    {
     "data": {
      "text/plain": [
       "'range: 128.055-130.063, mean: 129.075, stdev: 0.2413, rsd: 0.1869'"
      ]
     },
     "execution_count": 57,
     "metadata": {},
     "output_type": "execute_result"
    }
   ],
   "source": [
    "dists(100_000, n=100)"
   ]
  },
  {
   "cell_type": "code",
   "execution_count": 65,
   "metadata": {},
   "outputs": [
    {
     "data": {
      "text/plain": [
       "'range: 1290.523-1291.472, mean: 1290.979, stdev: 0.2145, rsd: 0.0166'"
      ]
     },
     "execution_count": 65,
     "metadata": {},
     "output_type": "execute_result"
    }
   ],
   "source": [
    "dists(10_000_000, n=10)"
   ]
  },
  {
   "cell_type": "code",
   "execution_count": null,
   "metadata": {},
   "outputs": [],
   "source": []
  }
 ],
 "metadata": {
  "kernelspec": {
   "display_name": "py39",
   "language": "python",
   "name": "py39"
  },
  "language_info": {
   "codemirror_mode": {
    "name": "ipython",
    "version": 3
   },
   "file_extension": ".py",
   "mimetype": "text/x-python",
   "name": "python",
   "nbconvert_exporter": "python",
   "pygments_lexer": "ipython3",
   "version": "3.9.7"
  }
 },
 "nbformat": 4,
 "nbformat_minor": 2
}
