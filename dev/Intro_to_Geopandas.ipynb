{
 "cells": [
  {
   "cell_type": "markdown",
   "id": "85678fb5",
   "metadata": {},
   "source": [
    "# Introduction to Geopandas\n",
    "\n",
    "Geopandas is an extension of the Pandas library to handle spatial data formats. It is not a replacement for a full GIS suite, but it is good for exploration of the data."
   ]
  },
  {
   "cell_type": "code",
   "execution_count": 1,
   "id": "d43aef35",
   "metadata": {},
   "outputs": [],
   "source": [
    "import geopandas as gpd\n",
    "import pandas as pd\n",
    "import numpy as np\n",
    "import matplotlib.pyplot as plt"
   ]
  },
  {
   "cell_type": "markdown",
   "id": "390519ac",
   "metadata": {},
   "source": [
    "Geopandas uses `shapely` and `fiona` in the background. `fiona` handles IO, while `shapely` is important for handling geometries."
   ]
  },
  {
   "cell_type": "code",
   "execution_count": 2,
   "id": "43e1b50f",
   "metadata": {},
   "outputs": [],
   "source": [
    "import shapely\n",
    "import fiona"
   ]
  },
  {
   "cell_type": "code",
   "execution_count": 3,
   "id": "2be3062b",
   "metadata": {
    "collapsed": true,
    "tags": [
     "hide"
    ]
   },
   "outputs": [
    {
     "data": {
      "text/plain": [
       "{'AeronavFAA': 'r',\n",
       " 'ARCGEN': 'r',\n",
       " 'BNA': 'raw',\n",
       " 'DXF': 'raw',\n",
       " 'CSV': 'raw',\n",
       " 'OpenFileGDB': 'r',\n",
       " 'ESRIJSON': 'r',\n",
       " 'ESRI Shapefile': 'raw',\n",
       " 'GeoJSON': 'rw',\n",
       " 'GeoJSONSeq': 'rw',\n",
       " 'GPKG': 'rw',\n",
       " 'GML': 'raw',\n",
       " 'GPX': 'raw',\n",
       " 'GPSTrackMaker': 'raw',\n",
       " 'Idrisi': 'r',\n",
       " 'MapInfo File': 'raw',\n",
       " 'DGN': 'raw',\n",
       " 'PCIDSK': 'r',\n",
       " 'S57': 'r',\n",
       " 'SEGY': 'r',\n",
       " 'SUA': 'r',\n",
       " 'TopoJSON': 'r'}"
      ]
     },
     "execution_count": 3,
     "metadata": {},
     "output_type": "execute_result"
    }
   ],
   "source": [
    "fiona.supported_drivers"
   ]
  },
  {
   "cell_type": "markdown",
   "id": "74af7ef8",
   "metadata": {},
   "source": [
    "In addition, it is easy to convert files from a pandas DataFrame into a Geopandas GeoDataFrame, provided that the data is available to make a geometry column. We will load a csv with pandas and turn it into a GeoDataFrame."
   ]
  },
  {
   "cell_type": "code",
   "execution_count": 4,
   "id": "b9709727",
   "metadata": {},
   "outputs": [
    {
     "data": {
      "text/html": [
       "<div>\n",
       "<style scoped>\n",
       "    .dataframe tbody tr th:only-of-type {\n",
       "        vertical-align: middle;\n",
       "    }\n",
       "\n",
       "    .dataframe tbody tr th {\n",
       "        vertical-align: top;\n",
       "    }\n",
       "\n",
       "    .dataframe thead th {\n",
       "        text-align: right;\n",
       "    }\n",
       "</style>\n",
       "<table border=\"1\" class=\"dataframe\">\n",
       "  <thead>\n",
       "    <tr style=\"text-align: right;\">\n",
       "      <th></th>\n",
       "      <th>NAME</th>\n",
       "      <th>LEASE</th>\n",
       "      <th>WELL</th>\n",
       "      <th>API_NUMBER</th>\n",
       "      <th>LATITUDE</th>\n",
       "      <th>LONGITUDE</th>\n",
       "    </tr>\n",
       "  </thead>\n",
       "  <tbody>\n",
       "    <tr>\n",
       "      <th>0</th>\n",
       "      <td>SHRIMPLIN</td>\n",
       "      <td>Shrimplin Gas Unit</td>\n",
       "      <td>2HI</td>\n",
       "      <td>15-055-21045</td>\n",
       "      <td>37.978076</td>\n",
       "      <td>-100.987305</td>\n",
       "    </tr>\n",
       "    <tr>\n",
       "      <th>1</th>\n",
       "      <td>NOLAN</td>\n",
       "      <td>Nolan</td>\n",
       "      <td>4-16</td>\n",
       "      <td>15-055-20824</td>\n",
       "      <td>37.781202</td>\n",
       "      <td>-101.047447</td>\n",
       "    </tr>\n",
       "    <tr>\n",
       "      <th>2</th>\n",
       "      <td>SHANKLE</td>\n",
       "      <td>Shankle</td>\n",
       "      <td>2-9</td>\n",
       "      <td>15-093-21250</td>\n",
       "      <td>38.063373</td>\n",
       "      <td>-101.389189</td>\n",
       "    </tr>\n",
       "    <tr>\n",
       "      <th>3</th>\n",
       "      <td>LUKE G U</td>\n",
       "      <td>Luke Gas Unit</td>\n",
       "      <td>4</td>\n",
       "      <td>15-187-20661</td>\n",
       "      <td>37.449961</td>\n",
       "      <td>-101.612191</td>\n",
       "    </tr>\n",
       "    <tr>\n",
       "      <th>4</th>\n",
       "      <td>NEWBY</td>\n",
       "      <td>Newby</td>\n",
       "      <td>1</td>\n",
       "      <td>15-189-10106</td>\n",
       "      <td>37.325960</td>\n",
       "      <td>-101.325130</td>\n",
       "    </tr>\n",
       "    <tr>\n",
       "      <th>5</th>\n",
       "      <td>KIMZEY</td>\n",
       "      <td>Kimzey</td>\n",
       "      <td>1</td>\n",
       "      <td>15-189-00588</td>\n",
       "      <td>37.105629</td>\n",
       "      <td>-101.312229</td>\n",
       "    </tr>\n",
       "    <tr>\n",
       "      <th>6</th>\n",
       "      <td>ALEXANDER</td>\n",
       "      <td>Alexander 'D'</td>\n",
       "      <td>2</td>\n",
       "      <td>15-067-20338</td>\n",
       "      <td>37.674726</td>\n",
       "      <td>-101.167526</td>\n",
       "    </tr>\n",
       "    <tr>\n",
       "      <th>7</th>\n",
       "      <td>CHURCHMAN BIBLE</td>\n",
       "      <td>Churchman Bible</td>\n",
       "      <td>2</td>\n",
       "      <td>15-189-20982</td>\n",
       "      <td>37.356426</td>\n",
       "      <td>-101.106045</td>\n",
       "    </tr>\n",
       "    <tr>\n",
       "      <th>8</th>\n",
       "      <td>CROSS H CATTLE</td>\n",
       "      <td>Cross H Cattle Co</td>\n",
       "      <td>1-6</td>\n",
       "      <td>15-075-20543</td>\n",
       "      <td>37.910583</td>\n",
       "      <td>-101.646452</td>\n",
       "    </tr>\n",
       "    <tr>\n",
       "      <th>9</th>\n",
       "      <td>STUART</td>\n",
       "      <td>Stuart</td>\n",
       "      <td>5-27</td>\n",
       "      <td>15-067-20856</td>\n",
       "      <td>37.500380</td>\n",
       "      <td>-101.129860</td>\n",
       "    </tr>\n",
       "    <tr>\n",
       "      <th>10</th>\n",
       "      <td>CRAWFORD</td>\n",
       "      <td>Stewart Crawford Unit</td>\n",
       "      <td>1</td>\n",
       "      <td>15-189-20459</td>\n",
       "      <td>37.180732</td>\n",
       "      <td>-101.361268</td>\n",
       "    </tr>\n",
       "  </tbody>\n",
       "</table>\n",
       "</div>"
      ],
      "text/plain": [
       "               NAME                  LEASE  WELL    API_NUMBER   LATITUDE  \\\n",
       "0         SHRIMPLIN     Shrimplin Gas Unit   2HI  15-055-21045  37.978076   \n",
       "1             NOLAN                  Nolan  4-16  15-055-20824  37.781202   \n",
       "2           SHANKLE                Shankle   2-9  15-093-21250  38.063373   \n",
       "3          LUKE G U          Luke Gas Unit     4  15-187-20661  37.449961   \n",
       "4             NEWBY                  Newby     1  15-189-10106  37.325960   \n",
       "5            KIMZEY                 Kimzey     1  15-189-00588  37.105629   \n",
       "6         ALEXANDER          Alexander 'D'     2  15-067-20338  37.674726   \n",
       "7   CHURCHMAN BIBLE        Churchman Bible     2  15-189-20982  37.356426   \n",
       "8    CROSS H CATTLE      Cross H Cattle Co   1-6  15-075-20543  37.910583   \n",
       "9            STUART                 Stuart  5-27  15-067-20856  37.500380   \n",
       "10         CRAWFORD  Stewart Crawford Unit     1  15-189-20459  37.180732   \n",
       "\n",
       "     LONGITUDE  \n",
       "0  -100.987305  \n",
       "1  -101.047447  \n",
       "2  -101.389189  \n",
       "3  -101.612191  \n",
       "4  -101.325130  \n",
       "5  -101.312229  \n",
       "6  -101.167526  \n",
       "7  -101.106045  \n",
       "8  -101.646452  \n",
       "9  -101.129860  \n",
       "10 -101.361268  "
      ]
     },
     "execution_count": 4,
     "metadata": {},
     "output_type": "execute_result"
    }
   ],
   "source": [
    "df = pd.read_csv('https://geocomp.s3.amazonaws.com/data/Panoma_well_headers.csv')\n",
    "df"
   ]
  },
  {
   "cell_type": "code",
   "execution_count": null,
   "id": "6f12c3e6",
   "metadata": {},
   "outputs": [],
   "source": []
  },
  {
   "cell_type": "markdown",
   "id": "cc73b6ce",
   "metadata": {},
   "source": [
    "In order to make the GeoDataFrame, we need to add the geometry. This needs to be a `shapely` geometry of some kind:"
   ]
  },
  {
   "cell_type": "code",
   "execution_count": null,
   "id": "28e7fab2",
   "metadata": {},
   "outputs": [],
   "source": []
  },
  {
   "cell_type": "code",
   "execution_count": 5,
   "id": "2953c115",
   "metadata": {
    "tags": [
     "hide"
    ]
   },
   "outputs": [
    {
     "data": {
      "image/svg+xml": [
       "<svg xmlns=\"http://www.w3.org/2000/svg\" xmlns:xlink=\"http://www.w3.org/1999/xlink\" width=\"100.0\" height=\"100.0\" viewBox=\"-101.987305 36.978076 2.0 2.0\" preserveAspectRatio=\"xMinYMin meet\"><g transform=\"matrix(1,0,0,-1,0,75.956152)\"><circle cx=\"-100.987305\" cy=\"37.978076\" r=\"0.06\" stroke=\"#555555\" stroke-width=\"0.02\" fill=\"#66cc99\" opacity=\"0.6\" /></g></svg>"
      ],
      "text/plain": [
       "<shapely.geometry.point.Point at 0x1d12d561be0>"
      ]
     },
     "execution_count": 5,
     "metadata": {},
     "output_type": "execute_result"
    }
   ],
   "source": [
    "shapely.geometry.Point(df.loc[0, 'LONGITUDE'], df.loc[0, 'LATITUDE'])"
   ]
  },
  {
   "cell_type": "code",
   "execution_count": 6,
   "id": "bd1722c8",
   "metadata": {
    "tags": [
     "hide"
    ]
   },
   "outputs": [],
   "source": [
    "def make_point(row):\n",
    "    '''Make a point from LATITUDE and LONGITUDE in a row.'''\n",
    "    return shapely.geometry.Point(row['LONGITUDE'], row['LATITUDE'])"
   ]
  },
  {
   "cell_type": "code",
   "execution_count": 7,
   "id": "0360dce0",
   "metadata": {
    "tags": [
     "hide"
    ]
   },
   "outputs": [],
   "source": [
    "df['geometry'] = df.apply(make_point, axis=1)"
   ]
  },
  {
   "cell_type": "code",
   "execution_count": 8,
   "id": "e0471b9a",
   "metadata": {},
   "outputs": [
    {
     "data": {
      "text/html": [
       "<div>\n",
       "<style scoped>\n",
       "    .dataframe tbody tr th:only-of-type {\n",
       "        vertical-align: middle;\n",
       "    }\n",
       "\n",
       "    .dataframe tbody tr th {\n",
       "        vertical-align: top;\n",
       "    }\n",
       "\n",
       "    .dataframe thead th {\n",
       "        text-align: right;\n",
       "    }\n",
       "</style>\n",
       "<table border=\"1\" class=\"dataframe\">\n",
       "  <thead>\n",
       "    <tr style=\"text-align: right;\">\n",
       "      <th></th>\n",
       "      <th>NAME</th>\n",
       "      <th>LEASE</th>\n",
       "      <th>WELL</th>\n",
       "      <th>API_NUMBER</th>\n",
       "      <th>LATITUDE</th>\n",
       "      <th>LONGITUDE</th>\n",
       "      <th>geometry</th>\n",
       "    </tr>\n",
       "  </thead>\n",
       "  <tbody>\n",
       "    <tr>\n",
       "      <th>0</th>\n",
       "      <td>SHRIMPLIN</td>\n",
       "      <td>Shrimplin Gas Unit</td>\n",
       "      <td>2HI</td>\n",
       "      <td>15-055-21045</td>\n",
       "      <td>37.978076</td>\n",
       "      <td>-100.987305</td>\n",
       "      <td>POINT (-100.98731 37.97808)</td>\n",
       "    </tr>\n",
       "    <tr>\n",
       "      <th>1</th>\n",
       "      <td>NOLAN</td>\n",
       "      <td>Nolan</td>\n",
       "      <td>4-16</td>\n",
       "      <td>15-055-20824</td>\n",
       "      <td>37.781202</td>\n",
       "      <td>-101.047447</td>\n",
       "      <td>POINT (-101.04745 37.78120)</td>\n",
       "    </tr>\n",
       "    <tr>\n",
       "      <th>2</th>\n",
       "      <td>SHANKLE</td>\n",
       "      <td>Shankle</td>\n",
       "      <td>2-9</td>\n",
       "      <td>15-093-21250</td>\n",
       "      <td>38.063373</td>\n",
       "      <td>-101.389189</td>\n",
       "      <td>POINT (-101.38919 38.06337)</td>\n",
       "    </tr>\n",
       "    <tr>\n",
       "      <th>3</th>\n",
       "      <td>LUKE G U</td>\n",
       "      <td>Luke Gas Unit</td>\n",
       "      <td>4</td>\n",
       "      <td>15-187-20661</td>\n",
       "      <td>37.449961</td>\n",
       "      <td>-101.612191</td>\n",
       "      <td>POINT (-101.61219 37.44996)</td>\n",
       "    </tr>\n",
       "    <tr>\n",
       "      <th>4</th>\n",
       "      <td>NEWBY</td>\n",
       "      <td>Newby</td>\n",
       "      <td>1</td>\n",
       "      <td>15-189-10106</td>\n",
       "      <td>37.325960</td>\n",
       "      <td>-101.325130</td>\n",
       "      <td>POINT (-101.32513 37.32596)</td>\n",
       "    </tr>\n",
       "    <tr>\n",
       "      <th>5</th>\n",
       "      <td>KIMZEY</td>\n",
       "      <td>Kimzey</td>\n",
       "      <td>1</td>\n",
       "      <td>15-189-00588</td>\n",
       "      <td>37.105629</td>\n",
       "      <td>-101.312229</td>\n",
       "      <td>POINT (-101.31223 37.10563)</td>\n",
       "    </tr>\n",
       "    <tr>\n",
       "      <th>6</th>\n",
       "      <td>ALEXANDER</td>\n",
       "      <td>Alexander 'D'</td>\n",
       "      <td>2</td>\n",
       "      <td>15-067-20338</td>\n",
       "      <td>37.674726</td>\n",
       "      <td>-101.167526</td>\n",
       "      <td>POINT (-101.16753 37.67473)</td>\n",
       "    </tr>\n",
       "    <tr>\n",
       "      <th>7</th>\n",
       "      <td>CHURCHMAN BIBLE</td>\n",
       "      <td>Churchman Bible</td>\n",
       "      <td>2</td>\n",
       "      <td>15-189-20982</td>\n",
       "      <td>37.356426</td>\n",
       "      <td>-101.106045</td>\n",
       "      <td>POINT (-101.10605 37.35643)</td>\n",
       "    </tr>\n",
       "    <tr>\n",
       "      <th>8</th>\n",
       "      <td>CROSS H CATTLE</td>\n",
       "      <td>Cross H Cattle Co</td>\n",
       "      <td>1-6</td>\n",
       "      <td>15-075-20543</td>\n",
       "      <td>37.910583</td>\n",
       "      <td>-101.646452</td>\n",
       "      <td>POINT (-101.64645 37.91058)</td>\n",
       "    </tr>\n",
       "    <tr>\n",
       "      <th>9</th>\n",
       "      <td>STUART</td>\n",
       "      <td>Stuart</td>\n",
       "      <td>5-27</td>\n",
       "      <td>15-067-20856</td>\n",
       "      <td>37.500380</td>\n",
       "      <td>-101.129860</td>\n",
       "      <td>POINT (-101.12986 37.50038)</td>\n",
       "    </tr>\n",
       "    <tr>\n",
       "      <th>10</th>\n",
       "      <td>CRAWFORD</td>\n",
       "      <td>Stewart Crawford Unit</td>\n",
       "      <td>1</td>\n",
       "      <td>15-189-20459</td>\n",
       "      <td>37.180732</td>\n",
       "      <td>-101.361268</td>\n",
       "      <td>POINT (-101.36127 37.18073)</td>\n",
       "    </tr>\n",
       "  </tbody>\n",
       "</table>\n",
       "</div>"
      ],
      "text/plain": [
       "               NAME                  LEASE  WELL    API_NUMBER   LATITUDE  \\\n",
       "0         SHRIMPLIN     Shrimplin Gas Unit   2HI  15-055-21045  37.978076   \n",
       "1             NOLAN                  Nolan  4-16  15-055-20824  37.781202   \n",
       "2           SHANKLE                Shankle   2-9  15-093-21250  38.063373   \n",
       "3          LUKE G U          Luke Gas Unit     4  15-187-20661  37.449961   \n",
       "4             NEWBY                  Newby     1  15-189-10106  37.325960   \n",
       "5            KIMZEY                 Kimzey     1  15-189-00588  37.105629   \n",
       "6         ALEXANDER          Alexander 'D'     2  15-067-20338  37.674726   \n",
       "7   CHURCHMAN BIBLE        Churchman Bible     2  15-189-20982  37.356426   \n",
       "8    CROSS H CATTLE      Cross H Cattle Co   1-6  15-075-20543  37.910583   \n",
       "9            STUART                 Stuart  5-27  15-067-20856  37.500380   \n",
       "10         CRAWFORD  Stewart Crawford Unit     1  15-189-20459  37.180732   \n",
       "\n",
       "     LONGITUDE                     geometry  \n",
       "0  -100.987305  POINT (-100.98731 37.97808)  \n",
       "1  -101.047447  POINT (-101.04745 37.78120)  \n",
       "2  -101.389189  POINT (-101.38919 38.06337)  \n",
       "3  -101.612191  POINT (-101.61219 37.44996)  \n",
       "4  -101.325130  POINT (-101.32513 37.32596)  \n",
       "5  -101.312229  POINT (-101.31223 37.10563)  \n",
       "6  -101.167526  POINT (-101.16753 37.67473)  \n",
       "7  -101.106045  POINT (-101.10605 37.35643)  \n",
       "8  -101.646452  POINT (-101.64645 37.91058)  \n",
       "9  -101.129860  POINT (-101.12986 37.50038)  \n",
       "10 -101.361268  POINT (-101.36127 37.18073)  "
      ]
     },
     "execution_count": 8,
     "metadata": {},
     "output_type": "execute_result"
    }
   ],
   "source": [
    "gdf = gpd.GeoDataFrame(df)\n",
    "gdf"
   ]
  },
  {
   "cell_type": "code",
   "execution_count": 9,
   "id": "0f6fefe1",
   "metadata": {},
   "outputs": [
    {
     "data": {
      "text/plain": [
       "<AxesSubplot:>"
      ]
     },
     "execution_count": 9,
     "metadata": {},
     "output_type": "execute_result"
    },
    {
     "data": {
      "image/png": "[encoded data removed]",
      "text/plain": [
       "<Figure size 432x288 with 1 Axes>"
      ]
     },
     "metadata": {
      "needs_background": "light"
     },
     "output_type": "display_data"
    }
   ],
   "source": [
    "gdf.plot()"
   ]
  },
  {
   "cell_type": "markdown",
   "id": "47170325",
   "metadata": {},
   "source": [
    "## Reprojecting our data\n",
    "\n",
    "Once we have a GeoDataFrame, we can start doing some fun things with our data, such as reprojecting it. We can do this automatically when importing a geospatial format, but since we loaded it as a CSV, we first need to set the Coordinate Reference System (CRS), which we can do in a few ways. The easiest is to use an EPSG code. Given that our data is in decimal degrees, we will use a geodetic projection, of which the most common is WGS84. WGS84 has an EPSG code of 4326."
   ]
  },
  {
   "cell_type": "code",
   "execution_count": null,
   "id": "6069102f",
   "metadata": {},
   "outputs": [],
   "source": []
  },
  {
   "cell_type": "code",
   "execution_count": 10,
   "id": "740bd6eb",
   "metadata": {
    "tags": [
     "hide"
    ]
   },
   "outputs": [],
   "source": [
    "gdf.crs"
   ]
  },
  {
   "cell_type": "code",
   "execution_count": 11,
   "id": "ff2fbf71",
   "metadata": {
    "tags": [
     "hide"
    ]
   },
   "outputs": [
    {
     "data": {
      "text/plain": [
       "<Geographic 2D CRS: EPSG:4326>\n",
       "Name: WGS 84\n",
       "Axis Info [ellipsoidal]:\n",
       "- Lat[north]: Geodetic latitude (degree)\n",
       "- Lon[east]: Geodetic longitude (degree)\n",
       "Area of Use:\n",
       "- name: World\n",
       "- bounds: (-180.0, -90.0, 180.0, 90.0)\n",
       "Datum: World Geodetic System 1984\n",
       "- Ellipsoid: WGS 84\n",
       "- Prime Meridian: Greenwich"
      ]
     },
     "execution_count": 11,
     "metadata": {},
     "output_type": "execute_result"
    }
   ],
   "source": [
    "gdf.crs = 'EPSG:4326'\n",
    "gdf.crs"
   ]
  },
  {
   "cell_type": "markdown",
   "id": "dd597a47",
   "metadata": {},
   "source": [
    "We may want to convert this to a UTM projection. In this case we will be using NAD83 for UTM Zone 14N:"
   ]
  },
  {
   "cell_type": "code",
   "execution_count": null,
   "id": "9980586e",
   "metadata": {},
   "outputs": [],
   "source": []
  },
  {
   "cell_type": "code",
   "execution_count": 12,
   "id": "2c324ba5",
   "metadata": {
    "tags": [
     "hide"
    ]
   },
   "outputs": [
    {
     "data": {
      "text/plain": [
       "0     POINT (-202025.122 4233604.505)\n",
       "1     POINT (-209220.368 4212167.437)\n",
       "2     POINT (-236545.131 4246225.822)\n",
       "3     POINT (-262487.924 4179785.672)\n",
       "4     POINT (-238251.504 4163685.509)\n",
       "5     POINT (-239271.456 4139072.194)\n",
       "6     POINT (-220860.722 4201249.432)\n",
       "7     POINT (-218496.319 4165370.333)\n",
       "8     POINT (-260763.111 4231316.448)\n",
       "9     POINT (-219220.610 4181565.659)\n",
       "10    POINT (-242899.686 4147814.024)\n",
       "Name: geometry, dtype: geometry"
      ]
     },
     "execution_count": 12,
     "metadata": {},
     "output_type": "execute_result"
    }
   ],
   "source": [
    "gdf.to_crs(epsg=6344).geometry"
   ]
  },
  {
   "cell_type": "code",
   "execution_count": 13,
   "id": "433229ff",
   "metadata": {
    "tags": [
     "hide"
    ]
   },
   "outputs": [
    {
     "data": {
      "text/plain": [
       "<Projected CRS: EPSG:6344>\n",
       "Name: NAD83(2011) / UTM zone 15N\n",
       "Axis Info [cartesian]:\n",
       "- E[east]: Easting (metre)\n",
       "- N[north]: Northing (metre)\n",
       "Area of Use:\n",
       "- name: USA - 96°W to 90°W\n",
       "- bounds: (-96.01, 25.61, -90.0, 49.38)\n",
       "Coordinate Operation:\n",
       "- name: UTM zone 15N\n",
       "- method: Transverse Mercator\n",
       "Datum: NAD83 (National Spatial Reference System 2011)\n",
       "- Ellipsoid: GRS 1980\n",
       "- Prime Meridian: Greenwich"
      ]
     },
     "execution_count": 13,
     "metadata": {},
     "output_type": "execute_result"
    }
   ],
   "source": [
    "gdf = gdf.to_crs(epsg=6344)\n",
    "gdf.crs"
   ]
  },
  {
   "cell_type": "code",
   "execution_count": 14,
   "id": "58108697",
   "metadata": {
    "tags": [
     "hide"
    ]
   },
   "outputs": [
    {
     "data": {
      "text/plain": [
       "<AxesSubplot:>"
      ]
     },
     "execution_count": 14,
     "metadata": {},
     "output_type": "execute_result"
    },
    {
     "data": {
      "image/png": "[encoded data removed]",
      "text/plain": [
       "<Figure size 432x288 with 1 Axes>"
      ]
     },
     "metadata": {
      "needs_background": "light"
     },
     "output_type": "display_data"
    }
   ],
   "source": [
    "gdf.plot()"
   ]
  },
  {
   "cell_type": "markdown",
   "id": "d0aa3cef",
   "metadata": {},
   "source": [
    "## Selection by coordinates\n",
    "\n",
    "We may want to take a subset of data based on the coordinates, using the `.cx` property."
   ]
  },
  {
   "cell_type": "code",
   "execution_count": null,
   "id": "89bad432",
   "metadata": {},
   "outputs": [],
   "source": []
  },
  {
   "cell_type": "code",
   "execution_count": 15,
   "id": "3c8d53da",
   "metadata": {
    "tags": [
     "hide"
    ]
   },
   "outputs": [
    {
     "data": {
      "text/html": [
       "<div>\n",
       "<style scoped>\n",
       "    .dataframe tbody tr th:only-of-type {\n",
       "        vertical-align: middle;\n",
       "    }\n",
       "\n",
       "    .dataframe tbody tr th {\n",
       "        vertical-align: top;\n",
       "    }\n",
       "\n",
       "    .dataframe thead th {\n",
       "        text-align: right;\n",
       "    }\n",
       "</style>\n",
       "<table border=\"1\" class=\"dataframe\">\n",
       "  <thead>\n",
       "    <tr style=\"text-align: right;\">\n",
       "      <th></th>\n",
       "      <th>NAME</th>\n",
       "      <th>LEASE</th>\n",
       "      <th>WELL</th>\n",
       "      <th>API_NUMBER</th>\n",
       "      <th>LATITUDE</th>\n",
       "      <th>LONGITUDE</th>\n",
       "      <th>geometry</th>\n",
       "    </tr>\n",
       "  </thead>\n",
       "  <tbody>\n",
       "    <tr>\n",
       "      <th>2</th>\n",
       "      <td>SHANKLE</td>\n",
       "      <td>Shankle</td>\n",
       "      <td>2-9</td>\n",
       "      <td>15-093-21250</td>\n",
       "      <td>38.063373</td>\n",
       "      <td>-101.389189</td>\n",
       "      <td>POINT (-236545.131 4246225.822)</td>\n",
       "    </tr>\n",
       "    <tr>\n",
       "      <th>6</th>\n",
       "      <td>ALEXANDER</td>\n",
       "      <td>Alexander 'D'</td>\n",
       "      <td>2</td>\n",
       "      <td>15-067-20338</td>\n",
       "      <td>37.674726</td>\n",
       "      <td>-101.167526</td>\n",
       "      <td>POINT (-220860.722 4201249.432)</td>\n",
       "    </tr>\n",
       "    <tr>\n",
       "      <th>8</th>\n",
       "      <td>CROSS H CATTLE</td>\n",
       "      <td>Cross H Cattle Co</td>\n",
       "      <td>1-6</td>\n",
       "      <td>15-075-20543</td>\n",
       "      <td>37.910583</td>\n",
       "      <td>-101.646452</td>\n",
       "      <td>POINT (-260763.111 4231316.448)</td>\n",
       "    </tr>\n",
       "    <tr>\n",
       "      <th>9</th>\n",
       "      <td>STUART</td>\n",
       "      <td>Stuart</td>\n",
       "      <td>5-27</td>\n",
       "      <td>15-067-20856</td>\n",
       "      <td>37.500380</td>\n",
       "      <td>-101.129860</td>\n",
       "      <td>POINT (-219220.610 4181565.659)</td>\n",
       "    </tr>\n",
       "  </tbody>\n",
       "</table>\n",
       "</div>"
      ],
      "text/plain": [
       "             NAME              LEASE  WELL    API_NUMBER   LATITUDE  \\\n",
       "2         SHANKLE            Shankle   2-9  15-093-21250  38.063373   \n",
       "6       ALEXANDER      Alexander 'D'     2  15-067-20338  37.674726   \n",
       "8  CROSS H CATTLE  Cross H Cattle Co   1-6  15-075-20543  37.910583   \n",
       "9          STUART             Stuart  5-27  15-067-20856  37.500380   \n",
       "\n",
       "    LONGITUDE                         geometry  \n",
       "2 -101.389189  POINT (-236545.131 4246225.822)  \n",
       "6 -101.167526  POINT (-220860.722 4201249.432)  \n",
       "8 -101.646452  POINT (-260763.111 4231316.448)  \n",
       "9 -101.129860  POINT (-219220.610 4181565.659)  "
      ]
     },
     "execution_count": 15,
     "metadata": {},
     "output_type": "execute_result"
    }
   ],
   "source": [
    "gdf.cx[:-210000, 4180000:]"
   ]
  },
  {
   "cell_type": "code",
   "execution_count": 16,
   "id": "4ab3c7bf",
   "metadata": {
    "tags": [
     "hide"
    ]
   },
   "outputs": [
    {
     "data": {
      "text/plain": [
       "<AxesSubplot:>"
      ]
     },
     "execution_count": 16,
     "metadata": {},
     "output_type": "execute_result"
    },
    {
     "data": {
      "image/png": "[encoded data removed]",
      "text/plain": [
       "<Figure size 432x288 with 1 Axes>"
      ]
     },
     "metadata": {
      "needs_background": "light"
     },
     "output_type": "display_data"
    }
   ],
   "source": [
    "gdf.cx[:-210000, 4180000:].plot()"
   ]
  },
  {
   "cell_type": "markdown",
   "id": "a5c851be",
   "metadata": {},
   "source": [
    "## More plotting options\n",
    "\n",
    "The plotting functionality is varied, and a fair number of options exist to do interesting things:"
   ]
  },
  {
   "cell_type": "code",
   "execution_count": null,
   "id": "f4109632",
   "metadata": {},
   "outputs": [],
   "source": []
  },
  {
   "cell_type": "code",
   "execution_count": 17,
   "id": "426da68a",
   "metadata": {
    "scrolled": true,
    "tags": [
     "hide"
    ]
   },
   "outputs": [
    {
     "data": {
      "text/plain": [
       "<AxesSubplot:>"
      ]
     },
     "execution_count": 17,
     "metadata": {},
     "output_type": "execute_result"
    },
    {
     "data": {
      "image/png": "[encoded data removed]",
      "text/plain": [
       "<Figure size 576x720 with 1 Axes>"
      ]
     },
     "metadata": {
      "needs_background": "light"
     },
     "output_type": "display_data"
    }
   ],
   "source": [
    "# Categorical data\n",
    "gdf.plot(column='NAME', legend=True, figsize=(8,10), cmap='tab20')"
   ]
  },
  {
   "cell_type": "code",
   "execution_count": 18,
   "id": "dcd91550",
   "metadata": {
    "scrolled": true,
    "tags": [
     "hide"
    ]
   },
   "outputs": [
    {
     "data": {
      "text/plain": [
       "<AxesSubplot:>"
      ]
     },
     "execution_count": 18,
     "metadata": {},
     "output_type": "execute_result"
    },
    {
     "data": {
      "image/png": "[encoded data removed]",
      "text/plain": [
       "<Figure size 576x720 with 2 Axes>"
      ]
     },
     "metadata": {
      "needs_background": "light"
     },
     "output_type": "display_data"
    }
   ],
   "source": [
    "# Sequential data, although this gdf does not actually have a good candidate for such.\n",
    "gdf.plot(column='LONGITUDE', legend=True, figsize=(8,10))"
   ]
  },
  {
   "cell_type": "code",
   "execution_count": 20,
   "id": "9b8f1c4f",
   "metadata": {
    "scrolled": true,
    "tags": [
     "hide"
    ]
   },
   "outputs": [
    {
     "data": {
      "text/plain": [
       "<AxesSubplot:>"
      ]
     },
     "execution_count": 20,
     "metadata": {},
     "output_type": "execute_result"
    },
    {
     "data": {
      "image/png": "[encoded data removed]",
      "text/plain": [
       "<Figure size 576x720 with 1 Axes>"
      ]
     },
     "metadata": {
      "needs_background": "light"
     },
     "output_type": "display_data"
    }
   ],
   "source": [
    "# binned sequential data\n",
    "gdf.plot(column='LONGITUDE', legend=True, figsize=(8,10), scheme='NaturalBreaks')"
   ]
  },
  {
   "cell_type": "markdown",
   "id": "40086adb",
   "metadata": {},
   "source": [
    "Multiply thickness by porosity and plot it?"
   ]
  },
  {
   "cell_type": "markdown",
   "id": "fd89603d",
   "metadata": {},
   "source": [
    "## Attribute Joins\n",
    "\n",
    "If we want to combine spatial and non-spatial data, then we need to have an attirbute to join. This works similarly to a normal join, but we want to ensure that we have a `geometry` column after we are done."
   ]
  },
  {
   "cell_type": "code",
   "execution_count": null,
   "id": "8e51c535",
   "metadata": {},
   "outputs": [],
   "source": []
  },
  {
   "cell_type": "code",
   "execution_count": null,
   "id": "89efc89d",
   "metadata": {},
   "outputs": [],
   "source": [
    "gdf.buffer(10000)"
   ]
  },
  {
   "cell_type": "code",
   "execution_count": null,
   "id": "417ae0f7",
   "metadata": {},
   "outputs": [],
   "source": [
    "gdf.buffer(10000).plot()"
   ]
  },
  {
   "cell_type": "code",
   "execution_count": null,
   "id": "1d09b4c8",
   "metadata": {},
   "outputs": [],
   "source": [
    "gdf.buffer(10000)"
   ]
  }
 ],
 "metadata": {
  "celltoolbar": "Tags",
  "kernelspec": {
   "display_name": "geoml",
   "language": "python",
   "name": "geoml"
  },
  "language_info": {
   "codemirror_mode": {
    "name": "ipython",
    "version": 3
   },
   "file_extension": ".py",
   "mimetype": "text/x-python",
   "name": "python",
   "nbconvert_exporter": "python",
   "pygments_lexer": "ipython3",
   "version": "3.9.12"
  }
 },
 "nbformat": 4,
 "nbformat_minor": 5
}
