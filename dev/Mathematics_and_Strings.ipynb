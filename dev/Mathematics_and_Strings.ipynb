{
 "cells": [
  {
   "cell_type": "markdown",
   "metadata": {},
   "source": [
    "# Mathematics and Strings\n",
    "\n",
    "## Contents\n",
    "\n",
    "* [Mathematics](#Mathematics)\n",
    "    - [Exercise](#Mathematics-Exercise)\n",
    "* [Strings](#Strings)\n",
    "    - [Exercise](#String-Exercise)"
   ]
  },
  {
   "cell_type": "markdown",
   "metadata": {},
   "source": [
    "## Mathematics\n",
    "\n",
    "We covered much of this in the console, but just as revision:"
   ]
  },
  {
   "cell_type": "markdown",
   "metadata": {
    "tags": [
     "info"
    ]
   },
   "source": [
    "\n",
    "```python\n",
    "2 + 3 # Addition\n",
    "2 - 3  # Subtraction\n",
    "2 * 3  # Multiplication\n",
    "2 / 3  # Division\n",
    "11 // 2  # Floor division\n",
    "11 % 2  # Modulo (remainder)\n",
    "2**3  # Exponentiation\n",
    "```\n",
    "\n",
    "If we want to do more complex maths than covered above, then we will need to `import` a library with additional functions. `import math` is the option from the standard library. This gives us access to a number of other functions, such as:\n",
    "\n",
    "```python\n",
    "math.sqrt(2)  # square root\n",
    "math.floor(2.5)  # round to lowest integer (2 in this case)\n",
    "math.ceiling(2.3)  # round to next integer (3 in this case)\n",
    "math.cos(2)  # cosine of 2 radians. Other trig functions are available.\n",
    "math.pow(2, 3)  # raise x (2) to the power y (3).\n",
    "```\n",
    "\n",
    "`help(math)` will give you a list of everything."
   ]
  },
  {
   "cell_type": "markdown",
   "metadata": {
    "tags": [
     "exercise"
    ]
   },
   "source": [
    "### Mathematics Exercise\n",
    "\n",
    "1. What is the log<sub>10</sub> of 7e6? (You will need to use the `math` library, or `numpy` if you prefer)\n",
    "1. What is the $\\tan$ of $\\pi / 4$ radians?\n",
    "1. What is $\\sin^2(45^\\circ)$?\n",
    "1. Given $\\phi_0 = 0.3$, $c = 0.005$, and $z = 157$, what is $\\phi = \\phi_{0}\\,\\operatorname{e}^{-cz}$? <a title=\"There is a function, math.exp, that might be useful.\"><b>HINT</b></a>"
   ]
  },
  {
   "cell_type": "code",
   "execution_count": null,
   "metadata": {},
   "outputs": [],
   "source": []
  },
  {
   "cell_type": "code",
   "execution_count": null,
   "metadata": {},
   "outputs": [],
   "source": []
  },
  {
   "cell_type": "code",
   "execution_count": null,
   "metadata": {},
   "outputs": [],
   "source": []
  },
  {
   "cell_type": "code",
   "execution_count": null,
   "metadata": {},
   "outputs": [],
   "source": [
    "phi_zero = 0.3\n",
    "c = 0.005\n",
    "\n",
    "phi = # your code here"
   ]
  },
  {
   "cell_type": "markdown",
   "metadata": {
    "tags": [
     "info"
    ]
   },
   "source": [
    "## Strings in detail\n",
    "\n",
    "Again, this was covered in the console, but this should be a handy summary of the basics of strings.\n",
    "\n",
    "* [Creating strings](#Creating-Strings)\n",
    "* `print` and [special characters](#Special-Characters) (`\\n`, `\\t`)\n",
    "* [Indexing and slicing](#Indexing-and-slicing)\n",
    "* [Membership and operations](#Membership-and-operations)\n",
    "* [String methods](#Membership-and-operations) (`strip`, `lower`, `islower`, `find`, `replace`)\n",
    "* [Formatting strings](#Formatting-strings): f-strings and `.format`"
   ]
  },
  {
   "cell_type": "markdown",
   "metadata": {
    "tags": [
     "hide"
    ]
   },
   "source": [
    "The links above only work if the headers below are left unchanged. If you change a heading, the link will break."
   ]
  },
  {
   "cell_type": "markdown",
   "metadata": {},
   "source": [
    "#### Creating Strings\n",
    "Creating strings is done by having characters (letters or numbers) within `'` or `\"`. Either is acceptable, as long as they match:\n",
    "\n",
    "`'sandstone'` or `\"sandstone\"`, for example."
   ]
  },
  {
   "cell_type": "code",
   "execution_count": null,
   "metadata": {},
   "outputs": [],
   "source": [
    "'sandstone'"
   ]
  },
  {
   "cell_type": "code",
   "execution_count": null,
   "metadata": {},
   "outputs": [],
   "source": [
    "'42'"
   ]
  },
  {
   "cell_type": "code",
   "execution_count": null,
   "metadata": {},
   "outputs": [],
   "source": [
    "type('42')"
   ]
  },
  {
   "cell_type": "markdown",
   "metadata": {},
   "source": [
    "#### Special Characters\n",
    "\n",
    "Special characters are placed after `\\`. Some examples include:\n",
    "* `\\n` - new line\n",
    "* `\\t` - tab character\n",
    "* `\\\\` - literal backslash (`\\`)\n",
    "* `\\'` - literal quotation (`'`)\n",
    "\n",
    "These are treated as a single character! For example: `len('\\t')` is `1`.\n",
    "\n",
    "When using `print`, these will look slightly different:"
   ]
  },
  {
   "cell_type": "code",
   "execution_count": 2,
   "metadata": {},
   "outputs": [
    {
     "name": "stdout",
     "output_type": "stream",
     "text": [
      "We can use 'special' characters:\n",
      "\tlike \\.\n"
     ]
    }
   ],
   "source": [
    "print('We can use \\'special\\' characters:\\n\\tlike \\\\.')"
   ]
  },
  {
   "cell_type": "code",
   "execution_count": null,
   "metadata": {},
   "outputs": [],
   "source": [
    "s = 'sandstone\\tphi:\\t0.3\\n\\t\\tGR:\\t32'\n",
    "s"
   ]
  },
  {
   "cell_type": "code",
   "execution_count": null,
   "metadata": {},
   "outputs": [],
   "source": [
    "print(s)"
   ]
  },
  {
   "cell_type": "code",
   "execution_count": null,
   "metadata": {},
   "outputs": [],
   "source": [
    "len(s)"
   ]
  },
  {
   "cell_type": "markdown",
   "metadata": {},
   "source": [
    "#### Indexing and Slicing\n",
    "\n",
    "We can extract a character from a string as follows: `string[index]`. `index` must be an integer number, and can not be larger than the length of the string minus 1. This is because it starts at 0.\n",
    "\n",
    "The value of `index` can be negative, in which case it counts backwards from the end of the string. `string[-1]` is a shorthand to get the last character in the string, while `string[0]` gets you the first character."
   ]
  },
  {
   "cell_type": "code",
   "execution_count": null,
   "metadata": {},
   "outputs": [],
   "source": [
    "s[4]"
   ]
  },
  {
   "cell_type": "code",
   "execution_count": null,
   "metadata": {},
   "outputs": [],
   "source": [
    "s[-1]"
   ]
  },
  {
   "cell_type": "code",
   "execution_count": null,
   "metadata": {
    "tags": [
     "hide"
    ]
   },
   "outputs": [],
   "source": [
    "# This does _not_ work. Strings are immutable, so they can not be changed.\n",
    "# Might want to compare to a list later instead?\n",
    "s[4] = 'S'"
   ]
  },
  {
   "cell_type": "markdown",
   "metadata": {},
   "source": [
    "We can also extract a substring using a _slice_. This looks like this:\n",
    "\n",
    "`string[start:stop:step]`\n",
    "\n",
    "which will extract every `step` character, from the `start`, up to but not including `stop`. `start`, `stop`, `step` all need to be integer values.\n",
    "\n",
    "If the start or end are not given, then the slice is extended as is logical. So `string[0:4]` is equivalent to `string[:4]`.\n",
    "\n",
    "If `step` is not given, it is assumed to be 1. Note that negative steps are accepted."
   ]
  },
  {
   "cell_type": "code",
   "execution_count": null,
   "metadata": {},
   "outputs": [],
   "source": [
    "s[:9]"
   ]
  },
  {
   "cell_type": "code",
   "execution_count": null,
   "metadata": {
    "tags": [
     "hide"
    ]
   },
   "outputs": [],
   "source": [
    "s[-2:]"
   ]
  },
  {
   "cell_type": "markdown",
   "metadata": {},
   "source": [
    "#### Membership and operations\n",
    "\n",
    "We can check if a case-sensitive substring is present in the string using the key word `in`:"
   ]
  },
  {
   "cell_type": "code",
   "execution_count": null,
   "metadata": {},
   "outputs": [],
   "source": [
    "'sand' in s"
   ]
  },
  {
   "cell_type": "markdown",
   "metadata": {},
   "source": [
    "Some mathematical operators are _overloaded_ to work on strings:"
   ]
  },
  {
   "cell_type": "code",
   "execution_count": null,
   "metadata": {},
   "outputs": [],
   "source": [
    "'=' * 10"
   ]
  },
  {
   "cell_type": "code",
   "execution_count": null,
   "metadata": {},
   "outputs": [],
   "source": [
    "'Hello ' + 'world' + '!'"
   ]
  },
  {
   "cell_type": "markdown",
   "metadata": {},
   "source": [
    "Adding an integer to a string does not work unless we _typecast_ the `int` into a string."
   ]
  },
  {
   "cell_type": "code",
   "execution_count": null,
   "metadata": {},
   "outputs": [],
   "source": [
    "'The value is ' + str(243.21) + ' Nm.'"
   ]
  },
  {
   "cell_type": "code",
   "execution_count": null,
   "metadata": {
    "tags": [
     "hide"
    ]
   },
   "outputs": [],
   "source": [
    "' '.join(['Hello', 'World'])"
   ]
  },
  {
   "cell_type": "markdown",
   "metadata": {},
   "source": [
    "#### String methods\n",
    "\n",
    "Methods are something that can be done to specific instance of a string. For example, we can `strip` white space characters from a string:"
   ]
  },
  {
   "cell_type": "code",
   "execution_count": null,
   "metadata": {},
   "outputs": [],
   "source": [
    "'  a string    surrounded by spaces   \\n   '.strip()"
   ]
  },
  {
   "cell_type": "markdown",
   "metadata": {},
   "source": [
    "We can also change or check the case of a string:"
   ]
  },
  {
   "cell_type": "code",
   "execution_count": null,
   "metadata": {},
   "outputs": [],
   "source": [
    "s.lower()"
   ]
  },
  {
   "cell_type": "code",
   "execution_count": null,
   "metadata": {},
   "outputs": [],
   "source": [
    "s.islower()"
   ]
  },
  {
   "cell_type": "markdown",
   "metadata": {},
   "source": [
    "Some methods let us get the index of a substring, or confirm that the string begins with a given substring:"
   ]
  },
  {
   "cell_type": "code",
   "execution_count": null,
   "metadata": {},
   "outputs": [],
   "source": [
    "s.find('GR')"
   ]
  },
  {
   "cell_type": "code",
   "execution_count": null,
   "metadata": {},
   "outputs": [],
   "source": [
    "s.startswith('Sand')"
   ]
  },
  {
   "cell_type": "code",
   "execution_count": null,
   "metadata": {},
   "outputs": [],
   "source": [
    "s.replace('sand', 'silt')"
   ]
  },
  {
   "cell_type": "markdown",
   "metadata": {},
   "source": [
    "Methods can be _chained_, in which case each method is applied one after the other:"
   ]
  },
  {
   "cell_type": "code",
   "execution_count": null,
   "metadata": {},
   "outputs": [],
   "source": [
    "s.replace('sand', 'silt').upper()"
   ]
  },
  {
   "cell_type": "markdown",
   "metadata": {},
   "source": [
    "#### Formatting strings\n",
    "\n",
    "It is common to want to put numbers into a string:"
   ]
  },
  {
   "cell_type": "code",
   "execution_count": null,
   "metadata": {},
   "outputs": [],
   "source": [
    "poro = 0.15\n",
    "\n",
    "'The porosity is ' + poro"
   ]
  },
  {
   "cell_type": "code",
   "execution_count": null,
   "metadata": {},
   "outputs": [],
   "source": []
  },
  {
   "cell_type": "markdown",
   "metadata": {},
   "source": [
    "There are three ways to deal with this error, all of which give us the same output. The first simply _casts_ the `float` into a `str`, while the other two methods give us more control. \n",
    "\n",
    "These two methods are: `.format` or using f-strings. The latter is more compact, and there is no particular reason to not use them, unless you are working on legacy code. A f-string is a formatted string.\n",
    "\n",
    "We can put expressions or variables into strings directly with `.format` and f-strings:"
   ]
  },
  {
   "cell_type": "code",
   "execution_count": null,
   "metadata": {},
   "outputs": [],
   "source": [
    "'The porosity is ' + str(poro)\n",
    "f'The porosity is {poro}'\n",
    "'The porosity is {}'.format(poro)"
   ]
  },
  {
   "cell_type": "markdown",
   "metadata": {},
   "source": [
    "We can also control the formatting using an additional mini-language docs: https://docs.python.org/3/library/string.html#formatspec"
   ]
  },
  {
   "cell_type": "markdown",
   "metadata": {
    "tags": [
     "exercise"
    ]
   },
   "source": [
    "### String Exercise\n",
    "\n",
    "- Use the `math` or `numpy` module and an f-string to print $\\mathrm{e}$ (the base of the natural logarithm) to 3 decimal places. \n",
    "- Change `'JURASSIC*PERIOD\\n'` to lower case.\n",
    "- Change the `'*'` to a space, change everything to title case, and remove the new line. Do this in a single expression if you can."
   ]
  },
  {
   "cell_type": "code",
   "execution_count": null,
   "metadata": {
    "tags": [
     "hide"
    ]
   },
   "outputs": [],
   "source": [
    "import math"
   ]
  },
  {
   "cell_type": "code",
   "execution_count": null,
   "metadata": {},
   "outputs": [],
   "source": [
    "# Print e in an f-string with 3 decimal places.\n"
   ]
  },
  {
   "cell_type": "code",
   "execution_count": null,
   "metadata": {},
   "outputs": [],
   "source": [
    "# Change the following string to lower case.\n",
    "s = 'JURASSIC*PERIOD\\n'\n"
   ]
  },
  {
   "cell_type": "code",
   "execution_count": null,
   "metadata": {},
   "outputs": [],
   "source": [
    "# Change the '*' to a space, change everything to title case, and remove the new line character.\n"
   ]
  }
 ],
 "metadata": {
  "celltoolbar": "Tags",
  "kernelspec": {
   "display_name": "geocomp",
   "language": "python",
   "name": "geocomp"
  },
  "language_info": {
   "codemirror_mode": {
    "name": "ipython",
    "version": 3
   },
   "file_extension": ".py",
   "mimetype": "text/x-python",
   "name": "python",
   "nbconvert_exporter": "python",
   "pygments_lexer": "ipython3",
   "version": "3.9.10"
  }
 },
 "nbformat": 4,
 "nbformat_minor": 4
}
