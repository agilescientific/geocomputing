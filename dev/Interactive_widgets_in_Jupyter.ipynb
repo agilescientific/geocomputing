{
 "cells": [
  {
   "cell_type": "markdown",
   "metadata": {},
   "source": [
    "# An introduction to Interact\n",
    "\n",
    "\"The interact function (ipywidgets.interact) automatically creates user interface (UI) controls for exploring code and data interactively. It is the easiest way to get started using IPython’s widgets.\" [Using Interact Documentation](https://ipywidgets.readthedocs.io/en/stable/examples/Using%20Interact.html)"
   ]
  },
  {
   "cell_type": "code",
   "execution_count": 1,
   "metadata": {},
   "outputs": [],
   "source": [
    "import matplotlib.pyplot as plt"
   ]
  },
  {
   "cell_type": "markdown",
   "metadata": {},
   "source": [
    "## Why would we want to use Interact in the first place? \n",
    "\n",
    "An _interactive_ figure speaks a thousand words."
   ]
  },
  {
   "cell_type": "code",
   "execution_count": null,
   "metadata": {},
   "outputs": [],
   "source": [
    "%load ../master/demos/plotter.py"
   ]
  },
  {
   "cell_type": "markdown",
   "metadata": {},
   "source": [
    "## Basic interact\n",
    "\n",
    "Let's jump in: for a basic function `vp_from_dt` that prints out `Vp` for a given `DT`, we can construct a simple slider like so:"
   ]
  },
  {
   "cell_type": "code",
   "execution_count": 3,
   "metadata": {},
   "outputs": [],
   "source": [
    "def vp_from_dt(dt):\n",
    "    \n",
    "    vp = 10e6 / dt\n",
    "    \n",
    "    return print(f'vp = {vp:.2f}')"
   ]
  },
  {
   "cell_type": "code",
   "execution_count": 4,
   "metadata": {},
   "outputs": [
    {
     "data": {
      "application/vnd.jupyter.widget-view+json": {
       "model_id": "5c1b8fb99030426e84e00dea2668a985",
       "version_major": 2,
       "version_minor": 0
      },
      "text/plain": [
       "interactive(children=(IntSlider(value=3500, description='dt', max=10500, min=-3500), Output()), _dom_classes=(…"
      ]
     },
     "metadata": {},
     "output_type": "display_data"
    },
    {
     "data": {
      "text/plain": [
       "<function __main__.vp_from_dt(dt)>"
      ]
     },
     "execution_count": 4,
     "metadata": {},
     "output_type": "execute_result"
    }
   ],
   "source": [
    "from ipywidgets import interact\n",
    "\n",
    "interact(vp_from_dt, dt=3500)"
   ]
  },
  {
   "cell_type": "markdown",
   "metadata": {},
   "source": [
    "For a similar function that requires a `boolean`, we can make a toggle, also notice that by saving the `interact()` function to a `name`, we suppress the output `<function __main__.convert_vp_to_dt(vp, convert_to_dt)>`.\n",
    "\n",
    "We have also created a dropdown list automatically by passing an `iterable` to the `interact()` function."
   ]
  },
  {
   "cell_type": "code",
   "execution_count": 5,
   "metadata": {},
   "outputs": [],
   "source": [
    "import numpy as np\n",
    "\n",
    "vp = np.arange(2400, 2750, 50)\n",
    "def convert_vp_to_dt(vp, convert_to_dt):\n",
    "    if convert_to_dt:\n",
    "        output = 1e6/vp\n",
    "    else:\n",
    "        output = vp\n",
    "    return print(f'The result is {output:.2f}')"
   ]
  },
  {
   "cell_type": "code",
   "execution_count": 6,
   "metadata": {
    "scrolled": false
   },
   "outputs": [
    {
     "data": {
      "application/vnd.jupyter.widget-view+json": {
       "model_id": "76201516d574413b8664cf2db08a3d6b",
       "version_major": 2,
       "version_minor": 0
      },
      "text/plain": [
       "interactive(children=(Dropdown(description='vp', options=(2400, 2450, 2500, 2550, 2600, 2650, 2700), value=240…"
      ]
     },
     "metadata": {},
     "output_type": "display_data"
    }
   ],
   "source": [
    "my_boolean = interact(convert_vp_to_dt, vp=vp, convert_to_dt=True)"
   ]
  },
  {
   "cell_type": "markdown",
   "metadata": {},
   "source": [
    "If we need to get input from the user, we can use an `input box`, (see [here](https://stackoverflow.com/questions/35361038/using-ipython-ipywidget-to-create-a-variable) for example):\n",
    "\n",
    "- We first define variables for the `input` and `saved` variables\n",
    "- Then we define a `get_input()` function that will assign the input value to the saved variable\n",
    "- Next we call the `on_submit()` function on the `input variable`, passing it the `get_input()` function"
   ]
  },
  {
   "cell_type": "code",
   "execution_count": null,
   "metadata": {},
   "outputs": [],
   "source": []
  },
  {
   "cell_type": "code",
   "execution_count": null,
   "metadata": {},
   "outputs": [],
   "source": []
  },
  {
   "cell_type": "code",
   "execution_count": 7,
   "metadata": {
    "tags": [
     "hide"
    ]
   },
   "outputs": [],
   "source": [
    "import ipywidgets as widgets\n",
    "\n",
    "input_string = widgets.Text(placeholder='Please type something in this box')\n",
    "saved_string = widgets.Text()\n",
    "\n",
    "def get_input(input_text):\n",
    "    \"\"\"bind the input text to a variable\"\"\"\n",
    "    saved_string.value = input_string.value\n",
    "    return saved_string"
   ]
  },
  {
   "cell_type": "code",
   "execution_count": 8,
   "metadata": {
    "tags": [
     "hide"
    ]
   },
   "outputs": [],
   "source": [
    "input_string.on_submit(get_input)"
   ]
  },
  {
   "cell_type": "markdown",
   "metadata": {},
   "source": [
    "We can now use the `input_variable` to see an input box:"
   ]
  },
  {
   "cell_type": "code",
   "execution_count": 9,
   "metadata": {},
   "outputs": [
    {
     "data": {
      "application/vnd.jupyter.widget-view+json": {
       "model_id": "85b742dc26c14d62adcb2085e27c89db",
       "version_major": 2,
       "version_minor": 0
      },
      "text/plain": [
       "Text(value='', placeholder='Please type something in this box')"
      ]
     },
     "metadata": {},
     "output_type": "display_data"
    }
   ],
   "source": [
    "input_string"
   ]
  },
  {
   "cell_type": "markdown",
   "metadata": {},
   "source": [
    "And the `output_variable` will be updated `on_submit()`:"
   ]
  },
  {
   "cell_type": "code",
   "execution_count": 10,
   "metadata": {},
   "outputs": [
    {
     "data": {
      "application/vnd.jupyter.widget-view+json": {
       "model_id": "ec8b7e61ed2d4dada60afe8619668403",
       "version_major": 2,
       "version_minor": 0
      },
      "text/plain": [
       "Text(value='')"
      ]
     },
     "metadata": {},
     "output_type": "display_data"
    }
   ],
   "source": [
    "saved_string"
   ]
  },
  {
   "cell_type": "markdown",
   "metadata": {},
   "source": [
    "We now have access to the `output_variable` and can saved it to a string for manipulation:"
   ]
  },
  {
   "cell_type": "code",
   "execution_count": 11,
   "metadata": {},
   "outputs": [
    {
     "data": {
      "text/plain": [
       "''"
      ]
     },
     "execution_count": 11,
     "metadata": {},
     "output_type": "execute_result"
    }
   ],
   "source": [
    "my_string = saved_string.value\n",
    "my_string.upper()"
   ]
  },
  {
   "cell_type": "markdown",
   "metadata": {},
   "source": [
    "Also note that the `saved_variable` remains bound to the `input_variable`, so if you type something else in the `input_variable` box, the `saved_variable` is updated. The reverse is _not_ true however."
   ]
  },
  {
   "cell_type": "markdown",
   "metadata": {},
   "source": [
    "### There are many widget types available:\n",
    "- [Numeric widgets](https://ipywidgets.readthedocs.io/en/stable/examples/Widget%20List.html#Numeric-widgets)\n",
    "- [Boolean widgets](https://ipywidgets.readthedocs.io/en/stable/examples/Widget%20List.html#Boolean-widgets)\n",
    "- [Selection widgets](https://ipywidgets.readthedocs.io/en/stable/examples/Widget%20List.html#Selection-widgets)\n",
    "- [String widgets](https://ipywidgets.readthedocs.io/en/stable/examples/Widget%20List.html#String-widgets)\n",
    "- [Image](https://ipywidgets.readthedocs.io/en/stable/examples/Widget%20List.html#Image)\n",
    "- [Button](https://ipywidgets.readthedocs.io/en/stable/examples/Widget%20List.html#Button)\n",
    "- [Output](https://ipywidgets.readthedocs.io/en/latest/examples/Output%20Widget.html)\n",
    "- [Play (Animation) widget](https://ipywidgets.readthedocs.io/en/stable/examples/Widget%20List.html#Play-(Animation)-widget)\n",
    "- [Date picker](https://ipywidgets.readthedocs.io/en/stable/examples/Widget%20List.html#Date-picker)\n",
    "- [Color picker](https://ipywidgets.readthedocs.io/en/stable/examples/Widget%20List.html#Color-picker)\n",
    "- [Controller](https://ipywidgets.readthedocs.io/en/stable/examples/Widget%20List.html#Controller)\n",
    "- [Container/Layout widgets](https://ipywidgets.readthedocs.io/en/stable/examples/Widget%20List.html#Container/Layout-widgets)\n",
    "\n",
    "Almost all have different `keyword arguments` that can be set as in the `IntSlider` example below:"
   ]
  },
  {
   "cell_type": "code",
   "execution_count": 12,
   "metadata": {},
   "outputs": [
    {
     "data": {
      "application/vnd.jupyter.widget-view+json": {
       "model_id": "90abd5fb83334bf5b0364fa049e3b60e",
       "version_major": 2,
       "version_minor": 0
      },
      "text/plain": [
       "IntSlider(value=12, continuous_update=False, description='Slider:')"
      ]
     },
     "metadata": {},
     "output_type": "display_data"
    }
   ],
   "source": [
    "widgets.IntSlider(\n",
    "    value=12,\n",
    "    min=0,\n",
    "    max=100,\n",
    "    step=1,\n",
    "    description='Slider:',\n",
    "    disabled=False,\n",
    "    continuous_update=False,\n",
    "    orientation='horizontal',\n",
    "    readout=True,\n",
    "    readout_format='d'\n",
    ")"
   ]
  },
  {
   "cell_type": "markdown",
   "metadata": {
    "tags": [
     "exe"
    ]
   },
   "source": [
    "### Exercise\n",
    "Try to replicate the range slider below using a min of 0 and a max of 20.\n",
    "Once you've got it working, see what changes you can make to it.\n",
    "\n",
    "<img src='../data/range-slider.png'/>\n",
    "\n",
    "If you don't know where to start, you'll find all the widgets [here](https://ipywidgets.readthedocs.io/en/stable/examples/Widget%20List.html#Widget-List)."
   ]
  },
  {
   "cell_type": "code",
   "execution_count": 13,
   "metadata": {},
   "outputs": [],
   "source": [
    "# Your code here.\n",
    "\n"
   ]
  },
  {
   "cell_type": "code",
   "execution_count": null,
   "metadata": {},
   "outputs": [],
   "source": []
  },
  {
   "cell_type": "code",
   "execution_count": 14,
   "metadata": {
    "tags": [
     "hide"
    ]
   },
   "outputs": [
    {
     "data": {
      "application/vnd.jupyter.widget-view+json": {
       "model_id": "5e57aa67879f401d9b6c937e12e1894f",
       "version_major": 2,
       "version_minor": 0
      },
      "text/plain": [
       "IntRangeSlider(value=(3, 12), continuous_update=False, description='Range:', max=20)"
      ]
     },
     "metadata": {},
     "output_type": "display_data"
    }
   ],
   "source": [
    "widgets.IntRangeSlider(\n",
    "    value=[3, 12],\n",
    "    min=0,\n",
    "    max=20,\n",
    "    step=1,\n",
    "    description='Range:',\n",
    "    disabled=False,\n",
    "    continuous_update=False,\n",
    "    orientation='horizontal',\n",
    "    readout=True,\n",
    "    readout_format='d',\n",
    ")"
   ]
  },
  {
   "cell_type": "markdown",
   "metadata": {},
   "source": [
    "## Interact usage\n",
    "\n",
    "`interact` can also be used as a `decorator`. Interact [decorators](https://wiki.python.org/moin/PythonDecorators#What_is_a_Decorator) allow you expand the functionality of your function and interact with it in a single shot. As this `square_or_double()` example function shows, interact also works with functions that have multiple arguments. [source](https://ipywidgets.readthedocs.io/en/stable/examples/Using%20Interact.html#Basic-interact)"
   ]
  },
  {
   "cell_type": "code",
   "execution_count": 15,
   "metadata": {},
   "outputs": [
    {
     "data": {
      "application/vnd.jupyter.widget-view+json": {
       "model_id": "62ae3308ec8a47219fd996a0cce2e715",
       "version_major": 2,
       "version_minor": 0
      },
      "text/plain": [
       "interactive(children=(RadioButtons(description='option', options=('squared', 'doubled'), value='squared'), Int…"
      ]
     },
     "metadata": {},
     "output_type": "display_data"
    }
   ],
   "source": [
    "method = widgets.RadioButtons(options=['squared','doubled'],description='option')\n",
    "y = widgets.IntSlider(value=5,min=0,max=10,step=1,description='y')\n",
    "\n",
    "@interact(method=method, y=y)\n",
    "def square_or_double(method, y):\n",
    "    if method == 'squared':\n",
    "        result = y**2\n",
    "    else:\n",
    "        result = y*2\n",
    "    return print(f'{y} {method} = {result}')"
   ]
  },
  {
   "cell_type": "markdown",
   "metadata": {
    "tags": [
     "exe"
    ]
   },
   "source": [
    "### Exercise\n",
    "Write a function that returns `a` to the power of `b` but use the interact decorator to make both `a` and `b` interactive (between 0 and 10 in steps of 1), add a toggle to negate the result."
   ]
  },
  {
   "cell_type": "code",
   "execution_count": 16,
   "metadata": {},
   "outputs": [],
   "source": [
    "# Your code here.\n",
    "\n"
   ]
  },
  {
   "cell_type": "code",
   "execution_count": null,
   "metadata": {},
   "outputs": [],
   "source": []
  },
  {
   "cell_type": "code",
   "execution_count": 17,
   "metadata": {
    "tags": [
     "hide"
    ]
   },
   "outputs": [
    {
     "data": {
      "application/vnd.jupyter.widget-view+json": {
       "model_id": "44e46d506113477595bb0d546147a985",
       "version_major": 2,
       "version_minor": 0
      },
      "text/plain": [
       "interactive(children=(IntSlider(value=2, description='a', max=10), IntSlider(value=4, description='b', max=10)…"
      ]
     },
     "metadata": {},
     "output_type": "display_data"
    }
   ],
   "source": [
    "@interact(a=widgets.IntSlider(value=2,min=0,max=10,step=1,description='a'),\n",
    "          b=widgets.IntSlider(value=4,min=0,max=10,step=1,description='b'),\n",
    "          negate=widgets.Checkbox(value=False,description='negate'))\n",
    "def pow_a_b(a, b, negate):\n",
    "    \"\"\"return a to the power of b or negative a**b\"\"\"\n",
    "    if negate:\n",
    "        out = -a**b\n",
    "    else:\n",
    "        out = a**b\n",
    "    return out"
   ]
  },
  {
   "cell_type": "code",
   "execution_count": 18,
   "metadata": {
    "tags": [
     "hide"
    ]
   },
   "outputs": [
    {
     "data": {
      "application/vnd.jupyter.widget-view+json": {
       "model_id": "5940093d975344e18dfdff85aebc37bc",
       "version_major": 2,
       "version_minor": 0
      },
      "text/plain": [
       "interactive(children=(IntSlider(value=5, description='a', max=10), IntSlider(value=5, description='b', max=10)…"
      ]
     },
     "metadata": {},
     "output_type": "display_data"
    }
   ],
   "source": [
    "@interact(a=(0,10,1), b=(0,10,1), negate=False)\n",
    "def pow_a_b(a, b, negate):\n",
    "    \"\"\"return a to the power of b or negative a**b\"\"\"\n",
    "    if negate:\n",
    "        out = -a**b\n",
    "    else:\n",
    "        out = a**b\n",
    "    return out"
   ]
  },
  {
   "cell_type": "markdown",
   "metadata": {},
   "source": [
    "### Worked Example\n",
    "\n",
    "Let's build an example of an interactive wavelet using [Bruges](https://github.com/agile-geoscience/bruges), we'll use:\n",
    "- [Ricker](https://github.com/agile-geoscience/bruges/blob/master/bruges/filters/wavelets.py)\n",
    "- [Gabor](https://github.com/agile-geoscience/bruges/blob/master/bruges/filters/wavelets.py)\n",
    "- [sinc](https://github.com/agile-geoscience/bruges/blob/master/bruges/filters/wavelets.py)\n",
    "- [cosine](https://github.com/agile-geoscience/bruges/blob/master/bruges/filters/wavelets.py)"
   ]
  },
  {
   "cell_type": "code",
   "execution_count": 19,
   "metadata": {},
   "outputs": [
    {
     "data": {
      "image/png": "[encoded data removed]",
      "text/plain": [
       "<Figure size 1080x432 with 1 Axes>"
      ]
     },
     "metadata": {
      "needs_background": "light"
     },
     "output_type": "display_data"
    }
   ],
   "source": [
    "from bruges.filters.wavelets import ricker, gabor, sinc, cosine\n",
    "\n",
    "w, t = ricker(duration=0.128, dt=0.001, f=25, return_t=True)\n",
    "\n",
    "fig, ax = plt.subplots(figsize=(15, 6), ncols=1)\n",
    "\n",
    "ax.plot(t, w)\n",
    "ax.grid()\n",
    "ax.set_title(f'ricker wavelet - frequency=25')\n",
    "\n",
    "plt.show()"
   ]
  },
  {
   "cell_type": "markdown",
   "metadata": {
    "tags": [
     "exe"
    ]
   },
   "source": [
    "### Exercise\n",
    "Let's turn this into an interactive function:\n",
    "- first define a function\n",
    "- copy the code above into that function\n",
    "- use an interact decorator and widget to have frequency by a slider (allow a range from 1Hz to 75Hz in steps of 1Hz)\n",
    "\n",
    "Remember to correct the title."
   ]
  },
  {
   "cell_type": "code",
   "execution_count": 20,
   "metadata": {},
   "outputs": [],
   "source": [
    "# Your code here.\n",
    "\n"
   ]
  },
  {
   "cell_type": "code",
   "execution_count": null,
   "metadata": {},
   "outputs": [],
   "source": []
  },
  {
   "cell_type": "code",
   "execution_count": 21,
   "metadata": {
    "tags": [
     "hide"
    ]
   },
   "outputs": [
    {
     "data": {
      "application/vnd.jupyter.widget-view+json": {
       "model_id": "14cb472f5cf448199c91d1f65049db05",
       "version_major": 2,
       "version_minor": 0
      },
      "text/plain": [
       "interactive(children=(IntSlider(value=25, description='frequency', max=75, min=1), Output()), _dom_classes=('w…"
      ]
     },
     "metadata": {},
     "output_type": "display_data"
    }
   ],
   "source": [
    "@interact(frequency=widgets.IntSlider(value=25,min=1,max=75,step=1))\n",
    "def plot_filter(frequency):\n",
    "    w, t = ricker(duration=0.128, dt=0.001, f=frequency, return_t=True)\n",
    "\n",
    "    fig, ax = plt.subplots(figsize=(15, 6), ncols=1)\n",
    "\n",
    "    ax.plot(t, w)\n",
    "    ax.grid()\n",
    "    ax.set_title(f'ricker wavelet - frequency={frequency}')\n",
    "\n",
    "    plt.show()\n",
    "    \n",
    "    return"
   ]
  },
  {
   "cell_type": "markdown",
   "metadata": {
    "tags": [
     "exe"
    ]
   },
   "source": [
    "### Exercise\n",
    "Now let's allow the user to pass both duration _and_ dt as interactive arguments, using your code above:\n",
    "- add two more arguments to the function\n",
    "- define these arguments `duration` and `dt` as `Interact.widgets`\n",
    "\n",
    "For `duration` use a value 0.256 seconds with a minimum of 0.04 seconds, a maximum of 0.512 seconds and steps of 0.004 seconds.\n",
    "\n",
    "For `dt` use a value 0.001 seconds with a minimum of 0.0001 seconds, a maximum of 0.008 seconds and steps of 0.0001 seconds. You may want to use the `**kwargs` `readout_format='.4f'` for `dt`.\n",
    "\n",
    "N.B.: you can optionally add `continuous_update=False` to the arguments of your `widgets` in order to avoid 'choppy' display when you move the sliders."
   ]
  },
  {
   "cell_type": "code",
   "execution_count": 22,
   "metadata": {},
   "outputs": [],
   "source": [
    "# Your code here.\n",
    "\n"
   ]
  },
  {
   "cell_type": "code",
   "execution_count": null,
   "metadata": {},
   "outputs": [],
   "source": []
  },
  {
   "cell_type": "code",
   "execution_count": 23,
   "metadata": {
    "tags": [
     "hide"
    ]
   },
   "outputs": [
    {
     "data": {
      "application/vnd.jupyter.widget-view+json": {
       "model_id": "c317014c67954e25a63e9b1b28082b22",
       "version_major": 2,
       "version_minor": 0
      },
      "text/plain": [
       "interactive(children=(IntSlider(value=25, continuous_update=False, description='frequency', max=75, min=1), Fl…"
      ]
     },
     "metadata": {},
     "output_type": "display_data"
    }
   ],
   "source": [
    "@interact(frequency=widgets.IntSlider(value=25,min=1,max=75,step=1,continuous_update=False),\n",
    "         duration=widgets.FloatSlider(value=0.256,min=0.04,max=0.512,step=0.004,continuous_update=False),\n",
    "         dt=widgets.FloatSlider(value=0.001,min=0.0001,max=0.008,\n",
    "                                step=0.0001,continuous_update=False,\n",
    "                                readout_format='.4f'))\n",
    "def plot_filter(frequency,duration,dt):\n",
    "    w, t = ricker(duration=duration, dt=dt, f=frequency, return_t=True)\n",
    "\n",
    "    fig, ax = plt.subplots(figsize=(15, 6), ncols=1)\n",
    "\n",
    "    ax.plot(t, w)\n",
    "    ax.grid()\n",
    "    ax.set_title(f'ricker wavelet - frequency={frequency}')\n",
    "\n",
    "    plt.show()\n",
    "    \n",
    "    return"
   ]
  },
  {
   "cell_type": "markdown",
   "metadata": {
    "tags": [
     "exe"
    ]
   },
   "source": [
    "### Exercise\n",
    "Now let's see if we can fill the wavelet between zero and positive values of the wavelet, for this you can use the matplotlib function `.fill_between()`, you might need to read the [docs](https://matplotlib.org/api/_as_gen/matplotlib.pyplot.fill_between.html) or look at an [example](https://matplotlib.org/examples/pylab_examples/fill_between_demo.html) to figure out how to use this function."
   ]
  },
  {
   "cell_type": "code",
   "execution_count": 24,
   "metadata": {},
   "outputs": [],
   "source": [
    "# your code here"
   ]
  },
  {
   "cell_type": "code",
   "execution_count": null,
   "metadata": {},
   "outputs": [],
   "source": []
  },
  {
   "cell_type": "code",
   "execution_count": 25,
   "metadata": {
    "tags": [
     "hide"
    ]
   },
   "outputs": [
    {
     "data": {
      "application/vnd.jupyter.widget-view+json": {
       "model_id": "0955a392a61a4f0fa59b724badf85d51",
       "version_major": 2,
       "version_minor": 0
      },
      "text/plain": [
       "interactive(children=(IntSlider(value=25, continuous_update=False, description='frequency', max=75, min=1), Fl…"
      ]
     },
     "metadata": {},
     "output_type": "display_data"
    }
   ],
   "source": [
    "@interact(frequency=widgets.IntSlider(value=25,min=1,max=75,step=1,continuous_update=False),\n",
    "          duration=widgets.FloatSlider(value=0.256,min=0.04,max=0.512,step=0.004,continuous_update=False),\n",
    "          dt=widgets.FloatSlider(value=0.001,min=0.0001,max=0.008,\n",
    "                                step=0.0001,continuous_update=False,\n",
    "                                readout_format='.4f'),\n",
    "          filled=widgets.Checkbox(value=True,description='fill wavelet',disabled=False)\n",
    "         )\n",
    "def plot_filter(frequency,duration,dt,filled):\n",
    "    w, t = ricker(duration=duration, dt=dt, f=frequency, return_t=True)\n",
    "\n",
    "    fig, ax = plt.subplots(figsize=(15, 6), ncols=1)\n",
    "\n",
    "    ax.plot(t, w)\n",
    "    ax.grid()\n",
    "    ax.set_title(f'ricker wavelet - frequency={frequency}')\n",
    "    \n",
    "    # define fill_between() parameters\n",
    "    x_min = -duration / 2\n",
    "    x_max = duration / 2\n",
    "    x = np.arange(x_min, x_max, dt)\n",
    "    \n",
    "    if filled:\n",
    "        ax.fill_between(x, 0, w, where=w > 0, color='k')\n",
    "\n",
    "    plt.show()\n",
    "    \n",
    "    return"
   ]
  },
  {
   "cell_type": "markdown",
   "metadata": {
    "tags": [
     "exe"
    ]
   },
   "source": [
    "### Exercise\n",
    "Finally, let's see if we can add a choice of wavelets to the function, so that the user can choose between 'ricker', 'gabor', 'sinc' and 'cosine' for example (these all have the same input parameters), there are different ways to achieve this for example using a `ToggleButtons` or a `Select` widget.\n",
    "\n",
    "Once again, remember to correct the title."
   ]
  },
  {
   "cell_type": "code",
   "execution_count": 26,
   "metadata": {},
   "outputs": [],
   "source": [
    "# your code here"
   ]
  },
  {
   "cell_type": "code",
   "execution_count": null,
   "metadata": {},
   "outputs": [],
   "source": []
  },
  {
   "cell_type": "code",
   "execution_count": 27,
   "metadata": {
    "tags": [
     "hide"
    ]
   },
   "outputs": [
    {
     "data": {
      "application/vnd.jupyter.widget-view+json": {
       "model_id": "a719b4c9fe4e4fdab5a9a65e4a6dfb88",
       "version_major": 2,
       "version_minor": 0
      },
      "text/plain": [
       "interactive(children=(ToggleButtons(button_style='success', description='wavelet', options={'ricker': <functio…"
      ]
     },
     "metadata": {},
     "output_type": "display_data"
    }
   ],
   "source": [
    "FUNCS={'ricker': ricker,'gabor': gabor,'sinc': sinc,'cosine': cosine}\n",
    "\n",
    "@interact(wavelet=widgets.ToggleButtons(options=FUNCS,description='wavelet',button_style='success'),\n",
    "          frequency=widgets.IntSlider(value=25,min=1,max=75,step=1,continuous_update=False),\n",
    "          duration=widgets.FloatSlider(value=0.256,min=0.04,max=0.512,step=0.004,continuous_update=False),\n",
    "          dt=widgets.FloatSlider(value=0.001,min=0.0001,max=0.008,\n",
    "                                step=0.0001,continuous_update=False,\n",
    "                                readout_format='.4f'),\n",
    "          filled=widgets.Checkbox(value=True,description='fill wavelet',disabled=False)\n",
    "         )\n",
    "def plot_filter(wavelet, frequency, duration, dt, filled):\n",
    "    w, t = wavelet(duration=duration, dt=dt, f=frequency, return_t=True)\n",
    "\n",
    "    fig, ax = plt.subplots(figsize=(15, 6), ncols=1)\n",
    "\n",
    "    ax.plot(t, w)\n",
    "    ax.grid()\n",
    "    ax.set_title(f'{wavelet.__name__} wavelet - frequency={frequency}')\n",
    "    \n",
    "    # define fill_between() parameters\n",
    "    x_min = -duration / 2\n",
    "    x_max = duration / 2\n",
    "    x = np.arange(x_min, x_max, dt)\n",
    "    \n",
    "    if filled:\n",
    "        ax.fill_between(x, 0, w, where=w > 0, color='k')\n",
    "\n",
    "    plt.show()\n",
    "    \n",
    "    return"
   ]
  },
  {
   "cell_type": "code",
   "execution_count": 28,
   "metadata": {
    "tags": [
     "hide"
    ]
   },
   "outputs": [
    {
     "data": {
      "application/vnd.jupyter.widget-view+json": {
       "model_id": "c6c5458c51234fa08ac9323b584e663d",
       "version_major": 2,
       "version_minor": 0
      },
      "text/plain": [
       "interactive(children=(ToggleButtons(button_style='success', description='wavelet', options=('ricker', 'gabor',…"
      ]
     },
     "metadata": {},
     "output_type": "display_data"
    }
   ],
   "source": [
    "# A final version with all formatting\n",
    "\n",
    "FUNCS={'ricker': ricker,'gabor': gabor,'sinc': sinc,'cosine': cosine}\n",
    "\n",
    "@interact(wavelet=widgets.ToggleButtons(options=FUNCS.keys(),description='wavelet',button_style='success'),\n",
    "          duration=widgets.FloatSlider(value=0.256,min=0.04,max=0.512,step=0.004,\n",
    "                                      description='duration',\n",
    "                                      continuous_update=False,\n",
    "                                      readout_format='.3f'),\n",
    "          dt=widgets.FloatSlider(value=0.001,min=0.0001,max=0.008,step=0.0001,\n",
    "                                      description='dt',\n",
    "                                      continuous_update=False,\n",
    "                                      readout_format='.4f'),\n",
    "          frequency=widgets.IntSlider(value=25,min=1,max=75,step=1,\n",
    "                                      description='frequency',\n",
    "                                      continuous_update=False,\n",
    "                                      readout_format='d'),       \n",
    "          filled=widgets.Checkbox(value=True,description='fill wavelet',disabled=False)\n",
    "         )\n",
    "def plot_filter(wavelet, duration, dt, frequency, filled):\n",
    "    \"\"\"\n",
    "    Plot a filter:\n",
    "    Args:\n",
    "        function (function): one of ['ricker', 'gabor', 'sinc', 'cosine']\n",
    "        duration (float): The length in seconds of the wavelet.\n",
    "        dt (float): The sample interval in seconds.\n",
    "        frequency (ndarray): Dominant frequency of the wavelet in Hz.\n",
    "        fill (boolean): whether the filter plot is filled between 0 and wavelet.\n",
    "    Returns:\n",
    "        ndarray. {function} wavelet with centre frequency 'frequency' sampled on t.\n",
    "    \"\"\"\n",
    "    # call the wavelet function\n",
    "    w, t = FUNCS[wavelet](duration, dt, f=frequency, return_t=True)\n",
    "\n",
    "    # create the plot\n",
    "    fig, ax = plt.subplots(figsize=(15, 6), ncols=1) \n",
    "    ax.plot(t, w, color='black')\n",
    "    ax.grid()\n",
    "    ax.set_title(f'{wavelet} wavelet, frequency={frequency}, duration={duration}, dt={dt}')    \n",
    "    \n",
    "    # define fill_between() parameters\n",
    "    x_min = -duration / 2\n",
    "    x_max = duration / 2\n",
    "    x = np.arange(x_min, x_max, dt)\n",
    "    \n",
    "    # fill wavelet\n",
    "    if filled:\n",
    "        ax.fill_between(x, 0, w, where=w > 0, color='k')\n",
    "\n",
    "    # show the plot\n",
    "    plt.show()\n",
    "    \n",
    "    return\n"
   ]
  },
  {
   "cell_type": "markdown",
   "metadata": {},
   "source": [
    "### Summary\n",
    "\n",
    "Let's summarise by looking at the initial reason we looked at interact:"
   ]
  },
  {
   "cell_type": "code",
   "execution_count": 29,
   "metadata": {},
   "outputs": [
    {
     "data": {
      "application/vnd.jupyter.widget-view+json": {
       "model_id": "cfe2ce9e6bda4611a1676f999c3a51ea",
       "version_major": 2,
       "version_minor": 0
      },
      "text/plain": [
       "interactive(children=(Dropdown(description='colormap', options=('viridis', 'plasma', 'inferno', 'magma', 'Grey…"
      ]
     },
     "metadata": {},
     "output_type": "display_data"
    }
   ],
   "source": [
    "@interact(\n",
    "    colormap=['viridis', 'plasma', 'inferno', 'magma', 'Greys', 'Greys_r'],\n",
    "    section=widgets.RadioButtons(options=['inline', 'xline', 'timeslice'],\n",
    "                                 value='inline',description='slicer',disabled=False),\n",
    "    inline=widgets.IntSlider(value=300,min=0,max=600,step=1,\n",
    "                             continuous_update=False,description='<font color=\"red\">inline</>'),\n",
    "    xline=widgets.IntSlider(value=240,min=0,max=480,step=1,\n",
    "                            continuous_update=False,description='<font color=\"green\">xline</>'),\n",
    "    timeslice=widgets.IntSlider(value=125,min=0,max=250,step=1,\n",
    "                                continuous_update=False,description='<font color=\"blue\">timeslice</>'),\n",
    ")\n",
    "def seismic_plotter(colormap, section, inline, xline, timeslice):\n",
    "    \"\"\"Plot a chosen seismic ILine, XLine or Timeslice with a choice of colormaps\"\"\"\n",
    "    \n",
    "    # load a volume\n",
    "    vol = np.load('../data/Penobscot_0-1000ms.npy')\n",
    "    \n",
    "    # sections dictionary\n",
    "    sections = {\n",
    "        'inline': {'amp': vol[inline,:,:].T, 'line': inline, 'shrink_val': 0.6, \n",
    "                  'axhline_y': timeslice, 'axhline_c': 'b', \n",
    "                  'axvline_x': xline, 'axvline_c': 'g',\n",
    "                  'axspine_c': 'r'},\n",
    "        'xline': {'amp': vol[:,xline,:].T, 'line': xline, 'shrink_val': 0.5, \n",
    "                  'axhline_y': timeslice, 'axhline_c': 'b', \n",
    "                  'axvline_x': inline, 'axvline_c': 'r',\n",
    "                  'axspine_c': 'g'},\n",
    "        'timeslice': {'amp': vol[:,:,timeslice], 'line': timeslice, 'shrink_val': 0.95, \n",
    "                  'axhline_y': xline, 'axhline_c': 'g', \n",
    "                  'axvline_x': inline, 'axvline_c': 'r',\n",
    "                  'axspine_c': 'b'},\n",
    "    }\n",
    "\n",
    "    # scale amplitudes\n",
    "    ma = np.percentile(vol, 98)\n",
    "    \n",
    "    # plot figure\n",
    "    fig, ax = plt.subplots(figsize=(18, 6), ncols=1)\n",
    "\n",
    "    sec = sections[section]    \n",
    "    im = ax.imshow(sec['amp'], aspect=0.5, vmin=-ma, vmax=ma, cmap=colormap)\n",
    "    ax.set_title(f'Penobscot_0-1000ms {section} {sec[\"line\"]}')\n",
    "    plt.colorbar(im, ax=ax, shrink=sec['shrink_val']).set_label(colormap)\n",
    "     \n",
    "    # add projected lines\n",
    "    ax.axhline(y=sec['axhline_y'], linewidth=2, color=sec['axhline_c'])\n",
    "    ax.axvline(x=sec['axvline_x'], linewidth=2, color=sec['axvline_c'])\n",
    "    for axis in ['top','bottom','left','right']:\n",
    "        ax.spines[axis].set_linewidth(2)     \n",
    "        ax.spines[axis].set_color(sec['axspine_c'])\n",
    "    \n",
    "    plt.show()\n",
    "    \n",
    "    return\n"
   ]
  },
  {
   "cell_type": "markdown",
   "metadata": {},
   "source": [
    "<hr />\n",
    "\n",
    "<div>\n",
    "<img src=\"https://avatars1.githubusercontent.com/u/1692321?s=50\"><p style=\"text-align:center\">© Agile Geoscience 2019</p>\n",
    "</div>"
   ]
  }
 ],
 "metadata": {
  "celltoolbar": "Tags",
  "kernelspec": {
   "display_name": "geocomp",
   "language": "python",
   "name": "geocomp"
  },
  "language_info": {
   "codemirror_mode": {
    "name": "ipython",
    "version": 3
   },
   "file_extension": ".py",
   "mimetype": "text/x-python",
   "name": "python",
   "nbconvert_exporter": "python",
   "pygments_lexer": "ipython3",
   "version": "3.8.5"
  }
 },
 "nbformat": 4,
 "nbformat_minor": 2
}
