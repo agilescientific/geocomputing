{
 "cells": [
  {
   "cell_type": "markdown",
   "metadata": {},
   "source": [
    "## Sonar: rocks vs mines\n",
    "\n",
    "#### CLASSIFICATION\n",
    "\n",
    "http://archive.ics.uci.edu/ml/datasets/Connectionist+Bench+%28Sonar%2C+Mines+vs.+Rocks%29\n",
    "\n",
    "### Source\n",
    "\n",
    "The data set was contributed to the benchmark collection by Terry Sejnowski, now at the Salk Institute and the University of California at San Deigo. The data set was developed in collaboration with R. Paul Gorman of Allied-Signal Aerospace Technology Center.\n",
    "\n",
    "\n",
    "### Data Set Information\n",
    "\n",
    "The file \"sonar.mines\" contains 111 patterns obtained by bouncing sonar signals off a metal cylinder at various angles and under various conditions. The file \"sonar.rocks\" contains 97 patterns obtained from rocks under similar conditions. The transmitted sonar signal is a frequency-modulated chirp, rising in frequency. The data set contains signals obtained from a variety of different aspect angles, spanning 90 degrees for the cylinder and 180 degrees for the rock.\n",
    "\n",
    "Each pattern is a set of 60 numbers in the range 0.0 to 1.0. Each number represents the energy within a particular frequency band, integrated over a certain period of time. The integration aperture for higher frequencies occur later in time, since these frequencies are transmitted later during the chirp.\n",
    "\n",
    "The label associated with each record contains the letter \"R\" if the object is a rock and \"M\" if it is a mine (metal cylinder). The numbers in the labels are in increasing order of aspect angle, but they do not encode the angle directly.\n",
    "\n",
    "### Relevant Papers:\n",
    "\n",
    "1. Gorman, R. P., and Sejnowski, T. J. (1988). \"Analysis of Hidden Units in a Layered Network Trained to Classify Sonar Targets\" in Neural Networks, Vol. 1, pp. 75-89.\n",
    "[Web Link]"
   ]
  },
  {
   "cell_type": "code",
   "execution_count": 5,
   "metadata": {},
   "outputs": [],
   "source": [
    "import numpy as np\n",
    "\n",
    "X = np.loadtxt('../data/sonar.all-data', delimiter=',', usecols=np.arange(60))\n",
    "y = np.loadtxt('../data/sonar.all-data', delimiter=',', usecols=60, dtype='object')"
   ]
  },
  {
   "cell_type": "code",
   "execution_count": 10,
   "metadata": {},
   "outputs": [
    {
     "data": {
      "text/plain": [
       "((208, 60), (208,))"
      ]
     },
     "execution_count": 10,
     "metadata": {},
     "output_type": "execute_result"
    }
   ],
   "source": [
    "X.shape, y.shape"
   ]
  },
  {
   "cell_type": "markdown",
   "metadata": {},
   "source": [
    "## Volcanos on Venus\n",
    "\n",
    "#### CLASSIFICATION\n",
    "\n",
    "http://archive.ics.uci.edu/ml/datasets/Volcanoes+on+Venus+-+JARtool+experiment\n",
    "\n",
    "### Data Set Information\n",
    "\n",
    "The data was collected by the Magellan spacecraft over an approximately four year period from 1990--1994. The objective of the mission was to obtain global mapping of the surface of Venus using synthetic aperture radar (SAR). A more detailed discussion of the mission and objectives is available at JPL's Magellan webpage.\n",
    "\n",
    "There are some spatial dependencies. For example, background patches from with in a single image are likely to be more similar than background patches taken across different images.\n",
    "\n",
    "In addition to the images, there are \"ground truth\" files that specify the locations of volcanoes within the images. The quotes around \"ground truth\" are intended as a reminder that there is no absolute ground truth for this data set. No one has been to Venus and the image quality does not permit 100%, unambiguous identification of the volcanoes, even by human experts. There are labels that provide some measure of subjective uncertainty (1 = definitely a volcano, 2 = probably, 3 = possibly, 4 = only a pit is visible). See reference [Smyth95] for more information on the labeling uncertainty problem.\n",
    "\n",
    "There are also files that specify the exact set of experiments using in the published evaluations of the JARtool system.\n",
    "\n",
    "The image files are in a format called VIEW. This format consists of two files, a binary file with extension .sdt (the image data) and an ascii file with extension .spr (header information). There is a MATLAB utility function included in the data package that can be used to read the data. If you want to use something other than Matlab, you are on your own, but the format is fairly simple and can be understood by looking at the Matlab code.\n",
    "\n",
    "The labeling files are provided in two forms. The .lxyr files are simple space-separated ascii containing label, x-location of center, y-location of center, and radius.\n",
    "\n",
    "### Attribute Information\n",
    "\n",
    "The images are 1024X1024 pixels. The pixel values are in the range [0,255]. The pixel value is related to the amount of energy backscattered to the radar from a given spatial location. Higher pixel values indicate greater backscatter. Lower pixel values indicate lesser backscatter. Both topography and surface roughness relative to the radar wavelength affect the amount of backscatter.\n",
    "\n",
    "### Relevant Papers\n",
    "\n",
    "G.H. Pettengill, P.G. Ford, W.T.K. Johnson, R.K. Raney, L.A. Soderblom, \"Magellan: Radar Performance and Data Products\", Science, 252:260-265 (1991).\n",
    "[Web Link]\n",
    "\n",
    "R.S. Saunders, A.J. Spear, P.C. Allin, R.S. Austin, A.L. Berman, R.C. Chandlee, J. Clark, A.V. Decharon, E.M. Dejong, \"Magellan Mission Summary\", J. of Geophysical Research Planets, 97(E8):13067-13090, (1992).\n",
    "[Web Link]\n",
    "\n",
    "M.C. Burl, L. Asker, P. Smyth, U. Fayyad, P. Perona, L. Crumpler, and J. Aubele, \"Learning to Recognize Volcanoes on Venus\", Machine Learning, (March 1998).\n",
    "[Web Link]\n",
    "\n",
    "P. Smyth, M.C. Burl, U.M. Fayyad, and P. Perona, Chapter: \"Knowledge Discovery in Large Image Databases: Dealing with Uncertainties in Ground Truth\", In Advances in Knowledge Discovery and Data Mining, AAAI/MIT Press, Menlo Park, CA, (1995).\n",
    "[Web Link]\n",
    "\n",
    "### Data links, important metadata, etc.\n",
    "http://archive.ics.uci.edu/ml/machine-learning-databases/volcanoes-mld/\n",
    "\n",
    "### Data\n",
    "http://archive.ics.uci.edu/ml/machine-learning-databases/volcanoes-mld/volcanoes.tar.gz"
   ]
  },
  {
   "cell_type": "code",
   "execution_count": null,
   "metadata": {},
   "outputs": [],
   "source": []
  }
 ],
 "metadata": {
  "kernelspec": {
   "display_name": "geoml",
   "language": "python",
   "name": "geoml"
  },
  "language_info": {
   "codemirror_mode": {
    "name": "ipython",
    "version": 3
   },
   "file_extension": ".py",
   "mimetype": "text/x-python",
   "name": "python",
   "nbconvert_exporter": "python",
   "pygments_lexer": "ipython3",
   "version": "3.9.7"
  }
 },
 "nbformat": 4,
 "nbformat_minor": 2
}
