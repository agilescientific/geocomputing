{
 "cells": [
  {
   "cell_type": "markdown",
   "metadata": {},
   "source": [
    "# An introduction to regular expressions (regex)\n",
    "\n",
    "> Some people, when confronted with a problem, think, \"I know, I'll use regular expressions\". Now they have 2 problems.\n",
    "\n",
    "### What are regular expressions?\n",
    "\n",
    "The [Python 3 documentation](https://docs.python.org/3/howto/regex.html) tells us that:\n",
    "\n",
    ">Regular expressions (called REs, or regexes, or regex patterns) are essentially a tiny, highly specialized programming language embedded inside Python and made available through the re module. Using this little language, you specify the rules for the set of possible strings that you want to match; this set might contain English sentences, or e-mail addresses, or TeX commands, or anything you like. You can then ask questions such as “Does this string match the pattern?”, or “Is there a match for the pattern anywhere in this string?”. You can also use REs to modify a string or to split it apart in various ways.\n",
    "\n",
    "While they are very powerful, they are anything but intuitive and while there are both [regex libraries](http://regexlib.com) and regex builder sites like [pythex](https://pythex.org/), [regex101](https://regex101.com/), [regexr](https://regexr.com/) or [debuggex](https://www.debuggex.com/), it's good to be able to refer back to a simple _cookbook_, hopefully this notebook can serve that purpose.\n",
    "\n",
    "Regex is part of the [Python standard library](https://docs.python.org/3/library/) as the `re` module."
   ]
  },
  {
   "cell_type": "markdown",
   "metadata": {},
   "source": [
    "## Matching well uwi's"
   ]
  },
  {
   "cell_type": "code",
   "execution_count": 98,
   "metadata": {},
   "outputs": [],
   "source": [
    "uwi = '100/12-04-091-05-W5/00'"
   ]
  },
  {
   "cell_type": "markdown",
   "metadata": {},
   "source": [
    "Regular expressions are 'find' on steroids."
   ]
  },
  {
   "cell_type": "code",
   "execution_count": 137,
   "metadata": {},
   "outputs": [
    {
     "data": {
      "text/plain": [
       "<_sre.SRE_Match object; span=(10, 13), match='091'>"
      ]
     },
     "execution_count": 137,
     "metadata": {},
     "output_type": "execute_result"
    }
   ],
   "source": [
    "import re\n",
    "\n",
    "re.search(r'091', uwi)"
   ]
  },
  {
   "cell_type": "code",
   "execution_count": null,
   "metadata": {},
   "outputs": [],
   "source": []
  },
  {
   "cell_type": "code",
   "execution_count": null,
   "metadata": {},
   "outputs": [],
   "source": []
  },
  {
   "cell_type": "code",
   "execution_count": null,
   "metadata": {},
   "outputs": [],
   "source": []
  },
  {
   "cell_type": "code",
   "execution_count": 138,
   "metadata": {
    "tags": [
     "hide"
    ]
   },
   "outputs": [
    {
     "data": {
      "text/plain": [
       "<_sre.SRE_Match object; span=(0, 3), match='100'>"
      ]
     },
     "execution_count": 138,
     "metadata": {},
     "output_type": "execute_result"
    }
   ],
   "source": [
    "re.search(r'\\d{3}', uwi)"
   ]
  },
  {
   "cell_type": "code",
   "execution_count": 106,
   "metadata": {
    "tags": [
     "hide"
    ]
   },
   "outputs": [
    {
     "data": {
      "text/plain": [
       "<_sre.SRE_Match object; span=(17, 22), match='W5/00'>"
      ]
     },
     "execution_count": 106,
     "metadata": {},
     "output_type": "execute_result"
    }
   ],
   "source": [
    "re.search(r'W[345]/00', uwi)"
   ]
  },
  {
   "cell_type": "code",
   "execution_count": 112,
   "metadata": {
    "tags": [
     "hide"
    ]
   },
   "outputs": [
    {
     "data": {
      "text/plain": [
       "'W5/00'"
      ]
     },
     "execution_count": 112,
     "metadata": {},
     "output_type": "execute_result"
    }
   ],
   "source": [
    "# 'group' gives the entire match.\n",
    "re.search(r'(W[345])/00', uwi).group()"
   ]
  },
  {
   "cell_type": "code",
   "execution_count": 113,
   "metadata": {
    "tags": [
     "hide"
    ]
   },
   "outputs": [
    {
     "data": {
      "text/plain": [
       "('W5',)"
      ]
     },
     "execution_count": 113,
     "metadata": {},
     "output_type": "execute_result"
    }
   ],
   "source": [
    "# 'groups' is a tuple of all the captures.\n",
    "re.search(r'(W[345])/00', uwi).groups()"
   ]
  },
  {
   "cell_type": "code",
   "execution_count": 115,
   "metadata": {
    "tags": [
     "hide"
    ]
   },
   "outputs": [
    {
     "data": {
      "text/plain": [
       "['W5/00']"
      ]
     },
     "execution_count": 115,
     "metadata": {},
     "output_type": "execute_result"
    }
   ],
   "source": [
    "re.findall(r'W[345]/00', uwi)"
   ]
  },
  {
   "cell_type": "markdown",
   "metadata": {},
   "source": [
    "Lookahead and lookbehind let us find things without capturing what comes before or after.\n",
    "\n",
    "This enables tricky subsitutions, for example, that would be impossible with ordinary search and replace."
   ]
  },
  {
   "cell_type": "code",
   "execution_count": 132,
   "metadata": {},
   "outputs": [],
   "source": [
    "text = \"Both 100/12-04-091-05-W5/00 and 100/13-05-121-05-W4/00 are in Lease W4/00\""
   ]
  },
  {
   "cell_type": "code",
   "execution_count": 134,
   "metadata": {},
   "outputs": [
    {
     "data": {
      "text/plain": [
       "'Both 100/12-04-091-05-W05/00 and 100/13-05-121-05-W04/00 are in Lease W4/00'"
      ]
     },
     "execution_count": 134,
     "metadata": {},
     "output_type": "execute_result"
    }
   ],
   "source": [
    "re.sub(r'(?<=\\d-W)([345])(?=/00)', r'0\\1', text)"
   ]
  },
  {
   "cell_type": "markdown",
   "metadata": {},
   "source": [
    "## Regex metacharacters\n",
    "\n",
    "Regex uses metacharacters as placeholders to define string patterns that can then be matched.\n",
    "\n",
    "The complete list of Python regex metacharacters is quite short:\n",
    "\n",
    "> `. [ ] ^ \\ * + ? { } | $ ( )`\n",
    "\n",
    "- `.` matches anything except a newline character.\n",
    "- `[` and `]` are used for specifying a _character class_, which is a set of characters that you wish to match.\n",
    "- `^` at the start of a character class (`[]`) (i.e. _complementing the set_), matches the characters _not listed_ within the class.\n",
    "- note that appart from `^` at the start of a class, metacharaters loose their special abilities _inside_ a class and are treated like any other character.\n",
    "- `\\` is used to _escape_ various characters to signal various special sequences, for example `\\d` matches any digit character (see below for more examples). It’s also used to escape all the metacharacters so you can still match them in patterns.\n",
    "- `*` specifies that the previous character can be matched _zero or more times_, instead of exactly once.\n",
    "- `+` specifies that the previous character can be matche _one or more times_.\n",
    "- `?` specifies that the previous character cab be matched either _once or zero times_.\n",
    "- `{` and `}` are used to specify that the previous characters repeats between *m and n* times inclusive where *m and n* are `integers`, the syntax is: `{m,n}`. `{,n}` implies a minimum of `0` and `{m,}` implies a maximum of infinity.\n",
    "- `|` signifies alternation, or the `or` operator. If *A and B* are regular expressions, `A|B` will match any string that matches either *A or B*.\n",
    "- `^` matches a regular expression at the beginning of a line, to match the `^`-literal, use `\\^`.\n",
    "- `$` matches at the end of a line, which is defined as either the end of the string, or any location followed by a newline character. To match a literal `$`, use `\\$` or enclose it inside a character class, as in `[$]`.\n",
    "- `(` and `)` mark a _group_, they group together the expressions contained inside them, and you can repeat the contents of a group with a repeating qualifier, such as `*`, `+`, `?`, or `{m,n}`."
   ]
  },
  {
   "cell_type": "markdown",
   "metadata": {},
   "source": [
    "## Special character sequences\n",
    "\n",
    "Below is a short list of special character sequences taken from the [documentation](https://docs.python.org/3/howto/regex.html), for a complete list of these sequences, visit the [last part of Regular Expression Syntax in the Standard Library reference](https://docs.python.org/3/library/re.html#re-syntax):\n",
    "\n",
    "`\\d` Matches any decimal digit; this is equivalent to the class [0-9]\n",
    "\n",
    "`\\D` Matches any non-digit character; this is equivalent to the class [^0-9]\n",
    "\n",
    "`\\s` Matches any whitespace character; this is equivalent to the class [ \\t\\n\\r\\f\\v]\n",
    "\n",
    "`\\S` Matches any non-whitespace character; this is equivalent to the class [^ \\t\\n\\r\\f\\v]\n",
    "\n",
    "`\\w` Matches any alphanumeric character; this is equivalent to the class [a-zA-Z0-9_]\n",
    "\n",
    "`\\W` Matches any non-alphanumeric character; this is equivalent to the class [^a-zA-Z0-9_]"
   ]
  },
  {
   "cell_type": "markdown",
   "metadata": {},
   "source": [
    "## Matching well depths\n",
    "\n",
    "Let's try capturing everything that looks like a depth from a document. We'll use part of [this news article](https://www.ogj.com/drilling-production/article/17279205/leon-drilling-due-under-llogrepsol-swap) as an example."
   ]
  },
  {
   "cell_type": "code",
   "execution_count": 15,
   "metadata": {},
   "outputs": [],
   "source": [
    "text = \"\"\"\n",
    "Under an asset exchange and new joint operating agreement, LLOG will operate the well on Keathley Canyon Block 642 with a 33% working interest.\n",
    "\n",
    "The Leon discovery well was drilled to 32,000 ft (about 9,750 m) TD in 6,000 ft (about 1830 m) of water, encountering nearly 500 ft of net oil pay.\n",
    "\n",
    "Repsol will acquire a 30% interest from LLOG in the 2011 Moccasin discovery on Keathley Canyon Block 736. The discovery well, drilled by Chevron Corp. to deeper than 31,000 ft in more than 6,500 ft of water, found nearly 400 ft of net oil pay (OGJ Online, Sept. 6, 2011).\n",
    "\"\"\""
   ]
  },
  {
   "cell_type": "markdown",
   "metadata": {},
   "source": [
    "We'll also use a different way to 'compile' and apply the regular expression. Some people prefer this more object-oriented interface, and in some circumstances it will be faster."
   ]
  },
  {
   "cell_type": "code",
   "execution_count": 16,
   "metadata": {},
   "outputs": [
    {
     "data": {
      "text/plain": [
       "['32,000 ft',\n",
       " '9,750 m',\n",
       " '6,000 ft',\n",
       " '1830 m',\n",
       " '500 ft',\n",
       " '31,000 ft',\n",
       " '6,500 ft',\n",
       " '400 ft']"
      ]
     },
     "execution_count": 16,
     "metadata": {},
     "output_type": "execute_result"
    }
   ],
   "source": [
    "pattern = re.compile(r' ([,0-9]+ (?:ft|m))')\n",
    "\n",
    "pattern.findall(text)"
   ]
  },
  {
   "cell_type": "markdown",
   "metadata": {
    "tags": [
     "exercise"
    ]
   },
   "source": [
    "### EXERCISE\n",
    "\n",
    "Can you capture everything that looks like a block number from the same text?"
   ]
  },
  {
   "cell_type": "code",
   "execution_count": null,
   "metadata": {},
   "outputs": [],
   "source": []
  },
  {
   "cell_type": "code",
   "execution_count": 18,
   "metadata": {
    "tags": [
     "hide"
    ]
   },
   "outputs": [
    {
     "data": {
      "text/plain": [
       "['Block 642', 'Block 736']"
      ]
     },
     "execution_count": 18,
     "metadata": {},
     "output_type": "execute_result"
    }
   ],
   "source": [
    "pattern = re.compile(r'(Block [0-9]+)')\n",
    "\n",
    "pattern.findall(text)"
   ]
  },
  {
   "cell_type": "markdown",
   "metadata": {
    "tags": [
     "hide"
    ]
   },
   "source": [
    "If you want the positions of things you can use a different way:"
   ]
  },
  {
   "cell_type": "code",
   "execution_count": 28,
   "metadata": {
    "tags": [
     "hide"
    ]
   },
   "outputs": [
    {
     "name": "stdout",
     "output_type": "stream",
     "text": [
      "Block 642 at (106, 115)\n",
      "Block 736 at (390, 399)\n"
     ]
    }
   ],
   "source": [
    "for match in pattern.finditer(text):\n",
    "    print(match.group(0), 'at', match.span())"
   ]
  },
  {
   "cell_type": "markdown",
   "metadata": {},
   "source": [
    "## Matching pressures\n",
    "\n",
    "We use an example from the [petrowiki](https://petrowiki.org/Reservoir_pressure_data_interpretation):"
   ]
  },
  {
   "cell_type": "code",
   "execution_count": 34,
   "metadata": {},
   "outputs": [],
   "source": [
    "text = \"\"\"Permeability barriers can also be identified as illustrated in Fig. 6.\n",
    "\n",
    "The barrier is indicated in Fig. 6a by the hydrostatic potential difference between the layers above and below the detected permeability barrier of approximately 20 psi.\n",
    "\n",
    "The line with a gradient of 0.497 psi/ft represents the mud pressure, which was measured in the same trip in the well while acquiring the formation pressure.\n",
    "\n",
    "In Fig. 6b, the reservoir fluid gradients differ across the permeability barrier. Nevertheless, a potential difference of approximately 140 psi across the barrier is interpreted as indicating a no-flow barrier. Zero permeability is implied.\n",
    "\n",
    "Otherwise, the pressure would have equilibrated on both sides of the barrier over geologic time.\"\"\""
   ]
  },
  {
   "cell_type": "markdown",
   "metadata": {},
   "source": [
    "### Lookbehind and lookahead\n",
    "\n",
    "Because we could capture both `20 psi` and `0.497 psi/ft` with a simple regex such as `r'\\d{1,3} psi'`, we will use lookbehind and lookahead patterns to exclude floats from the psi regex:\n",
    "\n",
    "- `(?<!...)` Matches if the current position in the string is not preceded by a match for ....\n",
    "- `(?!...)` Matches if ... doesn’t match next.\n",
    "\n",
    "The equivalent positive assertions exist:\n",
    "\n",
    "- `(?=...)` Matches if ... matches next, but doesn’t consume any of the string. \n",
    "- `(?<=...)` Matches if the current position in the string is preceded by a match for ... that ends at the current position.\n",
    "\n",
    "There are many such patterns in the [documentation](https://docs.python.org/3/library/re.html)."
   ]
  },
  {
   "cell_type": "code",
   "execution_count": 51,
   "metadata": {},
   "outputs": [],
   "source": [
    "re_psi = r' ([-.,0-9]+ psi(?!/ft))'  # 'psi' but not 'psi/ft'\n",
    "re_grad = r' ([-.,0-9]+ psi\\/ft)'"
   ]
  },
  {
   "cell_type": "code",
   "execution_count": 52,
   "metadata": {},
   "outputs": [
    {
     "data": {
      "text/plain": [
       "['20 psi', '140 psi']"
      ]
     },
     "execution_count": 52,
     "metadata": {},
     "output_type": "execute_result"
    }
   ],
   "source": [
    "re.findall(re_psi, text)"
   ]
  },
  {
   "cell_type": "code",
   "execution_count": 53,
   "metadata": {},
   "outputs": [
    {
     "data": {
      "text/plain": [
       "['0.497 psi/ft']"
      ]
     },
     "execution_count": 53,
     "metadata": {},
     "output_type": "execute_result"
    }
   ],
   "source": [
    "re.findall(re_grad, text)"
   ]
  },
  {
   "cell_type": "markdown",
   "metadata": {},
   "source": [
    "## Finding casing size\n",
    "\n",
    "Again, we use and example from the [petrowiki](https://petrowiki.org/Hole_geometry), here we want to extract the two casing sizes listed (refer to the [unicode.org](https://unicode.org/cldr/utility/list-unicodeset.jsp?a=[:Decomposition_Type=Fraction:]) for the required codes for the casing sizes."
   ]
  },
  {
   "cell_type": "code",
   "execution_count": 63,
   "metadata": {},
   "outputs": [
    {
     "name": "stdout",
     "output_type": "stream",
     "text": [
      "⅑\n"
     ]
    }
   ],
   "source": [
    "print('\\u2151')"
   ]
  },
  {
   "cell_type": "code",
   "execution_count": 61,
   "metadata": {},
   "outputs": [
    {
     "data": {
      "text/plain": [
       "'The large flow string in Fig. 1 resulted in a 13⅜-in. intermediate string and a 20-in. surface casing. However, these strings may be difficult to design if high formation pressures are encountered. Table 1 shows the pipe required for various conditions on the intermediate string, assuming that a single weight and grade will be used.'"
      ]
     },
     "execution_count": 61,
     "metadata": {},
     "output_type": "execute_result"
    }
   ],
   "source": [
    "text = 'The large flow string in Fig. 1 resulted in a 13⅜-in. intermediate string and a 20-in. surface casing. However, these strings may be difficult to design if high formation pressures are encountered. Table 1 shows the pipe required for various conditions on the intermediate string, assuming that a single weight and grade will be used.'\n",
    "text"
   ]
  },
  {
   "cell_type": "code",
   "execution_count": 62,
   "metadata": {},
   "outputs": [
    {
     "data": {
      "text/plain": [
       "['13⅜-in', '20-in']"
      ]
     },
     "execution_count": 62,
     "metadata": {},
     "output_type": "execute_result"
    }
   ],
   "source": [
    "pattern = re.compile(r'\\d{2}[\\u2150-\\u2189]?-in')\n",
    "\n",
    "pattern.findall(text)"
   ]
  },
  {
   "cell_type": "markdown",
   "metadata": {},
   "source": [
    "## Flags\n",
    "\n",
    "Although you can do a lot of regex searches without using `compilation flags`, occasionally you will need them.\n",
    "\n",
    "There are 6 `compiliation flags` in Python, and all are available in long name (e.g. `IGNORECASE`) and the equivalent short, one-letter form (e.g. `I`), the [docs](https://docs.python.org/3/howto/regex.html#compilation-flags) lists all the flags and we will illustrate their use with `IGNORECASE`, to start let's search for a UWI in a short paragraph, but ignoring case:"
   ]
  },
  {
   "cell_type": "code",
   "execution_count": 65,
   "metadata": {},
   "outputs": [
    {
     "data": {
      "text/plain": [
       "'Lorem ipsum dolor sit ametuwi 223 z 023 k 224G83 56, consectetur adipiscing elit. Cras eleifend, turpis at blandit dignissim, ligula nisl pellentesque augue, sit amet tempus tellus lorem id erat. Suspendisse ac rhoncus nibh, id mollis odio. Vestibulum sagittis nulla purus, pharetra cursus nibh aliquet ut. Nullam mauris enim, facilisis sed metus a, bibendum malesuada enim. Fusce euismod felis vitae lacus sodales fringilla. Pellentesque dolor odio,UWI 200 D 096 H 094A15 00 mattis sed est nec, placerat venenatis tellus.UWI 200 T 096 G 094B15 00 Nam in laoreet urna.'"
      ]
     },
     "execution_count": 65,
     "metadata": {},
     "output_type": "execute_result"
    }
   ],
   "source": [
    "text = 'Lorem ipsum dolor sit ametuwi 223 z 023 k 224G83 56, consectetur adipiscing elit. Cras eleifend, turpis at blandit dignissim, ligula nisl pellentesque augue, sit amet tempus tellus lorem id erat. Suspendisse ac rhoncus nibh, id mollis odio. Vestibulum sagittis nulla purus, pharetra cursus nibh aliquet ut. Nullam mauris enim, facilisis sed metus a, bibendum malesuada enim. Fusce euismod felis vitae lacus sodales fringilla. Pellentesque dolor odio,UWI 200 D 096 H 094A15 00 mattis sed est nec, placerat venenatis tellus.UWI 200 T 096 G 094B15 00 Nam in laoreet urna.'\n",
    "text"
   ]
  },
  {
   "cell_type": "markdown",
   "metadata": {},
   "source": [
    "With the long name:"
   ]
  },
  {
   "cell_type": "code",
   "execution_count": 66,
   "metadata": {},
   "outputs": [
    {
     "data": {
      "text/plain": [
       "['uwi 223 z 023 k 224G83 56',\n",
       " 'UWI 200 D 096 H 094A15 00',\n",
       " 'UWI 200 T 096 G 094B15 00']"
      ]
     },
     "execution_count": 66,
     "metadata": {},
     "output_type": "execute_result"
    }
   ],
   "source": [
    "pattern = re.compile(r'UWI \\d{3} [A-Z] \\d{3} [A-Z] \\d{3}[A-Z]\\d{2} \\d{2}', re.IGNORECASE)\n",
    "\n",
    "pattern.findall(text)"
   ]
  },
  {
   "cell_type": "markdown",
   "metadata": {
    "tags": [
     "exercise"
    ]
   },
   "source": [
    "## Exercise\n",
    "\n",
    "Using the `drilling_history` below extracted from a Shell and ExxonMobil Technical report on the [OGA portal](https://data-ogauthority.opendata.arcgis.com/datasets?q=well%20report):\n",
    "\n",
    "1. extract all `years`\n",
    "2. extract all `well names`\n",
    "3. extract all pressures `p` at depths `d`\n",
    "4. extract the `formation names at TD`\n",
    "5. extract all `flow rates`"
   ]
  },
  {
   "cell_type": "code",
   "execution_count": 67,
   "metadata": {},
   "outputs": [
    {
     "data": {
      "text/plain": [
       "'1983: 29/8b-2 &29/8b-2s drilled by Union Oil. Oil discovered in Fulmar sands (ar s Acorn South). Well TDed in Smith Bank Fm. 1985: 29/8a-3 drilled by Shell/Esso. Acorn discovery well; producible oil in eservoir sands. Reservoir pressure of 10997 psia at 13200ft tvdss datum. DST oil r Wet Cromarty sands in overburden section (Oak Prospect). Well TDed in Smith Bank Fm. 1985: 29/9b-2 drilled by Premier Oil. Beechnut East discovery well; successful ulmar and Triassic sands. Reservoir pressure of 11040 psia at 13800ft tvdss datu 7000 bbl/d. Well TDed in Skagerrak Fm. 1986: 29/9b-3 drilled by Premier Oil. Beechnut West unsuccessful dry hole. 1988: 29/8a-4 drilled by Shell/Esso. Oil discovered in Pentland and Skagerrak s kagerrak Fm. 1989: 29/9b-6 drilled by Premier Oil. Proven producible oil discovered in Fulm ressure of 11231 psia at 13800ft tvdss datum. DST oil rates of ~1200 bbl/d. Wel m. 1992: 29/9c-8 drilled by BG. Dry hole with Triassic Skagerrak sands (Fulmar abs kagerrak Fm. 2001: 29/9b-9 drilled by Hess. Proven producible oil in Fulmar sands. Reservoir sia at 13800ft tvdss datum. DST oil rates of ~2400 bbl/d. Well TDed in Zechstein Fm. 2001:29/9b-9z drilled by Hess. Incomplete, tight Fulmar section, single oil sample ressure of 11130 psia at 13800ft tvdss datum. Well TDed in Rattray Fm. 2009: 29/8a-6 drilled by Venture/Centrica. Horizontal well with EWT in Triassic Sk eservoir pressure of 10901 at 13200ft tvdss datum. Proven producible oil from E 2000 bbl/d declining to 5000 bbl/d. Well TDed in Skagerrak Fm.'"
      ]
     },
     "execution_count": 67,
     "metadata": {},
     "output_type": "execute_result"
    }
   ],
   "source": [
    "text = '1983: 29/8b-2 &29/8b-2s drilled by Union Oil. Oil discovered in Fulmar sands (ar s Acorn South). Well TDed in Smith Bank Fm. 1985: 29/8a-3 drilled by Shell/Esso. Acorn discovery well; producible oil in eservoir sands. Reservoir pressure of 10997 psia at 13200ft tvdss datum. DST oil r Wet Cromarty sands in overburden section (Oak Prospect). Well TDed in Smith Bank Fm. 1985: 29/9b-2 drilled by Premier Oil. Beechnut East discovery well; successful ulmar and Triassic sands. Reservoir pressure of 11040 psia at 13800ft tvdss datu 7000 bbl/d. Well TDed in Skagerrak Fm. 1986: 29/9b-3 drilled by Premier Oil. Beechnut West unsuccessful dry hole. 1988: 29/8a-4 drilled by Shell/Esso. Oil discovered in Pentland and Skagerrak s kagerrak Fm. 1989: 29/9b-6 drilled by Premier Oil. Proven producible oil discovered in Fulm ressure of 11231 psia at 13800ft tvdss datum. DST oil rates of ~1200 bbl/d. Wel m. 1992: 29/9c-8 drilled by BG. Dry hole with Triassic Skagerrak sands (Fulmar abs kagerrak Fm. 2001: 29/9b-9 drilled by Hess. Proven producible oil in Fulmar sands. Reservoir sia at 13800ft tvdss datum. DST oil rates of ~2400 bbl/d. Well TDed in Zechstein Fm. 2001:29/9b-9z drilled by Hess. Incomplete, tight Fulmar section, single oil sample ressure of 11130 psia at 13800ft tvdss datum. Well TDed in Rattray Fm. 2009: 29/8a-6 drilled by Venture/Centrica. Horizontal well with EWT in Triassic Sk eservoir pressure of 10901 at 13200ft tvdss datum. Proven producible oil from E 2000 bbl/d declining to 5000 bbl/d. Well TDed in Skagerrak Fm.'\n",
    "text"
   ]
  },
  {
   "cell_type": "code",
   "execution_count": null,
   "metadata": {},
   "outputs": [],
   "source": []
  },
  {
   "cell_type": "code",
   "execution_count": 91,
   "metadata": {
    "tags": [
     "hide"
    ]
   },
   "outputs": [],
   "source": [
    "pattern_years = re.compile(r'((?:19|20)\\d{2})(?=:)', re.I)\n",
    "pattern_wells = re.compile(r'(\\d{2}\\/\\d[a-z]-\\d[a-z]?)', re.I)\n",
    "pattern_p_d = re.compile(r'(\\d{4,5} psia) at (\\d{4,5}ft) tvdss', re.I)\n",
    "pattern_fm_td = re.compile(r'(?<=TDed in )([a-zA-Z]+ ?[a-zA-Z]+?)(?= Fm)')\n",
    "pattern_flow_rates = re.compile(r'~?\\d{4} ?bbl/d', re.I)"
   ]
  },
  {
   "cell_type": "code",
   "execution_count": 92,
   "metadata": {
    "tags": [
     "hide"
    ]
   },
   "outputs": [
    {
     "data": {
      "text/plain": [
       "['1983',\n",
       " '1985',\n",
       " '1985',\n",
       " '1986',\n",
       " '1988',\n",
       " '1989',\n",
       " '1992',\n",
       " '2001',\n",
       " '2001',\n",
       " '2009']"
      ]
     },
     "execution_count": 92,
     "metadata": {},
     "output_type": "execute_result"
    }
   ],
   "source": [
    "pattern_years.findall(text)"
   ]
  },
  {
   "cell_type": "code",
   "execution_count": 93,
   "metadata": {
    "tags": [
     "hide"
    ]
   },
   "outputs": [
    {
     "data": {
      "text/plain": [
       "['29/8b-2',\n",
       " '29/8b-2s',\n",
       " '29/8a-3',\n",
       " '29/9b-2',\n",
       " '29/9b-3',\n",
       " '29/8a-4',\n",
       " '29/9b-6',\n",
       " '29/9c-8',\n",
       " '29/9b-9',\n",
       " '29/9b-9z',\n",
       " '29/8a-6']"
      ]
     },
     "execution_count": 93,
     "metadata": {},
     "output_type": "execute_result"
    }
   ],
   "source": [
    "pattern_wells.findall(text)"
   ]
  },
  {
   "cell_type": "code",
   "execution_count": 94,
   "metadata": {},
   "outputs": [
    {
     "data": {
      "text/plain": [
       "[('10997 psia', '13200ft'),\n",
       " ('11040 psia', '13800ft'),\n",
       " ('11231 psia', '13800ft'),\n",
       " ('11130 psia', '13800ft')]"
      ]
     },
     "execution_count": 94,
     "metadata": {},
     "output_type": "execute_result"
    }
   ],
   "source": [
    "pattern_p_d.findall(text)"
   ]
  },
  {
   "cell_type": "code",
   "execution_count": 95,
   "metadata": {},
   "outputs": [
    {
     "data": {
      "text/plain": [
       "['Smith Bank', 'Smith Bank', 'Skagerrak', 'Zechstein', 'Rattray', 'Skagerrak']"
      ]
     },
     "execution_count": 95,
     "metadata": {},
     "output_type": "execute_result"
    }
   ],
   "source": [
    "pattern_fm_td.findall(text)"
   ]
  },
  {
   "cell_type": "code",
   "execution_count": 96,
   "metadata": {},
   "outputs": [
    {
     "data": {
      "text/plain": [
       "['7000 bbl/d', '~1200 bbl/d', '~2400 bbl/d', '2000 bbl/d', '5000 bbl/d']"
      ]
     },
     "execution_count": 96,
     "metadata": {},
     "output_type": "execute_result"
    }
   ],
   "source": [
    "pattern_flow_rates.findall(text)"
   ]
  },
  {
   "cell_type": "markdown",
   "metadata": {},
   "source": [
    "<hr />\n",
    "\n",
    "<div>\n",
    "<img src=\"https://avatars1.githubusercontent.com/u/1692321?s=50\"><p style=\"text-align:center\">© Agile Geoscience 2019</p>\n",
    "</div>"
   ]
  }
 ],
 "metadata": {
  "celltoolbar": "Tags",
  "kernelspec": {
   "display_name": "Python 3",
   "language": "python",
   "name": "python3"
  },
  "language_info": {
   "codemirror_mode": {
    "name": "ipython",
    "version": 3
   },
   "file_extension": ".py",
   "mimetype": "text/x-python",
   "name": "python",
   "nbconvert_exporter": "python",
   "pygments_lexer": "ipython3",
   "version": "3.6.8"
  }
 },
 "nbformat": 4,
 "nbformat_minor": 2
}
