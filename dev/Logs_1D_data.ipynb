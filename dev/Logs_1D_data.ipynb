{
 "cells": [
  {
   "cell_type": "markdown",
   "id": "d9edd4e7",
   "metadata": {},
   "source": [
    "# Logs\n",
    "\n",
    "Wireline logs, and 1D data in general, are a fundamental data type for subsurface scientists and engineers.\n",
    "\n",
    "The data themselves are usually some physical measurement: conductivity of rock, speed of sound, natural radiation counts, volume of fluid, and so on.\n",
    "\n",
    "The data points also have a set of 'coordinates' in time or space. For a wireline log, the coordinates are depths; for production data, they are timestamps. Often, there are multiple sets of coordinates to worry about, such as MD, TVDSS, and TWT for wireline logs.\n",
    "\n",
    "A lot of our work as scientists and engineers comes down to wrangling data like this. Let's look at some."
   ]
  },
  {
   "cell_type": "markdown",
   "id": "25959c2a",
   "metadata": {},
   "source": [
    "## Data from the F3 dataset\n",
    "\n",
    "Let's start off by loading some well data, to do this, we'll use a `function` that we'll look into at the end of this notebook, but for now we can just `call` it like we did with `print(\"Hello World!\")` in the terminal/anaconda prompt:"
   ]
  },
  {
   "cell_type": "code",
   "execution_count": 1,
   "id": "b2ee00c3",
   "metadata": {},
   "outputs": [
    {
     "data": {
      "text/plain": [
       "([3.0703, 2.7441, 2.6564, 2.6521, 2.032],\n",
       " array([3.0703, 2.7441, 2.6564, 2.6521, 2.032 ]))"
      ]
     },
     "execution_count": 1,
     "metadata": {},
     "output_type": "execute_result"
    }
   ],
   "source": [
    "from logs_1d_utils import get_GR, get_GR_np\n",
    "from welly import Well, Project\n",
    "\n",
    "# TODO: replace path with url\n",
    "Well.from_las\n",
    "w = Well.from_las('./lasfiles/F02-1_logs.las')\n",
    "gr = get_GR(w, dropna=True)\n",
    "gr_np = get_GR_np(w, dropna=True)\n",
    "\n",
    "gr[:5], gr_np[:5]"
   ]
  },
  {
   "cell_type": "code",
   "execution_count": 2,
   "id": "f5a2eeca",
   "metadata": {},
   "outputs": [
    {
     "data": {
      "text/plain": [
       "list"
      ]
     },
     "execution_count": 2,
     "metadata": {},
     "output_type": "execute_result"
    }
   ],
   "source": [
    "type(gr)"
   ]
  },
  {
   "cell_type": "markdown",
   "id": "c338fd99",
   "metadata": {},
   "source": [
    "We have now loaded some data. We made an **assignment**, which means giving a name (`gr`) to a data structure (a `list` full of numbers in this case), so we can now inspect `gr`:"
   ]
  },
  {
   "cell_type": "code",
   "execution_count": 3,
   "id": "5b18d357",
   "metadata": {},
   "outputs": [
    {
     "data": {
      "text/plain": [
       "[3.0703,\n",
       " 2.7441,\n",
       " 2.6564,\n",
       " 2.6521,\n",
       " 2.032,\n",
       " 1.7953,\n",
       " 1.4786,\n",
       " 1.3392,\n",
       " 1.3392,\n",
       " 1.7285,\n",
       " 2.9567,\n",
       " 4.0153,\n",
       " 4.4301,\n",
       " 4.7036,\n",
       " 4.8807,\n",
       " 5.109,\n",
       " 5.2881,\n",
       " 5.3052,\n",
       " 5.3052,\n",
       " 5.4608,\n",
       " 5.6249,\n",
       " 5.31,\n",
       " 4.4738,\n",
       " 3.8929,\n",
       " 3.8929,\n",
       " 4.295,\n",
       " 4.9152,\n",
       " 4.9152,\n",
       " 4.9395,\n",
       " 4.8545,\n",
       " 4.5323,\n",
       " 4.2718,\n",
       " 3.9225,\n",
       " 3.8972,\n",
       " 3.6836,\n",
       " 3.2261,\n",
       " 3.1693,\n",
       " 3.1693,\n",
       " 3.1953,\n",
       " 3.31,\n",
       " 3.4477,\n",
       " 4.3455,\n",
       " 5.5534,\n",
       " 6.1277,\n",
       " 6.1491,\n",
       " 6.3564,\n",
       " 6.1211,\n",
       " 5.9949,\n",
       " 5.7919,\n",
       " 5.7115,\n",
       " 5.5694,\n",
       " 4.9633,\n",
       " 4.9592,\n",
       " 4.9592,\n",
       " 5.2512,\n",
       " 5.2676,\n",
       " 5.2676,\n",
       " 4.7424,\n",
       " 4.2328,\n",
       " 3.7989,\n",
       " 3.1139,\n",
       " 3.0002,\n",
       " 2.904,\n",
       " 2.8819,\n",
       " 3.0304,\n",
       " 3.1464,\n",
       " 3.3941,\n",
       " 3.583,\n",
       " 3.9703,\n",
       " 4.247,\n",
       " 4.6752,\n",
       " 4.8436,\n",
       " 4.8436,\n",
       " 5.3656,\n",
       " 5.6592,\n",
       " 5.6592,\n",
       " 4.8371,\n",
       " 4.2736,\n",
       " 4.2736,\n",
       " 4.7067,\n",
       " 5.0658,\n",
       " 5.0658,\n",
       " 4.4277,\n",
       " 3.7723,\n",
       " 3.7723,\n",
       " 4.0717,\n",
       " 4.964,\n",
       " 5.6458,\n",
       " 5.6458,\n",
       " 5.509,\n",
       " 5.292,\n",
       " 5.292,\n",
       " 5.3446,\n",
       " 5.4499,\n",
       " 5.4499,\n",
       " 5.3796,\n",
       " 5.2047,\n",
       " 5.2047,\n",
       " 5.3314,\n",
       " 5.7632,\n",
       " 5.8674,\n",
       " 5.9982,\n",
       " 6.5667,\n",
       " 6.6535,\n",
       " 6.4195,\n",
       " 5.6942,\n",
       " 5.5358,\n",
       " 4.2013,\n",
       " 3.2802,\n",
       " 3.2297,\n",
       " 2.7027,\n",
       " 3.1111,\n",
       " 3.1111,\n",
       " 3.1111,\n",
       " 3.8857,\n",
       " 4.5569,\n",
       " 4.566,\n",
       " 4.5897,\n",
       " 4.8479,\n",
       " 4.59,\n",
       " 4.2151,\n",
       " 4.179,\n",
       " 3.7766,\n",
       " 3.7182,\n",
       " 3.6827,\n",
       " 3.7109,\n",
       " 3.8176,\n",
       " 4.0186,\n",
       " 4.0648,\n",
       " 4.6305,\n",
       " 4.8091,\n",
       " 4.8091,\n",
       " 4.8091,\n",
       " 5.0374,\n",
       " 4.9406,\n",
       " 4.8476,\n",
       " 5.5882,\n",
       " 6.1553,\n",
       " 7.2707,\n",
       " 7.9146,\n",
       " 7.9146,\n",
       " 7.6857,\n",
       " 7.2571,\n",
       " 5.9009,\n",
       " 4.8933,\n",
       " 4.8933,\n",
       " 5.0237,\n",
       " 5.3642,\n",
       " 5.59,\n",
       " 5.4013,\n",
       " 4.9627,\n",
       " 4.6959,\n",
       " 4.6959,\n",
       " 4.8218,\n",
       " 5.0332,\n",
       " 5.0332,\n",
       " 4.9839,\n",
       " 4.8822,\n",
       " 4.8822,\n",
       " 5.0082,\n",
       " 5.4322,\n",
       " 5.7428,\n",
       " 5.8566,\n",
       " 5.8832,\n",
       " 5.9675,\n",
       " 6.1767,\n",
       " 6.1784,\n",
       " 6.1784,\n",
       " 6.0803,\n",
       " 5.4382,\n",
       " 5.373,\n",
       " 5.1093,\n",
       " 5.131,\n",
       " 5.4168,\n",
       " 5.646,\n",
       " 5.8992,\n",
       " 5.8974,\n",
       " 5.6354,\n",
       " 5.8974,\n",
       " 5.8992,\n",
       " 6.6296,\n",
       " 6.8775,\n",
       " 6.9093,\n",
       " 6.9108,\n",
       " 6.6867,\n",
       " 6.4773,\n",
       " 6.4524,\n",
       " 6.4524,\n",
       " 6.595,\n",
       " 6.7183,\n",
       " 6.7401,\n",
       " 6.7401,\n",
       " 6.5536,\n",
       " 6.4968,\n",
       " 6.4968,\n",
       " 7.4548,\n",
       " 7.8273,\n",
       " 7.8273,\n",
       " 7.6009,\n",
       " 7.4911,\n",
       " 7.4911,\n",
       " 7.8449,\n",
       " 8.7894,\n",
       " 9.7029,\n",
       " 10.0293,\n",
       " 10.4348,\n",
       " 10.7379,\n",
       " 10.7379,\n",
       " 10.7379,\n",
       " 10.7375,\n",
       " 10.737,\n",
       " 11.0384,\n",
       " 11.4248,\n",
       " 11.4361,\n",
       " 11.3829,\n",
       " 11.3343,\n",
       " 10.9681,\n",
       " 10.2607,\n",
       " 9.7991,\n",
       " 9.7199,\n",
       " 9.7591,\n",
       " 9.8423,\n",
       " 10.067,\n",
       " 10.6392,\n",
       " 10.6742,\n",
       " 10.6776,\n",
       " 10.7005,\n",
       " 10.8873,\n",
       " 11.43,\n",
       " 11.3199,\n",
       " 11.0965,\n",
       " 11.1361,\n",
       " 11.3667,\n",
       " 11.3361,\n",
       " 11.2008,\n",
       " 12.2136,\n",
       " 12.2012,\n",
       " 12.0031,\n",
       " 11.5243,\n",
       " 11.8833,\n",
       " 11.8833,\n",
       " 11.8833,\n",
       " 11.8833,\n",
       " 11.9866,\n",
       " 12.1226,\n",
       " 12.1291,\n",
       " 12.7673,\n",
       " 13.5231,\n",
       " 13.8136,\n",
       " 14.6585,\n",
       " 14.777,\n",
       " 14.777,\n",
       " 14.3095,\n",
       " 12.9904,\n",
       " 12.6933,\n",
       " 12.5858,\n",
       " 12.5547,\n",
       " 12.6573,\n",
       " 13.3725,\n",
       " 13.6284,\n",
       " 13.6284,\n",
       " 13.4253,\n",
       " 12.4623,\n",
       " 11.8983,\n",
       " 11.0029,\n",
       " 10.3612,\n",
       " 10.0345,\n",
       " 9.6805,\n",
       " 9.5359,\n",
       " 9.429,\n",
       " 9.3428,\n",
       " 9.4432,\n",
       " 9.6695,\n",
       " 10.5103,\n",
       " 11.3825,\n",
       " 11.6844,\n",
       " 11.8839,\n",
       " 11.9049,\n",
       " 11.9331,\n",
       " 11.9137,\n",
       " 11.9558,\n",
       " 11.9545,\n",
       " 11.7375,\n",
       " 11.7375,\n",
       " 11.7013,\n",
       " 11.3114,\n",
       " 10.5505,\n",
       " 10.349,\n",
       " 9.8846,\n",
       " 10.0324,\n",
       " 10.6517,\n",
       " 11.1667,\n",
       " 11.2564,\n",
       " 11.3162,\n",
       " 11.5741,\n",
       " 11.6882,\n",
       " 11.6882,\n",
       " 11.6882,\n",
       " 11.7139,\n",
       " 11.9949,\n",
       " 12.0958,\n",
       " 11.69,\n",
       " 11.69,\n",
       " 11.684,\n",
       " 10.7941,\n",
       " 10.7941,\n",
       " 10.7941,\n",
       " 12.1737,\n",
       " 12.7576,\n",
       " 12.8771,\n",
       " 12.8842,\n",
       " 14.0077,\n",
       " 16.978,\n",
       " 17.9053,\n",
       " 17.9884,\n",
       " 17.9884,\n",
       " 17.1774,\n",
       " 14.4386,\n",
       " 13.8005,\n",
       " 13.4773,\n",
       " 13.6965,\n",
       " 13.8436,\n",
       " 14.2968,\n",
       " 15.0774,\n",
       " 15.8773,\n",
       " 16.8191,\n",
       " 17.155,\n",
       " 17.155,\n",
       " 15.8218,\n",
       " 14.3594,\n",
       " 13.9262,\n",
       " 13.9262,\n",
       " 14.9644,\n",
       " 15.8572,\n",
       " 16.12,\n",
       " 16.2987,\n",
       " 16.2987,\n",
       " 16.2987,\n",
       " 16.2987,\n",
       " 15.6968,\n",
       " 14.9512,\n",
       " 14.9512,\n",
       " 14.9512,\n",
       " 14.9546,\n",
       " 14.9601,\n",
       " 14.9073,\n",
       " 14.6411,\n",
       " 14.4648,\n",
       " 14.8106,\n",
       " 14.8106,\n",
       " 14.5721,\n",
       " 13.9448,\n",
       " 13.9641,\n",
       " 13.9641,\n",
       " 14.0532,\n",
       " 14.3953,\n",
       " 14.3953,\n",
       " 14.3953,\n",
       " 14.3788,\n",
       " 14.1904,\n",
       " 13.5515,\n",
       " 13.5092,\n",
       " 13.085,\n",
       " 12.9111,\n",
       " 12.6831,\n",
       " 12.6831,\n",
       " 12.6908,\n",
       " 13.2637,\n",
       " 13.9061,\n",
       " 14.848,\n",
       " 15.1789,\n",
       " 15.1899,\n",
       " 14.8827,\n",
       " 14.4984,\n",
       " 14.007,\n",
       " 13.7154,\n",
       " 12.7701,\n",
       " 12.606,\n",
       " 12.6006,\n",
       " 12.6006,\n",
       " 13.2127,\n",
       " 13.436,\n",
       " 13.568,\n",
       " 13.6009,\n",
       " 13.5482,\n",
       " 13.5303,\n",
       " 13.5807,\n",
       " 14.5963,\n",
       " 15.1957,\n",
       " 15.2706,\n",
       " 15.2706,\n",
       " 15.2706,\n",
       " 15.2706,\n",
       " 15.4987,\n",
       " 15.6849,\n",
       " 15.7089,\n",
       " 15.7089,\n",
       " 15.2803,\n",
       " 14.3859,\n",
       " 13.8573,\n",
       " 13.6434,\n",
       " 13.2246,\n",
       " 12.9532,\n",
       " 12.9532,\n",
       " 13.637,\n",
       " 14.646,\n",
       " 14.7774,\n",
       " 14.7431,\n",
       " 14.6855,\n",
       " 14.706,\n",
       " 14.7445,\n",
       " 15.3703,\n",
       " 16.7417,\n",
       " 16.7417,\n",
       " 16.6512,\n",
       " 16.4025,\n",
       " 16.4025,\n",
       " 16.728,\n",
       " 17.928,\n",
       " 17.928,\n",
       " 17.8656,\n",
       " 17.5091,\n",
       " 17.2616,\n",
       " 17.2496,\n",
       " 17.1284,\n",
       " 16.8513,\n",
       " 16.8665,\n",
       " 17.1614,\n",
       " 17.1713,\n",
       " 17.4142,\n",
       " 17.604,\n",
       " 17.6524,\n",
       " 17.9431,\n",
       " 18.033,\n",
       " 18.4869,\n",
       " 18.6856,\n",
       " 18.8982,\n",
       " 19.1118,\n",
       " 19.5315,\n",
       " 20.5585,\n",
       " 20.692,\n",
       " 20.692,\n",
       " 20.5503,\n",
       " 19.898,\n",
       " 18.8546,\n",
       " 18.6296,\n",
       " 18.6296,\n",
       " 18.6296,\n",
       " 18.6296,\n",
       " 17.1449,\n",
       " 15.6556,\n",
       " 14.7279,\n",
       " 14.4773,\n",
       " 14.4569,\n",
       " 14.446,\n",
       " 14.4656,\n",
       " 14.5335,\n",
       " 14.5699,\n",
       " 14.7428,\n",
       " 15.2626,\n",
       " 15.8024,\n",
       " 15.9953,\n",
       " 15.9953,\n",
       " 15.3066,\n",
       " 14.5554,\n",
       " 14.5079,\n",
       " 14.5487,\n",
       " 14.6617,\n",
       " 15.4066,\n",
       " 16.3731,\n",
       " 16.5013,\n",
       " 16.6451,\n",
       " 16.606,\n",
       " 16.4932,\n",
       " 16.3895,\n",
       " 16.2267,\n",
       " 15.9603,\n",
       " 16.0653,\n",
       " 16.264,\n",
       " 16.1786,\n",
       " 16.6589,\n",
       " 16.5283,\n",
       " 16.0269,\n",
       " 16.1364,\n",
       " 16.483,\n",
       " 15.739,\n",
       " 16.8102,\n",
       " 17.0029,\n",
       " 17.2901,\n",
       " 19.171,\n",
       " 19.171,\n",
       " 19.1387,\n",
       " 18.4797,\n",
       " 18.4797,\n",
       " 18.4798,\n",
       " 20.0859,\n",
       " 20.333,\n",
       " 20.548,\n",
       " 21.9498,\n",
       " 23.125,\n",
       " 23.3284,\n",
       " 23.3392,\n",
       " 23.3392,\n",
       " 22.8231,\n",
       " 21.2837,\n",
       " 16.9104,\n",
       " 16.1256,\n",
       " 16.1256,\n",
       " 17.1508,\n",
       " 18.688,\n",
       " 19.0602,\n",
       " 19.0602,\n",
       " 18.6953,\n",
       " 17.77,\n",
       " 17.0826,\n",
       " 16.9162,\n",
       " 16.5022,\n",
       " 16.2958,\n",
       " 16.688,\n",
       " 16.915,\n",
       " 16.9721,\n",
       " 17.2509,\n",
       " 17.7038,\n",
       " 17.9831,\n",
       " 18.3253,\n",
       " 18.7707,\n",
       " 18.9464,\n",
       " 18.9024,\n",
       " 18.7255,\n",
       " 18.5382,\n",
       " 18.3857,\n",
       " 18.2566,\n",
       " 18.3504,\n",
       " 18.3897,\n",
       " 18.2393,\n",
       " 18.0779,\n",
       " 17.791,\n",
       " 17.791,\n",
       " 17.8235,\n",
       " 17.8946,\n",
       " 17.8946,\n",
       " 17.63,\n",
       " 16.9024,\n",
       " 16.9024,\n",
       " 16.7531,\n",
       " 16.2025,\n",
       " 16.1904,\n",
       " 16.1377,\n",
       " 16.1377,\n",
       " 16.1377,\n",
       " 16.1377,\n",
       " 16.0453,\n",
       " 15.2583,\n",
       " 15.0861,\n",
       " 14.6667,\n",
       " 14.5497,\n",
       " 14.1438,\n",
       " 14.1438,\n",
       " 14.1438,\n",
       " 15.4033,\n",
       " 15.4117,\n",
       " 16.0108,\n",
       " 16.2604,\n",
       " 16.9955,\n",
       " 17.3769,\n",
       " 17.4556,\n",
       " 17.4141,\n",
       " 17.4077,\n",
       " 17.8813,\n",
       " 17.967,\n",
       " 18.1648,\n",
       " 18.2102,\n",
       " 18.2102,\n",
       " 16.844,\n",
       " 16.1548,\n",
       " 16.0652,\n",
       " 16.0652,\n",
       " 16.8239,\n",
       " 17.6191,\n",
       " 17.8382,\n",
       " 17.8382,\n",
       " 16.8664,\n",
       " 15.5447,\n",
       " 14.0434,\n",
       " 13.3694,\n",
       " 13.3694,\n",
       " 13.6267,\n",
       " 14.0947,\n",
       " 14.855,\n",
       " 15.7206,\n",
       " 16.0812,\n",
       " 16.0812,\n",
       " 15.8936,\n",
       " 15.5413,\n",
       " 15.2878,\n",
       " 15.1799,\n",
       " 15.1799,\n",
       " 15.2291,\n",
       " 15.3288,\n",
       " 15.3663,\n",
       " 15.3663,\n",
       " 15.0092,\n",
       " 14.2506,\n",
       " 14.2506,\n",
       " 14.5892,\n",
       " 16.1323,\n",
       " 18.1633,\n",
       " 18.5945,\n",
       " 18.5945,\n",
       " 18.5116,\n",
       " 17.9938,\n",
       " 17.1101,\n",
       " 16.7761,\n",
       " 16.9477,\n",
       " 17.9775,\n",
       " 16.7761,\n",
       " 16.8098,\n",
       " 17.1549,\n",
       " 16.5355,\n",
       " 16.2109,\n",
       " 16.557,\n",
       " 16.9267,\n",
       " 16.552,\n",
       " 15.5755,\n",
       " 16.05,\n",
       " 15.0956,\n",
       " 15.048,\n",
       " 15.9853,\n",
       " 16.2912,\n",
       " 16.3143,\n",
       " 16.3143,\n",
       " 15.7666,\n",
       " 15.2335,\n",
       " 15.0209,\n",
       " 14.4074,\n",
       " 14.2669,\n",
       " 14.2601,\n",
       " 14.2581,\n",
       " 14.2169,\n",
       " 14.169,\n",
       " 13.6145,\n",
       " 13.223,\n",
       " 13.1462,\n",
       " 13.1462,\n",
       " 13.4441,\n",
       " 14.5336,\n",
       " 15.1041,\n",
       " 15.9685,\n",
       " 16.5305,\n",
       " 16.5305,\n",
       " 16.4557,\n",
       " 16.3425,\n",
       " 16.226,\n",
       " 16.1612,\n",
       " 16.1612,\n",
       " 16.4527,\n",
       " 17.0567,\n",
       " 17.4213,\n",
       " 17.456,\n",
       " 17.4308,\n",
       " 17.3379,\n",
       " 16.7479,\n",
       " 15.601,\n",
       " 14.5805,\n",
       " 13.668,\n",
       " 13.668,\n",
       " 13.8535,\n",
       " 14.497,\n",
       " 15.2474,\n",
       " 16.0377,\n",
       " 16.3963,\n",
       " 16.3963,\n",
       " 16.4032,\n",
       " 16.3627,\n",
       " 16.0667,\n",
       " 16.1225,\n",
       " 16.4849,\n",
       " 16.8378,\n",
       " 16.8378,\n",
       " 16.8378,\n",
       " 16.8378,\n",
       " 16.8216,\n",
       " 16.5336,\n",
       " 16.5268,\n",
       " 16.2722,\n",
       " 15.2287,\n",
       " 15.1421,\n",
       " 14.1852,\n",
       " 14.3181,\n",
       " 14.3247,\n",
       " 14.3247,\n",
       " 15.5152,\n",
       " 16.2397,\n",
       " 16.3512,\n",
       " 17.3946,\n",
       " 17.668,\n",
       " 17.7375,\n",
       " 18.1937,\n",
       " 18.2962,\n",
       " 18.2042,\n",
       " 18.1793,\n",
       " 17.993,\n",
       " 17.5028,\n",
       " 17.0822,\n",
       " 16.9793,\n",
       " 16.9793,\n",
       " 16.9793,\n",
       " 16.9793,\n",
       " 16.8035,\n",
       " 15.7587,\n",
       " 15.1951,\n",
       " 15.1951,\n",
       " 15.493,\n",
       " 15.8635,\n",
       " 15.9804,\n",
       " 16.0315,\n",
       " 16.1385,\n",
       " 16.378,\n",
       " 16.6955,\n",
       " 17.3424,\n",
       " 18.0706,\n",
       " 18.2742,\n",
       " 18.296,\n",
       " 18.1455,\n",
       " 17.8731,\n",
       " 17.5308,\n",
       " 16.5162,\n",
       " 15.4299,\n",
       " 15.1683,\n",
       " 14.9411,\n",
       " 14.9411,\n",
       " 15.1553,\n",
       " 15.9347,\n",
       " 16.5537,\n",
       " 16.5537,\n",
       " 16.2807,\n",
       " 15.233,\n",
       " 15.233,\n",
       " 15.4284,\n",
       " 16.6247,\n",
       " 17.6281,\n",
       " 17.7699,\n",
       " 18.2483,\n",
       " 18.2483,\n",
       " 18.1702,\n",
       " 17.0485,\n",
       " 16.4944,\n",
       " 16.4562,\n",
       " 15.3476,\n",
       " 15.3476,\n",
       " 15.3476,\n",
       " 15.6439,\n",
       " 17.2789,\n",
       " 17.3585,\n",
       " 17.3585,\n",
       " 15.6655,\n",
       " 15.4466,\n",
       " 15.4409,\n",
       " 15.4839,\n",
       " 15.6002,\n",
       " 15.6209,\n",
       " 15.6209,\n",
       " 15.8861,\n",
       " 15.2609,\n",
       " 14.9473,\n",
       " 15.0207,\n",
       " 15.4821,\n",
       " 15.6418,\n",
       " 16.3475,\n",
       " 16.6596,\n",
       " 16.6596,\n",
       " 16.0161,\n",
       " 14.2728,\n",
       " 13.4673,\n",
       " 13.4673,\n",
       " 14.1931,\n",
       " 15.3532,\n",
       " 16.1018,\n",
       " 16.542,\n",
       " 16.9866,\n",
       " 17.4416,\n",
       " 17.715,\n",
       " 18.0262,\n",
       " 18.5454,\n",
       " 18.8161,\n",
       " 18.7832,\n",
       " 18.7389,\n",
       " 18.714,\n",
       " 18.1474,\n",
       " 16.835,\n",
       " 15.6611,\n",
       " 14.8744,\n",
       " 14.7688,\n",
       " 14.46,\n",
       " 14.2672,\n",
       " 14.34,\n",
       " 14.7007,\n",
       " 15.191,\n",
       " 15.191,\n",
       " 15.2047,\n",
       " 15.2596,\n",
       " 15.2596,\n",
       " 15.3852,\n",
       " 16.0786,\n",
       " 16.0786,\n",
       " 16.0786,\n",
       " 16.0584,\n",
       " 15.8215,\n",
       " 15.5305,\n",
       " 15.8459,\n",
       " 15.8395,\n",
       " 15.606,\n",
       " 15.5127,\n",
       " 14.2791,\n",
       " 14.2709,\n",
       " 14.2709,\n",
       " 15.4584,\n",
       " 15.5253,\n",
       " 15.5253,\n",
       " 15.7057,\n",
       " 15.1888,\n",
       " 14.9039,\n",
       " 15.078,\n",
       " 15.1872,\n",
       " 15.2015,\n",
       " 15.4663,\n",
       " 15.5325,\n",
       " 15.5325,\n",
       " 15.5325,\n",
       " 15.5325,\n",
       " 16.0879,\n",
       " 16.3038,\n",
       " 16.3038,\n",
       " 16.2178,\n",
       " 15.9538,\n",
       " 15.4557,\n",
       " 15.1848,\n",
       " 14.9248,\n",
       " 14.6985,\n",
       " 14.0926,\n",
       " 13.6825,\n",
       " 13.6825,\n",
       " 14.331,\n",
       " 14.9138,\n",
       " 14.9138,\n",
       " 14.7527,\n",
       " 14.5782,\n",
       " 14.5782,\n",
       " 14.676,\n",
       " 15.4972,\n",
       " 16.5986,\n",
       " 16.7747,\n",
       " 16.7747,\n",
       " 16.3668,\n",
       " 15.5849,\n",
       " 15.4582,\n",
       " 15.063,\n",
       " 14.3666,\n",
       " 14.1951,\n",
       " 14.1951,\n",
       " 14.1951,\n",
       " 14.0552,\n",
       " 13.4872,\n",
       " 13.1391,\n",
       " 13.1391,\n",
       " 13.2888,\n",
       " 14.1043,\n",
       " 14.2806,\n",
       " 14.3633,\n",
       " 14.846,\n",
       " 15.2818,\n",
       " 15.5622,\n",
       " 15.7526,\n",
       " 16.0809,\n",
       " 15.9064,\n",
       " 15.9064,\n",
       " 15.9064,\n",
       " 15.9064,\n",
       " 15.9064,\n",
       " 15.4707,\n",
       " 15.9101,\n",
       " 16.3925,\n",
       " 17.0595,\n",
       " 18.4463,\n",
       " 18.6153,\n",
       " 18.6153,\n",
       " 17.0072,\n",
       " 16.7011,\n",
       " 16.7011,\n",
       " 17.2572,\n",
       " 17.6859,\n",
       " 18.2357,\n",
       " 18.7559,\n",
       " 18.8823,\n",
       " 18.8823,\n",
       " 18.1284,\n",
       " 17.5899,\n",
       " 17.268,\n",
       " 16.4956,\n",
       " 15.9766,\n",
       " 15.8848,\n",
       " 15.8848,\n",
       " 16.4963,\n",
       " 17.0018,\n",
       " 17.0589,\n",
       " 17.0589,\n",
       " 16.2447,\n",
       " 15.4933,\n",
       " 15.4319,\n",
       " 15.1759,\n",
       " 14.8798,\n",
       " 14.5422,\n",
       " 14.2405,\n",
       " 14.2405,\n",
       " 14.3409,\n",
       " 14.7647,\n",
       " 15.3098,\n",
       " 15.5083,\n",
       " 16.0064,\n",
       " 16.9083,\n",
       " 16.9083,\n",
       " 16.8455,\n",
       " 16.3586,\n",
       " 15.4638,\n",
       " 15.4638,\n",
       " 15.4824,\n",
       " 15.6658,\n",
       " 16.126,\n",
       " 16.0301,\n",
       " 15.4537,\n",
       " 14.6442,\n",
       " 12.8647,\n",
       " 12.8647,\n",
       " 12.9398,\n",
       " 13.7353,\n",
       " 13.8309,\n",
       " 14.5963,\n",
       " 14.7512,\n",
       " 14.7512,\n",
       " 14.7512,\n",
       " 14.1339,\n",
       " 14.1298,\n",
       " 14.1298,\n",
       " 14.1298,\n",
       " 14.1298,\n",
       " 14.452,\n",
       " 14.885,\n",
       " 16.139,\n",
       " 16.4249,\n",
       " 17.2909,\n",
       " 17.4443,\n",
       " 17.4443,\n",
       " 17.2069,\n",
       " 16.637,\n",
       " 16.3944,\n",
       " 15.8449,\n",
       " 16.1794,\n",
       " 16.3534,\n",
       " 16.3498,\n",
       " 16.7745,\n",
       " 17.045,\n",
       " 17.0381,\n",
       " 17.0146,\n",
       " 17.0146,\n",
       " 16.4411,\n",
       " 16.0644,\n",
       " 15.731,\n",
       " 15.3892,\n",
       " 15.23,\n",
       " 15.1606,\n",
       " 15.1606,\n",
       " 15.8599,\n",
       " 16.578,\n",
       " 16.578,\n",
       " 16.578,\n",
       " 16.578,\n",
       " 16.7404,\n",
       " 17.6304,\n",
       " 18.6193,\n",
       " 18.6193,\n",
       " 18.5404,\n",
       " 18.3109,\n",
       " 18.1291,\n",
       " 17.9882,\n",
       " 17.7252,\n",
       " 17.7252,\n",
       " 17.7252,\n",
       " 17.689,\n",
       " 17.172,\n",
       " 15.7123,\n",
       " 15.3764,\n",
       " 15.4498,\n",
       " 15.8432,\n",
       " 16.1255,\n",
       " 16.4411,\n",
       " 16.4411,\n",
       " 16.4411,\n",
       " 16.4276,\n",
       " 16.272,\n",
       " 16.2929,\n",
       " ...]"
      ]
     },
     "execution_count": 3,
     "metadata": {},
     "output_type": "execute_result"
    }
   ],
   "source": [
    "gr"
   ]
  },
  {
   "cell_type": "markdown",
   "id": "9a0d172e",
   "metadata": {},
   "source": [
    "As this is a very long log (how long in fact?), we'll just **slice** into the `list` to grab the first 10 values to learn about this data structure, the `list`:"
   ]
  },
  {
   "cell_type": "code",
   "execution_count": 4,
   "id": "f6561ccd",
   "metadata": {},
   "outputs": [
    {
     "data": {
      "text/plain": [
       "9666"
      ]
     },
     "execution_count": 4,
     "metadata": {},
     "output_type": "execute_result"
    }
   ],
   "source": [
    "len(gr)"
   ]
  },
  {
   "cell_type": "code",
   "execution_count": 5,
   "id": "f3dfd79f",
   "metadata": {},
   "outputs": [
    {
     "data": {
      "text/plain": [
       "[3.0703, 2.7441, 2.6564, 2.6521, 2.032, 1.7953, 1.4786, 1.3392, 1.3392, 1.7285]"
      ]
     },
     "execution_count": 5,
     "metadata": {},
     "output_type": "execute_result"
    }
   ],
   "source": [
    "# Slicing\n",
    "gr[0:10]"
   ]
  },
  {
   "cell_type": "code",
   "execution_count": 6,
   "id": "e38318ee",
   "metadata": {},
   "outputs": [
    {
     "data": {
      "text/plain": [
       "[3.0703, 2.7441, 2.6564, 2.6521, 2.032, 1.7953, 1.4786, 1.3392, 1.3392, 1.7285]"
      ]
     },
     "execution_count": 6,
     "metadata": {},
     "output_type": "execute_result"
    }
   ],
   "source": [
    "# Saving the slice\n",
    "gr_ten = gr[0:10]\n",
    "gr_ten"
   ]
  },
  {
   "cell_type": "markdown",
   "id": "e816d6e6",
   "metadata": {},
   "source": [
    "Notice that, for now, there are no coordinates, only the data.\n",
    "\n",
    "This thing now exists in memory, with the name `gr_ten` pointing at it. We can ask to see it:"
   ]
  },
  {
   "cell_type": "code",
   "execution_count": 7,
   "id": "bd7d804e",
   "metadata": {},
   "outputs": [
    {
     "data": {
      "text/plain": [
       "[3.0703, 2.7441, 2.6564, 2.6521, 2.032, 1.7953, 1.4786, 1.3392, 1.3392, 1.7285]"
      ]
     },
     "execution_count": 7,
     "metadata": {},
     "output_type": "execute_result"
    }
   ],
   "source": [
    "gr_ten"
   ]
  },
  {
   "cell_type": "markdown",
   "id": "11d371af",
   "metadata": {},
   "source": [
    "But we can't do 'mathy' things with it in a particularly easy way:"
   ]
  },
  {
   "cell_type": "code",
   "execution_count": 8,
   "id": "0fa64ad1",
   "metadata": {},
   "outputs": [
    {
     "ename": "TypeError",
     "evalue": "can only concatenate list (not \"int\") to list",
     "output_type": "error",
     "traceback": [
      "\u001b[0;31m---------------------------------------------------------------------------\u001b[0m",
      "\u001b[0;31mTypeError\u001b[0m                                 Traceback (most recent call last)",
      "\u001b[0;32m/tmp/ipykernel_20483/13350882.py\u001b[0m in \u001b[0;36m<module>\u001b[0;34m\u001b[0m\n\u001b[0;32m----> 1\u001b[0;31m \u001b[0mgr_ten\u001b[0m \u001b[0;34m+\u001b[0m \u001b[0;36m10\u001b[0m\u001b[0;34m\u001b[0m\u001b[0;34m\u001b[0m\u001b[0m\n\u001b[0m\u001b[1;32m      2\u001b[0m \u001b[0;34m\u001b[0m\u001b[0m\n\u001b[1;32m      3\u001b[0m \u001b[0;31m# This results in an error:\u001b[0m\u001b[0;34m\u001b[0m\u001b[0;34m\u001b[0m\u001b[0m\n",
      "\u001b[0;31mTypeError\u001b[0m: can only concatenate list (not \"int\") to list"
     ]
    }
   ],
   "source": [
    "gr_ten + 10 \n",
    "\n",
    "# This results in an error:"
   ]
  },
  {
   "cell_type": "markdown",
   "id": "d490a5b8",
   "metadata": {},
   "source": [
    "Later on we'll meet NumPy and see how its `ndarray` data structure can help us with this.\n",
    "\n",
    "We can plot it though! We need a library for this, plotting is not built into the core of Python. (Most things aren't; the core of Python just contains a few fundamental tools.)"
   ]
  },
  {
   "cell_type": "code",
   "execution_count": 9,
   "id": "8d1469f1",
   "metadata": {},
   "outputs": [
    {
     "data": {
      "text/plain": [
       "[<matplotlib.lines.Line2D at 0x7f1c38ee3a90>]"
      ]
     },
     "execution_count": 9,
     "metadata": {},
     "output_type": "execute_result"
    },
    {
     "data": {
      "image/png": "[encoded data removed]",
      "text/plain": [
       "<Figure size 432x288 with 1 Axes>"
      ]
     },
     "metadata": {
      "needs_background": "light"
     },
     "output_type": "display_data"
    }
   ],
   "source": [
    "import matplotlib.pyplot as plt\n",
    "\n",
    "plt.plot(gr_ten)"
   ]
  },
  {
   "cell_type": "code",
   "execution_count": 10,
   "id": "dfe90b35",
   "metadata": {},
   "outputs": [
    {
     "data": {
      "text/plain": [
       "[<matplotlib.lines.Line2D at 0x7f1c30b29700>]"
      ]
     },
     "execution_count": 10,
     "metadata": {},
     "output_type": "execute_result"
    },
    {
     "data": {
      "image/png": "[encoded data removed]",
      "text/plain": [
       "<Figure size 432x288 with 1 Axes>"
      ]
     },
     "metadata": {
      "needs_background": "light"
     },
     "output_type": "display_data"
    }
   ],
   "source": [
    "plt.plot(gr)"
   ]
  },
  {
   "cell_type": "markdown",
   "id": "ee88c076",
   "metadata": {},
   "source": [
    "Another handy plot:"
   ]
  },
  {
   "cell_type": "code",
   "execution_count": 11,
   "id": "8ad29ee6",
   "metadata": {},
   "outputs": [
    {
     "data": {
      "image/png": "[encoded data removed]",
      "text/plain": [
       "<Figure size 432x288 with 1 Axes>"
      ]
     },
     "metadata": {
      "needs_background": "light"
     },
     "output_type": "display_data"
    }
   ],
   "source": [
    "_ = plt.hist(gr_ten)"
   ]
  },
  {
   "cell_type": "code",
   "execution_count": 12,
   "id": "0e16030f",
   "metadata": {},
   "outputs": [
    {
     "data": {
      "image/png": "[encoded data removed]",
      "text/plain": [
       "<Figure size 432x288 with 1 Axes>"
      ]
     },
     "metadata": {
      "needs_background": "light"
     },
     "output_type": "display_data"
    }
   ],
   "source": [
    "# And let's look at the whole data set too\n",
    "_ = plt.hist(gr)"
   ]
  },
  {
   "cell_type": "markdown",
   "id": "dc2dc324",
   "metadata": {},
   "source": [
    "## What can `list` do?\n",
    "\n",
    "This data structure has three important features:\n",
    "\n",
    "- Its instances are sequences with concepts like length, membership, and iterability.\n",
    "- Its instances are ordered collections that we can index and slice elements and subsequences from.\n",
    "- Its instances have 'methods' attached to them, which are functions that access their data.\n",
    "\n",
    "Let's explore!"
   ]
  },
  {
   "cell_type": "code",
   "execution_count": 13,
   "id": "79fa011e",
   "metadata": {},
   "outputs": [
    {
     "data": {
      "text/plain": [
       "[3.0703, 2.7441, 2.6564, 2.6521, 2.032, 1.7953, 1.4786, 1.3392, 1.3392, 1.7285]"
      ]
     },
     "execution_count": 13,
     "metadata": {},
     "output_type": "execute_result"
    }
   ],
   "source": [
    "gr_ten"
   ]
  },
  {
   "cell_type": "code",
   "execution_count": null,
   "id": "06a7dfe4",
   "metadata": {},
   "outputs": [],
   "source": []
  },
  {
   "cell_type": "code",
   "execution_count": 14,
   "id": "98d09909",
   "metadata": {
    "tags": [
     "hide"
    ]
   },
   "outputs": [
    {
     "data": {
      "text/plain": [
       "10"
      ]
     },
     "execution_count": 14,
     "metadata": {},
     "output_type": "execute_result"
    }
   ],
   "source": [
    "# We'll talk about iterability in a minute.\n",
    "\n",
    "# Length.\n",
    "len(gr_ten)"
   ]
  },
  {
   "cell_type": "code",
   "execution_count": 15,
   "id": "35bcdd57",
   "metadata": {
    "tags": [
     "hide"
    ]
   },
   "outputs": [
    {
     "data": {
      "text/plain": [
       "True"
      ]
     },
     "execution_count": 15,
     "metadata": {},
     "output_type": "execute_result"
    }
   ],
   "source": [
    "# Membership.\n",
    "2.032 in gr_ten"
   ]
  },
  {
   "cell_type": "code",
   "execution_count": 16,
   "id": "5937f4fe",
   "metadata": {
    "tags": [
     "hide"
    ]
   },
   "outputs": [
    {
     "data": {
      "text/plain": [
       "[1.3392, 1.3392, 1.4786, 1.7285, 1.7953, 2.032, 2.6521, 2.6564, 2.7441, 3.0703]"
      ]
     },
     "execution_count": 16,
     "metadata": {},
     "output_type": "execute_result"
    }
   ],
   "source": [
    "# Sortability.\n",
    "sorted(gr_ten)  # Returns a copy, unlike list.sort() method."
   ]
  },
  {
   "cell_type": "code",
   "execution_count": 17,
   "id": "beb81db2",
   "metadata": {
    "tags": [
     "hide"
    ]
   },
   "outputs": [
    {
     "data": {
      "text/plain": [
       "20.8357"
      ]
     },
     "execution_count": 17,
     "metadata": {},
     "output_type": "execute_result"
    }
   ],
   "source": [
    "# There's a built-in function to sum collections.\n",
    "sum(gr_ten)"
   ]
  },
  {
   "cell_type": "code",
   "execution_count": 18,
   "id": "1cfcb086",
   "metadata": {
    "tags": [
     "hide"
    ]
   },
   "outputs": [
    {
     "ename": "IndexError",
     "evalue": "list index out of range",
     "output_type": "error",
     "traceback": [
      "\u001b[0;31m---------------------------------------------------------------------------\u001b[0m",
      "\u001b[0;31mIndexError\u001b[0m                                Traceback (most recent call last)",
      "\u001b[0;32m/tmp/ipykernel_20483/2442511028.py\u001b[0m in \u001b[0;36m<module>\u001b[0;34m\u001b[0m\n\u001b[1;32m      1\u001b[0m \u001b[0;31m# Indexing.\u001b[0m\u001b[0;34m\u001b[0m\u001b[0;34m\u001b[0m\u001b[0m\n\u001b[0;32m----> 2\u001b[0;31m \u001b[0mgr_ten\u001b[0m\u001b[0;34m[\u001b[0m\u001b[0;36m0\u001b[0m\u001b[0;34m]\u001b[0m\u001b[0;34m,\u001b[0m \u001b[0mgr_ten\u001b[0m\u001b[0;34m[\u001b[0m\u001b[0;36m3\u001b[0m\u001b[0;34m]\u001b[0m\u001b[0;34m,\u001b[0m \u001b[0mgr_ten\u001b[0m\u001b[0;34m[\u001b[0m\u001b[0;36m11\u001b[0m\u001b[0;34m]\u001b[0m\u001b[0;34m,\u001b[0m \u001b[0mgr_ten\u001b[0m\u001b[0;34m[\u001b[0m\u001b[0;34m-\u001b[0m\u001b[0;36m1\u001b[0m\u001b[0;34m]\u001b[0m  \u001b[0;31m# Explain why -1.\u001b[0m\u001b[0;34m\u001b[0m\u001b[0;34m\u001b[0m\u001b[0m\n\u001b[0m",
      "\u001b[0;31mIndexError\u001b[0m: list index out of range"
     ]
    }
   ],
   "source": [
    "# Indexing.\n",
    "gr_ten[0], gr_ten[3], gr_ten[11], gr_ten[-1]  # Explain why -1."
   ]
  },
  {
   "cell_type": "code",
   "execution_count": 19,
   "id": "3368e6ee",
   "metadata": {
    "tags": [
     "hide"
    ]
   },
   "outputs": [
    {
     "data": {
      "text/plain": [
       "[3.0703, 2.6564, 2.032, 1.4786, 1.3392]"
      ]
     },
     "execution_count": 19,
     "metadata": {},
     "output_type": "execute_result"
    }
   ],
   "source": [
    "# Slicing.\n",
    "gr_ten[5:8]    # 8 - 5 = 3 items.\n",
    "gr_ten[:10]    # The first 10.\n",
    "gr_ten[1:]     # All except the first.\n",
    "gr_ten[:-1]    # All except the last\n",
    "gr_ten[:10:2]  # Every other of first ten"
   ]
  },
  {
   "cell_type": "code",
   "execution_count": 20,
   "id": "1faa3314",
   "metadata": {
    "tags": [
     "hide"
    ]
   },
   "outputs": [
    {
     "data": {
      "text/plain": [
       "[100, 2.7441, 2.6564, 2.6521, 2.032, 1.7953, 1.4786, 1.3392, 1.3392, 1.7285]"
      ]
     },
     "execution_count": 20,
     "metadata": {},
     "output_type": "execute_result"
    }
   ],
   "source": [
    "# Assignment by index (but not slice).\n",
    "gr_ten[0] = 100\n",
    "gr_ten\n",
    "\n",
    "# This CHANGES item 0, does not insert new item at 0 (method for that).\n",
    "# Mutability. Be careful with it, often better to make a new thing."
   ]
  },
  {
   "cell_type": "code",
   "execution_count": 21,
   "id": "c8d6b77a",
   "metadata": {
    "tags": [
     "hide"
    ]
   },
   "outputs": [
    {
     "data": {
      "text/plain": [
       "0"
      ]
     },
     "execution_count": 21,
     "metadata": {},
     "output_type": "execute_result"
    }
   ],
   "source": [
    "# Methods.\n",
    "gr_ten.index(100)"
   ]
  },
  {
   "cell_type": "code",
   "execution_count": 22,
   "id": "517210dd",
   "metadata": {
    "tags": [
     "hide"
    ]
   },
   "outputs": [
    {
     "data": {
      "text/plain": [
       "[100,\n",
       " 2.7441,\n",
       " 2.6564,\n",
       " 2.6521,\n",
       " 2.032,\n",
       " 1.7953,\n",
       " 1.4786,\n",
       " 1.3392,\n",
       " 1.3392,\n",
       " 1.7285,\n",
       " 50]"
      ]
     },
     "execution_count": 22,
     "metadata": {},
     "output_type": "execute_result"
    }
   ],
   "source": [
    "# Append is easily the most useful; works in place (lists are mutable).\n",
    "gr_ten.append(50)\n",
    "gr_ten"
   ]
  },
  {
   "cell_type": "markdown",
   "id": "79bd7738",
   "metadata": {},
   "source": [
    "## Iterability\n",
    "\n",
    "Often we'd lile to step over the items in a collection, transforming them or somehow using them as we go. For example, we might collect the transformed versions in a new list (\"remove the endings from these filenames\") or perhaps we'll loop over a list of URLs, making web requests to each one in turn and collecting the results."
   ]
  },
  {
   "cell_type": "code",
   "execution_count": null,
   "id": "8738ee92",
   "metadata": {},
   "outputs": [],
   "source": []
  },
  {
   "cell_type": "code",
   "execution_count": 23,
   "id": "167d6e0f",
   "metadata": {
    "scrolled": true,
    "tags": [
     "hide"
    ]
   },
   "outputs": [
    {
     "name": "stdout",
     "output_type": "stream",
     "text": [
      "110\n",
      "12.7441\n",
      "12.6564\n",
      "12.6521\n",
      "12.032\n",
      "11.7953\n",
      "11.4786\n",
      "11.3392\n",
      "11.3392\n",
      "11.7285\n",
      "60\n"
     ]
    }
   ],
   "source": [
    "# Iterability.\n",
    "# Earlier on I tried to add 10 to the GR log.\n",
    "\n",
    "# This is a `for` loop. Notice:\n",
    "#  - No counters or increments.\n",
    "#  - We get each `n` from `gr` in turn.\n",
    "for n in gr_ten:\n",
    "    print(n + 10)"
   ]
  },
  {
   "cell_type": "code",
   "execution_count": 24,
   "id": "98feed94",
   "metadata": {
    "tags": [
     "hide"
    ]
   },
   "outputs": [
    {
     "data": {
      "text/plain": [
       "[100,\n",
       " 2.7441,\n",
       " 2.6564,\n",
       " 2.6521,\n",
       " 2.032,\n",
       " 1.7953,\n",
       " 1.4786,\n",
       " 1.3392,\n",
       " 1.3392,\n",
       " 1.7285,\n",
       " 50]"
      ]
     },
     "execution_count": 24,
     "metadata": {},
     "output_type": "execute_result"
    }
   ],
   "source": [
    "# GR hasn't changed:\n",
    "gr_ten"
   ]
  },
  {
   "cell_type": "code",
   "execution_count": 25,
   "id": "3d41ef81",
   "metadata": {
    "tags": [
     "hide"
    ]
   },
   "outputs": [
    {
     "data": {
      "text/plain": [
       "50"
      ]
     },
     "execution_count": 25,
     "metadata": {},
     "output_type": "execute_result"
    }
   ],
   "source": [
    "# `n` was an actual assignment happening for each step in `gr`:\n",
    "n"
   ]
  },
  {
   "cell_type": "code",
   "execution_count": 26,
   "id": "69a6f804",
   "metadata": {
    "tags": [
     "hide"
    ]
   },
   "outputs": [
    {
     "data": {
      "text/plain": [
       "[110,\n",
       " 12.7441,\n",
       " 12.6564,\n",
       " 12.6521,\n",
       " 12.032,\n",
       " 11.7953,\n",
       " 11.4786,\n",
       " 11.3392,\n",
       " 11.3392,\n",
       " 11.7285,\n",
       " 60]"
      ]
     },
     "execution_count": 26,
     "metadata": {},
     "output_type": "execute_result"
    }
   ],
   "source": [
    "# To 'save' the transformed numbers, I need to collect them in a new list.\n",
    "gr_out = []\n",
    "for n in gr_ten:\n",
    "    gr_out.append(n + 10)\n",
    "gr_out"
   ]
  },
  {
   "cell_type": "markdown",
   "id": "a13ea271",
   "metadata": {},
   "source": [
    "## `break` and `continue`\n",
    "\n",
    "We loaded data in `gr` with no 'nan' values (so called for Not A Number), if we reload the data with those values we would get this situation:"
   ]
  },
  {
   "cell_type": "code",
   "execution_count": 27,
   "id": "caa4e6a7",
   "metadata": {},
   "outputs": [
    {
     "data": {
      "text/plain": [
       "[nan, nan, nan, nan, nan, nan, nan, nan, nan, nan, nan, nan, nan, nan, 3.0703]"
      ]
     },
     "execution_count": 27,
     "metadata": {},
     "output_type": "execute_result"
    }
   ],
   "source": [
    "# Notice we're not using `dropna=True`, so it defaults back to `False`:\n",
    "gr_all = get_GR(w)\n",
    "gr_all[:15]"
   ]
  },
  {
   "cell_type": "markdown",
   "id": "37eff2c3",
   "metadata": {},
   "source": [
    "So now if we want to iterate over these values, we need some control at each step of the iteration, this is where `break` and `continue` can come in. First we'll use `numpy` to identify those `nan` values (we could also use the `math` library, but as `numpy` is the go-to library for all scientific computing in Python, we might as well get familiar with it:"
   ]
  },
  {
   "cell_type": "code",
   "execution_count": 28,
   "id": "98ed762c",
   "metadata": {},
   "outputs": [],
   "source": [
    "import numpy as np"
   ]
  },
  {
   "cell_type": "code",
   "execution_count": null,
   "id": "dc9fa61e",
   "metadata": {},
   "outputs": [],
   "source": []
  },
  {
   "cell_type": "code",
   "execution_count": 29,
   "id": "ca57ad8a",
   "metadata": {
    "tags": [
     "hide"
    ]
   },
   "outputs": [
    {
     "data": {
      "text/plain": [
       "nan"
      ]
     },
     "execution_count": 29,
     "metadata": {},
     "output_type": "execute_result"
    }
   ],
   "source": [
    "gr_all[0]"
   ]
  },
  {
   "cell_type": "code",
   "execution_count": 30,
   "id": "55a036c7",
   "metadata": {
    "tags": [
     "hide"
    ]
   },
   "outputs": [
    {
     "data": {
      "text/plain": [
       "(False, True)"
      ]
     },
     "execution_count": 30,
     "metadata": {},
     "output_type": "execute_result"
    }
   ],
   "source": [
    "# np.isnan returns a boolean value: True or False\n",
    "np.isnan(42), np.isnan(gr_all[0])"
   ]
  },
  {
   "cell_type": "markdown",
   "id": "526f898c",
   "metadata": {},
   "source": [
    "## `if` statements\n",
    "\n",
    "One of the most common places to see booleans is in `if` statements. These allow for different blocks of code to be run depending on the result of a check.\n",
    "\n",
    "* Basic pattern\n",
    "* `if` ... `else`\n",
    "* `if` ... `elif` ... `else` - mutually exclusive options\n",
    "* Combined with `for` ... `in` ... `:` to control iterations\n",
    "    - `break`, `continue`\n",
    "\n",
    "Let's look at an example with our `gr_all` data:"
   ]
  },
  {
   "cell_type": "code",
   "execution_count": null,
   "id": "34f68367",
   "metadata": {},
   "outputs": [],
   "source": []
  },
  {
   "cell_type": "code",
   "execution_count": null,
   "id": "8d295afc",
   "metadata": {},
   "outputs": [],
   "source": []
  },
  {
   "cell_type": "code",
   "execution_count": 31,
   "id": "5ae67467",
   "metadata": {
    "tags": [
     "hide"
    ]
   },
   "outputs": [
    {
     "name": "stdout",
     "output_type": "stream",
     "text": [
      "Len of all data: 9680\n",
      "Skipping value: nan\n",
      "Skipping value: nan\n",
      "Skipping value: nan\n",
      "Skipping value: nan\n",
      "Skipping value: nan\n",
      "Skipping value: nan\n",
      "Skipping value: nan\n",
      "Skipping value: nan\n",
      "Skipping value: nan\n",
      "Skipping value: nan\n",
      "Skipping value: nan\n",
      "Skipping value: nan\n",
      "Skipping value: nan\n",
      "Skipping value: nan\n",
      "Len of cleaned data: 9666\n"
     ]
    }
   ],
   "source": [
    "# build this up\n",
    "print(f'Len of all data: {len(gr_all)}')\n",
    "\n",
    "gr_all_clean = []\n",
    "for gr in gr_all:\n",
    "    if np.isnan(gr):\n",
    "        print(f'Skipping value: {gr}')\n",
    "        continue\n",
    "    else:\n",
    "        gr_all_clean.append(gr)\n",
    "        \n",
    "print(f'Len of cleaned data: {len(gr_all_clean)}')"
   ]
  },
  {
   "cell_type": "code",
   "execution_count": 32,
   "id": "2c38c1f4",
   "metadata": {
    "tags": [
     "hide"
    ]
   },
   "outputs": [
    {
     "name": "stdout",
     "output_type": "stream",
     "text": [
      "Len of all data: 9680\n",
      "Bad value `nan` at idx `0`, interrupting.\n"
     ]
    }
   ],
   "source": [
    "print(f'Len of all data: {len(gr_all)}')\n",
    "\n",
    "for idx, gr in enumerate(gr_all):\n",
    "    if np.isnan(gr):\n",
    "        print(f'Bad value `{gr}` at idx `{idx}`, interrupting.')\n",
    "        break"
   ]
  },
  {
   "cell_type": "markdown",
   "id": "f10f6f68",
   "metadata": {
    "tags": [
     "info"
    ]
   },
   "source": [
    "### Booleans\n",
    "\n",
    "`bool`s are either `True` or `False`. These can be very useful, most obviously for selectively running particular blocks of code.\n",
    "\n",
    "Boolean values can be obtained in a number of ways. Many functions or methods will return either `True` or `False`. Comparisons also return a `bool`:\n",
    "\n",
    "| Equal to | Not equal to | Less than | Greater than | Less than or equal | Greater than or equal |\n",
    "|----------|--------------|-----------|--------------|--------------------|-----------------------|\n",
    "|   `==`   |     `!=`     |    `<`    |      `>`     |        `<=`        |          `>=`         |\n",
    "\n",
    "Different types will never be equal (that is, something like `1 == '1'` is `False`). If you want to know if something is the same object as another, then you should use `is` and `is not`.\n",
    "\n",
    "Some objects contain others (for example lists), and membership within a collection can be tested with `in`, which gives a `True` or `False`.\n",
    "\n",
    "We can also link expressions that are True or False together in a few ways:\n",
    "\n",
    "| Operation \t| Result                                                           \t|\n",
    "|-----------\t|------------------------------------------------------------------\t|\n",
    "| a **or** b    \t| True if either a or b is true                                    \t|\n",
    "| a **and** b   \t| False if either a or b is false,<br>True if both a and b are true |\n",
    "| **not** a     \t| True if a is true, else False                                    \t|\n",
    "\n",
    "In some cases (notably with numpy arrays) `&` and `|` are used instead of `and` and `or`. `&` and `|` are bitwise operators: they are only used on numbers, and work at the level of individual 1s and 0s. In most cases you will want `and` and `or` instead.\n",
    "\n",
    "#### Truthiness\n",
    "\n",
    "Some things are considered to be \"truthy\" (and will count as `True`) while others are \"falsey\" (counting as `False`). Examples of things that are falsey are the following:\n",
    "* `0`\n",
    "* `0.0`\n",
    "* empty collections (such as an empty list `[]`, and empty versions of the other datastructures that we will cover in this notebook but have not seen yet),\n",
    "* empty strings (`''` or `\"\"`).\n",
    "\n",
    "Most other things will be truthy.\n",
    "\n",
    "Here is a simple example, but play around with more:\n",
    "\n",
    "```python\n",
    "e_list = []\n",
    "\n",
    "if e_list:\n",
    "    print('True!')\n",
    "else:\n",
    "    print('False!')\n",
    "    \n",
    "f_list = [0]\n",
    "\n",
    "if f_list:\n",
    "    print('True!')\n",
    "else:\n",
    "    print('False!')\n",
    "```"
   ]
  },
  {
   "cell_type": "markdown",
   "id": "8210f6d1",
   "metadata": {},
   "source": [
    "## Comprehensions\n",
    "\n",
    "There's an optional extra bit of Python syntax that can sometimes help write more readable code. Any time you're doing some transformation on a collection like this, you can write it as a 'comprehension'. "
   ]
  },
  {
   "cell_type": "code",
   "execution_count": null,
   "id": "fdc5012b",
   "metadata": {},
   "outputs": [],
   "source": []
  },
  {
   "cell_type": "code",
   "execution_count": 33,
   "id": "22e78616",
   "metadata": {},
   "outputs": [
    {
     "data": {
      "text/plain": [
       "[110,\n",
       " 12.7441,\n",
       " 12.6564,\n",
       " 12.6521,\n",
       " 12.032,\n",
       " 11.7953,\n",
       " 11.4786,\n",
       " 11.3392,\n",
       " 11.3392,\n",
       " 11.7285,\n",
       " 60]"
      ]
     },
     "execution_count": 33,
     "metadata": {},
     "output_type": "execute_result"
    }
   ],
   "source": [
    "gr_out = [n + 10 for n in gr_ten]\n",
    "gr_out"
   ]
  },
  {
   "cell_type": "markdown",
   "id": "92db8a5b",
   "metadata": {},
   "source": [
    "If you find that harder to read than the `for` loop, just ignore it. You'll love it one day, but it can wait!"
   ]
  },
  {
   "cell_type": "markdown",
   "id": "8beffb64",
   "metadata": {
    "tags": [
     "exercise"
    ]
   },
   "source": [
    "## Exercise\n",
    "\n",
    " - Create a list of numbers.\n",
    " - Make a new list that contains only the second half of your list.\n",
    " - Can you sort your list from largest to smallest?\n",
    " - Find the sum of the squares of the numbers in your list.\n",
    " - Append three new numbers to your list. Can you do it in one step? <a title=\"You might need to Google how to concatenate lists in Python.\">HINT</a>"
   ]
  },
  {
   "cell_type": "code",
   "execution_count": 34,
   "id": "86b87913",
   "metadata": {},
   "outputs": [],
   "source": [
    "# YOUR CODE HERE\n",
    "\n"
   ]
  },
  {
   "cell_type": "code",
   "execution_count": 35,
   "id": "25ff5684",
   "metadata": {
    "tags": [
     "hide"
    ]
   },
   "outputs": [
    {
     "name": "stdout",
     "output_type": "stream",
     "text": [
      "my_list: [1, 4, 5, 7, 3, 47, 65, 51, 11, 52]\n",
      "my_range: [94 90 70 12 95 28 21 72 86 42]\n",
      "2nd half of list: [47, 65, 51, 11, 52]\n",
      "reverse sorted list: [65, 52, 51, 47, 11, 7, 5, 4, 3, 1]\n",
      "Sum of squares: 11960\n",
      "extended list: [1, 4, 5, 7, 3, 47, 65, 51, 11, 52, 345, 987, -999]\n"
     ]
    }
   ],
   "source": [
    "# Possible solutions here.\n",
    "my_list = [1, 4, 5, 7, 3, 47, 65, 51, 11, 52]\n",
    "print(f'my_list: {my_list}')\n",
    "my_range = np.random.randint(low=10, high=100, size=10)\n",
    "print(f'my_range: {my_range}')\n",
    "print(f'2nd half of list: {my_list[len(my_list)//2:]}')\n",
    "print(f'reverse sorted list: {sorted(my_list, reverse=True)}')\n",
    "sum_squares = sum([n**2 for n in my_list])\n",
    "print(f'Sum of squares: {sum_squares}')\n",
    "my_list.extend([345, 987, -999])\n",
    "print(f'extended list: {my_list}')"
   ]
  },
  {
   "cell_type": "markdown",
   "id": "5d3dd05c",
   "metadata": {},
   "source": [
    "## Math on a `list` vs `np.ndarray`:\n",
    "\n",
    "Remember that we could not do this:"
   ]
  },
  {
   "cell_type": "code",
   "execution_count": 36,
   "id": "a8af721a",
   "metadata": {},
   "outputs": [
    {
     "ename": "TypeError",
     "evalue": "can only concatenate list (not \"int\") to list",
     "output_type": "error",
     "traceback": [
      "\u001b[0;31m---------------------------------------------------------------------------\u001b[0m",
      "\u001b[0;31mTypeError\u001b[0m                                 Traceback (most recent call last)",
      "\u001b[0;32m/tmp/ipykernel_20483/694553349.py\u001b[0m in \u001b[0;36m<module>\u001b[0;34m\u001b[0m\n\u001b[0;32m----> 1\u001b[0;31m \u001b[0mmy_list\u001b[0m \u001b[0;34m+\u001b[0m \u001b[0;36m10\u001b[0m\u001b[0;34m\u001b[0m\u001b[0;34m\u001b[0m\u001b[0m\n\u001b[0m",
      "\u001b[0;31mTypeError\u001b[0m: can only concatenate list (not \"int\") to list"
     ]
    }
   ],
   "source": [
    "my_list + 10"
   ]
  },
  {
   "cell_type": "code",
   "execution_count": null,
   "id": "5be03fba",
   "metadata": {},
   "outputs": [],
   "source": []
  },
  {
   "cell_type": "code",
   "execution_count": 37,
   "id": "2cee3bb5",
   "metadata": {},
   "outputs": [],
   "source": [
    "#np.array(my_list) + 10"
   ]
  },
  {
   "cell_type": "code",
   "execution_count": 38,
   "id": "c0cf2773",
   "metadata": {},
   "outputs": [],
   "source": [
    "#my_list * 2"
   ]
  },
  {
   "cell_type": "code",
   "execution_count": 39,
   "id": "272b8a5d",
   "metadata": {},
   "outputs": [],
   "source": [
    "#np.array(my_list) * 2"
   ]
  },
  {
   "cell_type": "markdown",
   "id": "be837bc7",
   "metadata": {},
   "source": [
    "## Let's look into the function we used"
   ]
  },
  {
   "cell_type": "code",
   "execution_count": 40,
   "id": "170c1c96",
   "metadata": {},
   "outputs": [],
   "source": [
    "get_GR??"
   ]
  },
  {
   "cell_type": "code",
   "execution_count": 41,
   "id": "d2ce6242",
   "metadata": {},
   "outputs": [],
   "source": [
    "get_GR_np??"
   ]
  },
  {
   "cell_type": "markdown",
   "id": "f30d74d6",
   "metadata": {},
   "source": [
    "## Boolean array\n",
    "\n",
    "What is going on inside `get_GR_np`!?\n",
    "You may be wondering what this line of code: `gr = gr[~np.isnan(gr)]` is actually doing, let's break it down to understand it:"
   ]
  },
  {
   "cell_type": "code",
   "execution_count": 42,
   "id": "317a8450",
   "metadata": {},
   "outputs": [
    {
     "data": {
      "text/plain": [
       "array([], dtype=float64)"
      ]
     },
     "execution_count": 42,
     "metadata": {},
     "output_type": "execute_result"
    }
   ],
   "source": [
    "empty_arr = np.array([])\n",
    "empty_arr"
   ]
  },
  {
   "cell_type": "code",
   "execution_count": 43,
   "id": "053f4c3f",
   "metadata": {},
   "outputs": [
    {
     "data": {
      "text/plain": [
       "(array([1, 2, 3, 4, 5]), array([ True,  True, False,  True, False]))"
      ]
     },
     "execution_count": 43,
     "metadata": {},
     "output_type": "execute_result"
    }
   ],
   "source": [
    "test_arr   = np.array([1, 2, 3, 4, 5])\n",
    "test_bools = np.array([True, True, False, True, False])\n",
    "test_arr, test_bools"
   ]
  },
  {
   "cell_type": "code",
   "execution_count": null,
   "id": "5f384572",
   "metadata": {},
   "outputs": [],
   "source": []
  },
  {
   "cell_type": "code",
   "execution_count": 44,
   "id": "35ddeff9",
   "metadata": {
    "tags": [
     "hide"
    ]
   },
   "outputs": [
    {
     "data": {
      "text/plain": [
       "array([1, 2, 3])"
      ]
     },
     "execution_count": 44,
     "metadata": {},
     "output_type": "execute_result"
    }
   ],
   "source": [
    "# contiguous slicing\n",
    "test_arr[0:3]"
   ]
  },
  {
   "cell_type": "code",
   "execution_count": 45,
   "id": "81162f16",
   "metadata": {
    "tags": [
     "hide"
    ]
   },
   "outputs": [
    {
     "data": {
      "text/plain": [
       "array([1, 2, 4])"
      ]
     },
     "execution_count": 45,
     "metadata": {},
     "output_type": "execute_result"
    }
   ],
   "source": [
    "# discontiguous slicing based on boolean array\n",
    "test_arr[test_bools]"
   ]
  },
  {
   "cell_type": "code",
   "execution_count": 46,
   "id": "2b0ba4f6",
   "metadata": {},
   "outputs": [
    {
     "data": {
      "text/plain": [
       "array([ nan, 120.,  80.,  90.,  nan, 115.,  90.])"
      ]
     },
     "execution_count": 46,
     "metadata": {},
     "output_type": "execute_result"
    }
   ],
   "source": [
    "# adding nan values\n",
    "test_gr = np.array([np.nan, 120, 80, 90, np.nan, 115, 90])\n",
    "test_gr"
   ]
  },
  {
   "cell_type": "code",
   "execution_count": 47,
   "id": "39d4640e",
   "metadata": {
    "tags": [
     "hide"
    ]
   },
   "outputs": [
    {
     "data": {
      "text/plain": [
       "True"
      ]
     },
     "execution_count": 47,
     "metadata": {},
     "output_type": "execute_result"
    }
   ],
   "source": [
    "np.isnan(test_gr[0])"
   ]
  },
  {
   "cell_type": "code",
   "execution_count": 48,
   "id": "1b9a046b",
   "metadata": {
    "tags": [
     "hide"
    ]
   },
   "outputs": [
    {
     "data": {
      "text/plain": [
       "array([ True, False, False, False,  True, False, False])"
      ]
     },
     "execution_count": 48,
     "metadata": {},
     "output_type": "execute_result"
    }
   ],
   "source": [
    "np.isnan(test_gr)"
   ]
  },
  {
   "cell_type": "code",
   "execution_count": 49,
   "id": "8bed18c5",
   "metadata": {
    "tags": [
     "hide"
    ]
   },
   "outputs": [
    {
     "data": {
      "text/plain": [
       "array([nan, nan])"
      ]
     },
     "execution_count": 49,
     "metadata": {},
     "output_type": "execute_result"
    }
   ],
   "source": [
    "test_gr[np.isnan(test_gr)]"
   ]
  },
  {
   "cell_type": "code",
   "execution_count": 50,
   "id": "a9a45f30",
   "metadata": {
    "tags": [
     "hide"
    ]
   },
   "outputs": [
    {
     "data": {
      "text/plain": [
       "array([False,  True,  True,  True, False,  True,  True])"
      ]
     },
     "execution_count": 50,
     "metadata": {},
     "output_type": "execute_result"
    }
   ],
   "source": [
    "~np.isnan(test_gr)"
   ]
  },
  {
   "cell_type": "code",
   "execution_count": 51,
   "id": "c4ca42ec",
   "metadata": {
    "tags": [
     "hide"
    ]
   },
   "outputs": [
    {
     "data": {
      "text/plain": [
       "array([120.,  80.,  90., 115.,  90.])"
      ]
     },
     "execution_count": 51,
     "metadata": {},
     "output_type": "execute_result"
    }
   ],
   "source": [
    "test_gr[~np.isnan(test_gr)]"
   ]
  },
  {
   "cell_type": "markdown",
   "id": "70979dec",
   "metadata": {},
   "source": [
    "## NEXT\n",
    "\n",
    "To do any meaningful processing on data like this...\n",
    "\n",
    "- We're going to need to meet strings.\n",
    "- We're going to need booleans\n",
    "- We're going to need if/else.\n",
    "\n",
    "Let's come back to it."
   ]
  },
  {
   "cell_type": "code",
   "execution_count": null,
   "id": "a02b34a9",
   "metadata": {},
   "outputs": [],
   "source": []
  }
 ],
 "metadata": {
  "celltoolbar": "Tags",
  "kernelspec": {
   "display_name": "geocomp",
   "language": "python",
   "name": "geocomp"
  },
  "language_info": {
   "codemirror_mode": {
    "name": "ipython",
    "version": 3
   },
   "file_extension": ".py",
   "mimetype": "text/x-python",
   "name": "python",
   "nbconvert_exporter": "python",
   "pygments_lexer": "ipython3",
   "version": "3.9.7"
  }
 },
 "nbformat": 4,
 "nbformat_minor": 5
}
