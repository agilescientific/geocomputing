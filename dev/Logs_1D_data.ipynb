{
 "cells": [
  {
   "cell_type": "markdown",
   "id": "d9edd4e7",
   "metadata": {},
   "source": [
    "# Logs\n",
    "\n",
    "Wireline logs, and 1D data in general, are a fundamental data type for subsurface scientists and engineers.\n",
    "\n",
    "The data themselves are usually some physical measurement: conductivity of rock, speed of sound, natural radiation counts, volume of fluid, and so on.\n",
    "\n",
    "The data points also have a set of 'coordinates' in time or space. For a wireline log, the coordinates are depths; for production data, they are timestamps. Often, there are multiple sets of coordinates to worry about, such as MD, TVDSS, and TWT for wireline logs.\n",
    "\n",
    "A lot of our work as scientists and engineers comes down to wrangling data like this. Let's look at some."
   ]
  },
  {
   "cell_type": "markdown",
   "id": "25959c2a",
   "metadata": {},
   "source": [
    "## Data from the F3 dataset\n",
    "\n",
    "Let's start off by loading some well data, to do this, we'll use a `function` from [welly](https://code.agilescientific.com/welly/):"
   ]
  },
  {
   "cell_type": "code",
   "execution_count": 1,
   "id": "065cf641",
   "metadata": {},
   "outputs": [
    {
     "data": {
      "text/plain": [
       "[524.0485, 524.041, 524.0336, 524.0262, 524.019]"
      ]
     },
     "execution_count": 1,
     "metadata": {},
     "output_type": "execute_result"
    }
   ],
   "source": [
    "import pooch\n",
    "from welly import Well\n",
    "\n",
    "spot = pooch.create(path='./data_for_fcts', base_url=\"https://geocomp.s3.amazonaws.com/data/\",\n",
    "                    registry={\"F02-1_logs.las\": \"md5:187cd72ca572f07f50af00c6090e9c40\",\n",
    "                             })\n",
    "\n",
    "fname = spot.fetch('F02-1_logs.las')\n",
    "w = Well.from_las(fname)\n",
    "dt = list(w.data['DT'].values)\n",
    "dt[:5]"
   ]
  },
  {
   "cell_type": "markdown",
   "id": "c338fd99",
   "metadata": {},
   "source": [
    "We have now loaded some data. We made an **assignment**, which means giving a name (`dt`) to a data structure (a `list` full of numbers in this case), so we can now inspect `dt`:"
   ]
  },
  {
   "cell_type": "code",
   "execution_count": 2,
   "id": "5b18d357",
   "metadata": {},
   "outputs": [
    {
     "data": {
      "text/plain": [
       "[524.0485,\n",
       " 524.041,\n",
       " 524.0336,\n",
       " 524.0262,\n",
       " 524.019,\n",
       " 524.0117,\n",
       " 524.0042,\n",
       " 523.9968,\n",
       " 523.9893,\n",
       " 523.9819,\n",
       " 523.9745,\n",
       " 523.9673,\n",
       " 523.96,\n",
       " 523.9526,\n",
       " 523.9451,\n",
       " 523.9377,\n",
       " 523.9304,\n",
       " 523.9229,\n",
       " 523.9157,\n",
       " 523.9084,\n",
       " 523.9009,\n",
       " 523.8935,\n",
       " 523.886,\n",
       " 523.8787,\n",
       " 523.8712,\n",
       " 523.864,\n",
       " 523.8567,\n",
       " 523.8492,\n",
       " 523.8419,\n",
       " 523.8344,\n",
       " 523.827,\n",
       " 523.8196,\n",
       " 523.8121,\n",
       " 523.8049,\n",
       " 523.7976,\n",
       " 523.7902,\n",
       " 523.7828,\n",
       " 523.7753,\n",
       " 523.7679,\n",
       " 523.7604,\n",
       " 523.7532,\n",
       " 523.746,\n",
       " 523.7385,\n",
       " 523.7311,\n",
       " 523.7236,\n",
       " 523.7162,\n",
       " 523.7089,\n",
       " 523.7015,\n",
       " 523.6943,\n",
       " 523.6869,\n",
       " 523.6795,\n",
       " 523.6721,\n",
       " 523.6646,\n",
       " 523.6572,\n",
       " 523.6498,\n",
       " 523.6427,\n",
       " 523.6353,\n",
       " 523.6279,\n",
       " 523.6204,\n",
       " 523.6129,\n",
       " 523.6055,\n",
       " 523.5981,\n",
       " 523.5911,\n",
       " 523.5836,\n",
       " 523.5761,\n",
       " 523.5686,\n",
       " 523.5612,\n",
       " 523.5538,\n",
       " 523.5463,\n",
       " 523.5392,\n",
       " 523.5319,\n",
       " 523.5244,\n",
       " 523.517,\n",
       " 523.5095,\n",
       " 523.5021,\n",
       " 523.4947,\n",
       " 523.4873,\n",
       " 523.4802,\n",
       " 523.4727,\n",
       " 523.4653,\n",
       " 523.4579,\n",
       " 523.4505,\n",
       " 523.4431,\n",
       " 523.4356,\n",
       " 523.4285,\n",
       " 523.4211,\n",
       " 523.4137,\n",
       " 523.4062,\n",
       " 523.3988,\n",
       " 523.3914,\n",
       " 523.384,\n",
       " 523.3768,\n",
       " 523.3695,\n",
       " 523.362,\n",
       " 523.3546,\n",
       " 523.3472,\n",
       " 523.3398,\n",
       " 523.3323,\n",
       " 523.325,\n",
       " 523.3178,\n",
       " 523.3104,\n",
       " 523.303,\n",
       " 523.2955,\n",
       " 523.2881,\n",
       " 523.2808,\n",
       " 523.2734,\n",
       " 523.266,\n",
       " 523.2587,\n",
       " 523.2513,\n",
       " 523.2438,\n",
       " 523.2364,\n",
       " 523.2291,\n",
       " 523.2217,\n",
       " 523.2145,\n",
       " 523.2071,\n",
       " 523.1996,\n",
       " 523.1923,\n",
       " 523.1848,\n",
       " 523.1774,\n",
       " 523.17,\n",
       " 523.1628,\n",
       " 523.1555,\n",
       " 523.148,\n",
       " 523.1406,\n",
       " 523.1331,\n",
       " 523.1257,\n",
       " 523.1183,\n",
       " 523.1109,\n",
       " 523.1037,\n",
       " 523.0962,\n",
       " 523.0888,\n",
       " 523.0814,\n",
       " 523.074,\n",
       " 523.0665,\n",
       " 523.0591,\n",
       " 523.052,\n",
       " 523.0446,\n",
       " 523.0372,\n",
       " 523.0298,\n",
       " 523.0223,\n",
       " 523.015,\n",
       " 523.0075,\n",
       " 523.0004,\n",
       " 522.993,\n",
       " 522.9855,\n",
       " 522.9781,\n",
       " 522.9707,\n",
       " 522.9633,\n",
       " 522.9561,\n",
       " 522.9487,\n",
       " 522.9413,\n",
       " 522.9339,\n",
       " 522.9265,\n",
       " 522.919,\n",
       " 522.9116,\n",
       " 522.9042,\n",
       " 522.8967,\n",
       " 522.8895,\n",
       " 522.8823,\n",
       " 522.8748,\n",
       " 522.8674,\n",
       " 522.8599,\n",
       " 522.8525,\n",
       " 522.8453,\n",
       " 522.838,\n",
       " 522.8306,\n",
       " 522.8231,\n",
       " 522.8157,\n",
       " 522.8083,\n",
       " 522.8008,\n",
       " 522.7936,\n",
       " 522.7863,\n",
       " 522.779,\n",
       " 522.7715,\n",
       " 522.764,\n",
       " 522.7567,\n",
       " 522.7492,\n",
       " 522.7419,\n",
       " 522.7347,\n",
       " 522.7272,\n",
       " 522.7198,\n",
       " 522.7125,\n",
       " 522.705,\n",
       " 522.6976,\n",
       " 522.6901,\n",
       " 522.6828,\n",
       " 522.6757,\n",
       " 522.6682,\n",
       " 522.6608,\n",
       " 522.6533,\n",
       " 522.6459,\n",
       " 522.6384,\n",
       " 522.6309,\n",
       " 522.6238,\n",
       " 522.6165,\n",
       " 522.609,\n",
       " 522.6016,\n",
       " 522.5942,\n",
       " 522.5867,\n",
       " 522.5796,\n",
       " 522.5719,\n",
       " 522.5648,\n",
       " 522.5574,\n",
       " 522.5499,\n",
       " 522.5425,\n",
       " 522.535,\n",
       " 522.5277,\n",
       " 522.5205,\n",
       " 522.5131,\n",
       " 522.5057,\n",
       " 522.4983,\n",
       " 522.4909,\n",
       " 522.4835,\n",
       " 522.476,\n",
       " 522.4688,\n",
       " 522.4615,\n",
       " 522.4541,\n",
       " 522.4466,\n",
       " 522.4392,\n",
       " 522.4318,\n",
       " 522.4244,\n",
       " 522.4172,\n",
       " 522.4099,\n",
       " 522.4025,\n",
       " 522.395,\n",
       " 522.3875,\n",
       " 522.3802,\n",
       " 522.3727,\n",
       " 522.3654,\n",
       " 522.3582,\n",
       " 522.3507,\n",
       " 522.3434,\n",
       " 522.3359,\n",
       " 522.3285,\n",
       " 522.321,\n",
       " 522.3136,\n",
       " 522.3063,\n",
       " 522.2991,\n",
       " 522.2917,\n",
       " 522.2842,\n",
       " 522.2769,\n",
       " 522.2694,\n",
       " 522.262,\n",
       " 522.2546,\n",
       " 522.2475,\n",
       " 522.24,\n",
       " 522.2326,\n",
       " 522.2252,\n",
       " 522.2178,\n",
       " 522.2104,\n",
       " 522.2029,\n",
       " 522.1958,\n",
       " 522.1884,\n",
       " 522.181,\n",
       " 522.1735,\n",
       " 522.166,\n",
       " 522.1586,\n",
       " 522.1512,\n",
       " 522.144,\n",
       " 522.1366,\n",
       " 522.1293,\n",
       " 522.1218,\n",
       " 522.1144,\n",
       " 522.1069,\n",
       " 522.0995,\n",
       " 522.0924,\n",
       " 522.085,\n",
       " 522.0776,\n",
       " 522.0701,\n",
       " 522.0627,\n",
       " 522.0554,\n",
       " 522.0479,\n",
       " 522.0406,\n",
       " 522.0333,\n",
       " 522.0259,\n",
       " 522.0185,\n",
       " 522.011,\n",
       " 522.0036,\n",
       " 521.9962,\n",
       " 521.9888,\n",
       " 521.9816,\n",
       " 521.9742,\n",
       " 521.9669,\n",
       " 521.9594,\n",
       " 521.952,\n",
       " 521.9446,\n",
       " 521.9371,\n",
       " 521.9299,\n",
       " 521.9225,\n",
       " 521.9152,\n",
       " 521.9078,\n",
       " 521.9003,\n",
       " 521.8929,\n",
       " 521.8855,\n",
       " 521.8782,\n",
       " 521.871,\n",
       " 521.8635,\n",
       " 521.8561,\n",
       " 521.8487,\n",
       " 521.8414,\n",
       " 521.8339,\n",
       " 521.8265,\n",
       " 521.8193,\n",
       " 521.8118,\n",
       " 521.8045,\n",
       " 521.797,\n",
       " 521.7896,\n",
       " 521.7822,\n",
       " 521.7747,\n",
       " 521.7674,\n",
       " 521.7603,\n",
       " 521.7528,\n",
       " 521.7454,\n",
       " 521.738,\n",
       " 521.7305,\n",
       " 521.7231,\n",
       " 521.716,\n",
       " 521.7086,\n",
       " 521.7011,\n",
       " 521.6937,\n",
       " 521.6862,\n",
       " 521.6788,\n",
       " 521.6713,\n",
       " 521.6642,\n",
       " 521.6568,\n",
       " 521.6494,\n",
       " 521.642,\n",
       " 521.6345,\n",
       " 521.6271,\n",
       " 521.6197,\n",
       " 521.6123,\n",
       " 521.6052,\n",
       " 521.5977,\n",
       " 521.5903,\n",
       " 521.5829,\n",
       " 521.5755,\n",
       " 521.5681,\n",
       " 521.5605,\n",
       " 521.5534,\n",
       " 521.5461,\n",
       " 521.5387,\n",
       " 521.5312,\n",
       " 521.5237,\n",
       " 521.5164,\n",
       " 521.509,\n",
       " 521.5018,\n",
       " 521.4945,\n",
       " 521.487,\n",
       " 521.4796,\n",
       " 521.4722,\n",
       " 521.4648,\n",
       " 521.4575,\n",
       " 521.4503,\n",
       " 521.4429,\n",
       " 521.4354,\n",
       " 521.428,\n",
       " 521.4205,\n",
       " 521.413,\n",
       " 521.4057,\n",
       " 521.3983,\n",
       " 521.3909,\n",
       " 521.3837,\n",
       " 521.3763,\n",
       " 521.3689,\n",
       " 521.3615,\n",
       " 521.3541,\n",
       " 521.3467,\n",
       " 521.3395,\n",
       " 521.3321,\n",
       " 521.3246,\n",
       " 521.3173,\n",
       " 521.3098,\n",
       " 521.3023,\n",
       " 521.295,\n",
       " 521.2876,\n",
       " 521.2805,\n",
       " 521.273,\n",
       " 521.2656,\n",
       " 521.2581,\n",
       " 521.2507,\n",
       " 521.2433,\n",
       " 521.2362,\n",
       " 521.2286,\n",
       " 521.2212,\n",
       " 521.2138,\n",
       " 521.2064,\n",
       " 521.199,\n",
       " 521.1915,\n",
       " 521.1844,\n",
       " 521.1771,\n",
       " 521.1696,\n",
       " 521.1622,\n",
       " 521.1547,\n",
       " 521.1473,\n",
       " 521.14,\n",
       " 521.1325,\n",
       " 521.1254,\n",
       " 521.118,\n",
       " 521.1105,\n",
       " 521.1031,\n",
       " 521.0957,\n",
       " 521.0883,\n",
       " 521.0811,\n",
       " 521.0735,\n",
       " 521.0662,\n",
       " 521.0588,\n",
       " 521.0515,\n",
       " 521.044,\n",
       " 521.0366,\n",
       " 521.0292,\n",
       " 521.0219,\n",
       " 521.0146,\n",
       " 521.0072,\n",
       " 520.9998,\n",
       " 520.9924,\n",
       " 520.9849,\n",
       " 520.9775,\n",
       " 520.9702,\n",
       " 520.963,\n",
       " 520.9556,\n",
       " 520.9481,\n",
       " 520.9407,\n",
       " 520.9333,\n",
       " 520.9258,\n",
       " 520.9186,\n",
       " 520.9114,\n",
       " 520.904,\n",
       " 520.8965,\n",
       " 520.889,\n",
       " 520.8817,\n",
       " 520.8742,\n",
       " 520.8669,\n",
       " 520.8597,\n",
       " 520.8522,\n",
       " 520.8448,\n",
       " 520.8374,\n",
       " 520.83,\n",
       " 520.8226,\n",
       " 520.8152,\n",
       " 520.8077,\n",
       " 520.8006,\n",
       " 520.7932,\n",
       " 520.7858,\n",
       " 520.7784,\n",
       " 520.7709,\n",
       " 520.7635,\n",
       " 520.7559,\n",
       " 520.7488,\n",
       " 520.7414,\n",
       " 520.734,\n",
       " 520.7266,\n",
       " 520.7192,\n",
       " 520.7118,\n",
       " 520.7043,\n",
       " 520.6972,\n",
       " 520.6898,\n",
       " 520.6824,\n",
       " 520.6749,\n",
       " 520.6675,\n",
       " 520.6601,\n",
       " 520.6526,\n",
       " 520.6454,\n",
       " 520.6381,\n",
       " 520.6307,\n",
       " 520.6233,\n",
       " 520.6158,\n",
       " 520.6084,\n",
       " 520.601,\n",
       " 520.5938,\n",
       " 520.5865,\n",
       " 520.5791,\n",
       " 520.5716,\n",
       " 520.5642,\n",
       " 520.5568,\n",
       " 520.5493,\n",
       " 520.5421,\n",
       " 520.5348,\n",
       " 520.5274,\n",
       " 520.52,\n",
       " 520.5126,\n",
       " 520.5052,\n",
       " 520.4977,\n",
       " 520.4903,\n",
       " 520.483,\n",
       " 520.4758,\n",
       " 520.4684,\n",
       " 520.4609,\n",
       " 520.4535,\n",
       " 520.4461,\n",
       " 520.4387,\n",
       " 520.4313,\n",
       " 520.4241,\n",
       " 520.4167,\n",
       " 520.4093,\n",
       " 520.4019,\n",
       " 520.3944,\n",
       " 520.387,\n",
       " 520.3796,\n",
       " 520.3724,\n",
       " 520.3651,\n",
       " 520.3576,\n",
       " 520.3502,\n",
       " 520.3428,\n",
       " 520.3354,\n",
       " 520.3279,\n",
       " 520.3208,\n",
       " 520.3134,\n",
       " 520.306,\n",
       " 520.2986,\n",
       " 520.291,\n",
       " 520.2836,\n",
       " 520.2761,\n",
       " 520.269,\n",
       " 520.2617,\n",
       " 520.2542,\n",
       " 520.2468,\n",
       " 520.2394,\n",
       " 520.2319,\n",
       " 520.2245,\n",
       " 520.2174,\n",
       " 520.21,\n",
       " 520.2026,\n",
       " 520.1951,\n",
       " 520.1877,\n",
       " 520.1803,\n",
       " 520.1728,\n",
       " 520.1656,\n",
       " 520.1583,\n",
       " 520.1509,\n",
       " 520.1435,\n",
       " 520.136,\n",
       " 520.1286,\n",
       " 520.1212,\n",
       " 520.1138,\n",
       " 520.1066,\n",
       " 520.0992,\n",
       " 520.0919,\n",
       " 520.0844,\n",
       " 520.077,\n",
       " 520.0696,\n",
       " 520.0621,\n",
       " 520.0549,\n",
       " 520.0476,\n",
       " 520.0402,\n",
       " 520.0328,\n",
       " 520.0253,\n",
       " 520.0179,\n",
       " 520.0104,\n",
       " 520.0032,\n",
       " 519.996,\n",
       " 519.9885,\n",
       " 519.9811,\n",
       " 519.9737,\n",
       " 519.9663,\n",
       " 519.9589,\n",
       " 519.9517,\n",
       " 519.9443,\n",
       " 519.9368,\n",
       " 519.9295,\n",
       " 519.922,\n",
       " 519.9146,\n",
       " 519.9072,\n",
       " 519.9,\n",
       " 519.8924,\n",
       " 519.8853,\n",
       " 519.8778,\n",
       " 519.8704,\n",
       " 519.863,\n",
       " 519.8556,\n",
       " 519.8481,\n",
       " 519.841,\n",
       " 519.8336,\n",
       " 519.826,\n",
       " 519.8187,\n",
       " 519.8112,\n",
       " 519.8037,\n",
       " 519.7964,\n",
       " 519.789,\n",
       " 519.7818,\n",
       " 519.7744,\n",
       " 519.767,\n",
       " 519.7595,\n",
       " 519.7521,\n",
       " 519.7447,\n",
       " 519.7372,\n",
       " 519.7301,\n",
       " 519.7227,\n",
       " 519.7154,\n",
       " 519.7079,\n",
       " 519.7005,\n",
       " 519.6931,\n",
       " 519.6859,\n",
       " 519.6785,\n",
       " 519.6711,\n",
       " 519.6637,\n",
       " 519.6562,\n",
       " 519.6488,\n",
       " 519.6414,\n",
       " 519.634,\n",
       " 519.6268,\n",
       " 519.6194,\n",
       " 519.612,\n",
       " 519.6046,\n",
       " 519.5972,\n",
       " 519.5898,\n",
       " 519.5825,\n",
       " 519.5751,\n",
       " 519.5676,\n",
       " 519.5604,\n",
       " 519.553,\n",
       " 519.5455,\n",
       " 519.5381,\n",
       " 519.5308,\n",
       " 519.5233,\n",
       " 519.516,\n",
       " 519.5087,\n",
       " 519.5013,\n",
       " 519.4939,\n",
       " 519.4865,\n",
       " 519.4791,\n",
       " 519.4717,\n",
       " 519.4645,\n",
       " 519.4571,\n",
       " 519.4496,\n",
       " 519.4423,\n",
       " 519.4348,\n",
       " 519.4274,\n",
       " 519.42,\n",
       " 519.4128,\n",
       " 519.4055,\n",
       " 519.398,\n",
       " 519.3906,\n",
       " 519.3832,\n",
       " 519.3757,\n",
       " 519.3683,\n",
       " 519.3612,\n",
       " 519.3536,\n",
       " 519.3463,\n",
       " 519.3389,\n",
       " 519.3314,\n",
       " 519.324,\n",
       " 519.3166,\n",
       " 519.3091,\n",
       " 519.302,\n",
       " 519.2946,\n",
       " 519.2872,\n",
       " 519.2797,\n",
       " 519.2723,\n",
       " 519.265,\n",
       " 519.2574,\n",
       " 519.2503,\n",
       " 519.2429,\n",
       " 519.2355,\n",
       " 519.2281,\n",
       " 519.2206,\n",
       " 519.2133,\n",
       " 519.2061,\n",
       " 519.1987,\n",
       " 519.1913,\n",
       " 519.1838,\n",
       " 519.1765,\n",
       " 519.169,\n",
       " 519.1616,\n",
       " 519.1542,\n",
       " 519.1469,\n",
       " 519.1396,\n",
       " 519.1322,\n",
       " 519.1248,\n",
       " 519.1174,\n",
       " 519.1099,\n",
       " 519.1025,\n",
       " 519.0953,\n",
       " 519.088,\n",
       " 519.0806,\n",
       " 519.0731,\n",
       " 519.0657,\n",
       " 519.0583,\n",
       " 519.0508,\n",
       " 519.0435,\n",
       " 519.0363,\n",
       " 519.0289,\n",
       " 519.0215,\n",
       " 519.014,\n",
       " 519.0067,\n",
       " 518.9992,\n",
       " 518.9919,\n",
       " 518.9847,\n",
       " 518.9773,\n",
       " 518.9698,\n",
       " 518.9624,\n",
       " 518.955,\n",
       " 518.9476,\n",
       " 518.9401,\n",
       " 518.9328,\n",
       " 518.9257,\n",
       " 518.9182,\n",
       " 518.9108,\n",
       " 518.9034,\n",
       " 518.8959,\n",
       " 518.8884,\n",
       " 518.881,\n",
       " 518.8738,\n",
       " 518.8665,\n",
       " 518.859,\n",
       " 518.8516,\n",
       " 518.8441,\n",
       " 518.8367,\n",
       " 518.8293,\n",
       " 518.8222,\n",
       " 518.8148,\n",
       " 518.8074,\n",
       " 518.8,\n",
       " 518.7925,\n",
       " 518.785,\n",
       " 518.7777,\n",
       " 518.7704,\n",
       " 518.7631,\n",
       " 518.7557,\n",
       " 518.7483,\n",
       " 518.7409,\n",
       " 518.7335,\n",
       " 518.726,\n",
       " 518.7188,\n",
       " 518.7115,\n",
       " 518.7041,\n",
       " 518.6966,\n",
       " 518.6892,\n",
       " 518.6818,\n",
       " 518.6743,\n",
       " 518.6671,\n",
       " 518.6598,\n",
       " 518.6524,\n",
       " 518.645,\n",
       " 518.6376,\n",
       " 518.6302,\n",
       " 518.6227,\n",
       " 518.6154,\n",
       " 518.608,\n",
       " 518.6008,\n",
       " 518.5934,\n",
       " 518.5859,\n",
       " 518.5786,\n",
       " 518.571,\n",
       " 518.5636,\n",
       " 518.5563,\n",
       " 518.5491,\n",
       " 518.5417,\n",
       " 518.5342,\n",
       " 518.5268,\n",
       " 518.5194,\n",
       " 518.512,\n",
       " 518.5046,\n",
       " 518.4975,\n",
       " 518.4901,\n",
       " 518.4826,\n",
       " 518.4752,\n",
       " 518.4678,\n",
       " 518.4603,\n",
       " 518.4529,\n",
       " 518.4458,\n",
       " 518.4384,\n",
       " 518.431,\n",
       " 518.4236,\n",
       " 518.416,\n",
       " 518.4085,\n",
       " 518.4015,\n",
       " 518.3937,\n",
       " 518.3866,\n",
       " 518.3792,\n",
       " 518.3718,\n",
       " 518.3643,\n",
       " 518.3569,\n",
       " 518.3495,\n",
       " 518.3424,\n",
       " 518.335,\n",
       " 518.3275,\n",
       " 518.3201,\n",
       " 518.3127,\n",
       " 518.3053,\n",
       " 518.2978,\n",
       " 518.2905,\n",
       " 518.2833,\n",
       " 518.2759,\n",
       " 518.2685,\n",
       " 518.261,\n",
       " 518.2537,\n",
       " 518.2462,\n",
       " 518.2388,\n",
       " 518.2316,\n",
       " 518.2242,\n",
       " 518.2169,\n",
       " 518.2094,\n",
       " 518.202,\n",
       " 518.1946,\n",
       " 518.1873,\n",
       " 518.1801,\n",
       " 518.1726,\n",
       " 518.1652,\n",
       " 518.1577,\n",
       " 518.1503,\n",
       " 518.1429,\n",
       " 518.1355,\n",
       " 518.1282,\n",
       " 518.121,\n",
       " 518.1135,\n",
       " 518.1061,\n",
       " 518.0987,\n",
       " 518.0913,\n",
       " 518.0839,\n",
       " 518.0767,\n",
       " 518.0693,\n",
       " 518.0619,\n",
       " 518.0545,\n",
       " 518.0471,\n",
       " 518.0396,\n",
       " 518.0322,\n",
       " 518.0248,\n",
       " 518.0174,\n",
       " 518.0103,\n",
       " 518.0028,\n",
       " 517.9954,\n",
       " 517.988,\n",
       " 517.9805,\n",
       " 517.9731,\n",
       " 517.966,\n",
       " 517.9586,\n",
       " 517.9511,\n",
       " 517.9436,\n",
       " 517.9362,\n",
       " 517.9288,\n",
       " 517.9214,\n",
       " 517.9143,\n",
       " 517.9069,\n",
       " 517.8994,\n",
       " 517.892,\n",
       " 517.8845,\n",
       " 517.8771,\n",
       " 517.8697,\n",
       " 517.8625,\n",
       " 517.8552,\n",
       " 517.8477,\n",
       " 517.8403,\n",
       " 517.8329,\n",
       " 517.8255,\n",
       " 517.8181,\n",
       " 517.8106,\n",
       " 517.8035,\n",
       " 517.7961,\n",
       " 517.7887,\n",
       " 517.7812,\n",
       " 517.7738,\n",
       " 517.7664,\n",
       " 517.7589,\n",
       " 517.7517,\n",
       " 517.7444,\n",
       " 517.737,\n",
       " 517.7296,\n",
       " 517.7222,\n",
       " 517.7147,\n",
       " 517.7075,\n",
       " 517.7002,\n",
       " 517.6928,\n",
       " 517.6854,\n",
       " 517.678,\n",
       " 517.6705,\n",
       " 517.6631,\n",
       " 517.6557,\n",
       " 517.6484,\n",
       " 517.6412,\n",
       " 517.6337,\n",
       " 517.6263,\n",
       " 517.6189,\n",
       " 517.6114,\n",
       " 517.6041,\n",
       " 517.5967,\n",
       " 517.5895,\n",
       " 517.5821,\n",
       " 517.5746,\n",
       " 517.5672,\n",
       " 517.5598,\n",
       " 517.5524,\n",
       " 517.545,\n",
       " 517.5378,\n",
       " 517.5305,\n",
       " 517.523,\n",
       " 517.5156,\n",
       " 517.5082,\n",
       " 517.5007,\n",
       " 517.4933,\n",
       " 517.4862,\n",
       " 517.4786,\n",
       " 517.4713,\n",
       " 517.4638,\n",
       " 517.4564,\n",
       " 517.449,\n",
       " 517.4415,\n",
       " 517.4341,\n",
       " 517.4269,\n",
       " 517.4196,\n",
       " 517.4122,\n",
       " 517.4048,\n",
       " 517.3973,\n",
       " 517.3899,\n",
       " 517.3824,\n",
       " 517.3753,\n",
       " 517.368,\n",
       " 517.3605,\n",
       " 517.3531,\n",
       " 517.3457,\n",
       " 517.3383,\n",
       " 517.3309,\n",
       " 517.3236,\n",
       " 517.3163,\n",
       " 517.3088,\n",
       " 517.3015,\n",
       " 517.2941,\n",
       " 517.2866,\n",
       " 517.2792,\n",
       " 517.2719,\n",
       " 517.2646,\n",
       " 517.2573,\n",
       " 517.2498,\n",
       " 517.2424,\n",
       " 517.2349,\n",
       " 517.2275,\n",
       " 517.2203,\n",
       " 517.213,\n",
       " 517.2056,\n",
       " 517.1981,\n",
       " 517.1907,\n",
       " 517.1833,\n",
       " 517.1759,\n",
       " 517.1686,\n",
       " 517.1613,\n",
       " 517.154,\n",
       " 517.1465,\n",
       " 517.1391,\n",
       " 517.1316,\n",
       " 517.1242,\n",
       " 517.1169,\n",
       " 517.1094,\n",
       " 517.1023,\n",
       " 517.0948,\n",
       " 517.0874,\n",
       " 517.08,\n",
       " 517.0726,\n",
       " 517.0652,\n",
       " 517.0577,\n",
       " 517.0506,\n",
       " 517.0432,\n",
       " 517.0358,\n",
       " 517.0284,\n",
       " 517.0209,\n",
       " 517.0134,\n",
       " 517.006,\n",
       " 516.9989,\n",
       " 516.9914,\n",
       " 516.984,\n",
       " 516.9766,\n",
       " 516.9692,\n",
       " 516.9618,\n",
       " 516.9543,\n",
       " 516.9471,\n",
       " 516.9398,\n",
       " 516.9324,\n",
       " 516.925,\n",
       " 516.9175,\n",
       " 516.91,\n",
       " 516.9027,\n",
       " 516.8953,\n",
       " 516.8881,\n",
       " 516.8807,\n",
       " 516.8732,\n",
       " 516.8659,\n",
       " 516.8584,\n",
       " 516.8511,\n",
       " 516.8438,\n",
       " 516.8365,\n",
       " 516.829,\n",
       " 516.8217,\n",
       " 516.8143,\n",
       " 516.8068,\n",
       " 516.7993,\n",
       " 516.7921,\n",
       " 516.7848,\n",
       " 516.7774,\n",
       " 516.77,\n",
       " 516.7625,\n",
       " 516.7551,\n",
       " 516.7477,\n",
       " 516.7404,\n",
       " 516.733,\n",
       " 516.7257,\n",
       " 516.7184,\n",
       " 516.7109,\n",
       " 516.7035,\n",
       " 516.696,\n",
       " 516.6886,\n",
       " 516.6813,\n",
       " 516.6741,\n",
       " ...]"
      ]
     },
     "execution_count": 2,
     "metadata": {},
     "output_type": "execute_result"
    }
   ],
   "source": [
    "dt"
   ]
  },
  {
   "cell_type": "markdown",
   "id": "9a0d172e",
   "metadata": {},
   "source": [
    "As this is a very long log (how long in fact?), we'll just **slice** into the `list` to grab the first 10 values to learn about this data structure, the `list`:"
   ]
  },
  {
   "cell_type": "code",
   "execution_count": 3,
   "id": "f6561ccd",
   "metadata": {},
   "outputs": [
    {
     "data": {
      "text/plain": [
       "9680"
      ]
     },
     "execution_count": 3,
     "metadata": {},
     "output_type": "execute_result"
    }
   ],
   "source": [
    "len(dt)"
   ]
  },
  {
   "cell_type": "code",
   "execution_count": 4,
   "id": "f3dfd79f",
   "metadata": {},
   "outputs": [
    {
     "data": {
      "text/plain": [
       "[524.0485,\n",
       " 524.041,\n",
       " 524.0336,\n",
       " 524.0262,\n",
       " 524.019,\n",
       " 524.0117,\n",
       " 524.0042,\n",
       " 523.9968,\n",
       " 523.9893,\n",
       " 523.9819]"
      ]
     },
     "execution_count": 4,
     "metadata": {},
     "output_type": "execute_result"
    }
   ],
   "source": [
    "# Slicing\n",
    "dt[0:10]"
   ]
  },
  {
   "cell_type": "code",
   "execution_count": 5,
   "id": "e38318ee",
   "metadata": {},
   "outputs": [
    {
     "data": {
      "text/plain": [
       "[524.0485,\n",
       " 524.041,\n",
       " 524.0336,\n",
       " 524.0262,\n",
       " 524.019,\n",
       " 524.0117,\n",
       " 524.0042,\n",
       " 523.9968,\n",
       " 523.9893,\n",
       " 523.9819]"
      ]
     },
     "execution_count": 5,
     "metadata": {},
     "output_type": "execute_result"
    }
   ],
   "source": [
    "# Saving the slice\n",
    "dt_ten = dt[0:10]\n",
    "dt_ten"
   ]
  },
  {
   "cell_type": "markdown",
   "id": "e816d6e6",
   "metadata": {},
   "source": [
    "Notice that, for now, there are no coordinates, only the data.\n",
    "\n",
    "This thing now exists in memory, with the name `dt_ten` pointing at it. We can ask to see it:"
   ]
  },
  {
   "cell_type": "code",
   "execution_count": 6,
   "id": "bd7d804e",
   "metadata": {},
   "outputs": [
    {
     "data": {
      "text/plain": [
       "[524.0485,\n",
       " 524.041,\n",
       " 524.0336,\n",
       " 524.0262,\n",
       " 524.019,\n",
       " 524.0117,\n",
       " 524.0042,\n",
       " 523.9968,\n",
       " 523.9893,\n",
       " 523.9819]"
      ]
     },
     "execution_count": 6,
     "metadata": {},
     "output_type": "execute_result"
    }
   ],
   "source": [
    "dt_ten"
   ]
  },
  {
   "cell_type": "markdown",
   "id": "11d371af",
   "metadata": {},
   "source": [
    "But we can't do 'mathy' things with it in a particularly easy way:"
   ]
  },
  {
   "cell_type": "code",
   "execution_count": 7,
   "id": "0fa64ad1",
   "metadata": {},
   "outputs": [
    {
     "ename": "TypeError",
     "evalue": "can only concatenate list (not \"int\") to list",
     "output_type": "error",
     "traceback": [
      "\u001b[0;31m---------------------------------------------------------------------------\u001b[0m",
      "\u001b[0;31mTypeError\u001b[0m                                 Traceback (most recent call last)",
      "\u001b[0;32m/tmp/ipykernel_11283/1065476604.py\u001b[0m in \u001b[0;36m<module>\u001b[0;34m\u001b[0m\n\u001b[0;32m----> 1\u001b[0;31m \u001b[0mdt_ten\u001b[0m \u001b[0;34m+\u001b[0m \u001b[0;36m10\u001b[0m\u001b[0;34m\u001b[0m\u001b[0;34m\u001b[0m\u001b[0m\n\u001b[0m\u001b[1;32m      2\u001b[0m \u001b[0;34m\u001b[0m\u001b[0m\n\u001b[1;32m      3\u001b[0m \u001b[0;31m# This results in an error:\u001b[0m\u001b[0;34m\u001b[0m\u001b[0;34m\u001b[0m\u001b[0m\n",
      "\u001b[0;31mTypeError\u001b[0m: can only concatenate list (not \"int\") to list"
     ]
    }
   ],
   "source": [
    "dt_ten + 10 \n",
    "\n",
    "# This results in an error:"
   ]
  },
  {
   "cell_type": "markdown",
   "id": "d490a5b8",
   "metadata": {},
   "source": [
    "Later on we'll meet NumPy and see how its `ndarray` data structure can help us with this.\n",
    "\n",
    "We can plot it though! We need a library for this, plotting is not built into the core of Python. (Most things aren't; the core of Python just contains a few fundamental tools.)"
   ]
  },
  {
   "cell_type": "code",
   "execution_count": 8,
   "id": "8d1469f1",
   "metadata": {},
   "outputs": [
    {
     "data": {
      "text/plain": [
       "[<matplotlib.lines.Line2D at 0x7f84ea9fa310>]"
      ]
     },
     "execution_count": 8,
     "metadata": {},
     "output_type": "execute_result"
    },
    {
     "data": {
      "image/png": "[encoded data removed]",
      "text/plain": [
       "<Figure size 432x288 with 1 Axes>"
      ]
     },
     "metadata": {
      "needs_background": "light"
     },
     "output_type": "display_data"
    }
   ],
   "source": [
    "import matplotlib.pyplot as plt\n",
    "\n",
    "plt.plot(dt_ten, '*-')"
   ]
  },
  {
   "cell_type": "code",
   "execution_count": 9,
   "id": "681da0a7",
   "metadata": {},
   "outputs": [
    {
     "data": {
      "text/plain": [
       "[<matplotlib.lines.Line2D at 0x7f84e28b4790>]"
      ]
     },
     "execution_count": 9,
     "metadata": {},
     "output_type": "execute_result"
    },
    {
     "data": {
      "image/png": "[encoded data removed]",
      "text/plain": [
       "<Figure size 432x288 with 1 Axes>"
      ]
     },
     "metadata": {
      "needs_background": "light"
     },
     "output_type": "display_data"
    }
   ],
   "source": [
    "plt.plot(dt)"
   ]
  },
  {
   "cell_type": "markdown",
   "id": "ee88c076",
   "metadata": {},
   "source": [
    "Another handy plot:"
   ]
  },
  {
   "cell_type": "code",
   "execution_count": 10,
   "id": "0e16030f",
   "metadata": {},
   "outputs": [
    {
     "data": {
      "image/png": "[encoded data removed]",
      "text/plain": [
       "<Figure size 432x288 with 1 Axes>"
      ]
     },
     "metadata": {
      "needs_background": "light"
     },
     "output_type": "display_data"
    }
   ],
   "source": [
    "# And let's look at the whole data set too\n",
    "_ = plt.hist(dt)"
   ]
  },
  {
   "cell_type": "markdown",
   "id": "cd0076e6",
   "metadata": {
    "tags": [
     "exercise"
    ]
   },
   "source": [
    "## Exercise\n",
    "\n",
    "- Make a plot of the `dt` log only from index `4000` up to index `4100`."
   ]
  },
  {
   "cell_type": "code",
   "execution_count": null,
   "id": "fc202cf7",
   "metadata": {},
   "outputs": [],
   "source": []
  },
  {
   "cell_type": "code",
   "execution_count": 11,
   "id": "69a9121c",
   "metadata": {
    "tags": [
     "hide"
    ]
   },
   "outputs": [
    {
     "data": {
      "text/plain": [
       "[<matplotlib.lines.Line2D at 0x7f84e2646190>]"
      ]
     },
     "execution_count": 11,
     "metadata": {},
     "output_type": "execute_result"
    },
    {
     "data": {
      "image/png": "[encoded data removed]",
      "text/plain": [
       "<Figure size 432x288 with 1 Axes>"
      ]
     },
     "metadata": {
      "needs_background": "light"
     },
     "output_type": "display_data"
    }
   ],
   "source": [
    "plt.plot(dt[4000:4100])"
   ]
  },
  {
   "cell_type": "markdown",
   "id": "d18d70ba",
   "metadata": {},
   "source": [
    "## What can `list` do?\n",
    "\n",
    "This data structure has three important features:\n",
    "\n",
    "- Its instances are sequences with concepts like length, membership, and iterability.\n",
    "- Its instances are ordered collections that we can index and slice elements and subsequences from.\n",
    "- Its instances have 'methods' attached to them, which are functions that access their data.\n",
    "\n",
    "Let's explore!"
   ]
  },
  {
   "cell_type": "code",
   "execution_count": 12,
   "id": "79fa011e",
   "metadata": {},
   "outputs": [
    {
     "data": {
      "text/plain": [
       "[524.0485,\n",
       " 524.041,\n",
       " 524.0336,\n",
       " 524.0262,\n",
       " 524.019,\n",
       " 524.0117,\n",
       " 524.0042,\n",
       " 523.9968,\n",
       " 523.9893,\n",
       " 523.9819]"
      ]
     },
     "execution_count": 12,
     "metadata": {},
     "output_type": "execute_result"
    }
   ],
   "source": [
    "dt_ten"
   ]
  },
  {
   "cell_type": "code",
   "execution_count": null,
   "id": "06a7dfe4",
   "metadata": {},
   "outputs": [],
   "source": []
  },
  {
   "cell_type": "code",
   "execution_count": 13,
   "id": "98d09909",
   "metadata": {
    "tags": [
     "hide"
    ]
   },
   "outputs": [
    {
     "data": {
      "text/plain": [
       "10"
      ]
     },
     "execution_count": 13,
     "metadata": {},
     "output_type": "execute_result"
    }
   ],
   "source": [
    "# We'll talk about iterability in a minute.\n",
    "\n",
    "# Length.\n",
    "len(dt_ten)"
   ]
  },
  {
   "cell_type": "code",
   "execution_count": 14,
   "id": "35bcdd57",
   "metadata": {
    "tags": [
     "hide"
    ]
   },
   "outputs": [
    {
     "data": {
      "text/plain": [
       "False"
      ]
     },
     "execution_count": 14,
     "metadata": {},
     "output_type": "execute_result"
    }
   ],
   "source": [
    "# Membership.\n",
    "42 in dt_ten"
   ]
  },
  {
   "cell_type": "code",
   "execution_count": 15,
   "id": "5937f4fe",
   "metadata": {
    "tags": [
     "hide"
    ]
   },
   "outputs": [
    {
     "data": {
      "text/plain": [
       "[523.9819,\n",
       " 523.9893,\n",
       " 523.9968,\n",
       " 524.0042,\n",
       " 524.0117,\n",
       " 524.019,\n",
       " 524.0262,\n",
       " 524.0336,\n",
       " 524.041,\n",
       " 524.0485]"
      ]
     },
     "execution_count": 15,
     "metadata": {},
     "output_type": "execute_result"
    }
   ],
   "source": [
    "# Sortability.\n",
    "sorted(dt_ten)  # Returns a copy, unlike list.sort() method."
   ]
  },
  {
   "cell_type": "code",
   "execution_count": 16,
   "id": "beb81db2",
   "metadata": {
    "tags": [
     "hide"
    ]
   },
   "outputs": [
    {
     "data": {
      "text/plain": [
       "5240.1522"
      ]
     },
     "execution_count": 16,
     "metadata": {},
     "output_type": "execute_result"
    }
   ],
   "source": [
    "# There's a built-in function to sum collections.\n",
    "sum(dt_ten)"
   ]
  },
  {
   "cell_type": "code",
   "execution_count": 17,
   "id": "1cfcb086",
   "metadata": {
    "tags": [
     "hide"
    ]
   },
   "outputs": [
    {
     "ename": "IndexError",
     "evalue": "list index out of range",
     "output_type": "error",
     "traceback": [
      "\u001b[0;31m---------------------------------------------------------------------------\u001b[0m",
      "\u001b[0;31mIndexError\u001b[0m                                Traceback (most recent call last)",
      "\u001b[0;32m/tmp/ipykernel_11283/338913268.py\u001b[0m in \u001b[0;36m<module>\u001b[0;34m\u001b[0m\n\u001b[1;32m      1\u001b[0m \u001b[0;31m# Indexing.\u001b[0m\u001b[0;34m\u001b[0m\u001b[0;34m\u001b[0m\u001b[0m\n\u001b[0;32m----> 2\u001b[0;31m \u001b[0mdt_ten\u001b[0m\u001b[0;34m[\u001b[0m\u001b[0;36m0\u001b[0m\u001b[0;34m]\u001b[0m\u001b[0;34m,\u001b[0m \u001b[0mdt_ten\u001b[0m\u001b[0;34m[\u001b[0m\u001b[0;36m3\u001b[0m\u001b[0;34m]\u001b[0m\u001b[0;34m,\u001b[0m \u001b[0mdt_ten\u001b[0m\u001b[0;34m[\u001b[0m\u001b[0;36m11\u001b[0m\u001b[0;34m]\u001b[0m\u001b[0;34m,\u001b[0m \u001b[0mdt_ten\u001b[0m\u001b[0;34m[\u001b[0m\u001b[0;34m-\u001b[0m\u001b[0;36m1\u001b[0m\u001b[0;34m]\u001b[0m  \u001b[0;31m# Explain why -1.\u001b[0m\u001b[0;34m\u001b[0m\u001b[0;34m\u001b[0m\u001b[0m\n\u001b[0m",
      "\u001b[0;31mIndexError\u001b[0m: list index out of range"
     ]
    }
   ],
   "source": [
    "# Indexing.\n",
    "dt_ten[0], dt_ten[3], dt_ten[11], dt_ten[-1]  # Explain why -1."
   ]
  },
  {
   "cell_type": "code",
   "execution_count": 18,
   "id": "3368e6ee",
   "metadata": {
    "tags": [
     "hide"
    ]
   },
   "outputs": [
    {
     "data": {
      "text/plain": [
       "[524.0485, 524.0336, 524.019, 524.0042, 523.9893]"
      ]
     },
     "execution_count": 18,
     "metadata": {},
     "output_type": "execute_result"
    }
   ],
   "source": [
    "# Slicing.\n",
    "dt_ten[5:8]    # 8 - 5 = 3 items.\n",
    "dt_ten[:10]    # The first 10.\n",
    "dt_ten[1:]     # All except the first.\n",
    "dt_ten[:-1]    # All except the last\n",
    "dt_ten[:10:2]  # Every other of first ten"
   ]
  },
  {
   "cell_type": "code",
   "execution_count": 19,
   "id": "1faa3314",
   "metadata": {
    "tags": [
     "hide"
    ]
   },
   "outputs": [
    {
     "data": {
      "text/plain": [
       "[100,\n",
       " 524.041,\n",
       " 524.0336,\n",
       " 524.0262,\n",
       " 524.019,\n",
       " 524.0117,\n",
       " 524.0042,\n",
       " 523.9968,\n",
       " 523.9893,\n",
       " 523.9819]"
      ]
     },
     "execution_count": 19,
     "metadata": {},
     "output_type": "execute_result"
    }
   ],
   "source": [
    "# Assignment by index (but not slice).\n",
    "dt_ten[0] = 100\n",
    "dt_ten\n",
    "\n",
    "# This CHANGES item 0, does not insert new item at 0 (method for that).\n",
    "# Mutability. Be careful with it, often better to make a new thing."
   ]
  },
  {
   "cell_type": "code",
   "execution_count": 20,
   "id": "c8d6b77a",
   "metadata": {
    "tags": [
     "hide"
    ]
   },
   "outputs": [
    {
     "data": {
      "text/plain": [
       "0"
      ]
     },
     "execution_count": 20,
     "metadata": {},
     "output_type": "execute_result"
    }
   ],
   "source": [
    "# Methods.\n",
    "dt_ten.index(100)"
   ]
  },
  {
   "cell_type": "code",
   "execution_count": 21,
   "id": "517210dd",
   "metadata": {
    "tags": [
     "hide"
    ]
   },
   "outputs": [
    {
     "data": {
      "text/plain": [
       "[100,\n",
       " 524.041,\n",
       " 524.0336,\n",
       " 524.0262,\n",
       " 524.019,\n",
       " 524.0117,\n",
       " 524.0042,\n",
       " 523.9968,\n",
       " 523.9893,\n",
       " 523.9819,\n",
       " 50]"
      ]
     },
     "execution_count": 21,
     "metadata": {},
     "output_type": "execute_result"
    }
   ],
   "source": [
    "# Append is easily the most useful; works in place (lists are mutable).\n",
    "dt_ten.append(50)\n",
    "dt_ten"
   ]
  },
  {
   "cell_type": "markdown",
   "id": "3933585a",
   "metadata": {
    "tags": [
     "exercise"
    ]
   },
   "source": [
    "## Exercise\n",
    "\n",
    "For this exercise, use `dt_ten`.\n",
    "- Omit the first and last value from `dt_ten`, **assign** the result to `dt_8`.\n",
    "- In `dt_8`, remove the last value and save it as `last` (this should no longer be `50`)\n",
    "- Print every third value in `dt_8`."
   ]
  },
  {
   "cell_type": "code",
   "execution_count": null,
   "id": "15d2510f",
   "metadata": {},
   "outputs": [],
   "source": []
  },
  {
   "cell_type": "code",
   "execution_count": 22,
   "id": "b45a3858",
   "metadata": {
    "tags": [
     "hide"
    ]
   },
   "outputs": [],
   "source": [
    "dt_8 = dt_ten[1:-1]"
   ]
  },
  {
   "cell_type": "code",
   "execution_count": 23,
   "id": "b7223562",
   "metadata": {
    "tags": [
     "hide"
    ]
   },
   "outputs": [],
   "source": [
    "last = dt_8.pop()\n",
    "assert last != 50"
   ]
  },
  {
   "cell_type": "code",
   "execution_count": 24,
   "id": "b296b3ba",
   "metadata": {
    "tags": [
     "hide"
    ]
   },
   "outputs": [
    {
     "name": "stdout",
     "output_type": "stream",
     "text": [
      "[524.041, 524.019, 523.9968]\n"
     ]
    }
   ],
   "source": [
    "print(dt_8[::3])"
   ]
  },
  {
   "cell_type": "markdown",
   "id": "79bd7738",
   "metadata": {},
   "source": [
    "## Iterability\n",
    "\n",
    "Often we'd lile to step over the items in a collection, transforming them or somehow using them as we go. For example, we might collect the transformed versions in a new list (\"remove the endings from these filenames\") or perhaps we'll loop over a list of URLs, making web requests to each one in turn and collecting the results."
   ]
  },
  {
   "cell_type": "code",
   "execution_count": null,
   "id": "8738ee92",
   "metadata": {},
   "outputs": [],
   "source": []
  },
  {
   "cell_type": "code",
   "execution_count": 25,
   "id": "167d6e0f",
   "metadata": {
    "scrolled": true,
    "tags": [
     "hide"
    ]
   },
   "outputs": [
    {
     "name": "stdout",
     "output_type": "stream",
     "text": [
      "110\n",
      "534.041\n",
      "534.0336\n",
      "534.0262\n",
      "534.019\n",
      "534.0117\n",
      "534.0042\n",
      "533.9968\n",
      "533.9893\n",
      "533.9819\n",
      "60\n"
     ]
    }
   ],
   "source": [
    "# Iterability.\n",
    "# Earlier on I tried to add 10 to the GR log.\n",
    "\n",
    "# This is a `for` loop. Notice:\n",
    "#  - No counters or increments.\n",
    "#  - We get each `n` from `gr` in turn.\n",
    "for n in dt_ten:\n",
    "    print(n + 10)"
   ]
  },
  {
   "cell_type": "code",
   "execution_count": 26,
   "id": "98feed94",
   "metadata": {
    "tags": [
     "hide"
    ]
   },
   "outputs": [
    {
     "data": {
      "text/plain": [
       "[100,\n",
       " 524.041,\n",
       " 524.0336,\n",
       " 524.0262,\n",
       " 524.019,\n",
       " 524.0117,\n",
       " 524.0042,\n",
       " 523.9968,\n",
       " 523.9893,\n",
       " 523.9819,\n",
       " 50]"
      ]
     },
     "execution_count": 26,
     "metadata": {},
     "output_type": "execute_result"
    }
   ],
   "source": [
    "# dt hasn't changed:\n",
    "dt_ten"
   ]
  },
  {
   "cell_type": "code",
   "execution_count": 27,
   "id": "3d41ef81",
   "metadata": {
    "tags": [
     "hide"
    ]
   },
   "outputs": [
    {
     "data": {
      "text/plain": [
       "50"
      ]
     },
     "execution_count": 27,
     "metadata": {},
     "output_type": "execute_result"
    }
   ],
   "source": [
    "# `n` was an actual assignment happening for each step in `gr`:\n",
    "n"
   ]
  },
  {
   "cell_type": "code",
   "execution_count": 28,
   "id": "69a6f804",
   "metadata": {
    "tags": [
     "hide"
    ]
   },
   "outputs": [
    {
     "data": {
      "text/plain": [
       "[110,\n",
       " 534.041,\n",
       " 534.0336,\n",
       " 534.0262,\n",
       " 534.019,\n",
       " 534.0117,\n",
       " 534.0042,\n",
       " 533.9968,\n",
       " 533.9893,\n",
       " 533.9819,\n",
       " 60]"
      ]
     },
     "execution_count": 28,
     "metadata": {},
     "output_type": "execute_result"
    }
   ],
   "source": [
    "# To 'save' the transformed numbers, I need to collect them in a new list.\n",
    "dt_out = []\n",
    "for n in dt_ten:\n",
    "    dt_out.append(n + 10)\n",
    "dt_out"
   ]
  },
  {
   "cell_type": "markdown",
   "id": "64e6d3de",
   "metadata": {},
   "source": [
    "## `break` and `continue`\n",
    "\n",
    "The data we loaded, the `dt` curve, have no missing data, but if we load the `gr` we can see that the first few values are all `nan` values, so called for \"not a number\":"
   ]
  },
  {
   "cell_type": "code",
   "execution_count": 29,
   "id": "f6a6ea68",
   "metadata": {},
   "outputs": [
    {
     "data": {
      "text/plain": [
       "[nan, nan, nan, nan, nan, nan, nan, nan, nan, nan]"
      ]
     },
     "execution_count": 29,
     "metadata": {},
     "output_type": "execute_result"
    }
   ],
   "source": [
    "gr = list(w.data['GR'].values)\n",
    "gr[:10]"
   ]
  },
  {
   "cell_type": "code",
   "execution_count": null,
   "id": "bca827be",
   "metadata": {},
   "outputs": [],
   "source": []
  },
  {
   "cell_type": "code",
   "execution_count": 30,
   "id": "1945029b",
   "metadata": {
    "tags": [
     "hide"
    ]
   },
   "outputs": [
    {
     "data": {
      "text/plain": [
       "[nan, nan, nan, nan, 3.0703, 2.7441, 2.6564, 2.6521, 2.032, 1.7953]"
      ]
     },
     "execution_count": 30,
     "metadata": {},
     "output_type": "execute_result"
    }
   ],
   "source": [
    "gr[10:20]"
   ]
  },
  {
   "cell_type": "markdown",
   "id": "d9a26e62",
   "metadata": {},
   "source": [
    "So now if we want to iterate over these values, we need some control at each step of the iteration to check whether the value is valid, this is where `break` and `continue` can come in. First we'll use `numpy` to identify those `nan` values (we could also use the `math` library, but as `numpy` is the go-to library for all scientific computing in Python, we might as well get familiar with it:"
   ]
  },
  {
   "cell_type": "code",
   "execution_count": 31,
   "id": "8ed215a1",
   "metadata": {},
   "outputs": [],
   "source": [
    "import numpy as np"
   ]
  },
  {
   "cell_type": "code",
   "execution_count": null,
   "id": "5cb05596",
   "metadata": {},
   "outputs": [],
   "source": []
  },
  {
   "cell_type": "code",
   "execution_count": 32,
   "id": "24391ce6",
   "metadata": {
    "tags": [
     "hide"
    ]
   },
   "outputs": [
    {
     "data": {
      "text/plain": [
       "nan"
      ]
     },
     "execution_count": 32,
     "metadata": {},
     "output_type": "execute_result"
    }
   ],
   "source": [
    "gr[0]"
   ]
  },
  {
   "cell_type": "code",
   "execution_count": 33,
   "id": "7b7f71d7",
   "metadata": {
    "tags": [
     "hide"
    ]
   },
   "outputs": [
    {
     "data": {
      "text/plain": [
       "(False, True)"
      ]
     },
     "execution_count": 33,
     "metadata": {},
     "output_type": "execute_result"
    }
   ],
   "source": [
    "# np.isnan returns a boolean value: True or False\n",
    "np.isnan(42), np.isnan(gr[0])"
   ]
  },
  {
   "cell_type": "markdown",
   "id": "25fda669",
   "metadata": {},
   "source": [
    "## `if` statements\n",
    "\n",
    "One of the most common places to see booleans is in `if` statements. These allow for different blocks of code to be run depending on the result of a check.\n",
    "\n",
    "* Basic pattern\n",
    "* `if` ... `else`\n",
    "* `if` ... `elif` ... `else` - mutually exclusive options\n",
    "* Combined with `for` ... `in` ... `:` to control iterations\n",
    "    - `break`, `continue`\n",
    "\n",
    "Let's look at an example with our `gr_all` data:"
   ]
  },
  {
   "cell_type": "code",
   "execution_count": null,
   "id": "89e40a45",
   "metadata": {},
   "outputs": [],
   "source": []
  },
  {
   "cell_type": "code",
   "execution_count": null,
   "id": "cebdb8a1",
   "metadata": {},
   "outputs": [],
   "source": []
  },
  {
   "cell_type": "code",
   "execution_count": 34,
   "id": "e37e3c7a",
   "metadata": {
    "tags": [
     "hide"
    ]
   },
   "outputs": [
    {
     "name": "stdout",
     "output_type": "stream",
     "text": [
      "Len of all data: 9680\n",
      "Skipping value: nan\n",
      "Skipping value: nan\n",
      "Skipping value: nan\n",
      "Skipping value: nan\n",
      "Skipping value: nan\n",
      "Skipping value: nan\n",
      "Skipping value: nan\n",
      "Skipping value: nan\n",
      "Skipping value: nan\n",
      "Skipping value: nan\n",
      "Skipping value: nan\n",
      "Skipping value: nan\n",
      "Skipping value: nan\n",
      "Skipping value: nan\n",
      "Len of cleaned data: 9666\n"
     ]
    }
   ],
   "source": [
    "# build this up\n",
    "print(f'Len of all data: {len(gr)}')\n",
    "\n",
    "gr_clean = []\n",
    "for g in gr:\n",
    "    if np.isnan(g):\n",
    "        print(f'Skipping value: {g}')\n",
    "        continue\n",
    "    else:\n",
    "        gr_clean.append(g)\n",
    "        \n",
    "print(f'Len of cleaned data: {len(gr_clean)}')"
   ]
  },
  {
   "cell_type": "code",
   "execution_count": 35,
   "id": "19e9de82",
   "metadata": {
    "tags": [
     "hide"
    ]
   },
   "outputs": [
    {
     "name": "stdout",
     "output_type": "stream",
     "text": [
      "Len of all data: 9680\n",
      "Bad value `nan` at idx `0`, interrupting.\n"
     ]
    }
   ],
   "source": [
    "print(f'Len of all data: {len(gr)}')\n",
    "\n",
    "for idx, g in enumerate(gr):\n",
    "    if np.isnan(g):\n",
    "        print(f'Bad value `{g}` at idx `{idx}`, interrupting.')\n",
    "        break"
   ]
  },
  {
   "cell_type": "markdown",
   "id": "253dba7f",
   "metadata": {
    "tags": [
     "exercise"
    ]
   },
   "source": [
    "## Exercise\n",
    "\n",
    "- First print each value in `gr_clean`.\n",
    "- Next print only the first 15 values of `gr_clean`.\n",
    "- Then modify your code again to only print values strictly smaller than `2`.\n",
    "- Next add a condition to multiply values that are greater or equal to `2` by `10`, and print them.\n",
    "- Finally, add a print statement to log that the loop is over."
   ]
  },
  {
   "cell_type": "code",
   "execution_count": null,
   "id": "0c90fa8a",
   "metadata": {},
   "outputs": [],
   "source": []
  },
  {
   "cell_type": "code",
   "execution_count": 36,
   "id": "006a0c82",
   "metadata": {
    "tags": [
     "hide"
    ]
   },
   "outputs": [
    {
     "name": "stdout",
     "output_type": "stream",
     "text": [
      "30.703\n",
      "27.441\n",
      "26.564\n",
      "26.521\n",
      "20.32\n",
      "1.7953\n",
      "1.4786\n",
      "1.3392\n",
      "1.3392\n",
      "1.7285\n",
      "29.567\n",
      "40.153\n",
      "44.301\n",
      "47.036\n",
      "48.807\n",
      "Loop finished.\n"
     ]
    }
   ],
   "source": [
    "for g in gr_clean[:15]:\n",
    "    if g < 2:\n",
    "        print(g)\n",
    "    else:\n",
    "        print(g * 10)\n",
    "\n",
    "print('Loop finished.')"
   ]
  },
  {
   "cell_type": "markdown",
   "id": "8c60418b",
   "metadata": {
    "tags": [
     "info"
    ]
   },
   "source": [
    "### Booleans\n",
    "\n",
    "`bool`s are either `True` or `False`. These can be very useful, most obviously for selectively running particular blocks of code.\n",
    "\n",
    "Boolean values can be obtained in a number of ways. Many functions or methods will return either `True` or `False`. Comparisons also return a `bool`:\n",
    "\n",
    "| Equal to | Not equal to | Less than | Greater than | Less than or equal | Greater than or equal |\n",
    "|----------|--------------|-----------|--------------|--------------------|-----------------------|\n",
    "|   `==`   |     `!=`     |    `<`    |      `>`     |        `<=`        |          `>=`         |\n",
    "\n",
    "Different types will never be equal (that is, something like `1 == '1'` is `False`). If you want to know if something is the same object as another, then you should use `is` and `is not`.\n",
    "\n",
    "Some objects contain others (for example lists), and membership within a collection can be tested with `in`, which gives a `True` or `False`.\n",
    "\n",
    "We can also link expressions that are True or False together in a few ways:\n",
    "\n",
    "| Operation \t| Result                                                           \t|\n",
    "|-----------\t|------------------------------------------------------------------\t|\n",
    "| a **or** b    \t| True if either a or b is true                                    \t|\n",
    "| a **and** b   \t| False if either a or b is false,<br>True if both a and b are true |\n",
    "| **not** a     \t| True if a is true, else False                                    \t|\n",
    "\n",
    "In some cases (notably with numpy arrays) `&` and `|` are used instead of `and` and `or`. `&` and `|` are bitwise operators: they are only used on numbers, and work at the level of individual 1s and 0s. In most cases you will want `and` and `or` instead.\n",
    "\n",
    "#### Truthiness\n",
    "\n",
    "Some things are considered to be \"truthy\" (and will count as `True`) while others are \"falsey\" (counting as `False`). Examples of things that are falsey are the following:\n",
    "* `0`\n",
    "* `0.0`\n",
    "* empty collections (such as an empty list `[]`, and empty versions of the other datastructures that we will cover in this notebook but have not seen yet),\n",
    "* empty strings (`''` or `\"\"`).\n",
    "\n",
    "Most other things will be truthy.\n",
    "\n",
    "Here is a simple example, but play around with more:\n",
    "\n",
    "```python\n",
    "e_list = []\n",
    "\n",
    "if e_list:\n",
    "    print('True!')\n",
    "else:\n",
    "    print('False!')\n",
    "    \n",
    "f_list = [0]\n",
    "\n",
    "if f_list:\n",
    "    print('True!')\n",
    "else:\n",
    "    print('False!')\n",
    "```"
   ]
  },
  {
   "cell_type": "markdown",
   "id": "8210f6d1",
   "metadata": {},
   "source": [
    "## Comprehensions\n",
    "\n",
    "There's an optional extra bit of Python syntax that can sometimes help write more readable code. Any time you're doing some transformation on a collection like this, you can write it as a 'comprehension'. Let's start with a shorter subset of `gr` values:"
   ]
  },
  {
   "cell_type": "code",
   "execution_count": 37,
   "id": "22e78616",
   "metadata": {},
   "outputs": [
    {
     "data": {
      "text/plain": [
       "[110,\n",
       " 534.041,\n",
       " 534.0336,\n",
       " 534.0262,\n",
       " 534.019,\n",
       " 534.0117,\n",
       " 534.0042,\n",
       " 533.9968,\n",
       " 533.9893,\n",
       " 533.9819,\n",
       " 60]"
      ]
     },
     "execution_count": 37,
     "metadata": {},
     "output_type": "execute_result"
    }
   ],
   "source": [
    "dt_out = [n + 10 for n in dt_ten]\n",
    "dt_out"
   ]
  },
  {
   "cell_type": "markdown",
   "id": "92db8a5b",
   "metadata": {},
   "source": [
    "If you find that harder to read than the `for` loop, just ignore it. You'll love it one day, but it can wait!"
   ]
  },
  {
   "cell_type": "markdown",
   "id": "8beffb64",
   "metadata": {
    "tags": [
     "exercise"
    ]
   },
   "source": [
    "## Exercise\n",
    "\n",
    " - Create a list of numbers.\n",
    " - Make a new list that contains only the second half of your list.\n",
    " - Can you sort your list from largest to smallest?\n",
    " - Find the sum of the squares of the numbers in your list.\n",
    " - Append three new numbers to your list. Can you do it in one step? <a title=\"You might need to Google how to concatenate lists in Python.\">HINT</a>"
   ]
  },
  {
   "cell_type": "code",
   "execution_count": 38,
   "id": "86b87913",
   "metadata": {},
   "outputs": [],
   "source": [
    "# YOUR CODE HERE\n",
    "\n"
   ]
  },
  {
   "cell_type": "code",
   "execution_count": 39,
   "id": "25ff5684",
   "metadata": {
    "tags": [
     "hide"
    ]
   },
   "outputs": [
    {
     "name": "stdout",
     "output_type": "stream",
     "text": [
      "my_list: [1, 4, 5, 7, 3, 47, 65, 51, 11, 52]\n",
      "my_range: [89 53 44 94 76 62 62 62 78 87]\n",
      "2nd half of list: [47, 65, 51, 11, 52]\n",
      "reverse sorted list: [65, 52, 51, 47, 11, 7, 5, 4, 3, 1]\n",
      "Sum of squares: 11960\n",
      "extended list: [1, 4, 5, 7, 3, 47, 65, 51, 11, 52, 345, 987, -999]\n"
     ]
    }
   ],
   "source": [
    "# Possible solutions here.\n",
    "my_list = [1, 4, 5, 7, 3, 47, 65, 51, 11, 52]\n",
    "print(f'my_list: {my_list}')\n",
    "my_range = np.random.randint(low=10, high=100, size=10)\n",
    "print(f'my_range: {my_range}')\n",
    "print(f'2nd half of list: {my_list[len(my_list)//2:]}')\n",
    "print(f'reverse sorted list: {sorted(my_list, reverse=True)}')\n",
    "sum_squares = sum([n**2 for n in my_list])\n",
    "print(f'Sum of squares: {sum_squares}')\n",
    "my_list.extend([345, 987, -999])\n",
    "print(f'extended list: {my_list}')"
   ]
  },
  {
   "cell_type": "markdown",
   "id": "0357c54c",
   "metadata": {},
   "source": [
    "## Math on a `list` vs `np.ndarray`:\n",
    "\n",
    "Remember that we could not do this:"
   ]
  },
  {
   "cell_type": "code",
   "execution_count": 40,
   "id": "ab3fba6f",
   "metadata": {},
   "outputs": [
    {
     "ename": "TypeError",
     "evalue": "can only concatenate list (not \"int\") to list",
     "output_type": "error",
     "traceback": [
      "\u001b[0;31m---------------------------------------------------------------------------\u001b[0m",
      "\u001b[0;31mTypeError\u001b[0m                                 Traceback (most recent call last)",
      "\u001b[0;32m/tmp/ipykernel_11283/694553349.py\u001b[0m in \u001b[0;36m<module>\u001b[0;34m\u001b[0m\n\u001b[0;32m----> 1\u001b[0;31m \u001b[0mmy_list\u001b[0m \u001b[0;34m+\u001b[0m \u001b[0;36m10\u001b[0m\u001b[0;34m\u001b[0m\u001b[0;34m\u001b[0m\u001b[0m\n\u001b[0m",
      "\u001b[0;31mTypeError\u001b[0m: can only concatenate list (not \"int\") to list"
     ]
    }
   ],
   "source": [
    "my_list + 10"
   ]
  },
  {
   "cell_type": "code",
   "execution_count": null,
   "id": "908d8594",
   "metadata": {},
   "outputs": [],
   "source": []
  },
  {
   "cell_type": "code",
   "execution_count": 41,
   "id": "a1271d6c",
   "metadata": {
    "tags": [
     "hide"
    ]
   },
   "outputs": [
    {
     "data": {
      "text/plain": [
       "array([  11,   14,   15,   17,   13,   57,   75,   61,   21,   62,  355,\n",
       "        997, -989])"
      ]
     },
     "execution_count": 41,
     "metadata": {},
     "output_type": "execute_result"
    }
   ],
   "source": [
    "np.array(my_list) + 10"
   ]
  },
  {
   "cell_type": "code",
   "execution_count": 42,
   "id": "dee72b9e",
   "metadata": {
    "tags": [
     "hide"
    ]
   },
   "outputs": [
    {
     "data": {
      "text/plain": [
       "[1,\n",
       " 4,\n",
       " 5,\n",
       " 7,\n",
       " 3,\n",
       " 47,\n",
       " 65,\n",
       " 51,\n",
       " 11,\n",
       " 52,\n",
       " 345,\n",
       " 987,\n",
       " -999,\n",
       " 1,\n",
       " 4,\n",
       " 5,\n",
       " 7,\n",
       " 3,\n",
       " 47,\n",
       " 65,\n",
       " 51,\n",
       " 11,\n",
       " 52,\n",
       " 345,\n",
       " 987,\n",
       " -999]"
      ]
     },
     "execution_count": 42,
     "metadata": {},
     "output_type": "execute_result"
    }
   ],
   "source": [
    "my_list * 2"
   ]
  },
  {
   "cell_type": "code",
   "execution_count": 43,
   "id": "73e859f7",
   "metadata": {},
   "outputs": [
    {
     "data": {
      "text/plain": [
       "array([    2,     8,    10,    14,     6,    94,   130,   102,    22,\n",
       "         104,   690,  1974, -1998])"
      ]
     },
     "execution_count": 43,
     "metadata": {},
     "output_type": "execute_result"
    }
   ],
   "source": [
    "np.array(my_list) * 2"
   ]
  },
  {
   "cell_type": "markdown",
   "id": "1735f39e",
   "metadata": {},
   "source": [
    "### Indexing and slicing `np.ndarray`\n",
    "\n",
    "It is important to realize that everything you have learned about indexing and slicing on a `list` can be applied to a `np.ndarray`. Let's make one to illustrate:"
   ]
  },
  {
   "cell_type": "code",
   "execution_count": 44,
   "id": "22f85323",
   "metadata": {},
   "outputs": [
    {
     "data": {
      "text/plain": [
       "array([81, 10, 26, 46, 52, 63, 74, 12, 59, 86, 63, 91, 76, 24, 92, 12, 56,\n",
       "       64, 66, 95, 81, 31, 70, 39, 66, 97, 50, 49, 34, 11, 91, 56, 82, 57,\n",
       "       15, 43, 68, 79, 13, 60, 52, 37, 71, 59, 45, 97, 36, 85, 44, 74])"
      ]
     },
     "execution_count": 44,
     "metadata": {},
     "output_type": "execute_result"
    }
   ],
   "source": [
    "arr = np.random.randint(low=10, high=100, size=50)\n",
    "arr"
   ]
  },
  {
   "cell_type": "code",
   "execution_count": null,
   "id": "8e513aa6",
   "metadata": {},
   "outputs": [],
   "source": []
  },
  {
   "cell_type": "code",
   "execution_count": 45,
   "id": "40fe228e",
   "metadata": {
    "tags": [
     "hide"
    ]
   },
   "outputs": [
    {
     "data": {
      "text/plain": [
       "(81, 74)"
      ]
     },
     "execution_count": 45,
     "metadata": {},
     "output_type": "execute_result"
    }
   ],
   "source": [
    "arr[0], arr[-1]"
   ]
  },
  {
   "cell_type": "code",
   "execution_count": 46,
   "id": "9efd66d7",
   "metadata": {
    "tags": [
     "hide"
    ]
   },
   "outputs": [
    {
     "data": {
      "text/plain": [
       "array([63, 76, 92, 56, 66, 81, 70, 66, 50, 34, 91, 82, 15, 68, 13])"
      ]
     },
     "execution_count": 46,
     "metadata": {},
     "output_type": "execute_result"
    }
   ],
   "source": [
    "arr[10:40:2]"
   ]
  },
  {
   "cell_type": "code",
   "execution_count": 47,
   "id": "17db6f03",
   "metadata": {
    "tags": [
     "hide"
    ]
   },
   "outputs": [
    {
     "data": {
      "text/plain": [
       "array([81, 10, 26, 46, 52, 63, 74, 12, 59, 86, 63, 91, 76, 24, 92, 12, 56,\n",
       "       64, 66, 95, 81, 31, 70, 39, 66, 97, 50, 49, 34, 11, 91, 56, 82, 57,\n",
       "       15, 43, 68, 79, 13, 60, 52, 37, 71, 59, 45, 97, 36, 85, 44])"
      ]
     },
     "execution_count": 47,
     "metadata": {},
     "output_type": "execute_result"
    }
   ],
   "source": [
    "tops = arr[:-1]\n",
    "tops"
   ]
  },
  {
   "cell_type": "code",
   "execution_count": 48,
   "id": "7f0b131b",
   "metadata": {
    "tags": [
     "hide"
    ]
   },
   "outputs": [
    {
     "data": {
      "text/plain": [
       "array([10, 26, 46, 52, 63, 74, 12, 59, 86, 63, 91, 76, 24, 92, 12, 56, 64,\n",
       "       66, 95, 81, 31, 70, 39, 66, 97, 50, 49, 34, 11, 91, 56, 82, 57, 15,\n",
       "       43, 68, 79, 13, 60, 52, 37, 71, 59, 45, 97, 36, 85, 44, 74])"
      ]
     },
     "execution_count": 48,
     "metadata": {},
     "output_type": "execute_result"
    }
   ],
   "source": [
    "bases = arr[1:]\n",
    "bases"
   ]
  },
  {
   "cell_type": "code",
   "execution_count": 49,
   "id": "a64dc0a7",
   "metadata": {
    "tags": [
     "hide"
    ]
   },
   "outputs": [
    {
     "data": {
      "text/plain": [
       "[<matplotlib.lines.Line2D at 0x7f84e275bee0>]"
      ]
     },
     "execution_count": 49,
     "metadata": {},
     "output_type": "execute_result"
    },
    {
     "data": {
      "image/png": "[encoded data removed]",
      "text/plain": [
       "<Figure size 432x288 with 1 Axes>"
      ]
     },
     "metadata": {
      "needs_background": "light"
     },
     "output_type": "display_data"
    }
   ],
   "source": [
    "plt.plot(tops - bases)"
   ]
  },
  {
   "cell_type": "markdown",
   "id": "4357e6fb",
   "metadata": {},
   "source": [
    "## Handling `nan` values without a loop\n",
    "\n",
    "When we wrote a loop to handle the `nan` values in `gr`, we actually needed `numpy` or the `math` library to identify the `nan` values, there is a shorter way to achieve the same results by leveraging `numpy`, for this we need `gr` to be a `np.ndarray` rather than a `list`, we can use typecasting to achieve this:"
   ]
  },
  {
   "cell_type": "code",
   "execution_count": 50,
   "id": "7d02bb09",
   "metadata": {},
   "outputs": [
    {
     "data": {
      "text/plain": [
       "array([   nan,    nan,    nan,    nan,    nan,    nan,    nan,    nan,\n",
       "          nan,    nan,    nan,    nan,    nan,    nan, 3.0703, 2.7441,\n",
       "       2.6564, 2.6521, 2.032 , 1.7953, 1.4786, 1.3392, 1.3392, 1.7285,\n",
       "       2.9567])"
      ]
     },
     "execution_count": 50,
     "metadata": {},
     "output_type": "execute_result"
    }
   ],
   "source": [
    "gr_arr = np.array(gr)\n",
    "gr_arr[:25]"
   ]
  },
  {
   "cell_type": "code",
   "execution_count": null,
   "id": "33236745",
   "metadata": {},
   "outputs": [],
   "source": []
  },
  {
   "cell_type": "code",
   "execution_count": 51,
   "id": "a470b4af",
   "metadata": {
    "tags": [
     "hide"
    ]
   },
   "outputs": [
    {
     "name": "stdout",
     "output_type": "stream",
     "text": [
      "<class 'numpy.ndarray'>\n"
     ]
    },
    {
     "data": {
      "text/plain": [
       "array([3.0703, 2.7441, 2.6564, 2.6521, 2.032 , 1.7953, 1.4786, 1.3392,\n",
       "       1.3392, 1.7285, 2.9567, 4.0153, 4.4301, 4.7036, 4.8807])"
      ]
     },
     "execution_count": 51,
     "metadata": {},
     "output_type": "execute_result"
    }
   ],
   "source": [
    "# Use numpy to filter out the nans\n",
    "gr_arr = gr_arr[~np.isnan(gr_arr)]\n",
    "print(type(gr_arr))\n",
    "gr_arr[:15]"
   ]
  },
  {
   "cell_type": "markdown",
   "id": "5ad0c877",
   "metadata": {},
   "source": [
    "## Boolean array\n",
    "\n",
    "What is going on here `gr_arr[~np.isnan(gr_arr)]`!?\n",
    "Let's break it down to understand it:"
   ]
  },
  {
   "cell_type": "code",
   "execution_count": 52,
   "id": "72b241a8",
   "metadata": {},
   "outputs": [
    {
     "data": {
      "text/plain": [
       "array([], dtype=float64)"
      ]
     },
     "execution_count": 52,
     "metadata": {},
     "output_type": "execute_result"
    }
   ],
   "source": [
    "empty_arr = np.array([])\n",
    "empty_arr"
   ]
  },
  {
   "cell_type": "code",
   "execution_count": 53,
   "id": "cae4009e",
   "metadata": {},
   "outputs": [
    {
     "data": {
      "text/plain": [
       "(array([1, 2, 3, 4, 5]), array([ True,  True, False,  True, False]))"
      ]
     },
     "execution_count": 53,
     "metadata": {},
     "output_type": "execute_result"
    }
   ],
   "source": [
    "test_arr   = np.array([1, 2, 3, 4, 5])\n",
    "test_bools = np.array([True, True, False, True, False])\n",
    "test_arr, test_bools"
   ]
  },
  {
   "cell_type": "code",
   "execution_count": null,
   "id": "4d23d2c2",
   "metadata": {},
   "outputs": [],
   "source": []
  },
  {
   "cell_type": "code",
   "execution_count": 54,
   "id": "e2e3bd49",
   "metadata": {
    "tags": [
     "hide"
    ]
   },
   "outputs": [
    {
     "data": {
      "text/plain": [
       "array([1, 2, 3])"
      ]
     },
     "execution_count": 54,
     "metadata": {},
     "output_type": "execute_result"
    }
   ],
   "source": [
    "# contiguous slicing\n",
    "test_arr[0:3]"
   ]
  },
  {
   "cell_type": "code",
   "execution_count": 55,
   "id": "e61ecd8d",
   "metadata": {
    "tags": [
     "hide"
    ]
   },
   "outputs": [
    {
     "data": {
      "text/plain": [
       "array([1, 2, 4])"
      ]
     },
     "execution_count": 55,
     "metadata": {},
     "output_type": "execute_result"
    }
   ],
   "source": [
    "# discontiguous slicing based on boolean array\n",
    "test_arr[test_bools]"
   ]
  },
  {
   "cell_type": "code",
   "execution_count": 56,
   "id": "8edfd3e0",
   "metadata": {},
   "outputs": [
    {
     "data": {
      "text/plain": [
       "array([ nan, 120.,  80.,  90.,  nan, 115.,  90.])"
      ]
     },
     "execution_count": 56,
     "metadata": {},
     "output_type": "execute_result"
    }
   ],
   "source": [
    "# adding nan values\n",
    "test_gr = np.array([np.nan, 120, 80, 90, np.nan, 115, 90])\n",
    "test_gr"
   ]
  },
  {
   "cell_type": "code",
   "execution_count": 57,
   "id": "382c3789",
   "metadata": {
    "tags": [
     "hide"
    ]
   },
   "outputs": [
    {
     "data": {
      "text/plain": [
       "True"
      ]
     },
     "execution_count": 57,
     "metadata": {},
     "output_type": "execute_result"
    }
   ],
   "source": [
    "np.isnan(test_gr[0])"
   ]
  },
  {
   "cell_type": "code",
   "execution_count": 58,
   "id": "898f0ffe",
   "metadata": {
    "tags": [
     "hide"
    ]
   },
   "outputs": [
    {
     "data": {
      "text/plain": [
       "array([ True, False, False, False,  True, False, False])"
      ]
     },
     "execution_count": 58,
     "metadata": {},
     "output_type": "execute_result"
    }
   ],
   "source": [
    "np.isnan(test_gr)"
   ]
  },
  {
   "cell_type": "code",
   "execution_count": 59,
   "id": "5d7939c7",
   "metadata": {
    "tags": [
     "hide"
    ]
   },
   "outputs": [
    {
     "data": {
      "text/plain": [
       "array([nan, nan])"
      ]
     },
     "execution_count": 59,
     "metadata": {},
     "output_type": "execute_result"
    }
   ],
   "source": [
    "test_gr[np.isnan(test_gr)]"
   ]
  },
  {
   "cell_type": "code",
   "execution_count": 60,
   "id": "f2fdecb0",
   "metadata": {
    "tags": [
     "hide"
    ]
   },
   "outputs": [
    {
     "data": {
      "text/plain": [
       "array([False,  True,  True,  True, False,  True,  True])"
      ]
     },
     "execution_count": 60,
     "metadata": {},
     "output_type": "execute_result"
    }
   ],
   "source": [
    "~np.isnan(test_gr)"
   ]
  },
  {
   "cell_type": "code",
   "execution_count": 61,
   "id": "2924ad06",
   "metadata": {
    "tags": [
     "hide"
    ]
   },
   "outputs": [
    {
     "data": {
      "text/plain": [
       "array([120.,  80.,  90., 115.,  90.])"
      ]
     },
     "execution_count": 61,
     "metadata": {},
     "output_type": "execute_result"
    }
   ],
   "source": [
    "test_gr[~np.isnan(test_gr)]"
   ]
  },
  {
   "cell_type": "markdown",
   "id": "a805b706",
   "metadata": {},
   "source": [
    "## Wrapping up\n",
    "\n",
    "So we've loaded a well log, we've modified it, looped over it, controlled the flow of our python programm, let's now finish by simply plotting it using `welly`:"
   ]
  },
  {
   "cell_type": "code",
   "execution_count": 62,
   "id": "8e721856",
   "metadata": {},
   "outputs": [
    {
     "data": {
      "text/plain": [
       "<AxesSubplot:title={'center':'GR'}, xlabel='API'>"
      ]
     },
     "execution_count": 62,
     "metadata": {},
     "output_type": "execute_result"
    },
    {
     "data": {
      "image/png": "[encoded data removed]",
      "text/plain": [
       "<Figure size 144x720 with 1 Axes>"
      ]
     },
     "metadata": {
      "needs_background": "light"
     },
     "output_type": "display_data"
    }
   ],
   "source": [
    "w.data['GR'].plot()"
   ]
  },
  {
   "cell_type": "markdown",
   "id": "70979dec",
   "metadata": {},
   "source": [
    "## NEXT\n",
    "\n",
    "To continue and do more meaningful processing on data like this,\n",
    "\n",
    "- We're going to need one more data type (dictionaries).\n",
    "- We're going to have to learn how to write our own functions.\n",
    "- We'll practise making our own plots.\n",
    "- We'll look at file I/O.\n",
    "\n",
    "There's plenty more python to learn!"
   ]
  },
  {
   "cell_type": "code",
   "execution_count": null,
   "id": "44638122",
   "metadata": {},
   "outputs": [],
   "source": []
  }
 ],
 "metadata": {
  "celltoolbar": "Tags",
  "kernelspec": {
   "display_name": "geocomp",
   "language": "python",
   "name": "geocomp"
  },
  "language_info": {
   "codemirror_mode": {
    "name": "ipython",
    "version": 3
   },
   "file_extension": ".py",
   "mimetype": "text/x-python",
   "name": "python",
   "nbconvert_exporter": "python",
   "pygments_lexer": "ipython3",
   "version": "3.9.7"
  }
 },
 "nbformat": 4,
 "nbformat_minor": 5
}
