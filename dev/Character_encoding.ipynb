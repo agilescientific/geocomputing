{
 "cells": [
  {
   "cell_type": "markdown",
   "id": "846c6449",
   "metadata": {},
   "source": [
    "# Character encoding\n",
    "\n",
    "Loading data from a CSV file is usually a trivial matter of running:\n",
    "\n",
    "```python\n",
    "import pandas as pd\n",
    "\n",
    "pd.read_csv('path/to/file.csv')\n",
    "```\n",
    "\n",
    "However it may happen that when trying to run `pd.read_csv` you get a `UnicodeDecodeError` with a long error message who's last line may look something like this:\n",
    "\n",
    "```\n",
    "UnicodeDecodeError: 'utf-8' codec can't decode byte 0x99 in position 7955: invalid start byte\n",
    "```"
   ]
  },
  {
   "cell_type": "markdown",
   "id": "4d26436e",
   "metadata": {},
   "source": [
    "## What is an \"encoding\"?\n",
    "\n",
    "To understand - and fix - these errors, first let's look at [character encoding](https://en.wikipedia.org/wiki/Character_encoding).\n",
    "\n",
    "> Character encoding is the process of assigning numbers to graphical characters, especially the written characters of human language, allowing them to be stored, transmitted, and transformed using digital computers.\n",
    "\n",
    "Ok, but what does that actually look like? Well you might have some raw binary data like:\n",
    "\n",
    "```\n",
    "01010100 01101000 01101001 01110011 00100000 01101001 01110011 00100000 01110100 01101000 01100101 00100000 00100111 01100101 00100000 01100001 01100011 01100011 01110101 01110100 01100101 00100000 01100001 01100011 01100011 01100101 01101110 01110100 00100111 00100000 01110011 01111001 01101101 01100010 01101111 01101100 00111010 00100000 11000011 10101001\n",
    "```\n",
    "\n",
    "You can use a website like [rapidtables.com](https://www.rapidtables.com/convert/number/ascii-to-binary.html) to convert this to text and get back:\n",
    "\n",
    "`This is the 'e accute accent' symbol: é`.\n",
    "\n",
    "However if you convert this with the wrong encoding (i.e. not UTF-8), you might get the wrong characters back, for example:\n",
    "\n",
    "- Using ASCII encoding: `This is the 'e accute accent' symbol: Ã©`\n",
    "- Using ISO-2022-JP encoding: `This is the 'e accute accent' symbol: ��`"
   ]
  },
  {
   "cell_type": "markdown",
   "id": "b3388a3f",
   "metadata": {},
   "source": [
    "## Encoding standards\n",
    "There are many different encoding standards and if you try to *read* a file with the wrong encoding, you end up with garbled text, sometimes referred to as [mojibake](https://en.wikipedia.org/wiki/Mojibake). This is what we saw in the example above (`Ã©` and `��` instead of `é`).\n",
    "\n",
    "The standard encoding that we should strive to use is [UTF-8](https://www.unicode.org/faq/utf_bom.html#UTF8) (see also the [utf8-chartable page](https://www.utf8-chartable.de/unicode-utf8-table.pl?start=128&number=128&utf8=string-literal&unicodeinhtml=hex) and the [python unicode documentation](https://docs.python.org/3/howto/unicode.html)), however many documents that we come accross use a different standard, such as for example:\n",
    "- US-ASCII\n",
    "- INIS-cyrillic\n",
    "- ISO-10646-J-1 (Japanese)\n",
    "\n",
    "and **many** others, see [here](https://www.iana.org/assignments/character-sets/character-sets.xhtml) for examples.\n",
    "\n",
    "## Time to look at some code"
   ]
  },
  {
   "cell_type": "code",
   "execution_count": 1,
   "id": "a1b70b9b",
   "metadata": {},
   "outputs": [
    {
     "name": "stdout",
     "output_type": "stream",
     "text": [
      "<class 'str'>\n"
     ]
    },
    {
     "data": {
      "text/plain": [
       "\"This is the 'e accute accent' symbol: é\""
      ]
     },
     "execution_count": 1,
     "metadata": {},
     "output_type": "execute_result"
    }
   ],
   "source": [
    "# Let's start with a string\n",
    "string = \"This is the 'e accute accent' symbol: é\"\n",
    "\n",
    "print(type(string))\n",
    "string"
   ]
  },
  {
   "cell_type": "markdown",
   "id": "90dd70aa",
   "metadata": {},
   "source": [
    "We can **encode** - convert from `str` to `bytes` - this string using any encoding we like, for example UTF-8, by using the in-built python method [`str.encode`](https://docs.python.org/3/howto/unicode.html#converting-to-bytes):"
   ]
  },
  {
   "cell_type": "code",
   "execution_count": 2,
   "id": "ebd3947b",
   "metadata": {},
   "outputs": [
    {
     "data": {
      "text/plain": [
       "b\"This is the 'e accute accent' symbol: \\xc3\\xa9\""
      ]
     },
     "execution_count": 2,
     "metadata": {},
     "output_type": "execute_result"
    }
   ],
   "source": [
    "encoded_bytes_utf8 = string.encode('UTF-8', errors='replace')\n",
    "encoded_bytes_utf8"
   ]
  },
  {
   "cell_type": "code",
   "execution_count": 3,
   "id": "99fadacf",
   "metadata": {},
   "outputs": [
    {
     "data": {
      "text/plain": [
       "bytes"
      ]
     },
     "execution_count": 3,
     "metadata": {},
     "output_type": "execute_result"
    }
   ],
   "source": [
    "# Notice the 'b' before the string, it indicates this is of type `bytes`:\n",
    "type(encoded_bytes_utf8)"
   ]
  },
  {
   "cell_type": "markdown",
   "id": "48c6f2db",
   "metadata": {},
   "source": [
    "When we look at the `encoded` object we just get back some _mojibake_ characters (`\\xc3\\xa9`) as we're assuming this is ASCII:"
   ]
  },
  {
   "cell_type": "code",
   "execution_count": 4,
   "id": "b2ad377f",
   "metadata": {},
   "outputs": [
    {
     "data": {
      "text/plain": [
       "b\"This is the 'e accute accent' symbol: \\xc3\\xa9\""
      ]
     },
     "execution_count": 4,
     "metadata": {},
     "output_type": "execute_result"
    }
   ],
   "source": [
    "encoded_bytes_utf8"
   ]
  },
  {
   "cell_type": "markdown",
   "id": "97d54abb",
   "metadata": {},
   "source": [
    "If we want to print this correctly, we need to **decode** - convert from `bytes` to `str` - these bytes back to a python string using the correct encoding, like so:"
   ]
  },
  {
   "cell_type": "code",
   "execution_count": 5,
   "id": "9704f597",
   "metadata": {},
   "outputs": [
    {
     "data": {
      "text/plain": [
       "\"This is the 'e accute accent' symbol: é\""
      ]
     },
     "execution_count": 5,
     "metadata": {},
     "output_type": "execute_result"
    }
   ],
   "source": [
    "decoded_string = encoded_bytes_utf8.decode('UTF-8')\n",
    "decoded_string"
   ]
  },
  {
   "cell_type": "code",
   "execution_count": 6,
   "id": "b6c3f1c2",
   "metadata": {},
   "outputs": [
    {
     "data": {
      "text/plain": [
       "str"
      ]
     },
     "execution_count": 6,
     "metadata": {},
     "output_type": "execute_result"
    }
   ],
   "source": [
    "type(decoded_string)"
   ]
  },
  {
   "cell_type": "markdown",
   "id": "f48739ac",
   "metadata": {},
   "source": [
    "We now get back the correct `str` and characters.\n",
    "\n",
    "This works because we know the correct encoding, but if we pass an incorrect one, python will throw an error, and this looks suspiciously similar to the error we might get when reading a CSV!"
   ]
  },
  {
   "cell_type": "code",
   "execution_count": 7,
   "id": "f88082c1",
   "metadata": {
    "scrolled": true
   },
   "outputs": [
    {
     "ename": "UnicodeDecodeError",
     "evalue": "'ascii' codec can't decode byte 0xc3 in position 38: ordinal not in range(128)",
     "output_type": "error",
     "traceback": [
      "\u001b[0;31m---------------------------------------------------------------------------\u001b[0m",
      "\u001b[0;31mUnicodeDecodeError\u001b[0m                        Traceback (most recent call last)",
      "\u001b[0;32m/tmp/ipykernel_14623/3248585441.py\u001b[0m in \u001b[0;36m<module>\u001b[0;34m\u001b[0m\n\u001b[0;32m----> 1\u001b[0;31m \u001b[0mencoded_bytes_utf8\u001b[0m\u001b[0;34m.\u001b[0m\u001b[0mdecode\u001b[0m\u001b[0;34m(\u001b[0m\u001b[0;34m'ASCII'\u001b[0m\u001b[0;34m)\u001b[0m\u001b[0;34m\u001b[0m\u001b[0;34m\u001b[0m\u001b[0m\n\u001b[0m",
      "\u001b[0;31mUnicodeDecodeError\u001b[0m: 'ascii' codec can't decode byte 0xc3 in position 38: ordinal not in range(128)"
     ]
    }
   ],
   "source": [
    "encoded_bytes_utf8.decode('ASCII')"
   ]
  },
  {
   "cell_type": "markdown",
   "id": "4987044c",
   "metadata": {},
   "source": [
    "An error might actually be a good thing, depending on which encoding is used, you might get no error but a flawed output:"
   ]
  },
  {
   "cell_type": "code",
   "execution_count": 8,
   "id": "01080e96",
   "metadata": {},
   "outputs": [
    {
     "data": {
      "text/plain": [
       "\"This is the 'e accute accent' symbol: Ã©\""
      ]
     },
     "execution_count": 8,
     "metadata": {},
     "output_type": "execute_result"
    }
   ],
   "source": [
    "encoded_bytes_utf8.decode('windows-1252')"
   ]
  },
  {
   "cell_type": "code",
   "execution_count": 9,
   "id": "5c8578b8",
   "metadata": {},
   "outputs": [
    {
     "data": {
      "text/plain": [
       "\"This is the 'e accute accent' symbol: √©\""
      ]
     },
     "execution_count": 9,
     "metadata": {},
     "output_type": "execute_result"
    }
   ],
   "source": [
    "encoded_bytes_utf8.decode('macroman')"
   ]
  },
  {
   "cell_type": "markdown",
   "id": "37e0fab0",
   "metadata": {},
   "source": [
    "## Reading and writing files\n",
    "\n",
    "Let us make a small `DataFrame` and save it with a non-standard encoding:"
   ]
  },
  {
   "cell_type": "code",
   "execution_count": 10,
   "id": "b858f15a",
   "metadata": {},
   "outputs": [
    {
     "data": {
      "text/html": [
       "<div>\n",
       "<style scoped>\n",
       "    .dataframe tbody tr th:only-of-type {\n",
       "        vertical-align: middle;\n",
       "    }\n",
       "\n",
       "    .dataframe tbody tr th {\n",
       "        vertical-align: top;\n",
       "    }\n",
       "\n",
       "    .dataframe thead th {\n",
       "        text-align: right;\n",
       "    }\n",
       "</style>\n",
       "<table border=\"1\" class=\"dataframe\">\n",
       "  <thead>\n",
       "    <tr style=\"text-align: right;\">\n",
       "      <th></th>\n",
       "      <th>accents</th>\n",
       "    </tr>\n",
       "  </thead>\n",
       "  <tbody>\n",
       "    <tr>\n",
       "      <th>0</th>\n",
       "      <td>à</td>\n",
       "    </tr>\n",
       "    <tr>\n",
       "      <th>1</th>\n",
       "      <td>ä</td>\n",
       "    </tr>\n",
       "    <tr>\n",
       "      <th>2</th>\n",
       "      <td>é</td>\n",
       "    </tr>\n",
       "    <tr>\n",
       "      <th>3</th>\n",
       "      <td>è</td>\n",
       "    </tr>\n",
       "    <tr>\n",
       "      <th>4</th>\n",
       "      <td>ê</td>\n",
       "    </tr>\n",
       "    <tr>\n",
       "      <th>5</th>\n",
       "      <td>ï</td>\n",
       "    </tr>\n",
       "    <tr>\n",
       "      <th>6</th>\n",
       "      <td>ö</td>\n",
       "    </tr>\n",
       "    <tr>\n",
       "      <th>7</th>\n",
       "      <td>ù</td>\n",
       "    </tr>\n",
       "    <tr>\n",
       "      <th>8</th>\n",
       "      <td>ü</td>\n",
       "    </tr>\n",
       "  </tbody>\n",
       "</table>\n",
       "</div>"
      ],
      "text/plain": [
       "  accents\n",
       "0       à\n",
       "1       ä\n",
       "2       é\n",
       "3       è\n",
       "4       ê\n",
       "5       ï\n",
       "6       ö\n",
       "7       ù\n",
       "8       ü"
      ]
     },
     "execution_count": 10,
     "metadata": {},
     "output_type": "execute_result"
    }
   ],
   "source": [
    "import pandas as pd\n",
    "\n",
    "df = pd.DataFrame({'accents': ['à', 'ä', 'é', 'è', 'ê', 'ï', 'ö', 'ù', 'ü']})\n",
    "df"
   ]
  },
  {
   "cell_type": "markdown",
   "id": "c1b630f6",
   "metadata": {},
   "source": [
    "If we look at [this list](https://docs.python.org/2.4/lib/standard-encodings.html) of encodings, we might pick a western encoding, like `windows-1252` for example, we could write the `DataFrame` to disk using this encoding:"
   ]
  },
  {
   "cell_type": "code",
   "execution_count": 11,
   "id": "3772e9db",
   "metadata": {},
   "outputs": [],
   "source": [
    "actual_encoding = 'windows-1252'\n",
    "df.to_csv('./test_encoding_df.csv', index=False, encoding=actual_encoding)"
   ]
  },
  {
   "cell_type": "markdown",
   "id": "7f7bc370",
   "metadata": {},
   "source": [
    "Now go and look at the file on disk, with your default text editor for example. This will not work.\n",
    "We can now try to read this using the default UTF-8, but this throws an error too:"
   ]
  },
  {
   "cell_type": "code",
   "execution_count": 12,
   "id": "e3738d3c",
   "metadata": {},
   "outputs": [
    {
     "ename": "UnicodeDecodeError",
     "evalue": "'utf-8' codec can't decode byte 0xe0 in position 8: invalid continuation byte",
     "output_type": "error",
     "traceback": [
      "\u001b[0;31m---------------------------------------------------------------------------\u001b[0m",
      "\u001b[0;31mUnicodeDecodeError\u001b[0m                        Traceback (most recent call last)",
      "\u001b[0;32m/tmp/ipykernel_14623/3077907653.py\u001b[0m in \u001b[0;36m<module>\u001b[0;34m\u001b[0m\n\u001b[0;32m----> 1\u001b[0;31m \u001b[0mpd\u001b[0m\u001b[0;34m.\u001b[0m\u001b[0mread_csv\u001b[0m\u001b[0;34m(\u001b[0m\u001b[0;34m'test_encoding_df.csv'\u001b[0m\u001b[0;34m)\u001b[0m\u001b[0;34m\u001b[0m\u001b[0;34m\u001b[0m\u001b[0m\n\u001b[0m",
      "\u001b[0;32m~/miniconda3/envs/geocomp/lib/python3.9/site-packages/pandas/util/_decorators.py\u001b[0m in \u001b[0;36mwrapper\u001b[0;34m(*args, **kwargs)\u001b[0m\n\u001b[1;32m    309\u001b[0m                     \u001b[0mstacklevel\u001b[0m\u001b[0;34m=\u001b[0m\u001b[0mstacklevel\u001b[0m\u001b[0;34m,\u001b[0m\u001b[0;34m\u001b[0m\u001b[0;34m\u001b[0m\u001b[0m\n\u001b[1;32m    310\u001b[0m                 )\n\u001b[0;32m--> 311\u001b[0;31m             \u001b[0;32mreturn\u001b[0m \u001b[0mfunc\u001b[0m\u001b[0;34m(\u001b[0m\u001b[0;34m*\u001b[0m\u001b[0margs\u001b[0m\u001b[0;34m,\u001b[0m \u001b[0;34m**\u001b[0m\u001b[0mkwargs\u001b[0m\u001b[0;34m)\u001b[0m\u001b[0;34m\u001b[0m\u001b[0;34m\u001b[0m\u001b[0m\n\u001b[0m\u001b[1;32m    312\u001b[0m \u001b[0;34m\u001b[0m\u001b[0m\n\u001b[1;32m    313\u001b[0m         \u001b[0;32mreturn\u001b[0m \u001b[0mwrapper\u001b[0m\u001b[0;34m\u001b[0m\u001b[0;34m\u001b[0m\u001b[0m\n",
      "\u001b[0;32m~/miniconda3/envs/geocomp/lib/python3.9/site-packages/pandas/io/parsers/readers.py\u001b[0m in \u001b[0;36mread_csv\u001b[0;34m(filepath_or_buffer, sep, delimiter, header, names, index_col, usecols, squeeze, prefix, mangle_dupe_cols, dtype, engine, converters, true_values, false_values, skipinitialspace, skiprows, skipfooter, nrows, na_values, keep_default_na, na_filter, verbose, skip_blank_lines, parse_dates, infer_datetime_format, keep_date_col, date_parser, dayfirst, cache_dates, iterator, chunksize, compression, thousands, decimal, lineterminator, quotechar, quoting, doublequote, escapechar, comment, encoding, encoding_errors, dialect, error_bad_lines, warn_bad_lines, on_bad_lines, delim_whitespace, low_memory, memory_map, float_precision, storage_options)\u001b[0m\n\u001b[1;32m    584\u001b[0m     \u001b[0mkwds\u001b[0m\u001b[0;34m.\u001b[0m\u001b[0mupdate\u001b[0m\u001b[0;34m(\u001b[0m\u001b[0mkwds_defaults\u001b[0m\u001b[0;34m)\u001b[0m\u001b[0;34m\u001b[0m\u001b[0;34m\u001b[0m\u001b[0m\n\u001b[1;32m    585\u001b[0m \u001b[0;34m\u001b[0m\u001b[0m\n\u001b[0;32m--> 586\u001b[0;31m     \u001b[0;32mreturn\u001b[0m \u001b[0m_read\u001b[0m\u001b[0;34m(\u001b[0m\u001b[0mfilepath_or_buffer\u001b[0m\u001b[0;34m,\u001b[0m \u001b[0mkwds\u001b[0m\u001b[0;34m)\u001b[0m\u001b[0;34m\u001b[0m\u001b[0;34m\u001b[0m\u001b[0m\n\u001b[0m\u001b[1;32m    587\u001b[0m \u001b[0;34m\u001b[0m\u001b[0m\n\u001b[1;32m    588\u001b[0m \u001b[0;34m\u001b[0m\u001b[0m\n",
      "\u001b[0;32m~/miniconda3/envs/geocomp/lib/python3.9/site-packages/pandas/io/parsers/readers.py\u001b[0m in \u001b[0;36m_read\u001b[0;34m(filepath_or_buffer, kwds)\u001b[0m\n\u001b[1;32m    480\u001b[0m \u001b[0;34m\u001b[0m\u001b[0m\n\u001b[1;32m    481\u001b[0m     \u001b[0;31m# Create the parser.\u001b[0m\u001b[0;34m\u001b[0m\u001b[0;34m\u001b[0m\u001b[0m\n\u001b[0;32m--> 482\u001b[0;31m     \u001b[0mparser\u001b[0m \u001b[0;34m=\u001b[0m \u001b[0mTextFileReader\u001b[0m\u001b[0;34m(\u001b[0m\u001b[0mfilepath_or_buffer\u001b[0m\u001b[0;34m,\u001b[0m \u001b[0;34m**\u001b[0m\u001b[0mkwds\u001b[0m\u001b[0;34m)\u001b[0m\u001b[0;34m\u001b[0m\u001b[0;34m\u001b[0m\u001b[0m\n\u001b[0m\u001b[1;32m    483\u001b[0m \u001b[0;34m\u001b[0m\u001b[0m\n\u001b[1;32m    484\u001b[0m     \u001b[0;32mif\u001b[0m \u001b[0mchunksize\u001b[0m \u001b[0;32mor\u001b[0m \u001b[0miterator\u001b[0m\u001b[0;34m:\u001b[0m\u001b[0;34m\u001b[0m\u001b[0;34m\u001b[0m\u001b[0m\n",
      "\u001b[0;32m~/miniconda3/envs/geocomp/lib/python3.9/site-packages/pandas/io/parsers/readers.py\u001b[0m in \u001b[0;36m__init__\u001b[0;34m(self, f, engine, **kwds)\u001b[0m\n\u001b[1;32m    809\u001b[0m             \u001b[0mself\u001b[0m\u001b[0;34m.\u001b[0m\u001b[0moptions\u001b[0m\u001b[0;34m[\u001b[0m\u001b[0;34m\"has_index_names\"\u001b[0m\u001b[0;34m]\u001b[0m \u001b[0;34m=\u001b[0m \u001b[0mkwds\u001b[0m\u001b[0;34m[\u001b[0m\u001b[0;34m\"has_index_names\"\u001b[0m\u001b[0;34m]\u001b[0m\u001b[0;34m\u001b[0m\u001b[0;34m\u001b[0m\u001b[0m\n\u001b[1;32m    810\u001b[0m \u001b[0;34m\u001b[0m\u001b[0m\n\u001b[0;32m--> 811\u001b[0;31m         \u001b[0mself\u001b[0m\u001b[0;34m.\u001b[0m\u001b[0m_engine\u001b[0m \u001b[0;34m=\u001b[0m \u001b[0mself\u001b[0m\u001b[0;34m.\u001b[0m\u001b[0m_make_engine\u001b[0m\u001b[0;34m(\u001b[0m\u001b[0mself\u001b[0m\u001b[0;34m.\u001b[0m\u001b[0mengine\u001b[0m\u001b[0;34m)\u001b[0m\u001b[0;34m\u001b[0m\u001b[0;34m\u001b[0m\u001b[0m\n\u001b[0m\u001b[1;32m    812\u001b[0m \u001b[0;34m\u001b[0m\u001b[0m\n\u001b[1;32m    813\u001b[0m     \u001b[0;32mdef\u001b[0m \u001b[0mclose\u001b[0m\u001b[0;34m(\u001b[0m\u001b[0mself\u001b[0m\u001b[0;34m)\u001b[0m\u001b[0;34m:\u001b[0m\u001b[0;34m\u001b[0m\u001b[0;34m\u001b[0m\u001b[0m\n",
      "\u001b[0;32m~/miniconda3/envs/geocomp/lib/python3.9/site-packages/pandas/io/parsers/readers.py\u001b[0m in \u001b[0;36m_make_engine\u001b[0;34m(self, engine)\u001b[0m\n\u001b[1;32m   1038\u001b[0m             )\n\u001b[1;32m   1039\u001b[0m         \u001b[0;31m# error: Too many arguments for \"ParserBase\"\u001b[0m\u001b[0;34m\u001b[0m\u001b[0;34m\u001b[0m\u001b[0m\n\u001b[0;32m-> 1040\u001b[0;31m         \u001b[0;32mreturn\u001b[0m \u001b[0mmapping\u001b[0m\u001b[0;34m[\u001b[0m\u001b[0mengine\u001b[0m\u001b[0;34m]\u001b[0m\u001b[0;34m(\u001b[0m\u001b[0mself\u001b[0m\u001b[0;34m.\u001b[0m\u001b[0mf\u001b[0m\u001b[0;34m,\u001b[0m \u001b[0;34m**\u001b[0m\u001b[0mself\u001b[0m\u001b[0;34m.\u001b[0m\u001b[0moptions\u001b[0m\u001b[0;34m)\u001b[0m  \u001b[0;31m# type: ignore[call-arg]\u001b[0m\u001b[0;34m\u001b[0m\u001b[0;34m\u001b[0m\u001b[0m\n\u001b[0m\u001b[1;32m   1041\u001b[0m \u001b[0;34m\u001b[0m\u001b[0m\n\u001b[1;32m   1042\u001b[0m     \u001b[0;32mdef\u001b[0m \u001b[0m_failover_to_python\u001b[0m\u001b[0;34m(\u001b[0m\u001b[0mself\u001b[0m\u001b[0;34m)\u001b[0m\u001b[0;34m:\u001b[0m\u001b[0;34m\u001b[0m\u001b[0;34m\u001b[0m\u001b[0m\n",
      "\u001b[0;32m~/miniconda3/envs/geocomp/lib/python3.9/site-packages/pandas/io/parsers/c_parser_wrapper.py\u001b[0m in \u001b[0;36m__init__\u001b[0;34m(self, src, **kwds)\u001b[0m\n\u001b[1;32m     67\u001b[0m         \u001b[0mkwds\u001b[0m\u001b[0;34m[\u001b[0m\u001b[0;34m\"dtype\"\u001b[0m\u001b[0;34m]\u001b[0m \u001b[0;34m=\u001b[0m \u001b[0mensure_dtype_objs\u001b[0m\u001b[0;34m(\u001b[0m\u001b[0mkwds\u001b[0m\u001b[0;34m.\u001b[0m\u001b[0mget\u001b[0m\u001b[0;34m(\u001b[0m\u001b[0;34m\"dtype\"\u001b[0m\u001b[0;34m,\u001b[0m \u001b[0;32mNone\u001b[0m\u001b[0;34m)\u001b[0m\u001b[0;34m)\u001b[0m\u001b[0;34m\u001b[0m\u001b[0;34m\u001b[0m\u001b[0m\n\u001b[1;32m     68\u001b[0m         \u001b[0;32mtry\u001b[0m\u001b[0;34m:\u001b[0m\u001b[0;34m\u001b[0m\u001b[0;34m\u001b[0m\u001b[0m\n\u001b[0;32m---> 69\u001b[0;31m             \u001b[0mself\u001b[0m\u001b[0;34m.\u001b[0m\u001b[0m_reader\u001b[0m \u001b[0;34m=\u001b[0m \u001b[0mparsers\u001b[0m\u001b[0;34m.\u001b[0m\u001b[0mTextReader\u001b[0m\u001b[0;34m(\u001b[0m\u001b[0mself\u001b[0m\u001b[0;34m.\u001b[0m\u001b[0mhandles\u001b[0m\u001b[0;34m.\u001b[0m\u001b[0mhandle\u001b[0m\u001b[0;34m,\u001b[0m \u001b[0;34m**\u001b[0m\u001b[0mkwds\u001b[0m\u001b[0;34m)\u001b[0m\u001b[0;34m\u001b[0m\u001b[0;34m\u001b[0m\u001b[0m\n\u001b[0m\u001b[1;32m     70\u001b[0m         \u001b[0;32mexcept\u001b[0m \u001b[0mException\u001b[0m\u001b[0;34m:\u001b[0m\u001b[0;34m\u001b[0m\u001b[0;34m\u001b[0m\u001b[0m\n\u001b[1;32m     71\u001b[0m             \u001b[0mself\u001b[0m\u001b[0;34m.\u001b[0m\u001b[0mhandles\u001b[0m\u001b[0;34m.\u001b[0m\u001b[0mclose\u001b[0m\u001b[0;34m(\u001b[0m\u001b[0;34m)\u001b[0m\u001b[0;34m\u001b[0m\u001b[0;34m\u001b[0m\u001b[0m\n",
      "\u001b[0;32m~/miniconda3/envs/geocomp/lib/python3.9/site-packages/pandas/_libs/parsers.pyx\u001b[0m in \u001b[0;36mpandas._libs.parsers.TextReader.__cinit__\u001b[0;34m()\u001b[0m\n",
      "\u001b[0;32m~/miniconda3/envs/geocomp/lib/python3.9/site-packages/pandas/_libs/parsers.pyx\u001b[0m in \u001b[0;36mpandas._libs.parsers.TextReader._get_header\u001b[0;34m()\u001b[0m\n",
      "\u001b[0;32m~/miniconda3/envs/geocomp/lib/python3.9/site-packages/pandas/_libs/parsers.pyx\u001b[0m in \u001b[0;36mpandas._libs.parsers.TextReader._tokenize_rows\u001b[0;34m()\u001b[0m\n",
      "\u001b[0;32m~/miniconda3/envs/geocomp/lib/python3.9/site-packages/pandas/_libs/parsers.pyx\u001b[0m in \u001b[0;36mpandas._libs.parsers.raise_parser_error\u001b[0;34m()\u001b[0m\n",
      "\u001b[0;31mUnicodeDecodeError\u001b[0m: 'utf-8' codec can't decode byte 0xe0 in position 8: invalid continuation byte"
     ]
    }
   ],
   "source": [
    "pd.read_csv('test_encoding_df.csv')"
   ]
  },
  {
   "cell_type": "markdown",
   "id": "db9c154a",
   "metadata": {},
   "source": [
    "## Identifying the file encoding\n",
    "\n",
    "We need a way to identify the correct encoding in the input file, one such solution is [chardet](https://pypi.org/project/chardet/):"
   ]
  },
  {
   "cell_type": "code",
   "execution_count": 13,
   "id": "4081e72d",
   "metadata": {},
   "outputs": [],
   "source": [
    "import chardet"
   ]
  },
  {
   "cell_type": "markdown",
   "id": "b3cd03c4",
   "metadata": {},
   "source": [
    "We can read the file as `bytes` to inspect it:"
   ]
  },
  {
   "cell_type": "code",
   "execution_count": 14,
   "id": "24ef1b6e",
   "metadata": {},
   "outputs": [
    {
     "name": "stdout",
     "output_type": "stream",
     "text": [
      "b'accents\\n\\xe0\\n\\xe4\\n\\xe9\\n\\xe8\\n\\xea\\n\\xef\\n\\xf6\\n\\xf9\\n\\xfc\\n'\n"
     ]
    }
   ],
   "source": [
    "with open('./test_encoding_df.csv', 'rb') as rawdata:\n",
    "    print(rawdata.read(1000))"
   ]
  },
  {
   "cell_type": "markdown",
   "id": "85409c3d",
   "metadata": {},
   "source": [
    "And then use `chardet` to detect the encoding. We use `chardet.detect` to\n",
    "> Detect the encoding of the given byte string\n",
    "\n",
    "And then print the result which is a python `dict` and compare with the actual encoding we used when writing the file:"
   ]
  },
  {
   "cell_type": "code",
   "execution_count": 15,
   "id": "7d437bff",
   "metadata": {},
   "outputs": [
    {
     "name": "stdout",
     "output_type": "stream",
     "text": [
      "{'encoding': 'ISO-8859-1', 'confidence': 0.73, 'language': ''}\n",
      "actual_encoding: windows-1252\n"
     ]
    }
   ],
   "source": [
    "# Look at the first 1000 bytes (using 'rb' in the context manager)\n",
    "# to try to guess the encoding\n",
    "with open('./test_encoding_df.csv', 'rb') as rawdata:\n",
    "    result = chardet.detect(rawdata.read(1000))\n",
    "\n",
    "# check what the character encoding might be\n",
    "print(result)\n",
    "print(f'actual_encoding: {actual_encoding}')"
   ]
  },
  {
   "cell_type": "markdown",
   "id": "4079601f",
   "metadata": {
    "tags": [
     "exercise"
    ]
   },
   "source": [
    "### Exercise\n",
    "\n",
    "We see that these don't match, and that `chardet` records a confidence value of `0.73`.\n",
    "\n",
    "Your task is to read the file `test_encoding_df.csv` that we just created into a `pd.DataFrame` using both encodings provided:\n",
    "- the encoding detected by `chardet`, call this `df_guessed`.\n",
    "- the actual encoding used to write the file, call this `df_actual`."
   ]
  },
  {
   "cell_type": "code",
   "execution_count": 16,
   "id": "bd381ec5",
   "metadata": {},
   "outputs": [],
   "source": [
    "# your solution here\n"
   ]
  },
  {
   "cell_type": "code",
   "execution_count": 17,
   "id": "40db34f1",
   "metadata": {
    "tags": [
     "hide"
    ]
   },
   "outputs": [],
   "source": [
    "df_guessed = pd.read_csv('test_encoding_df.csv', encoding=result.get('encoding'))\n",
    "df_actual  = pd.read_csv('test_encoding_df.csv', encoding=actual_encoding)"
   ]
  },
  {
   "cell_type": "code",
   "execution_count": 18,
   "id": "78c3bcf3",
   "metadata": {},
   "outputs": [
    {
     "data": {
      "text/html": [
       "<div>\n",
       "<style scoped>\n",
       "    .dataframe tbody tr th:only-of-type {\n",
       "        vertical-align: middle;\n",
       "    }\n",
       "\n",
       "    .dataframe tbody tr th {\n",
       "        vertical-align: top;\n",
       "    }\n",
       "\n",
       "    .dataframe thead th {\n",
       "        text-align: right;\n",
       "    }\n",
       "</style>\n",
       "<table border=\"1\" class=\"dataframe\">\n",
       "  <thead>\n",
       "    <tr style=\"text-align: right;\">\n",
       "      <th></th>\n",
       "      <th>accents</th>\n",
       "    </tr>\n",
       "  </thead>\n",
       "  <tbody>\n",
       "    <tr>\n",
       "      <th>0</th>\n",
       "      <td>à</td>\n",
       "    </tr>\n",
       "    <tr>\n",
       "      <th>1</th>\n",
       "      <td>ä</td>\n",
       "    </tr>\n",
       "    <tr>\n",
       "      <th>2</th>\n",
       "      <td>é</td>\n",
       "    </tr>\n",
       "    <tr>\n",
       "      <th>3</th>\n",
       "      <td>è</td>\n",
       "    </tr>\n",
       "    <tr>\n",
       "      <th>4</th>\n",
       "      <td>ê</td>\n",
       "    </tr>\n",
       "    <tr>\n",
       "      <th>5</th>\n",
       "      <td>ï</td>\n",
       "    </tr>\n",
       "    <tr>\n",
       "      <th>6</th>\n",
       "      <td>ö</td>\n",
       "    </tr>\n",
       "    <tr>\n",
       "      <th>7</th>\n",
       "      <td>ù</td>\n",
       "    </tr>\n",
       "    <tr>\n",
       "      <th>8</th>\n",
       "      <td>ü</td>\n",
       "    </tr>\n",
       "  </tbody>\n",
       "</table>\n",
       "</div>"
      ],
      "text/plain": [
       "  accents\n",
       "0       à\n",
       "1       ä\n",
       "2       é\n",
       "3       è\n",
       "4       ê\n",
       "5       ï\n",
       "6       ö\n",
       "7       ù\n",
       "8       ü"
      ]
     },
     "execution_count": 18,
     "metadata": {},
     "output_type": "execute_result"
    }
   ],
   "source": [
    "df_guessed"
   ]
  },
  {
   "cell_type": "code",
   "execution_count": 19,
   "id": "a61416f9",
   "metadata": {},
   "outputs": [
    {
     "data": {
      "text/html": [
       "<div>\n",
       "<style scoped>\n",
       "    .dataframe tbody tr th:only-of-type {\n",
       "        vertical-align: middle;\n",
       "    }\n",
       "\n",
       "    .dataframe tbody tr th {\n",
       "        vertical-align: top;\n",
       "    }\n",
       "\n",
       "    .dataframe thead th {\n",
       "        text-align: right;\n",
       "    }\n",
       "</style>\n",
       "<table border=\"1\" class=\"dataframe\">\n",
       "  <thead>\n",
       "    <tr style=\"text-align: right;\">\n",
       "      <th></th>\n",
       "      <th>accents</th>\n",
       "    </tr>\n",
       "  </thead>\n",
       "  <tbody>\n",
       "    <tr>\n",
       "      <th>0</th>\n",
       "      <td>à</td>\n",
       "    </tr>\n",
       "    <tr>\n",
       "      <th>1</th>\n",
       "      <td>ä</td>\n",
       "    </tr>\n",
       "    <tr>\n",
       "      <th>2</th>\n",
       "      <td>é</td>\n",
       "    </tr>\n",
       "    <tr>\n",
       "      <th>3</th>\n",
       "      <td>è</td>\n",
       "    </tr>\n",
       "    <tr>\n",
       "      <th>4</th>\n",
       "      <td>ê</td>\n",
       "    </tr>\n",
       "    <tr>\n",
       "      <th>5</th>\n",
       "      <td>ï</td>\n",
       "    </tr>\n",
       "    <tr>\n",
       "      <th>6</th>\n",
       "      <td>ö</td>\n",
       "    </tr>\n",
       "    <tr>\n",
       "      <th>7</th>\n",
       "      <td>ù</td>\n",
       "    </tr>\n",
       "    <tr>\n",
       "      <th>8</th>\n",
       "      <td>ü</td>\n",
       "    </tr>\n",
       "  </tbody>\n",
       "</table>\n",
       "</div>"
      ],
      "text/plain": [
       "  accents\n",
       "0       à\n",
       "1       ä\n",
       "2       é\n",
       "3       è\n",
       "4       ê\n",
       "5       ï\n",
       "6       ö\n",
       "7       ù\n",
       "8       ü"
      ]
     },
     "execution_count": 19,
     "metadata": {},
     "output_type": "execute_result"
    }
   ],
   "source": [
    "df_actual"
   ]
  },
  {
   "cell_type": "markdown",
   "id": "d023e6c7",
   "metadata": {},
   "source": [
    "Both of these have read the data correctly, but this might not always be the case. And remember that not getting an Error message is no guarantee of correct reading.\n",
    "\n",
    "Remember to check the `result['confidence']` value of chardet's guess, as you may need to explore some more. In a bind, you might have to loop through a list of possible encodings such as found on [docs.python.org](https://docs.python.org/2.4/lib/standard-encodings.html) for example."
   ]
  },
  {
   "cell_type": "markdown",
   "id": "d50dc1da",
   "metadata": {
    "tags": [
     "exercise"
    ]
   },
   "source": [
    "### Exercise\n",
    "\n",
    "Given this list of encodings:\n",
    "```python\n",
    "encodings = 'cp500 windows-1252 iso-8859-15 macroman'.split()\n",
    "```\n",
    "\n",
    "1. Write a loop that will save the `df` we just made using each one of those encodings, use that encoding as part of the file name. Use this code if you've changed the `df`: `df = pd.DataFrame({'accents': ['à', 'ä', 'é', 'è', 'ê', 'ï', 'ö', 'ù', 'ü']})`\n",
    "2. Now for each of these file, use `chardet` to guess the encoding, print out the information in a way of your choosing.\n",
    "3. Make a plot showing the confidence value for each file.\n",
    "4. Open the file(s) with the encoding with the highest confidence value(s)."
   ]
  },
  {
   "cell_type": "code",
   "execution_count": 20,
   "id": "45b707af",
   "metadata": {},
   "outputs": [],
   "source": [
    "# 1 Write a loop to save the df with each different encoding\n"
   ]
  },
  {
   "cell_type": "code",
   "execution_count": 21,
   "id": "1bdb63a7",
   "metadata": {},
   "outputs": [],
   "source": [
    "# 2 use chardet to guess each file encoding\n"
   ]
  },
  {
   "cell_type": "code",
   "execution_count": 22,
   "id": "d2f73968",
   "metadata": {},
   "outputs": [],
   "source": [
    "# 3 Plot confidence values for each file\n"
   ]
  },
  {
   "cell_type": "code",
   "execution_count": 23,
   "id": "422c191d",
   "metadata": {},
   "outputs": [],
   "source": [
    "# 4 Open the file(s) with the highest confidence value(s)\n"
   ]
  },
  {
   "cell_type": "code",
   "execution_count": 24,
   "id": "6844ce40",
   "metadata": {
    "tags": [
     "hide"
    ]
   },
   "outputs": [],
   "source": [
    "# 1 Write a loop to save the df with each different encoding\n",
    "encodings = 'cp500 windows-1252 iso-8859-15 macroman'.split()\n",
    "\n",
    "df = pd.DataFrame({'accents': ['à', 'ä', 'é', 'è', 'ê', 'ï', 'ö', 'ù', 'ü']})\n",
    "\n",
    "for encoding in encodings:\n",
    "    df.to_csv(f'./df_encoding_{encoding}.csv', encoding=encoding)"
   ]
  },
  {
   "cell_type": "code",
   "execution_count": 25,
   "id": "aed15606",
   "metadata": {
    "tags": [
     "hide"
    ]
   },
   "outputs": [
    {
     "name": "stdout",
     "output_type": "stream",
     "text": [
      "./df_encoding_cp500.csv\n",
      "Chardet encoding:\tNone\n",
      "Chardet confidence:\t0.00\n",
      "========================================\n",
      "./df_encoding_iso-8859-15.csv\n",
      "Chardet encoding:\tISO-8859-1\n",
      "Chardet confidence:\t0.73\n",
      "========================================\n",
      "./df_encoding_macroman.csv\n",
      "Chardet encoding:\tWindows-1254\n",
      "Chardet confidence:\t0.23\n",
      "========================================\n",
      "./df_encoding_windows-1252.csv\n",
      "Chardet encoding:\tISO-8859-1\n",
      "Chardet confidence:\t0.73\n",
      "========================================\n"
     ]
    }
   ],
   "source": [
    "# 2 use chardet to guess each file encoding\n",
    "import glob\n",
    "\n",
    "files = glob.glob('./df_encoding_*.csv')\n",
    "\n",
    "for file in sorted(files):\n",
    "    with open(file, 'rb') as rawdata:\n",
    "        result = chardet.detect(rawdata.read(1000))\n",
    "        print(file)\n",
    "        print(\"\"\"Chardet encoding:\\t{}\n",
    "Chardet confidence:\\t{:.2f}\n",
    "{}\"\"\".format(result['encoding'], result['confidence'], 40*'='))"
   ]
  },
  {
   "cell_type": "code",
   "execution_count": 26,
   "id": "9b02492c",
   "metadata": {
    "tags": [
     "hide"
    ]
   },
   "outputs": [],
   "source": [
    "# 3 Plot confidence values for each file\n",
    "chardet_encoding, chardet_conf = [], []\n",
    "\n",
    "for encoding, file in zip(sorted(encodings), sorted(files)):\n",
    "    with open(file, 'rb') as rawdata:\n",
    "        result = chardet.detect(rawdata.read(1000))\n",
    "        chardet_encoding.append(result['encoding'])\n",
    "        chardet_conf.append(result['confidence'])"
   ]
  },
  {
   "cell_type": "code",
   "execution_count": 27,
   "id": "b6bfa565",
   "metadata": {
    "tags": [
     "hide"
    ]
   },
   "outputs": [
    {
     "data": {
      "image/png": "[encoded data removed]",
      "text/plain": [
       "<Figure size 432x288 with 1 Axes>"
      ]
     },
     "metadata": {
      "needs_background": "light"
     },
     "output_type": "display_data"
    }
   ],
   "source": [
    "import matplotlib.pyplot as plt\n",
    "\n",
    "fig, ax = plt.subplots()\n",
    "p1 = ax.bar(sorted(encodings), chardet_conf)\n",
    "ax.set_title('`chardet.decode()` results')\n",
    "ax.set_xlabel('Actual encodings')\n",
    "ax.set_ylabel('Chardet confidence value')\n",
    "ax.bar_label(p1, [str(x) for x in chardet_encoding])\n",
    "ax.grid(alpha=0.4)"
   ]
  },
  {
   "cell_type": "code",
   "execution_count": 28,
   "id": "dcaf188b",
   "metadata": {
    "tags": [
     "hide"
    ]
   },
   "outputs": [
    {
     "data": {
      "text/html": [
       "<div>\n",
       "<style scoped>\n",
       "    .dataframe tbody tr th:only-of-type {\n",
       "        vertical-align: middle;\n",
       "    }\n",
       "\n",
       "    .dataframe tbody tr th {\n",
       "        vertical-align: top;\n",
       "    }\n",
       "\n",
       "    .dataframe thead th {\n",
       "        text-align: right;\n",
       "    }\n",
       "</style>\n",
       "<table border=\"1\" class=\"dataframe\">\n",
       "  <thead>\n",
       "    <tr style=\"text-align: right;\">\n",
       "      <th></th>\n",
       "      <th>Unnamed: 0</th>\n",
       "      <th>accents</th>\n",
       "    </tr>\n",
       "  </thead>\n",
       "  <tbody>\n",
       "    <tr>\n",
       "      <th>0</th>\n",
       "      <td>0</td>\n",
       "      <td>à</td>\n",
       "    </tr>\n",
       "    <tr>\n",
       "      <th>1</th>\n",
       "      <td>1</td>\n",
       "      <td>ä</td>\n",
       "    </tr>\n",
       "    <tr>\n",
       "      <th>2</th>\n",
       "      <td>2</td>\n",
       "      <td>é</td>\n",
       "    </tr>\n",
       "    <tr>\n",
       "      <th>3</th>\n",
       "      <td>3</td>\n",
       "      <td>è</td>\n",
       "    </tr>\n",
       "    <tr>\n",
       "      <th>4</th>\n",
       "      <td>4</td>\n",
       "      <td>ê</td>\n",
       "    </tr>\n",
       "    <tr>\n",
       "      <th>5</th>\n",
       "      <td>5</td>\n",
       "      <td>ï</td>\n",
       "    </tr>\n",
       "    <tr>\n",
       "      <th>6</th>\n",
       "      <td>6</td>\n",
       "      <td>ö</td>\n",
       "    </tr>\n",
       "    <tr>\n",
       "      <th>7</th>\n",
       "      <td>7</td>\n",
       "      <td>ù</td>\n",
       "    </tr>\n",
       "    <tr>\n",
       "      <th>8</th>\n",
       "      <td>8</td>\n",
       "      <td>ü</td>\n",
       "    </tr>\n",
       "  </tbody>\n",
       "</table>\n",
       "</div>"
      ],
      "text/plain": [
       "   Unnamed: 0 accents\n",
       "0           0       à\n",
       "1           1       ä\n",
       "2           2       é\n",
       "3           3       è\n",
       "4           4       ê\n",
       "5           5       ï\n",
       "6           6       ö\n",
       "7           7       ù\n",
       "8           8       ü"
      ]
     },
     "execution_count": 28,
     "metadata": {},
     "output_type": "execute_result"
    }
   ],
   "source": [
    "# 4 Open the file(s) with the highest confidence value(s)\n",
    "pd.read_csv('./df_encoding_iso-8859-15.csv', encoding='iso-8859-1')"
   ]
  },
  {
   "cell_type": "code",
   "execution_count": 29,
   "id": "157d2ce7",
   "metadata": {
    "tags": [
     "hide"
    ]
   },
   "outputs": [
    {
     "data": {
      "text/html": [
       "<div>\n",
       "<style scoped>\n",
       "    .dataframe tbody tr th:only-of-type {\n",
       "        vertical-align: middle;\n",
       "    }\n",
       "\n",
       "    .dataframe tbody tr th {\n",
       "        vertical-align: top;\n",
       "    }\n",
       "\n",
       "    .dataframe thead th {\n",
       "        text-align: right;\n",
       "    }\n",
       "</style>\n",
       "<table border=\"1\" class=\"dataframe\">\n",
       "  <thead>\n",
       "    <tr style=\"text-align: right;\">\n",
       "      <th></th>\n",
       "      <th>Unnamed: 0</th>\n",
       "      <th>accents</th>\n",
       "    </tr>\n",
       "  </thead>\n",
       "  <tbody>\n",
       "    <tr>\n",
       "      <th>0</th>\n",
       "      <td>0</td>\n",
       "      <td>à</td>\n",
       "    </tr>\n",
       "    <tr>\n",
       "      <th>1</th>\n",
       "      <td>1</td>\n",
       "      <td>ä</td>\n",
       "    </tr>\n",
       "    <tr>\n",
       "      <th>2</th>\n",
       "      <td>2</td>\n",
       "      <td>é</td>\n",
       "    </tr>\n",
       "    <tr>\n",
       "      <th>3</th>\n",
       "      <td>3</td>\n",
       "      <td>è</td>\n",
       "    </tr>\n",
       "    <tr>\n",
       "      <th>4</th>\n",
       "      <td>4</td>\n",
       "      <td>ê</td>\n",
       "    </tr>\n",
       "    <tr>\n",
       "      <th>5</th>\n",
       "      <td>5</td>\n",
       "      <td>ï</td>\n",
       "    </tr>\n",
       "    <tr>\n",
       "      <th>6</th>\n",
       "      <td>6</td>\n",
       "      <td>ö</td>\n",
       "    </tr>\n",
       "    <tr>\n",
       "      <th>7</th>\n",
       "      <td>7</td>\n",
       "      <td>ù</td>\n",
       "    </tr>\n",
       "    <tr>\n",
       "      <th>8</th>\n",
       "      <td>8</td>\n",
       "      <td>ü</td>\n",
       "    </tr>\n",
       "  </tbody>\n",
       "</table>\n",
       "</div>"
      ],
      "text/plain": [
       "   Unnamed: 0 accents\n",
       "0           0       à\n",
       "1           1       ä\n",
       "2           2       é\n",
       "3           3       è\n",
       "4           4       ê\n",
       "5           5       ï\n",
       "6           6       ö\n",
       "7           7       ù\n",
       "8           8       ü"
      ]
     },
     "execution_count": 29,
     "metadata": {},
     "output_type": "execute_result"
    }
   ],
   "source": [
    "pd.read_csv('./df_encoding_windows-1252.csv', encoding='iso-8859-1')"
   ]
  },
  {
   "cell_type": "code",
   "execution_count": null,
   "id": "ea664463",
   "metadata": {
    "collapsed": true
   },
   "outputs": [],
   "source": []
  }
 ],
 "metadata": {
  "celltoolbar": "Tags",
  "kernelspec": {
   "display_name": "geocomp",
   "language": "python",
   "name": "geocomp"
  },
  "language_info": {
   "codemirror_mode": {
    "name": "ipython",
    "version": 3
   },
   "file_extension": ".py",
   "mimetype": "text/x-python",
   "name": "python",
   "nbconvert_exporter": "python",
   "pygments_lexer": "ipython3",
   "version": "3.9.7"
  }
 },
 "nbformat": 4,
 "nbformat_minor": 5
}
