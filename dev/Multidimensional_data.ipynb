{
 "cells": [
  {
   "cell_type": "markdown",
   "id": "2bbf6f3e",
   "metadata": {},
   "source": [
    "# Working with 2D data\n",
    "\n",
    "We have seen that `list`s and numpy `nd.array`s work well for 1D data like logs, but we will often want to work with 2D data of some kind. In this notebook we will explore how to work with something like a horizon, using numpy.\n",
    "\n",
    "Let us start by loading our data. We are using a library named `pooch` to download them to a specific location on our hard drive. If we come back to this, the files will only be downloaded again if they have changed on the server or been deleted."
   ]
  },
  {
   "cell_type": "code",
   "execution_count": null,
   "id": "0ecafa69",
   "metadata": {},
   "outputs": [],
   "source": [
    "import pooch\n",
    "\n",
    "spot = pooch.create(path='../data', base_url=\"https://geocomp.s3.amazonaws.com/data/\",\n",
    "                    registry={\"F3_8-bit_int.sgy\": \"md5:cbde973eb6606da843f40aedf07793e4\",\n",
    "                              \"F3_horizon.npy\": \"md5:9ba4f498ba3e2dfebeaa739aeac68d04\"})\n",
    "\n",
    "fname = spot.fetch(\"F3_horizon.npy\")"
   ]
  },
  {
   "cell_type": "markdown",
   "id": "a5300d61",
   "metadata": {},
   "source": [
    "We are also going to import `numpy` and `matplotlib` here, since we will use them throughout the notebook:"
   ]
  },
  {
   "cell_type": "code",
   "execution_count": null,
   "id": "1f5044be",
   "metadata": {},
   "outputs": [],
   "source": [
    "import numpy as np\n",
    "import matplotlib.pyplot as plt"
   ]
  },
  {
   "cell_type": "code",
   "execution_count": null,
   "id": "dc826b2f",
   "metadata": {},
   "outputs": [],
   "source": []
  },
  {
   "cell_type": "code",
   "execution_count": null,
   "id": "7ec776ef",
   "metadata": {
    "tags": [
     "hide"
    ]
   },
   "outputs": [],
   "source": [
    "horizon = np.load(fname)\n",
    "horizon"
   ]
  },
  {
   "cell_type": "markdown",
   "id": "d726a5c5",
   "metadata": {},
   "source": [
    "This is _raster_ data, where each cell in a grid has a value associated with it. We can not see all of the individual values above, but we can easily plot it, using matplotlib's `imshow` function:"
   ]
  },
  {
   "cell_type": "code",
   "execution_count": null,
   "id": "45861f55",
   "metadata": {},
   "outputs": [],
   "source": []
  },
  {
   "cell_type": "code",
   "execution_count": null,
   "id": "97c531f1",
   "metadata": {
    "tags": [
     "hide"
    ]
   },
   "outputs": [],
   "source": [
    "plt.imshow(horizon)"
   ]
  },
  {
   "cell_type": "markdown",
   "id": "fe90ddf2",
   "metadata": {},
   "source": [
    "The `imshow` function is a very useful one, and has a fair few options to control exactly how the result looks. We are going to start using a slightly different way of creating plots, using the so-called _object oriented_ paradigm. This is the recommended way in the matplotlib documentation, and what we will be using going forwards:"
   ]
  },
  {
   "cell_type": "code",
   "execution_count": null,
   "id": "83112115",
   "metadata": {},
   "outputs": [],
   "source": []
  },
  {
   "cell_type": "code",
   "execution_count": null,
   "id": "bb95e83f",
   "metadata": {
    "tags": [
     "hide"
    ]
   },
   "outputs": [],
   "source": [
    "fig, ax = plt.subplots()\n",
    "\n",
    "ax.imshow(horizon)"
   ]
  },
  {
   "cell_type": "markdown",
   "id": "3b7828a9",
   "metadata": {},
   "source": [
    "This looks very much like we had before, but gives us more flexibility than calling `plt.imshow` directly, especially if we want more than one plot on the same figure. We will see this more as we continue."
   ]
  },
  {
   "cell_type": "markdown",
   "id": "f8c6742e",
   "metadata": {},
   "source": [
    "## 2D numpy `nd.array`s\n",
    "\n",
    "Let us take a look at the `horizon` object more closely and see what we can do with it:"
   ]
  },
  {
   "cell_type": "code",
   "execution_count": null,
   "id": "c2abc770",
   "metadata": {},
   "outputs": [],
   "source": [
    "type(horizon)"
   ]
  },
  {
   "cell_type": "code",
   "execution_count": null,
   "id": "38eff226",
   "metadata": {
    "tags": [
     "hide"
    ]
   },
   "outputs": [],
   "source": [
    "horizon.shape"
   ]
  },
  {
   "cell_type": "code",
   "execution_count": null,
   "id": "7a8b07ad",
   "metadata": {
    "tags": [
     "hide"
    ]
   },
   "outputs": [],
   "source": [
    "horizon.ndim"
   ]
  },
  {
   "cell_type": "code",
   "execution_count": null,
   "id": "4899fe4f",
   "metadata": {
    "tags": [
     "hide"
    ]
   },
   "outputs": [],
   "source": [
    "len(horizon), horizon.size"
   ]
  },
  {
   "cell_type": "code",
   "execution_count": null,
   "id": "626d1e4e",
   "metadata": {
    "tags": [
     "hide"
    ]
   },
   "outputs": [],
   "source": [
    "horizon.min(), horizon.max(), horizon.mean(), horizon.std()"
   ]
  },
  {
   "cell_type": "code",
   "execution_count": null,
   "id": "8beb0ead",
   "metadata": {
    "tags": [
     "hide"
    ]
   },
   "outputs": [],
   "source": [
    "np.min(horizon), np.max(horizon), np.mean(horizon), np.std(horizon)"
   ]
  },
  {
   "cell_type": "markdown",
   "id": "775c9a52",
   "metadata": {},
   "source": [
    "We can plot the distribution using `hist` as we saw in the previous notebook, but we need to make sure that the ndarray is one-dimensional (otherwise it will plot hundreds of histograms, rather than one histogram of the entire horizon). The easiest way is to use the `ravel` method:"
   ]
  },
  {
   "cell_type": "code",
   "execution_count": null,
   "id": "a21e4f73",
   "metadata": {},
   "outputs": [],
   "source": []
  },
  {
   "cell_type": "code",
   "execution_count": null,
   "id": "48978034",
   "metadata": {
    "tags": [
     "hide"
    ]
   },
   "outputs": [],
   "source": [
    "horizon.ravel().shape, horizon.ravel().ndim"
   ]
  },
  {
   "cell_type": "code",
   "execution_count": null,
   "id": "602c4738",
   "metadata": {
    "tags": [
     "hide"
    ]
   },
   "outputs": [],
   "source": [
    "horizon.ravel()"
   ]
  },
  {
   "cell_type": "code",
   "execution_count": null,
   "id": "bfefc10c",
   "metadata": {
    "tags": [
     "hide"
    ]
   },
   "outputs": [],
   "source": [
    "fig, ax = plt.subplots()\n",
    "ax.hist(horizon.ravel(), bins='auto')\n",
    "ax.axvline(horizon.mean(), color='red')"
   ]
  },
  {
   "cell_type": "markdown",
   "id": "408ff5c2",
   "metadata": {},
   "source": [
    "Instead of `ravel`, we could also use `reshape`. This is more general, as long as the shape of the resultant `ndarray` fits. In this case the proper value for `-1` is inferred from the length of the array and remaining dimensions. We will still get a 2D array, but we only want the first element:"
   ]
  },
  {
   "cell_type": "code",
   "execution_count": null,
   "id": "e0e7825a",
   "metadata": {},
   "outputs": [],
   "source": []
  },
  {
   "cell_type": "code",
   "execution_count": null,
   "id": "ca075533",
   "metadata": {
    "tags": [
     "hide"
    ]
   },
   "outputs": [],
   "source": [
    "horizon.reshape(1, -1).size, horizon.reshape(1, -1).shape, horizon.reshape(1, -1)"
   ]
  },
  {
   "cell_type": "code",
   "execution_count": null,
   "id": "1a3d3f7c",
   "metadata": {
    "scrolled": true,
    "tags": [
     "hide"
    ]
   },
   "outputs": [],
   "source": [
    "fig, ax = plt.subplots()\n",
    "ax.hist(horizon.reshape(1, -1)[0], bins='auto')\n",
    "ax.axvline(horizon.mean(), color='red')"
   ]
  },
  {
   "cell_type": "markdown",
   "id": "0c3cc91d",
   "metadata": {},
   "source": [
    "### Indexing and Slicing\n",
    "\n",
    "We have already seen how to index and slice in one dimension. This is slightly different in two dimensions:"
   ]
  },
  {
   "cell_type": "code",
   "execution_count": null,
   "id": "ab31ebf1",
   "metadata": {},
   "outputs": [],
   "source": []
  },
  {
   "cell_type": "code",
   "execution_count": null,
   "id": "cdfd8d5a",
   "metadata": {
    "tags": [
     "hide"
    ]
   },
   "outputs": [],
   "source": [
    "horizon"
   ]
  },
  {
   "cell_type": "code",
   "execution_count": null,
   "id": "7a04f0f1",
   "metadata": {
    "tags": [
     "hide"
    ]
   },
   "outputs": [],
   "source": [
    "horizon[0] # just the first dimension"
   ]
  },
  {
   "cell_type": "code",
   "execution_count": null,
   "id": "2f33cb93",
   "metadata": {
    "tags": [
     "hide"
    ]
   },
   "outputs": [],
   "source": [
    "horizon[0, 3]"
   ]
  },
  {
   "cell_type": "code",
   "execution_count": null,
   "id": "889d0fbf",
   "metadata": {
    "tags": [
     "hide"
    ]
   },
   "outputs": [],
   "source": [
    "horizon[0, :10]"
   ]
  },
  {
   "cell_type": "code",
   "execution_count": null,
   "id": "8d28825c",
   "metadata": {
    "tags": [
     "hide"
    ]
   },
   "outputs": [],
   "source": [
    "horizon[:10, 0]"
   ]
  },
  {
   "cell_type": "code",
   "execution_count": null,
   "id": "2ba9cb8f",
   "metadata": {
    "tags": [
     "hide"
    ]
   },
   "outputs": [],
   "source": [
    "horizon[:10, 0:5]"
   ]
  },
  {
   "cell_type": "markdown",
   "id": "c0fa1e0c",
   "metadata": {},
   "source": [
    "It is important to note that we are getting back a view into the array, so we can do things like we saw above:"
   ]
  },
  {
   "cell_type": "code",
   "execution_count": null,
   "id": "6fdf7bd4",
   "metadata": {},
   "outputs": [],
   "source": []
  },
  {
   "cell_type": "code",
   "execution_count": null,
   "id": "f6143f00",
   "metadata": {
    "tags": [
     "hide"
    ]
   },
   "outputs": [],
   "source": [
    "horizon[:10, 0:5].size, horizon[:10, 0:5].shape"
   ]
  },
  {
   "cell_type": "code",
   "execution_count": null,
   "id": "a258f991",
   "metadata": {
    "tags": [
     "hide"
    ]
   },
   "outputs": [],
   "source": [
    "horizon[:10, 0:5].min(), horizon[:10, 0:5].max(), horizon[:10, 0:5].mean()"
   ]
  },
  {
   "cell_type": "markdown",
   "id": "e3c462b3",
   "metadata": {},
   "source": [
    "We can also show this more visually:"
   ]
  },
  {
   "cell_type": "code",
   "execution_count": null,
   "id": "68125f82",
   "metadata": {
    "tags": [
     "hide"
    ]
   },
   "outputs": [],
   "source": [
    "fig, ax = plt.subplots()\n",
    "\n",
    "ax.imshow(horizon[:300, 450:])"
   ]
  },
  {
   "cell_type": "code",
   "execution_count": null,
   "id": "b544e8a2",
   "metadata": {
    "tags": [
     "hide"
    ]
   },
   "outputs": [],
   "source": [
    "fig, ax = plt.subplots()\n",
    "\n",
    "ax.imshow(horizon[::30, ::25])"
   ]
  },
  {
   "cell_type": "code",
   "execution_count": null,
   "id": "55850ce8",
   "metadata": {
    "tags": [
     "hide"
    ]
   },
   "outputs": [],
   "source": [
    "fig, ax = plt.subplots()\n",
    "\n",
    "ax.imshow(horizon[500:600:5, 800::5])"
   ]
  },
  {
   "cell_type": "markdown",
   "id": "b85c4986",
   "metadata": {},
   "source": [
    "### Boolean Indexing\n",
    "\n",
    "We have seen how this can work for 1D data, and we can do the same sort of thing for 2D:"
   ]
  },
  {
   "cell_type": "code",
   "execution_count": null,
   "id": "7224f461",
   "metadata": {},
   "outputs": [],
   "source": []
  },
  {
   "cell_type": "code",
   "execution_count": null,
   "id": "4aea1dd3",
   "metadata": {
    "tags": [
     "hide"
    ]
   },
   "outputs": [],
   "source": [
    "horizon > 0.6"
   ]
  },
  {
   "cell_type": "code",
   "execution_count": null,
   "id": "fef61401",
   "metadata": {
    "tags": [
     "hide"
    ]
   },
   "outputs": [],
   "source": [
    "b_horizon = horizon > 0.6\n",
    "b_horizon.shape, horizon.shape"
   ]
  },
  {
   "cell_type": "code",
   "execution_count": null,
   "id": "1a6e24f9",
   "metadata": {},
   "outputs": [],
   "source": [
    "fig, ax = plt.subplots()\n",
    "\n",
    "im = ax.imshow(b_horizon)\n",
    "plt.colorbar(im)"
   ]
  },
  {
   "cell_type": "markdown",
   "id": "6b64239e",
   "metadata": {},
   "source": [
    "Having a boolean numpy array can let us do things to only part of our array, such as masking data:"
   ]
  },
  {
   "cell_type": "code",
   "execution_count": null,
   "id": "ed6f0fdf",
   "metadata": {},
   "outputs": [],
   "source": []
  },
  {
   "cell_type": "code",
   "execution_count": null,
   "id": "4852dfef",
   "metadata": {
    "tags": [
     "hide"
    ]
   },
   "outputs": [],
   "source": [
    "masked = horizon.copy()\n",
    "masked[horizon > 0.6] = np.nan"
   ]
  },
  {
   "cell_type": "code",
   "execution_count": null,
   "id": "3fa42add",
   "metadata": {},
   "outputs": [],
   "source": [
    "fig, ax = plt.subplots()\n",
    "im = ax.imshow(masked)\n",
    "plt.colorbar(im)"
   ]
  },
  {
   "cell_type": "markdown",
   "id": "989398fb",
   "metadata": {
    "tags": [
     "info"
    ]
   },
   "source": [
    "Combining binary tests on numpy array uses a different syntax to normal binary combinations. We need to use bitwise combinators, rather than the normal ones we have previously introduced:\n",
    "\n",
    "| Standard Operator | Bitwise Equivalent |                        Description                       |\n",
    "|:-----------------:|:------------------:|:--------------------------------------------------------:|\n",
    "|         or        |         \\|         |     True if element matches either of two conditions     |\n",
    "|        and        |          &         |      True if element matches both of two conditions      |\n",
    "|        xor        |          ^         | True if element matches in exactly one of two conditions |\n",
    "|        not        |          ~         |                   Invert boolean array                   |"
   ]
  },
  {
   "cell_type": "markdown",
   "id": "ad264471",
   "metadata": {
    "tags": [
     "exercise"
    ]
   },
   "source": [
    "### Exercise\n",
    "\n",
    "1. Any ideas?"
   ]
  },
  {
   "cell_type": "code",
   "execution_count": null,
   "id": "ccf9bf00",
   "metadata": {},
   "outputs": [],
   "source": [
    "# TODO: things"
   ]
  },
  {
   "cell_type": "markdown",
   "id": "383925b7",
   "metadata": {},
   "source": [
    "## More `imshow` options\n",
    "\n",
    "`imshow` is the standard way to view raster data using matplotlib. It has a number of options to facilitate that, so let us take a look at a couple of them.\n",
    "\n",
    "The default for `imshow` is to have the origin (0, 0) to the top-left, but we want it to be bottom left. We can do that by passing the argument `origin=lower` to `imshow`. We can also change the colour map with `cmap`:"
   ]
  },
  {
   "cell_type": "code",
   "execution_count": null,
   "id": "6f8416c3",
   "metadata": {},
   "outputs": [],
   "source": [
    "fig, ax = plt.subplots()\n",
    "\n",
    "im = ax.imshow(horizon, cmap='Greys',\n",
    "               origin='lower',\n",
    "              )\n",
    "plt.colorbar(im, ax=ax)"
   ]
  },
  {
   "cell_type": "markdown",
   "id": "f8cf5ae0",
   "metadata": {},
   "source": [
    "Colour maps are reversible by adding `_r` at the end of the name:"
   ]
  },
  {
   "cell_type": "code",
   "execution_count": null,
   "id": "34dcdf4a",
   "metadata": {},
   "outputs": [],
   "source": [
    "fig, ax = plt.subplots()\n",
    "\n",
    "im = ax.imshow(horizon, cmap='Greys_r',\n",
    "               origin='lower',\n",
    "              )\n",
    "plt.colorbar(im, ax=ax)"
   ]
  },
  {
   "cell_type": "markdown",
   "id": "b249624f",
   "metadata": {},
   "source": [
    "We can also make the plots aware of real-world co-ordinates, such as inline/xline numbers. We can do this with the `extents` argument, which is a list (or similar data structure) with elements in the order left, right, bottom, top. Note that this is not a true georeferencing of the data: it simply gets values for the corner points in a rectangular reference frame. If you require more than that, look into libraries like GDAL or xarray."
   ]
  },
  {
   "cell_type": "code",
   "execution_count": null,
   "id": "afc32e10",
   "metadata": {},
   "outputs": [],
   "source": [
    "fig, ax = plt.subplots(figsize=(10, 8))\n",
    "\n",
    "im = ax.imshow(horizon, cmap='Greys_r',\n",
    "               origin='lower',\n",
    "               extent=[300, 1250, 100, 750], # we need to get these from somewhere else\n",
    "              )\n",
    "plt.colorbar(im, ax=ax, shrink=0.7)"
   ]
  },
  {
   "cell_type": "markdown",
   "id": "df2bd198",
   "metadata": {},
   "source": [
    "We can also change the interpolation used. See [the docs](https://matplotlib.org/stable/gallery/images_contours_and_fields/interpolation_methods.html) for an overview."
   ]
  },
  {
   "cell_type": "code",
   "execution_count": null,
   "id": "33587f05",
   "metadata": {},
   "outputs": [],
   "source": [
    "fig, axs = plt.subplots(figsize=(12, 8), ncols=2)\n",
    "\n",
    "im1 = axs[0].imshow(horizon[100:150, 650:700],\n",
    "               origin='lower',\n",
    "               interpolation='none',\n",
    "              )\n",
    "axs[0].set_title('No Interpolation')\n",
    "\n",
    "im2 = axs[1].imshow(horizon[100:150, 650:700],\n",
    "               origin='lower',\n",
    "               interpolation='bicubic',\n",
    "              )\n",
    "axs[1].set_title('Bicubic Interpolation')"
   ]
  },
  {
   "cell_type": "markdown",
   "id": "8f23d3cd",
   "metadata": {},
   "source": [
    "## More dimensions\n",
    "\n",
    "The above concepts work for more than two dimensions. Numpy can handle up to 32 dimensions, which is hopefully enough for your use-case!\n",
    "\n",
    " We can take a look at a 3D survey, for example:"
   ]
  },
  {
   "cell_type": "code",
   "execution_count": null,
   "id": "77460d37",
   "metadata": {},
   "outputs": [],
   "source": [
    "import segyio\n",
    "\n",
    "# Load some seismic\n",
    "fname = spot.fetch('F3_8-bit_int.sgy')\n",
    "\n",
    "with segyio.open(fname) as s:\n",
    "    vol = segyio.cube(s)"
   ]
  },
  {
   "cell_type": "code",
   "execution_count": null,
   "id": "294956fc",
   "metadata": {},
   "outputs": [],
   "source": [
    "type(vol)"
   ]
  },
  {
   "cell_type": "code",
   "execution_count": null,
   "id": "908c233f",
   "metadata": {},
   "outputs": [],
   "source": [
    "vol.shape"
   ]
  },
  {
   "cell_type": "code",
   "execution_count": null,
   "id": "b4eb7f4b",
   "metadata": {},
   "outputs": [],
   "source": [
    "fig, ax = plt.subplots()\n",
    "\n",
    "ax.imshow(vol[:, :, 300])"
   ]
  },
  {
   "cell_type": "code",
   "execution_count": null,
   "id": "67651426",
   "metadata": {
    "tags": [
     "hide"
    ]
   },
   "outputs": [],
   "source": [
    "fig, ax = plt.subplots()\n",
    "\n",
    "ax.imshow(vol[..., 300])"
   ]
  },
  {
   "cell_type": "code",
   "execution_count": null,
   "id": "60180808",
   "metadata": {},
   "outputs": [],
   "source": []
  },
  {
   "cell_type": "markdown",
   "id": "e8dbd28f",
   "metadata": {
    "tags": [
     "exercise"
    ]
   },
   "source": [
    "### Exercise\n",
    "\n",
    "- Try plotting a vertical section through the data. You'll need to think about indexing into `vol`. It might look a little strange, but we can talk about how to fix that, so do not get too hung-up on it.\n",
    "- Can you make a histogram of the amplitudes? Tip: Use only one slice of the data and use the `ravel()` method on it to change it into a 1D array. If there are NaNs in the data, you may need to deal with them."
   ]
  },
  {
   "cell_type": "code",
   "execution_count": null,
   "id": "d24f8913",
   "metadata": {},
   "outputs": [],
   "source": []
  },
  {
   "cell_type": "code",
   "execution_count": null,
   "id": "342bdb79",
   "metadata": {
    "tags": [
     "hide"
    ]
   },
   "outputs": [],
   "source": [
    "fig, ax = plt.subplots(figsize=(6, 10))\n",
    "ax.imshow(vol[200, :, :].T)"
   ]
  },
  {
   "cell_type": "code",
   "execution_count": null,
   "id": "7a4dbbd0",
   "metadata": {},
   "outputs": [],
   "source": []
  },
  {
   "cell_type": "code",
   "execution_count": null,
   "id": "a8fbf06b",
   "metadata": {
    "tags": [
     "hide"
    ]
   },
   "outputs": [],
   "source": [
    "# The main trick is that you have to flatten the array:\n",
    "fig, ax = plt.subplots(figsize=(15, 3))\n",
    "n, bins, _ = ax.hist(vol[200, :, :].ravel(), bins=127, range=(-127, 127))\n",
    "# ax.set_yscale('log', nonpositive='clip')"
   ]
  }
 ],
 "metadata": {
  "celltoolbar": "Tags",
  "kernelspec": {
   "display_name": "geocomp",
   "language": "python",
   "name": "geocomp"
  },
  "language_info": {
   "codemirror_mode": {
    "name": "ipython",
    "version": 3
   },
   "file_extension": ".py",
   "mimetype": "text/x-python",
   "name": "python",
   "nbconvert_exporter": "python",
   "pygments_lexer": "ipython3",
   "version": "3.9.10"
  }
 },
 "nbformat": 4,
 "nbformat_minor": 5
}
