{
 "cells": [
  {
   "cell_type": "markdown",
   "id": "74429459",
   "metadata": {},
   "source": [
    "# An introduction to functions\n",
    "\n",
    "We have looked at 1D, 2D and 3D data, and along the way you have learned about `int`, `float`, `bool`, `str`, `list`, `dict` types as well as **mathematics** operations in python and some **plotting**, **indexing and slicing**, **loops and flow control**, now let's finally wrap it all together and write our own functions. They are the building blocks of most programs and help us avoid to repeat ourselves, they look like this:"
   ]
  },
  {
   "cell_type": "code",
   "execution_count": null,
   "id": "d36ff184",
   "metadata": {},
   "outputs": [],
   "source": []
  },
  {
   "cell_type": "code",
   "execution_count": null,
   "id": "28371309",
   "metadata": {
    "tags": [
     "hide"
    ]
   },
   "outputs": [],
   "source": [
    "sum([12, 43.5, 754])"
   ]
  },
  {
   "cell_type": "code",
   "execution_count": null,
   "id": "c0062b22",
   "metadata": {
    "tags": [
     "hide"
    ]
   },
   "outputs": [],
   "source": [
    "def add(a, b):\n",
    "    \"\"\"Adds two numbers!\"\"\"\n",
    "    result = a + b\n",
    "    return result"
   ]
  },
  {
   "cell_type": "markdown",
   "id": "6218a5bb",
   "metadata": {
    "tags": [
     "hide"
    ]
   },
   "source": [
    "We can 'call' (use) this function:"
   ]
  },
  {
   "cell_type": "code",
   "execution_count": null,
   "id": "cf983cba",
   "metadata": {},
   "outputs": [],
   "source": [
    "add(5, 87)"
   ]
  },
  {
   "cell_type": "markdown",
   "id": "b3bdbbbe",
   "metadata": {},
   "source": [
    "In general Python functions have the following pattern, in pseudocode:\n",
    "\n",
    "```python\n",
    "    def f(x):\n",
    "        \"\"\"Docstring.\"\"\"\n",
    "        y = <operations on x>\n",
    "        return y\n",
    "```\n",
    "This is analgous to defining the mathematical function $y = f(x)$.\n",
    "\n",
    "The idea is that you can organize your code using functions. Instead of just being a long series of instructions, your code can use re-usable blocks, jumping around from block to block.\n",
    "\n",
    "When you 'call' a function, by using its name and passing it any arguments (input) it needs, it returns its output to exactly the place it was called from.\n",
    "\n",
    "For example, instead of writing:\n",
    "\n",
    "```python\n",
    "    x = (xf - 32) * 9 / 5\n",
    "    y = (yf - 32) * 5 / 9\n",
    "    z = (zf - 32) * 5 / 9\n",
    "```  \n",
    "\n",
    "It is more readable and easier to maintain &mdash; and probably more correct! &mdash; if we do this:\n",
    "\n",
    "```python\n",
    "    def f2c(temp):\n",
    "        \"\"\"Convert F to C.\"\"\"\n",
    "        return (temp - 32) * 5 / 9\n",
    "```\n",
    "\n",
    "Now we can call the function:\n",
    "\n",
    "```\n",
    "    x = f2c(xf)\n",
    "    y = f2c(yf)\n",
    "    z = f2c(zf)\n",
    "```\n",
    "\n",
    "Better yet:\n",
    "\n",
    "```python\n",
    "    x, y, z = [f2c(t) for t in [xf, yf, zf]]\n",
    "```\n",
    "\n",
    "----\n",
    "\n",
    "\n",
    "## A simple function\n",
    "\n",
    "We'll start by defining a very simple function, implementing the [acoustic impedance](https://subsurfwiki.org/wiki/Impedance) equation:\n",
    "\n",
    "$$ Z = \\rho V_\\mathrm{P} $$"
   ]
  },
  {
   "cell_type": "code",
   "execution_count": null,
   "id": "f310371b",
   "metadata": {},
   "outputs": [],
   "source": []
  },
  {
   "cell_type": "code",
   "execution_count": null,
   "id": "0f3e9bf1",
   "metadata": {
    "tags": [
     "hide"
    ]
   },
   "outputs": [],
   "source": [
    "def impedance(rho, vp):\n",
    "    \"\"\"\n",
    "    Calculate the acoustic impedance of a rock, given Vp and rho.\n",
    "    \"\"\"\n",
    "    z = rho * vp\n",
    "    return z"
   ]
  },
  {
   "cell_type": "code",
   "execution_count": null,
   "id": "d6b4b3bf",
   "metadata": {},
   "outputs": [],
   "source": [
    "impedance(2300, 2500)"
   ]
  },
  {
   "cell_type": "markdown",
   "id": "8dc42bc6",
   "metadata": {},
   "source": [
    "Note that we do not have access to any of the variables inside the function."
   ]
  },
  {
   "cell_type": "code",
   "execution_count": null,
   "id": "7215c106",
   "metadata": {},
   "outputs": [],
   "source": [
    "z"
   ]
  },
  {
   "cell_type": "markdown",
   "id": "76b2be9f",
   "metadata": {},
   "source": [
    "Similarly, if the variable `z` already exists outside the function, it is unaffected by the function:"
   ]
  },
  {
   "cell_type": "code",
   "execution_count": null,
   "id": "4f853ec1",
   "metadata": {},
   "outputs": [],
   "source": [
    "z = 'Not even a number.'\n",
    "\n",
    "impedance(2400, 2100)\n",
    "\n",
    "print(z)"
   ]
  },
  {
   "cell_type": "markdown",
   "id": "c8ca308a",
   "metadata": {},
   "source": [
    "## Making a module\n",
    "\n",
    "Add your function to a new text file called `utils.py`, and save it in the current directory.\n",
    "\n",
    "Now we'll try importing that module into a new notebook. We'll do it together..."
   ]
  },
  {
   "cell_type": "markdown",
   "id": "947c013c",
   "metadata": {
    "tags": [
     "hide"
    ]
   },
   "source": [
    "### Instructor notes\n",
    "\n",
    "Now go to a new notebook and import the new function, then call it. Or go out to a terminal and do it from the interpreter.\n",
    "\n",
    "If you show them the docstring at this time, it's very cool.\n",
    "\n",
    "You can do it in this notebook, but it's not as instructive. (If you do it in this notebook, be sure to use `import utils`, not `from utils import impedance` because the latter is confusing given that we already have an existing `impedance` function defined in this notebook.)"
   ]
  },
  {
   "cell_type": "markdown",
   "id": "010b0639",
   "metadata": {
    "tags": [
     "exercise"
    ]
   },
   "source": [
    "### Exercise\n",
    "\n",
    "We want a function to compute acoustic velocity from slowness (aka travel time, or the reciprocal of velocity). For example, we might compute Vp from the DT log.\n",
    "\n",
    "Rearrange the following lines to create this function:"
   ]
  },
  {
   "cell_type": "code",
   "execution_count": null,
   "id": "9d6e63f8",
   "metadata": {},
   "outputs": [],
   "source": [
    "return vel\n",
    "vel = 1e6 / slow\n",
    "def vel_from_slow(slow):\n",
    "\"\"\"Velocity from slowness, given in μs per unit distance.\"\"\""
   ]
  },
  {
   "cell_type": "code",
   "execution_count": null,
   "id": "fdf64c3e",
   "metadata": {},
   "outputs": [],
   "source": [
    "# YOUR CODE HERE\n",
    "\n"
   ]
  },
  {
   "cell_type": "code",
   "execution_count": null,
   "id": "ec68ced2",
   "metadata": {
    "tags": [
     "hide"
    ]
   },
   "outputs": [],
   "source": [
    "def vel_from_slow(slow):\n",
    "    \"\"\"Velocity from slowness, given in μs per unit distance.\"\"\"\n",
    "    vel = 1e6 / slow\n",
    "    return vel"
   ]
  },
  {
   "cell_type": "markdown",
   "id": "75d98085",
   "metadata": {},
   "source": [
    "Use this to call the function:"
   ]
  },
  {
   "cell_type": "code",
   "execution_count": null,
   "id": "8071bede",
   "metadata": {},
   "outputs": [],
   "source": [
    "vel_from_slow(500)"
   ]
  },
  {
   "cell_type": "markdown",
   "id": "fce6ca68",
   "metadata": {},
   "source": [
    "You should get \n",
    "\n",
    "    2000.0"
   ]
  },
  {
   "cell_type": "markdown",
   "id": "2c37045c",
   "metadata": {
    "tags": [
     "exercise"
    ]
   },
   "source": [
    "### Exercise\n",
    "\n",
    "What happens if you pass a NumPy array to your function? Generate an array with:\n",
    "\n",
    "    import numpy as np\n",
    "    dt = np.array([450, 475, 550, 425])\n",
    "\n",
    "Then give `dt` to the `vel_from_slow` function. You should get an array of 4 numbers back:\n",
    "\n",
    "    array([2222.22222222, 2105.26315789, 1818.18181818, 2352.94117647])\n",
    "\n",
    "**Plot the velocity corresponding to all values of DT from 250 to 500. <a title=\"Use np.arange(250, 600) to generate the DT values, and plot vel_from_slow(dt) against it.\">Hover for hint.</a>**"
   ]
  },
  {
   "cell_type": "code",
   "execution_count": null,
   "id": "13ef790a",
   "metadata": {},
   "outputs": [],
   "source": [
    "import numpy as np\n",
    "# YOUR CODE HERE\n",
    "\n"
   ]
  },
  {
   "cell_type": "code",
   "execution_count": null,
   "id": "f77c7de6",
   "metadata": {
    "tags": [
     "hide"
    ]
   },
   "outputs": [],
   "source": [
    "dt = np.arange(200, 800)\n",
    "\n",
    "import matplotlib.pyplot as plt\n",
    "\n",
    "fig, ax = plt.subplots()\n",
    "ax.plot(dt, vel_from_slow(dt))\n",
    "\n",
    "# Optional annotation.\n",
    "ax.set_title('Velocity vs slowness')\n",
    "ax.set_xlabel('DT [µs/m]')\n",
    "ax.set_ylabel('Vp [m/s]')\n",
    "ax.grid(c='k', alpha=0.2)\n",
    "ax.axhline(1486, c='cyan')  # Water velocity."
   ]
  },
  {
   "cell_type": "markdown",
   "id": "4f8d2904",
   "metadata": {},
   "source": [
    "## Optional arguments and default values\n",
    "\n",
    "Remember `math.log()`? You can optionally pass the base of the logarithm; by default it is Euler's constant, e.\n",
    "\n",
    "We can do that in our functions too.\n",
    "\n",
    "Suppose we want to implement [Gardner's equation](https://www.subsurfwiki.org/wiki/Gardner%27s_equation):\n",
    "\n",
    "$$ \\rho = 310\\ V_\\mathrm{P}^{\\,0.25}\\ \\ \\mathrm{kg}/\\mathrm{m}^3 $$\n",
    "\n",
    "Let's go through this together:"
   ]
  },
  {
   "cell_type": "markdown",
   "id": "b01cd3ce",
   "metadata": {
    "tags": [
     "hide"
    ]
   },
   "source": [
    "### Instructor notes:\n",
    "\n",
    "Build up gradually:\n",
    "    \n",
    "- Implement Gardner's equation as a Python function.\n",
    "- Make the factor $\\alpha$ of 310 and the exponent $\\beta$ of 0.25 into arguments the user can change if they want to. I.e. give them default values.\n",
    "- How can you make this function accept a list of velocities?\n",
    "- Add this function to your `utils.py` file in the `/notebooks` folder."
   ]
  },
  {
   "cell_type": "code",
   "execution_count": null,
   "id": "af0eb157",
   "metadata": {},
   "outputs": [],
   "source": [
    "def gardner():\n",
    "    raise NotImplementedError"
   ]
  },
  {
   "cell_type": "markdown",
   "id": "896b61fd",
   "metadata": {},
   "source": [
    "The following cell should return **no outputs** if you function is written correctly:"
   ]
  },
  {
   "cell_type": "code",
   "execution_count": null,
   "id": "ab05b128",
   "metadata": {},
   "outputs": [],
   "source": [
    "np.testing.assert_almost_equal(gardner(2650), 2224.1965, decimal=4)"
   ]
  },
  {
   "cell_type": "markdown",
   "id": "653aebbd",
   "metadata": {},
   "source": [
    "## Multiple returns\n",
    "\n",
    "Functions can only return one thing, but we can pack multiple things into a tuple.\n",
    "\n",
    "If we pass different values to `alpha` and `beta` in our `gardner` function, we might want to know which values were used:"
   ]
  },
  {
   "cell_type": "code",
   "execution_count": null,
   "id": "9829121d",
   "metadata": {},
   "outputs": [],
   "source": [
    "def gardner():\n",
    "    \"\"\"Compute RHOB from Vp using Gardner's relation.\n",
    "    \n",
    "    Args:\n",
    "        vp    (float): P-wave velocity\n",
    "        alpha (float): scaler, default: 310\n",
    "        beta  (float): exponent, default: 0.25\n",
    "    \n",
    "    Returns:\n",
    "        rhob, alpha, beta (tuple):\n",
    "            the calculated rhob, the alpha and beta values\n",
    "            used\n",
    "    \n",
    "    Example\n",
    "    >>> gardner(2500)\n",
    "    2192.0310216782973, 310, 0.25\n",
    "    \"\"\"\n",
    "    raise NotImplementedError"
   ]
  },
  {
   "cell_type": "markdown",
   "id": "253e8531",
   "metadata": {},
   "source": [
    "The previous assertion should still work, but we need to unpack the return values now:"
   ]
  },
  {
   "cell_type": "code",
   "execution_count": null,
   "id": "38ed994a",
   "metadata": {},
   "outputs": [],
   "source": [
    "rhob, *_ = gardner(2650)\n",
    "np.testing.assert_almost_equal(rhob, 2224.1965, decimal=4)"
   ]
  },
  {
   "cell_type": "markdown",
   "id": "589797db",
   "metadata": {},
   "source": [
    "## `args` and `kwargs`\n",
    "\n",
    "This is a more advanced concept, but it's good to know about. We can write functions that take an arbitrary number of arguments, as well as arguments you give specific names to:"
   ]
  },
  {
   "cell_type": "code",
   "execution_count": null,
   "id": "2c5ff55c",
   "metadata": {},
   "outputs": [],
   "source": [
    "def add(*args):\n",
    "    print(args)\n",
    "    return sum(args)\n",
    "\n",
    "add(2, 3, 4, 5, 6, 7)"
   ]
  },
  {
   "cell_type": "markdown",
   "id": "c503ff25",
   "metadata": {},
   "source": [
    "We can mix this with an arbitrary number of positional and keyword arguments:"
   ]
  },
  {
   "cell_type": "code",
   "execution_count": null,
   "id": "0a3ff2d7",
   "metadata": {},
   "outputs": [],
   "source": [
    "def foo(x, y, *args):\n",
    "    \"\"\"\n",
    "    Print these things.\n",
    "    \"\"\"\n",
    "    print(x, y)\n",
    "    print(args)\n",
    "    return"
   ]
  },
  {
   "cell_type": "code",
   "execution_count": null,
   "id": "4ec5607a",
   "metadata": {},
   "outputs": [],
   "source": [
    "foo(2, 'this', 'that', 45)"
   ]
  },
  {
   "cell_type": "markdown",
   "id": "ca338677",
   "metadata": {},
   "source": [
    "The unnamed `args` are stored in a `tuple`, and this is what was printed out by `print(args)`.\n",
    "\n",
    "You can pass keyword arguments in the same way, with a slightly different syntax:"
   ]
  },
  {
   "cell_type": "code",
   "execution_count": null,
   "id": "355240c3",
   "metadata": {},
   "outputs": [],
   "source": [
    "def bar(x, y=1, **kwargs):\n",
    "    print(x, y)\n",
    "    print(kwargs)\n",
    "    return"
   ]
  },
  {
   "cell_type": "markdown",
   "id": "6ceca140",
   "metadata": {},
   "source": [
    "This time the unspecified `kwargs` are stored in a `dict`:"
   ]
  },
  {
   "cell_type": "code",
   "execution_count": null,
   "id": "c633f784",
   "metadata": {},
   "outputs": [],
   "source": [
    "bar(2, 'this', that='that', other=45)"
   ]
  },
  {
   "cell_type": "markdown",
   "id": "86117a57",
   "metadata": {},
   "source": [
    "You can create a `dict` of containing the keywords and values outside the function and pass it in. The `**kwargs` syntax unpacks the element of the dictionary for use inside the function:"
   ]
  },
  {
   "cell_type": "code",
   "execution_count": null,
   "id": "5b08bf41",
   "metadata": {},
   "outputs": [],
   "source": [
    "func_params = dict(param1='alpha', param2='beta', param3=99.0)\n",
    "\n",
    "func_params"
   ]
  },
  {
   "cell_type": "code",
   "execution_count": null,
   "id": "e3dbf5b4",
   "metadata": {},
   "outputs": [],
   "source": [
    "bar(2, **func_params)"
   ]
  },
  {
   "cell_type": "code",
   "execution_count": null,
   "id": "ce581a42",
   "metadata": {
    "tags": [
     "hide"
    ]
   },
   "outputs": [],
   "source": [
    "lineplot_params = {'xlabel': 'time (s)',\n",
    "                   'linewidth': 2,\n",
    "                   'color': '#DD1D21'}"
   ]
  },
  {
   "cell_type": "code",
   "execution_count": null,
   "id": "13d40fba",
   "metadata": {
    "tags": [
     "hide"
    ]
   },
   "outputs": [],
   "source": [
    "def my_awesome_plot(x, y, **kwargs):\n",
    "    \"\"\"A plot to showcase **kwargs.\"\"\"\n",
    "    label_text = kwargs.pop('xlabel') # we have to pop this off before passing into plot()\n",
    "    plt.title('Two sine waves')\n",
    "    plt.xlabel(label_text)\n",
    "    plt.ylabel('Signal')\n",
    "    plt.plot(x, y, **kwargs)\n",
    "    plt.scatter(x, y)\n",
    "    return None"
   ]
  },
  {
   "cell_type": "code",
   "execution_count": null,
   "id": "8f6f3727",
   "metadata": {
    "tags": [
     "hide"
    ]
   },
   "outputs": [],
   "source": [
    "x = np.arange(0, 10, 0.3)\n",
    "y = np.sin(10 * x) + np.sin(8 * x)\n",
    "my_awesome_plot(x, y, **lineplot_params)"
   ]
  },
  {
   "cell_type": "markdown",
   "id": "5f171d69",
   "metadata": {},
   "source": [
    "## Combining functions\n",
    "\n",
    "We have now seen the building blocks of functions, so it's time to go back to the initial plot Martin showed:\n",
    "\n",
    "<img src=\"./goal_graphic_1.png\" alt=\"Goal graphic\" width=\"500\" height=\"600\">\n",
    "\n",
    "It's worth looking at the [anatomy of a figure](https://matplotlib.org/stable/gallery/showcase/anatomy.html) in matplotlib to understand the building blocks we'll have to make."
   ]
  },
  {
   "cell_type": "code",
   "execution_count": null,
   "id": "d2a071b9",
   "metadata": {},
   "outputs": [],
   "source": [
    "# Write this function up-front\n",
    "# Then make the functions that will provide it's inputs?\n",
    "def make_goal_plot():\n",
    "    \"\"\"Create the final demo plot of seismic, map and well.\n",
    "    Args:\n",
    "        Either:Axs (matplotlib.Axes): one Ax for each of:\n",
    "                    Seismic section,\n",
    "                    2D map,\n",
    "                    2D zoomed area,\n",
    "                    Well plot\n",
    "        Or: seismic, il, xl, ts, well(s), curves\n",
    "    Kwargs:\n",
    "        ax_params\n",
    "                                \n",
    "    Returns:\n",
    "        fig, axs: the matplotlib figure and axes.\n",
    "    \"\"\"\n",
    "    raise NotImplementedError"
   ]
  },
  {
   "cell_type": "markdown",
   "id": "cd8633a1",
   "metadata": {
    "tags": [
     "hide"
    ]
   },
   "source": [
    "Load seismic\n",
    "\n",
    "maybe one function for each Ax?\n",
    "\n",
    "final function that calls those to make the entire plot\n",
    "\n",
    "write final function upfront with fct calls for other Ax functions\n",
    "write the first one get students to write the next two"
   ]
  },
  {
   "cell_type": "markdown",
   "id": "09f84ba2",
   "metadata": {},
   "source": [
    "In order to create the Axes that `make_goal_plot` need, we need to import some data as we did before and write some functions:"
   ]
  },
  {
   "cell_type": "code",
   "execution_count": null,
   "id": "9677a780",
   "metadata": {},
   "outputs": [],
   "source": [
    "import pooch\n",
    "import welly\n",
    "import segyio\n",
    "\n",
    "# Create a `~pooch.Pooch` instance to fetch data files.\n",
    "spot = pooch.create(path='./data_for_fcts', base_url=\"https://geocomp.s3.amazonaws.com/data/\",\n",
    "                    registry={\"F3_8-bit_int.sgy\": \"md5:cbde973eb6606da843f40aedf07793e4\",\n",
    "                              \"F3_horizon.npy\": \"md5:9ba4f498ba3e2dfebeaa739aeac68d04\",\n",
    "                              \"F3_Demo_0_FS4.dat\": None, })\n",
    "\n",
    "# Read a las file (can we not do this with pooch?)\n",
    "w, = welly.read_las('https://geocomp.s3.amazonaws.com/data/L-30.las', index='m')\n",
    "\n",
    "# Assign well data to names\n",
    "dt = w.data['DT'].values\n",
    "depth = w.data['DT'].basis\n",
    "rhob = w.data['RHOB'].values\n",
    "\n",
    "# Load some seismic\n",
    "fname = spot.fetch('F3_8-bit_int.sgy')\n",
    "\n",
    "with segyio.open(fname) as s:\n",
    "    vol = segyio.cube(s)"
   ]
  },
  {
   "cell_type": "code",
   "execution_count": null,
   "id": "f5c701b4",
   "metadata": {},
   "outputs": [],
   "source": []
  }
 ],
 "metadata": {
  "celltoolbar": "Tags",
  "kernelspec": {
   "display_name": "geocomp",
   "language": "python",
   "name": "geocomp"
  },
  "language_info": {
   "codemirror_mode": {
    "name": "ipython",
    "version": 3
   },
   "file_extension": ".py",
   "mimetype": "text/x-python",
   "name": "python",
   "nbconvert_exporter": "python",
   "pygments_lexer": "ipython3",
   "version": "3.9.7"
  }
 },
 "nbformat": 4,
 "nbformat_minor": 5
}
