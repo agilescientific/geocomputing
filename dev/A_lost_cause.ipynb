{
 "cells": [
  {
   "cell_type": "markdown",
   "id": "c44e2114",
   "metadata": {},
   "source": [
    "# A lost cause?\n",
    "\n",
    "**We'd like to predict drilling problems from some basic parameters about a well.**\n",
    "\n",
    "We'll have to be careful not to cheat: several of the known facts about a well (for example, the date TD was reached) might only be known after drilling, so would not be very useful as a predictor.\n",
    "\n",
    "We're going to use data from Norway: https://factpages.npd.no/en/wellbore/statistics/entryyear"
   ]
  },
  {
   "cell_type": "code",
   "execution_count": 1,
   "id": "121ddfdb",
   "metadata": {},
   "outputs": [],
   "source": [
    "url = (\"https://factpages.npd.no/ReportServer_npdpublic\"\n",
    "       \"?/FactPages/tableview/wellbore_exploration_all\"\n",
    "       \"&rs:Command=Render&rc:Toolbar=false&rc:Parameters=f\"\n",
    "       \"&IpAddress=not_used&CultureCode=en&rs:Format=CSV&Top100=false\")"
   ]
  },
  {
   "cell_type": "code",
   "execution_count": 2,
   "id": "03836442",
   "metadata": {},
   "outputs": [],
   "source": [
    "import pandas as pd\n",
    "\n",
    "df_orig = pd.read_csv(url)"
   ]
  },
  {
   "cell_type": "code",
   "execution_count": 3,
   "id": "992afd10",
   "metadata": {},
   "outputs": [
    {
     "data": {
      "text/html": [
       "<div>\n",
       "<style scoped>\n",
       "    .dataframe tbody tr th:only-of-type {\n",
       "        vertical-align: middle;\n",
       "    }\n",
       "\n",
       "    .dataframe tbody tr th {\n",
       "        vertical-align: top;\n",
       "    }\n",
       "\n",
       "    .dataframe thead th {\n",
       "        text-align: right;\n",
       "    }\n",
       "</style>\n",
       "<table border=\"1\" class=\"dataframe\">\n",
       "  <thead>\n",
       "    <tr style=\"text-align: right;\">\n",
       "      <th></th>\n",
       "      <th>wlbWellboreName</th>\n",
       "      <th>wlbWell</th>\n",
       "      <th>wlbDrillingOperator</th>\n",
       "      <th>wlbProductionLicence</th>\n",
       "      <th>wlbPurpose</th>\n",
       "      <th>wlbStatus</th>\n",
       "      <th>wlbContent</th>\n",
       "      <th>wlbWellType</th>\n",
       "      <th>wlbSubSea</th>\n",
       "      <th>wlbEntryDate</th>\n",
       "      <th>...</th>\n",
       "      <th>wlbNpdidWellbore</th>\n",
       "      <th>dscNpdidDiscovery</th>\n",
       "      <th>fldNpdidField</th>\n",
       "      <th>fclNpdidFacilityDrilling</th>\n",
       "      <th>wlbNpdidWellboreReclass</th>\n",
       "      <th>prlNpdidProductionLicence</th>\n",
       "      <th>wlbNpdidSiteSurvey</th>\n",
       "      <th>wlbDateUpdated</th>\n",
       "      <th>wlbDateUpdatedMax</th>\n",
       "      <th>datesyncNPD</th>\n",
       "    </tr>\n",
       "  </thead>\n",
       "  <tbody>\n",
       "    <tr>\n",
       "      <th>0</th>\n",
       "      <td>1/2-1</td>\n",
       "      <td>1/2-1</td>\n",
       "      <td>Phillips Petroleum Norsk AS</td>\n",
       "      <td>143</td>\n",
       "      <td>WILDCAT</td>\n",
       "      <td>P&amp;A</td>\n",
       "      <td>OIL</td>\n",
       "      <td>EXPLORATION</td>\n",
       "      <td>NO</td>\n",
       "      <td>20.03.1989</td>\n",
       "      <td>...</td>\n",
       "      <td>1382</td>\n",
       "      <td>43814.0</td>\n",
       "      <td>3437650.0</td>\n",
       "      <td>296245.0</td>\n",
       "      <td>0</td>\n",
       "      <td>21956.0</td>\n",
       "      <td>NaN</td>\n",
       "      <td>23.02.2021</td>\n",
       "      <td>22.08.2021</td>\n",
       "      <td>08.03.2022</td>\n",
       "    </tr>\n",
       "    <tr>\n",
       "      <th>1</th>\n",
       "      <td>1/2-2</td>\n",
       "      <td>1/2-2</td>\n",
       "      <td>Paladin Resources Norge AS</td>\n",
       "      <td>143 CS</td>\n",
       "      <td>WILDCAT</td>\n",
       "      <td>P&amp;A</td>\n",
       "      <td>OIL SHOWS</td>\n",
       "      <td>EXPLORATION</td>\n",
       "      <td>NO</td>\n",
       "      <td>14.12.2005</td>\n",
       "      <td>...</td>\n",
       "      <td>5192</td>\n",
       "      <td>NaN</td>\n",
       "      <td>NaN</td>\n",
       "      <td>278245.0</td>\n",
       "      <td>0</td>\n",
       "      <td>2424919.0</td>\n",
       "      <td>NaN</td>\n",
       "      <td>23.02.2021</td>\n",
       "      <td>03.10.2019</td>\n",
       "      <td>08.03.2022</td>\n",
       "    </tr>\n",
       "    <tr>\n",
       "      <th>2</th>\n",
       "      <td>1/3-1</td>\n",
       "      <td>1/3-1</td>\n",
       "      <td>A/S Norske Shell</td>\n",
       "      <td>011</td>\n",
       "      <td>WILDCAT</td>\n",
       "      <td>P&amp;A</td>\n",
       "      <td>GAS</td>\n",
       "      <td>EXPLORATION</td>\n",
       "      <td>NO</td>\n",
       "      <td>06.07.1968</td>\n",
       "      <td>...</td>\n",
       "      <td>154</td>\n",
       "      <td>43820.0</td>\n",
       "      <td>NaN</td>\n",
       "      <td>288604.0</td>\n",
       "      <td>0</td>\n",
       "      <td>20844.0</td>\n",
       "      <td>NaN</td>\n",
       "      <td>23.02.2021</td>\n",
       "      <td>22.08.2021</td>\n",
       "      <td>08.03.2022</td>\n",
       "    </tr>\n",
       "    <tr>\n",
       "      <th>3</th>\n",
       "      <td>1/3-2</td>\n",
       "      <td>1/3-2</td>\n",
       "      <td>A/S Norske Shell</td>\n",
       "      <td>011</td>\n",
       "      <td>WILDCAT</td>\n",
       "      <td>P&amp;A</td>\n",
       "      <td>DRY</td>\n",
       "      <td>EXPLORATION</td>\n",
       "      <td>NO</td>\n",
       "      <td>14.05.1969</td>\n",
       "      <td>...</td>\n",
       "      <td>165</td>\n",
       "      <td>NaN</td>\n",
       "      <td>NaN</td>\n",
       "      <td>288847.0</td>\n",
       "      <td>0</td>\n",
       "      <td>20844.0</td>\n",
       "      <td>NaN</td>\n",
       "      <td>23.02.2021</td>\n",
       "      <td>22.08.2021</td>\n",
       "      <td>08.03.2022</td>\n",
       "    </tr>\n",
       "    <tr>\n",
       "      <th>4</th>\n",
       "      <td>1/3-3</td>\n",
       "      <td>1/3-3</td>\n",
       "      <td>Elf Petroleum Norge AS</td>\n",
       "      <td>065</td>\n",
       "      <td>WILDCAT</td>\n",
       "      <td>P&amp;A</td>\n",
       "      <td>OIL</td>\n",
       "      <td>EXPLORATION</td>\n",
       "      <td>NO</td>\n",
       "      <td>22.08.1982</td>\n",
       "      <td>...</td>\n",
       "      <td>87</td>\n",
       "      <td>43826.0</td>\n",
       "      <td>1028599.0</td>\n",
       "      <td>288334.0</td>\n",
       "      <td>0</td>\n",
       "      <td>21316.0</td>\n",
       "      <td>NaN</td>\n",
       "      <td>23.02.2021</td>\n",
       "      <td>22.08.2021</td>\n",
       "      <td>08.03.2022</td>\n",
       "    </tr>\n",
       "  </tbody>\n",
       "</table>\n",
       "<p>5 rows × 87 columns</p>\n",
       "</div>"
      ],
      "text/plain": [
       "  wlbWellboreName wlbWell          wlbDrillingOperator wlbProductionLicence  \\\n",
       "0           1/2-1   1/2-1  Phillips Petroleum Norsk AS                 143    \n",
       "1           1/2-2   1/2-2   Paladin Resources Norge AS               143 CS   \n",
       "2           1/3-1   1/3-1             A/S Norske Shell                 011    \n",
       "3           1/3-2   1/3-2             A/S Norske Shell                 011    \n",
       "4           1/3-3   1/3-3       Elf Petroleum Norge AS                 065    \n",
       "\n",
       "  wlbPurpose wlbStatus wlbContent  wlbWellType wlbSubSea wlbEntryDate  ...  \\\n",
       "0    WILDCAT       P&A        OIL  EXPLORATION        NO   20.03.1989  ...   \n",
       "1    WILDCAT       P&A  OIL SHOWS  EXPLORATION        NO   14.12.2005  ...   \n",
       "2    WILDCAT       P&A        GAS  EXPLORATION        NO   06.07.1968  ...   \n",
       "3    WILDCAT       P&A        DRY  EXPLORATION        NO   14.05.1969  ...   \n",
       "4    WILDCAT       P&A        OIL  EXPLORATION        NO   22.08.1982  ...   \n",
       "\n",
       "  wlbNpdidWellbore dscNpdidDiscovery fldNpdidField fclNpdidFacilityDrilling  \\\n",
       "0             1382           43814.0     3437650.0                 296245.0   \n",
       "1             5192               NaN           NaN                 278245.0   \n",
       "2              154           43820.0           NaN                 288604.0   \n",
       "3              165               NaN           NaN                 288847.0   \n",
       "4               87           43826.0     1028599.0                 288334.0   \n",
       "\n",
       "  wlbNpdidWellboreReclass  prlNpdidProductionLicence wlbNpdidSiteSurvey  \\\n",
       "0                       0                    21956.0                NaN   \n",
       "1                       0                  2424919.0                NaN   \n",
       "2                       0                    20844.0                NaN   \n",
       "3                       0                    20844.0                NaN   \n",
       "4                       0                    21316.0                NaN   \n",
       "\n",
       "  wlbDateUpdated  wlbDateUpdatedMax  datesyncNPD  \n",
       "0     23.02.2021         22.08.2021   08.03.2022  \n",
       "1     23.02.2021         03.10.2019   08.03.2022  \n",
       "2     23.02.2021         22.08.2021   08.03.2022  \n",
       "3     23.02.2021         22.08.2021   08.03.2022  \n",
       "4     23.02.2021         22.08.2021   08.03.2022  \n",
       "\n",
       "[5 rows x 87 columns]"
      ]
     },
     "execution_count": 3,
     "metadata": {},
     "output_type": "execute_result"
    }
   ],
   "source": [
    "df_orig.head()"
   ]
  },
  {
   "cell_type": "markdown",
   "id": "417d7c94",
   "metadata": {},
   "source": [
    "There should be at least 2000 rows, and 87 columns."
   ]
  },
  {
   "cell_type": "code",
   "execution_count": null,
   "id": "3ca27c83",
   "metadata": {},
   "outputs": [],
   "source": []
  },
  {
   "cell_type": "code",
   "execution_count": 4,
   "id": "bc8b4854",
   "metadata": {
    "tags": [
     "hide"
    ]
   },
   "outputs": [
    {
     "data": {
      "text/plain": [
       "(2011, 87)"
      ]
     },
     "execution_count": 4,
     "metadata": {},
     "output_type": "execute_result"
    }
   ],
   "source": [
    "df_orig.shape"
   ]
  },
  {
   "cell_type": "markdown",
   "id": "cfbb04f0",
   "metadata": {},
   "source": [
    "## Data exploration"
   ]
  },
  {
   "cell_type": "markdown",
   "id": "b3355e98",
   "metadata": {
    "tags": [
     "exercise"
    ]
   },
   "source": [
    "#### EXERCISE\n",
    "\n",
    "Take a look at some of the columns in the data. Think about the following:\n",
    "\n",
    "- What should the target be?\n",
    "- Which columns might be useful?\n",
    "- Which columns might need to be transformed in some way to make them more useful?\n",
    "\n",
    "Pull out a few columns and transform them as needed."
   ]
  },
  {
   "cell_type": "code",
   "execution_count": null,
   "id": "d7a1ee6e",
   "metadata": {},
   "outputs": [],
   "source": [
    "# YOUR CODE HERE\n",
    "\n"
   ]
  },
  {
   "cell_type": "markdown",
   "id": "149635d3",
   "metadata": {
    "tags": [
     "hide"
    ]
   },
   "source": [
    "Might seem at first like 'drilling days' is the thing to go for, but ROP might be fairer, because drilling days depends strongly on the target. Comes down to what we're trying to do with the model.\n",
    "\n",
    "Useful columns include those in the `cols` variable below.\n",
    "\n",
    "Some columns contain information that does not vary, for example:\n",
    "\n",
    "- `wlbPurposePlanned`\n",
    "- `wlbMultilateral`\n",
    "\n",
    "UTMx and UTMy are tricky to reconcile because of UTM zones, beware! Lat and lon are safer, but nonlinear, especially far north.\n",
    "\n",
    "Things like year/month and deg/min/sec need to be turned into continuous numbers if they are to be used. Note that month is a useful feature on its own (as a proxy for the weather), but it might be smart to make a rotated version that is circular (otherwise December seems very different to January). I'm going to use Year (only, for historical time) and Month (for season) separately.\n",
    "\n",
    "Others could not be known ahead of time, eg the result of the well. Well temperature is arguable, you could  model it ahead of time, but how accurately?\n",
    "\n",
    "Still other features would be hard to make useful, eg `wlbDrillingOperator` (it's pretty clean, but it would need one-hot encoding, and companies like Equinor appear as about 5 different companies over time).\n",
    "\n",
    "**Could ask them and chat about encoding features like `wlbPurpose` (binary) vs `wlbDrillingOperator` (one-hot).**"
   ]
  },
  {
   "cell_type": "code",
   "execution_count": 5,
   "id": "7b2282a2",
   "metadata": {},
   "outputs": [
    {
     "data": {
      "text/plain": [
       "Index(['wlbWellboreName', 'wlbWell', 'wlbDrillingOperator',\n",
       "       'wlbProductionLicence', 'wlbPurpose', 'wlbStatus', 'wlbContent',\n",
       "       'wlbWellType', 'wlbSubSea', 'wlbEntryDate', 'wlbCompletionDate',\n",
       "       'wlbField', 'wlbDrillPermit', 'wlbDiscovery', 'wlbDiscoveryWellbore',\n",
       "       'wlbBottomHoleTemperature', 'wlbSiteSurvey', 'wlbSeismicLocation',\n",
       "       'wlbMaxInclation', 'wlbKellyBushElevation', 'wlbFinalVerticalDepth',\n",
       "       'wlbTotalDepth', 'wlbWaterDepth', 'wlbKickOffPoint', 'wlbAgeAtTd',\n",
       "       'wlbFormationAtTd', 'wlbMainArea', 'wlbDrillingFacility',\n",
       "       'wlbFacilityTypeDrilling', 'wlbDrillingFacilityFixedOrMoveable',\n",
       "       'wlbLicensingActivity', 'wlbMultilateral', 'wlbPurposePlanned',\n",
       "       'wlbEntryYear', 'wlbCompletionYear', 'wlbReclassFromWellbore',\n",
       "       'wlbReentryExplorationActivity', 'wlbPlotSymbol', 'wlbFormationWithHc1',\n",
       "       'wlbAgeWithHc1', 'wlbFormationWithHc2', 'wlbAgeWithHc2',\n",
       "       'wlbFormationWithHc3', 'wlbAgeWithHc3', 'wlbDrillingDays', 'wlbReentry',\n",
       "       'wlbLicenceTargetName', 'wlbPluggedAbandonDate', 'wlbPluggedDate',\n",
       "       'wlbGeodeticDatum', 'wlbNsDeg', 'wlbNsMin', 'wlbNsSec', 'wlbNsCode',\n",
       "       'wlbEwDeg', 'wlbEwMin', 'wlbEwSec', 'wlbEwCode', 'wlbNsDecDeg',\n",
       "       'wlbEwDesDeg', 'wlbNsUtm', 'wlbEwUtm', 'wlbUtmZone', 'wlbNamePart1',\n",
       "       'wlbNamePart2', 'wlbNamePart3', 'wlbNamePart4', 'wlbNamePart5',\n",
       "       'wlbNamePart6', 'wlbPressReleaseUrl', 'wlbFactPageUrl', 'wlbFactMapUrl',\n",
       "       'wlbDiskosWellboreType', 'wlbDiskosWellboreParent', 'wlbWdssQcDate',\n",
       "       'wlbReleasedDate', 'wlbDateReclass', 'wlbNpdidWellbore',\n",
       "       'dscNpdidDiscovery', 'fldNpdidField', 'fclNpdidFacilityDrilling',\n",
       "       'wlbNpdidWellboreReclass', 'prlNpdidProductionLicence',\n",
       "       'wlbNpdidSiteSurvey', 'wlbDateUpdated', 'wlbDateUpdatedMax',\n",
       "       'datesyncNPD'],\n",
       "      dtype='object')"
      ]
     },
     "execution_count": 5,
     "metadata": {},
     "output_type": "execute_result"
    }
   ],
   "source": [
    "df_orig.columns"
   ]
  },
  {
   "cell_type": "code",
   "execution_count": 6,
   "id": "a82a6e5b",
   "metadata": {},
   "outputs": [],
   "source": [
    "# Seem useful...\n",
    "cols = [\n",
    "    'wlbWell',\n",
    "    'wlbDrillingFacilityFixedOrMoveable',  # Moveable, Fixed\n",
    "    'wlbPurpose',  # Wildcat, Appraisal\n",
    "    'wlbEntryDate',  # Split into month, year features\n",
    "    'wlbEwDeg', 'wlbEwMin', 'wlbEwSec',\n",
    "    'wlbNsDeg', 'wlbNsMin', 'wlbNsSec',\n",
    "    'wlbKellyBushElevation',\n",
    "    'wlbTotalDepth',\n",
    "    'wlbWaterDepth',\n",
    "    'wlbMaxInclation',\n",
    "    'wlbBottomHoleTemperature',\n",
    "    'wlbAgeAtTd',\n",
    "    'wlbFactPageUrl', # Nice to have\n",
    "    'wlbDrillingDays',  # Target\n",
    "]\n",
    "df = df_orig[cols]\n",
    "df = df.dropna(axis=0)"
   ]
  },
  {
   "cell_type": "code",
   "execution_count": 8,
   "id": "d3b5901c",
   "metadata": {
    "tags": [
     "hide"
    ]
   },
   "outputs": [
    {
     "data": {
      "text/plain": [
       "[<matplotlib.lines.Line2D at 0x7fa7f7d1a820>]"
      ]
     },
     "execution_count": 8,
     "metadata": {},
     "output_type": "execute_result"
    },
    {
     "data": {
      "image/png": "[encoded data removed]",
      "text/plain": [
       "<Figure size 432x288 with 1 Axes>"
      ]
     },
     "metadata": {
      "needs_background": "light"
     },
     "output_type": "display_data"
    }
   ],
   "source": [
    "import matplotlib.pyplot as plt\n",
    "\n",
    "def month_transformer(m):\n",
    "    \"\"\"\n",
    "    Make a 'season' proxy, circular version of month.\n",
    "    Quick and dirty, not vectorized.\n",
    "    \"\"\"\n",
    "    return m if m < 7 else 13 - m\n",
    "\n",
    "plt.plot([month_transformer(m) for m in range(1, 13)])"
   ]
  },
  {
   "cell_type": "markdown",
   "id": "1861a0c0",
   "metadata": {
    "tags": [
     "hide"
    ]
   },
   "source": [
    "Do some feature engineering:"
   ]
  },
  {
   "cell_type": "code",
   "execution_count": 9,
   "id": "637384d1",
   "metadata": {
    "tags": [
     "hide"
    ]
   },
   "outputs": [
    {
     "data": {
      "text/html": [
       "<div>\n",
       "<style scoped>\n",
       "    .dataframe tbody tr th:only-of-type {\n",
       "        vertical-align: middle;\n",
       "    }\n",
       "\n",
       "    .dataframe tbody tr th {\n",
       "        vertical-align: top;\n",
       "    }\n",
       "\n",
       "    .dataframe thead th {\n",
       "        text-align: right;\n",
       "    }\n",
       "</style>\n",
       "<table border=\"1\" class=\"dataframe\">\n",
       "  <thead>\n",
       "    <tr style=\"text-align: right;\">\n",
       "      <th></th>\n",
       "      <th>wlbWell</th>\n",
       "      <th>wlbDrillingFacilityFixedOrMoveable</th>\n",
       "      <th>wlbPurpose</th>\n",
       "      <th>wlbEntryDate</th>\n",
       "      <th>wlbEwDeg</th>\n",
       "      <th>wlbEwMin</th>\n",
       "      <th>wlbEwSec</th>\n",
       "      <th>wlbNsDeg</th>\n",
       "      <th>wlbNsMin</th>\n",
       "      <th>wlbNsSec</th>\n",
       "      <th>...</th>\n",
       "      <th>wlbAgeAtTd</th>\n",
       "      <th>wlbFactPageUrl</th>\n",
       "      <th>wlbDrillingDays</th>\n",
       "      <th>Year</th>\n",
       "      <th>Month</th>\n",
       "      <th>Wildcat</th>\n",
       "      <th>Platform</th>\n",
       "      <th>Lat</th>\n",
       "      <th>Lon</th>\n",
       "      <th>ROP</th>\n",
       "    </tr>\n",
       "  </thead>\n",
       "  <tbody>\n",
       "    <tr>\n",
       "      <th>0</th>\n",
       "      <td>1/2-1</td>\n",
       "      <td>MOVEABLE</td>\n",
       "      <td>WILDCAT</td>\n",
       "      <td>20.03.1989</td>\n",
       "      <td>2</td>\n",
       "      <td>28</td>\n",
       "      <td>35.70</td>\n",
       "      <td>56</td>\n",
       "      <td>53</td>\n",
       "      <td>15.07</td>\n",
       "      <td>...</td>\n",
       "      <td>CAMPANIAN</td>\n",
       "      <td>https://factpages.npd.no/factpages/default.asp...</td>\n",
       "      <td>77</td>\n",
       "      <td>1989</td>\n",
       "      <td>3</td>\n",
       "      <td>1</td>\n",
       "      <td>0</td>\n",
       "      <td>56.887519</td>\n",
       "      <td>2.476583</td>\n",
       "      <td>45.194805</td>\n",
       "    </tr>\n",
       "    <tr>\n",
       "      <th>1</th>\n",
       "      <td>1/2-2</td>\n",
       "      <td>MOVEABLE</td>\n",
       "      <td>WILDCAT</td>\n",
       "      <td>14.12.2005</td>\n",
       "      <td>2</td>\n",
       "      <td>29</td>\n",
       "      <td>47.66</td>\n",
       "      <td>56</td>\n",
       "      <td>59</td>\n",
       "      <td>32.00</td>\n",
       "      <td>...</td>\n",
       "      <td>PALEOCENE</td>\n",
       "      <td>https://factpages.npd.no/factpages/default.asp...</td>\n",
       "      <td>51</td>\n",
       "      <td>2005</td>\n",
       "      <td>1</td>\n",
       "      <td>1</td>\n",
       "      <td>0</td>\n",
       "      <td>56.992222</td>\n",
       "      <td>2.496572</td>\n",
       "      <td>65.098039</td>\n",
       "    </tr>\n",
       "    <tr>\n",
       "      <th>2</th>\n",
       "      <td>1/3-1</td>\n",
       "      <td>MOVEABLE</td>\n",
       "      <td>WILDCAT</td>\n",
       "      <td>06.07.1968</td>\n",
       "      <td>2</td>\n",
       "      <td>51</td>\n",
       "      <td>5.00</td>\n",
       "      <td>56</td>\n",
       "      <td>51</td>\n",
       "      <td>21.00</td>\n",
       "      <td>...</td>\n",
       "      <td>LATE PERMIAN</td>\n",
       "      <td>https://factpages.npd.no/factpages/default.asp...</td>\n",
       "      <td>129</td>\n",
       "      <td>1968</td>\n",
       "      <td>6</td>\n",
       "      <td>1</td>\n",
       "      <td>0</td>\n",
       "      <td>56.855833</td>\n",
       "      <td>2.851389</td>\n",
       "      <td>37.054264</td>\n",
       "    </tr>\n",
       "    <tr>\n",
       "      <th>3</th>\n",
       "      <td>1/3-2</td>\n",
       "      <td>MOVEABLE</td>\n",
       "      <td>WILDCAT</td>\n",
       "      <td>14.05.1969</td>\n",
       "      <td>2</td>\n",
       "      <td>45</td>\n",
       "      <td>0.00</td>\n",
       "      <td>56</td>\n",
       "      <td>56</td>\n",
       "      <td>10.00</td>\n",
       "      <td>...</td>\n",
       "      <td>EARLY CRETACEOUS</td>\n",
       "      <td>https://factpages.npd.no/factpages/default.asp...</td>\n",
       "      <td>75</td>\n",
       "      <td>1969</td>\n",
       "      <td>5</td>\n",
       "      <td>1</td>\n",
       "      <td>0</td>\n",
       "      <td>56.936111</td>\n",
       "      <td>2.750000</td>\n",
       "      <td>55.973333</td>\n",
       "    </tr>\n",
       "    <tr>\n",
       "      <th>4</th>\n",
       "      <td>1/3-3</td>\n",
       "      <td>MOVEABLE</td>\n",
       "      <td>WILDCAT</td>\n",
       "      <td>22.08.1982</td>\n",
       "      <td>2</td>\n",
       "      <td>58</td>\n",
       "      <td>54.05</td>\n",
       "      <td>56</td>\n",
       "      <td>57</td>\n",
       "      <td>8.56</td>\n",
       "      <td>...</td>\n",
       "      <td>LATE PERMIAN</td>\n",
       "      <td>https://factpages.npd.no/factpages/default.asp...</td>\n",
       "      <td>215</td>\n",
       "      <td>1982</td>\n",
       "      <td>5</td>\n",
       "      <td>1</td>\n",
       "      <td>0</td>\n",
       "      <td>56.952378</td>\n",
       "      <td>2.981681</td>\n",
       "      <td>22.246512</td>\n",
       "    </tr>\n",
       "  </tbody>\n",
       "</table>\n",
       "<p>5 rows × 25 columns</p>\n",
       "</div>"
      ],
      "text/plain": [
       "  wlbWell wlbDrillingFacilityFixedOrMoveable wlbPurpose wlbEntryDate  \\\n",
       "0   1/2-1                           MOVEABLE    WILDCAT   20.03.1989   \n",
       "1   1/2-2                           MOVEABLE    WILDCAT   14.12.2005   \n",
       "2   1/3-1                           MOVEABLE    WILDCAT   06.07.1968   \n",
       "3   1/3-2                           MOVEABLE    WILDCAT   14.05.1969   \n",
       "4   1/3-3                           MOVEABLE    WILDCAT   22.08.1982   \n",
       "\n",
       "   wlbEwDeg  wlbEwMin  wlbEwSec  wlbNsDeg  wlbNsMin  wlbNsSec  ...  \\\n",
       "0         2        28     35.70        56        53     15.07  ...   \n",
       "1         2        29     47.66        56        59     32.00  ...   \n",
       "2         2        51      5.00        56        51     21.00  ...   \n",
       "3         2        45      0.00        56        56     10.00  ...   \n",
       "4         2        58     54.05        56        57      8.56  ...   \n",
       "\n",
       "             wlbAgeAtTd                                     wlbFactPageUrl  \\\n",
       "0  CAMPANIAN             https://factpages.npd.no/factpages/default.asp...   \n",
       "1  PALEOCENE             https://factpages.npd.no/factpages/default.asp...   \n",
       "2  LATE PERMIAN          https://factpages.npd.no/factpages/default.asp...   \n",
       "3  EARLY CRETACEOUS      https://factpages.npd.no/factpages/default.asp...   \n",
       "4  LATE PERMIAN          https://factpages.npd.no/factpages/default.asp...   \n",
       "\n",
       "   wlbDrillingDays  Year  Month Wildcat Platform        Lat       Lon  \\\n",
       "0               77  1989      3       1        0  56.887519  2.476583   \n",
       "1               51  2005      1       1        0  56.992222  2.496572   \n",
       "2              129  1968      6       1        0  56.855833  2.851389   \n",
       "3               75  1969      5       1        0  56.936111  2.750000   \n",
       "4              215  1982      5       1        0  56.952378  2.981681   \n",
       "\n",
       "         ROP  \n",
       "0  45.194805  \n",
       "1  65.098039  \n",
       "2  37.054264  \n",
       "3  55.973333  \n",
       "4  22.246512  \n",
       "\n",
       "[5 rows x 25 columns]"
      ]
     },
     "execution_count": 9,
     "metadata": {},
     "output_type": "execute_result"
    }
   ],
   "source": [
    "# Date as year and month.\n",
    "df['Year'] = [int(s.split('.')[-1]) for s in df.wlbEntryDate]\n",
    "months = [int(s.split('.')[-2]) for s in df.wlbEntryDate]\n",
    "df['Month'] = [month_transformer(m) for m in months]\n",
    "\n",
    "# Binarize.\n",
    "df['Wildcat'] = (df.wlbPurpose == 'WILDCAT').astype(int)\n",
    "df['Platform'] = (df.wlbDrillingFacilityFixedOrMoveable == 'FIXED').astype(int)\n",
    "\n",
    "# Lat-lon as decimals.\n",
    "df['Lat'] = df.wlbNsDeg + df.wlbNsMin/60 + df.wlbNsSec/3600\n",
    "df['Lon'] = df.wlbEwDeg + df.wlbEwMin/60 + df.wlbEwSec/3600\n",
    "\n",
    "# Compute ROP instead of total time, m per day.\n",
    "drilled = df.wlbTotalDepth - df.wlbKellyBushElevation - df.wlbWaterDepth\n",
    "df['ROP'] = drilled / df.wlbDrillingDays\n",
    "\n",
    "# Rename some things.\n",
    "cols = {\n",
    "    'wlbKellyBushElevation': 'KB',\n",
    "    'wlbWaterDepth': 'WD',\n",
    "    'wlbMaxInclation': 'Inclination',\n",
    "}\n",
    "df = df.rename(columns=cols)\n",
    "\n",
    "df.head()"
   ]
  },
  {
   "cell_type": "markdown",
   "id": "dd3f1630",
   "metadata": {
    "tags": [
     "hide"
    ]
   },
   "source": [
    "We note that the log of the ROP may be more predictable:"
   ]
  },
  {
   "cell_type": "code",
   "execution_count": 14,
   "id": "72b78c10",
   "metadata": {
    "tags": [
     "hide"
    ]
   },
   "outputs": [
    {
     "data": {
      "text/plain": [
       "<seaborn.axisgrid.FacetGrid at 0x7fa7f4a53880>"
      ]
     },
     "execution_count": 14,
     "metadata": {},
     "output_type": "execute_result"
    },
    {
     "data": {
      "image/png": "[encoded data removed]",
      "text/plain": [
       "<Figure size 360x360 with 1 Axes>"
      ]
     },
     "metadata": {
      "needs_background": "light"
     },
     "output_type": "display_data"
    }
   ],
   "source": [
    "import seaborn as sns\n",
    "import numpy as np\n",
    "\n",
    "sns.displot(np.log(df.ROP))"
   ]
  },
  {
   "cell_type": "markdown",
   "id": "30340a32",
   "metadata": {
    "tags": [
     "hide"
    ]
   },
   "source": [
    "Rather than transforming the target itself (which is fiddly), we'll transform it using `sklearn` later."
   ]
  },
  {
   "cell_type": "markdown",
   "id": "c4964dd9",
   "metadata": {
    "tags": [
     "hide"
    ]
   },
   "source": [
    "Check some feature distributions etc."
   ]
  },
  {
   "cell_type": "code",
   "execution_count": 15,
   "id": "9391a82b",
   "metadata": {
    "tags": [
     "hide"
    ]
   },
   "outputs": [
    {
     "data": {
      "text/plain": [
       "<seaborn.axisgrid.FacetGrid at 0x7fa7f48d0520>"
      ]
     },
     "execution_count": 15,
     "metadata": {},
     "output_type": "execute_result"
    },
    {
     "data": {
      "image/png": "[encoded data removed]",
      "text/plain": [
       "<Figure size 360x360 with 1 Axes>"
      ]
     },
     "metadata": {
      "needs_background": "light"
     },
     "output_type": "display_data"
    }
   ],
   "source": [
    "sns.displot(df.Lat)"
   ]
  },
  {
   "cell_type": "code",
   "execution_count": 16,
   "id": "58dc2eb1",
   "metadata": {
    "tags": [
     "hide"
    ]
   },
   "outputs": [
    {
     "data": {
      "text/plain": [
       "<seaborn.axisgrid.FacetGrid at 0x7fa7f49b2e50>"
      ]
     },
     "execution_count": 16,
     "metadata": {},
     "output_type": "execute_result"
    },
    {
     "data": {
      "image/png": "[encoded data removed]",
      "text/plain": [
       "<Figure size 360x360 with 1 Axes>"
      ]
     },
     "metadata": {
      "needs_background": "light"
     },
     "output_type": "display_data"
    }
   ],
   "source": [
    "sns.displot(df.Year)"
   ]
  },
  {
   "cell_type": "code",
   "execution_count": 17,
   "id": "233eed58",
   "metadata": {
    "tags": [
     "hide"
    ]
   },
   "outputs": [
    {
     "data": {
      "text/plain": [
       "<seaborn.axisgrid.FacetGrid at 0x7fa7f48de6a0>"
      ]
     },
     "execution_count": 17,
     "metadata": {},
     "output_type": "execute_result"
    },
    {
     "data": {
      "image/png": "[encoded data removed]",
      "text/plain": [
       "<Figure size 360x360 with 1 Axes>"
      ]
     },
     "metadata": {
      "needs_background": "light"
     },
     "output_type": "display_data"
    }
   ],
   "source": [
    "sns.displot(df.Month)"
   ]
  },
  {
   "cell_type": "code",
   "execution_count": 18,
   "id": "8a2eea8c",
   "metadata": {
    "tags": [
     "hide"
    ]
   },
   "outputs": [
    {
     "data": {
      "text/plain": [
       "<seaborn.axisgrid.FacetGrid at 0x7fa7f47be910>"
      ]
     },
     "execution_count": 18,
     "metadata": {},
     "output_type": "execute_result"
    },
    {
     "data": {
      "image/png": "[encoded data removed]",
      "text/plain": [
       "<Figure size 360x360 with 1 Axes>"
      ]
     },
     "metadata": {
      "needs_background": "light"
     },
     "output_type": "display_data"
    }
   ],
   "source": [
    "sns.displot(df.WD)"
   ]
  },
  {
   "cell_type": "markdown",
   "id": "2a6c470c",
   "metadata": {
    "tags": [
     "hide"
    ]
   },
   "source": [
    "The model does quite a bit better on deep-water wells. Conversely, if you limit it to only shallow wells, the model is very bad!"
   ]
  },
  {
   "cell_type": "code",
   "execution_count": 19,
   "id": "373c2852",
   "metadata": {
    "tags": [
     "hide"
    ]
   },
   "outputs": [],
   "source": [
    "# df = df.loc[df.WD > 500]"
   ]
  },
  {
   "cell_type": "markdown",
   "id": "464a5d8f",
   "metadata": {},
   "source": [
    "## Try a model"
   ]
  },
  {
   "cell_type": "markdown",
   "id": "9d39365c",
   "metadata": {
    "tags": [
     "exercise"
    ]
   },
   "source": [
    "### EXERCISE\n",
    "\n",
    "Make `X` and `y` from the dataframe, then split them into `train`, `val`, and `test` datasets. Use at least 80% of the data for training the model."
   ]
  },
  {
   "cell_type": "code",
   "execution_count": 20,
   "id": "414b477c",
   "metadata": {},
   "outputs": [],
   "source": [
    "# YOUR CODE HERE\n",
    "\n"
   ]
  },
  {
   "cell_type": "code",
   "execution_count": 21,
   "id": "db4863e9",
   "metadata": {
    "tags": [
     "hide"
    ]
   },
   "outputs": [],
   "source": [
    "features = [\n",
    "    'Year', 'Month',\n",
    "    'Wildcat', 'Platform',\n",
    "    'Lat', 'Lon',\n",
    "    'WD', 'Inclination',\n",
    "]\n",
    "X = df[features].values\n",
    "y = df['ROP'].values"
   ]
  },
  {
   "cell_type": "code",
   "execution_count": 22,
   "id": "000a163c",
   "metadata": {
    "tags": [
     "hide"
    ]
   },
   "outputs": [
    {
     "data": {
      "text/plain": [
       "((1517, 8), (190, 8), (190, 8))"
      ]
     },
     "execution_count": 22,
     "metadata": {},
     "output_type": "execute_result"
    }
   ],
   "source": [
    "from sklearn.model_selection import train_test_split\n",
    "\n",
    "X_train, X_, y_train, y_ = train_test_split(X, y, test_size=0.2, random_state=13)\n",
    "X_val, X_test, y_val, y_test = train_test_split(X_, y_, test_size=0.5, random_state=13)\n",
    "\n",
    "X_train.shape, X_val.shape, X_test.shape"
   ]
  },
  {
   "cell_type": "markdown",
   "id": "56fdcc80",
   "metadata": {
    "tags": [
     "hide"
    ]
   },
   "source": [
    "It's probably a good idea to check some distributions against each other at this point."
   ]
  },
  {
   "cell_type": "markdown",
   "id": "139b8212",
   "metadata": {
    "tags": [
     "exercise"
    ]
   },
   "source": [
    "### EXERCISE\n",
    "\n",
    "Try fitting a model to the data. For example, you can try:\n",
    "\n",
    "- `RandomForestRegressor`\n",
    "- `GradientBoostingRegressor`\n",
    "- `KNeighborsRegressor`\n",
    "- `Ridge`\n",
    "- `MLPRegressor`"
   ]
  },
  {
   "cell_type": "code",
   "execution_count": 23,
   "id": "e2c6e84a",
   "metadata": {},
   "outputs": [],
   "source": [
    "# YOUR CODE HERE\n",
    "\n"
   ]
  },
  {
   "cell_type": "code",
   "execution_count": 24,
   "id": "84846eae",
   "metadata": {
    "tags": [
     "hide"
    ]
   },
   "outputs": [
    {
     "name": "stderr",
     "output_type": "stream",
     "text": [
      "/home/matt/miniconda3/envs/geoml/lib/python3.9/site-packages/sklearn/neural_network/_multilayer_perceptron.py:614: ConvergenceWarning: Stochastic Optimizer: Maximum iterations (500) reached and the optimization hasn't converged yet.\n",
      "  warnings.warn(\n"
     ]
    },
    {
     "data": {
      "text/plain": [
       "Pipeline(steps=[('standardscaler', StandardScaler()),\n",
       "                ('transformedtargetregressor',\n",
       "                 TransformedTargetRegressor(func=<ufunc 'log'>,\n",
       "                                            inverse_func=<ufunc 'exp'>,\n",
       "                                            regressor=VotingRegressor(estimators=[('gb',\n",
       "                                                                                   GradientBoostingRegressor(max_depth=7,\n",
       "                                                                                                             random_state=1)),\n",
       "                                                                                  ('rf',\n",
       "                                                                                   RandomForestRegressor(max_depth=7,\n",
       "                                                                                                         random_state=1)),\n",
       "                                                                                  ('lr',\n",
       "                                                                                   Ridge()),\n",
       "                                                                                  ('mlp',\n",
       "                                                                                   MLPRegressor(hidden_layer_sizes=[16,\n",
       "                                                                                                                    16],\n",
       "                                                                                                max_iter=500)),\n",
       "                                                                                  ('knr',\n",
       "                                                                                   KNeighborsRegressor())])))])"
      ]
     },
     "execution_count": 24,
     "metadata": {},
     "output_type": "execute_result"
    }
   ],
   "source": [
    "from sklearn.pipeline import make_pipeline\n",
    "from sklearn.preprocessing import StandardScaler\n",
    "\n",
    "from sklearn.ensemble import RandomForestRegressor\n",
    "from sklearn.ensemble import GradientBoostingRegressor\n",
    "from sklearn.ensemble import VotingRegressor\n",
    "from sklearn.neighbors import KNeighborsRegressor\n",
    "from sklearn.neural_network import MLPRegressor\n",
    "from sklearn.linear_model import Ridge\n",
    "from sklearn.dummy import DummyRegressor\n",
    "from sklearn.compose import TransformedTargetRegressor\n",
    "\n",
    "# We can choose a regressor.\n",
    "reg = RandomForestRegressor(max_depth=8, n_estimators=200, random_state=42)\n",
    "# reg = GradientBoostingRegressor(max_depth=8, n_estimators=200, random_state=42)\n",
    "# reg = MLPRegressor(hidden_layer_sizes=[16, 16])\n",
    "# reg = Ridge()\n",
    "# reg = DummyRegressor()\n",
    "\n",
    "# Or we can pour several estimators into a voting regressor.\n",
    "reg1 = GradientBoostingRegressor(max_depth=7, random_state=1)\n",
    "reg2 = RandomForestRegressor(max_depth=7, random_state=1)\n",
    "reg3 = Ridge()\n",
    "reg4 = MLPRegressor(hidden_layer_sizes=[16, 16], max_iter=500)\n",
    "reg5 = KNeighborsRegressor()\n",
    "ereg = VotingRegressor(estimators=[('gb', reg1), ('rf', reg2), ('lr', reg3), ('mlp', reg4), ('knr', reg5)])\n",
    "\n",
    "# We can use this with any transformer, or a function+inverse.\n",
    "clf = TransformedTargetRegressor(regressor=ereg,\n",
    "                                 func=np.log,\n",
    "                                 inverse_func=np.exp\n",
    "                                 )\n",
    "\n",
    "model = make_pipeline(StandardScaler(), clf)\n",
    "\n",
    "model.fit(X_train, y_train)"
   ]
  },
  {
   "cell_type": "code",
   "execution_count": 25,
   "id": "6ce89d12",
   "metadata": {
    "tags": [
     "hide"
    ]
   },
   "outputs": [
    {
     "name": "stdout",
     "output_type": "stream",
     "text": [
      "0.3135955318725827\n",
      "50.40157287719724\n"
     ]
    }
   ],
   "source": [
    "from sklearn.metrics import r2_score, mean_squared_error\n",
    "\n",
    "y_pred = model.predict(X_val)\n",
    "\n",
    "print(r2_score(y_val, y_pred))\n",
    "print(np.sqrt(mean_squared_error(y_val, y_pred)))"
   ]
  },
  {
   "cell_type": "code",
   "execution_count": 26,
   "id": "3943be79",
   "metadata": {
    "tags": [
     "hide"
    ]
   },
   "outputs": [
    {
     "data": {
      "text/plain": [
       "[<matplotlib.lines.Line2D at 0x7fa7f03144c0>]"
      ]
     },
     "execution_count": 26,
     "metadata": {},
     "output_type": "execute_result"
    },
    {
     "data": {
      "image/png": "[encoded data removed]",
      "text/plain": [
       "<Figure size 432x288 with 1 Axes>"
      ]
     },
     "metadata": {
      "needs_background": "light"
     },
     "output_type": "display_data"
    }
   ],
   "source": [
    "plt.scatter(y_val, y_pred)\n",
    "plt.plot((0, 200), (0, 200), 'r')"
   ]
  },
  {
   "cell_type": "code",
   "execution_count": 27,
   "id": "732eabc5",
   "metadata": {},
   "outputs": [
    {
     "data": {
      "text/plain": [
       "<seaborn.axisgrid.FacetGrid at 0x7fa7f464c100>"
      ]
     },
     "execution_count": 27,
     "metadata": {},
     "output_type": "execute_result"
    },
    {
     "data": {
      "image/png": "[encoded data removed]",
      "text/plain": [
       "<Figure size 360x360 with 1 Axes>"
      ]
     },
     "metadata": {
      "needs_background": "light"
     },
     "output_type": "display_data"
    }
   ],
   "source": [
    "sns.displot(y_val - y_pred)"
   ]
  },
  {
   "cell_type": "code",
   "execution_count": 28,
   "id": "e9869f33",
   "metadata": {},
   "outputs": [
    {
     "data": {
      "text/plain": [
       "array([0.31358784, 0.04131783, 0.02125055, 0.01158996, 0.16389177,\n",
       "       0.15811714, 0.12718927, 0.16305564])"
      ]
     },
     "execution_count": 28,
     "metadata": {},
     "output_type": "execute_result"
    }
   ],
   "source": [
    "# Because the regressor is inside the voting regressor,\n",
    "# which is inside the transformed-target-regressor...\n",
    "rf_ = model.named_steps['transformedtargetregressor'].regressor_.named_estimators_['rf']\n",
    "rf_.feature_importances_"
   ]
  },
  {
   "cell_type": "code",
   "execution_count": 29,
   "id": "ac20337c",
   "metadata": {},
   "outputs": [
    {
     "data": {
      "text/plain": [
       "['Year', 'Month', 'Wildcat', 'Platform', 'Lat', 'Lon', 'WD', 'Inclination']"
      ]
     },
     "execution_count": 29,
     "metadata": {},
     "output_type": "execute_result"
    }
   ],
   "source": [
    "features"
   ]
  },
  {
   "cell_type": "markdown",
   "id": "392f3dd9",
   "metadata": {},
   "source": [
    "The feature importances seem reasonable, but this model performs rather poorly.\n",
    "\n",
    "It also seems quite sensitive; small changes in conditions give very different answers. This is not a good feature of a predictive model.\n",
    "\n",
    "It's debatable whether we can expand the dataset; possibly data from the UKCS would help, but data from GOM won't.\n",
    "\n",
    "The best idea is probably to try to extract some more useful features. Ideas:\n",
    "\n",
    "- Operator\n",
    "- Drilling contractor\n",
    "- Primary target\n",
    "- Prognosed thicknesses of various formations\n"
   ]
  }
 ],
 "metadata": {
  "celltoolbar": "Tags",
  "kernelspec": {
   "display_name": "geoml",
   "language": "python",
   "name": "geoml"
  },
  "language_info": {
   "codemirror_mode": {
    "name": "ipython",
    "version": 3
   },
   "file_extension": ".py",
   "mimetype": "text/x-python",
   "name": "python",
   "nbconvert_exporter": "python",
   "pygments_lexer": "ipython3",
   "version": "3.9.7"
  }
 },
 "nbformat": 4,
 "nbformat_minor": 5
}
