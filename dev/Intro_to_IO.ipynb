{
 "cells": [
  {
   "cell_type": "markdown",
   "id": "6329aa49",
   "metadata": {},
   "source": [
    "# Introduction to IO (Input/Output)\n",
    "\n",
    "We inevitably will need to read data from various places and formats in order to do things with them. This notebook is an overview of some common formats and common ways to read and/or write them. This is absolutely not an exhaustive list of what can be read in python, so if you have specific requests, please do reach out.\n",
    "\n",
    "The following will not import everything upfront. We will start with some generic formats, and then some more specialised subsurface/geoscience formats.\n",
    "\n",
    "## Loading test data\n",
    "\n",
    "In order to illustrate the various I/O operations below, we'll start by loading some data files to work with covering `*.csv`, `*.xlsx`, `*.geojson`, `*.shp`, `*.las`, `*.sgy`, `*.dlis`:\n",
    "\n",
    "# TODO: add `*.shp` file"
   ]
  },
  {
   "cell_type": "code",
   "execution_count": 1,
   "id": "a9ab123c",
   "metadata": {},
   "outputs": [],
   "source": [
    "import pooch\n",
    "\n",
    "# TODO: remember to change path to `../data` in prod\n",
    "spot = pooch.create(path='./data', base_url=\"https://geocomp.s3.amazonaws.com/data/\",\n",
    "                    registry={\"Norway_field_production_monthly.csv\": \"md5:26e7f45b8bb9807e0c8f03d993cc973e\",\n",
    "                              \"L-30_Depth-DT-RHOB.csv\": \"md5:b28af3b948694cc59b743b0e119b3220\",\n",
    "                              \"FMI_run2_feature_picks.xlsx\": \"md5:c8384e3701e04a74a320350d6b73657b\",\n",
    "                              \"Offshore_wells.geojson\": \"md5:fb9a743840a105158785addb191392fb\",\n",
    "                              \"B-41.las\": \"md5:8496be6d22b71e7d8b6f9afe63f8d2a4\",\n",
    "                              \"F3_8-bit_int.sgy\": \"md5:c1039c439abdd240f72efb39108ca186\",\n",
    "                              \"FMI_Run3_processed.dlis\": \"md5:a1258f9868e7bb55aedb7015a4f04fc4\",\n",
    "                             })"
   ]
  },
  {
   "cell_type": "markdown",
   "id": "9b405c43",
   "metadata": {},
   "source": [
    "## CSV or TSV files\n",
    "\n",
    "A very common format, which is plain text with some sort of delimiter character (often `,` or `;`) separating each column, and newlines separating records. There are a number of ways to load these, depending on the intended use-case. Numpy or Pandas are probably the most common. D"
   ]
  },
  {
   "cell_type": "code",
   "execution_count": 2,
   "id": "1bb8e2ee",
   "metadata": {},
   "outputs": [],
   "source": [
    "import numpy as np\n",
    "import pandas as pd"
   ]
  },
  {
   "cell_type": "code",
   "execution_count": 3,
   "id": "cbea6b06",
   "metadata": {},
   "outputs": [
    {
     "data": {
      "text/plain": [
       "((25621,), (25621,), (25621,))"
      ]
     },
     "execution_count": 3,
     "metadata": {},
     "output_type": "execute_result"
    }
   ],
   "source": [
    "fname = spot.fetch(\"L-30_Depth-DT-RHOB.csv\")\n",
    "depth, dt, rhob = np.genfromtxt(fname, delimiter=',')\n",
    "depth.shape, dt.shape, rhob.shape"
   ]
  },
  {
   "cell_type": "code",
   "execution_count": 4,
   "id": "06f930f8",
   "metadata": {},
   "outputs": [
    {
     "data": {
      "text/plain": [
       "((25621,), (25621,), (25621,))"
      ]
     },
     "execution_count": 4,
     "metadata": {},
     "output_type": "execute_result"
    }
   ],
   "source": [
    "depth, dt, rhob = np.loadtxt(fname, delimiter=',')\n",
    "depth.shape, dt.shape, rhob.shape"
   ]
  },
  {
   "cell_type": "code",
   "execution_count": 5,
   "id": "5b2a64a8",
   "metadata": {},
   "outputs": [],
   "source": [
    "# TODO: Change path in prod to `../data`\n",
    "np.savetxt('./data/L-30_depth_np_export', depth)"
   ]
  },
  {
   "cell_type": "code",
   "execution_count": 6,
   "id": "79a3f8d3",
   "metadata": {},
   "outputs": [
    {
     "data": {
      "text/html": [
       "<div>\n",
       "<style scoped>\n",
       "    .dataframe tbody tr th:only-of-type {\n",
       "        vertical-align: middle;\n",
       "    }\n",
       "\n",
       "    .dataframe tbody tr th {\n",
       "        vertical-align: top;\n",
       "    }\n",
       "\n",
       "    .dataframe thead th {\n",
       "        text-align: right;\n",
       "    }\n",
       "</style>\n",
       "<table border=\"1\" class=\"dataframe\">\n",
       "  <thead>\n",
       "    <tr style=\"text-align: right;\">\n",
       "      <th></th>\n",
       "      <th>prfInformationCarrier</th>\n",
       "      <th>prfYear</th>\n",
       "      <th>prfMonth</th>\n",
       "      <th>prfPrdOilNetMillSm3</th>\n",
       "      <th>prfPrdGasNetBillSm3</th>\n",
       "      <th>prfPrdNGLNetMillSm3</th>\n",
       "      <th>prfPrdCondensateNetMillSm3</th>\n",
       "      <th>prfPrdOeNetMillSm3</th>\n",
       "      <th>prfPrdProducedWaterInFieldMillSm3</th>\n",
       "      <th>prfNpdidInformationCarrier</th>\n",
       "    </tr>\n",
       "  </thead>\n",
       "  <tbody>\n",
       "    <tr>\n",
       "      <th>0</th>\n",
       "      <td>24/9-12 S (Frosk)</td>\n",
       "      <td>2019</td>\n",
       "      <td>8</td>\n",
       "      <td>0.01705</td>\n",
       "      <td>0.00068</td>\n",
       "      <td>0.0</td>\n",
       "      <td>0.0</td>\n",
       "      <td>0.01772</td>\n",
       "      <td>0.00061</td>\n",
       "      <td>31140456</td>\n",
       "    </tr>\n",
       "    <tr>\n",
       "      <th>1</th>\n",
       "      <td>24/9-12 S (Frosk)</td>\n",
       "      <td>2019</td>\n",
       "      <td>9</td>\n",
       "      <td>0.05557</td>\n",
       "      <td>0.00323</td>\n",
       "      <td>0.0</td>\n",
       "      <td>0.0</td>\n",
       "      <td>0.05880</td>\n",
       "      <td>0.00000</td>\n",
       "      <td>31140456</td>\n",
       "    </tr>\n",
       "    <tr>\n",
       "      <th>2</th>\n",
       "      <td>24/9-12 S (Frosk)</td>\n",
       "      <td>2019</td>\n",
       "      <td>10</td>\n",
       "      <td>0.04403</td>\n",
       "      <td>0.00258</td>\n",
       "      <td>0.0</td>\n",
       "      <td>0.0</td>\n",
       "      <td>0.04661</td>\n",
       "      <td>0.00000</td>\n",
       "      <td>31140456</td>\n",
       "    </tr>\n",
       "    <tr>\n",
       "      <th>3</th>\n",
       "      <td>24/9-12 S (Frosk)</td>\n",
       "      <td>2019</td>\n",
       "      <td>11</td>\n",
       "      <td>0.05350</td>\n",
       "      <td>0.00299</td>\n",
       "      <td>0.0</td>\n",
       "      <td>0.0</td>\n",
       "      <td>0.05648</td>\n",
       "      <td>0.00000</td>\n",
       "      <td>31140456</td>\n",
       "    </tr>\n",
       "    <tr>\n",
       "      <th>4</th>\n",
       "      <td>24/9-12 S (Frosk)</td>\n",
       "      <td>2019</td>\n",
       "      <td>12</td>\n",
       "      <td>0.05825</td>\n",
       "      <td>0.00297</td>\n",
       "      <td>0.0</td>\n",
       "      <td>0.0</td>\n",
       "      <td>0.06123</td>\n",
       "      <td>0.00009</td>\n",
       "      <td>31140456</td>\n",
       "    </tr>\n",
       "  </tbody>\n",
       "</table>\n",
       "</div>"
      ],
      "text/plain": [
       "  prfInformationCarrier  prfYear  prfMonth  prfPrdOilNetMillSm3  \\\n",
       "0     24/9-12 S (Frosk)     2019         8              0.01705   \n",
       "1     24/9-12 S (Frosk)     2019         9              0.05557   \n",
       "2     24/9-12 S (Frosk)     2019        10              0.04403   \n",
       "3     24/9-12 S (Frosk)     2019        11              0.05350   \n",
       "4     24/9-12 S (Frosk)     2019        12              0.05825   \n",
       "\n",
       "   prfPrdGasNetBillSm3  prfPrdNGLNetMillSm3  prfPrdCondensateNetMillSm3  \\\n",
       "0              0.00068                  0.0                         0.0   \n",
       "1              0.00323                  0.0                         0.0   \n",
       "2              0.00258                  0.0                         0.0   \n",
       "3              0.00299                  0.0                         0.0   \n",
       "4              0.00297                  0.0                         0.0   \n",
       "\n",
       "   prfPrdOeNetMillSm3  prfPrdProducedWaterInFieldMillSm3  \\\n",
       "0             0.01772                            0.00061   \n",
       "1             0.05880                            0.00000   \n",
       "2             0.04661                            0.00000   \n",
       "3             0.05648                            0.00000   \n",
       "4             0.06123                            0.00009   \n",
       "\n",
       "   prfNpdidInformationCarrier  \n",
       "0                    31140456  \n",
       "1                    31140456  \n",
       "2                    31140456  \n",
       "3                    31140456  \n",
       "4                    31140456  "
      ]
     },
     "execution_count": 6,
     "metadata": {},
     "output_type": "execute_result"
    }
   ],
   "source": [
    "fname = spot.fetch(\"Norway_field_production_monthly.csv\")\n",
    "df = pd.read_csv(fname)\n",
    "df.head()"
   ]
  },
  {
   "cell_type": "code",
   "execution_count": 13,
   "id": "510f5b4b",
   "metadata": {},
   "outputs": [
    {
     "data": {
      "text/plain": [
       "Index(['prfInformationCarrier', 'prfYear', 'prfMonth', 'prfPrdOilNetMillSm3',\n",
       "       'prfPrdGasNetBillSm3', 'prfPrdNGLNetMillSm3',\n",
       "       'prfPrdCondensateNetMillSm3', 'prfPrdOeNetMillSm3',\n",
       "       'prfPrdProducedWaterInFieldMillSm3', 'prfNpdidInformationCarrier'],\n",
       "      dtype='object')"
      ]
     },
     "execution_count": 13,
     "metadata": {},
     "output_type": "execute_result"
    }
   ],
   "source": [
    "df.columns"
   ]
  },
  {
   "cell_type": "code",
   "execution_count": 19,
   "id": "5e1a1ebf",
   "metadata": {},
   "outputs": [
    {
     "data": {
      "text/plain": [
       "17       0.02617\n",
       "18       0.02174\n",
       "19       0.00600\n",
       "20       0.00000\n",
       "21       0.00000\n",
       "          ...   \n",
       "22459    0.00000\n",
       "22460    0.00000\n",
       "22461    0.00000\n",
       "22462    0.00000\n",
       "22463    0.00000\n",
       "Name: prfPrdOilNetMillSm3, Length: 620, dtype: float64"
      ]
     },
     "execution_count": 19,
     "metadata": {},
     "output_type": "execute_result"
    }
   ],
   "source": [
    "# TODO: Change path in prod to `../data`\n",
    "df.loc[df['prfYear'] == 2021, 'prfPrdOilNetMillSm3'].to_csv('./')"
   ]
  },
  {
   "cell_type": "code",
   "execution_count": null,
   "id": "1e6cb71b",
   "metadata": {},
   "outputs": [],
   "source": [
    "df.to_csv"
   ]
  },
  {
   "cell_type": "markdown",
   "id": "2a6c1016",
   "metadata": {},
   "source": [
    "## Excel Files\n",
    "\n",
    "The easiest for this is definitely pandas. You will need to install `xlrd` as well, since this is an optional library used in the background."
   ]
  },
  {
   "cell_type": "code",
   "execution_count": null,
   "id": "dff0d94b",
   "metadata": {},
   "outputs": [],
   "source": [
    "df = pd.read_excel()"
   ]
  },
  {
   "cell_type": "markdown",
   "id": "af0b5c73",
   "metadata": {},
   "source": [
    "It is worth noting that you can either read individual worksheets, or load multiple ones into one dictionary."
   ]
  },
  {
   "cell_type": "code",
   "execution_count": null,
   "id": "b22f3df2",
   "metadata": {},
   "outputs": [],
   "source": [
    "df.to_excel()"
   ]
  },
  {
   "cell_type": "markdown",
   "id": "8f546eda",
   "metadata": {},
   "source": [
    "## Databases\n",
    "\n",
    "There are numerous ways of reading a database, which partially depends on the type of database. Pandas can read or write SQL, so it a reasonable starting point.\n",
    "\n",
    "For a more powerful and flexible option, consider [sqlalchemy](https://www.sqlalchemy.org/)."
   ]
  },
  {
   "cell_type": "markdown",
   "id": "ae771153",
   "metadata": {},
   "source": [
    "## JSON\n",
    "\n",
    "JavaScript Object Notation is a very common format used to exchange information on the internet, so you may get this back from various Application Programming Interfaces (APIs). It is very similar to a python `dict`, which is how these are usually handled once they are loaded. There is a built-in library for working with these, logically enough named `json`. This can handle json files in string format as well."
   ]
  },
  {
   "cell_type": "code",
   "execution_count": null,
   "id": "8f6ce305",
   "metadata": {},
   "outputs": [],
   "source": [
    "import json"
   ]
  },
  {
   "cell_type": "code",
   "execution_count": null,
   "id": "ed69fe2a",
   "metadata": {},
   "outputs": [],
   "source": [
    "json.load()"
   ]
  },
  {
   "cell_type": "code",
   "execution_count": null,
   "id": "bece68b4",
   "metadata": {},
   "outputs": [],
   "source": [
    "json.dump()"
   ]
  },
  {
   "cell_type": "markdown",
   "id": "e76145e0",
   "metadata": {},
   "source": [
    "<hr/>\n",
    "\n",
    "The following are more geoscience or subsurface data formats.\n",
    "\n",
    "## Shapefiles\n",
    "\n",
    "These are a common geographical information system format, originally developed by Esri. A simple way to load these is to use geopandas:"
   ]
  },
  {
   "cell_type": "code",
   "execution_count": null,
   "id": "baa2e6f3",
   "metadata": {},
   "outputs": [],
   "source": [
    "import geopandas as gpd"
   ]
  },
  {
   "cell_type": "code",
   "execution_count": null,
   "id": "0be9aac4",
   "metadata": {},
   "outputs": [],
   "source": [
    "gdf = gpd.read_file()"
   ]
  },
  {
   "cell_type": "markdown",
   "id": "5f1e29ef",
   "metadata": {},
   "source": [
    "Because geopandas uses `fiona` in the background for file handling, it can handle the following formats in addition to shapefiles. Files with `'r'` can read from, `'w'` can be written to, and `'a'` can be appended to."
   ]
  },
  {
   "cell_type": "code",
   "execution_count": null,
   "id": "5a3ec316",
   "metadata": {},
   "outputs": [],
   "source": [
    "import fiona\n",
    "fiona.supported_drivers"
   ]
  },
  {
   "cell_type": "code",
   "execution_count": null,
   "id": "cb576c97",
   "metadata": {},
   "outputs": [],
   "source": [
    "gpd.geodataframe."
   ]
  },
  {
   "cell_type": "markdown",
   "id": "a03e95b0",
   "metadata": {},
   "source": [
    "## LAS files\n",
    "\n",
    "`lasio` is a library that is able to read LAS2 files, but `welly` is a wrapper that may be nicer to use for everyday use:"
   ]
  },
  {
   "cell_type": "code",
   "execution_count": null,
   "id": "3444dc45",
   "metadata": {},
   "outputs": [],
   "source": [
    "from welly import Well, Project"
   ]
  },
  {
   "cell_type": "code",
   "execution_count": null,
   "id": "e0c10502",
   "metadata": {},
   "outputs": [],
   "source": [
    "w = Well.from_las()"
   ]
  },
  {
   "cell_type": "markdown",
   "id": "eae257a7",
   "metadata": {},
   "source": [
    "Welly can also load an entire directory of las files into a `Project`:"
   ]
  },
  {
   "cell_type": "code",
   "execution_count": null,
   "id": "486fcea4",
   "metadata": {},
   "outputs": [],
   "source": [
    "p = Project.from_las()"
   ]
  },
  {
   "cell_type": "markdown",
   "id": "61aaf35f",
   "metadata": {},
   "source": [
    "## SEG-Y\n",
    "\n",
    "The SEG-Y format is widely-used, although any given individual file can be tricky to load. Equinor has written a low-level library named [`segyio`](https://github.com/equinor/segyio) which can (with some effort in some cases) read and write SEG-Y files and headers."
   ]
  },
  {
   "cell_type": "code",
   "execution_count": null,
   "id": "9930266c",
   "metadata": {},
   "outputs": [],
   "source": [
    "import segyio"
   ]
  },
  {
   "cell_type": "code",
   "execution_count": null,
   "id": "732f795f",
   "metadata": {},
   "outputs": [],
   "source": [
    "with segyio.open() as s:\n",
    "    vol = s.cube()"
   ]
  },
  {
   "cell_type": "markdown",
   "id": "d03d2123",
   "metadata": {},
   "source": [
    "Given that `segyio` is intended for relatively low-level operations, it means that there is a fair amount of work to get things working. An alternative, built on top of it is SEGY Swis Army Knife ([SEGYSAK](https://segysak.readthedocs.io/en/latest/index.html)). This is intended to make common operations a little easier. It also interfaces with `xarray`, which is an extension of numpy, and well-worth a look."
   ]
  },
  {
   "cell_type": "code",
   "execution_count": null,
   "id": "3589776d",
   "metadata": {},
   "outputs": [],
   "source": [
    "from segysak.segy import segy_loaderder"
   ]
  },
  {
   "cell_type": "code",
   "execution_count": null,
   "id": "a87dc040",
   "metadata": {},
   "outputs": [],
   "source": [
    "segy_loader()"
   ]
  },
  {
   "cell_type": "markdown",
   "id": "36e63630",
   "metadata": {},
   "source": [
    "## DLIS files\n",
    "\n",
    "Equinor have written a library named `dlisio` that can handle dlis files:"
   ]
  },
  {
   "cell_type": "code",
   "execution_count": null,
   "id": "cbeb109c",
   "metadata": {},
   "outputs": [],
   "source": [
    "import dlisio"
   ]
  },
  {
   "cell_type": "code",
   "execution_count": null,
   "id": "e3f5d16b",
   "metadata": {},
   "outputs": [],
   "source": [
    "# need to confirm how this one works"
   ]
  },
  {
   "cell_type": "markdown",
   "id": "e1f8ebed",
   "metadata": {},
   "source": [
    "## Other Assorted Formats\n",
    "\n",
    "The subsurface world is filled with all sorts of other formats. Agile Scientific has written a library named `gio` that can handle a variety of these, such as OpendTect horizons, Surfer 7 grids, and ZMaps. These are loaded as `xarray`s. The documentation has [more details](https://code.agilescientific.com/gio/index.html)."
   ]
  },
  {
   "cell_type": "code",
   "execution_count": null,
   "id": "677151a6",
   "metadata": {},
   "outputs": [],
   "source": [
    "import gio"
   ]
  },
  {
   "cell_type": "code",
   "execution_count": null,
   "id": "6ecc3f40",
   "metadata": {},
   "outputs": [],
   "source": [
    "data = gio.read_odt(fname)"
   ]
  }
 ],
 "metadata": {
  "kernelspec": {
   "display_name": "geocomp",
   "language": "python",
   "name": "geocomp"
  },
  "language_info": {
   "codemirror_mode": {
    "name": "ipython",
    "version": 3
   },
   "file_extension": ".py",
   "mimetype": "text/x-python",
   "name": "python",
   "nbconvert_exporter": "python",
   "pygments_lexer": "ipython3",
   "version": "3.9.7"
  }
 },
 "nbformat": 4,
 "nbformat_minor": 5
}
