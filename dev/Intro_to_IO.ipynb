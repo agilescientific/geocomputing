{
 "cells": [
  {
   "cell_type": "markdown",
   "id": "6329aa49",
   "metadata": {},
   "source": [
    "# Introduction to IO (Input/Output)\n",
    "\n",
    "We inevitably will need to read data from various places and formats in order to do things with them. This notebook is an overview of some common formats and common ways to read and/or write them. This is absolutely not an exhaustive list of what can be read in python, so if you have specific requests, please do reach out.\n",
    "\n",
    "The following will not import everything upfront. We will start with some generic formats, and then some more specialised subsurface/geoscience formats.\n",
    "\n",
    "## Loading test data\n",
    "\n",
    "In order to illustrate the various I/O operations below, we'll start by loading some data files to work with covering `*.csv`, `*.xlsx`, `*.geojson`, `*.shp`, `*.las`, `*.sgy`, `*.dlis`:\n",
    "\n",
    "# TODO: add `*.shp` file"
   ]
  },
  {
   "cell_type": "code",
   "execution_count": 1,
   "id": "adf931cb",
   "metadata": {},
   "outputs": [],
   "source": [
    "import pooch\n",
    "\n",
    "# TODO: remember to change path to `../data` in prod\n",
    "spot = pooch.create(path='./data', base_url=\"https://geocomp.s3.amazonaws.com/data/\",\n",
    "                    registry={\"Norway_field_production_monthly.csv\": \"md5:26e7f45b8bb9807e0c8f03d993cc973e\",\n",
    "                              \"L-30_Depth-DT-RHOB.csv\": \"md5:b28af3b948694cc59b743b0e119b3220\",\n",
    "                              \"FMI_run2_feature_picks.xlsx\": \"md5:c8384e3701e04a74a320350d6b73657b\",\n",
    "                              \"Offshore_wells.geojson\": \"md5:fb9a743840a105158785addb191392fb\",\n",
    "                              \"B-41.las\": \"md5:8496be6d22b71e7d8b6f9afe63f8d2a4\",\n",
    "                              \"F3_8-bit_int.sgy\": \"md5:cbde973eb6606da843f40aedf07793e4\",\n",
    "                              \"FMI_Run3_processed.dlis\": None,\n",
    "                              \"F3_Demo_0_FS4.dat\": None,\n",
    "                             })"
   ]
  },
  {
   "cell_type": "markdown",
   "id": "9b405c43",
   "metadata": {},
   "source": [
    "## CSV or TSV files\n",
    "\n",
    "A very common format, which is plain text with some sort of delimiter character (often `,` or `;`) separating each column, and newlines separating records. There are a number of ways to load these, depending on the intended use-case. Numpy or Pandas are probably the most common. D"
   ]
  },
  {
   "cell_type": "code",
   "execution_count": 2,
   "id": "1bb8e2ee",
   "metadata": {},
   "outputs": [],
   "source": [
    "import numpy as np\n",
    "import pandas as pd"
   ]
  },
  {
   "cell_type": "code",
   "execution_count": 3,
   "id": "cbea6b06",
   "metadata": {},
   "outputs": [
    {
     "data": {
      "text/plain": [
       "((25621,), (25621,), (25621,))"
      ]
     },
     "execution_count": 3,
     "metadata": {},
     "output_type": "execute_result"
    }
   ],
   "source": [
    "fname = spot.fetch(\"L-30_Depth-DT-RHOB.csv\")\n",
    "depth, dt, rhob = np.genfromtxt(fname, delimiter=',')\n",
    "depth.shape, dt.shape, rhob.shape"
   ]
  },
  {
   "cell_type": "code",
   "execution_count": 4,
   "id": "213756aa",
   "metadata": {},
   "outputs": [
    {
     "data": {
      "text/plain": [
       "((25621,), (25621,), (25621,))"
      ]
     },
     "execution_count": 4,
     "metadata": {},
     "output_type": "execute_result"
    }
   ],
   "source": [
    "depth, dt, rhob = np.loadtxt(fname, delimiter=',')\n",
    "depth.shape, dt.shape, rhob.shape"
   ]
  },
  {
   "cell_type": "code",
   "execution_count": 5,
   "id": "5b2a64a8",
   "metadata": {},
   "outputs": [],
   "source": [
    "# TODO: Change path in prod to `../data`\n",
    "np.savetxt('./data/L-30_depth_np_export', depth)"
   ]
  },
  {
   "cell_type": "code",
   "execution_count": 6,
   "id": "79a3f8d3",
   "metadata": {},
   "outputs": [
    {
     "data": {
      "text/html": [
       "<div>\n",
       "<style scoped>\n",
       "    .dataframe tbody tr th:only-of-type {\n",
       "        vertical-align: middle;\n",
       "    }\n",
       "\n",
       "    .dataframe tbody tr th {\n",
       "        vertical-align: top;\n",
       "    }\n",
       "\n",
       "    .dataframe thead th {\n",
       "        text-align: right;\n",
       "    }\n",
       "</style>\n",
       "<table border=\"1\" class=\"dataframe\">\n",
       "  <thead>\n",
       "    <tr style=\"text-align: right;\">\n",
       "      <th></th>\n",
       "      <th>prfInformationCarrier</th>\n",
       "      <th>prfYear</th>\n",
       "      <th>prfMonth</th>\n",
       "      <th>prfPrdOilNetMillSm3</th>\n",
       "      <th>prfPrdGasNetBillSm3</th>\n",
       "      <th>prfPrdNGLNetMillSm3</th>\n",
       "      <th>prfPrdCondensateNetMillSm3</th>\n",
       "      <th>prfPrdOeNetMillSm3</th>\n",
       "      <th>prfPrdProducedWaterInFieldMillSm3</th>\n",
       "      <th>prfNpdidInformationCarrier</th>\n",
       "    </tr>\n",
       "  </thead>\n",
       "  <tbody>\n",
       "    <tr>\n",
       "      <th>0</th>\n",
       "      <td>24/9-12 S (Frosk)</td>\n",
       "      <td>2019</td>\n",
       "      <td>8</td>\n",
       "      <td>0.01705</td>\n",
       "      <td>0.00068</td>\n",
       "      <td>0.0</td>\n",
       "      <td>0.0</td>\n",
       "      <td>0.01772</td>\n",
       "      <td>0.00061</td>\n",
       "      <td>31140456</td>\n",
       "    </tr>\n",
       "    <tr>\n",
       "      <th>1</th>\n",
       "      <td>24/9-12 S (Frosk)</td>\n",
       "      <td>2019</td>\n",
       "      <td>9</td>\n",
       "      <td>0.05557</td>\n",
       "      <td>0.00323</td>\n",
       "      <td>0.0</td>\n",
       "      <td>0.0</td>\n",
       "      <td>0.05880</td>\n",
       "      <td>0.00000</td>\n",
       "      <td>31140456</td>\n",
       "    </tr>\n",
       "    <tr>\n",
       "      <th>2</th>\n",
       "      <td>24/9-12 S (Frosk)</td>\n",
       "      <td>2019</td>\n",
       "      <td>10</td>\n",
       "      <td>0.04403</td>\n",
       "      <td>0.00258</td>\n",
       "      <td>0.0</td>\n",
       "      <td>0.0</td>\n",
       "      <td>0.04661</td>\n",
       "      <td>0.00000</td>\n",
       "      <td>31140456</td>\n",
       "    </tr>\n",
       "    <tr>\n",
       "      <th>3</th>\n",
       "      <td>24/9-12 S (Frosk)</td>\n",
       "      <td>2019</td>\n",
       "      <td>11</td>\n",
       "      <td>0.05350</td>\n",
       "      <td>0.00299</td>\n",
       "      <td>0.0</td>\n",
       "      <td>0.0</td>\n",
       "      <td>0.05648</td>\n",
       "      <td>0.00000</td>\n",
       "      <td>31140456</td>\n",
       "    </tr>\n",
       "    <tr>\n",
       "      <th>4</th>\n",
       "      <td>24/9-12 S (Frosk)</td>\n",
       "      <td>2019</td>\n",
       "      <td>12</td>\n",
       "      <td>0.05825</td>\n",
       "      <td>0.00297</td>\n",
       "      <td>0.0</td>\n",
       "      <td>0.0</td>\n",
       "      <td>0.06123</td>\n",
       "      <td>0.00009</td>\n",
       "      <td>31140456</td>\n",
       "    </tr>\n",
       "  </tbody>\n",
       "</table>\n",
       "</div>"
      ],
      "text/plain": [
       "  prfInformationCarrier  prfYear  prfMonth  prfPrdOilNetMillSm3  \\\n",
       "0     24/9-12 S (Frosk)     2019         8              0.01705   \n",
       "1     24/9-12 S (Frosk)     2019         9              0.05557   \n",
       "2     24/9-12 S (Frosk)     2019        10              0.04403   \n",
       "3     24/9-12 S (Frosk)     2019        11              0.05350   \n",
       "4     24/9-12 S (Frosk)     2019        12              0.05825   \n",
       "\n",
       "   prfPrdGasNetBillSm3  prfPrdNGLNetMillSm3  prfPrdCondensateNetMillSm3  \\\n",
       "0              0.00068                  0.0                         0.0   \n",
       "1              0.00323                  0.0                         0.0   \n",
       "2              0.00258                  0.0                         0.0   \n",
       "3              0.00299                  0.0                         0.0   \n",
       "4              0.00297                  0.0                         0.0   \n",
       "\n",
       "   prfPrdOeNetMillSm3  prfPrdProducedWaterInFieldMillSm3  \\\n",
       "0             0.01772                            0.00061   \n",
       "1             0.05880                            0.00000   \n",
       "2             0.04661                            0.00000   \n",
       "3             0.05648                            0.00000   \n",
       "4             0.06123                            0.00009   \n",
       "\n",
       "   prfNpdidInformationCarrier  \n",
       "0                    31140456  \n",
       "1                    31140456  \n",
       "2                    31140456  \n",
       "3                    31140456  \n",
       "4                    31140456  "
      ]
     },
     "execution_count": 6,
     "metadata": {},
     "output_type": "execute_result"
    }
   ],
   "source": [
    "fname = spot.fetch(\"Norway_field_production_monthly.csv\")\n",
    "df = pd.read_csv(fname)\n",
    "df.head()"
   ]
  },
  {
   "cell_type": "code",
   "execution_count": 7,
   "id": "85acc8c8",
   "metadata": {},
   "outputs": [
    {
     "data": {
      "text/plain": [
       "Index(['prfInformationCarrier', 'prfYear', 'prfMonth', 'prfPrdOilNetMillSm3',\n",
       "       'prfPrdGasNetBillSm3', 'prfPrdNGLNetMillSm3',\n",
       "       'prfPrdCondensateNetMillSm3', 'prfPrdOeNetMillSm3',\n",
       "       'prfPrdProducedWaterInFieldMillSm3', 'prfNpdidInformationCarrier'],\n",
       "      dtype='object')"
      ]
     },
     "execution_count": 7,
     "metadata": {},
     "output_type": "execute_result"
    }
   ],
   "source": [
    "df.columns"
   ]
  },
  {
   "cell_type": "code",
   "execution_count": 8,
   "id": "0ecd0d7f",
   "metadata": {},
   "outputs": [],
   "source": [
    "# TODO: Change path in prod to `../data`\n",
    "df.loc[df['prfYear'] == 2021,\n",
    "       'prfPrdOilNetMillSm3'].to_csv('./data/Norway_prod_2021_OilNetMillSm3.csv', index=False)"
   ]
  },
  {
   "cell_type": "markdown",
   "id": "2a6c1016",
   "metadata": {},
   "source": [
    "## Excel Files\n",
    "\n",
    "The easiest for this is definitely pandas. You will need to install `xlrd` and `openpyxl` as well, since these are optional libraries used in the background."
   ]
  },
  {
   "cell_type": "code",
   "execution_count": 9,
   "id": "dff0d94b",
   "metadata": {},
   "outputs": [
    {
     "data": {
      "text/html": [
       "<div>\n",
       "<style scoped>\n",
       "    .dataframe tbody tr th:only-of-type {\n",
       "        vertical-align: middle;\n",
       "    }\n",
       "\n",
       "    .dataframe tbody tr th {\n",
       "        vertical-align: top;\n",
       "    }\n",
       "\n",
       "    .dataframe thead th {\n",
       "        text-align: right;\n",
       "    }\n",
       "</style>\n",
       "<table border=\"1\" class=\"dataframe\">\n",
       "  <thead>\n",
       "    <tr style=\"text-align: right;\">\n",
       "      <th></th>\n",
       "      <th>TDEP</th>\n",
       "      <th>Azimuth</th>\n",
       "      <th>Dip_TRU</th>\n",
       "      <th>FRACTURE_APERTURE[0]</th>\n",
       "      <th>FVA (mean fracture height)</th>\n",
       "      <th>FVAH (mean hydraulic fracture height)</th>\n",
       "      <th>Induced_Fracture_Height_N</th>\n",
       "      <th>Breakout_Azimuth_N</th>\n",
       "      <th>Breakout_Dip_Azimuth</th>\n",
       "      <th>Type</th>\n",
       "    </tr>\n",
       "  </thead>\n",
       "  <tbody>\n",
       "    <tr>\n",
       "      <th>0</th>\n",
       "      <td>7442.499500</td>\n",
       "      <td>352.36110</td>\n",
       "      <td>85.95914</td>\n",
       "      <td>68.98955</td>\n",
       "      <td>0.253895</td>\n",
       "      <td>0.278163</td>\n",
       "      <td>NaN</td>\n",
       "      <td>NaN</td>\n",
       "      <td>NaN</td>\n",
       "      <td>Conductive_Part_Resistive_Fracture</td>\n",
       "    </tr>\n",
       "    <tr>\n",
       "      <th>1</th>\n",
       "      <td>7442.681591</td>\n",
       "      <td>308.80010</td>\n",
       "      <td>88.82356</td>\n",
       "      <td>NaN</td>\n",
       "      <td>NaN</td>\n",
       "      <td>NaN</td>\n",
       "      <td>NaN</td>\n",
       "      <td>128.7822</td>\n",
       "      <td>38.80008</td>\n",
       "      <td>Breakout</td>\n",
       "    </tr>\n",
       "    <tr>\n",
       "      <th>2</th>\n",
       "      <td>7443.234932</td>\n",
       "      <td>307.39560</td>\n",
       "      <td>88.85078</td>\n",
       "      <td>NaN</td>\n",
       "      <td>NaN</td>\n",
       "      <td>NaN</td>\n",
       "      <td>NaN</td>\n",
       "      <td>307.3779</td>\n",
       "      <td>37.39557</td>\n",
       "      <td>Breakout</td>\n",
       "    </tr>\n",
       "    <tr>\n",
       "      <th>3</th>\n",
       "      <td>7444.356259</td>\n",
       "      <td>285.51500</td>\n",
       "      <td>81.06979</td>\n",
       "      <td>42.64809</td>\n",
       "      <td>0.160323</td>\n",
       "      <td>0.433830</td>\n",
       "      <td>NaN</td>\n",
       "      <td>NaN</td>\n",
       "      <td>NaN</td>\n",
       "      <td>Conductive_Part_Resistive_Fracture</td>\n",
       "    </tr>\n",
       "    <tr>\n",
       "      <th>4</th>\n",
       "      <td>7445.044424</td>\n",
       "      <td>92.84357</td>\n",
       "      <td>20.37420</td>\n",
       "      <td>215.74910</td>\n",
       "      <td>0.207950</td>\n",
       "      <td>0.236389</td>\n",
       "      <td>NaN</td>\n",
       "      <td>NaN</td>\n",
       "      <td>NaN</td>\n",
       "      <td>Conductive_Part_Resistive_Fracture</td>\n",
       "    </tr>\n",
       "  </tbody>\n",
       "</table>\n",
       "</div>"
      ],
      "text/plain": [
       "          TDEP    Azimuth   Dip_TRU  FRACTURE_APERTURE[0]  \\\n",
       "0  7442.499500  352.36110  85.95914              68.98955   \n",
       "1  7442.681591  308.80010  88.82356                   NaN   \n",
       "2  7443.234932  307.39560  88.85078                   NaN   \n",
       "3  7444.356259  285.51500  81.06979              42.64809   \n",
       "4  7445.044424   92.84357  20.37420             215.74910   \n",
       "\n",
       "   FVA (mean fracture height)  FVAH (mean hydraulic fracture height)  \\\n",
       "0                    0.253895                               0.278163   \n",
       "1                         NaN                                    NaN   \n",
       "2                         NaN                                    NaN   \n",
       "3                    0.160323                               0.433830   \n",
       "4                    0.207950                               0.236389   \n",
       "\n",
       "   Induced_Fracture_Height_N  Breakout_Azimuth_N  Breakout_Dip_Azimuth  \\\n",
       "0                        NaN                 NaN                   NaN   \n",
       "1                        NaN            128.7822              38.80008   \n",
       "2                        NaN            307.3779              37.39557   \n",
       "3                        NaN                 NaN                   NaN   \n",
       "4                        NaN                 NaN                   NaN   \n",
       "\n",
       "                                 Type  \n",
       "0  Conductive_Part_Resistive_Fracture  \n",
       "1                            Breakout  \n",
       "2                            Breakout  \n",
       "3  Conductive_Part_Resistive_Fracture  \n",
       "4  Conductive_Part_Resistive_Fracture  "
      ]
     },
     "execution_count": 9,
     "metadata": {},
     "output_type": "execute_result"
    }
   ],
   "source": [
    "fname = spot.fetch('FMI_run2_feature_picks.xlsx')\n",
    "df = pd.read_excel(fname)\n",
    "df.head()"
   ]
  },
  {
   "cell_type": "markdown",
   "id": "af0b5c73",
   "metadata": {},
   "source": [
    "It is worth noting that you can either read individual worksheets, or load multiple ones into one dictionary. As with `*.csv` files, we can easily write back to disk from pandas:"
   ]
  },
  {
   "cell_type": "code",
   "execution_count": 10,
   "id": "b22f3df2",
   "metadata": {},
   "outputs": [
    {
     "data": {
      "text/plain": [
       "Index(['TDEP', 'Azimuth', 'Dip_TRU', 'FRACTURE_APERTURE[0]',\n",
       "       'FVA (mean fracture height)', 'FVAH (mean hydraulic fracture height)',\n",
       "       'Induced_Fracture_Height_N', 'Breakout_Azimuth_N',\n",
       "       'Breakout_Dip_Azimuth', 'Type'],\n",
       "      dtype='object')"
      ]
     },
     "execution_count": 10,
     "metadata": {},
     "output_type": "execute_result"
    }
   ],
   "source": [
    "df.columns"
   ]
  },
  {
   "cell_type": "code",
   "execution_count": 11,
   "id": "ad33b343",
   "metadata": {},
   "outputs": [
    {
     "data": {
      "text/html": [
       "<div>\n",
       "<style scoped>\n",
       "    .dataframe tbody tr th:only-of-type {\n",
       "        vertical-align: middle;\n",
       "    }\n",
       "\n",
       "    .dataframe tbody tr th {\n",
       "        vertical-align: top;\n",
       "    }\n",
       "\n",
       "    .dataframe thead th {\n",
       "        text-align: right;\n",
       "    }\n",
       "</style>\n",
       "<table border=\"1\" class=\"dataframe\">\n",
       "  <thead>\n",
       "    <tr style=\"text-align: right;\">\n",
       "      <th></th>\n",
       "      <th>TDEP</th>\n",
       "      <th>Azimuth</th>\n",
       "      <th>Dip_TRU</th>\n",
       "      <th>FRACTURE_APERTURE[0]</th>\n",
       "    </tr>\n",
       "  </thead>\n",
       "  <tbody>\n",
       "    <tr>\n",
       "      <th>4</th>\n",
       "      <td>7445.044424</td>\n",
       "      <td>92.84357</td>\n",
       "      <td>20.37420</td>\n",
       "      <td>215.74910</td>\n",
       "    </tr>\n",
       "    <tr>\n",
       "      <th>68</th>\n",
       "      <td>7500.826235</td>\n",
       "      <td>67.46991</td>\n",
       "      <td>26.24434</td>\n",
       "      <td>160.55750</td>\n",
       "    </tr>\n",
       "    <tr>\n",
       "      <th>69</th>\n",
       "      <td>7501.285741</td>\n",
       "      <td>82.76354</td>\n",
       "      <td>24.28477</td>\n",
       "      <td>150.52260</td>\n",
       "    </tr>\n",
       "    <tr>\n",
       "      <th>70</th>\n",
       "      <td>7501.523337</td>\n",
       "      <td>73.33259</td>\n",
       "      <td>26.63311</td>\n",
       "      <td>180.62720</td>\n",
       "    </tr>\n",
       "    <tr>\n",
       "      <th>112</th>\n",
       "      <td>7532.651980</td>\n",
       "      <td>114.40920</td>\n",
       "      <td>80.00818</td>\n",
       "      <td>147.09680</td>\n",
       "    </tr>\n",
       "    <tr>\n",
       "      <th>124</th>\n",
       "      <td>7541.789573</td>\n",
       "      <td>115.30050</td>\n",
       "      <td>56.43068</td>\n",
       "      <td>68.38709</td>\n",
       "    </tr>\n",
       "  </tbody>\n",
       "</table>\n",
       "</div>"
      ],
      "text/plain": [
       "            TDEP    Azimuth   Dip_TRU  FRACTURE_APERTURE[0]\n",
       "4    7445.044424   92.84357  20.37420             215.74910\n",
       "68   7500.826235   67.46991  26.24434             160.55750\n",
       "69   7501.285741   82.76354  24.28477             150.52260\n",
       "70   7501.523337   73.33259  26.63311             180.62720\n",
       "112  7532.651980  114.40920  80.00818             147.09680\n",
       "124  7541.789573  115.30050  56.43068              68.38709"
      ]
     },
     "execution_count": 11,
     "metadata": {},
     "output_type": "execute_result"
    }
   ],
   "source": [
    "df_sample = df.loc[(60 < df['Azimuth']) &\n",
    "                   (df['Azimuth'] < 120) &\n",
    "                   (df['FRACTURE_APERTURE[0]'] > 50),\n",
    "                   ['TDEP', 'Azimuth', 'Dip_TRU', 'FRACTURE_APERTURE[0]']\n",
    "                  ]\n",
    "df_sample"
   ]
  },
  {
   "cell_type": "code",
   "execution_count": 12,
   "id": "24798a6b",
   "metadata": {},
   "outputs": [],
   "source": [
    "# TODO: Change path in prod to `../data`\n",
    "with pd.ExcelWriter(\"./data/Large_fracs_east_sample.xlsx\") as writer:\n",
    "    df_sample.to_excel(writer)"
   ]
  },
  {
   "cell_type": "markdown",
   "id": "8f546eda",
   "metadata": {},
   "source": [
    "## Databases\n",
    "\n",
    "There are numerous ways of reading a database, which partially depends on the type of database. Pandas can read or write SQL, so it a reasonable starting point.\n",
    "\n",
    "For a more powerful and flexible option, consider [sqlalchemy](https://www.sqlalchemy.org/)."
   ]
  },
  {
   "cell_type": "markdown",
   "id": "ae771153",
   "metadata": {},
   "source": [
    "## JSON\n",
    "\n",
    "JavaScript Object Notation is a very common format used to exchange information on the internet, so you may get this back from various Application Programming Interfaces (APIs). It is very similar to a python `dict`, which is how these are usually handled once they are loaded. There is a built-in library for working with these, logically enough named `json`. This can handle json files in string format as well."
   ]
  },
  {
   "cell_type": "code",
   "execution_count": 13,
   "id": "8f6ce305",
   "metadata": {},
   "outputs": [],
   "source": [
    "import json"
   ]
  },
  {
   "cell_type": "code",
   "execution_count": 14,
   "id": "ed69fe2a",
   "metadata": {},
   "outputs": [],
   "source": [
    "#json.load()"
   ]
  },
  {
   "cell_type": "code",
   "execution_count": 15,
   "id": "bece68b4",
   "metadata": {},
   "outputs": [],
   "source": [
    "#json.dump()"
   ]
  },
  {
   "cell_type": "markdown",
   "id": "e76145e0",
   "metadata": {},
   "source": [
    "<hr/>\n",
    "\n",
    "The following are more geoscience or subsurface data formats.\n",
    "\n",
    "## Shapefiles\n",
    "\n",
    "These are a common geographical information system format, originally developed by Esri. A simple way to load these is to use geopandas:"
   ]
  },
  {
   "cell_type": "code",
   "execution_count": 16,
   "id": "baa2e6f3",
   "metadata": {},
   "outputs": [],
   "source": [
    "import geopandas as gpd"
   ]
  },
  {
   "cell_type": "code",
   "execution_count": 17,
   "id": "0be9aac4",
   "metadata": {},
   "outputs": [],
   "source": [
    "#gdf = gpd.read_file()"
   ]
  },
  {
   "cell_type": "markdown",
   "id": "5f1e29ef",
   "metadata": {},
   "source": [
    "Because geopandas uses `fiona` in the background for file handling, it can handle the following formats in addition to shapefiles. Files with `'r'` can read from, `'w'` can be written to, and `'a'` can be appended to."
   ]
  },
  {
   "cell_type": "code",
   "execution_count": 18,
   "id": "5a3ec316",
   "metadata": {},
   "outputs": [
    {
     "data": {
      "text/plain": [
       "{'ARCGEN': 'r',\n",
       " 'DXF': 'rw',\n",
       " 'CSV': 'raw',\n",
       " 'OpenFileGDB': 'r',\n",
       " 'ESRIJSON': 'r',\n",
       " 'ESRI Shapefile': 'raw',\n",
       " 'FlatGeobuf': 'rw',\n",
       " 'GeoJSON': 'raw',\n",
       " 'GeoJSONSeq': 'rw',\n",
       " 'GPKG': 'raw',\n",
       " 'GML': 'rw',\n",
       " 'OGR_GMT': 'rw',\n",
       " 'GPX': 'rw',\n",
       " 'GPSTrackMaker': 'rw',\n",
       " 'Idrisi': 'r',\n",
       " 'MapInfo File': 'raw',\n",
       " 'DGN': 'raw',\n",
       " 'PCIDSK': 'rw',\n",
       " 'OGR_PDS': 'r',\n",
       " 'S57': 'r',\n",
       " 'SQLite': 'raw',\n",
       " 'TopoJSON': 'r'}"
      ]
     },
     "execution_count": 18,
     "metadata": {},
     "output_type": "execute_result"
    }
   ],
   "source": [
    "import fiona\n",
    "fiona.supported_drivers"
   ]
  },
  {
   "cell_type": "markdown",
   "id": "a03e95b0",
   "metadata": {},
   "source": [
    "## LAS files\n",
    "\n",
    "`lasio` is a library that is able to read LAS2 files, but `welly` is a wrapper that may be nicer to use for everyday use:"
   ]
  },
  {
   "cell_type": "code",
   "execution_count": 19,
   "id": "3444dc45",
   "metadata": {},
   "outputs": [],
   "source": [
    "from welly import Well, Project"
   ]
  },
  {
   "cell_type": "code",
   "execution_count": 20,
   "id": "e0c10502",
   "metadata": {},
   "outputs": [
    {
     "data": {
      "text/html": [
       "<table><tr><th style=\"text-align:center;\" colspan=\"2\">PENOBSCOT B-41<br><small></small></th></tr><tr><td><strong>crs</strong></td><td>CRS({})</td></tr><tr><td><strong>location</strong></td><td>44'10'02; N LAT|60'06'32; W LO</td></tr><tr><td><strong>county</strong></td><td>NOVA SCOTIA SHELF</td></tr><tr><td><strong>latitude</strong></td><td>0</td></tr><tr><td><strong>longitude</strong></td><td>0</td></tr><tr><td><strong>td</strong></td><td>None</td></tr><tr><td><strong>data</strong></td><td>CALD, CALS, DEPTH:2, DRHO, DT, GRD, GRS, ILD, ILM, LL8, NPHISS, RHOB, SP</td></tr></table>"
      ],
      "text/plain": [
       "Well(uwi: '', name: 'PENOBSCOT B-41', 13 curves: ['CALD', 'CALS', 'DEPTH:2', 'DRHO', 'DT', 'GRD', 'GRS', 'ILD', 'ILM', 'LL8', 'NPHISS', 'RHOB', 'SP'])"
      ]
     },
     "execution_count": 20,
     "metadata": {},
     "output_type": "execute_result"
    }
   ],
   "source": [
    "# TODO: Change path in prod to `../data`\n",
    "fname = spot.fetch('B-41.las')\n",
    "w = Well.from_las(fname)\n",
    "w"
   ]
  },
  {
   "cell_type": "markdown",
   "id": "eae257a7",
   "metadata": {},
   "source": [
    "Welly can also load an entire directory of las files into a `Project`, see the [welly docs](https://code.agilescientific.com/welly/userguide/Projects.html) for an example."
   ]
  },
  {
   "cell_type": "markdown",
   "id": "61aaf35f",
   "metadata": {},
   "source": [
    "## SEG-Y\n",
    "\n",
    "The SEG-Y format is widely-used, although any given individual file can be tricky to load. Equinor has written a low-level library named [`segyio`](https://github.com/equinor/segyio) which can (with some effort in some cases) read and write SEG-Y files and headers."
   ]
  },
  {
   "cell_type": "code",
   "execution_count": 21,
   "id": "9930266c",
   "metadata": {},
   "outputs": [],
   "source": [
    "import segyio"
   ]
  },
  {
   "cell_type": "code",
   "execution_count": 22,
   "id": "732f795f",
   "metadata": {},
   "outputs": [
    {
     "data": {
      "text/plain": [
       "(225, 300, 463)"
      ]
     },
     "execution_count": 22,
     "metadata": {},
     "output_type": "execute_result"
    }
   ],
   "source": [
    "fname = spot.fetch('F3_8-bit_int.sgy')\n",
    "\n",
    "with segyio.open(fname) as s:\n",
    "    vol = segyio.cube(s)\n",
    "vol.shape"
   ]
  },
  {
   "cell_type": "markdown",
   "id": "d03d2123",
   "metadata": {},
   "source": [
    "Given that `segyio` is intended for relatively low-level operations, it means that there is a fair amount of work to get things working. An alternative, built on top of it is SEGY Swis Army Knife ([SEGYSAK](https://segysak.readthedocs.io/en/latest/index.html)). This is intended to make common operations a little easier. It also interfaces with `xarray`, which is an extension of numpy, and well-worth a look."
   ]
  },
  {
   "cell_type": "code",
   "execution_count": 23,
   "id": "3589776d",
   "metadata": {},
   "outputs": [
    {
     "name": "stderr",
     "output_type": "stream",
     "text": [
      "/home/geodev/miniconda3/envs/geocomp/lib/python3.9/site-packages/segysak/segy/_segy_core.py:7: TqdmExperimentalWarning: Using `tqdm.autonotebook.tqdm` in notebook mode. Use `tqdm.tqdm` instead to force console mode (e.g. in jupyter console)\n",
      "  from tqdm.autonotebook import tqdm\n"
     ]
    }
   ],
   "source": [
    "from segysak.segy import segy_loader"
   ]
  },
  {
   "cell_type": "code",
   "execution_count": null,
   "id": "a87dc040",
   "metadata": {},
   "outputs": [
    {
     "data": {
      "application/vnd.jupyter.widget-view+json": {
       "model_id": "179ae2ebe67c4bd0be368b2d4a531f89",
       "version_major": 2,
       "version_minor": 0
      },
      "text/plain": [
       "  0%|          | 0.00/67.5k [00:00<?, ? traces/s]"
      ]
     },
     "metadata": {},
     "output_type": "display_data"
    },
    {
     "name": "stdout",
     "output_type": "stream",
     "text": [
      "Loading as 3D\n",
      "Fast direction is INLINE_3D\n"
     ]
    },
    {
     "data": {
      "application/vnd.jupyter.widget-view+json": {
       "model_id": "782f149ea41043e09ca4571c51d1d659",
       "version_major": 2,
       "version_minor": 0
      },
      "text/plain": [
       "Converting SEGY:   0%|          | 0.00/67.5k [00:00<?, ? traces/s]"
      ]
     },
     "metadata": {},
     "output_type": "display_data"
    }
   ],
   "source": [
    "segy_loader(fname)"
   ]
  },
  {
   "cell_type": "markdown",
   "id": "36e63630",
   "metadata": {},
   "source": [
    "## DLIS files\n",
    "\n",
    "Equinor have written a library named `dlisio` that can handle dlis files:"
   ]
  },
  {
   "cell_type": "code",
   "execution_count": null,
   "id": "cbeb109c",
   "metadata": {},
   "outputs": [],
   "source": [
    "from dlisio import dlis\n",
    "\n",
    "fname = spot.fetch('FMI_Run3_processed.dlis')\n",
    "\n",
    "with dlis.load(fname) as (f, *tail):\n",
    "    print(f.describe())"
   ]
  },
  {
   "cell_type": "code",
   "execution_count": null,
   "id": "c62683ff",
   "metadata": {
    "scrolled": false
   },
   "outputs": [],
   "source": [
    "for ch in f.channels:\n",
    "    print(ch)"
   ]
  },
  {
   "cell_type": "markdown",
   "id": "e1f8ebed",
   "metadata": {},
   "source": [
    "## Other Assorted Formats\n",
    "\n",
    "The subsurface world is filled with all sorts of other formats. Agile Scientific has written a library named `gio` that can handle a variety of these, such as OpendTect horizons, Surfer 7 grids, and ZMaps. These are loaded as `xarray`s. The documentation has [more details](https://code.agilescientific.com/gio/index.html)."
   ]
  },
  {
   "cell_type": "code",
   "execution_count": null,
   "id": "677151a6",
   "metadata": {},
   "outputs": [],
   "source": [
    "import gio"
   ]
  },
  {
   "cell_type": "code",
   "execution_count": null,
   "id": "6ecc3f40",
   "metadata": {},
   "outputs": [],
   "source": [
    "fname = spot.fetch('F3_Demo_0_FS4.dat')\n",
    "data = gio.read_odt(fname)"
   ]
  },
  {
   "cell_type": "code",
   "execution_count": null,
   "id": "8be0dd8f",
   "metadata": {},
   "outputs": [],
   "source": [
    "data"
   ]
  },
  {
   "cell_type": "code",
   "execution_count": null,
   "id": "45980d8f",
   "metadata": {},
   "outputs": [],
   "source": []
  }
 ],
 "metadata": {
  "kernelspec": {
   "display_name": "geocomp",
   "language": "python",
   "name": "geocomp"
  },
  "language_info": {
   "codemirror_mode": {
    "name": "ipython",
    "version": 3
   },
   "file_extension": ".py",
   "mimetype": "text/x-python",
   "name": "python",
   "nbconvert_exporter": "python",
   "pygments_lexer": "ipython3",
   "version": "3.9.7"
  }
 },
 "nbformat": 4,
 "nbformat_minor": 5
}
