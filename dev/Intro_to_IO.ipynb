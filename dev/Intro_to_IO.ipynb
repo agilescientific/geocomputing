{
 "cells": [
  {
   "cell_type": "markdown",
   "id": "6329aa49",
   "metadata": {},
   "source": [
    "# Introduction to IO (Input/Output)\n",
    "\n",
    "We inevitably will need to read data from various places and formats in order to do things with them. This notebook is an overview of some common formats and common ways to read and/or write them. This is absolutely not an exhaustive list of what can be read in python, so if you have specific requests, please do reach out.\n",
    "\n",
    "The following will not import everything upfront. We will start with some generic formats, and then some more specialised subsurface/geoscience formats.\n",
    "\n",
    "## Loading test data\n",
    "\n",
    "In order to illustrate the various I/O operations below, we'll start by loading some data files to work with covering `*.csv`, `*.xlsx`, `*.geojson`, `*.shp`, `*.las`, `*.sgy`, `*.dlis`:\n",
    "\n",
    "# TODO: add `*.shp` file"
   ]
  },
  {
   "cell_type": "code",
   "execution_count": 1,
   "id": "adf931cb",
   "metadata": {},
   "outputs": [],
   "source": [
    "import pooch\n",
    "\n",
    "# TODO: remember to change path to `../data` in prod\n",
    "spot = pooch.create(path='./data', base_url=\"https://geocomp.s3.amazonaws.com/data/\",\n",
    "                    registry={\"Norway_field_production_monthly.csv\": \"md5:26e7f45b8bb9807e0c8f03d993cc973e\",\n",
    "                              \"L-30_Depth-DT-RHOB.csv\": \"md5:b28af3b948694cc59b743b0e119b3220\",\n",
    "                              \"FMI_run2_feature_picks.xlsx\": \"md5:c8384e3701e04a74a320350d6b73657b\",\n",
    "                              \"Offshore_wells.geojson\": \"md5:fb9a743840a105158785addb191392fb\",\n",
    "                              \"B-41.las\": \"md5:8496be6d22b71e7d8b6f9afe63f8d2a4\",\n",
    "                              \"F3_8-bit_int.sgy\": \"md5:cbde973eb6606da843f40aedf07793e4\",\n",
    "                              \"FMI_Run3_processed.dlis\": None,\n",
    "                             })"
   ]
  },
  {
   "cell_type": "markdown",
   "id": "9b405c43",
   "metadata": {},
   "source": [
    "## CSV or TSV files\n",
    "\n",
    "A very common format, which is plain text with some sort of delimiter character (often `,` or `;`) separating each column, and newlines separating records. There are a number of ways to load these, depending on the intended use-case. Numpy or Pandas are probably the most common. D"
   ]
  },
  {
   "cell_type": "code",
   "execution_count": 2,
   "id": "1bb8e2ee",
   "metadata": {},
   "outputs": [],
   "source": [
    "import numpy as np\n",
    "import pandas as pd"
   ]
  },
  {
   "cell_type": "code",
   "execution_count": 3,
   "id": "cbea6b06",
   "metadata": {},
   "outputs": [
    {
     "data": {
      "text/plain": [
       "((25621,), (25621,), (25621,))"
      ]
     },
     "execution_count": 3,
     "metadata": {},
     "output_type": "execute_result"
    }
   ],
   "source": [
    "fname = spot.fetch(\"L-30_Depth-DT-RHOB.csv\")\n",
    "depth, dt, rhob = np.genfromtxt(fname, delimiter=',')\n",
    "depth.shape, dt.shape, rhob.shape"
   ]
  },
  {
   "cell_type": "code",
   "execution_count": 4,
   "id": "213756aa",
   "metadata": {},
   "outputs": [
    {
     "data": {
      "text/plain": [
       "((25621,), (25621,), (25621,))"
      ]
     },
     "execution_count": 4,
     "metadata": {},
     "output_type": "execute_result"
    }
   ],
   "source": [
    "depth, dt, rhob = np.loadtxt(fname, delimiter=',')\n",
    "depth.shape, dt.shape, rhob.shape"
   ]
  },
  {
   "cell_type": "code",
   "execution_count": 5,
   "id": "5b2a64a8",
   "metadata": {},
   "outputs": [],
   "source": [
    "# TODO: Change path in prod to `../data`\n",
    "np.savetxt('./data/L-30_depth_np_export', depth)"
   ]
  },
  {
   "cell_type": "code",
   "execution_count": 6,
   "id": "79a3f8d3",
   "metadata": {},
   "outputs": [
    {
     "data": {
      "text/html": [
       "<div>\n",
       "<style scoped>\n",
       "    .dataframe tbody tr th:only-of-type {\n",
       "        vertical-align: middle;\n",
       "    }\n",
       "\n",
       "    .dataframe tbody tr th {\n",
       "        vertical-align: top;\n",
       "    }\n",
       "\n",
       "    .dataframe thead th {\n",
       "        text-align: right;\n",
       "    }\n",
       "</style>\n",
       "<table border=\"1\" class=\"dataframe\">\n",
       "  <thead>\n",
       "    <tr style=\"text-align: right;\">\n",
       "      <th></th>\n",
       "      <th>prfInformationCarrier</th>\n",
       "      <th>prfYear</th>\n",
       "      <th>prfMonth</th>\n",
       "      <th>prfPrdOilNetMillSm3</th>\n",
       "      <th>prfPrdGasNetBillSm3</th>\n",
       "      <th>prfPrdNGLNetMillSm3</th>\n",
       "      <th>prfPrdCondensateNetMillSm3</th>\n",
       "      <th>prfPrdOeNetMillSm3</th>\n",
       "      <th>prfPrdProducedWaterInFieldMillSm3</th>\n",
       "      <th>prfNpdidInformationCarrier</th>\n",
       "    </tr>\n",
       "  </thead>\n",
       "  <tbody>\n",
       "    <tr>\n",
       "      <th>0</th>\n",
       "      <td>24/9-12 S (Frosk)</td>\n",
       "      <td>2019</td>\n",
       "      <td>8</td>\n",
       "      <td>0.01705</td>\n",
       "      <td>0.00068</td>\n",
       "      <td>0.0</td>\n",
       "      <td>0.0</td>\n",
       "      <td>0.01772</td>\n",
       "      <td>0.00061</td>\n",
       "      <td>31140456</td>\n",
       "    </tr>\n",
       "    <tr>\n",
       "      <th>1</th>\n",
       "      <td>24/9-12 S (Frosk)</td>\n",
       "      <td>2019</td>\n",
       "      <td>9</td>\n",
       "      <td>0.05557</td>\n",
       "      <td>0.00323</td>\n",
       "      <td>0.0</td>\n",
       "      <td>0.0</td>\n",
       "      <td>0.05880</td>\n",
       "      <td>0.00000</td>\n",
       "      <td>31140456</td>\n",
       "    </tr>\n",
       "    <tr>\n",
       "      <th>2</th>\n",
       "      <td>24/9-12 S (Frosk)</td>\n",
       "      <td>2019</td>\n",
       "      <td>10</td>\n",
       "      <td>0.04403</td>\n",
       "      <td>0.00258</td>\n",
       "      <td>0.0</td>\n",
       "      <td>0.0</td>\n",
       "      <td>0.04661</td>\n",
       "      <td>0.00000</td>\n",
       "      <td>31140456</td>\n",
       "    </tr>\n",
       "    <tr>\n",
       "      <th>3</th>\n",
       "      <td>24/9-12 S (Frosk)</td>\n",
       "      <td>2019</td>\n",
       "      <td>11</td>\n",
       "      <td>0.05350</td>\n",
       "      <td>0.00299</td>\n",
       "      <td>0.0</td>\n",
       "      <td>0.0</td>\n",
       "      <td>0.05648</td>\n",
       "      <td>0.00000</td>\n",
       "      <td>31140456</td>\n",
       "    </tr>\n",
       "    <tr>\n",
       "      <th>4</th>\n",
       "      <td>24/9-12 S (Frosk)</td>\n",
       "      <td>2019</td>\n",
       "      <td>12</td>\n",
       "      <td>0.05825</td>\n",
       "      <td>0.00297</td>\n",
       "      <td>0.0</td>\n",
       "      <td>0.0</td>\n",
       "      <td>0.06123</td>\n",
       "      <td>0.00009</td>\n",
       "      <td>31140456</td>\n",
       "    </tr>\n",
       "  </tbody>\n",
       "</table>\n",
       "</div>"
      ],
      "text/plain": [
       "  prfInformationCarrier  prfYear  prfMonth  prfPrdOilNetMillSm3  \\\n",
       "0     24/9-12 S (Frosk)     2019         8              0.01705   \n",
       "1     24/9-12 S (Frosk)     2019         9              0.05557   \n",
       "2     24/9-12 S (Frosk)     2019        10              0.04403   \n",
       "3     24/9-12 S (Frosk)     2019        11              0.05350   \n",
       "4     24/9-12 S (Frosk)     2019        12              0.05825   \n",
       "\n",
       "   prfPrdGasNetBillSm3  prfPrdNGLNetMillSm3  prfPrdCondensateNetMillSm3  \\\n",
       "0              0.00068                  0.0                         0.0   \n",
       "1              0.00323                  0.0                         0.0   \n",
       "2              0.00258                  0.0                         0.0   \n",
       "3              0.00299                  0.0                         0.0   \n",
       "4              0.00297                  0.0                         0.0   \n",
       "\n",
       "   prfPrdOeNetMillSm3  prfPrdProducedWaterInFieldMillSm3  \\\n",
       "0             0.01772                            0.00061   \n",
       "1             0.05880                            0.00000   \n",
       "2             0.04661                            0.00000   \n",
       "3             0.05648                            0.00000   \n",
       "4             0.06123                            0.00009   \n",
       "\n",
       "   prfNpdidInformationCarrier  \n",
       "0                    31140456  \n",
       "1                    31140456  \n",
       "2                    31140456  \n",
       "3                    31140456  \n",
       "4                    31140456  "
      ]
     },
     "execution_count": 6,
     "metadata": {},
     "output_type": "execute_result"
    }
   ],
   "source": [
    "fname = spot.fetch(\"Norway_field_production_monthly.csv\")\n",
    "df = pd.read_csv(fname)\n",
    "df.head()"
   ]
  },
  {
   "cell_type": "code",
   "execution_count": 7,
   "id": "85acc8c8",
   "metadata": {},
   "outputs": [
    {
     "data": {
      "text/plain": [
       "Index(['prfInformationCarrier', 'prfYear', 'prfMonth', 'prfPrdOilNetMillSm3',\n",
       "       'prfPrdGasNetBillSm3', 'prfPrdNGLNetMillSm3',\n",
       "       'prfPrdCondensateNetMillSm3', 'prfPrdOeNetMillSm3',\n",
       "       'prfPrdProducedWaterInFieldMillSm3', 'prfNpdidInformationCarrier'],\n",
       "      dtype='object')"
      ]
     },
     "execution_count": 7,
     "metadata": {},
     "output_type": "execute_result"
    }
   ],
   "source": [
    "df.columns"
   ]
  },
  {
   "cell_type": "code",
   "execution_count": 8,
   "id": "0ecd0d7f",
   "metadata": {},
   "outputs": [],
   "source": [
    "# TODO: Change path in prod to `../data`\n",
    "df.loc[df['prfYear'] == 2021,\n",
    "       'prfPrdOilNetMillSm3'].to_csv('./data/Norway_prod_2021_OilNetMillSm3.csv', index=False)"
   ]
  },
  {
   "cell_type": "markdown",
   "id": "2a6c1016",
   "metadata": {},
   "source": [
    "## Excel Files\n",
    "\n",
    "The easiest for this is definitely pandas. You will need to install `xlrd` and `openpyxl` as well, since these are optional libraries used in the background."
   ]
  },
  {
   "cell_type": "code",
   "execution_count": 9,
   "id": "dff0d94b",
   "metadata": {},
   "outputs": [
    {
     "data": {
      "text/html": [
       "<div>\n",
       "<style scoped>\n",
       "    .dataframe tbody tr th:only-of-type {\n",
       "        vertical-align: middle;\n",
       "    }\n",
       "\n",
       "    .dataframe tbody tr th {\n",
       "        vertical-align: top;\n",
       "    }\n",
       "\n",
       "    .dataframe thead th {\n",
       "        text-align: right;\n",
       "    }\n",
       "</style>\n",
       "<table border=\"1\" class=\"dataframe\">\n",
       "  <thead>\n",
       "    <tr style=\"text-align: right;\">\n",
       "      <th></th>\n",
       "      <th>TDEP</th>\n",
       "      <th>Azimuth</th>\n",
       "      <th>Dip_TRU</th>\n",
       "      <th>FRACTURE_APERTURE[0]</th>\n",
       "      <th>FVA (mean fracture height)</th>\n",
       "      <th>FVAH (mean hydraulic fracture height)</th>\n",
       "      <th>Induced_Fracture_Height_N</th>\n",
       "      <th>Breakout_Azimuth_N</th>\n",
       "      <th>Breakout_Dip_Azimuth</th>\n",
       "      <th>Type</th>\n",
       "    </tr>\n",
       "  </thead>\n",
       "  <tbody>\n",
       "    <tr>\n",
       "      <th>0</th>\n",
       "      <td>7442.499500</td>\n",
       "      <td>352.36110</td>\n",
       "      <td>85.95914</td>\n",
       "      <td>68.98955</td>\n",
       "      <td>0.253895</td>\n",
       "      <td>0.278163</td>\n",
       "      <td>NaN</td>\n",
       "      <td>NaN</td>\n",
       "      <td>NaN</td>\n",
       "      <td>Conductive_Part_Resistive_Fracture</td>\n",
       "    </tr>\n",
       "    <tr>\n",
       "      <th>1</th>\n",
       "      <td>7442.681591</td>\n",
       "      <td>308.80010</td>\n",
       "      <td>88.82356</td>\n",
       "      <td>NaN</td>\n",
       "      <td>NaN</td>\n",
       "      <td>NaN</td>\n",
       "      <td>NaN</td>\n",
       "      <td>128.7822</td>\n",
       "      <td>38.80008</td>\n",
       "      <td>Breakout</td>\n",
       "    </tr>\n",
       "    <tr>\n",
       "      <th>2</th>\n",
       "      <td>7443.234932</td>\n",
       "      <td>307.39560</td>\n",
       "      <td>88.85078</td>\n",
       "      <td>NaN</td>\n",
       "      <td>NaN</td>\n",
       "      <td>NaN</td>\n",
       "      <td>NaN</td>\n",
       "      <td>307.3779</td>\n",
       "      <td>37.39557</td>\n",
       "      <td>Breakout</td>\n",
       "    </tr>\n",
       "    <tr>\n",
       "      <th>3</th>\n",
       "      <td>7444.356259</td>\n",
       "      <td>285.51500</td>\n",
       "      <td>81.06979</td>\n",
       "      <td>42.64809</td>\n",
       "      <td>0.160323</td>\n",
       "      <td>0.433830</td>\n",
       "      <td>NaN</td>\n",
       "      <td>NaN</td>\n",
       "      <td>NaN</td>\n",
       "      <td>Conductive_Part_Resistive_Fracture</td>\n",
       "    </tr>\n",
       "    <tr>\n",
       "      <th>4</th>\n",
       "      <td>7445.044424</td>\n",
       "      <td>92.84357</td>\n",
       "      <td>20.37420</td>\n",
       "      <td>215.74910</td>\n",
       "      <td>0.207950</td>\n",
       "      <td>0.236389</td>\n",
       "      <td>NaN</td>\n",
       "      <td>NaN</td>\n",
       "      <td>NaN</td>\n",
       "      <td>Conductive_Part_Resistive_Fracture</td>\n",
       "    </tr>\n",
       "  </tbody>\n",
       "</table>\n",
       "</div>"
      ],
      "text/plain": [
       "          TDEP    Azimuth   Dip_TRU  FRACTURE_APERTURE[0]  \\\n",
       "0  7442.499500  352.36110  85.95914              68.98955   \n",
       "1  7442.681591  308.80010  88.82356                   NaN   \n",
       "2  7443.234932  307.39560  88.85078                   NaN   \n",
       "3  7444.356259  285.51500  81.06979              42.64809   \n",
       "4  7445.044424   92.84357  20.37420             215.74910   \n",
       "\n",
       "   FVA (mean fracture height)  FVAH (mean hydraulic fracture height)  \\\n",
       "0                    0.253895                               0.278163   \n",
       "1                         NaN                                    NaN   \n",
       "2                         NaN                                    NaN   \n",
       "3                    0.160323                               0.433830   \n",
       "4                    0.207950                               0.236389   \n",
       "\n",
       "   Induced_Fracture_Height_N  Breakout_Azimuth_N  Breakout_Dip_Azimuth  \\\n",
       "0                        NaN                 NaN                   NaN   \n",
       "1                        NaN            128.7822              38.80008   \n",
       "2                        NaN            307.3779              37.39557   \n",
       "3                        NaN                 NaN                   NaN   \n",
       "4                        NaN                 NaN                   NaN   \n",
       "\n",
       "                                 Type  \n",
       "0  Conductive_Part_Resistive_Fracture  \n",
       "1                            Breakout  \n",
       "2                            Breakout  \n",
       "3  Conductive_Part_Resistive_Fracture  \n",
       "4  Conductive_Part_Resistive_Fracture  "
      ]
     },
     "execution_count": 9,
     "metadata": {},
     "output_type": "execute_result"
    }
   ],
   "source": [
    "fname = spot.fetch('FMI_run2_feature_picks.xlsx')\n",
    "df = pd.read_excel(fname)\n",
    "df.head()"
   ]
  },
  {
   "cell_type": "markdown",
   "id": "af0b5c73",
   "metadata": {},
   "source": [
    "It is worth noting that you can either read individual worksheets, or load multiple ones into one dictionary. As with `*.csv` files, we can easily write back to disk from pandas:"
   ]
  },
  {
   "cell_type": "code",
   "execution_count": 10,
   "id": "b22f3df2",
   "metadata": {},
   "outputs": [
    {
     "data": {
      "text/plain": [
       "Index(['TDEP', 'Azimuth', 'Dip_TRU', 'FRACTURE_APERTURE[0]',\n",
       "       'FVA (mean fracture height)', 'FVAH (mean hydraulic fracture height)',\n",
       "       'Induced_Fracture_Height_N', 'Breakout_Azimuth_N',\n",
       "       'Breakout_Dip_Azimuth', 'Type'],\n",
       "      dtype='object')"
      ]
     },
     "execution_count": 10,
     "metadata": {},
     "output_type": "execute_result"
    }
   ],
   "source": [
    "df.columns"
   ]
  },
  {
   "cell_type": "code",
   "execution_count": 11,
   "id": "301dba63",
   "metadata": {},
   "outputs": [
    {
     "data": {
      "text/html": [
       "<div>\n",
       "<style scoped>\n",
       "    .dataframe tbody tr th:only-of-type {\n",
       "        vertical-align: middle;\n",
       "    }\n",
       "\n",
       "    .dataframe tbody tr th {\n",
       "        vertical-align: top;\n",
       "    }\n",
       "\n",
       "    .dataframe thead th {\n",
       "        text-align: right;\n",
       "    }\n",
       "</style>\n",
       "<table border=\"1\" class=\"dataframe\">\n",
       "  <thead>\n",
       "    <tr style=\"text-align: right;\">\n",
       "      <th></th>\n",
       "      <th>TDEP</th>\n",
       "      <th>Azimuth</th>\n",
       "      <th>Dip_TRU</th>\n",
       "      <th>FRACTURE_APERTURE[0]</th>\n",
       "    </tr>\n",
       "  </thead>\n",
       "  <tbody>\n",
       "    <tr>\n",
       "      <th>4</th>\n",
       "      <td>7445.044424</td>\n",
       "      <td>92.84357</td>\n",
       "      <td>20.37420</td>\n",
       "      <td>215.74910</td>\n",
       "    </tr>\n",
       "    <tr>\n",
       "      <th>68</th>\n",
       "      <td>7500.826235</td>\n",
       "      <td>67.46991</td>\n",
       "      <td>26.24434</td>\n",
       "      <td>160.55750</td>\n",
       "    </tr>\n",
       "    <tr>\n",
       "      <th>69</th>\n",
       "      <td>7501.285741</td>\n",
       "      <td>82.76354</td>\n",
       "      <td>24.28477</td>\n",
       "      <td>150.52260</td>\n",
       "    </tr>\n",
       "    <tr>\n",
       "      <th>70</th>\n",
       "      <td>7501.523337</td>\n",
       "      <td>73.33259</td>\n",
       "      <td>26.63311</td>\n",
       "      <td>180.62720</td>\n",
       "    </tr>\n",
       "    <tr>\n",
       "      <th>112</th>\n",
       "      <td>7532.651980</td>\n",
       "      <td>114.40920</td>\n",
       "      <td>80.00818</td>\n",
       "      <td>147.09680</td>\n",
       "    </tr>\n",
       "    <tr>\n",
       "      <th>124</th>\n",
       "      <td>7541.789573</td>\n",
       "      <td>115.30050</td>\n",
       "      <td>56.43068</td>\n",
       "      <td>68.38709</td>\n",
       "    </tr>\n",
       "  </tbody>\n",
       "</table>\n",
       "</div>"
      ],
      "text/plain": [
       "            TDEP    Azimuth   Dip_TRU  FRACTURE_APERTURE[0]\n",
       "4    7445.044424   92.84357  20.37420             215.74910\n",
       "68   7500.826235   67.46991  26.24434             160.55750\n",
       "69   7501.285741   82.76354  24.28477             150.52260\n",
       "70   7501.523337   73.33259  26.63311             180.62720\n",
       "112  7532.651980  114.40920  80.00818             147.09680\n",
       "124  7541.789573  115.30050  56.43068              68.38709"
      ]
     },
     "execution_count": 11,
     "metadata": {},
     "output_type": "execute_result"
    }
   ],
   "source": [
    "df_sample = df.loc[(60 < df['Azimuth']) &\n",
    "                   (df['Azimuth'] < 120) &\n",
    "                   (df['FRACTURE_APERTURE[0]'] > 50),\n",
    "                   ['TDEP', 'Azimuth', 'Dip_TRU', 'FRACTURE_APERTURE[0]']\n",
    "                  ]\n",
    "df_sample"
   ]
  },
  {
   "cell_type": "code",
   "execution_count": 12,
   "id": "49b790cf",
   "metadata": {},
   "outputs": [],
   "source": [
    "# TODO: Change path in prod to `../data`\n",
    "with pd.ExcelWriter(\"./data/Large_fracs_east_sample.xlsx\") as writer:\n",
    "    df_sample.to_excel(writer)"
   ]
  },
  {
   "cell_type": "markdown",
   "id": "8f546eda",
   "metadata": {},
   "source": [
    "## Databases\n",
    "\n",
    "There are numerous ways of reading a database, which partially depends on the type of database. Pandas can read or write SQL, so it a reasonable starting point.\n",
    "\n",
    "For a more powerful and flexible option, consider [sqlalchemy](https://www.sqlalchemy.org/)."
   ]
  },
  {
   "cell_type": "markdown",
   "id": "ae771153",
   "metadata": {},
   "source": [
    "## JSON\n",
    "\n",
    "JavaScript Object Notation is a very common format used to exchange information on the internet, so you may get this back from various Application Programming Interfaces (APIs). It is very similar to a python `dict`, which is how these are usually handled once they are loaded. There is a built-in library for working with these, logically enough named `json`. This can handle json files in string format as well."
   ]
  },
  {
   "cell_type": "code",
   "execution_count": 13,
   "id": "8f6ce305",
   "metadata": {},
   "outputs": [],
   "source": [
    "import json"
   ]
  },
  {
   "cell_type": "code",
   "execution_count": 14,
   "id": "ed69fe2a",
   "metadata": {},
   "outputs": [],
   "source": [
    "#json.load()"
   ]
  },
  {
   "cell_type": "code",
   "execution_count": 15,
   "id": "bece68b4",
   "metadata": {},
   "outputs": [],
   "source": [
    "#json.dump()"
   ]
  },
  {
   "cell_type": "markdown",
   "id": "e76145e0",
   "metadata": {},
   "source": [
    "<hr/>\n",
    "\n",
    "The following are more geoscience or subsurface data formats.\n",
    "\n",
    "## Shapefiles\n",
    "\n",
    "These are a common geographical information system format, originally developed by Esri. A simple way to load these is to use geopandas:"
   ]
  },
  {
   "cell_type": "code",
   "execution_count": 16,
   "id": "baa2e6f3",
   "metadata": {},
   "outputs": [],
   "source": [
    "import geopandas as gpd"
   ]
  },
  {
   "cell_type": "code",
   "execution_count": 17,
   "id": "0be9aac4",
   "metadata": {},
   "outputs": [],
   "source": [
    "#gdf = gpd.read_file()"
   ]
  },
  {
   "cell_type": "markdown",
   "id": "5f1e29ef",
   "metadata": {},
   "source": [
    "Because geopandas uses `fiona` in the background for file handling, it can handle the following formats in addition to shapefiles. Files with `'r'` can read from, `'w'` can be written to, and `'a'` can be appended to."
   ]
  },
  {
   "cell_type": "code",
   "execution_count": 18,
   "id": "5a3ec316",
   "metadata": {},
   "outputs": [
    {
     "data": {
      "text/plain": [
       "{'ARCGEN': 'r',\n",
       " 'DXF': 'rw',\n",
       " 'CSV': 'raw',\n",
       " 'OpenFileGDB': 'r',\n",
       " 'ESRIJSON': 'r',\n",
       " 'ESRI Shapefile': 'raw',\n",
       " 'FlatGeobuf': 'rw',\n",
       " 'GeoJSON': 'raw',\n",
       " 'GeoJSONSeq': 'rw',\n",
       " 'GPKG': 'raw',\n",
       " 'GML': 'rw',\n",
       " 'OGR_GMT': 'rw',\n",
       " 'GPX': 'rw',\n",
       " 'GPSTrackMaker': 'rw',\n",
       " 'Idrisi': 'r',\n",
       " 'MapInfo File': 'raw',\n",
       " 'DGN': 'raw',\n",
       " 'PCIDSK': 'rw',\n",
       " 'OGR_PDS': 'r',\n",
       " 'S57': 'r',\n",
       " 'SQLite': 'raw',\n",
       " 'TopoJSON': 'r'}"
      ]
     },
     "execution_count": 18,
     "metadata": {},
     "output_type": "execute_result"
    }
   ],
   "source": [
    "import fiona\n",
    "fiona.supported_drivers"
   ]
  },
  {
   "cell_type": "markdown",
   "id": "a03e95b0",
   "metadata": {},
   "source": [
    "## LAS files\n",
    "\n",
    "`lasio` is a library that is able to read LAS2 files, but `welly` is a wrapper that may be nicer to use for everyday use:"
   ]
  },
  {
   "cell_type": "code",
   "execution_count": 19,
   "id": "3444dc45",
   "metadata": {},
   "outputs": [],
   "source": [
    "from welly import Well, Project"
   ]
  },
  {
   "cell_type": "code",
   "execution_count": 20,
   "id": "e0c10502",
   "metadata": {},
   "outputs": [
    {
     "data": {
      "text/html": [
       "<table><tr><th style=\"text-align:center;\" colspan=\"2\">PENOBSCOT B-41<br><small></small></th></tr><tr><td><strong>crs</strong></td><td>CRS({})</td></tr><tr><td><strong>location</strong></td><td>44'10'02; N LAT|60'06'32; W LO</td></tr><tr><td><strong>county</strong></td><td>NOVA SCOTIA SHELF</td></tr><tr><td><strong>latitude</strong></td><td>0</td></tr><tr><td><strong>longitude</strong></td><td>0</td></tr><tr><td><strong>td</strong></td><td>None</td></tr><tr><td><strong>data</strong></td><td>CALD, CALS, DEPTH:2, DRHO, DT, GRD, GRS, ILD, ILM, LL8, NPHISS, RHOB, SP</td></tr></table>"
      ],
      "text/plain": [
       "Well(uwi: '', name: 'PENOBSCOT B-41', 13 curves: ['CALD', 'CALS', 'DEPTH:2', 'DRHO', 'DT', 'GRD', 'GRS', 'ILD', 'ILM', 'LL8', 'NPHISS', 'RHOB', 'SP'])"
      ]
     },
     "execution_count": 20,
     "metadata": {},
     "output_type": "execute_result"
    }
   ],
   "source": [
    "# TODO: Change path in prod to `../data`\n",
    "fname = spot.fetch('B-41.las')\n",
    "w = Well.from_las(fname)\n",
    "w"
   ]
  },
  {
   "cell_type": "markdown",
   "id": "eae257a7",
   "metadata": {},
   "source": [
    "Welly can also load an entire directory of las files into a `Project`, see the [welly docs](https://code.agilescientific.com/welly/userguide/Projects.html) for an example."
   ]
  },
  {
   "cell_type": "markdown",
   "id": "61aaf35f",
   "metadata": {},
   "source": [
    "## SEG-Y\n",
    "\n",
    "The SEG-Y format is widely-used, although any given individual file can be tricky to load. Equinor has written a low-level library named [`segyio`](https://github.com/equinor/segyio) which can (with some effort in some cases) read and write SEG-Y files and headers."
   ]
  },
  {
   "cell_type": "code",
   "execution_count": 21,
   "id": "9930266c",
   "metadata": {},
   "outputs": [],
   "source": [
    "import segyio"
   ]
  },
  {
   "cell_type": "code",
   "execution_count": 22,
   "id": "732f795f",
   "metadata": {},
   "outputs": [
    {
     "data": {
      "text/plain": [
       "(225, 300, 463)"
      ]
     },
     "execution_count": 22,
     "metadata": {},
     "output_type": "execute_result"
    }
   ],
   "source": [
    "fname = spot.fetch('F3_8-bit_int.sgy')\n",
    "\n",
    "with segyio.open(fname) as s:\n",
    "    vol = segyio.cube(s)\n",
    "vol.shape"
   ]
  },
  {
   "cell_type": "markdown",
   "id": "d03d2123",
   "metadata": {},
   "source": [
    "Given that `segyio` is intended for relatively low-level operations, it means that there is a fair amount of work to get things working. An alternative, built on top of it is SEGY Swis Army Knife ([SEGYSAK](https://segysak.readthedocs.io/en/latest/index.html)). This is intended to make common operations a little easier. It also interfaces with `xarray`, which is an extension of numpy, and well-worth a look."
   ]
  },
  {
   "cell_type": "code",
   "execution_count": 23,
   "id": "3589776d",
   "metadata": {},
   "outputs": [
    {
     "name": "stderr",
     "output_type": "stream",
     "text": [
      "/home/geodev/miniconda3/envs/geocomp/lib/python3.9/site-packages/segysak/segy/_segy_core.py:7: TqdmExperimentalWarning: Using `tqdm.autonotebook.tqdm` in notebook mode. Use `tqdm.tqdm` instead to force console mode (e.g. in jupyter console)\n",
      "  from tqdm.autonotebook import tqdm\n"
     ]
    }
   ],
   "source": [
    "from segysak.segy import segy_loader"
   ]
  },
  {
   "cell_type": "code",
   "execution_count": 24,
   "id": "a87dc040",
   "metadata": {},
   "outputs": [
    {
     "data": {
      "application/vnd.jupyter.widget-view+json": {
       "model_id": "486b227acf35494db1be5cbaf70f26f4",
       "version_major": 2,
       "version_minor": 0
      },
      "text/plain": [
       "  0%|          | 0.00/67.5k [00:00<?, ? traces/s]"
      ]
     },
     "metadata": {},
     "output_type": "display_data"
    },
    {
     "name": "stdout",
     "output_type": "stream",
     "text": [
      "Loading as 3D\n",
      "Fast direction is INLINE_3D\n"
     ]
    },
    {
     "data": {
      "application/vnd.jupyter.widget-view+json": {
       "model_id": "a374fb556624421f8a7732fea8362bee",
       "version_major": 2,
       "version_minor": 0
      },
      "text/plain": [
       "Converting SEGY:   0%|          | 0.00/67.5k [00:00<?, ? traces/s]"
      ]
     },
     "metadata": {},
     "output_type": "display_data"
    },
    {
     "data": {
      "text/html": [
       "<div><svg style=\"position: absolute; width: 0; height: 0; overflow: hidden\">\n",
       "<defs>\n",
       "<symbol id=\"icon-database\" viewBox=\"0 0 32 32\">\n",
       "<path d=\"M16 0c-8.837 0-16 2.239-16 5v4c0 2.761 7.163 5 16 5s16-2.239 16-5v-4c0-2.761-7.163-5-16-5z\"></path>\n",
       "<path d=\"M16 17c-8.837 0-16-2.239-16-5v6c0 2.761 7.163 5 16 5s16-2.239 16-5v-6c0 2.761-7.163 5-16 5z\"></path>\n",
       "<path d=\"M16 26c-8.837 0-16-2.239-16-5v6c0 2.761 7.163 5 16 5s16-2.239 16-5v-6c0 2.761-7.163 5-16 5z\"></path>\n",
       "</symbol>\n",
       "<symbol id=\"icon-file-text2\" viewBox=\"0 0 32 32\">\n",
       "<path d=\"M28.681 7.159c-0.694-0.947-1.662-2.053-2.724-3.116s-2.169-2.030-3.116-2.724c-1.612-1.182-2.393-1.319-2.841-1.319h-15.5c-1.378 0-2.5 1.121-2.5 2.5v27c0 1.378 1.122 2.5 2.5 2.5h23c1.378 0 2.5-1.122 2.5-2.5v-19.5c0-0.448-0.137-1.23-1.319-2.841zM24.543 5.457c0.959 0.959 1.712 1.825 2.268 2.543h-4.811v-4.811c0.718 0.556 1.584 1.309 2.543 2.268zM28 29.5c0 0.271-0.229 0.5-0.5 0.5h-23c-0.271 0-0.5-0.229-0.5-0.5v-27c0-0.271 0.229-0.5 0.5-0.5 0 0 15.499-0 15.5 0v7c0 0.552 0.448 1 1 1h7v19.5z\"></path>\n",
       "<path d=\"M23 26h-14c-0.552 0-1-0.448-1-1s0.448-1 1-1h14c0.552 0 1 0.448 1 1s-0.448 1-1 1z\"></path>\n",
       "<path d=\"M23 22h-14c-0.552 0-1-0.448-1-1s0.448-1 1-1h14c0.552 0 1 0.448 1 1s-0.448 1-1 1z\"></path>\n",
       "<path d=\"M23 18h-14c-0.552 0-1-0.448-1-1s0.448-1 1-1h14c0.552 0 1 0.448 1 1s-0.448 1-1 1z\"></path>\n",
       "</symbol>\n",
       "</defs>\n",
       "</svg>\n",
       "<style>/* CSS stylesheet for displaying xarray objects in jupyterlab.\n",
       " *\n",
       " */\n",
       "\n",
       ":root {\n",
       "  --xr-font-color0: var(--jp-content-font-color0, rgba(0, 0, 0, 1));\n",
       "  --xr-font-color2: var(--jp-content-font-color2, rgba(0, 0, 0, 0.54));\n",
       "  --xr-font-color3: var(--jp-content-font-color3, rgba(0, 0, 0, 0.38));\n",
       "  --xr-border-color: var(--jp-border-color2, #e0e0e0);\n",
       "  --xr-disabled-color: var(--jp-layout-color3, #bdbdbd);\n",
       "  --xr-background-color: var(--jp-layout-color0, white);\n",
       "  --xr-background-color-row-even: var(--jp-layout-color1, white);\n",
       "  --xr-background-color-row-odd: var(--jp-layout-color2, #eeeeee);\n",
       "}\n",
       "\n",
       "html[theme=dark],\n",
       "body.vscode-dark {\n",
       "  --xr-font-color0: rgba(255, 255, 255, 1);\n",
       "  --xr-font-color2: rgba(255, 255, 255, 0.54);\n",
       "  --xr-font-color3: rgba(255, 255, 255, 0.38);\n",
       "  --xr-border-color: #1F1F1F;\n",
       "  --xr-disabled-color: #515151;\n",
       "  --xr-background-color: #111111;\n",
       "  --xr-background-color-row-even: #111111;\n",
       "  --xr-background-color-row-odd: #313131;\n",
       "}\n",
       "\n",
       ".xr-wrap {\n",
       "  display: block;\n",
       "  min-width: 300px;\n",
       "  max-width: 700px;\n",
       "}\n",
       "\n",
       ".xr-text-repr-fallback {\n",
       "  /* fallback to plain text repr when CSS is not injected (untrusted notebook) */\n",
       "  display: none;\n",
       "}\n",
       "\n",
       ".xr-header {\n",
       "  padding-top: 6px;\n",
       "  padding-bottom: 6px;\n",
       "  margin-bottom: 4px;\n",
       "  border-bottom: solid 1px var(--xr-border-color);\n",
       "}\n",
       "\n",
       ".xr-header > div,\n",
       ".xr-header > ul {\n",
       "  display: inline;\n",
       "  margin-top: 0;\n",
       "  margin-bottom: 0;\n",
       "}\n",
       "\n",
       ".xr-obj-type,\n",
       ".xr-array-name {\n",
       "  margin-left: 2px;\n",
       "  margin-right: 10px;\n",
       "}\n",
       "\n",
       ".xr-obj-type {\n",
       "  color: var(--xr-font-color2);\n",
       "}\n",
       "\n",
       ".xr-sections {\n",
       "  padding-left: 0 !important;\n",
       "  display: grid;\n",
       "  grid-template-columns: 150px auto auto 1fr 20px 20px;\n",
       "}\n",
       "\n",
       ".xr-section-item {\n",
       "  display: contents;\n",
       "}\n",
       "\n",
       ".xr-section-item input {\n",
       "  display: none;\n",
       "}\n",
       "\n",
       ".xr-section-item input + label {\n",
       "  color: var(--xr-disabled-color);\n",
       "}\n",
       "\n",
       ".xr-section-item input:enabled + label {\n",
       "  cursor: pointer;\n",
       "  color: var(--xr-font-color2);\n",
       "}\n",
       "\n",
       ".xr-section-item input:enabled + label:hover {\n",
       "  color: var(--xr-font-color0);\n",
       "}\n",
       "\n",
       ".xr-section-summary {\n",
       "  grid-column: 1;\n",
       "  color: var(--xr-font-color2);\n",
       "  font-weight: 500;\n",
       "}\n",
       "\n",
       ".xr-section-summary > span {\n",
       "  display: inline-block;\n",
       "  padding-left: 0.5em;\n",
       "}\n",
       "\n",
       ".xr-section-summary-in:disabled + label {\n",
       "  color: var(--xr-font-color2);\n",
       "}\n",
       "\n",
       ".xr-section-summary-in + label:before {\n",
       "  display: inline-block;\n",
       "  content: '►';\n",
       "  font-size: 11px;\n",
       "  width: 15px;\n",
       "  text-align: center;\n",
       "}\n",
       "\n",
       ".xr-section-summary-in:disabled + label:before {\n",
       "  color: var(--xr-disabled-color);\n",
       "}\n",
       "\n",
       ".xr-section-summary-in:checked + label:before {\n",
       "  content: '▼';\n",
       "}\n",
       "\n",
       ".xr-section-summary-in:checked + label > span {\n",
       "  display: none;\n",
       "}\n",
       "\n",
       ".xr-section-summary,\n",
       ".xr-section-inline-details {\n",
       "  padding-top: 4px;\n",
       "  padding-bottom: 4px;\n",
       "}\n",
       "\n",
       ".xr-section-inline-details {\n",
       "  grid-column: 2 / -1;\n",
       "}\n",
       "\n",
       ".xr-section-details {\n",
       "  display: none;\n",
       "  grid-column: 1 / -1;\n",
       "  margin-bottom: 5px;\n",
       "}\n",
       "\n",
       ".xr-section-summary-in:checked ~ .xr-section-details {\n",
       "  display: contents;\n",
       "}\n",
       "\n",
       ".xr-array-wrap {\n",
       "  grid-column: 1 / -1;\n",
       "  display: grid;\n",
       "  grid-template-columns: 20px auto;\n",
       "}\n",
       "\n",
       ".xr-array-wrap > label {\n",
       "  grid-column: 1;\n",
       "  vertical-align: top;\n",
       "}\n",
       "\n",
       ".xr-preview {\n",
       "  color: var(--xr-font-color3);\n",
       "}\n",
       "\n",
       ".xr-array-preview,\n",
       ".xr-array-data {\n",
       "  padding: 0 5px !important;\n",
       "  grid-column: 2;\n",
       "}\n",
       "\n",
       ".xr-array-data,\n",
       ".xr-array-in:checked ~ .xr-array-preview {\n",
       "  display: none;\n",
       "}\n",
       "\n",
       ".xr-array-in:checked ~ .xr-array-data,\n",
       ".xr-array-preview {\n",
       "  display: inline-block;\n",
       "}\n",
       "\n",
       ".xr-dim-list {\n",
       "  display: inline-block !important;\n",
       "  list-style: none;\n",
       "  padding: 0 !important;\n",
       "  margin: 0;\n",
       "}\n",
       "\n",
       ".xr-dim-list li {\n",
       "  display: inline-block;\n",
       "  padding: 0;\n",
       "  margin: 0;\n",
       "}\n",
       "\n",
       ".xr-dim-list:before {\n",
       "  content: '(';\n",
       "}\n",
       "\n",
       ".xr-dim-list:after {\n",
       "  content: ')';\n",
       "}\n",
       "\n",
       ".xr-dim-list li:not(:last-child):after {\n",
       "  content: ',';\n",
       "  padding-right: 5px;\n",
       "}\n",
       "\n",
       ".xr-has-index {\n",
       "  font-weight: bold;\n",
       "}\n",
       "\n",
       ".xr-var-list,\n",
       ".xr-var-item {\n",
       "  display: contents;\n",
       "}\n",
       "\n",
       ".xr-var-item > div,\n",
       ".xr-var-item label,\n",
       ".xr-var-item > .xr-var-name span {\n",
       "  background-color: var(--xr-background-color-row-even);\n",
       "  margin-bottom: 0;\n",
       "}\n",
       "\n",
       ".xr-var-item > .xr-var-name:hover span {\n",
       "  padding-right: 5px;\n",
       "}\n",
       "\n",
       ".xr-var-list > li:nth-child(odd) > div,\n",
       ".xr-var-list > li:nth-child(odd) > label,\n",
       ".xr-var-list > li:nth-child(odd) > .xr-var-name span {\n",
       "  background-color: var(--xr-background-color-row-odd);\n",
       "}\n",
       "\n",
       ".xr-var-name {\n",
       "  grid-column: 1;\n",
       "}\n",
       "\n",
       ".xr-var-dims {\n",
       "  grid-column: 2;\n",
       "}\n",
       "\n",
       ".xr-var-dtype {\n",
       "  grid-column: 3;\n",
       "  text-align: right;\n",
       "  color: var(--xr-font-color2);\n",
       "}\n",
       "\n",
       ".xr-var-preview {\n",
       "  grid-column: 4;\n",
       "}\n",
       "\n",
       ".xr-var-name,\n",
       ".xr-var-dims,\n",
       ".xr-var-dtype,\n",
       ".xr-preview,\n",
       ".xr-attrs dt {\n",
       "  white-space: nowrap;\n",
       "  overflow: hidden;\n",
       "  text-overflow: ellipsis;\n",
       "  padding-right: 10px;\n",
       "}\n",
       "\n",
       ".xr-var-name:hover,\n",
       ".xr-var-dims:hover,\n",
       ".xr-var-dtype:hover,\n",
       ".xr-attrs dt:hover {\n",
       "  overflow: visible;\n",
       "  width: auto;\n",
       "  z-index: 1;\n",
       "}\n",
       "\n",
       ".xr-var-attrs,\n",
       ".xr-var-data {\n",
       "  display: none;\n",
       "  background-color: var(--xr-background-color) !important;\n",
       "  padding-bottom: 5px !important;\n",
       "}\n",
       "\n",
       ".xr-var-attrs-in:checked ~ .xr-var-attrs,\n",
       ".xr-var-data-in:checked ~ .xr-var-data {\n",
       "  display: block;\n",
       "}\n",
       "\n",
       ".xr-var-data > table {\n",
       "  float: right;\n",
       "}\n",
       "\n",
       ".xr-var-name span,\n",
       ".xr-var-data,\n",
       ".xr-attrs {\n",
       "  padding-left: 25px !important;\n",
       "}\n",
       "\n",
       ".xr-attrs,\n",
       ".xr-var-attrs,\n",
       ".xr-var-data {\n",
       "  grid-column: 1 / -1;\n",
       "}\n",
       "\n",
       "dl.xr-attrs {\n",
       "  padding: 0;\n",
       "  margin: 0;\n",
       "  display: grid;\n",
       "  grid-template-columns: 125px auto;\n",
       "}\n",
       "\n",
       ".xr-attrs dt,\n",
       ".xr-attrs dd {\n",
       "  padding: 0;\n",
       "  margin: 0;\n",
       "  float: left;\n",
       "  padding-right: 10px;\n",
       "  width: auto;\n",
       "}\n",
       "\n",
       ".xr-attrs dt {\n",
       "  font-weight: normal;\n",
       "  grid-column: 1;\n",
       "}\n",
       "\n",
       ".xr-attrs dt:hover span {\n",
       "  display: inline-block;\n",
       "  background: var(--xr-background-color);\n",
       "  padding-right: 10px;\n",
       "}\n",
       "\n",
       ".xr-attrs dd {\n",
       "  grid-column: 2;\n",
       "  white-space: pre-wrap;\n",
       "  word-break: break-all;\n",
       "}\n",
       "\n",
       ".xr-icon-database,\n",
       ".xr-icon-file-text2 {\n",
       "  display: inline-block;\n",
       "  vertical-align: middle;\n",
       "  width: 1em;\n",
       "  height: 1.5em !important;\n",
       "  stroke-width: 0;\n",
       "  stroke: currentColor;\n",
       "  fill: currentColor;\n",
       "}\n",
       "</style><pre class='xr-text-repr-fallback'>&lt;xarray.Dataset&gt;\n",
       "Dimensions:  (iline: 225, xline: 300, twt: 463)\n",
       "Coordinates:\n",
       "  * iline    (iline) uint16 110 112 114 116 118 120 ... 548 550 552 554 556 558\n",
       "  * xline    (xline) uint16 550 552 554 556 558 560 ... 1140 1142 1144 1146 1148\n",
       "  * twt      (twt) float64 0.0 4.0 8.0 12.0 ... 1.84e+03 1.844e+03 1.848e+03\n",
       "    cdp_x    (iline, xline) float32 6.121e+05 6.121e+05 ... 6.267e+05 6.267e+05\n",
       "    cdp_y    (iline, xline) float32 6.074e+06 6.074e+06 ... 6.086e+06 6.086e+06\n",
       "Data variables:\n",
       "    data     (iline, xline, twt) float32 0.0 0.0 0.0 0.0 ... 127.0 62.0 5.0\n",
       "Attributes: (12/13)\n",
       "    ns:                  None\n",
       "    sample_rate:         4.0\n",
       "    text:                C01   SEG-Y exported from OpendTect 6.6.5 at Mon 15 ...\n",
       "    measurement_system:  m\n",
       "    d3_domain:           None\n",
       "    epsg:                None\n",
       "    ...                  ...\n",
       "    corner_points_xy:    None\n",
       "    source_file:         F3_8-bit_int.sgy\n",
       "    srd:                 None\n",
       "    datatype:            None\n",
       "    percentiles:         [-126.99998259544373, -126.90236565077305, -47.36765...\n",
       "    coord_scalar:        -10.0</pre><div class='xr-wrap' hidden><div class='xr-header'><div class='xr-obj-type'>xarray.Dataset</div></div><ul class='xr-sections'><li class='xr-section-item'><input id='section-36e86143-a50c-4ea4-ae74-b9a30323aaa9' class='xr-section-summary-in' type='checkbox' disabled ><label for='section-36e86143-a50c-4ea4-ae74-b9a30323aaa9' class='xr-section-summary'  title='Expand/collapse section'>Dimensions:</label><div class='xr-section-inline-details'><ul class='xr-dim-list'><li><span class='xr-has-index'>iline</span>: 225</li><li><span class='xr-has-index'>xline</span>: 300</li><li><span class='xr-has-index'>twt</span>: 463</li></ul></div><div class='xr-section-details'></div></li><li class='xr-section-item'><input id='section-124aa543-2b5a-41d2-81e4-c1548593acb2' class='xr-section-summary-in' type='checkbox'  checked><label for='section-124aa543-2b5a-41d2-81e4-c1548593acb2' class='xr-section-summary' >Coordinates: <span>(5)</span></label><div class='xr-section-inline-details'></div><div class='xr-section-details'><ul class='xr-var-list'><li class='xr-var-item'><div class='xr-var-name'><span class='xr-has-index'>iline</span></div><div class='xr-var-dims'>(iline)</div><div class='xr-var-dtype'>uint16</div><div class='xr-var-preview xr-preview'>110 112 114 116 ... 552 554 556 558</div><input id='attrs-6b76e98d-72b7-4b7f-858a-fcce35d163d3' class='xr-var-attrs-in' type='checkbox' disabled><label for='attrs-6b76e98d-72b7-4b7f-858a-fcce35d163d3' title='Show/Hide attributes'><svg class='icon xr-icon-file-text2'><use xlink:href='#icon-file-text2'></use></svg></label><input id='data-19c11b88-8c2d-4b9b-b5db-a30e1e2736bc' class='xr-var-data-in' type='checkbox'><label for='data-19c11b88-8c2d-4b9b-b5db-a30e1e2736bc' title='Show/Hide data repr'><svg class='icon xr-icon-database'><use xlink:href='#icon-database'></use></svg></label><div class='xr-var-attrs'><dl class='xr-attrs'></dl></div><div class='xr-var-data'><pre>array([110, 112, 114, ..., 554, 556, 558], dtype=uint16)</pre></div></li><li class='xr-var-item'><div class='xr-var-name'><span class='xr-has-index'>xline</span></div><div class='xr-var-dims'>(xline)</div><div class='xr-var-dtype'>uint16</div><div class='xr-var-preview xr-preview'>550 552 554 556 ... 1144 1146 1148</div><input id='attrs-6757f14b-603d-4d4b-9723-a586c794d069' class='xr-var-attrs-in' type='checkbox' disabled><label for='attrs-6757f14b-603d-4d4b-9723-a586c794d069' title='Show/Hide attributes'><svg class='icon xr-icon-file-text2'><use xlink:href='#icon-file-text2'></use></svg></label><input id='data-148f7f66-a526-4455-b506-8ae7792930e1' class='xr-var-data-in' type='checkbox'><label for='data-148f7f66-a526-4455-b506-8ae7792930e1' title='Show/Hide data repr'><svg class='icon xr-icon-database'><use xlink:href='#icon-database'></use></svg></label><div class='xr-var-attrs'><dl class='xr-attrs'></dl></div><div class='xr-var-data'><pre>array([ 550,  552,  554, ..., 1144, 1146, 1148], dtype=uint16)</pre></div></li><li class='xr-var-item'><div class='xr-var-name'><span class='xr-has-index'>twt</span></div><div class='xr-var-dims'>(twt)</div><div class='xr-var-dtype'>float64</div><div class='xr-var-preview xr-preview'>0.0 4.0 8.0 ... 1.844e+03 1.848e+03</div><input id='attrs-af0d3d2c-6e75-42e8-b56c-718fd6519552' class='xr-var-attrs-in' type='checkbox' disabled><label for='attrs-af0d3d2c-6e75-42e8-b56c-718fd6519552' title='Show/Hide attributes'><svg class='icon xr-icon-file-text2'><use xlink:href='#icon-file-text2'></use></svg></label><input id='data-a49e91db-98f8-4eca-8304-8e6fbef25d04' class='xr-var-data-in' type='checkbox'><label for='data-a49e91db-98f8-4eca-8304-8e6fbef25d04' title='Show/Hide data repr'><svg class='icon xr-icon-database'><use xlink:href='#icon-database'></use></svg></label><div class='xr-var-attrs'><dl class='xr-attrs'></dl></div><div class='xr-var-data'><pre>array([   0.,    4.,    8., ..., 1840., 1844., 1848.])</pre></div></li><li class='xr-var-item'><div class='xr-var-name'><span>cdp_x</span></div><div class='xr-var-dims'>(iline, xline)</div><div class='xr-var-dtype'>float32</div><div class='xr-var-preview xr-preview'>6.121e+05 6.121e+05 ... 6.267e+05</div><input id='attrs-1a585688-7b2e-4419-a645-a449e438635c' class='xr-var-attrs-in' type='checkbox' disabled><label for='attrs-1a585688-7b2e-4419-a645-a449e438635c' title='Show/Hide attributes'><svg class='icon xr-icon-file-text2'><use xlink:href='#icon-file-text2'></use></svg></label><input id='data-d374505b-7c8c-4e03-a099-0ae7672b6d38' class='xr-var-data-in' type='checkbox'><label for='data-d374505b-7c8c-4e03-a099-0ae7672b6d38' title='Show/Hide data repr'><svg class='icon xr-icon-database'><use xlink:href='#icon-database'></use></svg></label><div class='xr-var-attrs'><dl class='xr-attrs'></dl></div><div class='xr-var-data'><pre>array([[612076.1 , 612126.1 , 612176.1 , ..., 626920.3 , 626970.3 ,\n",
       "        627020.3 ],\n",
       "       [612074.7 , 612124.7 , 612174.7 , ..., 626918.94, 626968.94,\n",
       "        627018.94],\n",
       "       [612073.3 , 612123.3 , 612173.3 , ..., 626917.5 , 626967.5 ,\n",
       "        627017.5 ],\n",
       "       ...,\n",
       "       [611766.2 , 611816.2 , 611866.1 , ..., 626610.44, 626660.44,\n",
       "        626710.44],\n",
       "       [611764.8 , 611814.8 , 611864.7 , ..., 626609.  , 626659.  ,\n",
       "        626709.  ],\n",
       "       [611763.44, 611813.44, 611863.3 , ..., 626607.6 , 626657.6 ,\n",
       "        626707.6 ]], dtype=float32)</pre></div></li><li class='xr-var-item'><div class='xr-var-name'><span>cdp_y</span></div><div class='xr-var-dims'>(iline, xline)</div><div class='xr-var-dtype'>float32</div><div class='xr-var-preview xr-preview'>6.074e+06 6.074e+06 ... 6.086e+06</div><input id='attrs-ba717ed4-a967-4977-b0f8-74d3ecad6a7f' class='xr-var-attrs-in' type='checkbox' disabled><label for='attrs-ba717ed4-a967-4977-b0f8-74d3ecad6a7f' title='Show/Hide attributes'><svg class='icon xr-icon-file-text2'><use xlink:href='#icon-file-text2'></use></svg></label><input id='data-defd6b63-3fe2-4633-a382-2b238a2b5b65' class='xr-var-data-in' type='checkbox'><label for='data-defd6b63-3fe2-4633-a382-2b238a2b5b65' title='Show/Hide data repr'><svg class='icon xr-icon-database'><use xlink:href='#icon-database'></use></svg></label><div class='xr-var-attrs'><dl class='xr-attrs'></dl></div><div class='xr-var-data'><pre>array([[6073981. , 6073982.5, 6073983.5, ..., 6074396. , 6074397.5,\n",
       "        6074398.5],\n",
       "       [6074031. , 6074032.5, 6074033.5, ..., 6074445.5, 6074447.5,\n",
       "        6074448.5],\n",
       "       [6074081. , 6074082.5, 6074083.5, ..., 6074495.5, 6074497.5,\n",
       "        6074498.5],\n",
       "       ...,\n",
       "       [6085076.5, 6085077.5, 6085079.5, ..., 6085491.5, 6085493. ,\n",
       "        6085494. ],\n",
       "       [6085126.5, 6085127.5, 6085129.5, ..., 6085541.5, 6085542.5,\n",
       "        6085544. ],\n",
       "       [6085176.5, 6085177.5, 6085179.5, ..., 6085591.5, 6085592.5,\n",
       "        6085594. ]], dtype=float32)</pre></div></li></ul></div></li><li class='xr-section-item'><input id='section-14ab765c-331f-4887-91cd-2e1b2cb6a6ac' class='xr-section-summary-in' type='checkbox'  checked><label for='section-14ab765c-331f-4887-91cd-2e1b2cb6a6ac' class='xr-section-summary' >Data variables: <span>(1)</span></label><div class='xr-section-inline-details'></div><div class='xr-section-details'><ul class='xr-var-list'><li class='xr-var-item'><div class='xr-var-name'><span>data</span></div><div class='xr-var-dims'>(iline, xline, twt)</div><div class='xr-var-dtype'>float32</div><div class='xr-var-preview xr-preview'>0.0 0.0 0.0 0.0 ... 127.0 62.0 5.0</div><input id='attrs-9d47846d-eb33-4423-84f5-be815e03f35f' class='xr-var-attrs-in' type='checkbox' disabled><label for='attrs-9d47846d-eb33-4423-84f5-be815e03f35f' title='Show/Hide attributes'><svg class='icon xr-icon-file-text2'><use xlink:href='#icon-file-text2'></use></svg></label><input id='data-65ff7f5d-ad45-431c-8710-39ed3df02c4d' class='xr-var-data-in' type='checkbox'><label for='data-65ff7f5d-ad45-431c-8710-39ed3df02c4d' title='Show/Hide data repr'><svg class='icon xr-icon-database'><use xlink:href='#icon-database'></use></svg></label><div class='xr-var-attrs'><dl class='xr-attrs'></dl></div><div class='xr-var-data'><pre>array([[[   0.,    0.,    0., ..., -123.,  -49.,   78.],\n",
       "        [   0.,    0.,    0., ..., -122.,  -78.,   39.],\n",
       "        [   0.,    0.,    0., ...,  -91.,  -82.,    1.],\n",
       "        ...,\n",
       "        [   0.,    0.,    0., ...,  -29.,  -71.,  -39.],\n",
       "        [   0.,    0.,    0., ...,   20.,   -1.,  -77.],\n",
       "        [   0.,    0.,    0., ...,   24.,   31.,  -50.]],\n",
       "\n",
       "       [[   0.,    0.,    0., ...,  -80.,  -82.,   16.],\n",
       "        [   0.,    0.,    0., ...,  -86.,  -92.,    5.],\n",
       "        [   0.,    0.,    0., ...,  -63.,  -92.,  -40.],\n",
       "        ...,\n",
       "        [   0.,    0.,    0., ...,  -39.,  -89.,  -36.],\n",
       "        [   0.,    0.,    0., ...,    2.,  -23.,  -82.],\n",
       "        [   0.,    0.,    0., ...,    5.,   32.,  -67.]],\n",
       "\n",
       "       [[   0.,    0.,    0., ...,  -65.,  -89.,  -41.],\n",
       "        [   0.,    0.,    0., ...,  -60.,  -89.,  -45.],\n",
       "        [   0.,    0.,    0., ...,  -21.,  -83.,  -82.],\n",
       "        ...,\n",
       "...\n",
       "        ...,\n",
       "        [   0.,    0.,    0., ...,  -33.,  -69.,  -63.],\n",
       "        [   0.,    0.,    0., ...,  -62.,    1.,   72.],\n",
       "        [   0.,    0.,    0., ...,   62.,  126.,  127.]],\n",
       "\n",
       "       [[   0.,    0.,    0., ...,   52.,  -13.,  -42.],\n",
       "        [   0.,    0.,    0., ...,   44.,  -19.,  -51.],\n",
       "        [   0.,    0.,    0., ...,   54.,    3.,  -43.],\n",
       "        ...,\n",
       "        [   0.,    0.,    0., ...,  -93.,  -75.,   21.],\n",
       "        [   0.,    0.,    0., ...,  -13.,   81.,  127.],\n",
       "        [   0.,    0.,    0., ...,  127.,  127.,   36.]],\n",
       "\n",
       "       [[   0.,    0.,    0., ...,   64.,   43.,  -33.],\n",
       "        [   0.,    0.,    0., ...,   57.,   38.,  -33.],\n",
       "        [   0.,    0.,    0., ...,   83.,   50.,  -37.],\n",
       "        ...,\n",
       "        [   0.,    0.,    0., ...,  -75.,    8.,  119.],\n",
       "        [   0.,    0.,    0., ...,   93.,  127.,  127.],\n",
       "        [   0.,    0.,    0., ...,  127.,   62.,    5.]]], dtype=float32)</pre></div></li></ul></div></li><li class='xr-section-item'><input id='section-797949f1-6353-4115-b0e6-c707f9537f52' class='xr-section-summary-in' type='checkbox'  ><label for='section-797949f1-6353-4115-b0e6-c707f9537f52' class='xr-section-summary' >Attributes: <span>(13)</span></label><div class='xr-section-inline-details'></div><div class='xr-section-details'><dl class='xr-attrs'><dt><span>ns :</span></dt><dd>None</dd><dt><span>sample_rate :</span></dt><dd>4.0</dd><dt><span>text :</span></dt><dd>C01   SEG-Y exported from OpendTect 6.6.5 at Mon 15 Nov 2021, 15:00:42\n",
       "C02   Survey:       F3_Demo_2016_training_v6\n",
       "C03   Data name:    Dip_Steered_copy\n",
       "C04  ----------------------------------------------------------------------\n",
       "C05   Corner 1:  X: 605835.52  Y: 6073556.38  IL: 100  XL: 300\n",
       "C06   Corner 2:  X: 629576.26  Y: 6074219.89  IL: 100  XL: 1250\n",
       "C07   Corner 3:  X: 629122.55  Y: 6090463.17  IL: 750  XL: 1250\n",
       "C08   Corner 4:  X: 605381.81  Y: 6089799.66  IL: 750  XL: 300\n",
       "C09   Bin size:  25.00 x 25.00 (m)\n",
       "C10   CRS: Not set\n",
       "C11  ----------------------------------------------------------------------\n",
       "C12   In-line:      110-559     inc: 1\n",
       "C13   Cross-line:   550-1148    inc: 1\n",
       "C14   Z (ms):       0-1848      inc: 4\n",
       "C15  ----------------------------------------------------------------------\n",
       "C16   In-line byte:          189-192\n",
       "C17   Cross-line byte:       193-196\n",
       "C18   X-Coord byte:          181-184\n",
       "C19   Y-Coord byte:          185-188\n",
       "C20  ----------------------------------------------------------------------\n",
       "C21\n",
       "C22\n",
       "C23\n",
       "C24\n",
       "C25\n",
       "C26\n",
       "C27\n",
       "C28\n",
       "C29\n",
       "C30\n",
       "C31\n",
       "C32\n",
       "C33\n",
       "C34\n",
       "C35\n",
       "C36\n",
       "C37\n",
       "C38\n",
       "C39   SEG-Y REV1\n",
       "C40   END TEXTUAL HEADER</dd><dt><span>measurement_system :</span></dt><dd>m</dd><dt><span>d3_domain :</span></dt><dd>None</dd><dt><span>epsg :</span></dt><dd>None</dd><dt><span>corner_points :</span></dt><dd>None</dd><dt><span>corner_points_xy :</span></dt><dd>None</dd><dt><span>source_file :</span></dt><dd>F3_8-bit_int.sgy</dd><dt><span>srd :</span></dt><dd>None</dd><dt><span>datatype :</span></dt><dd>None</dd><dt><span>percentiles :</span></dt><dd>[-126.99998259544373, -126.90236565077305, -47.36765034746312, -4.76797368163806e-07, 50.686881919672004, 126.31574040102961, 126.52533721923828]</dd><dt><span>coord_scalar :</span></dt><dd>-10.0</dd></dl></div></li></ul></div></div>"
      ],
      "text/plain": [
       "<xarray.Dataset>\n",
       "Dimensions:  (iline: 225, xline: 300, twt: 463)\n",
       "Coordinates:\n",
       "  * iline    (iline) uint16 110 112 114 116 118 120 ... 548 550 552 554 556 558\n",
       "  * xline    (xline) uint16 550 552 554 556 558 560 ... 1140 1142 1144 1146 1148\n",
       "  * twt      (twt) float64 0.0 4.0 8.0 12.0 ... 1.84e+03 1.844e+03 1.848e+03\n",
       "    cdp_x    (iline, xline) float32 6.121e+05 6.121e+05 ... 6.267e+05 6.267e+05\n",
       "    cdp_y    (iline, xline) float32 6.074e+06 6.074e+06 ... 6.086e+06 6.086e+06\n",
       "Data variables:\n",
       "    data     (iline, xline, twt) float32 0.0 0.0 0.0 0.0 ... 127.0 62.0 5.0\n",
       "Attributes: (12/13)\n",
       "    ns:                  None\n",
       "    sample_rate:         4.0\n",
       "    text:                C01   SEG-Y exported from OpendTect 6.6.5 at Mon 15 ...\n",
       "    measurement_system:  m\n",
       "    d3_domain:           None\n",
       "    epsg:                None\n",
       "    ...                  ...\n",
       "    corner_points_xy:    None\n",
       "    source_file:         F3_8-bit_int.sgy\n",
       "    srd:                 None\n",
       "    datatype:            None\n",
       "    percentiles:         [-126.99998259544373, -126.90236565077305, -47.36765...\n",
       "    coord_scalar:        -10.0"
      ]
     },
     "execution_count": 24,
     "metadata": {},
     "output_type": "execute_result"
    }
   ],
   "source": [
    "segy_loader(fname)"
   ]
  },
  {
   "cell_type": "markdown",
   "id": "36e63630",
   "metadata": {},
   "source": [
    "## DLIS files\n",
    "\n",
    "Equinor have written a library named `dlisio` that can handle dlis files:"
   ]
  },
  {
   "cell_type": "code",
   "execution_count": 27,
   "id": "cbeb109c",
   "metadata": {},
   "outputs": [
    {
     "name": "stdout",
     "output_type": "stream",
     "text": [
      "LogicalFile(MU-ESW1)\n"
     ]
    }
   ],
   "source": [
    "from dlisio import dlis\n",
    "\n",
    "fname = spot.fetch('FMI_Run3_processed.dlis')\n",
    "\n",
    "with dlis.load(fname) as (f, *tail):\n",
    "    for f \n",
    "        print(f)"
   ]
  },
  {
   "cell_type": "code",
   "execution_count": null,
   "id": "e3f5d16b",
   "metadata": {},
   "outputs": [],
   "source": [
    "# need to confirm how this one works"
   ]
  },
  {
   "cell_type": "markdown",
   "id": "e1f8ebed",
   "metadata": {},
   "source": [
    "## Other Assorted Formats\n",
    "\n",
    "The subsurface world is filled with all sorts of other formats. Agile Scientific has written a library named `gio` that can handle a variety of these, such as OpendTect horizons, Surfer 7 grids, and ZMaps. These are loaded as `xarray`s. The documentation has [more details](https://code.agilescientific.com/gio/index.html)."
   ]
  },
  {
   "cell_type": "code",
   "execution_count": null,
   "id": "677151a6",
   "metadata": {},
   "outputs": [],
   "source": [
    "import gio"
   ]
  },
  {
   "cell_type": "code",
   "execution_count": null,
   "id": "6ecc3f40",
   "metadata": {},
   "outputs": [],
   "source": [
    "data = gio.read_odt(fname)"
   ]
  }
 ],
 "metadata": {
  "kernelspec": {
   "display_name": "geocomp",
   "language": "python",
   "name": "geocomp"
  },
  "language_info": {
   "codemirror_mode": {
    "name": "ipython",
    "version": 3
   },
   "file_extension": ".py",
   "mimetype": "text/x-python",
   "name": "python",
   "nbconvert_exporter": "python",
   "pygments_lexer": "ipython3",
   "version": "3.9.7"
  }
 },
 "nbformat": 4,
 "nbformat_minor": 5
}
